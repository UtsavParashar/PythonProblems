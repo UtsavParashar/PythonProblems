{
 "cells": [
  {
   "cell_type": "code",
   "execution_count": 2,
   "id": "sustained-antigua",
   "metadata": {},
   "outputs": [],
   "source": [
    "%matplotlib inline\n",
    "import numpy as np\n",
    "import numpy.ma as ma\n",
    "import pandas as pd\n",
    "from pandas import DataFrame, Series\n",
    "import matplotlib.pyplot as plt\n",
    "import seaborn as sns\n",
    "import timeit\n",
    "import line_profiler\n",
    "\n",
    "import datetime\n",
    "\n",
    "from io import StringIO\n",
    "from pandas.api.types import CategoricalDtype\n",
    "\n",
    "import pandas._testing as tm"
   ]
  },
  {
   "cell_type": "markdown",
   "id": "enhanced-recognition",
   "metadata": {},
   "source": [
    "# 2.19 Time series / date functionality"
   ]
  },
  {
   "cell_type": "code",
   "execution_count": 5,
   "id": "express-binding",
   "metadata": {},
   "outputs": [
    {
     "data": {
      "text/plain": [
       "Timestamp('2018-01-01 00:00:00')"
      ]
     },
     "execution_count": 5,
     "metadata": {},
     "output_type": "execute_result"
    }
   ],
   "source": [
    "dti = pd.to_datetime(\n",
    "    ['1.1.2018', np.datetime64('2018-01-01'), datetime.datetime(2018,1,1)]\n",
    ")\n",
    "dti[1]"
   ]
  },
  {
   "cell_type": "code",
   "execution_count": 18,
   "id": "owned-foster",
   "metadata": {},
   "outputs": [
    {
     "data": {
      "text/plain": [
       "DatetimeIndex(['2018-01-01 00:00:00', '2018-01-01 04:00:00',\n",
       "               '2018-01-01 08:00:00'],\n",
       "              dtype='datetime64[ns]', freq='4H')"
      ]
     },
     "execution_count": 18,
     "metadata": {},
     "output_type": "execute_result"
    }
   ],
   "source": [
    "dti = pd.date_range('2018-01-01', periods=3, freq='4H')\n",
    "dti"
   ]
  },
  {
   "cell_type": "code",
   "execution_count": 19,
   "id": "advanced-rabbit",
   "metadata": {},
   "outputs": [
    {
     "data": {
      "text/plain": [
       "DatetimeIndex(['2018-01-01 00:00:00+01:00', '2018-01-01 04:00:00+01:00',\n",
       "               '2018-01-01 08:00:00+01:00'],\n",
       "              dtype='datetime64[ns, Europe/Berlin]', freq=None)"
      ]
     },
     "execution_count": 19,
     "metadata": {},
     "output_type": "execute_result"
    }
   ],
   "source": [
    "dti = dti.tz_localize('Europe/Berlin')\n"
   ]
  },
  {
   "cell_type": "code",
   "execution_count": 20,
   "id": "particular-message",
   "metadata": {},
   "outputs": [
    {
     "data": {
      "text/plain": [
       "DatetimeIndex(['2017-12-31 17:00:00-06:00', '2017-12-31 21:00:00-06:00',\n",
       "               '2018-01-01 01:00:00-06:00'],\n",
       "              dtype='datetime64[ns, US/Central]', freq=None)"
      ]
     },
     "execution_count": 20,
     "metadata": {},
     "output_type": "execute_result"
    }
   ],
   "source": [
    "dti.tz_convert('US/Central')"
   ]
  },
  {
   "cell_type": "code",
   "execution_count": 31,
   "id": "educational-madagascar",
   "metadata": {},
   "outputs": [
    {
     "name": "stdout",
     "output_type": "stream",
     "text": [
      "2018-01-01 00:00:00    0\n",
      "2018-01-01 01:00:00    1\n",
      "2018-01-01 02:00:00    2\n",
      "2018-01-01 03:00:00    3\n",
      "2018-01-01 04:00:00    4\n",
      "Freq: H, dtype: int64\n",
      "2018-01-01 00:00:00    0.5\n",
      "2018-01-01 02:00:00    2.5\n",
      "2018-01-01 04:00:00    4.0\n",
      "Freq: 2H, dtype: float64\n"
     ]
    },
    {
     "data": {
      "text/plain": [
       "2018-01-01 00:00:00    0.5\n",
       "2018-01-01 02:00:00    2.5\n",
       "2018-01-01 04:00:00    4.0\n",
       "Freq: 2H, dtype: float64"
      ]
     },
     "execution_count": 31,
     "metadata": {},
     "output_type": "execute_result"
    }
   ],
   "source": [
    "idx = pd.date_range(\"2018-01-01\", periods=5, freq=\"H\")\n",
    "ts = pd.Series(range(len(idx)), index=idx)\n",
    "print(ts)\n",
    "ts.resample(\"2H\").count()\n",
    "print(ts.resample(\"2H\").mean())\n",
    "ts.resample(\"2H\").median()"
   ]
  },
  {
   "cell_type": "code",
   "execution_count": 43,
   "id": "polished-consumption",
   "metadata": {},
   "outputs": [
    {
     "data": {
      "text/plain": [
       "'Monday'"
      ]
     },
     "execution_count": 43,
     "metadata": {},
     "output_type": "execute_result"
    }
   ],
   "source": [
    "friday = pd.Timestamp(\"2018-01-05\")\n",
    "friday.day_name()\n",
    "saturday = friday + pd.Timedelta(\"1 day\")\n",
    "saturday.day_name() # 'Saturday'\n",
    "\n",
    "# Add 1 business day (Friday --> Monday)\n",
    "monday = friday + pd.offsets.BDay()\n",
    "monday.day_name()"
   ]
  },
  {
   "cell_type": "code",
   "execution_count": 44,
   "id": "legendary-crack",
   "metadata": {},
   "outputs": [
    {
     "data": {
      "text/plain": [
       "2020-01-01    0\n",
       "2020-01-02    1\n",
       "2020-01-03    2\n",
       "Freq: D, dtype: int64"
      ]
     },
     "execution_count": 44,
     "metadata": {},
     "output_type": "execute_result"
    }
   ],
   "source": [
    "pd.Series(range(3), index=pd.date_range('2020', freq='D', periods=3))\n"
   ]
  },
  {
   "cell_type": "code",
   "execution_count": 45,
   "id": "practical-window",
   "metadata": {},
   "outputs": [],
   "source": [
    "df = pd.DataFrame({\"type A\":[15], \"type B\": [20], \"date\": [\"2012-03-01\"], \"station\": [\"s1\"]})"
   ]
  },
  {
   "cell_type": "code",
   "execution_count": 46,
   "id": "organized-payday",
   "metadata": {},
   "outputs": [
    {
     "data": {
      "text/html": [
       "<div>\n",
       "<style scoped>\n",
       "    .dataframe tbody tr th:only-of-type {\n",
       "        vertical-align: middle;\n",
       "    }\n",
       "\n",
       "    .dataframe tbody tr th {\n",
       "        vertical-align: top;\n",
       "    }\n",
       "\n",
       "    .dataframe thead th {\n",
       "        text-align: right;\n",
       "    }\n",
       "</style>\n",
       "<table border=\"1\" class=\"dataframe\">\n",
       "  <thead>\n",
       "    <tr style=\"text-align: right;\">\n",
       "      <th></th>\n",
       "      <th>type A</th>\n",
       "      <th>type B</th>\n",
       "      <th>date</th>\n",
       "      <th>station</th>\n",
       "    </tr>\n",
       "  </thead>\n",
       "  <tbody>\n",
       "    <tr>\n",
       "      <th>0</th>\n",
       "      <td>15</td>\n",
       "      <td>20</td>\n",
       "      <td>2012-03-01</td>\n",
       "      <td>s1</td>\n",
       "    </tr>\n",
       "  </tbody>\n",
       "</table>\n",
       "</div>"
      ],
      "text/plain": [
       "   type A  type B        date station\n",
       "0      15      20  2012-03-01      s1"
      ]
     },
     "execution_count": 46,
     "metadata": {},
     "output_type": "execute_result"
    }
   ],
   "source": [
    "df"
   ]
  },
  {
   "cell_type": "code",
   "execution_count": 9,
   "id": "provincial-agreement",
   "metadata": {},
   "outputs": [
    {
     "data": {
      "text/plain": [
       "'Saturday'"
      ]
     },
     "execution_count": 9,
     "metadata": {},
     "output_type": "execute_result"
    }
   ],
   "source": [
    "friday = pd.Timestamp(\"2018-01-05\")\n",
    "friday.day_name()\n",
    "friday + pd.Timedelta('1 Day')\n",
    "(friday + pd.offsets.Day()).day_name()"
   ]
  },
  {
   "cell_type": "code",
   "execution_count": 16,
   "id": "wrong-adams",
   "metadata": {},
   "outputs": [],
   "source": [
    "s = pd.Series(pd.date_range('2020', periods=3))\n",
    "df = s.to_frame()"
   ]
  },
  {
   "cell_type": "code",
   "execution_count": 52,
   "id": "following-loading",
   "metadata": {},
   "outputs": [
    {
     "data": {
      "text/html": [
       "<div>\n",
       "<style scoped>\n",
       "    .dataframe tbody tr th:only-of-type {\n",
       "        vertical-align: middle;\n",
       "    }\n",
       "\n",
       "    .dataframe tbody tr th {\n",
       "        vertical-align: top;\n",
       "    }\n",
       "\n",
       "    .dataframe thead th {\n",
       "        text-align: right;\n",
       "    }\n",
       "</style>\n",
       "<table border=\"1\" class=\"dataframe\">\n",
       "  <thead>\n",
       "    <tr style=\"text-align: right;\">\n",
       "      <th></th>\n",
       "      <th>dates</th>\n",
       "      <th>day</th>\n",
       "      <th>weekday</th>\n",
       "    </tr>\n",
       "  </thead>\n",
       "  <tbody>\n",
       "    <tr>\n",
       "      <th>0</th>\n",
       "      <td>2021-01-13</td>\n",
       "      <td>Wednesday</td>\n",
       "      <td>2</td>\n",
       "    </tr>\n",
       "    <tr>\n",
       "      <th>1</th>\n",
       "      <td>2021-01-14</td>\n",
       "      <td>Thursday</td>\n",
       "      <td>3</td>\n",
       "    </tr>\n",
       "    <tr>\n",
       "      <th>2</th>\n",
       "      <td>2021-01-15</td>\n",
       "      <td>Friday</td>\n",
       "      <td>4</td>\n",
       "    </tr>\n",
       "    <tr>\n",
       "      <th>3</th>\n",
       "      <td>2021-01-16</td>\n",
       "      <td>Saturday</td>\n",
       "      <td>5</td>\n",
       "    </tr>\n",
       "    <tr>\n",
       "      <th>4</th>\n",
       "      <td>2021-01-17</td>\n",
       "      <td>Sunday</td>\n",
       "      <td>6</td>\n",
       "    </tr>\n",
       "    <tr>\n",
       "      <th>5</th>\n",
       "      <td>2021-01-18</td>\n",
       "      <td>Monday</td>\n",
       "      <td>0</td>\n",
       "    </tr>\n",
       "  </tbody>\n",
       "</table>\n",
       "</div>"
      ],
      "text/plain": [
       "       dates        day  weekday\n",
       "0 2021-01-13  Wednesday        2\n",
       "1 2021-01-14   Thursday        3\n",
       "2 2021-01-15     Friday        4\n",
       "3 2021-01-16   Saturday        5\n",
       "4 2021-01-17     Sunday        6\n",
       "5 2021-01-18     Monday        0"
      ]
     },
     "execution_count": 52,
     "metadata": {},
     "output_type": "execute_result"
    }
   ],
   "source": [
    "df = pd.Series(pd.date_range('1/13/2021', periods=6)).to_frame()\n",
    "df.columns=[\"dates\"]\n",
    "df['day'] = df.dates.dt.day_name()\n",
    "df['weekday'] = df.dates.dt.weekday\n",
    "df"
   ]
  },
  {
   "cell_type": "code",
   "execution_count": 61,
   "id": "resident-purple",
   "metadata": {},
   "outputs": [
    {
     "name": "stdout",
     "output_type": "stream",
     "text": [
      "0   2021-01-06\n",
      "1   2021-01-13\n",
      "2   2021-01-13\n",
      "3   2021-01-13\n",
      "4   2021-01-13\n",
      "5   2021-01-13\n",
      "Name: dates, dtype: datetime64[ns]\n"
     ]
    },
    {
     "data": {
      "text/html": [
       "<div>\n",
       "<style scoped>\n",
       "    .dataframe tbody tr th:only-of-type {\n",
       "        vertical-align: middle;\n",
       "    }\n",
       "\n",
       "    .dataframe tbody tr th {\n",
       "        vertical-align: top;\n",
       "    }\n",
       "\n",
       "    .dataframe thead th {\n",
       "        text-align: right;\n",
       "    }\n",
       "</style>\n",
       "<table border=\"1\" class=\"dataframe\">\n",
       "  <thead>\n",
       "    <tr style=\"text-align: right;\">\n",
       "      <th></th>\n",
       "      <th>dates</th>\n",
       "      <th>day</th>\n",
       "      <th>weekday</th>\n",
       "      <th>pday</th>\n",
       "    </tr>\n",
       "  </thead>\n",
       "  <tbody>\n",
       "    <tr>\n",
       "      <th>0</th>\n",
       "      <td>2021-01-13</td>\n",
       "      <td>Wednesday</td>\n",
       "      <td>2</td>\n",
       "      <td>2021-01-06</td>\n",
       "    </tr>\n",
       "    <tr>\n",
       "      <th>1</th>\n",
       "      <td>2021-01-14</td>\n",
       "      <td>Thursday</td>\n",
       "      <td>3</td>\n",
       "      <td>2021-01-13</td>\n",
       "    </tr>\n",
       "    <tr>\n",
       "      <th>2</th>\n",
       "      <td>2021-01-15</td>\n",
       "      <td>Friday</td>\n",
       "      <td>4</td>\n",
       "      <td>2021-01-06</td>\n",
       "    </tr>\n",
       "    <tr>\n",
       "      <th>3</th>\n",
       "      <td>2021-01-16</td>\n",
       "      <td>Saturday</td>\n",
       "      <td>5</td>\n",
       "      <td>2021-01-13</td>\n",
       "    </tr>\n",
       "    <tr>\n",
       "      <th>4</th>\n",
       "      <td>2021-01-17</td>\n",
       "      <td>Sunday</td>\n",
       "      <td>6</td>\n",
       "      <td>2021-01-13</td>\n",
       "    </tr>\n",
       "    <tr>\n",
       "      <th>5</th>\n",
       "      <td>2021-01-18</td>\n",
       "      <td>Monday</td>\n",
       "      <td>0</td>\n",
       "      <td>2021-01-13</td>\n",
       "    </tr>\n",
       "  </tbody>\n",
       "</table>\n",
       "</div>"
      ],
      "text/plain": [
       "       dates        day  weekday       pday\n",
       "0 2021-01-13  Wednesday        2 2021-01-06\n",
       "1 2021-01-14   Thursday        3 2021-01-13\n",
       "2 2021-01-15     Friday        4 2021-01-06\n",
       "3 2021-01-16   Saturday        5 2021-01-13\n",
       "4 2021-01-17     Sunday        6 2021-01-13\n",
       "5 2021-01-18     Monday        0 2021-01-13"
      ]
     },
     "execution_count": 61,
     "metadata": {},
     "output_type": "execute_result"
    }
   ],
   "source": [
    "from pandas.tseries.offsets import Week\n",
    "\n",
    "print(df['dates'] - Week(1, weekday=2))\n",
    "df['dates'] - pd.offsets.Week(1, weekday=2)\n",
    "\n",
    "df['pday'] = np.where(df.dates.eq('2021-01-15'),\n",
    "         df.dates - pd.offsets.Week(2, weekday=2),\n",
    "        df.dates - pd.offsets.Week(weekday=2))\n",
    "df"
   ]
  },
  {
   "cell_type": "code",
   "execution_count": 65,
   "id": "brazilian-collector",
   "metadata": {},
   "outputs": [
    {
     "data": {
      "text/html": [
       "<div>\n",
       "<style scoped>\n",
       "    .dataframe tbody tr th:only-of-type {\n",
       "        vertical-align: middle;\n",
       "    }\n",
       "\n",
       "    .dataframe tbody tr th {\n",
       "        vertical-align: top;\n",
       "    }\n",
       "\n",
       "    .dataframe thead th {\n",
       "        text-align: right;\n",
       "    }\n",
       "</style>\n",
       "<table border=\"1\" class=\"dataframe\">\n",
       "  <thead>\n",
       "    <tr style=\"text-align: right;\">\n",
       "      <th></th>\n",
       "      <th>Date</th>\n",
       "      <th>ID</th>\n",
       "      <th>Wed</th>\n",
       "    </tr>\n",
       "  </thead>\n",
       "  <tbody>\n",
       "    <tr>\n",
       "      <th>0</th>\n",
       "      <td>2020-01-01</td>\n",
       "      <td>1001</td>\n",
       "      <td>2019-12-25</td>\n",
       "    </tr>\n",
       "    <tr>\n",
       "      <th>1</th>\n",
       "      <td>2020-01-23</td>\n",
       "      <td>1002</td>\n",
       "      <td>2020-01-08</td>\n",
       "    </tr>\n",
       "    <tr>\n",
       "      <th>2</th>\n",
       "      <td>2020-02-22</td>\n",
       "      <td>1002</td>\n",
       "      <td>2020-02-05</td>\n",
       "    </tr>\n",
       "    <tr>\n",
       "      <th>3</th>\n",
       "      <td>2020-03-04</td>\n",
       "      <td>1003</td>\n",
       "      <td>2020-02-26</td>\n",
       "    </tr>\n",
       "  </tbody>\n",
       "</table>\n",
       "</div>"
      ],
      "text/plain": [
       "        Date    ID        Wed\n",
       "0 2020-01-01  1001 2019-12-25\n",
       "1 2020-01-23  1002 2020-01-08\n",
       "2 2020-02-22  1002 2020-02-05\n",
       "3 2020-03-04  1003 2020-02-26"
      ]
     },
     "execution_count": 65,
     "metadata": {},
     "output_type": "execute_result"
    }
   ],
   "source": [
    "df=pd.DataFrame({'Date':['2020-01-01', '2020-01-23', '2020-02-22', '2020-03-04'],  'ID':[1001,1002,1002,1003]})\n",
    "df[\"Date\"] = pd.to_datetime(df[\"Date\"])\n",
    "df['Wed'] = np.where(df.ID == 1002,\n",
    "         df.Date - pd.offsets.Week(3, weekday=2),\n",
    "         df.Date - pd.offsets.Week(weekday=2))\n",
    "df"
   ]
  },
  {
   "cell_type": "code",
   "execution_count": null,
   "id": "waiting-administrator",
   "metadata": {},
   "outputs": [],
   "source": []
  }
 ],
 "metadata": {
  "kernelspec": {
   "display_name": "Python (myenv)",
   "language": "python",
   "name": "myenv"
  },
  "language_info": {
   "codemirror_mode": {
    "name": "ipython",
    "version": 3
   },
   "file_extension": ".py",
   "mimetype": "text/x-python",
   "name": "python",
   "nbconvert_exporter": "python",
   "pygments_lexer": "ipython3",
   "version": "3.9.1"
  }
 },
 "nbformat": 4,
 "nbformat_minor": 5
}
