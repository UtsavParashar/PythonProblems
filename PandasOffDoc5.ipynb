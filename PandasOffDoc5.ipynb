{
 "cells": [
  {
   "cell_type": "code",
   "execution_count": 1,
   "id": "sustained-antigua",
   "metadata": {},
   "outputs": [],
   "source": [
    "%matplotlib inline\n",
    "import numpy as np\n",
    "import numpy.ma as ma\n",
    "import pandas as pd\n",
    "from pandas import DataFrame, Series\n",
    "import matplotlib.pyplot as plt\n",
    "import seaborn as sns\n",
    "import timeit\n",
    "import line_profiler\n",
    "\n",
    "import datetime\n",
    "\n",
    "from io import StringIO\n",
    "from pandas.api.types import CategoricalDtype\n",
    "\n",
    "import pandas._testing as tm"
   ]
  },
  {
   "cell_type": "markdown",
   "id": "enhanced-recognition",
   "metadata": {},
   "source": [
    "# 2.19 Time series / date functionality"
   ]
  },
  {
   "cell_type": "code",
   "execution_count": 5,
   "id": "express-binding",
   "metadata": {},
   "outputs": [
    {
     "data": {
      "text/plain": [
       "Timestamp('2018-01-01 00:00:00')"
      ]
     },
     "execution_count": 5,
     "metadata": {},
     "output_type": "execute_result"
    }
   ],
   "source": [
    "dti = pd.to_datetime(\n",
    "    ['1.1.2018', np.datetime64('2018-01-01'), datetime.datetime(2018,1,1)]\n",
    ")\n",
    "dti[1]"
   ]
  },
  {
   "cell_type": "code",
   "execution_count": 18,
   "id": "owned-foster",
   "metadata": {},
   "outputs": [
    {
     "data": {
      "text/plain": [
       "DatetimeIndex(['2018-01-01 00:00:00', '2018-01-01 04:00:00',\n",
       "               '2018-01-01 08:00:00'],\n",
       "              dtype='datetime64[ns]', freq='4H')"
      ]
     },
     "execution_count": 18,
     "metadata": {},
     "output_type": "execute_result"
    }
   ],
   "source": [
    "dti = pd.date_range('2018-01-01', periods=3, freq='4H')\n",
    "dti"
   ]
  },
  {
   "cell_type": "code",
   "execution_count": 19,
   "id": "advanced-rabbit",
   "metadata": {},
   "outputs": [
    {
     "data": {
      "text/plain": [
       "DatetimeIndex(['2018-01-01 00:00:00+01:00', '2018-01-01 04:00:00+01:00',\n",
       "               '2018-01-01 08:00:00+01:00'],\n",
       "              dtype='datetime64[ns, Europe/Berlin]', freq=None)"
      ]
     },
     "execution_count": 19,
     "metadata": {},
     "output_type": "execute_result"
    }
   ],
   "source": [
    "dti = dti.tz_localize('Europe/Berlin')\n"
   ]
  },
  {
   "cell_type": "code",
   "execution_count": 20,
   "id": "particular-message",
   "metadata": {},
   "outputs": [
    {
     "data": {
      "text/plain": [
       "DatetimeIndex(['2017-12-31 17:00:00-06:00', '2017-12-31 21:00:00-06:00',\n",
       "               '2018-01-01 01:00:00-06:00'],\n",
       "              dtype='datetime64[ns, US/Central]', freq=None)"
      ]
     },
     "execution_count": 20,
     "metadata": {},
     "output_type": "execute_result"
    }
   ],
   "source": [
    "dti.tz_convert('US/Central')"
   ]
  },
  {
   "cell_type": "code",
   "execution_count": 31,
   "id": "educational-madagascar",
   "metadata": {},
   "outputs": [
    {
     "name": "stdout",
     "output_type": "stream",
     "text": [
      "2018-01-01 00:00:00    0\n",
      "2018-01-01 01:00:00    1\n",
      "2018-01-01 02:00:00    2\n",
      "2018-01-01 03:00:00    3\n",
      "2018-01-01 04:00:00    4\n",
      "Freq: H, dtype: int64\n",
      "2018-01-01 00:00:00    0.5\n",
      "2018-01-01 02:00:00    2.5\n",
      "2018-01-01 04:00:00    4.0\n",
      "Freq: 2H, dtype: float64\n"
     ]
    },
    {
     "data": {
      "text/plain": [
       "2018-01-01 00:00:00    0.5\n",
       "2018-01-01 02:00:00    2.5\n",
       "2018-01-01 04:00:00    4.0\n",
       "Freq: 2H, dtype: float64"
      ]
     },
     "execution_count": 31,
     "metadata": {},
     "output_type": "execute_result"
    }
   ],
   "source": [
    "idx = pd.date_range(\"2018-01-01\", periods=5, freq=\"H\")\n",
    "ts = pd.Series(range(len(idx)), index=idx)\n",
    "print(ts)\n",
    "ts.resample(\"2H\").count()\n",
    "print(ts.resample(\"2H\").mean())\n",
    "ts.resample(\"2H\").median()"
   ]
  },
  {
   "cell_type": "code",
   "execution_count": 43,
   "id": "polished-consumption",
   "metadata": {},
   "outputs": [
    {
     "data": {
      "text/plain": [
       "'Monday'"
      ]
     },
     "execution_count": 43,
     "metadata": {},
     "output_type": "execute_result"
    }
   ],
   "source": [
    "friday = pd.Timestamp(\"2018-01-05\")\n",
    "friday.day_name()\n",
    "saturday = friday + pd.Timedelta(\"1 day\")\n",
    "saturday.day_name() # 'Saturday'\n",
    "\n",
    "# Add 1 business day (Friday --> Monday)\n",
    "monday = friday + pd.offsets.BDay()\n",
    "monday.day_name()"
   ]
  },
  {
   "cell_type": "code",
   "execution_count": 44,
   "id": "legendary-crack",
   "metadata": {},
   "outputs": [
    {
     "data": {
      "text/plain": [
       "2020-01-01    0\n",
       "2020-01-02    1\n",
       "2020-01-03    2\n",
       "Freq: D, dtype: int64"
      ]
     },
     "execution_count": 44,
     "metadata": {},
     "output_type": "execute_result"
    }
   ],
   "source": [
    "pd.Series(range(3), index=pd.date_range('2020', freq='D', periods=3))\n"
   ]
  },
  {
   "cell_type": "code",
   "execution_count": 45,
   "id": "practical-window",
   "metadata": {},
   "outputs": [],
   "source": [
    "df = pd.DataFrame({\"type A\":[15], \"type B\": [20], \"date\": [\"2012-03-01\"], \"station\": [\"s1\"]})"
   ]
  },
  {
   "cell_type": "code",
   "execution_count": 46,
   "id": "organized-payday",
   "metadata": {},
   "outputs": [
    {
     "data": {
      "text/html": [
       "<div>\n",
       "<style scoped>\n",
       "    .dataframe tbody tr th:only-of-type {\n",
       "        vertical-align: middle;\n",
       "    }\n",
       "\n",
       "    .dataframe tbody tr th {\n",
       "        vertical-align: top;\n",
       "    }\n",
       "\n",
       "    .dataframe thead th {\n",
       "        text-align: right;\n",
       "    }\n",
       "</style>\n",
       "<table border=\"1\" class=\"dataframe\">\n",
       "  <thead>\n",
       "    <tr style=\"text-align: right;\">\n",
       "      <th></th>\n",
       "      <th>type A</th>\n",
       "      <th>type B</th>\n",
       "      <th>date</th>\n",
       "      <th>station</th>\n",
       "    </tr>\n",
       "  </thead>\n",
       "  <tbody>\n",
       "    <tr>\n",
       "      <th>0</th>\n",
       "      <td>15</td>\n",
       "      <td>20</td>\n",
       "      <td>2012-03-01</td>\n",
       "      <td>s1</td>\n",
       "    </tr>\n",
       "  </tbody>\n",
       "</table>\n",
       "</div>"
      ],
      "text/plain": [
       "   type A  type B        date station\n",
       "0      15      20  2012-03-01      s1"
      ]
     },
     "execution_count": 46,
     "metadata": {},
     "output_type": "execute_result"
    }
   ],
   "source": [
    "df"
   ]
  },
  {
   "cell_type": "code",
   "execution_count": 9,
   "id": "provincial-agreement",
   "metadata": {},
   "outputs": [
    {
     "data": {
      "text/plain": [
       "'Saturday'"
      ]
     },
     "execution_count": 9,
     "metadata": {},
     "output_type": "execute_result"
    }
   ],
   "source": [
    "friday = pd.Timestamp(\"2018-01-05\")\n",
    "friday.day_name()\n",
    "friday + pd.Timedelta('1 Day')\n",
    "(friday + pd.offsets.Day()).day_name()"
   ]
  },
  {
   "cell_type": "code",
   "execution_count": 16,
   "id": "looking-frederick",
   "metadata": {},
   "outputs": [],
   "source": [
    "s = pd.Series(pd.date_range('2020', periods=3))\n",
    "df = s.to_frame()"
   ]
  },
  {
   "cell_type": "code",
   "execution_count": 52,
   "id": "following-harvest",
   "metadata": {},
   "outputs": [
    {
     "data": {
      "text/html": [
       "<div>\n",
       "<style scoped>\n",
       "    .dataframe tbody tr th:only-of-type {\n",
       "        vertical-align: middle;\n",
       "    }\n",
       "\n",
       "    .dataframe tbody tr th {\n",
       "        vertical-align: top;\n",
       "    }\n",
       "\n",
       "    .dataframe thead th {\n",
       "        text-align: right;\n",
       "    }\n",
       "</style>\n",
       "<table border=\"1\" class=\"dataframe\">\n",
       "  <thead>\n",
       "    <tr style=\"text-align: right;\">\n",
       "      <th></th>\n",
       "      <th>dates</th>\n",
       "      <th>day</th>\n",
       "      <th>weekday</th>\n",
       "    </tr>\n",
       "  </thead>\n",
       "  <tbody>\n",
       "    <tr>\n",
       "      <th>0</th>\n",
       "      <td>2021-01-13</td>\n",
       "      <td>Wednesday</td>\n",
       "      <td>2</td>\n",
       "    </tr>\n",
       "    <tr>\n",
       "      <th>1</th>\n",
       "      <td>2021-01-14</td>\n",
       "      <td>Thursday</td>\n",
       "      <td>3</td>\n",
       "    </tr>\n",
       "    <tr>\n",
       "      <th>2</th>\n",
       "      <td>2021-01-15</td>\n",
       "      <td>Friday</td>\n",
       "      <td>4</td>\n",
       "    </tr>\n",
       "    <tr>\n",
       "      <th>3</th>\n",
       "      <td>2021-01-16</td>\n",
       "      <td>Saturday</td>\n",
       "      <td>5</td>\n",
       "    </tr>\n",
       "    <tr>\n",
       "      <th>4</th>\n",
       "      <td>2021-01-17</td>\n",
       "      <td>Sunday</td>\n",
       "      <td>6</td>\n",
       "    </tr>\n",
       "    <tr>\n",
       "      <th>5</th>\n",
       "      <td>2021-01-18</td>\n",
       "      <td>Monday</td>\n",
       "      <td>0</td>\n",
       "    </tr>\n",
       "  </tbody>\n",
       "</table>\n",
       "</div>"
      ],
      "text/plain": [
       "       dates        day  weekday\n",
       "0 2021-01-13  Wednesday        2\n",
       "1 2021-01-14   Thursday        3\n",
       "2 2021-01-15     Friday        4\n",
       "3 2021-01-16   Saturday        5\n",
       "4 2021-01-17     Sunday        6\n",
       "5 2021-01-18     Monday        0"
      ]
     },
     "execution_count": 52,
     "metadata": {},
     "output_type": "execute_result"
    }
   ],
   "source": [
    "df = pd.Series(pd.date_range('1/13/2021', periods=6)).to_frame()\n",
    "df.columns=[\"dates\"]\n",
    "df['day'] = df.dates.dt.day_name()\n",
    "df['weekday'] = df.dates.dt.weekday\n",
    "df"
   ]
  },
  {
   "cell_type": "code",
   "execution_count": 61,
   "id": "unexpected-delaware",
   "metadata": {},
   "outputs": [
    {
     "name": "stdout",
     "output_type": "stream",
     "text": [
      "0   2021-01-06\n",
      "1   2021-01-13\n",
      "2   2021-01-13\n",
      "3   2021-01-13\n",
      "4   2021-01-13\n",
      "5   2021-01-13\n",
      "Name: dates, dtype: datetime64[ns]\n"
     ]
    },
    {
     "data": {
      "text/html": [
       "<div>\n",
       "<style scoped>\n",
       "    .dataframe tbody tr th:only-of-type {\n",
       "        vertical-align: middle;\n",
       "    }\n",
       "\n",
       "    .dataframe tbody tr th {\n",
       "        vertical-align: top;\n",
       "    }\n",
       "\n",
       "    .dataframe thead th {\n",
       "        text-align: right;\n",
       "    }\n",
       "</style>\n",
       "<table border=\"1\" class=\"dataframe\">\n",
       "  <thead>\n",
       "    <tr style=\"text-align: right;\">\n",
       "      <th></th>\n",
       "      <th>dates</th>\n",
       "      <th>day</th>\n",
       "      <th>weekday</th>\n",
       "      <th>pday</th>\n",
       "    </tr>\n",
       "  </thead>\n",
       "  <tbody>\n",
       "    <tr>\n",
       "      <th>0</th>\n",
       "      <td>2021-01-13</td>\n",
       "      <td>Wednesday</td>\n",
       "      <td>2</td>\n",
       "      <td>2021-01-06</td>\n",
       "    </tr>\n",
       "    <tr>\n",
       "      <th>1</th>\n",
       "      <td>2021-01-14</td>\n",
       "      <td>Thursday</td>\n",
       "      <td>3</td>\n",
       "      <td>2021-01-13</td>\n",
       "    </tr>\n",
       "    <tr>\n",
       "      <th>2</th>\n",
       "      <td>2021-01-15</td>\n",
       "      <td>Friday</td>\n",
       "      <td>4</td>\n",
       "      <td>2021-01-06</td>\n",
       "    </tr>\n",
       "    <tr>\n",
       "      <th>3</th>\n",
       "      <td>2021-01-16</td>\n",
       "      <td>Saturday</td>\n",
       "      <td>5</td>\n",
       "      <td>2021-01-13</td>\n",
       "    </tr>\n",
       "    <tr>\n",
       "      <th>4</th>\n",
       "      <td>2021-01-17</td>\n",
       "      <td>Sunday</td>\n",
       "      <td>6</td>\n",
       "      <td>2021-01-13</td>\n",
       "    </tr>\n",
       "    <tr>\n",
       "      <th>5</th>\n",
       "      <td>2021-01-18</td>\n",
       "      <td>Monday</td>\n",
       "      <td>0</td>\n",
       "      <td>2021-01-13</td>\n",
       "    </tr>\n",
       "  </tbody>\n",
       "</table>\n",
       "</div>"
      ],
      "text/plain": [
       "       dates        day  weekday       pday\n",
       "0 2021-01-13  Wednesday        2 2021-01-06\n",
       "1 2021-01-14   Thursday        3 2021-01-13\n",
       "2 2021-01-15     Friday        4 2021-01-06\n",
       "3 2021-01-16   Saturday        5 2021-01-13\n",
       "4 2021-01-17     Sunday        6 2021-01-13\n",
       "5 2021-01-18     Monday        0 2021-01-13"
      ]
     },
     "execution_count": 61,
     "metadata": {},
     "output_type": "execute_result"
    }
   ],
   "source": [
    "from pandas.tseries.offsets import Week\n",
    "\n",
    "print(df['dates'] - Week(1, weekday=2))\n",
    "df['dates'] - pd.offsets.Week(1, weekday=2)\n",
    "\n",
    "df['pday'] = np.where(df.dates.eq('2021-01-15'),\n",
    "         df.dates - pd.offsets.Week(2, weekday=2),\n",
    "        df.dates - pd.offsets.Week(weekday=2))\n",
    "df"
   ]
  },
  {
   "cell_type": "code",
   "execution_count": 65,
   "id": "upset-probe",
   "metadata": {},
   "outputs": [
    {
     "data": {
      "text/html": [
       "<div>\n",
       "<style scoped>\n",
       "    .dataframe tbody tr th:only-of-type {\n",
       "        vertical-align: middle;\n",
       "    }\n",
       "\n",
       "    .dataframe tbody tr th {\n",
       "        vertical-align: top;\n",
       "    }\n",
       "\n",
       "    .dataframe thead th {\n",
       "        text-align: right;\n",
       "    }\n",
       "</style>\n",
       "<table border=\"1\" class=\"dataframe\">\n",
       "  <thead>\n",
       "    <tr style=\"text-align: right;\">\n",
       "      <th></th>\n",
       "      <th>Date</th>\n",
       "      <th>ID</th>\n",
       "      <th>Wed</th>\n",
       "    </tr>\n",
       "  </thead>\n",
       "  <tbody>\n",
       "    <tr>\n",
       "      <th>0</th>\n",
       "      <td>2020-01-01</td>\n",
       "      <td>1001</td>\n",
       "      <td>2019-12-25</td>\n",
       "    </tr>\n",
       "    <tr>\n",
       "      <th>1</th>\n",
       "      <td>2020-01-23</td>\n",
       "      <td>1002</td>\n",
       "      <td>2020-01-08</td>\n",
       "    </tr>\n",
       "    <tr>\n",
       "      <th>2</th>\n",
       "      <td>2020-02-22</td>\n",
       "      <td>1002</td>\n",
       "      <td>2020-02-05</td>\n",
       "    </tr>\n",
       "    <tr>\n",
       "      <th>3</th>\n",
       "      <td>2020-03-04</td>\n",
       "      <td>1003</td>\n",
       "      <td>2020-02-26</td>\n",
       "    </tr>\n",
       "  </tbody>\n",
       "</table>\n",
       "</div>"
      ],
      "text/plain": [
       "        Date    ID        Wed\n",
       "0 2020-01-01  1001 2019-12-25\n",
       "1 2020-01-23  1002 2020-01-08\n",
       "2 2020-02-22  1002 2020-02-05\n",
       "3 2020-03-04  1003 2020-02-26"
      ]
     },
     "execution_count": 65,
     "metadata": {},
     "output_type": "execute_result"
    }
   ],
   "source": [
    "df=pd.DataFrame({'Date':['2020-01-01', '2020-01-23', '2020-02-22', '2020-03-04'],  'ID':[1001,1002,1002,1003]})\n",
    "df[\"Date\"] = pd.to_datetime(df[\"Date\"])\n",
    "df['Wed'] = np.where(df.ID == 1002,\n",
    "         df.Date - pd.offsets.Week(3, weekday=2),\n",
    "         df.Date - pd.offsets.Week(weekday=2))\n",
    "df"
   ]
  },
  {
   "cell_type": "code",
   "execution_count": 79,
   "id": "invisible-village",
   "metadata": {},
   "outputs": [
    {
     "data": {
      "text/html": [
       "<div>\n",
       "<style scoped>\n",
       "    .dataframe tbody tr th:only-of-type {\n",
       "        vertical-align: middle;\n",
       "    }\n",
       "\n",
       "    .dataframe tbody tr th {\n",
       "        vertical-align: top;\n",
       "    }\n",
       "\n",
       "    .dataframe thead th {\n",
       "        text-align: right;\n",
       "    }\n",
       "</style>\n",
       "<table border=\"1\" class=\"dataframe\">\n",
       "  <thead>\n",
       "    <tr style=\"text-align: right;\">\n",
       "      <th></th>\n",
       "      <th>Close</th>\n",
       "      <th>Upper</th>\n",
       "      <th>SMA</th>\n",
       "      <th>Lower</th>\n",
       "      <th>Buy</th>\n",
       "      <th>Sell</th>\n",
       "    </tr>\n",
       "    <tr>\n",
       "      <th>Date</th>\n",
       "      <th></th>\n",
       "      <th></th>\n",
       "      <th></th>\n",
       "      <th></th>\n",
       "      <th></th>\n",
       "      <th></th>\n",
       "    </tr>\n",
       "  </thead>\n",
       "  <tbody>\n",
       "    <tr>\n",
       "      <th>2020-05-21</th>\n",
       "      <td>231.389999</td>\n",
       "      <td>219.042175</td>\n",
       "      <td>207.178002</td>\n",
       "      <td>195.313829</td>\n",
       "      <td>NaN</td>\n",
       "      <td>231.389999</td>\n",
       "    </tr>\n",
       "    <tr>\n",
       "      <th>2020-05-22</th>\n",
       "      <td>234.910004</td>\n",
       "      <td>222.051354</td>\n",
       "      <td>209.420002</td>\n",
       "      <td>196.788650</td>\n",
       "      <td>NaN</td>\n",
       "      <td>234.910004</td>\n",
       "    </tr>\n",
       "    <tr>\n",
       "      <th>2020-05-26</th>\n",
       "      <td>232.199997</td>\n",
       "      <td>224.164115</td>\n",
       "      <td>211.655002</td>\n",
       "      <td>199.145889</td>\n",
       "      <td>NaN</td>\n",
       "      <td>NaN</td>\n",
       "    </tr>\n",
       "    <tr>\n",
       "      <th>2020-05-27</th>\n",
       "      <td>229.139999</td>\n",
       "      <td>225.151643</td>\n",
       "      <td>213.966502</td>\n",
       "      <td>202.781360</td>\n",
       "      <td>NaN</td>\n",
       "      <td>NaN</td>\n",
       "    </tr>\n",
       "    <tr>\n",
       "      <th>2020-05-28</th>\n",
       "      <td>225.460007</td>\n",
       "      <td>226.004370</td>\n",
       "      <td>215.530002</td>\n",
       "      <td>205.055633</td>\n",
       "      <td>NaN</td>\n",
       "      <td>NaN</td>\n",
       "    </tr>\n",
       "    <tr>\n",
       "      <th>2020-05-29</th>\n",
       "      <td>225.089996</td>\n",
       "      <td>226.911921</td>\n",
       "      <td>216.549001</td>\n",
       "      <td>206.186082</td>\n",
       "      <td>NaN</td>\n",
       "      <td>NaN</td>\n",
       "    </tr>\n",
       "    <tr>\n",
       "      <th>2020-06-01</th>\n",
       "      <td>231.910004</td>\n",
       "      <td>228.365279</td>\n",
       "      <td>218.031001</td>\n",
       "      <td>207.696723</td>\n",
       "      <td>NaN</td>\n",
       "      <td>NaN</td>\n",
       "    </tr>\n",
       "  </tbody>\n",
       "</table>\n",
       "</div>"
      ],
      "text/plain": [
       "                 Close       Upper         SMA       Lower  Buy        Sell\n",
       "Date                                                                       \n",
       "2020-05-21  231.389999  219.042175  207.178002  195.313829  NaN  231.389999\n",
       "2020-05-22  234.910004  222.051354  209.420002  196.788650  NaN  234.910004\n",
       "2020-05-26  232.199997  224.164115  211.655002  199.145889  NaN         NaN\n",
       "2020-05-27  229.139999  225.151643  213.966502  202.781360  NaN         NaN\n",
       "2020-05-28  225.460007  226.004370  215.530002  205.055633  NaN         NaN\n",
       "2020-05-29  225.089996  226.911921  216.549001  206.186082  NaN         NaN\n",
       "2020-06-01  231.910004  228.365279  218.031001  207.696723  NaN         NaN"
      ]
     },
     "execution_count": 79,
     "metadata": {},
     "output_type": "execute_result"
    }
   ],
   "source": [
    "data = \"\"\"Date, Close,Upper,SMA,Lower,Buy,Sell\n",
    "2020-05-21,231.389999,219.042175,207.178002,195.313829,NaN,231.389999 \n",
    "2020-05-22,234.910004,222.051354,209.420002,196.788650,NaN,234.910004\n",
    "2020-05-26,232.199997,224.164115,211.655002,199.145889,NaN,NaN\n",
    "2020-05-27,229.139999,225.151643,213.966502,202.781360,NaN,NaN\n",
    "2020-05-28,225.460007,226.004370,215.530002,205.055633,NaN,NaN\n",
    "2020-05-29,225.089996,226.911921,216.549001,206.186082,NaN,NaN\n",
    "2020-06-01,231.910004,228.365279,218.031001,207.696723,NaN,NaN\"\"\"\n",
    "df = pd.read_csv(StringIO(data))\n",
    "df = df.set_index('Date')\n",
    "df"
   ]
  },
  {
   "cell_type": "code",
   "execution_count": 85,
   "id": "gothic-stadium",
   "metadata": {},
   "outputs": [
    {
     "data": {
      "text/html": [
       "<div>\n",
       "<style scoped>\n",
       "    .dataframe tbody tr th:only-of-type {\n",
       "        vertical-align: middle;\n",
       "    }\n",
       "\n",
       "    .dataframe tbody tr th {\n",
       "        vertical-align: top;\n",
       "    }\n",
       "\n",
       "    .dataframe thead th {\n",
       "        text-align: right;\n",
       "    }\n",
       "</style>\n",
       "<table border=\"1\" class=\"dataframe\">\n",
       "  <thead>\n",
       "    <tr style=\"text-align: right;\">\n",
       "      <th></th>\n",
       "      <th>Close</th>\n",
       "      <th>Upper</th>\n",
       "      <th>SMA</th>\n",
       "      <th>Lower</th>\n",
       "      <th>Buy</th>\n",
       "      <th>Sell</th>\n",
       "    </tr>\n",
       "    <tr>\n",
       "      <th>Date</th>\n",
       "      <th></th>\n",
       "      <th></th>\n",
       "      <th></th>\n",
       "      <th></th>\n",
       "      <th></th>\n",
       "      <th></th>\n",
       "    </tr>\n",
       "  </thead>\n",
       "  <tbody>\n",
       "    <tr>\n",
       "      <th>2020-05-21</th>\n",
       "      <td>231.389999</td>\n",
       "      <td>219.042175</td>\n",
       "      <td>207.178002</td>\n",
       "      <td>195.313829</td>\n",
       "      <td>NaN</td>\n",
       "      <td>231.389999</td>\n",
       "    </tr>\n",
       "    <tr>\n",
       "      <th>2020-05-22</th>\n",
       "      <td>234.910004</td>\n",
       "      <td>222.051354</td>\n",
       "      <td>209.420002</td>\n",
       "      <td>196.788650</td>\n",
       "      <td>NaN</td>\n",
       "      <td>234.910004</td>\n",
       "    </tr>\n",
       "  </tbody>\n",
       "</table>\n",
       "</div>"
      ],
      "text/plain": [
       "                 Close       Upper         SMA       Lower  Buy        Sell\n",
       "Date                                                                       \n",
       "2020-05-21  231.389999  219.042175  207.178002  195.313829  NaN  231.389999\n",
       "2020-05-22  234.910004  222.051354  209.420002  196.788650  NaN  234.910004"
      ]
     },
     "execution_count": 85,
     "metadata": {},
     "output_type": "execute_result"
    }
   ],
   "source": [
    "df.query('Sell.notna() | Buy.notna()')"
   ]
  },
  {
   "cell_type": "code",
   "execution_count": 130,
   "id": "former-spider",
   "metadata": {},
   "outputs": [
    {
     "data": {
      "text/html": [
       "<div>\n",
       "<style scoped>\n",
       "    .dataframe tbody tr th:only-of-type {\n",
       "        vertical-align: middle;\n",
       "    }\n",
       "\n",
       "    .dataframe tbody tr th {\n",
       "        vertical-align: top;\n",
       "    }\n",
       "\n",
       "    .dataframe thead th {\n",
       "        text-align: right;\n",
       "    }\n",
       "</style>\n",
       "<table border=\"1\" class=\"dataframe\">\n",
       "  <thead>\n",
       "    <tr style=\"text-align: right;\">\n",
       "      <th></th>\n",
       "      <th>ID</th>\n",
       "      <th>name</th>\n",
       "      <th>date</th>\n",
       "      <th>confirmedInfections</th>\n",
       "    </tr>\n",
       "  </thead>\n",
       "  <tbody>\n",
       "    <tr>\n",
       "      <th>0</th>\n",
       "      <td>DE2</td>\n",
       "      <td>BAYERN</td>\n",
       "      <td>2020-02-24</td>\n",
       "      <td>19</td>\n",
       "    </tr>\n",
       "    <tr>\n",
       "      <th>1</th>\n",
       "      <td>DE2</td>\n",
       "      <td>BAYERN</td>\n",
       "      <td>2020-02-25</td>\n",
       "      <td>19</td>\n",
       "    </tr>\n",
       "    <tr>\n",
       "      <th>2</th>\n",
       "      <td>DE2</td>\n",
       "      <td>BAYERN</td>\n",
       "      <td>2020-02-26</td>\n",
       "      <td>21</td>\n",
       "    </tr>\n",
       "    <tr>\n",
       "      <th>3</th>\n",
       "      <td>DE1</td>\n",
       "      <td>BADEN-WÃRTTEMBERG</td>\n",
       "      <td>2020-02-24</td>\n",
       "      <td>1</td>\n",
       "    </tr>\n",
       "    <tr>\n",
       "      <th>4</th>\n",
       "      <td>DE1</td>\n",
       "      <td>BADEN-WÃRTTEMBERG</td>\n",
       "      <td>2020-02-25</td>\n",
       "      <td>3</td>\n",
       "    </tr>\n",
       "    <tr>\n",
       "      <th>5</th>\n",
       "      <td>DE1</td>\n",
       "      <td>BADEN-WÃRTTEMBERG</td>\n",
       "      <td>2020-02-26</td>\n",
       "      <td>7</td>\n",
       "    </tr>\n",
       "  </tbody>\n",
       "</table>\n",
       "</div>"
      ],
      "text/plain": [
       "    ID               name        date  confirmedInfections\n",
       "0  DE2             BAYERN  2020-02-24                   19\n",
       "1  DE2             BAYERN  2020-02-25                   19\n",
       "2  DE2             BAYERN  2020-02-26                   21\n",
       "3  DE1  BADEN-WÃRTTEMBERG  2020-02-24                    1\n",
       "4  DE1  BADEN-WÃRTTEMBERG  2020-02-25                    3\n",
       "5  DE1  BADEN-WÃRTTEMBERG  2020-02-26                    7"
      ]
     },
     "execution_count": 130,
     "metadata": {},
     "output_type": "execute_result"
    }
   ],
   "source": [
    "data=\"\"\"\n",
    "ID,name,date,confirmedInfections\n",
    "DE2,BAYERN,2020-02-24,19\n",
    "DE2,BAYERN,2020-02-25,19\n",
    "DE2,BAYERN,2020-02-26,21\n",
    "DE1,BADEN-WÃRTTEMBERG,2020-02-24,1\n",
    "DE1,BADEN-WÃRTTEMBERG,2020-02-25,3\n",
    "DE1,BADEN-WÃRTTEMBERG,2020-02-26,7\n",
    "\"\"\"\n",
    "df = pd.read_csv(StringIO(data))\n",
    "df"
   ]
  },
  {
   "cell_type": "code",
   "execution_count": 131,
   "id": "rotary-mathematics",
   "metadata": {},
   "outputs": [],
   "source": [
    "df[\"confirmedInfections\"] = df.groupby('ID')['confirmedInfections'].diff().fillna(df.confirmedInfections).astype(int)\n"
   ]
  },
  {
   "cell_type": "code",
   "execution_count": 132,
   "id": "sitting-spouse",
   "metadata": {},
   "outputs": [
    {
     "name": "stdout",
     "output_type": "stream",
     "text": [
      "DataFrame DE2\n",
      "    ID    name        date  confirmedInfections\n",
      "0  DE2  BAYERN  2020-02-24                   19\n",
      "1  DE2  BAYERN  2020-02-25                    0\n",
      "2  DE2  BAYERN  2020-02-26                    2\n",
      "\n",
      "DataFrame DE1\n",
      "    ID               name        date  confirmedInfections\n",
      "3  DE1  BADEN-WÃRTTEMBERG  2020-02-24                    1\n",
      "4  DE1  BADEN-WÃRTTEMBERG  2020-02-25                    2\n",
      "5  DE1  BADEN-WÃRTTEMBERG  2020-02-26                    4\n",
      "\n"
     ]
    }
   ],
   "source": [
    "for id in df.ID.unique():\n",
    "    print('DataFrame', id)\n",
    "    print(df.groupby('ID').get_group(id))\n",
    "    print()"
   ]
  },
  {
   "cell_type": "code",
   "execution_count": 135,
   "id": "adolescent-despite",
   "metadata": {},
   "outputs": [
    {
     "data": {
      "text/html": [
       "<div>\n",
       "<style scoped>\n",
       "    .dataframe tbody tr th:only-of-type {\n",
       "        vertical-align: middle;\n",
       "    }\n",
       "\n",
       "    .dataframe tbody tr th {\n",
       "        vertical-align: top;\n",
       "    }\n",
       "\n",
       "    .dataframe thead th {\n",
       "        text-align: right;\n",
       "    }\n",
       "</style>\n",
       "<table border=\"1\" class=\"dataframe\">\n",
       "  <thead>\n",
       "    <tr style=\"text-align: right;\">\n",
       "      <th></th>\n",
       "      <th>ID</th>\n",
       "      <th>Buydate</th>\n",
       "      <th>Quantity</th>\n",
       "    </tr>\n",
       "  </thead>\n",
       "  <tbody>\n",
       "    <tr>\n",
       "      <th>0</th>\n",
       "      <td>AAA</td>\n",
       "      <td>2017-04-13</td>\n",
       "      <td>100.00</td>\n",
       "    </tr>\n",
       "    <tr>\n",
       "      <th>3</th>\n",
       "      <td>BBB</td>\n",
       "      <td>2018-11-04</td>\n",
       "      <td>214514.00</td>\n",
       "    </tr>\n",
       "    <tr>\n",
       "      <th>2</th>\n",
       "      <td>AAA</td>\n",
       "      <td>2019-03-05</td>\n",
       "      <td>385.95</td>\n",
       "    </tr>\n",
       "    <tr>\n",
       "      <th>1</th>\n",
       "      <td>AAA</td>\n",
       "      <td>2019-12-31</td>\n",
       "      <td>2000.00</td>\n",
       "    </tr>\n",
       "    <tr>\n",
       "      <th>4</th>\n",
       "      <td>CCC</td>\n",
       "      <td>2019-12-31</td>\n",
       "      <td>63205.00</td>\n",
       "    </tr>\n",
       "  </tbody>\n",
       "</table>\n",
       "</div>"
      ],
      "text/plain": [
       "    ID    Buydate   Quantity\n",
       "0  AAA 2017-04-13     100.00\n",
       "3  BBB 2018-11-04  214514.00\n",
       "2  AAA 2019-03-05     385.95\n",
       "1  AAA 2019-12-31    2000.00\n",
       "4  CCC 2019-12-31   63205.00"
      ]
     },
     "execution_count": 135,
     "metadata": {},
     "output_type": "execute_result"
    }
   ],
   "source": [
    "df1 = pd.DataFrame({'ID': ['AAA','AAA', 'AAA','BBB','CCC'], 'Buydate': ['2017-04-13', '2019-12-31', '2019-03-05', '2018-11-04', '2019-12-31' ], 'Quantity': [100.00, 2000.00, 385.95, 214514.00, 63205.00]}) \n",
    "df1 = df1.sort_values('Buydate')\n",
    "#df1 = df1.set_index(['ID', 'Buydate']).reset_index()\n",
    "df1['Buydate'] = pd.to_datetime(df1.Buydate)\n",
    "df1"
   ]
  },
  {
   "cell_type": "code",
   "execution_count": 64,
   "id": "imposed-petite",
   "metadata": {},
   "outputs": [
    {
     "data": {
      "text/html": [
       "<div>\n",
       "<style scoped>\n",
       "    .dataframe tbody tr th:only-of-type {\n",
       "        vertical-align: middle;\n",
       "    }\n",
       "\n",
       "    .dataframe tbody tr th {\n",
       "        vertical-align: top;\n",
       "    }\n",
       "\n",
       "    .dataframe thead th {\n",
       "        text-align: right;\n",
       "    }\n",
       "</style>\n",
       "<table border=\"1\" class=\"dataframe\">\n",
       "  <thead>\n",
       "    <tr style=\"text-align: right;\">\n",
       "      <th></th>\n",
       "      <th>ID</th>\n",
       "      <th>Selldate</th>\n",
       "      <th>Quantity</th>\n",
       "    </tr>\n",
       "  </thead>\n",
       "  <tbody>\n",
       "    <tr>\n",
       "      <th>0</th>\n",
       "      <td>AAA</td>\n",
       "      <td>2020-01-25</td>\n",
       "      <td>500.00</td>\n",
       "    </tr>\n",
       "    <tr>\n",
       "      <th>1</th>\n",
       "      <td>AAA</td>\n",
       "      <td>2020-10-25</td>\n",
       "      <td>1985.95</td>\n",
       "    </tr>\n",
       "    <tr>\n",
       "      <th>2</th>\n",
       "      <td>BBB</td>\n",
       "      <td>2020-12-19</td>\n",
       "      <td>214714.00</td>\n",
       "    </tr>\n",
       "  </tbody>\n",
       "</table>\n",
       "</div>"
      ],
      "text/plain": [
       "    ID   Selldate   Quantity\n",
       "0  AAA 2020-01-25     500.00\n",
       "1  AAA 2020-10-25    1985.95\n",
       "2  BBB 2020-12-19  214714.00"
      ]
     },
     "execution_count": 64,
     "metadata": {},
     "output_type": "execute_result"
    }
   ],
   "source": [
    "df2=pd.DataFrame({'ID': ['AAA','AAA','BBB'],\n",
    "               'Selldate': ['2020-01-25', '2020-10-25', '2020-12-19'],\n",
    "               'Quantity': [500.00,  1985.95, 214714.00]})\n",
    "#df2 = df2.set_index(['ID', 'Selldate']).reset_index()\n",
    "df2 = df2.sort_values('Selldate')\n",
    "df2['Selldate'] = pd.to_datetime(df2.Selldate)\n",
    "df2"
   ]
  },
  {
   "cell_type": "code",
   "execution_count": 87,
   "id": "exciting-printing",
   "metadata": {},
   "outputs": [
    {
     "data": {
      "text/html": [
       "<div>\n",
       "<style scoped>\n",
       "    .dataframe tbody tr th:only-of-type {\n",
       "        vertical-align: middle;\n",
       "    }\n",
       "\n",
       "    .dataframe tbody tr th {\n",
       "        vertical-align: top;\n",
       "    }\n",
       "\n",
       "    .dataframe thead th {\n",
       "        text-align: right;\n",
       "    }\n",
       "</style>\n",
       "<table border=\"1\" class=\"dataframe\">\n",
       "  <thead>\n",
       "    <tr style=\"text-align: right;\">\n",
       "      <th></th>\n",
       "      <th>ID</th>\n",
       "      <th>Buydate</th>\n",
       "      <th>BuyQuantity</th>\n",
       "      <th>Selldate</th>\n",
       "      <th>SellQuantity</th>\n",
       "    </tr>\n",
       "  </thead>\n",
       "  <tbody>\n",
       "    <tr>\n",
       "      <th>0</th>\n",
       "      <td>AAA</td>\n",
       "      <td>2017-04-13</td>\n",
       "      <td>100.00</td>\n",
       "      <td>2020-01-25</td>\n",
       "      <td>500.0</td>\n",
       "    </tr>\n",
       "    <tr>\n",
       "      <th>1</th>\n",
       "      <td>AAA</td>\n",
       "      <td>2019-03-05</td>\n",
       "      <td>385.95</td>\n",
       "      <td>2020-01-25</td>\n",
       "      <td>500.0</td>\n",
       "    </tr>\n",
       "    <tr>\n",
       "      <th>2</th>\n",
       "      <td>AAA</td>\n",
       "      <td>2019-12-31</td>\n",
       "      <td>2000.00</td>\n",
       "      <td>2020-01-25</td>\n",
       "      <td>500.0</td>\n",
       "    </tr>\n",
       "    <tr>\n",
       "      <th>3</th>\n",
       "      <td>BBB</td>\n",
       "      <td>2018-11-04</td>\n",
       "      <td>214514.00</td>\n",
       "      <td>2020-12-19</td>\n",
       "      <td>214714.0</td>\n",
       "    </tr>\n",
       "    <tr>\n",
       "      <th>4</th>\n",
       "      <td>CCC</td>\n",
       "      <td>2019-12-31</td>\n",
       "      <td>63205.00</td>\n",
       "      <td>NaT</td>\n",
       "      <td>NaN</td>\n",
       "    </tr>\n",
       "  </tbody>\n",
       "</table>\n",
       "</div>"
      ],
      "text/plain": [
       "    ID    Buydate  BuyQuantity   Selldate  SellQuantity\n",
       "0  AAA 2017-04-13       100.00 2020-01-25         500.0\n",
       "1  AAA 2019-03-05       385.95 2020-01-25         500.0\n",
       "2  AAA 2019-12-31      2000.00 2020-01-25         500.0\n",
       "3  BBB 2018-11-04    214514.00 2020-12-19      214714.0\n",
       "4  CCC 2019-12-31     63205.00        NaT           NaN"
      ]
     },
     "execution_count": 87,
     "metadata": {},
     "output_type": "execute_result"
    }
   ],
   "source": [
    "df = pd.merge_asof(df1, df2, by='ID',\n",
    "            left_on='Buydate', right_on='Selldate', direction='forward').rename(\n",
    "    columns={'Quantity_x':'BuyQuantity', 'Quantity_y':'SellQuantity'}).sort_values(\n",
    "    'ID').reset_index(drop=True)\n",
    "df"
   ]
  },
  {
   "cell_type": "code",
   "execution_count": 90,
   "id": "stupid-arthritis",
   "metadata": {},
   "outputs": [
    {
     "data": {
      "text/html": [
       "<div>\n",
       "<style scoped>\n",
       "    .dataframe tbody tr th:only-of-type {\n",
       "        vertical-align: middle;\n",
       "    }\n",
       "\n",
       "    .dataframe tbody tr th {\n",
       "        vertical-align: top;\n",
       "    }\n",
       "\n",
       "    .dataframe thead th {\n",
       "        text-align: right;\n",
       "    }\n",
       "</style>\n",
       "<table border=\"1\" class=\"dataframe\">\n",
       "  <thead>\n",
       "    <tr style=\"text-align: right;\">\n",
       "      <th></th>\n",
       "      <th>ID</th>\n",
       "      <th>Buydate</th>\n",
       "      <th>BuyQuantity</th>\n",
       "      <th>Selldate</th>\n",
       "      <th>SellQuantity</th>\n",
       "      <th>sq</th>\n",
       "    </tr>\n",
       "  </thead>\n",
       "  <tbody>\n",
       "    <tr>\n",
       "      <th>0</th>\n",
       "      <td>AAA</td>\n",
       "      <td>2017-04-13</td>\n",
       "      <td>100.00</td>\n",
       "      <td>2020-01-25</td>\n",
       "      <td>500.0</td>\n",
       "      <td>1.0</td>\n",
       "    </tr>\n",
       "    <tr>\n",
       "      <th>1</th>\n",
       "      <td>AAA</td>\n",
       "      <td>2019-03-05</td>\n",
       "      <td>385.95</td>\n",
       "      <td>2020-01-25</td>\n",
       "      <td>500.0</td>\n",
       "      <td>2.0</td>\n",
       "    </tr>\n",
       "    <tr>\n",
       "      <th>2</th>\n",
       "      <td>AAA</td>\n",
       "      <td>2019-12-31</td>\n",
       "      <td>2000.00</td>\n",
       "      <td>2020-01-25</td>\n",
       "      <td>500.0</td>\n",
       "      <td>2000.0</td>\n",
       "    </tr>\n",
       "    <tr>\n",
       "      <th>3</th>\n",
       "      <td>BBB</td>\n",
       "      <td>2018-11-04</td>\n",
       "      <td>214514.00</td>\n",
       "      <td>2020-12-19</td>\n",
       "      <td>214714.0</td>\n",
       "      <td>4.0</td>\n",
       "    </tr>\n",
       "    <tr>\n",
       "      <th>4</th>\n",
       "      <td>CCC</td>\n",
       "      <td>2019-12-31</td>\n",
       "      <td>63205.00</td>\n",
       "      <td>NaT</td>\n",
       "      <td>NaN</td>\n",
       "      <td>63205.0</td>\n",
       "    </tr>\n",
       "  </tbody>\n",
       "</table>\n",
       "</div>"
      ],
      "text/plain": [
       "    ID    Buydate  BuyQuantity   Selldate  SellQuantity       sq\n",
       "0  AAA 2017-04-13       100.00 2020-01-25         500.0      1.0\n",
       "1  AAA 2019-03-05       385.95 2020-01-25         500.0      2.0\n",
       "2  AAA 2019-12-31      2000.00 2020-01-25         500.0   2000.0\n",
       "3  BBB 2018-11-04    214514.00 2020-12-19      214714.0      4.0\n",
       "4  CCC 2019-12-31     63205.00        NaT           NaN  63205.0"
      ]
     },
     "execution_count": 90,
     "metadata": {},
     "output_type": "execute_result"
    }
   ],
   "source": [
    "df['sq'] = np.where(df.SellQuantity > df.BuyQuantity,\n",
    "                   df.apply(lambda row: row.name+1, axis=1),\n",
    "                   df.BuyQuantity)\n",
    "df\n",
    "\n",
    "df.append(pd.DataFrame([df.iloc[df.apply(lambda row: row.name, axis=1)]],index=[df.apply(lambda row: row.name+1, axis=1)],columns=df.columns))"
   ]
  },
  {
   "cell_type": "code",
   "execution_count": 102,
   "id": "reported-recipient",
   "metadata": {},
   "outputs": [
    {
     "data": {
      "text/html": [
       "<div>\n",
       "<style scoped>\n",
       "    .dataframe tbody tr th:only-of-type {\n",
       "        vertical-align: middle;\n",
       "    }\n",
       "\n",
       "    .dataframe tbody tr th {\n",
       "        vertical-align: top;\n",
       "    }\n",
       "\n",
       "    .dataframe thead th {\n",
       "        text-align: right;\n",
       "    }\n",
       "</style>\n",
       "<table border=\"1\" class=\"dataframe\">\n",
       "  <thead>\n",
       "    <tr style=\"text-align: right;\">\n",
       "      <th></th>\n",
       "      <th>Model</th>\n",
       "      <th>Checkpoint</th>\n",
       "      <th>ROUGE_L</th>\n",
       "    </tr>\n",
       "  </thead>\n",
       "  <tbody>\n",
       "    <tr>\n",
       "      <th>0</th>\n",
       "      <td>4</td>\n",
       "      <td>1005100</td>\n",
       "      <td>0.204</td>\n",
       "    </tr>\n",
       "    <tr>\n",
       "      <th>1</th>\n",
       "      <td>4</td>\n",
       "      <td>1010200</td>\n",
       "      <td>0.202</td>\n",
       "    </tr>\n",
       "    <tr>\n",
       "      <th>2</th>\n",
       "      <td>4</td>\n",
       "      <td>1015300</td>\n",
       "      <td>0.205</td>\n",
       "    </tr>\n",
       "    <tr>\n",
       "      <th>3</th>\n",
       "      <td>4</td>\n",
       "      <td>1020400</td>\n",
       "      <td>0.203</td>\n",
       "    </tr>\n",
       "    <tr>\n",
       "      <th>4</th>\n",
       "      <td>4</td>\n",
       "      <td>1025500</td>\n",
       "      <td>0.204</td>\n",
       "    </tr>\n",
       "    <tr>\n",
       "      <th>5</th>\n",
       "      <td>16000</td>\n",
       "      <td>1030600</td>\n",
       "      <td>0.396</td>\n",
       "    </tr>\n",
       "    <tr>\n",
       "      <th>6</th>\n",
       "      <td>16000</td>\n",
       "      <td>1035700</td>\n",
       "      <td>0.396</td>\n",
       "    </tr>\n",
       "    <tr>\n",
       "      <th>7</th>\n",
       "      <td>16000</td>\n",
       "      <td>1040800</td>\n",
       "      <td>0.408</td>\n",
       "    </tr>\n",
       "  </tbody>\n",
       "</table>\n",
       "</div>"
      ],
      "text/plain": [
       "   Model  Checkpoint  ROUGE_L\n",
       "0      4     1005100    0.204\n",
       "1      4     1010200    0.202\n",
       "2      4     1015300    0.205\n",
       "3      4     1020400    0.203\n",
       "4      4     1025500    0.204\n",
       "5  16000     1030600    0.396\n",
       "6  16000     1035700    0.396\n",
       "7  16000     1040800    0.408"
      ]
     },
     "execution_count": 102,
     "metadata": {},
     "output_type": "execute_result"
    }
   ],
   "source": [
    "data = \"\"\"Model,Checkpoint,ROUGE_L\n",
    "4,1005100,0.204\n",
    "4,1010200,0.202\n",
    "4,1015300,0.205\n",
    "4,1020400,0.203\n",
    "4,1025500,0.204\n",
    "16000,1030600,0.396\n",
    "16000,1035700,0.396\n",
    "16000,1040800,0.408\"\"\"\n",
    "\n",
    "df = pd.read_csv(StringIO(data))\n",
    "df"
   ]
  },
  {
   "cell_type": "code",
   "execution_count": 103,
   "id": "ideal-southwest",
   "metadata": {},
   "outputs": [
    {
     "data": {
      "text/plain": [
       "Model  Checkpoint\n",
       "4      1005100       0.204\n",
       "       1010200       0.202\n",
       "       1015300       0.205\n",
       "       1020400       0.203\n",
       "       1025500       0.204\n",
       "16000  1030600       0.396\n",
       "       1035700       0.396\n",
       "       1040800       0.408\n",
       "Name: ROUGE_L, dtype: float64"
      ]
     },
     "execution_count": 103,
     "metadata": {},
     "output_type": "execute_result"
    }
   ],
   "source": [
    "df.groupby(['Model','Checkpoint'])['ROUGE_L'].max()"
   ]
  },
  {
   "cell_type": "code",
   "execution_count": 129,
   "id": "stainless-little",
   "metadata": {},
   "outputs": [
    {
     "name": "stdout",
     "output_type": "stream",
     "text": [
      "3.36 ms ± 64.7 µs per loop (mean ± std. dev. of 7 runs, 100 loops each)\n"
     ]
    }
   ],
   "source": [
    "%timeit df.set_index('ROUGE_L').sort_index().reset_index().groupby(['Model'], as_index=False).last()"
   ]
  },
  {
   "cell_type": "code",
   "execution_count": 128,
   "id": "computational-hundred",
   "metadata": {},
   "outputs": [
    {
     "name": "stdout",
     "output_type": "stream",
     "text": [
      "1.44 ms ± 35.9 µs per loop (mean ± std. dev. of 7 runs, 1000 loops each)\n"
     ]
    }
   ],
   "source": [
    "%timeit df.loc[df.groupby(\"Model\")[\"ROUGE_L\"].idxmax()]"
   ]
  },
  {
   "cell_type": "code",
   "execution_count": 130,
   "id": "seven-lexington",
   "metadata": {},
   "outputs": [
    {
     "data": {
      "text/plain": [
       "Model\n",
       "4        0.205\n",
       "16000    0.408\n",
       "Name: ROUGE_L, dtype: float64"
      ]
     },
     "execution_count": 130,
     "metadata": {},
     "output_type": "execute_result"
    }
   ],
   "source": [
    "df.groupby('Model')[\"ROUGE_L\"].max()"
   ]
  },
  {
   "cell_type": "code",
   "execution_count": 133,
   "id": "divided-commitment",
   "metadata": {},
   "outputs": [
    {
     "data": {
      "text/plain": [
       "Model\n",
       "4        2\n",
       "16000    7\n",
       "Name: ROUGE_L, dtype: int64"
      ]
     },
     "execution_count": 133,
     "metadata": {},
     "output_type": "execute_result"
    }
   ],
   "source": [
    "df.groupby(\"Model\")[\"ROUGE_L\"].idxmax()"
   ]
  },
  {
   "cell_type": "code",
   "execution_count": 134,
   "id": "musical-railway",
   "metadata": {},
   "outputs": [
    {
     "data": {
      "text/html": [
       "<div>\n",
       "<style scoped>\n",
       "    .dataframe tbody tr th:only-of-type {\n",
       "        vertical-align: middle;\n",
       "    }\n",
       "\n",
       "    .dataframe tbody tr th {\n",
       "        vertical-align: top;\n",
       "    }\n",
       "\n",
       "    .dataframe thead th {\n",
       "        text-align: right;\n",
       "    }\n",
       "</style>\n",
       "<table border=\"1\" class=\"dataframe\">\n",
       "  <thead>\n",
       "    <tr style=\"text-align: right;\">\n",
       "      <th></th>\n",
       "      <th>Model</th>\n",
       "      <th>ROUGE_L</th>\n",
       "      <th>Checkpoint</th>\n",
       "    </tr>\n",
       "  </thead>\n",
       "  <tbody>\n",
       "    <tr>\n",
       "      <th>0</th>\n",
       "      <td>4</td>\n",
       "      <td>0.202</td>\n",
       "      <td>1010200</td>\n",
       "    </tr>\n",
       "    <tr>\n",
       "      <th>1</th>\n",
       "      <td>16000</td>\n",
       "      <td>0.396</td>\n",
       "      <td>1030600</td>\n",
       "    </tr>\n",
       "  </tbody>\n",
       "</table>\n",
       "</div>"
      ],
      "text/plain": [
       "   Model  ROUGE_L  Checkpoint\n",
       "0      4    0.202     1010200\n",
       "1  16000    0.396     1030600"
      ]
     },
     "execution_count": 134,
     "metadata": {},
     "output_type": "execute_result"
    }
   ],
   "source": [
    "df.set_index('ROUGE_L').sort_index().reset_index().groupby(['Model'], as_index=False).first()"
   ]
  },
  {
   "cell_type": "code",
   "execution_count": 157,
   "id": "isolated-scene",
   "metadata": {},
   "outputs": [
    {
     "data": {
      "text/html": [
       "<div>\n",
       "<style scoped>\n",
       "    .dataframe tbody tr th:only-of-type {\n",
       "        vertical-align: middle;\n",
       "    }\n",
       "\n",
       "    .dataframe tbody tr th {\n",
       "        vertical-align: top;\n",
       "    }\n",
       "\n",
       "    .dataframe thead th {\n",
       "        text-align: right;\n",
       "    }\n",
       "</style>\n",
       "<table border=\"1\" class=\"dataframe\">\n",
       "  <thead>\n",
       "    <tr style=\"text-align: right;\">\n",
       "      <th></th>\n",
       "      <th>ID</th>\n",
       "      <th>Buydate</th>\n",
       "      <th>Quantity</th>\n",
       "    </tr>\n",
       "  </thead>\n",
       "  <tbody>\n",
       "    <tr>\n",
       "      <th>2</th>\n",
       "      <td>AAA</td>\n",
       "      <td>2019-03-05</td>\n",
       "      <td>385.95</td>\n",
       "    </tr>\n",
       "    <tr>\n",
       "      <th>0</th>\n",
       "      <td>AAA</td>\n",
       "      <td>2019-04-13</td>\n",
       "      <td>100.00</td>\n",
       "    </tr>\n",
       "    <tr>\n",
       "      <th>3</th>\n",
       "      <td>BBB</td>\n",
       "      <td>2019-03-04</td>\n",
       "      <td>214514.00</td>\n",
       "    </tr>\n",
       "    <tr>\n",
       "      <th>1</th>\n",
       "      <td>AAA</td>\n",
       "      <td>2019-05-31</td>\n",
       "      <td>2000.00</td>\n",
       "    </tr>\n",
       "    <tr>\n",
       "      <th>4</th>\n",
       "      <td>CCC</td>\n",
       "      <td>2019-07-31</td>\n",
       "      <td>63205.00</td>\n",
       "    </tr>\n",
       "  </tbody>\n",
       "</table>\n",
       "</div>"
      ],
      "text/plain": [
       "    ID    Buydate   Quantity\n",
       "2  AAA 2019-03-05     385.95\n",
       "0  AAA 2019-04-13     100.00\n",
       "3  BBB 2019-03-04  214514.00\n",
       "1  AAA 2019-05-31    2000.00\n",
       "4  CCC 2019-07-31   63205.00"
      ]
     },
     "execution_count": 157,
     "metadata": {},
     "output_type": "execute_result"
    }
   ],
   "source": [
    "df1 = pd.DataFrame({'ID': ['AAA','AAA', 'AAA','BBB','CCC'], 'Buydate': ['2019-04-13', '2019-5-31', '2019-03-05', '2019-3-04', '2019-7-31' ], 'Quantity': [100.00, 2000.00, 385.95, 214514.00, 63205.00]}) \n",
    "df1 = df1.sort_values('Buydate')\n",
    "#df1 = df1.set_index(['ID', 'Buydate']).reset_index()\n",
    "df1['Buydate'] = pd.to_datetime(df1.Buydate)\n",
    "df1"
   ]
  },
  {
   "cell_type": "code",
   "execution_count": 158,
   "id": "appreciated-adelaide",
   "metadata": {},
   "outputs": [],
   "source": [
    "df1.drop(columns='ID', inplace=True)"
   ]
  },
  {
   "cell_type": "code",
   "execution_count": 159,
   "id": "operational-liver",
   "metadata": {},
   "outputs": [],
   "source": [
    "df1.set_index('Buydate', inplace=True)"
   ]
  },
  {
   "cell_type": "code",
   "execution_count": 160,
   "id": "inappropriate-activation",
   "metadata": {},
   "outputs": [
    {
     "data": {
      "text/html": [
       "<div>\n",
       "<style scoped>\n",
       "    .dataframe tbody tr th:only-of-type {\n",
       "        vertical-align: middle;\n",
       "    }\n",
       "\n",
       "    .dataframe tbody tr th {\n",
       "        vertical-align: top;\n",
       "    }\n",
       "\n",
       "    .dataframe thead th {\n",
       "        text-align: right;\n",
       "    }\n",
       "</style>\n",
       "<table border=\"1\" class=\"dataframe\">\n",
       "  <thead>\n",
       "    <tr style=\"text-align: right;\">\n",
       "      <th></th>\n",
       "      <th>Buydate</th>\n",
       "      <th>Quantity</th>\n",
       "    </tr>\n",
       "  </thead>\n",
       "  <tbody>\n",
       "    <tr>\n",
       "      <th>0</th>\n",
       "      <td>2019-03-05</td>\n",
       "      <td>385.95</td>\n",
       "    </tr>\n",
       "    <tr>\n",
       "      <th>1</th>\n",
       "      <td>2019-04-13</td>\n",
       "      <td>100.00</td>\n",
       "    </tr>\n",
       "    <tr>\n",
       "      <th>2</th>\n",
       "      <td>2019-03-04</td>\n",
       "      <td>214514.00</td>\n",
       "    </tr>\n",
       "    <tr>\n",
       "      <th>3</th>\n",
       "      <td>2019-05-31</td>\n",
       "      <td>2000.00</td>\n",
       "    </tr>\n",
       "    <tr>\n",
       "      <th>4</th>\n",
       "      <td>2019-07-31</td>\n",
       "      <td>63205.00</td>\n",
       "    </tr>\n",
       "  </tbody>\n",
       "</table>\n",
       "</div>"
      ],
      "text/plain": [
       "     Buydate   Quantity\n",
       "0 2019-03-05     385.95\n",
       "1 2019-04-13     100.00\n",
       "2 2019-03-04  214514.00\n",
       "3 2019-05-31    2000.00\n",
       "4 2019-07-31   63205.00"
      ]
     },
     "execution_count": 160,
     "metadata": {},
     "output_type": "execute_result"
    }
   ],
   "source": [
    "df1.reset_index()"
   ]
  },
  {
   "cell_type": "code",
   "execution_count": 167,
   "id": "delayed-smile",
   "metadata": {},
   "outputs": [
    {
     "data": {
      "text/html": [
       "<div>\n",
       "<style scoped>\n",
       "    .dataframe tbody tr th:only-of-type {\n",
       "        vertical-align: middle;\n",
       "    }\n",
       "\n",
       "    .dataframe tbody tr th {\n",
       "        vertical-align: top;\n",
       "    }\n",
       "\n",
       "    .dataframe thead th {\n",
       "        text-align: right;\n",
       "    }\n",
       "</style>\n",
       "<table border=\"1\" class=\"dataframe\">\n",
       "  <thead>\n",
       "    <tr style=\"text-align: right;\">\n",
       "      <th></th>\n",
       "      <th>Buydate</th>\n",
       "      <th>Quantity</th>\n",
       "    </tr>\n",
       "  </thead>\n",
       "  <tbody>\n",
       "    <tr>\n",
       "      <th>0</th>\n",
       "      <td>2019-03-31</td>\n",
       "      <td>214899.95</td>\n",
       "    </tr>\n",
       "    <tr>\n",
       "      <th>1</th>\n",
       "      <td>2019-04-30</td>\n",
       "      <td>100.00</td>\n",
       "    </tr>\n",
       "    <tr>\n",
       "      <th>2</th>\n",
       "      <td>2019-05-31</td>\n",
       "      <td>2000.00</td>\n",
       "    </tr>\n",
       "    <tr>\n",
       "      <th>3</th>\n",
       "      <td>2019-06-30</td>\n",
       "      <td>0.00</td>\n",
       "    </tr>\n",
       "    <tr>\n",
       "      <th>4</th>\n",
       "      <td>2019-07-31</td>\n",
       "      <td>63205.00</td>\n",
       "    </tr>\n",
       "  </tbody>\n",
       "</table>\n",
       "</div>"
      ],
      "text/plain": [
       "     Buydate   Quantity\n",
       "0 2019-03-31  214899.95\n",
       "1 2019-04-30     100.00\n",
       "2 2019-05-31    2000.00\n",
       "3 2019-06-30       0.00\n",
       "4 2019-07-31   63205.00"
      ]
     },
     "execution_count": 167,
     "metadata": {},
     "output_type": "execute_result"
    }
   ],
   "source": [
    "g = df1.groupby(pd.Grouper(freq='M')).sum()\n",
    "g.reset_index(inplace=True)\n",
    "g"
   ]
  },
  {
   "cell_type": "code",
   "execution_count": 184,
   "id": "amended-claim",
   "metadata": {},
   "outputs": [
    {
     "data": {
      "text/plain": [
       "(5242880, 3)"
      ]
     },
     "execution_count": 184,
     "metadata": {},
     "output_type": "execute_result"
    }
   ],
   "source": [
    "df = pd.DataFrame({\"col_1\": [\"apple\", \"banana\", \"apple\", \"banana\", \"banana\"],\n",
    "                   \"col_2\": [1, 4, 8, 8, 6],\n",
    "                   \"col_3\": [56, 4, 22, 1, 5]})\n",
    "for i in range(20):\n",
    "    df = pd.concat([df,df])\n",
    "\n",
    "df.shape"
   ]
  },
  {
   "cell_type": "code",
   "execution_count": 185,
   "id": "related-profit",
   "metadata": {},
   "outputs": [
    {
     "name": "stdout",
     "output_type": "stream",
     "text": [
      "3.54 s ± 53.5 ms per loop (mean ± std. dev. of 7 runs, 1 loop each)\n"
     ]
    }
   ],
   "source": [
    "%timeit df.groupby('col_1').agg({ 'col_2': lambda x: list(x),'col_3': lambda x: list(x),}).reset_index().join(df.groupby('col_1')['col_2'].transform('size').rename('count'))"
   ]
  },
  {
   "cell_type": "code",
   "execution_count": 186,
   "id": "restricted-branch",
   "metadata": {},
   "outputs": [
    {
     "name": "stdout",
     "output_type": "stream",
     "text": [
      "3.55 s ± 26.8 ms per loop (mean ± std. dev. of 7 runs, 1 loop each)\n"
     ]
    }
   ],
   "source": [
    "%timeit df.groupby('col_1').agg({ 'col_2': lambda x: list(x),'col_3': lambda x: list(x),}).reset_index().join(df.groupby('col_1')['col_2'].transform('count').rename('count'))"
   ]
  },
  {
   "cell_type": "code",
   "execution_count": 12,
   "id": "institutional-return",
   "metadata": {},
   "outputs": [
    {
     "data": {
      "text/plain": [
       "nan"
      ]
     },
     "execution_count": 12,
     "metadata": {},
     "output_type": "execute_result"
    }
   ],
   "source": [
    "pd.Timestamp(pd.NaT)\n",
    "pd.Timedelta(pd.NaT)\n",
    "pd.Period(pd.NaT)\n",
    "pd.DateOffset()"
   ]
  },
  {
   "cell_type": "code",
   "execution_count": null,
   "id": "mobile-mountain",
   "metadata": {},
   "outputs": [],
   "source": []
  }
 ],
 "metadata": {
  "kernelspec": {
   "display_name": "Python (myenv)",
   "language": "python",
   "name": "myenv"
  },
  "language_info": {
   "codemirror_mode": {
    "name": "ipython",
    "version": 3
   },
   "file_extension": ".py",
   "mimetype": "text/x-python",
   "name": "python",
   "nbconvert_exporter": "python",
   "pygments_lexer": "ipython3",
   "version": "3.9.1"
  }
 },
 "nbformat": 4,
 "nbformat_minor": 5
}
