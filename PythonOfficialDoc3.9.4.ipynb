{
 "cells": [
  {
   "cell_type": "code",
   "execution_count": 1,
   "id": "dense-enough",
   "metadata": {},
   "outputs": [],
   "source": [
    "%matplotlib inline\n",
    "import numpy as np\n",
    "import numpy.ma as ma\n",
    "import pandas as pd\n",
    "from pandas import DataFrame, Series\n",
    "import matplotlib.pyplot as plt\n",
    "import seaborn as sns\n",
    "import timeit\n",
    "import line_profiler\n",
    "\n",
    "import datetime\n",
    "\n",
    "from io import StringIO\n",
    "from pandas.api.types import CategoricalDtype\n",
    "\n",
    "import pandas._testing as tm\n",
    "import re"
   ]
  },
  {
   "cell_type": "markdown",
   "id": "executed-rental",
   "metadata": {},
   "source": [
    "# Regex"
   ]
  },
  {
   "cell_type": "code",
   "execution_count": 5,
   "id": "lonely-supplement",
   "metadata": {},
   "outputs": [
    {
     "data": {
      "text/plain": [
       "re.compile(r'ab*', re.UNICODE)"
      ]
     },
     "execution_count": 5,
     "metadata": {},
     "output_type": "execute_result"
    }
   ],
   "source": [
    "import re\n",
    "p = re.compile('ab*')\n",
    "p # re.compile(r'ab*', re.UNICODE)"
   ]
  },
  {
   "cell_type": "code",
   "execution_count": 6,
   "id": "powerful-gambling",
   "metadata": {},
   "outputs": [
    {
     "data": {
      "text/plain": [
       "32"
      ]
     },
     "execution_count": 6,
     "metadata": {},
     "output_type": "execute_result"
    }
   ],
   "source": [
    "re.UNICODE.value"
   ]
  },
  {
   "cell_type": "code",
   "execution_count": 29,
   "id": "qualified-awareness",
   "metadata": {},
   "outputs": [
    {
     "name": "stdout",
     "output_type": "stream",
     "text": [
      "<re.Match object; span=(0, 3), match='tem'>\n"
     ]
    }
   ],
   "source": [
    "p = re.compile('[a-t]+')\n",
    "m = p.match(\"temupau\")\n",
    "print(m) # <re.Match object; span=(0, 3), match='tem'>"
   ]
  },
  {
   "cell_type": "code",
   "execution_count": 32,
   "id": "neural-newton",
   "metadata": {},
   "outputs": [
    {
     "data": {
      "text/plain": [
       "(0, 3)"
      ]
     },
     "execution_count": 32,
     "metadata": {},
     "output_type": "execute_result"
    }
   ],
   "source": [
    "m.group() # 'tem'\n",
    "m.start() # 0\n",
    "m.end()   # 3\n",
    "m.span()  # (0, 3)"
   ]
  },
  {
   "cell_type": "code",
   "execution_count": 39,
   "id": "monthly-picking",
   "metadata": {},
   "outputs": [
    {
     "name": "stdout",
     "output_type": "stream",
     "text": [
      "None\n",
      "<re.Match object; span=(4, 11), match='message'>\n"
     ]
    },
    {
     "data": {
      "text/plain": [
       "(4, 11)"
      ]
     },
     "execution_count": 39,
     "metadata": {},
     "output_type": "execute_result"
    }
   ],
   "source": [
    "print(p.match('::: message')) # None\n",
    "m = p.search('::: message'); print(m) #<re.Match object; span=(4, 11), match='message'>\n",
    "m.group() #'message'\n",
    "m.start() # 4\n",
    "m.end() # 11\n",
    "m.span() # (4, 11)"
   ]
  },
  {
   "cell_type": "code",
   "execution_count": 44,
   "id": "perceived-general",
   "metadata": {},
   "outputs": [
    {
     "name": "stdout",
     "output_type": "stream",
     "text": [
      "Matched rame\n"
     ]
    }
   ],
   "source": [
    "p = re.compile(r'[a-r]+')\n",
    "m = p.match('ramesh tau')\n",
    "if m:\n",
    "    print('Matched', m.group())\n",
    "else:\n",
    "    print('No Match')\n",
    "## Output - Matched rame"
   ]
  },
  {
   "cell_type": "code",
   "execution_count": 45,
   "id": "intensive-example",
   "metadata": {},
   "outputs": [
    {
     "data": {
      "text/plain": [
       "['12', '11', '10']"
      ]
     },
     "execution_count": 45,
     "metadata": {},
     "output_type": "execute_result"
    }
   ],
   "source": [
    "p = re.compile(r'\\d+')\n",
    "p.findall('12 drummers drumming, 11 pipers piping, 10 lords a-leaping')"
   ]
  },
  {
   "cell_type": "code",
   "execution_count": 49,
   "id": "academic-photographer",
   "metadata": {},
   "outputs": [
    {
     "name": "stdout",
     "output_type": "stream",
     "text": [
      "12\n",
      "0\n",
      "2\n",
      "(0, 2)\n",
      "11\n",
      "22\n",
      "24\n",
      "(22, 24)\n",
      "10\n",
      "40\n",
      "42\n",
      "(40, 42)\n"
     ]
    }
   ],
   "source": [
    "p = re.compile(r'\\d+')\n",
    "iterator = p.finditer('12 drummers drumming, 11 pipers piping, 10 lords a-leaping')\n",
    "for match in iterator:\n",
    "    print(match.group())\n",
    "    print(match.start())\n",
    "    print(match.end())\n",
    "    print(match.span())"
   ]
  },
  {
   "cell_type": "code",
   "execution_count": 50,
   "id": "dress-attempt",
   "metadata": {},
   "outputs": [
    {
     "data": {
      "text/plain": [
       "<re.Match object; span=(0, 1), match='a'>"
      ]
     },
     "execution_count": 50,
     "metadata": {},
     "output_type": "execute_result"
    }
   ],
   "source": [
    "p = re.compile(r'[a-m]')\n",
    "p.search('allubro')"
   ]
  },
  {
   "cell_type": "code",
   "execution_count": 4,
   "id": "coral-globe",
   "metadata": {},
   "outputs": [
    {
     "name": "stdout",
     "output_type": "stream",
     "text": [
      "None\n",
      "<re.Match object; span=(0, 5), match='From '>\n"
     ]
    }
   ],
   "source": [
    "print(re.match(r'From\\s+', 'Fromage amk')) # None\n",
    "print(re.match(r'From\\s+', 'From 7 till 10')) # <re.Match object; span=(0, 5), match='From '>"
   ]
  },
  {
   "cell_type": "code",
   "execution_count": 6,
   "id": "revolutionary-least",
   "metadata": {},
   "outputs": [
    {
     "name": "stdout",
     "output_type": "stream",
     "text": [
      "<re.Match object; span=(0, 4), match='From'>\n",
      "None\n"
     ]
    }
   ],
   "source": [
    "print(re.search(r'^From', 'From here to eternity')) # <re.Match object; span=(0, 4), match='From'>\n",
    "print(re.search(r'^From', 'Reciting From Memory')) # None"
   ]
  },
  {
   "cell_type": "code",
   "execution_count": 11,
   "id": "million-partition",
   "metadata": {},
   "outputs": [
    {
     "name": "stdout",
     "output_type": "stream",
     "text": [
      "None\n",
      "None\n",
      "None\n",
      "<re.Match object; span=(0, 7), match='\\x08class\\x08'>\n"
     ]
    }
   ],
   "source": [
    "p = re.compile('\\bclass\\b')\n",
    "print(p.search('This is my class')) # None\n",
    "print(p.search('THis is declassified')) # None\n",
    "print(p.search('One subclass at a time')) # None\n",
    "print(p.search('\\b' + 'class' + '\\b')) # <re.Match object; span=(0, 7), match='\\x08class\\x08'>"
   ]
  },
  {
   "cell_type": "code",
   "execution_count": 17,
   "id": "suburban-quest",
   "metadata": {},
   "outputs": [
    {
     "name": "stdout",
     "output_type": "stream",
     "text": [
      "(2, 4)\n"
     ]
    }
   ],
   "source": [
    "p = re.compile('(ab)*')\n",
    "print(p.match('ababbbababb').span(1)) # (2, 4)"
   ]
  },
  {
   "cell_type": "code",
   "execution_count": 23,
   "id": "southeast-office",
   "metadata": {},
   "outputs": [
    {
     "name": "stdout",
     "output_type": "stream",
     "text": [
      "<re.Match object; span=(0, 2), match='ab'>\n",
      "ab\n",
      "a\n"
     ]
    }
   ],
   "source": [
    "p = re.compile('(a)b')\n",
    "print(p.match('ab')) # <re.Match object; span=(0, 2), match='ab'>\n",
    "m = p.match('ab')\n",
    "print(m.group(0)) # ab\n",
    "print(m.group(1)) # a"
   ]
  },
  {
   "cell_type": "code",
   "execution_count": 30,
   "id": "confident-october",
   "metadata": {},
   "outputs": [
    {
     "data": {
      "text/plain": [
       "('abc', 'b')"
      ]
     },
     "execution_count": 30,
     "metadata": {},
     "output_type": "execute_result"
    }
   ],
   "source": [
    "p = re.compile('(a(b)c)d')\n",
    "m = p.match('abcd')\n",
    "m.group() # 'abcd'\n",
    "m.group(1) # 'abc'\n",
    "m.group(2) # b\n",
    "m.group(2,1,2) # ('b', 'abc', 'b')\n",
    "m.groups() # ('abc', 'b')"
   ]
  },
  {
   "cell_type": "code",
   "execution_count": 38,
   "id": "alone-refrigerator",
   "metadata": {},
   "outputs": [
    {
     "data": {
      "text/plain": [
       "'the the'"
      ]
     },
     "execution_count": 38,
     "metadata": {},
     "output_type": "execute_result"
    }
   ],
   "source": [
    "p = re.compile(r'\\b(\\w+)\\s+\\1\\b')\n",
    "p.search('This is the the Paris').group() # 'the the'"
   ]
  },
  {
   "cell_type": "code",
   "execution_count": 40,
   "id": "attractive-constitutional",
   "metadata": {},
   "outputs": [
    {
     "data": {
      "text/plain": [
       "()"
      ]
     },
     "execution_count": 40,
     "metadata": {},
     "output_type": "execute_result"
    }
   ],
   "source": [
    "m = re.match(\"([abc])+\", \"abc\")\n",
    "m.groups() # ('c',)\n",
    "m = re.match(\"(?:[abc])+\", \"abc\")\n",
    "m.groups() # ()"
   ]
  },
  {
   "cell_type": "code",
   "execution_count": 45,
   "id": "terminal-silly",
   "metadata": {},
   "outputs": [
    {
     "data": {
      "text/plain": [
       "['This', 'is', 'a', 'test, short and sweet, of split().']"
      ]
     },
     "execution_count": 45,
     "metadata": {},
     "output_type": "execute_result"
    }
   ],
   "source": [
    "p = re.compile(r'\\W+')\n",
    "p.split('This is a test, short and sweet, of split().')\n",
    "p.split('This is a test, short and sweet, of split().', 3)\n"
   ]
  },
  {
   "cell_type": "code",
   "execution_count": 46,
   "id": "union-crash",
   "metadata": {},
   "outputs": [
    {
     "data": {
      "text/plain": [
       "['This', '.... ', 'is', ' ', 'a', ' ', 'test', '.', '']"
      ]
     },
     "execution_count": 46,
     "metadata": {},
     "output_type": "execute_result"
    }
   ],
   "source": [
    "p = re.compile(r'\\W+')\n",
    "p2 = re.compile(r'(\\W+)')\n",
    "\n",
    "p.split('This.... is a test.') # ['This', 'is', 'a', 'test', '']\n",
    "p2.split('This.... is a test.') # ['This', '.... ', 'is', ' ', 'a', ' ', 'test', '.', '']"
   ]
  },
  {
   "cell_type": "code",
   "execution_count": 48,
   "id": "aggregate-finnish",
   "metadata": {},
   "outputs": [
    {
     "data": {
      "text/plain": [
       "'color shocks and Red shoes'"
      ]
     },
     "execution_count": 48,
     "metadata": {},
     "output_type": "execute_result"
    }
   ],
   "source": [
    "p = re.compile('(blue|white|red)', re.IGNORECASE)\n",
    "p.sub('color', 'blue shocks and Red shoes', count=1) # 'color shocks and Red shoes'"
   ]
  },
  {
   "cell_type": "code",
   "execution_count": 53,
   "id": "devoted-quick",
   "metadata": {},
   "outputs": [
    {
     "data": {
      "text/plain": [
       "('color and red', 1)"
      ]
     },
     "execution_count": 53,
     "metadata": {},
     "output_type": "execute_result"
    }
   ],
   "source": [
    "p = re.compile('(blue|white|red)', re.IGNORECASE)\n",
    "p.subn('color', 'blue and red')\n",
    "p.subn('color', 'blue and red', count=1)"
   ]
  },
  {
   "cell_type": "code",
   "execution_count": 55,
   "id": "integrated-sheriff",
   "metadata": {},
   "outputs": [
    {
     "data": {
      "text/plain": [
       "'-a-b--d- -c--'"
      ]
     },
     "execution_count": 55,
     "metadata": {},
     "output_type": "execute_result"
    }
   ],
   "source": [
    "p = re.compile(r'x*')\n",
    "p.sub('-', 'abxd cx')"
   ]
  },
  {
   "cell_type": "code",
   "execution_count": 57,
   "id": "expanded-austria",
   "metadata": {},
   "outputs": [
    {
     "data": {
      "text/plain": [
       "'subsection{First} subsection{second}'"
      ]
     },
     "execution_count": 57,
     "metadata": {},
     "output_type": "execute_result"
    }
   ],
   "source": [
    "p = re.compile('section{ ( [^}]* ) }', re.VERBOSE)\n",
    "p.sub(r'subsection{\\1}','section{First} section{second}')"
   ]
  },
  {
   "cell_type": "markdown",
   "id": "grateful-israel",
   "metadata": {},
   "source": [
    "# 3. An Informal Introduction to Python"
   ]
  },
  {
   "cell_type": "markdown",
   "id": "uniform-orange",
   "metadata": {},
   "source": [
    "Fibonacci"
   ]
  },
  {
   "cell_type": "code",
   "execution_count": 4,
   "id": "nuclear-glucose",
   "metadata": {},
   "outputs": [
    {
     "name": "stdout",
     "output_type": "stream",
     "text": [
      "[0, 1, 1, 2, 3, 5, 8, 13, 21, 34]\n"
     ]
    }
   ],
   "source": [
    "l = [0,1]\n",
    "for i in range(1,9):\n",
    "    x = l[-1] + l[-2]\n",
    "    l.append(x)\n",
    "print(l)"
   ]
  },
  {
   "cell_type": "code",
   "execution_count": 8,
   "id": "small-royal",
   "metadata": {},
   "outputs": [
    {
     "name": "stdout",
     "output_type": "stream",
     "text": [
      "[0, 1, 1, 2, 3, 5, 8, 13, 21, 34]\n"
     ]
    }
   ],
   "source": [
    "i=0\n",
    "l=[0,1]\n",
    "while i<8:\n",
    "    x = l[-1] + l[-2]\n",
    "    l.append(x)\n",
    "    i += 1\n",
    "print(l)"
   ]
  },
  {
   "cell_type": "code",
   "execution_count": 16,
   "id": "complex-improvement",
   "metadata": {},
   "outputs": [
    {
     "data": {
      "text/plain": [
       "55"
      ]
     },
     "execution_count": 16,
     "metadata": {},
     "output_type": "execute_result"
    }
   ],
   "source": [
    "import functools\n",
    "\n",
    "@functools.lru_cache(None)\n",
    "def fib(n):\n",
    "    if n < 2:\n",
    "        return n\n",
    "    return fib(n-1) + fib(n-2)\n",
    "\n",
    "fib(10)"
   ]
  },
  {
   "cell_type": "code",
   "execution_count": 2,
   "id": "considered-thong",
   "metadata": {},
   "outputs": [
    {
     "name": "stdout",
     "output_type": "stream",
     "text": [
      "2  is a prime number\n",
      "3  is a prime number\n",
      "4 equals 2 * 2\n",
      "5  is a prime number\n",
      "6 equals 2 * 3\n",
      "7  is a prime number\n",
      "8 equals 2 * 4\n",
      "9 equals 3 * 3\n"
     ]
    }
   ],
   "source": [
    "for i in range(2,10):\n",
    "    for j in range(2, i):\n",
    "        if i%j==0:\n",
    "            print (i, \"equals\", j, '*', i//j)\n",
    "            break\n",
    "    else:\n",
    "        print(i,  \" is a prime number\")\n"
   ]
  },
  {
   "cell_type": "code",
   "execution_count": 64,
   "id": "satisfied-lawsuit",
   "metadata": {},
   "outputs": [
    {
     "name": "stdout",
     "output_type": "stream",
     "text": [
      "11  Prime\n"
     ]
    }
   ],
   "source": [
    "## Check if a number is prime\n",
    "def check_prime(x):\n",
    "    if not isinstance(x, list):\n",
    "        if isinstance(x, tuple):\n",
    "            x=list(x)\n",
    "        else:\n",
    "            x=[x]\n",
    "    for v in x:\n",
    "        for i in range(2,v//2+1):\n",
    "            if v % i == 0:\n",
    "                print(v, ' Not prime')\n",
    "                break\n",
    "        else:\n",
    "            print(v, ' Prime')\n",
    "        \n",
    "\n",
    "check_prime(11)"
   ]
  },
  {
   "cell_type": "code",
   "execution_count": 66,
   "id": "identical-bicycle",
   "metadata": {},
   "outputs": [],
   "source": [
    "def ask_ok(prompt, retries=4, reminder='Please try again!'):\n",
    "    while True:\n",
    "        ok = input(prompt)\n",
    "        if ok in ('y', 'ye', 'yes'):\n",
    "            return True\n",
    "        if ok in ('n', 'no', 'nop', 'nope'):\n",
    "            return False\n",
    "        retries = retries - 1\n",
    "        if retries < 0:\n",
    "            raise ValueError('invalid user response')\n",
    "        print(reminder)\n"
   ]
  },
  {
   "cell_type": "code",
   "execution_count": 69,
   "id": "anonymous-marathon",
   "metadata": {},
   "outputs": [
    {
     "name": "stdout",
     "output_type": "stream",
     "text": [
      "OK to overwrite the file?yes\n"
     ]
    },
    {
     "data": {
      "text/plain": [
       "True"
      ]
     },
     "execution_count": 69,
     "metadata": {},
     "output_type": "execute_result"
    }
   ],
   "source": [
    "ask_ok('OK to overwrite the file?', 2, 'Come on, only yes or no!')\n"
   ]
  },
  {
   "cell_type": "code",
   "execution_count": 76,
   "id": "engaging-model",
   "metadata": {},
   "outputs": [
    {
     "data": {
      "text/plain": [
       "[2]"
      ]
     },
     "execution_count": 76,
     "metadata": {},
     "output_type": "execute_result"
    }
   ],
   "source": [
    "def f(a, L=None):\n",
    "    if L is None:\n",
    "        L=[]\n",
    "    L.append(a)\n",
    "    return L\n",
    "f(1)\n",
    "f(2)"
   ]
  },
  {
   "cell_type": "code",
   "execution_count": 120,
   "id": "incorporated-wholesale",
   "metadata": {},
   "outputs": [
    {
     "name": "stdout",
     "output_type": "stream",
     "text": [
      "2\n",
      "3\n",
      "5\n",
      "7\n"
     ]
    },
    {
     "data": {
      "text/plain": [
       "4"
      ]
     },
     "execution_count": 120,
     "metadata": {},
     "output_type": "execute_result"
    }
   ],
   "source": [
    "def countPrime(n):\n",
    "    if n < 0:\n",
    "        ValueError('Enter a positive number')\n",
    "    if 0<=n<3:\n",
    "        return 0\n",
    "    count=0\n",
    "    for i in range(2,n+1):\n",
    "        for j in range(2,i):\n",
    "            if i%j == 0:\n",
    "                break\n",
    "        else:\n",
    "            print(i)\n",
    "            count += 1\n",
    "    return count\n",
    "        \n",
    "countPrime(9)"
   ]
  },
  {
   "cell_type": "code",
   "execution_count": 3,
   "id": "solar-repair",
   "metadata": {},
   "outputs": [
    {
     "data": {
      "text/plain": [
       "{'one': 3, 'two': 2}"
      ]
     },
     "execution_count": 3,
     "metadata": {},
     "output_type": "execute_result"
    }
   ],
   "source": [
    "{'one':1, 'two':2, 'one':3}"
   ]
  },
  {
   "cell_type": "code",
   "execution_count": 4,
   "id": "streaming-bobby",
   "metadata": {},
   "outputs": [],
   "source": [
    "def cheeseshop(kind, *arguments, **keywords):\n",
    "    print(\"-- Do you have any\", kind, \"?\")\n",
    "    print(\"-- I'm sorry, we're all out of\", kind)\n",
    "    for arg in arguments:\n",
    "        print(arg)\n",
    "    print(\"-\" * 40)\n",
    "    for kw in keywords:\n",
    "        print(kw, \":\", keywords[kw])"
   ]
  },
  {
   "cell_type": "code",
   "execution_count": 6,
   "id": "fifty-plumbing",
   "metadata": {},
   "outputs": [
    {
     "name": "stdout",
     "output_type": "stream",
     "text": [
      "-- Do you have any Bread ?\n",
      "-- I'm sorry, we're all out of Bread\n",
      "This is what we need\n",
      "This is what we want\n",
      "----------------------------------------\n",
      "shopkeeper : Michael Palin\n",
      "client : John Cleese\n",
      "sketch : Cheese Shop Sketch\n"
     ]
    }
   ],
   "source": [
    "cheeseshop('Bread',\n",
    "          \"This is what we need\",\n",
    "          \"This is what we want\",\n",
    "          shopkeeper=\"Michael Palin\",\n",
    "          client=\"John Cleese\",\n",
    "          sketch=\"Cheese Shop Sketch\",)"
   ]
  },
  {
   "cell_type": "code",
   "execution_count": 14,
   "id": "architectural-tournament",
   "metadata": {},
   "outputs": [],
   "source": [
    "def all_func_types(pos, defl=10, **kwargs):\n",
    "    print(\"This is positional \", pos, \" and keyword from calling\")\n",
    "    print(\"This is default \", defl)\n",
    "    print('*'*40)\n",
    "    print('This is args ', pos)\n",
    "    print('*'*40)\n",
    "    print('This is kwargs ', kwargs)"
   ]
  },
  {
   "cell_type": "code",
   "execution_count": 16,
   "id": "democratic-finnish",
   "metadata": {},
   "outputs": [
    {
     "name": "stdout",
     "output_type": "stream",
     "text": [
      "This is positional  position and keyword  and keyword from calling\n",
      "This is default  20\n",
      "****************************************\n",
      "This is args  position and keyword\n",
      "****************************************\n",
      "This is kwargs  {'tale': \"Let's get this done\"}\n"
     ]
    }
   ],
   "source": [
    "all_func_types(pos='position and keyword',\n",
    "              defl = 20,\n",
    "              tale=\"Let's get this done\")"
   ]
  },
  {
   "cell_type": "code",
   "execution_count": 23,
   "id": "protective-biology",
   "metadata": {},
   "outputs": [
    {
     "data": {
      "text/plain": [
       "True"
      ]
     },
     "execution_count": 23,
     "metadata": {},
     "output_type": "execute_result"
    }
   ],
   "source": [
    "def foo(name, **kwds):\n",
    "    return 'name' in kwds\n",
    "foo(10, name=\"11th\") # TypeError: foo() got multiple values for argument 'name'\n",
    "\n",
    "\n",
    "def foo(name, /, **kwds):\n",
    "    return 'name' in kwds\n",
    "foo(10, name='Ramesh')"
   ]
  },
  {
   "cell_type": "code",
   "execution_count": null,
   "id": "psychological-somerset",
   "metadata": {},
   "outputs": [],
   "source": []
  }
 ],
 "metadata": {
  "kernelspec": {
   "display_name": "Python (myenv)",
   "language": "python",
   "name": "myenv"
  },
  "language_info": {
   "codemirror_mode": {
    "name": "ipython",
    "version": 3
   },
   "file_extension": ".py",
   "mimetype": "text/x-python",
   "name": "python",
   "nbconvert_exporter": "python",
   "pygments_lexer": "ipython3",
   "version": "3.9.1"
  }
 },
 "nbformat": 4,
 "nbformat_minor": 5
}
