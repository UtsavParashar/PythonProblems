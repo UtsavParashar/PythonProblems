{
 "cells": [
  {
   "cell_type": "code",
   "execution_count": 2,
   "id": "dense-enough",
   "metadata": {},
   "outputs": [],
   "source": [
    "%matplotlib inline\n",
    "import numpy as np\n",
    "import numpy.ma as ma\n",
    "import pandas as pd\n",
    "from pandas import DataFrame, Series\n",
    "import matplotlib.pyplot as plt\n",
    "import seaborn as sns\n",
    "import timeit\n",
    "import line_profiler\n",
    "\n",
    "import datetime\n",
    "\n",
    "from io import StringIO\n",
    "from pandas.api.types import CategoricalDtype\n",
    "\n",
    "import pandas._testing as tm\n",
    "import re"
   ]
  },
  {
   "cell_type": "code",
   "execution_count": 5,
   "id": "lonely-supplement",
   "metadata": {},
   "outputs": [
    {
     "data": {
      "text/plain": [
       "re.compile(r'ab*', re.UNICODE)"
      ]
     },
     "execution_count": 5,
     "metadata": {},
     "output_type": "execute_result"
    }
   ],
   "source": [
    "import re\n",
    "p = re.compile('ab*')\n",
    "p # re.compile(r'ab*', re.UNICODE)"
   ]
  },
  {
   "cell_type": "code",
   "execution_count": 6,
   "id": "powerful-gambling",
   "metadata": {},
   "outputs": [
    {
     "data": {
      "text/plain": [
       "32"
      ]
     },
     "execution_count": 6,
     "metadata": {},
     "output_type": "execute_result"
    }
   ],
   "source": [
    "re.UNICODE.value"
   ]
  },
  {
   "cell_type": "code",
   "execution_count": 29,
   "id": "qualified-awareness",
   "metadata": {},
   "outputs": [
    {
     "name": "stdout",
     "output_type": "stream",
     "text": [
      "<re.Match object; span=(0, 3), match='tem'>\n"
     ]
    }
   ],
   "source": [
    "p = re.compile('[a-t]+')\n",
    "m = p.match(\"temupau\")\n",
    "print(m) # <re.Match object; span=(0, 3), match='tem'>"
   ]
  },
  {
   "cell_type": "code",
   "execution_count": 32,
   "id": "neural-newton",
   "metadata": {},
   "outputs": [
    {
     "data": {
      "text/plain": [
       "(0, 3)"
      ]
     },
     "execution_count": 32,
     "metadata": {},
     "output_type": "execute_result"
    }
   ],
   "source": [
    "m.group() # 'tem'\n",
    "m.start() # 0\n",
    "m.end()   # 3\n",
    "m.span()  # (0, 3)"
   ]
  },
  {
   "cell_type": "code",
   "execution_count": 39,
   "id": "monthly-picking",
   "metadata": {},
   "outputs": [
    {
     "name": "stdout",
     "output_type": "stream",
     "text": [
      "None\n",
      "<re.Match object; span=(4, 11), match='message'>\n"
     ]
    },
    {
     "data": {
      "text/plain": [
       "(4, 11)"
      ]
     },
     "execution_count": 39,
     "metadata": {},
     "output_type": "execute_result"
    }
   ],
   "source": [
    "print(p.match('::: message')) # None\n",
    "m = p.search('::: message'); print(m) #<re.Match object; span=(4, 11), match='message'>\n",
    "m.group() #'message'\n",
    "m.start() # 4\n",
    "m.end() # 11\n",
    "m.span() # (4, 11)"
   ]
  },
  {
   "cell_type": "code",
   "execution_count": 44,
   "id": "perceived-general",
   "metadata": {},
   "outputs": [
    {
     "name": "stdout",
     "output_type": "stream",
     "text": [
      "Matched rame\n"
     ]
    }
   ],
   "source": [
    "p = re.compile(r'[a-r]+')\n",
    "m = p.match('ramesh tau')\n",
    "if m:\n",
    "    print('Matched', m.group())\n",
    "else:\n",
    "    print('No Match')\n",
    "## Output - Matched rame"
   ]
  },
  {
   "cell_type": "code",
   "execution_count": 45,
   "id": "intensive-example",
   "metadata": {},
   "outputs": [
    {
     "data": {
      "text/plain": [
       "['12', '11', '10']"
      ]
     },
     "execution_count": 45,
     "metadata": {},
     "output_type": "execute_result"
    }
   ],
   "source": [
    "p = re.compile(r'\\d+')\n",
    "p.findall('12 drummers drumming, 11 pipers piping, 10 lords a-leaping')"
   ]
  },
  {
   "cell_type": "code",
   "execution_count": 49,
   "id": "academic-photographer",
   "metadata": {},
   "outputs": [
    {
     "name": "stdout",
     "output_type": "stream",
     "text": [
      "12\n",
      "0\n",
      "2\n",
      "(0, 2)\n",
      "11\n",
      "22\n",
      "24\n",
      "(22, 24)\n",
      "10\n",
      "40\n",
      "42\n",
      "(40, 42)\n"
     ]
    }
   ],
   "source": [
    "p = re.compile(r'\\d+')\n",
    "iterator = p.finditer('12 drummers drumming, 11 pipers piping, 10 lords a-leaping')\n",
    "for match in iterator:\n",
    "    print(match.group())\n",
    "    print(match.start())\n",
    "    print(match.end())\n",
    "    print(match.span())"
   ]
  },
  {
   "cell_type": "code",
   "execution_count": 50,
   "id": "dress-attempt",
   "metadata": {},
   "outputs": [
    {
     "data": {
      "text/plain": [
       "<re.Match object; span=(0, 1), match='a'>"
      ]
     },
     "execution_count": 50,
     "metadata": {},
     "output_type": "execute_result"
    }
   ],
   "source": [
    "p = re.compile(r'[a-m]')\n",
    "p.search('allubro')"
   ]
  },
  {
   "cell_type": "code",
   "execution_count": null,
   "id": "coral-globe",
   "metadata": {},
   "outputs": [],
   "source": []
  }
 ],
 "metadata": {
  "kernelspec": {
   "display_name": "Python (myenv)",
   "language": "python",
   "name": "myenv"
  },
  "language_info": {
   "codemirror_mode": {
    "name": "ipython",
    "version": 3
   },
   "file_extension": ".py",
   "mimetype": "text/x-python",
   "name": "python",
   "nbconvert_exporter": "python",
   "pygments_lexer": "ipython3",
   "version": "3.9.1"
  }
 },
 "nbformat": 4,
 "nbformat_minor": 5
}
