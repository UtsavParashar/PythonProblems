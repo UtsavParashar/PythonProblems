{
 "cells": [
  {
   "cell_type": "code",
   "execution_count": 215,
   "id": "dense-enough",
   "metadata": {},
   "outputs": [],
   "source": [
    "%matplotlib inline\n",
    "import numpy as np\n",
    "import numpy.ma as ma\n",
    "import pandas as pd\n",
    "from pandas import DataFrame, Series\n",
    "import matplotlib.pyplot as plt\n",
    "import seaborn as sns\n",
    "import timeit\n",
    "import line_profiler\n",
    "\n",
    "import datetime\n",
    "\n",
    "from io import StringIO\n",
    "from pandas.api.types import CategoricalDtype\n",
    "\n",
    "import pandas._testing as tm\n",
    "import re"
   ]
  },
  {
   "cell_type": "code",
   "execution_count": 5,
   "id": "lonely-supplement",
   "metadata": {},
   "outputs": [
    {
     "data": {
      "text/plain": [
       "re.compile(r'ab*', re.UNICODE)"
      ]
     },
     "execution_count": 5,
     "metadata": {},
     "output_type": "execute_result"
    }
   ],
   "source": [
    "import re\n",
    "p = re.compile('ab*')\n",
    "p # re.compile(r'ab*', re.UNICODE)"
   ]
  },
  {
   "cell_type": "code",
   "execution_count": 6,
   "id": "powerful-gambling",
   "metadata": {},
   "outputs": [
    {
     "data": {
      "text/plain": [
       "32"
      ]
     },
     "execution_count": 6,
     "metadata": {},
     "output_type": "execute_result"
    }
   ],
   "source": [
    "re.UNICODE.value"
   ]
  },
  {
   "cell_type": "code",
   "execution_count": 29,
   "id": "qualified-awareness",
   "metadata": {},
   "outputs": [
    {
     "name": "stdout",
     "output_type": "stream",
     "text": [
      "<re.Match object; span=(0, 3), match='tem'>\n"
     ]
    }
   ],
   "source": [
    "p = re.compile('[a-t]+')\n",
    "m = p.match(\"temupau\")\n",
    "print(m) # <re.Match object; span=(0, 3), match='tem'>"
   ]
  },
  {
   "cell_type": "code",
   "execution_count": 32,
   "id": "neural-newton",
   "metadata": {},
   "outputs": [
    {
     "data": {
      "text/plain": [
       "(0, 3)"
      ]
     },
     "execution_count": 32,
     "metadata": {},
     "output_type": "execute_result"
    }
   ],
   "source": [
    "m.group() # 'tem'\n",
    "m.start() # 0\n",
    "m.end()   # 3\n",
    "m.span()  # (0, 3)"
   ]
  },
  {
   "cell_type": "code",
   "execution_count": 39,
   "id": "monthly-picking",
   "metadata": {},
   "outputs": [
    {
     "name": "stdout",
     "output_type": "stream",
     "text": [
      "None\n",
      "<re.Match object; span=(4, 11), match='message'>\n"
     ]
    },
    {
     "data": {
      "text/plain": [
       "(4, 11)"
      ]
     },
     "execution_count": 39,
     "metadata": {},
     "output_type": "execute_result"
    }
   ],
   "source": [
    "print(p.match('::: message')) # None\n",
    "m = p.search('::: message'); print(m) #<re.Match object; span=(4, 11), match='message'>\n",
    "m.group() #'message'\n",
    "m.start() # 4\n",
    "m.end() # 11\n",
    "m.span() # (4, 11)"
   ]
  },
  {
   "cell_type": "code",
   "execution_count": 44,
   "id": "perceived-general",
   "metadata": {},
   "outputs": [
    {
     "name": "stdout",
     "output_type": "stream",
     "text": [
      "Matched rame\n"
     ]
    }
   ],
   "source": [
    "p = re.compile(r'[a-r]+')\n",
    "m = p.match('ramesh tau')\n",
    "if m:\n",
    "    print('Matched', m.group())\n",
    "else:\n",
    "    print('No Match')\n",
    "## Output - Matched rame"
   ]
  },
  {
   "cell_type": "code",
   "execution_count": 45,
   "id": "intensive-example",
   "metadata": {},
   "outputs": [
    {
     "data": {
      "text/plain": [
       "['12', '11', '10']"
      ]
     },
     "execution_count": 45,
     "metadata": {},
     "output_type": "execute_result"
    }
   ],
   "source": [
    "p = re.compile(r'\\d+')\n",
    "p.findall('12 drummers drumming, 11 pipers piping, 10 lords a-leaping')"
   ]
  },
  {
   "cell_type": "code",
   "execution_count": 49,
   "id": "academic-photographer",
   "metadata": {},
   "outputs": [
    {
     "name": "stdout",
     "output_type": "stream",
     "text": [
      "12\n",
      "0\n",
      "2\n",
      "(0, 2)\n",
      "11\n",
      "22\n",
      "24\n",
      "(22, 24)\n",
      "10\n",
      "40\n",
      "42\n",
      "(40, 42)\n"
     ]
    }
   ],
   "source": [
    "p = re.compile(r'\\d+')\n",
    "iterator = p.finditer('12 drummers drumming, 11 pipers piping, 10 lords a-leaping')\n",
    "for match in iterator:\n",
    "    print(match.group())\n",
    "    print(match.start())\n",
    "    print(match.end())\n",
    "    print(match.span())"
   ]
  },
  {
   "cell_type": "code",
   "execution_count": 50,
   "id": "dress-attempt",
   "metadata": {},
   "outputs": [
    {
     "data": {
      "text/plain": [
       "<re.Match object; span=(0, 1), match='a'>"
      ]
     },
     "execution_count": 50,
     "metadata": {},
     "output_type": "execute_result"
    }
   ],
   "source": [
    "p = re.compile(r'[a-m]')\n",
    "p.search('allubro')"
   ]
  },
  {
   "cell_type": "code",
   "execution_count": 4,
   "id": "coral-globe",
   "metadata": {},
   "outputs": [
    {
     "name": "stdout",
     "output_type": "stream",
     "text": [
      "None\n",
      "<re.Match object; span=(0, 5), match='From '>\n"
     ]
    }
   ],
   "source": [
    "print(re.match(r'From\\s+', 'Fromage amk')) # None\n",
    "print(re.match(r'From\\s+', 'From 7 till 10')) # <re.Match object; span=(0, 5), match='From '>"
   ]
  },
  {
   "cell_type": "code",
   "execution_count": 6,
   "id": "revolutionary-least",
   "metadata": {},
   "outputs": [
    {
     "name": "stdout",
     "output_type": "stream",
     "text": [
      "<re.Match object; span=(0, 4), match='From'>\n",
      "None\n"
     ]
    }
   ],
   "source": [
    "print(re.search(r'^From', 'From here to eternity')) # <re.Match object; span=(0, 4), match='From'>\n",
    "print(re.search(r'^From', 'Reciting From Memory')) # None"
   ]
  },
  {
   "cell_type": "code",
   "execution_count": 11,
   "id": "million-partition",
   "metadata": {},
   "outputs": [
    {
     "name": "stdout",
     "output_type": "stream",
     "text": [
      "None\n",
      "None\n",
      "None\n",
      "<re.Match object; span=(0, 7), match='\\x08class\\x08'>\n"
     ]
    }
   ],
   "source": [
    "p = re.compile('\\bclass\\b')\n",
    "print(p.search('This is my class')) # None\n",
    "print(p.search('THis is declassified')) # None\n",
    "print(p.search('One subclass at a time')) # None\n",
    "print(p.search('\\b' + 'class' + '\\b')) # <re.Match object; span=(0, 7), match='\\x08class\\x08'>"
   ]
  },
  {
   "cell_type": "code",
   "execution_count": 17,
   "id": "suburban-quest",
   "metadata": {},
   "outputs": [
    {
     "name": "stdout",
     "output_type": "stream",
     "text": [
      "(2, 4)\n"
     ]
    }
   ],
   "source": [
    "p = re.compile('(ab)*')\n",
    "print(p.match('ababbbababb').span(1)) # (2, 4)"
   ]
  },
  {
   "cell_type": "code",
   "execution_count": 23,
   "id": "southeast-office",
   "metadata": {},
   "outputs": [
    {
     "name": "stdout",
     "output_type": "stream",
     "text": [
      "<re.Match object; span=(0, 2), match='ab'>\n",
      "ab\n",
      "a\n"
     ]
    }
   ],
   "source": [
    "p = re.compile('(a)b')\n",
    "print(p.match('ab')) # <re.Match object; span=(0, 2), match='ab'>\n",
    "m = p.match('ab')\n",
    "print(m.group(0)) # ab\n",
    "print(m.group(1)) # a"
   ]
  },
  {
   "cell_type": "code",
   "execution_count": 30,
   "id": "confident-october",
   "metadata": {},
   "outputs": [
    {
     "data": {
      "text/plain": [
       "('abc', 'b')"
      ]
     },
     "execution_count": 30,
     "metadata": {},
     "output_type": "execute_result"
    }
   ],
   "source": [
    "p = re.compile('(a(b)c)d')\n",
    "m = p.match('abcd')\n",
    "m.group() # 'abcd'\n",
    "m.group(1) # 'abc'\n",
    "m.group(2) # b\n",
    "m.group(2,1,2) # ('b', 'abc', 'b')\n",
    "m.groups() # ('abc', 'b')"
   ]
  },
  {
   "cell_type": "code",
   "execution_count": 38,
   "id": "alone-refrigerator",
   "metadata": {},
   "outputs": [
    {
     "data": {
      "text/plain": [
       "'the the'"
      ]
     },
     "execution_count": 38,
     "metadata": {},
     "output_type": "execute_result"
    }
   ],
   "source": [
    "p = re.compile(r'\\b(\\w+)\\s+\\1\\b')\n",
    "p.search('This is the the Paris').group() # 'the the'"
   ]
  },
  {
   "cell_type": "code",
   "execution_count": 40,
   "id": "attractive-constitutional",
   "metadata": {},
   "outputs": [
    {
     "data": {
      "text/plain": [
       "()"
      ]
     },
     "execution_count": 40,
     "metadata": {},
     "output_type": "execute_result"
    }
   ],
   "source": [
    "m = re.match(\"([abc])+\", \"abc\")\n",
    "m.groups() # ('c',)\n",
    "m = re.match(\"(?:[abc])+\", \"abc\")\n",
    "m.groups() # ()"
   ]
  },
  {
   "cell_type": "code",
   "execution_count": 45,
   "id": "terminal-silly",
   "metadata": {},
   "outputs": [
    {
     "data": {
      "text/plain": [
       "['This', 'is', 'a', 'test, short and sweet, of split().']"
      ]
     },
     "execution_count": 45,
     "metadata": {},
     "output_type": "execute_result"
    }
   ],
   "source": [
    "p = re.compile(r'\\W+')\n",
    "p.split('This is a test, short and sweet, of split().')\n",
    "p.split('This is a test, short and sweet, of split().', 3)\n"
   ]
  },
  {
   "cell_type": "code",
   "execution_count": 46,
   "id": "union-crash",
   "metadata": {},
   "outputs": [
    {
     "data": {
      "text/plain": [
       "['This', '.... ', 'is', ' ', 'a', ' ', 'test', '.', '']"
      ]
     },
     "execution_count": 46,
     "metadata": {},
     "output_type": "execute_result"
    }
   ],
   "source": [
    "p = re.compile(r'\\W+')\n",
    "p2 = re.compile(r'(\\W+)')\n",
    "\n",
    "p.split('This.... is a test.') # ['This', 'is', 'a', 'test', '']\n",
    "p2.split('This.... is a test.') # ['This', '.... ', 'is', ' ', 'a', ' ', 'test', '.', '']"
   ]
  },
  {
   "cell_type": "code",
   "execution_count": 48,
   "id": "aggregate-finnish",
   "metadata": {},
   "outputs": [
    {
     "data": {
      "text/plain": [
       "'color shocks and Red shoes'"
      ]
     },
     "execution_count": 48,
     "metadata": {},
     "output_type": "execute_result"
    }
   ],
   "source": [
    "p = re.compile('(blue|white|red)', re.IGNORECASE)\n",
    "p.sub('color', 'blue shocks and Red shoes', count=1) # 'color shocks and Red shoes'"
   ]
  },
  {
   "cell_type": "code",
   "execution_count": 53,
   "id": "devoted-quick",
   "metadata": {},
   "outputs": [
    {
     "data": {
      "text/plain": [
       "('color and red', 1)"
      ]
     },
     "execution_count": 53,
     "metadata": {},
     "output_type": "execute_result"
    }
   ],
   "source": [
    "p = re.compile('(blue|white|red)', re.IGNORECASE)\n",
    "p.subn('color', 'blue and red')\n",
    "p.subn('color', 'blue and red', count=1)"
   ]
  },
  {
   "cell_type": "code",
   "execution_count": 55,
   "id": "integrated-sheriff",
   "metadata": {},
   "outputs": [
    {
     "data": {
      "text/plain": [
       "'-a-b--d- -c--'"
      ]
     },
     "execution_count": 55,
     "metadata": {},
     "output_type": "execute_result"
    }
   ],
   "source": [
    "p = re.compile(r'x*')\n",
    "p.sub('-', 'abxd cx')"
   ]
  },
  {
   "cell_type": "code",
   "execution_count": 57,
   "id": "expanded-austria",
   "metadata": {},
   "outputs": [
    {
     "data": {
      "text/plain": [
       "'subsection{First} subsection{second}'"
      ]
     },
     "execution_count": 57,
     "metadata": {},
     "output_type": "execute_result"
    }
   ],
   "source": [
    "p = re.compile('section{ ( [^}]* ) }', re.VERBOSE)\n",
    "p.sub(r'subsection{\\1}','section{First} section{second}')"
   ]
  },
  {
   "cell_type": "code",
   "execution_count": 111,
   "id": "reasonable-blake",
   "metadata": {},
   "outputs": [
    {
     "data": {
      "text/html": [
       "<div>\n",
       "<style scoped>\n",
       "    .dataframe tbody tr th:only-of-type {\n",
       "        vertical-align: middle;\n",
       "    }\n",
       "\n",
       "    .dataframe tbody tr th {\n",
       "        vertical-align: top;\n",
       "    }\n",
       "\n",
       "    .dataframe thead th {\n",
       "        text-align: right;\n",
       "    }\n",
       "</style>\n",
       "<table border=\"1\" class=\"dataframe\">\n",
       "  <thead>\n",
       "    <tr style=\"text-align: right;\">\n",
       "      <th></th>\n",
       "      <th>Name</th>\n",
       "      <th>Year</th>\n",
       "      <th>Col1</th>\n",
       "      <th>Col3</th>\n",
       "    </tr>\n",
       "  </thead>\n",
       "  <tbody>\n",
       "    <tr>\n",
       "      <th>0</th>\n",
       "      <td>A</td>\n",
       "      <td>1980</td>\n",
       "      <td>NaN</td>\n",
       "      <td>9817.0</td>\n",
       "    </tr>\n",
       "    <tr>\n",
       "      <th>1</th>\n",
       "      <td>A</td>\n",
       "      <td>1981</td>\n",
       "      <td>NaN</td>\n",
       "      <td>11487.0</td>\n",
       "    </tr>\n",
       "    <tr>\n",
       "      <th>2</th>\n",
       "      <td>A</td>\n",
       "      <td>1982</td>\n",
       "      <td>22.74</td>\n",
       "      <td>12256.0</td>\n",
       "    </tr>\n",
       "    <tr>\n",
       "      <th>3</th>\n",
       "      <td>A</td>\n",
       "      <td>1983</td>\n",
       "      <td>15.50</td>\n",
       "      <td>14214.0</td>\n",
       "    </tr>\n",
       "    <tr>\n",
       "      <th>4</th>\n",
       "      <td>B</td>\n",
       "      <td>1980</td>\n",
       "      <td>NaN</td>\n",
       "      <td>NaN</td>\n",
       "    </tr>\n",
       "    <tr>\n",
       "      <th>5</th>\n",
       "      <td>B</td>\n",
       "      <td>1981</td>\n",
       "      <td>13.50</td>\n",
       "      <td>NaN</td>\n",
       "    </tr>\n",
       "    <tr>\n",
       "      <th>6</th>\n",
       "      <td>B</td>\n",
       "      <td>1982</td>\n",
       "      <td>17.00</td>\n",
       "      <td>NaN</td>\n",
       "    </tr>\n",
       "    <tr>\n",
       "      <th>7</th>\n",
       "      <td>B</td>\n",
       "      <td>1983</td>\n",
       "      <td>19.30</td>\n",
       "      <td>NaN</td>\n",
       "    </tr>\n",
       "    <tr>\n",
       "      <th>8</th>\n",
       "      <td>C</td>\n",
       "      <td>1980</td>\n",
       "      <td>12.00</td>\n",
       "      <td>1750.0</td>\n",
       "    </tr>\n",
       "    <tr>\n",
       "      <th>9</th>\n",
       "      <td>C</td>\n",
       "      <td>1981</td>\n",
       "      <td>15.50</td>\n",
       "      <td>1790.0</td>\n",
       "    </tr>\n",
       "    <tr>\n",
       "      <th>10</th>\n",
       "      <td>C</td>\n",
       "      <td>1982</td>\n",
       "      <td>16.36</td>\n",
       "      <td>1790.0</td>\n",
       "    </tr>\n",
       "    <tr>\n",
       "      <th>11</th>\n",
       "      <td>C</td>\n",
       "      <td>1983</td>\n",
       "      <td>22.74</td>\n",
       "      <td>1810.0</td>\n",
       "    </tr>\n",
       "  </tbody>\n",
       "</table>\n",
       "</div>"
      ],
      "text/plain": [
       "   Name  Year   Col1     Col3\n",
       "0     A  1980    NaN   9817.0\n",
       "1     A  1981    NaN  11487.0\n",
       "2     A  1982  22.74  12256.0\n",
       "3     A  1983  15.50  14214.0\n",
       "4     B  1980    NaN      NaN\n",
       "5     B  1981  13.50      NaN\n",
       "6     B  1982  17.00      NaN\n",
       "7     B  1983  19.30      NaN\n",
       "8     C  1980  12.00   1750.0\n",
       "9     C  1981  15.50   1790.0\n",
       "10    C  1982  16.36   1790.0\n",
       "11    C  1983  22.74   1810.0"
      ]
     },
     "execution_count": 111,
     "metadata": {},
     "output_type": "execute_result"
    }
   ],
   "source": [
    "df = DataFrame({\n",
    "    'Name':['A','A','A','A', 'B', 'B', 'B', 'B', 'C', 'C', 'C', 'C'],\n",
    "    'Year':np.tile([1980, 1981, 1982, 1983], 3),\n",
    "    'Col1':[np.nan, np.nan, 22.74, 15.50, np.nan, 13.5, 17., 19.3, 12., 15.5, 16.36, 22.74],\n",
    "    'Col3':[9817, 11487, 12256, 14214, np.nan, np.nan, np.nan, np.nan, 1750, 1790, 1790, 1810]\n",
    "})\n",
    "df"
   ]
  },
  {
   "cell_type": "code",
   "execution_count": 136,
   "id": "played-verification",
   "metadata": {},
   "outputs": [
    {
     "data": {
      "text/plain": [
       "1\n",
       "0    jozefeg@gmail.com\n",
       "1    congrat to decode\n",
       "2      happy coding!  \n",
       "dtype: object"
      ]
     },
     "execution_count": 136,
     "metadata": {},
     "output_type": "execute_result"
    }
   ],
   "source": [
    "import pandas as pd\n",
    "\n",
    "d = {0: {50: 16, 23: 7, 22: 7, 5: 1, 31: 10, 47: 15, 2: 0, 44: 14, 39: 13, 21: 7, 11: 3, 30: 10, 16: 5, 42: 14, 26: 8, 1: 0, 40: 13, 32: 10, 34: 11, 46: 15, 49: 16, 15: 5, 37: 12, 9: 3, 12: 4, 41: 13, 24: 8, 10: 3, 18: 6, 8: 2, 33: 11, 35: 11, 0: 0, 36: 12, 27: 9, 48: 16, 38: 12, 7: 2, 28: 9, 3: 1, 29: 9, 43: 14, 4: 1, 45: 15, 17: 5, 14: 4, 13: 4, 19: 6, 25: 8, 20: 6, 6: 2}, 1: {50: 2, 23: 2, 22: 1, 5: 2, 31: 1, 47: 2, 2: 2, 44: 2, 39: 0, 21: 0, 11: 2, 30: 0, 16: 1, 42: 0, 26: 2, 1: 1, 40: 1, 32: 2, 34: 1, 46: 1, 49: 1, 15: 0, 37: 1, 9: 0, 12: 0, 41: 2, 24: 0, 10: 1, 18: 0, 8: 2, 33: 0, 35: 2, 0: 0, 36: 0, 27: 0, 48: 0, 38: 2, 7: 1, 28: 1, 3: 0, 29: 2, 43: 1, 4: 1, 45: 0, 17: 2, 14: 2, 13: 1, 19: 1, 25: 1, 20: 2, 6: 0}, 2: {50: 32, 23: 32, 22: 32, 5: 32, 31: 32, 47: 32, 2: 32, 44: 33, 39: 46, 21: 64, 11: 97, 30: 97, 16: 97, 42: 99, 26: 99, 1: 99, 40: 99, 32: 100, 34: 100, 46: 100, 49: 101, 15: 101, 37: 101, 9: 101, 12: 102, 41: 103, 24: 103, 10: 103, 18: 103, 8: 104, 33: 105, 35: 105, 0: 106, 36: 108, 27: 109, 48: 109, 38: 110, 7: 110, 28: 111, 3: 111, 29: 111, 43: 111, 4: 111, 45: 111, 17: 112, 14: 112, 13: 114, 19: 116, 25: 116, 20: 121, 6: 122}}\n",
    "#print (pd.DataFrame(d).pivot(0,1,2).applymap(chr).agg(''.join))\n",
    "pd.DataFrame(d).pivot(0,1,2).applymap(chr).agg(''.join)"
   ]
  },
  {
   "cell_type": "code",
   "execution_count": 116,
   "id": "engaged-wales",
   "metadata": {},
   "outputs": [
    {
     "data": {
      "text/html": [
       "<div>\n",
       "<style scoped>\n",
       "    .dataframe tbody tr th:only-of-type {\n",
       "        vertical-align: middle;\n",
       "    }\n",
       "\n",
       "    .dataframe tbody tr th {\n",
       "        vertical-align: top;\n",
       "    }\n",
       "\n",
       "    .dataframe thead th {\n",
       "        text-align: right;\n",
       "    }\n",
       "</style>\n",
       "<table border=\"1\" class=\"dataframe\">\n",
       "  <thead>\n",
       "    <tr style=\"text-align: right;\">\n",
       "      <th></th>\n",
       "      <th>Name</th>\n",
       "      <th>Year</th>\n",
       "      <th>Col1</th>\n",
       "      <th>Col3</th>\n",
       "    </tr>\n",
       "  </thead>\n",
       "  <tbody>\n",
       "    <tr>\n",
       "      <th>0</th>\n",
       "      <td>A</td>\n",
       "      <td>1983</td>\n",
       "      <td>15.50</td>\n",
       "      <td>14214.0</td>\n",
       "    </tr>\n",
       "    <tr>\n",
       "      <th>1</th>\n",
       "      <td>B</td>\n",
       "      <td>1983</td>\n",
       "      <td>19.30</td>\n",
       "      <td>NaN</td>\n",
       "    </tr>\n",
       "    <tr>\n",
       "      <th>2</th>\n",
       "      <td>C</td>\n",
       "      <td>1983</td>\n",
       "      <td>22.74</td>\n",
       "      <td>1810.0</td>\n",
       "    </tr>\n",
       "  </tbody>\n",
       "</table>\n",
       "</div>"
      ],
      "text/plain": [
       "  Name  Year   Col1     Col3\n",
       "0    A  1983  15.50  14214.0\n",
       "1    B  1983  19.30      NaN\n",
       "2    C  1983  22.74   1810.0"
      ]
     },
     "execution_count": 116,
     "metadata": {},
     "output_type": "execute_result"
    }
   ],
   "source": [
    "df.groupby(['Name'], as_index=False).last()"
   ]
  },
  {
   "cell_type": "code",
   "execution_count": 94,
   "id": "round-yield",
   "metadata": {},
   "outputs": [
    {
     "name": "stdout",
     "output_type": "stream",
     "text": [
      "[[6300 6675    3]\n",
      " [5560 6675    3]\n",
      " [5560 6675    3]\n",
      " [5560 6675    3]]\n",
      "[[6300 6675    3]\n",
      " [5560 6675    3]\n",
      " [5560 6675    3]\n",
      " [5560 6675    3]]\n"
     ]
    }
   ],
   "source": [
    "for i in zip(*[iter(list_arr)]*4):\n",
    "    print(np.vstack(i))"
   ]
  },
  {
   "cell_type": "code",
   "execution_count": 66,
   "id": "automated-suffering",
   "metadata": {},
   "outputs": [
    {
     "name": "stdout",
     "output_type": "stream",
     "text": [
      "[[6300]\n",
      " [6675]\n",
      " [   3]]\n",
      "[[6300]\n",
      " [6675]\n",
      " [   3]]\n"
     ]
    }
   ],
   "source": [
    "for i in l[0:len(l):4]:\n",
    "    print(np.vstack(i))"
   ]
  },
  {
   "cell_type": "code",
   "execution_count": 76,
   "id": "behind-lunch",
   "metadata": {},
   "outputs": [
    {
     "data": {
      "text/plain": [
       "array([[6300, 6675,    3],\n",
       "       [5560, 6675,    3],\n",
       "       [5560, 6675,    3],\n",
       "       [5560, 6675,    3]])"
      ]
     },
     "execution_count": 76,
     "metadata": {},
     "output_type": "execute_result"
    }
   ],
   "source": [
    "np.vstack((list_arr[0], list_arr[1], list_arr[2], list_arr[3]))"
   ]
  },
  {
   "cell_type": "code",
   "execution_count": 104,
   "id": "close-silver",
   "metadata": {},
   "outputs": [
    {
     "name": "stdout",
     "output_type": "stream",
     "text": [
      "[[6300 6675    3]\n",
      " [5560 6675    3]\n",
      " [5560 6675    3]\n",
      " [5560 6675    3]]\n",
      "[[6300 6675    3]\n",
      " [5560 6675    3]\n",
      " [5560 6675    3]\n",
      " [5560 6675    3]]\n"
     ]
    }
   ],
   "source": [
    "for i in np.vsplit(list_arr, len(list_arr)//4):\n",
    "    print(i)"
   ]
  },
  {
   "cell_type": "code",
   "execution_count": 207,
   "id": "naked-middle",
   "metadata": {},
   "outputs": [
    {
     "data": {
      "text/plain": [
       "(6291456, 3)"
      ]
     },
     "execution_count": 207,
     "metadata": {},
     "output_type": "execute_result"
    }
   ],
   "source": [
    "DS_df = DataFrame({\n",
    "    'LAultimateparentcountry':['India', 'Germany', 'India'],\n",
    "    'borrowerultimateparentcountry':['France', 'Ireland', 'France'],\n",
    "    'tot':[56708, 87902, 91211]\n",
    "})\n",
    "for i in range(23):\n",
    "    DS_df = pd.concat([DS_df, DS_df])\n",
    "DS_df.shape"
   ]
  },
  {
   "cell_type": "code",
   "execution_count": 208,
   "id": "imperial-midwest",
   "metadata": {},
   "outputs": [
    {
     "name": "stdout",
     "output_type": "stream",
     "text": [
      "3.92 s ± 77.6 ms per loop (mean ± std. dev. of 7 runs, 1 loop each)\n"
     ]
    }
   ],
   "source": [
    "%timeit pd.Series(DS_df.tot.values, index=DS_df.LAultimateparentcountry.str.cat(DS_df.borrowerultimateparentcountry, sep=\"_\")).to_dict()"
   ]
  },
  {
   "cell_type": "code",
   "execution_count": 209,
   "id": "closed-horror",
   "metadata": {},
   "outputs": [
    {
     "name": "stdout",
     "output_type": "stream",
     "text": [
      "3.94 s ± 226 ms per loop (mean ± std. dev. of 7 runs, 1 loop each)\n"
     ]
    }
   ],
   "source": [
    "%timeit dict(zip(DS_df.LAultimateparentcountry.str.cat(DS_df.borrowerultimateparentcountry, sep=\"_\"), DS_df.tot))"
   ]
  },
  {
   "cell_type": "code",
   "execution_count": 190,
   "id": "arranged-opportunity",
   "metadata": {},
   "outputs": [],
   "source": [
    "from collections import defaultdict\n",
    "dict_map = defaultdict(list)\n",
    "\n",
    "for index, row in DS_df.iterrows():\n",
    "    dict_map[index].append([row[\"LAultimateparentcountry\"],\n",
    "                        row[\"borrowerultimateparentcountry\"],\n",
    "                        row[\"tot\"]])"
   ]
  },
  {
   "cell_type": "code",
   "execution_count": 191,
   "id": "experimental-tackle",
   "metadata": {},
   "outputs": [],
   "source": [
    "def test():\n",
    "    countries_map = {}\n",
    "    for index, row in DS_df.iterrows():\n",
    "        if row[\"tot\"] not in countries_map.values():\n",
    "            countries_map[f'{row[\"LAultimateparentcountry\"]}_{row[\"borrowerultimateparentcountry\"]}'] = row[\"tot\"]\n",
    "    return countries_map"
   ]
  },
  {
   "cell_type": "code",
   "execution_count": 203,
   "id": "temporal-scholarship",
   "metadata": {},
   "outputs": [
    {
     "name": "stdout",
     "output_type": "stream",
     "text": [
      "583 ms ± 10.9 ms per loop (mean ± std. dev. of 7 runs, 1 loop each)\n"
     ]
    }
   ],
   "source": [
    "%timeit test()"
   ]
  },
  {
   "cell_type": "code",
   "execution_count": 211,
   "id": "fifteen-vanilla",
   "metadata": {},
   "outputs": [
    {
     "data": {
      "text/html": [
       "<div>\n",
       "<style scoped>\n",
       "    .dataframe tbody tr th:only-of-type {\n",
       "        vertical-align: middle;\n",
       "    }\n",
       "\n",
       "    .dataframe tbody tr th {\n",
       "        vertical-align: top;\n",
       "    }\n",
       "\n",
       "    .dataframe thead th {\n",
       "        text-align: right;\n",
       "    }\n",
       "</style>\n",
       "<table border=\"1\" class=\"dataframe\">\n",
       "  <thead>\n",
       "    <tr style=\"text-align: right;\">\n",
       "      <th></th>\n",
       "      <th>Unnamed: 0</th>\n",
       "      <th>id</th>\n",
       "      <th>activity</th>\n",
       "      <th>duration_sec</th>\n",
       "      <th>cycle</th>\n",
       "      <th>intended_cycle</th>\n",
       "    </tr>\n",
       "  </thead>\n",
       "  <tbody>\n",
       "    <tr>\n",
       "      <th>0</th>\n",
       "      <td>1</td>\n",
       "      <td>1</td>\n",
       "      <td>start</td>\n",
       "      <td>0.7</td>\n",
       "      <td>1</td>\n",
       "      <td>1</td>\n",
       "    </tr>\n",
       "    <tr>\n",
       "      <th>1</th>\n",
       "      <td>2</td>\n",
       "      <td>1</td>\n",
       "      <td>a</td>\n",
       "      <td>0.3</td>\n",
       "      <td>1</td>\n",
       "      <td>1</td>\n",
       "    </tr>\n",
       "    <tr>\n",
       "      <th>2</th>\n",
       "      <td>3</td>\n",
       "      <td>1</td>\n",
       "      <td>b</td>\n",
       "      <td>0.4</td>\n",
       "      <td>1</td>\n",
       "      <td>1</td>\n",
       "    </tr>\n",
       "    <tr>\n",
       "      <th>3</th>\n",
       "      <td>4</td>\n",
       "      <td>1</td>\n",
       "      <td>c</td>\n",
       "      <td>0.5</td>\n",
       "      <td>1</td>\n",
       "      <td>1</td>\n",
       "    </tr>\n",
       "    <tr>\n",
       "      <th>4</th>\n",
       "      <td>5</td>\n",
       "      <td>1</td>\n",
       "      <td>c</td>\n",
       "      <td>0.5</td>\n",
       "      <td>1</td>\n",
       "      <td>2</td>\n",
       "    </tr>\n",
       "    <tr>\n",
       "      <th>5</th>\n",
       "      <td>6</td>\n",
       "      <td>1</td>\n",
       "      <td>d</td>\n",
       "      <td>0.4</td>\n",
       "      <td>1</td>\n",
       "      <td>2</td>\n",
       "    </tr>\n",
       "    <tr>\n",
       "      <th>6</th>\n",
       "      <td>7</td>\n",
       "      <td>1</td>\n",
       "      <td>e</td>\n",
       "      <td>0.6</td>\n",
       "      <td>1</td>\n",
       "      <td>3</td>\n",
       "    </tr>\n",
       "    <tr>\n",
       "      <th>7</th>\n",
       "      <td>8</td>\n",
       "      <td>1</td>\n",
       "      <td>stop</td>\n",
       "      <td>2.0</td>\n",
       "      <td>1</td>\n",
       "      <td>3</td>\n",
       "    </tr>\n",
       "    <tr>\n",
       "      <th>8</th>\n",
       "      <td>9</td>\n",
       "      <td>1</td>\n",
       "      <td>start</td>\n",
       "      <td>0.1</td>\n",
       "      <td>2</td>\n",
       "      <td>4</td>\n",
       "    </tr>\n",
       "    <tr>\n",
       "      <th>9</th>\n",
       "      <td>10</td>\n",
       "      <td>1</td>\n",
       "      <td>b</td>\n",
       "      <td>0.3</td>\n",
       "      <td>2</td>\n",
       "      <td>4</td>\n",
       "    </tr>\n",
       "    <tr>\n",
       "      <th>10</th>\n",
       "      <td>11</td>\n",
       "      <td>1</td>\n",
       "      <td>stop</td>\n",
       "      <td>0.2</td>\n",
       "      <td>2</td>\n",
       "      <td>4</td>\n",
       "    </tr>\n",
       "    <tr>\n",
       "      <th>11</th>\n",
       "      <td>12</td>\n",
       "      <td>1</td>\n",
       "      <td>f</td>\n",
       "      <td>0.3</td>\n",
       "      <td>3</td>\n",
       "      <td>5</td>\n",
       "    </tr>\n",
       "    <tr>\n",
       "      <th>12</th>\n",
       "      <td>13</td>\n",
       "      <td>2</td>\n",
       "      <td>stop</td>\n",
       "      <td>40.0</td>\n",
       "      <td>4</td>\n",
       "      <td>6</td>\n",
       "    </tr>\n",
       "    <tr>\n",
       "      <th>13</th>\n",
       "      <td>14</td>\n",
       "      <td>2</td>\n",
       "      <td>start</td>\n",
       "      <td>3.0</td>\n",
       "      <td>5</td>\n",
       "      <td>7</td>\n",
       "    </tr>\n",
       "    <tr>\n",
       "      <th>14</th>\n",
       "      <td>15</td>\n",
       "      <td>2</td>\n",
       "      <td>a</td>\n",
       "      <td>0.7</td>\n",
       "      <td>5</td>\n",
       "      <td>7</td>\n",
       "    </tr>\n",
       "    <tr>\n",
       "      <th>15</th>\n",
       "      <td>16</td>\n",
       "      <td>2</td>\n",
       "      <td>a</td>\n",
       "      <td>3.0</td>\n",
       "      <td>5</td>\n",
       "      <td>7</td>\n",
       "    </tr>\n",
       "    <tr>\n",
       "      <th>16</th>\n",
       "      <td>17</td>\n",
       "      <td>2</td>\n",
       "      <td>b</td>\n",
       "      <td>0.2</td>\n",
       "      <td>5</td>\n",
       "      <td>7</td>\n",
       "    </tr>\n",
       "    <tr>\n",
       "      <th>17</th>\n",
       "      <td>18</td>\n",
       "      <td>2</td>\n",
       "      <td>stop</td>\n",
       "      <td>0.2</td>\n",
       "      <td>5</td>\n",
       "      <td>7</td>\n",
       "    </tr>\n",
       "    <tr>\n",
       "      <th>18</th>\n",
       "      <td>19</td>\n",
       "      <td>2</td>\n",
       "      <td>start</td>\n",
       "      <td>0.1</td>\n",
       "      <td>6</td>\n",
       "      <td>8</td>\n",
       "    </tr>\n",
       "    <tr>\n",
       "      <th>19</th>\n",
       "      <td>20</td>\n",
       "      <td>2</td>\n",
       "      <td>f</td>\n",
       "      <td>0.4</td>\n",
       "      <td>6</td>\n",
       "      <td>8</td>\n",
       "    </tr>\n",
       "    <tr>\n",
       "      <th>20</th>\n",
       "      <td>21</td>\n",
       "      <td>2</td>\n",
       "      <td>g</td>\n",
       "      <td>0.2</td>\n",
       "      <td>6</td>\n",
       "      <td>8</td>\n",
       "    </tr>\n",
       "    <tr>\n",
       "      <th>21</th>\n",
       "      <td>22</td>\n",
       "      <td>2</td>\n",
       "      <td>h</td>\n",
       "      <td>0.5</td>\n",
       "      <td>6</td>\n",
       "      <td>8</td>\n",
       "    </tr>\n",
       "    <tr>\n",
       "      <th>22</th>\n",
       "      <td>23</td>\n",
       "      <td>2</td>\n",
       "      <td>h</td>\n",
       "      <td>6.0</td>\n",
       "      <td>6</td>\n",
       "      <td>8</td>\n",
       "    </tr>\n",
       "    <tr>\n",
       "      <th>23</th>\n",
       "      <td>24</td>\n",
       "      <td>2</td>\n",
       "      <td>stop</td>\n",
       "      <td>9.0</td>\n",
       "      <td>6</td>\n",
       "      <td>8</td>\n",
       "    </tr>\n",
       "    <tr>\n",
       "      <th>24</th>\n",
       "      <td>25</td>\n",
       "      <td>2</td>\n",
       "      <td>start</td>\n",
       "      <td>0.2</td>\n",
       "      <td>7</td>\n",
       "      <td>9</td>\n",
       "    </tr>\n",
       "    <tr>\n",
       "      <th>25</th>\n",
       "      <td>26</td>\n",
       "      <td>2</td>\n",
       "      <td>e</td>\n",
       "      <td>0.3</td>\n",
       "      <td>7</td>\n",
       "      <td>9</td>\n",
       "    </tr>\n",
       "    <tr>\n",
       "      <th>26</th>\n",
       "      <td>27</td>\n",
       "      <td>2</td>\n",
       "      <td>f</td>\n",
       "      <td>0.4</td>\n",
       "      <td>7</td>\n",
       "      <td>10</td>\n",
       "    </tr>\n",
       "    <tr>\n",
       "      <th>27</th>\n",
       "      <td>28</td>\n",
       "      <td>2</td>\n",
       "      <td>stop</td>\n",
       "      <td>0.7</td>\n",
       "      <td>7</td>\n",
       "      <td>10</td>\n",
       "    </tr>\n",
       "  </tbody>\n",
       "</table>\n",
       "</div>"
      ],
      "text/plain": [
       "    Unnamed: 0  id activity  duration_sec  cycle  intended_cycle\n",
       "0            1   1    start           0.7      1               1\n",
       "1            2   1        a           0.3      1               1\n",
       "2            3   1        b           0.4      1               1\n",
       "3            4   1        c           0.5      1               1\n",
       "4            5   1        c           0.5      1               2\n",
       "5            6   1        d           0.4      1               2\n",
       "6            7   1        e           0.6      1               3\n",
       "7            8   1     stop           2.0      1               3\n",
       "8            9   1    start           0.1      2               4\n",
       "9           10   1        b           0.3      2               4\n",
       "10          11   1     stop           0.2      2               4\n",
       "11          12   1        f           0.3      3               5\n",
       "12          13   2     stop          40.0      4               6\n",
       "13          14   2    start           3.0      5               7\n",
       "14          15   2        a           0.7      5               7\n",
       "15          16   2        a           3.0      5               7\n",
       "16          17   2        b           0.2      5               7\n",
       "17          18   2     stop           0.2      5               7\n",
       "18          19   2    start           0.1      6               8\n",
       "19          20   2        f           0.4      6               8\n",
       "20          21   2        g           0.2      6               8\n",
       "21          22   2        h           0.5      6               8\n",
       "22          23   2        h           6.0      6               8\n",
       "23          24   2     stop           9.0      6               8\n",
       "24          25   2    start           0.2      7               9\n",
       "25          26   2        e           0.3      7               9\n",
       "26          27   2        f           0.4      7              10\n",
       "27          28   2     stop           0.7      7              10"
      ]
     },
     "execution_count": 211,
     "metadata": {},
     "output_type": "execute_result"
    }
   ],
   "source": [
    "data = {'Unnamed: 0': {0: 1, 1: 2, 2: 3, 3: 4, 4: 5, 5: 6, 6: 7, 7: 8, 8: 9, 9: 10, 10: 11, 11: 12, 12: 13, 13: 14, 14: 15, 15: 16, 16: 17, 17: 18, 18: 19, 19: 20, 20: 21, 21: 22, 22: 23, 23: 24, 24: 25, 25: 26, 26: 27, 27: 28}, \n",
    "        'id': {0: 1, 1: 1, 2: 1, 3: 1, 4: 1, 5: 1, 6: 1, 7: 1, 8: 1, 9: 1, 10: 1, 11: 1, 12: 2, 13: 2, 14: 2, 15: 2, 16: 2, 17: 2, 18: 2, 19: 2, 20: 2, 21: 2, 22: 2, 23: 2, 24: 2, 25: 2, 26: 2, 27: 2}, \n",
    "        'activity': {0: 'start', 1: 'a', 2: 'b', 3: 'c', 4: 'c', 5: 'd', 6: 'e', 7: 'stop', 8: 'start', 9: 'b', 10: 'stop', 11: 'f', 12: 'stop', 13: 'start', 14: 'a', 15: 'a', 16: 'b', 17: 'stop', 18: 'start', 19: 'f', 20: 'g', 21: 'h', 22: 'h', 23: 'stop', 24: 'start', 25: 'e', 26: 'f', 27: 'stop'}, \n",
    "        'duration_sec': {0: 0.7, 1: 0.3, 2: 0.4, 3: 0.5, 4: 0.5, 5: 0.4, 6: 0.6, 7: 2.0, 8: 0.1, 9: 0.3, 10: 0.2, 11: 0.3, 12: 40.0, 13: 3.0, 14: 0.7, 15: 3.0, 16: 0.2, 17: 0.2, 18: 0.1, 19: 0.4, 20: 0.2, 21: 0.5, 22: 6.0, 23: 9.0, 24: 0.2, 25: 0.3, 26: 0.4, 27: 0.7}, 'cycle': {0: 1, 1: 1, 2: 1, 3: 1, 4: 1, 5: 1, 6: 1, 7: 1, 8: 2, 9: 2, 10: 2, 11: 3, 12: 4, 13: 5, 14: 5, 15: 5, 16: 5, 17: 5, 18: 6, 19: 6, 20: 6, 21: 6, 22: 6, 23: 6, 24: 7, 25: 7, 26: 7, 27: 7}, 'intended_cycle': {0: 1, 1: 1, 2: 1, 3: 1, 4: 2, 5: 2, 6: 3, 7: 3, 8: 4, 9: 4, 10: 4, 11: 5, 12: 6, 13: 7, 14: 7, 15: 7, 16: 7, 17: 7, 18: 8, 19: 8, 20: 8, 21: 8, 22: 8, 23: 8, 24: 9, 25: 9, 26: 10, 27: 10}}\n",
    "\n",
    "df = pd.DataFrame.from_dict(data)\n",
    "df"
   ]
  },
  {
   "cell_type": "code",
   "execution_count": 213,
   "id": "precise-freedom",
   "metadata": {},
   "outputs": [
    {
     "ename": "NameError",
     "evalue": "name 'Datos' is not defined",
     "output_type": "error",
     "traceback": [
      "\u001b[0;31m---------------------------------------------------------------------------\u001b[0m",
      "\u001b[0;31mNameError\u001b[0m                                 Traceback (most recent call last)",
      "\u001b[0;32m<ipython-input-213-d1a263bfa555>\u001b[0m in \u001b[0;36m<module>\u001b[0;34m\u001b[0m\n\u001b[0;32m----> 1\u001b[0;31m \u001b[0mAntCris\u001b[0m\u001b[0;34m=\u001b[0m\u001b[0mDatos\u001b[0m\u001b[0;34m.\u001b[0m\u001b[0mloc\u001b[0m\u001b[0;34m[\u001b[0m\u001b[0;34m'2005-01-01'\u001b[0m\u001b[0;34m:\u001b[0m\u001b[0;34m'2007-07-01'\u001b[0m\u001b[0;34m]\u001b[0m\u001b[0;34m\u001b[0m\u001b[0;34m\u001b[0m\u001b[0m\n\u001b[0m\u001b[1;32m      2\u001b[0m \u001b[0;32mfor\u001b[0m \u001b[0mx\u001b[0m \u001b[0;32min\u001b[0m \u001b[0mAntCris\u001b[0m\u001b[0;34m.\u001b[0m\u001b[0mcolumns\u001b[0m\u001b[0;34m:\u001b[0m\u001b[0;34m\u001b[0m\u001b[0;34m\u001b[0m\u001b[0m\n\u001b[1;32m      3\u001b[0m   \u001b[0maux\u001b[0m\u001b[0;34m=\u001b[0m\u001b[0mAntCris\u001b[0m\u001b[0;34m[\u001b[0m\u001b[0mx\u001b[0m\u001b[0;34m]\u001b[0m\u001b[0;34m.\u001b[0m\u001b[0mdropna\u001b[0m\u001b[0;34m(\u001b[0m\u001b[0;34m)\u001b[0m\u001b[0;34m\u001b[0m\u001b[0;34m\u001b[0m\u001b[0m\n\u001b[1;32m      4\u001b[0m   \u001b[0maux2\u001b[0m\u001b[0;34m=\u001b[0m\u001b[0maux\u001b[0m\u001b[0;34m.\u001b[0m\u001b[0miloc\u001b[0m\u001b[0;34m[\u001b[0m\u001b[0;36m0\u001b[0m\u001b[0;34m]\u001b[0m\u001b[0;34m\u001b[0m\u001b[0;34m\u001b[0m\u001b[0m\n\u001b[1;32m      5\u001b[0m   \u001b[0mprint\u001b[0m\u001b[0;34m(\u001b[0m\u001b[0mx\u001b[0m\u001b[0;34m)\u001b[0m\u001b[0;34m\u001b[0m\u001b[0;34m\u001b[0m\u001b[0m\n",
      "\u001b[0;31mNameError\u001b[0m: name 'Datos' is not defined"
     ]
    }
   ],
   "source": [
    "AntCris=Datos.loc['2005-01-01':'2007-07-01']\n",
    "for x in AntCris.columns:\n",
    "  aux=AntCris[x].dropna()\n",
    "  aux2=aux.iloc[0]\n",
    "  print(x)\n",
    "  for y in AntCris[x].values:\n",
    "    if np.isnan(y)==True:\n",
    "      b=2\n",
    "    else:\n",
    "      a=np.log(y)-np.log(aux2)\n",
    "      AntCris[x]=AntCris[x].replace([y],a)"
   ]
  },
  {
   "cell_type": "code",
   "execution_count": 218,
   "id": "funky-economy",
   "metadata": {},
   "outputs": [
    {
     "data": {
      "text/html": [
       "<div>\n",
       "<style scoped>\n",
       "    .dataframe tbody tr th:only-of-type {\n",
       "        vertical-align: middle;\n",
       "    }\n",
       "\n",
       "    .dataframe tbody tr th {\n",
       "        vertical-align: top;\n",
       "    }\n",
       "\n",
       "    .dataframe thead th {\n",
       "        text-align: right;\n",
       "    }\n",
       "</style>\n",
       "<table border=\"1\" class=\"dataframe\">\n",
       "  <thead>\n",
       "    <tr style=\"text-align: right;\">\n",
       "      <th></th>\n",
       "      <th>label1</th>\n",
       "      <th>label2</th>\n",
       "      <th>label3</th>\n",
       "    </tr>\n",
       "  </thead>\n",
       "  <tbody>\n",
       "    <tr>\n",
       "      <th>index1</th>\n",
       "      <td>\"a</td>\n",
       "      <td>c</td>\n",
       "      <td>e</td>\n",
       "    </tr>\n",
       "    <tr>\n",
       "      <th>index2</th>\n",
       "      <td>b</td>\n",
       "      <td>d</td>\n",
       "      <td>f</td>\n",
       "    </tr>\n",
       "  </tbody>\n",
       "</table>\n",
       "</div>"
      ],
      "text/plain": [
       "       label1 label2 label3\n",
       "index1     \"a      c      e\n",
       "index2      b      d      f"
      ]
     },
     "execution_count": 218,
     "metadata": {},
     "output_type": "execute_result"
    }
   ],
   "source": [
    "from io import StringIO\n",
    "import csv\n",
    "data = \"\"\"label1,label2,label3\n",
    "index1,\"a,c,e\n",
    "index2,b,d,f\"\"\"\n",
    "\n",
    "dia = csv.excel()\n",
    "dia.quoting = csv.QUOTE_NONE\n",
    "pd.read_csv(StringIO(data), dialect=dia)\n"
   ]
  },
  {
   "cell_type": "code",
   "execution_count": 219,
   "id": "meaning-domain",
   "metadata": {},
   "outputs": [
    {
     "data": {
      "text/plain": [
       "{'X180213_1_0004_1_000001': {'2-3': 46.75512255828233,\n",
       "  '7-9': 32.30237861210842,\n",
       "  '10-11': 28.538901663518867,\n",
       "  '0-1': 35.517087709439245,\n",
       "  '0-2': 51.17852562784512,\n",
       "  '2-5': 55.15972203555779,\n",
       "  '3-5': 26.5812809322651,\n",
       "  '11-12': 24.76573298410529,\n",
       "  '5-7': 32.37719839640236,\n",
       "  '8-10': 42.19915601810067,\n",
       "  '3-4': 23.072183092199992,\n",
       "  '7-8': 22.892458496194777,\n",
       "  '5-6': 28.625171066039066,\n",
       "  '8-9': 27.6671947258843,\n",
       "  '6-8': 32.379920582978585,\n",
       "  '4-6': 29.7290251276425,\n",
       "  '6-7': 27.83287476636216,\n",
       "  '9-11': 46.237038548765206,\n",
       "  '9-10': 18.723337839178146,\n",
       "  '4-5': 26.464402246036077}}"
      ]
     },
     "execution_count": 219,
     "metadata": {},
     "output_type": "execute_result"
    }
   ],
   "source": [
    "Toy_diz = {'X180213_1_0004_1_000001': {'2-3': 46.75512255828233, '7-9': 32.30237861210842, '10-11': 28.538901663518867, '0-1': 35.517087709439245, '0-2': 51.17852562784512,\n",
    "                              '2-5': 55.15972203555779, '3-5': 26.5812809322651, '11-12': 24.76573298410529, '5-7': 32.37719839640236, '8-10': 42.19915601810067,\n",
    "                               '3-4': 23.072183092199992, '7-8': 22.892458496194777, '5-6': 28.625171066039066, '8-9': 27.6671947258843, '6-8': 32.379920582978585,\n",
    "                            '4-6': 29.7290251276425,'6-7': 27.83287476636216, '9-11': 46.237038548765206, '9-10': 18.723337839178146, '4-5': 26.464402246036077}}\n",
    "Toy_diz"
   ]
  },
  {
   "cell_type": "code",
   "execution_count": 221,
   "id": "aggregate-preview",
   "metadata": {},
   "outputs": [
    {
     "data": {
      "text/plain": [
       "array({'X180213_1_0004_1_000001': {'2-3': 46.75512255828233, '7-9': 32.30237861210842, '10-11': 28.538901663518867, '0-1': 35.517087709439245, '0-2': 51.17852562784512, '2-5': 55.15972203555779, '3-5': 26.5812809322651, '11-12': 24.76573298410529, '5-7': 32.37719839640236, '8-10': 42.19915601810067, '3-4': 23.072183092199992, '7-8': 22.892458496194777, '5-6': 28.625171066039066, '8-9': 27.6671947258843, '6-8': 32.379920582978585, '4-6': 29.7290251276425, '6-7': 27.83287476636216, '9-11': 46.237038548765206, '9-10': 18.723337839178146, '4-5': 26.464402246036077}},\n",
       "      dtype=object)"
      ]
     },
     "execution_count": 221,
     "metadata": {},
     "output_type": "execute_result"
    }
   ],
   "source": [
    "np.array(Toy_diz)"
   ]
  },
  {
   "cell_type": "code",
   "execution_count": null,
   "id": "bearing-trailer",
   "metadata": {},
   "outputs": [],
   "source": []
  }
 ],
 "metadata": {
  "kernelspec": {
   "display_name": "Python (myenv)",
   "language": "python",
   "name": "myenv"
  },
  "language_info": {
   "codemirror_mode": {
    "name": "ipython",
    "version": 3
   },
   "file_extension": ".py",
   "mimetype": "text/x-python",
   "name": "python",
   "nbconvert_exporter": "python",
   "pygments_lexer": "ipython3",
   "version": "3.9.1"
  }
 },
 "nbformat": 4,
 "nbformat_minor": 5
}
