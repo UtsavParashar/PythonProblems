{
 "cells": [
  {
   "cell_type": "code",
   "execution_count": 2,
   "id": "dense-enough",
   "metadata": {},
   "outputs": [],
   "source": [
    "%matplotlib inline\n",
    "import numpy as np\n",
    "import numpy.ma as ma\n",
    "import pandas as pd\n",
    "from pandas import DataFrame, Series\n",
    "import matplotlib.pyplot as plt\n",
    "import seaborn as sns\n",
    "import timeit\n",
    "import line_profiler\n",
    "\n",
    "import datetime\n",
    "\n",
    "from io import StringIO\n",
    "from pandas.api.types import CategoricalDtype\n",
    "\n",
    "import pandas._testing as tm\n",
    "import re"
   ]
  },
  {
   "cell_type": "code",
   "execution_count": 5,
   "id": "lonely-supplement",
   "metadata": {},
   "outputs": [
    {
     "data": {
      "text/plain": [
       "re.compile(r'ab*', re.UNICODE)"
      ]
     },
     "execution_count": 5,
     "metadata": {},
     "output_type": "execute_result"
    }
   ],
   "source": [
    "import re\n",
    "p = re.compile('ab*')\n",
    "p # re.compile(r'ab*', re.UNICODE)"
   ]
  },
  {
   "cell_type": "code",
   "execution_count": 6,
   "id": "powerful-gambling",
   "metadata": {},
   "outputs": [
    {
     "data": {
      "text/plain": [
       "32"
      ]
     },
     "execution_count": 6,
     "metadata": {},
     "output_type": "execute_result"
    }
   ],
   "source": [
    "re.UNICODE.value"
   ]
  },
  {
   "cell_type": "code",
   "execution_count": 29,
   "id": "qualified-awareness",
   "metadata": {},
   "outputs": [
    {
     "name": "stdout",
     "output_type": "stream",
     "text": [
      "<re.Match object; span=(0, 3), match='tem'>\n"
     ]
    }
   ],
   "source": [
    "p = re.compile('[a-t]+')\n",
    "m = p.match(\"temupau\")\n",
    "print(m) # <re.Match object; span=(0, 3), match='tem'>"
   ]
  },
  {
   "cell_type": "code",
   "execution_count": 32,
   "id": "neural-newton",
   "metadata": {},
   "outputs": [
    {
     "data": {
      "text/plain": [
       "(0, 3)"
      ]
     },
     "execution_count": 32,
     "metadata": {},
     "output_type": "execute_result"
    }
   ],
   "source": [
    "m.group() # 'tem'\n",
    "m.start() # 0\n",
    "m.end()   # 3\n",
    "m.span()  # (0, 3)"
   ]
  },
  {
   "cell_type": "code",
   "execution_count": 39,
   "id": "monthly-picking",
   "metadata": {},
   "outputs": [
    {
     "name": "stdout",
     "output_type": "stream",
     "text": [
      "None\n",
      "<re.Match object; span=(4, 11), match='message'>\n"
     ]
    },
    {
     "data": {
      "text/plain": [
       "(4, 11)"
      ]
     },
     "execution_count": 39,
     "metadata": {},
     "output_type": "execute_result"
    }
   ],
   "source": [
    "print(p.match('::: message')) # None\n",
    "m = p.search('::: message'); print(m) #<re.Match object; span=(4, 11), match='message'>\n",
    "m.group() #'message'\n",
    "m.start() # 4\n",
    "m.end() # 11\n",
    "m.span() # (4, 11)"
   ]
  },
  {
   "cell_type": "code",
   "execution_count": 44,
   "id": "perceived-general",
   "metadata": {},
   "outputs": [
    {
     "name": "stdout",
     "output_type": "stream",
     "text": [
      "Matched rame\n"
     ]
    }
   ],
   "source": [
    "p = re.compile(r'[a-r]+')\n",
    "m = p.match('ramesh tau')\n",
    "if m:\n",
    "    print('Matched', m.group())\n",
    "else:\n",
    "    print('No Match')\n",
    "## Output - Matched rame"
   ]
  },
  {
   "cell_type": "code",
   "execution_count": 45,
   "id": "intensive-example",
   "metadata": {},
   "outputs": [
    {
     "data": {
      "text/plain": [
       "['12', '11', '10']"
      ]
     },
     "execution_count": 45,
     "metadata": {},
     "output_type": "execute_result"
    }
   ],
   "source": [
    "p = re.compile(r'\\d+')\n",
    "p.findall('12 drummers drumming, 11 pipers piping, 10 lords a-leaping')"
   ]
  },
  {
   "cell_type": "code",
   "execution_count": 49,
   "id": "academic-photographer",
   "metadata": {},
   "outputs": [
    {
     "name": "stdout",
     "output_type": "stream",
     "text": [
      "12\n",
      "0\n",
      "2\n",
      "(0, 2)\n",
      "11\n",
      "22\n",
      "24\n",
      "(22, 24)\n",
      "10\n",
      "40\n",
      "42\n",
      "(40, 42)\n"
     ]
    }
   ],
   "source": [
    "p = re.compile(r'\\d+')\n",
    "iterator = p.finditer('12 drummers drumming, 11 pipers piping, 10 lords a-leaping')\n",
    "for match in iterator:\n",
    "    print(match.group())\n",
    "    print(match.start())\n",
    "    print(match.end())\n",
    "    print(match.span())"
   ]
  },
  {
   "cell_type": "code",
   "execution_count": 50,
   "id": "dress-attempt",
   "metadata": {},
   "outputs": [
    {
     "data": {
      "text/plain": [
       "<re.Match object; span=(0, 1), match='a'>"
      ]
     },
     "execution_count": 50,
     "metadata": {},
     "output_type": "execute_result"
    }
   ],
   "source": [
    "p = re.compile(r'[a-m]')\n",
    "p.search('allubro')"
   ]
  },
  {
   "cell_type": "code",
   "execution_count": 4,
   "id": "coral-globe",
   "metadata": {},
   "outputs": [
    {
     "name": "stdout",
     "output_type": "stream",
     "text": [
      "None\n",
      "<re.Match object; span=(0, 5), match='From '>\n"
     ]
    }
   ],
   "source": [
    "print(re.match(r'From\\s+', 'Fromage amk')) # None\n",
    "print(re.match(r'From\\s+', 'From 7 till 10')) # <re.Match object; span=(0, 5), match='From '>"
   ]
  },
  {
   "cell_type": "code",
   "execution_count": 6,
   "id": "prostate-warehouse",
   "metadata": {},
   "outputs": [
    {
     "name": "stdout",
     "output_type": "stream",
     "text": [
      "<re.Match object; span=(0, 4), match='From'>\n",
      "None\n"
     ]
    }
   ],
   "source": [
    "print(re.search(r'^From', 'From here to eternity')) # <re.Match object; span=(0, 4), match='From'>\n",
    "print(re.search(r'^From', 'Reciting From Memory')) # None"
   ]
  },
  {
   "cell_type": "code",
   "execution_count": 11,
   "id": "selective-italic",
   "metadata": {},
   "outputs": [
    {
     "name": "stdout",
     "output_type": "stream",
     "text": [
      "None\n",
      "None\n",
      "None\n",
      "<re.Match object; span=(0, 7), match='\\x08class\\x08'>\n"
     ]
    }
   ],
   "source": [
    "p = re.compile('\\bclass\\b')\n",
    "print(p.search('This is my class')) # None\n",
    "print(p.search('THis is declassified')) # None\n",
    "print(p.search('One subclass at a time')) # None\n",
    "print(p.search('\\b' + 'class' + '\\b')) # <re.Match object; span=(0, 7), match='\\x08class\\x08'>"
   ]
  },
  {
   "cell_type": "code",
   "execution_count": 17,
   "id": "irish-world",
   "metadata": {},
   "outputs": [
    {
     "name": "stdout",
     "output_type": "stream",
     "text": [
      "(2, 4)\n"
     ]
    }
   ],
   "source": [
    "p = re.compile('(ab)*')\n",
    "print(p.match('ababbbababb').span(1)) # (2, 4)"
   ]
  },
  {
   "cell_type": "code",
   "execution_count": 23,
   "id": "aging-turning",
   "metadata": {},
   "outputs": [
    {
     "name": "stdout",
     "output_type": "stream",
     "text": [
      "<re.Match object; span=(0, 2), match='ab'>\n",
      "ab\n",
      "a\n"
     ]
    }
   ],
   "source": [
    "p = re.compile('(a)b')\n",
    "print(p.match('ab')) # <re.Match object; span=(0, 2), match='ab'>\n",
    "m = p.match('ab')\n",
    "print(m.group(0)) # ab\n",
    "print(m.group(1)) # a"
   ]
  },
  {
   "cell_type": "code",
   "execution_count": 30,
   "id": "reflected-discharge",
   "metadata": {},
   "outputs": [
    {
     "data": {
      "text/plain": [
       "('abc', 'b')"
      ]
     },
     "execution_count": 30,
     "metadata": {},
     "output_type": "execute_result"
    }
   ],
   "source": [
    "p = re.compile('(a(b)c)d')\n",
    "m = p.match('abcd')\n",
    "m.group() # 'abcd'\n",
    "m.group(1) # 'abc'\n",
    "m.group(2) # b\n",
    "m.group(2,1,2) # ('b', 'abc', 'b')\n",
    "m.groups() # ('abc', 'b')"
   ]
  },
  {
   "cell_type": "code",
   "execution_count": 38,
   "id": "german-radiation",
   "metadata": {},
   "outputs": [
    {
     "data": {
      "text/plain": [
       "'the the'"
      ]
     },
     "execution_count": 38,
     "metadata": {},
     "output_type": "execute_result"
    }
   ],
   "source": [
    "p = re.compile(r'\\b(\\w+)\\s+\\1\\b')\n",
    "p.search('This is the the Paris').group() # 'the the'"
   ]
  },
  {
   "cell_type": "code",
   "execution_count": 40,
   "id": "controversial-oasis",
   "metadata": {},
   "outputs": [
    {
     "data": {
      "text/plain": [
       "()"
      ]
     },
     "execution_count": 40,
     "metadata": {},
     "output_type": "execute_result"
    }
   ],
   "source": [
    "m = re.match(\"([abc])+\", \"abc\")\n",
    "m.groups() # ('c',)\n",
    "m = re.match(\"(?:[abc])+\", \"abc\")\n",
    "m.groups() # ()"
   ]
  },
  {
   "cell_type": "code",
   "execution_count": 45,
   "id": "controlled-planner",
   "metadata": {},
   "outputs": [
    {
     "data": {
      "text/plain": [
       "['This', 'is', 'a', 'test, short and sweet, of split().']"
      ]
     },
     "execution_count": 45,
     "metadata": {},
     "output_type": "execute_result"
    }
   ],
   "source": [
    "p = re.compile(r'\\W+')\n",
    "p.split('This is a test, short and sweet, of split().')\n",
    "p.split('This is a test, short and sweet, of split().', 3)\n"
   ]
  },
  {
   "cell_type": "code",
   "execution_count": 46,
   "id": "falling-making",
   "metadata": {},
   "outputs": [
    {
     "data": {
      "text/plain": [
       "['This', '.... ', 'is', ' ', 'a', ' ', 'test', '.', '']"
      ]
     },
     "execution_count": 46,
     "metadata": {},
     "output_type": "execute_result"
    }
   ],
   "source": [
    "p = re.compile(r'\\W+')\n",
    "p2 = re.compile(r'(\\W+)')\n",
    "\n",
    "p.split('This.... is a test.') # ['This', 'is', 'a', 'test', '']\n",
    "p2.split('This.... is a test.') # ['This', '.... ', 'is', ' ', 'a', ' ', 'test', '.', '']"
   ]
  },
  {
   "cell_type": "code",
   "execution_count": 48,
   "id": "norwegian-layer",
   "metadata": {},
   "outputs": [
    {
     "data": {
      "text/plain": [
       "'color shocks and Red shoes'"
      ]
     },
     "execution_count": 48,
     "metadata": {},
     "output_type": "execute_result"
    }
   ],
   "source": [
    "p = re.compile('(blue|white|red)', re.IGNORECASE)\n",
    "p.sub('color', 'blue shocks and Red shoes', count=1) # 'color shocks and Red shoes'"
   ]
  },
  {
   "cell_type": "code",
   "execution_count": 53,
   "id": "amended-tsunami",
   "metadata": {},
   "outputs": [
    {
     "data": {
      "text/plain": [
       "('color and red', 1)"
      ]
     },
     "execution_count": 53,
     "metadata": {},
     "output_type": "execute_result"
    }
   ],
   "source": [
    "p = re.compile('(blue|white|red)', re.IGNORECASE)\n",
    "p.subn('color', 'blue and red')\n",
    "p.subn('color', 'blue and red', count=1)"
   ]
  },
  {
   "cell_type": "code",
   "execution_count": 55,
   "id": "latin-positive",
   "metadata": {},
   "outputs": [
    {
     "data": {
      "text/plain": [
       "'-a-b--d- -c--'"
      ]
     },
     "execution_count": 55,
     "metadata": {},
     "output_type": "execute_result"
    }
   ],
   "source": [
    "p = re.compile(r'x*')\n",
    "p.sub('-', 'abxd cx')"
   ]
  },
  {
   "cell_type": "code",
   "execution_count": 57,
   "id": "anonymous-marsh",
   "metadata": {},
   "outputs": [
    {
     "data": {
      "text/plain": [
       "'subsection{First} subsection{second}'"
      ]
     },
     "execution_count": 57,
     "metadata": {},
     "output_type": "execute_result"
    }
   ],
   "source": [
    "p = re.compile('section{ ( [^}]* ) }', re.VERBOSE)\n",
    "p.sub(r'subsection{\\1}','section{First} section{second}')"
   ]
  },
  {
   "cell_type": "code",
   "execution_count": null,
   "id": "interstate-louis",
   "metadata": {},
   "outputs": [],
   "source": []
  }
 ],
 "metadata": {
  "kernelspec": {
   "display_name": "Python (myenv)",
   "language": "python",
   "name": "myenv"
  },
  "language_info": {
   "codemirror_mode": {
    "name": "ipython",
    "version": 3
   },
   "file_extension": ".py",
   "mimetype": "text/x-python",
   "name": "python",
   "nbconvert_exporter": "python",
   "pygments_lexer": "ipython3",
   "version": "3.9.1"
  }
 },
 "nbformat": 4,
 "nbformat_minor": 5
}
