{
 "cells": [
  {
   "cell_type": "code",
   "execution_count": 2,
   "id": "5838e91e",
   "metadata": {},
   "outputs": [
    {
     "data": {
      "text/html": [
       "<div>\n",
       "<style scoped>\n",
       "    .dataframe tbody tr th:only-of-type {\n",
       "        vertical-align: middle;\n",
       "    }\n",
       "\n",
       "    .dataframe tbody tr th {\n",
       "        vertical-align: top;\n",
       "    }\n",
       "\n",
       "    .dataframe thead th {\n",
       "        text-align: right;\n",
       "    }\n",
       "</style>\n",
       "<table border=\"1\" class=\"dataframe\">\n",
       "  <thead>\n",
       "    <tr style=\"text-align: right;\">\n",
       "      <th></th>\n",
       "      <th>A</th>\n",
       "      <th>B</th>\n",
       "      <th>C</th>\n",
       "      <th>D</th>\n",
       "    </tr>\n",
       "  </thead>\n",
       "  <tbody>\n",
       "    <tr>\n",
       "      <th>2025-01-01</th>\n",
       "      <td>0.925322</td>\n",
       "      <td>-0.318563</td>\n",
       "      <td>0.344672</td>\n",
       "      <td>1.181691</td>\n",
       "    </tr>\n",
       "    <tr>\n",
       "      <th>2025-01-02</th>\n",
       "      <td>2.130020</td>\n",
       "      <td>-0.506347</td>\n",
       "      <td>0.107688</td>\n",
       "      <td>0.809622</td>\n",
       "    </tr>\n",
       "    <tr>\n",
       "      <th>2025-01-03</th>\n",
       "      <td>-0.534115</td>\n",
       "      <td>1.079316</td>\n",
       "      <td>0.815243</td>\n",
       "      <td>0.964938</td>\n",
       "    </tr>\n",
       "    <tr>\n",
       "      <th>2025-01-04</th>\n",
       "      <td>0.698912</td>\n",
       "      <td>1.492294</td>\n",
       "      <td>0.735679</td>\n",
       "      <td>-0.705812</td>\n",
       "    </tr>\n",
       "    <tr>\n",
       "      <th>2025-01-05</th>\n",
       "      <td>-1.047641</td>\n",
       "      <td>-0.132206</td>\n",
       "      <td>0.382479</td>\n",
       "      <td>-0.256860</td>\n",
       "    </tr>\n",
       "    <tr>\n",
       "      <th>2025-01-06</th>\n",
       "      <td>-0.264538</td>\n",
       "      <td>1.087544</td>\n",
       "      <td>-0.896395</td>\n",
       "      <td>-2.051475</td>\n",
       "    </tr>\n",
       "  </tbody>\n",
       "</table>\n",
       "</div>"
      ],
      "text/plain": [
       "                   A         B         C         D\n",
       "2025-01-01  0.925322 -0.318563  0.344672  1.181691\n",
       "2025-01-02  2.130020 -0.506347  0.107688  0.809622\n",
       "2025-01-03 -0.534115  1.079316  0.815243  0.964938\n",
       "2025-01-04  0.698912  1.492294  0.735679 -0.705812\n",
       "2025-01-05 -1.047641 -0.132206  0.382479 -0.256860\n",
       "2025-01-06 -0.264538  1.087544 -0.896395 -2.051475"
      ]
     },
     "execution_count": 2,
     "metadata": {},
     "output_type": "execute_result"
    }
   ],
   "source": [
    "import pandas as pd\n",
    "import numpy as np\n",
    "\n",
    "\n",
    "dates = pd.date_range(\"20250101\", periods=6)\n",
    "df = pd.DataFrame(np.random.randn(6, 4), index=dates, columns=list('ABCD'))\n",
    "df"
   ]
  },
  {
   "cell_type": "code",
   "execution_count": 3,
   "id": "81c57f98",
   "metadata": {},
   "outputs": [
    {
     "data": {
      "text/html": [
       "<div>\n",
       "<style scoped>\n",
       "    .dataframe tbody tr th:only-of-type {\n",
       "        vertical-align: middle;\n",
       "    }\n",
       "\n",
       "    .dataframe tbody tr th {\n",
       "        vertical-align: top;\n",
       "    }\n",
       "\n",
       "    .dataframe thead th {\n",
       "        text-align: right;\n",
       "    }\n",
       "</style>\n",
       "<table border=\"1\" class=\"dataframe\">\n",
       "  <thead>\n",
       "    <tr style=\"text-align: right;\">\n",
       "      <th></th>\n",
       "      <th>A</th>\n",
       "      <th>B</th>\n",
       "      <th>C</th>\n",
       "      <th>D</th>\n",
       "      <th>E</th>\n",
       "    </tr>\n",
       "  </thead>\n",
       "  <tbody>\n",
       "    <tr>\n",
       "      <th>2025-01-01</th>\n",
       "      <td>0.925322</td>\n",
       "      <td>-0.318563</td>\n",
       "      <td>0.344672</td>\n",
       "      <td>1.181691</td>\n",
       "      <td>1.0</td>\n",
       "    </tr>\n",
       "    <tr>\n",
       "      <th>2025-01-02</th>\n",
       "      <td>2.130020</td>\n",
       "      <td>-0.506347</td>\n",
       "      <td>0.107688</td>\n",
       "      <td>0.809622</td>\n",
       "      <td>1.0</td>\n",
       "    </tr>\n",
       "    <tr>\n",
       "      <th>2025-01-03</th>\n",
       "      <td>-0.534115</td>\n",
       "      <td>1.079316</td>\n",
       "      <td>0.815243</td>\n",
       "      <td>0.964938</td>\n",
       "      <td>NaN</td>\n",
       "    </tr>\n",
       "    <tr>\n",
       "      <th>2025-01-04</th>\n",
       "      <td>0.698912</td>\n",
       "      <td>1.492294</td>\n",
       "      <td>0.735679</td>\n",
       "      <td>-0.705812</td>\n",
       "      <td>NaN</td>\n",
       "    </tr>\n",
       "  </tbody>\n",
       "</table>\n",
       "</div>"
      ],
      "text/plain": [
       "                   A         B         C         D    E\n",
       "2025-01-01  0.925322 -0.318563  0.344672  1.181691  1.0\n",
       "2025-01-02  2.130020 -0.506347  0.107688  0.809622  1.0\n",
       "2025-01-03 -0.534115  1.079316  0.815243  0.964938  NaN\n",
       "2025-01-04  0.698912  1.492294  0.735679 -0.705812  NaN"
      ]
     },
     "execution_count": 3,
     "metadata": {},
     "output_type": "execute_result"
    }
   ],
   "source": [
    "df1 = df.reindex(index=dates[0: 4], columns=list(df.columns) + ['E'])\n",
    "df1.iloc[0:2,4] = 1\n",
    "df1"
   ]
  },
  {
   "cell_type": "code",
   "execution_count": 4,
   "id": "12fd641d",
   "metadata": {},
   "outputs": [
    {
     "data": {
      "text/html": [
       "<div>\n",
       "<style scoped>\n",
       "    .dataframe tbody tr th:only-of-type {\n",
       "        vertical-align: middle;\n",
       "    }\n",
       "\n",
       "    .dataframe tbody tr th {\n",
       "        vertical-align: top;\n",
       "    }\n",
       "\n",
       "    .dataframe thead th {\n",
       "        text-align: right;\n",
       "    }\n",
       "</style>\n",
       "<table border=\"1\" class=\"dataframe\">\n",
       "  <thead>\n",
       "    <tr style=\"text-align: right;\">\n",
       "      <th></th>\n",
       "      <th>A</th>\n",
       "      <th>B</th>\n",
       "      <th>C</th>\n",
       "      <th>D</th>\n",
       "      <th>E</th>\n",
       "    </tr>\n",
       "  </thead>\n",
       "  <tbody>\n",
       "    <tr>\n",
       "      <th>2025-01-01</th>\n",
       "      <td>0.925322</td>\n",
       "      <td>-0.318563</td>\n",
       "      <td>0.344672</td>\n",
       "      <td>1.181691</td>\n",
       "      <td>1.0</td>\n",
       "    </tr>\n",
       "    <tr>\n",
       "      <th>2025-01-02</th>\n",
       "      <td>2.130020</td>\n",
       "      <td>-0.506347</td>\n",
       "      <td>0.107688</td>\n",
       "      <td>0.809622</td>\n",
       "      <td>1.0</td>\n",
       "    </tr>\n",
       "  </tbody>\n",
       "</table>\n",
       "</div>"
      ],
      "text/plain": [
       "                   A         B         C         D    E\n",
       "2025-01-01  0.925322 -0.318563  0.344672  1.181691  1.0\n",
       "2025-01-02  2.130020 -0.506347  0.107688  0.809622  1.0"
      ]
     },
     "execution_count": 4,
     "metadata": {},
     "output_type": "execute_result"
    }
   ],
   "source": [
    "df1.dropna()"
   ]
  },
  {
   "cell_type": "code",
   "execution_count": 5,
   "id": "232089e7",
   "metadata": {},
   "outputs": [
    {
     "data": {
      "text/html": [
       "<div>\n",
       "<style scoped>\n",
       "    .dataframe tbody tr th:only-of-type {\n",
       "        vertical-align: middle;\n",
       "    }\n",
       "\n",
       "    .dataframe tbody tr th {\n",
       "        vertical-align: top;\n",
       "    }\n",
       "\n",
       "    .dataframe thead th {\n",
       "        text-align: right;\n",
       "    }\n",
       "</style>\n",
       "<table border=\"1\" class=\"dataframe\">\n",
       "  <thead>\n",
       "    <tr style=\"text-align: right;\">\n",
       "      <th></th>\n",
       "      <th>A</th>\n",
       "      <th>B</th>\n",
       "      <th>C</th>\n",
       "      <th>D</th>\n",
       "      <th>E</th>\n",
       "    </tr>\n",
       "  </thead>\n",
       "  <tbody>\n",
       "    <tr>\n",
       "      <th>2025-01-01</th>\n",
       "      <td>0.925322</td>\n",
       "      <td>-0.318563</td>\n",
       "      <td>0.344672</td>\n",
       "      <td>1.181691</td>\n",
       "      <td>1.0</td>\n",
       "    </tr>\n",
       "    <tr>\n",
       "      <th>2025-01-02</th>\n",
       "      <td>2.130020</td>\n",
       "      <td>-0.506347</td>\n",
       "      <td>0.107688</td>\n",
       "      <td>0.809622</td>\n",
       "      <td>1.0</td>\n",
       "    </tr>\n",
       "    <tr>\n",
       "      <th>2025-01-03</th>\n",
       "      <td>-0.534115</td>\n",
       "      <td>1.079316</td>\n",
       "      <td>0.815243</td>\n",
       "      <td>0.964938</td>\n",
       "      <td>5.0</td>\n",
       "    </tr>\n",
       "    <tr>\n",
       "      <th>2025-01-04</th>\n",
       "      <td>0.698912</td>\n",
       "      <td>1.492294</td>\n",
       "      <td>0.735679</td>\n",
       "      <td>-0.705812</td>\n",
       "      <td>5.0</td>\n",
       "    </tr>\n",
       "  </tbody>\n",
       "</table>\n",
       "</div>"
      ],
      "text/plain": [
       "                   A         B         C         D    E\n",
       "2025-01-01  0.925322 -0.318563  0.344672  1.181691  1.0\n",
       "2025-01-02  2.130020 -0.506347  0.107688  0.809622  1.0\n",
       "2025-01-03 -0.534115  1.079316  0.815243  0.964938  5.0\n",
       "2025-01-04  0.698912  1.492294  0.735679 -0.705812  5.0"
      ]
     },
     "execution_count": 5,
     "metadata": {},
     "output_type": "execute_result"
    }
   ],
   "source": [
    "df1.fillna(5)"
   ]
  },
  {
   "cell_type": "code",
   "execution_count": 6,
   "id": "3e45f7c5",
   "metadata": {},
   "outputs": [
    {
     "data": {
      "text/plain": [
       "2025-01-01    NaN\n",
       "2025-01-02    NaN\n",
       "2025-01-03    1.0\n",
       "2025-01-04    3.0\n",
       "2025-01-05    1.0\n",
       "2025-01-06    NaN\n",
       "Freq: D, dtype: float64"
      ]
     },
     "execution_count": 6,
     "metadata": {},
     "output_type": "execute_result"
    }
   ],
   "source": [
    "s = pd.Series([1, 3, 1, np.nan, 6, 8], index=dates).shift(2)\n",
    "s"
   ]
  },
  {
   "cell_type": "code",
   "execution_count": 7,
   "id": "016be969",
   "metadata": {},
   "outputs": [
    {
     "data": {
      "text/html": [
       "<div>\n",
       "<style scoped>\n",
       "    .dataframe tbody tr th:only-of-type {\n",
       "        vertical-align: middle;\n",
       "    }\n",
       "\n",
       "    .dataframe tbody tr th {\n",
       "        vertical-align: top;\n",
       "    }\n",
       "\n",
       "    .dataframe thead th {\n",
       "        text-align: right;\n",
       "    }\n",
       "</style>\n",
       "<table border=\"1\" class=\"dataframe\">\n",
       "  <thead>\n",
       "    <tr style=\"text-align: right;\">\n",
       "      <th></th>\n",
       "      <th>A</th>\n",
       "      <th>B</th>\n",
       "      <th>C</th>\n",
       "      <th>D</th>\n",
       "    </tr>\n",
       "  </thead>\n",
       "  <tbody>\n",
       "    <tr>\n",
       "      <th>2025-01-01</th>\n",
       "      <td>0.925322</td>\n",
       "      <td>-0.318563</td>\n",
       "      <td>0.344672</td>\n",
       "      <td>1.181691</td>\n",
       "    </tr>\n",
       "    <tr>\n",
       "      <th>2025-01-02</th>\n",
       "      <td>2.130020</td>\n",
       "      <td>-0.506347</td>\n",
       "      <td>0.107688</td>\n",
       "      <td>0.809622</td>\n",
       "    </tr>\n",
       "    <tr>\n",
       "      <th>2025-01-03</th>\n",
       "      <td>-0.534115</td>\n",
       "      <td>1.079316</td>\n",
       "      <td>0.815243</td>\n",
       "      <td>0.964938</td>\n",
       "    </tr>\n",
       "    <tr>\n",
       "      <th>2025-01-04</th>\n",
       "      <td>0.698912</td>\n",
       "      <td>1.492294</td>\n",
       "      <td>0.735679</td>\n",
       "      <td>-0.705812</td>\n",
       "    </tr>\n",
       "    <tr>\n",
       "      <th>2025-01-05</th>\n",
       "      <td>-1.047641</td>\n",
       "      <td>-0.132206</td>\n",
       "      <td>0.382479</td>\n",
       "      <td>-0.256860</td>\n",
       "    </tr>\n",
       "    <tr>\n",
       "      <th>2025-01-06</th>\n",
       "      <td>-0.264538</td>\n",
       "      <td>1.087544</td>\n",
       "      <td>-0.896395</td>\n",
       "      <td>-2.051475</td>\n",
       "    </tr>\n",
       "  </tbody>\n",
       "</table>\n",
       "</div>"
      ],
      "text/plain": [
       "                   A         B         C         D\n",
       "2025-01-01  0.925322 -0.318563  0.344672  1.181691\n",
       "2025-01-02  2.130020 -0.506347  0.107688  0.809622\n",
       "2025-01-03 -0.534115  1.079316  0.815243  0.964938\n",
       "2025-01-04  0.698912  1.492294  0.735679 -0.705812\n",
       "2025-01-05 -1.047641 -0.132206  0.382479 -0.256860\n",
       "2025-01-06 -0.264538  1.087544 -0.896395 -2.051475"
      ]
     },
     "execution_count": 7,
     "metadata": {},
     "output_type": "execute_result"
    }
   ],
   "source": [
    "df"
   ]
  },
  {
   "cell_type": "code",
   "execution_count": 8,
   "id": "05a8e101",
   "metadata": {},
   "outputs": [
    {
     "data": {
      "text/html": [
       "<div>\n",
       "<style scoped>\n",
       "    .dataframe tbody tr th:only-of-type {\n",
       "        vertical-align: middle;\n",
       "    }\n",
       "\n",
       "    .dataframe tbody tr th {\n",
       "        vertical-align: top;\n",
       "    }\n",
       "\n",
       "    .dataframe thead th {\n",
       "        text-align: right;\n",
       "    }\n",
       "</style>\n",
       "<table border=\"1\" class=\"dataframe\">\n",
       "  <thead>\n",
       "    <tr style=\"text-align: right;\">\n",
       "      <th></th>\n",
       "      <th>A</th>\n",
       "      <th>B</th>\n",
       "      <th>C</th>\n",
       "      <th>D</th>\n",
       "    </tr>\n",
       "  </thead>\n",
       "  <tbody>\n",
       "    <tr>\n",
       "      <th>2025-01-01</th>\n",
       "      <td>NaN</td>\n",
       "      <td>NaN</td>\n",
       "      <td>NaN</td>\n",
       "      <td>NaN</td>\n",
       "    </tr>\n",
       "    <tr>\n",
       "      <th>2025-01-02</th>\n",
       "      <td>NaN</td>\n",
       "      <td>NaN</td>\n",
       "      <td>NaN</td>\n",
       "      <td>NaN</td>\n",
       "    </tr>\n",
       "    <tr>\n",
       "      <th>2025-01-03</th>\n",
       "      <td>-1.534115</td>\n",
       "      <td>0.079316</td>\n",
       "      <td>-0.184757</td>\n",
       "      <td>-0.035062</td>\n",
       "    </tr>\n",
       "    <tr>\n",
       "      <th>2025-01-04</th>\n",
       "      <td>-2.301088</td>\n",
       "      <td>-1.507706</td>\n",
       "      <td>-2.264321</td>\n",
       "      <td>-3.705812</td>\n",
       "    </tr>\n",
       "    <tr>\n",
       "      <th>2025-01-05</th>\n",
       "      <td>-2.047641</td>\n",
       "      <td>-1.132206</td>\n",
       "      <td>-0.617521</td>\n",
       "      <td>-1.256860</td>\n",
       "    </tr>\n",
       "    <tr>\n",
       "      <th>2025-01-06</th>\n",
       "      <td>NaN</td>\n",
       "      <td>NaN</td>\n",
       "      <td>NaN</td>\n",
       "      <td>NaN</td>\n",
       "    </tr>\n",
       "  </tbody>\n",
       "</table>\n",
       "</div>"
      ],
      "text/plain": [
       "                   A         B         C         D\n",
       "2025-01-01       NaN       NaN       NaN       NaN\n",
       "2025-01-02       NaN       NaN       NaN       NaN\n",
       "2025-01-03 -1.534115  0.079316 -0.184757 -0.035062\n",
       "2025-01-04 -2.301088 -1.507706 -2.264321 -3.705812\n",
       "2025-01-05 -2.047641 -1.132206 -0.617521 -1.256860\n",
       "2025-01-06       NaN       NaN       NaN       NaN"
      ]
     },
     "execution_count": 8,
     "metadata": {},
     "output_type": "execute_result"
    }
   ],
   "source": [
    "df.sub(s, axis=\"index\")"
   ]
  },
  {
   "cell_type": "code",
   "execution_count": 9,
   "id": "15a4785f",
   "metadata": {},
   "outputs": [
    {
     "data": {
      "text/html": [
       "<div>\n",
       "<style scoped>\n",
       "    .dataframe tbody tr th:only-of-type {\n",
       "        vertical-align: middle;\n",
       "    }\n",
       "\n",
       "    .dataframe tbody tr th {\n",
       "        vertical-align: top;\n",
       "    }\n",
       "\n",
       "    .dataframe thead th {\n",
       "        text-align: right;\n",
       "    }\n",
       "</style>\n",
       "<table border=\"1\" class=\"dataframe\">\n",
       "  <thead>\n",
       "    <tr style=\"text-align: right;\">\n",
       "      <th></th>\n",
       "      <th>A</th>\n",
       "      <th>B</th>\n",
       "      <th>C</th>\n",
       "      <th>D</th>\n",
       "    </tr>\n",
       "  </thead>\n",
       "  <tbody>\n",
       "    <tr>\n",
       "      <th>2025-01-01</th>\n",
       "      <td>0.925322</td>\n",
       "      <td>-0.318563</td>\n",
       "      <td>0.344672</td>\n",
       "      <td>1.181691</td>\n",
       "    </tr>\n",
       "    <tr>\n",
       "      <th>2025-01-02</th>\n",
       "      <td>2.130020</td>\n",
       "      <td>-0.506347</td>\n",
       "      <td>0.107688</td>\n",
       "      <td>0.809622</td>\n",
       "    </tr>\n",
       "    <tr>\n",
       "      <th>2025-01-03</th>\n",
       "      <td>-0.534115</td>\n",
       "      <td>1.079316</td>\n",
       "      <td>0.815243</td>\n",
       "      <td>0.964938</td>\n",
       "    </tr>\n",
       "    <tr>\n",
       "      <th>2025-01-04</th>\n",
       "      <td>0.698912</td>\n",
       "      <td>1.492294</td>\n",
       "      <td>0.735679</td>\n",
       "      <td>-0.705812</td>\n",
       "    </tr>\n",
       "    <tr>\n",
       "      <th>2025-01-05</th>\n",
       "      <td>-1.047641</td>\n",
       "      <td>-0.132206</td>\n",
       "      <td>0.382479</td>\n",
       "      <td>-0.256860</td>\n",
       "    </tr>\n",
       "    <tr>\n",
       "      <th>2025-01-06</th>\n",
       "      <td>-0.264538</td>\n",
       "      <td>1.087544</td>\n",
       "      <td>-0.896395</td>\n",
       "      <td>-2.051475</td>\n",
       "    </tr>\n",
       "  </tbody>\n",
       "</table>\n",
       "</div>"
      ],
      "text/plain": [
       "                   A         B         C         D\n",
       "2025-01-01  0.925322 -0.318563  0.344672  1.181691\n",
       "2025-01-02  2.130020 -0.506347  0.107688  0.809622\n",
       "2025-01-03 -0.534115  1.079316  0.815243  0.964938\n",
       "2025-01-04  0.698912  1.492294  0.735679 -0.705812\n",
       "2025-01-05 -1.047641 -0.132206  0.382479 -0.256860\n",
       "2025-01-06 -0.264538  1.087544 -0.896395 -2.051475"
      ]
     },
     "execution_count": 9,
     "metadata": {},
     "output_type": "execute_result"
    }
   ],
   "source": [
    "df"
   ]
  },
  {
   "cell_type": "code",
   "execution_count": 10,
   "id": "f85758e5",
   "metadata": {},
   "outputs": [
    {
     "data": {
      "text/plain": [
       "2025-01-01     92.532204\n",
       "2025-01-02    213.001975\n",
       "2025-01-03    -53.411461\n",
       "2025-01-04     69.891199\n",
       "2025-01-05   -104.764128\n",
       "2025-01-06    -26.453774\n",
       "Freq: D, Name: A, dtype: float64"
      ]
     },
     "execution_count": 10,
     "metadata": {},
     "output_type": "execute_result"
    }
   ],
   "source": [
    "df.A.transform(lambda x: x*100)"
   ]
  },
  {
   "cell_type": "code",
   "execution_count": 11,
   "id": "401f0783",
   "metadata": {},
   "outputs": [
    {
     "data": {
      "text/plain": [
       "A    31.799336\n",
       "B    45.033943\n",
       "C    24.822748\n",
       "D    -0.964941\n",
       "dtype: float64"
      ]
     },
     "execution_count": 11,
     "metadata": {},
     "output_type": "execute_result"
    }
   ],
   "source": [
    "df.agg(lambda x: np.mean(x) * 100)"
   ]
  },
  {
   "cell_type": "code",
   "execution_count": 12,
   "id": "3e092b8f",
   "metadata": {},
   "outputs": [
    {
     "data": {
      "text/plain": [
       "A          B          C          D        \n",
       "-1.047641  -0.132206   0.382479  -0.256860    2\n",
       "-0.534115   1.079316   0.815243   0.964938    2\n",
       "-0.264538   1.087544  -0.896395  -2.051475    2\n",
       " 0.698912   1.492294   0.735679  -0.705812    2\n",
       " 0.925322  -0.318563   0.344672   1.181691    2\n",
       " 2.130020  -0.506347   0.107688   0.809622    2\n",
       "Name: count, dtype: int64"
      ]
     },
     "execution_count": 12,
     "metadata": {},
     "output_type": "execute_result"
    }
   ],
   "source": [
    "pd.concat([df, df]).value_counts()"
   ]
  },
  {
   "cell_type": "code",
   "execution_count": 13,
   "id": "ca406308",
   "metadata": {},
   "outputs": [
    {
     "data": {
      "text/plain": [
       "0       A\n",
       "1       B\n",
       "2       C\n",
       "3    Aaba\n",
       "4    Baca\n",
       "5     NaN\n",
       "6    CABA\n",
       "7     dog\n",
       "8     cat\n",
       "dtype: object"
      ]
     },
     "execution_count": 13,
     "metadata": {},
     "output_type": "execute_result"
    }
   ],
   "source": [
    "s = pd.Series([\"A\", \"B\", \"C\", \"Aaba\", \"Baca\", np.nan, \"CABA\", \"dog\", \"cat\"])\n",
    "s"
   ]
  },
  {
   "cell_type": "code",
   "execution_count": 14,
   "id": "79908057",
   "metadata": {},
   "outputs": [
    {
     "data": {
      "text/plain": [
       "0       a\n",
       "1       b\n",
       "2       c\n",
       "3    aaba\n",
       "4    baca\n",
       "5     NaN\n",
       "6    caba\n",
       "7     dog\n",
       "8     cat\n",
       "dtype: object"
      ]
     },
     "execution_count": 14,
     "metadata": {},
     "output_type": "execute_result"
    }
   ],
   "source": [
    "s.str.lower()"
   ]
  },
  {
   "cell_type": "code",
   "execution_count": 15,
   "id": "19fe35ff",
   "metadata": {},
   "outputs": [
    {
     "data": {
      "text/html": [
       "<div>\n",
       "<style scoped>\n",
       "    .dataframe tbody tr th:only-of-type {\n",
       "        vertical-align: middle;\n",
       "    }\n",
       "\n",
       "    .dataframe tbody tr th {\n",
       "        vertical-align: top;\n",
       "    }\n",
       "\n",
       "    .dataframe thead th {\n",
       "        text-align: right;\n",
       "    }\n",
       "</style>\n",
       "<table border=\"1\" class=\"dataframe\">\n",
       "  <thead>\n",
       "    <tr style=\"text-align: right;\">\n",
       "      <th></th>\n",
       "      <th>a</th>\n",
       "      <th>b</th>\n",
       "      <th>c</th>\n",
       "      <th>d</th>\n",
       "    </tr>\n",
       "  </thead>\n",
       "  <tbody>\n",
       "    <tr>\n",
       "      <th>2025-01-01</th>\n",
       "      <td>0.925322</td>\n",
       "      <td>-0.318563</td>\n",
       "      <td>0.344672</td>\n",
       "      <td>1.181691</td>\n",
       "    </tr>\n",
       "    <tr>\n",
       "      <th>2025-01-02</th>\n",
       "      <td>2.130020</td>\n",
       "      <td>-0.506347</td>\n",
       "      <td>0.107688</td>\n",
       "      <td>0.809622</td>\n",
       "    </tr>\n",
       "    <tr>\n",
       "      <th>2025-01-03</th>\n",
       "      <td>-0.534115</td>\n",
       "      <td>1.079316</td>\n",
       "      <td>0.815243</td>\n",
       "      <td>0.964938</td>\n",
       "    </tr>\n",
       "    <tr>\n",
       "      <th>2025-01-04</th>\n",
       "      <td>0.698912</td>\n",
       "      <td>1.492294</td>\n",
       "      <td>0.735679</td>\n",
       "      <td>-0.705812</td>\n",
       "    </tr>\n",
       "    <tr>\n",
       "      <th>2025-01-05</th>\n",
       "      <td>-1.047641</td>\n",
       "      <td>-0.132206</td>\n",
       "      <td>0.382479</td>\n",
       "      <td>-0.256860</td>\n",
       "    </tr>\n",
       "    <tr>\n",
       "      <th>2025-01-06</th>\n",
       "      <td>-0.264538</td>\n",
       "      <td>1.087544</td>\n",
       "      <td>-0.896395</td>\n",
       "      <td>-2.051475</td>\n",
       "    </tr>\n",
       "  </tbody>\n",
       "</table>\n",
       "</div>"
      ],
      "text/plain": [
       "                   a         b         c         d\n",
       "2025-01-01  0.925322 -0.318563  0.344672  1.181691\n",
       "2025-01-02  2.130020 -0.506347  0.107688  0.809622\n",
       "2025-01-03 -0.534115  1.079316  0.815243  0.964938\n",
       "2025-01-04  0.698912  1.492294  0.735679 -0.705812\n",
       "2025-01-05 -1.047641 -0.132206  0.382479 -0.256860\n",
       "2025-01-06 -0.264538  1.087544 -0.896395 -2.051475"
      ]
     },
     "execution_count": 15,
     "metadata": {},
     "output_type": "execute_result"
    }
   ],
   "source": [
    "df1 = df.copy(deep=True)\n",
    "df1.columns = df.columns.str.lower()\n",
    "df1"
   ]
  },
  {
   "cell_type": "code",
   "execution_count": 16,
   "id": "022387fe",
   "metadata": {},
   "outputs": [
    {
     "data": {
      "text/html": [
       "<div>\n",
       "<style scoped>\n",
       "    .dataframe tbody tr th:only-of-type {\n",
       "        vertical-align: middle;\n",
       "    }\n",
       "\n",
       "    .dataframe tbody tr th {\n",
       "        vertical-align: top;\n",
       "    }\n",
       "\n",
       "    .dataframe thead th {\n",
       "        text-align: right;\n",
       "    }\n",
       "</style>\n",
       "<table border=\"1\" class=\"dataframe\">\n",
       "  <thead>\n",
       "    <tr style=\"text-align: right;\">\n",
       "      <th></th>\n",
       "      <th>A</th>\n",
       "      <th>B</th>\n",
       "      <th>C</th>\n",
       "      <th>D</th>\n",
       "      <th>a</th>\n",
       "      <th>b</th>\n",
       "      <th>c</th>\n",
       "      <th>d</th>\n",
       "    </tr>\n",
       "  </thead>\n",
       "  <tbody>\n",
       "    <tr>\n",
       "      <th>2025-01-01</th>\n",
       "      <td>0.925322</td>\n",
       "      <td>-0.318563</td>\n",
       "      <td>0.344672</td>\n",
       "      <td>1.181691</td>\n",
       "      <td>0.925322</td>\n",
       "      <td>-0.318563</td>\n",
       "      <td>0.344672</td>\n",
       "      <td>1.181691</td>\n",
       "    </tr>\n",
       "    <tr>\n",
       "      <th>2025-01-02</th>\n",
       "      <td>2.130020</td>\n",
       "      <td>-0.506347</td>\n",
       "      <td>0.107688</td>\n",
       "      <td>0.809622</td>\n",
       "      <td>2.130020</td>\n",
       "      <td>-0.506347</td>\n",
       "      <td>0.107688</td>\n",
       "      <td>0.809622</td>\n",
       "    </tr>\n",
       "    <tr>\n",
       "      <th>2025-01-03</th>\n",
       "      <td>-0.534115</td>\n",
       "      <td>1.079316</td>\n",
       "      <td>0.815243</td>\n",
       "      <td>0.964938</td>\n",
       "      <td>-0.534115</td>\n",
       "      <td>1.079316</td>\n",
       "      <td>0.815243</td>\n",
       "      <td>0.964938</td>\n",
       "    </tr>\n",
       "    <tr>\n",
       "      <th>2025-01-04</th>\n",
       "      <td>0.698912</td>\n",
       "      <td>1.492294</td>\n",
       "      <td>0.735679</td>\n",
       "      <td>-0.705812</td>\n",
       "      <td>0.698912</td>\n",
       "      <td>1.492294</td>\n",
       "      <td>0.735679</td>\n",
       "      <td>-0.705812</td>\n",
       "    </tr>\n",
       "    <tr>\n",
       "      <th>2025-01-05</th>\n",
       "      <td>-1.047641</td>\n",
       "      <td>-0.132206</td>\n",
       "      <td>0.382479</td>\n",
       "      <td>-0.256860</td>\n",
       "      <td>-1.047641</td>\n",
       "      <td>-0.132206</td>\n",
       "      <td>0.382479</td>\n",
       "      <td>-0.256860</td>\n",
       "    </tr>\n",
       "    <tr>\n",
       "      <th>2025-01-06</th>\n",
       "      <td>-0.264538</td>\n",
       "      <td>1.087544</td>\n",
       "      <td>-0.896395</td>\n",
       "      <td>-2.051475</td>\n",
       "      <td>-0.264538</td>\n",
       "      <td>1.087544</td>\n",
       "      <td>-0.896395</td>\n",
       "      <td>-2.051475</td>\n",
       "    </tr>\n",
       "  </tbody>\n",
       "</table>\n",
       "</div>"
      ],
      "text/plain": [
       "                   A         B         C         D         a         b  \\\n",
       "2025-01-01  0.925322 -0.318563  0.344672  1.181691  0.925322 -0.318563   \n",
       "2025-01-02  2.130020 -0.506347  0.107688  0.809622  2.130020 -0.506347   \n",
       "2025-01-03 -0.534115  1.079316  0.815243  0.964938 -0.534115  1.079316   \n",
       "2025-01-04  0.698912  1.492294  0.735679 -0.705812  0.698912  1.492294   \n",
       "2025-01-05 -1.047641 -0.132206  0.382479 -0.256860 -1.047641 -0.132206   \n",
       "2025-01-06 -0.264538  1.087544 -0.896395 -2.051475 -0.264538  1.087544   \n",
       "\n",
       "                   c         d  \n",
       "2025-01-01  0.344672  1.181691  \n",
       "2025-01-02  0.107688  0.809622  \n",
       "2025-01-03  0.815243  0.964938  \n",
       "2025-01-04  0.735679 -0.705812  \n",
       "2025-01-05  0.382479 -0.256860  \n",
       "2025-01-06 -0.896395 -2.051475  "
      ]
     },
     "execution_count": 16,
     "metadata": {},
     "output_type": "execute_result"
    }
   ],
   "source": [
    "df.join(df1)"
   ]
  },
  {
   "cell_type": "code",
   "execution_count": 17,
   "id": "2acae4e0",
   "metadata": {},
   "outputs": [
    {
     "data": {
      "text/html": [
       "<div>\n",
       "<style scoped>\n",
       "    .dataframe tbody tr th:only-of-type {\n",
       "        vertical-align: middle;\n",
       "    }\n",
       "\n",
       "    .dataframe tbody tr th {\n",
       "        vertical-align: top;\n",
       "    }\n",
       "\n",
       "    .dataframe thead th {\n",
       "        text-align: right;\n",
       "    }\n",
       "</style>\n",
       "<table border=\"1\" class=\"dataframe\">\n",
       "  <thead>\n",
       "    <tr style=\"text-align: right;\">\n",
       "      <th></th>\n",
       "      <th>key</th>\n",
       "      <th>lval</th>\n",
       "      <th>rval</th>\n",
       "    </tr>\n",
       "  </thead>\n",
       "  <tbody>\n",
       "    <tr>\n",
       "      <th>0</th>\n",
       "      <td>foo</td>\n",
       "      <td>1</td>\n",
       "      <td>4</td>\n",
       "    </tr>\n",
       "    <tr>\n",
       "      <th>1</th>\n",
       "      <td>bar</td>\n",
       "      <td>2</td>\n",
       "      <td>5</td>\n",
       "    </tr>\n",
       "  </tbody>\n",
       "</table>\n",
       "</div>"
      ],
      "text/plain": [
       "   key  lval  rval\n",
       "0  foo     1     4\n",
       "1  bar     2     5"
      ]
     },
     "execution_count": 17,
     "metadata": {},
     "output_type": "execute_result"
    }
   ],
   "source": [
    "left = pd.DataFrame({\"key\": [\"foo\", \"bar\"], \"lval\": [1, 2]})\n",
    "right = pd.DataFrame({\"key\": [\"foo\", \"bar\"], \"rval\": [4, 5]})\n",
    "\n",
    "left.merge(right, on='key', how='inner')"
   ]
  },
  {
   "cell_type": "code",
   "execution_count": 18,
   "id": "8e77393c",
   "metadata": {},
   "outputs": [
    {
     "data": {
      "text/html": [
       "<div>\n",
       "<style scoped>\n",
       "    .dataframe tbody tr th:only-of-type {\n",
       "        vertical-align: middle;\n",
       "    }\n",
       "\n",
       "    .dataframe tbody tr th {\n",
       "        vertical-align: top;\n",
       "    }\n",
       "\n",
       "    .dataframe thead th {\n",
       "        text-align: right;\n",
       "    }\n",
       "</style>\n",
       "<table border=\"1\" class=\"dataframe\">\n",
       "  <thead>\n",
       "    <tr style=\"text-align: right;\">\n",
       "      <th></th>\n",
       "      <th>k1</th>\n",
       "      <th>k2</th>\n",
       "    </tr>\n",
       "  </thead>\n",
       "  <tbody>\n",
       "    <tr>\n",
       "      <th>0</th>\n",
       "      <td>one</td>\n",
       "      <td>1</td>\n",
       "    </tr>\n",
       "    <tr>\n",
       "      <th>1</th>\n",
       "      <td>two</td>\n",
       "      <td>1</td>\n",
       "    </tr>\n",
       "    <tr>\n",
       "      <th>2</th>\n",
       "      <td>one</td>\n",
       "      <td>2</td>\n",
       "    </tr>\n",
       "    <tr>\n",
       "      <th>3</th>\n",
       "      <td>two</td>\n",
       "      <td>3</td>\n",
       "    </tr>\n",
       "    <tr>\n",
       "      <th>4</th>\n",
       "      <td>one</td>\n",
       "      <td>3</td>\n",
       "    </tr>\n",
       "    <tr>\n",
       "      <th>5</th>\n",
       "      <td>two</td>\n",
       "      <td>4</td>\n",
       "    </tr>\n",
       "    <tr>\n",
       "      <th>6</th>\n",
       "      <td>two</td>\n",
       "      <td>4</td>\n",
       "    </tr>\n",
       "  </tbody>\n",
       "</table>\n",
       "</div>"
      ],
      "text/plain": [
       "    k1  k2\n",
       "0  one   1\n",
       "1  two   1\n",
       "2  one   2\n",
       "3  two   3\n",
       "4  one   3\n",
       "5  two   4\n",
       "6  two   4"
      ]
     },
     "execution_count": 18,
     "metadata": {},
     "output_type": "execute_result"
    }
   ],
   "source": [
    "data = pd.DataFrame({\"k1\": [\"one\", \"two\"] * 3 + [\"two\"],\"k2\": [1, 1, 2, 3, 3, 4, 4]})\n",
    "data"
   ]
  },
  {
   "cell_type": "code",
   "execution_count": 25,
   "id": "6224197f",
   "metadata": {},
   "outputs": [
    {
     "data": {
      "text/html": [
       "<div>\n",
       "<style scoped>\n",
       "    .dataframe tbody tr th:only-of-type {\n",
       "        vertical-align: middle;\n",
       "    }\n",
       "\n",
       "    .dataframe tbody tr th {\n",
       "        vertical-align: top;\n",
       "    }\n",
       "\n",
       "    .dataframe thead th {\n",
       "        text-align: right;\n",
       "    }\n",
       "</style>\n",
       "<table border=\"1\" class=\"dataframe\">\n",
       "  <thead>\n",
       "    <tr style=\"text-align: right;\">\n",
       "      <th></th>\n",
       "      <th>k1</th>\n",
       "      <th>k2</th>\n",
       "    </tr>\n",
       "  </thead>\n",
       "  <tbody>\n",
       "    <tr>\n",
       "      <th>0</th>\n",
       "      <td>one</td>\n",
       "      <td>1</td>\n",
       "    </tr>\n",
       "    <tr>\n",
       "      <th>1</th>\n",
       "      <td>two</td>\n",
       "      <td>1</td>\n",
       "    </tr>\n",
       "  </tbody>\n",
       "</table>\n",
       "</div>"
      ],
      "text/plain": [
       "    k1  k2\n",
       "0  one   1\n",
       "1  two   1"
      ]
     },
     "execution_count": 25,
     "metadata": {},
     "output_type": "execute_result"
    }
   ],
   "source": [
    "data[~data.k1.duplicated()]"
   ]
  },
  {
   "cell_type": "code",
   "execution_count": 28,
   "id": "1955bf59",
   "metadata": {},
   "outputs": [
    {
     "data": {
      "text/html": [
       "<div>\n",
       "<style scoped>\n",
       "    .dataframe tbody tr th:only-of-type {\n",
       "        vertical-align: middle;\n",
       "    }\n",
       "\n",
       "    .dataframe tbody tr th {\n",
       "        vertical-align: top;\n",
       "    }\n",
       "\n",
       "    .dataframe thead th {\n",
       "        text-align: right;\n",
       "    }\n",
       "</style>\n",
       "<table border=\"1\" class=\"dataframe\">\n",
       "  <thead>\n",
       "    <tr style=\"text-align: right;\">\n",
       "      <th></th>\n",
       "      <th>k1</th>\n",
       "      <th>k2</th>\n",
       "    </tr>\n",
       "  </thead>\n",
       "  <tbody>\n",
       "    <tr>\n",
       "      <th>4</th>\n",
       "      <td>one</td>\n",
       "      <td>3</td>\n",
       "    </tr>\n",
       "    <tr>\n",
       "      <th>6</th>\n",
       "      <td>two</td>\n",
       "      <td>4</td>\n",
       "    </tr>\n",
       "  </tbody>\n",
       "</table>\n",
       "</div>"
      ],
      "text/plain": [
       "    k1  k2\n",
       "4  one   3\n",
       "6  two   4"
      ]
     },
     "execution_count": 28,
     "metadata": {},
     "output_type": "execute_result"
    }
   ],
   "source": [
    "data.drop_duplicates('k1', keep='last')"
   ]
  },
  {
   "cell_type": "code",
   "execution_count": null,
   "id": "8e962e4b",
   "metadata": {},
   "outputs": [
    {
     "data": {
      "text/plain": [
       "[[7, 4, 1], [8, 5, 2], [9, 6, 3]]"
      ]
     },
     "execution_count": 3,
     "metadata": {},
     "output_type": "execute_result"
    }
   ],
   "source": [
    "class Solution:\n",
    "    def maxSubArray(self, nums: list[int]) -> int:\n",
    "        res = float('-inf')\n",
    "        curr = 0\n",
    "        for n in nums:\n",
    "            curr = max(0, curr+n)\n",
    "            curr += n\n",
    "            res = max(curr, res)\n",
    "        \n",
    "        return res"
   ]
  },
  {
   "cell_type": "code",
   "execution_count": null,
   "id": "f0f1ae48",
   "metadata": {},
   "outputs": [],
   "source": []
  }
 ],
 "metadata": {
  "kernelspec": {
   "display_name": "Python 3",
   "language": "python",
   "name": "python3"
  },
  "language_info": {
   "codemirror_mode": {
    "name": "ipython",
    "version": 3
   },
   "file_extension": ".py",
   "mimetype": "text/x-python",
   "name": "python",
   "nbconvert_exporter": "python",
   "pygments_lexer": "ipython3",
   "version": "3.11.9"
  }
 },
 "nbformat": 4,
 "nbformat_minor": 5
}
