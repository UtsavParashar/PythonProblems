{
 "cells": [
  {
   "cell_type": "code",
   "execution_count": 1,
   "id": "opponent-opening",
   "metadata": {},
   "outputs": [],
   "source": [
    "%matplotlib inline\n",
    "import numpy as np\n",
    "import numpy.ma as ma\n",
    "import pandas as pd\n",
    "from pandas import DataFrame, Series\n",
    "import matplotlib.pyplot as plt\n",
    "import seaborn as sns\n",
    "import timeit\n",
    "import line_profiler\n",
    "\n",
    "import datetime\n",
    "\n",
    "from io import StringIO\n",
    "from pandas.api.types import CategoricalDtype"
   ]
  },
  {
   "cell_type": "markdown",
   "id": "blank-startup",
   "metadata": {},
   "source": [
    "# Indexing"
   ]
  },
  {
   "cell_type": "code",
   "execution_count": 3,
   "id": "operating-picnic",
   "metadata": {},
   "outputs": [
    {
     "data": {
      "text/html": [
       "<div>\n",
       "<style scoped>\n",
       "    .dataframe tbody tr th:only-of-type {\n",
       "        vertical-align: middle;\n",
       "    }\n",
       "\n",
       "    .dataframe tbody tr th {\n",
       "        vertical-align: top;\n",
       "    }\n",
       "\n",
       "    .dataframe thead th {\n",
       "        text-align: right;\n",
       "    }\n",
       "</style>\n",
       "<table border=\"1\" class=\"dataframe\">\n",
       "  <thead>\n",
       "    <tr style=\"text-align: right;\">\n",
       "      <th></th>\n",
       "      <th>A</th>\n",
       "      <th>B</th>\n",
       "      <th>C</th>\n",
       "      <th>D</th>\n",
       "    </tr>\n",
       "  </thead>\n",
       "  <tbody>\n",
       "    <tr>\n",
       "      <th>2021-01-02</th>\n",
       "      <td>1.629301</td>\n",
       "      <td>-0.009352</td>\n",
       "      <td>-0.905488</td>\n",
       "      <td>0.165572</td>\n",
       "    </tr>\n",
       "    <tr>\n",
       "      <th>2021-01-03</th>\n",
       "      <td>0.244092</td>\n",
       "      <td>1.313733</td>\n",
       "      <td>-0.347823</td>\n",
       "      <td>1.123616</td>\n",
       "    </tr>\n",
       "    <tr>\n",
       "      <th>2021-01-04</th>\n",
       "      <td>2.190245</td>\n",
       "      <td>-0.021858</td>\n",
       "      <td>1.136657</td>\n",
       "      <td>0.275776</td>\n",
       "    </tr>\n",
       "    <tr>\n",
       "      <th>2021-01-05</th>\n",
       "      <td>-0.676463</td>\n",
       "      <td>1.244879</td>\n",
       "      <td>0.791442</td>\n",
       "      <td>-0.511738</td>\n",
       "    </tr>\n",
       "    <tr>\n",
       "      <th>2021-01-06</th>\n",
       "      <td>-0.405205</td>\n",
       "      <td>0.502825</td>\n",
       "      <td>-0.922520</td>\n",
       "      <td>-1.285305</td>\n",
       "    </tr>\n",
       "    <tr>\n",
       "      <th>2021-01-07</th>\n",
       "      <td>-1.373553</td>\n",
       "      <td>0.056632</td>\n",
       "      <td>-0.666912</td>\n",
       "      <td>0.813599</td>\n",
       "    </tr>\n",
       "    <tr>\n",
       "      <th>2021-01-08</th>\n",
       "      <td>0.203159</td>\n",
       "      <td>1.045986</td>\n",
       "      <td>2.250007</td>\n",
       "      <td>-0.773191</td>\n",
       "    </tr>\n",
       "    <tr>\n",
       "      <th>2021-01-09</th>\n",
       "      <td>-1.254659</td>\n",
       "      <td>0.956169</td>\n",
       "      <td>-1.418185</td>\n",
       "      <td>-2.475736</td>\n",
       "    </tr>\n",
       "  </tbody>\n",
       "</table>\n",
       "</div>"
      ],
      "text/plain": [
       "                   A         B         C         D\n",
       "2021-01-02  1.629301 -0.009352 -0.905488  0.165572\n",
       "2021-01-03  0.244092  1.313733 -0.347823  1.123616\n",
       "2021-01-04  2.190245 -0.021858  1.136657  0.275776\n",
       "2021-01-05 -0.676463  1.244879  0.791442 -0.511738\n",
       "2021-01-06 -0.405205  0.502825 -0.922520 -1.285305\n",
       "2021-01-07 -1.373553  0.056632 -0.666912  0.813599\n",
       "2021-01-08  0.203159  1.045986  2.250007 -0.773191\n",
       "2021-01-09 -1.254659  0.956169 -1.418185 -2.475736"
      ]
     },
     "execution_count": 3,
     "metadata": {},
     "output_type": "execute_result"
    }
   ],
   "source": [
    "dates=pd.date_range('1/2/2021', periods=8)\n",
    "df = pd.DataFrame(np.random.randn(8, 4), columns=list(\"ABCD\"),\n",
    "                 index=dates)\n",
    "df"
   ]
  },
  {
   "cell_type": "code",
   "execution_count": 8,
   "id": "expensive-cable",
   "metadata": {},
   "outputs": [
    {
     "data": {
      "text/plain": [
       "-1.3735534007078942"
      ]
     },
     "execution_count": 8,
     "metadata": {},
     "output_type": "execute_result"
    }
   ],
   "source": [
    "s = df['A']\n",
    "s[dates[5]]"
   ]
  },
  {
   "cell_type": "code",
   "execution_count": 10,
   "id": "thick-stadium",
   "metadata": {},
   "outputs": [
    {
     "data": {
      "text/html": [
       "<div>\n",
       "<style scoped>\n",
       "    .dataframe tbody tr th:only-of-type {\n",
       "        vertical-align: middle;\n",
       "    }\n",
       "\n",
       "    .dataframe tbody tr th {\n",
       "        vertical-align: top;\n",
       "    }\n",
       "\n",
       "    .dataframe thead th {\n",
       "        text-align: right;\n",
       "    }\n",
       "</style>\n",
       "<table border=\"1\" class=\"dataframe\">\n",
       "  <thead>\n",
       "    <tr style=\"text-align: right;\">\n",
       "      <th></th>\n",
       "      <th>A</th>\n",
       "      <th>B</th>\n",
       "      <th>C</th>\n",
       "      <th>D</th>\n",
       "    </tr>\n",
       "  </thead>\n",
       "  <tbody>\n",
       "    <tr>\n",
       "      <th>2021-01-02</th>\n",
       "      <td>-0.009352</td>\n",
       "      <td>1.629301</td>\n",
       "      <td>-0.905488</td>\n",
       "      <td>0.165572</td>\n",
       "    </tr>\n",
       "    <tr>\n",
       "      <th>2021-01-03</th>\n",
       "      <td>1.313733</td>\n",
       "      <td>0.244092</td>\n",
       "      <td>-0.347823</td>\n",
       "      <td>1.123616</td>\n",
       "    </tr>\n",
       "    <tr>\n",
       "      <th>2021-01-04</th>\n",
       "      <td>-0.021858</td>\n",
       "      <td>2.190245</td>\n",
       "      <td>1.136657</td>\n",
       "      <td>0.275776</td>\n",
       "    </tr>\n",
       "    <tr>\n",
       "      <th>2021-01-05</th>\n",
       "      <td>1.244879</td>\n",
       "      <td>-0.676463</td>\n",
       "      <td>0.791442</td>\n",
       "      <td>-0.511738</td>\n",
       "    </tr>\n",
       "    <tr>\n",
       "      <th>2021-01-06</th>\n",
       "      <td>0.502825</td>\n",
       "      <td>-0.405205</td>\n",
       "      <td>-0.922520</td>\n",
       "      <td>-1.285305</td>\n",
       "    </tr>\n",
       "    <tr>\n",
       "      <th>2021-01-07</th>\n",
       "      <td>0.056632</td>\n",
       "      <td>-1.373553</td>\n",
       "      <td>-0.666912</td>\n",
       "      <td>0.813599</td>\n",
       "    </tr>\n",
       "    <tr>\n",
       "      <th>2021-01-08</th>\n",
       "      <td>1.045986</td>\n",
       "      <td>0.203159</td>\n",
       "      <td>2.250007</td>\n",
       "      <td>-0.773191</td>\n",
       "    </tr>\n",
       "    <tr>\n",
       "      <th>2021-01-09</th>\n",
       "      <td>0.956169</td>\n",
       "      <td>-1.254659</td>\n",
       "      <td>-1.418185</td>\n",
       "      <td>-2.475736</td>\n",
       "    </tr>\n",
       "  </tbody>\n",
       "</table>\n",
       "</div>"
      ],
      "text/plain": [
       "                   A         B         C         D\n",
       "2021-01-02 -0.009352  1.629301 -0.905488  0.165572\n",
       "2021-01-03  1.313733  0.244092 -0.347823  1.123616\n",
       "2021-01-04 -0.021858  2.190245  1.136657  0.275776\n",
       "2021-01-05  1.244879 -0.676463  0.791442 -0.511738\n",
       "2021-01-06  0.502825 -0.405205 -0.922520 -1.285305\n",
       "2021-01-07  0.056632 -1.373553 -0.666912  0.813599\n",
       "2021-01-08  1.045986  0.203159  2.250007 -0.773191\n",
       "2021-01-09  0.956169 -1.254659 -1.418185 -2.475736"
      ]
     },
     "execution_count": 10,
     "metadata": {},
     "output_type": "execute_result"
    }
   ],
   "source": [
    "df[['B', 'A']] = df[['A', 'B']]\n",
    "df"
   ]
  },
  {
   "cell_type": "code",
   "execution_count": 18,
   "id": "usual-yesterday",
   "metadata": {},
   "outputs": [
    {
     "data": {
      "text/html": [
       "<div>\n",
       "<style scoped>\n",
       "    .dataframe tbody tr th:only-of-type {\n",
       "        vertical-align: middle;\n",
       "    }\n",
       "\n",
       "    .dataframe tbody tr th {\n",
       "        vertical-align: top;\n",
       "    }\n",
       "\n",
       "    .dataframe thead th {\n",
       "        text-align: right;\n",
       "    }\n",
       "</style>\n",
       "<table border=\"1\" class=\"dataframe\">\n",
       "  <thead>\n",
       "    <tr style=\"text-align: right;\">\n",
       "      <th></th>\n",
       "      <th>A</th>\n",
       "      <th>B</th>\n",
       "      <th>C</th>\n",
       "      <th>D</th>\n",
       "    </tr>\n",
       "  </thead>\n",
       "  <tbody>\n",
       "    <tr>\n",
       "      <th>2021-01-02</th>\n",
       "      <td>-0.009352</td>\n",
       "      <td>1.629301</td>\n",
       "      <td>-0.905488</td>\n",
       "      <td>0.165572</td>\n",
       "    </tr>\n",
       "    <tr>\n",
       "      <th>2021-01-03</th>\n",
       "      <td>1.313733</td>\n",
       "      <td>0.244092</td>\n",
       "      <td>-0.347823</td>\n",
       "      <td>1.123616</td>\n",
       "    </tr>\n",
       "    <tr>\n",
       "      <th>2021-01-04</th>\n",
       "      <td>-0.021858</td>\n",
       "      <td>2.190245</td>\n",
       "      <td>1.136657</td>\n",
       "      <td>0.275776</td>\n",
       "    </tr>\n",
       "    <tr>\n",
       "      <th>2021-01-05</th>\n",
       "      <td>1.244879</td>\n",
       "      <td>-0.676463</td>\n",
       "      <td>0.791442</td>\n",
       "      <td>-0.511738</td>\n",
       "    </tr>\n",
       "    <tr>\n",
       "      <th>2021-01-06</th>\n",
       "      <td>0.502825</td>\n",
       "      <td>-0.405205</td>\n",
       "      <td>-0.922520</td>\n",
       "      <td>-1.285305</td>\n",
       "    </tr>\n",
       "    <tr>\n",
       "      <th>2021-01-07</th>\n",
       "      <td>0.056632</td>\n",
       "      <td>-1.373553</td>\n",
       "      <td>-0.666912</td>\n",
       "      <td>0.813599</td>\n",
       "    </tr>\n",
       "    <tr>\n",
       "      <th>2021-01-08</th>\n",
       "      <td>1.045986</td>\n",
       "      <td>0.203159</td>\n",
       "      <td>2.250007</td>\n",
       "      <td>-0.773191</td>\n",
       "    </tr>\n",
       "    <tr>\n",
       "      <th>2021-01-09</th>\n",
       "      <td>0.956169</td>\n",
       "      <td>-1.254659</td>\n",
       "      <td>-1.418185</td>\n",
       "      <td>-2.475736</td>\n",
       "    </tr>\n",
       "  </tbody>\n",
       "</table>\n",
       "</div>"
      ],
      "text/plain": [
       "                   A         B         C         D\n",
       "2021-01-02 -0.009352  1.629301 -0.905488  0.165572\n",
       "2021-01-03  1.313733  0.244092 -0.347823  1.123616\n",
       "2021-01-04 -0.021858  2.190245  1.136657  0.275776\n",
       "2021-01-05  1.244879 -0.676463  0.791442 -0.511738\n",
       "2021-01-06  0.502825 -0.405205 -0.922520 -1.285305\n",
       "2021-01-07  0.056632 -1.373553 -0.666912  0.813599\n",
       "2021-01-08  1.045986  0.203159  2.250007 -0.773191\n",
       "2021-01-09  0.956169 -1.254659 -1.418185 -2.475736"
      ]
     },
     "execution_count": 18,
     "metadata": {},
     "output_type": "execute_result"
    }
   ],
   "source": [
    "df.loc[:, ['B', 'A']]= df[['A', 'B']].to_numpy()\n",
    "df"
   ]
  },
  {
   "cell_type": "code",
   "execution_count": 30,
   "id": "superior-works",
   "metadata": {},
   "outputs": [
    {
     "data": {
      "text/plain": [
       "0.05663161423750495"
      ]
     },
     "execution_count": 30,
     "metadata": {},
     "output_type": "execute_result"
    }
   ],
   "source": [
    "sa = pd.Series([1, 2, 3], index=list('abc'))\n",
    "sa.b\n",
    "s['2021-01-07']"
   ]
  },
  {
   "cell_type": "code",
   "execution_count": 31,
   "id": "external-crazy",
   "metadata": {},
   "outputs": [
    {
     "data": {
      "text/plain": [
       "2021-01-02   -0.009352\n",
       "2021-01-03    1.313733\n",
       "2021-01-04   -0.021858\n",
       "2021-01-05    1.244879\n",
       "2021-01-06    0.502825\n",
       "2021-01-07    0.056632\n",
       "2021-01-08    1.045986\n",
       "2021-01-09    0.956169\n",
       "Freq: D, Name: A, dtype: float64"
      ]
     },
     "execution_count": 31,
     "metadata": {},
     "output_type": "execute_result"
    }
   ],
   "source": [
    "dfa = df.copy()\n",
    "dfa.A"
   ]
  },
  {
   "cell_type": "code",
   "execution_count": 32,
   "id": "beginning-folks",
   "metadata": {},
   "outputs": [
    {
     "name": "stdout",
     "output_type": "stream",
     "text": [
      "a    1\n",
      "b    2\n",
      "c    3\n",
      "dtype: int64\n"
     ]
    },
    {
     "data": {
      "text/plain": [
       "a    5\n",
       "b    2\n",
       "c    3\n",
       "dtype: int64"
      ]
     },
     "execution_count": 32,
     "metadata": {},
     "output_type": "execute_result"
    }
   ],
   "source": [
    "print(sa)\n",
    "sa.a = 5\n",
    "sa"
   ]
  },
  {
   "cell_type": "code",
   "execution_count": 37,
   "id": "burning-drill",
   "metadata": {},
   "outputs": [
    {
     "data": {
      "text/html": [
       "<div>\n",
       "<style scoped>\n",
       "    .dataframe tbody tr th:only-of-type {\n",
       "        vertical-align: middle;\n",
       "    }\n",
       "\n",
       "    .dataframe tbody tr th {\n",
       "        vertical-align: top;\n",
       "    }\n",
       "\n",
       "    .dataframe thead th {\n",
       "        text-align: right;\n",
       "    }\n",
       "</style>\n",
       "<table border=\"1\" class=\"dataframe\">\n",
       "  <thead>\n",
       "    <tr style=\"text-align: right;\">\n",
       "      <th></th>\n",
       "      <th>A</th>\n",
       "      <th>B</th>\n",
       "      <th>C</th>\n",
       "      <th>D</th>\n",
       "      <th>E</th>\n",
       "    </tr>\n",
       "  </thead>\n",
       "  <tbody>\n",
       "    <tr>\n",
       "      <th>2021-01-02</th>\n",
       "      <td>0</td>\n",
       "      <td>1.629301</td>\n",
       "      <td>-0.905488</td>\n",
       "      <td>0.165572</td>\n",
       "      <td>0</td>\n",
       "    </tr>\n",
       "    <tr>\n",
       "      <th>2021-01-03</th>\n",
       "      <td>1</td>\n",
       "      <td>0.244092</td>\n",
       "      <td>-0.347823</td>\n",
       "      <td>1.123616</td>\n",
       "      <td>1</td>\n",
       "    </tr>\n",
       "    <tr>\n",
       "      <th>2021-01-04</th>\n",
       "      <td>2</td>\n",
       "      <td>2.190245</td>\n",
       "      <td>1.136657</td>\n",
       "      <td>0.275776</td>\n",
       "      <td>2</td>\n",
       "    </tr>\n",
       "    <tr>\n",
       "      <th>2021-01-05</th>\n",
       "      <td>3</td>\n",
       "      <td>-0.676463</td>\n",
       "      <td>0.791442</td>\n",
       "      <td>-0.511738</td>\n",
       "      <td>3</td>\n",
       "    </tr>\n",
       "    <tr>\n",
       "      <th>2021-01-06</th>\n",
       "      <td>4</td>\n",
       "      <td>-0.405205</td>\n",
       "      <td>-0.922520</td>\n",
       "      <td>-1.285305</td>\n",
       "      <td>4</td>\n",
       "    </tr>\n",
       "    <tr>\n",
       "      <th>2021-01-07</th>\n",
       "      <td>5</td>\n",
       "      <td>-1.373553</td>\n",
       "      <td>-0.666912</td>\n",
       "      <td>0.813599</td>\n",
       "      <td>5</td>\n",
       "    </tr>\n",
       "    <tr>\n",
       "      <th>2021-01-08</th>\n",
       "      <td>6</td>\n",
       "      <td>0.203159</td>\n",
       "      <td>2.250007</td>\n",
       "      <td>-0.773191</td>\n",
       "      <td>6</td>\n",
       "    </tr>\n",
       "    <tr>\n",
       "      <th>2021-01-09</th>\n",
       "      <td>7</td>\n",
       "      <td>-1.254659</td>\n",
       "      <td>-1.418185</td>\n",
       "      <td>-2.475736</td>\n",
       "      <td>7</td>\n",
       "    </tr>\n",
       "  </tbody>\n",
       "</table>\n",
       "</div>"
      ],
      "text/plain": [
       "            A         B         C         D  E\n",
       "2021-01-02  0  1.629301 -0.905488  0.165572  0\n",
       "2021-01-03  1  0.244092 -0.347823  1.123616  1\n",
       "2021-01-04  2  2.190245  1.136657  0.275776  2\n",
       "2021-01-05  3 -0.676463  0.791442 -0.511738  3\n",
       "2021-01-06  4 -0.405205 -0.922520 -1.285305  4\n",
       "2021-01-07  5 -1.373553 -0.666912  0.813599  5\n",
       "2021-01-08  6  0.203159  2.250007 -0.773191  6\n",
       "2021-01-09  7 -1.254659 -1.418185 -2.475736  7"
      ]
     },
     "execution_count": 37,
     "metadata": {},
     "output_type": "execute_result"
    }
   ],
   "source": [
    "dfa.A = list(range(len(dfa.index))) # # ok if A already exists\n",
    "dfa\n",
    "\n",
    "dfa.E = list(range(len(dfa.index))) ## Error - UserWarning: Pandas doesn't allow columns to be created via a new attribute name\n",
    "dfa\n",
    "\n",
    "# use below form to create a new ˓→column\n",
    "dfa['E'] = list(range(len(dfa.index)))\n",
    "dfa"
   ]
  },
  {
   "cell_type": "code",
   "execution_count": 41,
   "id": "republican-schema",
   "metadata": {},
   "outputs": [
    {
     "data": {
      "text/html": [
       "<div>\n",
       "<style scoped>\n",
       "    .dataframe tbody tr th:only-of-type {\n",
       "        vertical-align: middle;\n",
       "    }\n",
       "\n",
       "    .dataframe tbody tr th {\n",
       "        vertical-align: top;\n",
       "    }\n",
       "\n",
       "    .dataframe thead th {\n",
       "        text-align: right;\n",
       "    }\n",
       "</style>\n",
       "<table border=\"1\" class=\"dataframe\">\n",
       "  <thead>\n",
       "    <tr style=\"text-align: right;\">\n",
       "      <th></th>\n",
       "      <th>x</th>\n",
       "      <th>y</th>\n",
       "    </tr>\n",
       "  </thead>\n",
       "  <tbody>\n",
       "    <tr>\n",
       "      <th>0</th>\n",
       "      <td>1</td>\n",
       "      <td>3</td>\n",
       "    </tr>\n",
       "    <tr>\n",
       "      <th>1</th>\n",
       "      <td>9</td>\n",
       "      <td>99</td>\n",
       "    </tr>\n",
       "    <tr>\n",
       "      <th>2</th>\n",
       "      <td>3</td>\n",
       "      <td>5</td>\n",
       "    </tr>\n",
       "  </tbody>\n",
       "</table>\n",
       "</div>"
      ],
      "text/plain": [
       "   x   y\n",
       "0  1   3\n",
       "1  9  99\n",
       "2  3   5"
      ]
     },
     "execution_count": 41,
     "metadata": {},
     "output_type": "execute_result"
    }
   ],
   "source": [
    "x = pd.DataFrame({'x': [1, 2, 3], 'y': [3, 4, 5]})\n",
    "x.iloc[1] = {'x':9, 'y':99}\n",
    "x"
   ]
  },
  {
   "cell_type": "code",
   "execution_count": 39,
   "id": "insured-shell",
   "metadata": {},
   "outputs": [
    {
     "name": "stderr",
     "output_type": "stream",
     "text": [
      "<ipython-input-39-7e0e54ff9d76>:2: UserWarning: Pandas doesn't allow columns to be created via a new attribute name - see https://pandas.pydata.org/pandas-docs/stable/indexing.html#attribute-access\n",
      "  df.two = [4, 5, 6] ## Error - UserWarning: Pandas doesn't allow columns to be created via a new attribute name\n"
     ]
    },
    {
     "data": {
      "text/html": [
       "<div>\n",
       "<style scoped>\n",
       "    .dataframe tbody tr th:only-of-type {\n",
       "        vertical-align: middle;\n",
       "    }\n",
       "\n",
       "    .dataframe tbody tr th {\n",
       "        vertical-align: top;\n",
       "    }\n",
       "\n",
       "    .dataframe thead th {\n",
       "        text-align: right;\n",
       "    }\n",
       "</style>\n",
       "<table border=\"1\" class=\"dataframe\">\n",
       "  <thead>\n",
       "    <tr style=\"text-align: right;\">\n",
       "      <th></th>\n",
       "      <th>one</th>\n",
       "    </tr>\n",
       "  </thead>\n",
       "  <tbody>\n",
       "    <tr>\n",
       "      <th>0</th>\n",
       "      <td>1.0</td>\n",
       "    </tr>\n",
       "    <tr>\n",
       "      <th>1</th>\n",
       "      <td>2.0</td>\n",
       "    </tr>\n",
       "    <tr>\n",
       "      <th>2</th>\n",
       "      <td>3.0</td>\n",
       "    </tr>\n",
       "  </tbody>\n",
       "</table>\n",
       "</div>"
      ],
      "text/plain": [
       "   one\n",
       "0  1.0\n",
       "1  2.0\n",
       "2  3.0"
      ]
     },
     "execution_count": 39,
     "metadata": {},
     "output_type": "execute_result"
    }
   ],
   "source": [
    "df = pd.DataFrame({'one': [1., 2., 3.]})\n",
    "df.two = [4, 5, 6] ## Error - UserWarning: Pandas doesn't allow columns to be created via a new attribute name\n",
    "df"
   ]
  },
  {
   "cell_type": "code",
   "execution_count": 49,
   "id": "advanced-slope",
   "metadata": {},
   "outputs": [
    {
     "data": {
      "text/plain": [
       "2021-01-02    0.000000\n",
       "2021-01-03    0.000000\n",
       "2021-01-04    0.000000\n",
       "2021-01-05    0.000000\n",
       "2021-01-06    0.000000\n",
       "2021-01-07    0.056632\n",
       "2021-01-08    1.045986\n",
       "2021-01-09    0.956169\n",
       "Freq: D, Name: A, dtype: float64"
      ]
     },
     "execution_count": 49,
     "metadata": {},
     "output_type": "execute_result"
    }
   ],
   "source": [
    "s[:5]\n",
    "s[::2]\n",
    "s[::-1]\n",
    "\n",
    "#Note that setting works as well:\n",
    "s2 = s.copy()\n",
    "s2[:5] = 0\n",
    "s2"
   ]
  },
  {
   "cell_type": "code",
   "execution_count": 51,
   "id": "pretty-michael",
   "metadata": {},
   "outputs": [
    {
     "data": {
      "text/html": [
       "<div>\n",
       "<style scoped>\n",
       "    .dataframe tbody tr th:only-of-type {\n",
       "        vertical-align: middle;\n",
       "    }\n",
       "\n",
       "    .dataframe tbody tr th {\n",
       "        vertical-align: top;\n",
       "    }\n",
       "\n",
       "    .dataframe thead th {\n",
       "        text-align: right;\n",
       "    }\n",
       "</style>\n",
       "<table border=\"1\" class=\"dataframe\">\n",
       "  <thead>\n",
       "    <tr style=\"text-align: right;\">\n",
       "      <th></th>\n",
       "      <th>one</th>\n",
       "    </tr>\n",
       "  </thead>\n",
       "  <tbody>\n",
       "    <tr>\n",
       "      <th>2</th>\n",
       "      <td>3.0</td>\n",
       "    </tr>\n",
       "    <tr>\n",
       "      <th>1</th>\n",
       "      <td>2.0</td>\n",
       "    </tr>\n",
       "    <tr>\n",
       "      <th>0</th>\n",
       "      <td>1.0</td>\n",
       "    </tr>\n",
       "  </tbody>\n",
       "</table>\n",
       "</div>"
      ],
      "text/plain": [
       "   one\n",
       "2  3.0\n",
       "1  2.0\n",
       "0  1.0"
      ]
     },
     "execution_count": 51,
     "metadata": {},
     "output_type": "execute_result"
    }
   ],
   "source": [
    "df[:3]\n",
    "df[::-1]"
   ]
  },
  {
   "cell_type": "code",
   "execution_count": 61,
   "id": "complimentary-township",
   "metadata": {},
   "outputs": [
    {
     "data": {
      "text/html": [
       "<div>\n",
       "<style scoped>\n",
       "    .dataframe tbody tr th:only-of-type {\n",
       "        vertical-align: middle;\n",
       "    }\n",
       "\n",
       "    .dataframe tbody tr th {\n",
       "        vertical-align: top;\n",
       "    }\n",
       "\n",
       "    .dataframe thead th {\n",
       "        text-align: right;\n",
       "    }\n",
       "</style>\n",
       "<table border=\"1\" class=\"dataframe\">\n",
       "  <thead>\n",
       "    <tr style=\"text-align: right;\">\n",
       "      <th></th>\n",
       "      <th>A</th>\n",
       "      <th>B</th>\n",
       "      <th>C</th>\n",
       "      <th>D</th>\n",
       "    </tr>\n",
       "  </thead>\n",
       "  <tbody>\n",
       "    <tr>\n",
       "      <th>2013-01-01</th>\n",
       "      <td>-0.264241</td>\n",
       "      <td>-0.412795</td>\n",
       "      <td>0.002391</td>\n",
       "      <td>-1.200910</td>\n",
       "    </tr>\n",
       "    <tr>\n",
       "      <th>2013-01-03</th>\n",
       "      <td>-0.325368</td>\n",
       "      <td>-0.292521</td>\n",
       "      <td>0.554763</td>\n",
       "      <td>-0.287031</td>\n",
       "    </tr>\n",
       "  </tbody>\n",
       "</table>\n",
       "</div>"
      ],
      "text/plain": [
       "                   A         B         C         D\n",
       "2013-01-01 -0.264241 -0.412795  0.002391 -1.200910\n",
       "2013-01-03 -0.325368 -0.292521  0.554763 -0.287031"
      ]
     },
     "execution_count": 61,
     "metadata": {},
     "output_type": "execute_result"
    }
   ],
   "source": [
    "df1 = pd.DataFrame(np.random.randn(5, 4), columns=list('ABCD'), index=pd.date_range('20130101', periods=5))\n",
    "#df1.loc[2:4] #TypeError: cannot do slice indexing on DatetimeIndex with these indexers [2] of type int\n",
    "df1.iloc[2:4]\n",
    "df1.loc[[True, False, True, False, False]]"
   ]
  },
  {
   "cell_type": "code",
   "execution_count": 66,
   "id": "humanitarian-combine",
   "metadata": {},
   "outputs": [
    {
     "data": {
      "text/plain": [
       "a   -0.243911\n",
       "b   -0.918299\n",
       "c    0.000000\n",
       "d    0.000000\n",
       "e    0.000000\n",
       "f    0.000000\n",
       "dtype: float64"
      ]
     },
     "execution_count": 66,
     "metadata": {},
     "output_type": "execute_result"
    }
   ],
   "source": [
    "s1 = pd.Series(np.random.randn(6), index=list('abcdef'))\n",
    "s1.loc['c':]\n",
    "s1.loc['b']\n",
    "s1.loc['c':] = 0\n",
    "s1"
   ]
  },
  {
   "cell_type": "code",
   "execution_count": 71,
   "id": "inclusive-aaron",
   "metadata": {},
   "outputs": [
    {
     "data": {
      "text/html": [
       "<div>\n",
       "<style scoped>\n",
       "    .dataframe tbody tr th:only-of-type {\n",
       "        vertical-align: middle;\n",
       "    }\n",
       "\n",
       "    .dataframe tbody tr th {\n",
       "        vertical-align: top;\n",
       "    }\n",
       "\n",
       "    .dataframe thead th {\n",
       "        text-align: right;\n",
       "    }\n",
       "</style>\n",
       "<table border=\"1\" class=\"dataframe\">\n",
       "  <thead>\n",
       "    <tr style=\"text-align: right;\">\n",
       "      <th></th>\n",
       "      <th>C</th>\n",
       "    </tr>\n",
       "  </thead>\n",
       "  <tbody>\n",
       "    <tr>\n",
       "      <th>a</th>\n",
       "      <td>1.021648</td>\n",
       "    </tr>\n",
       "    <tr>\n",
       "      <th>b</th>\n",
       "      <td>-0.074328</td>\n",
       "    </tr>\n",
       "    <tr>\n",
       "      <th>c</th>\n",
       "      <td>0.903928</td>\n",
       "    </tr>\n",
       "    <tr>\n",
       "      <th>d</th>\n",
       "      <td>-1.053766</td>\n",
       "    </tr>\n",
       "    <tr>\n",
       "      <th>e</th>\n",
       "      <td>-0.091051</td>\n",
       "    </tr>\n",
       "    <tr>\n",
       "      <th>f</th>\n",
       "      <td>-2.184279</td>\n",
       "    </tr>\n",
       "  </tbody>\n",
       "</table>\n",
       "</div>"
      ],
      "text/plain": [
       "          C\n",
       "a  1.021648\n",
       "b -0.074328\n",
       "c  0.903928\n",
       "d -1.053766\n",
       "e -0.091051\n",
       "f -2.184279"
      ]
     },
     "execution_count": 71,
     "metadata": {},
     "output_type": "execute_result"
    }
   ],
   "source": [
    "df1 = pd.DataFrame(np.random.randn(6, 4), index=list('abcdef'), columns=list('ABCD'))\n",
    "df1.loc[['a', 'b', 'd'], :]\n",
    "df1.loc['a']\n",
    "df1.loc[:, df1.loc['a'] > 0]"
   ]
  },
  {
   "cell_type": "code",
   "execution_count": 74,
   "id": "valuable-survey",
   "metadata": {},
   "outputs": [
    {
     "data": {
      "text/html": [
       "<div>\n",
       "<style scoped>\n",
       "    .dataframe tbody tr th:only-of-type {\n",
       "        vertical-align: middle;\n",
       "    }\n",
       "\n",
       "    .dataframe tbody tr th {\n",
       "        vertical-align: top;\n",
       "    }\n",
       "\n",
       "    .dataframe thead th {\n",
       "        text-align: right;\n",
       "    }\n",
       "</style>\n",
       "<table border=\"1\" class=\"dataframe\">\n",
       "  <thead>\n",
       "    <tr style=\"text-align: right;\">\n",
       "      <th></th>\n",
       "      <th>A</th>\n",
       "      <th>B</th>\n",
       "      <th>C</th>\n",
       "      <th>D</th>\n",
       "    </tr>\n",
       "  </thead>\n",
       "  <tbody>\n",
       "    <tr>\n",
       "      <th>a</th>\n",
       "      <td>-0.072105</td>\n",
       "      <td>-0.904690</td>\n",
       "      <td>1.021648</td>\n",
       "      <td>-0.573483</td>\n",
       "    </tr>\n",
       "    <tr>\n",
       "      <th>c</th>\n",
       "      <td>-0.603085</td>\n",
       "      <td>1.747245</td>\n",
       "      <td>0.903928</td>\n",
       "      <td>0.345961</td>\n",
       "    </tr>\n",
       "  </tbody>\n",
       "</table>\n",
       "</div>"
      ],
      "text/plain": [
       "          A         B         C         D\n",
       "a -0.072105 -0.904690  1.021648 -0.573483\n",
       "c -0.603085  1.747245  0.903928  0.345961"
      ]
     },
     "execution_count": 74,
     "metadata": {},
     "output_type": "execute_result"
    }
   ],
   "source": [
    "mask = pd.array([True, False, True, False, pd.NA, False], dtype=\"boolean\")\n",
    "mask\n",
    "df1[mask]"
   ]
  },
  {
   "cell_type": "code",
   "execution_count": 111,
   "id": "revised-framing",
   "metadata": {},
   "outputs": [
    {
     "data": {
      "text/html": [
       "<div>\n",
       "<style scoped>\n",
       "    .dataframe tbody tr th:only-of-type {\n",
       "        vertical-align: middle;\n",
       "    }\n",
       "\n",
       "    .dataframe tbody tr th {\n",
       "        vertical-align: top;\n",
       "    }\n",
       "\n",
       "    .dataframe thead th {\n",
       "        text-align: right;\n",
       "    }\n",
       "</style>\n",
       "<table border=\"1\" class=\"dataframe\">\n",
       "  <thead>\n",
       "    <tr style=\"text-align: right;\">\n",
       "      <th></th>\n",
       "      <th>A</th>\n",
       "      <th>B</th>\n",
       "      <th>C</th>\n",
       "      <th>D</th>\n",
       "      <th>E</th>\n",
       "      <th>F</th>\n",
       "    </tr>\n",
       "  </thead>\n",
       "  <tbody>\n",
       "    <tr>\n",
       "      <th>0</th>\n",
       "      <td>0.739179</td>\n",
       "      <td>0.007291</td>\n",
       "      <td>0.251444</td>\n",
       "      <td>0.312501</td>\n",
       "      <td>0.420025</td>\n",
       "      <td>-0.555057</td>\n",
       "    </tr>\n",
       "    <tr>\n",
       "      <th>1</th>\n",
       "      <td>0.551888</td>\n",
       "      <td>-0.916458</td>\n",
       "      <td>1.267054</td>\n",
       "      <td>-0.155771</td>\n",
       "      <td>1.163977</td>\n",
       "      <td>1.009823</td>\n",
       "    </tr>\n",
       "    <tr>\n",
       "      <th>2</th>\n",
       "      <td>-0.408805</td>\n",
       "      <td>0.464986</td>\n",
       "      <td>1.036291</td>\n",
       "      <td>0.060136</td>\n",
       "      <td>1.056598</td>\n",
       "      <td>0.197868</td>\n",
       "    </tr>\n",
       "    <tr>\n",
       "      <th>3</th>\n",
       "      <td>0.723118</td>\n",
       "      <td>0.060825</td>\n",
       "      <td>1.855839</td>\n",
       "      <td>0.498021</td>\n",
       "      <td>0.726894</td>\n",
       "      <td>-1.530539</td>\n",
       "    </tr>\n",
       "    <tr>\n",
       "      <th>4</th>\n",
       "      <td>-1.489332</td>\n",
       "      <td>-0.151683</td>\n",
       "      <td>-0.547574</td>\n",
       "      <td>-0.769638</td>\n",
       "      <td>1.414344</td>\n",
       "      <td>-0.316152</td>\n",
       "    </tr>\n",
       "  </tbody>\n",
       "</table>\n",
       "</div>"
      ],
      "text/plain": [
       "          A         B         C         D         E         F\n",
       "0  0.739179  0.007291  0.251444  0.312501  0.420025 -0.555057\n",
       "1  0.551888 -0.916458  1.267054 -0.155771  1.163977  1.009823\n",
       "2 -0.408805  0.464986  1.036291  0.060136  1.056598  0.197868\n",
       "3  0.723118  0.060825  1.855839  0.498021  0.726894 -1.530539\n",
       "4 -1.489332 -0.151683 -0.547574 -0.769638  1.414344 -0.316152"
      ]
     },
     "execution_count": 111,
     "metadata": {},
     "output_type": "execute_result"
    }
   ],
   "source": [
    "dft = pd.DataFrame(np.random.randn(1000000, 6), columns=list('ABCDEF'))\n",
    "dft.head()"
   ]
  },
  {
   "cell_type": "code",
   "execution_count": 118,
   "id": "southwest-treasury",
   "metadata": {},
   "outputs": [
    {
     "data": {
      "text/html": [
       "<div>\n",
       "<style scoped>\n",
       "    .dataframe tbody tr th:only-of-type {\n",
       "        vertical-align: middle;\n",
       "    }\n",
       "\n",
       "    .dataframe tbody tr th {\n",
       "        vertical-align: top;\n",
       "    }\n",
       "\n",
       "    .dataframe thead th {\n",
       "        text-align: right;\n",
       "    }\n",
       "</style>\n",
       "<table border=\"1\" class=\"dataframe\">\n",
       "  <thead>\n",
       "    <tr style=\"text-align: right;\">\n",
       "      <th></th>\n",
       "      <th>A</th>\n",
       "      <th>B</th>\n",
       "      <th>C</th>\n",
       "      <th>D</th>\n",
       "    </tr>\n",
       "  </thead>\n",
       "  <tbody>\n",
       "    <tr>\n",
       "      <th>a</th>\n",
       "      <td>0.329158</td>\n",
       "      <td>1.342746</td>\n",
       "      <td>0.543108</td>\n",
       "      <td>-0.205932</td>\n",
       "    </tr>\n",
       "    <tr>\n",
       "      <th>b</th>\n",
       "      <td>0.400815</td>\n",
       "      <td>0.825991</td>\n",
       "      <td>1.105481</td>\n",
       "      <td>0.052432</td>\n",
       "    </tr>\n",
       "    <tr>\n",
       "      <th>c</th>\n",
       "      <td>0.310453</td>\n",
       "      <td>-0.212980</td>\n",
       "      <td>-0.388222</td>\n",
       "      <td>0.577583</td>\n",
       "    </tr>\n",
       "    <tr>\n",
       "      <th>d</th>\n",
       "      <td>0.901756</td>\n",
       "      <td>1.150435</td>\n",
       "      <td>-0.435394</td>\n",
       "      <td>1.210392</td>\n",
       "    </tr>\n",
       "    <tr>\n",
       "      <th>e</th>\n",
       "      <td>-0.392809</td>\n",
       "      <td>0.787428</td>\n",
       "      <td>1.564472</td>\n",
       "      <td>1.246658</td>\n",
       "    </tr>\n",
       "    <tr>\n",
       "      <th>f</th>\n",
       "      <td>-1.168040</td>\n",
       "      <td>-0.872230</td>\n",
       "      <td>0.369906</td>\n",
       "      <td>0.742997</td>\n",
       "    </tr>\n",
       "  </tbody>\n",
       "</table>\n",
       "</div>"
      ],
      "text/plain": [
       "          A         B         C         D\n",
       "a  0.329158  1.342746  0.543108 -0.205932\n",
       "b  0.400815  0.825991  1.105481  0.052432\n",
       "c  0.310453 -0.212980 -0.388222  0.577583\n",
       "d  0.901756  1.150435 -0.435394  1.210392\n",
       "e -0.392809  0.787428  1.564472  1.246658\n",
       "f -1.168040 -0.872230  0.369906  0.742997"
      ]
     },
     "execution_count": 118,
     "metadata": {},
     "output_type": "execute_result"
    }
   ],
   "source": [
    "df1 = pd.DataFrame(np.random.randn(6, 4),\n",
    "                  index=list('abcdef'),\n",
    "                  columns=list('ABCD'))\n",
    "df1"
   ]
  },
  {
   "cell_type": "code",
   "execution_count": 119,
   "id": "primary-villa",
   "metadata": {},
   "outputs": [
    {
     "data": {
      "text/html": [
       "<div>\n",
       "<style scoped>\n",
       "    .dataframe tbody tr th:only-of-type {\n",
       "        vertical-align: middle;\n",
       "    }\n",
       "\n",
       "    .dataframe tbody tr th {\n",
       "        vertical-align: top;\n",
       "    }\n",
       "\n",
       "    .dataframe thead th {\n",
       "        text-align: right;\n",
       "    }\n",
       "</style>\n",
       "<table border=\"1\" class=\"dataframe\">\n",
       "  <thead>\n",
       "    <tr style=\"text-align: right;\">\n",
       "      <th></th>\n",
       "      <th>A</th>\n",
       "      <th>B</th>\n",
       "      <th>C</th>\n",
       "      <th>D</th>\n",
       "    </tr>\n",
       "  </thead>\n",
       "  <tbody>\n",
       "    <tr>\n",
       "      <th>a</th>\n",
       "      <td>0.329158</td>\n",
       "      <td>1.342746</td>\n",
       "      <td>0.543108</td>\n",
       "      <td>-0.205932</td>\n",
       "    </tr>\n",
       "    <tr>\n",
       "      <th>b</th>\n",
       "      <td>0.400815</td>\n",
       "      <td>0.825991</td>\n",
       "      <td>1.105481</td>\n",
       "      <td>0.052432</td>\n",
       "    </tr>\n",
       "    <tr>\n",
       "      <th>c</th>\n",
       "      <td>0.310453</td>\n",
       "      <td>-0.212980</td>\n",
       "      <td>-0.388222</td>\n",
       "      <td>0.577583</td>\n",
       "    </tr>\n",
       "    <tr>\n",
       "      <th>d</th>\n",
       "      <td>0.901756</td>\n",
       "      <td>1.150435</td>\n",
       "      <td>-0.435394</td>\n",
       "      <td>1.210392</td>\n",
       "    </tr>\n",
       "  </tbody>\n",
       "</table>\n",
       "</div>"
      ],
      "text/plain": [
       "          A         B         C         D\n",
       "a  0.329158  1.342746  0.543108 -0.205932\n",
       "b  0.400815  0.825991  1.105481  0.052432\n",
       "c  0.310453 -0.212980 -0.388222  0.577583\n",
       "d  0.901756  1.150435 -0.435394  1.210392"
      ]
     },
     "execution_count": 119,
     "metadata": {},
     "output_type": "execute_result"
    }
   ],
   "source": [
    "df1.loc[lambda df: df['A'] > 0, :]"
   ]
  },
  {
   "cell_type": "code",
   "execution_count": 127,
   "id": "crazy-necessity",
   "metadata": {},
   "outputs": [
    {
     "data": {
      "text/html": [
       "<div>\n",
       "<style scoped>\n",
       "    .dataframe tbody tr th:only-of-type {\n",
       "        vertical-align: middle;\n",
       "    }\n",
       "\n",
       "    .dataframe tbody tr th {\n",
       "        vertical-align: top;\n",
       "    }\n",
       "\n",
       "    .dataframe thead th {\n",
       "        text-align: right;\n",
       "    }\n",
       "</style>\n",
       "<table border=\"1\" class=\"dataframe\">\n",
       "  <thead>\n",
       "    <tr style=\"text-align: right;\">\n",
       "      <th></th>\n",
       "      <th></th>\n",
       "      <th>stint</th>\n",
       "      <th>g</th>\n",
       "      <th>ab</th>\n",
       "      <th>r</th>\n",
       "      <th>h</th>\n",
       "      <th>X2b</th>\n",
       "      <th>X3b</th>\n",
       "      <th>hr</th>\n",
       "      <th>rbi</th>\n",
       "      <th>sb</th>\n",
       "      <th>cs</th>\n",
       "      <th>bb</th>\n",
       "      <th>so</th>\n",
       "      <th>ibb</th>\n",
       "      <th>hbp</th>\n",
       "      <th>sh</th>\n",
       "      <th>sf</th>\n",
       "      <th>gidp</th>\n",
       "    </tr>\n",
       "    <tr>\n",
       "      <th>year</th>\n",
       "      <th>team</th>\n",
       "      <th></th>\n",
       "      <th></th>\n",
       "      <th></th>\n",
       "      <th></th>\n",
       "      <th></th>\n",
       "      <th></th>\n",
       "      <th></th>\n",
       "      <th></th>\n",
       "      <th></th>\n",
       "      <th></th>\n",
       "      <th></th>\n",
       "      <th></th>\n",
       "      <th></th>\n",
       "      <th></th>\n",
       "      <th></th>\n",
       "      <th></th>\n",
       "      <th></th>\n",
       "      <th></th>\n",
       "    </tr>\n",
       "  </thead>\n",
       "  <tbody>\n",
       "    <tr>\n",
       "      <th rowspan=\"8\" valign=\"top\">2007</th>\n",
       "      <th>CIN</th>\n",
       "      <td>6</td>\n",
       "      <td>379</td>\n",
       "      <td>745</td>\n",
       "      <td>101</td>\n",
       "      <td>203</td>\n",
       "      <td>35</td>\n",
       "      <td>2</td>\n",
       "      <td>36</td>\n",
       "      <td>125.0</td>\n",
       "      <td>10.0</td>\n",
       "      <td>1.0</td>\n",
       "      <td>105</td>\n",
       "      <td>127.0</td>\n",
       "      <td>14.0</td>\n",
       "      <td>1.0</td>\n",
       "      <td>1.0</td>\n",
       "      <td>15.0</td>\n",
       "      <td>18.0</td>\n",
       "    </tr>\n",
       "    <tr>\n",
       "      <th>DET</th>\n",
       "      <td>5</td>\n",
       "      <td>301</td>\n",
       "      <td>1062</td>\n",
       "      <td>162</td>\n",
       "      <td>283</td>\n",
       "      <td>54</td>\n",
       "      <td>4</td>\n",
       "      <td>37</td>\n",
       "      <td>144.0</td>\n",
       "      <td>24.0</td>\n",
       "      <td>7.0</td>\n",
       "      <td>97</td>\n",
       "      <td>176.0</td>\n",
       "      <td>3.0</td>\n",
       "      <td>10.0</td>\n",
       "      <td>4.0</td>\n",
       "      <td>8.0</td>\n",
       "      <td>28.0</td>\n",
       "    </tr>\n",
       "    <tr>\n",
       "      <th>HOU</th>\n",
       "      <td>4</td>\n",
       "      <td>311</td>\n",
       "      <td>926</td>\n",
       "      <td>109</td>\n",
       "      <td>218</td>\n",
       "      <td>47</td>\n",
       "      <td>6</td>\n",
       "      <td>14</td>\n",
       "      <td>77.0</td>\n",
       "      <td>10.0</td>\n",
       "      <td>4.0</td>\n",
       "      <td>60</td>\n",
       "      <td>212.0</td>\n",
       "      <td>3.0</td>\n",
       "      <td>9.0</td>\n",
       "      <td>16.0</td>\n",
       "      <td>6.0</td>\n",
       "      <td>17.0</td>\n",
       "    </tr>\n",
       "    <tr>\n",
       "      <th>LAN</th>\n",
       "      <td>11</td>\n",
       "      <td>413</td>\n",
       "      <td>1021</td>\n",
       "      <td>153</td>\n",
       "      <td>293</td>\n",
       "      <td>61</td>\n",
       "      <td>3</td>\n",
       "      <td>36</td>\n",
       "      <td>154.0</td>\n",
       "      <td>7.0</td>\n",
       "      <td>5.0</td>\n",
       "      <td>114</td>\n",
       "      <td>141.0</td>\n",
       "      <td>8.0</td>\n",
       "      <td>9.0</td>\n",
       "      <td>3.0</td>\n",
       "      <td>8.0</td>\n",
       "      <td>29.0</td>\n",
       "    </tr>\n",
       "    <tr>\n",
       "      <th>NYN</th>\n",
       "      <td>13</td>\n",
       "      <td>622</td>\n",
       "      <td>1854</td>\n",
       "      <td>240</td>\n",
       "      <td>509</td>\n",
       "      <td>101</td>\n",
       "      <td>3</td>\n",
       "      <td>61</td>\n",
       "      <td>243.0</td>\n",
       "      <td>22.0</td>\n",
       "      <td>4.0</td>\n",
       "      <td>174</td>\n",
       "      <td>310.0</td>\n",
       "      <td>24.0</td>\n",
       "      <td>23.0</td>\n",
       "      <td>18.0</td>\n",
       "      <td>15.0</td>\n",
       "      <td>48.0</td>\n",
       "    </tr>\n",
       "    <tr>\n",
       "      <th>SFN</th>\n",
       "      <td>5</td>\n",
       "      <td>482</td>\n",
       "      <td>1305</td>\n",
       "      <td>198</td>\n",
       "      <td>337</td>\n",
       "      <td>67</td>\n",
       "      <td>6</td>\n",
       "      <td>40</td>\n",
       "      <td>171.0</td>\n",
       "      <td>26.0</td>\n",
       "      <td>7.0</td>\n",
       "      <td>235</td>\n",
       "      <td>188.0</td>\n",
       "      <td>51.0</td>\n",
       "      <td>8.0</td>\n",
       "      <td>16.0</td>\n",
       "      <td>6.0</td>\n",
       "      <td>41.0</td>\n",
       "    </tr>\n",
       "    <tr>\n",
       "      <th>TEX</th>\n",
       "      <td>2</td>\n",
       "      <td>198</td>\n",
       "      <td>729</td>\n",
       "      <td>115</td>\n",
       "      <td>200</td>\n",
       "      <td>40</td>\n",
       "      <td>4</td>\n",
       "      <td>28</td>\n",
       "      <td>115.0</td>\n",
       "      <td>21.0</td>\n",
       "      <td>4.0</td>\n",
       "      <td>73</td>\n",
       "      <td>140.0</td>\n",
       "      <td>4.0</td>\n",
       "      <td>5.0</td>\n",
       "      <td>2.0</td>\n",
       "      <td>8.0</td>\n",
       "      <td>16.0</td>\n",
       "    </tr>\n",
       "    <tr>\n",
       "      <th>TOR</th>\n",
       "      <td>4</td>\n",
       "      <td>459</td>\n",
       "      <td>1408</td>\n",
       "      <td>187</td>\n",
       "      <td>378</td>\n",
       "      <td>96</td>\n",
       "      <td>2</td>\n",
       "      <td>58</td>\n",
       "      <td>223.0</td>\n",
       "      <td>4.0</td>\n",
       "      <td>2.0</td>\n",
       "      <td>190</td>\n",
       "      <td>265.0</td>\n",
       "      <td>16.0</td>\n",
       "      <td>12.0</td>\n",
       "      <td>4.0</td>\n",
       "      <td>16.0</td>\n",
       "      <td>38.0</td>\n",
       "    </tr>\n",
       "  </tbody>\n",
       "</table>\n",
       "</div>"
      ],
      "text/plain": [
       "           stint    g    ab    r    h  X2b  X3b  hr    rbi    sb   cs   bb  \\\n",
       "year team                                                                    \n",
       "2007 CIN       6  379   745  101  203   35    2  36  125.0  10.0  1.0  105   \n",
       "     DET       5  301  1062  162  283   54    4  37  144.0  24.0  7.0   97   \n",
       "     HOU       4  311   926  109  218   47    6  14   77.0  10.0  4.0   60   \n",
       "     LAN      11  413  1021  153  293   61    3  36  154.0   7.0  5.0  114   \n",
       "     NYN      13  622  1854  240  509  101    3  61  243.0  22.0  4.0  174   \n",
       "     SFN       5  482  1305  198  337   67    6  40  171.0  26.0  7.0  235   \n",
       "     TEX       2  198   729  115  200   40    4  28  115.0  21.0  4.0   73   \n",
       "     TOR       4  459  1408  187  378   96    2  58  223.0   4.0  2.0  190   \n",
       "\n",
       "              so   ibb   hbp    sh    sf  gidp  \n",
       "year team                                       \n",
       "2007 CIN   127.0  14.0   1.0   1.0  15.0  18.0  \n",
       "     DET   176.0   3.0  10.0   4.0   8.0  28.0  \n",
       "     HOU   212.0   3.0   9.0  16.0   6.0  17.0  \n",
       "     LAN   141.0   8.0   9.0   3.0   8.0  29.0  \n",
       "     NYN   310.0  24.0  23.0  18.0  15.0  48.0  \n",
       "     SFN   188.0  51.0   8.0  16.0   6.0  41.0  \n",
       "     TEX   140.0   4.0   5.0   2.0   8.0  16.0  \n",
       "     TOR   265.0  16.0  12.0   4.0  16.0  38.0  "
      ]
     },
     "execution_count": 127,
     "metadata": {},
     "output_type": "execute_result"
    }
   ],
   "source": [
    "bb = pd.read_csv('data/baseball.csv', index_col='id')\n",
    "bb.groupby(['year', 'team']).sum().loc[lambda df: df['r'] > 100]"
   ]
  },
  {
   "cell_type": "code",
   "execution_count": 8,
   "id": "aquatic-seller",
   "metadata": {},
   "outputs": [
    {
     "data": {
      "text/plain": [
       "a    1\n",
       "c    3\n",
       "Name: A, dtype: int64"
      ]
     },
     "execution_count": 8,
     "metadata": {},
     "output_type": "execute_result"
    }
   ],
   "source": [
    "dfd = pd.DataFrame({'A': [1, 2, 3],\n",
    "                    'B': [4, 5, 6]},\n",
    "                   index=list('abc'))\n",
    "dfd.A[['a', 'c']]\n",
    "dfd.loc[['a','c'],'A']\n",
    "dfd.loc[dfd.index[[0,2]], 'A']"
   ]
  },
  {
   "cell_type": "code",
   "execution_count": 9,
   "id": "vulnerable-coordinate",
   "metadata": {},
   "outputs": [
    {
     "data": {
      "text/html": [
       "<div>\n",
       "<style scoped>\n",
       "    .dataframe tbody tr th:only-of-type {\n",
       "        vertical-align: middle;\n",
       "    }\n",
       "\n",
       "    .dataframe tbody tr th {\n",
       "        vertical-align: top;\n",
       "    }\n",
       "\n",
       "    .dataframe thead th {\n",
       "        text-align: right;\n",
       "    }\n",
       "</style>\n",
       "<table border=\"1\" class=\"dataframe\">\n",
       "  <thead>\n",
       "    <tr style=\"text-align: right;\">\n",
       "      <th></th>\n",
       "      <th>A</th>\n",
       "      <th>B</th>\n",
       "    </tr>\n",
       "  </thead>\n",
       "  <tbody>\n",
       "    <tr>\n",
       "      <th>a</th>\n",
       "      <td>1</td>\n",
       "      <td>4</td>\n",
       "    </tr>\n",
       "    <tr>\n",
       "      <th>c</th>\n",
       "      <td>3</td>\n",
       "      <td>6</td>\n",
       "    </tr>\n",
       "  </tbody>\n",
       "</table>\n",
       "</div>"
      ],
      "text/plain": [
       "   A  B\n",
       "a  1  4\n",
       "c  3  6"
      ]
     },
     "execution_count": 9,
     "metadata": {},
     "output_type": "execute_result"
    }
   ],
   "source": [
    "dfd.iloc[[0, 2], dfd.columns.get_indexer(['A', 'B'])]"
   ]
  },
  {
   "cell_type": "code",
   "execution_count": 11,
   "id": "superb-counter",
   "metadata": {},
   "outputs": [
    {
     "data": {
      "text/plain": [
       "1    2\n",
       "2    3\n",
       "dtype: int64"
      ]
     },
     "execution_count": 11,
     "metadata": {},
     "output_type": "execute_result"
    }
   ],
   "source": [
    "s=pd.Series([ 1, 2, 3, ])\n",
    "labels = [ 1, 2, 3, ]\n",
    "s.loc[s.index.intersection(labels)]"
   ]
  },
  {
   "cell_type": "code",
   "execution_count": 18,
   "id": "urban-revolution",
   "metadata": {},
   "outputs": [
    {
     "data": {
      "text/plain": [
       "1    1\n",
       "4    4\n",
       "dtype: int64"
      ]
     },
     "execution_count": 18,
     "metadata": {},
     "output_type": "execute_result"
    }
   ],
   "source": [
    "s = pd.Series([0, 1, 2, 3, 4, 5])\n",
    "s.sample(n=3)\n",
    "s.sample(frac=0.3)"
   ]
  },
  {
   "cell_type": "code",
   "execution_count": 20,
   "id": "swedish-physics",
   "metadata": {},
   "outputs": [
    {
     "data": {
      "text/plain": [
       "0    0\n",
       "2    2\n",
       "5    5\n",
       "5    5\n",
       "5    5\n",
       "4    4\n",
       "dtype: int64"
      ]
     },
     "execution_count": 20,
     "metadata": {},
     "output_type": "execute_result"
    }
   ],
   "source": [
    "s = pd.Series([0, 1, 2, 3, 4, 5])\n",
    "s.sample(6, replace=False)\n",
    "s.sample(n=6, replace=True)"
   ]
  },
  {
   "cell_type": "code",
   "execution_count": 21,
   "id": "pursuant-rehabilitation",
   "metadata": {},
   "outputs": [
    {
     "data": {
      "text/plain": [
       "4    4\n",
       "5    5\n",
       "2    2\n",
       "dtype: int64"
      ]
     },
     "execution_count": 21,
     "metadata": {},
     "output_type": "execute_result"
    }
   ],
   "source": [
    "s = pd.Series([0, 1, 2, 3, 4, 5])\n",
    "example_weights = [0, 0, 0.2, 0.2, 0.2, 0.4]\n",
    "s.sample(n=3, weights=example_weights)"
   ]
  },
  {
   "cell_type": "code",
   "execution_count": 24,
   "id": "imported-custody",
   "metadata": {},
   "outputs": [
    {
     "data": {
      "text/html": [
       "<div>\n",
       "<style scoped>\n",
       "    .dataframe tbody tr th:only-of-type {\n",
       "        vertical-align: middle;\n",
       "    }\n",
       "\n",
       "    .dataframe tbody tr th {\n",
       "        vertical-align: top;\n",
       "    }\n",
       "\n",
       "    .dataframe thead th {\n",
       "        text-align: right;\n",
       "    }\n",
       "</style>\n",
       "<table border=\"1\" class=\"dataframe\">\n",
       "  <thead>\n",
       "    <tr style=\"text-align: right;\">\n",
       "      <th></th>\n",
       "      <th>col1</th>\n",
       "      <th>weight_column</th>\n",
       "    </tr>\n",
       "  </thead>\n",
       "  <tbody>\n",
       "    <tr>\n",
       "      <th>1</th>\n",
       "      <td>8</td>\n",
       "      <td>0.3</td>\n",
       "    </tr>\n",
       "    <tr>\n",
       "      <th>2</th>\n",
       "      <td>7</td>\n",
       "      <td>0.2</td>\n",
       "    </tr>\n",
       "    <tr>\n",
       "      <th>0</th>\n",
       "      <td>9</td>\n",
       "      <td>0.4</td>\n",
       "    </tr>\n",
       "  </tbody>\n",
       "</table>\n",
       "</div>"
      ],
      "text/plain": [
       "   col1  weight_column\n",
       "1     8            0.3\n",
       "2     7            0.2\n",
       "0     9            0.4"
      ]
     },
     "execution_count": 24,
     "metadata": {},
     "output_type": "execute_result"
    }
   ],
   "source": [
    "df2 = pd.DataFrame({'col1': [9, 8, 7, 6], 'weight_column': [0.4, 0.3, 0.2, 0.1]})\n",
    "df2.sample(3, weights='weight_column')"
   ]
  },
  {
   "cell_type": "code",
   "execution_count": 36,
   "id": "documented-present",
   "metadata": {},
   "outputs": [],
   "source": [
    "dfi = pd.DataFrame(np.arange(6).reshape(3, 2), columns=['A', 'B'])"
   ]
  },
  {
   "cell_type": "code",
   "execution_count": 37,
   "id": "fifth-onion",
   "metadata": {},
   "outputs": [
    {
     "name": "stdout",
     "output_type": "stream",
     "text": [
      "272 µs ± 13.9 µs per loop (mean ± std. dev. of 7 runs, 1000 loops each)\n"
     ]
    }
   ],
   "source": [
    "%timeit dfi.loc[:, 'C'] = dfi.loc[:, 'A']"
   ]
  },
  {
   "cell_type": "code",
   "execution_count": 38,
   "id": "skilled-liver",
   "metadata": {},
   "outputs": [
    {
     "name": "stdout",
     "output_type": "stream",
     "text": [
      "99.5 µs ± 1.52 µs per loop (mean ± std. dev. of 7 runs, 10000 loops each)\n"
     ]
    }
   ],
   "source": [
    "%timeit dfi['C'] = dfi['A']"
   ]
  },
  {
   "cell_type": "code",
   "execution_count": 42,
   "id": "controlling-solution",
   "metadata": {},
   "outputs": [
    {
     "data": {
      "text/plain": [
       "3    0\n",
       "4    1\n",
       "5    2\n",
       "6    3\n",
       "dtype: int64"
      ]
     },
     "execution_count": 42,
     "metadata": {},
     "output_type": "execute_result"
    }
   ],
   "source": [
    "s = pd.Series(range(-3, 4))\n",
    "s[s > 0]\n",
    "s[(s < -1) | (s > 0.5)]\n",
    "s[~(s < 0)]"
   ]
  },
  {
   "cell_type": "code",
   "execution_count": 53,
   "id": "moved-portable",
   "metadata": {},
   "outputs": [
    {
     "data": {
      "text/html": [
       "<div>\n",
       "<style scoped>\n",
       "    .dataframe tbody tr th:only-of-type {\n",
       "        vertical-align: middle;\n",
       "    }\n",
       "\n",
       "    .dataframe tbody tr th {\n",
       "        vertical-align: top;\n",
       "    }\n",
       "\n",
       "    .dataframe thead th {\n",
       "        text-align: right;\n",
       "    }\n",
       "</style>\n",
       "<table border=\"1\" class=\"dataframe\">\n",
       "  <thead>\n",
       "    <tr style=\"text-align: right;\">\n",
       "      <th></th>\n",
       "      <th>a</th>\n",
       "      <th>b</th>\n",
       "      <th>c</th>\n",
       "    </tr>\n",
       "  </thead>\n",
       "  <tbody>\n",
       "    <tr>\n",
       "      <th>3</th>\n",
       "      <td>three</td>\n",
       "      <td>x</td>\n",
       "      <td>0.43522</td>\n",
       "    </tr>\n",
       "  </tbody>\n",
       "</table>\n",
       "</div>"
      ],
      "text/plain": [
       "       a  b        c\n",
       "3  three  x  0.43522"
      ]
     },
     "execution_count": 53,
     "metadata": {},
     "output_type": "execute_result"
    }
   ],
   "source": [
    "df2 = pd.DataFrame({'a': ['one', 'one', 'two', 'three', 'two', 'one', 'six'],\n",
    "                    'b': ['x', 'y', 'y', 'x', 'y', 'x', 'x'],\n",
    "                    'c': np.random.randn(7)})\n",
    "df2\n",
    "# only want 'two' or 'three'\n",
    "criterion = df2['a'].map(lambda x: x.startswith('t'))\n",
    "df2[criterion]\n",
    "# equivalent but slower\n",
    "criterion = [x.startswith('t') for x in df2.a]\n",
    "df2[criterion]\n",
    "# Multiple criteria\n",
    "df2[criterion & (df2['b'] == 'x')]"
   ]
  },
  {
   "cell_type": "code",
   "execution_count": 50,
   "id": "challenging-category",
   "metadata": {},
   "outputs": [
    {
     "name": "stdout",
     "output_type": "stream",
     "text": [
      "270 µs ± 17.5 µs per loop (mean ± std. dev. of 7 runs, 1000 loops each)\n"
     ]
    }
   ],
   "source": [
    "%timeit df2[criterion]"
   ]
  },
  {
   "cell_type": "code",
   "execution_count": 52,
   "id": "fitting-router",
   "metadata": {},
   "outputs": [
    {
     "name": "stdout",
     "output_type": "stream",
     "text": [
      "260 µs ± 13.5 µs per loop (mean ± std. dev. of 7 runs, 1000 loops each)\n"
     ]
    }
   ],
   "source": [
    "%timeit df2[criterion]"
   ]
  },
  {
   "cell_type": "code",
   "execution_count": 69,
   "id": "passing-lucas",
   "metadata": {},
   "outputs": [
    {
     "data": {
      "text/plain": [
       "array([False,  True,  True])"
      ]
     },
     "execution_count": 69,
     "metadata": {},
     "output_type": "execute_result"
    }
   ],
   "source": [
    "df = pd.DataFrame([[1, 2], [3, 4], [5, 6]],\n",
    "                  index=list('abc'),\n",
    "                  columns=['A', 'B'])\n",
    "df\n",
    "s = (df['A'] > 2)\n",
    "df.loc[s, 'B']\n",
    "#df.iloc[s,1] # ValueError: Location based indexing can only have\n",
    "df.iloc[s.values, 1] # works perfectly\n",
    "# s returns a series but s.values returns a numpyarray"
   ]
  },
  {
   "cell_type": "code",
   "execution_count": 76,
   "id": "cosmetic-replication",
   "metadata": {},
   "outputs": [
    {
     "data": {
      "text/plain": [
       "a      object\n",
       "b    category\n",
       "dtype: object"
      ]
     },
     "execution_count": 76,
     "metadata": {},
     "output_type": "execute_result"
    }
   ],
   "source": [
    "dft = DataFrame({\n",
    "    'a':['a', 'b', 'c'],\n",
    "    'b':['sorted', 'sorted', 'unsorted']\n",
    "})\n",
    "dft['b'] = dft['b'].str.title()\n",
    "dft['b'] = dft['b'].astype('category')\n",
    "dft.dtypes"
   ]
  },
  {
   "cell_type": "code",
   "execution_count": 90,
   "id": "coupled-tunnel",
   "metadata": {},
   "outputs": [
    {
     "data": {
      "text/plain": [
       "2    30.0\n",
       "4    50.0\n",
       "6     NaN\n",
       "dtype: float64"
      ]
     },
     "execution_count": 90,
     "metadata": {},
     "output_type": "execute_result"
    }
   ],
   "source": [
    "s = pd.Series(np.arange(10,51,10), index=np.arange(5), dtype='int64')\n",
    "s.index.isin([2, 4])\n",
    "s[s.index.isin([2, 4, 6])]\n",
    "s.reindex([2, 4, 6])"
   ]
  },
  {
   "cell_type": "code",
   "execution_count": 95,
   "id": "dedicated-context",
   "metadata": {},
   "outputs": [
    {
     "data": {
      "text/plain": [
       "True"
      ]
     },
     "execution_count": 95,
     "metadata": {},
     "output_type": "execute_result"
    }
   ],
   "source": [
    "l = np.array([1, 3, 2, 4])\n",
    "s = 6\n",
    "np.any(np.isin(l, (s-l)))"
   ]
  },
  {
   "cell_type": "code",
   "execution_count": 103,
   "id": "general-picking",
   "metadata": {},
   "outputs": [
    {
     "data": {
      "text/plain": [
       "0  c    2\n",
       "1  a    3\n",
       "dtype: int64"
      ]
     },
     "execution_count": 103,
     "metadata": {},
     "output_type": "execute_result"
    }
   ],
   "source": [
    "s_mi = pd.Series(np.arange(6),\n",
    "        index=pd.MultiIndex.from_product([[0, 1], ['a', 'b', 'c']]))\n",
    "s_mi.index.isin([(1, 'a'), (2, 'b'), (0, 'c')])\n",
    "s_mi[s_mi.index.isin([(1, 'a'), (2, 'b'), (0, 'c')])]\n",
    "                        \n",
    "                                                                         "
   ]
  },
  {
   "cell_type": "code",
   "execution_count": 118,
   "id": "considered-intelligence",
   "metadata": {},
   "outputs": [
    {
     "data": {
      "text/html": [
       "<div>\n",
       "<style scoped>\n",
       "    .dataframe tbody tr th:only-of-type {\n",
       "        vertical-align: middle;\n",
       "    }\n",
       "\n",
       "    .dataframe tbody tr th {\n",
       "        vertical-align: top;\n",
       "    }\n",
       "\n",
       "    .dataframe thead th {\n",
       "        text-align: right;\n",
       "    }\n",
       "</style>\n",
       "<table border=\"1\" class=\"dataframe\">\n",
       "  <thead>\n",
       "    <tr style=\"text-align: right;\">\n",
       "      <th></th>\n",
       "      <th>vals</th>\n",
       "      <th>ids</th>\n",
       "      <th>ids2</th>\n",
       "    </tr>\n",
       "  </thead>\n",
       "  <tbody>\n",
       "    <tr>\n",
       "      <th>0</th>\n",
       "      <td>1.0</td>\n",
       "      <td>a</td>\n",
       "      <td>a</td>\n",
       "    </tr>\n",
       "    <tr>\n",
       "      <th>1</th>\n",
       "      <td>NaN</td>\n",
       "      <td>b</td>\n",
       "      <td>NaN</td>\n",
       "    </tr>\n",
       "    <tr>\n",
       "      <th>2</th>\n",
       "      <td>3.0</td>\n",
       "      <td>NaN</td>\n",
       "      <td>c</td>\n",
       "    </tr>\n",
       "    <tr>\n",
       "      <th>3</th>\n",
       "      <td>NaN</td>\n",
       "      <td>NaN</td>\n",
       "      <td>NaN</td>\n",
       "    </tr>\n",
       "  </tbody>\n",
       "</table>\n",
       "</div>"
      ],
      "text/plain": [
       "   vals  ids ids2\n",
       "0   1.0    a    a\n",
       "1   NaN    b  NaN\n",
       "2   3.0  NaN    c\n",
       "3   NaN  NaN  NaN"
      ]
     },
     "execution_count": 118,
     "metadata": {},
     "output_type": "execute_result"
    }
   ],
   "source": [
    "df = pd.DataFrame({'vals': [1, 2, 3, 4], 'ids': ['a', 'b', 'f', 'n'],\n",
    "                   'ids2': ['a', 'n', 'c', 'n']})\n",
    "values = {'ids': ['a', 'b'], 'ids2': ['a', 'c'], 'vals': [1, 3]}\n",
    "mask = df.isin(values).all(axis=1)\n",
    "df[mask]"
   ]
  },
  {
   "cell_type": "code",
   "execution_count": 121,
   "id": "powered-clause",
   "metadata": {},
   "outputs": [
    {
     "data": {
      "text/plain": [
       "0    NaN\n",
       "1    NaN\n",
       "2    NaN\n",
       "3    NaN\n",
       "4    1.0\n",
       "5    2.0\n",
       "6    3.0\n",
       "dtype: float64"
      ]
     },
     "execution_count": 121,
     "metadata": {},
     "output_type": "execute_result"
    }
   ],
   "source": [
    "s = pd.Series(range(-3, 4))\n",
    "s[s>0]\n",
    "s.where(s>0)"
   ]
  },
  {
   "cell_type": "code",
   "execution_count": 126,
   "id": "toxic-bristol",
   "metadata": {},
   "outputs": [
    {
     "data": {
      "text/html": [
       "<div>\n",
       "<style scoped>\n",
       "    .dataframe tbody tr th:only-of-type {\n",
       "        vertical-align: middle;\n",
       "    }\n",
       "\n",
       "    .dataframe tbody tr th {\n",
       "        vertical-align: top;\n",
       "    }\n",
       "\n",
       "    .dataframe thead th {\n",
       "        text-align: right;\n",
       "    }\n",
       "</style>\n",
       "<table border=\"1\" class=\"dataframe\">\n",
       "  <thead>\n",
       "    <tr style=\"text-align: right;\">\n",
       "      <th></th>\n",
       "      <th>A</th>\n",
       "      <th>B</th>\n",
       "      <th>C</th>\n",
       "      <th>D</th>\n",
       "    </tr>\n",
       "  </thead>\n",
       "  <tbody>\n",
       "    <tr>\n",
       "      <th>2021-01-02</th>\n",
       "      <td>-0.431607</td>\n",
       "      <td>-0.302695</td>\n",
       "      <td>-0.587823</td>\n",
       "      <td>-0.696161</td>\n",
       "    </tr>\n",
       "    <tr>\n",
       "      <th>2021-01-03</th>\n",
       "      <td>-1.080251</td>\n",
       "      <td>-0.925235</td>\n",
       "      <td>-0.875016</td>\n",
       "      <td>-0.117676</td>\n",
       "    </tr>\n",
       "    <tr>\n",
       "      <th>2021-01-04</th>\n",
       "      <td>-0.264650</td>\n",
       "      <td>-0.211355</td>\n",
       "      <td>-0.197028</td>\n",
       "      <td>-1.652920</td>\n",
       "    </tr>\n",
       "    <tr>\n",
       "      <th>2021-01-05</th>\n",
       "      <td>-1.732677</td>\n",
       "      <td>-0.759164</td>\n",
       "      <td>-0.415342</td>\n",
       "      <td>-0.116503</td>\n",
       "    </tr>\n",
       "    <tr>\n",
       "      <th>2021-01-06</th>\n",
       "      <td>-0.642523</td>\n",
       "      <td>-0.313198</td>\n",
       "      <td>-1.314990</td>\n",
       "      <td>-0.783542</td>\n",
       "    </tr>\n",
       "    <tr>\n",
       "      <th>2021-01-07</th>\n",
       "      <td>-1.316334</td>\n",
       "      <td>-0.455331</td>\n",
       "      <td>-0.427571</td>\n",
       "      <td>-0.309025</td>\n",
       "    </tr>\n",
       "    <tr>\n",
       "      <th>2021-01-08</th>\n",
       "      <td>-0.541618</td>\n",
       "      <td>-0.016221</td>\n",
       "      <td>-1.658743</td>\n",
       "      <td>-1.712345</td>\n",
       "    </tr>\n",
       "    <tr>\n",
       "      <th>2021-01-09</th>\n",
       "      <td>-0.038927</td>\n",
       "      <td>-0.125983</td>\n",
       "      <td>-0.595635</td>\n",
       "      <td>-1.339990</td>\n",
       "    </tr>\n",
       "  </tbody>\n",
       "</table>\n",
       "</div>"
      ],
      "text/plain": [
       "                   A         B         C         D\n",
       "2021-01-02 -0.431607 -0.302695 -0.587823 -0.696161\n",
       "2021-01-03 -1.080251 -0.925235 -0.875016 -0.117676\n",
       "2021-01-04 -0.264650 -0.211355 -0.197028 -1.652920\n",
       "2021-01-05 -1.732677 -0.759164 -0.415342 -0.116503\n",
       "2021-01-06 -0.642523 -0.313198 -1.314990 -0.783542\n",
       "2021-01-07 -1.316334 -0.455331 -0.427571 -0.309025\n",
       "2021-01-08 -0.541618 -0.016221 -1.658743 -1.712345\n",
       "2021-01-09 -0.038927 -0.125983 -0.595635 -1.339990"
      ]
     },
     "execution_count": 126,
     "metadata": {},
     "output_type": "execute_result"
    }
   ],
   "source": [
    "dates=pd.date_range('1/2/2021', periods=8)\n",
    "df = pd.DataFrame(np.random.randn(8, 4), columns=list(\"ABCD\"),\n",
    "                 index=dates)\n",
    "df[df<0]\n",
    "df.where(df<0, -df)"
   ]
  },
  {
   "cell_type": "code",
   "execution_count": 129,
   "id": "interested-underwear",
   "metadata": {},
   "outputs": [
    {
     "data": {
      "text/html": [
       "<div>\n",
       "<style scoped>\n",
       "    .dataframe tbody tr th:only-of-type {\n",
       "        vertical-align: middle;\n",
       "    }\n",
       "\n",
       "    .dataframe tbody tr th {\n",
       "        vertical-align: top;\n",
       "    }\n",
       "\n",
       "    .dataframe thead th {\n",
       "        text-align: right;\n",
       "    }\n",
       "</style>\n",
       "<table border=\"1\" class=\"dataframe\">\n",
       "  <thead>\n",
       "    <tr style=\"text-align: right;\">\n",
       "      <th></th>\n",
       "      <th>A</th>\n",
       "      <th>B</th>\n",
       "      <th>C</th>\n",
       "      <th>D</th>\n",
       "    </tr>\n",
       "  </thead>\n",
       "  <tbody>\n",
       "    <tr>\n",
       "      <th>2021-01-02</th>\n",
       "      <td>0.000000</td>\n",
       "      <td>0.000000</td>\n",
       "      <td>0.587823</td>\n",
       "      <td>0.000000</td>\n",
       "    </tr>\n",
       "    <tr>\n",
       "      <th>2021-01-03</th>\n",
       "      <td>0.000000</td>\n",
       "      <td>0.000000</td>\n",
       "      <td>0.000000</td>\n",
       "      <td>0.000000</td>\n",
       "    </tr>\n",
       "    <tr>\n",
       "      <th>2021-01-04</th>\n",
       "      <td>0.264650</td>\n",
       "      <td>0.211355</td>\n",
       "      <td>0.197028</td>\n",
       "      <td>0.000000</td>\n",
       "    </tr>\n",
       "    <tr>\n",
       "      <th>2021-01-05</th>\n",
       "      <td>1.732677</td>\n",
       "      <td>0.000000</td>\n",
       "      <td>0.415342</td>\n",
       "      <td>0.000000</td>\n",
       "    </tr>\n",
       "    <tr>\n",
       "      <th>2021-01-06</th>\n",
       "      <td>0.642523</td>\n",
       "      <td>0.313198</td>\n",
       "      <td>1.314990</td>\n",
       "      <td>0.783542</td>\n",
       "    </tr>\n",
       "    <tr>\n",
       "      <th>2021-01-07</th>\n",
       "      <td>0.000000</td>\n",
       "      <td>0.455331</td>\n",
       "      <td>0.000000</td>\n",
       "      <td>0.000000</td>\n",
       "    </tr>\n",
       "    <tr>\n",
       "      <th>2021-01-08</th>\n",
       "      <td>0.541618</td>\n",
       "      <td>0.000000</td>\n",
       "      <td>1.658743</td>\n",
       "      <td>0.000000</td>\n",
       "    </tr>\n",
       "    <tr>\n",
       "      <th>2021-01-09</th>\n",
       "      <td>0.000000</td>\n",
       "      <td>0.000000</td>\n",
       "      <td>0.595635</td>\n",
       "      <td>0.000000</td>\n",
       "    </tr>\n",
       "  </tbody>\n",
       "</table>\n",
       "</div>"
      ],
      "text/plain": [
       "                   A         B         C         D\n",
       "2021-01-02  0.000000  0.000000  0.587823  0.000000\n",
       "2021-01-03  0.000000  0.000000  0.000000  0.000000\n",
       "2021-01-04  0.264650  0.211355  0.197028  0.000000\n",
       "2021-01-05  1.732677  0.000000  0.415342  0.000000\n",
       "2021-01-06  0.642523  0.313198  1.314990  0.783542\n",
       "2021-01-07  0.000000  0.455331  0.000000  0.000000\n",
       "2021-01-08  0.541618  0.000000  1.658743  0.000000\n",
       "2021-01-09  0.000000  0.000000  0.595635  0.000000"
      ]
     },
     "execution_count": 129,
     "metadata": {},
     "output_type": "execute_result"
    }
   ],
   "source": [
    "s2 = s.copy()\n",
    "s2[s2 < 0] = 0\n",
    "s2\n",
    "\n",
    "df2= df.copy()\n",
    "df2[df2<0] = 0\n",
    "df2"
   ]
  },
  {
   "cell_type": "code",
   "execution_count": 132,
   "id": "damaged-chamber",
   "metadata": {},
   "outputs": [
    {
     "data": {
      "text/html": [
       "<div>\n",
       "<style scoped>\n",
       "    .dataframe tbody tr th:only-of-type {\n",
       "        vertical-align: middle;\n",
       "    }\n",
       "\n",
       "    .dataframe tbody tr th {\n",
       "        vertical-align: top;\n",
       "    }\n",
       "\n",
       "    .dataframe thead th {\n",
       "        text-align: right;\n",
       "    }\n",
       "</style>\n",
       "<table border=\"1\" class=\"dataframe\">\n",
       "  <thead>\n",
       "    <tr style=\"text-align: right;\">\n",
       "      <th></th>\n",
       "      <th>A</th>\n",
       "      <th>B</th>\n",
       "      <th>C</th>\n",
       "      <th>D</th>\n",
       "    </tr>\n",
       "  </thead>\n",
       "  <tbody>\n",
       "    <tr>\n",
       "      <th>2021-01-02</th>\n",
       "      <td>0.000000</td>\n",
       "      <td>0.000000</td>\n",
       "      <td>0.587823</td>\n",
       "      <td>0.000000</td>\n",
       "    </tr>\n",
       "    <tr>\n",
       "      <th>2021-01-03</th>\n",
       "      <td>0.000000</td>\n",
       "      <td>0.000000</td>\n",
       "      <td>0.000000</td>\n",
       "      <td>0.000000</td>\n",
       "    </tr>\n",
       "    <tr>\n",
       "      <th>2021-01-04</th>\n",
       "      <td>0.264650</td>\n",
       "      <td>0.211355</td>\n",
       "      <td>0.197028</td>\n",
       "      <td>0.000000</td>\n",
       "    </tr>\n",
       "    <tr>\n",
       "      <th>2021-01-05</th>\n",
       "      <td>1.732677</td>\n",
       "      <td>0.000000</td>\n",
       "      <td>0.415342</td>\n",
       "      <td>0.000000</td>\n",
       "    </tr>\n",
       "    <tr>\n",
       "      <th>2021-01-06</th>\n",
       "      <td>0.642523</td>\n",
       "      <td>0.313198</td>\n",
       "      <td>1.314990</td>\n",
       "      <td>0.783542</td>\n",
       "    </tr>\n",
       "    <tr>\n",
       "      <th>2021-01-07</th>\n",
       "      <td>0.000000</td>\n",
       "      <td>0.455331</td>\n",
       "      <td>0.000000</td>\n",
       "      <td>0.000000</td>\n",
       "    </tr>\n",
       "    <tr>\n",
       "      <th>2021-01-08</th>\n",
       "      <td>0.541618</td>\n",
       "      <td>0.000000</td>\n",
       "      <td>1.658743</td>\n",
       "      <td>0.000000</td>\n",
       "    </tr>\n",
       "    <tr>\n",
       "      <th>2021-01-09</th>\n",
       "      <td>0.000000</td>\n",
       "      <td>0.000000</td>\n",
       "      <td>0.595635</td>\n",
       "      <td>0.000000</td>\n",
       "    </tr>\n",
       "  </tbody>\n",
       "</table>\n",
       "</div>"
      ],
      "text/plain": [
       "                   A         B         C         D\n",
       "2021-01-02  0.000000  0.000000  0.587823  0.000000\n",
       "2021-01-03  0.000000  0.000000  0.000000  0.000000\n",
       "2021-01-04  0.264650  0.211355  0.197028  0.000000\n",
       "2021-01-05  1.732677  0.000000  0.415342  0.000000\n",
       "2021-01-06  0.642523  0.313198  1.314990  0.783542\n",
       "2021-01-07  0.000000  0.455331  0.000000  0.000000\n",
       "2021-01-08  0.541618  0.000000  1.658743  0.000000\n",
       "2021-01-09  0.000000  0.000000  0.595635  0.000000"
      ]
     },
     "execution_count": 132,
     "metadata": {},
     "output_type": "execute_result"
    }
   ],
   "source": [
    "df_orig = df.copy()\n",
    "df_orig.where(df_orig>0, 0., inplace=True)\n",
    "df_orig"
   ]
  },
  {
   "cell_type": "code",
   "execution_count": 133,
   "id": "assisted-relaxation",
   "metadata": {},
   "outputs": [
    {
     "name": "stdout",
     "output_type": "stream",
     "text": [
      "1.22 ms ± 113 µs per loop (mean ± std. dev. of 7 runs, 1000 loops each)\n"
     ]
    }
   ],
   "source": [
    "%timeit df.where(df < 0, -df) # 1.22 ms ± 113 µs per loop"
   ]
  },
  {
   "cell_type": "code",
   "execution_count": 134,
   "id": "structural-monster",
   "metadata": {},
   "outputs": [
    {
     "name": "stdout",
     "output_type": "stream",
     "text": [
      "276 µs ± 27.7 µs per loop (mean ± std. dev. of 7 runs, 1000 loops each)\n"
     ]
    }
   ],
   "source": [
    "%timeit np.where(df < 0, df, -df) # 276 µs ± 27.7 µs per loop"
   ]
  },
  {
   "cell_type": "code",
   "execution_count": 141,
   "id": "demanding-gallery",
   "metadata": {},
   "outputs": [
    {
     "name": "stdout",
     "output_type": "stream",
     "text": [
      "                   A         B         C         D\n",
      "2021-01-02 -0.431607 -0.302695  0.587823 -0.696161\n",
      "2021-01-03 -1.080251 -0.925235 -0.875016 -0.117676\n",
      "2021-01-04  0.264650  0.211355  0.197028 -1.652920\n",
      "2021-01-05  1.732677 -0.759164  0.415342 -0.116503\n",
      "2021-01-06  0.642523  0.313198  1.314990  0.783542\n",
      "2021-01-07 -1.316334  0.455331 -0.427571 -0.309025\n",
      "2021-01-08  0.541618 -0.016221  1.658743 -1.712345\n",
      "2021-01-09 -0.038927 -0.125983  0.595635 -1.339990\n"
     ]
    },
    {
     "data": {
      "text/html": [
       "<div>\n",
       "<style scoped>\n",
       "    .dataframe tbody tr th:only-of-type {\n",
       "        vertical-align: middle;\n",
       "    }\n",
       "\n",
       "    .dataframe tbody tr th {\n",
       "        vertical-align: top;\n",
       "    }\n",
       "\n",
       "    .dataframe thead th {\n",
       "        text-align: right;\n",
       "    }\n",
       "</style>\n",
       "<table border=\"1\" class=\"dataframe\">\n",
       "  <thead>\n",
       "    <tr style=\"text-align: right;\">\n",
       "      <th></th>\n",
       "      <th>A</th>\n",
       "      <th>B</th>\n",
       "      <th>C</th>\n",
       "      <th>D</th>\n",
       "    </tr>\n",
       "  </thead>\n",
       "  <tbody>\n",
       "    <tr>\n",
       "      <th>2021-01-02</th>\n",
       "      <td>-0.431607</td>\n",
       "      <td>-0.302695</td>\n",
       "      <td>0.587823</td>\n",
       "      <td>-0.696161</td>\n",
       "    </tr>\n",
       "    <tr>\n",
       "      <th>2021-01-03</th>\n",
       "      <td>-1.080251</td>\n",
       "      <td>-0.925235</td>\n",
       "      <td>-0.875016</td>\n",
       "      <td>-0.117676</td>\n",
       "    </tr>\n",
       "    <tr>\n",
       "      <th>2021-01-04</th>\n",
       "      <td>3.000000</td>\n",
       "      <td>3.000000</td>\n",
       "      <td>3.000000</td>\n",
       "      <td>-1.652920</td>\n",
       "    </tr>\n",
       "    <tr>\n",
       "      <th>2021-01-05</th>\n",
       "      <td>3.000000</td>\n",
       "      <td>-0.759164</td>\n",
       "      <td>3.000000</td>\n",
       "      <td>-0.116503</td>\n",
       "    </tr>\n",
       "    <tr>\n",
       "      <th>2021-01-06</th>\n",
       "      <td>0.642523</td>\n",
       "      <td>0.313198</td>\n",
       "      <td>1.314990</td>\n",
       "      <td>0.783542</td>\n",
       "    </tr>\n",
       "    <tr>\n",
       "      <th>2021-01-07</th>\n",
       "      <td>-1.316334</td>\n",
       "      <td>0.455331</td>\n",
       "      <td>-0.427571</td>\n",
       "      <td>-0.309025</td>\n",
       "    </tr>\n",
       "    <tr>\n",
       "      <th>2021-01-08</th>\n",
       "      <td>0.541618</td>\n",
       "      <td>-0.016221</td>\n",
       "      <td>1.658743</td>\n",
       "      <td>-1.712345</td>\n",
       "    </tr>\n",
       "    <tr>\n",
       "      <th>2021-01-09</th>\n",
       "      <td>-0.038927</td>\n",
       "      <td>-0.125983</td>\n",
       "      <td>0.595635</td>\n",
       "      <td>-1.339990</td>\n",
       "    </tr>\n",
       "  </tbody>\n",
       "</table>\n",
       "</div>"
      ],
      "text/plain": [
       "                   A         B         C         D\n",
       "2021-01-02 -0.431607 -0.302695  0.587823 -0.696161\n",
       "2021-01-03 -1.080251 -0.925235 -0.875016 -0.117676\n",
       "2021-01-04  3.000000  3.000000  3.000000 -1.652920\n",
       "2021-01-05  3.000000 -0.759164  3.000000 -0.116503\n",
       "2021-01-06  0.642523  0.313198  1.314990  0.783542\n",
       "2021-01-07 -1.316334  0.455331 -0.427571 -0.309025\n",
       "2021-01-08  0.541618 -0.016221  1.658743 -1.712345\n",
       "2021-01-09 -0.038927 -0.125983  0.595635 -1.339990"
      ]
     },
     "execution_count": 141,
     "metadata": {},
     "output_type": "execute_result"
    }
   ],
   "source": [
    "df2 = df.copy()\n",
    "print(df2)\n",
    "df2[df2[1:4] > 0] = 3\n",
    "df2"
   ]
  },
  {
   "cell_type": "code",
   "execution_count": 168,
   "id": "purple-section",
   "metadata": {},
   "outputs": [
    {
     "data": {
      "text/html": [
       "<div>\n",
       "<style scoped>\n",
       "    .dataframe tbody tr th:only-of-type {\n",
       "        vertical-align: middle;\n",
       "    }\n",
       "\n",
       "    .dataframe tbody tr th {\n",
       "        vertical-align: top;\n",
       "    }\n",
       "\n",
       "    .dataframe thead th {\n",
       "        text-align: right;\n",
       "    }\n",
       "</style>\n",
       "<table border=\"1\" class=\"dataframe\">\n",
       "  <thead>\n",
       "    <tr style=\"text-align: right;\">\n",
       "      <th></th>\n",
       "      <th>a</th>\n",
       "      <th>b</th>\n",
       "      <th>c</th>\n",
       "    </tr>\n",
       "  </thead>\n",
       "  <tbody>\n",
       "    <tr>\n",
       "      <th>0</th>\n",
       "      <td>-3</td>\n",
       "      <td>-2</td>\n",
       "      <td>-1</td>\n",
       "    </tr>\n",
       "    <tr>\n",
       "      <th>1</th>\n",
       "      <td>-2</td>\n",
       "      <td>-1</td>\n",
       "      <td>0</td>\n",
       "    </tr>\n",
       "    <tr>\n",
       "      <th>2</th>\n",
       "      <td>-1</td>\n",
       "      <td>0</td>\n",
       "      <td>1</td>\n",
       "    </tr>\n",
       "    <tr>\n",
       "      <th>3</th>\n",
       "      <td>0</td>\n",
       "      <td>1</td>\n",
       "      <td>2</td>\n",
       "    </tr>\n",
       "    <tr>\n",
       "      <th>4</th>\n",
       "      <td>1</td>\n",
       "      <td>2</td>\n",
       "      <td>3</td>\n",
       "    </tr>\n",
       "    <tr>\n",
       "      <th>5</th>\n",
       "      <td>2</td>\n",
       "      <td>3</td>\n",
       "      <td>4</td>\n",
       "    </tr>\n",
       "  </tbody>\n",
       "</table>\n",
       "</div>"
      ],
      "text/plain": [
       "   a  b  c\n",
       "0 -3 -2 -1\n",
       "1 -2 -1  0\n",
       "2 -1  0  1\n",
       "3  0  1  2\n",
       "4  1  2  3\n",
       "5  2  3  4"
      ]
     },
     "execution_count": 168,
     "metadata": {},
     "output_type": "execute_result"
    }
   ],
   "source": [
    "df2 = DataFrame({\n",
    "    'a':np.arange(-3,3),\n",
    "    'b':np.arange(-2,4),\n",
    "    'c':np.arange(-1,5)\n",
    "})\n",
    "df2\n"
   ]
  },
  {
   "cell_type": "code",
   "execution_count": 171,
   "id": "lasting-presence",
   "metadata": {},
   "outputs": [
    {
     "name": "stdout",
     "output_type": "stream",
     "text": [
      "939 µs ± 31.3 µs per loop (mean ± std. dev. of 7 runs, 1000 loops each)\n"
     ]
    }
   ],
   "source": [
    "%timeit df2.where(df2>0, df2['a'], axis=0) # 939 µs ± 31.3 µs per loop (mean ± std. dev. of 7 runs, 1000 loops each)"
   ]
  },
  {
   "cell_type": "code",
   "execution_count": 172,
   "id": "amazing-counter",
   "metadata": {},
   "outputs": [
    {
     "name": "stdout",
     "output_type": "stream",
     "text": [
      "2.99 ms ± 147 µs per loop (mean ± std. dev. of 7 runs, 100 loops each)\n"
     ]
    }
   ],
   "source": [
    "%timeit df2.apply(lambda x,y: x.where(x>0,y), y=df2['a']) # 2.99 ms ± 147 µs per loop (mean ± std. dev. of 7 runs, 100 loops each)"
   ]
  },
  {
   "cell_type": "code",
   "execution_count": 186,
   "id": "special-glucose",
   "metadata": {},
   "outputs": [
    {
     "name": "stdout",
     "output_type": "stream",
     "text": [
      "809 µs ± 29.6 µs per loop (mean ± std. dev. of 7 runs, 1000 loops each)\n"
     ]
    }
   ],
   "source": [
    "%timeit np.where(df2>0, df2, df2[list(len(df2.columns)*'a')])"
   ]
  },
  {
   "cell_type": "code",
   "execution_count": 185,
   "id": "latest-penguin",
   "metadata": {},
   "outputs": [
    {
     "data": {
      "text/plain": [
       "3"
      ]
     },
     "execution_count": 185,
     "metadata": {},
     "output_type": "execute_result"
    }
   ],
   "source": [
    "len(df2.columns)"
   ]
  },
  {
   "cell_type": "code",
   "execution_count": 196,
   "id": "handy-massage",
   "metadata": {},
   "outputs": [
    {
     "data": {
      "text/html": [
       "<div>\n",
       "<style scoped>\n",
       "    .dataframe tbody tr th:only-of-type {\n",
       "        vertical-align: middle;\n",
       "    }\n",
       "\n",
       "    .dataframe tbody tr th {\n",
       "        vertical-align: top;\n",
       "    }\n",
       "\n",
       "    .dataframe thead th {\n",
       "        text-align: right;\n",
       "    }\n",
       "</style>\n",
       "<table border=\"1\" class=\"dataframe\">\n",
       "  <thead>\n",
       "    <tr style=\"text-align: right;\">\n",
       "      <th></th>\n",
       "      <th>A</th>\n",
       "      <th>B</th>\n",
       "      <th>C</th>\n",
       "    </tr>\n",
       "  </thead>\n",
       "  <tbody>\n",
       "    <tr>\n",
       "      <th>0</th>\n",
       "      <td>11</td>\n",
       "      <td>14</td>\n",
       "      <td>7</td>\n",
       "    </tr>\n",
       "    <tr>\n",
       "      <th>1</th>\n",
       "      <td>12</td>\n",
       "      <td>5</td>\n",
       "      <td>8</td>\n",
       "    </tr>\n",
       "    <tr>\n",
       "      <th>2</th>\n",
       "      <td>13</td>\n",
       "      <td>6</td>\n",
       "      <td>9</td>\n",
       "    </tr>\n",
       "  </tbody>\n",
       "</table>\n",
       "</div>"
      ],
      "text/plain": [
       "    A   B  C\n",
       "0  11  14  7\n",
       "1  12   5  8\n",
       "2  13   6  9"
      ]
     },
     "execution_count": 196,
     "metadata": {},
     "output_type": "execute_result"
    }
   ],
   "source": [
    "df3 = pd.DataFrame({'A': [1, 2, 3], 'B': [4, 5, 6], 'C': [7, 8, 9]})\n",
    "df3.where(lambda x:x>4, lambda x:x+10)\n",
    "df3.where(df3>4, lambda x:x+10)"
   ]
  },
  {
   "cell_type": "code",
   "execution_count": 200,
   "id": "assured-wiring",
   "metadata": {},
   "outputs": [
    {
     "name": "stdout",
     "output_type": "stream",
     "text": [
      "0    NaN\n",
      "1    NaN\n",
      "2    NaN\n",
      "3    NaN\n",
      "4    1.0\n",
      "5    2.0\n",
      "6    3.0\n",
      "dtype: float64\n"
     ]
    },
    {
     "data": {
      "text/plain": [
       "0   -3.0\n",
       "1   -2.0\n",
       "2   -1.0\n",
       "3    0.0\n",
       "4    NaN\n",
       "5    NaN\n",
       "6    NaN\n",
       "dtype: float64"
      ]
     },
     "execution_count": 200,
     "metadata": {},
     "output_type": "execute_result"
    }
   ],
   "source": [
    "print(s.where(s>0))\n",
    "s.mask(s>0)"
   ]
  },
  {
   "cell_type": "code",
   "execution_count": 203,
   "id": "whole-mexican",
   "metadata": {},
   "outputs": [
    {
     "data": {
      "text/html": [
       "<div>\n",
       "<style scoped>\n",
       "    .dataframe tbody tr th:only-of-type {\n",
       "        vertical-align: middle;\n",
       "    }\n",
       "\n",
       "    .dataframe tbody tr th {\n",
       "        vertical-align: top;\n",
       "    }\n",
       "\n",
       "    .dataframe thead th {\n",
       "        text-align: right;\n",
       "    }\n",
       "</style>\n",
       "<table border=\"1\" class=\"dataframe\">\n",
       "  <thead>\n",
       "    <tr style=\"text-align: right;\">\n",
       "      <th></th>\n",
       "      <th>A</th>\n",
       "      <th>B</th>\n",
       "      <th>C</th>\n",
       "    </tr>\n",
       "  </thead>\n",
       "  <tbody>\n",
       "    <tr>\n",
       "      <th>0</th>\n",
       "      <td>1</td>\n",
       "      <td>4</td>\n",
       "      <td>17</td>\n",
       "    </tr>\n",
       "    <tr>\n",
       "      <th>1</th>\n",
       "      <td>2</td>\n",
       "      <td>15</td>\n",
       "      <td>18</td>\n",
       "    </tr>\n",
       "    <tr>\n",
       "      <th>2</th>\n",
       "      <td>3</td>\n",
       "      <td>16</td>\n",
       "      <td>19</td>\n",
       "    </tr>\n",
       "  </tbody>\n",
       "</table>\n",
       "</div>"
      ],
      "text/plain": [
       "   A   B   C\n",
       "0  1   4  17\n",
       "1  2  15  18\n",
       "2  3  16  19"
      ]
     },
     "execution_count": 203,
     "metadata": {},
     "output_type": "execute_result"
    }
   ],
   "source": [
    "df3.mask(df3>4, lambda x:x+10)"
   ]
  },
  {
   "cell_type": "code",
   "execution_count": 204,
   "id": "written-occupation",
   "metadata": {},
   "outputs": [
    {
     "data": {
      "text/html": [
       "<div>\n",
       "<style scoped>\n",
       "    .dataframe tbody tr th:only-of-type {\n",
       "        vertical-align: middle;\n",
       "    }\n",
       "\n",
       "    .dataframe tbody tr th {\n",
       "        vertical-align: top;\n",
       "    }\n",
       "\n",
       "    .dataframe thead th {\n",
       "        text-align: right;\n",
       "    }\n",
       "</style>\n",
       "<table border=\"1\" class=\"dataframe\">\n",
       "  <thead>\n",
       "    <tr style=\"text-align: right;\">\n",
       "      <th></th>\n",
       "      <th>col1</th>\n",
       "      <th>col2</th>\n",
       "      <th>color</th>\n",
       "    </tr>\n",
       "  </thead>\n",
       "  <tbody>\n",
       "    <tr>\n",
       "      <th>0</th>\n",
       "      <td>A</td>\n",
       "      <td>Z</td>\n",
       "      <td>green</td>\n",
       "    </tr>\n",
       "    <tr>\n",
       "      <th>1</th>\n",
       "      <td>B</td>\n",
       "      <td>Z</td>\n",
       "      <td>green</td>\n",
       "    </tr>\n",
       "    <tr>\n",
       "      <th>2</th>\n",
       "      <td>B</td>\n",
       "      <td>X</td>\n",
       "      <td>red</td>\n",
       "    </tr>\n",
       "    <tr>\n",
       "      <th>3</th>\n",
       "      <td>C</td>\n",
       "      <td>Y</td>\n",
       "      <td>red</td>\n",
       "    </tr>\n",
       "  </tbody>\n",
       "</table>\n",
       "</div>"
      ],
      "text/plain": [
       "  col1 col2  color\n",
       "0    A    Z  green\n",
       "1    B    Z  green\n",
       "2    B    X    red\n",
       "3    C    Y    red"
      ]
     },
     "execution_count": 204,
     "metadata": {},
     "output_type": "execute_result"
    }
   ],
   "source": [
    "df = pd.DataFrame({'col1': list('ABBC'), 'col2': list('ZZXY')})\n",
    "df['color'] = np.where(df['col2']=='Z', 'green', 'red')\n",
    "df"
   ]
  },
  {
   "cell_type": "code",
   "execution_count": null,
   "id": "greenhouse-carnival",
   "metadata": {},
   "outputs": [],
   "source": [
    "conditions = [\n",
    "    (df['col1']='A') & (df['col2']='Z'),\n",
    "    (df['col1']='B') & (df['col2']='Z'),\n",
    "    (df['col1']='B')\n",
    "]\n",
    "\n",
    "choices = ['yellow', 'blue', 'blue']\n",
    "\n",
    "df['color'] = np.select(conditions, choices, default='black')"
   ]
  }
 ],
 "metadata": {
  "kernelspec": {
   "display_name": "Python (myenv)",
   "language": "python",
   "name": "myenv"
  },
  "language_info": {
   "codemirror_mode": {
    "name": "ipython",
    "version": 3
   },
   "file_extension": ".py",
   "mimetype": "text/x-python",
   "name": "python",
   "nbconvert_exporter": "python",
   "pygments_lexer": "ipython3",
   "version": "3.9.1"
  }
 },
 "nbformat": 4,
 "nbformat_minor": 5
}
