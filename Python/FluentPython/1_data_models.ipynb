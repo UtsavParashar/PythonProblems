{
 "cells": [
  {
   "cell_type": "markdown",
   "metadata": {},
   "source": [
    "# Dunders or special methods usage\n",
    "\n",
    "- Example 1-1 is simple, but it demonstrates the power of implementing just two spe\n",
    "cial methods, __getitem__ and __len__."
   ]
  },
  {
   "cell_type": "code",
   "execution_count": 1,
   "metadata": {},
   "outputs": [],
   "source": [
    "import collections\n",
    "\n",
    "# Named Tuple class without custom methods\n",
    "Card = collections.namedtuple('Card', ['rank', 'suit'])\n",
    "\n",
    "class FrenchDeck:\n",
    "    ranks = [str(n) for n in range(2, 11)] + list('JQKA')\n",
    "    suits = 'spades diamonds clubs hearts'.split()\n",
    "\n",
    "    def __init__(self):\n",
    "        self._cards = [Card(rank, suit) for suit in self.suits for rank in self.ranks]\n",
    "\n",
    "    # return the number of cards for len function\n",
    "    def __len__(self):\n",
    "        return len(self._cards)\n",
    "    \n",
    "    #  Reading specific cards from the deck—say, the first or the last—is easy, thanks to the __getitem__ method:\n",
    "    def __getitem__(self, position):\n",
    "        return self._cards[position]\n",
    "    "
   ]
  },
  {
   "cell_type": "code",
   "execution_count": 2,
   "metadata": {},
   "outputs": [
    {
     "data": {
      "text/plain": [
       "Card(rank='7', suit='diamonds')"
      ]
     },
     "execution_count": 2,
     "metadata": {},
     "output_type": "execute_result"
    }
   ],
   "source": [
    "beer_card = Card('7', 'diamonds')\n",
    "beer_card"
   ]
  },
  {
   "cell_type": "code",
   "execution_count": 3,
   "metadata": {},
   "outputs": [
    {
     "data": {
      "text/plain": [
       "52"
      ]
     },
     "execution_count": 3,
     "metadata": {},
     "output_type": "execute_result"
    }
   ],
   "source": [
    "deck = FrenchDeck()\n",
    "len(deck)"
   ]
  },
  {
   "cell_type": "code",
   "execution_count": 4,
   "metadata": {},
   "outputs": [
    {
     "data": {
      "text/plain": [
       "<__main__.FrenchDeck at 0x24df83676d0>"
      ]
     },
     "execution_count": 4,
     "metadata": {},
     "output_type": "execute_result"
    }
   ],
   "source": [
    "deck"
   ]
  },
  {
   "cell_type": "code",
   "execution_count": 5,
   "metadata": {},
   "outputs": [
    {
     "data": {
      "text/plain": [
       "Card(rank='2', suit='spades')"
      ]
     },
     "execution_count": 5,
     "metadata": {},
     "output_type": "execute_result"
    }
   ],
   "source": [
    "deck[0]"
   ]
  },
  {
   "cell_type": "code",
   "execution_count": 6,
   "metadata": {},
   "outputs": [
    {
     "data": {
      "text/plain": [
       "Card(rank='A', suit='hearts')"
      ]
     },
     "execution_count": 6,
     "metadata": {},
     "output_type": "execute_result"
    }
   ],
   "source": [
    "deck[-1]"
   ]
  },
  {
   "cell_type": "code",
   "execution_count": 7,
   "metadata": {},
   "outputs": [
    {
     "data": {
      "text/plain": [
       "Card(rank='A', suit='diamonds')"
      ]
     },
     "execution_count": 7,
     "metadata": {},
     "output_type": "execute_result"
    }
   ],
   "source": [
    "from random import choice\n",
    "choice(deck)"
   ]
  },
  {
   "cell_type": "code",
   "execution_count": 8,
   "metadata": {},
   "outputs": [
    {
     "data": {
      "text/plain": [
       "Card(rank='4', suit='diamonds')"
      ]
     },
     "execution_count": 8,
     "metadata": {},
     "output_type": "execute_result"
    }
   ],
   "source": [
    "choice(deck)"
   ]
  },
  {
   "cell_type": "code",
   "execution_count": 9,
   "metadata": {},
   "outputs": [
    {
     "data": {
      "text/plain": [
       "Card(rank='J', suit='hearts')"
      ]
     },
     "execution_count": 9,
     "metadata": {},
     "output_type": "execute_result"
    }
   ],
   "source": [
    "choice(deck)"
   ]
  },
  {
   "cell_type": "code",
   "execution_count": 10,
   "metadata": {},
   "outputs": [
    {
     "data": {
      "text/plain": [
       "[Card(rank='2', suit='spades'),\n",
       " Card(rank='3', suit='spades'),\n",
       " Card(rank='4', suit='spades')]"
      ]
     },
     "execution_count": 10,
     "metadata": {},
     "output_type": "execute_result"
    }
   ],
   "source": [
    "deck[:3]"
   ]
  },
  {
   "cell_type": "code",
   "execution_count": 11,
   "metadata": {},
   "outputs": [
    {
     "data": {
      "text/plain": [
       "[Card(rank='A', suit='spades'),\n",
       " Card(rank='A', suit='diamonds'),\n",
       " Card(rank='A', suit='clubs'),\n",
       " Card(rank='A', suit='hearts')]"
      ]
     },
     "execution_count": 11,
     "metadata": {},
     "output_type": "execute_result"
    }
   ],
   "source": [
    "deck[12::13]"
   ]
  },
  {
   "cell_type": "code",
   "execution_count": 13,
   "metadata": {},
   "outputs": [
    {
     "name": "stdout",
     "output_type": "stream",
     "text": [
      "Card(rank='2', suit='spades')\n",
      "Card(rank='3', suit='spades')\n",
      "Card(rank='4', suit='spades')\n",
      "Card(rank='5', suit='spades')\n",
      "Card(rank='6', suit='spades')\n",
      "Card(rank='7', suit='spades')\n",
      "Card(rank='8', suit='spades')\n",
      "Card(rank='9', suit='spades')\n",
      "Card(rank='10', suit='spades')\n",
      "Card(rank='J', suit='spades')\n",
      "Card(rank='Q', suit='spades')\n",
      "Card(rank='K', suit='spades')\n",
      "Card(rank='A', suit='spades')\n",
      "Card(rank='2', suit='diamonds')\n",
      "Card(rank='3', suit='diamonds')\n",
      "Card(rank='4', suit='diamonds')\n",
      "Card(rank='5', suit='diamonds')\n",
      "Card(rank='6', suit='diamonds')\n",
      "Card(rank='7', suit='diamonds')\n",
      "Card(rank='8', suit='diamonds')\n",
      "Card(rank='9', suit='diamonds')\n",
      "Card(rank='10', suit='diamonds')\n",
      "Card(rank='J', suit='diamonds')\n",
      "Card(rank='Q', suit='diamonds')\n",
      "Card(rank='K', suit='diamonds')\n",
      "Card(rank='A', suit='diamonds')\n",
      "Card(rank='2', suit='clubs')\n",
      "Card(rank='3', suit='clubs')\n",
      "Card(rank='4', suit='clubs')\n",
      "Card(rank='5', suit='clubs')\n",
      "Card(rank='6', suit='clubs')\n",
      "Card(rank='7', suit='clubs')\n",
      "Card(rank='8', suit='clubs')\n",
      "Card(rank='9', suit='clubs')\n",
      "Card(rank='10', suit='clubs')\n",
      "Card(rank='J', suit='clubs')\n",
      "Card(rank='Q', suit='clubs')\n",
      "Card(rank='K', suit='clubs')\n",
      "Card(rank='A', suit='clubs')\n",
      "Card(rank='2', suit='hearts')\n",
      "Card(rank='3', suit='hearts')\n",
      "Card(rank='4', suit='hearts')\n",
      "Card(rank='5', suit='hearts')\n",
      "Card(rank='6', suit='hearts')\n",
      "Card(rank='7', suit='hearts')\n",
      "Card(rank='8', suit='hearts')\n",
      "Card(rank='9', suit='hearts')\n",
      "Card(rank='10', suit='hearts')\n",
      "Card(rank='J', suit='hearts')\n",
      "Card(rank='Q', suit='hearts')\n",
      "Card(rank='K', suit='hearts')\n",
      "Card(rank='A', suit='hearts')\n"
     ]
    }
   ],
   "source": [
    "for card in deck:\n",
    "    print(card)"
   ]
  },
  {
   "cell_type": "code",
   "execution_count": 14,
   "metadata": {},
   "outputs": [
    {
     "name": "stdout",
     "output_type": "stream",
     "text": [
      "Card(rank='A', suit='hearts')\n",
      "Card(rank='K', suit='hearts')\n",
      "Card(rank='Q', suit='hearts')\n",
      "Card(rank='J', suit='hearts')\n",
      "Card(rank='10', suit='hearts')\n",
      "Card(rank='9', suit='hearts')\n",
      "Card(rank='8', suit='hearts')\n",
      "Card(rank='7', suit='hearts')\n",
      "Card(rank='6', suit='hearts')\n",
      "Card(rank='5', suit='hearts')\n",
      "Card(rank='4', suit='hearts')\n",
      "Card(rank='3', suit='hearts')\n",
      "Card(rank='2', suit='hearts')\n",
      "Card(rank='A', suit='clubs')\n",
      "Card(rank='K', suit='clubs')\n",
      "Card(rank='Q', suit='clubs')\n",
      "Card(rank='J', suit='clubs')\n",
      "Card(rank='10', suit='clubs')\n",
      "Card(rank='9', suit='clubs')\n",
      "Card(rank='8', suit='clubs')\n",
      "Card(rank='7', suit='clubs')\n",
      "Card(rank='6', suit='clubs')\n",
      "Card(rank='5', suit='clubs')\n",
      "Card(rank='4', suit='clubs')\n",
      "Card(rank='3', suit='clubs')\n",
      "Card(rank='2', suit='clubs')\n",
      "Card(rank='A', suit='diamonds')\n",
      "Card(rank='K', suit='diamonds')\n",
      "Card(rank='Q', suit='diamonds')\n",
      "Card(rank='J', suit='diamonds')\n",
      "Card(rank='10', suit='diamonds')\n",
      "Card(rank='9', suit='diamonds')\n",
      "Card(rank='8', suit='diamonds')\n",
      "Card(rank='7', suit='diamonds')\n",
      "Card(rank='6', suit='diamonds')\n",
      "Card(rank='5', suit='diamonds')\n",
      "Card(rank='4', suit='diamonds')\n",
      "Card(rank='3', suit='diamonds')\n",
      "Card(rank='2', suit='diamonds')\n",
      "Card(rank='A', suit='spades')\n",
      "Card(rank='K', suit='spades')\n",
      "Card(rank='Q', suit='spades')\n",
      "Card(rank='J', suit='spades')\n",
      "Card(rank='10', suit='spades')\n",
      "Card(rank='9', suit='spades')\n",
      "Card(rank='8', suit='spades')\n",
      "Card(rank='7', suit='spades')\n",
      "Card(rank='6', suit='spades')\n",
      "Card(rank='5', suit='spades')\n",
      "Card(rank='4', suit='spades')\n",
      "Card(rank='3', suit='spades')\n",
      "Card(rank='2', suit='spades')\n"
     ]
    }
   ],
   "source": [
    "for card in reversed(deck):\n",
    "    print(card)"
   ]
  },
  {
   "cell_type": "code",
   "execution_count": 15,
   "metadata": {},
   "outputs": [
    {
     "data": {
      "text/plain": [
       "True"
      ]
     },
     "execution_count": 15,
     "metadata": {},
     "output_type": "execute_result"
    }
   ],
   "source": [
    "Card('Q', 'hearts') in deck"
   ]
  },
  {
   "cell_type": "code",
   "execution_count": 16,
   "metadata": {},
   "outputs": [
    {
     "data": {
      "text/plain": [
       "False"
      ]
     },
     "execution_count": 16,
     "metadata": {},
     "output_type": "execute_result"
    }
   ],
   "source": [
    "Card('7', 'beasts') in deck"
   ]
  },
  {
   "cell_type": "code",
   "execution_count": 20,
   "metadata": {},
   "outputs": [
    {
     "data": {
      "text/plain": [
       "[Card(rank='10', suit='clubs'),\n",
       " Card(rank='10', suit='diamonds'),\n",
       " Card(rank='10', suit='hearts'),\n",
       " Card(rank='10', suit='spades'),\n",
       " Card(rank='2', suit='clubs'),\n",
       " Card(rank='2', suit='diamonds'),\n",
       " Card(rank='2', suit='hearts'),\n",
       " Card(rank='2', suit='spades'),\n",
       " Card(rank='3', suit='clubs'),\n",
       " Card(rank='3', suit='diamonds'),\n",
       " Card(rank='3', suit='hearts'),\n",
       " Card(rank='3', suit='spades'),\n",
       " Card(rank='4', suit='clubs'),\n",
       " Card(rank='4', suit='diamonds'),\n",
       " Card(rank='4', suit='hearts'),\n",
       " Card(rank='4', suit='spades'),\n",
       " Card(rank='5', suit='clubs'),\n",
       " Card(rank='5', suit='diamonds'),\n",
       " Card(rank='5', suit='hearts'),\n",
       " Card(rank='5', suit='spades'),\n",
       " Card(rank='6', suit='clubs'),\n",
       " Card(rank='6', suit='diamonds'),\n",
       " Card(rank='6', suit='hearts'),\n",
       " Card(rank='6', suit='spades'),\n",
       " Card(rank='7', suit='clubs'),\n",
       " Card(rank='7', suit='diamonds'),\n",
       " Card(rank='7', suit='hearts'),\n",
       " Card(rank='7', suit='spades'),\n",
       " Card(rank='8', suit='clubs'),\n",
       " Card(rank='8', suit='diamonds'),\n",
       " Card(rank='8', suit='hearts'),\n",
       " Card(rank='8', suit='spades'),\n",
       " Card(rank='9', suit='clubs'),\n",
       " Card(rank='9', suit='diamonds'),\n",
       " Card(rank='9', suit='hearts'),\n",
       " Card(rank='9', suit='spades'),\n",
       " Card(rank='A', suit='clubs'),\n",
       " Card(rank='A', suit='diamonds'),\n",
       " Card(rank='A', suit='hearts'),\n",
       " Card(rank='A', suit='spades'),\n",
       " Card(rank='J', suit='clubs'),\n",
       " Card(rank='J', suit='diamonds'),\n",
       " Card(rank='J', suit='hearts'),\n",
       " Card(rank='J', suit='spades'),\n",
       " Card(rank='K', suit='clubs'),\n",
       " Card(rank='K', suit='diamonds'),\n",
       " Card(rank='K', suit='hearts'),\n",
       " Card(rank='K', suit='spades'),\n",
       " Card(rank='Q', suit='clubs'),\n",
       " Card(rank='Q', suit='diamonds'),\n",
       " Card(rank='Q', suit='hearts'),\n",
       " Card(rank='Q', suit='spades')]"
      ]
     },
     "execution_count": 20,
     "metadata": {},
     "output_type": "execute_result"
    }
   ],
   "source": [
    "sorted(deck) # but we need categorical sorting"
   ]
  },
  {
   "cell_type": "code",
   "execution_count": 22,
   "metadata": {},
   "outputs": [],
   "source": [
    "# sorting order - spades(highest), followed by hearts, diamonds and clubs\n",
    "# Ace being the highest, followed by ranking\n",
    "\n",
    "suits_values = dict(spades=3, hearts=2, diamonds=1, clubs=0)\n",
    "def spades_highest(card):\n",
    "    rank_value = FrenchDeck.ranks.index(card.rank)\n",
    "    return rank_value * len(suits_values) + suits_values[card.suit]"
   ]
  },
  {
   "cell_type": "code",
   "execution_count": 24,
   "metadata": {},
   "outputs": [
    {
     "name": "stdout",
     "output_type": "stream",
     "text": [
      "Card(rank='A', suit='spades')\n",
      "Card(rank='A', suit='hearts')\n",
      "Card(rank='A', suit='diamonds')\n",
      "Card(rank='A', suit='clubs')\n",
      "Card(rank='K', suit='spades')\n",
      "Card(rank='K', suit='hearts')\n",
      "Card(rank='K', suit='diamonds')\n",
      "Card(rank='K', suit='clubs')\n",
      "Card(rank='Q', suit='spades')\n",
      "Card(rank='Q', suit='hearts')\n",
      "Card(rank='Q', suit='diamonds')\n",
      "Card(rank='Q', suit='clubs')\n",
      "Card(rank='J', suit='spades')\n",
      "Card(rank='J', suit='hearts')\n",
      "Card(rank='J', suit='diamonds')\n",
      "Card(rank='J', suit='clubs')\n",
      "Card(rank='10', suit='spades')\n",
      "Card(rank='10', suit='hearts')\n",
      "Card(rank='10', suit='diamonds')\n",
      "Card(rank='10', suit='clubs')\n",
      "Card(rank='9', suit='spades')\n",
      "Card(rank='9', suit='hearts')\n",
      "Card(rank='9', suit='diamonds')\n",
      "Card(rank='9', suit='clubs')\n",
      "Card(rank='8', suit='spades')\n",
      "Card(rank='8', suit='hearts')\n",
      "Card(rank='8', suit='diamonds')\n",
      "Card(rank='8', suit='clubs')\n",
      "Card(rank='7', suit='spades')\n",
      "Card(rank='7', suit='hearts')\n",
      "Card(rank='7', suit='diamonds')\n",
      "Card(rank='7', suit='clubs')\n",
      "Card(rank='6', suit='spades')\n",
      "Card(rank='6', suit='hearts')\n",
      "Card(rank='6', suit='diamonds')\n",
      "Card(rank='6', suit='clubs')\n",
      "Card(rank='5', suit='spades')\n",
      "Card(rank='5', suit='hearts')\n",
      "Card(rank='5', suit='diamonds')\n",
      "Card(rank='5', suit='clubs')\n",
      "Card(rank='4', suit='spades')\n",
      "Card(rank='4', suit='hearts')\n",
      "Card(rank='4', suit='diamonds')\n",
      "Card(rank='4', suit='clubs')\n",
      "Card(rank='3', suit='spades')\n",
      "Card(rank='3', suit='hearts')\n",
      "Card(rank='3', suit='diamonds')\n",
      "Card(rank='3', suit='clubs')\n",
      "Card(rank='2', suit='spades')\n",
      "Card(rank='2', suit='hearts')\n",
      "Card(rank='2', suit='diamonds')\n",
      "Card(rank='2', suit='clubs')\n"
     ]
    }
   ],
   "source": [
    "for card in sorted(deck, key=spades_highest, reverse=True):\n",
    "    print(card)"
   ]
  },
  {
   "cell_type": "markdown",
   "metadata": {},
   "source": [
    "### Emulate Numeric Types"
   ]
  },
  {
   "cell_type": "code",
   "execution_count": 5,
   "metadata": {},
   "outputs": [
    {
     "data": {
      "text/plain": [
       "'\\nvector2d.py: a simplistic class demonstrating some special methods\\nIt is simplistic for didactic reasons. It lacks proper error handling,\\nespecially in the ``__add__`` and ``__mul__`` methods.\\nThis example is greatly expanded later in the book.\\nAddition::\\n   >>> v1 = Vector(2, 4)\\n   >>> v2 = Vector(2, 1)\\n   >>> v1 + v2\\n   Vector(4, 5)\\nAbsolute value::\\n   >>> v = Vector(3, 4)\\n   >>> abs(v)\\n   5.0\\nScalar multiplication::\\n   >>> v * 3\\n   Vector(9, 12)\\n   >>> abs(v * 3)\\n   15.0\\n'"
      ]
     },
     "execution_count": 5,
     "metadata": {},
     "output_type": "execute_result"
    }
   ],
   "source": [
    " \"\"\"\n",
    " vector2d.py: a simplistic class demonstrating some special methods\n",
    " It is simplistic for didactic reasons. It lacks proper error handling,\n",
    " especially in the ``__add__`` and ``__mul__`` methods.\n",
    " This example is greatly expanded later in the book.\n",
    " Addition::\n",
    "    >>> v1 = Vector(2, 4)\n",
    "    >>> v2 = Vector(2, 1)\n",
    "    >>> v1 + v2\n",
    "    Vector(4, 5)\n",
    " Absolute value::\n",
    "    >>> v = Vector(3, 4)\n",
    "    >>> abs(v)\n",
    "    5.0\n",
    " Scalar multiplication::\n",
    "    >>> v * 3\n",
    "    Vector(9, 12)\n",
    "    >>> abs(v * 3)\n",
    "    15.0\n",
    " \"\"\""
   ]
  },
  {
   "cell_type": "code",
   "execution_count": 14,
   "metadata": {},
   "outputs": [],
   "source": [
    "import math\n",
    "\n",
    "class Vector:\n",
    "    def __init__(self, x=0, y=0):\n",
    "        self.x = x\n",
    "        self.y = y\n",
    "\n",
    "    # repr is for developers and str is for customers\n",
    "    def __repr__(self):\n",
    "        return f'Vector({self.x!r}, {self.y})'\n",
    "    \n",
    "    def __abs__(self):\n",
    "        return math.hypot(self.x, self.y)\n",
    "    \n",
    "    # def __bool__(self):\n",
    "    #     return bool(abs(self))\n",
    "    \n",
    "    def __add__(self, other):\n",
    "        x = self.x + other.x\n",
    "        y = self.y + other.y\n",
    "        return Vector(x, y)\n",
    "    \n",
    "    def __mul__(self, scaler):\n",
    "        return Vector(self.x * scaler, self.y * scaler)"
   ]
  },
  {
   "cell_type": "code",
   "execution_count": 15,
   "metadata": {},
   "outputs": [],
   "source": [
    "a = Vector(2, 3)\n",
    "b = Vector(4, 5)"
   ]
  },
  {
   "cell_type": "code",
   "execution_count": 16,
   "metadata": {},
   "outputs": [
    {
     "data": {
      "text/plain": [
       "Vector(6, 8)"
      ]
     },
     "execution_count": 16,
     "metadata": {},
     "output_type": "execute_result"
    }
   ],
   "source": [
    "a+b"
   ]
  },
  {
   "cell_type": "code",
   "execution_count": 17,
   "metadata": {},
   "outputs": [
    {
     "data": {
      "text/plain": [
       "Vector(4, 6)"
      ]
     },
     "execution_count": 17,
     "metadata": {},
     "output_type": "execute_result"
    }
   ],
   "source": [
    "a*2"
   ]
  },
  {
   "cell_type": "code",
   "execution_count": 18,
   "metadata": {},
   "outputs": [
    {
     "data": {
      "text/plain": [
       "5.0"
      ]
     },
     "execution_count": 18,
     "metadata": {},
     "output_type": "execute_result"
    }
   ],
   "source": [
    "abs(Vector(3, 4))"
   ]
  },
  {
   "cell_type": "code",
   "execution_count": 19,
   "metadata": {},
   "outputs": [
    {
     "data": {
      "text/plain": [
       "Vector(2, 3)"
      ]
     },
     "execution_count": 19,
     "metadata": {},
     "output_type": "execute_result"
    }
   ],
   "source": [
    "a"
   ]
  },
  {
   "cell_type": "code",
   "execution_count": null,
   "metadata": {},
   "outputs": [],
   "source": []
  }
 ],
 "metadata": {
  "kernelspec": {
   "display_name": "Python 3",
   "language": "python",
   "name": "python3"
  },
  "language_info": {
   "codemirror_mode": {
    "name": "ipython",
    "version": 3
   },
   "file_extension": ".py",
   "mimetype": "text/x-python",
   "name": "python",
   "nbconvert_exporter": "python",
   "pygments_lexer": "ipython3",
   "version": "3.11.9"
  }
 },
 "nbformat": 4,
 "nbformat_minor": 2
}
