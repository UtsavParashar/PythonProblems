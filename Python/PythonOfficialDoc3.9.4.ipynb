{
 "cells": [
  {
   "cell_type": "code",
   "execution_count": 1,
   "id": "dense-enough",
   "metadata": {},
   "outputs": [],
   "source": [
    "%matplotlib inline\n",
    "import numpy as np\n",
    "import numpy.ma as ma\n",
    "import pandas as pd\n",
    "from pandas import DataFrame, Series\n",
    "import matplotlib.pyplot as plt\n",
    "import seaborn as sns\n",
    "import timeit\n",
    "import line_profiler\n",
    "\n",
    "from collections import deque, namedtuple\n",
    "\n",
    "import datetime\n",
    "\n",
    "from io import StringIO\n",
    "from pandas.api.types import CategoricalDtype\n",
    "\n",
    "import pandas._testing as tm\n",
    "import re"
   ]
  },
  {
   "cell_type": "markdown",
   "id": "executed-rental",
   "metadata": {},
   "source": [
    "# Regex"
   ]
  },
  {
   "cell_type": "code",
   "execution_count": 5,
   "id": "lonely-supplement",
   "metadata": {},
   "outputs": [
    {
     "data": {
      "text/plain": [
       "re.compile(r'ab*', re.UNICODE)"
      ]
     },
     "execution_count": 5,
     "metadata": {},
     "output_type": "execute_result"
    }
   ],
   "source": [
    "import re\n",
    "p = re.compile('ab*')\n",
    "p # re.compile(r'ab*', re.UNICODE)"
   ]
  },
  {
   "cell_type": "code",
   "execution_count": 6,
   "id": "powerful-gambling",
   "metadata": {},
   "outputs": [
    {
     "data": {
      "text/plain": [
       "32"
      ]
     },
     "execution_count": 6,
     "metadata": {},
     "output_type": "execute_result"
    }
   ],
   "source": [
    "re.UNICODE.value"
   ]
  },
  {
   "cell_type": "code",
   "execution_count": 29,
   "id": "qualified-awareness",
   "metadata": {},
   "outputs": [
    {
     "name": "stdout",
     "output_type": "stream",
     "text": [
      "<re.Match object; span=(0, 3), match='tem'>\n"
     ]
    }
   ],
   "source": [
    "p = re.compile('[a-t]+')\n",
    "m = p.match(\"temupau\")\n",
    "print(m) # <re.Match object; span=(0, 3), match='tem'>"
   ]
  },
  {
   "cell_type": "code",
   "execution_count": 32,
   "id": "neural-newton",
   "metadata": {},
   "outputs": [
    {
     "data": {
      "text/plain": [
       "(0, 3)"
      ]
     },
     "execution_count": 32,
     "metadata": {},
     "output_type": "execute_result"
    }
   ],
   "source": [
    "m.group() # 'tem'\n",
    "m.start() # 0\n",
    "m.end()   # 3\n",
    "m.span()  # (0, 3)"
   ]
  },
  {
   "cell_type": "code",
   "execution_count": 39,
   "id": "monthly-picking",
   "metadata": {},
   "outputs": [
    {
     "name": "stdout",
     "output_type": "stream",
     "text": [
      "None\n",
      "<re.Match object; span=(4, 11), match='message'>\n"
     ]
    },
    {
     "data": {
      "text/plain": [
       "(4, 11)"
      ]
     },
     "execution_count": 39,
     "metadata": {},
     "output_type": "execute_result"
    }
   ],
   "source": [
    "print(p.match('::: message')) # None\n",
    "m = p.search('::: message'); print(m) #<re.Match object; span=(4, 11), match='message'>\n",
    "m.group() #'message'\n",
    "m.start() # 4\n",
    "m.end() # 11\n",
    "m.span() # (4, 11)"
   ]
  },
  {
   "cell_type": "code",
   "execution_count": 44,
   "id": "perceived-general",
   "metadata": {},
   "outputs": [
    {
     "name": "stdout",
     "output_type": "stream",
     "text": [
      "Matched rame\n"
     ]
    }
   ],
   "source": [
    "p = re.compile(r'[a-r]+')\n",
    "m = p.match('ramesh tau')\n",
    "if m:\n",
    "    print('Matched', m.group())\n",
    "else:\n",
    "    print('No Match')\n",
    "## Output - Matched rame"
   ]
  },
  {
   "cell_type": "code",
   "execution_count": 45,
   "id": "intensive-example",
   "metadata": {},
   "outputs": [
    {
     "data": {
      "text/plain": [
       "['12', '11', '10']"
      ]
     },
     "execution_count": 45,
     "metadata": {},
     "output_type": "execute_result"
    }
   ],
   "source": [
    "p = re.compile(r'\\d+')\n",
    "p.findall('12 drummers drumming, 11 pipers piping, 10 lords a-leaping')"
   ]
  },
  {
   "cell_type": "code",
   "execution_count": 49,
   "id": "academic-photographer",
   "metadata": {},
   "outputs": [
    {
     "name": "stdout",
     "output_type": "stream",
     "text": [
      "12\n",
      "0\n",
      "2\n",
      "(0, 2)\n",
      "11\n",
      "22\n",
      "24\n",
      "(22, 24)\n",
      "10\n",
      "40\n",
      "42\n",
      "(40, 42)\n"
     ]
    }
   ],
   "source": [
    "p = re.compile(r'\\d+')\n",
    "iterator = p.finditer('12 drummers drumming, 11 pipers piping, 10 lords a-leaping')\n",
    "for match in iterator:\n",
    "    print(match.group())\n",
    "    print(match.start())\n",
    "    print(match.end())\n",
    "    print(match.span())"
   ]
  },
  {
   "cell_type": "code",
   "execution_count": 50,
   "id": "dress-attempt",
   "metadata": {},
   "outputs": [
    {
     "data": {
      "text/plain": [
       "<re.Match object; span=(0, 1), match='a'>"
      ]
     },
     "execution_count": 50,
     "metadata": {},
     "output_type": "execute_result"
    }
   ],
   "source": [
    "p = re.compile(r'[a-m]')\n",
    "p.search('allubro')"
   ]
  },
  {
   "cell_type": "code",
   "execution_count": 4,
   "id": "coral-globe",
   "metadata": {},
   "outputs": [
    {
     "name": "stdout",
     "output_type": "stream",
     "text": [
      "None\n",
      "<re.Match object; span=(0, 5), match='From '>\n"
     ]
    }
   ],
   "source": [
    "print(re.match(r'From\\s+', 'Fromage amk')) # None\n",
    "print(re.match(r'From\\s+', 'From 7 till 10')) # <re.Match object; span=(0, 5), match='From '>"
   ]
  },
  {
   "cell_type": "code",
   "execution_count": 6,
   "id": "revolutionary-least",
   "metadata": {},
   "outputs": [
    {
     "name": "stdout",
     "output_type": "stream",
     "text": [
      "<re.Match object; span=(0, 4), match='From'>\n",
      "None\n"
     ]
    }
   ],
   "source": [
    "print(re.search(r'^From', 'From here to eternity')) # <re.Match object; span=(0, 4), match='From'>\n",
    "print(re.search(r'^From', 'Reciting From Memory')) # None"
   ]
  },
  {
   "cell_type": "code",
   "execution_count": 11,
   "id": "million-partition",
   "metadata": {},
   "outputs": [
    {
     "name": "stdout",
     "output_type": "stream",
     "text": [
      "None\n",
      "None\n",
      "None\n",
      "<re.Match object; span=(0, 7), match='\\x08class\\x08'>\n"
     ]
    }
   ],
   "source": [
    "p = re.compile('\\bclass\\b')\n",
    "print(p.search('This is my class')) # None\n",
    "print(p.search('THis is declassified')) # None\n",
    "print(p.search('One subclass at a time')) # None\n",
    "print(p.search('\\b' + 'class' + '\\b')) # <re.Match object; span=(0, 7), match='\\x08class\\x08'>"
   ]
  },
  {
   "cell_type": "code",
   "execution_count": 17,
   "id": "suburban-quest",
   "metadata": {},
   "outputs": [
    {
     "name": "stdout",
     "output_type": "stream",
     "text": [
      "(2, 4)\n"
     ]
    }
   ],
   "source": [
    "p = re.compile('(ab)*')\n",
    "print(p.match('ababbbababb').span(1)) # (2, 4)"
   ]
  },
  {
   "cell_type": "code",
   "execution_count": 23,
   "id": "southeast-office",
   "metadata": {},
   "outputs": [
    {
     "name": "stdout",
     "output_type": "stream",
     "text": [
      "<re.Match object; span=(0, 2), match='ab'>\n",
      "ab\n",
      "a\n"
     ]
    }
   ],
   "source": [
    "p = re.compile('(a)b')\n",
    "print(p.match('ab')) # <re.Match object; span=(0, 2), match='ab'>\n",
    "m = p.match('ab')\n",
    "print(m.group(0)) # ab\n",
    "print(m.group(1)) # a"
   ]
  },
  {
   "cell_type": "code",
   "execution_count": 30,
   "id": "confident-october",
   "metadata": {},
   "outputs": [
    {
     "data": {
      "text/plain": [
       "('abc', 'b')"
      ]
     },
     "execution_count": 30,
     "metadata": {},
     "output_type": "execute_result"
    }
   ],
   "source": [
    "p = re.compile('(a(b)c)d')\n",
    "m = p.match('abcd')\n",
    "m.group() # 'abcd'\n",
    "m.group(1) # 'abc'\n",
    "m.group(2) # b\n",
    "m.group(2,1,2) # ('b', 'abc', 'b')\n",
    "m.groups() # ('abc', 'b')"
   ]
  },
  {
   "cell_type": "code",
   "execution_count": 38,
   "id": "alone-refrigerator",
   "metadata": {},
   "outputs": [
    {
     "data": {
      "text/plain": [
       "'the the'"
      ]
     },
     "execution_count": 38,
     "metadata": {},
     "output_type": "execute_result"
    }
   ],
   "source": [
    "p = re.compile(r'\\b(\\w+)\\s+\\1\\b')\n",
    "p.search('This is the the Paris').group() # 'the the'"
   ]
  },
  {
   "cell_type": "code",
   "execution_count": 40,
   "id": "attractive-constitutional",
   "metadata": {},
   "outputs": [
    {
     "data": {
      "text/plain": [
       "()"
      ]
     },
     "execution_count": 40,
     "metadata": {},
     "output_type": "execute_result"
    }
   ],
   "source": [
    "m = re.match(\"([abc])+\", \"abc\")\n",
    "m.groups() # ('c',)\n",
    "m = re.match(\"(?:[abc])+\", \"abc\")\n",
    "m.groups() # ()"
   ]
  },
  {
   "cell_type": "code",
   "execution_count": 45,
   "id": "terminal-silly",
   "metadata": {},
   "outputs": [
    {
     "data": {
      "text/plain": [
       "['This', 'is', 'a', 'test, short and sweet, of split().']"
      ]
     },
     "execution_count": 45,
     "metadata": {},
     "output_type": "execute_result"
    }
   ],
   "source": [
    "p = re.compile(r'\\W+')\n",
    "p.split('This is a test, short and sweet, of split().')\n",
    "p.split('This is a test, short and sweet, of split().', 3)\n"
   ]
  },
  {
   "cell_type": "code",
   "execution_count": 46,
   "id": "union-crash",
   "metadata": {},
   "outputs": [
    {
     "data": {
      "text/plain": [
       "['This', '.... ', 'is', ' ', 'a', ' ', 'test', '.', '']"
      ]
     },
     "execution_count": 46,
     "metadata": {},
     "output_type": "execute_result"
    }
   ],
   "source": [
    "p = re.compile(r'\\W+')\n",
    "p2 = re.compile(r'(\\W+)')\n",
    "\n",
    "p.split('This.... is a test.') # ['This', 'is', 'a', 'test', '']\n",
    "p2.split('This.... is a test.') # ['This', '.... ', 'is', ' ', 'a', ' ', 'test', '.', '']"
   ]
  },
  {
   "cell_type": "code",
   "execution_count": 48,
   "id": "aggregate-finnish",
   "metadata": {},
   "outputs": [
    {
     "data": {
      "text/plain": [
       "'color shocks and Red shoes'"
      ]
     },
     "execution_count": 48,
     "metadata": {},
     "output_type": "execute_result"
    }
   ],
   "source": [
    "p = re.compile('(blue|white|red)', re.IGNORECASE)\n",
    "p.sub('color', 'blue shocks and Red shoes', count=1) # 'color shocks and Red shoes'"
   ]
  },
  {
   "cell_type": "code",
   "execution_count": 53,
   "id": "devoted-quick",
   "metadata": {},
   "outputs": [
    {
     "data": {
      "text/plain": [
       "('color and red', 1)"
      ]
     },
     "execution_count": 53,
     "metadata": {},
     "output_type": "execute_result"
    }
   ],
   "source": [
    "p = re.compile('(blue|white|red)', re.IGNORECASE)\n",
    "p.subn('color', 'blue and red')\n",
    "p.subn('color', 'blue and red', count=1)"
   ]
  },
  {
   "cell_type": "code",
   "execution_count": 55,
   "id": "integrated-sheriff",
   "metadata": {},
   "outputs": [
    {
     "data": {
      "text/plain": [
       "'-a-b--d- -c--'"
      ]
     },
     "execution_count": 55,
     "metadata": {},
     "output_type": "execute_result"
    }
   ],
   "source": [
    "p = re.compile(r'x*')\n",
    "p.sub('-', 'abxd cx')"
   ]
  },
  {
   "cell_type": "code",
   "execution_count": 57,
   "id": "expanded-austria",
   "metadata": {},
   "outputs": [
    {
     "data": {
      "text/plain": [
       "'subsection{First} subsection{second}'"
      ]
     },
     "execution_count": 57,
     "metadata": {},
     "output_type": "execute_result"
    }
   ],
   "source": [
    "p = re.compile('section{ ( [^}]* ) }', re.VERBOSE)\n",
    "p.sub(r'subsection{\\1}','section{First} section{second}')"
   ]
  },
  {
   "cell_type": "markdown",
   "id": "binding-suspect",
   "metadata": {},
   "source": [
    "# re - https://docs.python.org/3/library/re.html"
   ]
  },
  {
   "cell_type": "code",
   "execution_count": 12,
   "id": "minus-possibility",
   "metadata": {},
   "outputs": [
    {
     "name": "stdout",
     "output_type": "stream",
     "text": [
      "<a>\n"
     ]
    }
   ],
   "source": [
    "print(re.match(r'<.*?>','<a> b <c>').group())"
   ]
  },
  {
   "cell_type": "code",
   "execution_count": 25,
   "id": "theoretical-meeting",
   "metadata": {},
   "outputs": [
    {
     "data": {
      "text/plain": [
       "['14', '54']"
      ]
     },
     "execution_count": 25,
     "metadata": {},
     "output_type": "execute_result"
    }
   ],
   "source": [
    "re.search(r'(?<=abc)def','abcdef').group() # 'def'\n",
    "re.search(r'(?<=-)\\w+','ram-sam').group() # 'sam'\n",
    "\n",
    "## get all elements after first match\n",
    "re.findall(r'(?<=-)\\d+','879-14-54') # ['14', '54']\n",
    "'879-14-54'.split('-')[1:]"
   ]
  },
  {
   "cell_type": "code",
   "execution_count": 26,
   "id": "injured-limit",
   "metadata": {},
   "outputs": [
    {
     "data": {
      "text/plain": [
       "['879', '14', '54']"
      ]
     },
     "execution_count": 26,
     "metadata": {},
     "output_type": "execute_result"
    }
   ],
   "source": [
    "re.findall(r'(?!-)\\d+','879-14-54') # ['879', '14', '54']\n",
    "'879-14-54'.split('-')"
   ]
  },
  {
   "cell_type": "code",
   "execution_count": 29,
   "id": "crazy-theorem",
   "metadata": {},
   "outputs": [
    {
     "data": {
      "text/plain": [
       "['879', '14', '54']"
      ]
     },
     "execution_count": 29,
     "metadata": {},
     "output_type": "execute_result"
    }
   ],
   "source": [
    "'879-14-54'.split('-')"
   ]
  },
  {
   "cell_type": "code",
   "execution_count": 30,
   "id": "perceived-sessions",
   "metadata": {},
   "outputs": [
    {
     "data": {
      "text/plain": [
       "['carefully', 'quickly']"
      ]
     },
     "execution_count": 30,
     "metadata": {},
     "output_type": "execute_result"
    }
   ],
   "source": [
    "text = \"He was carefully disguised but captured quickly by police.\"\n",
    "re.findall(r'\\w+ly',text)"
   ]
  },
  {
   "cell_type": "code",
   "execution_count": null,
   "id": "legendary-bidding",
   "metadata": {},
   "outputs": [],
   "source": []
  },
  {
   "cell_type": "code",
   "execution_count": null,
   "id": "cathedral-above",
   "metadata": {},
   "outputs": [],
   "source": []
  },
  {
   "cell_type": "code",
   "execution_count": null,
   "id": "differential-navigator",
   "metadata": {},
   "outputs": [],
   "source": []
  },
  {
   "cell_type": "code",
   "execution_count": null,
   "id": "unavailable-injury",
   "metadata": {},
   "outputs": [],
   "source": []
  },
  {
   "cell_type": "code",
   "execution_count": null,
   "id": "enhanced-reservation",
   "metadata": {},
   "outputs": [],
   "source": []
  },
  {
   "cell_type": "code",
   "execution_count": null,
   "id": "invisible-tactics",
   "metadata": {},
   "outputs": [],
   "source": []
  },
  {
   "cell_type": "code",
   "execution_count": null,
   "id": "spectacular-rainbow",
   "metadata": {},
   "outputs": [],
   "source": []
  },
  {
   "cell_type": "code",
   "execution_count": null,
   "id": "shaped-muscle",
   "metadata": {},
   "outputs": [],
   "source": []
  },
  {
   "cell_type": "code",
   "execution_count": null,
   "id": "clean-energy",
   "metadata": {},
   "outputs": [],
   "source": []
  },
  {
   "cell_type": "code",
   "execution_count": null,
   "id": "double-harrison",
   "metadata": {},
   "outputs": [],
   "source": []
  },
  {
   "cell_type": "code",
   "execution_count": null,
   "id": "placed-belfast",
   "metadata": {},
   "outputs": [],
   "source": []
  },
  {
   "cell_type": "code",
   "execution_count": null,
   "id": "pleased-syndrome",
   "metadata": {},
   "outputs": [],
   "source": []
  },
  {
   "cell_type": "code",
   "execution_count": null,
   "id": "consecutive-glucose",
   "metadata": {},
   "outputs": [],
   "source": []
  },
  {
   "cell_type": "markdown",
   "id": "grateful-israel",
   "metadata": {},
   "source": [
    "# 3. An Informal Introduction to Python"
   ]
  },
  {
   "cell_type": "markdown",
   "id": "uniform-orange",
   "metadata": {},
   "source": [
    "Fibonacci"
   ]
  },
  {
   "cell_type": "code",
   "execution_count": 2,
   "id": "nuclear-glucose",
   "metadata": {},
   "outputs": [
    {
     "name": "stdout",
     "output_type": "stream",
     "text": [
      "[0, 1, 1, 2, 3, 5, 8, 13, 21, 34]\n"
     ]
    }
   ],
   "source": [
    "l = [0,1]\n",
    "for i in range(1,9):\n",
    "    x = l[-1] + l[-2]\n",
    "    l.append(x)\n",
    "print(l)"
   ]
  },
  {
   "cell_type": "code",
   "execution_count": 8,
   "id": "small-royal",
   "metadata": {},
   "outputs": [
    {
     "name": "stdout",
     "output_type": "stream",
     "text": [
      "[0, 1, 1, 2, 3, 5, 8, 13, 21, 34]\n"
     ]
    }
   ],
   "source": [
    "i=0\n",
    "l=[0,1]\n",
    "while i<8:\n",
    "    x = l[-1] + l[-2]\n",
    "    l.append(x)\n",
    "    i += 1\n",
    "print(l)"
   ]
  },
  {
   "cell_type": "code",
   "execution_count": 16,
   "id": "complex-improvement",
   "metadata": {},
   "outputs": [
    {
     "data": {
      "text/plain": [
       "55"
      ]
     },
     "execution_count": 16,
     "metadata": {},
     "output_type": "execute_result"
    }
   ],
   "source": [
    "import functools\n",
    "\n",
    "@functools.lru_cache(None)\n",
    "def fib(n):\n",
    "    if n < 2:\n",
    "        return n\n",
    "    return fib(n-1) + fib(n-2)\n",
    "\n",
    "fib(10)"
   ]
  },
  {
   "cell_type": "code",
   "execution_count": 2,
   "id": "considered-thong",
   "metadata": {},
   "outputs": [
    {
     "name": "stdout",
     "output_type": "stream",
     "text": [
      "2  is a prime number\n",
      "3  is a prime number\n",
      "4 equals 2 * 2\n",
      "5  is a prime number\n",
      "6 equals 2 * 3\n",
      "7  is a prime number\n",
      "8 equals 2 * 4\n",
      "9 equals 3 * 3\n"
     ]
    }
   ],
   "source": [
    "for i in range(2,10):\n",
    "    for j in range(2, i):\n",
    "        if i%j==0:\n",
    "            print (i, \"equals\", j, '*', i//j)\n",
    "            break\n",
    "    else:\n",
    "        print(i,  \" is a prime number\")\n"
   ]
  },
  {
   "cell_type": "code",
   "execution_count": 64,
   "id": "satisfied-lawsuit",
   "metadata": {},
   "outputs": [
    {
     "name": "stdout",
     "output_type": "stream",
     "text": [
      "11  Prime\n"
     ]
    }
   ],
   "source": [
    "## Check if a number is prime\n",
    "def check_prime(x):\n",
    "    if not isinstance(x, list):\n",
    "        if isinstance(x, tuple):\n",
    "            x=list(x)\n",
    "        else:\n",
    "            x=[x]\n",
    "    for v in x:\n",
    "        for i in range(2,v//2+1):\n",
    "            if v % i == 0:\n",
    "                print(v, ' Not prime')\n",
    "                break\n",
    "        else:\n",
    "            print(v, ' Prime')\n",
    "        \n",
    "\n",
    "check_prime(11)"
   ]
  },
  {
   "cell_type": "code",
   "execution_count": 66,
   "id": "identical-bicycle",
   "metadata": {},
   "outputs": [],
   "source": [
    "def ask_ok(prompt, retries=4, reminder='Please try again!'):\n",
    "    while True:\n",
    "        ok = input(prompt)\n",
    "        if ok in ('y', 'ye', 'yes'):\n",
    "            return True\n",
    "        if ok in ('n', 'no', 'nop', 'nope'):\n",
    "            return False\n",
    "        retries = retries - 1\n",
    "        if retries < 0:\n",
    "            raise ValueError('invalid user response')\n",
    "        print(reminder)\n"
   ]
  },
  {
   "cell_type": "code",
   "execution_count": 69,
   "id": "anonymous-marathon",
   "metadata": {},
   "outputs": [
    {
     "name": "stdout",
     "output_type": "stream",
     "text": [
      "OK to overwrite the file?yes\n"
     ]
    },
    {
     "data": {
      "text/plain": [
       "True"
      ]
     },
     "execution_count": 69,
     "metadata": {},
     "output_type": "execute_result"
    }
   ],
   "source": [
    "ask_ok('OK to overwrite the file?', 2, 'Come on, only yes or no!')\n"
   ]
  },
  {
   "cell_type": "code",
   "execution_count": 76,
   "id": "engaging-model",
   "metadata": {},
   "outputs": [
    {
     "data": {
      "text/plain": [
       "[2]"
      ]
     },
     "execution_count": 76,
     "metadata": {},
     "output_type": "execute_result"
    }
   ],
   "source": [
    "def f(a, L=None):\n",
    "    if L is None:\n",
    "        L=[]\n",
    "    L.append(a)\n",
    "    return L\n",
    "f(1)\n",
    "f(2)"
   ]
  },
  {
   "cell_type": "code",
   "execution_count": 31,
   "id": "incorporated-wholesale",
   "metadata": {},
   "outputs": [
    {
     "name": "stdout",
     "output_type": "stream",
     "text": [
      "2\n"
     ]
    },
    {
     "data": {
      "text/plain": [
       "1"
      ]
     },
     "execution_count": 31,
     "metadata": {},
     "output_type": "execute_result"
    }
   ],
   "source": [
    "import math\n",
    "def countPrime(n):\n",
    "    if n < 0:\n",
    "        ValueError('Enter a positive number')\n",
    "    if 0<=n<2:\n",
    "        return 0\n",
    "    count=0\n",
    "    for i in range(2,n+1):\n",
    "        for j in range(2,int(math.sqrt(i))+1):\n",
    "            if i%j == 0:\n",
    "                break\n",
    "        else:\n",
    "            print(i)\n",
    "            count += 1\n",
    "    return count\n",
    "        \n",
    "countPrime(2)"
   ]
  },
  {
   "cell_type": "code",
   "execution_count": null,
   "id": "aggregate-module",
   "metadata": {},
   "outputs": [],
   "source": [
    "import math\n",
    "def countPrime(m=0,n=1s):\n",
    "    if n < 0:\n",
    "        ValueError('Enter a positive number')\n",
    "    if 0<m<2<n:\n",
    "        return 0\n",
    "    count=0\n",
    "    for i in range(m,n+1):\n",
    "        for j in range(2,int(math.sqrt(i))+1):\n",
    "            if i%j == 0:\n",
    "                break\n",
    "        else:\n",
    "            print(i)\n",
    "            count += 1\n",
    "    return count"
   ]
  },
  {
   "cell_type": "code",
   "execution_count": 3,
   "id": "solar-repair",
   "metadata": {},
   "outputs": [
    {
     "data": {
      "text/plain": [
       "{'one': 3, 'two': 2}"
      ]
     },
     "execution_count": 3,
     "metadata": {},
     "output_type": "execute_result"
    }
   ],
   "source": [
    "{'one':1, 'two':2, 'one':3}"
   ]
  },
  {
   "cell_type": "code",
   "execution_count": 4,
   "id": "perfect-heath",
   "metadata": {},
   "outputs": [],
   "source": [
    "def cheeseshop(kind, *arguments, **keywords):\n",
    "    print(\"-- Do you have any\", kind, \"?\")\n",
    "    print(\"-- I'm sorry, we're all out of\", kind)\n",
    "    for arg in arguments:\n",
    "        print(arg)\n",
    "    print(\"-\" * 40)\n",
    "    for kw in keywords:\n",
    "        print(kw, \":\", keywords[kw])"
   ]
  },
  {
   "cell_type": "code",
   "execution_count": 6,
   "id": "wooden-dinner",
   "metadata": {},
   "outputs": [
    {
     "name": "stdout",
     "output_type": "stream",
     "text": [
      "-- Do you have any Bread ?\n",
      "-- I'm sorry, we're all out of Bread\n",
      "This is what we need\n",
      "This is what we want\n",
      "----------------------------------------\n",
      "shopkeeper : Michael Palin\n",
      "client : John Cleese\n",
      "sketch : Cheese Shop Sketch\n"
     ]
    }
   ],
   "source": [
    "cheeseshop('Bread',\n",
    "          \"This is what we need\",\n",
    "          \"This is what we want\",\n",
    "          shopkeeper=\"Michael Palin\",\n",
    "          client=\"John Cleese\",\n",
    "          sketch=\"Cheese Shop Sketch\",)"
   ]
  },
  {
   "cell_type": "code",
   "execution_count": 14,
   "id": "soviet-right",
   "metadata": {},
   "outputs": [],
   "source": [
    "def all_func_types(pos, defl=10, **kwargs):\n",
    "    print(\"This is positional \", pos, \" and keyword from calling\")\n",
    "    print(\"This is default \", defl)\n",
    "    print('*'*40)\n",
    "    print('This is args ', pos)\n",
    "    print('*'*40)\n",
    "    print('This is kwargs ', kwargs)"
   ]
  },
  {
   "cell_type": "code",
   "execution_count": 16,
   "id": "conscious-forty",
   "metadata": {},
   "outputs": [
    {
     "name": "stdout",
     "output_type": "stream",
     "text": [
      "This is positional  position and keyword  and keyword from calling\n",
      "This is default  20\n",
      "****************************************\n",
      "This is args  position and keyword\n",
      "****************************************\n",
      "This is kwargs  {'tale': \"Let's get this done\"}\n"
     ]
    }
   ],
   "source": [
    "all_func_types(pos='position and keyword',\n",
    "              defl = 20,\n",
    "              tale=\"Let's get this done\")"
   ]
  },
  {
   "cell_type": "code",
   "execution_count": 23,
   "id": "exterior-somewhere",
   "metadata": {},
   "outputs": [
    {
     "data": {
      "text/plain": [
       "True"
      ]
     },
     "execution_count": 23,
     "metadata": {},
     "output_type": "execute_result"
    }
   ],
   "source": [
    "def foo(name, **kwds):\n",
    "    return 'name' in kwds\n",
    "foo(10, name=\"11th\") # TypeError: foo() got multiple values for argument 'name'\n",
    "\n",
    "\n",
    "def foo(name, /, **kwds):\n",
    "    return 'name' in kwds\n",
    "foo(10, name='Ramesh')"
   ]
  },
  {
   "cell_type": "code",
   "execution_count": 33,
   "id": "married-feeding",
   "metadata": {},
   "outputs": [
    {
     "data": {
      "text/plain": [
       "'Ram,Suresh,Chandu'"
      ]
     },
     "execution_count": 33,
     "metadata": {},
     "output_type": "execute_result"
    }
   ],
   "source": [
    "def concat(*args,sep='/'):\n",
    "    return sep.join(args)\n",
    "\n",
    "concat('Ram','Suresh', 'Chandu')\n",
    "concat('Ram','Suresh', 'Chandu', sep=',')"
   ]
  },
  {
   "cell_type": "code",
   "execution_count": 42,
   "id": "dress-indiana",
   "metadata": {},
   "outputs": [
    {
     "data": {
      "text/plain": [
       "[2, 3, 4]"
      ]
     },
     "execution_count": 42,
     "metadata": {},
     "output_type": "execute_result"
    }
   ],
   "source": [
    "list(range(2,5)) # [2, 3, 4]\n",
    "l=[2,5]\n",
    "list(range(*l)) # [2, 3, 4]"
   ]
  },
  {
   "cell_type": "code",
   "execution_count": 50,
   "id": "criminal-search",
   "metadata": {},
   "outputs": [
    {
     "name": "stdout",
     "output_type": "stream",
     "text": [
      "-- This parrot wouldn't boom if you put 100 volts through it. E's not stiff !\n"
     ]
    }
   ],
   "source": [
    "def parrot(voltage, state='a stiff', action='voom'):\n",
    "    print(\"-- This parrot wouldn't\", action, end=' ')\n",
    "    print(\"if you put\", voltage, \"volts through it.\", end=' ')\n",
    "    print(\"E's\", state, \"!\")\n",
    "    \n",
    "d = {'voltage':100, 'state':'not stiff', 'action':'boom'}\n",
    "parrot(**d)"
   ]
  },
  {
   "cell_type": "code",
   "execution_count": 56,
   "id": "heavy-lover",
   "metadata": {},
   "outputs": [
    {
     "data": {
      "text/plain": [
       "43"
      ]
     },
     "execution_count": 56,
     "metadata": {},
     "output_type": "execute_result"
    }
   ],
   "source": [
    "# below function returns an anonymous function\n",
    "def make_incrementor(n):\n",
    "    return lambda x: x + n\n",
    "\n",
    "# f is a function which holds anonymous function and takes \n",
    "# one parameter x whereas the value of n is fixed to 42.\n",
    "f = make_incrementor(42)\n",
    "\n",
    "\n",
    "f(0)\n",
    "f(1)"
   ]
  },
  {
   "cell_type": "code",
   "execution_count": 60,
   "id": "considerable-magnet",
   "metadata": {},
   "outputs": [
    {
     "data": {
      "text/plain": [
       "[(4, 'four'), (1, 'one'), (3, 'three'), (2, 'two')]"
      ]
     },
     "execution_count": 60,
     "metadata": {},
     "output_type": "execute_result"
    }
   ],
   "source": [
    "## Sort by value\n",
    "pairs = [(1, 'one'), (2, 'two'), (3, 'three'), (4, 'four')]\n",
    "pairs.sort(key=lambda x:x[1])\n",
    "pairs"
   ]
  },
  {
   "cell_type": "code",
   "execution_count": 63,
   "id": "infinite-motel",
   "metadata": {},
   "outputs": [
    {
     "data": {
      "text/plain": [
       "{1: 'one', 2: 'two', 3: 'three', 4: 'four'}"
      ]
     },
     "execution_count": 63,
     "metadata": {},
     "output_type": "execute_result"
    }
   ],
   "source": [
    "pairs = [[1, 'one'], [2, 'two'], [3, 'three'], [4, 'four']]\n",
    "dict(pairs)"
   ]
  },
  {
   "cell_type": "code",
   "execution_count": 66,
   "id": "featured-column",
   "metadata": {},
   "outputs": [
    {
     "name": "stdout",
     "output_type": "stream",
     "text": [
      "Annotations: {'ham': <class 'str'>, 'eggs': <class 'str'>, 'return': <class 'str'>}\n",
      "Arguments: Ramesha eggs\n"
     ]
    },
    {
     "data": {
      "text/plain": [
       "'Ramesha and eggs'"
      ]
     },
     "execution_count": 66,
     "metadata": {},
     "output_type": "execute_result"
    }
   ],
   "source": [
    "def f(ham: str, eggs: str = 'eggs') -> str:\n",
    "    print(\"Annotations:\", f.__annotations__)\n",
    "    print(\"Arguments:\", ham, eggs)\n",
    "    return ham + ' and ' + eggs\n",
    "\n",
    "f('Ramesha')"
   ]
  },
  {
   "cell_type": "markdown",
   "id": "regular-favorite",
   "metadata": {},
   "source": [
    "# Strings"
   ]
  },
  {
   "cell_type": "code",
   "execution_count": 6,
   "id": "conventional-positive",
   "metadata": {},
   "outputs": [
    {
     "data": {
      "text/plain": [
       "'ranesh'"
      ]
     },
     "execution_count": 6,
     "metadata": {},
     "output_type": "execute_result"
    }
   ],
   "source": [
    "str.casefold('ramesh')\n",
    "'Ramesh'.casefold()"
   ]
  },
  {
   "cell_type": "code",
   "execution_count": 9,
   "id": "opened-newcastle",
   "metadata": {},
   "outputs": [
    {
     "data": {
      "text/plain": [
       "'Ramesh'"
      ]
     },
     "execution_count": 9,
     "metadata": {},
     "output_type": "execute_result"
    }
   ],
   "source": [
    "str.capitalize('ramesh')\n",
    "'ramesh'.capitalize()"
   ]
  },
  {
   "cell_type": "code",
   "execution_count": 18,
   "id": "suited-quest",
   "metadata": {},
   "outputs": [
    {
     "data": {
      "text/plain": [
       "'zzzzRamesh kumarzzzz'"
      ]
     },
     "execution_count": 18,
     "metadata": {},
     "output_type": "execute_result"
    }
   ],
   "source": [
    "'Ramesh kumar'.center(20,'z')"
   ]
  },
  {
   "cell_type": "code",
   "execution_count": 21,
   "id": "worth-terminology",
   "metadata": {},
   "outputs": [
    {
     "data": {
      "text/plain": [
       "3"
      ]
     },
     "execution_count": 21,
     "metadata": {},
     "output_type": "execute_result"
    }
   ],
   "source": [
    "'Rameeeeesh'.count('e', 2, 6) # 3"
   ]
  },
  {
   "cell_type": "code",
   "execution_count": 32,
   "id": "republican-resource",
   "metadata": {},
   "outputs": [
    {
     "data": {
      "text/plain": [
       "True"
      ]
     },
     "execution_count": 32,
     "metadata": {},
     "output_type": "execute_result"
    }
   ],
   "source": [
    "'Ramesh'.endswith('h') # True\n",
    "'Ramesh'.endswith('s') # False\n",
    "'Ramesh'.endswith(('l','h')) # True\n",
    "'Ramesh'.endswith(('l','h')) # True\n",
    "'Ramesh'.endswith('h', 4) # True ## start=4\n",
    "'Ramesh'.endswith('m', 0, 3) # True"
   ]
  },
  {
   "cell_type": "code",
   "execution_count": 6,
   "id": "oriental-trader",
   "metadata": {},
   "outputs": [
    {
     "data": {
      "text/plain": [
       "'01  012 0123  01234'"
      ]
     },
     "execution_count": 6,
     "metadata": {},
     "output_type": "execute_result"
    }
   ],
   "source": [
    "'01\\t012\\t0123\\t01234'.expandtabs()\n",
    "'01\\t012\\t0123\\t01234'.expandtabs(2)"
   ]
  },
  {
   "cell_type": "code",
   "execution_count": 15,
   "id": "amber-discovery",
   "metadata": {},
   "outputs": [
    {
     "data": {
      "text/plain": [
       "'Ramesh Suresh'"
      ]
     },
     "execution_count": 15,
     "metadata": {},
     "output_type": "execute_result"
    }
   ],
   "source": [
    "'ramesh '.join('Suresh') # 'Sramesh uramesh rramesh eramesh sramesh h'\n",
    "' '.join(['Ramesh', 'Suresh']) # 'Ramesh Suresh'"
   ]
  },
  {
   "cell_type": "code",
   "execution_count": 6,
   "id": "equivalent-transaction",
   "metadata": {},
   "outputs": [
    {
     "data": {
      "text/plain": [
       "'test  '"
      ]
     },
     "execution_count": 6,
     "metadata": {},
     "output_type": "execute_result"
    }
   ],
   "source": [
    "'test'.ljust(6,'a') # testaa\n",
    "'test'.ljust(6,' ') # 'test  '"
   ]
  },
  {
   "cell_type": "code",
   "execution_count": 10,
   "id": "photographic-cedar",
   "metadata": {},
   "outputs": [
    {
     "data": {
      "text/plain": [
       "'example'"
      ]
     },
     "execution_count": 10,
     "metadata": {},
     "output_type": "execute_result"
    }
   ],
   "source": [
    "'www.example.com'.strip('cmowz.')"
   ]
  },
  {
   "cell_type": "code",
   "execution_count": 19,
   "id": "outstanding-description",
   "metadata": {},
   "outputs": [
    {
     "data": {
      "text/plain": [
       "'Suresh C'"
      ]
     },
     "execution_count": 19,
     "metadata": {},
     "output_type": "execute_result"
    }
   ],
   "source": [
    "'Ramesh Suresh Chandu'.strip('Rameshnduresh ')"
   ]
  },
  {
   "cell_type": "code",
   "execution_count": 1,
   "id": "editorial-equivalent",
   "metadata": {},
   "outputs": [
    {
     "data": {
      "text/plain": [
       "{82: 83, 97: 117, 109: 114, 101: 101, 115: 115, 104: 104}"
      ]
     },
     "execution_count": 1,
     "metadata": {},
     "output_type": "execute_result"
    }
   ],
   "source": [
    "str.maketrans('Ramesh', 'Suresh') # {82: 83, 97: 117, 109: 114, 101: 101, 115: 115, 104: 104}"
   ]
  },
  {
   "cell_type": "code",
   "execution_count": 12,
   "id": "buried-corporation",
   "metadata": {},
   "outputs": [
    {
     "data": {
      "text/plain": [
       "['Ramesh', 'Suresh-Chandu']"
      ]
     },
     "execution_count": 12,
     "metadata": {},
     "output_type": "execute_result"
    }
   ],
   "source": [
    "'Ramesh-Suresh-Chandu'.partition('-') # ('Ramesh', '-', 'Suresh-Chandu')\n",
    "'Ramesh-Suresh-Chandu'.split('-') # ['Ramesh', 'Suresh', 'Chandu']"
   ]
  },
  {
   "cell_type": "code",
   "execution_count": 11,
   "id": "systematic-replacement",
   "metadata": {},
   "outputs": [
    {
     "data": {
      "text/plain": [
       "'Suresh'"
      ]
     },
     "execution_count": 11,
     "metadata": {},
     "output_type": "execute_result"
    }
   ],
   "source": [
    "'Ramesh'.replace('Ram','Sur') # 'Suresh'"
   ]
  },
  {
   "cell_type": "code",
   "execution_count": 13,
   "id": "handmade-campaign",
   "metadata": {},
   "outputs": [
    {
     "data": {
      "text/plain": [
       "['Ramesh', 'Suresh-Chandu']"
      ]
     },
     "execution_count": 13,
     "metadata": {},
     "output_type": "execute_result"
    }
   ],
   "source": [
    "'Ramesh-Suresh-Chandu'.split('-', maxsplit=1) # ['Ramesh', 'Suresh-Chandu']"
   ]
  },
  {
   "cell_type": "code",
   "execution_count": 14,
   "id": "fluid-appraisal",
   "metadata": {},
   "outputs": [
    {
     "data": {
      "text/plain": [
       "'rAMESH'"
      ]
     },
     "execution_count": 14,
     "metadata": {},
     "output_type": "execute_result"
    }
   ],
   "source": [
    "'Ramesh'.swapcase() # 'rAMESH'"
   ]
  },
  {
   "cell_type": "code",
   "execution_count": 46,
   "id": "spread-trial",
   "metadata": {},
   "outputs": [
    {
     "name": "stdout",
     "output_type": "stream",
     "text": [
      "<function <lambda> at 0x1095b0ee0> is shyam\n"
     ]
    }
   ],
   "source": [
    "r='Ram'\n",
    "print(f'{(lambda x,y: x+y)} is shyam')"
   ]
  },
  {
   "cell_type": "code",
   "execution_count": 53,
   "id": "extraordinary-stock",
   "metadata": {},
   "outputs": [
    {
     "data": {
      "text/plain": [
       "\"He said his name is 'Fred'.\""
      ]
     },
     "execution_count": 53,
     "metadata": {},
     "output_type": "execute_result"
    }
   ],
   "source": [
    ">>> name = \"Fred\"\n",
    ">>> f\"He said his name is {name!r}.\" # \"He said his name is 'Fred'.\"\n",
    ">>> f\"He said his name is {name!s}.\" # 'He said his name is Fred.'\n",
    ">>> f\"He said his name is {name!a}.\" # 'He said his name is 'Fred'.'\n"
   ]
  },
  {
   "cell_type": "code",
   "execution_count": 60,
   "id": "naughty-fifteen",
   "metadata": {},
   "outputs": [
    {
     "name": "stdout",
     "output_type": "stream",
     "text": [
      "1,000,000\n",
      "10,000,000\n"
     ]
    }
   ],
   "source": [
    "print('{:,}'.format(1000000))\n",
    "print(f'{10000000:,}')"
   ]
  },
  {
   "cell_type": "code",
   "execution_count": 4,
   "id": "marked-lindsay",
   "metadata": {},
   "outputs": [
    {
     "name": "stdout",
     "output_type": "stream",
     "text": [
      "['orange', 'apple', 'pear', 'banana', 'kiwi', 'apple']\n"
     ]
    }
   ],
   "source": [
    "fruits = ['orange', 'apple', 'pear', 'banana', 'kiwi', 'apple', 'banana']\n",
    "fruits.pop() # 'banana'\n",
    "print(fruits) # ['orange', 'apple', 'pear', 'banana', 'kiwi', 'apple']"
   ]
  },
  {
   "cell_type": "code",
   "execution_count": 5,
   "id": "intensive-black",
   "metadata": {},
   "outputs": [
    {
     "data": {
      "text/plain": [
       "['apple', 'apple', 'banana', 'banana', 'kiwi', 'orange', 'pear']"
      ]
     },
     "execution_count": 5,
     "metadata": {},
     "output_type": "execute_result"
    }
   ],
   "source": [
    "fruits = ['orange', 'apple', 'pear', 'banana', 'kiwi', 'apple', 'banana']\n",
    "fruits.sort() ## Sorting is inplace\n",
    "fruits"
   ]
  },
  {
   "cell_type": "code",
   "execution_count": 10,
   "id": "mounted-chile",
   "metadata": {},
   "outputs": [],
   "source": [
    "l = [10, None, 'Ramesh']\n",
    "#l.sort() # TypeError: '<' not supported between instances of 'NoneType' and 'int'\n",
    "\n",
    "l = [10, 'Ramesh']\n",
    "#l.sort() # TypeError: '<' not supported between instances of 'str' and 'int'"
   ]
  },
  {
   "cell_type": "code",
   "execution_count": 39,
   "id": "stuffed-ottawa",
   "metadata": {},
   "outputs": [
    {
     "name": "stdout",
     "output_type": "stream",
     "text": [
      "G\n",
      "H\n",
      "I\n"
     ]
    },
    {
     "data": {
      "text/plain": [
       "deque(['c', 'b', 'a'])"
      ]
     },
     "execution_count": 39,
     "metadata": {},
     "output_type": "execute_result"
    }
   ],
   "source": [
    "from collections import deque\n",
    "\n",
    "d = deque('ghi')\n",
    "for element in d:\n",
    "    print(element.upper())\n",
    "    \n",
    "d.append('j')\n",
    "d.appendleft('f')\n",
    "d.pop()\n",
    "d.popleft()\n",
    "list(d)\n",
    "d[0]\n",
    "d[-1]\n",
    "list(reversed(d))\n",
    "\n",
    "'h' in d\n",
    "d.extend('jkl')\n",
    "d.rotate(1)\n",
    "d.rotate(-1)\n",
    "\n",
    "deque(reversed(d))\n",
    "d.clear()\n",
    "#d.pop() # IndexError: pop from an empty deque\n",
    "\n",
    "d.extendleft('abc')\n",
    "d"
   ]
  },
  {
   "cell_type": "code",
   "execution_count": 52,
   "id": "fourth-caribbean",
   "metadata": {},
   "outputs": [
    {
     "data": {
      "text/plain": [
       "['2021-05-19 09:00:00,19.91,Nan\\n',\n",
       " '2021-05-19 09:30:00,0.11,Nan\\n',\n",
       " '2021-05-19 10:00:00,0.00,Nan\\n',\n",
       " '2021-05-19 10:30:00,22.99,Nan\\n',\n",
       " '2021-05-19 11:00:00,0.00,Nan\"\"\"']"
      ]
     },
     "execution_count": 52,
     "metadata": {},
     "output_type": "execute_result"
    }
   ],
   "source": [
    "def tail(filename, n=10):\n",
    "    \"\"\"Return the last n lines from a file\"\"\"\n",
    "    with open(filename) as f:\n",
    "        return deque(f, n)\n",
    "    \n",
    "tail('te.csv', 5)"
   ]
  },
  {
   "cell_type": "code",
   "execution_count": 47,
   "id": "framed-vessel",
   "metadata": {},
   "outputs": [
    {
     "data": {
      "text/plain": [
       "deque([2, 3])"
      ]
     },
     "execution_count": 47,
     "metadata": {},
     "output_type": "execute_result"
    }
   ],
   "source": [
    "# deque list, set, tuple, dict\n",
    "deque([1,2,3,4,5], 2) # deque([4, 5])\n",
    "deque({1,2,3,4,5}, 2) # deque([4, 5])\n",
    "deque((1,2,3,4,5), 2) # deque([4, 5])\n",
    "deque({1:'a', 2:'b', 3:'c'}, 2) # deque([2, 3])"
   ]
  },
  {
   "cell_type": "code",
   "execution_count": 83,
   "id": "focused-cradle",
   "metadata": {},
   "outputs": [
    {
     "name": "stdout",
     "output_type": "stream",
     "text": [
      "deque([0, 10, 20]) 30\n",
      "elem 30\n",
      "deq deque([10, 20, 30])\n",
      "elem 40\n",
      "deq deque([20, 30, 40])\n",
      "elem 50\n",
      "deq deque([30, 40, 50])\n",
      "elem 60\n",
      "deq deque([40, 50, 60])\n"
     ]
    }
   ],
   "source": [
    "import itertools\n",
    "def moving_averages(iterable, n=3):\n",
    "    it = iter(iterable)\n",
    "    d = deque(itertools.islice(it, n-1))\n",
    "    d.appendleft(0)\n",
    "    s=sum(d)\n",
    "    print(d, s)\n",
    "    for elem in it:\n",
    "        print('elem', elem)\n",
    "        s += elem - d.popleft()\n",
    "        d.append(elem)\n",
    "        print('deq', d)\n",
    "        yield s / n\n",
    "    \n",
    "for i in moving_averages([10,20,30,40,50,60], 3):\n",
    "    print(i)\n"
   ]
  },
  {
   "cell_type": "code",
   "execution_count": 33,
   "id": "promising-wiring",
   "metadata": {},
   "outputs": [
    {
     "name": "stdout",
     "output_type": "stream",
     "text": [
      "deque([<str_iterator object at 0x11e6fff10>, <str_iterator object at 0x11e6ff4f0>, <str_iterator object at 0x11e6ff520>])\n",
      "A\n",
      "D\n",
      "E\n",
      "B\n",
      "F\n",
      "C\n"
     ]
    }
   ],
   "source": [
    "def roundrobin(*iterables):\n",
    "    iterators = deque(map(iter, iterables))\n",
    "    print(iterators)\n",
    "    while iterators:\n",
    "        try:\n",
    "            while True:\n",
    "                yield next(iterators[0])\n",
    "                iterators.rotate(-1)\n",
    "        except StopIteration:\n",
    "            # Remove an exhausted iterator\n",
    "            iterators.popleft()\n",
    "\n",
    "for elem in roundrobin('ABC', 'D', 'EF'):\n",
    "    print(elem)"
   ]
  },
  {
   "cell_type": "code",
   "execution_count": 146,
   "id": "vertical-power",
   "metadata": {},
   "outputs": [],
   "source": [
    "class stack:\n",
    "    l=[]\n",
    "    def __repr__(self):\n",
    "        return str(l)\n",
    "        \n",
    "    def push(self, element):\n",
    "        l.append(element)\n",
    "    \n",
    "    def pop(self):\n",
    "        if len(l) > 0:\n",
    "            l.pop()\n",
    "        else:\n",
    "            raise ValueError('Stack is empty')\n",
    "\n",
    "s = stack()\n",
    "s.pop()"
   ]
  },
  {
   "cell_type": "code",
   "execution_count": 160,
   "id": "rotary-baltimore",
   "metadata": {},
   "outputs": [],
   "source": [
    "vec = [[1,2,3], [4,5,6], [7,8,9]]"
   ]
  },
  {
   "cell_type": "code",
   "execution_count": 164,
   "id": "armed-quality",
   "metadata": {},
   "outputs": [
    {
     "data": {
      "text/plain": [
       "[1, 2, 3, 4, 5, 6, 7, 8, 9]"
      ]
     },
     "execution_count": 164,
     "metadata": {},
     "output_type": "execute_result"
    }
   ],
   "source": [
    "np.ravel(vec) # array([1, 2, 3, 4, 5, 6, 7, 8, 9])\n",
    "[j for i in vec for j in i] # [1, 2, 3, 4, 5, 6, 7, 8, 9]"
   ]
  },
  {
   "cell_type": "code",
   "execution_count": 167,
   "id": "directed-greensboro",
   "metadata": {},
   "outputs": [
    {
     "data": {
      "text/plain": [
       "[3.1, 3.14, 3.142, 3.1416, 3.14159]"
      ]
     },
     "execution_count": 167,
     "metadata": {},
     "output_type": "execute_result"
    }
   ],
   "source": [
    "from math import pi\n",
    "[round(pi, i) for i in range(1, 6)]"
   ]
  },
  {
   "cell_type": "code",
   "execution_count": 253,
   "id": "heard-casting",
   "metadata": {},
   "outputs": [
    {
     "data": {
      "text/plain": [
       "[[1, 2, 3, 4], [5, 6, 7, 8], [9, 10, 11, 12]]"
      ]
     },
     "execution_count": 253,
     "metadata": {},
     "output_type": "execute_result"
    }
   ],
   "source": [
    "matrix = [\n",
    "[1, 2, 3, 4],\n",
    "[5, 6, 7, 8],\n",
    "[9, 10, 11, 12],\n",
    "]\n",
    "matrix"
   ]
  },
  {
   "cell_type": "code",
   "execution_count": 261,
   "id": "freelance-charge",
   "metadata": {},
   "outputs": [
    {
     "data": {
      "text/plain": [
       "[[1, 5, 9], [2, 6, 10], [3, 7, 11], [4, 8, 12]]"
      ]
     },
     "execution_count": 261,
     "metadata": {},
     "output_type": "execute_result"
    }
   ],
   "source": [
    "# raze, np.ravel a list\n",
    "[j for i in matrix for j in i]\n",
    "\n",
    "# List Comprehension of list comprehension to transpose a matrix\n",
    "[[row[i] for row in matrix] for i in range(len(matrix[0]))]"
   ]
  },
  {
   "cell_type": "code",
   "execution_count": 266,
   "id": "thorough-intelligence",
   "metadata": {},
   "outputs": [
    {
     "data": {
      "text/plain": [
       "[('a', 'x', 'z'), ('b', 'y', 'm')]"
      ]
     },
     "execution_count": 266,
     "metadata": {},
     "output_type": "execute_result"
    }
   ],
   "source": [
    "list(zip('abcd','xy','zmkd'))"
   ]
  },
  {
   "cell_type": "code",
   "execution_count": 2,
   "id": "rotary-trailer",
   "metadata": {},
   "outputs": [
    {
     "name": "stdout",
     "output_type": "stream",
     "text": [
      "('abcd', 'xy', 'zmkd')\n"
     ]
    },
    {
     "data": {
      "text/plain": [
       "[('a', 'x', 'z'), ('b', 'y', 'm')]"
      ]
     },
     "execution_count": 2,
     "metadata": {},
     "output_type": "execute_result"
    }
   ],
   "source": [
    "a='abcd'\n",
    "b='xy'\n",
    "c='zmkd'\n",
    "def zzip(*vals):\n",
    "    l = list(vals)\n",
    "    return [tuple([val[i] for val in l]) for i in range(min([len(i) for i in l]))]\n",
    "\n",
    "zzip(a,b,c)"
   ]
  },
  {
   "cell_type": "code",
   "execution_count": 3,
   "id": "radio-affiliate",
   "metadata": {},
   "outputs": [
    {
     "data": {
      "text/plain": [
       "True"
      ]
     },
     "execution_count": 3,
     "metadata": {},
     "output_type": "execute_result"
    }
   ],
   "source": [
    "import sys\n",
    "isinstance(sys.float_info, tuple)"
   ]
  },
  {
   "cell_type": "code",
   "execution_count": 9,
   "id": "roman-startup",
   "metadata": {},
   "outputs": [
    {
     "data": {
      "text/plain": [
       "33"
      ]
     },
     "execution_count": 9,
     "metadata": {},
     "output_type": "execute_result"
    }
   ],
   "source": [
    "Point = namedtuple('Point', 'x y')\n",
    "p = Point(11, y=22) # instantiate with positional or keyword arguments\n",
    "p # Point(x=11, y=22) ## readable __repr__ with a name=value style\n",
    "\n",
    "p[0] + p[1] # 33 # indexable like the plain tuple (11, 22)\n",
    "\n",
    "x,y=p # # unpack like a regular tuple\n",
    "x,y # (11, 22)\n",
    "x # 11\n",
    "\n",
    "p.x + p.y # 33 # fields also accessible by name"
   ]
  },
  {
   "cell_type": "code",
   "execution_count": 14,
   "id": "convertible-rehabilitation",
   "metadata": {},
   "outputs": [
    {
     "data": {
      "text/plain": [
       "1"
      ]
     },
     "execution_count": 14,
     "metadata": {},
     "output_type": "execute_result"
    }
   ],
   "source": [
    "l=[1,2,3,4]\n",
    "l[-0]"
   ]
  },
  {
   "cell_type": "code",
   "execution_count": 22,
   "id": "charged-torture",
   "metadata": {},
   "outputs": [
    {
     "data": {
      "text/plain": [
       "'Ramesh Ramesh'"
      ]
     },
     "execution_count": 22,
     "metadata": {},
     "output_type": "execute_result"
    }
   ],
   "source": [
    "st='Ramesh'\n",
    "st+' '+st"
   ]
  },
  {
   "cell_type": "code",
   "execution_count": 24,
   "id": "documentary-original",
   "metadata": {},
   "outputs": [
    {
     "data": {
      "text/plain": [
       "'RRameshaRameshmRamesheRameshsRameshh'"
      ]
     },
     "execution_count": 24,
     "metadata": {},
     "output_type": "execute_result"
    }
   ],
   "source": [
    "st.join(st)"
   ]
  },
  {
   "cell_type": "code",
   "execution_count": 31,
   "id": "lucky-ranking",
   "metadata": {},
   "outputs": [
    {
     "data": {
      "text/plain": [
       "529344067295497451"
      ]
     },
     "execution_count": 31,
     "metadata": {},
     "output_type": "execute_result"
    }
   ],
   "source": [
    "hash((1,2,3)) # 529344067295497451\n",
    "hash((1,2,3)) # TypeError: unhashable type: 'list'"
   ]
  },
  {
   "cell_type": "code",
   "execution_count": 30,
   "id": "excellent-physiology",
   "metadata": {},
   "outputs": [
    {
     "data": {
      "text/plain": [
       "[11, 12, 13, 14, 11, 12, 13, 14, 11, 12, 13, 14]"
      ]
     },
     "execution_count": 30,
     "metadata": {},
     "output_type": "execute_result"
    }
   ],
   "source": [
    "l = list(range(11,15))\n",
    "l *= 3\n",
    "l"
   ]
  },
  {
   "cell_type": "code",
   "execution_count": 31,
   "id": "smart-reputation",
   "metadata": {},
   "outputs": [],
   "source": [
    "l.remove(12)"
   ]
  },
  {
   "cell_type": "code",
   "execution_count": 38,
   "id": "noted-event",
   "metadata": {},
   "outputs": [],
   "source": [
    "del l[1]"
   ]
  },
  {
   "cell_type": "code",
   "execution_count": 56,
   "id": "affected-trick",
   "metadata": {},
   "outputs": [
    {
     "data": {
      "text/plain": [
       "[14, 13, 12, 11, 21]"
      ]
     },
     "execution_count": 56,
     "metadata": {},
     "output_type": "execute_result"
    }
   ],
   "source": [
    "\n",
    "#l.append(21)\n",
    "l"
   ]
  },
  {
   "cell_type": "code",
   "execution_count": 73,
   "id": "economic-toddler",
   "metadata": {},
   "outputs": [],
   "source": [
    "def rev(l):\n",
    "    for i in range(len(l)//2):\n",
    "        l[i],l[-i-1] = l[-i-1],l[i]\n",
    "\n",
    "rev(l)"
   ]
  },
  {
   "cell_type": "code",
   "execution_count": 74,
   "id": "figured-workshop",
   "metadata": {},
   "outputs": [
    {
     "name": "stdout",
     "output_type": "stream",
     "text": [
      "62.8 ns ± 0.322 ns per loop (mean ± std. dev. of 7 runs, 10000000 loops each)\n"
     ]
    }
   ],
   "source": [
    "%timeit l.reverse()"
   ]
  },
  {
   "cell_type": "code",
   "execution_count": 75,
   "id": "thousand-bunny",
   "metadata": {},
   "outputs": [
    {
     "name": "stdout",
     "output_type": "stream",
     "text": [
      "753 ns ± 14.5 ns per loop (mean ± std. dev. of 7 runs, 1000000 loops each)\n"
     ]
    }
   ],
   "source": [
    "%timeit rev(l)"
   ]
  },
  {
   "cell_type": "code",
   "execution_count": 70,
   "id": "hindu-today",
   "metadata": {},
   "outputs": [],
   "source": [
    "def reverseList(A, start, end):\n",
    "    while start < end:\n",
    "        A[start], A[end] = A[end], A[start]\n",
    "        start += 1\n",
    "        end -= 1"
   ]
  },
  {
   "cell_type": "code",
   "execution_count": 76,
   "id": "domestic-music",
   "metadata": {},
   "outputs": [
    {
     "name": "stdout",
     "output_type": "stream",
     "text": [
      "536 ns ± 1.85 ns per loop (mean ± std. dev. of 7 runs, 1000000 loops each)\n"
     ]
    }
   ],
   "source": [
    "%timeit reverseList(l,0,4)"
   ]
  },
  {
   "cell_type": "code",
   "execution_count": 114,
   "id": "hawaiian-gathering",
   "metadata": {},
   "outputs": [
    {
     "data": {
      "text/plain": [
       "['C', 'B', 'A', 'b', 'c', 'a']"
      ]
     },
     "execution_count": 114,
     "metadata": {},
     "output_type": "execute_result"
    }
   ],
   "source": [
    "import string\n",
    "l = ['b','c','C','B','a', 'A']\n",
    "l.sort(key=string.ascii_letters.index) # ['a', 'b', 'c', 'A', 'B', 'C']\n",
    "\n",
    "l.sort(key=lambda x: (x.isupper(), x)) # ['a', 'b', 'c', 'A', 'B', 'C']\n",
    "l.sort(key=lambda x: x.isupper()) # ['b', 'c', 'a', 'C', 'B', 'A']\n",
    "\n",
    "l.sort(key=lambda x: (x.islower(), x)) # ['A', 'B', 'C', 'a', 'b', 'c'], same as without key default behaviour\n",
    "l.sort(key=lambda x: x.islower()) # ['C', 'B', 'A', 'b', 'c', 'a']\n"
   ]
  },
  {
   "cell_type": "code",
   "execution_count": 98,
   "id": "dried-feature",
   "metadata": {},
   "outputs": [
    {
     "data": {
      "text/plain": [
       "<function __main__.<lambda>(x)>"
      ]
     },
     "execution_count": 98,
     "metadata": {},
     "output_type": "execute_result"
    }
   ],
   "source": [
    "lambda x: x.isupper()"
   ]
  },
  {
   "cell_type": "code",
   "execution_count": 100,
   "id": "informational-hebrew",
   "metadata": {},
   "outputs": [
    {
     "data": {
      "text/plain": [
       "['a', 'e', 'f', 'A', 'B', 'D']"
      ]
     },
     "execution_count": 100,
     "metadata": {},
     "output_type": "execute_result"
    }
   ],
   "source": [
    "arr=['A','e','a','D','f','B']\n",
    "arr.sort(key=lambda x: (x.isupper(), x))\n",
    "arr"
   ]
  },
  {
   "cell_type": "code",
   "execution_count": 104,
   "id": "committed-olympus",
   "metadata": {},
   "outputs": [
    {
     "data": {
      "text/plain": [
       "['a', 'e', 'f', 'A', 'B', 'D']"
      ]
     },
     "execution_count": 104,
     "metadata": {},
     "output_type": "execute_result"
    }
   ],
   "source": [
    "arr=['A','e','a','D','f','B']\n",
    "sorted_arr = sorted(arr, key=lambda x: (x.isupper(), x))\n",
    "sorted_arr"
   ]
  },
  {
   "cell_type": "code",
   "execution_count": 103,
   "id": "statutory-america",
   "metadata": {},
   "outputs": [
    {
     "data": {
      "text/plain": [
       "['A', 'e', 'a', 'D', 'f', 'B']"
      ]
     },
     "execution_count": 103,
     "metadata": {},
     "output_type": "execute_result"
    }
   ],
   "source": [
    "arr"
   ]
  },
  {
   "cell_type": "code",
   "execution_count": 118,
   "id": "fourth-speaker",
   "metadata": {},
   "outputs": [
    {
     "data": {
      "text/plain": [
       "['e', 'A']"
      ]
     },
     "execution_count": 118,
     "metadata": {},
     "output_type": "execute_result"
    }
   ],
   "source": [
    "arr[-5::-1]"
   ]
  },
  {
   "cell_type": "code",
   "execution_count": 177,
   "id": "automotive-funds",
   "metadata": {},
   "outputs": [],
   "source": [
    "def f(n):\n",
    "    if n in (0,1):\n",
    "        return 1\n",
    "    else:\n",
    "        return (f(n-1) + f(n-2))"
   ]
  },
  {
   "cell_type": "code",
   "execution_count": 201,
   "id": "reported-dynamics",
   "metadata": {},
   "outputs": [
    {
     "name": "stdout",
     "output_type": "stream",
     "text": [
      "40 µs ± 897 ns per loop (mean ± std. dev. of 7 runs, 10000 loops each)\n"
     ]
    }
   ],
   "source": [
    "%timeit for i in range(10): f(i)"
   ]
  },
  {
   "cell_type": "code",
   "execution_count": 195,
   "id": "featured-fault",
   "metadata": {},
   "outputs": [
    {
     "name": "stdout",
     "output_type": "stream",
     "text": [
      "[0, 1, 1, 2, 3, 5, 8, 13, 21, 34]\n"
     ]
    }
   ],
   "source": [
    "def fib(n):\n",
    "    t = [0,1]\n",
    "    for i in range(n-2):\n",
    "        t.append(t[-1] + t[-2])\n",
    "    #return t\n"
   ]
  },
  {
   "cell_type": "code",
   "execution_count": 202,
   "id": "cloudy-bargain",
   "metadata": {},
   "outputs": [
    {
     "name": "stdout",
     "output_type": "stream",
     "text": [
      "1.56 µs ± 25.4 ns per loop (mean ± std. dev. of 7 runs, 1000000 loops each)\n"
     ]
    }
   ],
   "source": [
    "%timeit fib(10)"
   ]
  },
  {
   "cell_type": "code",
   "execution_count": 4,
   "id": "incorrect-wrong",
   "metadata": {},
   "outputs": [
    {
     "name": "stdout",
     "output_type": "stream",
     "text": [
      "4886064480\n",
      "4886064480\n"
     ]
    }
   ],
   "source": [
    "s = {1,2,3}\n",
    "print(id(s))\n",
    "s.add(4)\n",
    "print(id(s))"
   ]
  },
  {
   "cell_type": "code",
   "execution_count": 6,
   "id": "detected-creativity",
   "metadata": {},
   "outputs": [
    {
     "name": "stdout",
     "output_type": "stream",
     "text": [
      "4415507024 4415507344\n",
      "4415507344 4415507024\n",
      "20 10\n"
     ]
    }
   ],
   "source": [
    "a=10\n",
    "b=20\n",
    "print(id(a), id(b))\n",
    "a,b=b,a\n",
    "print(id(a), id(b))\n",
    "print(a, b)"
   ]
  },
  {
   "cell_type": "code",
   "execution_count": 10,
   "id": "wrapped-butter",
   "metadata": {},
   "outputs": [
    {
     "data": {
      "text/plain": [
       "{'one': 1, 'two': 2, 'three': 3}"
      ]
     },
     "execution_count": 10,
     "metadata": {},
     "output_type": "execute_result"
    }
   ],
   "source": [
    "dict([('one',1), ('two',2), ('three',3)])"
   ]
  },
  {
   "cell_type": "code",
   "execution_count": 13,
   "id": "subject-individual",
   "metadata": {},
   "outputs": [
    {
     "data": {
      "text/plain": [
       "{'red': 'Ramesh'}"
      ]
     },
     "execution_count": 13,
     "metadata": {},
     "output_type": "execute_result"
    }
   ],
   "source": [
    "# Inheriting dict class\n",
    "class Counter(dict):\n",
    "    def __missing__(self, key):\n",
    "        return 0\n",
    "\n",
    "c = Counter()\n",
    "c['red']\n",
    "c['red'] = 'Ramesh'\n",
    "c"
   ]
  },
  {
   "cell_type": "code",
   "execution_count": 15,
   "id": "collaborative-decrease",
   "metadata": {},
   "outputs": [
    {
     "data": {
      "text/plain": [
       "'red'"
      ]
     },
     "execution_count": 15,
     "metadata": {},
     "output_type": "execute_result"
    }
   ],
   "source": [
    "x = iter(c)\n",
    "next(x)"
   ]
  },
  {
   "cell_type": "code",
   "execution_count": 27,
   "id": "nasty-logan",
   "metadata": {},
   "outputs": [
    {
     "name": "stdout",
     "output_type": "stream",
     "text": [
      "4415507024\n",
      "4415507024\n",
      "4906266336\n"
     ]
    },
    {
     "data": {
      "text/plain": [
       "4907929312"
      ]
     },
     "execution_count": 27,
     "metadata": {},
     "output_type": "execute_result"
    }
   ],
   "source": [
    "a=10\n",
    "print(id(a))\n",
    "d = {'a': a}\n",
    "print(id(d['a']))\n",
    "print(id(d.values()))\n",
    "id(d.values())"
   ]
  },
  {
   "cell_type": "code",
   "execution_count": 43,
   "id": "nutritional-atlas",
   "metadata": {},
   "outputs": [],
   "source": [
    "d\n",
    "e = {'b':20, 'a':30}\n",
    "d |= e"
   ]
  },
  {
   "cell_type": "code",
   "execution_count": 18,
   "id": "hearing-transaction",
   "metadata": {},
   "outputs": [
    {
     "name": "stdout",
     "output_type": "stream",
     "text": [
      "504\n"
     ]
    }
   ],
   "source": [
    "dishes = {'eggs': 2, 'sausage': 1, 'bacon': 1, 'spam': 500}\n",
    "keys = dishes.keys()\n",
    "keys # dict_keys(['eggs', 'sausage', 'bacon', 'spam'])\n",
    "\n",
    "values = dishes.values()\n",
    "values # dict_values([2, 1, 1, 500])\n",
    "\n",
    "dishes.items() # dict_items([('eggs', 2), ('sausage', 1), ('bacon', 1), ('spam', 500)])\n",
    "\n",
    "# iteration\n",
    "\n",
    "n=0\n",
    "for val in values:\n",
    "    n += val\n",
    "    print(n)\n",
    "    \n"
   ]
  },
  {
   "cell_type": "code",
   "execution_count": 20,
   "id": "responsible-discipline",
   "metadata": {},
   "outputs": [
    {
     "ename": "TypeError",
     "evalue": "'mappingproxy' object does not support item assignment",
     "output_type": "error",
     "traceback": [
      "\u001b[0;31m---------------------------------------------------------------------------\u001b[0m",
      "\u001b[0;31mTypeError\u001b[0m                                 Traceback (most recent call last)",
      "\u001b[0;32m<ipython-input-20-aa6656bd15d7>\u001b[0m in \u001b[0;36m<module>\u001b[0;34m\u001b[0m\n\u001b[1;32m      2\u001b[0m \u001b[0;34m\u001b[0m\u001b[0m\n\u001b[1;32m      3\u001b[0m \u001b[0mmpt\u001b[0m \u001b[0;34m=\u001b[0m \u001b[0mtypes\u001b[0m\u001b[0;34m.\u001b[0m\u001b[0mMappingProxyType\u001b[0m\u001b[0;34m(\u001b[0m\u001b[0;34m{\u001b[0m\u001b[0;34m'a'\u001b[0m\u001b[0;34m:\u001b[0m\u001b[0;36m1\u001b[0m\u001b[0;34m,\u001b[0m \u001b[0;34m'b'\u001b[0m\u001b[0;34m:\u001b[0m\u001b[0;36m2\u001b[0m\u001b[0;34m}\u001b[0m\u001b[0;34m)\u001b[0m\u001b[0;34m\u001b[0m\u001b[0;34m\u001b[0m\u001b[0m\n\u001b[0;32m----> 4\u001b[0;31m \u001b[0mmpt\u001b[0m\u001b[0;34m[\u001b[0m\u001b[0;34m'c'\u001b[0m\u001b[0;34m]\u001b[0m\u001b[0;34m=\u001b[0m\u001b[0;36m3\u001b[0m\u001b[0;34m\u001b[0m\u001b[0;34m\u001b[0m\u001b[0m\n\u001b[0m",
      "\u001b[0;31mTypeError\u001b[0m: 'mappingproxy' object does not support item assignment"
     ]
    }
   ],
   "source": [
    "import types\n",
    "\n",
    "mpt = types.MappingProxyType({'a':1, 'b':2})\n",
    "mpt['c']=3 # TypeError: 'mappingproxy' object does not support item assignment"
   ]
  },
  {
   "cell_type": "code",
   "execution_count": 21,
   "id": "advisory-prize",
   "metadata": {},
   "outputs": [
    {
     "data": {
      "text/plain": [
       "[56.2, 51.7, 55.3, 52.5, 47.8]"
      ]
     },
     "execution_count": 21,
     "metadata": {},
     "output_type": "execute_result"
    }
   ],
   "source": [
    ">>> import math\n",
    ">>> raw_data = [56.2, float('NaN'), 51.7, 55.3, 52.5, float('NaN'), 47.8]\n",
    "filtered_data = []\n",
    "for d in raw_data:\n",
    "    if not math.isnan(d):\n",
    "        filtered_data.append(d)\n",
    "filtered_data"
   ]
  },
  {
   "cell_type": "code",
   "execution_count": 33,
   "id": "offshore-indiana",
   "metadata": {},
   "outputs": [
    {
     "data": {
      "text/plain": [
       "False"
      ]
     },
     "execution_count": 33,
     "metadata": {},
     "output_type": "execute_result"
    }
   ],
   "source": [
    "a=10\n",
    "b=30\n",
    "c=30\n",
    "a < b == True # is equivalent to a < (b==True)"
   ]
  },
  {
   "cell_type": "code",
   "execution_count": 34,
   "id": "chemical-headset",
   "metadata": {},
   "outputs": [
    {
     "data": {
      "text/plain": [
       "False"
      ]
     },
     "execution_count": 34,
     "metadata": {},
     "output_type": "execute_result"
    }
   ],
   "source": [
    "a=10\n",
    "b=20\n",
    "c=True\n",
    "a == b and c # False is equivalent to (a == b) and c"
   ]
  },
  {
   "cell_type": "code",
   "execution_count": 59,
   "id": "indoor-sapphire",
   "metadata": {},
   "outputs": [
    {
     "data": {
      "text/plain": [
       "'Trondheim'"
      ]
     },
     "execution_count": 59,
     "metadata": {},
     "output_type": "execute_result"
    }
   ],
   "source": [
    "string1, string2, string3 = '', 'Trondheim', 'Hammer Dance'\n",
    "string1 and string2 and string3 # ''\n",
    "string2 and string3 ## 'Hammer Dance', if not empty '' then output is last evaluated value\n",
    "\n",
    "string2 or string3## 'Trondheim', first evaluated value"
   ]
  },
  {
   "cell_type": "code",
   "execution_count": 45,
   "id": "subsequent-creativity",
   "metadata": {},
   "outputs": [
    {
     "data": {
      "text/plain": [
       "'a'"
      ]
     },
     "execution_count": 45,
     "metadata": {},
     "output_type": "execute_result"
    }
   ],
   "source": [
    "'a' and 'b' # b -- 'and' means greater, opposite of what it(&) means in kdb\n",
    "'a' or 'b' # a  -- 'or' means lesser, opposite of what it(&) means in kdb"
   ]
  },
  {
   "cell_type": "code",
   "execution_count": 75,
   "id": "meaning-operations",
   "metadata": {},
   "outputs": [
    {
     "data": {
      "text/plain": [
       "True"
      ]
     },
     "execution_count": 75,
     "metadata": {},
     "output_type": "execute_result"
    }
   ],
   "source": [
    "# If compared elements are equal then compares next element\n",
    "(1, 2, 3)              < (1, 2, 4) # True\n",
    "[1, 2, 3]              < [1, 2, 4] # True\n",
    "'ABD' < 'C' < 'Pascal' < 'Python' # True\n",
    "(1, 2, 3, 4)           < (1, 2, 4) # # True\n",
    "(1, 2)                 < (1, 2, -1) # True\n",
    "(1, 2, 3)             == (1.0, 2.0, 3.0) # True\n",
    "(1, 2, ('aa', 'ab'))   < (1, 2, ('abc', 'a'), 4) # # True"
   ]
  },
  {
   "cell_type": "markdown",
   "id": "improved-alexandria",
   "metadata": {},
   "source": [
    "# 6. Modules"
   ]
  },
  {
   "cell_type": "code",
   "execution_count": 76,
   "id": "straight-chicken",
   "metadata": {},
   "outputs": [
    {
     "name": "stdout",
     "output_type": "stream",
     "text": [
      "0 1 1 2 3 \n"
     ]
    }
   ],
   "source": [
    "def fib(n):    # write Fibonacci series up to n\n",
    "    a, b = 0, 1\n",
    "    while a < n:\n",
    "        print(a, end=' ')\n",
    "        a, b = b, a+b\n",
    "    print()\n",
    "fib(5)"
   ]
  },
  {
   "cell_type": "code",
   "execution_count": 77,
   "id": "interpreted-personal",
   "metadata": {},
   "outputs": [
    {
     "data": {
      "text/plain": [
       "[0, 1, 1, 2, 3]"
      ]
     },
     "execution_count": 77,
     "metadata": {},
     "output_type": "execute_result"
    }
   ],
   "source": [
    "def fib2(n):   # return Fibonacci series up to n\n",
    "    result = []\n",
    "    a, b = 0, 1\n",
    "    while a < n:\n",
    "        result.append(a)\n",
    "        a, b = b, a+b\n",
    "    return result\n",
    "fib2(5)"
   ]
  },
  {
   "cell_type": "code",
   "execution_count": 93,
   "id": "beautiful-laugh",
   "metadata": {},
   "outputs": [
    {
     "name": "stdout",
     "output_type": "stream",
     "text": [
      "0 1 1 2 3 "
     ]
    }
   ],
   "source": [
    "# Fibonacci numbers module\n",
    "def fib(n):\n",
    "    def rec_fib(n1):\n",
    "        if n1 in [0,1]:\n",
    "            return n1\n",
    "        else:\n",
    "            return rec_fib(n1-1) + rec_fib(n1-2)\n",
    "    \n",
    "    for i in range(n):\n",
    "        print(rec_fib(i), end=' ')\n",
    "        \n",
    "fib(5)"
   ]
  },
  {
   "cell_type": "code",
   "execution_count": 95,
   "id": "freelance-afternoon",
   "metadata": {},
   "outputs": [
    {
     "data": {
      "text/plain": [
       "[0, 1, 1, 2, 3]"
      ]
     },
     "execution_count": 95,
     "metadata": {},
     "output_type": "execute_result"
    }
   ],
   "source": [
    "def fib2(n:int) -> list:\n",
    "    fib_list = [0,1]\n",
    "    for i in range(n-2):\n",
    "        fib_list.append(fib_list[-1] + fib_list[-2])\n",
    "    return fib_list\n",
    "\n",
    "fib2(5)"
   ]
  },
  {
   "cell_type": "code",
   "execution_count": 96,
   "id": "alive-moderator",
   "metadata": {},
   "outputs": [
    {
     "name": "stdout",
     "output_type": "stream",
     "text": [
      "[0, 1, 1, 2, 3]\n"
     ]
    },
    {
     "data": {
      "text/plain": [
       "[0, 1, 1, 2, 3]"
      ]
     },
     "execution_count": 96,
     "metadata": {},
     "output_type": "execute_result"
    }
   ],
   "source": [
    "def fib2(n:int) -> list:\n",
    "    fib_list = [0,1]\n",
    "    for i in range(n-2):\n",
    "        fib_list.append(fib_list[-1] + fib_list[-2])\n",
    "    print(fib_list)\n",
    "    return fib_list\n",
    "\n",
    "fib2(5)"
   ]
  },
  {
   "cell_type": "code",
   "execution_count": 58,
   "id": "talented-adams",
   "metadata": {},
   "outputs": [
    {
     "data": {
      "text/html": [
       "<div>\n",
       "<style scoped>\n",
       "    .dataframe tbody tr th:only-of-type {\n",
       "        vertical-align: middle;\n",
       "    }\n",
       "\n",
       "    .dataframe tbody tr th {\n",
       "        vertical-align: top;\n",
       "    }\n",
       "\n",
       "    .dataframe thead th {\n",
       "        text-align: right;\n",
       "    }\n",
       "</style>\n",
       "<table border=\"1\" class=\"dataframe\">\n",
       "  <thead>\n",
       "    <tr style=\"text-align: right;\">\n",
       "      <th></th>\n",
       "      <th>Name</th>\n",
       "    </tr>\n",
       "  </thead>\n",
       "  <tbody>\n",
       "    <tr>\n",
       "      <th>0</th>\n",
       "      <td>Anthony Frank Hawk</td>\n",
       "    </tr>\n",
       "    <tr>\n",
       "      <th>1</th>\n",
       "      <td>John Rodney Mullen</td>\n",
       "    </tr>\n",
       "    <tr>\n",
       "      <th>2</th>\n",
       "      <td>Robert Dean Silva Burnquis</td>\n",
       "    </tr>\n",
       "    <tr>\n",
       "      <th>3</th>\n",
       "      <td>Geoffrey Joseph Rowley</td>\n",
       "    </tr>\n",
       "  </tbody>\n",
       "</table>\n",
       "</div>"
      ],
      "text/plain": [
       "                         Name\n",
       "0          Anthony Frank Hawk\n",
       "1          John Rodney Mullen\n",
       "2  Robert Dean Silva Burnquis\n",
       "3      Geoffrey Joseph Rowley"
      ]
     },
     "execution_count": 58,
     "metadata": {},
     "output_type": "execute_result"
    }
   ],
   "source": [
    "df= pd.DataFrame({'Name':                          \n",
    "     ['Anthony Frank Hawk',         \n",
    "     'John Rodney Mullen',             \n",
    "     'Robert Dean Silva Burnquis',\n",
    "     'Geoffrey Joseph Rowley']})\n",
    "df\n",
    "    "
   ]
  },
  {
   "cell_type": "code",
   "execution_count": 63,
   "id": "alert-conservation",
   "metadata": {},
   "outputs": [
    {
     "data": {
      "text/html": [
       "<div>\n",
       "<style scoped>\n",
       "    .dataframe tbody tr th:only-of-type {\n",
       "        vertical-align: middle;\n",
       "    }\n",
       "\n",
       "    .dataframe tbody tr th {\n",
       "        vertical-align: top;\n",
       "    }\n",
       "\n",
       "    .dataframe thead th {\n",
       "        text-align: right;\n",
       "    }\n",
       "</style>\n",
       "<table border=\"1\" class=\"dataframe\">\n",
       "  <thead>\n",
       "    <tr style=\"text-align: right;\">\n",
       "      <th></th>\n",
       "      <th>Name</th>\n",
       "      <th>temp</th>\n",
       "    </tr>\n",
       "  </thead>\n",
       "  <tbody>\n",
       "    <tr>\n",
       "      <th>0</th>\n",
       "      <td>Anthony Frank Hawk</td>\n",
       "      <td>Anthony Frank</td>\n",
       "    </tr>\n",
       "    <tr>\n",
       "      <th>1</th>\n",
       "      <td>John Rodney Mullen</td>\n",
       "      <td>John Rodney</td>\n",
       "    </tr>\n",
       "    <tr>\n",
       "      <th>2</th>\n",
       "      <td>Robert Dean Silva Burnquis</td>\n",
       "      <td>Robert Dean</td>\n",
       "    </tr>\n",
       "    <tr>\n",
       "      <th>3</th>\n",
       "      <td>Geoffrey Joseph Rowley</td>\n",
       "      <td>Geoffrey Joseph</td>\n",
       "    </tr>\n",
       "  </tbody>\n",
       "</table>\n",
       "</div>"
      ],
      "text/plain": [
       "                         Name             temp\n",
       "0          Anthony Frank Hawk    Anthony Frank\n",
       "1          John Rodney Mullen      John Rodney\n",
       "2  Robert Dean Silva Burnquis      Robert Dean\n",
       "3      Geoffrey Joseph Rowley  Geoffrey Joseph"
      ]
     },
     "execution_count": 63,
     "metadata": {},
     "output_type": "execute_result"
    }
   ],
   "source": [
    "df['temp'] = df.Name.str.split().str[:2].str.join(' ')\n",
    "df"
   ]
  },
  {
   "cell_type": "code",
   "execution_count": 56,
   "id": "lovely-frontier",
   "metadata": {},
   "outputs": [
    {
     "data": {
      "text/html": [
       "<div>\n",
       "<style scoped>\n",
       "    .dataframe tbody tr th:only-of-type {\n",
       "        vertical-align: middle;\n",
       "    }\n",
       "\n",
       "    .dataframe tbody tr th {\n",
       "        vertical-align: top;\n",
       "    }\n",
       "\n",
       "    .dataframe thead th {\n",
       "        text-align: right;\n",
       "    }\n",
       "</style>\n",
       "<table border=\"1\" class=\"dataframe\">\n",
       "  <thead>\n",
       "    <tr style=\"text-align: right;\">\n",
       "      <th></th>\n",
       "      <th>Name</th>\n",
       "      <th>temp</th>\n",
       "    </tr>\n",
       "  </thead>\n",
       "  <tbody>\n",
       "    <tr>\n",
       "      <th>0</th>\n",
       "      <td>Anthony Frank Hawk</td>\n",
       "      <td>Anthony Frank</td>\n",
       "    </tr>\n",
       "    <tr>\n",
       "      <th>1</th>\n",
       "      <td>John Rodney Mullen</td>\n",
       "      <td>John Rodney</td>\n",
       "    </tr>\n",
       "    <tr>\n",
       "      <th>2</th>\n",
       "      <td>Robert Dean Silva Burnquis</td>\n",
       "      <td>Robert Dean Silva</td>\n",
       "    </tr>\n",
       "    <tr>\n",
       "      <th>3</th>\n",
       "      <td>Geoffrey Joseph Rowley</td>\n",
       "      <td>Geoffrey Joseph</td>\n",
       "    </tr>\n",
       "  </tbody>\n",
       "</table>\n",
       "</div>"
      ],
      "text/plain": [
       "                         Name               temp\n",
       "0          Anthony Frank Hawk      Anthony Frank\n",
       "1          John Rodney Mullen        John Rodney\n",
       "2  Robert Dean Silva Burnquis  Robert Dean Silva\n",
       "3      Geoffrey Joseph Rowley    Geoffrey Joseph"
      ]
     },
     "execution_count": 56,
     "metadata": {},
     "output_type": "execute_result"
    }
   ],
   "source": [
    "df['temp'] = df.Name.str.rpartition().get(0)\n",
    "df"
   ]
  },
  {
   "cell_type": "code",
   "execution_count": 2,
   "id": "reliable-committee",
   "metadata": {},
   "outputs": [
    {
     "data": {
      "text/plain": [
       "20.0"
      ]
     },
     "execution_count": 2,
     "metadata": {},
     "output_type": "execute_result"
    }
   ],
   "source": [
    "200_000 / 10_000"
   ]
  },
  {
   "cell_type": "code",
   "execution_count": 12,
   "id": "subtle-brain",
   "metadata": {},
   "outputs": [
    {
     "name": "stdout",
     "output_type": "stream",
     "text": [
      "Jack:4098 and Sjoerd:4127 and Dcab:8637678\n",
      "Jack: 4098 and Sjoerd:4127 and Dcab:8637678\n"
     ]
    }
   ],
   "source": [
    "table = {'Sjoerd': 4127, 'Jack': 4098, 'Dcab': 8637678}\n",
    "print(f'Jack:{table[\"Jack\"]} and Sjoerd:{table[\"Sjoerd\"]} and Dcab:{table[\"Dcab\"]}')\n",
    "print('Jack:{Jack: } and Sjoerd:{Sjoerd} and Dcab:{Dcab}'.format(**table))"
   ]
  },
  {
   "cell_type": "code",
   "execution_count": 14,
   "id": "radio-brighton",
   "metadata": {},
   "outputs": [
    {
     "name": "stdout",
     "output_type": "stream",
     "text": [
      " 1   1    1\n",
      " 2   4    8\n",
      " 3   9   27\n",
      " 4  16   64\n",
      " 5  25  125\n",
      " 6  36  216\n",
      " 7  49  343\n",
      " 8  64  512\n",
      " 9  81  729\n",
      "10 100 1000\n"
     ]
    }
   ],
   "source": [
    "for x in range(1,11):\n",
    "    print('{0:2d} {1:3d} {2:4d}'.format(x, x*x, x*x*x))"
   ]
  },
  {
   "cell_type": "code",
   "execution_count": 22,
   "id": "searching-welsh",
   "metadata": {},
   "outputs": [
    {
     "name": "stdout",
     "output_type": "stream",
     "text": [
      "1   1     1\n",
      "2   4     8\n",
      "3   9    27\n",
      "4   16   64\n",
      "5   25  125\n",
      "6   36  216\n",
      "7   49  343\n",
      "8   64  512\n",
      "9   81  729\n",
      "10 100 1000\n"
     ]
    }
   ],
   "source": [
    "s"
   ]
  },
  {
   "cell_type": "code",
   "execution_count": 5,
   "id": "corporate-population",
   "metadata": {},
   "outputs": [
    {
     "name": "stdout",
     "output_type": "stream",
     "text": [
      "BB\n",
      "CC\n",
      "DD\n",
      "B\n",
      "B\n",
      "D\n"
     ]
    }
   ],
   "source": [
    "import time\n",
    "class B(Exception):\n",
    "    print(\"BB\")\n",
    "\n",
    "class C(B):\n",
    "    print(\"CC\")\n",
    "\n",
    "class D(C):\n",
    "    print(\"DD\")\n",
    "\n",
    "for cls in [B, C, D]:\n",
    "    try:\n",
    "        time.sleep(2)\n",
    "        raise cls()\n",
    "    except D:\n",
    "        print(\"D\")\n",
    "    except B:\n",
    "        print(\"B\")"
   ]
  },
  {
   "cell_type": "code",
   "execution_count": 14,
   "id": "welcome-recognition",
   "metadata": {},
   "outputs": [],
   "source": [
    "def divide(x,y):\n",
    "    try:\n",
    "        result = x/y\n",
    "    except ZeroDivisionError:\n",
    "        print('Div by 0 is not allowed')\n",
    "    else:\n",
    "        print('result is', result)\n",
    "    finally:\n",
    "        print('finally arrived')\n",
    "        return \"saving failure\""
   ]
  },
  {
   "cell_type": "code",
   "execution_count": 16,
   "id": "alert-reminder",
   "metadata": {},
   "outputs": [
    {
     "name": "stdout",
     "output_type": "stream",
     "text": [
      "finally arrived\n"
     ]
    },
    {
     "data": {
      "text/plain": [
       "'saving failure'"
      ]
     },
     "execution_count": 16,
     "metadata": {},
     "output_type": "execute_result"
    }
   ],
   "source": [
    "divide(\"10\",\"2\")"
   ]
  },
  {
   "cell_type": "code",
   "execution_count": 18,
   "id": "funny-furniture",
   "metadata": {},
   "outputs": [
    {
     "name": "stdout",
     "output_type": "stream",
     "text": [
      "Run\n"
     ]
    }
   ],
   "source": [
    "try:\n",
    "    10/10\n",
    "finally:\n",
    "    print('Run')"
   ]
  },
  {
   "cell_type": "code",
   "execution_count": 5,
   "id": "alike-miniature",
   "metadata": {},
   "outputs": [
    {
     "ename": "RuntimeError",
     "evalue": "",
     "output_type": "error",
     "traceback": [
      "\u001b[0;31m---------------------------------------------------------------------------\u001b[0m",
      "\u001b[0;31mOSError\u001b[0m                                   Traceback (most recent call last)",
      "\u001b[0;32m<ipython-input-5-ce14c668eae4>\u001b[0m in \u001b[0;36m<module>\u001b[0;34m\u001b[0m\n\u001b[1;32m      2\u001b[0m \u001b[0;32mtry\u001b[0m\u001b[0;34m:\u001b[0m\u001b[0;34m\u001b[0m\u001b[0;34m\u001b[0m\u001b[0m\n\u001b[0;32m----> 3\u001b[0;31m     \u001b[0;32mraise\u001b[0m \u001b[0mIOError\u001b[0m\u001b[0;34m\u001b[0m\u001b[0;34m\u001b[0m\u001b[0m\n\u001b[0m\u001b[1;32m      4\u001b[0m \u001b[0;32mexcept\u001b[0m \u001b[0mIOError\u001b[0m \u001b[0;32mas\u001b[0m \u001b[0mexc\u001b[0m\u001b[0;34m:\u001b[0m\u001b[0;34m\u001b[0m\u001b[0;34m\u001b[0m\u001b[0m\n",
      "\u001b[0;31mOSError\u001b[0m: ",
      "\nThe above exception was the direct cause of the following exception:\n",
      "\u001b[0;31mRuntimeError\u001b[0m                              Traceback (most recent call last)",
      "\u001b[0;32m<ipython-input-5-ce14c668eae4>\u001b[0m in \u001b[0;36m<module>\u001b[0;34m\u001b[0m\n\u001b[1;32m      4\u001b[0m \u001b[0;32mexcept\u001b[0m \u001b[0mIOError\u001b[0m \u001b[0;32mas\u001b[0m \u001b[0mexc\u001b[0m\u001b[0;34m:\u001b[0m\u001b[0;34m\u001b[0m\u001b[0;34m\u001b[0m\u001b[0m\n\u001b[1;32m      5\u001b[0m     \u001b[0mtb\u001b[0m \u001b[0;34m=\u001b[0m \u001b[0msys\u001b[0m\u001b[0;34m.\u001b[0m\u001b[0mexc_info\u001b[0m\u001b[0;34m(\u001b[0m\u001b[0;34m)\u001b[0m\u001b[0;34m[\u001b[0m\u001b[0;36m2\u001b[0m\u001b[0;34m]\u001b[0m\u001b[0;34m\u001b[0m\u001b[0;34m\u001b[0m\u001b[0m\n\u001b[0;32m----> 6\u001b[0;31m     \u001b[0;32mraise\u001b[0m \u001b[0mRuntimeError\u001b[0m\u001b[0;34m(\u001b[0m\u001b[0;34m)\u001b[0m\u001b[0;34m.\u001b[0m\u001b[0mwith_traceback\u001b[0m\u001b[0;34m(\u001b[0m\u001b[0mtb\u001b[0m\u001b[0;34m)\u001b[0m \u001b[0;32mfrom\u001b[0m \u001b[0mexc\u001b[0m\u001b[0;34m\u001b[0m\u001b[0;34m\u001b[0m\u001b[0m\n\u001b[0m",
      "\u001b[0;32m<ipython-input-5-ce14c668eae4>\u001b[0m in \u001b[0;36m<module>\u001b[0;34m\u001b[0m\n\u001b[1;32m      1\u001b[0m \u001b[0;32mimport\u001b[0m \u001b[0msys\u001b[0m\u001b[0;34m\u001b[0m\u001b[0;34m\u001b[0m\u001b[0m\n\u001b[1;32m      2\u001b[0m \u001b[0;32mtry\u001b[0m\u001b[0;34m:\u001b[0m\u001b[0;34m\u001b[0m\u001b[0;34m\u001b[0m\u001b[0m\n\u001b[0;32m----> 3\u001b[0;31m     \u001b[0;32mraise\u001b[0m \u001b[0mIOError\u001b[0m\u001b[0;34m\u001b[0m\u001b[0;34m\u001b[0m\u001b[0m\n\u001b[0m\u001b[1;32m      4\u001b[0m \u001b[0;32mexcept\u001b[0m \u001b[0mIOError\u001b[0m \u001b[0;32mas\u001b[0m \u001b[0mexc\u001b[0m\u001b[0;34m:\u001b[0m\u001b[0;34m\u001b[0m\u001b[0;34m\u001b[0m\u001b[0m\n\u001b[1;32m      5\u001b[0m     \u001b[0mtb\u001b[0m \u001b[0;34m=\u001b[0m \u001b[0msys\u001b[0m\u001b[0;34m.\u001b[0m\u001b[0mexc_info\u001b[0m\u001b[0;34m(\u001b[0m\u001b[0;34m)\u001b[0m\u001b[0;34m[\u001b[0m\u001b[0;36m2\u001b[0m\u001b[0;34m]\u001b[0m\u001b[0;34m\u001b[0m\u001b[0;34m\u001b[0m\u001b[0m\n",
      "\u001b[0;31mRuntimeError\u001b[0m: "
     ]
    }
   ],
   "source": [
    "import sys\n",
    "try:\n",
    "    raise IOError\n",
    "except IOError as exc:\n",
    "    tb = sys.exc_info()[2]\n",
    "    raise RuntimeError().with_traceback(tb) from exc"
   ]
  },
  {
   "cell_type": "code",
   "execution_count": 6,
   "id": "romance-substance",
   "metadata": {},
   "outputs": [
    {
     "data": {
      "text/html": [
       "<div>\n",
       "<style scoped>\n",
       "    .dataframe tbody tr th:only-of-type {\n",
       "        vertical-align: middle;\n",
       "    }\n",
       "\n",
       "    .dataframe tbody tr th {\n",
       "        vertical-align: top;\n",
       "    }\n",
       "\n",
       "    .dataframe thead th {\n",
       "        text-align: right;\n",
       "    }\n",
       "</style>\n",
       "<table border=\"1\" class=\"dataframe\">\n",
       "  <thead>\n",
       "    <tr style=\"text-align: right;\">\n",
       "      <th></th>\n",
       "      <th>var1</th>\n",
       "      <th>var2</th>\n",
       "      <th>var3</th>\n",
       "      <th>var4</th>\n",
       "      <th>var5</th>\n",
       "    </tr>\n",
       "    <tr>\n",
       "      <th>group</th>\n",
       "      <th></th>\n",
       "      <th></th>\n",
       "      <th></th>\n",
       "      <th></th>\n",
       "      <th></th>\n",
       "    </tr>\n",
       "  </thead>\n",
       "  <tbody>\n",
       "    <tr>\n",
       "      <th>A</th>\n",
       "      <td>38.0</td>\n",
       "      <td>29</td>\n",
       "      <td>8</td>\n",
       "      <td>7</td>\n",
       "      <td>28</td>\n",
       "    </tr>\n",
       "    <tr>\n",
       "      <th>B</th>\n",
       "      <td>1.5</td>\n",
       "      <td>10</td>\n",
       "      <td>39</td>\n",
       "      <td>31</td>\n",
       "      <td>15</td>\n",
       "    </tr>\n",
       "    <tr>\n",
       "      <th>C</th>\n",
       "      <td>30.0</td>\n",
       "      <td>9</td>\n",
       "      <td>23</td>\n",
       "      <td>33</td>\n",
       "      <td>32</td>\n",
       "    </tr>\n",
       "    <tr>\n",
       "      <th>D</th>\n",
       "      <td>4.0</td>\n",
       "      <td>34</td>\n",
       "      <td>24</td>\n",
       "      <td>14</td>\n",
       "      <td>14</td>\n",
       "    </tr>\n",
       "  </tbody>\n",
       "</table>\n",
       "</div>"
      ],
      "text/plain": [
       "       var1  var2  var3  var4  var5\n",
       "group                              \n",
       "A      38.0    29     8     7    28\n",
       "B       1.5    10    39    31    15\n",
       "C      30.0     9    23    33    32\n",
       "D       4.0    34    24    14    14"
      ]
     },
     "execution_count": 6,
     "metadata": {},
     "output_type": "execute_result"
    }
   ],
   "source": [
    "df = pd.DataFrame({\n",
    "'group': ['A','B','C','D'],\n",
    "'var1': [38, 1.5, 30, 4],\n",
    "'var2': [29, 10, 9, 34],\n",
    "'var3': [8, 39, 23, 24],\n",
    "'var4': [7, 31, 33, 14],\n",
    "'var5': [28, 15, 32, 14]\n",
    "})\n",
    "\n",
    "df.set_index('group', inplace=True)\n",
    "df"
   ]
  },
  {
   "cell_type": "code",
   "execution_count": 11,
   "id": "criminal-induction",
   "metadata": {},
   "outputs": [
    {
     "data": {
      "text/html": [
       "<style  type=\"text/css\" >\n",
       "</style><table id=\"T_d123c_\" ><thead>    <tr>        <th class=\"blank level0\" ></th>        <th class=\"col_heading level0 col0\" >var1</th>        <th class=\"col_heading level0 col1\" >var2</th>        <th class=\"col_heading level0 col2\" >var3</th>        <th class=\"col_heading level0 col3\" >var4</th>        <th class=\"col_heading level0 col4\" >var5</th>    </tr>    <tr>        <th class=\"index_name level0\" >group</th>        <th class=\"blank\" ></th>        <th class=\"blank\" ></th>        <th class=\"blank\" ></th>        <th class=\"blank\" ></th>        <th class=\"blank\" ></th>    </tr></thead><tbody>\n",
       "                <tr>\n",
       "                        <th id=\"T_d123c_level0_row0\" class=\"row_heading level0 row0\" >A</th>\n",
       "                        <td id=\"T_d123c_row0_col0\" class=\"data row0 col0\" >38.000000</td>\n",
       "                        <td id=\"T_d123c_row0_col1\" class=\"data row0 col1\" >29</td>\n",
       "                        <td id=\"T_d123c_row0_col2\" class=\"data row0 col2\" >8</td>\n",
       "                        <td id=\"T_d123c_row0_col3\" class=\"data row0 col3\" >7</td>\n",
       "                        <td id=\"T_d123c_row0_col4\" class=\"data row0 col4\" >28</td>\n",
       "            </tr>\n",
       "            <tr>\n",
       "                        <th id=\"T_d123c_level0_row1\" class=\"row_heading level0 row1\" >B</th>\n",
       "                        <td id=\"T_d123c_row1_col0\" class=\"data row1 col0\" >1.500000</td>\n",
       "                        <td id=\"T_d123c_row1_col1\" class=\"data row1 col1\" >10</td>\n",
       "                        <td id=\"T_d123c_row1_col2\" class=\"data row1 col2\" >39</td>\n",
       "                        <td id=\"T_d123c_row1_col3\" class=\"data row1 col3\" >31</td>\n",
       "                        <td id=\"T_d123c_row1_col4\" class=\"data row1 col4\" >15</td>\n",
       "            </tr>\n",
       "            <tr>\n",
       "                        <th id=\"T_d123c_level0_row2\" class=\"row_heading level0 row2\" >C</th>\n",
       "                        <td id=\"T_d123c_row2_col0\" class=\"data row2 col0\" >30.000000</td>\n",
       "                        <td id=\"T_d123c_row2_col1\" class=\"data row2 col1\" >9</td>\n",
       "                        <td id=\"T_d123c_row2_col2\" class=\"data row2 col2\" >23</td>\n",
       "                        <td id=\"T_d123c_row2_col3\" class=\"data row2 col3\" >33</td>\n",
       "                        <td id=\"T_d123c_row2_col4\" class=\"data row2 col4\" >32</td>\n",
       "            </tr>\n",
       "            <tr>\n",
       "                        <th id=\"T_d123c_level0_row3\" class=\"row_heading level0 row3\" >D</th>\n",
       "                        <td id=\"T_d123c_row3_col0\" class=\"data row3 col0\" >4.000000</td>\n",
       "                        <td id=\"T_d123c_row3_col1\" class=\"data row3 col1\" >34</td>\n",
       "                        <td id=\"T_d123c_row3_col2\" class=\"data row3 col2\" >24</td>\n",
       "                        <td id=\"T_d123c_row3_col3\" class=\"data row3 col3\" >14</td>\n",
       "                        <td id=\"T_d123c_row3_col4\" class=\"data row3 col4\" >14</td>\n",
       "            </tr>\n",
       "    </tbody></table>"
      ],
      "text/plain": [
       "<pandas.io.formats.style.Styler at 0x12a0a9190>"
      ]
     },
     "execution_count": 11,
     "metadata": {},
     "output_type": "execute_result"
    }
   ],
   "source": [
    "lst = ['A','C']\n",
    "df.style.apply(lambda x: ['background: red' if (set(lst).intersection(x.values)) \n",
    "                              else '' for i in x], \n",
    "                   axis=0)"
   ]
  },
  {
   "cell_type": "code",
   "execution_count": 12,
   "id": "directed-property",
   "metadata": {},
   "outputs": [
    {
     "data": {
      "text/html": [
       "<div>\n",
       "<style scoped>\n",
       "    .dataframe tbody tr th:only-of-type {\n",
       "        vertical-align: middle;\n",
       "    }\n",
       "\n",
       "    .dataframe tbody tr th {\n",
       "        vertical-align: top;\n",
       "    }\n",
       "\n",
       "    .dataframe thead th {\n",
       "        text-align: right;\n",
       "    }\n",
       "</style>\n",
       "<table border=\"1\" class=\"dataframe\">\n",
       "  <thead>\n",
       "    <tr style=\"text-align: right;\">\n",
       "      <th></th>\n",
       "      <th>Reference</th>\n",
       "    </tr>\n",
       "  </thead>\n",
       "  <tbody>\n",
       "    <tr>\n",
       "      <th>0</th>\n",
       "      <td>PO: TK42-8</td>\n",
       "    </tr>\n",
       "    <tr>\n",
       "      <th>1</th>\n",
       "      <td>PO GQ5-42</td>\n",
       "    </tr>\n",
       "    <tr>\n",
       "      <th>2</th>\n",
       "      <td>PO:HEA-238/239</td>\n",
       "    </tr>\n",
       "    <tr>\n",
       "      <th>3</th>\n",
       "      <td>PO: 4501005609  Purchaser: Mariana Toledo Blanco</td>\n",
       "    </tr>\n",
       "    <tr>\n",
       "      <th>4</th>\n",
       "      <td>FITN7-26</td>\n",
       "    </tr>\n",
       "    <tr>\n",
       "      <th>5</th>\n",
       "      <td>PO#CP4-62</td>\n",
       "    </tr>\n",
       "    <tr>\n",
       "      <th>6</th>\n",
       "      <td>PO 4501004752  Purchaser Yang Gao / Split from...</td>\n",
       "    </tr>\n",
       "    <tr>\n",
       "      <th>7</th>\n",
       "      <td>GUANGDONG YOULONG ELECTRICAL APPLIANCES CO.,LT...</td>\n",
       "    </tr>\n",
       "  </tbody>\n",
       "</table>\n",
       "</div>"
      ],
      "text/plain": [
       "                                           Reference\n",
       "0                                         PO: TK42-8\n",
       "1                                          PO GQ5-42\n",
       "2                                     PO:HEA-238/239\n",
       "3   PO: 4501005609  Purchaser: Mariana Toledo Blanco\n",
       "4                                           FITN7-26\n",
       "5                                          PO#CP4-62\n",
       "6  PO 4501004752  Purchaser Yang Gao / Split from...\n",
       "7  GUANGDONG YOULONG ELECTRICAL APPLIANCES CO.,LT..."
      ]
     },
     "execution_count": 12,
     "metadata": {},
     "output_type": "execute_result"
    }
   ],
   "source": [
    "import pandas as pd\n",
    "df = pd.DataFrame({'Reference':[\"PO: TK42-8\", \n",
    "                                \"PO GQ5-42\", \n",
    "                                \"PO:HEA-238/239\", \n",
    "                                \"PO: 4501005609  Purchaser: Mariana Toledo Blanco\", \n",
    "                                \"FITN7-26\", \n",
    "                                \"PO#CP4-62\",\n",
    "                                \"PO 4501004752  Purchaser Yang Gao / Split from S94964\",\n",
    "                                \"GUANGDONG YOULONG ELECTRICAL APPLIANCES CO.,LTD // PO#GQY6-17\"]\n",
    "                   })\n",
    "df"
   ]
  },
  {
   "cell_type": "code",
   "execution_count": 13,
   "id": "collect-certificate",
   "metadata": {},
   "outputs": [
    {
     "data": {
      "text/html": [
       "<div>\n",
       "<style scoped>\n",
       "    .dataframe tbody tr th:only-of-type {\n",
       "        vertical-align: middle;\n",
       "    }\n",
       "\n",
       "    .dataframe tbody tr th {\n",
       "        vertical-align: top;\n",
       "    }\n",
       "\n",
       "    .dataframe thead th {\n",
       "        text-align: right;\n",
       "    }\n",
       "</style>\n",
       "<table border=\"1\" class=\"dataframe\">\n",
       "  <thead>\n",
       "    <tr style=\"text-align: right;\">\n",
       "      <th></th>\n",
       "      <th>Reference</th>\n",
       "      <th>PO</th>\n",
       "      <th>Purchaser</th>\n",
       "    </tr>\n",
       "  </thead>\n",
       "  <tbody>\n",
       "    <tr>\n",
       "      <th>0</th>\n",
       "      <td>PO: TK42-8</td>\n",
       "      <td>TK42-8</td>\n",
       "      <td></td>\n",
       "    </tr>\n",
       "    <tr>\n",
       "      <th>1</th>\n",
       "      <td>PO GQ5-42</td>\n",
       "      <td>GQ5-42</td>\n",
       "      <td></td>\n",
       "    </tr>\n",
       "    <tr>\n",
       "      <th>2</th>\n",
       "      <td>PO:HEA-238/239</td>\n",
       "      <td>HEA-238/239</td>\n",
       "      <td></td>\n",
       "    </tr>\n",
       "    <tr>\n",
       "      <th>3</th>\n",
       "      <td>PO: 4501005609  Purchaser: Mariana Toledo Blanco</td>\n",
       "      <td>4501005609</td>\n",
       "      <td>Mariana Toledo Blanco</td>\n",
       "    </tr>\n",
       "    <tr>\n",
       "      <th>4</th>\n",
       "      <td>FITN7-26</td>\n",
       "      <td>FITN7-26</td>\n",
       "      <td></td>\n",
       "    </tr>\n",
       "    <tr>\n",
       "      <th>5</th>\n",
       "      <td>PO#CP4-62</td>\n",
       "      <td>CP4-62</td>\n",
       "      <td></td>\n",
       "    </tr>\n",
       "    <tr>\n",
       "      <th>6</th>\n",
       "      <td>PO 4501004752  Purchaser Yang Gao / Split from...</td>\n",
       "      <td>4501004752</td>\n",
       "      <td>Yang Gao</td>\n",
       "    </tr>\n",
       "    <tr>\n",
       "      <th>7</th>\n",
       "      <td>GUANGDONG YOULONG ELECTRICAL APPLIANCES CO.,LT...</td>\n",
       "      <td>GQY6-17</td>\n",
       "      <td></td>\n",
       "    </tr>\n",
       "  </tbody>\n",
       "</table>\n",
       "</div>"
      ],
      "text/plain": [
       "                                           Reference           PO  \\\n",
       "0                                         PO: TK42-8       TK42-8   \n",
       "1                                          PO GQ5-42       GQ5-42   \n",
       "2                                     PO:HEA-238/239  HEA-238/239   \n",
       "3   PO: 4501005609  Purchaser: Mariana Toledo Blanco   4501005609   \n",
       "4                                           FITN7-26     FITN7-26   \n",
       "5                                          PO#CP4-62       CP4-62   \n",
       "6  PO 4501004752  Purchaser Yang Gao / Split from...   4501004752   \n",
       "7  GUANGDONG YOULONG ELECTRICAL APPLIANCES CO.,LT...      GQY6-17   \n",
       "\n",
       "               Purchaser  \n",
       "0                         \n",
       "1                         \n",
       "2                         \n",
       "3  Mariana Toledo Blanco  \n",
       "4                         \n",
       "5                         \n",
       "6               Yang Gao  \n",
       "7                         "
      ]
     },
     "execution_count": 13,
     "metadata": {},
     "output_type": "execute_result"
    }
   ],
   "source": [
    "df2 = pd.DataFrame({'Reference':[\"PO: TK42-8\", \n",
    "                                \"PO GQ5-42\", \n",
    "                                \"PO:HEA-238/239\", \n",
    "                                \"PO: 4501005609  Purchaser: Mariana Toledo Blanco\", \n",
    "                                \"FITN7-26\", \n",
    "                                \"PO#CP4-62\",\n",
    "                                \"PO 4501004752  Purchaser Yang Gao / Split from S94964\",\n",
    "                                \"GUANGDONG YOULONG ELECTRICAL APPLIANCES CO.,LTD // PO#GQY6-17\"],\n",
    "                    \n",
    "                    \"PO\":[\"TK42-8\", \"GQ5-42\", \"HEA-238/239\", \"4501005609\", \"FITN7-26\",\"CP4-62\", \"4501004752\", \"GQY6-17\" ],\n",
    "                    \"Purchaser\":[\"\", \"\", \"\", \"Mariana Toledo Blanco\", \"\",\"\", \"Yang Gao\", \"\" ],\n",
    "                   })\n",
    "df2"
   ]
  },
  {
   "cell_type": "code",
   "execution_count": 12,
   "id": "southeast-toyota",
   "metadata": {},
   "outputs": [
    {
     "name": "stdout",
     "output_type": "stream",
     "text": [
      "After doing local assignment: test spam\n",
      "After doing nonlocal assignment: non local spam\n",
      "After doing global assignment: non local spam\n",
      "In the global space: global spam\n"
     ]
    }
   ],
   "source": [
    "def scope_test():\n",
    "    def do_local():\n",
    "        spam = \"local spam\"\n",
    "    \n",
    "    def do_nonlocal():\n",
    "        nonlocal spam\n",
    "        spam = \"non local spam\"\n",
    "    \n",
    "    def do_global():\n",
    "        global spam\n",
    "        spam = \"global spam\"\n",
    "        \n",
    "    spam = \"test spam\"\n",
    "    do_local()\n",
    "    print('After doing local assignment:', spam)\n",
    "    do_nonlocal()\n",
    "    print('After doing nonlocal assignment:', spam)\n",
    "    do_global()\n",
    "    print('After doing global assignment:', spam)\n",
    "   \n",
    "scope_test()\n",
    "print('In the global space:', spam)"
   ]
  },
  {
   "cell_type": "code",
   "execution_count": 13,
   "id": "selective-karma",
   "metadata": {},
   "outputs": [
    {
     "data": {
      "text/html": [
       "<div>\n",
       "<style scoped>\n",
       "    .dataframe tbody tr th:only-of-type {\n",
       "        vertical-align: middle;\n",
       "    }\n",
       "\n",
       "    .dataframe tbody tr th {\n",
       "        vertical-align: top;\n",
       "    }\n",
       "\n",
       "    .dataframe thead th {\n",
       "        text-align: right;\n",
       "    }\n",
       "</style>\n",
       "<table border=\"1\" class=\"dataframe\">\n",
       "  <thead>\n",
       "    <tr style=\"text-align: right;\">\n",
       "      <th></th>\n",
       "      <th>A</th>\n",
       "      <th>B</th>\n",
       "    </tr>\n",
       "  </thead>\n",
       "  <tbody>\n",
       "    <tr>\n",
       "      <th>0</th>\n",
       "      <td>2</td>\n",
       "      <td>0</td>\n",
       "    </tr>\n",
       "    <tr>\n",
       "      <th>1</th>\n",
       "      <td>3</td>\n",
       "      <td>1</td>\n",
       "    </tr>\n",
       "    <tr>\n",
       "      <th>2</th>\n",
       "      <td>1</td>\n",
       "      <td>1</td>\n",
       "    </tr>\n",
       "    <tr>\n",
       "      <th>3</th>\n",
       "      <td>2</td>\n",
       "      <td>1</td>\n",
       "    </tr>\n",
       "    <tr>\n",
       "      <th>4</th>\n",
       "      <td>4</td>\n",
       "      <td>0</td>\n",
       "    </tr>\n",
       "    <tr>\n",
       "      <th>5</th>\n",
       "      <td>1</td>\n",
       "      <td>0</td>\n",
       "    </tr>\n",
       "    <tr>\n",
       "      <th>6</th>\n",
       "      <td>5</td>\n",
       "      <td>1</td>\n",
       "    </tr>\n",
       "    <tr>\n",
       "      <th>7</th>\n",
       "      <td>3</td>\n",
       "      <td>1</td>\n",
       "    </tr>\n",
       "    <tr>\n",
       "      <th>8</th>\n",
       "      <td>1</td>\n",
       "      <td>1</td>\n",
       "    </tr>\n",
       "    <tr>\n",
       "      <th>9</th>\n",
       "      <td>7</td>\n",
       "      <td>0</td>\n",
       "    </tr>\n",
       "    <tr>\n",
       "      <th>10</th>\n",
       "      <td>5</td>\n",
       "      <td>0</td>\n",
       "    </tr>\n",
       "  </tbody>\n",
       "</table>\n",
       "</div>"
      ],
      "text/plain": [
       "    A  B\n",
       "0   2  0\n",
       "1   3  1\n",
       "2   1  1\n",
       "3   2  1\n",
       "4   4  0\n",
       "5   1  0\n",
       "6   5  1\n",
       "7   3  1\n",
       "8   1  1\n",
       "9   7  0\n",
       "10  5  0"
      ]
     },
     "execution_count": 13,
     "metadata": {},
     "output_type": "execute_result"
    }
   ],
   "source": [
    "A = [2, 3, 1, 2, 4, 1, 5, 3, 1, 7, 5]\n",
    "B = [0, 1, 1, 1, 0, 0, 1, 1, 1, 0, 0]\n",
    "df = pd.DataFrame({'A':A, 'B':B})\n",
    "df"
   ]
  },
  {
   "cell_type": "code",
   "execution_count": 25,
   "id": "subjective-supply",
   "metadata": {},
   "outputs": [
    {
     "data": {
      "text/html": [
       "<div>\n",
       "<style scoped>\n",
       "    .dataframe tbody tr th:only-of-type {\n",
       "        vertical-align: middle;\n",
       "    }\n",
       "\n",
       "    .dataframe tbody tr th {\n",
       "        vertical-align: top;\n",
       "    }\n",
       "\n",
       "    .dataframe thead th {\n",
       "        text-align: right;\n",
       "    }\n",
       "</style>\n",
       "<table border=\"1\" class=\"dataframe\">\n",
       "  <thead>\n",
       "    <tr style=\"text-align: right;\">\n",
       "      <th></th>\n",
       "      <th>A</th>\n",
       "      <th>B</th>\n",
       "    </tr>\n",
       "  </thead>\n",
       "  <tbody>\n",
       "    <tr>\n",
       "      <th>0</th>\n",
       "      <td>2</td>\n",
       "      <td>1</td>\n",
       "    </tr>\n",
       "    <tr>\n",
       "      <th>1</th>\n",
       "      <td>3</td>\n",
       "      <td>1</td>\n",
       "    </tr>\n",
       "  </tbody>\n",
       "</table>\n",
       "</div>"
      ],
      "text/plain": [
       "   A  B\n",
       "0  2  1\n",
       "1  3  1"
      ]
     },
     "execution_count": 25,
     "metadata": {},
     "output_type": "execute_result"
    }
   ],
   "source": [
    "df1 = df.groupby((df['B'].shift() != df['B']).cumsum()).mean().reset_index(drop=True)\n",
    "df1 = df1[df1['B'] == 1].astype(int).reset_index(drop=True)\n",
    "df1"
   ]
  },
  {
   "cell_type": "code",
   "execution_count": 4,
   "id": "valid-barrel",
   "metadata": {},
   "outputs": [
    {
     "name": "stdout",
     "output_type": "stream",
     "text": [
      "calling inner\n",
      "local var Ramesh\n",
      "calling middle\n",
      "nonlocal var nonlocal\n",
      "calling global\n",
      "global var nonlocal\n",
      "outer most global\n"
     ]
    }
   ],
   "source": [
    "def go_glocal():\n",
    "    spam = 'Ramesh'\n",
    "    \n",
    "    def inner():\n",
    "        spam = 'local'\n",
    "        \n",
    "    def middle():\n",
    "        nonlocal spam \n",
    "        spam = 'nonlocal'\n",
    "        \n",
    "    def outer():\n",
    "        global spam \n",
    "        spam = 'global'\n",
    "        \n",
    "    print('calling inner')\n",
    "    inner()\n",
    "    print('local var', spam)\n",
    "    \n",
    "    print('calling middle')\n",
    "    middle()\n",
    "    print('nonlocal var', spam)\n",
    "    \n",
    "    print('calling global')\n",
    "    outer()\n",
    "    print('global var', spam)\n",
    "    \n",
    "go_glocal()\n",
    "print('outer most', spam)\n",
    "    "
   ]
  },
  {
   "cell_type": "code",
   "execution_count": 5,
   "id": "august-naples",
   "metadata": {},
   "outputs": [],
   "source": [
    "class MyClass:\n",
    "    \"\"\"A simple class example\"\"\"\n",
    "    i = 12345\n",
    "    \n",
    "    def f(self):\n",
    "        return 'anything'"
   ]
  },
  {
   "cell_type": "code",
   "execution_count": 6,
   "id": "educational-whale",
   "metadata": {},
   "outputs": [
    {
     "data": {
      "text/plain": [
       "12345"
      ]
     },
     "execution_count": 6,
     "metadata": {},
     "output_type": "execute_result"
    }
   ],
   "source": [
    "x = MyClass()"
   ]
  },
  {
   "cell_type": "code",
   "execution_count": 9,
   "id": "quiet-gateway",
   "metadata": {},
   "outputs": [
    {
     "data": {
      "text/plain": [
       "'anything'"
      ]
     },
     "execution_count": 9,
     "metadata": {},
     "output_type": "execute_result"
    }
   ],
   "source": [
    "MyClass().f()"
   ]
  },
  {
   "cell_type": "code",
   "execution_count": 12,
   "id": "right-chapter",
   "metadata": {},
   "outputs": [
    {
     "data": {
      "text/plain": [
       "(3, 4.5)"
      ]
     },
     "execution_count": 12,
     "metadata": {},
     "output_type": "execute_result"
    }
   ],
   "source": [
    "class Complex:\n",
    "    def __init__(self, realpart, imagpart):\n",
    "        self.r = realpart\n",
    "        self.i = imagpart\n",
    "        \n",
    "x = Complex(3, 4.5)\n",
    "x.r, x.i # (3, 4.5)"
   ]
  },
  {
   "cell_type": "code",
   "execution_count": 13,
   "id": "intermediate-speed",
   "metadata": {},
   "outputs": [],
   "source": []
  },
  {
   "cell_type": "code",
   "execution_count": 16,
   "id": "informed-blair",
   "metadata": {},
   "outputs": [
    {
     "name": "stdout",
     "output_type": "stream",
     "text": [
      "inner 2\n",
      "inner 4\n",
      "inner 8\n",
      "inner 16\n",
      "16\n"
     ]
    }
   ],
   "source": [
    "x.counter = 1\n",
    "while x.counter < 10:\n",
    "    x.counter = x.counter * 2\n",
    "    print('inner', x.counter)\n",
    "print(x.counter)\n",
    "del x.counter"
   ]
  },
  {
   "cell_type": "code",
   "execution_count": 19,
   "id": "gothic-gateway",
   "metadata": {},
   "outputs": [
    {
     "data": {
      "text/plain": [
       "'anything'"
      ]
     },
     "execution_count": 19,
     "metadata": {},
     "output_type": "execute_result"
    }
   ],
   "source": [
    "x = MyClass()\n",
    "xf = x.f\n",
    "xf()"
   ]
  },
  {
   "cell_type": "code",
   "execution_count": 20,
   "id": "bottom-prior",
   "metadata": {},
   "outputs": [
    {
     "data": {
      "text/plain": [
       "'anything'"
      ]
     },
     "execution_count": 20,
     "metadata": {},
     "output_type": "execute_result"
    }
   ],
   "source": [
    "x = MyClass()\n",
    "MyClass.f(x) # 'anything'"
   ]
  },
  {
   "cell_type": "code",
   "execution_count": 2,
   "id": "photographic-sculpture",
   "metadata": {},
   "outputs": [],
   "source": [
    "class DogType:\n",
    "    \n",
    "    type = 'German'\n",
    "    \n",
    "    def __init__(self, name):\n",
    "        self.name = name\n",
    "        "
   ]
  },
  {
   "cell_type": "code",
   "execution_count": 3,
   "id": "boolean-french",
   "metadata": {},
   "outputs": [
    {
     "name": "stdout",
     "output_type": "stream",
     "text": [
      "German\n",
      "German\n",
      "Danny\n",
      "Bruzo\n"
     ]
    }
   ],
   "source": [
    "d = DogType('Danny')\n",
    "e = DogType('Bruzo')\n",
    "\n",
    "print(d.type) # German\n",
    "print(e.type) # German\n",
    "\n",
    "print(d.name) # Danny\n",
    "print(e.name) # Bruzo"
   ]
  },
  {
   "cell_type": "code",
   "execution_count": 17,
   "id": "intimate-projector",
   "metadata": {},
   "outputs": [],
   "source": [
    "class Dog:\n",
    "    \n",
    "    def __init__(self, name):\n",
    "        self.name = name\n",
    "        self.tricks = []\n",
    "        \n",
    "    def add_trick(self, trick):\n",
    "        self.tricks.append(trick)\n",
    "        "
   ]
  },
  {
   "cell_type": "code",
   "execution_count": 19,
   "id": "responsible-weapon",
   "metadata": {},
   "outputs": [
    {
     "data": {
      "text/plain": [
       "['Sensible']"
      ]
     },
     "execution_count": 19,
     "metadata": {},
     "output_type": "execute_result"
    }
   ],
   "source": [
    "d = Dog('Dany')\n",
    "e = Dog('Bruzo')\n",
    "\n",
    "d.add_trick('Sensible')\n",
    "e.add_trick('Fast')\n",
    "\n",
    "e.tricks # ['Fast']\n",
    "d.tricks # ['Sensible']"
   ]
  },
  {
   "cell_type": "code",
   "execution_count": 22,
   "id": "dramatic-match",
   "metadata": {},
   "outputs": [],
   "source": [
    "class Warehouse:\n",
    "    purpose = 'storage'\n",
    "    region = 'west'"
   ]
  },
  {
   "cell_type": "code",
   "execution_count": 26,
   "id": "disturbed-python",
   "metadata": {},
   "outputs": [
    {
     "data": {
      "text/plain": [
       "('storage', 'west')"
      ]
     },
     "execution_count": 26,
     "metadata": {},
     "output_type": "execute_result"
    }
   ],
   "source": [
    "w1 = Warehouse()\n",
    "w1.purpose, w1.region # ('storage', 'west')\n",
    "\n",
    "w2 = Warehouse()\n",
    "w2.region = 'north'\n",
    "w2.purpose, w2.region # ('storage', 'north')\n",
    "\n",
    "w1.purpose, w1.region # ('storage', 'west')\n"
   ]
  },
  {
   "cell_type": "code",
   "execution_count": 35,
   "id": "ignored-african",
   "metadata": {},
   "outputs": [],
   "source": [
    "def f1(self, x, y):\n",
    "    return min(x,y)\n",
    "\n",
    "class C:\n",
    "    f=f1\n",
    "    def g(self):\n",
    "        return 'Nothing'\n",
    "    h=g"
   ]
  },
  {
   "cell_type": "code",
   "execution_count": 36,
   "id": "human-lawsuit",
   "metadata": {},
   "outputs": [
    {
     "data": {
      "text/plain": [
       "'Nothing'"
      ]
     },
     "execution_count": 36,
     "metadata": {},
     "output_type": "execute_result"
    }
   ],
   "source": [
    "c = C()\n",
    "c.f(10,20)\n",
    "c.g() # 'Nothing'\n",
    "c.h() # 'Nothing'\n",
    "#c.f1() # AttributeError: 'C' object has no attribute 'f1'"
   ]
  },
  {
   "cell_type": "code",
   "execution_count": 40,
   "id": "requested-canadian",
   "metadata": {},
   "outputs": [],
   "source": [
    "class Bag:\n",
    "    def __init__(self):\n",
    "        self.data = []\n",
    "        print(id(self))\n",
    "    def add(self, x):\n",
    "        self.data.append(x)\n",
    "    def addtwice(self, x):\n",
    "        self.add(x)\n",
    "        self.add(x)"
   ]
  },
  {
   "cell_type": "code",
   "execution_count": 43,
   "id": "expanded-scottish",
   "metadata": {},
   "outputs": [
    {
     "name": "stdout",
     "output_type": "stream",
     "text": [
      "4796300832\n",
      "Out - 4796300832\n"
     ]
    },
    {
     "data": {
      "text/plain": [
       "[1, 2, 2]"
      ]
     },
     "execution_count": 43,
     "metadata": {},
     "output_type": "execute_result"
    }
   ],
   "source": [
    "b = Bag()\n",
    "print(f'Out - {id(b)}')\n",
    "b.add(1)\n",
    "b.addtwice(2)\n",
    "b.data"
   ]
  },
  {
   "cell_type": "code",
   "execution_count": 47,
   "id": "cathedral-february",
   "metadata": {},
   "outputs": [],
   "source": [
    "class Base:\n",
    "    def getNum(self):\n",
    "        return 10\n",
    "    \n",
    "    def callOther(self):\n",
    "        return self.getNum()\n",
    "    \n",
    "class Derived(Base):\n",
    "    def getNum(self):\n",
    "        return 20\n",
    "    def callOther(self):\n",
    "        return self.getNum()"
   ]
  },
  {
   "cell_type": "code",
   "execution_count": 50,
   "id": "boxed-mistake",
   "metadata": {},
   "outputs": [
    {
     "name": "stdout",
     "output_type": "stream",
     "text": [
      "10\n",
      "20\n"
     ]
    },
    {
     "data": {
      "text/plain": [
       "<function __main__.Base.getNum(self)>"
      ]
     },
     "execution_count": 50,
     "metadata": {},
     "output_type": "execute_result"
    }
   ],
   "source": [
    "b = Base()\n",
    "print(b.callOther())\n",
    "d = Derived()\n",
    "print(d.callOther())\n",
    "\n",
    "b = Base()\n",
    "b.getNum.__self__\n",
    "b.getNum.__func__"
   ]
  },
  {
   "cell_type": "code",
   "execution_count": 31,
   "id": "guilty-nebraska",
   "metadata": {},
   "outputs": [
    {
     "data": {
      "text/plain": [
       "False"
      ]
     },
     "execution_count": 31,
     "metadata": {},
     "output_type": "execute_result"
    }
   ],
   "source": [
    "issubclass(bool, int)\n",
    "isinstance(object, int)"
   ]
  },
  {
   "cell_type": "code",
   "execution_count": 43,
   "id": "lonely-adolescent",
   "metadata": {},
   "outputs": [],
   "source": [
    "class Mapping:\n",
    "    def __init__(self, iterable):\n",
    "        self.items_list = []\n",
    "        self.__update(iterable)\n",
    "        \n",
    "    def update(self, iterable):\n",
    "        for item in iterable:\n",
    "            self.items_list.append(item)\n",
    "        print(self.items_list)\n",
    "    \n",
    "    __update = update # private copy of original update method\n",
    "    \n",
    "class MappingSubclass(Mapping):\n",
    "    def update(self, keys, values):\n",
    "        # provides new signature for update()\n",
    "        # but does not break __init__()\n",
    "        for item in zip(keys, values):\n",
    "            self.items_list.append(item)\n",
    "        print(self.items_list)"
   ]
  },
  {
   "cell_type": "code",
   "execution_count": 44,
   "id": "exotic-hobby",
   "metadata": {},
   "outputs": [
    {
     "name": "stdout",
     "output_type": "stream",
     "text": [
      "[1, 2, 3, 4, 5, 6]\n",
      "[1, 2, 3, 4, 5, 6, 40, 50, 60]\n",
      "[1, 2, 100]\n",
      "[1, 2, 100, (100, 300), (200, 400)]\n"
     ]
    }
   ],
   "source": [
    "m = Mapping([1,2,3, 4,5,6])\n",
    "m.update([40,50,60])\n",
    "\n",
    "c = MappingSubclass([1,2,100])\n",
    "c.update([100,200], [300,400])"
   ]
  },
  {
   "cell_type": "code",
   "execution_count": 45,
   "id": "representative-communications",
   "metadata": {},
   "outputs": [],
   "source": [
    "class Employee:\n",
    "    pass\n",
    "\n",
    "john = Employee() # Create an empty employee record\n",
    "\n",
    "# Fill the fields of the record\n",
    "john.name = 'John'\n",
    "john.dept = 'computer lab'\n",
    "john.salary = 1000\n",
    "\n",
    "john.salary # 1000"
   ]
  },
  {
   "cell_type": "code",
   "execution_count": 6,
   "id": "enabling-vintage",
   "metadata": {},
   "outputs": [
    {
     "ename": "StopIteration",
     "evalue": "",
     "output_type": "error",
     "traceback": [
      "\u001b[0;31m---------------------------------------------------------------------------\u001b[0m",
      "\u001b[0;31mStopIteration\u001b[0m                             Traceback (most recent call last)",
      "\u001b[0;32m<ipython-input-6-d72a59fcecfb>\u001b[0m in \u001b[0;36m<module>\u001b[0;34m\u001b[0m\n\u001b[1;32m      7\u001b[0m \u001b[0mnext\u001b[0m\u001b[0;34m(\u001b[0m\u001b[0mit\u001b[0m\u001b[0;34m)\u001b[0m\u001b[0;34m\u001b[0m\u001b[0;34m\u001b[0m\u001b[0m\n\u001b[1;32m      8\u001b[0m \u001b[0mnext\u001b[0m\u001b[0;34m(\u001b[0m\u001b[0mit\u001b[0m\u001b[0;34m)\u001b[0m\u001b[0;34m\u001b[0m\u001b[0;34m\u001b[0m\u001b[0m\n\u001b[0;32m----> 9\u001b[0;31m \u001b[0mnext\u001b[0m\u001b[0;34m(\u001b[0m\u001b[0mit\u001b[0m\u001b[0;34m)\u001b[0m\u001b[0;34m\u001b[0m\u001b[0;34m\u001b[0m\u001b[0m\n\u001b[0m",
      "\u001b[0;31mStopIteration\u001b[0m: "
     ]
    }
   ],
   "source": [
    "s = 'abc'\n",
    "\n",
    "it = iter(s)\n",
    "it\n",
    "\n",
    "next(it) # 'a'\n",
    "next(it) # 'b'\n",
    "next(it) # 'c'\n",
    "next(it) # StopIteration"
   ]
  },
  {
   "cell_type": "code",
   "execution_count": 8,
   "id": "automotive-routine",
   "metadata": {},
   "outputs": [],
   "source": [
    "class Reverse:\n",
    "    \"\"\"Iterator for looping over a sequence backwards.\"\"\"\n",
    "    def __init__(self, data):\n",
    "        self.data = data\n",
    "        self.index = len(self.data)\n",
    "\n",
    "    def __iter__(self):\n",
    "        return self\n",
    "    \n",
    "    def __next__(self):\n",
    "        if self.index == 0:\n",
    "            raise StopIteration\n",
    "        self.index = self.index - 1\n",
    "        return self.data[self.index]"
   ]
  },
  {
   "cell_type": "code",
   "execution_count": 10,
   "id": "informational-membrane",
   "metadata": {},
   "outputs": [
    {
     "name": "stdout",
     "output_type": "stream",
     "text": [
      "m\n",
      "a\n",
      "p\n",
      "s\n"
     ]
    }
   ],
   "source": [
    "rev = Reverse('spam')\n",
    "iter(rev)\n",
    "for char in rev:\n",
    "    print(char)"
   ]
  },
  {
   "cell_type": "code",
   "execution_count": 23,
   "id": "relevant-damage",
   "metadata": {},
   "outputs": [],
   "source": [
    "class Iterate:\n",
    "    \"\"\"Iterate over the containers\"\"\"\n",
    "    def __init__(self, data):\n",
    "        self.data = data\n",
    "        self.startIndex = 0\n",
    "        self.index = len(self.data)\n",
    "        \n",
    "    def __iter__(self):\n",
    "        return self\n",
    "    \n",
    "    def __next__(self):\n",
    "        if self.startIndex >= self.index:\n",
    "            raise StopIteration\n",
    "        retData = self.data[self.startIndex]\n",
    "        self.startIndex += 1\n",
    "        return retData"
   ]
  },
  {
   "cell_type": "code",
   "execution_count": 24,
   "id": "rational-rwanda",
   "metadata": {},
   "outputs": [
    {
     "name": "stdout",
     "output_type": "stream",
     "text": [
      "s\n",
      "p\n",
      "a\n",
      "m\n"
     ]
    }
   ],
   "source": [
    "it = Iterate('spam')\n",
    "iter(it)\n",
    "for char in it:\n",
    "    print(char)"
   ]
  },
  {
   "cell_type": "code",
   "execution_count": 29,
   "id": "valued-childhood",
   "metadata": {},
   "outputs": [],
   "source": [
    "def reverse(data):\n",
    "    for index in range(len(data)-1,-1,-1):\n",
    "        yield data[index]"
   ]
  },
  {
   "cell_type": "code",
   "execution_count": 30,
   "id": "oriental-evanescence",
   "metadata": {},
   "outputs": [
    {
     "name": "stdout",
     "output_type": "stream",
     "text": [
      "f l o g "
     ]
    }
   ],
   "source": [
    "for char in reverse('golf'):\n",
    "    print(char, end=' ')"
   ]
  },
  {
   "cell_type": "code",
   "execution_count": 32,
   "id": "logical-vegetable",
   "metadata": {},
   "outputs": [
    {
     "name": "stdout",
     "output_type": "stream",
     "text": [
      "3\n",
      "2\n",
      "1\n",
      "0\n"
     ]
    }
   ],
   "source": [
    "for i in range(3,-1,-1):\n",
    "    print(i)"
   ]
  },
  {
   "cell_type": "code",
   "execution_count": 41,
   "id": "relative-study",
   "metadata": {},
   "outputs": [],
   "source": [
    "def gen():\n",
    "    for i in range(100):\n",
    "        yield i"
   ]
  },
  {
   "cell_type": "code",
   "execution_count": 42,
   "id": "selected-depression",
   "metadata": {},
   "outputs": [
    {
     "name": "stdout",
     "output_type": "stream",
     "text": [
      "0 1 2 3 4 5 6 7 8 9 10 11 12 13 14 15 16 17 18 19 20 21 22 23 24 25 26 27 28 29 30 31 32 33 34 35 36 37 38 39 40 41 42 43 44 45 46 47 48 49 50 51 52 53 54 55 56 57 58 59 60 61 62 63 64 65 66 67 68 69 70 71 72 73 74 75 76 77 78 79 80 81 82 83 84 85 86 87 88 89 90 91 92 93 94 95 96 97 98 99 "
     ]
    }
   ],
   "source": [
    "for i in gen():\n",
    "    print(i, end=' ')"
   ]
  },
  {
   "cell_type": "code",
   "execution_count": 40,
   "id": "ranking-export",
   "metadata": {},
   "outputs": [
    {
     "name": "stdout",
     "output_type": "stream",
     "text": [
      "0\n"
     ]
    }
   ],
   "source": [
    "print(gen())"
   ]
  },
  {
   "cell_type": "code",
   "execution_count": 47,
   "id": "unauthorized-panama",
   "metadata": {},
   "outputs": [
    {
     "data": {
      "text/plain": [
       "260"
      ]
     },
     "execution_count": 47,
     "metadata": {},
     "output_type": "execute_result"
    }
   ],
   "source": [
    "sum(i*i for i in range(10)) # sum of squares\n",
    "\n",
    "xvec = [10, 20, 30]\n",
    "yvec = [7,5,3]\n",
    "sum(x*y for x,y in zip(xvec, yvec)) # dot product\n",
    "\n",
    "unique_words = set(word for line in page for word in line.split())\n",
    "valedictorian = max((student.gpa, student.name) for student in graduates)"
   ]
  },
  {
   "cell_type": "code",
   "execution_count": 49,
   "id": "monetary-madrid",
   "metadata": {},
   "outputs": [
    {
     "data": {
      "text/plain": [
       "['f', 'l', 'o', 'g']"
      ]
     },
     "execution_count": 49,
     "metadata": {},
     "output_type": "execute_result"
    }
   ],
   "source": [
    "data = 'golf'\n",
    "list(data[i] for i in range(len(data)-1,-1,-1)) # ['f', 'l', 'o', 'g']"
   ]
  },
  {
   "cell_type": "code",
   "execution_count": 75,
   "id": "going-overall",
   "metadata": {},
   "outputs": [
    {
     "data": {
      "text/plain": [
       "10.0"
      ]
     },
     "execution_count": 75,
     "metadata": {},
     "output_type": "execute_result"
    }
   ],
   "source": [
    "import math\n",
    "\n",
    "math.cos(math.pi / 4)\n",
    "math.log(1024, 2)"
   ]
  },
  {
   "cell_type": "code",
   "execution_count": 197,
   "id": "august-multiple",
   "metadata": {},
   "outputs": [
    {
     "data": {
      "text/plain": [
       "3"
      ]
     },
     "execution_count": 197,
     "metadata": {},
     "output_type": "execute_result"
    }
   ],
   "source": [
    "import random\n",
    "random.choice(['apple', 'pear', 'banana'])\n",
    "random.sample(range(100), 10)\n",
    "random.random()\n",
    "random.randrange(6)"
   ]
  },
  {
   "cell_type": "code",
   "execution_count": 202,
   "id": "complicated-budget",
   "metadata": {},
   "outputs": [
    {
     "data": {
      "text/plain": [
       "1.171334200612195"
      ]
     },
     "execution_count": 202,
     "metadata": {},
     "output_type": "execute_result"
    }
   ],
   "source": [
    "import statistics\n",
    "\n",
    "data = [2.75, 1.75, 1.25, 0.25, 0.5, 1.25, 3.5]\n",
    "statistics.mean(data)\n",
    "statistics.median(data)\n",
    "statistics.variance(data)\n",
    "statistics.stdev(data)"
   ]
  },
  {
   "cell_type": "code",
   "execution_count": 204,
   "id": "streaming-speaking",
   "metadata": {},
   "outputs": [
    {
     "data": {
      "text/plain": [
       "datetime.datetime(2021, 7, 16, 7, 2, 20, 48955)"
      ]
     },
     "execution_count": 204,
     "metadata": {},
     "output_type": "execute_result"
    }
   ],
   "source": [
    "import datetime\n",
    "datetime.date.today()\n",
    "datetime.datetime.now()"
   ]
  },
  {
   "cell_type": "code",
   "execution_count": 212,
   "id": "statutory-globe",
   "metadata": {},
   "outputs": [
    {
     "data": {
      "text/plain": [
       "11526"
      ]
     },
     "execution_count": 212,
     "metadata": {},
     "output_type": "execute_result"
    }
   ],
   "source": [
    "birthday = datetime.date(1989, 12, 25)\n",
    "age = datetime.date.today() - birthday\n",
    "age.days"
   ]
  },
  {
   "cell_type": "code",
   "execution_count": 235,
   "id": "protective-opportunity",
   "metadata": {},
   "outputs": [
    {
     "data": {
      "text/plain": [
       "datetime.timedelta(days=64, seconds=29156, microseconds=10)"
      ]
     },
     "execution_count": 235,
     "metadata": {},
     "output_type": "execute_result"
    }
   ],
   "source": [
    "import datetime\n",
    "\n",
    "delta = datetime.timedelta(\n",
    "    days = 50,\n",
    "    seconds = 27,\n",
    "    microseconds=10,\n",
    "    milliseconds=29000,\n",
    "    minutes=5,\n",
    "    hours=8,\n",
    "    weeks=2\n",
    ")\n",
    "\n",
    "delta"
   ]
  },
  {
   "cell_type": "code",
   "execution_count": 236,
   "id": "orange-wheel",
   "metadata": {},
   "outputs": [
    {
     "data": {
      "text/plain": [
       "'1.2.4'"
      ]
     },
     "execution_count": 236,
     "metadata": {},
     "output_type": "execute_result"
    }
   ],
   "source": [
    "pd.__version__"
   ]
  },
  {
   "cell_type": "code",
   "execution_count": 237,
   "id": "associate-sampling",
   "metadata": {},
   "outputs": [
    {
     "data": {
      "text/html": [
       "<div>\n",
       "<style scoped>\n",
       "    .dataframe tbody tr th:only-of-type {\n",
       "        vertical-align: middle;\n",
       "    }\n",
       "\n",
       "    .dataframe tbody tr th {\n",
       "        vertical-align: top;\n",
       "    }\n",
       "\n",
       "    .dataframe thead th {\n",
       "        text-align: right;\n",
       "    }\n",
       "</style>\n",
       "<table border=\"1\" class=\"dataframe\">\n",
       "  <thead>\n",
       "    <tr style=\"text-align: right;\">\n",
       "      <th></th>\n",
       "      <th>c1_x</th>\n",
       "      <th>c2_x</th>\n",
       "      <th>c1_y</th>\n",
       "      <th>c2_y</th>\n",
       "    </tr>\n",
       "  </thead>\n",
       "  <tbody>\n",
       "    <tr>\n",
       "      <th>0</th>\n",
       "      <td>1</td>\n",
       "      <td>3</td>\n",
       "      <td>10</td>\n",
       "      <td>30</td>\n",
       "    </tr>\n",
       "    <tr>\n",
       "      <th>1</th>\n",
       "      <td>1</td>\n",
       "      <td>3</td>\n",
       "      <td>20</td>\n",
       "      <td>40</td>\n",
       "    </tr>\n",
       "    <tr>\n",
       "      <th>2</th>\n",
       "      <td>2</td>\n",
       "      <td>4</td>\n",
       "      <td>10</td>\n",
       "      <td>30</td>\n",
       "    </tr>\n",
       "    <tr>\n",
       "      <th>3</th>\n",
       "      <td>2</td>\n",
       "      <td>4</td>\n",
       "      <td>20</td>\n",
       "      <td>40</td>\n",
       "    </tr>\n",
       "  </tbody>\n",
       "</table>\n",
       "</div>"
      ],
      "text/plain": [
       "   c1_x  c2_x  c1_y  c2_y\n",
       "0     1     3    10    30\n",
       "1     1     3    20    40\n",
       "2     2     4    10    30\n",
       "3     2     4    20    40"
      ]
     },
     "execution_count": 237,
     "metadata": {},
     "output_type": "execute_result"
    }
   ],
   "source": [
    "df1 = pd.DataFrame({\n",
    "    'c1':[1,2],\n",
    "    'c2':[3,4]\n",
    "})\n",
    "\n",
    "df2 = pd.DataFrame({\n",
    "    'c1':[10,20],\n",
    "    'c2':[30,40]\n",
    "})\n",
    "\n",
    "df1.merge(df2, how='cross')"
   ]
  },
  {
   "cell_type": "code",
   "execution_count": 4,
   "id": "processed-residence",
   "metadata": {},
   "outputs": [
    {
     "data": {
      "text/plain": [
       "datetime.datetime(2021, 1, 1, 10, 14, 20)"
      ]
     },
     "execution_count": 4,
     "metadata": {},
     "output_type": "execute_result"
    }
   ],
   "source": [
    "datetime.datetime(2021,1,1, 15, 14, 20) + datetime.timedelta(hours=-5) # datetime.datetime(2021, 1, 1, 10, 14, 20)"
   ]
  },
  {
   "cell_type": "code",
   "execution_count": 13,
   "id": "governing-oriental",
   "metadata": {},
   "outputs": [
    {
     "data": {
      "text/plain": [
       "False"
      ]
     },
     "execution_count": 13,
     "metadata": {},
     "output_type": "execute_result"
    }
   ],
   "source": [
    "from datetime import timedelta\n",
    "delta1 = timedelta(seconds=57)\n",
    "delta2 = timedelta(hours=25, seconds=2)\n",
    "\n",
    "delta2 != delta1 # True\n",
    "delta2 == 5 # False"
   ]
  },
  {
   "cell_type": "code",
   "execution_count": 11,
   "id": "recreational-wyoming",
   "metadata": {},
   "outputs": [
    {
     "data": {
      "text/plain": [
       "2.0"
      ]
     },
     "execution_count": 11,
     "metadata": {},
     "output_type": "execute_result"
    }
   ],
   "source": [
    "t1 = datetime.timedelta(hours=5, minutes=2)\n",
    "t2 = datetime.timedelta(hours=2.5, minutes=1)\n",
    "t1/t2 # 2.0"
   ]
  },
  {
   "cell_type": "code",
   "execution_count": 16,
   "id": "backed-potato",
   "metadata": {},
   "outputs": [
    {
     "data": {
      "text/plain": [
       "True"
      ]
     },
     "execution_count": 16,
     "metadata": {},
     "output_type": "execute_result"
    }
   ],
   "source": [
    "delta2 > delta1 # True\n",
    "#delta2 > 5 # TypeError: '>' not supported between instances of 'datetime.timedelta' and 'int'"
   ]
  },
  {
   "cell_type": "code",
   "execution_count": 22,
   "id": "prompt-style",
   "metadata": {},
   "outputs": [
    {
     "data": {
      "text/plain": [
       "(datetime.timedelta(days=1095), 3)"
      ]
     },
     "execution_count": 22,
     "metadata": {},
     "output_type": "execute_result"
    }
   ],
   "source": [
    "from datetime import timedelta\n",
    "\n",
    "year = timedelta(days=365)\n",
    "ten_years = 10*year\n",
    "ten_years # datetime.timedelta(days=3650)\n",
    "\n",
    "ten_years.days // 365 # 10\n",
    "\n",
    "nine_years = ten_years - year\n",
    "nine_years # datetime.timedelta(days=3285)\n",
    "\n",
    "three_years = nine_years // 3\n",
    "three_years, three_years.days//365 # (datetime.timedelta(days=1095), 3)"
   ]
  },
  {
   "cell_type": "code",
   "execution_count": 25,
   "id": "finite-brief",
   "metadata": {},
   "outputs": [
    {
     "data": {
      "text/plain": [
       "datetime.date(2019, 12, 4)"
      ]
     },
     "execution_count": 25,
     "metadata": {},
     "output_type": "execute_result"
    }
   ],
   "source": [
    "from datetime import date\n",
    "\n",
    "date.fromisoformat('2019-12-04')  # datetime.date(2019, 12, 4)\n",
    "date.isoformat(date(2021,11,13)) # '2021-11-13'"
   ]
  },
  {
   "cell_type": "code",
   "execution_count": 27,
   "id": "individual-shipping",
   "metadata": {},
   "outputs": [
    {
     "data": {
      "text/plain": [
       "datetime.date(2021, 12, 31)"
      ]
     },
     "execution_count": 27,
     "metadata": {},
     "output_type": "execute_result"
    }
   ],
   "source": [
    "d = date(2021, 12, 21)\n",
    "d.replace(day=31) # datetime.date(2021, 12, 31)"
   ]
  },
  {
   "cell_type": "code",
   "execution_count": 33,
   "id": "incident-sleeping",
   "metadata": {},
   "outputs": [
    {
     "data": {
      "text/plain": [
       "197"
      ]
     },
     "execution_count": 33,
     "metadata": {},
     "output_type": "execute_result"
    }
   ],
   "source": [
    "date.today().toordinal() - date(d.year,1,1).toordinal()"
   ]
  },
  {
   "cell_type": "code",
   "execution_count": 37,
   "id": "important-holmes",
   "metadata": {},
   "outputs": [
    {
     "data": {
      "text/plain": [
       "datetime.IsoCalendarDate(year=2004, week=1, weekday=7)"
      ]
     },
     "execution_count": 37,
     "metadata": {},
     "output_type": "execute_result"
    }
   ],
   "source": [
    "date(2003, 12, 29).isocalendar() # datetime.IsoCalendarDate(year=2004, week=1, weekday=1)\n",
    "date(2004, 1, 4).isocalendar() # datetime.IsoCalendarDate(year=2004, week=1, weekday=7)"
   ]
  },
  {
   "cell_type": "code",
   "execution_count": null,
   "id": "bronze-quantity",
   "metadata": {},
   "outputs": [],
   "source": []
  }
 ],
 "metadata": {
  "kernelspec": {
   "display_name": "Python (myenv)",
   "language": "python",
   "name": "myenv"
  },
  "language_info": {
   "codemirror_mode": {
    "name": "ipython",
    "version": 3
   },
   "file_extension": ".py",
   "mimetype": "text/x-python",
   "name": "python",
   "nbconvert_exporter": "python",
   "pygments_lexer": "ipython3",
   "version": "3.9.1"
  }
 },
 "nbformat": 4,
 "nbformat_minor": 5
}
