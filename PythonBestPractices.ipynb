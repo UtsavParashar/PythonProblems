{
 "cells": [
  {
   "cell_type": "code",
   "execution_count": 1,
   "id": "sharp-newcastle",
   "metadata": {},
   "outputs": [],
   "source": [
    "%matplotlib inline\n",
    "import numpy as np\n",
    "import numpy.ma as ma\n",
    "import pandas as pd\n",
    "from pandas import DataFrame, Series\n",
    "import matplotlib.pyplot as plt\n",
    "import seaborn as sns\n",
    "import timeit\n",
    "import line_profiler\n",
    "\n",
    "from collections import deque, namedtuple\n",
    "\n",
    "import datetime\n",
    "\n",
    "from io import StringIO\n",
    "from pandas.api.types import CategoricalDtype\n",
    "\n",
    "import pandas._testing as tm\n",
    "import re"
   ]
  },
  {
   "cell_type": "markdown",
   "id": "divine-fence",
   "metadata": {},
   "source": [
    "# Data Classes"
   ]
  },
  {
   "cell_type": "markdown",
   "id": "sharing-level",
   "metadata": {},
   "source": [
    "Classes are a combination of two things behaviour and data.\n",
    "behaviour is in the form of methods.\n",
    "data is in the form of attributes.\n",
    "They are the blue print for objects, they form the basis of OOP.\n",
    "\n",
    "Some classes are mostly containers of behaviour eg. class that allows you to find area of different shapes like rect, square etc or class which provides password hashing functionality.\n",
    "When working with behavior type of classes you might use things like inheritance to change the behavior or use design pattern such as the strategy.\n",
    "You probably won't have that many instances of that class in your application.\n",
    "\n",
    "\n",
    "Other classes act more as containers of data. Eg. Class for representing a vehicle in a vehicle registration system.\n",
    "The class that is often used as a data container is often used differently, we may need to create many instances of it, we might want to order them, compare them easily and inspect the data that's in them etc.\n",
    "\n",
    "How are data classes different from regular classes?\n",
    "Data class have a built in initialize to help you quickly fill an object with data, there are easy ways to print, compare and order data. You can create data that is read only."
   ]
  },
  {
   "cell_type": "code",
   "execution_count": 3,
   "id": "excellent-mathematics",
   "metadata": {},
   "outputs": [
    {
     "name": "stdout",
     "output_type": "stream",
     "text": [
      "4836625040\n",
      "4836622832\n",
      "<__main__.Person object at 0x120490ee0>\n",
      "False\n"
     ]
    }
   ],
   "source": [
    "class Person: \n",
    "    ## We have used these class variables here to indicate the types,\n",
    "    ## which will be used for dataclasses.\n",
    "    ## Normally we will only write the initializer with the instance variables.\n",
    "    \n",
    "    name: str\n",
    "    job: str\n",
    "    age: int\n",
    "        \n",
    "    def __init__(self, name, job, age):\n",
    "        self.name = name\n",
    "        self.job = job\n",
    "        self.age = age\n",
    "\n",
    "person1 = Person('Ramesh', 'Kumar', 30)\n",
    "person2 = Person('Suresh', 'Chanda', 25)\n",
    "person3 = Person('Suresh', 'Chanda', 25)\n",
    "\n",
    "print(id(person2))\n",
    "print(id(person3))\n",
    "print(person1)\n",
    "\n",
    "print(person3 == person2)"
   ]
  },
  {
   "cell_type": "markdown",
   "id": "rubber-baptist",
   "metadata": {},
   "source": [
    "In the above example, this happens when we are dealing with regular classes i.e when print person object we get '<__main__.Person object at 0x120490ee0>' person object at this memory address, this is not very useful information doesn't tell us what's inside the object.\n",
    "\n",
    "Another thing is, person2 and person3 have same name and surname  and age but equal operator is returning false for it.\n",
    "Why is it False?\n",
    "Because they are different objects.\n",
    "\n",
    "\n",
    "When we are dealing with data we preferably want different results i.e we many want easy way to print the data i.e other than getting the address of an object we may want to see the contents of the object another thing is that often other thing we want to do with data is deeper comparisons so we that when the data is same, we may want the object also to be same.\n",
    "\n",
    "Data classes can solve all those things for us.\n",
    "\n",
    "Let's turn Person into a data class and see what happens."
   ]
  },
  {
   "cell_type": "code",
   "execution_count": 19,
   "id": "impaired-buying",
   "metadata": {},
   "outputs": [
    {
     "name": "stdout",
     "output_type": "stream",
     "text": [
      "4836795296\n",
      "4840320688\n",
      "Person(name='Ramesh', job='Kumar', age=30, strength=99)\n",
      "Person(name='Suresh', job='Chanda', age=25, strength=100)\n",
      "True\n",
      "False\n",
      "False\n"
     ]
    }
   ],
   "source": [
    "from dataclasses import dataclass, field\n",
    "\n",
    "## In order to compare to classes like p1>p2 we can set \n",
    "## dataclass as ordered with param order=True\n",
    "## frozen makes sure that data is not changes anywhere in the code\n",
    "@dataclass(order=True, frozen=True)\n",
    "class Person: \n",
    "    ## We need to use these class variables here to indicate the types\n",
    "    ## Initialization __init__ method is not required for dataclass\n",
    "    sort_index: int = field(init=False, repr=False)\n",
    "    name: str\n",
    "    job: str\n",
    "    age: int\n",
    "    strength: int = 100\n",
    "    \n",
    "    def __post_init__(self):\n",
    "        #self.sort_index = self.age\n",
    "        #self.sort_index = self.strength\n",
    "        object.__setattr__(self, 'sort_index', self.strength)\n",
    "        \n",
    "    def __str_(self):\n",
    "        return f'{self.name}, {self.job}, {self.age}'\n",
    "\n",
    "person1 = Person('Ramesh', 'Kumar', 30,99)\n",
    "person2 = Person('Suresh', 'Chanda', 25)\n",
    "person3 = Person('Suresh', 'Chanda', 25)\n",
    "\n",
    "print(id(person2))\n",
    "print(id(person3))\n",
    "print(person1)\n",
    "print(person2)\n",
    "\n",
    "print(person3 == person2)\n",
    "print(person3 > person2)\n",
    "print(person1 > person2) "
   ]
  },
  {
   "cell_type": "code",
   "execution_count": null,
   "id": "whole-latin",
   "metadata": {},
   "outputs": [],
   "source": []
  }
 ],
 "metadata": {
  "kernelspec": {
   "display_name": "Python (myenv)",
   "language": "python",
   "name": "myenv"
  },
  "language_info": {
   "codemirror_mode": {
    "name": "ipython",
    "version": 3
   },
   "file_extension": ".py",
   "mimetype": "text/x-python",
   "name": "python",
   "nbconvert_exporter": "python",
   "pygments_lexer": "ipython3",
   "version": "3.9.1"
  }
 },
 "nbformat": 4,
 "nbformat_minor": 5
}
