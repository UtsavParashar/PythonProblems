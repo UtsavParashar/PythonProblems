{
 "cells": [
  {
   "cell_type": "code",
   "execution_count": 2,
   "id": "focal-registrar",
   "metadata": {},
   "outputs": [],
   "source": [
    "%matplotlib inline\n",
    "import numpy as np\n",
    "import numpy.ma as ma\n",
    "import pandas as pd\n",
    "from pandas import DataFrame, Series\n",
    "import matplotlib.pyplot as plt\n",
    "import seaborn as sns\n",
    "import timeit\n",
    "import line_profiler\n",
    "\n",
    "import datetime\n",
    "\n",
    "from io import StringIO\n",
    "from pandas.api.types import CategoricalDtype\n",
    "\n",
    "import pandas._testing as tm\n",
    "\n",
    "## returns df from string data\n",
    "def g(data):\n",
    "    return pd.read_csv(StringIO(data))"
   ]
  },
  {
   "cell_type": "markdown",
   "id": "technological-craps",
   "metadata": {},
   "source": [
    "# 2.16.1 Statistical functions"
   ]
  },
  {
   "cell_type": "code",
   "execution_count": 5,
   "id": "defined-detective",
   "metadata": {},
   "outputs": [
    {
     "data": {
      "text/plain": [
       "0         NaN\n",
       "1   -1.923373\n",
       "2   -2.931038\n",
       "3   -0.935503\n",
       "4   -0.123427\n",
       "5    7.136023\n",
       "6   -1.639340\n",
       "7   -2.450775\n",
       "dtype: float64"
      ]
     },
     "execution_count": 5,
     "metadata": {},
     "output_type": "execute_result"
    }
   ],
   "source": [
    "ser = pd.Series(np.random.randn(8))\n",
    "ser.pct_change()"
   ]
  },
  {
   "cell_type": "code",
   "execution_count": 7,
   "id": "operating-musician",
   "metadata": {},
   "outputs": [
    {
     "data": {
      "text/html": [
       "<div>\n",
       "<style scoped>\n",
       "    .dataframe tbody tr th:only-of-type {\n",
       "        vertical-align: middle;\n",
       "    }\n",
       "\n",
       "    .dataframe tbody tr th {\n",
       "        vertical-align: top;\n",
       "    }\n",
       "\n",
       "    .dataframe thead th {\n",
       "        text-align: right;\n",
       "    }\n",
       "</style>\n",
       "<table border=\"1\" class=\"dataframe\">\n",
       "  <thead>\n",
       "    <tr style=\"text-align: right;\">\n",
       "      <th></th>\n",
       "      <th>0</th>\n",
       "      <th>1</th>\n",
       "      <th>2</th>\n",
       "      <th>3</th>\n",
       "    </tr>\n",
       "  </thead>\n",
       "  <tbody>\n",
       "    <tr>\n",
       "      <th>0</th>\n",
       "      <td>NaN</td>\n",
       "      <td>NaN</td>\n",
       "      <td>NaN</td>\n",
       "      <td>NaN</td>\n",
       "    </tr>\n",
       "    <tr>\n",
       "      <th>1</th>\n",
       "      <td>NaN</td>\n",
       "      <td>NaN</td>\n",
       "      <td>NaN</td>\n",
       "      <td>NaN</td>\n",
       "    </tr>\n",
       "    <tr>\n",
       "      <th>2</th>\n",
       "      <td>NaN</td>\n",
       "      <td>NaN</td>\n",
       "      <td>NaN</td>\n",
       "      <td>NaN</td>\n",
       "    </tr>\n",
       "    <tr>\n",
       "      <th>3</th>\n",
       "      <td>-0.020591</td>\n",
       "      <td>12.475995</td>\n",
       "      <td>0.967325</td>\n",
       "      <td>-0.553468</td>\n",
       "    </tr>\n",
       "    <tr>\n",
       "      <th>4</th>\n",
       "      <td>1.522533</td>\n",
       "      <td>-0.759493</td>\n",
       "      <td>4.268283</td>\n",
       "      <td>-0.128637</td>\n",
       "    </tr>\n",
       "    <tr>\n",
       "      <th>5</th>\n",
       "      <td>-0.839266</td>\n",
       "      <td>4.969317</td>\n",
       "      <td>-0.877771</td>\n",
       "      <td>-0.342039</td>\n",
       "    </tr>\n",
       "    <tr>\n",
       "      <th>6</th>\n",
       "      <td>-0.230832</td>\n",
       "      <td>0.994627</td>\n",
       "      <td>-0.320743</td>\n",
       "      <td>1.306429</td>\n",
       "    </tr>\n",
       "    <tr>\n",
       "      <th>7</th>\n",
       "      <td>0.511824</td>\n",
       "      <td>3.978803</td>\n",
       "      <td>2.442230</td>\n",
       "      <td>-0.767423</td>\n",
       "    </tr>\n",
       "    <tr>\n",
       "      <th>8</th>\n",
       "      <td>1.038695</td>\n",
       "      <td>14.972710</td>\n",
       "      <td>17.444836</td>\n",
       "      <td>0.235789</td>\n",
       "    </tr>\n",
       "    <tr>\n",
       "      <th>9</th>\n",
       "      <td>-0.085083</td>\n",
       "      <td>0.054706</td>\n",
       "      <td>0.009563</td>\n",
       "      <td>-0.911786</td>\n",
       "    </tr>\n",
       "  </tbody>\n",
       "</table>\n",
       "</div>"
      ],
      "text/plain": [
       "          0          1          2         3\n",
       "0       NaN        NaN        NaN       NaN\n",
       "1       NaN        NaN        NaN       NaN\n",
       "2       NaN        NaN        NaN       NaN\n",
       "3 -0.020591  12.475995   0.967325 -0.553468\n",
       "4  1.522533  -0.759493   4.268283 -0.128637\n",
       "5 -0.839266   4.969317  -0.877771 -0.342039\n",
       "6 -0.230832   0.994627  -0.320743  1.306429\n",
       "7  0.511824   3.978803   2.442230 -0.767423\n",
       "8  1.038695  14.972710  17.444836  0.235789\n",
       "9 -0.085083   0.054706   0.009563 -0.911786"
      ]
     },
     "execution_count": 7,
     "metadata": {},
     "output_type": "execute_result"
    }
   ],
   "source": [
    "df = DataFrame(np.random.rand(10, 4))\n",
    "df.pct_change(3)"
   ]
  },
  {
   "cell_type": "code",
   "execution_count": 14,
   "id": "double-wholesale",
   "metadata": {},
   "outputs": [
    {
     "name": "stdout",
     "output_type": "stream",
     "text": [
      "0    1\n",
      "1    2\n",
      "2    3\n",
      "3    4\n",
      "4    5\n",
      "dtype: int64\n"
     ]
    },
    {
     "data": {
      "text/plain": [
       "0    NaN\n",
       "1    NaN\n",
       "2    NaN\n",
       "3    3.0\n",
       "4    1.5\n",
       "dtype: float64"
      ]
     },
     "execution_count": 14,
     "metadata": {},
     "output_type": "execute_result"
    }
   ],
   "source": [
    "s = pd.Series(range(1,6))\n",
    "print(s)\n",
    "s.pct_change(3)"
   ]
  },
  {
   "cell_type": "code",
   "execution_count": 16,
   "id": "activated-elite",
   "metadata": {},
   "outputs": [
    {
     "data": {
      "text/plain": [
       "18.333333333333332"
      ]
     },
     "execution_count": 16,
     "metadata": {},
     "output_type": "execute_result"
    }
   ],
   "source": [
    "s1 = pd.Series(range(1,11))\n",
    "s2 = pd.Series(range(2,21,2))\n",
    "s1.cov(s2)"
   ]
  },
  {
   "cell_type": "code",
   "execution_count": 18,
   "id": "discrete-departure",
   "metadata": {},
   "outputs": [
    {
     "data": {
      "text/html": [
       "<div>\n",
       "<style scoped>\n",
       "    .dataframe tbody tr th:only-of-type {\n",
       "        vertical-align: middle;\n",
       "    }\n",
       "\n",
       "    .dataframe tbody tr th {\n",
       "        vertical-align: top;\n",
       "    }\n",
       "\n",
       "    .dataframe thead th {\n",
       "        text-align: right;\n",
       "    }\n",
       "</style>\n",
       "<table border=\"1\" class=\"dataframe\">\n",
       "  <thead>\n",
       "    <tr style=\"text-align: right;\">\n",
       "      <th></th>\n",
       "      <th>a</th>\n",
       "      <th>b</th>\n",
       "      <th>c</th>\n",
       "      <th>d</th>\n",
       "      <th>e</th>\n",
       "    </tr>\n",
       "  </thead>\n",
       "  <tbody>\n",
       "    <tr>\n",
       "      <th>a</th>\n",
       "      <td>1.050728</td>\n",
       "      <td>0.021590</td>\n",
       "      <td>-0.033379</td>\n",
       "      <td>0.031233</td>\n",
       "      <td>0.035940</td>\n",
       "    </tr>\n",
       "    <tr>\n",
       "      <th>b</th>\n",
       "      <td>0.021590</td>\n",
       "      <td>1.030669</td>\n",
       "      <td>0.022360</td>\n",
       "      <td>-0.035406</td>\n",
       "      <td>0.055048</td>\n",
       "    </tr>\n",
       "    <tr>\n",
       "      <th>c</th>\n",
       "      <td>-0.033379</td>\n",
       "      <td>0.022360</td>\n",
       "      <td>1.059442</td>\n",
       "      <td>0.056878</td>\n",
       "      <td>-0.038169</td>\n",
       "    </tr>\n",
       "    <tr>\n",
       "      <th>d</th>\n",
       "      <td>0.031233</td>\n",
       "      <td>-0.035406</td>\n",
       "      <td>0.056878</td>\n",
       "      <td>0.933382</td>\n",
       "      <td>0.052404</td>\n",
       "    </tr>\n",
       "    <tr>\n",
       "      <th>e</th>\n",
       "      <td>0.035940</td>\n",
       "      <td>0.055048</td>\n",
       "      <td>-0.038169</td>\n",
       "      <td>0.052404</td>\n",
       "      <td>0.895523</td>\n",
       "    </tr>\n",
       "  </tbody>\n",
       "</table>\n",
       "</div>"
      ],
      "text/plain": [
       "          a         b         c         d         e\n",
       "a  1.050728  0.021590 -0.033379  0.031233  0.035940\n",
       "b  0.021590  1.030669  0.022360 -0.035406  0.055048\n",
       "c -0.033379  0.022360  1.059442  0.056878 -0.038169\n",
       "d  0.031233 -0.035406  0.056878  0.933382  0.052404\n",
       "e  0.035940  0.055048 -0.038169  0.052404  0.895523"
      ]
     },
     "execution_count": 18,
     "metadata": {},
     "output_type": "execute_result"
    }
   ],
   "source": [
    "frame = pd.DataFrame(np.random.randn(1000, 5), columns=[\"a\", \"b\", \"c\", \"d\", \"e\"])\n",
    "frame.cov()"
   ]
  },
  {
   "cell_type": "code",
   "execution_count": 20,
   "id": "afraid-variation",
   "metadata": {},
   "outputs": [
    {
     "data": {
      "text/html": [
       "<div>\n",
       "<style scoped>\n",
       "    .dataframe tbody tr th:only-of-type {\n",
       "        vertical-align: middle;\n",
       "    }\n",
       "\n",
       "    .dataframe tbody tr th {\n",
       "        vertical-align: top;\n",
       "    }\n",
       "\n",
       "    .dataframe thead th {\n",
       "        text-align: right;\n",
       "    }\n",
       "</style>\n",
       "<table border=\"1\" class=\"dataframe\">\n",
       "  <thead>\n",
       "    <tr style=\"text-align: right;\">\n",
       "      <th></th>\n",
       "      <th>a</th>\n",
       "      <th>b</th>\n",
       "      <th>c</th>\n",
       "    </tr>\n",
       "  </thead>\n",
       "  <tbody>\n",
       "    <tr>\n",
       "      <th>a</th>\n",
       "      <td>0.969831</td>\n",
       "      <td>NaN</td>\n",
       "      <td>0.318122</td>\n",
       "    </tr>\n",
       "    <tr>\n",
       "      <th>b</th>\n",
       "      <td>NaN</td>\n",
       "      <td>0.937038</td>\n",
       "      <td>-0.037230</td>\n",
       "    </tr>\n",
       "    <tr>\n",
       "      <th>c</th>\n",
       "      <td>0.318122</td>\n",
       "      <td>-0.037230</td>\n",
       "      <td>0.880216</td>\n",
       "    </tr>\n",
       "  </tbody>\n",
       "</table>\n",
       "</div>"
      ],
      "text/plain": [
       "          a         b         c\n",
       "a  0.969831       NaN  0.318122\n",
       "b       NaN  0.937038 -0.037230\n",
       "c  0.318122 -0.037230  0.880216"
      ]
     },
     "execution_count": 20,
     "metadata": {},
     "output_type": "execute_result"
    }
   ],
   "source": [
    "frame = pd.DataFrame(np.random.randn(20, 3), columns=[\"a\", \"b\", \"c\"])\n",
    "frame.loc[frame.index[:5], \"a\"] = np.nan\n",
    "frame.loc[frame.index[5:10], \"b\"] = np.nan\n",
    "frame.cov()\n",
    "frame.cov(min_periods=12)"
   ]
  },
  {
   "cell_type": "code",
   "execution_count": 24,
   "id": "modern-essex",
   "metadata": {},
   "outputs": [
    {
     "data": {
      "text/plain": [
       "0.5"
      ]
     },
     "execution_count": 24,
     "metadata": {},
     "output_type": "execute_result"
    }
   ],
   "source": [
    "s1 = pd.Series(range(1,6))\n",
    "s2 = pd.Series(range(6,11))\n",
    "s2[:3] = np.nan\n",
    "s1.cov(s2, min_periods=2)"
   ]
  },
  {
   "cell_type": "code",
   "execution_count": 26,
   "id": "extra-father",
   "metadata": {},
   "outputs": [
    {
     "data": {
      "text/html": [
       "<div>\n",
       "<style scoped>\n",
       "    .dataframe tbody tr th:only-of-type {\n",
       "        vertical-align: middle;\n",
       "    }\n",
       "\n",
       "    .dataframe tbody tr th {\n",
       "        vertical-align: top;\n",
       "    }\n",
       "\n",
       "    .dataframe thead th {\n",
       "        text-align: right;\n",
       "    }\n",
       "</style>\n",
       "<table border=\"1\" class=\"dataframe\">\n",
       "  <thead>\n",
       "    <tr style=\"text-align: right;\">\n",
       "      <th></th>\n",
       "      <th>a</th>\n",
       "      <th>b</th>\n",
       "      <th>c</th>\n",
       "    </tr>\n",
       "  </thead>\n",
       "  <tbody>\n",
       "    <tr>\n",
       "      <th>a</th>\n",
       "      <td>1.000000</td>\n",
       "      <td>NaN</td>\n",
       "      <td>-0.268127</td>\n",
       "    </tr>\n",
       "    <tr>\n",
       "      <th>b</th>\n",
       "      <td>NaN</td>\n",
       "      <td>1.000000</td>\n",
       "      <td>-0.058104</td>\n",
       "    </tr>\n",
       "    <tr>\n",
       "      <th>c</th>\n",
       "      <td>-0.268127</td>\n",
       "      <td>-0.058104</td>\n",
       "      <td>1.000000</td>\n",
       "    </tr>\n",
       "  </tbody>\n",
       "</table>\n",
       "</div>"
      ],
      "text/plain": [
       "          a         b         c\n",
       "a  1.000000       NaN -0.268127\n",
       "b       NaN  1.000000 -0.058104\n",
       "c -0.268127 -0.058104  1.000000"
      ]
     },
     "execution_count": 26,
     "metadata": {},
     "output_type": "execute_result"
    }
   ],
   "source": [
    "frame = pd.DataFrame(np.random.randn(20, 3), columns=[\"a\", \"b\", \"c\"])\n",
    "frame.loc[frame.index[:5], \"a\"] = np.nan\n",
    "frame.loc[frame.index[5:10], \"b\"] = np.nan\n",
    "frame.corr()\n",
    "frame.corr(min_periods=12)"
   ]
  },
  {
   "cell_type": "code",
   "execution_count": 27,
   "id": "governing-poverty",
   "metadata": {},
   "outputs": [
    {
     "data": {
      "text/html": [
       "<div>\n",
       "<style scoped>\n",
       "    .dataframe tbody tr th:only-of-type {\n",
       "        vertical-align: middle;\n",
       "    }\n",
       "\n",
       "    .dataframe tbody tr th {\n",
       "        vertical-align: top;\n",
       "    }\n",
       "\n",
       "    .dataframe thead th {\n",
       "        text-align: right;\n",
       "    }\n",
       "</style>\n",
       "<table border=\"1\" class=\"dataframe\">\n",
       "  <thead>\n",
       "    <tr style=\"text-align: right;\">\n",
       "      <th></th>\n",
       "      <th>a</th>\n",
       "      <th>b</th>\n",
       "      <th>c</th>\n",
       "    </tr>\n",
       "  </thead>\n",
       "  <tbody>\n",
       "    <tr>\n",
       "      <th>a</th>\n",
       "      <td>1.000000</td>\n",
       "      <td>-0.449048</td>\n",
       "      <td>-6.072194</td>\n",
       "    </tr>\n",
       "    <tr>\n",
       "      <th>b</th>\n",
       "      <td>-0.449048</td>\n",
       "      <td>1.000000</td>\n",
       "      <td>-0.541214</td>\n",
       "    </tr>\n",
       "    <tr>\n",
       "      <th>c</th>\n",
       "      <td>-6.072194</td>\n",
       "      <td>-0.541214</td>\n",
       "      <td>1.000000</td>\n",
       "    </tr>\n",
       "  </tbody>\n",
       "</table>\n",
       "</div>"
      ],
      "text/plain": [
       "          a         b         c\n",
       "a  1.000000 -0.449048 -6.072194\n",
       "b -0.449048  1.000000 -0.541214\n",
       "c -6.072194 -0.541214  1.000000"
      ]
     },
     "execution_count": 27,
     "metadata": {},
     "output_type": "execute_result"
    }
   ],
   "source": [
    "def histogram_intersection(a, b):\n",
    "    return np.minimum(np.true_divide(a, a.sum()), \n",
    "                      np.true_divide(b, b.sum())).sum()\n",
    "\n",
    "frame.corr(method=histogram_intersection)"
   ]
  },
  {
   "cell_type": "code",
   "execution_count": 28,
   "id": "presidential-ribbon",
   "metadata": {},
   "outputs": [
    {
     "data": {
      "text/plain": [
       "one      0.517229\n",
       "two     -0.014314\n",
       "three   -0.362604\n",
       "four    -0.563880\n",
       "dtype: float64"
      ]
     },
     "execution_count": 28,
     "metadata": {},
     "output_type": "execute_result"
    }
   ],
   "source": [
    "index = [\"a\", \"b\", \"c\", \"d\", \"e\"]\n",
    "columns = [\"one\", \"two\", \"three\", \"four\"]\n",
    "df1 = pd.DataFrame(np.random.randn(5, 4), index=index, columns=columns)\n",
    "df2 = pd.DataFrame(np.random.randn(4, 4), index=index[:4], columns=columns)\n",
    "\n",
    "df1.corrwith(df2)"
   ]
  },
  {
   "cell_type": "code",
   "execution_count": 30,
   "id": "compound-hopkins",
   "metadata": {},
   "outputs": [
    {
     "data": {
      "text/plain": [
       "a    1.688946\n",
       "b    1.489742\n",
       "c   -0.845329\n",
       "d    1.489742\n",
       "e    0.695434\n",
       "dtype: float64"
      ]
     },
     "execution_count": 30,
     "metadata": {},
     "output_type": "execute_result"
    }
   ],
   "source": [
    "s = pd.Series(np.random.randn(5), index=list(\"abcde\"))\n",
    "s[\"d\"] = s[\"b\"] # so there's a tie\n",
    "s.rank()"
   ]
  },
  {
   "cell_type": "code",
   "execution_count": 31,
   "id": "exempt-meaning",
   "metadata": {},
   "outputs": [
    {
     "data": {
      "text/plain": [
       "a    5.0\n",
       "b    3.5\n",
       "c    1.0\n",
       "d    3.5\n",
       "e    2.0\n",
       "dtype: float64"
      ]
     },
     "execution_count": 31,
     "metadata": {},
     "output_type": "execute_result"
    }
   ],
   "source": [
    "s.rank()"
   ]
  },
  {
   "cell_type": "code",
   "execution_count": 36,
   "id": "touched-tulsa",
   "metadata": {},
   "outputs": [
    {
     "data": {
      "text/html": [
       "<div>\n",
       "<style scoped>\n",
       "    .dataframe tbody tr th:only-of-type {\n",
       "        vertical-align: middle;\n",
       "    }\n",
       "\n",
       "    .dataframe tbody tr th {\n",
       "        vertical-align: top;\n",
       "    }\n",
       "\n",
       "    .dataframe thead th {\n",
       "        text-align: right;\n",
       "    }\n",
       "</style>\n",
       "<table border=\"1\" class=\"dataframe\">\n",
       "  <thead>\n",
       "    <tr style=\"text-align: right;\">\n",
       "      <th></th>\n",
       "      <th>0</th>\n",
       "      <th>1</th>\n",
       "      <th>2</th>\n",
       "      <th>3</th>\n",
       "      <th>4</th>\n",
       "      <th>5</th>\n",
       "    </tr>\n",
       "  </thead>\n",
       "  <tbody>\n",
       "    <tr>\n",
       "      <th>0</th>\n",
       "      <td>6.0</td>\n",
       "      <td>1.0</td>\n",
       "      <td>2.5</td>\n",
       "      <td>4.0</td>\n",
       "      <td>2.5</td>\n",
       "      <td>5.0</td>\n",
       "    </tr>\n",
       "    <tr>\n",
       "      <th>1</th>\n",
       "      <td>6.0</td>\n",
       "      <td>3.0</td>\n",
       "      <td>1.5</td>\n",
       "      <td>4.0</td>\n",
       "      <td>1.5</td>\n",
       "      <td>5.0</td>\n",
       "    </tr>\n",
       "    <tr>\n",
       "      <th>2</th>\n",
       "      <td>5.0</td>\n",
       "      <td>4.0</td>\n",
       "      <td>2.5</td>\n",
       "      <td>1.0</td>\n",
       "      <td>2.5</td>\n",
       "      <td>6.0</td>\n",
       "    </tr>\n",
       "    <tr>\n",
       "      <th>3</th>\n",
       "      <td>3.0</td>\n",
       "      <td>1.0</td>\n",
       "      <td>4.5</td>\n",
       "      <td>2.0</td>\n",
       "      <td>4.5</td>\n",
       "      <td>6.0</td>\n",
       "    </tr>\n",
       "    <tr>\n",
       "      <th>4</th>\n",
       "      <td>2.0</td>\n",
       "      <td>4.0</td>\n",
       "      <td>5.5</td>\n",
       "      <td>1.0</td>\n",
       "      <td>5.5</td>\n",
       "      <td>3.0</td>\n",
       "    </tr>\n",
       "    <tr>\n",
       "      <th>5</th>\n",
       "      <td>3.0</td>\n",
       "      <td>1.0</td>\n",
       "      <td>4.0</td>\n",
       "      <td>5.0</td>\n",
       "      <td>NaN</td>\n",
       "      <td>2.0</td>\n",
       "    </tr>\n",
       "    <tr>\n",
       "      <th>6</th>\n",
       "      <td>4.0</td>\n",
       "      <td>1.0</td>\n",
       "      <td>3.0</td>\n",
       "      <td>5.0</td>\n",
       "      <td>NaN</td>\n",
       "      <td>2.0</td>\n",
       "    </tr>\n",
       "    <tr>\n",
       "      <th>7</th>\n",
       "      <td>3.0</td>\n",
       "      <td>1.0</td>\n",
       "      <td>4.0</td>\n",
       "      <td>2.0</td>\n",
       "      <td>NaN</td>\n",
       "      <td>5.0</td>\n",
       "    </tr>\n",
       "    <tr>\n",
       "      <th>8</th>\n",
       "      <td>5.0</td>\n",
       "      <td>4.0</td>\n",
       "      <td>3.0</td>\n",
       "      <td>2.0</td>\n",
       "      <td>NaN</td>\n",
       "      <td>1.0</td>\n",
       "    </tr>\n",
       "    <tr>\n",
       "      <th>9</th>\n",
       "      <td>4.0</td>\n",
       "      <td>2.0</td>\n",
       "      <td>3.0</td>\n",
       "      <td>1.0</td>\n",
       "      <td>NaN</td>\n",
       "      <td>5.0</td>\n",
       "    </tr>\n",
       "  </tbody>\n",
       "</table>\n",
       "</div>"
      ],
      "text/plain": [
       "     0    1    2    3    4    5\n",
       "0  6.0  1.0  2.5  4.0  2.5  5.0\n",
       "1  6.0  3.0  1.5  4.0  1.5  5.0\n",
       "2  5.0  4.0  2.5  1.0  2.5  6.0\n",
       "3  3.0  1.0  4.5  2.0  4.5  6.0\n",
       "4  2.0  4.0  5.5  1.0  5.5  3.0\n",
       "5  3.0  1.0  4.0  5.0  NaN  2.0\n",
       "6  4.0  1.0  3.0  5.0  NaN  2.0\n",
       "7  3.0  1.0  4.0  2.0  NaN  5.0\n",
       "8  5.0  4.0  3.0  2.0  NaN  1.0\n",
       "9  4.0  2.0  3.0  1.0  NaN  5.0"
      ]
     },
     "execution_count": 36,
     "metadata": {},
     "output_type": "execute_result"
    }
   ],
   "source": [
    "df = pd.DataFrame(np.random.randn(10, 6))\n",
    "df[4] = df[2][:5] # some ties\n",
    "df.rank(1, ascending=False)"
   ]
  },
  {
   "cell_type": "code",
   "execution_count": null,
   "id": "referenced-indian",
   "metadata": {},
   "outputs": [],
   "source": []
  }
 ],
 "metadata": {
  "kernelspec": {
   "display_name": "Python (myenv)",
   "language": "python",
   "name": "myenv"
  },
  "language_info": {
   "codemirror_mode": {
    "name": "ipython",
    "version": 3
   },
   "file_extension": ".py",
   "mimetype": "text/x-python",
   "name": "python",
   "nbconvert_exporter": "python",
   "pygments_lexer": "ipython3",
   "version": "3.9.1"
  }
 },
 "nbformat": 4,
 "nbformat_minor": 5
}
