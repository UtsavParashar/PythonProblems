{
 "cells": [
  {
   "cell_type": "code",
   "execution_count": 1,
   "id": "focal-registrar",
   "metadata": {},
   "outputs": [],
   "source": [
    "%matplotlib inline\n",
    "import numpy as np\n",
    "import numpy.ma as ma\n",
    "import pandas as pd\n",
    "from pandas import DataFrame, Series\n",
    "import matplotlib.pyplot as plt\n",
    "import seaborn as sns\n",
    "import timeit\n",
    "import line_profiler\n",
    "\n",
    "import datetime\n",
    "\n",
    "from io import StringIO\n",
    "from pandas.api.types import CategoricalDtype\n",
    "\n",
    "import pandas._testing as tm\n",
    "\n",
    "## returns df from string data\n",
    "def g(data):\n",
    "    return pd.read_csv(StringIO(data))"
   ]
  },
  {
   "cell_type": "markdown",
   "id": "technological-craps",
   "metadata": {},
   "source": [
    "# 2.16.1 Statistical functions"
   ]
  },
  {
   "cell_type": "code",
   "execution_count": 5,
   "id": "defined-detective",
   "metadata": {},
   "outputs": [
    {
     "data": {
      "text/plain": [
       "0         NaN\n",
       "1   -1.923373\n",
       "2   -2.931038\n",
       "3   -0.935503\n",
       "4   -0.123427\n",
       "5    7.136023\n",
       "6   -1.639340\n",
       "7   -2.450775\n",
       "dtype: float64"
      ]
     },
     "execution_count": 5,
     "metadata": {},
     "output_type": "execute_result"
    }
   ],
   "source": [
    "ser = pd.Series(np.random.randn(8))\n",
    "ser.pct_change()"
   ]
  },
  {
   "cell_type": "code",
   "execution_count": 7,
   "id": "operating-musician",
   "metadata": {},
   "outputs": [
    {
     "data": {
      "text/html": [
       "<div>\n",
       "<style scoped>\n",
       "    .dataframe tbody tr th:only-of-type {\n",
       "        vertical-align: middle;\n",
       "    }\n",
       "\n",
       "    .dataframe tbody tr th {\n",
       "        vertical-align: top;\n",
       "    }\n",
       "\n",
       "    .dataframe thead th {\n",
       "        text-align: right;\n",
       "    }\n",
       "</style>\n",
       "<table border=\"1\" class=\"dataframe\">\n",
       "  <thead>\n",
       "    <tr style=\"text-align: right;\">\n",
       "      <th></th>\n",
       "      <th>0</th>\n",
       "      <th>1</th>\n",
       "      <th>2</th>\n",
       "      <th>3</th>\n",
       "    </tr>\n",
       "  </thead>\n",
       "  <tbody>\n",
       "    <tr>\n",
       "      <th>0</th>\n",
       "      <td>NaN</td>\n",
       "      <td>NaN</td>\n",
       "      <td>NaN</td>\n",
       "      <td>NaN</td>\n",
       "    </tr>\n",
       "    <tr>\n",
       "      <th>1</th>\n",
       "      <td>NaN</td>\n",
       "      <td>NaN</td>\n",
       "      <td>NaN</td>\n",
       "      <td>NaN</td>\n",
       "    </tr>\n",
       "    <tr>\n",
       "      <th>2</th>\n",
       "      <td>NaN</td>\n",
       "      <td>NaN</td>\n",
       "      <td>NaN</td>\n",
       "      <td>NaN</td>\n",
       "    </tr>\n",
       "    <tr>\n",
       "      <th>3</th>\n",
       "      <td>-0.020591</td>\n",
       "      <td>12.475995</td>\n",
       "      <td>0.967325</td>\n",
       "      <td>-0.553468</td>\n",
       "    </tr>\n",
       "    <tr>\n",
       "      <th>4</th>\n",
       "      <td>1.522533</td>\n",
       "      <td>-0.759493</td>\n",
       "      <td>4.268283</td>\n",
       "      <td>-0.128637</td>\n",
       "    </tr>\n",
       "    <tr>\n",
       "      <th>5</th>\n",
       "      <td>-0.839266</td>\n",
       "      <td>4.969317</td>\n",
       "      <td>-0.877771</td>\n",
       "      <td>-0.342039</td>\n",
       "    </tr>\n",
       "    <tr>\n",
       "      <th>6</th>\n",
       "      <td>-0.230832</td>\n",
       "      <td>0.994627</td>\n",
       "      <td>-0.320743</td>\n",
       "      <td>1.306429</td>\n",
       "    </tr>\n",
       "    <tr>\n",
       "      <th>7</th>\n",
       "      <td>0.511824</td>\n",
       "      <td>3.978803</td>\n",
       "      <td>2.442230</td>\n",
       "      <td>-0.767423</td>\n",
       "    </tr>\n",
       "    <tr>\n",
       "      <th>8</th>\n",
       "      <td>1.038695</td>\n",
       "      <td>14.972710</td>\n",
       "      <td>17.444836</td>\n",
       "      <td>0.235789</td>\n",
       "    </tr>\n",
       "    <tr>\n",
       "      <th>9</th>\n",
       "      <td>-0.085083</td>\n",
       "      <td>0.054706</td>\n",
       "      <td>0.009563</td>\n",
       "      <td>-0.911786</td>\n",
       "    </tr>\n",
       "  </tbody>\n",
       "</table>\n",
       "</div>"
      ],
      "text/plain": [
       "          0          1          2         3\n",
       "0       NaN        NaN        NaN       NaN\n",
       "1       NaN        NaN        NaN       NaN\n",
       "2       NaN        NaN        NaN       NaN\n",
       "3 -0.020591  12.475995   0.967325 -0.553468\n",
       "4  1.522533  -0.759493   4.268283 -0.128637\n",
       "5 -0.839266   4.969317  -0.877771 -0.342039\n",
       "6 -0.230832   0.994627  -0.320743  1.306429\n",
       "7  0.511824   3.978803   2.442230 -0.767423\n",
       "8  1.038695  14.972710  17.444836  0.235789\n",
       "9 -0.085083   0.054706   0.009563 -0.911786"
      ]
     },
     "execution_count": 7,
     "metadata": {},
     "output_type": "execute_result"
    }
   ],
   "source": [
    "df = DataFrame(np.random.rand(10, 4))\n",
    "df.pct_change(3)"
   ]
  },
  {
   "cell_type": "code",
   "execution_count": 14,
   "id": "double-wholesale",
   "metadata": {},
   "outputs": [
    {
     "name": "stdout",
     "output_type": "stream",
     "text": [
      "0    1\n",
      "1    2\n",
      "2    3\n",
      "3    4\n",
      "4    5\n",
      "dtype: int64\n"
     ]
    },
    {
     "data": {
      "text/plain": [
       "0    NaN\n",
       "1    NaN\n",
       "2    NaN\n",
       "3    3.0\n",
       "4    1.5\n",
       "dtype: float64"
      ]
     },
     "execution_count": 14,
     "metadata": {},
     "output_type": "execute_result"
    }
   ],
   "source": [
    "s = pd.Series(range(1,6))\n",
    "print(s)\n",
    "s.pct_change(3)"
   ]
  },
  {
   "cell_type": "code",
   "execution_count": 16,
   "id": "activated-elite",
   "metadata": {},
   "outputs": [
    {
     "data": {
      "text/plain": [
       "18.333333333333332"
      ]
     },
     "execution_count": 16,
     "metadata": {},
     "output_type": "execute_result"
    }
   ],
   "source": [
    "s1 = pd.Series(range(1,11))\n",
    "s2 = pd.Series(range(2,21,2))\n",
    "s1.cov(s2)"
   ]
  },
  {
   "cell_type": "code",
   "execution_count": 18,
   "id": "discrete-departure",
   "metadata": {},
   "outputs": [
    {
     "data": {
      "text/html": [
       "<div>\n",
       "<style scoped>\n",
       "    .dataframe tbody tr th:only-of-type {\n",
       "        vertical-align: middle;\n",
       "    }\n",
       "\n",
       "    .dataframe tbody tr th {\n",
       "        vertical-align: top;\n",
       "    }\n",
       "\n",
       "    .dataframe thead th {\n",
       "        text-align: right;\n",
       "    }\n",
       "</style>\n",
       "<table border=\"1\" class=\"dataframe\">\n",
       "  <thead>\n",
       "    <tr style=\"text-align: right;\">\n",
       "      <th></th>\n",
       "      <th>a</th>\n",
       "      <th>b</th>\n",
       "      <th>c</th>\n",
       "      <th>d</th>\n",
       "      <th>e</th>\n",
       "    </tr>\n",
       "  </thead>\n",
       "  <tbody>\n",
       "    <tr>\n",
       "      <th>a</th>\n",
       "      <td>1.050728</td>\n",
       "      <td>0.021590</td>\n",
       "      <td>-0.033379</td>\n",
       "      <td>0.031233</td>\n",
       "      <td>0.035940</td>\n",
       "    </tr>\n",
       "    <tr>\n",
       "      <th>b</th>\n",
       "      <td>0.021590</td>\n",
       "      <td>1.030669</td>\n",
       "      <td>0.022360</td>\n",
       "      <td>-0.035406</td>\n",
       "      <td>0.055048</td>\n",
       "    </tr>\n",
       "    <tr>\n",
       "      <th>c</th>\n",
       "      <td>-0.033379</td>\n",
       "      <td>0.022360</td>\n",
       "      <td>1.059442</td>\n",
       "      <td>0.056878</td>\n",
       "      <td>-0.038169</td>\n",
       "    </tr>\n",
       "    <tr>\n",
       "      <th>d</th>\n",
       "      <td>0.031233</td>\n",
       "      <td>-0.035406</td>\n",
       "      <td>0.056878</td>\n",
       "      <td>0.933382</td>\n",
       "      <td>0.052404</td>\n",
       "    </tr>\n",
       "    <tr>\n",
       "      <th>e</th>\n",
       "      <td>0.035940</td>\n",
       "      <td>0.055048</td>\n",
       "      <td>-0.038169</td>\n",
       "      <td>0.052404</td>\n",
       "      <td>0.895523</td>\n",
       "    </tr>\n",
       "  </tbody>\n",
       "</table>\n",
       "</div>"
      ],
      "text/plain": [
       "          a         b         c         d         e\n",
       "a  1.050728  0.021590 -0.033379  0.031233  0.035940\n",
       "b  0.021590  1.030669  0.022360 -0.035406  0.055048\n",
       "c -0.033379  0.022360  1.059442  0.056878 -0.038169\n",
       "d  0.031233 -0.035406  0.056878  0.933382  0.052404\n",
       "e  0.035940  0.055048 -0.038169  0.052404  0.895523"
      ]
     },
     "execution_count": 18,
     "metadata": {},
     "output_type": "execute_result"
    }
   ],
   "source": [
    "frame = pd.DataFrame(np.random.randn(1000, 5), columns=[\"a\", \"b\", \"c\", \"d\", \"e\"])\n",
    "frame.cov()"
   ]
  },
  {
   "cell_type": "code",
   "execution_count": 20,
   "id": "afraid-variation",
   "metadata": {},
   "outputs": [
    {
     "data": {
      "text/html": [
       "<div>\n",
       "<style scoped>\n",
       "    .dataframe tbody tr th:only-of-type {\n",
       "        vertical-align: middle;\n",
       "    }\n",
       "\n",
       "    .dataframe tbody tr th {\n",
       "        vertical-align: top;\n",
       "    }\n",
       "\n",
       "    .dataframe thead th {\n",
       "        text-align: right;\n",
       "    }\n",
       "</style>\n",
       "<table border=\"1\" class=\"dataframe\">\n",
       "  <thead>\n",
       "    <tr style=\"text-align: right;\">\n",
       "      <th></th>\n",
       "      <th>a</th>\n",
       "      <th>b</th>\n",
       "      <th>c</th>\n",
       "    </tr>\n",
       "  </thead>\n",
       "  <tbody>\n",
       "    <tr>\n",
       "      <th>a</th>\n",
       "      <td>0.969831</td>\n",
       "      <td>NaN</td>\n",
       "      <td>0.318122</td>\n",
       "    </tr>\n",
       "    <tr>\n",
       "      <th>b</th>\n",
       "      <td>NaN</td>\n",
       "      <td>0.937038</td>\n",
       "      <td>-0.037230</td>\n",
       "    </tr>\n",
       "    <tr>\n",
       "      <th>c</th>\n",
       "      <td>0.318122</td>\n",
       "      <td>-0.037230</td>\n",
       "      <td>0.880216</td>\n",
       "    </tr>\n",
       "  </tbody>\n",
       "</table>\n",
       "</div>"
      ],
      "text/plain": [
       "          a         b         c\n",
       "a  0.969831       NaN  0.318122\n",
       "b       NaN  0.937038 -0.037230\n",
       "c  0.318122 -0.037230  0.880216"
      ]
     },
     "execution_count": 20,
     "metadata": {},
     "output_type": "execute_result"
    }
   ],
   "source": [
    "frame = pd.DataFrame(np.random.randn(20, 3), columns=[\"a\", \"b\", \"c\"])\n",
    "frame.loc[frame.index[:5], \"a\"] = np.nan\n",
    "frame.loc[frame.index[5:10], \"b\"] = np.nan\n",
    "frame.cov()\n",
    "frame.cov(min_periods=12)"
   ]
  },
  {
   "cell_type": "code",
   "execution_count": 24,
   "id": "modern-essex",
   "metadata": {},
   "outputs": [
    {
     "data": {
      "text/plain": [
       "0.5"
      ]
     },
     "execution_count": 24,
     "metadata": {},
     "output_type": "execute_result"
    }
   ],
   "source": [
    "s1 = pd.Series(range(1,6))\n",
    "s2 = pd.Series(range(6,11))\n",
    "s2[:3] = np.nan\n",
    "s1.cov(s2, min_periods=2)"
   ]
  },
  {
   "cell_type": "code",
   "execution_count": 26,
   "id": "extra-father",
   "metadata": {},
   "outputs": [
    {
     "data": {
      "text/html": [
       "<div>\n",
       "<style scoped>\n",
       "    .dataframe tbody tr th:only-of-type {\n",
       "        vertical-align: middle;\n",
       "    }\n",
       "\n",
       "    .dataframe tbody tr th {\n",
       "        vertical-align: top;\n",
       "    }\n",
       "\n",
       "    .dataframe thead th {\n",
       "        text-align: right;\n",
       "    }\n",
       "</style>\n",
       "<table border=\"1\" class=\"dataframe\">\n",
       "  <thead>\n",
       "    <tr style=\"text-align: right;\">\n",
       "      <th></th>\n",
       "      <th>a</th>\n",
       "      <th>b</th>\n",
       "      <th>c</th>\n",
       "    </tr>\n",
       "  </thead>\n",
       "  <tbody>\n",
       "    <tr>\n",
       "      <th>a</th>\n",
       "      <td>1.000000</td>\n",
       "      <td>NaN</td>\n",
       "      <td>-0.268127</td>\n",
       "    </tr>\n",
       "    <tr>\n",
       "      <th>b</th>\n",
       "      <td>NaN</td>\n",
       "      <td>1.000000</td>\n",
       "      <td>-0.058104</td>\n",
       "    </tr>\n",
       "    <tr>\n",
       "      <th>c</th>\n",
       "      <td>-0.268127</td>\n",
       "      <td>-0.058104</td>\n",
       "      <td>1.000000</td>\n",
       "    </tr>\n",
       "  </tbody>\n",
       "</table>\n",
       "</div>"
      ],
      "text/plain": [
       "          a         b         c\n",
       "a  1.000000       NaN -0.268127\n",
       "b       NaN  1.000000 -0.058104\n",
       "c -0.268127 -0.058104  1.000000"
      ]
     },
     "execution_count": 26,
     "metadata": {},
     "output_type": "execute_result"
    }
   ],
   "source": [
    "frame = pd.DataFrame(np.random.randn(20, 3), columns=[\"a\", \"b\", \"c\"])\n",
    "frame.loc[frame.index[:5], \"a\"] = np.nan\n",
    "frame.loc[frame.index[5:10], \"b\"] = np.nan\n",
    "frame.corr()\n",
    "frame.corr(min_periods=12)"
   ]
  },
  {
   "cell_type": "code",
   "execution_count": 27,
   "id": "governing-poverty",
   "metadata": {},
   "outputs": [
    {
     "data": {
      "text/html": [
       "<div>\n",
       "<style scoped>\n",
       "    .dataframe tbody tr th:only-of-type {\n",
       "        vertical-align: middle;\n",
       "    }\n",
       "\n",
       "    .dataframe tbody tr th {\n",
       "        vertical-align: top;\n",
       "    }\n",
       "\n",
       "    .dataframe thead th {\n",
       "        text-align: right;\n",
       "    }\n",
       "</style>\n",
       "<table border=\"1\" class=\"dataframe\">\n",
       "  <thead>\n",
       "    <tr style=\"text-align: right;\">\n",
       "      <th></th>\n",
       "      <th>a</th>\n",
       "      <th>b</th>\n",
       "      <th>c</th>\n",
       "    </tr>\n",
       "  </thead>\n",
       "  <tbody>\n",
       "    <tr>\n",
       "      <th>a</th>\n",
       "      <td>1.000000</td>\n",
       "      <td>-0.449048</td>\n",
       "      <td>-6.072194</td>\n",
       "    </tr>\n",
       "    <tr>\n",
       "      <th>b</th>\n",
       "      <td>-0.449048</td>\n",
       "      <td>1.000000</td>\n",
       "      <td>-0.541214</td>\n",
       "    </tr>\n",
       "    <tr>\n",
       "      <th>c</th>\n",
       "      <td>-6.072194</td>\n",
       "      <td>-0.541214</td>\n",
       "      <td>1.000000</td>\n",
       "    </tr>\n",
       "  </tbody>\n",
       "</table>\n",
       "</div>"
      ],
      "text/plain": [
       "          a         b         c\n",
       "a  1.000000 -0.449048 -6.072194\n",
       "b -0.449048  1.000000 -0.541214\n",
       "c -6.072194 -0.541214  1.000000"
      ]
     },
     "execution_count": 27,
     "metadata": {},
     "output_type": "execute_result"
    }
   ],
   "source": [
    "def histogram_intersection(a, b):\n",
    "    return np.minimum(np.true_divide(a, a.sum()), \n",
    "                      np.true_divide(b, b.sum())).sum()\n",
    "\n",
    "frame.corr(method=histogram_intersection)"
   ]
  },
  {
   "cell_type": "code",
   "execution_count": 28,
   "id": "presidential-ribbon",
   "metadata": {},
   "outputs": [
    {
     "data": {
      "text/plain": [
       "one      0.517229\n",
       "two     -0.014314\n",
       "three   -0.362604\n",
       "four    -0.563880\n",
       "dtype: float64"
      ]
     },
     "execution_count": 28,
     "metadata": {},
     "output_type": "execute_result"
    }
   ],
   "source": [
    "index = [\"a\", \"b\", \"c\", \"d\", \"e\"]\n",
    "columns = [\"one\", \"two\", \"three\", \"four\"]\n",
    "df1 = pd.DataFrame(np.random.randn(5, 4), index=index, columns=columns)\n",
    "df2 = pd.DataFrame(np.random.randn(4, 4), index=index[:4], columns=columns)\n",
    "\n",
    "df1.corrwith(df2)"
   ]
  },
  {
   "cell_type": "code",
   "execution_count": 30,
   "id": "compound-hopkins",
   "metadata": {},
   "outputs": [
    {
     "data": {
      "text/plain": [
       "a    1.688946\n",
       "b    1.489742\n",
       "c   -0.845329\n",
       "d    1.489742\n",
       "e    0.695434\n",
       "dtype: float64"
      ]
     },
     "execution_count": 30,
     "metadata": {},
     "output_type": "execute_result"
    }
   ],
   "source": [
    "s = pd.Series(np.random.randn(5), index=list(\"abcde\"))\n",
    "s[\"d\"] = s[\"b\"] # so there's a tie\n",
    "s.rank()"
   ]
  },
  {
   "cell_type": "code",
   "execution_count": 31,
   "id": "exempt-meaning",
   "metadata": {},
   "outputs": [
    {
     "data": {
      "text/plain": [
       "a    5.0\n",
       "b    3.5\n",
       "c    1.0\n",
       "d    3.5\n",
       "e    2.0\n",
       "dtype: float64"
      ]
     },
     "execution_count": 31,
     "metadata": {},
     "output_type": "execute_result"
    }
   ],
   "source": [
    "s.rank()"
   ]
  },
  {
   "cell_type": "code",
   "execution_count": 36,
   "id": "touched-tulsa",
   "metadata": {},
   "outputs": [
    {
     "data": {
      "text/html": [
       "<div>\n",
       "<style scoped>\n",
       "    .dataframe tbody tr th:only-of-type {\n",
       "        vertical-align: middle;\n",
       "    }\n",
       "\n",
       "    .dataframe tbody tr th {\n",
       "        vertical-align: top;\n",
       "    }\n",
       "\n",
       "    .dataframe thead th {\n",
       "        text-align: right;\n",
       "    }\n",
       "</style>\n",
       "<table border=\"1\" class=\"dataframe\">\n",
       "  <thead>\n",
       "    <tr style=\"text-align: right;\">\n",
       "      <th></th>\n",
       "      <th>0</th>\n",
       "      <th>1</th>\n",
       "      <th>2</th>\n",
       "      <th>3</th>\n",
       "      <th>4</th>\n",
       "      <th>5</th>\n",
       "    </tr>\n",
       "  </thead>\n",
       "  <tbody>\n",
       "    <tr>\n",
       "      <th>0</th>\n",
       "      <td>6.0</td>\n",
       "      <td>1.0</td>\n",
       "      <td>2.5</td>\n",
       "      <td>4.0</td>\n",
       "      <td>2.5</td>\n",
       "      <td>5.0</td>\n",
       "    </tr>\n",
       "    <tr>\n",
       "      <th>1</th>\n",
       "      <td>6.0</td>\n",
       "      <td>3.0</td>\n",
       "      <td>1.5</td>\n",
       "      <td>4.0</td>\n",
       "      <td>1.5</td>\n",
       "      <td>5.0</td>\n",
       "    </tr>\n",
       "    <tr>\n",
       "      <th>2</th>\n",
       "      <td>5.0</td>\n",
       "      <td>4.0</td>\n",
       "      <td>2.5</td>\n",
       "      <td>1.0</td>\n",
       "      <td>2.5</td>\n",
       "      <td>6.0</td>\n",
       "    </tr>\n",
       "    <tr>\n",
       "      <th>3</th>\n",
       "      <td>3.0</td>\n",
       "      <td>1.0</td>\n",
       "      <td>4.5</td>\n",
       "      <td>2.0</td>\n",
       "      <td>4.5</td>\n",
       "      <td>6.0</td>\n",
       "    </tr>\n",
       "    <tr>\n",
       "      <th>4</th>\n",
       "      <td>2.0</td>\n",
       "      <td>4.0</td>\n",
       "      <td>5.5</td>\n",
       "      <td>1.0</td>\n",
       "      <td>5.5</td>\n",
       "      <td>3.0</td>\n",
       "    </tr>\n",
       "    <tr>\n",
       "      <th>5</th>\n",
       "      <td>3.0</td>\n",
       "      <td>1.0</td>\n",
       "      <td>4.0</td>\n",
       "      <td>5.0</td>\n",
       "      <td>NaN</td>\n",
       "      <td>2.0</td>\n",
       "    </tr>\n",
       "    <tr>\n",
       "      <th>6</th>\n",
       "      <td>4.0</td>\n",
       "      <td>1.0</td>\n",
       "      <td>3.0</td>\n",
       "      <td>5.0</td>\n",
       "      <td>NaN</td>\n",
       "      <td>2.0</td>\n",
       "    </tr>\n",
       "    <tr>\n",
       "      <th>7</th>\n",
       "      <td>3.0</td>\n",
       "      <td>1.0</td>\n",
       "      <td>4.0</td>\n",
       "      <td>2.0</td>\n",
       "      <td>NaN</td>\n",
       "      <td>5.0</td>\n",
       "    </tr>\n",
       "    <tr>\n",
       "      <th>8</th>\n",
       "      <td>5.0</td>\n",
       "      <td>4.0</td>\n",
       "      <td>3.0</td>\n",
       "      <td>2.0</td>\n",
       "      <td>NaN</td>\n",
       "      <td>1.0</td>\n",
       "    </tr>\n",
       "    <tr>\n",
       "      <th>9</th>\n",
       "      <td>4.0</td>\n",
       "      <td>2.0</td>\n",
       "      <td>3.0</td>\n",
       "      <td>1.0</td>\n",
       "      <td>NaN</td>\n",
       "      <td>5.0</td>\n",
       "    </tr>\n",
       "  </tbody>\n",
       "</table>\n",
       "</div>"
      ],
      "text/plain": [
       "     0    1    2    3    4    5\n",
       "0  6.0  1.0  2.5  4.0  2.5  5.0\n",
       "1  6.0  3.0  1.5  4.0  1.5  5.0\n",
       "2  5.0  4.0  2.5  1.0  2.5  6.0\n",
       "3  3.0  1.0  4.5  2.0  4.5  6.0\n",
       "4  2.0  4.0  5.5  1.0  5.5  3.0\n",
       "5  3.0  1.0  4.0  5.0  NaN  2.0\n",
       "6  4.0  1.0  3.0  5.0  NaN  2.0\n",
       "7  3.0  1.0  4.0  2.0  NaN  5.0\n",
       "8  5.0  4.0  3.0  2.0  NaN  1.0\n",
       "9  4.0  2.0  3.0  1.0  NaN  5.0"
      ]
     },
     "execution_count": 36,
     "metadata": {},
     "output_type": "execute_result"
    }
   ],
   "source": [
    "df = pd.DataFrame(np.random.randn(10, 6))\n",
    "df[4] = df[2][:5] # some ties\n",
    "df.rank(1, ascending=False)"
   ]
  },
  {
   "cell_type": "markdown",
   "id": "earlier-winter",
   "metadata": {},
   "source": [
    "# Group by"
   ]
  },
  {
   "cell_type": "markdown",
   "id": "alternative-intervention",
   "metadata": {},
   "source": [
    "## 2.17.1 Splitting an object into groups"
   ]
  },
  {
   "cell_type": "code",
   "execution_count": 8,
   "id": "mental-alaska",
   "metadata": {},
   "outputs": [],
   "source": [
    "df = pd.DataFrame([\n",
    "    (\"bird\", \"Falconiformes\", 389.0),\n",
    "    (\"bird\", \"Psittaciformes\", 24.0),\n",
    "    (\"mammal\", \"Carnivora\", 80.2),\n",
    "    (\"mammal\", \"Primates\", np.nan),\n",
    "    (\"mammal\", \"Carnivora\", 58),\n",
    "],\n",
    "   index=[\"falcon\", \"parrot\", \"lion\", \"monkey\", \"leopard\"],\n",
    "   columns=(\"class\", \"order\", \"max_speed\"), \n",
    ")\n",
    "df\n",
    "\n",
    "\n",
    "# default is axis=0\n",
    "grouped = df.groupby('class')\n",
    "grouped = df.groupby('order', axis='columns')\n",
    "grouped = df.groupby([\"class\", \"order\"])"
   ]
  },
  {
   "cell_type": "code",
   "execution_count": 9,
   "id": "initial-level",
   "metadata": {},
   "outputs": [
    {
     "data": {
      "text/html": [
       "<div>\n",
       "<style scoped>\n",
       "    .dataframe tbody tr th:only-of-type {\n",
       "        vertical-align: middle;\n",
       "    }\n",
       "\n",
       "    .dataframe tbody tr th {\n",
       "        vertical-align: top;\n",
       "    }\n",
       "\n",
       "    .dataframe thead th {\n",
       "        text-align: right;\n",
       "    }\n",
       "</style>\n",
       "<table border=\"1\" class=\"dataframe\">\n",
       "  <thead>\n",
       "    <tr style=\"text-align: right;\">\n",
       "      <th></th>\n",
       "      <th>A</th>\n",
       "      <th>B</th>\n",
       "      <th>C</th>\n",
       "      <th>D</th>\n",
       "    </tr>\n",
       "  </thead>\n",
       "  <tbody>\n",
       "    <tr>\n",
       "      <th>0</th>\n",
       "      <td>foo</td>\n",
       "      <td>one</td>\n",
       "      <td>-0.410294</td>\n",
       "      <td>0.897230</td>\n",
       "    </tr>\n",
       "    <tr>\n",
       "      <th>1</th>\n",
       "      <td>bar</td>\n",
       "      <td>one</td>\n",
       "      <td>-1.665443</td>\n",
       "      <td>0.618558</td>\n",
       "    </tr>\n",
       "    <tr>\n",
       "      <th>2</th>\n",
       "      <td>foo</td>\n",
       "      <td>two</td>\n",
       "      <td>1.287168</td>\n",
       "      <td>0.623793</td>\n",
       "    </tr>\n",
       "    <tr>\n",
       "      <th>3</th>\n",
       "      <td>bar</td>\n",
       "      <td>three</td>\n",
       "      <td>0.572997</td>\n",
       "      <td>-1.969315</td>\n",
       "    </tr>\n",
       "    <tr>\n",
       "      <th>4</th>\n",
       "      <td>foo</td>\n",
       "      <td>two</td>\n",
       "      <td>0.505494</td>\n",
       "      <td>2.211682</td>\n",
       "    </tr>\n",
       "    <tr>\n",
       "      <th>5</th>\n",
       "      <td>bar</td>\n",
       "      <td>two</td>\n",
       "      <td>0.808721</td>\n",
       "      <td>-0.100760</td>\n",
       "    </tr>\n",
       "    <tr>\n",
       "      <th>6</th>\n",
       "      <td>foo</td>\n",
       "      <td>one</td>\n",
       "      <td>1.955959</td>\n",
       "      <td>1.619905</td>\n",
       "    </tr>\n",
       "    <tr>\n",
       "      <th>7</th>\n",
       "      <td>foo</td>\n",
       "      <td>three</td>\n",
       "      <td>-1.102080</td>\n",
       "      <td>-2.951034</td>\n",
       "    </tr>\n",
       "  </tbody>\n",
       "</table>\n",
       "</div>"
      ],
      "text/plain": [
       "     A      B         C         D\n",
       "0  foo    one -0.410294  0.897230\n",
       "1  bar    one -1.665443  0.618558\n",
       "2  foo    two  1.287168  0.623793\n",
       "3  bar  three  0.572997 -1.969315\n",
       "4  foo    two  0.505494  2.211682\n",
       "5  bar    two  0.808721 -0.100760\n",
       "6  foo    one  1.955959  1.619905\n",
       "7  foo  three -1.102080 -2.951034"
      ]
     },
     "execution_count": 9,
     "metadata": {},
     "output_type": "execute_result"
    }
   ],
   "source": [
    "df = pd.DataFrame({\n",
    "    \"A\": [\"foo\", \"bar\", \"foo\", \"bar\", \"foo\", \"bar\", \"foo\", \"foo\"],\n",
    "    \"B\": [\"one\", \"one\", \"two\", \"three\", \"two\", \"two\", \"one\", \"three\"],\n",
    "    \"C\": np.random.randn(8),\n",
    "    \"D\": np.random.randn(8),\n",
    "})\n",
    "df"
   ]
  },
  {
   "cell_type": "code",
   "execution_count": 15,
   "id": "fuzzy-business",
   "metadata": {},
   "outputs": [
    {
     "data": {
      "text/html": [
       "<div>\n",
       "<style scoped>\n",
       "    .dataframe tbody tr th:only-of-type {\n",
       "        vertical-align: middle;\n",
       "    }\n",
       "\n",
       "    .dataframe tbody tr th {\n",
       "        vertical-align: top;\n",
       "    }\n",
       "\n",
       "    .dataframe thead th {\n",
       "        text-align: right;\n",
       "    }\n",
       "</style>\n",
       "<table border=\"1\" class=\"dataframe\">\n",
       "  <thead>\n",
       "    <tr style=\"text-align: right;\">\n",
       "      <th></th>\n",
       "      <th>C</th>\n",
       "      <th>D</th>\n",
       "    </tr>\n",
       "    <tr>\n",
       "      <th>A</th>\n",
       "      <th></th>\n",
       "      <th></th>\n",
       "    </tr>\n",
       "  </thead>\n",
       "  <tbody>\n",
       "    <tr>\n",
       "      <th>bar</th>\n",
       "      <td>-0.283725</td>\n",
       "      <td>-1.451516</td>\n",
       "    </tr>\n",
       "    <tr>\n",
       "      <th>foo</th>\n",
       "      <td>2.236245</td>\n",
       "      <td>2.401575</td>\n",
       "    </tr>\n",
       "  </tbody>\n",
       "</table>\n",
       "</div>"
      ],
      "text/plain": [
       "            C         D\n",
       "A                      \n",
       "bar -0.283725 -1.451516\n",
       "foo  2.236245  2.401575"
      ]
     },
     "execution_count": 15,
     "metadata": {},
     "output_type": "execute_result"
    }
   ],
   "source": [
    "df2 = df.set_index([\"A\", \"B\"])\n",
    "grouped = df2.groupby(df2.index.names.difference([\"B\"]))\n",
    "grouped.sum()"
   ]
  },
  {
   "cell_type": "code",
   "execution_count": 19,
   "id": "conventional-clinton",
   "metadata": {},
   "outputs": [
    {
     "data": {
      "text/plain": [
       "consonant    [[one, -0.4102942797204193, 0.8972297170043543...\n",
       "vowel        [[foo], [bar], [foo], [bar], [foo], [bar], [fo...\n",
       "dtype: object"
      ]
     },
     "execution_count": 19,
     "metadata": {},
     "output_type": "execute_result"
    }
   ],
   "source": [
    "    def get_letter_type(letter):\n",
    "        if letter.lower() in 'aeiou':\n",
    "            return 'vowel'\n",
    "        else:\n",
    "            return 'consonant'\n",
    "    df.groupby(get_letter_type, axis=1).apply(lambda x: x.values)"
   ]
  },
  {
   "cell_type": "code",
   "execution_count": 24,
   "id": "breathing-genome",
   "metadata": {},
   "outputs": [
    {
     "data": {
      "text/plain": [
       "1    11\n",
       "2    22\n",
       "3    33\n",
       "dtype: int64"
      ]
     },
     "execution_count": 24,
     "metadata": {},
     "output_type": "execute_result"
    }
   ],
   "source": [
    "lst = [1, 2, 3, 1, 2, 3]\n",
    "s = pd.Series([1, 2, 3, 10, 20, 30], lst)\n",
    "grouped = s.groupby(level=0)\n",
    "grouped.first()\n",
    "grouped.last()\n",
    "grouped.sum()"
   ]
  },
  {
   "cell_type": "code",
   "execution_count": 27,
   "id": "graphic-timeline",
   "metadata": {},
   "outputs": [
    {
     "data": {
      "text/html": [
       "<div>\n",
       "<style scoped>\n",
       "    .dataframe tbody tr th:only-of-type {\n",
       "        vertical-align: middle;\n",
       "    }\n",
       "\n",
       "    .dataframe tbody tr th {\n",
       "        vertical-align: top;\n",
       "    }\n",
       "\n",
       "    .dataframe thead th {\n",
       "        text-align: right;\n",
       "    }\n",
       "</style>\n",
       "<table border=\"1\" class=\"dataframe\">\n",
       "  <thead>\n",
       "    <tr style=\"text-align: right;\">\n",
       "      <th></th>\n",
       "      <th>Y</th>\n",
       "    </tr>\n",
       "    <tr>\n",
       "      <th>X</th>\n",
       "      <th></th>\n",
       "    </tr>\n",
       "  </thead>\n",
       "  <tbody>\n",
       "    <tr>\n",
       "      <th>A</th>\n",
       "      <td>7</td>\n",
       "    </tr>\n",
       "    <tr>\n",
       "      <th>B</th>\n",
       "      <td>3</td>\n",
       "    </tr>\n",
       "  </tbody>\n",
       "</table>\n",
       "</div>"
      ],
      "text/plain": [
       "   Y\n",
       "X   \n",
       "A  7\n",
       "B  3"
      ]
     },
     "execution_count": 27,
     "metadata": {},
     "output_type": "execute_result"
    }
   ],
   "source": [
    "df2 = pd.DataFrame({\"X\": [\"B\", \"B\", \"A\", \"A\"], \"Y\": [1, 2, 3, 4]})\n",
    "df2.groupby('X', sort=False).sum()\n",
    "df2.groupby('X').sum()"
   ]
  },
  {
   "cell_type": "code",
   "execution_count": 30,
   "id": "approved-material",
   "metadata": {},
   "outputs": [
    {
     "data": {
      "text/html": [
       "<div>\n",
       "<style scoped>\n",
       "    .dataframe tbody tr th:only-of-type {\n",
       "        vertical-align: middle;\n",
       "    }\n",
       "\n",
       "    .dataframe tbody tr th {\n",
       "        vertical-align: top;\n",
       "    }\n",
       "\n",
       "    .dataframe thead th {\n",
       "        text-align: right;\n",
       "    }\n",
       "</style>\n",
       "<table border=\"1\" class=\"dataframe\">\n",
       "  <thead>\n",
       "    <tr style=\"text-align: right;\">\n",
       "      <th></th>\n",
       "      <th>X</th>\n",
       "      <th>Y</th>\n",
       "    </tr>\n",
       "  </thead>\n",
       "  <tbody>\n",
       "    <tr>\n",
       "      <th>1</th>\n",
       "      <td>B</td>\n",
       "      <td>4</td>\n",
       "    </tr>\n",
       "    <tr>\n",
       "      <th>3</th>\n",
       "      <td>B</td>\n",
       "      <td>2</td>\n",
       "    </tr>\n",
       "  </tbody>\n",
       "</table>\n",
       "</div>"
      ],
      "text/plain": [
       "   X  Y\n",
       "1  B  4\n",
       "3  B  2"
      ]
     },
     "execution_count": 30,
     "metadata": {},
     "output_type": "execute_result"
    }
   ],
   "source": [
    "df3 = pd.DataFrame({\"X\": [\"A\", \"B\", \"A\", \"B\"], \"Y\": [1, 4, 3, 2]})\n",
    "df3.groupby('X').get_group('A')\n",
    "df3.groupby('X').get_group('B')"
   ]
  },
  {
   "cell_type": "code",
   "execution_count": 34,
   "id": "frozen-vision",
   "metadata": {},
   "outputs": [
    {
     "data": {
      "text/html": [
       "<div>\n",
       "<style scoped>\n",
       "    .dataframe tbody tr th:only-of-type {\n",
       "        vertical-align: middle;\n",
       "    }\n",
       "\n",
       "    .dataframe tbody tr th {\n",
       "        vertical-align: top;\n",
       "    }\n",
       "\n",
       "    .dataframe thead th {\n",
       "        text-align: right;\n",
       "    }\n",
       "</style>\n",
       "<table border=\"1\" class=\"dataframe\">\n",
       "  <thead>\n",
       "    <tr style=\"text-align: right;\">\n",
       "      <th></th>\n",
       "      <th>a</th>\n",
       "      <th>c</th>\n",
       "    </tr>\n",
       "    <tr>\n",
       "      <th>b</th>\n",
       "      <th></th>\n",
       "      <th></th>\n",
       "    </tr>\n",
       "  </thead>\n",
       "  <tbody>\n",
       "    <tr>\n",
       "      <th>1.0</th>\n",
       "      <td>2</td>\n",
       "      <td>3</td>\n",
       "    </tr>\n",
       "    <tr>\n",
       "      <th>2.0</th>\n",
       "      <td>2</td>\n",
       "      <td>5</td>\n",
       "    </tr>\n",
       "    <tr>\n",
       "      <th>NaN</th>\n",
       "      <td>1</td>\n",
       "      <td>4</td>\n",
       "    </tr>\n",
       "  </tbody>\n",
       "</table>\n",
       "</div>"
      ],
      "text/plain": [
       "     a  c\n",
       "b        \n",
       "1.0  2  3\n",
       "2.0  2  5\n",
       "NaN  1  4"
      ]
     },
     "execution_count": 34,
     "metadata": {},
     "output_type": "execute_result"
    }
   ],
   "source": [
    "df_list = [[1, 2, 3], [1, None, 4], [2, 1, 3], [1, 2, 2]]\n",
    "df_dna = pd.DataFrame(df_list, columns=[\"a\", \"b\", \"c\"])\n",
    "df_dna\n",
    "\n",
    "# Default ``dropna`` is set to True, which will exclude NaNs in keys\n",
    "df_dna.groupby(by=\"b\").sum()\n",
    "df_dna.groupby(by=\"b\", dropna=False).sum()"
   ]
  },
  {
   "cell_type": "code",
   "execution_count": 41,
   "id": "vulnerable-rainbow",
   "metadata": {},
   "outputs": [
    {
     "data": {
      "text/plain": [
       "{'bar': [1, 3, 5], 'foo': [0, 2, 4, 6, 7]}"
      ]
     },
     "execution_count": 41,
     "metadata": {},
     "output_type": "execute_result"
    }
   ],
   "source": [
    "df.groupby('A').groups"
   ]
  },
  {
   "cell_type": "code",
   "execution_count": 42,
   "id": "together-restriction",
   "metadata": {},
   "outputs": [
    {
     "data": {
      "text/plain": [
       "{'consonant': ['B', 'C', 'D'], 'vowel': ['A']}"
      ]
     },
     "execution_count": 42,
     "metadata": {},
     "output_type": "execute_result"
    }
   ],
   "source": [
    " df.groupby(get_letter_type, axis=1).groups"
   ]
  },
  {
   "cell_type": "code",
   "execution_count": 46,
   "id": "neither-purse",
   "metadata": {},
   "outputs": [
    {
     "data": {
      "text/plain": [
       "6"
      ]
     },
     "execution_count": 46,
     "metadata": {},
     "output_type": "execute_result"
    }
   ],
   "source": [
    "df\n",
    "grouped = df.groupby(['A','B'])\n",
    "grouped.groups\n",
    "len(grouped)"
   ]
  },
  {
   "cell_type": "code",
   "execution_count": 55,
   "id": "comprehensive-sydney",
   "metadata": {},
   "outputs": [
    {
     "data": {
      "text/plain": [
       "<pandas.core.groupby.generic.DataFrameGroupBy object at 0x1294b5e50>"
      ]
     },
     "execution_count": 55,
     "metadata": {},
     "output_type": "execute_result"
    }
   ],
   "source": [
    "d=\"\"\"date,height,weight,gender\n",
    "2000-01-01,42.849980,157.500553,male\n",
    "2000-01-02,49.607315,177.340407,male\n",
    "2000-01-03,56.293531,171.524640,male\n",
    "2000-01-04,48.421077,144.251986,female\n",
    "2000-01-05,46.556882,152.526206,male\n",
    "2000-01-06,68.448851,168.272968,female\n",
    "2000-01-07,70.757698,136.431469,male\n",
    "2000-01-08,58.909500,176.499753,female\n",
    "2000-01-09,76.435631,174.094104,female\n",
    "2000-01-10,45.306120,177.540920,male\"\"\"\n",
    "df=g(d)\n",
    "df['date'] = pd.to_datetime(df.date)\n",
    "df = df.set_index('date')\n",
    "gb = df.groupby('gender')\n",
    "gb.<TAB>"
   ]
  },
  {
   "cell_type": "code",
   "execution_count": 59,
   "id": "affecting-noise",
   "metadata": {},
   "outputs": [
    {
     "data": {
      "text/plain": [
       "second\n",
       "one    0.820280\n",
       "two    1.880629\n",
       "dtype: float64"
      ]
     },
     "execution_count": 59,
     "metadata": {},
     "output_type": "execute_result"
    }
   ],
   "source": [
    "arrays = [\n",
    "    [\"bar\", \"bar\", \"baz\", \"baz\", \"foo\", \"foo\", \"qux\", \"qux\"],\n",
    "    [\"one\", \"two\", \"one\", \"two\", \"one\", \"two\", \"one\", \"two\"],\n",
    "]\n",
    "index = pd.MultiIndex.from_arrays(arrays, names=['first', 'second'])\n",
    "s = pd.Series(np.random.rand(8), index=index)\n",
    "s\n",
    "\n",
    "# We can then group by one of the levels in s.\n",
    "grouped = s.groupby(level=1)\n",
    "grouped.sum()\n",
    "\n",
    "# If the MultiIndex has names specified, these can be passed instead of the level number:\n",
    "s.groupby(level='second').sum()\n"
   ]
  },
  {
   "cell_type": "code",
   "execution_count": 60,
   "id": "fluid-implement",
   "metadata": {},
   "outputs": [
    {
     "data": {
      "text/plain": [
       "second\n",
       "one    0.820280\n",
       "two    1.880629\n",
       "dtype: float64"
      ]
     },
     "execution_count": 60,
     "metadata": {},
     "output_type": "execute_result"
    }
   ],
   "source": [
    "s.sum(level='second')"
   ]
  },
  {
   "cell_type": "code",
   "execution_count": 66,
   "id": "exotic-fifty",
   "metadata": {},
   "outputs": [
    {
     "data": {
      "text/html": [
       "<div>\n",
       "<style scoped>\n",
       "    .dataframe tbody tr th:only-of-type {\n",
       "        vertical-align: middle;\n",
       "    }\n",
       "\n",
       "    .dataframe tbody tr th {\n",
       "        vertical-align: top;\n",
       "    }\n",
       "\n",
       "    .dataframe thead th {\n",
       "        text-align: right;\n",
       "    }\n",
       "</style>\n",
       "<table border=\"1\" class=\"dataframe\">\n",
       "  <thead>\n",
       "    <tr style=\"text-align: right;\">\n",
       "      <th></th>\n",
       "      <th></th>\n",
       "      <th>B</th>\n",
       "    </tr>\n",
       "    <tr>\n",
       "      <th>A</th>\n",
       "      <th>second</th>\n",
       "      <th></th>\n",
       "    </tr>\n",
       "  </thead>\n",
       "  <tbody>\n",
       "    <tr>\n",
       "      <th rowspan=\"2\" valign=\"top\">1</th>\n",
       "      <th>one</th>\n",
       "      <td>2</td>\n",
       "    </tr>\n",
       "    <tr>\n",
       "      <th>two</th>\n",
       "      <td>4</td>\n",
       "    </tr>\n",
       "    <tr>\n",
       "      <th rowspan=\"2\" valign=\"top\">2</th>\n",
       "      <th>one</th>\n",
       "      <td>4</td>\n",
       "    </tr>\n",
       "    <tr>\n",
       "      <th>two</th>\n",
       "      <td>5</td>\n",
       "    </tr>\n",
       "    <tr>\n",
       "      <th rowspan=\"2\" valign=\"top\">3</th>\n",
       "      <th>one</th>\n",
       "      <td>6</td>\n",
       "    </tr>\n",
       "    <tr>\n",
       "      <th>two</th>\n",
       "      <td>7</td>\n",
       "    </tr>\n",
       "  </tbody>\n",
       "</table>\n",
       "</div>"
      ],
      "text/plain": [
       "          B\n",
       "A second   \n",
       "1 one     2\n",
       "  two     4\n",
       "2 one     4\n",
       "  two     5\n",
       "3 one     6\n",
       "  two     7"
      ]
     },
     "execution_count": 66,
     "metadata": {},
     "output_type": "execute_result"
    }
   ],
   "source": [
    "arrays = [[\"bar\", \"bar\", \"baz\", \"baz\", \"foo\", \"foo\", \"qux\", \"qux\"],\n",
    "          [\"one\", \"two\", \"one\", \"two\", \"one\", \"two\", \"one\", \"two\"],\n",
    "         ]\n",
    "index = pd.MultiIndex.from_arrays(arrays, names=['first', 'second'])\n",
    "df = pd.DataFrame({\"A\": [1, 1, 1, 1, 2, 2, 3, 3], \"B\": np.arange(8)},\n",
    "                  index=index)\n",
    "df.groupby(['A', pd.Grouper(level=1)]).sum()\n",
    "df.groupby(['A', pd.Grouper(level='second')]).sum()\n"
   ]
  },
  {
   "cell_type": "code",
   "execution_count": 69,
   "id": "arranged-sociology",
   "metadata": {},
   "outputs": [
    {
     "data": {
      "text/html": [
       "<div>\n",
       "<style scoped>\n",
       "    .dataframe tbody tr th:only-of-type {\n",
       "        vertical-align: middle;\n",
       "    }\n",
       "\n",
       "    .dataframe tbody tr th {\n",
       "        vertical-align: top;\n",
       "    }\n",
       "\n",
       "    .dataframe thead th {\n",
       "        text-align: right;\n",
       "    }\n",
       "</style>\n",
       "<table border=\"1\" class=\"dataframe\">\n",
       "  <thead>\n",
       "    <tr style=\"text-align: right;\">\n",
       "      <th></th>\n",
       "      <th></th>\n",
       "      <th>B</th>\n",
       "    </tr>\n",
       "    <tr>\n",
       "      <th>second</th>\n",
       "      <th>A</th>\n",
       "      <th></th>\n",
       "    </tr>\n",
       "  </thead>\n",
       "  <tbody>\n",
       "    <tr>\n",
       "      <th rowspan=\"3\" valign=\"top\">one</th>\n",
       "      <th>1</th>\n",
       "      <td>2</td>\n",
       "    </tr>\n",
       "    <tr>\n",
       "      <th>2</th>\n",
       "      <td>4</td>\n",
       "    </tr>\n",
       "    <tr>\n",
       "      <th>3</th>\n",
       "      <td>6</td>\n",
       "    </tr>\n",
       "    <tr>\n",
       "      <th rowspan=\"3\" valign=\"top\">two</th>\n",
       "      <th>1</th>\n",
       "      <td>4</td>\n",
       "    </tr>\n",
       "    <tr>\n",
       "      <th>2</th>\n",
       "      <td>5</td>\n",
       "    </tr>\n",
       "    <tr>\n",
       "      <th>3</th>\n",
       "      <td>7</td>\n",
       "    </tr>\n",
       "  </tbody>\n",
       "</table>\n",
       "</div>"
      ],
      "text/plain": [
       "          B\n",
       "second A   \n",
       "one    1  2\n",
       "       2  4\n",
       "       3  6\n",
       "two    1  4\n",
       "       2  5\n",
       "       3  7"
      ]
     },
     "execution_count": 69,
     "metadata": {},
     "output_type": "execute_result"
    }
   ],
   "source": [
    "df.groupby(['second','A',]).sum()"
   ]
  },
  {
   "cell_type": "code",
   "execution_count": 73,
   "id": "designed-sydney",
   "metadata": {},
   "outputs": [
    {
     "name": "stdout",
     "output_type": "stream",
     "text": [
      "<pandas.core.groupby.generic.SeriesGroupBy object at 0x129db3340>\n"
     ]
    },
    {
     "data": {
      "text/plain": [
       "<pandas.core.groupby.generic.SeriesGroupBy object at 0x129da6970>"
      ]
     },
     "execution_count": 73,
     "metadata": {},
     "output_type": "execute_result"
    }
   ],
   "source": [
    "df = pd.DataFrame({\n",
    "    \"A\": [\"foo\", \"bar\", \"foo\", \"bar\", \"foo\", \"bar\", \"foo\", \"foo\"],\n",
    "    \"B\": [\"one\", \"one\", \"two\", \"three\", \"two\", \"two\", \"one\", \"three\"],\n",
    "    \"C\": np.random.randn(8),\n",
    "    \"D\": np.random.randn(8),\n",
    "})\n",
    "grouped = df.groupby([\"A\"])\n",
    "grouped['C']\n",
    "grouped.D"
   ]
  },
  {
   "cell_type": "code",
   "execution_count": 85,
   "id": "arbitrary-longer",
   "metadata": {},
   "outputs": [
    {
     "name": "stdout",
     "output_type": "stream",
     "text": [
      "bar\n",
      "     A      B         C         D\n",
      "1  bar    one  0.477848  0.671811\n",
      "3  bar  three -0.005963  0.162831\n",
      "5  bar    two -1.771557  0.554359\n",
      "foo\n",
      "     A      B         C         D\n",
      "0  foo    one  1.187529 -1.074000\n",
      "2  foo    two -0.348865  0.370527\n",
      "4  foo    two -0.679904  0.135304\n",
      "6  foo    one  1.609646 -0.824627\n",
      "7  foo  three  0.815822  2.583978\n"
     ]
    }
   ],
   "source": [
    "grouped = df.groupby('A')\n",
    "for name, group in grouped:\n",
    "    print(name)\n",
    "    print(group)"
   ]
  },
  {
   "cell_type": "code",
   "execution_count": 87,
   "id": "precious-sculpture",
   "metadata": {},
   "outputs": [
    {
     "name": "stdout",
     "output_type": "stream",
     "text": [
      "('bar', 'one')\n",
      "     A    B         C         D\n",
      "1  bar  one  0.477848  0.671811\n",
      "('bar', 'three')\n",
      "     A      B         C         D\n",
      "3  bar  three -0.005963  0.162831\n",
      "('bar', 'two')\n",
      "     A    B         C         D\n",
      "5  bar  two -1.771557  0.554359\n",
      "('foo', 'one')\n",
      "     A    B         C         D\n",
      "0  foo  one  1.187529 -1.074000\n",
      "6  foo  one  1.609646 -0.824627\n",
      "('foo', 'three')\n",
      "     A      B         C         D\n",
      "7  foo  three  0.815822  2.583978\n",
      "('foo', 'two')\n",
      "     A    B         C         D\n",
      "2  foo  two -0.348865  0.370527\n",
      "4  foo  two -0.679904  0.135304\n"
     ]
    }
   ],
   "source": [
    "for name, group in df.groupby(['A','B']):\n",
    "    print(name)\n",
    "    print(group)"
   ]
  },
  {
   "cell_type": "code",
   "execution_count": 88,
   "id": "thermal-disposition",
   "metadata": {},
   "outputs": [
    {
     "data": {
      "text/html": [
       "<div>\n",
       "<style scoped>\n",
       "    .dataframe tbody tr th:only-of-type {\n",
       "        vertical-align: middle;\n",
       "    }\n",
       "\n",
       "    .dataframe tbody tr th {\n",
       "        vertical-align: top;\n",
       "    }\n",
       "\n",
       "    .dataframe thead th {\n",
       "        text-align: right;\n",
       "    }\n",
       "</style>\n",
       "<table border=\"1\" class=\"dataframe\">\n",
       "  <thead>\n",
       "    <tr style=\"text-align: right;\">\n",
       "      <th></th>\n",
       "      <th>A</th>\n",
       "      <th>B</th>\n",
       "      <th>C</th>\n",
       "      <th>D</th>\n",
       "    </tr>\n",
       "  </thead>\n",
       "  <tbody>\n",
       "    <tr>\n",
       "      <th>1</th>\n",
       "      <td>bar</td>\n",
       "      <td>one</td>\n",
       "      <td>0.477848</td>\n",
       "      <td>0.671811</td>\n",
       "    </tr>\n",
       "    <tr>\n",
       "      <th>3</th>\n",
       "      <td>bar</td>\n",
       "      <td>three</td>\n",
       "      <td>-0.005963</td>\n",
       "      <td>0.162831</td>\n",
       "    </tr>\n",
       "    <tr>\n",
       "      <th>5</th>\n",
       "      <td>bar</td>\n",
       "      <td>two</td>\n",
       "      <td>-1.771557</td>\n",
       "      <td>0.554359</td>\n",
       "    </tr>\n",
       "  </tbody>\n",
       "</table>\n",
       "</div>"
      ],
      "text/plain": [
       "     A      B         C         D\n",
       "1  bar    one  0.477848  0.671811\n",
       "3  bar  three -0.005963  0.162831\n",
       "5  bar    two -1.771557  0.554359"
      ]
     },
     "execution_count": 88,
     "metadata": {},
     "output_type": "execute_result"
    }
   ],
   "source": [
    "grouped = df.groupby([\"A\"])\n",
    "grouped.get_group('bar')"
   ]
  },
  {
   "cell_type": "code",
   "execution_count": 91,
   "id": "cheap-interface",
   "metadata": {},
   "outputs": [
    {
     "data": {
      "text/html": [
       "<div>\n",
       "<style scoped>\n",
       "    .dataframe tbody tr th:only-of-type {\n",
       "        vertical-align: middle;\n",
       "    }\n",
       "\n",
       "    .dataframe tbody tr th {\n",
       "        vertical-align: top;\n",
       "    }\n",
       "\n",
       "    .dataframe thead th {\n",
       "        text-align: right;\n",
       "    }\n",
       "</style>\n",
       "<table border=\"1\" class=\"dataframe\">\n",
       "  <thead>\n",
       "    <tr style=\"text-align: right;\">\n",
       "      <th></th>\n",
       "      <th>A</th>\n",
       "      <th>B</th>\n",
       "      <th>C</th>\n",
       "      <th>D</th>\n",
       "    </tr>\n",
       "  </thead>\n",
       "  <tbody>\n",
       "    <tr>\n",
       "      <th>1</th>\n",
       "      <td>bar</td>\n",
       "      <td>one</td>\n",
       "      <td>0.477848</td>\n",
       "      <td>0.671811</td>\n",
       "    </tr>\n",
       "  </tbody>\n",
       "</table>\n",
       "</div>"
      ],
      "text/plain": [
       "     A    B         C         D\n",
       "1  bar  one  0.477848  0.671811"
      ]
     },
     "execution_count": 91,
     "metadata": {},
     "output_type": "execute_result"
    }
   ],
   "source": [
    "df.groupby(['A','B']).get_group(('bar', 'one'))"
   ]
  },
  {
   "cell_type": "code",
   "execution_count": 93,
   "id": "alert-prairie",
   "metadata": {},
   "outputs": [
    {
     "data": {
      "text/html": [
       "<div>\n",
       "<style scoped>\n",
       "    .dataframe tbody tr th:only-of-type {\n",
       "        vertical-align: middle;\n",
       "    }\n",
       "\n",
       "    .dataframe tbody tr th {\n",
       "        vertical-align: top;\n",
       "    }\n",
       "\n",
       "    .dataframe thead th {\n",
       "        text-align: right;\n",
       "    }\n",
       "</style>\n",
       "<table border=\"1\" class=\"dataframe\">\n",
       "  <thead>\n",
       "    <tr style=\"text-align: right;\">\n",
       "      <th></th>\n",
       "      <th></th>\n",
       "      <th>C</th>\n",
       "      <th>D</th>\n",
       "    </tr>\n",
       "    <tr>\n",
       "      <th>A</th>\n",
       "      <th>B</th>\n",
       "      <th></th>\n",
       "      <th></th>\n",
       "    </tr>\n",
       "  </thead>\n",
       "  <tbody>\n",
       "    <tr>\n",
       "      <th rowspan=\"3\" valign=\"top\">bar</th>\n",
       "      <th>one</th>\n",
       "      <td>0.477848</td>\n",
       "      <td>0.671811</td>\n",
       "    </tr>\n",
       "    <tr>\n",
       "      <th>three</th>\n",
       "      <td>-0.005963</td>\n",
       "      <td>0.162831</td>\n",
       "    </tr>\n",
       "    <tr>\n",
       "      <th>two</th>\n",
       "      <td>-1.771557</td>\n",
       "      <td>0.554359</td>\n",
       "    </tr>\n",
       "    <tr>\n",
       "      <th rowspan=\"3\" valign=\"top\">foo</th>\n",
       "      <th>one</th>\n",
       "      <td>2.797174</td>\n",
       "      <td>-1.898627</td>\n",
       "    </tr>\n",
       "    <tr>\n",
       "      <th>three</th>\n",
       "      <td>0.815822</td>\n",
       "      <td>2.583978</td>\n",
       "    </tr>\n",
       "    <tr>\n",
       "      <th>two</th>\n",
       "      <td>-1.028769</td>\n",
       "      <td>0.505831</td>\n",
       "    </tr>\n",
       "  </tbody>\n",
       "</table>\n",
       "</div>"
      ],
      "text/plain": [
       "                  C         D\n",
       "A   B                        \n",
       "bar one    0.477848  0.671811\n",
       "    three -0.005963  0.162831\n",
       "    two   -1.771557  0.554359\n",
       "foo one    2.797174 -1.898627\n",
       "    three  0.815822  2.583978\n",
       "    two   -1.028769  0.505831"
      ]
     },
     "execution_count": 93,
     "metadata": {},
     "output_type": "execute_result"
    }
   ],
   "source": [
    "grouped = df.groupby(\"A\")\n",
    "grouped.aggregate(np.sum)\n",
    "\n",
    "grouped = df.groupby(['A', 'B'])\n",
    "grouped.aggregate(np.sum)"
   ]
  },
  {
   "cell_type": "code",
   "execution_count": 96,
   "id": "nonprofit-period",
   "metadata": {},
   "outputs": [
    {
     "data": {
      "text/html": [
       "<div>\n",
       "<style scoped>\n",
       "    .dataframe tbody tr th:only-of-type {\n",
       "        vertical-align: middle;\n",
       "    }\n",
       "\n",
       "    .dataframe tbody tr th {\n",
       "        vertical-align: top;\n",
       "    }\n",
       "\n",
       "    .dataframe thead th {\n",
       "        text-align: right;\n",
       "    }\n",
       "</style>\n",
       "<table border=\"1\" class=\"dataframe\">\n",
       "  <thead>\n",
       "    <tr style=\"text-align: right;\">\n",
       "      <th></th>\n",
       "      <th>A</th>\n",
       "      <th>C</th>\n",
       "      <th>D</th>\n",
       "    </tr>\n",
       "  </thead>\n",
       "  <tbody>\n",
       "    <tr>\n",
       "      <th>0</th>\n",
       "      <td>bar</td>\n",
       "      <td>-1.299672</td>\n",
       "      <td>1.389001</td>\n",
       "    </tr>\n",
       "    <tr>\n",
       "      <th>1</th>\n",
       "      <td>foo</td>\n",
       "      <td>2.584228</td>\n",
       "      <td>1.191182</td>\n",
       "    </tr>\n",
       "  </tbody>\n",
       "</table>\n",
       "</div>"
      ],
      "text/plain": [
       "     A         C         D\n",
       "0  bar -1.299672  1.389001\n",
       "1  foo  2.584228  1.191182"
      ]
     },
     "execution_count": 96,
     "metadata": {},
     "output_type": "execute_result"
    }
   ],
   "source": [
    "grouped = df.groupby([\"A\", \"B\"], as_index=False)\n",
    "grouped.aggregate(sum)\n",
    "\n",
    "df.groupby(\"A\", as_index=False).sum()"
   ]
  },
  {
   "cell_type": "code",
   "execution_count": 98,
   "id": "placed-mistake",
   "metadata": {},
   "outputs": [
    {
     "data": {
      "text/html": [
       "<div>\n",
       "<style scoped>\n",
       "    .dataframe tbody tr th:only-of-type {\n",
       "        vertical-align: middle;\n",
       "    }\n",
       "\n",
       "    .dataframe tbody tr th {\n",
       "        vertical-align: top;\n",
       "    }\n",
       "\n",
       "    .dataframe thead tr th {\n",
       "        text-align: left;\n",
       "    }\n",
       "</style>\n",
       "<table border=\"1\" class=\"dataframe\">\n",
       "  <thead>\n",
       "    <tr>\n",
       "      <th></th>\n",
       "      <th colspan=\"8\" halign=\"left\">C</th>\n",
       "      <th colspan=\"8\" halign=\"left\">D</th>\n",
       "    </tr>\n",
       "    <tr>\n",
       "      <th></th>\n",
       "      <th>count</th>\n",
       "      <th>mean</th>\n",
       "      <th>std</th>\n",
       "      <th>min</th>\n",
       "      <th>25%</th>\n",
       "      <th>50%</th>\n",
       "      <th>75%</th>\n",
       "      <th>max</th>\n",
       "      <th>count</th>\n",
       "      <th>mean</th>\n",
       "      <th>std</th>\n",
       "      <th>min</th>\n",
       "      <th>25%</th>\n",
       "      <th>50%</th>\n",
       "      <th>75%</th>\n",
       "      <th>max</th>\n",
       "    </tr>\n",
       "  </thead>\n",
       "  <tbody>\n",
       "    <tr>\n",
       "      <th>0</th>\n",
       "      <td>1.0</td>\n",
       "      <td>0.477848</td>\n",
       "      <td>NaN</td>\n",
       "      <td>0.477848</td>\n",
       "      <td>0.477848</td>\n",
       "      <td>0.477848</td>\n",
       "      <td>0.477848</td>\n",
       "      <td>0.477848</td>\n",
       "      <td>1.0</td>\n",
       "      <td>0.671811</td>\n",
       "      <td>NaN</td>\n",
       "      <td>0.671811</td>\n",
       "      <td>0.671811</td>\n",
       "      <td>0.671811</td>\n",
       "      <td>0.671811</td>\n",
       "      <td>0.671811</td>\n",
       "    </tr>\n",
       "    <tr>\n",
       "      <th>1</th>\n",
       "      <td>1.0</td>\n",
       "      <td>-0.005963</td>\n",
       "      <td>NaN</td>\n",
       "      <td>-0.005963</td>\n",
       "      <td>-0.005963</td>\n",
       "      <td>-0.005963</td>\n",
       "      <td>-0.005963</td>\n",
       "      <td>-0.005963</td>\n",
       "      <td>1.0</td>\n",
       "      <td>0.162831</td>\n",
       "      <td>NaN</td>\n",
       "      <td>0.162831</td>\n",
       "      <td>0.162831</td>\n",
       "      <td>0.162831</td>\n",
       "      <td>0.162831</td>\n",
       "      <td>0.162831</td>\n",
       "    </tr>\n",
       "    <tr>\n",
       "      <th>2</th>\n",
       "      <td>1.0</td>\n",
       "      <td>-1.771557</td>\n",
       "      <td>NaN</td>\n",
       "      <td>-1.771557</td>\n",
       "      <td>-1.771557</td>\n",
       "      <td>-1.771557</td>\n",
       "      <td>-1.771557</td>\n",
       "      <td>-1.771557</td>\n",
       "      <td>1.0</td>\n",
       "      <td>0.554359</td>\n",
       "      <td>NaN</td>\n",
       "      <td>0.554359</td>\n",
       "      <td>0.554359</td>\n",
       "      <td>0.554359</td>\n",
       "      <td>0.554359</td>\n",
       "      <td>0.554359</td>\n",
       "    </tr>\n",
       "    <tr>\n",
       "      <th>3</th>\n",
       "      <td>2.0</td>\n",
       "      <td>1.398587</td>\n",
       "      <td>0.298482</td>\n",
       "      <td>1.187529</td>\n",
       "      <td>1.293058</td>\n",
       "      <td>1.398587</td>\n",
       "      <td>1.504117</td>\n",
       "      <td>1.609646</td>\n",
       "      <td>2.0</td>\n",
       "      <td>-0.949313</td>\n",
       "      <td>0.176333</td>\n",
       "      <td>-1.074000</td>\n",
       "      <td>-1.011657</td>\n",
       "      <td>-0.949313</td>\n",
       "      <td>-0.886970</td>\n",
       "      <td>-0.824627</td>\n",
       "    </tr>\n",
       "    <tr>\n",
       "      <th>4</th>\n",
       "      <td>1.0</td>\n",
       "      <td>0.815822</td>\n",
       "      <td>NaN</td>\n",
       "      <td>0.815822</td>\n",
       "      <td>0.815822</td>\n",
       "      <td>0.815822</td>\n",
       "      <td>0.815822</td>\n",
       "      <td>0.815822</td>\n",
       "      <td>1.0</td>\n",
       "      <td>2.583978</td>\n",
       "      <td>NaN</td>\n",
       "      <td>2.583978</td>\n",
       "      <td>2.583978</td>\n",
       "      <td>2.583978</td>\n",
       "      <td>2.583978</td>\n",
       "      <td>2.583978</td>\n",
       "    </tr>\n",
       "    <tr>\n",
       "      <th>5</th>\n",
       "      <td>2.0</td>\n",
       "      <td>-0.514384</td>\n",
       "      <td>0.234080</td>\n",
       "      <td>-0.679904</td>\n",
       "      <td>-0.597144</td>\n",
       "      <td>-0.514384</td>\n",
       "      <td>-0.431625</td>\n",
       "      <td>-0.348865</td>\n",
       "      <td>2.0</td>\n",
       "      <td>0.252916</td>\n",
       "      <td>0.166328</td>\n",
       "      <td>0.135304</td>\n",
       "      <td>0.194110</td>\n",
       "      <td>0.252916</td>\n",
       "      <td>0.311722</td>\n",
       "      <td>0.370527</td>\n",
       "    </tr>\n",
       "  </tbody>\n",
       "</table>\n",
       "</div>"
      ],
      "text/plain": [
       "      C                                                                        \\\n",
       "  count      mean       std       min       25%       50%       75%       max   \n",
       "0   1.0  0.477848       NaN  0.477848  0.477848  0.477848  0.477848  0.477848   \n",
       "1   1.0 -0.005963       NaN -0.005963 -0.005963 -0.005963 -0.005963 -0.005963   \n",
       "2   1.0 -1.771557       NaN -1.771557 -1.771557 -1.771557 -1.771557 -1.771557   \n",
       "3   2.0  1.398587  0.298482  1.187529  1.293058  1.398587  1.504117  1.609646   \n",
       "4   1.0  0.815822       NaN  0.815822  0.815822  0.815822  0.815822  0.815822   \n",
       "5   2.0 -0.514384  0.234080 -0.679904 -0.597144 -0.514384 -0.431625 -0.348865   \n",
       "\n",
       "      D                                                                        \n",
       "  count      mean       std       min       25%       50%       75%       max  \n",
       "0   1.0  0.671811       NaN  0.671811  0.671811  0.671811  0.671811  0.671811  \n",
       "1   1.0  0.162831       NaN  0.162831  0.162831  0.162831  0.162831  0.162831  \n",
       "2   1.0  0.554359       NaN  0.554359  0.554359  0.554359  0.554359  0.554359  \n",
       "3   2.0 -0.949313  0.176333 -1.074000 -1.011657 -0.949313 -0.886970 -0.824627  \n",
       "4   1.0  2.583978       NaN  2.583978  2.583978  2.583978  2.583978  2.583978  \n",
       "5   2.0  0.252916  0.166328  0.135304  0.194110  0.252916  0.311722  0.370527  "
      ]
     },
     "execution_count": 98,
     "metadata": {},
     "output_type": "execute_result"
    }
   ],
   "source": [
    "grouped.size()\n",
    "grouped.describe()"
   ]
  },
  {
   "cell_type": "code",
   "execution_count": 103,
   "id": "directed-listening",
   "metadata": {},
   "outputs": [
    {
     "name": "stdout",
     "output_type": "stream",
     "text": [
      "     A  B\n",
      "0  foo  1\n",
      "1  foo  2\n",
      "2  foo  2\n",
      "3  bar  1\n",
      "4  bar  1\n",
      "     B\n",
      "A     \n",
      "bar  1\n",
      "foo  2\n"
     ]
    },
    {
     "data": {
      "text/plain": [
       "A    B\n",
       "bar  1    2\n",
       "foo  2    2\n",
       "     1    1\n",
       "Name: B, dtype: int64"
      ]
     },
     "execution_count": 103,
     "metadata": {},
     "output_type": "execute_result"
    }
   ],
   "source": [
    "ll = [['foo', 1], ['foo', 2], ['foo', 2], ['bar', 1], ['bar', 1]]\n",
    "df4 = pd.DataFrame(ll, columns=[\"A\", \"B\"])\n",
    "print(df4)\n",
    "print(df4.groupby('A').nunique())\n",
    "df4.groupby('A').B.value_counts()"
   ]
  },
  {
   "cell_type": "code",
   "execution_count": 105,
   "id": "medieval-watershed",
   "metadata": {},
   "outputs": [
    {
     "data": {
      "text/html": [
       "<div>\n",
       "<style scoped>\n",
       "    .dataframe tbody tr th:only-of-type {\n",
       "        vertical-align: middle;\n",
       "    }\n",
       "\n",
       "    .dataframe tbody tr th {\n",
       "        vertical-align: top;\n",
       "    }\n",
       "\n",
       "    .dataframe thead tr th {\n",
       "        text-align: left;\n",
       "    }\n",
       "\n",
       "    .dataframe thead tr:last-of-type th {\n",
       "        text-align: right;\n",
       "    }\n",
       "</style>\n",
       "<table border=\"1\" class=\"dataframe\">\n",
       "  <thead>\n",
       "    <tr>\n",
       "      <th></th>\n",
       "      <th colspan=\"2\" halign=\"left\">B</th>\n",
       "    </tr>\n",
       "    <tr>\n",
       "      <th></th>\n",
       "      <th>count</th>\n",
       "      <th>size</th>\n",
       "    </tr>\n",
       "    <tr>\n",
       "      <th>A</th>\n",
       "      <th></th>\n",
       "      <th></th>\n",
       "    </tr>\n",
       "  </thead>\n",
       "  <tbody>\n",
       "    <tr>\n",
       "      <th>bar</th>\n",
       "      <td>2</td>\n",
       "      <td>2</td>\n",
       "    </tr>\n",
       "    <tr>\n",
       "      <th>foo</th>\n",
       "      <td>3</td>\n",
       "      <td>3</td>\n",
       "    </tr>\n",
       "  </tbody>\n",
       "</table>\n",
       "</div>"
      ],
      "text/plain": [
       "        B     \n",
       "    count size\n",
       "A             \n",
       "bar     2    2\n",
       "foo     3    3"
      ]
     },
     "execution_count": 105,
     "metadata": {},
     "output_type": "execute_result"
    }
   ],
   "source": [
    "df4.groupby('A').agg(['count', 'size'])"
   ]
  },
  {
   "cell_type": "code",
   "execution_count": 108,
   "id": "returning-shipping",
   "metadata": {},
   "outputs": [
    {
     "data": {
      "text/html": [
       "<div>\n",
       "<style scoped>\n",
       "    .dataframe tbody tr th:only-of-type {\n",
       "        vertical-align: middle;\n",
       "    }\n",
       "\n",
       "    .dataframe tbody tr th {\n",
       "        vertical-align: top;\n",
       "    }\n",
       "\n",
       "    .dataframe thead th {\n",
       "        text-align: right;\n",
       "    }\n",
       "</style>\n",
       "<table border=\"1\" class=\"dataframe\">\n",
       "  <thead>\n",
       "    <tr style=\"text-align: right;\">\n",
       "      <th></th>\n",
       "      <th>sum</th>\n",
       "      <th>mean</th>\n",
       "      <th>std</th>\n",
       "    </tr>\n",
       "    <tr>\n",
       "      <th>A</th>\n",
       "      <th></th>\n",
       "      <th></th>\n",
       "      <th></th>\n",
       "    </tr>\n",
       "  </thead>\n",
       "  <tbody>\n",
       "    <tr>\n",
       "      <th>bar</th>\n",
       "      <td>-1.299672</td>\n",
       "      <td>-0.433224</td>\n",
       "      <td>1.184005</td>\n",
       "    </tr>\n",
       "    <tr>\n",
       "      <th>foo</th>\n",
       "      <td>2.584228</td>\n",
       "      <td>0.516846</td>\n",
       "      <td>0.989328</td>\n",
       "    </tr>\n",
       "  </tbody>\n",
       "</table>\n",
       "</div>"
      ],
      "text/plain": [
       "          sum      mean       std\n",
       "A                                \n",
       "bar -1.299672 -0.433224  1.184005\n",
       "foo  2.584228  0.516846  0.989328"
      ]
     },
     "execution_count": 108,
     "metadata": {},
     "output_type": "execute_result"
    }
   ],
   "source": [
    "grouped = df.groupby(\"A\")\n",
    "grouped.C.agg([np.sum, np.mean, np.std])"
   ]
  },
  {
   "cell_type": "code",
   "execution_count": 110,
   "id": "pretty-marketing",
   "metadata": {},
   "outputs": [
    {
     "data": {
      "text/html": [
       "<div>\n",
       "<style scoped>\n",
       "    .dataframe tbody tr th:only-of-type {\n",
       "        vertical-align: middle;\n",
       "    }\n",
       "\n",
       "    .dataframe tbody tr th {\n",
       "        vertical-align: top;\n",
       "    }\n",
       "\n",
       "    .dataframe thead th {\n",
       "        text-align: right;\n",
       "    }\n",
       "</style>\n",
       "<table border=\"1\" class=\"dataframe\">\n",
       "  <thead>\n",
       "    <tr style=\"text-align: right;\">\n",
       "      <th></th>\n",
       "      <th>foo</th>\n",
       "      <th>bar</th>\n",
       "      <th>baz</th>\n",
       "    </tr>\n",
       "    <tr>\n",
       "      <th>A</th>\n",
       "      <th></th>\n",
       "      <th></th>\n",
       "      <th></th>\n",
       "    </tr>\n",
       "  </thead>\n",
       "  <tbody>\n",
       "    <tr>\n",
       "      <th>bar</th>\n",
       "      <td>-1.299672</td>\n",
       "      <td>-0.433224</td>\n",
       "      <td>1.184005</td>\n",
       "    </tr>\n",
       "    <tr>\n",
       "      <th>foo</th>\n",
       "      <td>2.584228</td>\n",
       "      <td>0.516846</td>\n",
       "      <td>0.989328</td>\n",
       "    </tr>\n",
       "  </tbody>\n",
       "</table>\n",
       "</div>"
      ],
      "text/plain": [
       "          foo       bar       baz\n",
       "A                                \n",
       "bar -1.299672 -0.433224  1.184005\n",
       "foo  2.584228  0.516846  0.989328"
      ]
     },
     "execution_count": 110,
     "metadata": {},
     "output_type": "execute_result"
    }
   ],
   "source": [
    "grouped.C.agg([np.sum, np.mean, np.std]).rename(columns={'sum':'foo',\n",
    "                'mean':'bar', 'std':'baz'})"
   ]
  },
  {
   "cell_type": "code",
   "execution_count": 111,
   "id": "future-guidance",
   "metadata": {},
   "outputs": [
    {
     "data": {
      "text/html": [
       "<div>\n",
       "<style scoped>\n",
       "    .dataframe tbody tr th:only-of-type {\n",
       "        vertical-align: middle;\n",
       "    }\n",
       "\n",
       "    .dataframe tbody tr th {\n",
       "        vertical-align: top;\n",
       "    }\n",
       "\n",
       "    .dataframe thead th {\n",
       "        text-align: right;\n",
       "    }\n",
       "</style>\n",
       "<table border=\"1\" class=\"dataframe\">\n",
       "  <thead>\n",
       "    <tr style=\"text-align: right;\">\n",
       "      <th></th>\n",
       "      <th>kind</th>\n",
       "      <th>height</th>\n",
       "      <th>weight</th>\n",
       "    </tr>\n",
       "  </thead>\n",
       "  <tbody>\n",
       "    <tr>\n",
       "      <th>0</th>\n",
       "      <td>cat</td>\n",
       "      <td>9.1</td>\n",
       "      <td>7.9</td>\n",
       "    </tr>\n",
       "    <tr>\n",
       "      <th>1</th>\n",
       "      <td>dog</td>\n",
       "      <td>6.0</td>\n",
       "      <td>7.5</td>\n",
       "    </tr>\n",
       "    <tr>\n",
       "      <th>2</th>\n",
       "      <td>cat</td>\n",
       "      <td>9.5</td>\n",
       "      <td>9.9</td>\n",
       "    </tr>\n",
       "    <tr>\n",
       "      <th>3</th>\n",
       "      <td>dog</td>\n",
       "      <td>34.0</td>\n",
       "      <td>198.0</td>\n",
       "    </tr>\n",
       "  </tbody>\n",
       "</table>\n",
       "</div>"
      ],
      "text/plain": [
       "  kind  height  weight\n",
       "0  cat     9.1     7.9\n",
       "1  dog     6.0     7.5\n",
       "2  cat     9.5     9.9\n",
       "3  dog    34.0   198.0"
      ]
     },
     "execution_count": 111,
     "metadata": {},
     "output_type": "execute_result"
    }
   ],
   "source": [
    "animals = pd.DataFrame({\n",
    "  \"kind\": [\"cat\", \"dog\", \"cat\", \"dog\"],\n",
    "    \"height\": [9.1, 6.0, 9.5, 34.0],\n",
    "    \"weight\": [7.9, 7.5, 9.9, 198.0],\n",
    "})\n",
    "animals"
   ]
  },
  {
   "cell_type": "code",
   "execution_count": 112,
   "id": "hawaiian-liabilities",
   "metadata": {},
   "outputs": [
    {
     "data": {
      "text/html": [
       "<div>\n",
       "<style scoped>\n",
       "    .dataframe tbody tr th:only-of-type {\n",
       "        vertical-align: middle;\n",
       "    }\n",
       "\n",
       "    .dataframe tbody tr th {\n",
       "        vertical-align: top;\n",
       "    }\n",
       "\n",
       "    .dataframe thead th {\n",
       "        text-align: right;\n",
       "    }\n",
       "</style>\n",
       "<table border=\"1\" class=\"dataframe\">\n",
       "  <thead>\n",
       "    <tr style=\"text-align: right;\">\n",
       "      <th></th>\n",
       "      <th>min_height</th>\n",
       "      <th>max_height</th>\n",
       "      <th>avg_weight</th>\n",
       "    </tr>\n",
       "    <tr>\n",
       "      <th>kind</th>\n",
       "      <th></th>\n",
       "      <th></th>\n",
       "      <th></th>\n",
       "    </tr>\n",
       "  </thead>\n",
       "  <tbody>\n",
       "    <tr>\n",
       "      <th>cat</th>\n",
       "      <td>9.1</td>\n",
       "      <td>9.5</td>\n",
       "      <td>8.90</td>\n",
       "    </tr>\n",
       "    <tr>\n",
       "      <th>dog</th>\n",
       "      <td>6.0</td>\n",
       "      <td>34.0</td>\n",
       "      <td>102.75</td>\n",
       "    </tr>\n",
       "  </tbody>\n",
       "</table>\n",
       "</div>"
      ],
      "text/plain": [
       "      min_height  max_height  avg_weight\n",
       "kind                                    \n",
       "cat          9.1         9.5        8.90\n",
       "dog          6.0        34.0      102.75"
      ]
     },
     "execution_count": 112,
     "metadata": {},
     "output_type": "execute_result"
    }
   ],
   "source": [
    "animals.groupby('kind').agg(min_height = ('height', min),\n",
    "                           max_height = ('height', max),\n",
    "                           avg_weight = ('weight', 'mean'))"
   ]
  },
  {
   "cell_type": "code",
   "execution_count": 115,
   "id": "thick-laugh",
   "metadata": {},
   "outputs": [
    {
     "data": {
      "text/html": [
       "<div>\n",
       "<style scoped>\n",
       "    .dataframe tbody tr th:only-of-type {\n",
       "        vertical-align: middle;\n",
       "    }\n",
       "\n",
       "    .dataframe tbody tr th {\n",
       "        vertical-align: top;\n",
       "    }\n",
       "\n",
       "    .dataframe thead th {\n",
       "        text-align: right;\n",
       "    }\n",
       "</style>\n",
       "<table border=\"1\" class=\"dataframe\">\n",
       "  <thead>\n",
       "    <tr style=\"text-align: right;\">\n",
       "      <th></th>\n",
       "      <th>total weight</th>\n",
       "    </tr>\n",
       "    <tr>\n",
       "      <th>kind</th>\n",
       "      <th></th>\n",
       "    </tr>\n",
       "  </thead>\n",
       "  <tbody>\n",
       "    <tr>\n",
       "      <th>cat</th>\n",
       "      <td>17.8</td>\n",
       "    </tr>\n",
       "    <tr>\n",
       "      <th>dog</th>\n",
       "      <td>205.5</td>\n",
       "    </tr>\n",
       "  </tbody>\n",
       "</table>\n",
       "</div>"
      ],
      "text/plain": [
       "      total weight\n",
       "kind              \n",
       "cat           17.8\n",
       "dog          205.5"
      ]
     },
     "execution_count": 115,
     "metadata": {},
     "output_type": "execute_result"
    }
   ],
   "source": [
    "animals.groupby(\"kind\").agg(\n",
    "    **{\n",
    "        \"total weight\": pd.NamedAgg(column=\"weight\", aggfunc=sum)\n",
    "    })\n",
    "\n",
    "# Syntactic sugar\n",
    "animals.groupby(\"kind\").agg(\n",
    "    **{\n",
    "        \"total weight\": (\"weight\", sum)\n",
    "    })"
   ]
  },
  {
   "cell_type": "code",
   "execution_count": 118,
   "id": "colored-field",
   "metadata": {},
   "outputs": [
    {
     "data": {
      "text/html": [
       "<div>\n",
       "<style scoped>\n",
       "    .dataframe tbody tr th:only-of-type {\n",
       "        vertical-align: middle;\n",
       "    }\n",
       "\n",
       "    .dataframe tbody tr th {\n",
       "        vertical-align: top;\n",
       "    }\n",
       "\n",
       "    .dataframe thead th {\n",
       "        text-align: right;\n",
       "    }\n",
       "</style>\n",
       "<table border=\"1\" class=\"dataframe\">\n",
       "  <thead>\n",
       "    <tr style=\"text-align: right;\">\n",
       "      <th></th>\n",
       "      <th>min_height</th>\n",
       "      <th>max_height</th>\n",
       "    </tr>\n",
       "    <tr>\n",
       "      <th>kind</th>\n",
       "      <th></th>\n",
       "      <th></th>\n",
       "    </tr>\n",
       "  </thead>\n",
       "  <tbody>\n",
       "    <tr>\n",
       "      <th>cat</th>\n",
       "      <td>9.1</td>\n",
       "      <td>9.5</td>\n",
       "    </tr>\n",
       "    <tr>\n",
       "      <th>dog</th>\n",
       "      <td>6.0</td>\n",
       "      <td>34.0</td>\n",
       "    </tr>\n",
       "  </tbody>\n",
       "</table>\n",
       "</div>"
      ],
      "text/plain": [
       "      min_height  max_height\n",
       "kind                        \n",
       "cat          9.1         9.5\n",
       "dog          6.0        34.0"
      ]
     },
     "execution_count": 118,
     "metadata": {},
     "output_type": "execute_result"
    }
   ],
   "source": [
    "animals.groupby('kind').height.agg(min_height = min, max_height=max)"
   ]
  },
  {
   "cell_type": "code",
   "execution_count": null,
   "id": "dried-latter",
   "metadata": {},
   "outputs": [],
   "source": []
  }
 ],
 "metadata": {
  "kernelspec": {
   "display_name": "Python (myenv)",
   "language": "python",
   "name": "myenv"
  },
  "language_info": {
   "codemirror_mode": {
    "name": "ipython",
    "version": 3
   },
   "file_extension": ".py",
   "mimetype": "text/x-python",
   "name": "python",
   "nbconvert_exporter": "python",
   "pygments_lexer": "ipython3",
   "version": "3.9.1"
  }
 },
 "nbformat": 4,
 "nbformat_minor": 5
}
