{
 "cells": [
  {
   "cell_type": "code",
   "execution_count": 1,
   "id": "focal-registrar",
   "metadata": {},
   "outputs": [],
   "source": [
    "%matplotlib inline\n",
    "import numpy as np\n",
    "import numpy.ma as ma\n",
    "import pandas as pd\n",
    "from pandas import DataFrame, Series\n",
    "import matplotlib.pyplot as plt\n",
    "import seaborn as sns\n",
    "import timeit\n",
    "import line_profiler\n",
    "\n",
    "import datetime\n",
    "\n",
    "from io import StringIO\n",
    "from pandas.api.types import CategoricalDtype\n",
    "\n",
    "import pandas._testing as tm\n",
    "\n",
    "## returns df from string data\n",
    "def g(data):\n",
    "    return pd.read_csv(StringIO(data))"
   ]
  },
  {
   "cell_type": "markdown",
   "id": "technological-craps",
   "metadata": {},
   "source": [
    "# 2.16.1 Statistical functions"
   ]
  },
  {
   "cell_type": "code",
   "execution_count": 5,
   "id": "defined-detective",
   "metadata": {},
   "outputs": [
    {
     "data": {
      "text/plain": [
       "0         NaN\n",
       "1   -1.923373\n",
       "2   -2.931038\n",
       "3   -0.935503\n",
       "4   -0.123427\n",
       "5    7.136023\n",
       "6   -1.639340\n",
       "7   -2.450775\n",
       "dtype: float64"
      ]
     },
     "execution_count": 5,
     "metadata": {},
     "output_type": "execute_result"
    }
   ],
   "source": [
    "ser = pd.Series(np.random.randn(8))\n",
    "ser.pct_change()"
   ]
  },
  {
   "cell_type": "code",
   "execution_count": 7,
   "id": "operating-musician",
   "metadata": {},
   "outputs": [
    {
     "data": {
      "text/html": [
       "<div>\n",
       "<style scoped>\n",
       "    .dataframe tbody tr th:only-of-type {\n",
       "        vertical-align: middle;\n",
       "    }\n",
       "\n",
       "    .dataframe tbody tr th {\n",
       "        vertical-align: top;\n",
       "    }\n",
       "\n",
       "    .dataframe thead th {\n",
       "        text-align: right;\n",
       "    }\n",
       "</style>\n",
       "<table border=\"1\" class=\"dataframe\">\n",
       "  <thead>\n",
       "    <tr style=\"text-align: right;\">\n",
       "      <th></th>\n",
       "      <th>0</th>\n",
       "      <th>1</th>\n",
       "      <th>2</th>\n",
       "      <th>3</th>\n",
       "    </tr>\n",
       "  </thead>\n",
       "  <tbody>\n",
       "    <tr>\n",
       "      <th>0</th>\n",
       "      <td>NaN</td>\n",
       "      <td>NaN</td>\n",
       "      <td>NaN</td>\n",
       "      <td>NaN</td>\n",
       "    </tr>\n",
       "    <tr>\n",
       "      <th>1</th>\n",
       "      <td>NaN</td>\n",
       "      <td>NaN</td>\n",
       "      <td>NaN</td>\n",
       "      <td>NaN</td>\n",
       "    </tr>\n",
       "    <tr>\n",
       "      <th>2</th>\n",
       "      <td>NaN</td>\n",
       "      <td>NaN</td>\n",
       "      <td>NaN</td>\n",
       "      <td>NaN</td>\n",
       "    </tr>\n",
       "    <tr>\n",
       "      <th>3</th>\n",
       "      <td>-0.020591</td>\n",
       "      <td>12.475995</td>\n",
       "      <td>0.967325</td>\n",
       "      <td>-0.553468</td>\n",
       "    </tr>\n",
       "    <tr>\n",
       "      <th>4</th>\n",
       "      <td>1.522533</td>\n",
       "      <td>-0.759493</td>\n",
       "      <td>4.268283</td>\n",
       "      <td>-0.128637</td>\n",
       "    </tr>\n",
       "    <tr>\n",
       "      <th>5</th>\n",
       "      <td>-0.839266</td>\n",
       "      <td>4.969317</td>\n",
       "      <td>-0.877771</td>\n",
       "      <td>-0.342039</td>\n",
       "    </tr>\n",
       "    <tr>\n",
       "      <th>6</th>\n",
       "      <td>-0.230832</td>\n",
       "      <td>0.994627</td>\n",
       "      <td>-0.320743</td>\n",
       "      <td>1.306429</td>\n",
       "    </tr>\n",
       "    <tr>\n",
       "      <th>7</th>\n",
       "      <td>0.511824</td>\n",
       "      <td>3.978803</td>\n",
       "      <td>2.442230</td>\n",
       "      <td>-0.767423</td>\n",
       "    </tr>\n",
       "    <tr>\n",
       "      <th>8</th>\n",
       "      <td>1.038695</td>\n",
       "      <td>14.972710</td>\n",
       "      <td>17.444836</td>\n",
       "      <td>0.235789</td>\n",
       "    </tr>\n",
       "    <tr>\n",
       "      <th>9</th>\n",
       "      <td>-0.085083</td>\n",
       "      <td>0.054706</td>\n",
       "      <td>0.009563</td>\n",
       "      <td>-0.911786</td>\n",
       "    </tr>\n",
       "  </tbody>\n",
       "</table>\n",
       "</div>"
      ],
      "text/plain": [
       "          0          1          2         3\n",
       "0       NaN        NaN        NaN       NaN\n",
       "1       NaN        NaN        NaN       NaN\n",
       "2       NaN        NaN        NaN       NaN\n",
       "3 -0.020591  12.475995   0.967325 -0.553468\n",
       "4  1.522533  -0.759493   4.268283 -0.128637\n",
       "5 -0.839266   4.969317  -0.877771 -0.342039\n",
       "6 -0.230832   0.994627  -0.320743  1.306429\n",
       "7  0.511824   3.978803   2.442230 -0.767423\n",
       "8  1.038695  14.972710  17.444836  0.235789\n",
       "9 -0.085083   0.054706   0.009563 -0.911786"
      ]
     },
     "execution_count": 7,
     "metadata": {},
     "output_type": "execute_result"
    }
   ],
   "source": [
    "df = DataFrame(np.random.rand(10, 4))\n",
    "df.pct_change(3)"
   ]
  },
  {
   "cell_type": "code",
   "execution_count": 14,
   "id": "double-wholesale",
   "metadata": {},
   "outputs": [
    {
     "name": "stdout",
     "output_type": "stream",
     "text": [
      "0    1\n",
      "1    2\n",
      "2    3\n",
      "3    4\n",
      "4    5\n",
      "dtype: int64\n"
     ]
    },
    {
     "data": {
      "text/plain": [
       "0    NaN\n",
       "1    NaN\n",
       "2    NaN\n",
       "3    3.0\n",
       "4    1.5\n",
       "dtype: float64"
      ]
     },
     "execution_count": 14,
     "metadata": {},
     "output_type": "execute_result"
    }
   ],
   "source": [
    "s = pd.Series(range(1,6))\n",
    "print(s)\n",
    "s.pct_change(3)"
   ]
  },
  {
   "cell_type": "code",
   "execution_count": 16,
   "id": "activated-elite",
   "metadata": {},
   "outputs": [
    {
     "data": {
      "text/plain": [
       "18.333333333333332"
      ]
     },
     "execution_count": 16,
     "metadata": {},
     "output_type": "execute_result"
    }
   ],
   "source": [
    "s1 = pd.Series(range(1,11))\n",
    "s2 = pd.Series(range(2,21,2))\n",
    "s1.cov(s2)"
   ]
  },
  {
   "cell_type": "code",
   "execution_count": 18,
   "id": "discrete-departure",
   "metadata": {},
   "outputs": [
    {
     "data": {
      "text/html": [
       "<div>\n",
       "<style scoped>\n",
       "    .dataframe tbody tr th:only-of-type {\n",
       "        vertical-align: middle;\n",
       "    }\n",
       "\n",
       "    .dataframe tbody tr th {\n",
       "        vertical-align: top;\n",
       "    }\n",
       "\n",
       "    .dataframe thead th {\n",
       "        text-align: right;\n",
       "    }\n",
       "</style>\n",
       "<table border=\"1\" class=\"dataframe\">\n",
       "  <thead>\n",
       "    <tr style=\"text-align: right;\">\n",
       "      <th></th>\n",
       "      <th>a</th>\n",
       "      <th>b</th>\n",
       "      <th>c</th>\n",
       "      <th>d</th>\n",
       "      <th>e</th>\n",
       "    </tr>\n",
       "  </thead>\n",
       "  <tbody>\n",
       "    <tr>\n",
       "      <th>a</th>\n",
       "      <td>1.050728</td>\n",
       "      <td>0.021590</td>\n",
       "      <td>-0.033379</td>\n",
       "      <td>0.031233</td>\n",
       "      <td>0.035940</td>\n",
       "    </tr>\n",
       "    <tr>\n",
       "      <th>b</th>\n",
       "      <td>0.021590</td>\n",
       "      <td>1.030669</td>\n",
       "      <td>0.022360</td>\n",
       "      <td>-0.035406</td>\n",
       "      <td>0.055048</td>\n",
       "    </tr>\n",
       "    <tr>\n",
       "      <th>c</th>\n",
       "      <td>-0.033379</td>\n",
       "      <td>0.022360</td>\n",
       "      <td>1.059442</td>\n",
       "      <td>0.056878</td>\n",
       "      <td>-0.038169</td>\n",
       "    </tr>\n",
       "    <tr>\n",
       "      <th>d</th>\n",
       "      <td>0.031233</td>\n",
       "      <td>-0.035406</td>\n",
       "      <td>0.056878</td>\n",
       "      <td>0.933382</td>\n",
       "      <td>0.052404</td>\n",
       "    </tr>\n",
       "    <tr>\n",
       "      <th>e</th>\n",
       "      <td>0.035940</td>\n",
       "      <td>0.055048</td>\n",
       "      <td>-0.038169</td>\n",
       "      <td>0.052404</td>\n",
       "      <td>0.895523</td>\n",
       "    </tr>\n",
       "  </tbody>\n",
       "</table>\n",
       "</div>"
      ],
      "text/plain": [
       "          a         b         c         d         e\n",
       "a  1.050728  0.021590 -0.033379  0.031233  0.035940\n",
       "b  0.021590  1.030669  0.022360 -0.035406  0.055048\n",
       "c -0.033379  0.022360  1.059442  0.056878 -0.038169\n",
       "d  0.031233 -0.035406  0.056878  0.933382  0.052404\n",
       "e  0.035940  0.055048 -0.038169  0.052404  0.895523"
      ]
     },
     "execution_count": 18,
     "metadata": {},
     "output_type": "execute_result"
    }
   ],
   "source": [
    "frame = pd.DataFrame(np.random.randn(1000, 5), columns=[\"a\", \"b\", \"c\", \"d\", \"e\"])\n",
    "frame.cov()"
   ]
  },
  {
   "cell_type": "code",
   "execution_count": 20,
   "id": "afraid-variation",
   "metadata": {},
   "outputs": [
    {
     "data": {
      "text/html": [
       "<div>\n",
       "<style scoped>\n",
       "    .dataframe tbody tr th:only-of-type {\n",
       "        vertical-align: middle;\n",
       "    }\n",
       "\n",
       "    .dataframe tbody tr th {\n",
       "        vertical-align: top;\n",
       "    }\n",
       "\n",
       "    .dataframe thead th {\n",
       "        text-align: right;\n",
       "    }\n",
       "</style>\n",
       "<table border=\"1\" class=\"dataframe\">\n",
       "  <thead>\n",
       "    <tr style=\"text-align: right;\">\n",
       "      <th></th>\n",
       "      <th>a</th>\n",
       "      <th>b</th>\n",
       "      <th>c</th>\n",
       "    </tr>\n",
       "  </thead>\n",
       "  <tbody>\n",
       "    <tr>\n",
       "      <th>a</th>\n",
       "      <td>0.969831</td>\n",
       "      <td>NaN</td>\n",
       "      <td>0.318122</td>\n",
       "    </tr>\n",
       "    <tr>\n",
       "      <th>b</th>\n",
       "      <td>NaN</td>\n",
       "      <td>0.937038</td>\n",
       "      <td>-0.037230</td>\n",
       "    </tr>\n",
       "    <tr>\n",
       "      <th>c</th>\n",
       "      <td>0.318122</td>\n",
       "      <td>-0.037230</td>\n",
       "      <td>0.880216</td>\n",
       "    </tr>\n",
       "  </tbody>\n",
       "</table>\n",
       "</div>"
      ],
      "text/plain": [
       "          a         b         c\n",
       "a  0.969831       NaN  0.318122\n",
       "b       NaN  0.937038 -0.037230\n",
       "c  0.318122 -0.037230  0.880216"
      ]
     },
     "execution_count": 20,
     "metadata": {},
     "output_type": "execute_result"
    }
   ],
   "source": [
    "frame = pd.DataFrame(np.random.randn(20, 3), columns=[\"a\", \"b\", \"c\"])\n",
    "frame.loc[frame.index[:5], \"a\"] = np.nan\n",
    "frame.loc[frame.index[5:10], \"b\"] = np.nan\n",
    "frame.cov()\n",
    "frame.cov(min_periods=12)"
   ]
  },
  {
   "cell_type": "code",
   "execution_count": 24,
   "id": "modern-essex",
   "metadata": {},
   "outputs": [
    {
     "data": {
      "text/plain": [
       "0.5"
      ]
     },
     "execution_count": 24,
     "metadata": {},
     "output_type": "execute_result"
    }
   ],
   "source": [
    "s1 = pd.Series(range(1,6))\n",
    "s2 = pd.Series(range(6,11))\n",
    "s2[:3] = np.nan\n",
    "s1.cov(s2, min_periods=2)"
   ]
  },
  {
   "cell_type": "code",
   "execution_count": 26,
   "id": "extra-father",
   "metadata": {},
   "outputs": [
    {
     "data": {
      "text/html": [
       "<div>\n",
       "<style scoped>\n",
       "    .dataframe tbody tr th:only-of-type {\n",
       "        vertical-align: middle;\n",
       "    }\n",
       "\n",
       "    .dataframe tbody tr th {\n",
       "        vertical-align: top;\n",
       "    }\n",
       "\n",
       "    .dataframe thead th {\n",
       "        text-align: right;\n",
       "    }\n",
       "</style>\n",
       "<table border=\"1\" class=\"dataframe\">\n",
       "  <thead>\n",
       "    <tr style=\"text-align: right;\">\n",
       "      <th></th>\n",
       "      <th>a</th>\n",
       "      <th>b</th>\n",
       "      <th>c</th>\n",
       "    </tr>\n",
       "  </thead>\n",
       "  <tbody>\n",
       "    <tr>\n",
       "      <th>a</th>\n",
       "      <td>1.000000</td>\n",
       "      <td>NaN</td>\n",
       "      <td>-0.268127</td>\n",
       "    </tr>\n",
       "    <tr>\n",
       "      <th>b</th>\n",
       "      <td>NaN</td>\n",
       "      <td>1.000000</td>\n",
       "      <td>-0.058104</td>\n",
       "    </tr>\n",
       "    <tr>\n",
       "      <th>c</th>\n",
       "      <td>-0.268127</td>\n",
       "      <td>-0.058104</td>\n",
       "      <td>1.000000</td>\n",
       "    </tr>\n",
       "  </tbody>\n",
       "</table>\n",
       "</div>"
      ],
      "text/plain": [
       "          a         b         c\n",
       "a  1.000000       NaN -0.268127\n",
       "b       NaN  1.000000 -0.058104\n",
       "c -0.268127 -0.058104  1.000000"
      ]
     },
     "execution_count": 26,
     "metadata": {},
     "output_type": "execute_result"
    }
   ],
   "source": [
    "frame = pd.DataFrame(np.random.randn(20, 3), columns=[\"a\", \"b\", \"c\"])\n",
    "frame.loc[frame.index[:5], \"a\"] = np.nan\n",
    "frame.loc[frame.index[5:10], \"b\"] = np.nan\n",
    "frame.corr()\n",
    "frame.corr(min_periods=12)"
   ]
  },
  {
   "cell_type": "code",
   "execution_count": 27,
   "id": "governing-poverty",
   "metadata": {},
   "outputs": [
    {
     "data": {
      "text/html": [
       "<div>\n",
       "<style scoped>\n",
       "    .dataframe tbody tr th:only-of-type {\n",
       "        vertical-align: middle;\n",
       "    }\n",
       "\n",
       "    .dataframe tbody tr th {\n",
       "        vertical-align: top;\n",
       "    }\n",
       "\n",
       "    .dataframe thead th {\n",
       "        text-align: right;\n",
       "    }\n",
       "</style>\n",
       "<table border=\"1\" class=\"dataframe\">\n",
       "  <thead>\n",
       "    <tr style=\"text-align: right;\">\n",
       "      <th></th>\n",
       "      <th>a</th>\n",
       "      <th>b</th>\n",
       "      <th>c</th>\n",
       "    </tr>\n",
       "  </thead>\n",
       "  <tbody>\n",
       "    <tr>\n",
       "      <th>a</th>\n",
       "      <td>1.000000</td>\n",
       "      <td>-0.449048</td>\n",
       "      <td>-6.072194</td>\n",
       "    </tr>\n",
       "    <tr>\n",
       "      <th>b</th>\n",
       "      <td>-0.449048</td>\n",
       "      <td>1.000000</td>\n",
       "      <td>-0.541214</td>\n",
       "    </tr>\n",
       "    <tr>\n",
       "      <th>c</th>\n",
       "      <td>-6.072194</td>\n",
       "      <td>-0.541214</td>\n",
       "      <td>1.000000</td>\n",
       "    </tr>\n",
       "  </tbody>\n",
       "</table>\n",
       "</div>"
      ],
      "text/plain": [
       "          a         b         c\n",
       "a  1.000000 -0.449048 -6.072194\n",
       "b -0.449048  1.000000 -0.541214\n",
       "c -6.072194 -0.541214  1.000000"
      ]
     },
     "execution_count": 27,
     "metadata": {},
     "output_type": "execute_result"
    }
   ],
   "source": [
    "def histogram_intersection(a, b):\n",
    "    return np.minimum(np.true_divide(a, a.sum()), \n",
    "                      np.true_divide(b, b.sum())).sum()\n",
    "\n",
    "frame.corr(method=histogram_intersection)"
   ]
  },
  {
   "cell_type": "code",
   "execution_count": 28,
   "id": "presidential-ribbon",
   "metadata": {},
   "outputs": [
    {
     "data": {
      "text/plain": [
       "one      0.517229\n",
       "two     -0.014314\n",
       "three   -0.362604\n",
       "four    -0.563880\n",
       "dtype: float64"
      ]
     },
     "execution_count": 28,
     "metadata": {},
     "output_type": "execute_result"
    }
   ],
   "source": [
    "index = [\"a\", \"b\", \"c\", \"d\", \"e\"]\n",
    "columns = [\"one\", \"two\", \"three\", \"four\"]\n",
    "df1 = pd.DataFrame(np.random.randn(5, 4), index=index, columns=columns)\n",
    "df2 = pd.DataFrame(np.random.randn(4, 4), index=index[:4], columns=columns)\n",
    "\n",
    "df1.corrwith(df2)"
   ]
  },
  {
   "cell_type": "code",
   "execution_count": 30,
   "id": "compound-hopkins",
   "metadata": {},
   "outputs": [
    {
     "data": {
      "text/plain": [
       "a    1.688946\n",
       "b    1.489742\n",
       "c   -0.845329\n",
       "d    1.489742\n",
       "e    0.695434\n",
       "dtype: float64"
      ]
     },
     "execution_count": 30,
     "metadata": {},
     "output_type": "execute_result"
    }
   ],
   "source": [
    "s = pd.Series(np.random.randn(5), index=list(\"abcde\"))\n",
    "s[\"d\"] = s[\"b\"] # so there's a tie\n",
    "s.rank()"
   ]
  },
  {
   "cell_type": "code",
   "execution_count": 31,
   "id": "exempt-meaning",
   "metadata": {},
   "outputs": [
    {
     "data": {
      "text/plain": [
       "a    5.0\n",
       "b    3.5\n",
       "c    1.0\n",
       "d    3.5\n",
       "e    2.0\n",
       "dtype: float64"
      ]
     },
     "execution_count": 31,
     "metadata": {},
     "output_type": "execute_result"
    }
   ],
   "source": [
    "s.rank()"
   ]
  },
  {
   "cell_type": "code",
   "execution_count": 36,
   "id": "touched-tulsa",
   "metadata": {},
   "outputs": [
    {
     "data": {
      "text/html": [
       "<div>\n",
       "<style scoped>\n",
       "    .dataframe tbody tr th:only-of-type {\n",
       "        vertical-align: middle;\n",
       "    }\n",
       "\n",
       "    .dataframe tbody tr th {\n",
       "        vertical-align: top;\n",
       "    }\n",
       "\n",
       "    .dataframe thead th {\n",
       "        text-align: right;\n",
       "    }\n",
       "</style>\n",
       "<table border=\"1\" class=\"dataframe\">\n",
       "  <thead>\n",
       "    <tr style=\"text-align: right;\">\n",
       "      <th></th>\n",
       "      <th>0</th>\n",
       "      <th>1</th>\n",
       "      <th>2</th>\n",
       "      <th>3</th>\n",
       "      <th>4</th>\n",
       "      <th>5</th>\n",
       "    </tr>\n",
       "  </thead>\n",
       "  <tbody>\n",
       "    <tr>\n",
       "      <th>0</th>\n",
       "      <td>6.0</td>\n",
       "      <td>1.0</td>\n",
       "      <td>2.5</td>\n",
       "      <td>4.0</td>\n",
       "      <td>2.5</td>\n",
       "      <td>5.0</td>\n",
       "    </tr>\n",
       "    <tr>\n",
       "      <th>1</th>\n",
       "      <td>6.0</td>\n",
       "      <td>3.0</td>\n",
       "      <td>1.5</td>\n",
       "      <td>4.0</td>\n",
       "      <td>1.5</td>\n",
       "      <td>5.0</td>\n",
       "    </tr>\n",
       "    <tr>\n",
       "      <th>2</th>\n",
       "      <td>5.0</td>\n",
       "      <td>4.0</td>\n",
       "      <td>2.5</td>\n",
       "      <td>1.0</td>\n",
       "      <td>2.5</td>\n",
       "      <td>6.0</td>\n",
       "    </tr>\n",
       "    <tr>\n",
       "      <th>3</th>\n",
       "      <td>3.0</td>\n",
       "      <td>1.0</td>\n",
       "      <td>4.5</td>\n",
       "      <td>2.0</td>\n",
       "      <td>4.5</td>\n",
       "      <td>6.0</td>\n",
       "    </tr>\n",
       "    <tr>\n",
       "      <th>4</th>\n",
       "      <td>2.0</td>\n",
       "      <td>4.0</td>\n",
       "      <td>5.5</td>\n",
       "      <td>1.0</td>\n",
       "      <td>5.5</td>\n",
       "      <td>3.0</td>\n",
       "    </tr>\n",
       "    <tr>\n",
       "      <th>5</th>\n",
       "      <td>3.0</td>\n",
       "      <td>1.0</td>\n",
       "      <td>4.0</td>\n",
       "      <td>5.0</td>\n",
       "      <td>NaN</td>\n",
       "      <td>2.0</td>\n",
       "    </tr>\n",
       "    <tr>\n",
       "      <th>6</th>\n",
       "      <td>4.0</td>\n",
       "      <td>1.0</td>\n",
       "      <td>3.0</td>\n",
       "      <td>5.0</td>\n",
       "      <td>NaN</td>\n",
       "      <td>2.0</td>\n",
       "    </tr>\n",
       "    <tr>\n",
       "      <th>7</th>\n",
       "      <td>3.0</td>\n",
       "      <td>1.0</td>\n",
       "      <td>4.0</td>\n",
       "      <td>2.0</td>\n",
       "      <td>NaN</td>\n",
       "      <td>5.0</td>\n",
       "    </tr>\n",
       "    <tr>\n",
       "      <th>8</th>\n",
       "      <td>5.0</td>\n",
       "      <td>4.0</td>\n",
       "      <td>3.0</td>\n",
       "      <td>2.0</td>\n",
       "      <td>NaN</td>\n",
       "      <td>1.0</td>\n",
       "    </tr>\n",
       "    <tr>\n",
       "      <th>9</th>\n",
       "      <td>4.0</td>\n",
       "      <td>2.0</td>\n",
       "      <td>3.0</td>\n",
       "      <td>1.0</td>\n",
       "      <td>NaN</td>\n",
       "      <td>5.0</td>\n",
       "    </tr>\n",
       "  </tbody>\n",
       "</table>\n",
       "</div>"
      ],
      "text/plain": [
       "     0    1    2    3    4    5\n",
       "0  6.0  1.0  2.5  4.0  2.5  5.0\n",
       "1  6.0  3.0  1.5  4.0  1.5  5.0\n",
       "2  5.0  4.0  2.5  1.0  2.5  6.0\n",
       "3  3.0  1.0  4.5  2.0  4.5  6.0\n",
       "4  2.0  4.0  5.5  1.0  5.5  3.0\n",
       "5  3.0  1.0  4.0  5.0  NaN  2.0\n",
       "6  4.0  1.0  3.0  5.0  NaN  2.0\n",
       "7  3.0  1.0  4.0  2.0  NaN  5.0\n",
       "8  5.0  4.0  3.0  2.0  NaN  1.0\n",
       "9  4.0  2.0  3.0  1.0  NaN  5.0"
      ]
     },
     "execution_count": 36,
     "metadata": {},
     "output_type": "execute_result"
    }
   ],
   "source": [
    "df = pd.DataFrame(np.random.randn(10, 6))\n",
    "df[4] = df[2][:5] # some ties\n",
    "df.rank(1, ascending=False)"
   ]
  },
  {
   "cell_type": "markdown",
   "id": "earlier-winter",
   "metadata": {},
   "source": [
    "# Group by"
   ]
  },
  {
   "cell_type": "markdown",
   "id": "alternative-intervention",
   "metadata": {},
   "source": [
    "## 2.17.1 Splitting an object into groups"
   ]
  },
  {
   "cell_type": "code",
   "execution_count": 2,
   "id": "mental-alaska",
   "metadata": {},
   "outputs": [],
   "source": [
    "df = pd.DataFrame([\n",
    "    (\"bird\", \"Falconiformes\", 389.0),\n",
    "    (\"bird\", \"Psittaciformes\", 24.0),\n",
    "    (\"mammal\", \"Carnivora\", 80.2),\n",
    "    (\"mammal\", \"Primates\", np.nan),\n",
    "    (\"mammal\", \"Carnivora\", 58),\n",
    "],\n",
    "   index=[\"falcon\", \"parrot\", \"lion\", \"monkey\", \"leopard\"],\n",
    "   columns=(\"class\", \"order\", \"max_speed\"), \n",
    ")\n",
    "df\n",
    "\n",
    "\n",
    "# default is axis=0\n",
    "grouped = df.groupby('class')\n",
    "grouped = df.groupby('order', axis='columns')\n",
    "grouped = df.groupby([\"class\", \"order\"])"
   ]
  },
  {
   "cell_type": "code",
   "execution_count": 3,
   "id": "initial-level",
   "metadata": {},
   "outputs": [
    {
     "data": {
      "text/html": [
       "<div>\n",
       "<style scoped>\n",
       "    .dataframe tbody tr th:only-of-type {\n",
       "        vertical-align: middle;\n",
       "    }\n",
       "\n",
       "    .dataframe tbody tr th {\n",
       "        vertical-align: top;\n",
       "    }\n",
       "\n",
       "    .dataframe thead th {\n",
       "        text-align: right;\n",
       "    }\n",
       "</style>\n",
       "<table border=\"1\" class=\"dataframe\">\n",
       "  <thead>\n",
       "    <tr style=\"text-align: right;\">\n",
       "      <th></th>\n",
       "      <th>A</th>\n",
       "      <th>B</th>\n",
       "      <th>C</th>\n",
       "      <th>D</th>\n",
       "    </tr>\n",
       "  </thead>\n",
       "  <tbody>\n",
       "    <tr>\n",
       "      <th>0</th>\n",
       "      <td>foo</td>\n",
       "      <td>one</td>\n",
       "      <td>0.713989</td>\n",
       "      <td>-1.739929</td>\n",
       "    </tr>\n",
       "    <tr>\n",
       "      <th>1</th>\n",
       "      <td>bar</td>\n",
       "      <td>one</td>\n",
       "      <td>0.515902</td>\n",
       "      <td>1.747634</td>\n",
       "    </tr>\n",
       "    <tr>\n",
       "      <th>2</th>\n",
       "      <td>foo</td>\n",
       "      <td>two</td>\n",
       "      <td>1.560985</td>\n",
       "      <td>0.266590</td>\n",
       "    </tr>\n",
       "    <tr>\n",
       "      <th>3</th>\n",
       "      <td>bar</td>\n",
       "      <td>three</td>\n",
       "      <td>0.523009</td>\n",
       "      <td>-0.576076</td>\n",
       "    </tr>\n",
       "    <tr>\n",
       "      <th>4</th>\n",
       "      <td>foo</td>\n",
       "      <td>two</td>\n",
       "      <td>-0.257393</td>\n",
       "      <td>1.003956</td>\n",
       "    </tr>\n",
       "    <tr>\n",
       "      <th>5</th>\n",
       "      <td>bar</td>\n",
       "      <td>two</td>\n",
       "      <td>-0.547125</td>\n",
       "      <td>0.999715</td>\n",
       "    </tr>\n",
       "    <tr>\n",
       "      <th>6</th>\n",
       "      <td>foo</td>\n",
       "      <td>one</td>\n",
       "      <td>0.290983</td>\n",
       "      <td>2.337841</td>\n",
       "    </tr>\n",
       "    <tr>\n",
       "      <th>7</th>\n",
       "      <td>foo</td>\n",
       "      <td>three</td>\n",
       "      <td>-0.698266</td>\n",
       "      <td>1.651169</td>\n",
       "    </tr>\n",
       "  </tbody>\n",
       "</table>\n",
       "</div>"
      ],
      "text/plain": [
       "     A      B         C         D\n",
       "0  foo    one  0.713989 -1.739929\n",
       "1  bar    one  0.515902  1.747634\n",
       "2  foo    two  1.560985  0.266590\n",
       "3  bar  three  0.523009 -0.576076\n",
       "4  foo    two -0.257393  1.003956\n",
       "5  bar    two -0.547125  0.999715\n",
       "6  foo    one  0.290983  2.337841\n",
       "7  foo  three -0.698266  1.651169"
      ]
     },
     "execution_count": 3,
     "metadata": {},
     "output_type": "execute_result"
    }
   ],
   "source": [
    "df = pd.DataFrame({\n",
    "    \"A\": [\"foo\", \"bar\", \"foo\", \"bar\", \"foo\", \"bar\", \"foo\", \"foo\"],\n",
    "    \"B\": [\"one\", \"one\", \"two\", \"three\", \"two\", \"two\", \"one\", \"three\"],\n",
    "    \"C\": np.random.randn(8),\n",
    "    \"D\": np.random.randn(8),\n",
    "})\n",
    "df"
   ]
  },
  {
   "cell_type": "code",
   "execution_count": 4,
   "id": "fuzzy-business",
   "metadata": {},
   "outputs": [
    {
     "data": {
      "text/html": [
       "<div>\n",
       "<style scoped>\n",
       "    .dataframe tbody tr th:only-of-type {\n",
       "        vertical-align: middle;\n",
       "    }\n",
       "\n",
       "    .dataframe tbody tr th {\n",
       "        vertical-align: top;\n",
       "    }\n",
       "\n",
       "    .dataframe thead th {\n",
       "        text-align: right;\n",
       "    }\n",
       "</style>\n",
       "<table border=\"1\" class=\"dataframe\">\n",
       "  <thead>\n",
       "    <tr style=\"text-align: right;\">\n",
       "      <th></th>\n",
       "      <th>C</th>\n",
       "      <th>D</th>\n",
       "    </tr>\n",
       "    <tr>\n",
       "      <th>A</th>\n",
       "      <th></th>\n",
       "      <th></th>\n",
       "    </tr>\n",
       "  </thead>\n",
       "  <tbody>\n",
       "    <tr>\n",
       "      <th>bar</th>\n",
       "      <td>0.491786</td>\n",
       "      <td>2.171272</td>\n",
       "    </tr>\n",
       "    <tr>\n",
       "      <th>foo</th>\n",
       "      <td>1.610298</td>\n",
       "      <td>3.519627</td>\n",
       "    </tr>\n",
       "  </tbody>\n",
       "</table>\n",
       "</div>"
      ],
      "text/plain": [
       "            C         D\n",
       "A                      \n",
       "bar  0.491786  2.171272\n",
       "foo  1.610298  3.519627"
      ]
     },
     "execution_count": 4,
     "metadata": {},
     "output_type": "execute_result"
    }
   ],
   "source": [
    "df2 = df.set_index([\"A\", \"B\"])\n",
    "grouped = df2.groupby(df2.index.names.difference([\"B\"]))\n",
    "grouped.sum()"
   ]
  },
  {
   "cell_type": "code",
   "execution_count": 5,
   "id": "conventional-clinton",
   "metadata": {},
   "outputs": [
    {
     "data": {
      "text/plain": [
       "consonant    [[one, 0.713988569773656, -1.739928667366921],...\n",
       "vowel        [[foo], [bar], [foo], [bar], [foo], [bar], [fo...\n",
       "dtype: object"
      ]
     },
     "execution_count": 5,
     "metadata": {},
     "output_type": "execute_result"
    }
   ],
   "source": [
    "    def get_letter_type(letter):\n",
    "        if letter.lower() in 'aeiou':\n",
    "            return 'vowel'\n",
    "        else:\n",
    "            return 'consonant'\n",
    "    df.groupby(get_letter_type, axis=1).apply(lambda x: x.values)"
   ]
  },
  {
   "cell_type": "code",
   "execution_count": 6,
   "id": "breathing-genome",
   "metadata": {},
   "outputs": [
    {
     "data": {
      "text/plain": [
       "1    11\n",
       "2    22\n",
       "3    33\n",
       "dtype: int64"
      ]
     },
     "execution_count": 6,
     "metadata": {},
     "output_type": "execute_result"
    }
   ],
   "source": [
    "lst = [1, 2, 3, 1, 2, 3]\n",
    "s = pd.Series([1, 2, 3, 10, 20, 30], lst)\n",
    "grouped = s.groupby(level=0)\n",
    "grouped.first()\n",
    "grouped.last()\n",
    "grouped.sum()"
   ]
  },
  {
   "cell_type": "code",
   "execution_count": 7,
   "id": "graphic-timeline",
   "metadata": {},
   "outputs": [
    {
     "data": {
      "text/html": [
       "<div>\n",
       "<style scoped>\n",
       "    .dataframe tbody tr th:only-of-type {\n",
       "        vertical-align: middle;\n",
       "    }\n",
       "\n",
       "    .dataframe tbody tr th {\n",
       "        vertical-align: top;\n",
       "    }\n",
       "\n",
       "    .dataframe thead th {\n",
       "        text-align: right;\n",
       "    }\n",
       "</style>\n",
       "<table border=\"1\" class=\"dataframe\">\n",
       "  <thead>\n",
       "    <tr style=\"text-align: right;\">\n",
       "      <th></th>\n",
       "      <th>Y</th>\n",
       "    </tr>\n",
       "    <tr>\n",
       "      <th>X</th>\n",
       "      <th></th>\n",
       "    </tr>\n",
       "  </thead>\n",
       "  <tbody>\n",
       "    <tr>\n",
       "      <th>A</th>\n",
       "      <td>7</td>\n",
       "    </tr>\n",
       "    <tr>\n",
       "      <th>B</th>\n",
       "      <td>3</td>\n",
       "    </tr>\n",
       "  </tbody>\n",
       "</table>\n",
       "</div>"
      ],
      "text/plain": [
       "   Y\n",
       "X   \n",
       "A  7\n",
       "B  3"
      ]
     },
     "execution_count": 7,
     "metadata": {},
     "output_type": "execute_result"
    }
   ],
   "source": [
    "df2 = pd.DataFrame({\"X\": [\"B\", \"B\", \"A\", \"A\"], \"Y\": [1, 2, 3, 4]})\n",
    "df2.groupby('X', sort=False).sum()\n",
    "df2.groupby('X').sum()"
   ]
  },
  {
   "cell_type": "code",
   "execution_count": 8,
   "id": "approved-material",
   "metadata": {},
   "outputs": [
    {
     "data": {
      "text/html": [
       "<div>\n",
       "<style scoped>\n",
       "    .dataframe tbody tr th:only-of-type {\n",
       "        vertical-align: middle;\n",
       "    }\n",
       "\n",
       "    .dataframe tbody tr th {\n",
       "        vertical-align: top;\n",
       "    }\n",
       "\n",
       "    .dataframe thead th {\n",
       "        text-align: right;\n",
       "    }\n",
       "</style>\n",
       "<table border=\"1\" class=\"dataframe\">\n",
       "  <thead>\n",
       "    <tr style=\"text-align: right;\">\n",
       "      <th></th>\n",
       "      <th>X</th>\n",
       "      <th>Y</th>\n",
       "    </tr>\n",
       "  </thead>\n",
       "  <tbody>\n",
       "    <tr>\n",
       "      <th>1</th>\n",
       "      <td>B</td>\n",
       "      <td>4</td>\n",
       "    </tr>\n",
       "    <tr>\n",
       "      <th>3</th>\n",
       "      <td>B</td>\n",
       "      <td>2</td>\n",
       "    </tr>\n",
       "  </tbody>\n",
       "</table>\n",
       "</div>"
      ],
      "text/plain": [
       "   X  Y\n",
       "1  B  4\n",
       "3  B  2"
      ]
     },
     "execution_count": 8,
     "metadata": {},
     "output_type": "execute_result"
    }
   ],
   "source": [
    "df3 = pd.DataFrame({\"X\": [\"A\", \"B\", \"A\", \"B\"], \"Y\": [1, 4, 3, 2]})\n",
    "df3.groupby('X').get_group('A')\n",
    "df3.groupby('X').get_group('B')"
   ]
  },
  {
   "cell_type": "code",
   "execution_count": 9,
   "id": "frozen-vision",
   "metadata": {},
   "outputs": [
    {
     "data": {
      "text/html": [
       "<div>\n",
       "<style scoped>\n",
       "    .dataframe tbody tr th:only-of-type {\n",
       "        vertical-align: middle;\n",
       "    }\n",
       "\n",
       "    .dataframe tbody tr th {\n",
       "        vertical-align: top;\n",
       "    }\n",
       "\n",
       "    .dataframe thead th {\n",
       "        text-align: right;\n",
       "    }\n",
       "</style>\n",
       "<table border=\"1\" class=\"dataframe\">\n",
       "  <thead>\n",
       "    <tr style=\"text-align: right;\">\n",
       "      <th></th>\n",
       "      <th>a</th>\n",
       "      <th>c</th>\n",
       "    </tr>\n",
       "    <tr>\n",
       "      <th>b</th>\n",
       "      <th></th>\n",
       "      <th></th>\n",
       "    </tr>\n",
       "  </thead>\n",
       "  <tbody>\n",
       "    <tr>\n",
       "      <th>1.0</th>\n",
       "      <td>2</td>\n",
       "      <td>3</td>\n",
       "    </tr>\n",
       "    <tr>\n",
       "      <th>2.0</th>\n",
       "      <td>2</td>\n",
       "      <td>5</td>\n",
       "    </tr>\n",
       "    <tr>\n",
       "      <th>NaN</th>\n",
       "      <td>1</td>\n",
       "      <td>4</td>\n",
       "    </tr>\n",
       "  </tbody>\n",
       "</table>\n",
       "</div>"
      ],
      "text/plain": [
       "     a  c\n",
       "b        \n",
       "1.0  2  3\n",
       "2.0  2  5\n",
       "NaN  1  4"
      ]
     },
     "execution_count": 9,
     "metadata": {},
     "output_type": "execute_result"
    }
   ],
   "source": [
    "df_list = [[1, 2, 3], [1, None, 4], [2, 1, 3], [1, 2, 2]]\n",
    "df_dna = pd.DataFrame(df_list, columns=[\"a\", \"b\", \"c\"])\n",
    "df_dna\n",
    "\n",
    "# Default ``dropna`` is set to True, which will exclude NaNs in keys\n",
    "df_dna.groupby(by=\"b\").sum()\n",
    "df_dna.groupby(by=\"b\", dropna=False).sum()"
   ]
  },
  {
   "cell_type": "code",
   "execution_count": 10,
   "id": "vulnerable-rainbow",
   "metadata": {},
   "outputs": [
    {
     "data": {
      "text/plain": [
       "{'bar': [1, 3, 5], 'foo': [0, 2, 4, 6, 7]}"
      ]
     },
     "execution_count": 10,
     "metadata": {},
     "output_type": "execute_result"
    }
   ],
   "source": [
    "df.groupby('A').groups"
   ]
  },
  {
   "cell_type": "code",
   "execution_count": 11,
   "id": "together-restriction",
   "metadata": {},
   "outputs": [
    {
     "data": {
      "text/plain": [
       "{'consonant': ['B', 'C', 'D'], 'vowel': ['A']}"
      ]
     },
     "execution_count": 11,
     "metadata": {},
     "output_type": "execute_result"
    }
   ],
   "source": [
    " df.groupby(get_letter_type, axis=1).groups"
   ]
  },
  {
   "cell_type": "code",
   "execution_count": 12,
   "id": "neither-purse",
   "metadata": {},
   "outputs": [
    {
     "data": {
      "text/plain": [
       "6"
      ]
     },
     "execution_count": 12,
     "metadata": {},
     "output_type": "execute_result"
    }
   ],
   "source": [
    "df\n",
    "grouped = df.groupby(['A','B'])\n",
    "grouped.groups\n",
    "len(grouped)"
   ]
  },
  {
   "cell_type": "code",
   "execution_count": 13,
   "id": "comprehensive-sydney",
   "metadata": {},
   "outputs": [
    {
     "ename": "SyntaxError",
     "evalue": "invalid syntax (<ipython-input-13-1bc1fbff6a1f>, line 16)",
     "output_type": "error",
     "traceback": [
      "\u001b[0;36m  File \u001b[0;32m\"<ipython-input-13-1bc1fbff6a1f>\"\u001b[0;36m, line \u001b[0;32m16\u001b[0m\n\u001b[0;31m    gb.<TAB>\u001b[0m\n\u001b[0m       ^\u001b[0m\n\u001b[0;31mSyntaxError\u001b[0m\u001b[0;31m:\u001b[0m invalid syntax\n"
     ]
    }
   ],
   "source": [
    "d=\"\"\"date,height,weight,gender\n",
    "2000-01-01,42.849980,157.500553,male\n",
    "2000-01-02,49.607315,177.340407,male\n",
    "2000-01-03,56.293531,171.524640,male\n",
    "2000-01-04,48.421077,144.251986,female\n",
    "2000-01-05,46.556882,152.526206,male\n",
    "2000-01-06,68.448851,168.272968,female\n",
    "2000-01-07,70.757698,136.431469,male\n",
    "2000-01-08,58.909500,176.499753,female\n",
    "2000-01-09,76.435631,174.094104,female\n",
    "2000-01-10,45.306120,177.540920,male\"\"\"\n",
    "df=g(d)\n",
    "df['date'] = pd.to_datetime(df.date)\n",
    "df = df.set_index('date')\n",
    "gb = df.groupby('gender')\n",
    "gb.<TAB>"
   ]
  },
  {
   "cell_type": "code",
   "execution_count": 14,
   "id": "affecting-noise",
   "metadata": {},
   "outputs": [
    {
     "data": {
      "text/plain": [
       "second\n",
       "one    0.934844\n",
       "two    1.331581\n",
       "dtype: float64"
      ]
     },
     "execution_count": 14,
     "metadata": {},
     "output_type": "execute_result"
    }
   ],
   "source": [
    "arrays = [\n",
    "    [\"bar\", \"bar\", \"baz\", \"baz\", \"foo\", \"foo\", \"qux\", \"qux\"],\n",
    "    [\"one\", \"two\", \"one\", \"two\", \"one\", \"two\", \"one\", \"two\"],\n",
    "]\n",
    "index = pd.MultiIndex.from_arrays(arrays, names=['first', 'second'])\n",
    "s = pd.Series(np.random.rand(8), index=index)\n",
    "s\n",
    "\n",
    "# We can then group by one of the levels in s.\n",
    "grouped = s.groupby(level=1)\n",
    "grouped.sum()\n",
    "\n",
    "# If the MultiIndex has names specified, these can be passed instead of the level number:\n",
    "s.groupby(level='second').sum()\n"
   ]
  },
  {
   "cell_type": "code",
   "execution_count": 15,
   "id": "fluid-implement",
   "metadata": {},
   "outputs": [
    {
     "data": {
      "text/plain": [
       "second\n",
       "one    0.934844\n",
       "two    1.331581\n",
       "dtype: float64"
      ]
     },
     "execution_count": 15,
     "metadata": {},
     "output_type": "execute_result"
    }
   ],
   "source": [
    "s.sum(level='second')"
   ]
  },
  {
   "cell_type": "code",
   "execution_count": 16,
   "id": "exotic-fifty",
   "metadata": {},
   "outputs": [
    {
     "data": {
      "text/html": [
       "<div>\n",
       "<style scoped>\n",
       "    .dataframe tbody tr th:only-of-type {\n",
       "        vertical-align: middle;\n",
       "    }\n",
       "\n",
       "    .dataframe tbody tr th {\n",
       "        vertical-align: top;\n",
       "    }\n",
       "\n",
       "    .dataframe thead th {\n",
       "        text-align: right;\n",
       "    }\n",
       "</style>\n",
       "<table border=\"1\" class=\"dataframe\">\n",
       "  <thead>\n",
       "    <tr style=\"text-align: right;\">\n",
       "      <th></th>\n",
       "      <th></th>\n",
       "      <th>B</th>\n",
       "    </tr>\n",
       "    <tr>\n",
       "      <th>A</th>\n",
       "      <th>second</th>\n",
       "      <th></th>\n",
       "    </tr>\n",
       "  </thead>\n",
       "  <tbody>\n",
       "    <tr>\n",
       "      <th rowspan=\"2\" valign=\"top\">1</th>\n",
       "      <th>one</th>\n",
       "      <td>2</td>\n",
       "    </tr>\n",
       "    <tr>\n",
       "      <th>two</th>\n",
       "      <td>4</td>\n",
       "    </tr>\n",
       "    <tr>\n",
       "      <th rowspan=\"2\" valign=\"top\">2</th>\n",
       "      <th>one</th>\n",
       "      <td>4</td>\n",
       "    </tr>\n",
       "    <tr>\n",
       "      <th>two</th>\n",
       "      <td>5</td>\n",
       "    </tr>\n",
       "    <tr>\n",
       "      <th rowspan=\"2\" valign=\"top\">3</th>\n",
       "      <th>one</th>\n",
       "      <td>6</td>\n",
       "    </tr>\n",
       "    <tr>\n",
       "      <th>two</th>\n",
       "      <td>7</td>\n",
       "    </tr>\n",
       "  </tbody>\n",
       "</table>\n",
       "</div>"
      ],
      "text/plain": [
       "          B\n",
       "A second   \n",
       "1 one     2\n",
       "  two     4\n",
       "2 one     4\n",
       "  two     5\n",
       "3 one     6\n",
       "  two     7"
      ]
     },
     "execution_count": 16,
     "metadata": {},
     "output_type": "execute_result"
    }
   ],
   "source": [
    "arrays = [[\"bar\", \"bar\", \"baz\", \"baz\", \"foo\", \"foo\", \"qux\", \"qux\"],\n",
    "          [\"one\", \"two\", \"one\", \"two\", \"one\", \"two\", \"one\", \"two\"],\n",
    "         ]\n",
    "index = pd.MultiIndex.from_arrays(arrays, names=['first', 'second'])\n",
    "df = pd.DataFrame({\"A\": [1, 1, 1, 1, 2, 2, 3, 3], \"B\": np.arange(8)},\n",
    "                  index=index)\n",
    "df.groupby(['A', pd.Grouper(level=1)]).sum()\n",
    "df.groupby(['A', pd.Grouper(level='second')]).sum()\n"
   ]
  },
  {
   "cell_type": "code",
   "execution_count": 17,
   "id": "arranged-sociology",
   "metadata": {},
   "outputs": [
    {
     "data": {
      "text/html": [
       "<div>\n",
       "<style scoped>\n",
       "    .dataframe tbody tr th:only-of-type {\n",
       "        vertical-align: middle;\n",
       "    }\n",
       "\n",
       "    .dataframe tbody tr th {\n",
       "        vertical-align: top;\n",
       "    }\n",
       "\n",
       "    .dataframe thead th {\n",
       "        text-align: right;\n",
       "    }\n",
       "</style>\n",
       "<table border=\"1\" class=\"dataframe\">\n",
       "  <thead>\n",
       "    <tr style=\"text-align: right;\">\n",
       "      <th></th>\n",
       "      <th></th>\n",
       "      <th>B</th>\n",
       "    </tr>\n",
       "    <tr>\n",
       "      <th>second</th>\n",
       "      <th>A</th>\n",
       "      <th></th>\n",
       "    </tr>\n",
       "  </thead>\n",
       "  <tbody>\n",
       "    <tr>\n",
       "      <th rowspan=\"3\" valign=\"top\">one</th>\n",
       "      <th>1</th>\n",
       "      <td>2</td>\n",
       "    </tr>\n",
       "    <tr>\n",
       "      <th>2</th>\n",
       "      <td>4</td>\n",
       "    </tr>\n",
       "    <tr>\n",
       "      <th>3</th>\n",
       "      <td>6</td>\n",
       "    </tr>\n",
       "    <tr>\n",
       "      <th rowspan=\"3\" valign=\"top\">two</th>\n",
       "      <th>1</th>\n",
       "      <td>4</td>\n",
       "    </tr>\n",
       "    <tr>\n",
       "      <th>2</th>\n",
       "      <td>5</td>\n",
       "    </tr>\n",
       "    <tr>\n",
       "      <th>3</th>\n",
       "      <td>7</td>\n",
       "    </tr>\n",
       "  </tbody>\n",
       "</table>\n",
       "</div>"
      ],
      "text/plain": [
       "          B\n",
       "second A   \n",
       "one    1  2\n",
       "       2  4\n",
       "       3  6\n",
       "two    1  4\n",
       "       2  5\n",
       "       3  7"
      ]
     },
     "execution_count": 17,
     "metadata": {},
     "output_type": "execute_result"
    }
   ],
   "source": [
    "df.groupby(['second','A',]).sum()"
   ]
  },
  {
   "cell_type": "code",
   "execution_count": 18,
   "id": "designed-sydney",
   "metadata": {},
   "outputs": [
    {
     "data": {
      "text/plain": [
       "<pandas.core.groupby.generic.SeriesGroupBy object at 0x129910d30>"
      ]
     },
     "execution_count": 18,
     "metadata": {},
     "output_type": "execute_result"
    }
   ],
   "source": [
    "df = pd.DataFrame({\n",
    "    \"A\": [\"foo\", \"bar\", \"foo\", \"bar\", \"foo\", \"bar\", \"foo\", \"foo\"],\n",
    "    \"B\": [\"one\", \"one\", \"two\", \"three\", \"two\", \"two\", \"one\", \"three\"],\n",
    "    \"C\": np.random.randn(8),\n",
    "    \"D\": np.random.randn(8),\n",
    "})\n",
    "grouped = df.groupby([\"A\"])\n",
    "grouped['C']\n",
    "grouped.D"
   ]
  },
  {
   "cell_type": "code",
   "execution_count": 19,
   "id": "arbitrary-longer",
   "metadata": {},
   "outputs": [
    {
     "name": "stdout",
     "output_type": "stream",
     "text": [
      "bar\n",
      "     A      B         C         D\n",
      "1  bar    one -1.835230 -0.598235\n",
      "3  bar  three -0.280786  0.889175\n",
      "5  bar    two -0.346543 -0.083546\n",
      "foo\n",
      "     A      B         C         D\n",
      "0  foo    one -0.414631  2.108627\n",
      "2  foo    two -1.317871  0.480014\n",
      "4  foo    two  1.139441 -0.591462\n",
      "6  foo    one  0.814996 -0.560577\n",
      "7  foo  three  0.789111  0.257426\n"
     ]
    }
   ],
   "source": [
    "grouped = df.groupby('A')\n",
    "for name, group in grouped:\n",
    "    print(name)\n",
    "    print(group)"
   ]
  },
  {
   "cell_type": "code",
   "execution_count": 20,
   "id": "precious-sculpture",
   "metadata": {},
   "outputs": [
    {
     "name": "stdout",
     "output_type": "stream",
     "text": [
      "('bar', 'one')\n",
      "     A    B        C         D\n",
      "1  bar  one -1.83523 -0.598235\n",
      "('bar', 'three')\n",
      "     A      B         C         D\n",
      "3  bar  three -0.280786  0.889175\n",
      "('bar', 'two')\n",
      "     A    B         C         D\n",
      "5  bar  two -0.346543 -0.083546\n",
      "('foo', 'one')\n",
      "     A    B         C         D\n",
      "0  foo  one -0.414631  2.108627\n",
      "6  foo  one  0.814996 -0.560577\n",
      "('foo', 'three')\n",
      "     A      B         C         D\n",
      "7  foo  three  0.789111  0.257426\n",
      "('foo', 'two')\n",
      "     A    B         C         D\n",
      "2  foo  two -1.317871  0.480014\n",
      "4  foo  two  1.139441 -0.591462\n"
     ]
    }
   ],
   "source": [
    "for name, group in df.groupby(['A','B']):\n",
    "    print(name)\n",
    "    print(group)"
   ]
  },
  {
   "cell_type": "code",
   "execution_count": 21,
   "id": "thermal-disposition",
   "metadata": {},
   "outputs": [
    {
     "data": {
      "text/html": [
       "<div>\n",
       "<style scoped>\n",
       "    .dataframe tbody tr th:only-of-type {\n",
       "        vertical-align: middle;\n",
       "    }\n",
       "\n",
       "    .dataframe tbody tr th {\n",
       "        vertical-align: top;\n",
       "    }\n",
       "\n",
       "    .dataframe thead th {\n",
       "        text-align: right;\n",
       "    }\n",
       "</style>\n",
       "<table border=\"1\" class=\"dataframe\">\n",
       "  <thead>\n",
       "    <tr style=\"text-align: right;\">\n",
       "      <th></th>\n",
       "      <th>A</th>\n",
       "      <th>B</th>\n",
       "      <th>C</th>\n",
       "      <th>D</th>\n",
       "    </tr>\n",
       "  </thead>\n",
       "  <tbody>\n",
       "    <tr>\n",
       "      <th>1</th>\n",
       "      <td>bar</td>\n",
       "      <td>one</td>\n",
       "      <td>-1.835230</td>\n",
       "      <td>-0.598235</td>\n",
       "    </tr>\n",
       "    <tr>\n",
       "      <th>3</th>\n",
       "      <td>bar</td>\n",
       "      <td>three</td>\n",
       "      <td>-0.280786</td>\n",
       "      <td>0.889175</td>\n",
       "    </tr>\n",
       "    <tr>\n",
       "      <th>5</th>\n",
       "      <td>bar</td>\n",
       "      <td>two</td>\n",
       "      <td>-0.346543</td>\n",
       "      <td>-0.083546</td>\n",
       "    </tr>\n",
       "  </tbody>\n",
       "</table>\n",
       "</div>"
      ],
      "text/plain": [
       "     A      B         C         D\n",
       "1  bar    one -1.835230 -0.598235\n",
       "3  bar  three -0.280786  0.889175\n",
       "5  bar    two -0.346543 -0.083546"
      ]
     },
     "execution_count": 21,
     "metadata": {},
     "output_type": "execute_result"
    }
   ],
   "source": [
    "grouped = df.groupby([\"A\"])\n",
    "grouped.get_group('bar')"
   ]
  },
  {
   "cell_type": "code",
   "execution_count": 22,
   "id": "cheap-interface",
   "metadata": {},
   "outputs": [
    {
     "data": {
      "text/html": [
       "<div>\n",
       "<style scoped>\n",
       "    .dataframe tbody tr th:only-of-type {\n",
       "        vertical-align: middle;\n",
       "    }\n",
       "\n",
       "    .dataframe tbody tr th {\n",
       "        vertical-align: top;\n",
       "    }\n",
       "\n",
       "    .dataframe thead th {\n",
       "        text-align: right;\n",
       "    }\n",
       "</style>\n",
       "<table border=\"1\" class=\"dataframe\">\n",
       "  <thead>\n",
       "    <tr style=\"text-align: right;\">\n",
       "      <th></th>\n",
       "      <th>A</th>\n",
       "      <th>B</th>\n",
       "      <th>C</th>\n",
       "      <th>D</th>\n",
       "    </tr>\n",
       "  </thead>\n",
       "  <tbody>\n",
       "    <tr>\n",
       "      <th>1</th>\n",
       "      <td>bar</td>\n",
       "      <td>one</td>\n",
       "      <td>-1.83523</td>\n",
       "      <td>-0.598235</td>\n",
       "    </tr>\n",
       "  </tbody>\n",
       "</table>\n",
       "</div>"
      ],
      "text/plain": [
       "     A    B        C         D\n",
       "1  bar  one -1.83523 -0.598235"
      ]
     },
     "execution_count": 22,
     "metadata": {},
     "output_type": "execute_result"
    }
   ],
   "source": [
    "df.groupby(['A','B']).get_group(('bar', 'one'))"
   ]
  },
  {
   "cell_type": "code",
   "execution_count": 23,
   "id": "alert-prairie",
   "metadata": {},
   "outputs": [
    {
     "data": {
      "text/html": [
       "<div>\n",
       "<style scoped>\n",
       "    .dataframe tbody tr th:only-of-type {\n",
       "        vertical-align: middle;\n",
       "    }\n",
       "\n",
       "    .dataframe tbody tr th {\n",
       "        vertical-align: top;\n",
       "    }\n",
       "\n",
       "    .dataframe thead th {\n",
       "        text-align: right;\n",
       "    }\n",
       "</style>\n",
       "<table border=\"1\" class=\"dataframe\">\n",
       "  <thead>\n",
       "    <tr style=\"text-align: right;\">\n",
       "      <th></th>\n",
       "      <th></th>\n",
       "      <th>C</th>\n",
       "      <th>D</th>\n",
       "    </tr>\n",
       "    <tr>\n",
       "      <th>A</th>\n",
       "      <th>B</th>\n",
       "      <th></th>\n",
       "      <th></th>\n",
       "    </tr>\n",
       "  </thead>\n",
       "  <tbody>\n",
       "    <tr>\n",
       "      <th rowspan=\"3\" valign=\"top\">bar</th>\n",
       "      <th>one</th>\n",
       "      <td>-1.835230</td>\n",
       "      <td>-0.598235</td>\n",
       "    </tr>\n",
       "    <tr>\n",
       "      <th>three</th>\n",
       "      <td>-0.280786</td>\n",
       "      <td>0.889175</td>\n",
       "    </tr>\n",
       "    <tr>\n",
       "      <th>two</th>\n",
       "      <td>-0.346543</td>\n",
       "      <td>-0.083546</td>\n",
       "    </tr>\n",
       "    <tr>\n",
       "      <th rowspan=\"3\" valign=\"top\">foo</th>\n",
       "      <th>one</th>\n",
       "      <td>0.400364</td>\n",
       "      <td>1.548050</td>\n",
       "    </tr>\n",
       "    <tr>\n",
       "      <th>three</th>\n",
       "      <td>0.789111</td>\n",
       "      <td>0.257426</td>\n",
       "    </tr>\n",
       "    <tr>\n",
       "      <th>two</th>\n",
       "      <td>-0.178430</td>\n",
       "      <td>-0.111449</td>\n",
       "    </tr>\n",
       "  </tbody>\n",
       "</table>\n",
       "</div>"
      ],
      "text/plain": [
       "                  C         D\n",
       "A   B                        \n",
       "bar one   -1.835230 -0.598235\n",
       "    three -0.280786  0.889175\n",
       "    two   -0.346543 -0.083546\n",
       "foo one    0.400364  1.548050\n",
       "    three  0.789111  0.257426\n",
       "    two   -0.178430 -0.111449"
      ]
     },
     "execution_count": 23,
     "metadata": {},
     "output_type": "execute_result"
    }
   ],
   "source": [
    "grouped = df.groupby(\"A\")\n",
    "grouped.aggregate(np.sum)\n",
    "\n",
    "grouped = df.groupby(['A', 'B'])\n",
    "grouped.aggregate(np.sum)"
   ]
  },
  {
   "cell_type": "code",
   "execution_count": 24,
   "id": "nonprofit-period",
   "metadata": {},
   "outputs": [
    {
     "data": {
      "text/html": [
       "<div>\n",
       "<style scoped>\n",
       "    .dataframe tbody tr th:only-of-type {\n",
       "        vertical-align: middle;\n",
       "    }\n",
       "\n",
       "    .dataframe tbody tr th {\n",
       "        vertical-align: top;\n",
       "    }\n",
       "\n",
       "    .dataframe thead th {\n",
       "        text-align: right;\n",
       "    }\n",
       "</style>\n",
       "<table border=\"1\" class=\"dataframe\">\n",
       "  <thead>\n",
       "    <tr style=\"text-align: right;\">\n",
       "      <th></th>\n",
       "      <th>A</th>\n",
       "      <th>C</th>\n",
       "      <th>D</th>\n",
       "    </tr>\n",
       "  </thead>\n",
       "  <tbody>\n",
       "    <tr>\n",
       "      <th>0</th>\n",
       "      <td>bar</td>\n",
       "      <td>-2.462559</td>\n",
       "      <td>0.207395</td>\n",
       "    </tr>\n",
       "    <tr>\n",
       "      <th>1</th>\n",
       "      <td>foo</td>\n",
       "      <td>1.011045</td>\n",
       "      <td>1.694028</td>\n",
       "    </tr>\n",
       "  </tbody>\n",
       "</table>\n",
       "</div>"
      ],
      "text/plain": [
       "     A         C         D\n",
       "0  bar -2.462559  0.207395\n",
       "1  foo  1.011045  1.694028"
      ]
     },
     "execution_count": 24,
     "metadata": {},
     "output_type": "execute_result"
    }
   ],
   "source": [
    "grouped = df.groupby([\"A\", \"B\"], as_index=False)\n",
    "grouped.aggregate(sum)\n",
    "\n",
    "df.groupby(\"A\", as_index=False).sum()"
   ]
  },
  {
   "cell_type": "code",
   "execution_count": 25,
   "id": "placed-mistake",
   "metadata": {},
   "outputs": [
    {
     "data": {
      "text/html": [
       "<div>\n",
       "<style scoped>\n",
       "    .dataframe tbody tr th:only-of-type {\n",
       "        vertical-align: middle;\n",
       "    }\n",
       "\n",
       "    .dataframe tbody tr th {\n",
       "        vertical-align: top;\n",
       "    }\n",
       "\n",
       "    .dataframe thead tr th {\n",
       "        text-align: left;\n",
       "    }\n",
       "</style>\n",
       "<table border=\"1\" class=\"dataframe\">\n",
       "  <thead>\n",
       "    <tr>\n",
       "      <th></th>\n",
       "      <th colspan=\"8\" halign=\"left\">C</th>\n",
       "      <th colspan=\"8\" halign=\"left\">D</th>\n",
       "    </tr>\n",
       "    <tr>\n",
       "      <th></th>\n",
       "      <th>count</th>\n",
       "      <th>mean</th>\n",
       "      <th>std</th>\n",
       "      <th>min</th>\n",
       "      <th>25%</th>\n",
       "      <th>50%</th>\n",
       "      <th>75%</th>\n",
       "      <th>max</th>\n",
       "      <th>count</th>\n",
       "      <th>mean</th>\n",
       "      <th>std</th>\n",
       "      <th>min</th>\n",
       "      <th>25%</th>\n",
       "      <th>50%</th>\n",
       "      <th>75%</th>\n",
       "      <th>max</th>\n",
       "    </tr>\n",
       "  </thead>\n",
       "  <tbody>\n",
       "    <tr>\n",
       "      <th>0</th>\n",
       "      <td>1.0</td>\n",
       "      <td>-1.835230</td>\n",
       "      <td>NaN</td>\n",
       "      <td>-1.835230</td>\n",
       "      <td>-1.835230</td>\n",
       "      <td>-1.835230</td>\n",
       "      <td>-1.835230</td>\n",
       "      <td>-1.835230</td>\n",
       "      <td>1.0</td>\n",
       "      <td>-0.598235</td>\n",
       "      <td>NaN</td>\n",
       "      <td>-0.598235</td>\n",
       "      <td>-0.598235</td>\n",
       "      <td>-0.598235</td>\n",
       "      <td>-0.598235</td>\n",
       "      <td>-0.598235</td>\n",
       "    </tr>\n",
       "    <tr>\n",
       "      <th>1</th>\n",
       "      <td>1.0</td>\n",
       "      <td>-0.280786</td>\n",
       "      <td>NaN</td>\n",
       "      <td>-0.280786</td>\n",
       "      <td>-0.280786</td>\n",
       "      <td>-0.280786</td>\n",
       "      <td>-0.280786</td>\n",
       "      <td>-0.280786</td>\n",
       "      <td>1.0</td>\n",
       "      <td>0.889175</td>\n",
       "      <td>NaN</td>\n",
       "      <td>0.889175</td>\n",
       "      <td>0.889175</td>\n",
       "      <td>0.889175</td>\n",
       "      <td>0.889175</td>\n",
       "      <td>0.889175</td>\n",
       "    </tr>\n",
       "    <tr>\n",
       "      <th>2</th>\n",
       "      <td>1.0</td>\n",
       "      <td>-0.346543</td>\n",
       "      <td>NaN</td>\n",
       "      <td>-0.346543</td>\n",
       "      <td>-0.346543</td>\n",
       "      <td>-0.346543</td>\n",
       "      <td>-0.346543</td>\n",
       "      <td>-0.346543</td>\n",
       "      <td>1.0</td>\n",
       "      <td>-0.083546</td>\n",
       "      <td>NaN</td>\n",
       "      <td>-0.083546</td>\n",
       "      <td>-0.083546</td>\n",
       "      <td>-0.083546</td>\n",
       "      <td>-0.083546</td>\n",
       "      <td>-0.083546</td>\n",
       "    </tr>\n",
       "    <tr>\n",
       "      <th>3</th>\n",
       "      <td>2.0</td>\n",
       "      <td>0.200182</td>\n",
       "      <td>0.869478</td>\n",
       "      <td>-0.414631</td>\n",
       "      <td>-0.107225</td>\n",
       "      <td>0.200182</td>\n",
       "      <td>0.507589</td>\n",
       "      <td>0.814996</td>\n",
       "      <td>2.0</td>\n",
       "      <td>0.774025</td>\n",
       "      <td>1.887412</td>\n",
       "      <td>-0.560577</td>\n",
       "      <td>0.106724</td>\n",
       "      <td>0.774025</td>\n",
       "      <td>1.441326</td>\n",
       "      <td>2.108627</td>\n",
       "    </tr>\n",
       "    <tr>\n",
       "      <th>4</th>\n",
       "      <td>1.0</td>\n",
       "      <td>0.789111</td>\n",
       "      <td>NaN</td>\n",
       "      <td>0.789111</td>\n",
       "      <td>0.789111</td>\n",
       "      <td>0.789111</td>\n",
       "      <td>0.789111</td>\n",
       "      <td>0.789111</td>\n",
       "      <td>1.0</td>\n",
       "      <td>0.257426</td>\n",
       "      <td>NaN</td>\n",
       "      <td>0.257426</td>\n",
       "      <td>0.257426</td>\n",
       "      <td>0.257426</td>\n",
       "      <td>0.257426</td>\n",
       "      <td>0.257426</td>\n",
       "    </tr>\n",
       "    <tr>\n",
       "      <th>5</th>\n",
       "      <td>2.0</td>\n",
       "      <td>-0.089215</td>\n",
       "      <td>1.737582</td>\n",
       "      <td>-1.317871</td>\n",
       "      <td>-0.703543</td>\n",
       "      <td>-0.089215</td>\n",
       "      <td>0.525113</td>\n",
       "      <td>1.139441</td>\n",
       "      <td>2.0</td>\n",
       "      <td>-0.055724</td>\n",
       "      <td>0.757648</td>\n",
       "      <td>-0.591462</td>\n",
       "      <td>-0.323593</td>\n",
       "      <td>-0.055724</td>\n",
       "      <td>0.212145</td>\n",
       "      <td>0.480014</td>\n",
       "    </tr>\n",
       "  </tbody>\n",
       "</table>\n",
       "</div>"
      ],
      "text/plain": [
       "      C                                                                        \\\n",
       "  count      mean       std       min       25%       50%       75%       max   \n",
       "0   1.0 -1.835230       NaN -1.835230 -1.835230 -1.835230 -1.835230 -1.835230   \n",
       "1   1.0 -0.280786       NaN -0.280786 -0.280786 -0.280786 -0.280786 -0.280786   \n",
       "2   1.0 -0.346543       NaN -0.346543 -0.346543 -0.346543 -0.346543 -0.346543   \n",
       "3   2.0  0.200182  0.869478 -0.414631 -0.107225  0.200182  0.507589  0.814996   \n",
       "4   1.0  0.789111       NaN  0.789111  0.789111  0.789111  0.789111  0.789111   \n",
       "5   2.0 -0.089215  1.737582 -1.317871 -0.703543 -0.089215  0.525113  1.139441   \n",
       "\n",
       "      D                                                                        \n",
       "  count      mean       std       min       25%       50%       75%       max  \n",
       "0   1.0 -0.598235       NaN -0.598235 -0.598235 -0.598235 -0.598235 -0.598235  \n",
       "1   1.0  0.889175       NaN  0.889175  0.889175  0.889175  0.889175  0.889175  \n",
       "2   1.0 -0.083546       NaN -0.083546 -0.083546 -0.083546 -0.083546 -0.083546  \n",
       "3   2.0  0.774025  1.887412 -0.560577  0.106724  0.774025  1.441326  2.108627  \n",
       "4   1.0  0.257426       NaN  0.257426  0.257426  0.257426  0.257426  0.257426  \n",
       "5   2.0 -0.055724  0.757648 -0.591462 -0.323593 -0.055724  0.212145  0.480014  "
      ]
     },
     "execution_count": 25,
     "metadata": {},
     "output_type": "execute_result"
    }
   ],
   "source": [
    "grouped.size()\n",
    "grouped.describe()"
   ]
  },
  {
   "cell_type": "code",
   "execution_count": 26,
   "id": "directed-listening",
   "metadata": {},
   "outputs": [
    {
     "name": "stdout",
     "output_type": "stream",
     "text": [
      "     A  B\n",
      "0  foo  1\n",
      "1  foo  2\n",
      "2  foo  2\n",
      "3  bar  1\n",
      "4  bar  1\n",
      "     B\n",
      "A     \n",
      "bar  1\n",
      "foo  2\n"
     ]
    },
    {
     "data": {
      "text/plain": [
       "A    B\n",
       "bar  1    2\n",
       "foo  2    2\n",
       "     1    1\n",
       "Name: B, dtype: int64"
      ]
     },
     "execution_count": 26,
     "metadata": {},
     "output_type": "execute_result"
    }
   ],
   "source": [
    "ll = [['foo', 1], ['foo', 2], ['foo', 2], ['bar', 1], ['bar', 1]]\n",
    "df4 = pd.DataFrame(ll, columns=[\"A\", \"B\"])\n",
    "print(df4)\n",
    "print(df4.groupby('A').nunique())\n",
    "df4.groupby('A').B.value_counts()"
   ]
  },
  {
   "cell_type": "code",
   "execution_count": 27,
   "id": "medieval-watershed",
   "metadata": {},
   "outputs": [
    {
     "data": {
      "text/html": [
       "<div>\n",
       "<style scoped>\n",
       "    .dataframe tbody tr th:only-of-type {\n",
       "        vertical-align: middle;\n",
       "    }\n",
       "\n",
       "    .dataframe tbody tr th {\n",
       "        vertical-align: top;\n",
       "    }\n",
       "\n",
       "    .dataframe thead tr th {\n",
       "        text-align: left;\n",
       "    }\n",
       "\n",
       "    .dataframe thead tr:last-of-type th {\n",
       "        text-align: right;\n",
       "    }\n",
       "</style>\n",
       "<table border=\"1\" class=\"dataframe\">\n",
       "  <thead>\n",
       "    <tr>\n",
       "      <th></th>\n",
       "      <th colspan=\"2\" halign=\"left\">B</th>\n",
       "    </tr>\n",
       "    <tr>\n",
       "      <th></th>\n",
       "      <th>count</th>\n",
       "      <th>size</th>\n",
       "    </tr>\n",
       "    <tr>\n",
       "      <th>A</th>\n",
       "      <th></th>\n",
       "      <th></th>\n",
       "    </tr>\n",
       "  </thead>\n",
       "  <tbody>\n",
       "    <tr>\n",
       "      <th>bar</th>\n",
       "      <td>2</td>\n",
       "      <td>2</td>\n",
       "    </tr>\n",
       "    <tr>\n",
       "      <th>foo</th>\n",
       "      <td>3</td>\n",
       "      <td>3</td>\n",
       "    </tr>\n",
       "  </tbody>\n",
       "</table>\n",
       "</div>"
      ],
      "text/plain": [
       "        B     \n",
       "    count size\n",
       "A             \n",
       "bar     2    2\n",
       "foo     3    3"
      ]
     },
     "execution_count": 27,
     "metadata": {},
     "output_type": "execute_result"
    }
   ],
   "source": [
    "df4.groupby('A').agg(['count', 'size'])"
   ]
  },
  {
   "cell_type": "code",
   "execution_count": 28,
   "id": "returning-shipping",
   "metadata": {},
   "outputs": [
    {
     "data": {
      "text/html": [
       "<div>\n",
       "<style scoped>\n",
       "    .dataframe tbody tr th:only-of-type {\n",
       "        vertical-align: middle;\n",
       "    }\n",
       "\n",
       "    .dataframe tbody tr th {\n",
       "        vertical-align: top;\n",
       "    }\n",
       "\n",
       "    .dataframe thead th {\n",
       "        text-align: right;\n",
       "    }\n",
       "</style>\n",
       "<table border=\"1\" class=\"dataframe\">\n",
       "  <thead>\n",
       "    <tr style=\"text-align: right;\">\n",
       "      <th></th>\n",
       "      <th>sum</th>\n",
       "      <th>mean</th>\n",
       "      <th>std</th>\n",
       "    </tr>\n",
       "    <tr>\n",
       "      <th>A</th>\n",
       "      <th></th>\n",
       "      <th></th>\n",
       "      <th></th>\n",
       "    </tr>\n",
       "  </thead>\n",
       "  <tbody>\n",
       "    <tr>\n",
       "      <th>bar</th>\n",
       "      <td>-2.462559</td>\n",
       "      <td>-0.820853</td>\n",
       "      <td>0.879091</td>\n",
       "    </tr>\n",
       "    <tr>\n",
       "      <th>foo</th>\n",
       "      <td>1.011045</td>\n",
       "      <td>0.202209</td>\n",
       "      <td>1.035556</td>\n",
       "    </tr>\n",
       "  </tbody>\n",
       "</table>\n",
       "</div>"
      ],
      "text/plain": [
       "          sum      mean       std\n",
       "A                                \n",
       "bar -2.462559 -0.820853  0.879091\n",
       "foo  1.011045  0.202209  1.035556"
      ]
     },
     "execution_count": 28,
     "metadata": {},
     "output_type": "execute_result"
    }
   ],
   "source": [
    "grouped = df.groupby(\"A\")\n",
    "grouped.C.agg([np.sum, np.mean, np.std])"
   ]
  },
  {
   "cell_type": "code",
   "execution_count": 29,
   "id": "pretty-marketing",
   "metadata": {},
   "outputs": [
    {
     "data": {
      "text/html": [
       "<div>\n",
       "<style scoped>\n",
       "    .dataframe tbody tr th:only-of-type {\n",
       "        vertical-align: middle;\n",
       "    }\n",
       "\n",
       "    .dataframe tbody tr th {\n",
       "        vertical-align: top;\n",
       "    }\n",
       "\n",
       "    .dataframe thead th {\n",
       "        text-align: right;\n",
       "    }\n",
       "</style>\n",
       "<table border=\"1\" class=\"dataframe\">\n",
       "  <thead>\n",
       "    <tr style=\"text-align: right;\">\n",
       "      <th></th>\n",
       "      <th>foo</th>\n",
       "      <th>bar</th>\n",
       "      <th>baz</th>\n",
       "    </tr>\n",
       "    <tr>\n",
       "      <th>A</th>\n",
       "      <th></th>\n",
       "      <th></th>\n",
       "      <th></th>\n",
       "    </tr>\n",
       "  </thead>\n",
       "  <tbody>\n",
       "    <tr>\n",
       "      <th>bar</th>\n",
       "      <td>-2.462559</td>\n",
       "      <td>-0.820853</td>\n",
       "      <td>0.879091</td>\n",
       "    </tr>\n",
       "    <tr>\n",
       "      <th>foo</th>\n",
       "      <td>1.011045</td>\n",
       "      <td>0.202209</td>\n",
       "      <td>1.035556</td>\n",
       "    </tr>\n",
       "  </tbody>\n",
       "</table>\n",
       "</div>"
      ],
      "text/plain": [
       "          foo       bar       baz\n",
       "A                                \n",
       "bar -2.462559 -0.820853  0.879091\n",
       "foo  1.011045  0.202209  1.035556"
      ]
     },
     "execution_count": 29,
     "metadata": {},
     "output_type": "execute_result"
    }
   ],
   "source": [
    "grouped.C.agg([np.sum, np.mean, np.std]).rename(columns={'sum':'foo',\n",
    "                'mean':'bar', 'std':'baz'})"
   ]
  },
  {
   "cell_type": "code",
   "execution_count": 30,
   "id": "future-guidance",
   "metadata": {},
   "outputs": [
    {
     "data": {
      "text/html": [
       "<div>\n",
       "<style scoped>\n",
       "    .dataframe tbody tr th:only-of-type {\n",
       "        vertical-align: middle;\n",
       "    }\n",
       "\n",
       "    .dataframe tbody tr th {\n",
       "        vertical-align: top;\n",
       "    }\n",
       "\n",
       "    .dataframe thead th {\n",
       "        text-align: right;\n",
       "    }\n",
       "</style>\n",
       "<table border=\"1\" class=\"dataframe\">\n",
       "  <thead>\n",
       "    <tr style=\"text-align: right;\">\n",
       "      <th></th>\n",
       "      <th>kind</th>\n",
       "      <th>height</th>\n",
       "      <th>weight</th>\n",
       "    </tr>\n",
       "  </thead>\n",
       "  <tbody>\n",
       "    <tr>\n",
       "      <th>0</th>\n",
       "      <td>cat</td>\n",
       "      <td>9.1</td>\n",
       "      <td>7.9</td>\n",
       "    </tr>\n",
       "    <tr>\n",
       "      <th>1</th>\n",
       "      <td>dog</td>\n",
       "      <td>6.0</td>\n",
       "      <td>7.5</td>\n",
       "    </tr>\n",
       "    <tr>\n",
       "      <th>2</th>\n",
       "      <td>cat</td>\n",
       "      <td>9.5</td>\n",
       "      <td>9.9</td>\n",
       "    </tr>\n",
       "    <tr>\n",
       "      <th>3</th>\n",
       "      <td>dog</td>\n",
       "      <td>34.0</td>\n",
       "      <td>198.0</td>\n",
       "    </tr>\n",
       "  </tbody>\n",
       "</table>\n",
       "</div>"
      ],
      "text/plain": [
       "  kind  height  weight\n",
       "0  cat     9.1     7.9\n",
       "1  dog     6.0     7.5\n",
       "2  cat     9.5     9.9\n",
       "3  dog    34.0   198.0"
      ]
     },
     "execution_count": 30,
     "metadata": {},
     "output_type": "execute_result"
    }
   ],
   "source": [
    "animals = pd.DataFrame({\n",
    "  \"kind\": [\"cat\", \"dog\", \"cat\", \"dog\"],\n",
    "    \"height\": [9.1, 6.0, 9.5, 34.0],\n",
    "    \"weight\": [7.9, 7.5, 9.9, 198.0],\n",
    "})\n",
    "animals"
   ]
  },
  {
   "cell_type": "code",
   "execution_count": 31,
   "id": "hawaiian-liabilities",
   "metadata": {},
   "outputs": [
    {
     "data": {
      "text/html": [
       "<div>\n",
       "<style scoped>\n",
       "    .dataframe tbody tr th:only-of-type {\n",
       "        vertical-align: middle;\n",
       "    }\n",
       "\n",
       "    .dataframe tbody tr th {\n",
       "        vertical-align: top;\n",
       "    }\n",
       "\n",
       "    .dataframe thead th {\n",
       "        text-align: right;\n",
       "    }\n",
       "</style>\n",
       "<table border=\"1\" class=\"dataframe\">\n",
       "  <thead>\n",
       "    <tr style=\"text-align: right;\">\n",
       "      <th></th>\n",
       "      <th>min_height</th>\n",
       "      <th>max_height</th>\n",
       "      <th>avg_weight</th>\n",
       "    </tr>\n",
       "    <tr>\n",
       "      <th>kind</th>\n",
       "      <th></th>\n",
       "      <th></th>\n",
       "      <th></th>\n",
       "    </tr>\n",
       "  </thead>\n",
       "  <tbody>\n",
       "    <tr>\n",
       "      <th>cat</th>\n",
       "      <td>9.1</td>\n",
       "      <td>9.5</td>\n",
       "      <td>8.90</td>\n",
       "    </tr>\n",
       "    <tr>\n",
       "      <th>dog</th>\n",
       "      <td>6.0</td>\n",
       "      <td>34.0</td>\n",
       "      <td>102.75</td>\n",
       "    </tr>\n",
       "  </tbody>\n",
       "</table>\n",
       "</div>"
      ],
      "text/plain": [
       "      min_height  max_height  avg_weight\n",
       "kind                                    \n",
       "cat          9.1         9.5        8.90\n",
       "dog          6.0        34.0      102.75"
      ]
     },
     "execution_count": 31,
     "metadata": {},
     "output_type": "execute_result"
    }
   ],
   "source": [
    "animals.groupby('kind').agg(min_height = ('height', min),\n",
    "                           max_height = ('height', max),\n",
    "                           avg_weight = ('weight', 'mean'))"
   ]
  },
  {
   "cell_type": "code",
   "execution_count": 32,
   "id": "thick-laugh",
   "metadata": {},
   "outputs": [
    {
     "data": {
      "text/html": [
       "<div>\n",
       "<style scoped>\n",
       "    .dataframe tbody tr th:only-of-type {\n",
       "        vertical-align: middle;\n",
       "    }\n",
       "\n",
       "    .dataframe tbody tr th {\n",
       "        vertical-align: top;\n",
       "    }\n",
       "\n",
       "    .dataframe thead th {\n",
       "        text-align: right;\n",
       "    }\n",
       "</style>\n",
       "<table border=\"1\" class=\"dataframe\">\n",
       "  <thead>\n",
       "    <tr style=\"text-align: right;\">\n",
       "      <th></th>\n",
       "      <th>total weight</th>\n",
       "    </tr>\n",
       "    <tr>\n",
       "      <th>kind</th>\n",
       "      <th></th>\n",
       "    </tr>\n",
       "  </thead>\n",
       "  <tbody>\n",
       "    <tr>\n",
       "      <th>cat</th>\n",
       "      <td>17.8</td>\n",
       "    </tr>\n",
       "    <tr>\n",
       "      <th>dog</th>\n",
       "      <td>205.5</td>\n",
       "    </tr>\n",
       "  </tbody>\n",
       "</table>\n",
       "</div>"
      ],
      "text/plain": [
       "      total weight\n",
       "kind              \n",
       "cat           17.8\n",
       "dog          205.5"
      ]
     },
     "execution_count": 32,
     "metadata": {},
     "output_type": "execute_result"
    }
   ],
   "source": [
    "animals.groupby(\"kind\").agg(\n",
    "    **{\n",
    "        \"total weight\": pd.NamedAgg(column=\"weight\", aggfunc=sum)\n",
    "    })\n",
    "\n",
    "# Syntactic sugar\n",
    "animals.groupby(\"kind\").agg(\n",
    "    **{\n",
    "        \"total weight\": (\"weight\", sum)\n",
    "    })"
   ]
  },
  {
   "cell_type": "code",
   "execution_count": 33,
   "id": "colored-field",
   "metadata": {},
   "outputs": [
    {
     "data": {
      "text/html": [
       "<div>\n",
       "<style scoped>\n",
       "    .dataframe tbody tr th:only-of-type {\n",
       "        vertical-align: middle;\n",
       "    }\n",
       "\n",
       "    .dataframe tbody tr th {\n",
       "        vertical-align: top;\n",
       "    }\n",
       "\n",
       "    .dataframe thead th {\n",
       "        text-align: right;\n",
       "    }\n",
       "</style>\n",
       "<table border=\"1\" class=\"dataframe\">\n",
       "  <thead>\n",
       "    <tr style=\"text-align: right;\">\n",
       "      <th></th>\n",
       "      <th>min_height</th>\n",
       "      <th>max_height</th>\n",
       "    </tr>\n",
       "    <tr>\n",
       "      <th>kind</th>\n",
       "      <th></th>\n",
       "      <th></th>\n",
       "    </tr>\n",
       "  </thead>\n",
       "  <tbody>\n",
       "    <tr>\n",
       "      <th>cat</th>\n",
       "      <td>9.1</td>\n",
       "      <td>9.5</td>\n",
       "    </tr>\n",
       "    <tr>\n",
       "      <th>dog</th>\n",
       "      <td>6.0</td>\n",
       "      <td>34.0</td>\n",
       "    </tr>\n",
       "  </tbody>\n",
       "</table>\n",
       "</div>"
      ],
      "text/plain": [
       "      min_height  max_height\n",
       "kind                        \n",
       "cat          9.1         9.5\n",
       "dog          6.0        34.0"
      ]
     },
     "execution_count": 33,
     "metadata": {},
     "output_type": "execute_result"
    }
   ],
   "source": [
    "animals.groupby('kind').height.agg(min_height = min, max_height=max)"
   ]
  },
  {
   "cell_type": "code",
   "execution_count": 36,
   "id": "dried-latter",
   "metadata": {},
   "outputs": [
    {
     "data": {
      "text/html": [
       "<div>\n",
       "<style scoped>\n",
       "    .dataframe tbody tr th:only-of-type {\n",
       "        vertical-align: middle;\n",
       "    }\n",
       "\n",
       "    .dataframe tbody tr th {\n",
       "        vertical-align: top;\n",
       "    }\n",
       "\n",
       "    .dataframe thead th {\n",
       "        text-align: right;\n",
       "    }\n",
       "</style>\n",
       "<table border=\"1\" class=\"dataframe\">\n",
       "  <thead>\n",
       "    <tr style=\"text-align: right;\">\n",
       "      <th></th>\n",
       "      <th>C</th>\n",
       "      <th>D</th>\n",
       "    </tr>\n",
       "    <tr>\n",
       "      <th>A</th>\n",
       "      <th></th>\n",
       "      <th></th>\n",
       "    </tr>\n",
       "  </thead>\n",
       "  <tbody>\n",
       "    <tr>\n",
       "      <th>bar</th>\n",
       "      <td>-2.462559</td>\n",
       "      <td>0.755367</td>\n",
       "    </tr>\n",
       "    <tr>\n",
       "      <th>foo</th>\n",
       "      <td>1.011045</td>\n",
       "      <td>1.099218</td>\n",
       "    </tr>\n",
       "  </tbody>\n",
       "</table>\n",
       "</div>"
      ],
      "text/plain": [
       "            C         D\n",
       "A                      \n",
       "bar -2.462559  0.755367\n",
       "foo  1.011045  1.099218"
      ]
     },
     "execution_count": 36,
     "metadata": {},
     "output_type": "execute_result"
    }
   ],
   "source": [
    "grouped.agg({'C':np.sum, 'D':lambda x:np.std(x, ddof=1)})\n",
    "\n",
    "grouped.agg({\"C\": \"sum\", \"D\": \"std\"})"
   ]
  },
  {
   "cell_type": "code",
   "execution_count": 38,
   "id": "welsh-chancellor",
   "metadata": {},
   "outputs": [
    {
     "data": {
      "text/html": [
       "<div>\n",
       "<style scoped>\n",
       "    .dataframe tbody tr th:only-of-type {\n",
       "        vertical-align: middle;\n",
       "    }\n",
       "\n",
       "    .dataframe tbody tr th {\n",
       "        vertical-align: top;\n",
       "    }\n",
       "\n",
       "    .dataframe thead th {\n",
       "        text-align: right;\n",
       "    }\n",
       "</style>\n",
       "<table border=\"1\" class=\"dataframe\">\n",
       "  <thead>\n",
       "    <tr style=\"text-align: right;\">\n",
       "      <th></th>\n",
       "      <th></th>\n",
       "      <th>C</th>\n",
       "      <th>D</th>\n",
       "    </tr>\n",
       "    <tr>\n",
       "      <th>A</th>\n",
       "      <th>B</th>\n",
       "      <th></th>\n",
       "      <th></th>\n",
       "    </tr>\n",
       "  </thead>\n",
       "  <tbody>\n",
       "    <tr>\n",
       "      <th rowspan=\"3\" valign=\"top\">bar</th>\n",
       "      <th>one</th>\n",
       "      <td>-1.835230</td>\n",
       "      <td>-0.598235</td>\n",
       "    </tr>\n",
       "    <tr>\n",
       "      <th>three</th>\n",
       "      <td>-0.280786</td>\n",
       "      <td>0.889175</td>\n",
       "    </tr>\n",
       "    <tr>\n",
       "      <th>two</th>\n",
       "      <td>-0.346543</td>\n",
       "      <td>-0.083546</td>\n",
       "    </tr>\n",
       "    <tr>\n",
       "      <th rowspan=\"3\" valign=\"top\">foo</th>\n",
       "      <th>one</th>\n",
       "      <td>0.200182</td>\n",
       "      <td>0.774025</td>\n",
       "    </tr>\n",
       "    <tr>\n",
       "      <th>three</th>\n",
       "      <td>0.789111</td>\n",
       "      <td>0.257426</td>\n",
       "    </tr>\n",
       "    <tr>\n",
       "      <th>two</th>\n",
       "      <td>-0.089215</td>\n",
       "      <td>-0.055724</td>\n",
       "    </tr>\n",
       "  </tbody>\n",
       "</table>\n",
       "</div>"
      ],
      "text/plain": [
       "                  C         D\n",
       "A   B                        \n",
       "bar one   -1.835230 -0.598235\n",
       "    three -0.280786  0.889175\n",
       "    two   -0.346543 -0.083546\n",
       "foo one    0.200182  0.774025\n",
       "    three  0.789111  0.257426\n",
       "    two   -0.089215 -0.055724"
      ]
     },
     "execution_count": 38,
     "metadata": {},
     "output_type": "execute_result"
    }
   ],
   "source": [
    "df.groupby('A').sum()\n",
    "df.groupby(['A', 'B']).mean()"
   ]
  },
  {
   "cell_type": "code",
   "execution_count": 56,
   "id": "muslim-suspect",
   "metadata": {},
   "outputs": [
    {
     "data": {
      "text/plain": [
       "2000-01-08   -0.100932\n",
       "2000-01-09    0.267320\n",
       "2000-01-10    0.280501\n",
       "2000-01-11    0.296532\n",
       "2000-01-12    0.456590\n",
       "                ...   \n",
       "2002-09-30    2.247179\n",
       "2002-10-01    1.995587\n",
       "2002-10-02    2.207213\n",
       "2002-10-03    1.926540\n",
       "2002-10-04    1.943039\n",
       "Freq: D, Length: 1001, dtype: float64"
      ]
     },
     "execution_count": 56,
     "metadata": {},
     "output_type": "execute_result"
    }
   ],
   "source": [
    "index = pd.date_range(\"10/1/1999\", periods=1100)\n",
    "ts = pd.Series(np.random.normal(0.5, 2, 1100), index)\n",
    "ts = ts.rolling(window=100, min_periods=100).mean().dropna()\n",
    "ts.head()\n",
    "ts.tail()\n",
    "transformed = ts.groupby(lambda x: x.year).transform(\n",
    "    lambda x: (x - x.mean()) / x.std())\n",
    "transformed"
   ]
  },
  {
   "cell_type": "code",
   "execution_count": 60,
   "id": "through-performer",
   "metadata": {},
   "outputs": [
    {
     "data": {
      "text/plain": [
       "2000    1.0\n",
       "2001    1.0\n",
       "2002    1.0\n",
       "dtype: float64"
      ]
     },
     "execution_count": 60,
     "metadata": {},
     "output_type": "execute_result"
    }
   ],
   "source": [
    "# Original Data\n",
    "\n",
    "grouped = ts.groupby(lambda x: x.year)\n",
    "grouped.mean()\n",
    "grouped.std()\n",
    "\n",
    "# Transformed Data\n",
    "grouped_trans = transformed.groupby(lambda x: x.year)\n",
    "grouped_trans.mean()\n",
    "grouped_trans.std()"
   ]
  },
  {
   "cell_type": "code",
   "execution_count": 62,
   "id": "devoted-carry",
   "metadata": {},
   "outputs": [
    {
     "data": {
      "text/plain": [
       "<AxesSubplot:>"
      ]
     },
     "execution_count": 62,
     "metadata": {},
     "output_type": "execute_result"
    },
    {
     "data": {
      "image/png": "[encoded data removed]",
      "text/plain": [
       "<Figure size 432x288 with 1 Axes>"
      ]
     },
     "metadata": {
      "needs_background": "light"
     },
     "output_type": "display_data"
    }
   ],
   "source": [
    "compare = pd.DataFrame({\n",
    "    'Original':ts,\n",
    "    'Transformed':transformed\n",
    "})\n",
    "compare.plot()"
   ]
  },
  {
   "cell_type": "code",
   "execution_count": 66,
   "id": "prepared-worst",
   "metadata": {},
   "outputs": [
    {
     "data": {
      "text/plain": [
       "2000-01-08    0.581170\n",
       "2000-01-09    0.581170\n",
       "2000-01-10    0.581170\n",
       "2000-01-11    0.581170\n",
       "2000-01-12    0.581170\n",
       "                ...   \n",
       "2002-09-30    0.637862\n",
       "2002-10-01    0.637862\n",
       "2002-10-02    0.637862\n",
       "2002-10-03    0.637862\n",
       "2002-10-04    0.637862\n",
       "Freq: D, Length: 1001, dtype: float64"
      ]
     },
     "execution_count": 66,
     "metadata": {},
     "output_type": "execute_result"
    }
   ],
   "source": [
    "ts.groupby(lambda x: x.year).transform(lambda x: x.max() - x.min())"
   ]
  },
  {
   "cell_type": "code",
   "execution_count": 70,
   "id": "activated-composer",
   "metadata": {},
   "outputs": [
    {
     "data": {
      "text/plain": [
       "2000-01-08    0.581170\n",
       "2000-01-09    0.581170\n",
       "2000-01-10    0.581170\n",
       "2000-01-11    0.581170\n",
       "2000-01-12    0.581170\n",
       "                ...   \n",
       "2002-09-30    0.637862\n",
       "2002-10-01    0.637862\n",
       "2002-10-02    0.637862\n",
       "2002-10-03    0.637862\n",
       "2002-10-04    0.637862\n",
       "Freq: D, Length: 1001, dtype: float64"
      ]
     },
     "execution_count": 70,
     "metadata": {},
     "output_type": "execute_result"
    }
   ],
   "source": [
    "max = ts.groupby(lambda x: x.year).transform('max')\n",
    "min = ts.groupby(lambda x: x.year).transform('min')\n",
    "max - min"
   ]
  },
  {
   "cell_type": "code",
   "execution_count": 83,
   "id": "standard-quebec",
   "metadata": {},
   "outputs": [
    {
     "data": {
      "text/html": [
       "<div>\n",
       "<style scoped>\n",
       "    .dataframe tbody tr th:only-of-type {\n",
       "        vertical-align: middle;\n",
       "    }\n",
       "\n",
       "    .dataframe tbody tr th {\n",
       "        vertical-align: top;\n",
       "    }\n",
       "\n",
       "    .dataframe thead th {\n",
       "        text-align: right;\n",
       "    }\n",
       "</style>\n",
       "<table border=\"1\" class=\"dataframe\">\n",
       "  <thead>\n",
       "    <tr style=\"text-align: right;\">\n",
       "      <th></th>\n",
       "      <th>A</th>\n",
       "      <th>B</th>\n",
       "      <th>C</th>\n",
       "    </tr>\n",
       "  </thead>\n",
       "  <tbody>\n",
       "    <tr>\n",
       "      <th>0</th>\n",
       "      <td>0.533388</td>\n",
       "      <td>-1.005767</td>\n",
       "      <td>0.010493</td>\n",
       "    </tr>\n",
       "    <tr>\n",
       "      <th>1</th>\n",
       "      <td>-0.038879</td>\n",
       "      <td>0.010177</td>\n",
       "      <td>-0.075068</td>\n",
       "    </tr>\n",
       "    <tr>\n",
       "      <th>2</th>\n",
       "      <td>-0.163673</td>\n",
       "      <td>-0.049789</td>\n",
       "      <td>0.121980</td>\n",
       "    </tr>\n",
       "    <tr>\n",
       "      <th>3</th>\n",
       "      <td>-0.038879</td>\n",
       "      <td>0.010177</td>\n",
       "      <td>-0.075068</td>\n",
       "    </tr>\n",
       "    <tr>\n",
       "      <th>4</th>\n",
       "      <td>-0.217335</td>\n",
       "      <td>-0.034799</td>\n",
       "      <td>-0.004809</td>\n",
       "    </tr>\n",
       "    <tr>\n",
       "      <th>...</th>\n",
       "      <td>...</td>\n",
       "      <td>...</td>\n",
       "      <td>...</td>\n",
       "    </tr>\n",
       "    <tr>\n",
       "      <th>995</th>\n",
       "      <td>-0.255271</td>\n",
       "      <td>-0.951633</td>\n",
       "      <td>1.687543</td>\n",
       "    </tr>\n",
       "    <tr>\n",
       "      <th>996</th>\n",
       "      <td>-0.499469</td>\n",
       "      <td>2.493994</td>\n",
       "      <td>1.110352</td>\n",
       "    </tr>\n",
       "    <tr>\n",
       "      <th>997</th>\n",
       "      <td>1.594732</td>\n",
       "      <td>0.954558</td>\n",
       "      <td>1.573561</td>\n",
       "    </tr>\n",
       "    <tr>\n",
       "      <th>998</th>\n",
       "      <td>-1.767205</td>\n",
       "      <td>-0.969199</td>\n",
       "      <td>0.632310</td>\n",
       "    </tr>\n",
       "    <tr>\n",
       "      <th>999</th>\n",
       "      <td>0.405794</td>\n",
       "      <td>-1.466000</td>\n",
       "      <td>-0.733814</td>\n",
       "    </tr>\n",
       "  </tbody>\n",
       "</table>\n",
       "<p>1000 rows × 3 columns</p>\n",
       "</div>"
      ],
      "text/plain": [
       "            A         B         C\n",
       "0    0.533388 -1.005767  0.010493\n",
       "1   -0.038879  0.010177 -0.075068\n",
       "2   -0.163673 -0.049789  0.121980\n",
       "3   -0.038879  0.010177 -0.075068\n",
       "4   -0.217335 -0.034799 -0.004809\n",
       "..        ...       ...       ...\n",
       "995 -0.255271 -0.951633  1.687543\n",
       "996 -0.499469  2.493994  1.110352\n",
       "997  1.594732  0.954558  1.573561\n",
       "998 -1.767205 -0.969199  0.632310\n",
       "999  0.405794 -1.466000 -0.733814\n",
       "\n",
       "[1000 rows x 3 columns]"
      ]
     },
     "execution_count": 83,
     "metadata": {},
     "output_type": "execute_result"
    }
   ],
   "source": [
    "data_df = pd.DataFrame(np.random.randn(1000,3), columns=list('ABC'))\n",
    "data_df[1:500] = np.nan\n",
    "data_df\n",
    "\n",
    "countries = np.array(['US', 'UK', 'GR', 'JP'])\n",
    "key = countries[np.random.randint(0,4,1000)]\n",
    "grouped = data_df.groupby(key)\n",
    "grouped.count()\n",
    "\n",
    "transformed = grouped.transform(lambda x: x.fillna(x.mean()))\n",
    "transformed"
   ]
  },
  {
   "cell_type": "code",
   "execution_count": 84,
   "id": "architectural-simpson",
   "metadata": {},
   "outputs": [
    {
     "data": {
      "text/html": [
       "<div>\n",
       "<style scoped>\n",
       "    .dataframe tbody tr th:only-of-type {\n",
       "        vertical-align: middle;\n",
       "    }\n",
       "\n",
       "    .dataframe tbody tr th {\n",
       "        vertical-align: top;\n",
       "    }\n",
       "\n",
       "    .dataframe thead th {\n",
       "        text-align: right;\n",
       "    }\n",
       "</style>\n",
       "<table border=\"1\" class=\"dataframe\">\n",
       "  <thead>\n",
       "    <tr style=\"text-align: right;\">\n",
       "      <th></th>\n",
       "      <th>A</th>\n",
       "      <th>B</th>\n",
       "      <th>C</th>\n",
       "    </tr>\n",
       "  </thead>\n",
       "  <tbody>\n",
       "    <tr>\n",
       "      <th>GR</th>\n",
       "      <td>-0.217335</td>\n",
       "      <td>-0.034799</td>\n",
       "      <td>-0.004809</td>\n",
       "    </tr>\n",
       "    <tr>\n",
       "      <th>JP</th>\n",
       "      <td>-0.038879</td>\n",
       "      <td>0.010177</td>\n",
       "      <td>-0.075068</td>\n",
       "    </tr>\n",
       "    <tr>\n",
       "      <th>UK</th>\n",
       "      <td>-0.064048</td>\n",
       "      <td>0.063757</td>\n",
       "      <td>0.089282</td>\n",
       "    </tr>\n",
       "    <tr>\n",
       "      <th>US</th>\n",
       "      <td>-0.163673</td>\n",
       "      <td>-0.049789</td>\n",
       "      <td>0.121980</td>\n",
       "    </tr>\n",
       "  </tbody>\n",
       "</table>\n",
       "</div>"
      ],
      "text/plain": [
       "           A         B         C\n",
       "GR -0.217335 -0.034799 -0.004809\n",
       "JP -0.038879  0.010177 -0.075068\n",
       "UK -0.064048  0.063757  0.089282\n",
       "US -0.163673 -0.049789  0.121980"
      ]
     },
     "execution_count": 84,
     "metadata": {},
     "output_type": "execute_result"
    }
   ],
   "source": [
    "grouped_trans = transformed.groupby(key)\n",
    "grouped.mean() # original group means"
   ]
  },
  {
   "cell_type": "code",
   "execution_count": 87,
   "id": "medieval-affiliate",
   "metadata": {},
   "outputs": [
    {
     "data": {
      "text/html": [
       "<div>\n",
       "<style scoped>\n",
       "    .dataframe tbody tr th:only-of-type {\n",
       "        vertical-align: middle;\n",
       "    }\n",
       "\n",
       "    .dataframe tbody tr th {\n",
       "        vertical-align: top;\n",
       "    }\n",
       "\n",
       "    .dataframe thead th {\n",
       "        text-align: right;\n",
       "    }\n",
       "</style>\n",
       "<table border=\"1\" class=\"dataframe\">\n",
       "  <thead>\n",
       "    <tr style=\"text-align: right;\">\n",
       "      <th></th>\n",
       "      <th>A</th>\n",
       "      <th>B</th>\n",
       "      <th>C</th>\n",
       "    </tr>\n",
       "  </thead>\n",
       "  <tbody>\n",
       "    <tr>\n",
       "      <th>GR</th>\n",
       "      <td>275</td>\n",
       "      <td>275</td>\n",
       "      <td>275</td>\n",
       "    </tr>\n",
       "    <tr>\n",
       "      <th>JP</th>\n",
       "      <td>276</td>\n",
       "      <td>276</td>\n",
       "      <td>276</td>\n",
       "    </tr>\n",
       "    <tr>\n",
       "      <th>UK</th>\n",
       "      <td>220</td>\n",
       "      <td>220</td>\n",
       "      <td>220</td>\n",
       "    </tr>\n",
       "    <tr>\n",
       "      <th>US</th>\n",
       "      <td>229</td>\n",
       "      <td>229</td>\n",
       "      <td>229</td>\n",
       "    </tr>\n",
       "  </tbody>\n",
       "</table>\n",
       "</div>"
      ],
      "text/plain": [
       "      A    B    C\n",
       "GR  275  275  275\n",
       "JP  276  276  276\n",
       "UK  220  220  220\n",
       "US  229  229  229"
      ]
     },
     "execution_count": 87,
     "metadata": {},
     "output_type": "execute_result"
    }
   ],
   "source": [
    "grouped_trans.mean()\n",
    "\n",
    "grouped.count()\n",
    "grouped_trans.count()"
   ]
  },
  {
   "cell_type": "code",
   "execution_count": 89,
   "id": "equivalent-athens",
   "metadata": {},
   "outputs": [
    {
     "data": {
      "text/plain": [
       "GR    275\n",
       "JP    276\n",
       "UK    220\n",
       "US    229\n",
       "dtype: int64"
      ]
     },
     "execution_count": 89,
     "metadata": {},
     "output_type": "execute_result"
    }
   ],
   "source": [
    "grouped.size()\n",
    "grouped_trans.size()"
   ]
  },
  {
   "cell_type": "code",
   "execution_count": 96,
   "id": "sought-timber",
   "metadata": {},
   "outputs": [
    {
     "data": {
      "text/plain": [
       "c\n",
       "UK    2\n",
       "US    4\n",
       "dtype: int64"
      ]
     },
     "execution_count": 96,
     "metadata": {},
     "output_type": "execute_result"
    }
   ],
   "source": [
    "df = pd.DataFrame({\n",
    "    'a':[10,20,40,np.nan,50,60],\n",
    "    'c':['UK','US','US','US','UK','US']\n",
    "})\n",
    "\n",
    "df.groupby('c').count()\n",
    "\ta\n",
    "c\t\n",
    "UK\t2\n",
    "US\t3\n",
    "\n",
    "df.groupby('c').size()\n",
    "c\n",
    "UK    2\n",
    "US    4"
   ]
  },
  {
   "cell_type": "code",
   "execution_count": 100,
   "id": "norman-greenhouse",
   "metadata": {},
   "outputs": [
    {
     "data": {
      "text/html": [
       "<div>\n",
       "<style scoped>\n",
       "    .dataframe tbody tr th:only-of-type {\n",
       "        vertical-align: middle;\n",
       "    }\n",
       "\n",
       "    .dataframe tbody tr th {\n",
       "        vertical-align: top;\n",
       "    }\n",
       "\n",
       "    .dataframe thead th {\n",
       "        text-align: right;\n",
       "    }\n",
       "</style>\n",
       "<table border=\"1\" class=\"dataframe\">\n",
       "  <thead>\n",
       "    <tr style=\"text-align: right;\">\n",
       "      <th></th>\n",
       "      <th>A</th>\n",
       "      <th>B</th>\n",
       "      <th>C</th>\n",
       "    </tr>\n",
       "  </thead>\n",
       "  <tbody>\n",
       "    <tr>\n",
       "      <th>0</th>\n",
       "      <td>0.533388</td>\n",
       "      <td>-1.005767</td>\n",
       "      <td>0.010493</td>\n",
       "    </tr>\n",
       "    <tr>\n",
       "      <th>1</th>\n",
       "      <td>NaN</td>\n",
       "      <td>NaN</td>\n",
       "      <td>NaN</td>\n",
       "    </tr>\n",
       "    <tr>\n",
       "      <th>2</th>\n",
       "      <td>NaN</td>\n",
       "      <td>NaN</td>\n",
       "      <td>NaN</td>\n",
       "    </tr>\n",
       "    <tr>\n",
       "      <th>3</th>\n",
       "      <td>NaN</td>\n",
       "      <td>NaN</td>\n",
       "      <td>NaN</td>\n",
       "    </tr>\n",
       "    <tr>\n",
       "      <th>4</th>\n",
       "      <td>0.533388</td>\n",
       "      <td>-1.005767</td>\n",
       "      <td>0.010493</td>\n",
       "    </tr>\n",
       "    <tr>\n",
       "      <th>...</th>\n",
       "      <td>...</td>\n",
       "      <td>...</td>\n",
       "      <td>...</td>\n",
       "    </tr>\n",
       "    <tr>\n",
       "      <th>995</th>\n",
       "      <td>-0.255271</td>\n",
       "      <td>-0.951633</td>\n",
       "      <td>1.687543</td>\n",
       "    </tr>\n",
       "    <tr>\n",
       "      <th>996</th>\n",
       "      <td>-0.499469</td>\n",
       "      <td>2.493994</td>\n",
       "      <td>1.110352</td>\n",
       "    </tr>\n",
       "    <tr>\n",
       "      <th>997</th>\n",
       "      <td>1.594732</td>\n",
       "      <td>0.954558</td>\n",
       "      <td>1.573561</td>\n",
       "    </tr>\n",
       "    <tr>\n",
       "      <th>998</th>\n",
       "      <td>-1.767205</td>\n",
       "      <td>-0.969199</td>\n",
       "      <td>0.632310</td>\n",
       "    </tr>\n",
       "    <tr>\n",
       "      <th>999</th>\n",
       "      <td>0.405794</td>\n",
       "      <td>-1.466000</td>\n",
       "      <td>-0.733814</td>\n",
       "    </tr>\n",
       "  </tbody>\n",
       "</table>\n",
       "<p>1000 rows × 3 columns</p>\n",
       "</div>"
      ],
      "text/plain": [
       "            A         B         C\n",
       "0    0.533388 -1.005767  0.010493\n",
       "1         NaN       NaN       NaN\n",
       "2         NaN       NaN       NaN\n",
       "3         NaN       NaN       NaN\n",
       "4    0.533388 -1.005767  0.010493\n",
       "..        ...       ...       ...\n",
       "995 -0.255271 -0.951633  1.687543\n",
       "996 -0.499469  2.493994  1.110352\n",
       "997  1.594732  0.954558  1.573561\n",
       "998 -1.767205 -0.969199  0.632310\n",
       "999  0.405794 -1.466000 -0.733814\n",
       "\n",
       "[1000 rows x 3 columns]"
      ]
     },
     "execution_count": 100,
     "metadata": {},
     "output_type": "execute_result"
    }
   ],
   "source": [
    "data_df\n",
    "grouped.ffill()"
   ]
  },
  {
   "cell_type": "code",
   "execution_count": 109,
   "id": "mature-macro",
   "metadata": {},
   "outputs": [
    {
     "data": {
      "text/html": [
       "<div>\n",
       "<style scoped>\n",
       "    .dataframe tbody tr th:only-of-type {\n",
       "        vertical-align: middle;\n",
       "    }\n",
       "\n",
       "    .dataframe tbody tr th {\n",
       "        vertical-align: top;\n",
       "    }\n",
       "\n",
       "    .dataframe thead th {\n",
       "        text-align: right;\n",
       "    }\n",
       "</style>\n",
       "<table border=\"1\" class=\"dataframe\">\n",
       "  <thead>\n",
       "    <tr style=\"text-align: right;\">\n",
       "      <th></th>\n",
       "      <th>vol</th>\n",
       "    </tr>\n",
       "    <tr>\n",
       "      <th>date</th>\n",
       "      <th></th>\n",
       "    </tr>\n",
       "  </thead>\n",
       "  <tbody>\n",
       "    <tr>\n",
       "      <th>2017-01-01</th>\n",
       "      <td>365</td>\n",
       "    </tr>\n",
       "    <tr>\n",
       "      <th>2017-01-02</th>\n",
       "      <td>365</td>\n",
       "    </tr>\n",
       "    <tr>\n",
       "      <th>2017-01-03</th>\n",
       "      <td>365</td>\n",
       "    </tr>\n",
       "    <tr>\n",
       "      <th>2017-01-04</th>\n",
       "      <td>365</td>\n",
       "    </tr>\n",
       "    <tr>\n",
       "      <th>2017-01-05</th>\n",
       "      <td>365</td>\n",
       "    </tr>\n",
       "    <tr>\n",
       "      <th>...</th>\n",
       "      <td>...</td>\n",
       "    </tr>\n",
       "    <tr>\n",
       "      <th>2019-09-23</th>\n",
       "      <td>270</td>\n",
       "    </tr>\n",
       "    <tr>\n",
       "      <th>2019-09-24</th>\n",
       "      <td>270</td>\n",
       "    </tr>\n",
       "    <tr>\n",
       "      <th>2019-09-25</th>\n",
       "      <td>270</td>\n",
       "    </tr>\n",
       "    <tr>\n",
       "      <th>2019-09-26</th>\n",
       "      <td>270</td>\n",
       "    </tr>\n",
       "    <tr>\n",
       "      <th>2019-09-27</th>\n",
       "      <td>270</td>\n",
       "    </tr>\n",
       "  </tbody>\n",
       "</table>\n",
       "<p>1000 rows × 1 columns</p>\n",
       "</div>"
      ],
      "text/plain": [
       "            vol\n",
       "date           \n",
       "2017-01-01  365\n",
       "2017-01-02  365\n",
       "2017-01-03  365\n",
       "2017-01-04  365\n",
       "2017-01-05  365\n",
       "...         ...\n",
       "2019-09-23  270\n",
       "2019-09-24  270\n",
       "2019-09-25  270\n",
       "2019-09-26  270\n",
       "2019-09-27  270\n",
       "\n",
       "[1000 rows x 1 columns]"
      ]
     },
     "execution_count": 109,
     "metadata": {},
     "output_type": "execute_result"
    }
   ],
   "source": [
    "df = DataFrame({\n",
    "    'date' : pd.date_range('2017.01.01', periods=1000),\n",
    "    'vol' : np.random.choice(100,1000)\n",
    "})\n",
    "df = df.set_index('date')\n",
    "df.groupby(lambda x: x.year).transform('count')"
   ]
  },
  {
   "cell_type": "code",
   "execution_count": 122,
   "id": "configured-session",
   "metadata": {},
   "outputs": [
    {
     "data": {
      "text/html": [
       "<div>\n",
       "<style scoped>\n",
       "    .dataframe tbody tr th:only-of-type {\n",
       "        vertical-align: middle;\n",
       "    }\n",
       "\n",
       "    .dataframe tbody tr th {\n",
       "        vertical-align: top;\n",
       "    }\n",
       "\n",
       "    .dataframe thead th {\n",
       "        text-align: right;\n",
       "    }\n",
       "</style>\n",
       "<table border=\"1\" class=\"dataframe\">\n",
       "  <thead>\n",
       "    <tr style=\"text-align: right;\">\n",
       "      <th></th>\n",
       "      <th></th>\n",
       "      <th>A</th>\n",
       "      <th>B</th>\n",
       "    </tr>\n",
       "    <tr>\n",
       "      <th>A</th>\n",
       "      <th></th>\n",
       "      <th></th>\n",
       "      <th></th>\n",
       "    </tr>\n",
       "  </thead>\n",
       "  <tbody>\n",
       "    <tr>\n",
       "      <th rowspan=\"5\" valign=\"top\">1</th>\n",
       "      <th>0</th>\n",
       "      <td>1.0</td>\n",
       "      <td>0.0</td>\n",
       "    </tr>\n",
       "    <tr>\n",
       "      <th>1</th>\n",
       "      <td>2.0</td>\n",
       "      <td>1.0</td>\n",
       "    </tr>\n",
       "    <tr>\n",
       "      <th>2</th>\n",
       "      <td>3.0</td>\n",
       "      <td>3.0</td>\n",
       "    </tr>\n",
       "    <tr>\n",
       "      <th>3</th>\n",
       "      <td>4.0</td>\n",
       "      <td>6.0</td>\n",
       "    </tr>\n",
       "    <tr>\n",
       "      <th>4</th>\n",
       "      <td>5.0</td>\n",
       "      <td>10.0</td>\n",
       "    </tr>\n",
       "    <tr>\n",
       "      <th rowspan=\"5\" valign=\"top\">5</th>\n",
       "      <th>5</th>\n",
       "      <td>5.0</td>\n",
       "      <td>5.0</td>\n",
       "    </tr>\n",
       "    <tr>\n",
       "      <th>6</th>\n",
       "      <td>10.0</td>\n",
       "      <td>11.0</td>\n",
       "    </tr>\n",
       "    <tr>\n",
       "      <th>7</th>\n",
       "      <td>15.0</td>\n",
       "      <td>18.0</td>\n",
       "    </tr>\n",
       "    <tr>\n",
       "      <th>8</th>\n",
       "      <td>20.0</td>\n",
       "      <td>26.0</td>\n",
       "    </tr>\n",
       "    <tr>\n",
       "      <th>9</th>\n",
       "      <td>25.0</td>\n",
       "      <td>35.0</td>\n",
       "    </tr>\n",
       "  </tbody>\n",
       "</table>\n",
       "</div>"
      ],
      "text/plain": [
       "        A     B\n",
       "A              \n",
       "1 0   1.0   0.0\n",
       "  1   2.0   1.0\n",
       "  2   3.0   3.0\n",
       "  3   4.0   6.0\n",
       "  4   5.0  10.0\n",
       "5 5   5.0   5.0\n",
       "  6  10.0  11.0\n",
       "  7  15.0  18.0\n",
       "  8  20.0  26.0\n",
       "  9  25.0  35.0"
      ]
     },
     "execution_count": 122,
     "metadata": {},
     "output_type": "execute_result"
    }
   ],
   "source": [
    "df_re = pd.DataFrame({\n",
    "    'A':np.repeat([1,5],5),\n",
    "    'B':np.arange(10)\n",
    "})\n",
    "df_re.groupby('A').rolling(4).B.mean()\n",
    "df_re.groupby('A').expanding(4).B.mean()\n",
    "df_re.groupby(\"A\").expanding().sum()\n"
   ]
  },
  {
   "cell_type": "code",
   "execution_count": 133,
   "id": "reserved-chance",
   "metadata": {},
   "outputs": [
    {
     "data": {
      "text/html": [
       "<div>\n",
       "<style scoped>\n",
       "    .dataframe tbody tr th:only-of-type {\n",
       "        vertical-align: middle;\n",
       "    }\n",
       "\n",
       "    .dataframe tbody tr th {\n",
       "        vertical-align: top;\n",
       "    }\n",
       "\n",
       "    .dataframe thead th {\n",
       "        text-align: right;\n",
       "    }\n",
       "</style>\n",
       "<table border=\"1\" class=\"dataframe\">\n",
       "  <thead>\n",
       "    <tr style=\"text-align: right;\">\n",
       "      <th></th>\n",
       "      <th></th>\n",
       "      <th>group</th>\n",
       "      <th>val</th>\n",
       "    </tr>\n",
       "    <tr>\n",
       "      <th></th>\n",
       "      <th>date</th>\n",
       "      <th></th>\n",
       "      <th></th>\n",
       "    </tr>\n",
       "  </thead>\n",
       "  <tbody>\n",
       "    <tr>\n",
       "      <th rowspan=\"8\" valign=\"top\">0</th>\n",
       "      <th>2016-01-03</th>\n",
       "      <td>1</td>\n",
       "      <td>5</td>\n",
       "    </tr>\n",
       "    <tr>\n",
       "      <th>2016-01-04</th>\n",
       "      <td>1</td>\n",
       "      <td>5</td>\n",
       "    </tr>\n",
       "    <tr>\n",
       "      <th>2016-01-05</th>\n",
       "      <td>1</td>\n",
       "      <td>5</td>\n",
       "    </tr>\n",
       "    <tr>\n",
       "      <th>2016-01-06</th>\n",
       "      <td>1</td>\n",
       "      <td>5</td>\n",
       "    </tr>\n",
       "    <tr>\n",
       "      <th>2016-01-07</th>\n",
       "      <td>1</td>\n",
       "      <td>5</td>\n",
       "    </tr>\n",
       "    <tr>\n",
       "      <th>2016-01-08</th>\n",
       "      <td>1</td>\n",
       "      <td>5</td>\n",
       "    </tr>\n",
       "    <tr>\n",
       "      <th>2016-01-09</th>\n",
       "      <td>1</td>\n",
       "      <td>5</td>\n",
       "    </tr>\n",
       "    <tr>\n",
       "      <th>2016-01-10</th>\n",
       "      <td>1</td>\n",
       "      <td>6</td>\n",
       "    </tr>\n",
       "    <tr>\n",
       "      <th rowspan=\"8\" valign=\"top\">1</th>\n",
       "      <th>2016-01-17</th>\n",
       "      <td>2</td>\n",
       "      <td>7</td>\n",
       "    </tr>\n",
       "    <tr>\n",
       "      <th>2016-01-18</th>\n",
       "      <td>2</td>\n",
       "      <td>7</td>\n",
       "    </tr>\n",
       "    <tr>\n",
       "      <th>2016-01-19</th>\n",
       "      <td>2</td>\n",
       "      <td>7</td>\n",
       "    </tr>\n",
       "    <tr>\n",
       "      <th>2016-01-20</th>\n",
       "      <td>2</td>\n",
       "      <td>7</td>\n",
       "    </tr>\n",
       "    <tr>\n",
       "      <th>2016-01-21</th>\n",
       "      <td>2</td>\n",
       "      <td>7</td>\n",
       "    </tr>\n",
       "    <tr>\n",
       "      <th>2016-01-22</th>\n",
       "      <td>2</td>\n",
       "      <td>7</td>\n",
       "    </tr>\n",
       "    <tr>\n",
       "      <th>2016-01-23</th>\n",
       "      <td>2</td>\n",
       "      <td>7</td>\n",
       "    </tr>\n",
       "    <tr>\n",
       "      <th>2016-01-24</th>\n",
       "      <td>2</td>\n",
       "      <td>8</td>\n",
       "    </tr>\n",
       "  </tbody>\n",
       "</table>\n",
       "</div>"
      ],
      "text/plain": [
       "              group  val\n",
       "  date                  \n",
       "0 2016-01-03      1    5\n",
       "  2016-01-04      1    5\n",
       "  2016-01-05      1    5\n",
       "  2016-01-06      1    5\n",
       "  2016-01-07      1    5\n",
       "  2016-01-08      1    5\n",
       "  2016-01-09      1    5\n",
       "  2016-01-10      1    6\n",
       "1 2016-01-17      2    7\n",
       "  2016-01-18      2    7\n",
       "  2016-01-19      2    7\n",
       "  2016-01-20      2    7\n",
       "  2016-01-21      2    7\n",
       "  2016-01-22      2    7\n",
       "  2016-01-23      2    7\n",
       "  2016-01-24      2    8"
      ]
     },
     "execution_count": 133,
     "metadata": {},
     "output_type": "execute_result"
    }
   ],
   "source": [
    "df_re = pd.DataFrame({\n",
    "    \"date\": pd.date_range(start=\"2016-01-01\", periods=4, freq=\"W\"),\n",
    "    \"group\": [1, 1, 2, 2],\n",
    "    \"val\": [5, 6, 7, 8],\n",
    "}).set_index(\"date\")\n",
    "df_re.groupby(\"group\", as_index=False).resample('1D').ffill()"
   ]
  },
  {
   "cell_type": "code",
   "execution_count": 13,
   "id": "cubic-indonesian",
   "metadata": {},
   "outputs": [
    {
     "name": "stdout",
     "output_type": "stream",
     "text": [
      "{1: [0, 1], 2: [2, 3], 3: [4, 5, 6]}\n"
     ]
    },
    {
     "data": {
      "text/plain": [
       "2    2\n",
       "3    2\n",
       "4    3\n",
       "5    3\n",
       "6    3\n",
       "dtype: int64"
      ]
     },
     "execution_count": 13,
     "metadata": {},
     "output_type": "execute_result"
    }
   ],
   "source": [
    "sf = pd.Series([1, 1, 2, 2, 3, 3, 3])\n",
    "print(sf.groupby(sf).groups)\n",
    "sf.groupby(sf).filter(lambda x: x.sum() > 2)"
   ]
  },
  {
   "cell_type": "code",
   "execution_count": 24,
   "id": "valid-contractor",
   "metadata": {},
   "outputs": [
    {
     "name": "stdout",
     "output_type": "stream",
     "text": [
      "{'a': [0, 1], 'b': [2, 3, 4, 5], 'c': [6, 7]}\n"
     ]
    },
    {
     "data": {
      "text/html": [
       "<div>\n",
       "<style scoped>\n",
       "    .dataframe tbody tr th:only-of-type {\n",
       "        vertical-align: middle;\n",
       "    }\n",
       "\n",
       "    .dataframe tbody tr th {\n",
       "        vertical-align: top;\n",
       "    }\n",
       "\n",
       "    .dataframe thead th {\n",
       "        text-align: right;\n",
       "    }\n",
       "</style>\n",
       "<table border=\"1\" class=\"dataframe\">\n",
       "  <thead>\n",
       "    <tr style=\"text-align: right;\">\n",
       "      <th></th>\n",
       "      <th>A</th>\n",
       "      <th>B</th>\n",
       "    </tr>\n",
       "  </thead>\n",
       "  <tbody>\n",
       "    <tr>\n",
       "      <th>0</th>\n",
       "      <td>NaN</td>\n",
       "      <td>NaN</td>\n",
       "    </tr>\n",
       "    <tr>\n",
       "      <th>1</th>\n",
       "      <td>NaN</td>\n",
       "      <td>NaN</td>\n",
       "    </tr>\n",
       "    <tr>\n",
       "      <th>2</th>\n",
       "      <td>2.0</td>\n",
       "      <td>b</td>\n",
       "    </tr>\n",
       "    <tr>\n",
       "      <th>3</th>\n",
       "      <td>3.0</td>\n",
       "      <td>b</td>\n",
       "    </tr>\n",
       "    <tr>\n",
       "      <th>4</th>\n",
       "      <td>4.0</td>\n",
       "      <td>b</td>\n",
       "    </tr>\n",
       "    <tr>\n",
       "      <th>5</th>\n",
       "      <td>5.0</td>\n",
       "      <td>b</td>\n",
       "    </tr>\n",
       "    <tr>\n",
       "      <th>6</th>\n",
       "      <td>NaN</td>\n",
       "      <td>NaN</td>\n",
       "    </tr>\n",
       "    <tr>\n",
       "      <th>7</th>\n",
       "      <td>NaN</td>\n",
       "      <td>NaN</td>\n",
       "    </tr>\n",
       "  </tbody>\n",
       "</table>\n",
       "</div>"
      ],
      "text/plain": [
       "     A    B\n",
       "0  NaN  NaN\n",
       "1  NaN  NaN\n",
       "2  2.0    b\n",
       "3  3.0    b\n",
       "4  4.0    b\n",
       "5  5.0    b\n",
       "6  NaN  NaN\n",
       "7  NaN  NaN"
      ]
     },
     "execution_count": 24,
     "metadata": {},
     "output_type": "execute_result"
    }
   ],
   "source": [
    "dff = pd.DataFrame({\"AB\": np.arange(8), \"BC\": list(\"aabbbbcc\"),\n",
    "                   \"AC\":np.arange(8)})\n",
    "print(dff.groupby('B').groups)\n",
    "dff.groupby('B').filter(lambda x:len(x) > 2, dropna=False)"
   ]
  },
  {
   "cell_type": "code",
   "execution_count": 27,
   "id": "cellular-execution",
   "metadata": {},
   "outputs": [
    {
     "data": {
      "text/html": [
       "<div>\n",
       "<style scoped>\n",
       "    .dataframe tbody tr th:only-of-type {\n",
       "        vertical-align: middle;\n",
       "    }\n",
       "\n",
       "    .dataframe tbody tr th {\n",
       "        vertical-align: top;\n",
       "    }\n",
       "\n",
       "    .dataframe thead th {\n",
       "        text-align: right;\n",
       "    }\n",
       "</style>\n",
       "<table border=\"1\" class=\"dataframe\">\n",
       "  <thead>\n",
       "    <tr style=\"text-align: right;\">\n",
       "      <th></th>\n",
       "      <th>A</th>\n",
       "      <th>B</th>\n",
       "      <th>C</th>\n",
       "    </tr>\n",
       "  </thead>\n",
       "  <tbody>\n",
       "    <tr>\n",
       "      <th>2</th>\n",
       "      <td>2</td>\n",
       "      <td>b</td>\n",
       "      <td>2</td>\n",
       "    </tr>\n",
       "    <tr>\n",
       "      <th>3</th>\n",
       "      <td>3</td>\n",
       "      <td>b</td>\n",
       "      <td>3</td>\n",
       "    </tr>\n",
       "    <tr>\n",
       "      <th>4</th>\n",
       "      <td>4</td>\n",
       "      <td>b</td>\n",
       "      <td>4</td>\n",
       "    </tr>\n",
       "    <tr>\n",
       "      <th>5</th>\n",
       "      <td>5</td>\n",
       "      <td>b</td>\n",
       "      <td>5</td>\n",
       "    </tr>\n",
       "  </tbody>\n",
       "</table>\n",
       "</div>"
      ],
      "text/plain": [
       "   A  B  C\n",
       "2  2  b  2\n",
       "3  3  b  3\n",
       "4  4  b  4\n",
       "5  5  b  5"
      ]
     },
     "execution_count": 27,
     "metadata": {},
     "output_type": "execute_result"
    }
   ],
   "source": [
    "dff[\"C\"] = np.arange(8)\n",
    "dff.groupby('B', as_index=False).filter(lambda x: len(x.C) > 2)"
   ]
  },
  {
   "cell_type": "markdown",
   "id": "democratic-market",
   "metadata": {},
   "source": [
    "dff = pd.DataFrame({\"AB\": np.arange(8), \"BC\": list(\"aabbbbcc\"),\n",
    "                   \"AC\":np.arange(8), \"EZ\":np.arange(8)})\n",
    "dff.filter(regex=('[A-C]'))"
   ]
  },
  {
   "cell_type": "markdown",
   "id": "seeing-commission",
   "metadata": {},
   "source": [
    "# 2.17.7 Dispatching to instance methods"
   ]
  },
  {
   "cell_type": "code",
   "execution_count": 37,
   "id": "interstate-brick",
   "metadata": {},
   "outputs": [
    {
     "data": {
      "text/html": [
       "<div>\n",
       "<style scoped>\n",
       "    .dataframe tbody tr th:only-of-type {\n",
       "        vertical-align: middle;\n",
       "    }\n",
       "\n",
       "    .dataframe tbody tr th {\n",
       "        vertical-align: top;\n",
       "    }\n",
       "\n",
       "    .dataframe thead th {\n",
       "        text-align: right;\n",
       "    }\n",
       "</style>\n",
       "<table border=\"1\" class=\"dataframe\">\n",
       "  <thead>\n",
       "    <tr style=\"text-align: right;\">\n",
       "      <th></th>\n",
       "      <th>C</th>\n",
       "      <th>D</th>\n",
       "    </tr>\n",
       "    <tr>\n",
       "      <th>A</th>\n",
       "      <th></th>\n",
       "      <th></th>\n",
       "    </tr>\n",
       "  </thead>\n",
       "  <tbody>\n",
       "    <tr>\n",
       "      <th>bar</th>\n",
       "      <td>0.962858</td>\n",
       "      <td>0.275274</td>\n",
       "    </tr>\n",
       "    <tr>\n",
       "      <th>foo</th>\n",
       "      <td>0.405855</td>\n",
       "      <td>1.056654</td>\n",
       "    </tr>\n",
       "  </tbody>\n",
       "</table>\n",
       "</div>"
      ],
      "text/plain": [
       "            C         D\n",
       "A                      \n",
       "bar  0.962858  0.275274\n",
       "foo  0.405855  1.056654"
      ]
     },
     "execution_count": 37,
     "metadata": {},
     "output_type": "execute_result"
    }
   ],
   "source": [
    "df = pd.DataFrame({\n",
    "    \"A\": [\"foo\", \"bar\", \"foo\", \"bar\", \"foo\", \"bar\", \"foo\", \"foo\"],\n",
    "    \"B\": [\"one\", \"one\", \"two\", \"three\", \"two\", \"two\", \"one\", \"three\"],\n",
    "    \"C\": np.random.randn(8),\n",
    "    \"D\": np.random.randn(8),\n",
    "})\n",
    "grouped = df.groupby(\"A\")\n",
    "grouped.agg('std')\n",
    "grouped.agg(lambda x: x.std())"
   ]
  },
  {
   "cell_type": "code",
   "execution_count": 38,
   "id": "marine-prevention",
   "metadata": {},
   "outputs": [
    {
     "data": {
      "text/html": [
       "<div>\n",
       "<style scoped>\n",
       "    .dataframe tbody tr th:only-of-type {\n",
       "        vertical-align: middle;\n",
       "    }\n",
       "\n",
       "    .dataframe tbody tr th {\n",
       "        vertical-align: top;\n",
       "    }\n",
       "\n",
       "    .dataframe thead th {\n",
       "        text-align: right;\n",
       "    }\n",
       "</style>\n",
       "<table border=\"1\" class=\"dataframe\">\n",
       "  <thead>\n",
       "    <tr style=\"text-align: right;\">\n",
       "      <th></th>\n",
       "      <th>C</th>\n",
       "      <th>D</th>\n",
       "    </tr>\n",
       "    <tr>\n",
       "      <th>A</th>\n",
       "      <th></th>\n",
       "      <th></th>\n",
       "    </tr>\n",
       "  </thead>\n",
       "  <tbody>\n",
       "    <tr>\n",
       "      <th>bar</th>\n",
       "      <td>0.962858</td>\n",
       "      <td>0.275274</td>\n",
       "    </tr>\n",
       "    <tr>\n",
       "      <th>foo</th>\n",
       "      <td>0.405855</td>\n",
       "      <td>1.056654</td>\n",
       "    </tr>\n",
       "  </tbody>\n",
       "</table>\n",
       "</div>"
      ],
      "text/plain": [
       "            C         D\n",
       "A                      \n",
       "bar  0.962858  0.275274\n",
       "foo  0.405855  1.056654"
      ]
     },
     "execution_count": 38,
     "metadata": {},
     "output_type": "execute_result"
    }
   ],
   "source": [
    "grouped.std()"
   ]
  },
  {
   "cell_type": "code",
   "execution_count": 43,
   "id": "weird-investment",
   "metadata": {},
   "outputs": [
    {
     "data": {
      "text/html": [
       "<div>\n",
       "<style scoped>\n",
       "    .dataframe tbody tr th:only-of-type {\n",
       "        vertical-align: middle;\n",
       "    }\n",
       "\n",
       "    .dataframe tbody tr th {\n",
       "        vertical-align: top;\n",
       "    }\n",
       "\n",
       "    .dataframe thead th {\n",
       "        text-align: right;\n",
       "    }\n",
       "</style>\n",
       "<table border=\"1\" class=\"dataframe\">\n",
       "  <thead>\n",
       "    <tr style=\"text-align: right;\">\n",
       "      <th></th>\n",
       "      <th>A</th>\n",
       "      <th>B</th>\n",
       "      <th>C</th>\n",
       "    </tr>\n",
       "  </thead>\n",
       "  <tbody>\n",
       "    <tr>\n",
       "      <th>2000-01-01</th>\n",
       "      <td>-0.184324</td>\n",
       "      <td>-0.450866</td>\n",
       "      <td>0.747624</td>\n",
       "    </tr>\n",
       "    <tr>\n",
       "      <th>2000-01-02</th>\n",
       "      <td>-0.184324</td>\n",
       "      <td>-0.450866</td>\n",
       "      <td>0.747624</td>\n",
       "    </tr>\n",
       "    <tr>\n",
       "      <th>2000-01-03</th>\n",
       "      <td>-0.184324</td>\n",
       "      <td>-0.450866</td>\n",
       "      <td>0.747624</td>\n",
       "    </tr>\n",
       "    <tr>\n",
       "      <th>2000-01-04</th>\n",
       "      <td>0.323290</td>\n",
       "      <td>0.581046</td>\n",
       "      <td>1.134165</td>\n",
       "    </tr>\n",
       "    <tr>\n",
       "      <th>2000-01-05</th>\n",
       "      <td>0.323290</td>\n",
       "      <td>0.581046</td>\n",
       "      <td>1.134165</td>\n",
       "    </tr>\n",
       "    <tr>\n",
       "      <th>...</th>\n",
       "      <td>...</td>\n",
       "      <td>...</td>\n",
       "      <td>...</td>\n",
       "    </tr>\n",
       "    <tr>\n",
       "      <th>2002-09-22</th>\n",
       "      <td>-0.815618</td>\n",
       "      <td>0.456963</td>\n",
       "      <td>0.371204</td>\n",
       "    </tr>\n",
       "    <tr>\n",
       "      <th>2002-09-23</th>\n",
       "      <td>-0.815618</td>\n",
       "      <td>0.456963</td>\n",
       "      <td>0.371204</td>\n",
       "    </tr>\n",
       "    <tr>\n",
       "      <th>2002-09-24</th>\n",
       "      <td>1.308077</td>\n",
       "      <td>-0.180499</td>\n",
       "      <td>0.380574</td>\n",
       "    </tr>\n",
       "    <tr>\n",
       "      <th>2002-09-25</th>\n",
       "      <td>1.308077</td>\n",
       "      <td>-0.180499</td>\n",
       "      <td>0.380574</td>\n",
       "    </tr>\n",
       "    <tr>\n",
       "      <th>2002-09-26</th>\n",
       "      <td>-0.775454</td>\n",
       "      <td>1.184571</td>\n",
       "      <td>-0.680377</td>\n",
       "    </tr>\n",
       "  </tbody>\n",
       "</table>\n",
       "<p>1000 rows × 3 columns</p>\n",
       "</div>"
      ],
      "text/plain": [
       "                   A         B         C\n",
       "2000-01-01 -0.184324 -0.450866  0.747624\n",
       "2000-01-02 -0.184324 -0.450866  0.747624\n",
       "2000-01-03 -0.184324 -0.450866  0.747624\n",
       "2000-01-04  0.323290  0.581046  1.134165\n",
       "2000-01-05  0.323290  0.581046  1.134165\n",
       "...              ...       ...       ...\n",
       "2002-09-22 -0.815618  0.456963  0.371204\n",
       "2002-09-23 -0.815618  0.456963  0.371204\n",
       "2002-09-24  1.308077 -0.180499  0.380574\n",
       "2002-09-25  1.308077 -0.180499  0.380574\n",
       "2002-09-26 -0.775454  1.184571 -0.680377\n",
       "\n",
       "[1000 rows x 3 columns]"
      ]
     },
     "execution_count": 43,
     "metadata": {},
     "output_type": "execute_result"
    }
   ],
   "source": [
    "tsdf = pd.DataFrame(np.random.randn(1000, 3),\n",
    "                    index=pd.date_range(\"1/1/2000\", periods=1000),\n",
    "                    columns=[\"A\", \"B\", \"C\"],\n",
    "                   )\n",
    "tsdf.iloc[::2] = np.nan\n",
    "grouped = tsdf.groupby(lambda x: x.year)\n",
    "grouped.fillna(method='pad').bfill()"
   ]
  },
  {
   "cell_type": "code",
   "execution_count": 49,
   "id": "manufactured-honor",
   "metadata": {},
   "outputs": [
    {
     "data": {
      "text/plain": [
       "a  6    4.2\n",
       "   2    7.0\n",
       "b  5    1.0\n",
       "   7    3.3\n",
       "dtype: float64"
      ]
     },
     "execution_count": 49,
     "metadata": {},
     "output_type": "execute_result"
    }
   ],
   "source": [
    "s = pd.Series([9, 8, 7, 5, 19, 1, 4.2, 3.3])\n",
    "g = pd.Series(list(\"abababab\"))\n",
    "gb = s.groupby(g)\n",
    "gb.nlargest(2)\n",
    "gb.nsmallest(2)"
   ]
  },
  {
   "cell_type": "markdown",
   "id": "minimal-intro",
   "metadata": {},
   "source": [
    "# Flexible apply"
   ]
  },
  {
   "cell_type": "code",
   "execution_count": 4,
   "id": "deluxe-smell",
   "metadata": {},
   "outputs": [
    {
     "data": {
      "text/plain": [
       "A         \n",
       "bar  count    3.000000\n",
       "     mean    -0.182456\n",
       "     std      0.429934\n",
       "     min     -0.674848\n",
       "     25%     -0.332967\n",
       "     50%      0.008913\n",
       "     75%      0.063739\n",
       "     max      0.118565\n",
       "foo  count    5.000000\n",
       "     mean     0.056627\n",
       "     std      0.701117\n",
       "     min     -0.958506\n",
       "     25%     -0.266039\n",
       "     50%      0.120826\n",
       "     75%      0.602590\n",
       "     max      0.784263\n",
       "Name: C, dtype: float64"
      ]
     },
     "execution_count": 4,
     "metadata": {},
     "output_type": "execute_result"
    }
   ],
   "source": [
    "df = pd.DataFrame({\n",
    "    \"A\": [\"foo\", \"bar\", \"foo\", \"bar\", \"foo\", \"bar\", \"foo\", \"foo\"],\n",
    "    \"B\": [\"one\", \"one\", \"two\", \"three\", \"two\", \"two\", \"one\", \"three\"],\n",
    "    \"C\": np.random.randn(8),\n",
    "    \"D\": np.random.randn(8),\n",
    "})\n",
    "grouped = df.groupby('A')\n",
    "\n",
    "# could also just call .describe()\n",
    "grouped.C.apply(lambda x: x.describe())"
   ]
  },
  {
   "cell_type": "code",
   "execution_count": 72,
   "id": "attempted-tongue",
   "metadata": {},
   "outputs": [
    {
     "name": "stdout",
     "output_type": "stream",
     "text": [
      "1   -0.674848\n",
      "3    0.008913\n",
      "5    0.118565\n",
      "Name: bar, dtype: float64\n",
      "0   -0.266039\n",
      "2   -0.958506\n",
      "4    0.602590\n",
      "6    0.120826\n",
      "7    0.784263\n",
      "Name: foo, dtype: float64\n"
     ]
    },
    {
     "data": {
      "text/html": [
       "<div>\n",
       "<style scoped>\n",
       "    .dataframe tbody tr th:only-of-type {\n",
       "        vertical-align: middle;\n",
       "    }\n",
       "\n",
       "    .dataframe tbody tr th {\n",
       "        vertical-align: top;\n",
       "    }\n",
       "\n",
       "    .dataframe thead th {\n",
       "        text-align: right;\n",
       "    }\n",
       "</style>\n",
       "<table border=\"1\" class=\"dataframe\">\n",
       "  <thead>\n",
       "    <tr style=\"text-align: right;\">\n",
       "      <th></th>\n",
       "      <th>original</th>\n",
       "      <th>deamed</th>\n",
       "    </tr>\n",
       "  </thead>\n",
       "  <tbody>\n",
       "    <tr>\n",
       "      <th>0</th>\n",
       "      <td>-0.266039</td>\n",
       "      <td>-0.322665</td>\n",
       "    </tr>\n",
       "    <tr>\n",
       "      <th>1</th>\n",
       "      <td>-0.674848</td>\n",
       "      <td>-0.492392</td>\n",
       "    </tr>\n",
       "    <tr>\n",
       "      <th>2</th>\n",
       "      <td>-0.958506</td>\n",
       "      <td>-1.015133</td>\n",
       "    </tr>\n",
       "    <tr>\n",
       "      <th>3</th>\n",
       "      <td>0.008913</td>\n",
       "      <td>0.191370</td>\n",
       "    </tr>\n",
       "    <tr>\n",
       "      <th>4</th>\n",
       "      <td>0.602590</td>\n",
       "      <td>0.545963</td>\n",
       "    </tr>\n",
       "    <tr>\n",
       "      <th>5</th>\n",
       "      <td>0.118565</td>\n",
       "      <td>0.301022</td>\n",
       "    </tr>\n",
       "    <tr>\n",
       "      <th>6</th>\n",
       "      <td>0.120826</td>\n",
       "      <td>0.064200</td>\n",
       "    </tr>\n",
       "    <tr>\n",
       "      <th>7</th>\n",
       "      <td>0.784263</td>\n",
       "      <td>0.727636</td>\n",
       "    </tr>\n",
       "  </tbody>\n",
       "</table>\n",
       "</div>"
      ],
      "text/plain": [
       "   original    deamed\n",
       "0 -0.266039 -0.322665\n",
       "1 -0.674848 -0.492392\n",
       "2 -0.958506 -1.015133\n",
       "3  0.008913  0.191370\n",
       "4  0.602590  0.545963\n",
       "5  0.118565  0.301022\n",
       "6  0.120826  0.064200\n",
       "7  0.784263  0.727636"
      ]
     },
     "execution_count": 72,
     "metadata": {},
     "output_type": "execute_result"
    }
   ],
   "source": [
    "grouped = df.groupby('A').C\n",
    "\n",
    "def f(group):\n",
    "    print(group)\n",
    "    return pd.DataFrame({\n",
    "        'original':group, \n",
    "        'deamed':group - group.mean()\n",
    "    })\n",
    "\n",
    "grouped.apply(f)"
   ]
  },
  {
   "cell_type": "code",
   "execution_count": 77,
   "id": "warming-synthetic",
   "metadata": {},
   "outputs": [
    {
     "data": {
      "text/plain": [
       "pandas.core.frame.DataFrame"
      ]
     },
     "execution_count": 77,
     "metadata": {},
     "output_type": "execute_result"
    }
   ],
   "source": [
    "def f(x):\n",
    "    return pd.Series([x, x**2], index=[\"x\", \"x^2\"])\n",
    "\n",
    "def f1(x):\n",
    "    return pd.Series(x, index=['x'])\n",
    "\n",
    "s = pd.Series(np.random.rand(5))\n",
    "s.apply(f)\n",
    "\n",
    "# When we apply apply on a series, it returns df\n",
    "s.apply(f1)"
   ]
  },
  {
   "cell_type": "code",
   "execution_count": 97,
   "id": "refined-preview",
   "metadata": {},
   "outputs": [
    {
     "data": {
      "text/html": [
       "<div>\n",
       "<style scoped>\n",
       "    .dataframe tbody tr th:only-of-type {\n",
       "        vertical-align: middle;\n",
       "    }\n",
       "\n",
       "    .dataframe tbody tr th {\n",
       "        vertical-align: top;\n",
       "    }\n",
       "\n",
       "    .dataframe thead th {\n",
       "        text-align: right;\n",
       "    }\n",
       "</style>\n",
       "<table border=\"1\" class=\"dataframe\">\n",
       "  <thead>\n",
       "    <tr style=\"text-align: right;\">\n",
       "      <th></th>\n",
       "      <th>int_column</th>\n",
       "      <th>decimal_column</th>\n",
       "    </tr>\n",
       "    <tr>\n",
       "      <th>id</th>\n",
       "      <th></th>\n",
       "      <th></th>\n",
       "    </tr>\n",
       "  </thead>\n",
       "  <tbody>\n",
       "    <tr>\n",
       "      <th>1</th>\n",
       "      <td>4</td>\n",
       "      <td>0.75</td>\n",
       "    </tr>\n",
       "    <tr>\n",
       "      <th>2</th>\n",
       "      <td>6</td>\n",
       "      <td>0.55</td>\n",
       "    </tr>\n",
       "  </tbody>\n",
       "</table>\n",
       "</div>"
      ],
      "text/plain": [
       "    int_column decimal_column\n",
       "id                           \n",
       "1            4           0.75\n",
       "2            6           0.55"
      ]
     },
     "execution_count": 97,
     "metadata": {},
     "output_type": "execute_result"
    }
   ],
   "source": [
    "from decimal import Decimal\n",
    "\n",
    "df_dec = pd.DataFrame({\n",
    "    'id':np.tile([1,2],2),\n",
    "    'int_column':np.arange(1,5),\n",
    "    'decimal_column':[Decimal('0.5'), Decimal('0.15'), \n",
    "                     Decimal('0.25'), Decimal('0.4')]\n",
    "})\n",
    "df_dec\n",
    "\n",
    "# Decimal columns can be sum'd explicitly by themselves...\n",
    "df_dec.groupby('id', as_index=False)[['decimal_column']].sum() \n",
    "df_dec.groupby('id', as_index=False).decimal_column.sum() \n",
    "\n",
    "# ...but cannot be combined with standard data types or they will be excluded\n",
    "df_dec.groupby([\"id\"])[[\"int_column\", \"decimal_column\"]].sum()\n",
    "\n",
    "# Use .agg function to aggregate over standard and \"nuisance\" data types\n",
    "# at the same time\n",
    "\n",
    "df_dec.groupby([\"id\"]).agg({\"int_column\": \"sum\", \"decimal_column\": \"sum\"})"
   ]
  },
  {
   "cell_type": "code",
   "execution_count": 103,
   "id": "polish-uruguay",
   "metadata": {},
   "outputs": [
    {
     "data": {
      "text/plain": [
       "CategoricalDtype(categories=['a', 'b'], ordered=False)"
      ]
     },
     "execution_count": 103,
     "metadata": {},
     "output_type": "execute_result"
    }
   ],
   "source": [
    "s = (pd.Series([1, 1, 1]).groupby(\n",
    "    pd.Categorical(np.repeat('a',3), categories=['a','b']), \n",
    "    observed=False).count())\n",
    "s.index.dtype # CategoricalDtype(categories=['a', 'b'], ordered=False)"
   ]
  },
  {
   "cell_type": "code",
   "execution_count": 112,
   "id": "essential-antigua",
   "metadata": {},
   "outputs": [
    {
     "data": {
      "text/plain": [
       "0     (0.175, 0.35]\n",
       "1    (0.099, 0.175]\n",
       "2       (0.35, 0.6]\n",
       "3        (0.6, 0.9]\n",
       "Name: a, dtype: category\n",
       "Categories (4, interval[float64]): [(0.099, 0.175] < (0.175, 0.35] < (0.35, 0.6] < (0.6, 0.9]]"
      ]
     },
     "execution_count": 112,
     "metadata": {},
     "output_type": "execute_result"
    }
   ],
   "source": [
    "df = pd.DataFrame({\n",
    "    'a':[.2,.1,.5,.9]\n",
    "})\n",
    "\n",
    "pd.qcut(df.a, [0,.25,.5,.75, 1])"
   ]
  },
  {
   "cell_type": "code",
   "execution_count": 116,
   "id": "piano-compiler",
   "metadata": {},
   "outputs": [
    {
     "data": {
      "text/plain": [
       "(-2.266, -0.722]    -1.139450\n",
       "(-0.722, -0.0579]   -0.433597\n",
       "(-0.0579, 0.607]     0.232644\n",
       "(0.607, 3.207]       1.410122\n",
       "dtype: float64"
      ]
     },
     "execution_count": 116,
     "metadata": {},
     "output_type": "execute_result"
    }
   ],
   "source": [
    "data = pd.Series(np.random.randn(100))\n",
    "factor = pd.qcut(data, [0,.25,.5,.75, 1])\n",
    "data.groupby(factor).mean()"
   ]
  },
  {
   "cell_type": "code",
   "execution_count": 117,
   "id": "handy-planning",
   "metadata": {},
   "outputs": [
    {
     "data": {
      "text/html": [
       "<div>\n",
       "<style scoped>\n",
       "    .dataframe tbody tr th:only-of-type {\n",
       "        vertical-align: middle;\n",
       "    }\n",
       "\n",
       "    .dataframe tbody tr th {\n",
       "        vertical-align: top;\n",
       "    }\n",
       "\n",
       "    .dataframe thead th {\n",
       "        text-align: right;\n",
       "    }\n",
       "</style>\n",
       "<table border=\"1\" class=\"dataframe\">\n",
       "  <thead>\n",
       "    <tr style=\"text-align: right;\">\n",
       "      <th></th>\n",
       "      <th>Branch</th>\n",
       "      <th>Buyer</th>\n",
       "      <th>Quantity</th>\n",
       "      <th>Date</th>\n",
       "    </tr>\n",
       "  </thead>\n",
       "  <tbody>\n",
       "    <tr>\n",
       "      <th>0</th>\n",
       "      <td>A</td>\n",
       "      <td>Carl</td>\n",
       "      <td>1</td>\n",
       "      <td>2013-01-01 13:00:00</td>\n",
       "    </tr>\n",
       "    <tr>\n",
       "      <th>1</th>\n",
       "      <td>A</td>\n",
       "      <td>Mark</td>\n",
       "      <td>3</td>\n",
       "      <td>2013-01-01 13:05:00</td>\n",
       "    </tr>\n",
       "    <tr>\n",
       "      <th>2</th>\n",
       "      <td>A</td>\n",
       "      <td>Carl</td>\n",
       "      <td>5</td>\n",
       "      <td>2013-10-01 20:00:00</td>\n",
       "    </tr>\n",
       "    <tr>\n",
       "      <th>3</th>\n",
       "      <td>A</td>\n",
       "      <td>Carl</td>\n",
       "      <td>1</td>\n",
       "      <td>2013-10-02 10:00:00</td>\n",
       "    </tr>\n",
       "    <tr>\n",
       "      <th>4</th>\n",
       "      <td>A</td>\n",
       "      <td>Joe</td>\n",
       "      <td>8</td>\n",
       "      <td>2013-10-01 20:00:00</td>\n",
       "    </tr>\n",
       "    <tr>\n",
       "      <th>5</th>\n",
       "      <td>A</td>\n",
       "      <td>Joe</td>\n",
       "      <td>1</td>\n",
       "      <td>2013-10-02 10:00:00</td>\n",
       "    </tr>\n",
       "    <tr>\n",
       "      <th>6</th>\n",
       "      <td>A</td>\n",
       "      <td>Joe</td>\n",
       "      <td>9</td>\n",
       "      <td>2013-12-02 12:00:00</td>\n",
       "    </tr>\n",
       "    <tr>\n",
       "      <th>7</th>\n",
       "      <td>B</td>\n",
       "      <td>Carl</td>\n",
       "      <td>3</td>\n",
       "      <td>2013-12-02 14:00:00</td>\n",
       "    </tr>\n",
       "  </tbody>\n",
       "</table>\n",
       "</div>"
      ],
      "text/plain": [
       "  Branch Buyer  Quantity                Date\n",
       "0      A  Carl         1 2013-01-01 13:00:00\n",
       "1      A  Mark         3 2013-01-01 13:05:00\n",
       "2      A  Carl         5 2013-10-01 20:00:00\n",
       "3      A  Carl         1 2013-10-02 10:00:00\n",
       "4      A   Joe         8 2013-10-01 20:00:00\n",
       "5      A   Joe         1 2013-10-02 10:00:00\n",
       "6      A   Joe         9 2013-12-02 12:00:00\n",
       "7      B  Carl         3 2013-12-02 14:00:00"
      ]
     },
     "execution_count": 117,
     "metadata": {},
     "output_type": "execute_result"
    }
   ],
   "source": [
    "import datetime\n",
    "df = pd.DataFrame({\n",
    "     \"Branch\": \"A A A A A A A B\".split(),\n",
    "     \"Buyer\": \"Carl Mark Carl Carl Joe Joe Joe Carl\".split(),\n",
    "     \"Quantity\": [1, 3, 5, 1, 8, 1, 9, 3],\n",
    "     \"Date\": [\n",
    "         datetime.datetime(2013, 1, 1, 13, 0),\n",
    "         datetime.datetime(2013, 1, 1, 13, 5),\n",
    "         datetime.datetime(2013, 10, 1, 20, 0),\n",
    "         datetime.datetime(2013, 10, 2, 10, 0),\n",
    "         datetime.datetime(2013, 10, 1, 20, 0),\n",
    "         datetime.datetime(2013, 10, 2, 10, 0),\n",
    "         datetime.datetime(2013, 12, 2, 12, 0),\n",
    "         datetime.datetime(2013, 12, 2, 14, 0),\n",
    "     ]\n",
    " })\n",
    "\n",
    "df"
   ]
  },
  {
   "cell_type": "code",
   "execution_count": 118,
   "id": "naked-substitute",
   "metadata": {},
   "outputs": [
    {
     "data": {
      "text/html": [
       "<div>\n",
       "<style scoped>\n",
       "    .dataframe tbody tr th:only-of-type {\n",
       "        vertical-align: middle;\n",
       "    }\n",
       "\n",
       "    .dataframe tbody tr th {\n",
       "        vertical-align: top;\n",
       "    }\n",
       "\n",
       "    .dataframe thead th {\n",
       "        text-align: right;\n",
       "    }\n",
       "</style>\n",
       "<table border=\"1\" class=\"dataframe\">\n",
       "  <thead>\n",
       "    <tr style=\"text-align: right;\">\n",
       "      <th></th>\n",
       "      <th></th>\n",
       "      <th>Quantity</th>\n",
       "    </tr>\n",
       "    <tr>\n",
       "      <th>Date</th>\n",
       "      <th>Buyer</th>\n",
       "      <th></th>\n",
       "    </tr>\n",
       "  </thead>\n",
       "  <tbody>\n",
       "    <tr>\n",
       "      <th rowspan=\"2\" valign=\"top\">2013-01-31</th>\n",
       "      <th>Carl</th>\n",
       "      <td>1</td>\n",
       "    </tr>\n",
       "    <tr>\n",
       "      <th>Mark</th>\n",
       "      <td>3</td>\n",
       "    </tr>\n",
       "    <tr>\n",
       "      <th rowspan=\"2\" valign=\"top\">2013-10-31</th>\n",
       "      <th>Carl</th>\n",
       "      <td>6</td>\n",
       "    </tr>\n",
       "    <tr>\n",
       "      <th>Joe</th>\n",
       "      <td>9</td>\n",
       "    </tr>\n",
       "    <tr>\n",
       "      <th rowspan=\"2\" valign=\"top\">2013-12-31</th>\n",
       "      <th>Carl</th>\n",
       "      <td>3</td>\n",
       "    </tr>\n",
       "    <tr>\n",
       "      <th>Joe</th>\n",
       "      <td>9</td>\n",
       "    </tr>\n",
       "  </tbody>\n",
       "</table>\n",
       "</div>"
      ],
      "text/plain": [
       "                  Quantity\n",
       "Date       Buyer          \n",
       "2013-01-31 Carl          1\n",
       "           Mark          3\n",
       "2013-10-31 Carl          6\n",
       "           Joe           9\n",
       "2013-12-31 Carl          3\n",
       "           Joe           9"
      ]
     },
     "execution_count": 118,
     "metadata": {},
     "output_type": "execute_result"
    }
   ],
   "source": [
    "df.groupby([pd.Grouper(freq='1M', key='Date'), \"Buyer\"]).sum()"
   ]
  },
  {
   "cell_type": "code",
   "execution_count": 121,
   "id": "uniform-struggle",
   "metadata": {},
   "outputs": [
    {
     "data": {
      "text/html": [
       "<div>\n",
       "<style scoped>\n",
       "    .dataframe tbody tr th:only-of-type {\n",
       "        vertical-align: middle;\n",
       "    }\n",
       "\n",
       "    .dataframe tbody tr th {\n",
       "        vertical-align: top;\n",
       "    }\n",
       "\n",
       "    .dataframe thead th {\n",
       "        text-align: right;\n",
       "    }\n",
       "</style>\n",
       "<table border=\"1\" class=\"dataframe\">\n",
       "  <thead>\n",
       "    <tr style=\"text-align: right;\">\n",
       "      <th></th>\n",
       "      <th></th>\n",
       "      <th>Quantity</th>\n",
       "    </tr>\n",
       "    <tr>\n",
       "      <th>Date</th>\n",
       "      <th>Buyer</th>\n",
       "      <th></th>\n",
       "    </tr>\n",
       "  </thead>\n",
       "  <tbody>\n",
       "    <tr>\n",
       "      <th rowspan=\"2\" valign=\"top\">2013-04-30</th>\n",
       "      <th>Carl</th>\n",
       "      <td>1</td>\n",
       "    </tr>\n",
       "    <tr>\n",
       "      <th>Mark</th>\n",
       "      <td>3</td>\n",
       "    </tr>\n",
       "    <tr>\n",
       "      <th rowspan=\"2\" valign=\"top\">2014-04-30</th>\n",
       "      <th>Carl</th>\n",
       "      <td>9</td>\n",
       "    </tr>\n",
       "    <tr>\n",
       "      <th>Joe</th>\n",
       "      <td>18</td>\n",
       "    </tr>\n",
       "  </tbody>\n",
       "</table>\n",
       "</div>"
      ],
      "text/plain": [
       "                  Quantity\n",
       "Date       Buyer          \n",
       "2013-04-30 Carl          1\n",
       "           Mark          3\n",
       "2014-04-30 Carl          9\n",
       "           Joe          18"
      ]
     },
     "execution_count": 121,
     "metadata": {},
     "output_type": "execute_result"
    }
   ],
   "source": [
    "df = df.set_index('Date')\n",
    "df['Date'] = df.index + pd.offsets.MonthEnd(2)\n",
    "\n",
    "## Column and Index have same name\n",
    "\n",
    "## when we want to group by column\n",
    "df.groupby([pd.Grouper(freq='6M', key='Date'), \"Buyer\"]).sum()\n",
    "\n",
    "## when we want to group by index\n",
    "df.groupby([pd.Grouper(freq='6M', level='Date'), \"Buyer\"]).sum()"
   ]
  },
  {
   "cell_type": "code",
   "execution_count": null,
   "id": "rough-apparatus",
   "metadata": {},
   "outputs": [],
   "source": []
  }
 ],
 "metadata": {
  "kernelspec": {
   "display_name": "Python (myenv)",
   "language": "python",
   "name": "myenv"
  },
  "language_info": {
   "codemirror_mode": {
    "name": "ipython",
    "version": 3
   },
   "file_extension": ".py",
   "mimetype": "text/x-python",
   "name": "python",
   "nbconvert_exporter": "python",
   "pygments_lexer": "ipython3",
   "version": "3.9.1"
  }
 },
 "nbformat": 4,
 "nbformat_minor": 5
}
