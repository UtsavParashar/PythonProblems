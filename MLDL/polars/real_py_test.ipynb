{
 "cells": [
  {
   "cell_type": "code",
   "execution_count": 5,
   "metadata": {},
   "outputs": [],
   "source": [
    "import polars as pl\n",
    "import numpy as np\n",
    "import pandas as pd"
   ]
  },
  {
   "cell_type": "code",
   "execution_count": 3,
   "metadata": {},
   "outputs": [
    {
     "data": {
      "text/html": [
       "<div><style>\n",
       ".dataframe > thead > tr,\n",
       ".dataframe > tbody > tr {\n",
       "  text-align: right;\n",
       "  white-space: pre-wrap;\n",
       "}\n",
       "</style>\n",
       "<small>shape: (5_000, 3)</small><table border=\"1\" class=\"dataframe\"><thead><tr><th>sqft</th><th>year</th><th>building_type</th></tr><tr><td>f64</td><td>i64</td><td>str</td></tr></thead><tbody><tr><td>707.529256</td><td>1996</td><td>&quot;C&quot;</td></tr><tr><td>1025.203348</td><td>2020</td><td>&quot;C&quot;</td></tr><tr><td>568.548657</td><td>2012</td><td>&quot;A&quot;</td></tr><tr><td>895.109864</td><td>2000</td><td>&quot;A&quot;</td></tr><tr><td>206.532754</td><td>2011</td><td>&quot;A&quot;</td></tr><tr><td>&hellip;</td><td>&hellip;</td><td>&hellip;</td></tr><tr><td>710.435755</td><td>2003</td><td>&quot;C&quot;</td></tr><tr><td>408.872783</td><td>2009</td><td>&quot;C&quot;</td></tr><tr><td>57.562059</td><td>2019</td><td>&quot;C&quot;</td></tr><tr><td>3728.088949</td><td>2020</td><td>&quot;C&quot;</td></tr><tr><td>686.678345</td><td>2011</td><td>&quot;C&quot;</td></tr></tbody></table></div>"
      ],
      "text/plain": [
       "shape: (5_000, 3)\n",
       "┌─────────────┬──────┬───────────────┐\n",
       "│ sqft        ┆ year ┆ building_type │\n",
       "│ ---         ┆ ---  ┆ ---           │\n",
       "│ f64         ┆ i64  ┆ str           │\n",
       "╞═════════════╪══════╪═══════════════╡\n",
       "│ 707.529256  ┆ 1996 ┆ C             │\n",
       "│ 1025.203348 ┆ 2020 ┆ C             │\n",
       "│ 568.548657  ┆ 2012 ┆ A             │\n",
       "│ 895.109864  ┆ 2000 ┆ A             │\n",
       "│ 206.532754  ┆ 2011 ┆ A             │\n",
       "│ …           ┆ …    ┆ …             │\n",
       "│ 710.435755  ┆ 2003 ┆ C             │\n",
       "│ 408.872783  ┆ 2009 ┆ C             │\n",
       "│ 57.562059   ┆ 2019 ┆ C             │\n",
       "│ 3728.088949 ┆ 2020 ┆ C             │\n",
       "│ 686.678345  ┆ 2011 ┆ C             │\n",
       "└─────────────┴──────┴───────────────┘"
      ]
     },
     "execution_count": 3,
     "metadata": {},
     "output_type": "execute_result"
    }
   ],
   "source": [
    "num_rows = 5000\n",
    "\n",
    "rng = np.random.default_rng(seed=7)\n",
    "\n",
    "building_data = {\n",
    "    'sqft': rng.exponential(scale=1000, size=num_rows),\n",
    "    'year': rng.integers(low=1995, high=2023, size=num_rows),\n",
    "    'building_type': rng.choice(['A', 'B', 'C'], size=num_rows)\n",
    "}\n",
    "\n",
    "buildings = pl.DataFrame(building_data)\n",
    "buildings"
   ]
  },
  {
   "cell_type": "code",
   "execution_count": 4,
   "metadata": {},
   "outputs": [
    {
     "data": {
      "text/plain": [
       "Schema([('sqft', Float64), ('year', Int64), ('building_type', String)])"
      ]
     },
     "execution_count": 4,
     "metadata": {},
     "output_type": "execute_result"
    }
   ],
   "source": [
    "buildings.schema"
   ]
  },
  {
   "cell_type": "code",
   "execution_count": 5,
   "metadata": {},
   "outputs": [
    {
     "data": {
      "text/html": [
       "<div><style>\n",
       ".dataframe > thead > tr,\n",
       ".dataframe > tbody > tr {\n",
       "  text-align: right;\n",
       "  white-space: pre-wrap;\n",
       "}\n",
       "</style>\n",
       "<small>shape: (5, 3)</small><table border=\"1\" class=\"dataframe\"><thead><tr><th>sqft</th><th>year</th><th>building_type</th></tr><tr><td>f64</td><td>i64</td><td>str</td></tr></thead><tbody><tr><td>707.529256</td><td>1996</td><td>&quot;C&quot;</td></tr><tr><td>1025.203348</td><td>2020</td><td>&quot;C&quot;</td></tr><tr><td>568.548657</td><td>2012</td><td>&quot;A&quot;</td></tr><tr><td>895.109864</td><td>2000</td><td>&quot;A&quot;</td></tr><tr><td>206.532754</td><td>2011</td><td>&quot;A&quot;</td></tr></tbody></table></div>"
      ],
      "text/plain": [
       "shape: (5, 3)\n",
       "┌─────────────┬──────┬───────────────┐\n",
       "│ sqft        ┆ year ┆ building_type │\n",
       "│ ---         ┆ ---  ┆ ---           │\n",
       "│ f64         ┆ i64  ┆ str           │\n",
       "╞═════════════╪══════╪═══════════════╡\n",
       "│ 707.529256  ┆ 1996 ┆ C             │\n",
       "│ 1025.203348 ┆ 2020 ┆ C             │\n",
       "│ 568.548657  ┆ 2012 ┆ A             │\n",
       "│ 895.109864  ┆ 2000 ┆ A             │\n",
       "│ 206.532754  ┆ 2011 ┆ A             │\n",
       "└─────────────┴──────┴───────────────┘"
      ]
     },
     "execution_count": 5,
     "metadata": {},
     "output_type": "execute_result"
    }
   ],
   "source": [
    "buildings.head()"
   ]
  },
  {
   "cell_type": "code",
   "execution_count": 6,
   "metadata": {},
   "outputs": [
    {
     "data": {
      "text/html": [
       "<div><style>\n",
       ".dataframe > thead > tr,\n",
       ".dataframe > tbody > tr {\n",
       "  text-align: right;\n",
       "  white-space: pre-wrap;\n",
       "}\n",
       "</style>\n",
       "<small>shape: (9, 4)</small><table border=\"1\" class=\"dataframe\"><thead><tr><th>statistic</th><th>sqft</th><th>year</th><th>building_type</th></tr><tr><td>str</td><td>f64</td><td>f64</td><td>str</td></tr></thead><tbody><tr><td>&quot;count&quot;</td><td>5000.0</td><td>5000.0</td><td>&quot;5000&quot;</td></tr><tr><td>&quot;null_count&quot;</td><td>0.0</td><td>0.0</td><td>&quot;0&quot;</td></tr><tr><td>&quot;mean&quot;</td><td>994.094456</td><td>2008.5258</td><td>null</td></tr><tr><td>&quot;std&quot;</td><td>1016.641569</td><td>8.062353</td><td>null</td></tr><tr><td>&quot;min&quot;</td><td>1.133256</td><td>1995.0</td><td>&quot;A&quot;</td></tr><tr><td>&quot;25%&quot;</td><td>286.807549</td><td>2001.0</td><td>null</td></tr><tr><td>&quot;50%&quot;</td><td>669.406964</td><td>2009.0</td><td>null</td></tr><tr><td>&quot;75%&quot;</td><td>1342.909782</td><td>2015.0</td><td>null</td></tr><tr><td>&quot;max&quot;</td><td>9307.793917</td><td>2022.0</td><td>&quot;C&quot;</td></tr></tbody></table></div>"
      ],
      "text/plain": [
       "shape: (9, 4)\n",
       "┌────────────┬─────────────┬───────────┬───────────────┐\n",
       "│ statistic  ┆ sqft        ┆ year      ┆ building_type │\n",
       "│ ---        ┆ ---         ┆ ---       ┆ ---           │\n",
       "│ str        ┆ f64         ┆ f64       ┆ str           │\n",
       "╞════════════╪═════════════╪═══════════╪═══════════════╡\n",
       "│ count      ┆ 5000.0      ┆ 5000.0    ┆ 5000          │\n",
       "│ null_count ┆ 0.0         ┆ 0.0       ┆ 0             │\n",
       "│ mean       ┆ 994.094456  ┆ 2008.5258 ┆ null          │\n",
       "│ std        ┆ 1016.641569 ┆ 8.062353  ┆ null          │\n",
       "│ min        ┆ 1.133256    ┆ 1995.0    ┆ A             │\n",
       "│ 25%        ┆ 286.807549  ┆ 2001.0    ┆ null          │\n",
       "│ 50%        ┆ 669.406964  ┆ 2009.0    ┆ null          │\n",
       "│ 75%        ┆ 1342.909782 ┆ 2015.0    ┆ null          │\n",
       "│ max        ┆ 9307.793917 ┆ 2022.0    ┆ C             │\n",
       "└────────────┴─────────────┴───────────┴───────────────┘"
      ]
     },
     "execution_count": 6,
     "metadata": {},
     "output_type": "execute_result"
    }
   ],
   "source": [
    "buildings.describe()"
   ]
  },
  {
   "cell_type": "markdown",
   "metadata": {},
   "source": [
    "### Context - Select, Filter and Groupby/Aggregation --> Verb\n",
    "### Expressions --> noun"
   ]
  },
  {
   "cell_type": "code",
   "execution_count": 10,
   "metadata": {},
   "outputs": [
    {
     "data": {
      "text/html": [
       "<div><style>\n",
       ".dataframe > thead > tr,\n",
       ".dataframe > tbody > tr {\n",
       "  text-align: right;\n",
       "  white-space: pre-wrap;\n",
       "}\n",
       "</style>\n",
       "<small>shape: (5, 1)</small><table border=\"1\" class=\"dataframe\"><thead><tr><th>sqft</th></tr><tr><td>f64</td></tr></thead><tbody><tr><td>707.529256</td></tr><tr><td>1025.203348</td></tr><tr><td>568.548657</td></tr><tr><td>895.109864</td></tr><tr><td>206.532754</td></tr></tbody></table></div>"
      ],
      "text/plain": [
       "shape: (5, 1)\n",
       "┌─────────────┐\n",
       "│ sqft        │\n",
       "│ ---         │\n",
       "│ f64         │\n",
       "╞═════════════╡\n",
       "│ 707.529256  │\n",
       "│ 1025.203348 │\n",
       "│ 568.548657  │\n",
       "│ 895.109864  │\n",
       "│ 206.532754  │\n",
       "└─────────────┘"
      ]
     },
     "execution_count": 10,
     "metadata": {},
     "output_type": "execute_result"
    }
   ],
   "source": [
    "buildings.select('sqft').head()"
   ]
  },
  {
   "cell_type": "code",
   "execution_count": 9,
   "metadata": {},
   "outputs": [
    {
     "data": {
      "text/html": [
       "<div><style>\n",
       ".dataframe > thead > tr,\n",
       ".dataframe > tbody > tr {\n",
       "  text-align: right;\n",
       "  white-space: pre-wrap;\n",
       "}\n",
       "</style>\n",
       "<small>shape: (5, 1)</small><table border=\"1\" class=\"dataframe\"><thead><tr><th>sqft</th></tr><tr><td>f64</td></tr></thead><tbody><tr><td>707.529256</td></tr><tr><td>1025.203348</td></tr><tr><td>568.548657</td></tr><tr><td>895.109864</td></tr><tr><td>206.532754</td></tr></tbody></table></div>"
      ],
      "text/plain": [
       "shape: (5, 1)\n",
       "┌─────────────┐\n",
       "│ sqft        │\n",
       "│ ---         │\n",
       "│ f64         │\n",
       "╞═════════════╡\n",
       "│ 707.529256  │\n",
       "│ 1025.203348 │\n",
       "│ 568.548657  │\n",
       "│ 895.109864  │\n",
       "│ 206.532754  │\n",
       "└─────────────┘"
      ]
     },
     "execution_count": 9,
     "metadata": {},
     "output_type": "execute_result"
    }
   ],
   "source": [
    "buildings.select(pl.col('sqft')).head()"
   ]
  },
  {
   "cell_type": "code",
   "execution_count": 14,
   "metadata": {},
   "outputs": [
    {
     "data": {
      "text/html": [
       "<div><style>\n",
       ".dataframe > thead > tr,\n",
       ".dataframe > tbody > tr {\n",
       "  text-align: right;\n",
       "  white-space: pre-wrap;\n",
       "}\n",
       "</style>\n",
       "<small>shape: (5, 1)</small><table border=\"1\" class=\"dataframe\"><thead><tr><th>sqft</th></tr><tr><td>f64</td></tr></thead><tbody><tr><td>0.001133</td></tr><tr><td>0.001152</td></tr><tr><td>0.001429</td></tr><tr><td>0.001439</td></tr><tr><td>0.001505</td></tr></tbody></table></div>"
      ],
      "text/plain": [
       "shape: (5, 1)\n",
       "┌──────────┐\n",
       "│ sqft     │\n",
       "│ ---      │\n",
       "│ f64      │\n",
       "╞══════════╡\n",
       "│ 0.001133 │\n",
       "│ 0.001152 │\n",
       "│ 0.001429 │\n",
       "│ 0.001439 │\n",
       "│ 0.001505 │\n",
       "└──────────┘"
      ]
     },
     "execution_count": 14,
     "metadata": {},
     "output_type": "execute_result"
    }
   ],
   "source": [
    "buildings.select(pl.col('sqft').sort()/1000).head()"
   ]
  },
  {
   "cell_type": "code",
   "execution_count": 17,
   "metadata": {},
   "outputs": [
    {
     "data": {
      "text/html": [
       "<div><style>\n",
       ".dataframe > thead > tr,\n",
       ".dataframe > tbody > tr {\n",
       "  text-align: right;\n",
       "  white-space: pre-wrap;\n",
       "}\n",
       "</style>\n",
       "<small>shape: (5, 1)</small><table border=\"1\" class=\"dataframe\"><thead><tr><th>sqft</th></tr><tr><td>f64</td></tr></thead><tbody><tr><td>1.133256</td></tr><tr><td>1.152109</td></tr><tr><td>1.42909</td></tr><tr><td>1.438589</td></tr><tr><td>1.504648</td></tr></tbody></table></div>"
      ],
      "text/plain": [
       "shape: (5, 1)\n",
       "┌──────────┐\n",
       "│ sqft     │\n",
       "│ ---      │\n",
       "│ f64      │\n",
       "╞══════════╡\n",
       "│ 1.133256 │\n",
       "│ 1.152109 │\n",
       "│ 1.42909  │\n",
       "│ 1.438589 │\n",
       "│ 1.504648 │\n",
       "└──────────┘"
      ]
     },
     "execution_count": 17,
     "metadata": {},
     "output_type": "execute_result"
    }
   ],
   "source": [
    "buildings.select('sqft').sort(by='sqft').head()"
   ]
  },
  {
   "cell_type": "code",
   "execution_count": 18,
   "metadata": {},
   "outputs": [
    {
     "data": {
      "text/plain": [
       "(1230, 3)"
      ]
     },
     "execution_count": 18,
     "metadata": {},
     "output_type": "execute_result"
    }
   ],
   "source": [
    "after_2015 =buildings.filter(pl.col('year')>2015)\n",
    "after_2015.shape"
   ]
  },
  {
   "cell_type": "code",
   "execution_count": 19,
   "metadata": {},
   "outputs": [
    {
     "data": {
      "text/html": [
       "<div><style>\n",
       ".dataframe > thead > tr,\n",
       ".dataframe > tbody > tr {\n",
       "  text-align: right;\n",
       "  white-space: pre-wrap;\n",
       "}\n",
       "</style>\n",
       "<small>shape: (1, 1)</small><table border=\"1\" class=\"dataframe\"><thead><tr><th>year</th></tr><tr><td>i64</td></tr></thead><tbody><tr><td>2016</td></tr></tbody></table></div>"
      ],
      "text/plain": [
       "shape: (1, 1)\n",
       "┌──────┐\n",
       "│ year │\n",
       "│ ---  │\n",
       "│ i64  │\n",
       "╞══════╡\n",
       "│ 2016 │\n",
       "└──────┘"
      ]
     },
     "execution_count": 19,
     "metadata": {},
     "output_type": "execute_result"
    }
   ],
   "source": [
    "after_2015.select(pl.col('year').min())"
   ]
  },
  {
   "cell_type": "code",
   "execution_count": 23,
   "metadata": {},
   "outputs": [
    {
     "data": {
      "text/html": [
       "<div><style>\n",
       ".dataframe > thead > tr,\n",
       ".dataframe > tbody > tr {\n",
       "  text-align: right;\n",
       "  white-space: pre-wrap;\n",
       "}\n",
       "</style>\n",
       "<small>shape: (3, 4)</small><table border=\"1\" class=\"dataframe\"><thead><tr><th>building_type</th><th>mean_sqft</th><th>median_year</th><th>len</th></tr><tr><td>str</td><td>f64</td><td>f64</td><td>u32</td></tr></thead><tbody><tr><td>&quot;C&quot;</td><td>999.854722</td><td>2009.0</td><td>1692</td></tr><tr><td>&quot;A&quot;</td><td>989.539918</td><td>2009.0</td><td>1653</td></tr><tr><td>&quot;B&quot;</td><td>992.754444</td><td>2009.0</td><td>1655</td></tr></tbody></table></div>"
      ],
      "text/plain": [
       "shape: (3, 4)\n",
       "┌───────────────┬────────────┬─────────────┬──────┐\n",
       "│ building_type ┆ mean_sqft  ┆ median_year ┆ len  │\n",
       "│ ---           ┆ ---        ┆ ---         ┆ ---  │\n",
       "│ str           ┆ f64        ┆ f64         ┆ u32  │\n",
       "╞═══════════════╪════════════╪═════════════╪══════╡\n",
       "│ C             ┆ 999.854722 ┆ 2009.0      ┆ 1692 │\n",
       "│ A             ┆ 989.539918 ┆ 2009.0      ┆ 1653 │\n",
       "│ B             ┆ 992.754444 ┆ 2009.0      ┆ 1655 │\n",
       "└───────────────┴────────────┴─────────────┴──────┘"
      ]
     },
     "execution_count": 23,
     "metadata": {},
     "output_type": "execute_result"
    }
   ],
   "source": [
    "buildings.group_by(\"building_type\").agg(\n",
    "      [\n",
    "          pl.mean(\"sqft\").alias(\"mean_sqft\"),\n",
    "          pl.median(\"year\").alias(\"median_year\"),\n",
    "          pl.len(),\n",
    "      ]\n",
    "  )"
   ]
  },
  {
   "cell_type": "code",
   "execution_count": 24,
   "metadata": {},
   "outputs": [
    {
     "data": {
      "text/plain": [
       "'1.22.0'"
      ]
     },
     "execution_count": 24,
     "metadata": {},
     "output_type": "execute_result"
    }
   ],
   "source": [
    "pl.__version__"
   ]
  },
  {
   "cell_type": "markdown",
   "metadata": {},
   "source": [
    "### LAZY API"
   ]
  },
  {
   "cell_type": "code",
   "execution_count": 2,
   "metadata": {},
   "outputs": [
    {
     "data": {
      "text/html": [
       "<i>naive plan: (run <b>LazyFrame.explain(optimized=True)</b> to see the optimized plan)</i>\n",
       "    <p></p>\n",
       "    <div>DF [\"sqft\", \"price\", \"year\", \"building_type\"]; PROJECT */4 COLUMNS</div>"
      ],
      "text/plain": [
       "<LazyFrame at 0x16A80761DD0>"
      ]
     },
     "execution_count": 2,
     "metadata": {},
     "output_type": "execute_result"
    }
   ],
   "source": [
    "num_rows = 5000\n",
    "rng = np.random.default_rng(seed=7)\n",
    "\n",
    "buildings = {\n",
    "      \"sqft\": rng.exponential(scale=1000, size=num_rows),\n",
    "      \"price\": rng.exponential(scale=100_000, size=num_rows),\n",
    "      \"year\": rng.integers(low=1995, high=2023, size=num_rows),\n",
    "      \"building_type\": rng.choice([\"A\", \"B\", \"C\"], size=num_rows),\n",
    "   }\n",
    "\n",
    "buildings_lazy = pl.LazyFrame(buildings)\n",
    "buildings_lazy"
   ]
  },
  {
   "cell_type": "code",
   "execution_count": 6,
   "metadata": {},
   "outputs": [],
   "source": [
    "df = pd.DataFrame(buildings)\n",
    "pldf = pl.LazyFrame(df)"
   ]
  },
  {
   "cell_type": "code",
   "execution_count": 9,
   "metadata": {},
   "outputs": [
    {
     "data": {
      "text/html": [
       "<i>naive plan: (run <b>LazyFrame.explain(optimized=True)</b> to see the optimized plan)</i>\n",
       "    <p></p>\n",
       "    <div>FILTER [(col(\"year\")) < (2010)] FROM<p></p>  FILTER [(col(\"price_per_sqft\")) > (100.0)] FROM<p></p>     WITH_COLUMNS:<p></p>     [[(col(\"price\")) / (col(\"sqft\"))].alias(\"price_per_sqft\")] <p></p>      DF [\"sqft\", \"price\", \"year\", \"building_type\"]; PROJECT */4 COLUMNS</div>"
      ],
      "text/plain": [
       "<LazyFrame at 0x16A90E78450>"
      ]
     },
     "execution_count": 9,
     "metadata": {},
     "output_type": "execute_result"
    }
   ],
   "source": [
    "lazy_query = (\n",
    "    buildings_lazy.with_columns((pl.col('price')/pl.col('sqft')).alias('price_per_sqft'))\n",
    "    .filter(pl.col('price_per_sqft')>100)\n",
    "    .filter(pl.col('year')< 2010)\n",
    ")\n",
    "\n",
    "lazy_query"
   ]
  },
  {
   "cell_type": "code",
   "execution_count": 12,
   "metadata": {},
   "outputs": [
    {
     "data": {
      "text/html": [
       "<i>naive plan: (run <b>LazyFrame.explain(optimized=True)</b> to see the optimized plan)</i>\n",
       "    <p></p>\n",
       "    <div>FILTER [(col(\"year\")) < (2010)] FROM<p></p>  FILTER [(col(\"price_per_sqft\")) > (100.0)] FROM<p></p>     WITH_COLUMNS:<p></p>     [[(col(\"price\")) / (col(\"sqft\"))].alias(\"price_per_sqft\")] <p></p>      DF [\"sqft\", \"price\", \"year\", \"building_type\"]; PROJECT */4 COLUMNS</div>"
      ],
      "text/plain": [
       "<LazyFrame at 0x16A90858C90>"
      ]
     },
     "execution_count": 12,
     "metadata": {},
     "output_type": "execute_result"
    }
   ],
   "source": [
    "buildings_lazy.with_columns((pl.col('price')/pl.col('sqft')).alias('price_per_sqft')).filter(pl.col('price_per_sqft')>100).filter(pl.col('year')< 2010)"
   ]
  },
  {
   "cell_type": "code",
   "execution_count": 13,
   "metadata": {},
   "outputs": [
    {
     "data": {
      "text/html": [
       "<div><style>\n",
       ".dataframe > thead > tr,\n",
       ".dataframe > tbody > tr {\n",
       "  text-align: right;\n",
       "  white-space: pre-wrap;\n",
       "}\n",
       "</style>\n",
       "<small>shape: (1_317, 5)</small><table border=\"1\" class=\"dataframe\"><thead><tr><th>sqft</th><th>price</th><th>year</th><th>building_type</th><th>price_per_sqft</th></tr><tr><td>f64</td><td>f64</td><td>i64</td><td>str</td><td>f64</td></tr></thead><tbody><tr><td>9.753627</td><td>31876.709467</td><td>1996</td><td>&quot;B&quot;</td><td>3268.19045</td></tr><tr><td>575.332756</td><td>157836.308297</td><td>2000</td><td>&quot;A&quot;</td><td>274.339166</td></tr><tr><td>541.135894</td><td>160706.384529</td><td>2004</td><td>&quot;C&quot;</td><td>296.979717</td></tr><tr><td>312.145612</td><td>118260.959791</td><td>2002</td><td>&quot;C&quot;</td><td>378.86472</td></tr><tr><td>1223.566418</td><td>155763.172528</td><td>1995</td><td>&quot;B&quot;</td><td>127.302589</td></tr><tr><td>&hellip;</td><td>&hellip;</td><td>&hellip;</td><td>&hellip;</td><td>&hellip;</td></tr><tr><td>300.07268</td><td>79730.200062</td><td>2008</td><td>&quot;B&quot;</td><td>265.702962</td></tr><tr><td>45.167911</td><td>112098.176874</td><td>2009</td><td>&quot;B&quot;</td><td>2481.810063</td></tr><tr><td>99.773084</td><td>69661.948942</td><td>2008</td><td>&quot;C&quot;</td><td>698.203822</td></tr><tr><td>197.842124</td><td>107045.996211</td><td>2005</td><td>&quot;A&quot;</td><td>541.067767</td></tr><tr><td>686.678345</td><td>73591.321961</td><td>1995</td><td>&quot;B&quot;</td><td>107.170005</td></tr></tbody></table></div>"
      ],
      "text/plain": [
       "shape: (1_317, 5)\n",
       "┌─────────────┬───────────────┬──────┬───────────────┬────────────────┐\n",
       "│ sqft        ┆ price         ┆ year ┆ building_type ┆ price_per_sqft │\n",
       "│ ---         ┆ ---           ┆ ---  ┆ ---           ┆ ---            │\n",
       "│ f64         ┆ f64           ┆ i64  ┆ str           ┆ f64            │\n",
       "╞═════════════╪═══════════════╪══════╪═══════════════╪════════════════╡\n",
       "│ 9.753627    ┆ 31876.709467  ┆ 1996 ┆ B             ┆ 3268.19045     │\n",
       "│ 575.332756  ┆ 157836.308297 ┆ 2000 ┆ A             ┆ 274.339166     │\n",
       "│ 541.135894  ┆ 160706.384529 ┆ 2004 ┆ C             ┆ 296.979717     │\n",
       "│ 312.145612  ┆ 118260.959791 ┆ 2002 ┆ C             ┆ 378.86472      │\n",
       "│ 1223.566418 ┆ 155763.172528 ┆ 1995 ┆ B             ┆ 127.302589     │\n",
       "│ …           ┆ …             ┆ …    ┆ …             ┆ …              │\n",
       "│ 300.07268   ┆ 79730.200062  ┆ 2008 ┆ B             ┆ 265.702962     │\n",
       "│ 45.167911   ┆ 112098.176874 ┆ 2009 ┆ B             ┆ 2481.810063    │\n",
       "│ 99.773084   ┆ 69661.948942  ┆ 2008 ┆ C             ┆ 698.203822     │\n",
       "│ 197.842124  ┆ 107045.996211 ┆ 2005 ┆ A             ┆ 541.067767     │\n",
       "│ 686.678345  ┆ 73591.321961  ┆ 1995 ┆ B             ┆ 107.170005     │\n",
       "└─────────────┴───────────────┴──────┴───────────────┴────────────────┘"
      ]
     },
     "execution_count": 13,
     "metadata": {},
     "output_type": "execute_result"
    }
   ],
   "source": [
    "lazy_query.collect()"
   ]
  },
  {
   "cell_type": "code",
   "execution_count": 15,
   "metadata": {},
   "outputs": [
    {
     "data": {
      "text/html": [
       "<div><style>\n",
       ".dataframe > thead > tr,\n",
       ".dataframe > tbody > tr {\n",
       "  text-align: right;\n",
       "  white-space: pre-wrap;\n",
       "}\n",
       "</style>\n",
       "<small>shape: (9, 3)</small><table border=\"1\" class=\"dataframe\"><thead><tr><th>statistic</th><th>price_per_sqft</th><th>year</th></tr><tr><td>str</td><td>f64</td><td>f64</td></tr></thead><tbody><tr><td>&quot;count&quot;</td><td>1317.0</td><td>1317.0</td></tr><tr><td>&quot;null_count&quot;</td><td>0.0</td><td>0.0</td></tr><tr><td>&quot;mean&quot;</td><td>1400.622815</td><td>2002.003037</td></tr><tr><td>&quot;std&quot;</td><td>5755.888716</td><td>4.324595</td></tr><tr><td>&quot;min&quot;</td><td>100.02061</td><td>1995.0</td></tr><tr><td>&quot;25%&quot;</td><td>166.351274</td><td>1998.0</td></tr><tr><td>&quot;50%&quot;</td><td>296.71958</td><td>2002.0</td></tr><tr><td>&quot;75%&quot;</td><td>744.552161</td><td>2006.0</td></tr><tr><td>&quot;max&quot;</td><td>90314.966163</td><td>2009.0</td></tr></tbody></table></div>"
      ],
      "text/plain": [
       "shape: (9, 3)\n",
       "┌────────────┬────────────────┬─────────────┐\n",
       "│ statistic  ┆ price_per_sqft ┆ year        │\n",
       "│ ---        ┆ ---            ┆ ---         │\n",
       "│ str        ┆ f64            ┆ f64         │\n",
       "╞════════════╪════════════════╪═════════════╡\n",
       "│ count      ┆ 1317.0         ┆ 1317.0      │\n",
       "│ null_count ┆ 0.0            ┆ 0.0         │\n",
       "│ mean       ┆ 1400.622815    ┆ 2002.003037 │\n",
       "│ std        ┆ 5755.888716    ┆ 4.324595    │\n",
       "│ min        ┆ 100.02061      ┆ 1995.0      │\n",
       "│ 25%        ┆ 166.351274     ┆ 1998.0      │\n",
       "│ 50%        ┆ 296.71958      ┆ 2002.0      │\n",
       "│ 75%        ┆ 744.552161     ┆ 2006.0      │\n",
       "│ max        ┆ 90314.966163   ┆ 2009.0      │\n",
       "└────────────┴────────────────┴─────────────┘"
      ]
     },
     "execution_count": 15,
     "metadata": {},
     "output_type": "execute_result"
    }
   ],
   "source": [
    "lazy_query.collect().select(pl.col(['price_per_sqft', 'year'])).describe()"
   ]
  },
  {
   "cell_type": "code",
   "execution_count": 2,
   "metadata": {},
   "outputs": [],
   "source": [
    "import requests\n",
    "import pathlib\n",
    "\n",
    "def download_file(file_url: str, local_file_path: pathlib.Path) -> None:\n",
    "    \"\"\"Download a file and save it with the specified file name.\"\"\"\n",
    "    response = requests.get(file_url)\n",
    "    if response:\n",
    "        local_file_path.write_bytes(response.content)\n",
    "        print(f\"File successfully downloaded and stored at: {local_file_path}\")\n",
    "    else:\n",
    "        raise requests.exceptions.RequestException(\n",
    "            f\"Failed to download the file. Status code: {response.status_code}\"\n",
    "        )"
   ]
  },
  {
   "cell_type": "code",
   "execution_count": null,
   "metadata": {},
   "outputs": [
    {
     "name": "stdout",
     "output_type": "stream",
     "text": [
      "File successfully downloaded and stored at: electric_cars.csv\n"
     ]
    }
   ],
   "source": [
    "url = \"https://data.wa.gov/api/views/f6w7-q2d2/rows.csv?accessType=DOWNLOAD\"\n",
    "local_file_path = pathlib.Path(\"electric_cars.csv\")\n",
    "#download_file(url, local_file_path)"
   ]
  },
  {
   "cell_type": "code",
   "execution_count": 7,
   "metadata": {},
   "outputs": [
    {
     "data": {
      "text/html": [
       "<i>naive plan: (run <b>LazyFrame.explain(optimized=True)</b> to see the optimized plan)</i>\n",
       "    <p></p>\n",
       "    <div>Csv SCAN [electric_cars.csv]<p></p>PROJECT */17 COLUMNS</div>"
      ],
      "text/plain": [
       "<LazyFrame at 0x278AE814A10>"
      ]
     },
     "execution_count": 7,
     "metadata": {},
     "output_type": "execute_result"
    }
   ],
   "source": [
    "lazy_car_data = pl.scan_csv('electric_cars.csv')\n",
    "lazy_car_data"
   ]
  },
  {
   "cell_type": "code",
   "execution_count": 8,
   "metadata": {},
   "outputs": [
    {
     "name": "stderr",
     "output_type": "stream",
     "text": [
      "C:\\Users\\Utsav\\AppData\\Local\\Temp\\ipykernel_19408\\3946365031.py:1: PerformanceWarning: Resolving the schema of a LazyFrame is a potentially expensive operation. Use `LazyFrame.collect_schema()` to get the schema without this warning.\n",
      "  lazy_car_data.schema\n"
     ]
    },
    {
     "data": {
      "text/plain": [
       "Schema([('VIN (1-10)', String),\n",
       "        ('County', String),\n",
       "        ('City', String),\n",
       "        ('State', String),\n",
       "        ('Postal Code', Int64),\n",
       "        ('Model Year', Int64),\n",
       "        ('Make', String),\n",
       "        ('Model', String),\n",
       "        ('Electric Vehicle Type', String),\n",
       "        ('Clean Alternative Fuel Vehicle (CAFV) Eligibility', String),\n",
       "        ('Electric Range', Int64),\n",
       "        ('Base MSRP', Int64),\n",
       "        ('Legislative District', Int64),\n",
       "        ('DOL Vehicle ID', Int64),\n",
       "        ('Vehicle Location', String),\n",
       "        ('Electric Utility', String),\n",
       "        ('2020 Census Tract', Int64)])"
      ]
     },
     "execution_count": 8,
     "metadata": {},
     "output_type": "execute_result"
    }
   ],
   "source": [
    "lazy_car_data.schema"
   ]
  },
  {
   "cell_type": "code",
   "execution_count": 9,
   "metadata": {},
   "outputs": [],
   "source": [
    "lazy_car_query = (\n",
    "    lazy_car_data.filter(pl.col('Model Year') >= 2018)\n",
    "    .filter(pl.col('Electric Vehicle Type') == 'Battery Electric Vehicle (BEV)')\n",
    "    .group_by(['State', \"Make\"])\n",
    "    .agg(\n",
    "        pl.mean('Electric Range').alias('Average Electric Range'),\n",
    "        pl.min('Model Year').alias('Olderst Model Year'),\n",
    "        pl.len().alias('Number of Cars')\n",
    "    ).filter(pl.col('Average Electric Range') > 0)\n",
    "    .filter(pl.col('Number of Cars') > 5)\n",
    "    .sort(pl.col('Number of Cars'), descending=True)\n",
    ")"
   ]
  },
  {
   "cell_type": "code",
   "execution_count": 10,
   "metadata": {},
   "outputs": [
    {
     "data": {
      "text/html": [
       "<div><style>\n",
       ".dataframe > thead > tr,\n",
       ".dataframe > tbody > tr {\n",
       "  text-align: right;\n",
       "  white-space: pre-wrap;\n",
       "}\n",
       "</style>\n",
       "<small>shape: (22, 5)</small><table border=\"1\" class=\"dataframe\"><thead><tr><th>State</th><th>Make</th><th>Average Electric Range</th><th>Olderst Model Year</th><th>Number of Cars</th></tr><tr><td>str</td><td>str</td><td>f64</td><td>i64</td><td>u32</td></tr></thead><tbody><tr><td>&quot;WA&quot;</td><td>&quot;TESLA&quot;</td><td>53.335737</td><td>2018</td><td>90297</td></tr><tr><td>&quot;WA&quot;</td><td>&quot;CHEVROLET&quot;</td><td>81.730205</td><td>2018</td><td>9952</td></tr><tr><td>&quot;WA&quot;</td><td>&quot;NISSAN&quot;</td><td>61.468657</td><td>2018</td><td>8072</td></tr><tr><td>&quot;WA&quot;</td><td>&quot;FORD&quot;</td><td>0.087631</td><td>2018</td><td>7988</td></tr><tr><td>&quot;WA&quot;</td><td>&quot;KIA&quot;</td><td>31.267383</td><td>2018</td><td>7162</td></tr><tr><td>&hellip;</td><td>&hellip;</td><td>&hellip;</td><td>&hellip;</td><td>&hellip;</td></tr><tr><td>&quot;MD&quot;</td><td>&quot;TESLA&quot;</td><td>31.625</td><td>2018</td><td>16</td></tr><tr><td>&quot;TX&quot;</td><td>&quot;TESLA&quot;</td><td>62.933333</td><td>2018</td><td>15</td></tr><tr><td>&quot;NC&quot;</td><td>&quot;TESLA&quot;</td><td>37.0</td><td>2018</td><td>13</td></tr><tr><td>&quot;FL&quot;</td><td>&quot;TESLA&quot;</td><td>93.625</td><td>2018</td><td>8</td></tr><tr><td>&quot;NY&quot;</td><td>&quot;TESLA&quot;</td><td>35.833333</td><td>2018</td><td>6</td></tr></tbody></table></div>"
      ],
      "text/plain": [
       "shape: (22, 5)\n",
       "┌───────┬───────────┬────────────────────────┬────────────────────┬────────────────┐\n",
       "│ State ┆ Make      ┆ Average Electric Range ┆ Olderst Model Year ┆ Number of Cars │\n",
       "│ ---   ┆ ---       ┆ ---                    ┆ ---                ┆ ---            │\n",
       "│ str   ┆ str       ┆ f64                    ┆ i64                ┆ u32            │\n",
       "╞═══════╪═══════════╪════════════════════════╪════════════════════╪════════════════╡\n",
       "│ WA    ┆ TESLA     ┆ 53.335737              ┆ 2018               ┆ 90297          │\n",
       "│ WA    ┆ CHEVROLET ┆ 81.730205              ┆ 2018               ┆ 9952           │\n",
       "│ WA    ┆ NISSAN    ┆ 61.468657              ┆ 2018               ┆ 8072           │\n",
       "│ WA    ┆ FORD      ┆ 0.087631               ┆ 2018               ┆ 7988           │\n",
       "│ WA    ┆ KIA       ┆ 31.267383              ┆ 2018               ┆ 7162           │\n",
       "│ …     ┆ …         ┆ …                      ┆ …                  ┆ …              │\n",
       "│ MD    ┆ TESLA     ┆ 31.625                 ┆ 2018               ┆ 16             │\n",
       "│ TX    ┆ TESLA     ┆ 62.933333              ┆ 2018               ┆ 15             │\n",
       "│ NC    ┆ TESLA     ┆ 37.0                   ┆ 2018               ┆ 13             │\n",
       "│ FL    ┆ TESLA     ┆ 93.625                 ┆ 2018               ┆ 8              │\n",
       "│ NY    ┆ TESLA     ┆ 35.833333              ┆ 2018               ┆ 6              │\n",
       "└───────┴───────────┴────────────────────────┴────────────────────┴────────────────┘"
      ]
     },
     "execution_count": 10,
     "metadata": {},
     "output_type": "execute_result"
    }
   ],
   "source": [
    "lazy_car_query.collect()"
   ]
  },
  {
   "cell_type": "markdown",
   "metadata": {},
   "source": [
    "#### Working with various data sources"
   ]
  },
  {
   "cell_type": "code",
   "execution_count": 13,
   "metadata": {},
   "outputs": [],
   "source": [
    "import polars as pl\n",
    "data = pl.DataFrame({\n",
    "    \"A\": [1, 2, 3, 4, 5],\n",
    "    \"B\": [6, 7, 8, 9, 10],\n",
    "})\n",
    "\n",
    "data.write_csv('data.csv')\n",
    "data.write_ndjson('data.json')\n",
    "data.write_parquet('data.parquet')"
   ]
  },
  {
   "cell_type": "code",
   "execution_count": 18,
   "metadata": {},
   "outputs": [],
   "source": [
    "df = pd.read_csv('data.csv')\n",
    "lf = pl.from_dataframe(df).lazy()"
   ]
  },
  {
   "cell_type": "code",
   "execution_count": 25,
   "metadata": {},
   "outputs": [
    {
     "data": {
      "text/plain": [
       "Schema([('A', Int64), ('B', Int64)])"
      ]
     },
     "execution_count": 25,
     "metadata": {},
     "output_type": "execute_result"
    }
   ],
   "source": [
    "lf.collect_schema()"
   ]
  },
  {
   "cell_type": "code",
   "execution_count": null,
   "metadata": {},
   "outputs": [],
   "source": []
  }
 ],
 "metadata": {
  "kernelspec": {
   "display_name": "Python 3",
   "language": "python",
   "name": "python3"
  },
  "language_info": {
   "codemirror_mode": {
    "name": "ipython",
    "version": 3
   },
   "file_extension": ".py",
   "mimetype": "text/x-python",
   "name": "python",
   "nbconvert_exporter": "python",
   "pygments_lexer": "ipython3",
   "version": "3.11.9"
  }
 },
 "nbformat": 4,
 "nbformat_minor": 2
}
