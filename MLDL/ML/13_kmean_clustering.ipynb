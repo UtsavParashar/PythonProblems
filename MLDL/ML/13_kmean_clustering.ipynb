{
 "cells": [
  {
   "cell_type": "markdown",
   "metadata": {},
   "source": [
    "## K mean clustering\n",
    "Steps \n",
    "1. Take two random centroid\n",
    "2. Find the distance of the next value from both centroid, the value is closer to which ever centroid its part of that cluster\n",
    "3. Calculate the new centroid of the cluster where the value is added\n",
    "4. Repeat the process\n",
    "eg. price and volume of 5 days for itc\n",
    "price = [408, 406, 405, 401, 400]\n",
    "volume = [306, 151, 96, 380, 249]\n",
    "\n"
   ]
  },
  {
   "cell_type": "code",
   "execution_count": null,
   "metadata": {},
   "outputs": [
    {
     "name": "stdout",
     "output_type": "stream",
     "text": [
      "c1 - [0, 3, 4] -- c2 - [1, 2]\n"
     ]
    }
   ],
   "source": [
    "# K mean clustering algorithm\n",
    "\n",
    "import numpy as np\n",
    "def get_euclidian_distance(new_dim_tuple, centroid_tuple):\n",
    "    return np.sqrt(((new_dim_tuple[0] - centroid_tuple[0])**2) + ((new_dim_tuple[1] - centroid_tuple[1])**2))\n",
    "\n",
    "def generate_new_centroid(existing_centroid, new_dimension):\n",
    "    return (((existing_centroid[0] + new_dimension[0])/2), (((existing_centroid[1] + new_dimension[1])/2)))\n",
    "\n",
    "price = [408, 406, 405, 401, 400]\n",
    "volume = [306, 151, 96, 380, 249]\n",
    "\n",
    "def create_clusters():\n",
    "    # first set of centroids\n",
    "    k1 = (price[0], volume[0])\n",
    "    k2 = (price[1], volume[1])\n",
    "\n",
    "    c1 = [0]\n",
    "    c2 = [1]\n",
    "\n",
    "    idx = 2\n",
    "    for idx, (px, vol) in enumerate(zip(price[2:], volume[2:]), 2):\n",
    "        k1_distance = get_euclidian_distance((px, vol), (k1))\n",
    "        k2_distance = get_euclidian_distance((px, vol), (k2))\n",
    "        if k1_distance < k2_distance:\n",
    "            c1.append(idx)\n",
    "            k1 = generate_new_centroid(k1, (px, vol))\n",
    "        else:\n",
    "            c2.append(idx)\n",
    "            k2 = generate_new_centroid(k2, (px, vol))\n",
    "    print(f'c1 - {c1} -- c2 - {c2}')\n",
    "\n",
    "create_clusters()\n"
   ]
  },
  {
   "cell_type": "markdown",
   "metadata": {},
   "source": [
    "### How to determine k\n",
    "In order to determin k, you can use the elbow method\n",
    "Take sum of squared error on y axis and k on x axis this will form a line graph similar to bend hand which will help you determine k at elbow"
   ]
  },
  {
   "cell_type": "code",
   "execution_count": 17,
   "metadata": {},
   "outputs": [],
   "source": [
    "from sklearn.cluster import KMeans\n",
    "import pandas as pd\n",
    "import numpy as np\n",
    "from sklearn.preprocessing import MinMaxScaler\n",
    "import matplotlib.pyplot as plt\n",
    "%matplotlib inline"
   ]
  },
  {
   "cell_type": "code",
   "execution_count": 18,
   "metadata": {},
   "outputs": [
    {
     "data": {
      "text/html": [
       "<div>\n",
       "<style scoped>\n",
       "    .dataframe tbody tr th:only-of-type {\n",
       "        vertical-align: middle;\n",
       "    }\n",
       "\n",
       "    .dataframe tbody tr th {\n",
       "        vertical-align: top;\n",
       "    }\n",
       "\n",
       "    .dataframe thead th {\n",
       "        text-align: right;\n",
       "    }\n",
       "</style>\n",
       "<table border=\"1\" class=\"dataframe\">\n",
       "  <thead>\n",
       "    <tr style=\"text-align: right;\">\n",
       "      <th></th>\n",
       "      <th>px</th>\n",
       "      <th>vol</th>\n",
       "    </tr>\n",
       "  </thead>\n",
       "  <tbody>\n",
       "    <tr>\n",
       "      <th>0</th>\n",
       "      <td>408</td>\n",
       "      <td>306</td>\n",
       "    </tr>\n",
       "    <tr>\n",
       "      <th>1</th>\n",
       "      <td>406</td>\n",
       "      <td>151</td>\n",
       "    </tr>\n",
       "    <tr>\n",
       "      <th>2</th>\n",
       "      <td>405</td>\n",
       "      <td>96</td>\n",
       "    </tr>\n",
       "    <tr>\n",
       "      <th>3</th>\n",
       "      <td>401</td>\n",
       "      <td>380</td>\n",
       "    </tr>\n",
       "    <tr>\n",
       "      <th>4</th>\n",
       "      <td>400</td>\n",
       "      <td>249</td>\n",
       "    </tr>\n",
       "  </tbody>\n",
       "</table>\n",
       "</div>"
      ],
      "text/plain": [
       "    px  vol\n",
       "0  408  306\n",
       "1  406  151\n",
       "2  405   96\n",
       "3  401  380\n",
       "4  400  249"
      ]
     },
     "execution_count": 18,
     "metadata": {},
     "output_type": "execute_result"
    }
   ],
   "source": [
    "# Create dataframe for price and volume\n",
    "\n",
    "df = pd.DataFrame({\n",
    "    'px': price,\n",
    "    'vol': volume\n",
    "})\n",
    "\n",
    "df"
   ]
  },
  {
   "cell_type": "code",
   "execution_count": 20,
   "metadata": {},
   "outputs": [
    {
     "data": {
      "text/plain": [
       "<matplotlib.collections.PathCollection at 0x25b4a9a1950>"
      ]
     },
     "execution_count": 20,
     "metadata": {},
     "output_type": "execute_result"
    },
    {
     "data": {
      "image/png": "[encoded data removed]",
      "text/plain": [
       "<Figure size 640x480 with 1 Axes>"
      ]
     },
     "metadata": {},
     "output_type": "display_data"
    }
   ],
   "source": [
    "plt.scatter(df.px, df.vol)"
   ]
  },
  {
   "cell_type": "code",
   "execution_count": 24,
   "metadata": {},
   "outputs": [
    {
     "data": {
      "text/plain": [
       "[52675.200000000004, 10179.666666666666, 3169.5, 1513.0, 0.0]"
      ]
     },
     "execution_count": 24,
     "metadata": {},
     "output_type": "execute_result"
    }
   ],
   "source": [
    "# Determine k\n",
    "\n",
    "sse = []\n",
    "krng = range(1, df.shape[0]+1)\n",
    "for k in krng:\n",
    "    km = KMeans(n_clusters=k)\n",
    "    km.fit(df[['px', 'vol']])\n",
    "    sse.append(km.inertia_)\n",
    "sse"
   ]
  },
  {
   "cell_type": "code",
   "execution_count": 25,
   "metadata": {},
   "outputs": [
    {
     "data": {
      "text/plain": [
       "[<matplotlib.lines.Line2D at 0x25b4ab29f10>]"
      ]
     },
     "execution_count": 25,
     "metadata": {},
     "output_type": "execute_result"
    },
    {
     "data": {
      "image/png": "[encoded data removed]",
      "text/plain": [
       "<Figure size 640x480 with 1 Axes>"
      ]
     },
     "metadata": {},
     "output_type": "display_data"
    }
   ],
   "source": [
    "plt.plot(krng, sse)"
   ]
  },
  {
   "cell_type": "code",
   "execution_count": 30,
   "metadata": {},
   "outputs": [
    {
     "data": {
      "text/html": [
       "<div>\n",
       "<style scoped>\n",
       "    .dataframe tbody tr th:only-of-type {\n",
       "        vertical-align: middle;\n",
       "    }\n",
       "\n",
       "    .dataframe tbody tr th {\n",
       "        vertical-align: top;\n",
       "    }\n",
       "\n",
       "    .dataframe thead th {\n",
       "        text-align: right;\n",
       "    }\n",
       "</style>\n",
       "<table border=\"1\" class=\"dataframe\">\n",
       "  <thead>\n",
       "    <tr style=\"text-align: right;\">\n",
       "      <th></th>\n",
       "      <th>px</th>\n",
       "      <th>vol</th>\n",
       "      <th>scaled_px</th>\n",
       "      <th>scaled_vol</th>\n",
       "    </tr>\n",
       "  </thead>\n",
       "  <tbody>\n",
       "    <tr>\n",
       "      <th>0</th>\n",
       "      <td>408</td>\n",
       "      <td>306</td>\n",
       "      <td>1.000</td>\n",
       "      <td>0.739437</td>\n",
       "    </tr>\n",
       "    <tr>\n",
       "      <th>1</th>\n",
       "      <td>406</td>\n",
       "      <td>151</td>\n",
       "      <td>0.750</td>\n",
       "      <td>0.193662</td>\n",
       "    </tr>\n",
       "    <tr>\n",
       "      <th>2</th>\n",
       "      <td>405</td>\n",
       "      <td>96</td>\n",
       "      <td>0.625</td>\n",
       "      <td>0.000000</td>\n",
       "    </tr>\n",
       "    <tr>\n",
       "      <th>3</th>\n",
       "      <td>401</td>\n",
       "      <td>380</td>\n",
       "      <td>0.125</td>\n",
       "      <td>1.000000</td>\n",
       "    </tr>\n",
       "    <tr>\n",
       "      <th>4</th>\n",
       "      <td>400</td>\n",
       "      <td>249</td>\n",
       "      <td>0.000</td>\n",
       "      <td>0.538732</td>\n",
       "    </tr>\n",
       "  </tbody>\n",
       "</table>\n",
       "</div>"
      ],
      "text/plain": [
       "    px  vol  scaled_px  scaled_vol\n",
       "0  408  306      1.000    0.739437\n",
       "1  406  151      0.750    0.193662\n",
       "2  405   96      0.625    0.000000\n",
       "3  401  380      0.125    1.000000\n",
       "4  400  249      0.000    0.538732"
      ]
     },
     "execution_count": 30,
     "metadata": {},
     "output_type": "execute_result"
    }
   ],
   "source": [
    "# Better to have 3 clusters based on above graph, but we will stick with 2 for now\n",
    "# Let's scale px and vol to same scale \n",
    "\n",
    "scaler = MinMaxScaler()\n",
    "scaler.fit(df[['px']])\n",
    "df['scaled_px'] = scaler.transform(df[['px']])\n",
    "scaler.fit(df[['vol']])\n",
    "df['scaled_vol'] = scaler.transform(df[['vol']])\n",
    "\n",
    "df"
   ]
  },
  {
   "cell_type": "code",
   "execution_count": 31,
   "metadata": {},
   "outputs": [
    {
     "data": {
      "text/plain": [
       "array([0, 1, 1, 0, 0])"
      ]
     },
     "execution_count": 31,
     "metadata": {},
     "output_type": "execute_result"
    }
   ],
   "source": [
    "km = KMeans(n_clusters=2)\n",
    "y_pred = km.fit_predict(df[['px', 'vol']])\n",
    "y_pred"
   ]
  },
  {
   "cell_type": "code",
   "execution_count": 32,
   "metadata": {},
   "outputs": [
    {
     "data": {
      "text/html": [
       "<div>\n",
       "<style scoped>\n",
       "    .dataframe tbody tr th:only-of-type {\n",
       "        vertical-align: middle;\n",
       "    }\n",
       "\n",
       "    .dataframe tbody tr th {\n",
       "        vertical-align: top;\n",
       "    }\n",
       "\n",
       "    .dataframe thead th {\n",
       "        text-align: right;\n",
       "    }\n",
       "</style>\n",
       "<table border=\"1\" class=\"dataframe\">\n",
       "  <thead>\n",
       "    <tr style=\"text-align: right;\">\n",
       "      <th></th>\n",
       "      <th>px</th>\n",
       "      <th>vol</th>\n",
       "      <th>scaled_px</th>\n",
       "      <th>scaled_vol</th>\n",
       "      <th>pred_cluster</th>\n",
       "    </tr>\n",
       "  </thead>\n",
       "  <tbody>\n",
       "    <tr>\n",
       "      <th>0</th>\n",
       "      <td>408</td>\n",
       "      <td>306</td>\n",
       "      <td>1.000</td>\n",
       "      <td>0.739437</td>\n",
       "      <td>0</td>\n",
       "    </tr>\n",
       "    <tr>\n",
       "      <th>1</th>\n",
       "      <td>406</td>\n",
       "      <td>151</td>\n",
       "      <td>0.750</td>\n",
       "      <td>0.193662</td>\n",
       "      <td>1</td>\n",
       "    </tr>\n",
       "    <tr>\n",
       "      <th>2</th>\n",
       "      <td>405</td>\n",
       "      <td>96</td>\n",
       "      <td>0.625</td>\n",
       "      <td>0.000000</td>\n",
       "      <td>1</td>\n",
       "    </tr>\n",
       "    <tr>\n",
       "      <th>3</th>\n",
       "      <td>401</td>\n",
       "      <td>380</td>\n",
       "      <td>0.125</td>\n",
       "      <td>1.000000</td>\n",
       "      <td>0</td>\n",
       "    </tr>\n",
       "    <tr>\n",
       "      <th>4</th>\n",
       "      <td>400</td>\n",
       "      <td>249</td>\n",
       "      <td>0.000</td>\n",
       "      <td>0.538732</td>\n",
       "      <td>0</td>\n",
       "    </tr>\n",
       "  </tbody>\n",
       "</table>\n",
       "</div>"
      ],
      "text/plain": [
       "    px  vol  scaled_px  scaled_vol  pred_cluster\n",
       "0  408  306      1.000    0.739437             0\n",
       "1  406  151      0.750    0.193662             1\n",
       "2  405   96      0.625    0.000000             1\n",
       "3  401  380      0.125    1.000000             0\n",
       "4  400  249      0.000    0.538732             0"
      ]
     },
     "execution_count": 32,
     "metadata": {},
     "output_type": "execute_result"
    }
   ],
   "source": [
    "df['pred_cluster'] = y_pred\n",
    "df"
   ]
  },
  {
   "cell_type": "code",
   "execution_count": 33,
   "metadata": {},
   "outputs": [
    {
     "data": {
      "text/plain": [
       "<Axes: xlabel='scaled_px', ylabel='scaled_vol'>"
      ]
     },
     "execution_count": 33,
     "metadata": {},
     "output_type": "execute_result"
    },
    {
     "data": {
      "image/png": "[encoded data removed]",
      "text/plain": [
       "<Figure size 640x480 with 1 Axes>"
      ]
     },
     "metadata": {},
     "output_type": "display_data"
    }
   ],
   "source": [
    "import seaborn as sns\n",
    "sns.scatterplot(data=df, x='scaled_px', y='scaled_vol', hue='pred_cluster')"
   ]
  },
  {
   "cell_type": "code",
   "execution_count": null,
   "metadata": {},
   "outputs": [
    {
     "data": {
      "text/plain": [
       "array([[403.        , 311.66666667],\n",
       "       [405.5       , 123.5       ]])"
      ]
     },
     "execution_count": 34,
     "metadata": {},
     "output_type": "execute_result"
    }
   ],
   "source": [
    "# These are the centroids\n",
    "km.cluster_centers_"
   ]
  },
  {
   "cell_type": "code",
   "execution_count": 42,
   "metadata": {},
   "outputs": [
    {
     "data": {
      "text/plain": [
       "<matplotlib.legend.Legend at 0x25b51bd4d50>"
      ]
     },
     "execution_count": 42,
     "metadata": {},
     "output_type": "execute_result"
    },
    {
     "data": {
      "image/png": "[encoded data removed]",
      "text/plain": [
       "<Figure size 640x480 with 1 Axes>"
      ]
     },
     "metadata": {},
     "output_type": "display_data"
    }
   ],
   "source": [
    "# looking at this plot seems like 3 clusters would have made more sense\n",
    "# let's add centroid to the plot now\n",
    "df1 = df[df.pred_cluster==0]\n",
    "df2 = df[df.pred_cluster==1]\n",
    "plt.scatter(df1.px, df1.vol, color='green', label='cluster1')\n",
    "plt.scatter(df2.px, df2.vol, color='red', label='cluster2')\n",
    "plt.scatter(km.cluster_centers_[:, 0], km.cluster_centers_[:, 1], color='purple', marker='*', label='centroid')\n",
    "plt.legend()"
   ]
  },
  {
   "cell_type": "code",
   "execution_count": null,
   "metadata": {},
   "outputs": [],
   "source": []
  }
 ],
 "metadata": {
  "kernelspec": {
   "display_name": "Python 3",
   "language": "python",
   "name": "python3"
  },
  "language_info": {
   "codemirror_mode": {
    "name": "ipython",
    "version": 3
   },
   "file_extension": ".py",
   "mimetype": "text/x-python",
   "name": "python",
   "nbconvert_exporter": "python",
   "pygments_lexer": "ipython3",
   "version": "3.11.9"
  }
 },
 "nbformat": 4,
 "nbformat_minor": 2
}
