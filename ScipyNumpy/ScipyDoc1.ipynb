{
 "cells": [
  {
   "cell_type": "code",
   "execution_count": 1,
   "id": "detailed-electron",
   "metadata": {},
   "outputs": [],
   "source": [
    "%matplotlib inline\n",
    "import numpy as np\n",
    "import numpy.ma as ma\n",
    "import pandas as pd\n",
    "from pandas import DataFrame, Series\n",
    "import matplotlib.pyplot as plt\n",
    "import seaborn as sns\n",
    "import timeit\n",
    "import line_profiler\n",
    "\n",
    "import datetime\n",
    "\n",
    "from io import StringIO\n",
    "from pandas.api.types import CategoricalDtype\n",
    "\n",
    "import pandas._testing as tm\n",
    "\n",
    "## returns df from string data\n",
    "def g(data):\n",
    "    return pd.read_csv(StringIO(data))"
   ]
  },
  {
   "cell_type": "code",
   "execution_count": 12,
   "id": "anticipated-norfolk",
   "metadata": {},
   "outputs": [
    {
     "data": {
      "text/plain": [
       "pandas.core.frame.DataFrame"
      ]
     },
     "execution_count": 12,
     "metadata": {},
     "output_type": "execute_result"
    }
   ],
   "source": [
    "pd.DataFrame"
   ]
  },
  {
   "cell_type": "code",
   "execution_count": null,
   "id": "selected-variable",
   "metadata": {},
   "outputs": [],
   "source": [
    "%quickref"
   ]
  },
  {
   "cell_type": "code",
   "execution_count": 2,
   "id": "direct-agriculture",
   "metadata": {},
   "outputs": [],
   "source": [
    "%magic"
   ]
  },
  {
   "cell_type": "code",
   "execution_count": 8,
   "id": "empirical-baker",
   "metadata": {},
   "outputs": [
    {
     "name": "stdout",
     "output_type": "stream",
     "text": [
      "['chan', 'sur', 'ram']\n",
      "['ram', 'sur', 'chan']\n",
      "None\n",
      "['chan', 'sur', 'ram']\n"
     ]
    }
   ],
   "source": [
    "l = ['ram','sur','chan']\n",
    "print(list(reversed(l)))\n",
    "print(l)\n",
    "print(l.reverse())\n",
    "print(l)"
   ]
  },
  {
   "cell_type": "code",
   "execution_count": 7,
   "id": "mediterranean-pressing",
   "metadata": {},
   "outputs": [
    {
     "data": {
      "text/plain": [
       "['ram', 'sur', 'chan']"
      ]
     },
     "execution_count": 7,
     "metadata": {},
     "output_type": "execute_result"
    }
   ],
   "source": [
    "l"
   ]
  },
  {
   "cell_type": "code",
   "execution_count": 5,
   "id": "entertaining-exclusion",
   "metadata": {},
   "outputs": [
    {
     "name": "stdout",
     "output_type": "stream",
     "text": [
      "4868453120\n",
      "4868453120\n",
      "4868453120\n",
      "4868454720\n",
      "True\n",
      "False\n",
      "True\n",
      "True\n"
     ]
    }
   ],
   "source": [
    "a=[1,2,3]\n",
    "b=a\n",
    "print(id(a)) # 4868453120\n",
    "print(id(b)) # 4868453120\n",
    "\n",
    "c=a.copy()\n",
    "print(id(a)) # 4868453120\n",
    "print(id(c)) # 4868454720\n",
    "\n",
    "print(a is b) # True\n",
    "print(a is c) # False\n",
    "\n",
    "print(a == b) # True\n",
    "print(a == c) # True"
   ]
  },
  {
   "cell_type": "code",
   "execution_count": 7,
   "id": "rubber-dollar",
   "metadata": {},
   "outputs": [
    {
     "name": "stdout",
     "output_type": "stream",
     "text": [
      "outside l -  [1, 2, 3, 4]\n",
      "inside method\n",
      "[1, 100, 3, 4]\n",
      "outside l -  [1, 2, 3, 4]\n",
      "inside method\n",
      "[1, 100, 3, 4]\n",
      "outside without copy l -  [1, 100, 3, 4]\n"
     ]
    }
   ],
   "source": [
    "def change(ite):\n",
    "    print('inside method')\n",
    "    ite[1] = 100\n",
    "    print(ite)\n",
    "    return ite\n",
    "    \n",
    "l = [1,2,3,4]\n",
    "print('outside l - ', l)\n",
    "change(l.copy())\n",
    "print('outside l - ', l)\n",
    "change(l)\n",
    "print('outside without copy l - ', l)"
   ]
  },
  {
   "cell_type": "code",
   "execution_count": 9,
   "id": "little-tomato",
   "metadata": {},
   "outputs": [
    {
     "name": "stdout",
     "output_type": "stream",
     "text": [
      "   te  ten\n",
      "0  11   21\n",
      "1  12   22\n",
      "2  13   23\n",
      "3  14   24\n",
      "calling test method\n",
      "     te  ten\n",
      "0  1022   21\n",
      "1  1024   22\n",
      "2  1026   23\n",
      "3  1028   24\n",
      "   te  ten\n",
      "0  11   21\n",
      "1  12   22\n",
      "2  13   23\n",
      "3  14   24\n"
     ]
    }
   ],
   "source": [
    "def test(df):\n",
    "    df['te'] += df.te+1000\n",
    "    return df\n",
    "\n",
    "df = pd.DataFrame({\n",
    "    'te':[11,12,13,14],\n",
    "    'ten':[21,22,23,24]\n",
    "})\n",
    "\n",
    "print(df)\n",
    "print('calling test method')\n",
    "print(test(df.copy()))\n",
    "print(df)"
   ]
  },
  {
   "cell_type": "code",
   "execution_count": 27,
   "id": "limited-veteran",
   "metadata": {},
   "outputs": [],
   "source": [
    "d = {0:0, 1:1}"
   ]
  },
  {
   "cell_type": "code",
   "execution_count": 33,
   "id": "conscious-sweden",
   "metadata": {},
   "outputs": [
    {
     "name": "stdout",
     "output_type": "stream",
     "text": [
      "{0: 0, 1: 1, 2: 1, 3: 2, 4: 3, 5: 5, 6: 8, 7: 13}\n",
      "{0: 0, 1: 1, 2: 21, 3: 21, 4: 21, 5: 21, 6: 21, 7: 34}\n"
     ]
    },
    {
     "data": {
      "text/plain": [
       "[0, 1, 1, 2, 3, 5, 8, 13]"
      ]
     },
     "execution_count": 33,
     "metadata": {},
     "output_type": "execute_result"
    }
   ],
   "source": [
    "def fib(n):\n",
    "    l = [0,1]\n",
    "    print(d)\n",
    "    if n in d.keys():\n",
    "        return d[n]\n",
    "    for i in range(n-2):\n",
    "        l.append(l[-1] + l[-2])\n",
    "    for i in range(2,n):\n",
    "        d[i]=list(d.values())[-1] + list(d.values())[-2]\n",
    "    print(d)\n",
    "    return l\n",
    "fib(8)"
   ]
  },
  {
   "cell_type": "markdown",
   "id": "seasonal-edmonton",
   "metadata": {},
   "source": [
    "# Quicksort"
   ]
  },
  {
   "cell_type": "code",
   "execution_count": 39,
   "id": "identical-gazette",
   "metadata": {},
   "outputs": [
    {
     "data": {
      "text/plain": [
       "[1]"
      ]
     },
     "execution_count": 39,
     "metadata": {},
     "output_type": "execute_result"
    }
   ],
   "source": [
    "def quick_sort(l):\n",
    "    if len(l) < 2:\n",
    "        return l\n",
    "    pivot = l[0]\n",
    "    start = l[0]\n",
    "    end   = l[-1]\n",
    "    \n",
    "    while start < end:\n",
    "        while \n",
    "    \n",
    "quick_sort([1])"
   ]
  },
  {
   "cell_type": "code",
   "execution_count": 55,
   "id": "alert-boston",
   "metadata": {},
   "outputs": [
    {
     "data": {
      "text/plain": [
       "2"
      ]
     },
     "execution_count": 55,
     "metadata": {},
     "output_type": "execute_result"
    }
   ],
   "source": [
    "def partition(l, s, e):\n",
    "    p = l[0]\n",
    "    while s<e:\n",
    "        while s<= p:\n",
    "            s += 1\n",
    "        while e > p:\n",
    "            e -= 1\n",
    "        if s < e:\n",
    "            l[s],l[e] = l[e], l[s]\n",
    "    l[p], l[e] = l[e], l[p]\n",
    "    return e\n",
    "\n",
    "partition([5,9,12,4,3,13,8,6], 0, 2)"
   ]
  },
  {
   "cell_type": "code",
   "execution_count": 52,
   "id": "proprietary-malawi",
   "metadata": {},
   "outputs": [
    {
     "data": {
      "text/plain": [
       "2"
      ]
     },
     "execution_count": 52,
     "metadata": {},
     "output_type": "execute_result"
    }
   ],
   "source": [
    "def partition(start, end, array):\n",
    "     \n",
    "    # Initializing pivot's index to start\n",
    "    pivot_index = start\n",
    "    pivot = array[pivot_index]\n",
    "     \n",
    "    # This loop runs till start pointer crosses\n",
    "    # end pointer, and when it does we swap the\n",
    "    # pivot with element on end pointer\n",
    "    while start < end:\n",
    "         \n",
    "        # Increment the start pointer till it finds an\n",
    "        # element greater than  pivot\n",
    "        while start < len(array) and array[start] <= pivot:\n",
    "            start += 1\n",
    "             \n",
    "        # Decrement the end pointer till it finds an\n",
    "        # element less than pivot\n",
    "        while array[end] > pivot:\n",
    "            end -= 1\n",
    "         \n",
    "        # If start and end have not crossed each other,\n",
    "        # swap the numbers on start and end\n",
    "        if(start < end):\n",
    "            array[start], array[end] = array[end], array[start]\n",
    "     \n",
    "    # Swap pivot element with element on end pointer.\n",
    "    # This puts pivot on its correct sorted place.\n",
    "    array[end], array[pivot_index] = array[pivot_index], array[end]\n",
    "    \n",
    "    # Returning end pointer to divide the array into 2\n",
    "    return end\n",
    "partition(0, 7, [5,9,12,4,3,13,8,6])"
   ]
  },
  {
   "cell_type": "code",
   "execution_count": 34,
   "id": "early-croatia",
   "metadata": {},
   "outputs": [
    {
     "name": "stdout",
     "output_type": "stream",
     "text": [
      "Hello,\n",
      "how\n",
      "are?\n",
      "Khana\n",
      "khake\n",
      "jaana\n",
      "haan!\n"
     ]
    }
   ],
   "source": [
    "%run test.py"
   ]
  },
  {
   "cell_type": "code",
   "execution_count": 35,
   "id": "corrected-minute",
   "metadata": {},
   "outputs": [
    {
     "data": {
      "text/plain": [
       "'Hello, how are? Khana khake jaana haan!'"
      ]
     },
     "execution_count": 35,
     "metadata": {},
     "output_type": "execute_result"
    }
   ],
   "source": [
    "msg"
   ]
  },
  {
   "cell_type": "code",
   "execution_count": 36,
   "id": "upper-triangle",
   "metadata": {},
   "outputs": [],
   "source": [
    "import os"
   ]
  },
  {
   "cell_type": "code",
   "execution_count": 37,
   "id": "disciplinary-anaheim",
   "metadata": {},
   "outputs": [
    {
     "data": {
      "text/plain": [
       "<module 'os' from '/Users/utsav/.conda/envs/myenv/lib/python3.9/os.py'>"
      ]
     },
     "execution_count": 37,
     "metadata": {},
     "output_type": "execute_result"
    }
   ],
   "source": [
    "os"
   ]
  },
  {
   "cell_type": "code",
   "execution_count": 38,
   "id": "black-exhibit",
   "metadata": {},
   "outputs": [
    {
     "data": {
      "text/plain": [
       "['ScipyDoc1.ipynb', 'test.py', '.ipynb_checkpoints', 'ScipyNumpyDoc.txt']"
      ]
     },
     "execution_count": 38,
     "metadata": {},
     "output_type": "execute_result"
    }
   ],
   "source": [
    "os.listdir('.')"
   ]
  },
  {
   "cell_type": "code",
   "execution_count": 10,
   "id": "atmospheric-final",
   "metadata": {},
   "outputs": [],
   "source": []
  },
  {
   "cell_type": "code",
   "execution_count": null,
   "id": "stone-interim",
   "metadata": {},
   "outputs": [],
   "source": []
  },
  {
   "cell_type": "code",
   "execution_count": null,
   "id": "greenhouse-sixth",
   "metadata": {},
   "outputs": [],
   "source": []
  }
 ],
 "metadata": {
  "kernelspec": {
   "display_name": "Python (myenv)",
   "language": "python",
   "name": "myenv"
  },
  "language_info": {
   "codemirror_mode": {
    "name": "ipython",
    "version": 3
   },
   "file_extension": ".py",
   "mimetype": "text/x-python",
   "name": "python",
   "nbconvert_exporter": "python",
   "pygments_lexer": "ipython3",
   "version": "3.9.1"
  }
 },
 "nbformat": 4,
 "nbformat_minor": 5
}
