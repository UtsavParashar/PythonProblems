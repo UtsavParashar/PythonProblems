{
 "cells": [
  {
   "cell_type": "code",
   "execution_count": 1,
   "id": "detailed-electron",
   "metadata": {},
   "outputs": [],
   "source": [
    "%matplotlib inline\n",
    "import numpy as np\n",
    "import numpy.ma as ma\n",
    "import pandas as pd\n",
    "from pandas import DataFrame, Series\n",
    "import matplotlib.pyplot as plt\n",
    "import seaborn as sns\n",
    "import timeit\n",
    "import line_profiler\n",
    "\n",
    "import datetime\n",
    "\n",
    "from io import StringIO\n",
    "from pandas.api.types import CategoricalDtype\n",
    "\n",
    "import pandas._testing as tm\n",
    "\n",
    "## returns df from string data\n",
    "def g(data):\n",
    "    return pd.read_csv(StringIO(data))"
   ]
  },
  {
   "cell_type": "code",
   "execution_count": 12,
   "id": "anticipated-norfolk",
   "metadata": {},
   "outputs": [
    {
     "data": {
      "text/plain": [
       "pandas.core.frame.DataFrame"
      ]
     },
     "execution_count": 12,
     "metadata": {},
     "output_type": "execute_result"
    }
   ],
   "source": [
    "pd.DataFrame"
   ]
  },
  {
   "cell_type": "code",
   "execution_count": null,
   "id": "selected-variable",
   "metadata": {},
   "outputs": [],
   "source": [
    "%quickref"
   ]
  },
  {
   "cell_type": "code",
   "execution_count": 2,
   "id": "direct-agriculture",
   "metadata": {},
   "outputs": [],
   "source": [
    "%magic"
   ]
  },
  {
   "cell_type": "code",
   "execution_count": 8,
   "id": "empirical-baker",
   "metadata": {},
   "outputs": [
    {
     "name": "stdout",
     "output_type": "stream",
     "text": [
      "['chan', 'sur', 'ram']\n",
      "['ram', 'sur', 'chan']\n",
      "None\n",
      "['chan', 'sur', 'ram']\n"
     ]
    }
   ],
   "source": [
    "l = ['ram','sur','chan']\n",
    "print(list(reversed(l)))\n",
    "print(l)\n",
    "print(l.reverse())\n",
    "print(l)"
   ]
  },
  {
   "cell_type": "code",
   "execution_count": 7,
   "id": "mediterranean-pressing",
   "metadata": {},
   "outputs": [
    {
     "data": {
      "text/plain": [
       "['ram', 'sur', 'chan']"
      ]
     },
     "execution_count": 7,
     "metadata": {},
     "output_type": "execute_result"
    }
   ],
   "source": [
    "l"
   ]
  },
  {
   "cell_type": "code",
   "execution_count": 5,
   "id": "entertaining-exclusion",
   "metadata": {},
   "outputs": [
    {
     "name": "stdout",
     "output_type": "stream",
     "text": [
      "4868453120\n",
      "4868453120\n",
      "4868453120\n",
      "4868454720\n",
      "True\n",
      "False\n",
      "True\n",
      "True\n"
     ]
    }
   ],
   "source": [
    "a=[1,2,3]\n",
    "b=a\n",
    "print(id(a)) # 4868453120\n",
    "print(id(b)) # 4868453120\n",
    "\n",
    "c=a.copy()\n",
    "print(id(a)) # 4868453120\n",
    "print(id(c)) # 4868454720\n",
    "\n",
    "print(a is b) # True\n",
    "print(a is c) # False\n",
    "\n",
    "print(a == b) # True\n",
    "print(a == c) # True"
   ]
  },
  {
   "cell_type": "code",
   "execution_count": 7,
   "id": "rubber-dollar",
   "metadata": {},
   "outputs": [
    {
     "name": "stdout",
     "output_type": "stream",
     "text": [
      "outside l -  [1, 2, 3, 4]\n",
      "inside method\n",
      "[1, 100, 3, 4]\n",
      "outside l -  [1, 2, 3, 4]\n",
      "inside method\n",
      "[1, 100, 3, 4]\n",
      "outside without copy l -  [1, 100, 3, 4]\n"
     ]
    }
   ],
   "source": [
    "def change(ite):\n",
    "    print('inside method')\n",
    "    ite[1] = 100\n",
    "    print(ite)\n",
    "    return ite\n",
    "    \n",
    "l = [1,2,3,4]\n",
    "print('outside l - ', l)\n",
    "change(l.copy())\n",
    "print('outside l - ', l)\n",
    "change(l)\n",
    "print('outside without copy l - ', l)"
   ]
  },
  {
   "cell_type": "code",
   "execution_count": 9,
   "id": "little-tomato",
   "metadata": {},
   "outputs": [
    {
     "name": "stdout",
     "output_type": "stream",
     "text": [
      "   te  ten\n",
      "0  11   21\n",
      "1  12   22\n",
      "2  13   23\n",
      "3  14   24\n",
      "calling test method\n",
      "     te  ten\n",
      "0  1022   21\n",
      "1  1024   22\n",
      "2  1026   23\n",
      "3  1028   24\n",
      "   te  ten\n",
      "0  11   21\n",
      "1  12   22\n",
      "2  13   23\n",
      "3  14   24\n"
     ]
    }
   ],
   "source": [
    "def test(df):\n",
    "    df['te'] += df.te+1000\n",
    "    return df\n",
    "\n",
    "df = pd.DataFrame({\n",
    "    'te':[11,12,13,14],\n",
    "    'ten':[21,22,23,24]\n",
    "})\n",
    "\n",
    "print(df)\n",
    "print('calling test method')\n",
    "print(test(df.copy()))\n",
    "print(df)"
   ]
  },
  {
   "cell_type": "code",
   "execution_count": null,
   "id": "limited-veteran",
   "metadata": {},
   "outputs": [],
   "source": []
  }
 ],
 "metadata": {
  "kernelspec": {
   "display_name": "Python (myenv)",
   "language": "python",
   "name": "myenv"
  },
  "language_info": {
   "codemirror_mode": {
    "name": "ipython",
    "version": 3
   },
   "file_extension": ".py",
   "mimetype": "text/x-python",
   "name": "python",
   "nbconvert_exporter": "python",
   "pygments_lexer": "ipython3",
   "version": "3.9.1"
  }
 },
 "nbformat": 4,
 "nbformat_minor": 5
}
