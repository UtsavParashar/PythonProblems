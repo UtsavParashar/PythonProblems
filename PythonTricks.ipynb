{
 "cells": [
  {
   "cell_type": "markdown",
   "id": "everyday-tiffany",
   "metadata": {},
   "source": [
    "# Learnings from Python Tricks Book"
   ]
  },
  {
   "cell_type": "markdown",
   "id": "attempted-small",
   "metadata": {},
   "source": [
    "Right place for using assert"
   ]
  },
  {
   "cell_type": "code",
   "execution_count": 26,
   "id": "colored-involvement",
   "metadata": {},
   "outputs": [
    {
     "data": {
      "text/plain": [
       "160"
      ]
     },
     "execution_count": 26,
     "metadata": {},
     "output_type": "execute_result"
    }
   ],
   "source": [
    "def apply_discount(prod, discount):\n",
    "    price = int(prod['price'] * (1. - discount))\n",
    "    assert 0 < price <= prod['price']\n",
    "    return price\n",
    "\n",
    "shoes = {'name': 'fs', 'price':200}\n",
    "apply_discount(shoes, .2)"
   ]
  },
  {
   "cell_type": "markdown",
   "id": "detailed-triple",
   "metadata": {},
   "source": [
    "Wrong way of raising exception, assert can be used here"
   ]
  },
  {
   "cell_type": "code",
   "execution_count": 21,
   "id": "norman-ratio",
   "metadata": {},
   "outputs": [
    {
     "name": "stdout",
     "output_type": "stream",
     "text": [
      "160\n"
     ]
    },
    {
     "data": {
      "text/plain": [
       "160"
      ]
     },
     "execution_count": 21,
     "metadata": {},
     "output_type": "execute_result"
    }
   ],
   "source": [
    "def apply_discount(prod, discount):\n",
    "    price = int(prod['price'] * (1.0 - discount))\n",
    "    print(price)\n",
    "    if 0 > price <= product['price']:\n",
    "        raise Exception(\"Discount can't be more than price\")\n",
    "    return price\n",
    "\n",
    "shoes = {'name': 'fs', 'price':200}\n",
    "apply_discount(shoes, .2)"
   ]
  },
  {
   "cell_type": "code",
   "execution_count": null,
   "id": "elder-chapel",
   "metadata": {},
   "outputs": [],
   "source": []
  }
 ],
 "metadata": {
  "kernelspec": {
   "display_name": "Python 3",
   "language": "python",
   "name": "python3"
  },
  "language_info": {
   "codemirror_mode": {
    "name": "ipython",
    "version": 3
   },
   "file_extension": ".py",
   "mimetype": "text/x-python",
   "name": "python",
   "nbconvert_exporter": "python",
   "pygments_lexer": "ipython3",
   "version": "3.9.1"
  }
 },
 "nbformat": 4,
 "nbformat_minor": 5
}
