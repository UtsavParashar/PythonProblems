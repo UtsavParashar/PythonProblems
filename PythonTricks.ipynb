{
 "cells": [
  {
   "cell_type": "markdown",
   "id": "everyday-tiffany",
   "metadata": {},
   "source": [
    "# Learnings from Python Tricks Book"
   ]
  },
  {
   "cell_type": "code",
   "execution_count": 1,
   "id": "alone-prize",
   "metadata": {},
   "outputs": [],
   "source": [
    "%matplotlib inline\n",
    "import numpy as np\n",
    "import numpy.ma as ma\n",
    "import pandas as pd\n",
    "from pandas import DataFrame, Series\n",
    "import matplotlib.pyplot as plt\n",
    "import seaborn as sns\n",
    "import timeit\n",
    "import line_profiler\n",
    "\n",
    "import datetime\n",
    "\n",
    "from io import StringIO\n",
    "from pandas.api.types import CategoricalDtype"
   ]
  },
  {
   "cell_type": "markdown",
   "id": "attempted-small",
   "metadata": {},
   "source": [
    "Right place for using assert"
   ]
  },
  {
   "cell_type": "code",
   "execution_count": 26,
   "id": "colored-involvement",
   "metadata": {},
   "outputs": [
    {
     "data": {
      "text/plain": [
       "160"
      ]
     },
     "execution_count": 26,
     "metadata": {},
     "output_type": "execute_result"
    }
   ],
   "source": [
    "def apply_discount(prod, discount):\n",
    "    price = int(prod['price'] * (1. - discount))\n",
    "    assert 0 < price <= prod['price']\n",
    "    return price\n",
    "\n",
    "shoes = {'name': 'fs', 'price':200}\n",
    "apply_discount(shoes, .2)"
   ]
  },
  {
   "cell_type": "markdown",
   "id": "detailed-triple",
   "metadata": {},
   "source": [
    "Wrong way of raising exception, assert can be used here"
   ]
  },
  {
   "cell_type": "code",
   "execution_count": 21,
   "id": "norman-ratio",
   "metadata": {},
   "outputs": [
    {
     "name": "stdout",
     "output_type": "stream",
     "text": [
      "160\n"
     ]
    },
    {
     "data": {
      "text/plain": [
       "160"
      ]
     },
     "execution_count": 21,
     "metadata": {},
     "output_type": "execute_result"
    }
   ],
   "source": [
    "def apply_discount(prod, discount):\n",
    "    price = int(prod['price'] * (1.0 - discount))\n",
    "    print(price)\n",
    "    if 0 > price <= product['price']:\n",
    "        raise Exception(\"Discount can't be more than price\")\n",
    "    return price\n",
    "\n",
    "shoes = {'name': 'fs', 'price':200}\n",
    "apply_discount(shoes, .2)"
   ]
  },
  {
   "cell_type": "code",
   "execution_count": 3,
   "id": "elder-chapel",
   "metadata": {},
   "outputs": [
    {
     "data": {
      "text/plain": [
       "[(4, 'a'), (3, 'b'), (2, 'd'), (1, 'e')]"
      ]
     },
     "execution_count": 3,
     "metadata": {},
     "output_type": "execute_result"
    }
   ],
   "source": [
    "loft = [(3,'b'),(2,'d'),(1,'e'),(4,'a')]\n",
    "sorted(loft, key=lambda x:x[1])"
   ]
  },
  {
   "cell_type": "code",
   "execution_count": 2,
   "id": "brilliant-establishment",
   "metadata": {},
   "outputs": [
    {
     "name": "stdout",
     "output_type": "stream",
     "text": [
      "4716158720\n",
      "4716158720\n",
      "4716903488\n"
     ]
    }
   ],
   "source": [
    "l = [1,2,3,4]\n",
    "print(id(l))\n",
    "l2 = l\n",
    "print(id(l2))\n",
    "l3 = list(l)\n",
    "print(id(l3))"
   ]
  },
  {
   "cell_type": "code",
   "execution_count": 3,
   "id": "juvenile-myrtle",
   "metadata": {},
   "outputs": [],
   "source": [
    "class MyClass:\n",
    "    def method(self):\n",
    "        return 'instance method called', self\n",
    "\n",
    "    @classmethod\n",
    "    def classmethod(cls):\n",
    "        return 'class method called', cls\n",
    "\n",
    "    @staticmethod\n",
    "    def staticmethod():\n",
    "        return 'static method called'"
   ]
  },
  {
   "cell_type": "code",
   "execution_count": 7,
   "id": "interested-honduras",
   "metadata": {},
   "outputs": [
    {
     "name": "stdout",
     "output_type": "stream",
     "text": [
      "('instance method called', <__main__.MyClass object at 0x126227e50>)\n"
     ]
    },
    {
     "data": {
      "text/plain": [
       "('instance method called', <__main__.MyClass at 0x126227e50>)"
      ]
     },
     "execution_count": 7,
     "metadata": {},
     "output_type": "execute_result"
    }
   ],
   "source": [
    "obj = MyClass()\n",
    "print(obj.method())\n",
    "MyClass.method(obj)"
   ]
  },
  {
   "cell_type": "code",
   "execution_count": 2,
   "id": "prospective-yellow",
   "metadata": {},
   "outputs": [],
   "source": [
    "class Pizza:\n",
    "    def __init__(self, ingredients):\n",
    "        self.ingredients = ingredients\n",
    "\n",
    "    def __repr__(self):\n",
    "        return f'Pizza({self.ingredients!r})'\n",
    "\n",
    "    def margherita(self):\n",
    "        return ['mozzarella', 'tomatoes']\n",
    "    @classmethod\n",
    "    def prosciutto(cls):\n",
    "        return cls(['mozzarella', 'tomatoes', 'ham'])"
   ]
  },
  {
   "cell_type": "code",
   "execution_count": 7,
   "id": "latin-convertible",
   "metadata": {},
   "outputs": [],
   "source": [
    "def get_object(className, instanceVar):\n",
    "    return className(instanceVar)"
   ]
  },
  {
   "cell_type": "code",
   "execution_count": 8,
   "id": "tracked-budapest",
   "metadata": {},
   "outputs": [
    {
     "data": {
      "text/plain": [
       "['mozzarella', 'tomatoes']"
      ]
     },
     "execution_count": 8,
     "metadata": {},
     "output_type": "execute_result"
    }
   ],
   "source": [
    "get_object(Pizza, 'namak').margherita()"
   ]
  },
  {
   "cell_type": "code",
   "execution_count": 3,
   "id": "specialized-feeding",
   "metadata": {},
   "outputs": [],
   "source": [
    "class College:\n",
    "    name = 'IIT'\n",
    "    \n",
    "    @classmethod\n",
    "    def getCollegeName(cls):\n",
    "        return College.name\n",
    "    \n",
    "    def __init__(self, studentsName, studentMarks):\n",
    "        self.studentsName = studentsName\n",
    "        self.studentMarks = studentMarks\n",
    "    def getStudentsNameMarks(self):\n",
    "        grades = self.convertMarksToGrades(self.studentMarks)\n",
    "        return (self.getCollegeName().self.studentsName, self.studentMarks, grades)\n",
    "    \n",
    "    @staticmethod\n",
    "    def convertMarksToGrades(studentMarks):\n",
    "        if studentMarks < 40:\n",
    "            return 'Fail'\n",
    "        else:\n",
    "            return \"pass\"\n",
    "    "
   ]
  },
  {
   "cell_type": "code",
   "execution_count": 5,
   "id": "retired-instrument",
   "metadata": {},
   "outputs": [
    {
     "data": {
      "text/plain": [
       "'IIT'"
      ]
     },
     "execution_count": 5,
     "metadata": {},
     "output_type": "execute_result"
    }
   ],
   "source": [
    "College.getCollegeName()\n",
    "#College('Ramesh', 37).getStudentsNameMarks()"
   ]
  },
  {
   "cell_type": "code",
   "execution_count": 6,
   "id": "intellectual-massachusetts",
   "metadata": {},
   "outputs": [
    {
     "data": {
      "text/plain": [
       "array([0, 1])"
      ]
     },
     "execution_count": 6,
     "metadata": {},
     "output_type": "execute_result"
    }
   ],
   "source": [
    "f = np.array([0,1])\n",
    "f\n"
   ]
  },
  {
   "cell_type": "code",
   "execution_count": null,
   "id": "through-radar",
   "metadata": {},
   "outputs": [],
   "source": []
  }
 ],
 "metadata": {
  "kernelspec": {
   "display_name": "Python 3",
   "language": "python",
   "name": "python3"
  },
  "language_info": {
   "codemirror_mode": {
    "name": "ipython",
    "version": 3
   },
   "file_extension": ".py",
   "mimetype": "text/x-python",
   "name": "python",
   "nbconvert_exporter": "python",
   "pygments_lexer": "ipython3",
   "version": "3.9.1"
  }
 },
 "nbformat": 4,
 "nbformat_minor": 5
}
