{
 "cells": [
  {
   "cell_type": "code",
   "execution_count": 3,
   "id": "sustained-antigua",
   "metadata": {},
   "outputs": [],
   "source": [
    "%matplotlib inline\n",
    "import numpy as np\n",
    "import numpy.ma as ma\n",
    "import pandas as pd\n",
    "from pandas import DataFrame, Series\n",
    "import matplotlib.pyplot as plt\n",
    "import seaborn as sns\n",
    "import timeit\n",
    "import line_profiler\n",
    "\n",
    "import datetime\n",
    "\n",
    "from io import StringIO\n",
    "from pandas.api.types import CategoricalDtype\n",
    "\n",
    "import pandas._testing as tm"
   ]
  },
  {
   "cell_type": "markdown",
   "id": "enhanced-recognition",
   "metadata": {},
   "source": [
    "# 2.19 Time series / date functionality"
   ]
  },
  {
   "cell_type": "code",
   "execution_count": 10,
   "id": "express-binding",
   "metadata": {},
   "outputs": [
    {
     "data": {
      "text/plain": [
       "Timestamp('2018-01-01 00:00:00')"
      ]
     },
     "execution_count": 10,
     "metadata": {},
     "output_type": "execute_result"
    }
   ],
   "source": [
    "dti = pd.to_datetime(\n",
    "    ['1.1.2018', np.datetime64('2018-01-01'), datetime.datetime(2018,1,1)]\n",
    ")\n",
    "dti[1]"
   ]
  },
  {
   "cell_type": "code",
   "execution_count": 11,
   "id": "owned-foster",
   "metadata": {},
   "outputs": [
    {
     "data": {
      "text/plain": [
       "DatetimeIndex(['2018-01-01 00:00:00', '2018-01-01 04:00:00',\n",
       "               '2018-01-01 08:00:00'],\n",
       "              dtype='datetime64[ns]', freq='4H')"
      ]
     },
     "execution_count": 11,
     "metadata": {},
     "output_type": "execute_result"
    }
   ],
   "source": [
    "dti = pd.date_range('2018-01-01', periods=3, freq='4H')\n",
    "dti"
   ]
  },
  {
   "cell_type": "code",
   "execution_count": 12,
   "id": "advanced-rabbit",
   "metadata": {},
   "outputs": [],
   "source": [
    "dti = dti.tz_localize('Europe/Berlin')\n"
   ]
  },
  {
   "cell_type": "code",
   "execution_count": 13,
   "id": "particular-message",
   "metadata": {},
   "outputs": [
    {
     "data": {
      "text/plain": [
       "DatetimeIndex(['2017-12-31 17:00:00-06:00', '2017-12-31 21:00:00-06:00',\n",
       "               '2018-01-01 01:00:00-06:00'],\n",
       "              dtype='datetime64[ns, US/Central]', freq=None)"
      ]
     },
     "execution_count": 13,
     "metadata": {},
     "output_type": "execute_result"
    }
   ],
   "source": [
    "dti.tz_convert('US/Central')"
   ]
  },
  {
   "cell_type": "code",
   "execution_count": 14,
   "id": "educational-madagascar",
   "metadata": {},
   "outputs": [
    {
     "name": "stdout",
     "output_type": "stream",
     "text": [
      "2018-01-01 00:00:00    0\n",
      "2018-01-01 01:00:00    1\n",
      "2018-01-01 02:00:00    2\n",
      "2018-01-01 03:00:00    3\n",
      "2018-01-01 04:00:00    4\n",
      "Freq: H, dtype: int64\n",
      "2018-01-01 00:00:00    0.5\n",
      "2018-01-01 02:00:00    2.5\n",
      "2018-01-01 04:00:00    4.0\n",
      "Freq: 2H, dtype: float64\n"
     ]
    },
    {
     "data": {
      "text/plain": [
       "2018-01-01 00:00:00    0.5\n",
       "2018-01-01 02:00:00    2.5\n",
       "2018-01-01 04:00:00    4.0\n",
       "Freq: 2H, dtype: float64"
      ]
     },
     "execution_count": 14,
     "metadata": {},
     "output_type": "execute_result"
    }
   ],
   "source": [
    "idx = pd.date_range(\"2018-01-01\", periods=5, freq=\"H\")\n",
    "ts = pd.Series(range(len(idx)), index=idx)\n",
    "print(ts)\n",
    "ts.resample(\"2H\").count()\n",
    "print(ts.resample(\"2H\").mean())\n",
    "ts.resample(\"2H\").median()"
   ]
  },
  {
   "cell_type": "code",
   "execution_count": 15,
   "id": "polished-consumption",
   "metadata": {},
   "outputs": [
    {
     "data": {
      "text/plain": [
       "'Monday'"
      ]
     },
     "execution_count": 15,
     "metadata": {},
     "output_type": "execute_result"
    }
   ],
   "source": [
    "friday = pd.Timestamp(\"2018-01-05\")\n",
    "friday.day_name()\n",
    "saturday = friday + pd.Timedelta(\"1 day\")\n",
    "saturday.day_name() # 'Saturday'\n",
    "\n",
    "# Add 1 business day (Friday --> Monday)\n",
    "monday = friday + pd.offsets.BDay()\n",
    "monday.day_name()"
   ]
  },
  {
   "cell_type": "code",
   "execution_count": 16,
   "id": "legendary-crack",
   "metadata": {},
   "outputs": [
    {
     "data": {
      "text/plain": [
       "2020-01-01    0\n",
       "2020-01-02    1\n",
       "2020-01-03    2\n",
       "Freq: D, dtype: int64"
      ]
     },
     "execution_count": 16,
     "metadata": {},
     "output_type": "execute_result"
    }
   ],
   "source": [
    "pd.Series(range(3), index=pd.date_range('2020', freq='D', periods=3))\n"
   ]
  },
  {
   "cell_type": "code",
   "execution_count": 17,
   "id": "practical-window",
   "metadata": {},
   "outputs": [],
   "source": [
    "df = pd.DataFrame({\"type A\":[15], \"type B\": [20], \"date\": [\"2012-03-01\"], \"station\": [\"s1\"]})"
   ]
  },
  {
   "cell_type": "code",
   "execution_count": 18,
   "id": "organized-payday",
   "metadata": {},
   "outputs": [
    {
     "data": {
      "text/html": [
       "<div>\n",
       "<style scoped>\n",
       "    .dataframe tbody tr th:only-of-type {\n",
       "        vertical-align: middle;\n",
       "    }\n",
       "\n",
       "    .dataframe tbody tr th {\n",
       "        vertical-align: top;\n",
       "    }\n",
       "\n",
       "    .dataframe thead th {\n",
       "        text-align: right;\n",
       "    }\n",
       "</style>\n",
       "<table border=\"1\" class=\"dataframe\">\n",
       "  <thead>\n",
       "    <tr style=\"text-align: right;\">\n",
       "      <th></th>\n",
       "      <th>type A</th>\n",
       "      <th>type B</th>\n",
       "      <th>date</th>\n",
       "      <th>station</th>\n",
       "    </tr>\n",
       "  </thead>\n",
       "  <tbody>\n",
       "    <tr>\n",
       "      <th>0</th>\n",
       "      <td>15</td>\n",
       "      <td>20</td>\n",
       "      <td>2012-03-01</td>\n",
       "      <td>s1</td>\n",
       "    </tr>\n",
       "  </tbody>\n",
       "</table>\n",
       "</div>"
      ],
      "text/plain": [
       "   type A  type B        date station\n",
       "0      15      20  2012-03-01      s1"
      ]
     },
     "execution_count": 18,
     "metadata": {},
     "output_type": "execute_result"
    }
   ],
   "source": [
    "df"
   ]
  },
  {
   "cell_type": "code",
   "execution_count": 19,
   "id": "provincial-agreement",
   "metadata": {},
   "outputs": [
    {
     "data": {
      "text/plain": [
       "'Saturday'"
      ]
     },
     "execution_count": 19,
     "metadata": {},
     "output_type": "execute_result"
    }
   ],
   "source": [
    "friday = pd.Timestamp(\"2018-01-05\")\n",
    "friday.day_name()\n",
    "friday + pd.Timedelta('1 Day')\n",
    "(friday + pd.offsets.Day()).day_name()"
   ]
  },
  {
   "cell_type": "code",
   "execution_count": 20,
   "id": "looking-frederick",
   "metadata": {},
   "outputs": [],
   "source": [
    "s = pd.Series(pd.date_range('2020', periods=3))\n",
    "df = s.to_frame()"
   ]
  },
  {
   "cell_type": "code",
   "execution_count": 21,
   "id": "following-harvest",
   "metadata": {},
   "outputs": [
    {
     "data": {
      "text/html": [
       "<div>\n",
       "<style scoped>\n",
       "    .dataframe tbody tr th:only-of-type {\n",
       "        vertical-align: middle;\n",
       "    }\n",
       "\n",
       "    .dataframe tbody tr th {\n",
       "        vertical-align: top;\n",
       "    }\n",
       "\n",
       "    .dataframe thead th {\n",
       "        text-align: right;\n",
       "    }\n",
       "</style>\n",
       "<table border=\"1\" class=\"dataframe\">\n",
       "  <thead>\n",
       "    <tr style=\"text-align: right;\">\n",
       "      <th></th>\n",
       "      <th>dates</th>\n",
       "      <th>day</th>\n",
       "      <th>weekday</th>\n",
       "    </tr>\n",
       "  </thead>\n",
       "  <tbody>\n",
       "    <tr>\n",
       "      <th>0</th>\n",
       "      <td>2021-01-13</td>\n",
       "      <td>Wednesday</td>\n",
       "      <td>2</td>\n",
       "    </tr>\n",
       "    <tr>\n",
       "      <th>1</th>\n",
       "      <td>2021-01-14</td>\n",
       "      <td>Thursday</td>\n",
       "      <td>3</td>\n",
       "    </tr>\n",
       "    <tr>\n",
       "      <th>2</th>\n",
       "      <td>2021-01-15</td>\n",
       "      <td>Friday</td>\n",
       "      <td>4</td>\n",
       "    </tr>\n",
       "    <tr>\n",
       "      <th>3</th>\n",
       "      <td>2021-01-16</td>\n",
       "      <td>Saturday</td>\n",
       "      <td>5</td>\n",
       "    </tr>\n",
       "    <tr>\n",
       "      <th>4</th>\n",
       "      <td>2021-01-17</td>\n",
       "      <td>Sunday</td>\n",
       "      <td>6</td>\n",
       "    </tr>\n",
       "    <tr>\n",
       "      <th>5</th>\n",
       "      <td>2021-01-18</td>\n",
       "      <td>Monday</td>\n",
       "      <td>0</td>\n",
       "    </tr>\n",
       "  </tbody>\n",
       "</table>\n",
       "</div>"
      ],
      "text/plain": [
       "       dates        day  weekday\n",
       "0 2021-01-13  Wednesday        2\n",
       "1 2021-01-14   Thursday        3\n",
       "2 2021-01-15     Friday        4\n",
       "3 2021-01-16   Saturday        5\n",
       "4 2021-01-17     Sunday        6\n",
       "5 2021-01-18     Monday        0"
      ]
     },
     "execution_count": 21,
     "metadata": {},
     "output_type": "execute_result"
    }
   ],
   "source": [
    "df = pd.Series(pd.date_range('1/13/2021', periods=6)).to_frame()\n",
    "df.columns=[\"dates\"]\n",
    "df['day'] = df.dates.dt.day_name()\n",
    "df['weekday'] = df.dates.dt.weekday\n",
    "df"
   ]
  },
  {
   "cell_type": "code",
   "execution_count": 22,
   "id": "institutional-return",
   "metadata": {},
   "outputs": [
    {
     "data": {
      "text/plain": [
       "<DateOffset>"
      ]
     },
     "execution_count": 22,
     "metadata": {},
     "output_type": "execute_result"
    }
   ],
   "source": [
    "pd.Timestamp(pd.NaT)\n",
    "pd.Timedelta(pd.NaT)\n",
    "pd.Period(pd.NaT)\n",
    "pd.DateOffset()"
   ]
  },
  {
   "cell_type": "code",
   "execution_count": 23,
   "id": "velvet-plenty",
   "metadata": {},
   "outputs": [
    {
     "data": {
      "text/plain": [
       "3"
      ]
     },
     "execution_count": 23,
     "metadata": {},
     "output_type": "execute_result"
    }
   ],
   "source": [
    "pd.Timedelta('14 days')//pd.Timedelta(1, 'W')+1"
   ]
  },
  {
   "cell_type": "code",
   "execution_count": 24,
   "id": "beneficial-equilibrium",
   "metadata": {},
   "outputs": [
    {
     "data": {
      "text/plain": [
       "Timestamp('2012-05-01 00:00:00')"
      ]
     },
     "execution_count": 24,
     "metadata": {},
     "output_type": "execute_result"
    }
   ],
   "source": [
    "pd.Timestamp(\"2012-05-01\")\n",
    "pd.Timestamp(datetime.datetime(2012, 5, 1))\n",
    "pd.Timestamp(2012, 5, 1)"
   ]
  },
  {
   "cell_type": "code",
   "execution_count": 25,
   "id": "fantastic-china",
   "metadata": {},
   "outputs": [
    {
     "data": {
      "text/plain": [
       "Period('2011-01-01', 'D')"
      ]
     },
     "execution_count": 25,
     "metadata": {},
     "output_type": "execute_result"
    }
   ],
   "source": [
    "pd.Period(\"2011-01\")\n",
    "pd.Period(\"2011.01\", 'D')\n",
    "pd.Period(\"2011.01\", freq='D')"
   ]
  },
  {
   "cell_type": "code",
   "execution_count": 26,
   "id": "close-saturn",
   "metadata": {},
   "outputs": [
    {
     "data": {
      "text/plain": [
       "pandas.core.indexes.datetimes.DatetimeIndex"
      ]
     },
     "execution_count": 26,
     "metadata": {},
     "output_type": "execute_result"
    }
   ],
   "source": [
    "dates = pd.date_range('2020/01/01', periods=3)\n",
    "ts = pd.Series(np.arange(3), dates)\n",
    "type(ts.index) # pandas.core.indexes.datetimes.DatetimeIndex"
   ]
  },
  {
   "cell_type": "code",
   "execution_count": 27,
   "id": "owned-multiple",
   "metadata": {},
   "outputs": [
    {
     "data": {
      "text/plain": [
       "pandas.core.indexes.period.PeriodIndex"
      ]
     },
     "execution_count": 27,
     "metadata": {},
     "output_type": "execute_result"
    }
   ],
   "source": [
    "periods = pd.date_range('2021-01', periods=3, freq='M')\n",
    "periods = periods.to_period()\n",
    "type(periods) # pandas.core.indexes.period.PeriodIndex\n",
    "ts = pd.Series(np.arange(3), periods)\n",
    "ts.index # PeriodIndex(['2021-01', '2021-02', '2021-03'], dtype='period[M]', freq='M')\n",
    "type(ts.index) #pandas.core.indexes.period.PeriodIndex"
   ]
  },
  {
   "cell_type": "code",
   "execution_count": 28,
   "id": "pregnant-subscription",
   "metadata": {},
   "outputs": [
    {
     "data": {
      "text/plain": [
       "PeriodIndex(['2018-01', '2018-02', '2018-03'], dtype='period[M]', freq='M')"
      ]
     },
     "execution_count": 28,
     "metadata": {},
     "output_type": "execute_result"
    }
   ],
   "source": [
    "pd.date_range('2018-01', periods=3, freq='M')\n",
    "pd.period_range('2018-01', periods=3, freq='M')"
   ]
  },
  {
   "cell_type": "code",
   "execution_count": 29,
   "id": "smooth-brown",
   "metadata": {},
   "outputs": [
    {
     "data": {
      "text/plain": [
       "Timestamp('2011-01-01 00:00:00', freq='D')"
      ]
     },
     "execution_count": 29,
     "metadata": {},
     "output_type": "execute_result"
    }
   ],
   "source": [
    "pd.Period(\"2011-01\", 'D')\n",
    "pd.Timestamp(\"2011-01\", 'D')"
   ]
  },
  {
   "cell_type": "code",
   "execution_count": 31,
   "id": "acting-aviation",
   "metadata": {},
   "outputs": [
    {
     "data": {
      "text/plain": [
       "PeriodIndex(['2021-01', '2021-02', '2021-03'], dtype='period[M]', freq='M')"
      ]
     },
     "execution_count": 31,
     "metadata": {},
     "output_type": "execute_result"
    }
   ],
   "source": [
    "pd.date_range('2021-01', periods=3, freq='M').to_period()"
   ]
  },
  {
   "cell_type": "code",
   "execution_count": 40,
   "id": "occupational-security",
   "metadata": {},
   "outputs": [
    {
     "name": "stdout",
     "output_type": "stream",
     "text": [
      "2020-01-01 00:00:00\n"
     ]
    },
    {
     "data": {
      "text/plain": [
       "Period('2020-01-01', 'D')"
      ]
     },
     "execution_count": 40,
     "metadata": {},
     "output_type": "execute_result"
    }
   ],
   "source": [
    "print(pd.Timestamp('2020.01.01')) # 2020-01-01 00:00:00\n",
    "pd.to_datetime(['2020.01.01', '2020.01.02'])\n",
    "pd.date_range('2020.01.01', periods=3, freq='D')\n",
    "\n",
    "pd.Period('2020.01.01')"
   ]
  },
  {
   "cell_type": "code",
   "execution_count": 50,
   "id": "educational-artist",
   "metadata": {},
   "outputs": [
    {
     "data": {
      "text/plain": [
       "DatetimeIndex(['2020-07-31', '2010-01-10', 'NaT'], dtype='datetime64[ns]', freq=None)"
      ]
     },
     "execution_count": 50,
     "metadata": {},
     "output_type": "execute_result"
    }
   ],
   "source": [
    "pd.to_datetime(pd.Series([\"Jul 31, 2020\",\"2010-01-10\", None])) \n",
    "pd.to_datetime([\"Jul 31, 2020\",\"2010-01-10\", None]) # DatetimeIndex(['2020-07-31', '2010-01-10', 'NaT'], dtype='datetime64[ns]', freq=None)"
   ]
  },
  {
   "cell_type": "code",
   "execution_count": 55,
   "id": "narrative-pacific",
   "metadata": {},
   "outputs": [
    {
     "data": {
      "text/plain": [
       "Timestamp('2021-04-18 00:00:00')"
      ]
     },
     "execution_count": 55,
     "metadata": {},
     "output_type": "execute_result"
    }
   ],
   "source": [
    "pd.to_datetime('04-01-2021',dayfirst=True)\n",
    "pd.to_datetime('04-18-2021',dayfirst=True) # Timestamp('2021-04-18 00:00:00')"
   ]
  },
  {
   "cell_type": "code",
   "execution_count": 61,
   "id": "automated-warning",
   "metadata": {},
   "outputs": [
    {
     "data": {
      "text/plain": [
       "DatetimeIndex(['2018-01-01', '2018-01-03', '2018-01-06'], dtype='datetime64[ns]', freq=None)"
      ]
     },
     "execution_count": 61,
     "metadata": {},
     "output_type": "execute_result"
    }
   ],
   "source": [
    "pd.DatetimeIndex([\"2018-01-01\", \"2018-01-03\", \"2018-01-05\"], freq=\"infer\") # DatetimeIndex(['2018-01-01', '2018-01-03', '2018-01-05'], dtype='datetime64[ns]', freq='2D')\n",
    "pd.DatetimeIndex([\"2018-01-01\", \"2018-01-03\", \"2018-01-06\"], freq=\"infer\") # DatetimeIndex(['2018-01-01', '2018-01-03', '2018-01-06'], dtype='datetime64[ns]', freq=None)"
   ]
  },
  {
   "cell_type": "code",
   "execution_count": 63,
   "id": "consistent-survey",
   "metadata": {},
   "outputs": [
    {
     "data": {
      "text/plain": [
       "Timestamp('2010-11-12 00:00:00')"
      ]
     },
     "execution_count": 63,
     "metadata": {},
     "output_type": "execute_result"
    }
   ],
   "source": [
    "pd.to_datetime(\"2020/11/12\", format=\"%Y/%m/%d\")\n",
    "pd.to_datetime(\"12-11-2010 00:00\", format=\"%d-%m-%Y %H:%M\")"
   ]
  },
  {
   "cell_type": "code",
   "execution_count": 2,
   "id": "preliminary-adobe",
   "metadata": {},
   "outputs": [
    {
     "data": {
      "text/plain": [
       "Timestamp('2262-04-11 23:47:16.854775807')"
      ]
     },
     "execution_count": 2,
     "metadata": {},
     "output_type": "execute_result"
    }
   ],
   "source": [
    "pd.Timestamp.max"
   ]
  },
  {
   "cell_type": "code",
   "execution_count": 11,
   "id": "velvet-pasta",
   "metadata": {},
   "outputs": [
    {
     "data": {
      "text/plain": [
       "Timestamp('2021-06-30 00:00:00')"
      ]
     },
     "execution_count": 11,
     "metadata": {},
     "output_type": "execute_result"
    }
   ],
   "source": [
    "pd.Timestamp('2021.04.30') + pd.offsets.BQuarterEnd()"
   ]
  },
  {
   "cell_type": "code",
   "execution_count": 16,
   "id": "forced-twins",
   "metadata": {},
   "outputs": [
    {
     "data": {
      "text/plain": [
       "dtype('<M8[ns]')"
      ]
     },
     "execution_count": 16,
     "metadata": {},
     "output_type": "execute_result"
    }
   ],
   "source": [
    "periods = pd.date_range('2021-01', periods=3, freq='M')\n",
    "periods.dtype"
   ]
  },
  {
   "cell_type": "code",
   "execution_count": 19,
   "id": "stretch-above",
   "metadata": {},
   "outputs": [
    {
     "data": {
      "text/plain": [
       "Timestamp('2262-04-11 23:47:16.854775807')"
      ]
     },
     "execution_count": 19,
     "metadata": {},
     "output_type": "execute_result"
    }
   ],
   "source": [
    "pd.Timestamp.max"
   ]
  },
  {
   "cell_type": "code",
   "execution_count": 27,
   "id": "mysterious-canon",
   "metadata": {},
   "outputs": [
    {
     "data": {
      "text/plain": [
       "0   2021-04-30\n",
       "1   2021-05-01\n",
       "dtype: datetime64[ns]"
      ]
     },
     "execution_count": 27,
     "metadata": {},
     "output_type": "execute_result"
    }
   ],
   "source": [
    "df = DataFrame({\n",
    "    'year': [2021, 2021],\n",
    "    'month': [4,5],\n",
    "    'day':[30, 1],\n",
    "    'hours':[23, 1]\n",
    "})\n",
    "pd.to_datetime(df[['year', 'month', 'day']]) # ValueError: to assemble mappings requires at least that [year, month, day] be specified: [day] is missing"
   ]
  },
  {
   "cell_type": "code",
   "execution_count": 37,
   "id": "uniform-facial",
   "metadata": {},
   "outputs": [
    {
     "data": {
      "text/plain": [
       "DatetimeIndex(['2020-01-01', '2021-01-02', 'NaT'], dtype='datetime64[ns]', freq=None)"
      ]
     },
     "execution_count": 37,
     "metadata": {},
     "output_type": "execute_result"
    }
   ],
   "source": [
    "pd.to_datetime(['2020/01/01', '2021.01.02', 'asd']) # ParserError: Unknown string format: asd\n",
    "pd.to_datetime(['2020/01/01', '2021.01.02', 'asd'], errors='raise') # ParserError: Unknown string format: asd\n",
    "pd.to_datetime(['2020/01/01', '2021.01.02', 'asd'], errors='ignore')\n",
    "pd.to_datetime(['2020/01/01', '2021.01.02', 'asd'], errors='coerce')"
   ]
  },
  {
   "cell_type": "code",
   "execution_count": 46,
   "id": "quick-violin",
   "metadata": {},
   "outputs": [
    {
     "data": {
      "text/plain": [
       "DatetimeIndex(['1970-01-01 00:00:01.618866007', '2021-04-19 21:00:07.161886601'], dtype='datetime64[ns]', freq=None)"
      ]
     },
     "execution_count": 46,
     "metadata": {},
     "output_type": "execute_result"
    }
   ],
   "source": [
    "pd.to_datetime([1349720105, 1349806505, 1349892905, \n",
    "                1349979305, 1350065705], unit=\"s\")\n",
    "pd.to_datetime([1349720105100, 1349720105200, 1349720105300, \n",
    "                1349720105400,1349720105500], unit='ms')\n",
    "pd.to_datetime([1618866007.161886600, 1618866007161886601])"
   ]
  },
  {
   "cell_type": "code",
   "execution_count": 45,
   "id": "tired-guidance",
   "metadata": {},
   "outputs": [
    {
     "data": {
      "text/plain": [
       "Timestamp('2017-03-22 15:16:45.433502912')"
      ]
     },
     "execution_count": 45,
     "metadata": {},
     "output_type": "execute_result"
    }
   ],
   "source": [
    "pd.to_datetime(1490195805433502912, unit=\"ns\")"
   ]
  },
  {
   "cell_type": "code",
   "execution_count": 53,
   "id": "infinite-tactics",
   "metadata": {},
   "outputs": [
    {
     "data": {
      "text/plain": [
       "Int64Index([1349720105, 1349806505, 1349892905, 1349979305], dtype='int64')"
      ]
     },
     "execution_count": 53,
     "metadata": {},
     "output_type": "execute_result"
    }
   ],
   "source": [
    "stamps = pd.date_range(\"2012-10-08 18:15:05\", periods=4, freq=\"D\")\n",
    "(stamps - pd.Timestamp(\"1970-01-01\")) // pd.Timedelta(\"1s\")"
   ]
  },
  {
   "cell_type": "code",
   "execution_count": 58,
   "id": "occasional-architecture",
   "metadata": {},
   "outputs": [
    {
     "data": {
      "text/plain": [
       "DatetimeIndex(['2000-01-01', '2000-01-02', '2000-01-03'], dtype='datetime64[ns]', freq=None)"
      ]
     },
     "execution_count": 58,
     "metadata": {},
     "output_type": "execute_result"
    }
   ],
   "source": [
    "pd.to_datetime([0, 1, 2], unit=\"D\", origin=pd.Timestamp(\"2000-01-01\"))"
   ]
  },
  {
   "cell_type": "markdown",
   "id": "solved-collapse",
   "metadata": {},
   "source": [
    "# 2.19.4 Generating ranges of timestamps"
   ]
  },
  {
   "cell_type": "code",
   "execution_count": 4,
   "id": "informal-respect",
   "metadata": {},
   "outputs": [
    {
     "data": {
      "text/plain": [
       "DatetimeIndex(['2020-01-03', '2020-01-04', '2020-01-05'], dtype='datetime64[ns]', freq=None)"
      ]
     },
     "execution_count": 4,
     "metadata": {},
     "output_type": "execute_result"
    }
   ],
   "source": [
    "dates = [\n",
    "    datetime.datetime(2020,1,3),\n",
    "    datetime.datetime(2020,1,4),\n",
    "    datetime.datetime(2020,1,5),\n",
    "]\n",
    "dates\n",
    "# Note the frequency information\n",
    "index = pd.DatetimeIndex(dates)\n",
    "index # DatetimeIndex(['2020-01-03', '2020-01-04', '2020-01-05'], dtype='datetime64[ns]', freq=None)\n",
    "\n",
    "# Automatically converted to DatetimeIndex\n",
    "index = pd.Index(dates)\n",
    "index # DatetimeIndex(['2020-01-03', '2020-01-04', '2020-01-05'], dtype='datetime64[ns]', freq=None)\n"
   ]
  },
  {
   "cell_type": "code",
   "execution_count": 2,
   "id": "eastern-evanescence",
   "metadata": {},
   "outputs": [
    {
     "data": {
      "text/plain": [
       "PeriodIndex(['2020-01-01', '2020-01-02', '2020-01-03'], dtype='period[D]', freq='D')"
      ]
     },
     "execution_count": 2,
     "metadata": {},
     "output_type": "execute_result"
    }
   ],
   "source": [
    "pd.period_range(start='2020.01.01', end='2020.01.03')"
   ]
  },
  {
   "cell_type": "code",
   "execution_count": 10,
   "id": "naughty-tactics",
   "metadata": {},
   "outputs": [
    {
     "data": {
      "text/plain": [
       "Timestamp('1677-09-21 00:12:43.145225')"
      ]
     },
     "execution_count": 10,
     "metadata": {},
     "output_type": "execute_result"
    }
   ],
   "source": [
    "pd.Timestamp.max # Timestamp('2262-04-11 23:47:16.854775807')\n",
    "pd.Timestamp.min # Timestamp('1677-09-21 00:12:43.145225')"
   ]
  },
  {
   "cell_type": "code",
   "execution_count": 3,
   "id": "closing-pastor",
   "metadata": {},
   "outputs": [
    {
     "data": {
      "text/plain": [
       "DatetimeIndex(['2011-01-31', '2011-02-28', '2011-03-31', '2011-04-30',\n",
       "               '2011-05-31', '2011-06-30', '2011-07-31', '2011-08-31',\n",
       "               '2011-09-30', '2011-10-31', '2011-11-30', '2011-12-31'],\n",
       "              dtype='datetime64[ns]', freq='M')"
      ]
     },
     "execution_count": 3,
     "metadata": {},
     "output_type": "execute_result"
    }
   ],
   "source": [
    "start = datetime.datetime(2011, 1, 1)\n",
    "end = datetime.datetime(2012, 1, 1)\n",
    "\n",
    "df= pd.date_range(start, end, freq='M')\n",
    "pd.period_range(start, end, freq='M')\n",
    "pd.bdate_range(start, end, freq='M')"
   ]
  },
  {
   "cell_type": "code",
   "execution_count": 13,
   "id": "second-emphasis",
   "metadata": {},
   "outputs": [
    {
     "data": {
      "text/plain": [
       "PeriodIndex(['2010-12-28/2011-01-03', '2011-01-04/2011-01-10',\n",
       "             '2011-01-11/2011-01-17', '2011-01-18/2011-01-24'],\n",
       "            dtype='period[W-MON]', freq='W-MON')"
      ]
     },
     "execution_count": 13,
     "metadata": {},
     "output_type": "execute_result"
    }
   ],
   "source": [
    "pd.date_range(start, periods=5, freq='QS')\n",
    "pd.bdate_range(start, periods=5, freq='BQS')\n",
    "pd.period_range(start, periods=4, freq='W-MON')"
   ]
  },
  {
   "cell_type": "code",
   "execution_count": 17,
   "id": "adjustable-liability",
   "metadata": {},
   "outputs": [
    {
     "data": {
      "text/plain": [
       "DatetimeIndex(['2011-01-31', '2011-02-28', '2011-03-31', '2011-04-30',\n",
       "               '2011-05-31', '2011-06-30', '2011-07-31', '2011-08-31',\n",
       "               '2011-09-30', '2011-10-31', '2011-11-30', '2011-12-31'],\n",
       "              dtype='datetime64[ns]', freq='M')"
      ]
     },
     "execution_count": 17,
     "metadata": {},
     "output_type": "execute_result"
    }
   ],
   "source": [
    "pd.bdate_range(start, end, freq=\"M\")"
   ]
  },
  {
   "cell_type": "code",
   "execution_count": 4,
   "id": "threatened-disco",
   "metadata": {},
   "outputs": [
    {
     "data": {
      "text/plain": [
       "DatetimeIndex(['2011-01-31', '2011-02-28', '2011-03-31', '2011-04-29',\n",
       "               '2011-05-31', '2011-06-30', '2011-07-29', '2011-08-31',\n",
       "               '2011-09-30', '2011-10-31', '2011-11-30', '2011-12-30'],\n",
       "              dtype='datetime64[ns]', freq='BM')"
      ]
     },
     "execution_count": 4,
     "metadata": {},
     "output_type": "execute_result"
    }
   ],
   "source": [
    "pd.date_range(start, end, freq=\"BM\")"
   ]
  },
  {
   "cell_type": "code",
   "execution_count": 22,
   "id": "brazilian-olive",
   "metadata": {},
   "outputs": [
    {
     "data": {
      "text/plain": [
       "DatetimeIndex(['2011-10-31', '2011-11-30', '2011-12-30'], dtype='datetime64[ns]', freq='BM')"
      ]
     },
     "execution_count": 22,
     "metadata": {},
     "output_type": "execute_result"
    }
   ],
   "source": [
    "pd.bdate_range(end=end, periods=3, freq='BM')"
   ]
  },
  {
   "cell_type": "code",
   "execution_count": 23,
   "id": "weekly-recognition",
   "metadata": {},
   "outputs": [],
   "source": [
    "weekmask = \"Mon Wed Fri\"\n",
    "holidays = [datetime.datetime(2011, 1, 5), datetime.datetime(2011, 3, 14)]"
   ]
  },
  {
   "cell_type": "code",
   "execution_count": 48,
   "id": "challenging-customer",
   "metadata": {},
   "outputs": [
    {
     "data": {
      "text/plain": [
       "DatetimeIndex(['2011-01-03', '2011-01-07', '2011-01-10', '2011-01-12',\n",
       "               '2011-01-14', '2011-01-17', '2011-01-19', '2011-01-21',\n",
       "               '2011-01-24', '2011-01-26', '2011-01-28', '2011-01-31',\n",
       "               '2011-02-02', '2011-02-04', '2011-02-07', '2011-02-09',\n",
       "               '2011-02-11', '2011-02-14', '2011-02-16', '2011-02-18',\n",
       "               '2011-02-21', '2011-02-23', '2011-02-25', '2011-02-28',\n",
       "               '2011-03-02', '2011-03-04', '2011-03-07', '2011-03-09',\n",
       "               '2011-03-11', '2011-03-16', '2011-03-18', '2011-03-21',\n",
       "               '2011-03-23', '2011-03-25', '2011-03-28', '2011-03-30',\n",
       "               '2011-04-01', '2011-04-04', '2011-04-06', '2011-04-08',\n",
       "               '2011-04-11', '2011-04-13', '2011-04-15', '2011-04-18',\n",
       "               '2011-04-20', '2011-04-22', '2011-04-25', '2011-04-27',\n",
       "               '2011-04-29'],\n",
       "              dtype='datetime64[ns]', freq='C')"
      ]
     },
     "execution_count": 48,
     "metadata": {},
     "output_type": "execute_result"
    }
   ],
   "source": [
    "pd.bdate_range(datetime.datetime(2011, 1, 1), \n",
    "              datetime.datetime(2011, 4, 30), freq='C',\n",
    "             weekmask=weekmask, holidays=holidays)"
   ]
  },
  {
   "cell_type": "code",
   "execution_count": 51,
   "id": "headed-insured",
   "metadata": {},
   "outputs": [
    {
     "data": {
      "text/plain": [
       "Timestamp('2262-04-11 23:47:16.854775807')"
      ]
     },
     "execution_count": 51,
     "metadata": {},
     "output_type": "execute_result"
    }
   ],
   "source": [
    "pd.Timestamp.min # Timestamp('1677-09-21 00:12:43.145225')\n",
    "pd.Timestamp.max # Timestamp('2262-04-11 23:47:16.854775807')"
   ]
  },
  {
   "cell_type": "code",
   "execution_count": 53,
   "id": "central-moderator",
   "metadata": {},
   "outputs": [
    {
     "data": {
      "text/html": [
       "<div>\n",
       "<style scoped>\n",
       "    .dataframe tbody tr th:only-of-type {\n",
       "        vertical-align: middle;\n",
       "    }\n",
       "\n",
       "    .dataframe tbody tr th {\n",
       "        vertical-align: top;\n",
       "    }\n",
       "\n",
       "    .dataframe thead th {\n",
       "        text-align: right;\n",
       "    }\n",
       "</style>\n",
       "<table border=\"1\" class=\"dataframe\">\n",
       "  <thead>\n",
       "    <tr style=\"text-align: right;\">\n",
       "      <th></th>\n",
       "      <th>Date</th>\n",
       "    </tr>\n",
       "  </thead>\n",
       "  <tbody>\n",
       "    <tr>\n",
       "      <th>0</th>\n",
       "      <td>2016-08-21</td>\n",
       "    </tr>\n",
       "    <tr>\n",
       "      <th>1</th>\n",
       "      <td>2016-01-03</td>\n",
       "    </tr>\n",
       "  </tbody>\n",
       "</table>\n",
       "</div>"
      ],
      "text/plain": [
       "        Date\n",
       "0 2016-08-21\n",
       "1 2016-01-03"
      ]
     },
     "execution_count": 53,
     "metadata": {},
     "output_type": "execute_result"
    }
   ],
   "source": [
    "df = pd.DataFrame({'Date': ['16234', '16003']})\n",
    "df['Date'] = pd.to_datetime(df['Date'], format='%y%j')\n",
    "df"
   ]
  },
  {
   "cell_type": "code",
   "execution_count": 58,
   "id": "retained-enzyme",
   "metadata": {},
   "outputs": [
    {
     "data": {
      "text/plain": [
       "DatetimeIndex(['2011-01-31', '2011-03-31', '2011-05-31', '2011-07-29',\n",
       "               '2011-09-30', '2011-11-30'],\n",
       "              dtype='datetime64[ns]', freq='2BM')"
      ]
     },
     "execution_count": 58,
     "metadata": {},
     "output_type": "execute_result"
    }
   ],
   "source": [
    "rng = pd.bdate_range(start, end, freq=\"BM\")\n",
    "ts = pd.Series(np.random.randn(len(rng)), index=rng)\n",
    "ts[:5]\n",
    "ts[:5].index\n",
    "ts[::2].index"
   ]
  },
  {
   "cell_type": "code",
   "execution_count": 60,
   "id": "biblical-growth",
   "metadata": {},
   "outputs": [
    {
     "data": {
      "text/plain": [
       "2011-12-30   -0.239682\n",
       "Freq: BM, dtype: float64"
      ]
     },
     "execution_count": 60,
     "metadata": {},
     "output_type": "execute_result"
    }
   ],
   "source": [
    "ts[\"1/31/2011\"]\n",
    "ts[datetime.datetime(2011, 12, 25):]"
   ]
  },
  {
   "cell_type": "code",
   "execution_count": 64,
   "id": "alternate-covering",
   "metadata": {},
   "outputs": [
    {
     "data": {
      "text/plain": [
       "2011-01-31   -0.100624\n",
       "2011-02-28   -0.452321\n",
       "2011-03-31    2.077659\n",
       "2011-04-29    0.559258\n",
       "2011-05-31    0.701382\n",
       "2011-06-30   -0.544770\n",
       "2011-07-29   -1.489551\n",
       "2011-08-31   -0.855428\n",
       "2011-09-30    0.955600\n",
       "2011-10-31    0.366601\n",
       "2011-11-30    1.572487\n",
       "2011-12-30   -0.239682\n",
       "Freq: BM, dtype: float64"
      ]
     },
     "execution_count": 64,
     "metadata": {},
     "output_type": "execute_result"
    }
   ],
   "source": [
    "ts['2011']\n",
    "ts['2011-5']"
   ]
  },
  {
   "cell_type": "code",
   "execution_count": 74,
   "id": "frozen-weekly",
   "metadata": {},
   "outputs": [
    {
     "data": {
      "text/plain": [
       "col   -0.100624\n",
       "Name: 2011-01-31 00:00:00, dtype: float64"
      ]
     },
     "execution_count": 74,
     "metadata": {},
     "output_type": "execute_result"
    }
   ],
   "source": [
    "df = ts.to_frame()\n",
    "df.rename(columns={(0):'col'}, inplace=True)\n",
    "df['2011-01-31'] # KeyError: '2011-01-31'\n",
    "df.loc['2011-01-31'] # col   -0.100624"
   ]
  },
  {
   "cell_type": "code",
   "execution_count": 29,
   "id": "incoming-albania",
   "metadata": {},
   "outputs": [
    {
     "data": {
      "text/html": [
       "<div>\n",
       "<style scoped>\n",
       "    .dataframe tbody tr th:only-of-type {\n",
       "        vertical-align: middle;\n",
       "    }\n",
       "\n",
       "    .dataframe tbody tr th {\n",
       "        vertical-align: top;\n",
       "    }\n",
       "\n",
       "    .dataframe thead th {\n",
       "        text-align: right;\n",
       "    }\n",
       "</style>\n",
       "<table border=\"1\" class=\"dataframe\">\n",
       "  <thead>\n",
       "    <tr style=\"text-align: right;\">\n",
       "      <th></th>\n",
       "      <th>A</th>\n",
       "    </tr>\n",
       "  </thead>\n",
       "  <tbody>\n",
       "    <tr>\n",
       "      <th>2013-01-01 00:00:00</th>\n",
       "      <td>0.390870</td>\n",
       "    </tr>\n",
       "    <tr>\n",
       "      <th>2013-01-01 00:01:00</th>\n",
       "      <td>0.350306</td>\n",
       "    </tr>\n",
       "    <tr>\n",
       "      <th>2013-01-01 00:02:00</th>\n",
       "      <td>1.538080</td>\n",
       "    </tr>\n",
       "    <tr>\n",
       "      <th>2013-01-01 00:03:00</th>\n",
       "      <td>-0.394361</td>\n",
       "    </tr>\n",
       "    <tr>\n",
       "      <th>2013-01-01 00:04:00</th>\n",
       "      <td>-1.246669</td>\n",
       "    </tr>\n",
       "    <tr>\n",
       "      <th>...</th>\n",
       "      <td>...</td>\n",
       "    </tr>\n",
       "    <tr>\n",
       "      <th>2013-02-28 23:55:00</th>\n",
       "      <td>0.122760</td>\n",
       "    </tr>\n",
       "    <tr>\n",
       "      <th>2013-02-28 23:56:00</th>\n",
       "      <td>1.239373</td>\n",
       "    </tr>\n",
       "    <tr>\n",
       "      <th>2013-02-28 23:57:00</th>\n",
       "      <td>-1.572780</td>\n",
       "    </tr>\n",
       "    <tr>\n",
       "      <th>2013-02-28 23:58:00</th>\n",
       "      <td>-0.567776</td>\n",
       "    </tr>\n",
       "    <tr>\n",
       "      <th>2013-02-28 23:59:00</th>\n",
       "      <td>0.186940</td>\n",
       "    </tr>\n",
       "  </tbody>\n",
       "</table>\n",
       "<p>84960 rows × 1 columns</p>\n",
       "</div>"
      ],
      "text/plain": [
       "                            A\n",
       "2013-01-01 00:00:00  0.390870\n",
       "2013-01-01 00:01:00  0.350306\n",
       "2013-01-01 00:02:00  1.538080\n",
       "2013-01-01 00:03:00 -0.394361\n",
       "2013-01-01 00:04:00 -1.246669\n",
       "...                       ...\n",
       "2013-02-28 23:55:00  0.122760\n",
       "2013-02-28 23:56:00  1.239373\n",
       "2013-02-28 23:57:00 -1.572780\n",
       "2013-02-28 23:58:00 -0.567776\n",
       "2013-02-28 23:59:00  0.186940\n",
       "\n",
       "[84960 rows x 1 columns]"
      ]
     },
     "execution_count": 29,
     "metadata": {},
     "output_type": "execute_result"
    }
   ],
   "source": [
    "dft = pd.DataFrame(\n",
    "    np.random.randn(100000, 1),\n",
    "    columns=[\"A\"],\n",
    "    index=pd.date_range(\"20130101\", periods=100000, freq=\"T\"),\n",
    ")\n",
    "dft.loc['2013']\n",
    "dft[\"2013-1\":\"2013-2\"]"
   ]
  },
  {
   "cell_type": "code",
   "execution_count": 92,
   "id": "conceptual-cooperative",
   "metadata": {},
   "outputs": [
    {
     "data": {
      "text/html": [
       "<div>\n",
       "<style scoped>\n",
       "    .dataframe tbody tr th:only-of-type {\n",
       "        vertical-align: middle;\n",
       "    }\n",
       "\n",
       "    .dataframe tbody tr th {\n",
       "        vertical-align: top;\n",
       "    }\n",
       "\n",
       "    .dataframe thead th {\n",
       "        text-align: right;\n",
       "    }\n",
       "</style>\n",
       "<table border=\"1\" class=\"dataframe\">\n",
       "  <thead>\n",
       "    <tr style=\"text-align: right;\">\n",
       "      <th></th>\n",
       "      <th></th>\n",
       "      <th>A</th>\n",
       "    </tr>\n",
       "  </thead>\n",
       "  <tbody>\n",
       "    <tr>\n",
       "      <th rowspan=\"2\" valign=\"top\">a</th>\n",
       "      <th>2020-01-05 00:00:00</th>\n",
       "      <td>-0.922086</td>\n",
       "    </tr>\n",
       "    <tr>\n",
       "      <th>2020-01-05 12:00:00</th>\n",
       "      <td>0.619447</td>\n",
       "    </tr>\n",
       "  </tbody>\n",
       "</table>\n",
       "</div>"
      ],
      "text/plain": [
       "                              A\n",
       "a 2020-01-05 00:00:00 -0.922086\n",
       "  2020-01-05 12:00:00  0.619447"
      ]
     },
     "execution_count": 92,
     "metadata": {},
     "output_type": "execute_result"
    }
   ],
   "source": [
    "dft2 = pd.DataFrame(\n",
    "    np.random.randn(20,1),\n",
    "    columns=['A'],\n",
    "    index=pd.MultiIndex.from_product([\n",
    "        pd.date_range(\"2020.01.01\", periods=10, freq='12H'),\n",
    "        ['a','b']\n",
    "    ])\n",
    ")\n",
    "dft2.loc['20200105']\n",
    "idx = pd.IndexSlice\n",
    "dft2 = dft2.swaplevel(0,1).sort_index()\n",
    "dft2.loc[idx[:,'20200105'], :]\n",
    "dft2.loc[idx['a','20200105'], :]"
   ]
  },
  {
   "cell_type": "code",
   "execution_count": 95,
   "id": "south-equality",
   "metadata": {},
   "outputs": [
    {
     "data": {
      "text/html": [
       "<div>\n",
       "<style scoped>\n",
       "    .dataframe tbody tr th:only-of-type {\n",
       "        vertical-align: middle;\n",
       "    }\n",
       "\n",
       "    .dataframe tbody tr th {\n",
       "        vertical-align: top;\n",
       "    }\n",
       "\n",
       "    .dataframe thead th {\n",
       "        text-align: right;\n",
       "    }\n",
       "</style>\n",
       "<table border=\"1\" class=\"dataframe\">\n",
       "  <thead>\n",
       "    <tr style=\"text-align: right;\">\n",
       "      <th></th>\n",
       "      <th>0</th>\n",
       "    </tr>\n",
       "  </thead>\n",
       "  <tbody>\n",
       "    <tr>\n",
       "      <th>2019-01-01 00:00:00-08:00</th>\n",
       "      <td>0</td>\n",
       "    </tr>\n",
       "  </tbody>\n",
       "</table>\n",
       "</div>"
      ],
      "text/plain": [
       "                           0\n",
       "2019-01-01 00:00:00-08:00  0"
      ]
     },
     "execution_count": 95,
     "metadata": {},
     "output_type": "execute_result"
    }
   ],
   "source": [
    "df = pd.DataFrame([0], \n",
    "        index=pd.DatetimeIndex([\"2019-01-01\"],tz=\"US/Pacific\"))\n",
    "df[\"2019-01-01 12:00:00+04:00\":\"2019-01-01 13:00:00+04:00\"]"
   ]
  },
  {
   "cell_type": "code",
   "execution_count": 96,
   "id": "bearing-crown",
   "metadata": {},
   "outputs": [
    {
     "data": {
      "text/html": [
       "<div>\n",
       "<style scoped>\n",
       "    .dataframe tbody tr th:only-of-type {\n",
       "        vertical-align: middle;\n",
       "    }\n",
       "\n",
       "    .dataframe tbody tr th {\n",
       "        vertical-align: top;\n",
       "    }\n",
       "\n",
       "    .dataframe thead th {\n",
       "        text-align: right;\n",
       "    }\n",
       "</style>\n",
       "<table border=\"1\" class=\"dataframe\">\n",
       "  <thead>\n",
       "    <tr style=\"text-align: right;\">\n",
       "      <th></th>\n",
       "      <th>0</th>\n",
       "    </tr>\n",
       "  </thead>\n",
       "  <tbody>\n",
       "    <tr>\n",
       "      <th>2019-01-01 00:00:00-08:00</th>\n",
       "      <td>0</td>\n",
       "    </tr>\n",
       "  </tbody>\n",
       "</table>\n",
       "</div>"
      ],
      "text/plain": [
       "                           0\n",
       "2019-01-01 00:00:00-08:00  0"
      ]
     },
     "execution_count": 96,
     "metadata": {},
     "output_type": "execute_result"
    }
   ],
   "source": [
    "df[\"2019-01-01 12:00:00+04:00\":\"2019-01-01 13:00:00+04:00\"]"
   ]
  },
  {
   "cell_type": "code",
   "execution_count": 14,
   "id": "iraqi-adoption",
   "metadata": {},
   "outputs": [
    {
     "data": {
      "text/plain": [
       "2011-12-31 23:59:00    1\n",
       "dtype: int64"
      ]
     },
     "execution_count": 14,
     "metadata": {},
     "output_type": "execute_result"
    }
   ],
   "source": [
    "series_minute = pd.Series(np.arange(1,4), \n",
    "            pd.DatetimeIndex([\"2011-12-31 23:59:00\", \"2012-01-01 00:00:00\", \n",
    "                              \"2012-01-01 00:02:00\"],))\n",
    "series_minute.index.resolution # 'minute'\n",
    "# A timestamp string less accurate than a minute gives a Series object.\n",
    "series_minute['2011-12-31 23'] # 2011-12-31 23:59:00\n",
    "series_minute['2012-01-01 00:00'] # 2"
   ]
  },
  {
   "cell_type": "code",
   "execution_count": 24,
   "id": "boring-burke",
   "metadata": {},
   "outputs": [
    {
     "data": {
      "text/plain": [
       "a    3\n",
       "b    6\n",
       "Name: 2012-01-01 00:02:00, dtype: int64"
      ]
     },
     "execution_count": 24,
     "metadata": {},
     "output_type": "execute_result"
    }
   ],
   "source": [
    "dft_minute = pd.DataFrame(\n",
    "    {\"a\": [1, 2, 3], \"b\": [4, 5, 6]}, index=series_minute.index\n",
    ")\n",
    "dft_minute.loc['2012-01-01 00:02']"
   ]
  },
  {
   "cell_type": "code",
   "execution_count": 28,
   "id": "invalid-thesis",
   "metadata": {},
   "outputs": [
    {
     "data": {
      "text/plain": [
       "1"
      ]
     },
     "execution_count": 28,
     "metadata": {},
     "output_type": "execute_result"
    }
   ],
   "source": [
    "series_monthly = pd.Series(\n",
    "    [1, 2, 3], pd.DatetimeIndex([\"2011-12\", \"2012-01\", \"2012-02\"])\n",
    ")\n",
    "series_monthly.index.resolution # 'day'\n",
    "series_monthly[\"2011-12\"] # returns Series - 2011-12-01\n",
    "series_monthly[\"2011-12-01\"] # returns scaler 1"
   ]
  },
  {
   "cell_type": "code",
   "execution_count": 32,
   "id": "hispanic-percentage",
   "metadata": {},
   "outputs": [
    {
     "data": {
      "text/html": [
       "<div>\n",
       "<style scoped>\n",
       "    .dataframe tbody tr th:only-of-type {\n",
       "        vertical-align: middle;\n",
       "    }\n",
       "\n",
       "    .dataframe tbody tr th {\n",
       "        vertical-align: top;\n",
       "    }\n",
       "\n",
       "    .dataframe thead th {\n",
       "        text-align: right;\n",
       "    }\n",
       "</style>\n",
       "<table border=\"1\" class=\"dataframe\">\n",
       "  <thead>\n",
       "    <tr style=\"text-align: right;\">\n",
       "      <th></th>\n",
       "      <th>A</th>\n",
       "    </tr>\n",
       "  </thead>\n",
       "  <tbody>\n",
       "    <tr>\n",
       "      <th>2013-01-01 00:00:00</th>\n",
       "      <td>0.390870</td>\n",
       "    </tr>\n",
       "    <tr>\n",
       "      <th>2013-01-01 00:01:00</th>\n",
       "      <td>0.350306</td>\n",
       "    </tr>\n",
       "    <tr>\n",
       "      <th>2013-01-01 00:02:00</th>\n",
       "      <td>1.538080</td>\n",
       "    </tr>\n",
       "    <tr>\n",
       "      <th>2013-01-01 00:03:00</th>\n",
       "      <td>-0.394361</td>\n",
       "    </tr>\n",
       "    <tr>\n",
       "      <th>2013-01-01 00:04:00</th>\n",
       "      <td>-1.246669</td>\n",
       "    </tr>\n",
       "    <tr>\n",
       "      <th>...</th>\n",
       "      <td>...</td>\n",
       "    </tr>\n",
       "    <tr>\n",
       "      <th>2013-02-27 23:56:00</th>\n",
       "      <td>-1.037733</td>\n",
       "    </tr>\n",
       "    <tr>\n",
       "      <th>2013-02-27 23:57:00</th>\n",
       "      <td>-1.733930</td>\n",
       "    </tr>\n",
       "    <tr>\n",
       "      <th>2013-02-27 23:58:00</th>\n",
       "      <td>0.424122</td>\n",
       "    </tr>\n",
       "    <tr>\n",
       "      <th>2013-02-27 23:59:00</th>\n",
       "      <td>1.417177</td>\n",
       "    </tr>\n",
       "    <tr>\n",
       "      <th>2013-02-28 00:00:00</th>\n",
       "      <td>-0.247185</td>\n",
       "    </tr>\n",
       "  </tbody>\n",
       "</table>\n",
       "<p>83521 rows × 1 columns</p>\n",
       "</div>"
      ],
      "text/plain": [
       "                            A\n",
       "2013-01-01 00:00:00  0.390870\n",
       "2013-01-01 00:01:00  0.350306\n",
       "2013-01-01 00:02:00  1.538080\n",
       "2013-01-01 00:03:00 -0.394361\n",
       "2013-01-01 00:04:00 -1.246669\n",
       "...                       ...\n",
       "2013-02-27 23:56:00 -1.037733\n",
       "2013-02-27 23:57:00 -1.733930\n",
       "2013-02-27 23:58:00  0.424122\n",
       "2013-02-27 23:59:00  1.417177\n",
       "2013-02-28 00:00:00 -0.247185\n",
       "\n",
       "[83521 rows x 1 columns]"
      ]
     },
     "execution_count": 32,
     "metadata": {},
     "output_type": "execute_result"
    }
   ],
   "source": [
    "dft[datetime.datetime(2013, 1, 1): datetime.datetime(2013, 2, 28)]"
   ]
  },
  {
   "cell_type": "code",
   "execution_count": 33,
   "id": "valid-albania",
   "metadata": {},
   "outputs": [
    {
     "data": {
      "text/html": [
       "<div>\n",
       "<style scoped>\n",
       "    .dataframe tbody tr th:only-of-type {\n",
       "        vertical-align: middle;\n",
       "    }\n",
       "\n",
       "    .dataframe tbody tr th {\n",
       "        vertical-align: top;\n",
       "    }\n",
       "\n",
       "    .dataframe thead th {\n",
       "        text-align: right;\n",
       "    }\n",
       "</style>\n",
       "<table border=\"1\" class=\"dataframe\">\n",
       "  <thead>\n",
       "    <tr style=\"text-align: right;\">\n",
       "      <th></th>\n",
       "      <th>A</th>\n",
       "    </tr>\n",
       "  </thead>\n",
       "  <tbody>\n",
       "    <tr>\n",
       "      <th>2013-01-01 10:12:00</th>\n",
       "      <td>-1.417470</td>\n",
       "    </tr>\n",
       "    <tr>\n",
       "      <th>2013-01-01 10:13:00</th>\n",
       "      <td>-1.125379</td>\n",
       "    </tr>\n",
       "    <tr>\n",
       "      <th>2013-01-01 10:14:00</th>\n",
       "      <td>-1.855770</td>\n",
       "    </tr>\n",
       "    <tr>\n",
       "      <th>2013-01-01 10:15:00</th>\n",
       "      <td>-1.651701</td>\n",
       "    </tr>\n",
       "    <tr>\n",
       "      <th>2013-01-01 10:16:00</th>\n",
       "      <td>1.253949</td>\n",
       "    </tr>\n",
       "    <tr>\n",
       "      <th>...</th>\n",
       "      <td>...</td>\n",
       "    </tr>\n",
       "    <tr>\n",
       "      <th>2013-02-28 10:08:00</th>\n",
       "      <td>-0.697029</td>\n",
       "    </tr>\n",
       "    <tr>\n",
       "      <th>2013-02-28 10:09:00</th>\n",
       "      <td>2.197959</td>\n",
       "    </tr>\n",
       "    <tr>\n",
       "      <th>2013-02-28 10:10:00</th>\n",
       "      <td>-0.673779</td>\n",
       "    </tr>\n",
       "    <tr>\n",
       "      <th>2013-02-28 10:11:00</th>\n",
       "      <td>1.285071</td>\n",
       "    </tr>\n",
       "    <tr>\n",
       "      <th>2013-02-28 10:12:00</th>\n",
       "      <td>-1.297426</td>\n",
       "    </tr>\n",
       "  </tbody>\n",
       "</table>\n",
       "<p>83521 rows × 1 columns</p>\n",
       "</div>"
      ],
      "text/plain": [
       "                            A\n",
       "2013-01-01 10:12:00 -1.417470\n",
       "2013-01-01 10:13:00 -1.125379\n",
       "2013-01-01 10:14:00 -1.855770\n",
       "2013-01-01 10:15:00 -1.651701\n",
       "2013-01-01 10:16:00  1.253949\n",
       "...                       ...\n",
       "2013-02-28 10:08:00 -0.697029\n",
       "2013-02-28 10:09:00  2.197959\n",
       "2013-02-28 10:10:00 -0.673779\n",
       "2013-02-28 10:11:00  1.285071\n",
       "2013-02-28 10:12:00 -1.297426\n",
       "\n",
       "[83521 rows x 1 columns]"
      ]
     },
     "execution_count": 33,
     "metadata": {},
     "output_type": "execute_result"
    }
   ],
   "source": [
    "dft[datetime.datetime(2013, 1, 1, 10, 12, 0): datetime.datetime(2013, 2, 28, 10, 12, 0)]"
   ]
  },
  {
   "cell_type": "code",
   "execution_count": 43,
   "id": "sweet-carry",
   "metadata": {},
   "outputs": [
    {
     "data": {
      "text/plain": [
       "DatetimeIndex(['2020-01-05', '2020-01-19', '2020-02-02'], dtype='datetime64[ns]', freq='2W-SUN')"
      ]
     },
     "execution_count": 43,
     "metadata": {},
     "output_type": "execute_result"
    }
   ],
   "source": [
    "rng2 = pd.date_range(\"2020-01-01\", \"2021-01-01\", freq=\"W\")\n",
    "rng2\n",
    "ts2 = pd.Series(np.random.randn(len(rng2)), index=rng2)\n",
    "ts2.truncate(before='2020-1', after='2020-02') # after month is not included\n",
    "ts2['2020-01':'2020-02']\n",
    "ts2[[0,2,6]]\n",
    "ts2[[0,2,6]].index # Freq is lost\n",
    "ts2[[0,2,4]].index # Freq is present"
   ]
  },
  {
   "cell_type": "code",
   "execution_count": 48,
   "id": "close-brother",
   "metadata": {},
   "outputs": [
    {
     "data": {
      "text/html": [
       "<div>\n",
       "<style scoped>\n",
       "    .dataframe tbody tr th:only-of-type {\n",
       "        vertical-align: middle;\n",
       "    }\n",
       "\n",
       "    .dataframe tbody tr th {\n",
       "        vertical-align: top;\n",
       "    }\n",
       "\n",
       "    .dataframe thead th {\n",
       "        text-align: right;\n",
       "    }\n",
       "</style>\n",
       "<table border=\"1\" class=\"dataframe\">\n",
       "  <thead>\n",
       "    <tr style=\"text-align: right;\">\n",
       "      <th></th>\n",
       "      <th>year</th>\n",
       "      <th>week</th>\n",
       "      <th>day</th>\n",
       "    </tr>\n",
       "  </thead>\n",
       "  <tbody>\n",
       "    <tr>\n",
       "      <th>2019-12-29</th>\n",
       "      <td>2019</td>\n",
       "      <td>52</td>\n",
       "      <td>7</td>\n",
       "    </tr>\n",
       "    <tr>\n",
       "      <th>2019-12-30</th>\n",
       "      <td>2020</td>\n",
       "      <td>1</td>\n",
       "      <td>1</td>\n",
       "    </tr>\n",
       "    <tr>\n",
       "      <th>2019-12-31</th>\n",
       "      <td>2020</td>\n",
       "      <td>1</td>\n",
       "      <td>2</td>\n",
       "    </tr>\n",
       "    <tr>\n",
       "      <th>2020-01-01</th>\n",
       "      <td>2020</td>\n",
       "      <td>1</td>\n",
       "      <td>3</td>\n",
       "    </tr>\n",
       "  </tbody>\n",
       "</table>\n",
       "</div>"
      ],
      "text/plain": [
       "            year  week  day\n",
       "2019-12-29  2019    52    7\n",
       "2019-12-30  2020     1    1\n",
       "2019-12-31  2020     1    2\n",
       "2020-01-01  2020     1    3"
      ]
     },
     "execution_count": 48,
     "metadata": {},
     "output_type": "execute_result"
    }
   ],
   "source": [
    "idx = pd.date_range(start=\"2019-12-29\", freq=\"D\", periods=4)\n",
    "idx.isocalendar()\n",
    "idx.to_series().dt.isocalendar()"
   ]
  },
  {
   "cell_type": "code",
   "execution_count": 54,
   "id": "according-correspondence",
   "metadata": {},
   "outputs": [
    {
     "data": {
      "text/plain": [
       "'Tuesday'"
      ]
     },
     "execution_count": 54,
     "metadata": {},
     "output_type": "execute_result"
    }
   ],
   "source": [
    "friday = pd.Timestamp('2021.05.07')\n",
    "friday.day_name()\n",
    "\n",
    "# Add 2 business days (Friday --> Tuesday)\n",
    "two_business_days = 2 * pd.offsets.BDay()\n",
    "two_business_days.apply(friday)\n",
    "two_business_days + friday\n",
    "(two_business_days + friday).day_name()"
   ]
  },
  {
   "cell_type": "code",
   "execution_count": 59,
   "id": "nuclear-spanking",
   "metadata": {},
   "outputs": [
    {
     "data": {
      "text/plain": [
       "Timestamp('2021-05-10 10:00:00')"
      ]
     },
     "execution_count": 59,
     "metadata": {},
     "output_type": "execute_result"
    }
   ],
   "source": [
    "ts = pd.Timestamp(\"2021-05-08 00:00:00\")\n",
    "\n",
    "# BusinessHour's valid offset dates are Monday through Friday\n",
    "offset = pd.offsets.BusinessHour(start=\"09:00\")\n",
    "\n",
    "# Bring the date to the closest offset date (Monday\n",
    "offset.rollforward(ts) # Timestamp('2018-01-08 09:00:00')\n",
    "\n",
    "# Date is brought to the closest offset date first and then the hour is added\n",
    "ts + offset # Timestamp('2021-05-10 10:00:00')"
   ]
  },
  {
   "cell_type": "code",
   "execution_count": 67,
   "id": "expected-tribune",
   "metadata": {},
   "outputs": [
    {
     "data": {
      "text/plain": [
       "Timestamp('2014-01-02 00:00:00')"
      ]
     },
     "execution_count": 67,
     "metadata": {},
     "output_type": "execute_result"
    }
   ],
   "source": [
    "ts = pd.Timestamp(\"2014-01-01 09:00\")\n",
    "day = pd.offsets.Day()\n",
    "day.apply(ts) # Timestamp('2014-01-02 09:00:00')\n",
    "day.apply(ts).normalize() # Timestamp('2014-01-02 00:00:00')\n",
    "\n",
    "ts = pd.Timestamp(\"2014-01-01 22:00\")\n",
    "hour = pd.offsets.Hour()\n",
    "(ts + hour).normalize() # Timestamp('2014-01-01 00:00:00')\n",
    "\n",
    "hour.apply(pd.Timestamp(\"2014-01-01 23:30\")).normalize() # Timestamp('2014-01-02 00:00:00')"
   ]
  },
  {
   "cell_type": "code",
   "execution_count": 70,
   "id": "legitimate-profit",
   "metadata": {},
   "outputs": [
    {
     "data": {
      "text/plain": [
       "Timestamp('2014-01-02 00:00:00')"
      ]
     },
     "execution_count": 70,
     "metadata": {},
     "output_type": "execute_result"
    }
   ],
   "source": [
    "dfpd.Timestamp('2014-01-02 01:00:00').normalize()"
   ]
  },
  {
   "cell_type": "code",
   "execution_count": 6,
   "id": "quantitative-sensitivity",
   "metadata": {},
   "outputs": [
    {
     "data": {
      "text/plain": [
       "<Day>"
      ]
     },
     "execution_count": 6,
     "metadata": {},
     "output_type": "execute_result"
    }
   ],
   "source": [
    "pd.offsets.Day(1)"
   ]
  },
  {
   "cell_type": "code",
   "execution_count": 26,
   "id": "wanted-bench",
   "metadata": {},
   "outputs": [
    {
     "ename": "AttributeError",
     "evalue": "'Timestamp' object has no attribute 'month_day'",
     "output_type": "error",
     "traceback": [
      "\u001b[0;31m---------------------------------------------------------------------------\u001b[0m",
      "\u001b[0;31mAttributeError\u001b[0m                            Traceback (most recent call last)",
      "\u001b[0;32m<ipython-input-26-824c62b1ba47>\u001b[0m in \u001b[0;36m<module>\u001b[0;34m\u001b[0m\n\u001b[1;32m      5\u001b[0m \u001b[0;34m(\u001b[0m\u001b[0md\u001b[0m \u001b[0;34m+\u001b[0m \u001b[0mpd\u001b[0m\u001b[0;34m.\u001b[0m\u001b[0moffsets\u001b[0m\u001b[0;34m.\u001b[0m\u001b[0mWeek\u001b[0m\u001b[0;34m(\u001b[0m\u001b[0mweekday\u001b[0m\u001b[0;34m=\u001b[0m\u001b[0;36m4\u001b[0m\u001b[0;34m)\u001b[0m\u001b[0;34m)\u001b[0m\u001b[0;34m.\u001b[0m\u001b[0mday_name\u001b[0m\u001b[0;34m(\u001b[0m\u001b[0;34m)\u001b[0m \u001b[0;31m# 'Friday'\u001b[0m\u001b[0;34m\u001b[0m\u001b[0;34m\u001b[0m\u001b[0m\n\u001b[1;32m      6\u001b[0m \u001b[0;34m(\u001b[0m\u001b[0md\u001b[0m \u001b[0;34m+\u001b[0m \u001b[0mpd\u001b[0m\u001b[0;34m.\u001b[0m\u001b[0moffsets\u001b[0m\u001b[0;34m.\u001b[0m\u001b[0mWeek\u001b[0m\u001b[0;34m(\u001b[0m\u001b[0mweekday\u001b[0m\u001b[0;34m=\u001b[0m\u001b[0;36m4\u001b[0m\u001b[0;34m)\u001b[0m\u001b[0;34m)\u001b[0m\u001b[0;34m.\u001b[0m\u001b[0mmonth_name\u001b[0m\u001b[0;34m(\u001b[0m\u001b[0;34m)\u001b[0m \u001b[0;31m# 'May'\u001b[0m\u001b[0;34m\u001b[0m\u001b[0;34m\u001b[0m\u001b[0m\n\u001b[0;32m----> 7\u001b[0;31m \u001b[0;34m(\u001b[0m\u001b[0md\u001b[0m \u001b[0;34m+\u001b[0m \u001b[0mpd\u001b[0m\u001b[0;34m.\u001b[0m\u001b[0moffsets\u001b[0m\u001b[0;34m.\u001b[0m\u001b[0mWeek\u001b[0m\u001b[0;34m(\u001b[0m\u001b[0mweekday\u001b[0m\u001b[0;34m=\u001b[0m\u001b[0;36m4\u001b[0m\u001b[0;34m)\u001b[0m\u001b[0;34m)\u001b[0m\u001b[0;34m.\u001b[0m\u001b[0mmonth_day\u001b[0m\u001b[0;34m(\u001b[0m\u001b[0;34m)\u001b[0m\u001b[0;34m\u001b[0m\u001b[0;34m\u001b[0m\u001b[0m\n\u001b[0m",
      "\u001b[0;31mAttributeError\u001b[0m: 'Timestamp' object has no attribute 'month_day'"
     ]
    }
   ],
   "source": [
    "d = datetime.datetime(2021, 5, 4, 9, 0)\n",
    "d = pd.Timestamp('2021.05.04 09:00')\n",
    "d + pd.offsets.Week(weekday=4) # Timestamp('2021-05-07 09:00:00')\n",
    "(d + pd.offsets.Week(weekday=4)).weekday() # 4\n",
    "(d + pd.offsets.Week(weekday=4)).day_name() # 'Friday'\n",
    "(d + pd.offsets.Week(weekday=4)).month_name() # 'May'\n"
   ]
  },
  {
   "cell_type": "code",
   "execution_count": 29,
   "id": "tested-camel",
   "metadata": {},
   "outputs": [
    {
     "data": {
      "text/plain": [
       "Timestamp('2021-04-27 00:00:00')"
      ]
     },
     "execution_count": 29,
     "metadata": {},
     "output_type": "execute_result"
    }
   ],
   "source": [
    "d - pd.offsets.Week(normalize=True) # Timestamp('2021-05-11 00:00:00')\n",
    "d - pd.offsets.Week(normalize=True) # Timestamp('2021-04-27 00:00:00')"
   ]
  },
  {
   "cell_type": "code",
   "execution_count": 34,
   "id": "transparent-worship",
   "metadata": {},
   "outputs": [
    {
     "data": {
      "text/plain": [
       "Timestamp('2021-06-30 09:00:00')"
      ]
     },
     "execution_count": 34,
     "metadata": {},
     "output_type": "execute_result"
    }
   ],
   "source": [
    "d + pd.offsets.YearEnd() # Timestamp('2021-12-31 09:00:00')\n",
    "d + pd.offsets.YearEnd(normalize=True) # Timestamp('2021-12-31 00:00:00')\n",
    "d + pd.offsets.YearEnd(month=6) # Timestamp('2021-06-30 09:00:00')"
   ]
  },
  {
   "cell_type": "code",
   "execution_count": 72,
   "id": "global-yemen",
   "metadata": {},
   "outputs": [
    {
     "data": {
      "text/plain": [
       "0   4 days 00:15:00\n",
       "1   4 days 00:15:00\n",
       "2   4 days 00:15:00\n",
       "dtype: timedelta64[ns]"
      ]
     },
     "execution_count": 72,
     "metadata": {},
     "output_type": "execute_result"
    }
   ],
   "source": [
    "rng = pd.date_range(\"2012-01-01\", \"2012-01-03\")\n",
    "s = pd.Series(rng)\n",
    "rng + pd.DateOffset(months=2)\n",
    "s + pd.DateOffset(months=2)\n",
    "s - pd.DateOffset(months=2)\n",
    "\n",
    "s - pd.offsets.Day(2)\n",
    "td = s - pd.Series(pd.date_range('2011.12.28', '2011.12.30'))\n",
    "td + pd.offsets.Minute(15)"
   ]
  },
  {
   "cell_type": "code",
   "execution_count": 58,
   "id": "other-chicken",
   "metadata": {},
   "outputs": [
    {
     "data": {
      "text/plain": [
       "DatetimeIndex(['2021-05-31', '2021-05-31'], dtype='datetime64[ns]', freq=None)"
      ]
     },
     "execution_count": 58,
     "metadata": {},
     "output_type": "execute_result"
    }
   ],
   "source": [
    "d = pd.date_range('2021.05.04', periods=2)\n",
    "d + pd.DateOffset(months=1) ## DatetimeIndex(['2021-06-04', '2021-06-05'], dtype='datetime64[ns]', freq=None)\n",
    "d + pd.offsets.MonthEnd() ## DatetimeIndex(['2021-05-31', '2021-05-31'], dtype='datetime64[ns]', freq=None)"
   ]
  },
  {
   "cell_type": "code",
   "execution_count": 63,
   "id": "personal-brave",
   "metadata": {},
   "outputs": [
    {
     "data": {
      "text/plain": [
       "DatetimeIndex(['2021-05-02', '2021-05-03'], dtype='datetime64[ns]', freq=None)"
      ]
     },
     "execution_count": 63,
     "metadata": {},
     "output_type": "execute_result"
    }
   ],
   "source": [
    "d - pd.offsets.Day(2) ## DatetimeIndex(['2021-05-02', '2021-05-03'], dtype='datetime64[ns]', freq=None)\n",
    "d - pd.DateOffset(2) ## DatetimeIndex(['2021-05-02', '2021-05-03'], dtype='datetime64[ns]', freq=None)"
   ]
  },
  {
   "cell_type": "code",
   "execution_count": 73,
   "id": "exposed-prevention",
   "metadata": {},
   "outputs": [
    {
     "data": {
      "text/plain": [
       "DatetimeIndex(['2012-03-30', '2012-03-30', '2012-03-30'], dtype='datetime64[ns]', freq=None)"
      ]
     },
     "execution_count": 73,
     "metadata": {},
     "output_type": "execute_result"
    }
   ],
   "source": [
    "rng + pd.offsets.BQuarterEnd()"
   ]
  },
  {
   "cell_type": "code",
   "execution_count": 81,
   "id": "executive-somerset",
   "metadata": {},
   "outputs": [
    {
     "data": {
      "text/plain": [
       "Timestamp('2021-04-30 15:00:00')"
      ]
     },
     "execution_count": 81,
     "metadata": {},
     "output_type": "execute_result"
    }
   ],
   "source": [
    "bh = pd.offsets.BusinessHour()\n",
    "# 2014-08-01 is Friday\n",
    "pd.Timestamp(\"2014-08-01 10:00\").weekday() # 4\n",
    "pd.Timestamp(\"2014-08-01 10:00\") + bh # Timestamp('2014-08-01 11:00:00')\n",
    "\n",
    "# Below example is the same as: pd.Timestamp('2014-08-01 09:00') + bh\n",
    "pd.Timestamp(\"2014-08-01 08:00\") + bh # Timestamp('2014-08-01 10:00:00')\n",
    "\n",
    "# If the results is on the end time, move to the next business day\n",
    "pd.Timestamp(\"2014-08-01 16:00\") + bh # Timestamp('2014-08-04 09:00:00')\n",
    "\n",
    "## Remainings are added to the next day\n",
    "pd.Timestamp(\"2014-08-01 16:30\") + bh # Timestamp('2014-08-04 09:30:00')\n",
    "\n",
    "# Adding 2 business hours\n",
    "pd.Timestamp(\"2014-08-01 10:00\") + pd.offsets.BusinessHour(2)\n",
    "\n",
    "# Subtracting 3 business hours\n",
    "pd.Timestamp(\"2021-05-03 10:00\") + pd.offsets.BusinessHour(-3) # Timestamp('2021-04-30 15:00:00')\n"
   ]
  },
  {
   "cell_type": "code",
   "execution_count": 9,
   "id": "duplicate-manchester",
   "metadata": {},
   "outputs": [
    {
     "data": {
      "text/plain": [
       "DatetimeIndex(['2011-01-03', '2011-01-04', '2011-01-05', '2011-01-06',\n",
       "               '2011-01-07', '2011-01-10'],\n",
       "              dtype='datetime64[ns]', freq='B')"
      ]
     },
     "execution_count": 9,
     "metadata": {},
     "output_type": "execute_result"
    }
   ],
   "source": [
    "pd.date_range(start, periods=6, freq=\"B\")\n",
    "pd.date_range(start, periods=6, freq=pd.offsets.BDay())"
   ]
  },
  {
   "cell_type": "code",
   "execution_count": 12,
   "id": "closing-strip",
   "metadata": {},
   "outputs": [
    {
     "data": {
      "text/plain": [
       "DatetimeIndex([       '2011-01-01 00:00:00', '2011-01-02 00:00:00.000010',\n",
       "               '2011-01-03 00:00:00.000020', '2011-01-04 00:00:00.000030',\n",
       "               '2011-01-05 00:00:00.000040', '2011-01-06 00:00:00.000050',\n",
       "               '2011-01-07 00:00:00.000060', '2011-01-08 00:00:00.000070',\n",
       "               '2011-01-09 00:00:00.000080', '2011-01-10 00:00:00.000090'],\n",
       "              dtype='datetime64[ns]', freq='86400000010U')"
      ]
     },
     "execution_count": 12,
     "metadata": {},
     "output_type": "execute_result"
    }
   ],
   "source": [
    "pd.date_range(start, periods=15, freq=\"2h20min\")\n",
    "pd.date_range(start, periods=10, freq=\"1D10U\")"
   ]
  },
  {
   "cell_type": "code",
   "execution_count": 25,
   "id": "sought-anaheim",
   "metadata": {},
   "outputs": [
    {
     "data": {
      "text/plain": [
       "Timestamp('2013-09-30 00:00:00')"
      ]
     },
     "execution_count": 25,
     "metadata": {},
     "output_type": "execute_result"
    }
   ],
   "source": [
    "pd.Timestamp(\"2014-1-2\") + pd.offsets.MonthBegin(n=1) # Timestamp('2014-02-01 00:00:00')\n",
    "pd.Timestamp(\"2014-1-2\") + pd.offsets.MonthEnd(n=1) # Timestamp('2014-01-31 00:00:00')\n",
    "pd.Timestamp(\"2014-1-2\") - pd.offsets.MonthBegin(n=1) # Timestamp('2014-01-01 00:00:00')\n",
    "pd.Timestamp(\"2014-1-2\") - pd.offsets.MonthEnd(n=1) # Timestamp('2013-12-31 00:00:00')\n",
    "pd.Timestamp(\"2014-1-2\") + pd.offsets.MonthBegin(n=4) # Timestamp('2014-05-01 00:00:00')\n",
    "pd.Timestamp(\"2014-1-2\") - pd.offsets.MonthEnd(n=4) # Timestamp('2013-09-30 00:00:00')"
   ]
  },
  {
   "cell_type": "code",
   "execution_count": 129,
   "id": "advance-listing",
   "metadata": {},
   "outputs": [
    {
     "data": {
      "text/plain": [
       "2012-01-01    10\n",
       "2012-01-02     0\n",
       "2012-01-03     1\n",
       "Freq: D, dtype: int64"
      ]
     },
     "execution_count": 129,
     "metadata": {},
     "output_type": "execute_result"
    }
   ],
   "source": [
    "rng = pd.date_range(\"2012-01-01\", \"2012-01-03\")\n",
    "ts = pd.Series(range(len(rng)), index=rng)\n",
    "ts[:5]\n",
    "ts.shift(1)\n",
    "ts.shift(1).bfill()\n",
    "ts.shift(5, freq='D')\n",
    "ts.shift(5, freq=pd.offsets.BDay())\n",
    "ts.shift(5, freq=\"BM\")\n",
    "ts.shift(1, fill_value=10)"
   ]
  },
  {
   "cell_type": "code",
   "execution_count": 50,
   "id": "tight-suggestion",
   "metadata": {},
   "outputs": [
    {
     "data": {
      "text/plain": [
       "2012-01-01    1.0\n",
       "2012-01-02    1.0\n",
       "2012-01-03    3.0\n",
       "2012-01-04    3.0\n",
       "Freq: D, dtype: float64"
      ]
     },
     "execution_count": 50,
     "metadata": {},
     "output_type": "execute_result"
    }
   ],
   "source": [
    "(ts.shift(-1)+ts).ffill()\n",
    "(ts.shift(1, freq='D') + ts).ffill().bfill()"
   ]
  },
  {
   "cell_type": "code",
   "execution_count": 78,
   "id": "manufactured-consequence",
   "metadata": {},
   "outputs": [
    {
     "data": {
      "text/html": [
       "<div>\n",
       "<style scoped>\n",
       "    .dataframe tbody tr th:only-of-type {\n",
       "        vertical-align: middle;\n",
       "    }\n",
       "\n",
       "    .dataframe tbody tr th {\n",
       "        vertical-align: top;\n",
       "    }\n",
       "\n",
       "    .dataframe thead th {\n",
       "        text-align: right;\n",
       "    }\n",
       "</style>\n",
       "<table border=\"1\" class=\"dataframe\">\n",
       "  <thead>\n",
       "    <tr style=\"text-align: right;\">\n",
       "      <th></th>\n",
       "      <th>min</th>\n",
       "      <th>max</th>\n",
       "      <th>mean</th>\n",
       "    </tr>\n",
       "    <tr>\n",
       "      <th>date</th>\n",
       "      <th></th>\n",
       "      <th></th>\n",
       "      <th></th>\n",
       "    </tr>\n",
       "  </thead>\n",
       "  <tbody>\n",
       "    <tr>\n",
       "      <th>2021-05-01</th>\n",
       "      <td>10</td>\n",
       "      <td>20</td>\n",
       "      <td>15</td>\n",
       "    </tr>\n",
       "    <tr>\n",
       "      <th>2021-05-04</th>\n",
       "      <td>15</td>\n",
       "      <td>15</td>\n",
       "      <td>15</td>\n",
       "    </tr>\n",
       "  </tbody>\n",
       "</table>\n",
       "</div>"
      ],
      "text/plain": [
       "            min  max  mean\n",
       "date                      \n",
       "2021-05-01   10   20    15\n",
       "2021-05-04   15   15    15"
      ]
     },
     "execution_count": 78,
     "metadata": {},
     "output_type": "execute_result"
    }
   ],
   "source": [
    "df = pd.DataFrame({\n",
    "    'date':pd.to_datetime('2021.05.01, 2021.05.01, 2021.05.3, 2021.05.4'.split(',')),\n",
    "    'val':[10,20,12,15]\n",
    "})\n",
    "\n",
    "df.groupby('date').val.agg(['min', 'max', 'mean']).asfreq('3D')"
   ]
  },
  {
   "cell_type": "code",
   "execution_count": 103,
   "id": "passive-territory",
   "metadata": {},
   "outputs": [
    {
     "data": {
      "text/html": [
       "<div>\n",
       "<style scoped>\n",
       "    .dataframe tbody tr th:only-of-type {\n",
       "        vertical-align: middle;\n",
       "    }\n",
       "\n",
       "    .dataframe tbody tr th {\n",
       "        vertical-align: top;\n",
       "    }\n",
       "\n",
       "    .dataframe thead th {\n",
       "        text-align: right;\n",
       "    }\n",
       "</style>\n",
       "<table border=\"1\" class=\"dataframe\">\n",
       "  <thead>\n",
       "    <tr style=\"text-align: right;\">\n",
       "      <th></th>\n",
       "      <th>timestamp</th>\n",
       "      <th>v</th>\n",
       "    </tr>\n",
       "  </thead>\n",
       "  <tbody>\n",
       "    <tr>\n",
       "      <th>0</th>\n",
       "      <td>1</td>\n",
       "      <td>5</td>\n",
       "    </tr>\n",
       "    <tr>\n",
       "      <th>1</th>\n",
       "      <td>2</td>\n",
       "      <td>6</td>\n",
       "    </tr>\n",
       "    <tr>\n",
       "      <th>2</th>\n",
       "      <td>6</td>\n",
       "      <td>7</td>\n",
       "    </tr>\n",
       "    <tr>\n",
       "      <th>3</th>\n",
       "      <td>8</td>\n",
       "      <td>8</td>\n",
       "    </tr>\n",
       "  </tbody>\n",
       "</table>\n",
       "</div>"
      ],
      "text/plain": [
       "   timestamp  v\n",
       "0          1  5\n",
       "1          2  6\n",
       "2          6  7\n",
       "3          8  8"
      ]
     },
     "execution_count": 103,
     "metadata": {},
     "output_type": "execute_result"
    }
   ],
   "source": [
    "d=\"\"\"timestamp,v\n",
    "1,5\n",
    "2,6\n",
    "6,7\n",
    "8,8\"\"\"\n",
    "df=pd.read_csv(StringIO(d))\n",
    "df"
   ]
  },
  {
   "cell_type": "code",
   "execution_count": 104,
   "id": "metropolitan-jewel",
   "metadata": {},
   "outputs": [],
   "source": [
    "#df = df.set_index('timestamp')\n",
    "#df.reindex(np.arange(df.index[0], 1+df.index[-1])).ffill().reset_index().astype(int)"
   ]
  },
  {
   "cell_type": "code",
   "execution_count": 123,
   "id": "blind-jewel",
   "metadata": {},
   "outputs": [
    {
     "data": {
      "text/plain": [
       "array([datetime.datetime(2012, 1, 1, 0, 0),\n",
       "       datetime.datetime(2012, 1, 2, 0, 0),\n",
       "       datetime.datetime(2012, 1, 3, 0, 0)], dtype=object)"
      ]
     },
     "execution_count": 123,
     "metadata": {},
     "output_type": "execute_result"
    }
   ],
   "source": [
    "dr = pd.date_range(start='2010.1.1', periods=3, freq=3*pd.offsets.BDay())\n",
    "ts = pd.Series(np.random.randn(3), index=dr)\n",
    "ts.asfreq(pd.offsets.BDay())\n",
    "ts.asfreq(pd.DateOffset(1))\n",
    "ts.asfreq(pd.offsets.BDay()).ffill()\n",
    "ts.asfreq(pd.DateOffset(), method='pad')\n",
    "rng.to_pydatetime()"
   ]
  },
  {
   "cell_type": "markdown",
   "id": "together-verse",
   "metadata": {},
   "source": [
    "# Resampling"
   ]
  },
  {
   "cell_type": "code",
   "execution_count": 34,
   "id": "ordered-optics",
   "metadata": {},
   "outputs": [
    {
     "data": {
      "text/plain": [
       "2011-12-31 23:55:00    139\n",
       "2012-01-01 00:00:00    499\n",
       "2012-01-01 00:05:00    499\n",
       "Freq: 5T, dtype: int64"
      ]
     },
     "execution_count": 34,
     "metadata": {},
     "output_type": "execute_result"
    }
   ],
   "source": [
    "rng = pd.date_range(\"1/1/2012\", periods=400, freq=\"S\")\n",
    "ts = pd.Series(np.random.randint(0, 500, len(rng)), index=rng)\n",
    "ts.resample('5min').sum()\n",
    "ts.resample('5 Min').mean()\n",
    "ts.resample('5 min').ohlc() ## Open high low close\n",
    "ts.resample('5 min').max()\n",
    "\n",
    "ts.resample('5 min', closed='right').max()"
   ]
  },
  {
   "cell_type": "code",
   "execution_count": 26,
   "id": "referenced-coordinator",
   "metadata": {},
   "outputs": [
    {
     "data": {
      "text/plain": [
       "2012-01-01 00:00:00    21\n",
       "2012-01-01 00:05:00    10\n",
       "Freq: 5T, dtype: int64"
      ]
     },
     "execution_count": 26,
     "metadata": {},
     "output_type": "execute_result"
    }
   ],
   "source": [
    "ts.resample('5 min').sum()"
   ]
  },
  {
   "cell_type": "code",
   "execution_count": 28,
   "id": "refined-farmer",
   "metadata": {},
   "outputs": [
    {
     "data": {
      "text/plain": [
       "2011-12-31 23:55:00     8\n",
       "2012-01-01 00:00:00    18\n",
       "2012-01-01 00:05:00     5\n",
       "Freq: 5T, dtype: int64"
      ]
     },
     "execution_count": 28,
     "metadata": {},
     "output_type": "execute_result"
    }
   ],
   "source": [
    "ts.resample('5 min', closed='right').sum()"
   ]
  },
  {
   "cell_type": "code",
   "execution_count": 31,
   "id": "senior-majority",
   "metadata": {},
   "outputs": [
    {
     "name": "stdout",
     "output_type": "stream",
     "text": [
      "2012-01-01 00:00:00    4\n",
      "2012-01-01 00:01:00    3\n",
      "2012-01-01 00:02:00    3\n",
      "2012-01-01 00:03:00    0\n",
      "2012-01-01 00:04:00    4\n",
      "2012-01-01 00:05:00    6\n",
      "2012-01-01 00:06:00    3\n",
      "Freq: T, dtype: int64\n"
     ]
    }
   ],
   "source": [
    "rng = pd.date_range(\"1/1/2012\", periods=7, freq=\"T\")\n",
    "ts = pd.Series(np.random.randint(0, 10, len(rng)), index=rng)\n",
    "print(ts)"
   ]
  },
  {
   "cell_type": "code",
   "execution_count": 32,
   "id": "global-market",
   "metadata": {},
   "outputs": [
    {
     "data": {
      "text/plain": [
       "2012-01-01 00:00:00    14\n",
       "2012-01-01 00:05:00     9\n",
       "Freq: 5T, dtype: int64"
      ]
     },
     "execution_count": 32,
     "metadata": {},
     "output_type": "execute_result"
    }
   ],
   "source": [
    "ts.resample('5 min').sum()"
   ]
  },
  {
   "cell_type": "code",
   "execution_count": 33,
   "id": "convinced-buying",
   "metadata": {},
   "outputs": [
    {
     "data": {
      "text/plain": [
       "2012-01-01 00:05:00    14\n",
       "2012-01-01 00:10:00     9\n",
       "Freq: 5T, dtype: int64"
      ]
     },
     "execution_count": 33,
     "metadata": {},
     "output_type": "execute_result"
    }
   ],
   "source": [
    "ts.resample('5 min', label='right').sum()"
   ]
  },
  {
   "cell_type": "code",
   "execution_count": 22,
   "id": "vertical-border",
   "metadata": {},
   "outputs": [
    {
     "name": "stdout",
     "output_type": "stream",
     "text": [
      "2021-05-08   2021-05-08\n",
      "2021-05-09   2021-05-09\n",
      "2021-05-10          NaT\n",
      "2021-05-11   2021-05-11\n",
      "2021-05-12   2021-05-12\n",
      "Freq: D, dtype: datetime64[ns]\n"
     ]
    },
    {
     "data": {
      "text/plain": [
       "2021-05-10       Sunday\n",
       "2021-05-11      Tuesday\n",
       "2021-05-12    Wednesday\n",
       "Freq: B, dtype: object"
      ]
     },
     "execution_count": 22,
     "metadata": {},
     "output_type": "execute_result"
    }
   ],
   "source": [
    "s = pd.date_range(\"2021-05-08\", \"2021-05-12\").to_series()\n",
    "s.iloc[2] = pd.NaT\n",
    "print(s)\n",
    "s.dt.day_name()\n",
    "# default: label='left', closed='left'\n",
    "s.resample('B', label='right', closed='right', kind='period', convention='end').last().dt.day_name()"
   ]
  },
  {
   "cell_type": "code",
   "execution_count": 31,
   "id": "horizontal-credit",
   "metadata": {},
   "outputs": [
    {
     "name": "stdout",
     "output_type": "stream",
     "text": [
      "2012-01-01 00:00:00    5\n",
      "2012-01-01 00:01:00    3\n",
      "2012-01-01 00:02:00    7\n",
      "2012-01-01 00:03:00    8\n",
      "2012-01-01 00:04:00    9\n",
      "2012-01-01 00:05:00    2\n",
      "2012-01-01 00:06:00    9\n",
      "Freq: T, dtype: int64\n"
     ]
    },
    {
     "data": {
      "text/plain": [
       "2012-01-01 00:00:00.000    5.0\n",
       "2012-01-01 00:00:00.250    5.0\n",
       "2012-01-01 00:00:00.500    5.0\n",
       "2012-01-01 00:00:00.750    NaN\n",
       "2012-01-01 00:00:01.000    NaN\n",
       "                          ... \n",
       "2012-01-01 00:00:59.000    NaN\n",
       "2012-01-01 00:00:59.250    NaN\n",
       "2012-01-01 00:00:59.500    NaN\n",
       "2012-01-01 00:00:59.750    NaN\n",
       "2012-01-01 00:01:00.000    3.0\n",
       "Freq: 250L, Length: 241, dtype: float64"
      ]
     },
     "execution_count": 31,
     "metadata": {},
     "output_type": "execute_result"
    }
   ],
   "source": [
    "rng = pd.date_range(\"1/1/2012\", periods=7, freq=\"T\")\n",
    "ts = pd.Series(np.random.randint(0, 10, len(rng)), index=rng)\n",
    "print(ts)\n",
    "ts[:2].resample('250ms').asfreq()\n",
    "ts[:2].resample('250L').ffill()\n",
    "ts[:2].resample('250L').ffill(limit=2)"
   ]
  },
  {
   "cell_type": "code",
   "execution_count": 38,
   "id": "aware-secretariat",
   "metadata": {},
   "outputs": [
    {
     "name": "stdout",
     "output_type": "stream",
     "text": [
      "2021-01-01 00:00:01    0\n",
      "2021-01-02 00:00:01    1\n",
      "2021-01-03 00:00:01    2\n",
      "2021-01-04 00:00:01    3\n",
      "2021-01-05 00:00:01    4\n",
      "Freq: D, dtype: int64\n"
     ]
    },
    {
     "data": {
      "text/plain": [
       "2021-01-01 00:00:00     0\n",
       "2021-01-01 00:03:00     0\n",
       "2021-01-01 00:06:00     0\n",
       "2021-01-01 00:09:00     0\n",
       "2021-01-01 00:12:00     0\n",
       "                       ..\n",
       "2021-04-09 23:48:00     0\n",
       "2021-04-09 23:51:00     0\n",
       "2021-04-09 23:54:00     0\n",
       "2021-04-09 23:57:00     0\n",
       "2021-04-10 00:00:00    99\n",
       "Freq: 3T, Length: 47521, dtype: int64"
      ]
     },
     "execution_count": 38,
     "metadata": {},
     "output_type": "execute_result"
    }
   ],
   "source": [
    "rng = pd.date_range('2021.01.01', periods=100, freq='D')+pd.Timedelta('1s')\n",
    "ts = pd.Series(range(100), index=rng)\n",
    "print(ts.head())\n",
    "ts.resample('3T').sum()"
   ]
  },
  {
   "cell_type": "code",
   "execution_count": 39,
   "id": "touched-train",
   "metadata": {},
   "outputs": [
    {
     "data": {
      "text/plain": [
       "2021-01-01     0\n",
       "2021-01-02     1\n",
       "2021-01-03     2\n",
       "2021-01-04     3\n",
       "2021-01-05     4\n",
       "              ..\n",
       "2021-04-06    95\n",
       "2021-04-07    96\n",
       "2021-04-08    97\n",
       "2021-04-09    98\n",
       "2021-04-10    99\n",
       "Length: 100, dtype: int64"
      ]
     },
     "execution_count": 39,
     "metadata": {},
     "output_type": "execute_result"
    }
   ],
   "source": [
    "from functools import partial\n",
    "from pandas.tseries.frequencies import to_offset\n",
    "\n",
    "def round(t, freq):\n",
    "    freq=to_offset(freq)\n",
    "    return pd.Timestamp((t.value // freq.delta.value) * freq.delta.value)\n",
    "\n",
    "ts.groupby(partial(round, freq='3T')).sum()"
   ]
  },
  {
   "cell_type": "code",
   "execution_count": 51,
   "id": "asian-object",
   "metadata": {},
   "outputs": [
    {
     "data": {
      "text/html": [
       "<div>\n",
       "<style scoped>\n",
       "    .dataframe tbody tr th:only-of-type {\n",
       "        vertical-align: middle;\n",
       "    }\n",
       "\n",
       "    .dataframe tbody tr th {\n",
       "        vertical-align: top;\n",
       "    }\n",
       "\n",
       "    .dataframe thead tr th {\n",
       "        text-align: left;\n",
       "    }\n",
       "</style>\n",
       "<table border=\"1\" class=\"dataframe\">\n",
       "  <thead>\n",
       "    <tr>\n",
       "      <th></th>\n",
       "      <th colspan=\"2\" halign=\"left\">A</th>\n",
       "      <th colspan=\"2\" halign=\"left\">B</th>\n",
       "    </tr>\n",
       "    <tr>\n",
       "      <th></th>\n",
       "      <th>sum</th>\n",
       "      <th>std</th>\n",
       "      <th>mean</th>\n",
       "      <th>std</th>\n",
       "    </tr>\n",
       "  </thead>\n",
       "  <tbody>\n",
       "    <tr>\n",
       "      <th>2021-01-01 00:00:00</th>\n",
       "      <td>14.400662</td>\n",
       "      <td>1.001800</td>\n",
       "      <td>0.022925</td>\n",
       "      <td>1.019458</td>\n",
       "    </tr>\n",
       "    <tr>\n",
       "      <th>2021-01-01 00:03:00</th>\n",
       "      <td>7.374114</td>\n",
       "      <td>1.040298</td>\n",
       "      <td>0.097669</td>\n",
       "      <td>0.953981</td>\n",
       "    </tr>\n",
       "    <tr>\n",
       "      <th>2021-01-01 00:06:00</th>\n",
       "      <td>-2.553018</td>\n",
       "      <td>1.033722</td>\n",
       "      <td>0.017430</td>\n",
       "      <td>0.946406</td>\n",
       "    </tr>\n",
       "    <tr>\n",
       "      <th>2021-01-01 00:09:00</th>\n",
       "      <td>3.588850</td>\n",
       "      <td>0.994004</td>\n",
       "      <td>0.018482</td>\n",
       "      <td>0.966622</td>\n",
       "    </tr>\n",
       "    <tr>\n",
       "      <th>2021-01-01 00:12:00</th>\n",
       "      <td>-10.026925</td>\n",
       "      <td>0.936898</td>\n",
       "      <td>-0.013714</td>\n",
       "      <td>1.104745</td>\n",
       "    </tr>\n",
       "    <tr>\n",
       "      <th>2021-01-01 00:15:00</th>\n",
       "      <td>5.662840</td>\n",
       "      <td>0.975147</td>\n",
       "      <td>-0.168076</td>\n",
       "      <td>0.988928</td>\n",
       "    </tr>\n",
       "  </tbody>\n",
       "</table>\n",
       "</div>"
      ],
      "text/plain": [
       "                             A                   B          \n",
       "                           sum       std      mean       std\n",
       "2021-01-01 00:00:00  14.400662  1.001800  0.022925  1.019458\n",
       "2021-01-01 00:03:00   7.374114  1.040298  0.097669  0.953981\n",
       "2021-01-01 00:06:00  -2.553018  1.033722  0.017430  0.946406\n",
       "2021-01-01 00:09:00   3.588850  0.994004  0.018482  0.966622\n",
       "2021-01-01 00:12:00 -10.026925  0.936898 -0.013714  1.104745\n",
       "2021-01-01 00:15:00   5.662840  0.975147 -0.168076  0.988928"
      ]
     },
     "execution_count": 51,
     "metadata": {},
     "output_type": "execute_result"
    }
   ],
   "source": [
    "df = pd.DataFrame(\n",
    "    np.random.randn(1000,3),\n",
    "    index=pd.date_range('2021.01.01', periods=1000, freq='S'),\n",
    "    columns=['A','B','C']\n",
    ")\n",
    "r = df.resample('3T')\n",
    "r.mean()\n",
    "\n",
    "r.A.mean()\n",
    "r[['A','B']].mean()\n",
    "\n",
    "r.A.agg([np.sum, np.mean, np.std])\n",
    "r.agg([np.sum, np.mean])\n",
    "\n",
    "r.agg({'A':np.sum, 'B':lambda x:np.std(x, ddof=1)})\n",
    "\n",
    "r.agg({'A':['sum', 'std'], 'B':['mean', 'std']})"
   ]
  },
  {
   "cell_type": "code",
   "execution_count": 54,
   "id": "trained-guatemala",
   "metadata": {},
   "outputs": [
    {
     "data": {
      "text/html": [
       "<div>\n",
       "<style scoped>\n",
       "    .dataframe tbody tr th:only-of-type {\n",
       "        vertical-align: middle;\n",
       "    }\n",
       "\n",
       "    .dataframe tbody tr th {\n",
       "        vertical-align: top;\n",
       "    }\n",
       "\n",
       "    .dataframe thead th {\n",
       "        text-align: right;\n",
       "    }\n",
       "</style>\n",
       "<table border=\"1\" class=\"dataframe\">\n",
       "  <thead>\n",
       "    <tr style=\"text-align: right;\">\n",
       "      <th></th>\n",
       "      <th>a</th>\n",
       "    </tr>\n",
       "    <tr>\n",
       "      <th>date</th>\n",
       "      <th></th>\n",
       "    </tr>\n",
       "  </thead>\n",
       "  <tbody>\n",
       "    <tr>\n",
       "      <th>2015-01-31</th>\n",
       "      <td>6</td>\n",
       "    </tr>\n",
       "    <tr>\n",
       "      <th>2015-02-28</th>\n",
       "      <td>4</td>\n",
       "    </tr>\n",
       "  </tbody>\n",
       "</table>\n",
       "</div>"
      ],
      "text/plain": [
       "            a\n",
       "date         \n",
       "2015-01-31  6\n",
       "2015-02-28  4"
      ]
     },
     "execution_count": 54,
     "metadata": {},
     "output_type": "execute_result"
    }
   ],
   "source": [
    "df = pd.DataFrame({\n",
    "    \"date\": pd.date_range(\"2015-01-01\", freq=\"W\", periods=5), \n",
    "    \"a\": np.arange(5)},\n",
    "    index=pd.MultiIndex.from_arrays([[1, 2, 3, 4, 5], pd.date_range(\"2015-01-01\", freq=\"W\", periods=5)],\n",
    "        names=[\"v\", \"d\"],)\n",
    ")\n",
    "df.resample('M',on='date').sum()\n"
   ]
  },
  {
   "cell_type": "code",
   "execution_count": 5,
   "id": "instructional-point",
   "metadata": {},
   "outputs": [
    {
     "name": "stdout",
     "output_type": "stream",
     "text": [
      "Group:  2017-01-01 00:00:00\n",
      "---------------------------\n",
      "2017-01-01 00:00:00    0\n",
      "2017-01-01 00:30:00    1\n",
      "2017-01-01 00:31:00    2\n",
      "dtype: int64\n",
      "\n",
      "Group:  2017-01-01 01:00:00\n",
      "---------------------------\n",
      "2017-01-01 01:00:00    3\n",
      "dtype: int64\n",
      "\n",
      "Group:  2017-01-01 02:00:00\n",
      "---------------------------\n",
      "Series([], dtype: int64)\n",
      "\n",
      "Group:  2017-01-01 03:00:00\n",
      "---------------------------\n",
      "2017-01-01 03:00:00    4\n",
      "2017-01-01 03:05:00    5\n",
      "dtype: int64\n",
      "\n"
     ]
    }
   ],
   "source": [
    "small = pd.Series(range(6),\n",
    "                 index=pd.to_datetime([\n",
    "                     \"2017-01-01T00:00:00\",\n",
    "                     \"2017-01-01T00:30:00\",\n",
    "                     \"2017-01-01T00:31:00\",\n",
    "                     \"2017-01-01T01:00:00\",\n",
    "                     \"2017-01-01T03:00:00\",\n",
    "                     \"2017-01-01T03:05:00\",\n",
    "                 ]))\n",
    "resampled = small.resample('H')\n",
    "for name, group in resampled:\n",
    "    print(\"Group: \", name)\n",
    "    print(\"-\"*27)\n",
    "    print(group, end=\"\\n\\n\")"
   ]
  },
  {
   "cell_type": "code",
   "execution_count": 7,
   "id": "familiar-racing",
   "metadata": {},
   "outputs": [
    {
     "data": {
      "text/plain": [
       "2000-10-01 23:30:00     0\n",
       "2000-10-01 23:37:00     3\n",
       "2000-10-01 23:44:00     6\n",
       "2000-10-01 23:51:00     9\n",
       "2000-10-01 23:58:00    12\n",
       "2000-10-02 00:05:00    15\n",
       "2000-10-02 00:12:00    18\n",
       "2000-10-02 00:19:00    21\n",
       "2000-10-02 00:26:00    24\n",
       "Freq: 7T, dtype: int64"
      ]
     },
     "execution_count": 7,
     "metadata": {},
     "output_type": "execute_result"
    }
   ],
   "source": [
    "start, end = \"2000-10-01 23:30:00\", \"2000-10-02 00:30:00\"\n",
    "middle = \"2000-10-02 00:00:00\"\n",
    "rng = pd.date_range(start, end, freq=\"7min\")\n",
    "ts = pd.Series(np.arange(len(rng)) * 3, index=rng)\n",
    "ts"
   ]
  },
  {
   "cell_type": "code",
   "execution_count": 9,
   "id": "white-requirement",
   "metadata": {},
   "outputs": [
    {
     "data": {
      "text/plain": [
       "2000-10-01 23:14:00     0\n",
       "2000-10-01 23:31:00     9\n",
       "2000-10-01 23:48:00    21\n",
       "2000-10-02 00:05:00    54\n",
       "2000-10-02 00:22:00    24\n",
       "Freq: 17T, dtype: int64"
      ]
     },
     "execution_count": 9,
     "metadata": {},
     "output_type": "execute_result"
    }
   ],
   "source": [
    "ts.resample('17min', origin=\"start_day\").sum()"
   ]
  },
  {
   "cell_type": "code",
   "execution_count": 12,
   "id": "alike-tradition",
   "metadata": {},
   "outputs": [
    {
     "data": {
      "text/plain": [
       "2000-10-02 00:00:00    33\n",
       "2000-10-02 00:17:00    45\n",
       "Freq: 17T, dtype: int64"
      ]
     },
     "execution_count": 12,
     "metadata": {},
     "output_type": "execute_result"
    }
   ],
   "source": [
    "ts[middle:end].resample('17min', origin=\"start_day\").sum()"
   ]
  },
  {
   "cell_type": "code",
   "execution_count": 14,
   "id": "moral-ranch",
   "metadata": {},
   "outputs": [
    {
     "data": {
      "text/plain": [
       "2000-10-01 23:52:00    15\n",
       "2000-10-02 00:09:00    39\n",
       "2000-10-02 00:26:00    24\n",
       "Freq: 17T, dtype: int64"
      ]
     },
     "execution_count": 14,
     "metadata": {},
     "output_type": "execute_result"
    }
   ],
   "source": [
    "ts.resample(\"17min\", origin=\"epoch\").sum()\n",
    "ts[middle:end].resample(\"17min\", origin=\"epoch\").sum()"
   ]
  },
  {
   "cell_type": "markdown",
   "id": "respective-weekly",
   "metadata": {},
   "source": [
    "# 2.19.11 Time span representation"
   ]
  },
  {
   "cell_type": "code",
   "execution_count": 50,
   "id": "attached-rough",
   "metadata": {},
   "outputs": [
    {
     "data": {
      "text/plain": [
       "Period('2014-07-01 11:00', 'H')"
      ]
     },
     "execution_count": 50,
     "metadata": {},
     "output_type": "execute_result"
    }
   ],
   "source": [
    "p = pd.Period(\"2014-07-01 09:00\", freq=\"H\")\n",
    "p + pd.offsets.Hour(1)\n",
    "p + pd.Timedelta(minutes=120)"
   ]
  },
  {
   "cell_type": "code",
   "execution_count": 53,
   "id": "sharp-poland",
   "metadata": {},
   "outputs": [
    {
     "data": {
      "text/plain": [
       "PeriodIndex(['2016-01-31', '2016-02-29', '2016-03-31'], dtype='period[D]', freq='D')"
      ]
     },
     "execution_count": 53,
     "metadata": {},
     "output_type": "execute_result"
    }
   ],
   "source": [
    "pi = pd.period_range(\"2016-01\", periods=3, freq=\"M\")\n",
    "pi.dtype # period[M]\n",
    "pi.astype(\"period[D]\")"
   ]
  },
  {
   "cell_type": "code",
   "execution_count": 24,
   "id": "recent-highway",
   "metadata": {},
   "outputs": [
    {
     "data": {
      "text/plain": [
       "2011-01   -1.784246\n",
       "2011-01    1.002748\n",
       "2011-01   -0.245326\n",
       "2011-01   -0.460938\n",
       "2011-01   -0.768607\n",
       "2011-01    0.358795\n",
       "2011-01    0.285641\n",
       "2011-01    1.091806\n",
       "2011-01   -0.228718\n",
       "2011-01    0.086235\n",
       "2011-01    1.443418\n",
       "2011-01    2.123803\n",
       "2011-01   -1.243685\n",
       "2011-01    1.084482\n",
       "2011-01   -0.632281\n",
       "2011-01    0.350900\n",
       "2011-01    1.755111\n",
       "2011-01   -1.435417\n",
       "2011-01   -0.270419\n",
       "2011-01    1.114668\n",
       "2011-01   -1.195593\n",
       "2011-01    1.053937\n",
       "2011-01   -1.521411\n",
       "2011-01    0.375012\n",
       "2011-01   -0.022119\n",
       "2011-01    0.406801\n",
       "2011-01    1.454101\n",
       "2011-01    0.030884\n",
       "2011-01    1.377780\n",
       "2011-01    0.524127\n",
       "2011-01   -0.405650\n",
       "Freq: M, dtype: float64"
      ]
     },
     "execution_count": 24,
     "metadata": {},
     "output_type": "execute_result"
    }
   ],
   "source": [
    "idx = pd.period_range('2010.12.01', periods=90, freq='D')\n",
    "ps = pd.Series(np.random.randn(len(idx)), idx)\n",
    "ps[\"2011-01\"]\n",
    "ps.index = ps.index.astype('Period[M]')\n",
    "ps[\"2011-01\"]"
   ]
  },
  {
   "cell_type": "code",
   "execution_count": 25,
   "id": "artificial-there",
   "metadata": {},
   "outputs": [
    {
     "data": {
      "text/plain": [
       "2011-12    0.758171\n",
       "2012-01    1.057903\n",
       "Freq: M, dtype: float64"
      ]
     },
     "execution_count": 25,
     "metadata": {},
     "output_type": "execute_result"
    }
   ],
   "source": [
    "prng = pd.period_range(\"1/1/2011\", \"1/1/2012\", freq=\"M\")\n",
    "ps = pd.Series(np.random.randn(len(prng)), prng)\n",
    "ps\n",
    "ps[datetime.datetime(2011, 12, 25):]"
   ]
  },
  {
   "cell_type": "code",
   "execution_count": 28,
   "id": "surprised-humanity",
   "metadata": {},
   "outputs": [
    {
     "data": {
      "text/html": [
       "<div>\n",
       "<style scoped>\n",
       "    .dataframe tbody tr th:only-of-type {\n",
       "        vertical-align: middle;\n",
       "    }\n",
       "\n",
       "    .dataframe tbody tr th {\n",
       "        vertical-align: top;\n",
       "    }\n",
       "\n",
       "    .dataframe thead th {\n",
       "        text-align: right;\n",
       "    }\n",
       "</style>\n",
       "<table border=\"1\" class=\"dataframe\">\n",
       "  <thead>\n",
       "    <tr style=\"text-align: right;\">\n",
       "      <th></th>\n",
       "      <th>A</th>\n",
       "    </tr>\n",
       "  </thead>\n",
       "  <tbody>\n",
       "    <tr>\n",
       "      <th>2013-01-01 10:00</th>\n",
       "      <td>-0.669510</td>\n",
       "    </tr>\n",
       "    <tr>\n",
       "      <th>2013-01-01 10:01</th>\n",
       "      <td>1.503684</td>\n",
       "    </tr>\n",
       "    <tr>\n",
       "      <th>2013-01-01 10:02</th>\n",
       "      <td>2.527649</td>\n",
       "    </tr>\n",
       "    <tr>\n",
       "      <th>2013-01-01 10:03</th>\n",
       "      <td>0.614396</td>\n",
       "    </tr>\n",
       "    <tr>\n",
       "      <th>2013-01-01 10:04</th>\n",
       "      <td>0.267301</td>\n",
       "    </tr>\n",
       "    <tr>\n",
       "      <th>...</th>\n",
       "      <td>...</td>\n",
       "    </tr>\n",
       "    <tr>\n",
       "      <th>2013-01-01 11:55</th>\n",
       "      <td>-0.107227</td>\n",
       "    </tr>\n",
       "    <tr>\n",
       "      <th>2013-01-01 11:56</th>\n",
       "      <td>0.238709</td>\n",
       "    </tr>\n",
       "    <tr>\n",
       "      <th>2013-01-01 11:57</th>\n",
       "      <td>-0.334831</td>\n",
       "    </tr>\n",
       "    <tr>\n",
       "      <th>2013-01-01 11:58</th>\n",
       "      <td>-0.690552</td>\n",
       "    </tr>\n",
       "    <tr>\n",
       "      <th>2013-01-01 11:59</th>\n",
       "      <td>-0.190729</td>\n",
       "    </tr>\n",
       "  </tbody>\n",
       "</table>\n",
       "<p>120 rows × 1 columns</p>\n",
       "</div>"
      ],
      "text/plain": [
       "                         A\n",
       "2013-01-01 10:00 -0.669510\n",
       "2013-01-01 10:01  1.503684\n",
       "2013-01-01 10:02  2.527649\n",
       "2013-01-01 10:03  0.614396\n",
       "2013-01-01 10:04  0.267301\n",
       "...                    ...\n",
       "2013-01-01 11:55 -0.107227\n",
       "2013-01-01 11:56  0.238709\n",
       "2013-01-01 11:57 -0.334831\n",
       "2013-01-01 11:58 -0.690552\n",
       "2013-01-01 11:59 -0.190729\n",
       "\n",
       "[120 rows x 1 columns]"
      ]
     },
     "execution_count": 28,
     "metadata": {},
     "output_type": "execute_result"
    }
   ],
   "source": [
    "dfp = pd.DataFrame(\n",
    "    np.random.randn(600, 1),\n",
    "    columns=[\"A\"],\n",
    "    index=pd.period_range(\"2013-01-01 9:00\", periods=600, freq=\"T\"),\n",
    ")\n",
    "dfp\n",
    "dfp.loc[\"2013-01-01 10H\"]\n",
    "dfp[\"2013-01-01 10H\":\"2013-01-01 11H\"]\n"
   ]
  },
  {
   "cell_type": "code",
   "execution_count": 29,
   "id": "structural-collapse",
   "metadata": {},
   "outputs": [
    {
     "data": {
      "text/plain": [
       "Period('2011', 'A-DEC')"
      ]
     },
     "execution_count": 29,
     "metadata": {},
     "output_type": "execute_result"
    }
   ],
   "source": [
    "p = pd.Period(\"2011\", freq=\"A-DEC\")\n",
    "p"
   ]
  },
  {
   "cell_type": "code",
   "execution_count": 48,
   "id": "corporate-party",
   "metadata": {},
   "outputs": [
    {
     "data": {
      "text/plain": [
       "2012-01-01    0.669606\n",
       "2012-02-01   -1.298809\n",
       "2012-03-01    0.125460\n",
       "2012-04-01   -0.089577\n",
       "2012-05-01   -1.784285\n",
       "Freq: MS, dtype: float64"
      ]
     },
     "execution_count": 48,
     "metadata": {},
     "output_type": "execute_result"
    }
   ],
   "source": [
    "rng = pd.date_range(\"1/1/2012\", periods=5, freq=\"M\")\n",
    "ts = pd.Series(np.random.randn(len(rng)), index=rng)\n",
    "ps = ts.to_period()\n",
    "ps.to_timestamp('D',how='e')\n",
    "ps.to_timestamp('D',how='e').index.date\n",
    "ps.to_timestamp(\"D\", how=\"s\")"
   ]
  },
  {
   "cell_type": "code",
   "execution_count": 50,
   "id": "proud-cleveland",
   "metadata": {},
   "outputs": [
    {
     "data": {
      "text/html": [
       "<div>\n",
       "<style scoped>\n",
       "    .dataframe tbody tr th:only-of-type {\n",
       "        vertical-align: middle;\n",
       "    }\n",
       "\n",
       "    .dataframe tbody tr th {\n",
       "        vertical-align: top;\n",
       "    }\n",
       "\n",
       "    .dataframe thead th {\n",
       "        text-align: right;\n",
       "    }\n",
       "</style>\n",
       "<table border=\"1\" class=\"dataframe\">\n",
       "  <thead>\n",
       "    <tr style=\"text-align: right;\">\n",
       "      <th></th>\n",
       "      <th>power</th>\n",
       "    </tr>\n",
       "  </thead>\n",
       "  <tbody>\n",
       "    <tr>\n",
       "      <th>2020-05-04 08:00:00</th>\n",
       "      <td>1.0</td>\n",
       "    </tr>\n",
       "    <tr>\n",
       "      <th>2020-05-04 09:00:00</th>\n",
       "      <td>2.0</td>\n",
       "    </tr>\n",
       "    <tr>\n",
       "      <th>2020-05-04 10:00:00</th>\n",
       "      <td>3.0</td>\n",
       "    </tr>\n",
       "    <tr>\n",
       "      <th>2020-05-04 11:00:00</th>\n",
       "      <td>4.0</td>\n",
       "    </tr>\n",
       "    <tr>\n",
       "      <th>2020-05-04 12:00:00</th>\n",
       "      <td>5.0</td>\n",
       "    </tr>\n",
       "    <tr>\n",
       "      <th>2020-05-04 13:00:00</th>\n",
       "      <td>6.0</td>\n",
       "    </tr>\n",
       "    <tr>\n",
       "      <th>2020-05-04 14:00:00</th>\n",
       "      <td>7.0</td>\n",
       "    </tr>\n",
       "    <tr>\n",
       "      <th>2020-05-04 15:00:00</th>\n",
       "      <td>8.0</td>\n",
       "    </tr>\n",
       "  </tbody>\n",
       "</table>\n",
       "</div>"
      ],
      "text/plain": [
       "                     power\n",
       "2020-05-04 08:00:00    1.0\n",
       "2020-05-04 09:00:00    2.0\n",
       "2020-05-04 10:00:00    3.0\n",
       "2020-05-04 11:00:00    4.0\n",
       "2020-05-04 12:00:00    5.0\n",
       "2020-05-04 13:00:00    6.0\n",
       "2020-05-04 14:00:00    7.0\n",
       "2020-05-04 15:00:00    8.0"
      ]
     },
     "execution_count": 50,
     "metadata": {},
     "output_type": "execute_result"
    }
   ],
   "source": [
    "df = pd.DataFrame({'power':np.arange(1.0,9.0)},index=pd.date_range(start='2020-05-04 08:00:00', freq='1h', periods=8))\n",
    "df"
   ]
  },
  {
   "cell_type": "code",
   "execution_count": 51,
   "id": "smaller-replication",
   "metadata": {},
   "outputs": [
    {
     "data": {
      "text/plain": [
       "2020-05-04    36.0\n",
       "Freq: D, Name: power, dtype: float64"
      ]
     },
     "execution_count": 51,
     "metadata": {},
     "output_type": "execute_result"
    }
   ],
   "source": [
    "df['power'].resample('1D').sum()  "
   ]
  },
  {
   "cell_type": "code",
   "execution_count": 52,
   "id": "infrared-boulder",
   "metadata": {},
   "outputs": [
    {
     "data": {
      "text/plain": [
       "PeriodIndex(['1215-01-01', '1215-01-02', '1215-01-03', '1215-01-04',\n",
       "             '1215-01-05', '1215-01-06', '1215-01-07', '1215-01-08',\n",
       "             '1215-01-09', '1215-01-10',\n",
       "             ...\n",
       "             '1380-12-23', '1380-12-24', '1380-12-25', '1380-12-26',\n",
       "             '1380-12-27', '1380-12-28', '1380-12-29', '1380-12-30',\n",
       "             '1380-12-31', '1381-01-01'],\n",
       "            dtype='period[D]', length=60632, freq='D')"
      ]
     },
     "execution_count": 52,
     "metadata": {},
     "output_type": "execute_result"
    }
   ],
   "source": [
    "span=pd.period_range(\"1215.01.01\", '1381.01.01', freq='D')\n",
    "span"
   ]
  },
  {
   "cell_type": "code",
   "execution_count": 60,
   "id": "graduate-immigration",
   "metadata": {},
   "outputs": [
    {
     "data": {
      "text/plain": [
       "0    2012-12-31\n",
       "1    2014-11-30\n",
       "2    9999-12-31\n",
       "dtype: period[D]"
      ]
     },
     "execution_count": 60,
     "metadata": {},
     "output_type": "execute_result"
    }
   ],
   "source": [
    "s=pd.Series([20121231, 20141130, 99991231])\n",
    "\n",
    "def conv(x):\n",
    "    return pd.Period(year=x//10000, month=x/100%100, day=x%100, freq='D')\n",
    "\n",
    "s.apply(conv)"
   ]
  },
  {
   "cell_type": "code",
   "execution_count": 59,
   "id": "invisible-syracuse",
   "metadata": {},
   "outputs": [
    {
     "data": {
      "text/plain": [
       "30"
      ]
     },
     "execution_count": 59,
     "metadata": {},
     "output_type": "execute_result"
    }
   ],
   "source": [
    "20141130%100"
   ]
  },
  {
   "cell_type": "code",
   "execution_count": 61,
   "id": "presidential-thread",
   "metadata": {},
   "outputs": [
    {
     "data": {
      "text/plain": [
       "PeriodIndex(['2012-12-31', '2014-11-30', '9999-12-31'], dtype='period[D]', freq='D')"
      ]
     },
     "execution_count": 61,
     "metadata": {},
     "output_type": "execute_result"
    }
   ],
   "source": [
    "span = pd.PeriodIndex(s.apply(conv))\n",
    "span"
   ]
  },
  {
   "cell_type": "code",
   "execution_count": null,
   "id": "mysterious-technology",
   "metadata": {},
   "outputs": [],
   "source": []
  }
 ],
 "metadata": {
  "kernelspec": {
   "display_name": "Python (myenv)",
   "language": "python",
   "name": "myenv"
  },
  "language_info": {
   "codemirror_mode": {
    "name": "ipython",
    "version": 3
   },
   "file_extension": ".py",
   "mimetype": "text/x-python",
   "name": "python",
   "nbconvert_exporter": "python",
   "pygments_lexer": "ipython3",
   "version": "3.9.1"
  }
 },
 "nbformat": 4,
 "nbformat_minor": 5
}
