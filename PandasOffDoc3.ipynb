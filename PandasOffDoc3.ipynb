{
 "cells": [
  {
   "cell_type": "code",
   "execution_count": 1,
   "id": "sacred-foster",
   "metadata": {},
   "outputs": [],
   "source": [
    "%matplotlib inline\n",
    "import numpy as np\n",
    "import numpy.ma as ma\n",
    "import pandas as pd\n",
    "from pandas import DataFrame, Series\n",
    "import matplotlib.pyplot as plt\n",
    "import seaborn as sns\n",
    "import timeit\n",
    "import line_profiler\n",
    "\n",
    "import datetime\n",
    "\n",
    "from io import StringIO\n",
    "from pandas.api.types import CategoricalDtype\n",
    "\n",
    "import pandas._testing as tm"
   ]
  },
  {
   "cell_type": "markdown",
   "id": "manual-complex",
   "metadata": {},
   "source": [
    "# Pivot PivotTable stack unstack melt explode"
   ]
  },
  {
   "cell_type": "code",
   "execution_count": 22,
   "id": "controversial-roman",
   "metadata": {},
   "outputs": [
    {
     "data": {
      "text/html": [
       "<div>\n",
       "<style scoped>\n",
       "    .dataframe tbody tr th:only-of-type {\n",
       "        vertical-align: middle;\n",
       "    }\n",
       "\n",
       "    .dataframe tbody tr th {\n",
       "        vertical-align: top;\n",
       "    }\n",
       "\n",
       "    .dataframe thead th {\n",
       "        text-align: right;\n",
       "    }\n",
       "</style>\n",
       "<table border=\"1\" class=\"dataframe\">\n",
       "  <thead>\n",
       "    <tr style=\"text-align: right;\">\n",
       "      <th></th>\n",
       "      <th>date</th>\n",
       "      <th>variable</th>\n",
       "      <th>value</th>\n",
       "    </tr>\n",
       "  </thead>\n",
       "  <tbody>\n",
       "    <tr>\n",
       "      <th>0</th>\n",
       "      <td>2000-01-03</td>\n",
       "      <td>A</td>\n",
       "      <td>-1.129489</td>\n",
       "    </tr>\n",
       "    <tr>\n",
       "      <th>1</th>\n",
       "      <td>2000-01-04</td>\n",
       "      <td>A</td>\n",
       "      <td>0.884005</td>\n",
       "    </tr>\n",
       "    <tr>\n",
       "      <th>2</th>\n",
       "      <td>2000-01-05</td>\n",
       "      <td>A</td>\n",
       "      <td>0.602088</td>\n",
       "    </tr>\n",
       "    <tr>\n",
       "      <th>3</th>\n",
       "      <td>2000-01-03</td>\n",
       "      <td>B</td>\n",
       "      <td>0.132881</td>\n",
       "    </tr>\n",
       "    <tr>\n",
       "      <th>4</th>\n",
       "      <td>2000-01-04</td>\n",
       "      <td>B</td>\n",
       "      <td>-1.495405</td>\n",
       "    </tr>\n",
       "  </tbody>\n",
       "</table>\n",
       "</div>"
      ],
      "text/plain": [
       "        date variable     value\n",
       "0 2000-01-03        A -1.129489\n",
       "1 2000-01-04        A  0.884005\n",
       "2 2000-01-05        A  0.602088\n",
       "3 2000-01-03        B  0.132881\n",
       "4 2000-01-04        B -1.495405"
      ]
     },
     "execution_count": 22,
     "metadata": {},
     "output_type": "execute_result"
    }
   ],
   "source": [
    "def unpivot(frame):\n",
    "    N, K = frame.shape\n",
    "    data = {\n",
    "        \"value\":frame.to_numpy().ravel(\"F\"),\n",
    "        \"variable\":np.asarray(frame.columns).repeat(N),\n",
    "        \"date\":np.tile(np.asarray(frame.index), K)\n",
    "    }\n",
    "    return pd.DataFrame(data, columns=['date', 'variable', 'value'])\n",
    "\n",
    "df = unpivot(tm.makeTimeDataFrame(3))\n",
    "df.head()"
   ]
  },
  {
   "cell_type": "code",
   "execution_count": 26,
   "id": "single-development",
   "metadata": {},
   "outputs": [
    {
     "data": {
      "text/html": [
       "<div>\n",
       "<style scoped>\n",
       "    .dataframe tbody tr th:only-of-type {\n",
       "        vertical-align: middle;\n",
       "    }\n",
       "\n",
       "    .dataframe tbody tr th {\n",
       "        vertical-align: top;\n",
       "    }\n",
       "\n",
       "    .dataframe thead th {\n",
       "        text-align: right;\n",
       "    }\n",
       "</style>\n",
       "<table border=\"1\" class=\"dataframe\">\n",
       "  <thead>\n",
       "    <tr style=\"text-align: right;\">\n",
       "      <th>variable</th>\n",
       "      <th>A</th>\n",
       "      <th>B</th>\n",
       "      <th>C</th>\n",
       "      <th>D</th>\n",
       "    </tr>\n",
       "    <tr>\n",
       "      <th>date</th>\n",
       "      <th></th>\n",
       "      <th></th>\n",
       "      <th></th>\n",
       "      <th></th>\n",
       "    </tr>\n",
       "  </thead>\n",
       "  <tbody>\n",
       "    <tr>\n",
       "      <th>2000-01-03</th>\n",
       "      <td>-1.129489</td>\n",
       "      <td>0.132881</td>\n",
       "      <td>-0.675755</td>\n",
       "      <td>-0.330380</td>\n",
       "    </tr>\n",
       "    <tr>\n",
       "      <th>2000-01-04</th>\n",
       "      <td>0.884005</td>\n",
       "      <td>-1.495405</td>\n",
       "      <td>0.270740</td>\n",
       "      <td>-1.124825</td>\n",
       "    </tr>\n",
       "    <tr>\n",
       "      <th>2000-01-05</th>\n",
       "      <td>0.602088</td>\n",
       "      <td>0.875596</td>\n",
       "      <td>-1.324956</td>\n",
       "      <td>-0.294233</td>\n",
       "    </tr>\n",
       "  </tbody>\n",
       "</table>\n",
       "</div>"
      ],
      "text/plain": [
       "variable           A         B         C         D\n",
       "date                                              \n",
       "2000-01-03 -1.129489  0.132881 -0.675755 -0.330380\n",
       "2000-01-04  0.884005 -1.495405  0.270740 -1.124825\n",
       "2000-01-05  0.602088  0.875596 -1.324956 -0.294233"
      ]
     },
     "execution_count": 26,
     "metadata": {},
     "output_type": "execute_result"
    }
   ],
   "source": [
    "df.pivot(index='date', columns='variable', values='value')"
   ]
  },
  {
   "cell_type": "code",
   "execution_count": 27,
   "id": "serial-platinum",
   "metadata": {},
   "outputs": [
    {
     "data": {
      "text/html": [
       "<div>\n",
       "<style scoped>\n",
       "    .dataframe tbody tr th:only-of-type {\n",
       "        vertical-align: middle;\n",
       "    }\n",
       "\n",
       "    .dataframe tbody tr th {\n",
       "        vertical-align: top;\n",
       "    }\n",
       "\n",
       "    .dataframe thead th {\n",
       "        text-align: right;\n",
       "    }\n",
       "</style>\n",
       "<table border=\"1\" class=\"dataframe\">\n",
       "  <thead>\n",
       "    <tr style=\"text-align: right;\">\n",
       "      <th></th>\n",
       "      <th>date</th>\n",
       "      <th>variable</th>\n",
       "      <th>value</th>\n",
       "      <th>value2</th>\n",
       "    </tr>\n",
       "  </thead>\n",
       "  <tbody>\n",
       "    <tr>\n",
       "      <th>0</th>\n",
       "      <td>2000-01-03</td>\n",
       "      <td>A</td>\n",
       "      <td>-1.129489</td>\n",
       "      <td>-2.258979</td>\n",
       "    </tr>\n",
       "    <tr>\n",
       "      <th>1</th>\n",
       "      <td>2000-01-04</td>\n",
       "      <td>A</td>\n",
       "      <td>0.884005</td>\n",
       "      <td>1.768011</td>\n",
       "    </tr>\n",
       "    <tr>\n",
       "      <th>2</th>\n",
       "      <td>2000-01-05</td>\n",
       "      <td>A</td>\n",
       "      <td>0.602088</td>\n",
       "      <td>1.204176</td>\n",
       "    </tr>\n",
       "    <tr>\n",
       "      <th>3</th>\n",
       "      <td>2000-01-03</td>\n",
       "      <td>B</td>\n",
       "      <td>0.132881</td>\n",
       "      <td>0.265763</td>\n",
       "    </tr>\n",
       "    <tr>\n",
       "      <th>4</th>\n",
       "      <td>2000-01-04</td>\n",
       "      <td>B</td>\n",
       "      <td>-1.495405</td>\n",
       "      <td>-2.990810</td>\n",
       "    </tr>\n",
       "  </tbody>\n",
       "</table>\n",
       "</div>"
      ],
      "text/plain": [
       "        date variable     value    value2\n",
       "0 2000-01-03        A -1.129489 -2.258979\n",
       "1 2000-01-04        A  0.884005  1.768011\n",
       "2 2000-01-05        A  0.602088  1.204176\n",
       "3 2000-01-03        B  0.132881  0.265763\n",
       "4 2000-01-04        B -1.495405 -2.990810"
      ]
     },
     "execution_count": 27,
     "metadata": {},
     "output_type": "execute_result"
    }
   ],
   "source": [
    "df[\"value2\"] = df[\"value\"] * 2\n",
    "df.head()"
   ]
  },
  {
   "cell_type": "code",
   "execution_count": 31,
   "id": "regular-cutting",
   "metadata": {},
   "outputs": [
    {
     "data": {
      "text/html": [
       "<div>\n",
       "<style scoped>\n",
       "    .dataframe tbody tr th:only-of-type {\n",
       "        vertical-align: middle;\n",
       "    }\n",
       "\n",
       "    .dataframe tbody tr th {\n",
       "        vertical-align: top;\n",
       "    }\n",
       "\n",
       "    .dataframe thead th {\n",
       "        text-align: right;\n",
       "    }\n",
       "</style>\n",
       "<table border=\"1\" class=\"dataframe\">\n",
       "  <thead>\n",
       "    <tr style=\"text-align: right;\">\n",
       "      <th>variable</th>\n",
       "      <th>A</th>\n",
       "      <th>B</th>\n",
       "      <th>C</th>\n",
       "      <th>D</th>\n",
       "    </tr>\n",
       "    <tr>\n",
       "      <th>date</th>\n",
       "      <th></th>\n",
       "      <th></th>\n",
       "      <th></th>\n",
       "      <th></th>\n",
       "    </tr>\n",
       "  </thead>\n",
       "  <tbody>\n",
       "    <tr>\n",
       "      <th>2000-01-03</th>\n",
       "      <td>-2.258979</td>\n",
       "      <td>0.265763</td>\n",
       "      <td>-1.351510</td>\n",
       "      <td>-0.660759</td>\n",
       "    </tr>\n",
       "    <tr>\n",
       "      <th>2000-01-04</th>\n",
       "      <td>1.768011</td>\n",
       "      <td>-2.990810</td>\n",
       "      <td>0.541480</td>\n",
       "      <td>-2.249649</td>\n",
       "    </tr>\n",
       "    <tr>\n",
       "      <th>2000-01-05</th>\n",
       "      <td>1.204176</td>\n",
       "      <td>1.751193</td>\n",
       "      <td>-2.649912</td>\n",
       "      <td>-0.588467</td>\n",
       "    </tr>\n",
       "  </tbody>\n",
       "</table>\n",
       "</div>"
      ],
      "text/plain": [
       "variable           A         B         C         D\n",
       "date                                              \n",
       "2000-01-03 -2.258979  0.265763 -1.351510 -0.660759\n",
       "2000-01-04  1.768011 -2.990810  0.541480 -2.249649\n",
       "2000-01-05  1.204176  1.751193 -2.649912 -0.588467"
      ]
     },
     "execution_count": 31,
     "metadata": {},
     "output_type": "execute_result"
    }
   ],
   "source": [
    "pivoted = df.pivot(index='date', columns='variable')\n",
    "pivoted['value2']"
   ]
  },
  {
   "cell_type": "code",
   "execution_count": 39,
   "id": "confident-collector",
   "metadata": {},
   "outputs": [
    {
     "data": {
      "text/html": [
       "<div>\n",
       "<style scoped>\n",
       "    .dataframe tbody tr th:only-of-type {\n",
       "        vertical-align: middle;\n",
       "    }\n",
       "\n",
       "    .dataframe tbody tr th {\n",
       "        vertical-align: top;\n",
       "    }\n",
       "\n",
       "    .dataframe thead th {\n",
       "        text-align: right;\n",
       "    }\n",
       "</style>\n",
       "<table border=\"1\" class=\"dataframe\">\n",
       "  <thead>\n",
       "    <tr style=\"text-align: right;\">\n",
       "      <th></th>\n",
       "      <th></th>\n",
       "      <th>A</th>\n",
       "      <th>B</th>\n",
       "    </tr>\n",
       "    <tr>\n",
       "      <th>first</th>\n",
       "      <th>second</th>\n",
       "      <th></th>\n",
       "      <th></th>\n",
       "    </tr>\n",
       "  </thead>\n",
       "  <tbody>\n",
       "    <tr>\n",
       "      <th rowspan=\"2\" valign=\"top\">bar</th>\n",
       "      <th>one</th>\n",
       "      <td>0.441236</td>\n",
       "      <td>0.887606</td>\n",
       "    </tr>\n",
       "    <tr>\n",
       "      <th>two</th>\n",
       "      <td>0.650041</td>\n",
       "      <td>2.448718</td>\n",
       "    </tr>\n",
       "    <tr>\n",
       "      <th rowspan=\"2\" valign=\"top\">baz</th>\n",
       "      <th>one</th>\n",
       "      <td>-0.527134</td>\n",
       "      <td>-0.749858</td>\n",
       "    </tr>\n",
       "    <tr>\n",
       "      <th>two</th>\n",
       "      <td>-0.911297</td>\n",
       "      <td>1.284420</td>\n",
       "    </tr>\n",
       "  </tbody>\n",
       "</table>\n",
       "</div>"
      ],
      "text/plain": [
       "                     A         B\n",
       "first second                    \n",
       "bar   one     0.441236  0.887606\n",
       "      two     0.650041  2.448718\n",
       "baz   one    -0.527134 -0.749858\n",
       "      two    -0.911297  1.284420"
      ]
     },
     "execution_count": 39,
     "metadata": {},
     "output_type": "execute_result"
    }
   ],
   "source": [
    "tuples = list(zip(*[\n",
    "    [ \"bar\", \"bar\", \"baz\", \"baz\", \"foo\", \"foo\", \"qux\", \"qux\", ],\n",
    "    [ \"one\", \"two\", \"one\", \"two\", \"one\", \"two\", \"one\", \"two\", ],\n",
    "]))\n",
    "\n",
    "index = pd.MultiIndex.from_tuples(tuples, names=[\"first\", \"second\"])\n",
    "\n",
    "df = pd.DataFrame(np.random.randn(8, 2), index=index, columns=[\"A\", \"B\"])\n",
    "df2 = df[:4]\n",
    "df2"
   ]
  },
  {
   "cell_type": "code",
   "execution_count": 61,
   "id": "immediate-share",
   "metadata": {},
   "outputs": [
    {
     "data": {
      "text/plain": [
       "first  second   \n",
       "bar    one     A    0.441236\n",
       "               B    0.887606\n",
       "       two     A    0.650041\n",
       "               B    2.448718\n",
       "baz    one     A   -0.527134\n",
       "               B   -0.749858\n",
       "       two     A   -0.911297\n",
       "               B    1.284420\n",
       "dtype: float64"
      ]
     },
     "execution_count": 61,
     "metadata": {},
     "output_type": "execute_result"
    }
   ],
   "source": [
    "stacked = df2.stack()\n",
    "stacked"
   ]
  },
  {
   "cell_type": "code",
   "execution_count": 58,
   "id": "continued-rebound",
   "metadata": {},
   "outputs": [
    {
     "name": "stdout",
     "output_type": "stream",
     "text": [
      "945 µs ± 21.7 µs per loop (mean ± std. dev. of 7 runs, 1000 loops each)\n"
     ]
    }
   ],
   "source": [
    "%timeit stacked.unstack()"
   ]
  },
  {
   "cell_type": "code",
   "execution_count": 60,
   "id": "sized-attention",
   "metadata": {},
   "outputs": [
    {
     "name": "stdout",
     "output_type": "stream",
     "text": [
      "10.3 ms ± 102 µs per loop (mean ± std. dev. of 7 runs, 100 loops each)\n"
     ]
    }
   ],
   "source": [
    "%timeit stacked.reset_index().rename(columns={\"level_2\":\"col1\", 0:\"col2\"}).pivot_table(index=['first', 'second'], columns='col1', values='col2')"
   ]
  },
  {
   "cell_type": "code",
   "execution_count": 70,
   "id": "brief-brick",
   "metadata": {},
   "outputs": [
    {
     "name": "stdout",
     "output_type": "stream",
     "text": [
      "            A\n",
      "2 a  0.446744\n",
      "  b -1.484540\n",
      "1 a  0.808466\n",
      "  b -0.627887\n"
     ]
    },
    {
     "data": {
      "text/plain": [
       "True"
      ]
     },
     "execution_count": 70,
     "metadata": {},
     "output_type": "execute_result"
    }
   ],
   "source": [
    "index = pd.MultiIndex.from_product([[2, 1], [\"a\", \"b\"]])\n",
    "df = pd.DataFrame(np.random.randn(4), index=index, columns=[\"A\"])\n",
    "print(df)\n",
    "all(df.unstack().stack() == df.sort_index())"
   ]
  },
  {
   "cell_type": "code",
   "execution_count": 75,
   "id": "different-religion",
   "metadata": {},
   "outputs": [
    {
     "data": {
      "text/html": [
       "<div>\n",
       "<style scoped>\n",
       "    .dataframe tbody tr th:only-of-type {\n",
       "        vertical-align: middle;\n",
       "    }\n",
       "\n",
       "    .dataframe tbody tr th {\n",
       "        vertical-align: top;\n",
       "    }\n",
       "\n",
       "    .dataframe thead th {\n",
       "        text-align: right;\n",
       "    }\n",
       "</style>\n",
       "<table border=\"1\" class=\"dataframe\">\n",
       "  <thead>\n",
       "    <tr style=\"text-align: right;\">\n",
       "      <th></th>\n",
       "      <th></th>\n",
       "      <th>exp</th>\n",
       "      <th>A</th>\n",
       "      <th>B</th>\n",
       "    </tr>\n",
       "    <tr>\n",
       "      <th></th>\n",
       "      <th>animal</th>\n",
       "      <th>hair_length</th>\n",
       "      <th></th>\n",
       "      <th></th>\n",
       "    </tr>\n",
       "  </thead>\n",
       "  <tbody>\n",
       "    <tr>\n",
       "      <th rowspan=\"2\" valign=\"top\">0</th>\n",
       "      <th>cat</th>\n",
       "      <th>long</th>\n",
       "      <td>-0.345836</td>\n",
       "      <td>-0.017420</td>\n",
       "    </tr>\n",
       "    <tr>\n",
       "      <th>dog</th>\n",
       "      <th>short</th>\n",
       "      <td>-1.825979</td>\n",
       "      <td>0.887327</td>\n",
       "    </tr>\n",
       "    <tr>\n",
       "      <th rowspan=\"2\" valign=\"top\">1</th>\n",
       "      <th>cat</th>\n",
       "      <th>long</th>\n",
       "      <td>1.480182</td>\n",
       "      <td>-0.101710</td>\n",
       "    </tr>\n",
       "    <tr>\n",
       "      <th>dog</th>\n",
       "      <th>short</th>\n",
       "      <td>-2.072065</td>\n",
       "      <td>-2.310006</td>\n",
       "    </tr>\n",
       "    <tr>\n",
       "      <th rowspan=\"2\" valign=\"top\">2</th>\n",
       "      <th>cat</th>\n",
       "      <th>long</th>\n",
       "      <td>-0.338607</td>\n",
       "      <td>0.752293</td>\n",
       "    </tr>\n",
       "    <tr>\n",
       "      <th>dog</th>\n",
       "      <th>short</th>\n",
       "      <td>1.229075</td>\n",
       "      <td>-1.032769</td>\n",
       "    </tr>\n",
       "    <tr>\n",
       "      <th rowspan=\"2\" valign=\"top\">3</th>\n",
       "      <th>cat</th>\n",
       "      <th>long</th>\n",
       "      <td>0.739229</td>\n",
       "      <td>0.216387</td>\n",
       "    </tr>\n",
       "    <tr>\n",
       "      <th>dog</th>\n",
       "      <th>short</th>\n",
       "      <td>1.005689</td>\n",
       "      <td>1.015874</td>\n",
       "    </tr>\n",
       "  </tbody>\n",
       "</table>\n",
       "</div>"
      ],
      "text/plain": [
       "exp                          A         B\n",
       "  animal hair_length                    \n",
       "0 cat    long        -0.345836 -0.017420\n",
       "  dog    short       -1.825979  0.887327\n",
       "1 cat    long         1.480182 -0.101710\n",
       "  dog    short       -2.072065 -2.310006\n",
       "2 cat    long        -0.338607  0.752293\n",
       "  dog    short        1.229075 -1.032769\n",
       "3 cat    long         0.739229  0.216387\n",
       "  dog    short        1.005689  1.015874"
      ]
     },
     "execution_count": 75,
     "metadata": {},
     "output_type": "execute_result"
    }
   ],
   "source": [
    "columns = pd.MultiIndex.from_tuples([\n",
    "    (\"A\", \"cat\", \"long\"), (\"B\", \"cat\", \"long\"),\n",
    "    (\"A\", \"dog\", \"short\"), (\"B\", \"dog\", \"short\"),\n",
    "], names=[\"exp\", \"animal\", \"hair_length\"],)\n",
    "df = pd.DataFrame(np.random.randn(4, 4), columns=columns)\n",
    "df.stack(level=[\"animal\", \"hair_length\"])\n",
    "df.stack(level=[1,2])"
   ]
  },
  {
   "cell_type": "code",
   "execution_count": 3,
   "id": "honey-arkansas",
   "metadata": {},
   "outputs": [],
   "source": [
    "columns = pd.MultiIndex.from_tuples(\n",
    "    [(\"A\", \"cat\"), (\"B\", \"dog\"), (\"B\", \"cat\"),(\"A\", \"dog\"),],\n",
    "    names=['exp', \"animals\"]\n",
    ")\n",
    "index = pd.MultiIndex.from_product([(\"bar\", \"baz\", \"foo\", \"qux\"), (\"one\", \"two\")], \n",
    "                                   names=[\"first\", \"second\"])\n",
    "df = pd.DataFrame(np.random.randn(8, 4), index=index, columns=columns)\n",
    "df2 = df.iloc[[0, 1, 2, 4, 5, 7]]"
   ]
  },
  {
   "cell_type": "code",
   "execution_count": 132,
   "id": "proof-honor",
   "metadata": {},
   "outputs": [
    {
     "data": {
      "text/html": [
       "<div>\n",
       "<style scoped>\n",
       "    .dataframe tbody tr th:only-of-type {\n",
       "        vertical-align: middle;\n",
       "    }\n",
       "\n",
       "    .dataframe tbody tr th {\n",
       "        vertical-align: top;\n",
       "    }\n",
       "\n",
       "    .dataframe thead th {\n",
       "        text-align: right;\n",
       "    }\n",
       "</style>\n",
       "<table border=\"1\" class=\"dataframe\">\n",
       "  <thead>\n",
       "    <tr style=\"text-align: right;\">\n",
       "      <th></th>\n",
       "      <th></th>\n",
       "      <th>exp</th>\n",
       "      <th>A</th>\n",
       "      <th>B</th>\n",
       "    </tr>\n",
       "    <tr>\n",
       "      <th>first</th>\n",
       "      <th>second</th>\n",
       "      <th>animals</th>\n",
       "      <th></th>\n",
       "      <th></th>\n",
       "    </tr>\n",
       "  </thead>\n",
       "  <tbody>\n",
       "    <tr>\n",
       "      <th rowspan=\"4\" valign=\"top\">bar</th>\n",
       "      <th rowspan=\"2\" valign=\"top\">one</th>\n",
       "      <th>cat</th>\n",
       "      <td>-1.277764</td>\n",
       "      <td>0.544884</td>\n",
       "    </tr>\n",
       "    <tr>\n",
       "      <th>dog</th>\n",
       "      <td>-2.006077</td>\n",
       "      <td>0.755430</td>\n",
       "    </tr>\n",
       "    <tr>\n",
       "      <th rowspan=\"2\" valign=\"top\">two</th>\n",
       "      <th>cat</th>\n",
       "      <td>0.680017</td>\n",
       "      <td>0.111496</td>\n",
       "    </tr>\n",
       "    <tr>\n",
       "      <th>dog</th>\n",
       "      <td>1.079009</td>\n",
       "      <td>0.045822</td>\n",
       "    </tr>\n",
       "    <tr>\n",
       "      <th rowspan=\"4\" valign=\"top\">baz</th>\n",
       "      <th rowspan=\"2\" valign=\"top\">one</th>\n",
       "      <th>cat</th>\n",
       "      <td>1.357956</td>\n",
       "      <td>-1.623726</td>\n",
       "    </tr>\n",
       "    <tr>\n",
       "      <th>dog</th>\n",
       "      <td>1.015614</td>\n",
       "      <td>0.599910</td>\n",
       "    </tr>\n",
       "    <tr>\n",
       "      <th rowspan=\"2\" valign=\"top\">two</th>\n",
       "      <th>cat</th>\n",
       "      <td>-0.932898</td>\n",
       "      <td>1.390138</td>\n",
       "    </tr>\n",
       "    <tr>\n",
       "      <th>dog</th>\n",
       "      <td>0.252586</td>\n",
       "      <td>-0.593359</td>\n",
       "    </tr>\n",
       "    <tr>\n",
       "      <th rowspan=\"4\" valign=\"top\">foo</th>\n",
       "      <th rowspan=\"2\" valign=\"top\">one</th>\n",
       "      <th>cat</th>\n",
       "      <td>-1.479511</td>\n",
       "      <td>1.091047</td>\n",
       "    </tr>\n",
       "    <tr>\n",
       "      <th>dog</th>\n",
       "      <td>0.132800</td>\n",
       "      <td>-0.057754</td>\n",
       "    </tr>\n",
       "    <tr>\n",
       "      <th rowspan=\"2\" valign=\"top\">two</th>\n",
       "      <th>cat</th>\n",
       "      <td>0.527948</td>\n",
       "      <td>0.127214</td>\n",
       "    </tr>\n",
       "    <tr>\n",
       "      <th>dog</th>\n",
       "      <td>-0.133948</td>\n",
       "      <td>0.388487</td>\n",
       "    </tr>\n",
       "    <tr>\n",
       "      <th rowspan=\"4\" valign=\"top\">qux</th>\n",
       "      <th rowspan=\"2\" valign=\"top\">one</th>\n",
       "      <th>cat</th>\n",
       "      <td>-0.206994</td>\n",
       "      <td>-0.849301</td>\n",
       "    </tr>\n",
       "    <tr>\n",
       "      <th>dog</th>\n",
       "      <td>-0.934951</td>\n",
       "      <td>0.050359</td>\n",
       "    </tr>\n",
       "    <tr>\n",
       "      <th rowspan=\"2\" valign=\"top\">two</th>\n",
       "      <th>cat</th>\n",
       "      <td>0.310999</td>\n",
       "      <td>2.318594</td>\n",
       "    </tr>\n",
       "    <tr>\n",
       "      <th>dog</th>\n",
       "      <td>-0.732711</td>\n",
       "      <td>-0.494976</td>\n",
       "    </tr>\n",
       "  </tbody>\n",
       "</table>\n",
       "</div>"
      ],
      "text/plain": [
       "exp                          A         B\n",
       "first second animals                    \n",
       "bar   one    cat     -1.277764  0.544884\n",
       "             dog     -2.006077  0.755430\n",
       "      two    cat      0.680017  0.111496\n",
       "             dog      1.079009  0.045822\n",
       "baz   one    cat      1.357956 -1.623726\n",
       "             dog      1.015614  0.599910\n",
       "      two    cat     -0.932898  1.390138\n",
       "             dog      0.252586 -0.593359\n",
       "foo   one    cat     -1.479511  1.091047\n",
       "             dog      0.132800 -0.057754\n",
       "      two    cat      0.527948  0.127214\n",
       "             dog     -0.133948  0.388487\n",
       "qux   one    cat     -0.206994 -0.849301\n",
       "             dog     -0.934951  0.050359\n",
       "      two    cat      0.310999  2.318594\n",
       "             dog     -0.732711 -0.494976"
      ]
     },
     "execution_count": 132,
     "metadata": {},
     "output_type": "execute_result"
    }
   ],
   "source": [
    "df2.stack('exp')\n",
    "df.stack('animals')"
   ]
  },
  {
   "cell_type": "code",
   "execution_count": 136,
   "id": "bacterial-cincinnati",
   "metadata": {},
   "outputs": [
    {
     "data": {
      "text/html": [
       "<div>\n",
       "<style scoped>\n",
       "    .dataframe tbody tr th:only-of-type {\n",
       "        vertical-align: middle;\n",
       "    }\n",
       "\n",
       "    .dataframe tbody tr th {\n",
       "        vertical-align: top;\n",
       "    }\n",
       "\n",
       "    .dataframe thead tr th {\n",
       "        text-align: left;\n",
       "    }\n",
       "\n",
       "    .dataframe thead tr:last-of-type th {\n",
       "        text-align: right;\n",
       "    }\n",
       "</style>\n",
       "<table border=\"1\" class=\"dataframe\">\n",
       "  <thead>\n",
       "    <tr>\n",
       "      <th>exp</th>\n",
       "      <th colspan=\"4\" halign=\"left\">B</th>\n",
       "    </tr>\n",
       "    <tr>\n",
       "      <th>animals</th>\n",
       "      <th colspan=\"2\" halign=\"left\">dog</th>\n",
       "      <th colspan=\"2\" halign=\"left\">cat</th>\n",
       "    </tr>\n",
       "    <tr>\n",
       "      <th>second</th>\n",
       "      <th>one</th>\n",
       "      <th>two</th>\n",
       "      <th>one</th>\n",
       "      <th>two</th>\n",
       "    </tr>\n",
       "    <tr>\n",
       "      <th>first</th>\n",
       "      <th></th>\n",
       "      <th></th>\n",
       "      <th></th>\n",
       "      <th></th>\n",
       "    </tr>\n",
       "  </thead>\n",
       "  <tbody>\n",
       "    <tr>\n",
       "      <th>bar</th>\n",
       "      <td>0.755430</td>\n",
       "      <td>0.045822</td>\n",
       "      <td>0.544884</td>\n",
       "      <td>0.111496</td>\n",
       "    </tr>\n",
       "    <tr>\n",
       "      <th>foo</th>\n",
       "      <td>-0.057754</td>\n",
       "      <td>NaN</td>\n",
       "      <td>1.091047</td>\n",
       "      <td>NaN</td>\n",
       "    </tr>\n",
       "    <tr>\n",
       "      <th>qux</th>\n",
       "      <td>NaN</td>\n",
       "      <td>-0.494976</td>\n",
       "      <td>NaN</td>\n",
       "      <td>2.318594</td>\n",
       "    </tr>\n",
       "  </tbody>\n",
       "</table>\n",
       "</div>"
      ],
      "text/plain": [
       "exp             B                              \n",
       "animals       dog                 cat          \n",
       "second        one       two       one       two\n",
       "first                                          \n",
       "bar      0.755430  0.045822  0.544884  0.111496\n",
       "foo     -0.057754       NaN  1.091047       NaN\n",
       "qux           NaN -0.494976       NaN  2.318594"
      ]
     },
     "execution_count": 136,
     "metadata": {},
     "output_type": "execute_result"
    }
   ],
   "source": [
    "df3 = df.iloc[[0, 1, 4, 7], [1, 2]]\n",
    "df3.unstack()"
   ]
  },
  {
   "cell_type": "code",
   "execution_count": 137,
   "id": "alive-watts",
   "metadata": {},
   "outputs": [
    {
     "data": {
      "text/html": [
       "<div>\n",
       "<style scoped>\n",
       "    .dataframe tbody tr th:only-of-type {\n",
       "        vertical-align: middle;\n",
       "    }\n",
       "\n",
       "    .dataframe tbody tr th {\n",
       "        vertical-align: top;\n",
       "    }\n",
       "\n",
       "    .dataframe thead tr th {\n",
       "        text-align: left;\n",
       "    }\n",
       "\n",
       "    .dataframe thead tr:last-of-type th {\n",
       "        text-align: right;\n",
       "    }\n",
       "</style>\n",
       "<table border=\"1\" class=\"dataframe\">\n",
       "  <thead>\n",
       "    <tr>\n",
       "      <th>exp</th>\n",
       "      <th colspan=\"4\" halign=\"left\">B</th>\n",
       "    </tr>\n",
       "    <tr>\n",
       "      <th>animals</th>\n",
       "      <th colspan=\"2\" halign=\"left\">dog</th>\n",
       "      <th colspan=\"2\" halign=\"left\">cat</th>\n",
       "    </tr>\n",
       "    <tr>\n",
       "      <th>second</th>\n",
       "      <th>one</th>\n",
       "      <th>two</th>\n",
       "      <th>one</th>\n",
       "      <th>two</th>\n",
       "    </tr>\n",
       "    <tr>\n",
       "      <th>first</th>\n",
       "      <th></th>\n",
       "      <th></th>\n",
       "      <th></th>\n",
       "      <th></th>\n",
       "    </tr>\n",
       "  </thead>\n",
       "  <tbody>\n",
       "    <tr>\n",
       "      <th>bar</th>\n",
       "      <td>0.755430</td>\n",
       "      <td>0.045822</td>\n",
       "      <td>0.544884</td>\n",
       "      <td>0.111496</td>\n",
       "    </tr>\n",
       "    <tr>\n",
       "      <th>foo</th>\n",
       "      <td>-0.057754</td>\n",
       "      <td>0.000000</td>\n",
       "      <td>1.091047</td>\n",
       "      <td>0.000000</td>\n",
       "    </tr>\n",
       "    <tr>\n",
       "      <th>qux</th>\n",
       "      <td>0.000000</td>\n",
       "      <td>-0.494976</td>\n",
       "      <td>0.000000</td>\n",
       "      <td>2.318594</td>\n",
       "    </tr>\n",
       "  </tbody>\n",
       "</table>\n",
       "</div>"
      ],
      "text/plain": [
       "exp             B                              \n",
       "animals       dog                 cat          \n",
       "second        one       two       one       two\n",
       "first                                          \n",
       "bar      0.755430  0.045822  0.544884  0.111496\n",
       "foo     -0.057754  0.000000  1.091047  0.000000\n",
       "qux      0.000000 -0.494976  0.000000  2.318594"
      ]
     },
     "execution_count": 137,
     "metadata": {},
     "output_type": "execute_result"
    }
   ],
   "source": [
    "df3.unstack(fill_value=0.)"
   ]
  },
  {
   "cell_type": "code",
   "execution_count": 156,
   "id": "vanilla-robin",
   "metadata": {},
   "outputs": [
    {
     "data": {
      "text/html": [
       "<div>\n",
       "<style scoped>\n",
       "    .dataframe tbody tr th:only-of-type {\n",
       "        vertical-align: middle;\n",
       "    }\n",
       "\n",
       "    .dataframe tbody tr th {\n",
       "        vertical-align: top;\n",
       "    }\n",
       "\n",
       "    .dataframe thead tr th {\n",
       "        text-align: left;\n",
       "    }\n",
       "\n",
       "    .dataframe thead tr:last-of-type th {\n",
       "        text-align: right;\n",
       "    }\n",
       "</style>\n",
       "<table border=\"1\" class=\"dataframe\">\n",
       "  <thead>\n",
       "    <tr>\n",
       "      <th>exp</th>\n",
       "      <th colspan=\"2\" halign=\"left\">A</th>\n",
       "      <th colspan=\"4\" halign=\"left\">B</th>\n",
       "      <th colspan=\"2\" halign=\"left\">A</th>\n",
       "    </tr>\n",
       "    <tr>\n",
       "      <th>animals</th>\n",
       "      <th colspan=\"2\" halign=\"left\">cat</th>\n",
       "      <th colspan=\"2\" halign=\"left\">dog</th>\n",
       "      <th colspan=\"2\" halign=\"left\">cat</th>\n",
       "      <th colspan=\"2\" halign=\"left\">dog</th>\n",
       "    </tr>\n",
       "    <tr>\n",
       "      <th>first</th>\n",
       "      <th>bar</th>\n",
       "      <th>baz</th>\n",
       "      <th>bar</th>\n",
       "      <th>baz</th>\n",
       "      <th>bar</th>\n",
       "      <th>baz</th>\n",
       "      <th>bar</th>\n",
       "      <th>baz</th>\n",
       "    </tr>\n",
       "    <tr>\n",
       "      <th>second</th>\n",
       "      <th></th>\n",
       "      <th></th>\n",
       "      <th></th>\n",
       "      <th></th>\n",
       "      <th></th>\n",
       "      <th></th>\n",
       "      <th></th>\n",
       "      <th></th>\n",
       "    </tr>\n",
       "  </thead>\n",
       "  <tbody>\n",
       "    <tr>\n",
       "      <th>one</th>\n",
       "      <td>-0.533941</td>\n",
       "      <td>1.510495</td>\n",
       "      <td>0.520594</td>\n",
       "      <td>0.848948</td>\n",
       "      <td>0.490015</td>\n",
       "      <td>-0.437616</td>\n",
       "      <td>2.417119</td>\n",
       "      <td>-1.314637</td>\n",
       "    </tr>\n",
       "    <tr>\n",
       "      <th>two</th>\n",
       "      <td>1.405792</td>\n",
       "      <td>NaN</td>\n",
       "      <td>-0.234288</td>\n",
       "      <td>NaN</td>\n",
       "      <td>-0.588648</td>\n",
       "      <td>NaN</td>\n",
       "      <td>-0.650806</td>\n",
       "      <td>NaN</td>\n",
       "    </tr>\n",
       "  </tbody>\n",
       "</table>\n",
       "</div>"
      ],
      "text/plain": [
       "exp             A                   B                                       A  \\\n",
       "animals       cat                 dog                 cat                 dog   \n",
       "first         bar       baz       bar       baz       bar       baz       bar   \n",
       "second                                                                          \n",
       "one     -0.533941  1.510495  0.520594  0.848948  0.490015 -0.437616  2.417119   \n",
       "two      1.405792       NaN -0.234288       NaN -0.588648       NaN -0.650806   \n",
       "\n",
       "exp                \n",
       "animals            \n",
       "first         baz  \n",
       "second             \n",
       "one     -1.314637  \n",
       "two           NaN  "
      ]
     },
     "execution_count": 156,
     "metadata": {},
     "output_type": "execute_result"
    }
   ],
   "source": [
    "df[:3].unstack(0)"
   ]
  },
  {
   "cell_type": "code",
   "execution_count": 158,
   "id": "independent-effort",
   "metadata": {},
   "outputs": [
    {
     "data": {
      "text/html": [
       "<div>\n",
       "<style scoped>\n",
       "    .dataframe tbody tr th:only-of-type {\n",
       "        vertical-align: middle;\n",
       "    }\n",
       "\n",
       "    .dataframe tbody tr th {\n",
       "        vertical-align: top;\n",
       "    }\n",
       "\n",
       "    .dataframe thead tr th {\n",
       "        text-align: left;\n",
       "    }\n",
       "\n",
       "    .dataframe thead tr:last-of-type th {\n",
       "        text-align: right;\n",
       "    }\n",
       "</style>\n",
       "<table border=\"1\" class=\"dataframe\">\n",
       "  <thead>\n",
       "    <tr>\n",
       "      <th>exp</th>\n",
       "      <th colspan=\"2\" halign=\"left\">A</th>\n",
       "      <th colspan=\"4\" halign=\"left\">B</th>\n",
       "      <th colspan=\"2\" halign=\"left\">A</th>\n",
       "    </tr>\n",
       "    <tr>\n",
       "      <th>animals</th>\n",
       "      <th colspan=\"2\" halign=\"left\">cat</th>\n",
       "      <th colspan=\"2\" halign=\"left\">dog</th>\n",
       "      <th colspan=\"2\" halign=\"left\">cat</th>\n",
       "      <th colspan=\"2\" halign=\"left\">dog</th>\n",
       "    </tr>\n",
       "    <tr>\n",
       "      <th>second</th>\n",
       "      <th>one</th>\n",
       "      <th>two</th>\n",
       "      <th>one</th>\n",
       "      <th>two</th>\n",
       "      <th>one</th>\n",
       "      <th>two</th>\n",
       "      <th>one</th>\n",
       "      <th>two</th>\n",
       "    </tr>\n",
       "    <tr>\n",
       "      <th>first</th>\n",
       "      <th></th>\n",
       "      <th></th>\n",
       "      <th></th>\n",
       "      <th></th>\n",
       "      <th></th>\n",
       "      <th></th>\n",
       "      <th></th>\n",
       "      <th></th>\n",
       "    </tr>\n",
       "  </thead>\n",
       "  <tbody>\n",
       "    <tr>\n",
       "      <th>bar</th>\n",
       "      <td>-0.533941</td>\n",
       "      <td>1.405792</td>\n",
       "      <td>0.520594</td>\n",
       "      <td>-0.234288</td>\n",
       "      <td>0.490015</td>\n",
       "      <td>-0.588648</td>\n",
       "      <td>2.417119</td>\n",
       "      <td>-0.650806</td>\n",
       "    </tr>\n",
       "    <tr>\n",
       "      <th>baz</th>\n",
       "      <td>1.510495</td>\n",
       "      <td>NaN</td>\n",
       "      <td>0.848948</td>\n",
       "      <td>NaN</td>\n",
       "      <td>-0.437616</td>\n",
       "      <td>NaN</td>\n",
       "      <td>-1.314637</td>\n",
       "      <td>NaN</td>\n",
       "    </tr>\n",
       "  </tbody>\n",
       "</table>\n",
       "</div>"
      ],
      "text/plain": [
       "exp             A                   B                                       A  \\\n",
       "animals       cat                 dog                 cat                 dog   \n",
       "second        one       two       one       two       one       two       one   \n",
       "first                                                                           \n",
       "bar     -0.533941  1.405792  0.520594 -0.234288  0.490015 -0.588648  2.417119   \n",
       "baz      1.510495       NaN  0.848948       NaN -0.437616       NaN -1.314637   \n",
       "\n",
       "exp                \n",
       "animals            \n",
       "second        two  \n",
       "first              \n",
       "bar     -0.650806  \n",
       "baz           NaN  "
      ]
     },
     "execution_count": 158,
     "metadata": {},
     "output_type": "execute_result"
    }
   ],
   "source": [
    "df[:3].unstack(1)"
   ]
  },
  {
   "cell_type": "code",
   "execution_count": 169,
   "id": "cultural-tract",
   "metadata": {},
   "outputs": [
    {
     "data": {
      "text/html": [
       "<div>\n",
       "<style scoped>\n",
       "    .dataframe tbody tr th:only-of-type {\n",
       "        vertical-align: middle;\n",
       "    }\n",
       "\n",
       "    .dataframe tbody tr th {\n",
       "        vertical-align: top;\n",
       "    }\n",
       "\n",
       "    .dataframe thead th {\n",
       "        text-align: right;\n",
       "    }\n",
       "</style>\n",
       "<table border=\"1\" class=\"dataframe\">\n",
       "  <thead>\n",
       "    <tr style=\"text-align: right;\">\n",
       "      <th></th>\n",
       "      <th>fr</th>\n",
       "      <th>Ramesh</th>\n",
       "      <th>ValueSuresh</th>\n",
       "    </tr>\n",
       "  </thead>\n",
       "  <tbody>\n",
       "    <tr>\n",
       "      <th>0</th>\n",
       "      <td>1.1</td>\n",
       "      <td>var</td>\n",
       "      <td>10px</td>\n",
       "    </tr>\n",
       "    <tr>\n",
       "      <th>1</th>\n",
       "      <td>2.9</td>\n",
       "      <td>var</td>\n",
       "      <td>12pz</td>\n",
       "    </tr>\n",
       "  </tbody>\n",
       "</table>\n",
       "</div>"
      ],
      "text/plain": [
       "    fr Ramesh ValueSuresh\n",
       "0  1.1    var        10px\n",
       "1  2.9    var        12pz"
      ]
     },
     "execution_count": 169,
     "metadata": {},
     "output_type": "execute_result"
    }
   ],
   "source": [
    "df = DataFrame({\n",
    "    'fr':[1.1, 2.9],\n",
    "    'var':['10px', '12pz']\n",
    "})\n",
    "df.melt(id_vars='fr', var_name='Ramesh', value_name='ValueSuresh')"
   ]
  },
  {
   "cell_type": "code",
   "execution_count": 174,
   "id": "dangerous-question",
   "metadata": {},
   "outputs": [
    {
     "name": "stdout",
     "output_type": "stream",
     "text": [
      "  first last  height  weight\n",
      "0  John  Doe     5.5     130\n",
      "1  Mary   Bo     6.0     150\n"
     ]
    },
    {
     "data": {
      "text/html": [
       "<div>\n",
       "<style scoped>\n",
       "    .dataframe tbody tr th:only-of-type {\n",
       "        vertical-align: middle;\n",
       "    }\n",
       "\n",
       "    .dataframe tbody tr th {\n",
       "        vertical-align: top;\n",
       "    }\n",
       "\n",
       "    .dataframe thead th {\n",
       "        text-align: right;\n",
       "    }\n",
       "</style>\n",
       "<table border=\"1\" class=\"dataframe\">\n",
       "  <thead>\n",
       "    <tr style=\"text-align: right;\">\n",
       "      <th></th>\n",
       "      <th>first</th>\n",
       "      <th>last</th>\n",
       "      <th>quantity</th>\n",
       "      <th>value</th>\n",
       "    </tr>\n",
       "  </thead>\n",
       "  <tbody>\n",
       "    <tr>\n",
       "      <th>0</th>\n",
       "      <td>John</td>\n",
       "      <td>Doe</td>\n",
       "      <td>height</td>\n",
       "      <td>5.5</td>\n",
       "    </tr>\n",
       "    <tr>\n",
       "      <th>1</th>\n",
       "      <td>Mary</td>\n",
       "      <td>Bo</td>\n",
       "      <td>height</td>\n",
       "      <td>6.0</td>\n",
       "    </tr>\n",
       "    <tr>\n",
       "      <th>2</th>\n",
       "      <td>John</td>\n",
       "      <td>Doe</td>\n",
       "      <td>weight</td>\n",
       "      <td>130.0</td>\n",
       "    </tr>\n",
       "    <tr>\n",
       "      <th>3</th>\n",
       "      <td>Mary</td>\n",
       "      <td>Bo</td>\n",
       "      <td>weight</td>\n",
       "      <td>150.0</td>\n",
       "    </tr>\n",
       "  </tbody>\n",
       "</table>\n",
       "</div>"
      ],
      "text/plain": [
       "  first last quantity  value\n",
       "0  John  Doe   height    5.5\n",
       "1  Mary   Bo   height    6.0\n",
       "2  John  Doe   weight  130.0\n",
       "3  Mary   Bo   weight  150.0"
      ]
     },
     "execution_count": 174,
     "metadata": {},
     "output_type": "execute_result"
    }
   ],
   "source": [
    "cheese = pd.DataFrame({\n",
    "    \"first\": [\"John\", \"Mary\"],\n",
    "    \"last\": [\"Doe\", \"Bo\"],\n",
    "    \"height\": [5.5, 6.0],\n",
    "    \"weight\": [130, 150],\n",
    "})\n",
    "print(cheese)\n",
    "cheese.melt(id_vars=['first', 'last'], var_name='quantity')"
   ]
  },
  {
   "cell_type": "code",
   "execution_count": 178,
   "id": "spare-potter",
   "metadata": {},
   "outputs": [
    {
     "data": {
      "text/html": [
       "<div>\n",
       "<style scoped>\n",
       "    .dataframe tbody tr th:only-of-type {\n",
       "        vertical-align: middle;\n",
       "    }\n",
       "\n",
       "    .dataframe tbody tr th {\n",
       "        vertical-align: top;\n",
       "    }\n",
       "\n",
       "    .dataframe thead th {\n",
       "        text-align: right;\n",
       "    }\n",
       "</style>\n",
       "<table border=\"1\" class=\"dataframe\">\n",
       "  <thead>\n",
       "    <tr style=\"text-align: right;\">\n",
       "      <th></th>\n",
       "      <th></th>\n",
       "      <th>first</th>\n",
       "      <th>last</th>\n",
       "      <th>variable</th>\n",
       "      <th>value</th>\n",
       "    </tr>\n",
       "  </thead>\n",
       "  <tbody>\n",
       "    <tr>\n",
       "      <th rowspan=\"4\" valign=\"top\">person</th>\n",
       "      <th>A</th>\n",
       "      <td>John</td>\n",
       "      <td>Doe</td>\n",
       "      <td>height</td>\n",
       "      <td>5.5</td>\n",
       "    </tr>\n",
       "    <tr>\n",
       "      <th>B</th>\n",
       "      <td>Mary</td>\n",
       "      <td>Bo</td>\n",
       "      <td>height</td>\n",
       "      <td>6.0</td>\n",
       "    </tr>\n",
       "    <tr>\n",
       "      <th>A</th>\n",
       "      <td>John</td>\n",
       "      <td>Doe</td>\n",
       "      <td>weight</td>\n",
       "      <td>130.0</td>\n",
       "    </tr>\n",
       "    <tr>\n",
       "      <th>B</th>\n",
       "      <td>Mary</td>\n",
       "      <td>Bo</td>\n",
       "      <td>weight</td>\n",
       "      <td>150.0</td>\n",
       "    </tr>\n",
       "  </tbody>\n",
       "</table>\n",
       "</div>"
      ],
      "text/plain": [
       "         first last variable  value\n",
       "person A  John  Doe   height    5.5\n",
       "       B  Mary   Bo   height    6.0\n",
       "       A  John  Doe   weight  130.0\n",
       "       B  Mary   Bo   weight  150.0"
      ]
     },
     "execution_count": 178,
     "metadata": {},
     "output_type": "execute_result"
    }
   ],
   "source": [
    "index = pd.MultiIndex.from_tuples([(\"person\", \"A\"), (\"person\", \"B\")])\n",
    "cheese = pd.DataFrame({\n",
    "    \"first\": [\"John\", \"Mary\"],\n",
    "    \"last\": [\"Doe\", \"Bo\"],\n",
    "    \"height\": [5.5, 6.0],\n",
    "    \"weight\": [130, 150],\n",
    "}, index=index)\n",
    "\n",
    "cheese.melt(id_vars=[\"first\", \"last\"], ignore_index=False)"
   ]
  },
  {
   "cell_type": "code",
   "execution_count": 2,
   "id": "engaging-selling",
   "metadata": {},
   "outputs": [
    {
     "data": {
      "text/html": [
       "<div>\n",
       "<style scoped>\n",
       "    .dataframe tbody tr th:only-of-type {\n",
       "        vertical-align: middle;\n",
       "    }\n",
       "\n",
       "    .dataframe tbody tr th {\n",
       "        vertical-align: top;\n",
       "    }\n",
       "\n",
       "    .dataframe thead th {\n",
       "        text-align: right;\n",
       "    }\n",
       "</style>\n",
       "<table border=\"1\" class=\"dataframe\">\n",
       "  <thead>\n",
       "    <tr style=\"text-align: right;\">\n",
       "      <th></th>\n",
       "      <th></th>\n",
       "      <th>X</th>\n",
       "      <th>A</th>\n",
       "      <th>B</th>\n",
       "    </tr>\n",
       "    <tr>\n",
       "      <th>id</th>\n",
       "      <th>year</th>\n",
       "      <th></th>\n",
       "      <th></th>\n",
       "      <th></th>\n",
       "    </tr>\n",
       "  </thead>\n",
       "  <tbody>\n",
       "    <tr>\n",
       "      <th>0</th>\n",
       "      <th>1970</th>\n",
       "      <td>2.294213</td>\n",
       "      <td>a</td>\n",
       "      <td>2.5</td>\n",
       "    </tr>\n",
       "    <tr>\n",
       "      <th>1</th>\n",
       "      <th>1970</th>\n",
       "      <td>0.536097</td>\n",
       "      <td>b</td>\n",
       "      <td>1.2</td>\n",
       "    </tr>\n",
       "    <tr>\n",
       "      <th>2</th>\n",
       "      <th>1970</th>\n",
       "      <td>1.251835</td>\n",
       "      <td>c</td>\n",
       "      <td>0.7</td>\n",
       "    </tr>\n",
       "    <tr>\n",
       "      <th>0</th>\n",
       "      <th>1980</th>\n",
       "      <td>2.294213</td>\n",
       "      <td>d</td>\n",
       "      <td>3.2</td>\n",
       "    </tr>\n",
       "    <tr>\n",
       "      <th>1</th>\n",
       "      <th>1980</th>\n",
       "      <td>0.536097</td>\n",
       "      <td>e</td>\n",
       "      <td>1.3</td>\n",
       "    </tr>\n",
       "    <tr>\n",
       "      <th>2</th>\n",
       "      <th>1980</th>\n",
       "      <td>1.251835</td>\n",
       "      <td>f</td>\n",
       "      <td>0.1</td>\n",
       "    </tr>\n",
       "  </tbody>\n",
       "</table>\n",
       "</div>"
      ],
      "text/plain": [
       "                X  A    B\n",
       "id year                  \n",
       "0  1970  2.294213  a  2.5\n",
       "1  1970  0.536097  b  1.2\n",
       "2  1970  1.251835  c  0.7\n",
       "0  1980  2.294213  d  3.2\n",
       "1  1980  0.536097  e  1.3\n",
       "2  1980  1.251835  f  0.1"
      ]
     },
     "execution_count": 2,
     "metadata": {},
     "output_type": "execute_result"
    }
   ],
   "source": [
    "dft = pd.DataFrame({\n",
    "    \"A1970\": {0: \"a\", 1: \"b\", 2: \"c\"},\n",
    "    \"A1980\": {0: \"d\", 1: \"e\", 2: \"f\"},\n",
    "    \"B1970\": {0: 2.5, 1: 1.2, 2: 0.7},\n",
    "    \"B1980\": {0: 3.2, 1: 1.3, 2: 0.1},\n",
    "    \"X\": dict(zip(range(3), np.random.randn(3))),\n",
    "})\n",
    "\n",
    "dft[\"id\"] = dft.index\n",
    "pd.wide_to_long(dft, [\"A\", \"B\"], i=\"id\", j=\"year\")"
   ]
  },
  {
   "cell_type": "code",
   "execution_count": 14,
   "id": "selected-approach",
   "metadata": {},
   "outputs": [
    {
     "data": {
      "text/html": [
       "<div>\n",
       "<style scoped>\n",
       "    .dataframe tbody tr th:only-of-type {\n",
       "        vertical-align: middle;\n",
       "    }\n",
       "\n",
       "    .dataframe tbody tr th {\n",
       "        vertical-align: top;\n",
       "    }\n",
       "\n",
       "    .dataframe thead tr th {\n",
       "        text-align: left;\n",
       "    }\n",
       "\n",
       "    .dataframe thead tr:last-of-type th {\n",
       "        text-align: right;\n",
       "    }\n",
       "</style>\n",
       "<table border=\"1\" class=\"dataframe\">\n",
       "  <thead>\n",
       "    <tr>\n",
       "      <th></th>\n",
       "      <th>exp</th>\n",
       "      <th>A</th>\n",
       "      <th colspan=\"2\" halign=\"left\">B</th>\n",
       "      <th>A</th>\n",
       "    </tr>\n",
       "    <tr>\n",
       "      <th></th>\n",
       "      <th>animals</th>\n",
       "      <th>cat</th>\n",
       "      <th>dog</th>\n",
       "      <th>cat</th>\n",
       "      <th>dog</th>\n",
       "    </tr>\n",
       "    <tr>\n",
       "      <th>first</th>\n",
       "      <th>second</th>\n",
       "      <th></th>\n",
       "      <th></th>\n",
       "      <th></th>\n",
       "      <th></th>\n",
       "    </tr>\n",
       "  </thead>\n",
       "  <tbody>\n",
       "    <tr>\n",
       "      <th rowspan=\"2\" valign=\"top\">bar</th>\n",
       "      <th>one</th>\n",
       "      <td>-0.195013</td>\n",
       "      <td>-0.286678</td>\n",
       "      <td>-0.118200</td>\n",
       "      <td>0.281041</td>\n",
       "    </tr>\n",
       "    <tr>\n",
       "      <th>two</th>\n",
       "      <td>0.965683</td>\n",
       "      <td>-0.026230</td>\n",
       "      <td>0.640342</td>\n",
       "      <td>1.342184</td>\n",
       "    </tr>\n",
       "    <tr>\n",
       "      <th rowspan=\"2\" valign=\"top\">baz</th>\n",
       "      <th>one</th>\n",
       "      <td>0.618773</td>\n",
       "      <td>-0.669141</td>\n",
       "      <td>1.516334</td>\n",
       "      <td>0.563550</td>\n",
       "    </tr>\n",
       "    <tr>\n",
       "      <th>two</th>\n",
       "      <td>0.632048</td>\n",
       "      <td>1.271618</td>\n",
       "      <td>0.266675</td>\n",
       "      <td>-0.904085</td>\n",
       "    </tr>\n",
       "    <tr>\n",
       "      <th rowspan=\"2\" valign=\"top\">foo</th>\n",
       "      <th>one</th>\n",
       "      <td>-1.562026</td>\n",
       "      <td>0.123651</td>\n",
       "      <td>-0.766859</td>\n",
       "      <td>0.474332</td>\n",
       "    </tr>\n",
       "    <tr>\n",
       "      <th>two</th>\n",
       "      <td>-0.125325</td>\n",
       "      <td>-0.878116</td>\n",
       "      <td>1.785332</td>\n",
       "      <td>-0.200733</td>\n",
       "    </tr>\n",
       "    <tr>\n",
       "      <th rowspan=\"2\" valign=\"top\">qux</th>\n",
       "      <th>one</th>\n",
       "      <td>1.195505</td>\n",
       "      <td>0.109693</td>\n",
       "      <td>-0.204938</td>\n",
       "      <td>0.625577</td>\n",
       "    </tr>\n",
       "    <tr>\n",
       "      <th>two</th>\n",
       "      <td>-0.429843</td>\n",
       "      <td>-0.764270</td>\n",
       "      <td>0.807109</td>\n",
       "      <td>0.609110</td>\n",
       "    </tr>\n",
       "  </tbody>\n",
       "</table>\n",
       "</div>"
      ],
      "text/plain": [
       "exp                  A         B                   A\n",
       "animals            cat       dog       cat       dog\n",
       "first second                                        \n",
       "bar   one    -0.195013 -0.286678 -0.118200  0.281041\n",
       "      two     0.965683 -0.026230  0.640342  1.342184\n",
       "baz   one     0.618773 -0.669141  1.516334  0.563550\n",
       "      two     0.632048  1.271618  0.266675 -0.904085\n",
       "foo   one    -1.562026  0.123651 -0.766859  0.474332\n",
       "      two    -0.125325 -0.878116  1.785332 -0.200733\n",
       "qux   one     1.195505  0.109693 -0.204938  0.625577\n",
       "      two    -0.429843 -0.764270  0.807109  0.609110"
      ]
     },
     "execution_count": 14,
     "metadata": {},
     "output_type": "execute_result"
    }
   ],
   "source": [
    "df"
   ]
  },
  {
   "cell_type": "code",
   "execution_count": 12,
   "id": "communist-backing",
   "metadata": {},
   "outputs": [
    {
     "name": "stdout",
     "output_type": "stream",
     "text": [
      "5.13 ms ± 368 µs per loop (mean ± std. dev. of 7 runs, 100 loops each)\n"
     ]
    }
   ],
   "source": [
    "%timeit df.stack().mean(axis=1).unstack()"
   ]
  },
  {
   "cell_type": "code",
   "execution_count": 13,
   "id": "effective-rally",
   "metadata": {},
   "outputs": [
    {
     "name": "stdout",
     "output_type": "stream",
     "text": [
      "1.77 ms ± 155 µs per loop (mean ± std. dev. of 7 runs, 1000 loops each)\n"
     ]
    }
   ],
   "source": [
    "%timeit df.groupby(level=1, axis=1).mean()"
   ]
  },
  {
   "cell_type": "code",
   "execution_count": 17,
   "id": "peaceful-pacific",
   "metadata": {},
   "outputs": [
    {
     "name": "stdout",
     "output_type": "stream",
     "text": [
      "4.98 ms ± 369 µs per loop (mean ± std. dev. of 7 runs, 100 loops each)\n"
     ]
    }
   ],
   "source": [
    "%timeit df.stack().groupby(level=1).mean() # 4.98 ms ± 369 µs per loop (mean ± std. dev. of 7 runs, 100 loops each)"
   ]
  },
  {
   "cell_type": "code",
   "execution_count": 18,
   "id": "equal-entity",
   "metadata": {},
   "outputs": [
    {
     "name": "stdout",
     "output_type": "stream",
     "text": [
      "1.7 ms ± 165 µs per loop (mean ± std. dev. of 7 runs, 1000 loops each)\n"
     ]
    }
   ],
   "source": [
    "%timeit df.mean().unstack(0) # 1.7 ms ± 165 µs per loop (mean ± std. dev. of 7 runs, 1000 loops each)"
   ]
  },
  {
   "cell_type": "code",
   "execution_count": 20,
   "id": "ethical-bidding",
   "metadata": {},
   "outputs": [
    {
     "data": {
      "text/html": [
       "<div>\n",
       "<style scoped>\n",
       "    .dataframe tbody tr th:only-of-type {\n",
       "        vertical-align: middle;\n",
       "    }\n",
       "\n",
       "    .dataframe tbody tr th {\n",
       "        vertical-align: top;\n",
       "    }\n",
       "\n",
       "    .dataframe thead th {\n",
       "        text-align: right;\n",
       "    }\n",
       "</style>\n",
       "<table border=\"1\" class=\"dataframe\">\n",
       "  <thead>\n",
       "    <tr style=\"text-align: right;\">\n",
       "      <th></th>\n",
       "      <th>A</th>\n",
       "      <th>B</th>\n",
       "      <th>C</th>\n",
       "      <th>D</th>\n",
       "      <th>E</th>\n",
       "      <th>F</th>\n",
       "    </tr>\n",
       "  </thead>\n",
       "  <tbody>\n",
       "    <tr>\n",
       "      <th>0</th>\n",
       "      <td>one</td>\n",
       "      <td>A</td>\n",
       "      <td>foo</td>\n",
       "      <td>-1.085904</td>\n",
       "      <td>0.976838</td>\n",
       "      <td>2013-01-01</td>\n",
       "    </tr>\n",
       "    <tr>\n",
       "      <th>1</th>\n",
       "      <td>one</td>\n",
       "      <td>B</td>\n",
       "      <td>foo</td>\n",
       "      <td>-0.210566</td>\n",
       "      <td>-1.102500</td>\n",
       "      <td>2013-02-01</td>\n",
       "    </tr>\n",
       "    <tr>\n",
       "      <th>2</th>\n",
       "      <td>two</td>\n",
       "      <td>C</td>\n",
       "      <td>foo</td>\n",
       "      <td>-1.665817</td>\n",
       "      <td>-1.252759</td>\n",
       "      <td>2013-03-01</td>\n",
       "    </tr>\n",
       "    <tr>\n",
       "      <th>3</th>\n",
       "      <td>three</td>\n",
       "      <td>A</td>\n",
       "      <td>bar</td>\n",
       "      <td>-0.626337</td>\n",
       "      <td>-0.017486</td>\n",
       "      <td>2013-04-01</td>\n",
       "    </tr>\n",
       "    <tr>\n",
       "      <th>4</th>\n",
       "      <td>one</td>\n",
       "      <td>B</td>\n",
       "      <td>bar</td>\n",
       "      <td>0.008965</td>\n",
       "      <td>0.296896</td>\n",
       "      <td>2013-05-01</td>\n",
       "    </tr>\n",
       "  </tbody>\n",
       "</table>\n",
       "</div>"
      ],
      "text/plain": [
       "       A  B    C         D         E          F\n",
       "0    one  A  foo -1.085904  0.976838 2013-01-01\n",
       "1    one  B  foo -0.210566 -1.102500 2013-02-01\n",
       "2    two  C  foo -1.665817 -1.252759 2013-03-01\n",
       "3  three  A  bar -0.626337 -0.017486 2013-04-01\n",
       "4    one  B  bar  0.008965  0.296896 2013-05-01"
      ]
     },
     "execution_count": 20,
     "metadata": {},
     "output_type": "execute_result"
    }
   ],
   "source": [
    "import datetime\n",
    "df = pd.DataFrame({\n",
    "    \"A\": [\"one\", \"one\", \"two\", \"three\"] * 6,\n",
    "    \"B\": [\"A\", \"B\", \"C\"] * 8,\n",
    "    \"C\": [\"foo\", \"foo\", \"foo\", \"bar\", \"bar\", \"bar\"] * 4,\n",
    "    \"D\": np.random.randn(24),\n",
    "    \"E\": np.random.randn(24),\n",
    "    \"F\": [datetime.datetime(2013, i, 1) for i in range(1, 13)] + [datetime.datetime(2013, i, 15) for i in range(1, 13)],\n",
    "})\n",
    "df.head()"
   ]
  },
  {
   "cell_type": "code",
   "execution_count": 30,
   "id": "statistical-portal",
   "metadata": {},
   "outputs": [
    {
     "data": {
      "text/html": [
       "<div>\n",
       "<style scoped>\n",
       "    .dataframe tbody tr th:only-of-type {\n",
       "        vertical-align: middle;\n",
       "    }\n",
       "\n",
       "    .dataframe tbody tr th {\n",
       "        vertical-align: top;\n",
       "    }\n",
       "\n",
       "    .dataframe thead th {\n",
       "        text-align: right;\n",
       "    }\n",
       "</style>\n",
       "<table border=\"1\" class=\"dataframe\">\n",
       "  <thead>\n",
       "    <tr style=\"text-align: right;\">\n",
       "      <th>C</th>\n",
       "      <th>bar</th>\n",
       "      <th>foo</th>\n",
       "    </tr>\n",
       "    <tr>\n",
       "      <th>F</th>\n",
       "      <th></th>\n",
       "      <th></th>\n",
       "    </tr>\n",
       "  </thead>\n",
       "  <tbody>\n",
       "    <tr>\n",
       "      <th>2013-01-31</th>\n",
       "      <td>NaN</td>\n",
       "      <td>0.399009</td>\n",
       "    </tr>\n",
       "    <tr>\n",
       "      <th>2013-04-30</th>\n",
       "      <td>-0.733485</td>\n",
       "      <td>-0.297026</td>\n",
       "    </tr>\n",
       "    <tr>\n",
       "      <th>2013-07-31</th>\n",
       "      <td>0.329096</td>\n",
       "      <td>0.532486</td>\n",
       "    </tr>\n",
       "    <tr>\n",
       "      <th>2013-10-31</th>\n",
       "      <td>-0.133407</td>\n",
       "      <td>1.348178</td>\n",
       "    </tr>\n",
       "    <tr>\n",
       "      <th>2014-01-31</th>\n",
       "      <td>0.424551</td>\n",
       "      <td>NaN</td>\n",
       "    </tr>\n",
       "  </tbody>\n",
       "</table>\n",
       "</div>"
      ],
      "text/plain": [
       "C                bar       foo\n",
       "F                             \n",
       "2013-01-31       NaN  0.399009\n",
       "2013-04-30 -0.733485 -0.297026\n",
       "2013-07-31  0.329096  0.532486\n",
       "2013-10-31 -0.133407  1.348178\n",
       "2014-01-31  0.424551       NaN"
      ]
     },
     "execution_count": 30,
     "metadata": {},
     "output_type": "execute_result"
    }
   ],
   "source": [
    "pd.pivot_table(df, values='D', index=['A','B'], columns=\"C\")\n",
    "pd.pivot_table(df, values='D', index=['B'], columns=\"C\", aggfunc=np.sum)\n",
    "pd.pivot_table(df, index=['A','B'], columns=[\"C\"], aggfunc=np.sum)\n",
    "pd.pivot_table(df, values='D', \n",
    "               index=pd.Grouper(freq='3M', key='F'), columns='C')"
   ]
  },
  {
   "cell_type": "code",
   "execution_count": 32,
   "id": "corrected-following",
   "metadata": {},
   "outputs": [
    {
     "name": "stdout",
     "output_type": "stream",
     "text": [
      "                D                   E          \n",
      "C             bar       foo       bar       foo\n",
      "A     B                                        \n",
      "one   A -0.133407  0.399009  0.809248  0.057943\n",
      "      B  0.025018 -0.584340 -0.092106 -0.794168\n",
      "      C  0.633173  1.800555 -1.984427 -1.092609\n",
      "three A -0.733485            0.014646          \n",
      "      B            0.895802           -0.343095\n",
      "      C  1.179198            0.776831          \n",
      "two   A            0.532486            0.087111\n",
      "      B -0.330097           -0.213255          \n",
      "      C           -0.009711           -0.635694\n"
     ]
    }
   ],
   "source": [
    "table = pd.pivot_table(df, index=['A','B'], columns='C')\n",
    "print(table.to_string(na_rep=''))"
   ]
  },
  {
   "cell_type": "code",
   "execution_count": 34,
   "id": "greatest-ethnic",
   "metadata": {},
   "outputs": [
    {
     "data": {
      "text/html": [
       "<div>\n",
       "<style scoped>\n",
       "    .dataframe tbody tr th:only-of-type {\n",
       "        vertical-align: middle;\n",
       "    }\n",
       "\n",
       "    .dataframe tbody tr th {\n",
       "        vertical-align: top;\n",
       "    }\n",
       "\n",
       "    .dataframe thead th {\n",
       "        text-align: right;\n",
       "    }\n",
       "</style>\n",
       "<table border=\"1\" class=\"dataframe\">\n",
       "  <thead>\n",
       "    <tr style=\"text-align: right;\">\n",
       "      <th></th>\n",
       "      <th>A</th>\n",
       "      <th>B</th>\n",
       "      <th>C</th>\n",
       "      <th>D</th>\n",
       "      <th>E</th>\n",
       "      <th>F</th>\n",
       "    </tr>\n",
       "  </thead>\n",
       "  <tbody>\n",
       "    <tr>\n",
       "      <th>0</th>\n",
       "      <td>one</td>\n",
       "      <td>A</td>\n",
       "      <td>foo</td>\n",
       "      <td>-1.085904</td>\n",
       "      <td>0.976838</td>\n",
       "      <td>2013-01-01</td>\n",
       "    </tr>\n",
       "    <tr>\n",
       "      <th>1</th>\n",
       "      <td>one</td>\n",
       "      <td>B</td>\n",
       "      <td>foo</td>\n",
       "      <td>-0.210566</td>\n",
       "      <td>-1.102500</td>\n",
       "      <td>2013-02-01</td>\n",
       "    </tr>\n",
       "    <tr>\n",
       "      <th>2</th>\n",
       "      <td>two</td>\n",
       "      <td>C</td>\n",
       "      <td>foo</td>\n",
       "      <td>-1.665817</td>\n",
       "      <td>-1.252759</td>\n",
       "      <td>2013-03-01</td>\n",
       "    </tr>\n",
       "    <tr>\n",
       "      <th>3</th>\n",
       "      <td>three</td>\n",
       "      <td>A</td>\n",
       "      <td>bar</td>\n",
       "      <td>-0.626337</td>\n",
       "      <td>-0.017486</td>\n",
       "      <td>2013-04-01</td>\n",
       "    </tr>\n",
       "    <tr>\n",
       "      <th>4</th>\n",
       "      <td>one</td>\n",
       "      <td>B</td>\n",
       "      <td>bar</td>\n",
       "      <td>0.008965</td>\n",
       "      <td>0.296896</td>\n",
       "      <td>2013-05-01</td>\n",
       "    </tr>\n",
       "  </tbody>\n",
       "</table>\n",
       "</div>"
      ],
      "text/plain": [
       "       A  B    C         D         E          F\n",
       "0    one  A  foo -1.085904  0.976838 2013-01-01\n",
       "1    one  B  foo -0.210566 -1.102500 2013-02-01\n",
       "2    two  C  foo -1.665817 -1.252759 2013-03-01\n",
       "3  three  A  bar -0.626337 -0.017486 2013-04-01\n",
       "4    one  B  bar  0.008965  0.296896 2013-05-01"
      ]
     },
     "execution_count": 34,
     "metadata": {},
     "output_type": "execute_result"
    }
   ],
   "source": [
    "df.head()"
   ]
  },
  {
   "cell_type": "code",
   "execution_count": 35,
   "id": "general-respondent",
   "metadata": {},
   "outputs": [
    {
     "data": {
      "text/html": [
       "<div>\n",
       "<style scoped>\n",
       "    .dataframe tbody tr th:only-of-type {\n",
       "        vertical-align: middle;\n",
       "    }\n",
       "\n",
       "    .dataframe tbody tr th {\n",
       "        vertical-align: top;\n",
       "    }\n",
       "\n",
       "    .dataframe thead tr th {\n",
       "        text-align: left;\n",
       "    }\n",
       "\n",
       "    .dataframe thead tr:last-of-type th {\n",
       "        text-align: right;\n",
       "    }\n",
       "</style>\n",
       "<table border=\"1\" class=\"dataframe\">\n",
       "  <thead>\n",
       "    <tr>\n",
       "      <th></th>\n",
       "      <th></th>\n",
       "      <th colspan=\"3\" halign=\"left\">D</th>\n",
       "      <th colspan=\"3\" halign=\"left\">E</th>\n",
       "    </tr>\n",
       "    <tr>\n",
       "      <th></th>\n",
       "      <th>C</th>\n",
       "      <th>bar</th>\n",
       "      <th>foo</th>\n",
       "      <th>All</th>\n",
       "      <th>bar</th>\n",
       "      <th>foo</th>\n",
       "      <th>All</th>\n",
       "    </tr>\n",
       "    <tr>\n",
       "      <th>A</th>\n",
       "      <th>B</th>\n",
       "      <th></th>\n",
       "      <th></th>\n",
       "      <th></th>\n",
       "      <th></th>\n",
       "      <th></th>\n",
       "      <th></th>\n",
       "    </tr>\n",
       "  </thead>\n",
       "  <tbody>\n",
       "    <tr>\n",
       "      <th rowspan=\"3\" valign=\"top\">one</th>\n",
       "      <th>A</th>\n",
       "      <td>-0.266814</td>\n",
       "      <td>0.798018</td>\n",
       "      <td>0.531204</td>\n",
       "      <td>1.618497</td>\n",
       "      <td>0.115885</td>\n",
       "      <td>1.734382</td>\n",
       "    </tr>\n",
       "    <tr>\n",
       "      <th>B</th>\n",
       "      <td>0.050036</td>\n",
       "      <td>-1.168680</td>\n",
       "      <td>-1.118644</td>\n",
       "      <td>-0.184212</td>\n",
       "      <td>-1.588336</td>\n",
       "      <td>-1.772548</td>\n",
       "    </tr>\n",
       "    <tr>\n",
       "      <th>C</th>\n",
       "      <td>1.266347</td>\n",
       "      <td>3.601109</td>\n",
       "      <td>4.867456</td>\n",
       "      <td>-3.968853</td>\n",
       "      <td>-2.185217</td>\n",
       "      <td>-6.154070</td>\n",
       "    </tr>\n",
       "    <tr>\n",
       "      <th rowspan=\"3\" valign=\"top\">three</th>\n",
       "      <th>A</th>\n",
       "      <td>-1.466970</td>\n",
       "      <td>NaN</td>\n",
       "      <td>-1.466970</td>\n",
       "      <td>0.029293</td>\n",
       "      <td>NaN</td>\n",
       "      <td>0.029293</td>\n",
       "    </tr>\n",
       "    <tr>\n",
       "      <th>B</th>\n",
       "      <td>NaN</td>\n",
       "      <td>1.791604</td>\n",
       "      <td>1.791604</td>\n",
       "      <td>NaN</td>\n",
       "      <td>-0.686191</td>\n",
       "      <td>-0.686191</td>\n",
       "    </tr>\n",
       "    <tr>\n",
       "      <th>C</th>\n",
       "      <td>2.358396</td>\n",
       "      <td>NaN</td>\n",
       "      <td>2.358396</td>\n",
       "      <td>1.553662</td>\n",
       "      <td>NaN</td>\n",
       "      <td>1.553662</td>\n",
       "    </tr>\n",
       "    <tr>\n",
       "      <th rowspan=\"3\" valign=\"top\">two</th>\n",
       "      <th>A</th>\n",
       "      <td>NaN</td>\n",
       "      <td>1.064972</td>\n",
       "      <td>1.064972</td>\n",
       "      <td>NaN</td>\n",
       "      <td>0.174223</td>\n",
       "      <td>0.174223</td>\n",
       "    </tr>\n",
       "    <tr>\n",
       "      <th>B</th>\n",
       "      <td>-0.660193</td>\n",
       "      <td>NaN</td>\n",
       "      <td>-0.660193</td>\n",
       "      <td>-0.426511</td>\n",
       "      <td>NaN</td>\n",
       "      <td>-0.426511</td>\n",
       "    </tr>\n",
       "    <tr>\n",
       "      <th>C</th>\n",
       "      <td>NaN</td>\n",
       "      <td>-0.019422</td>\n",
       "      <td>-0.019422</td>\n",
       "      <td>NaN</td>\n",
       "      <td>-1.271387</td>\n",
       "      <td>-1.271387</td>\n",
       "    </tr>\n",
       "    <tr>\n",
       "      <th>All</th>\n",
       "      <th></th>\n",
       "      <td>1.280802</td>\n",
       "      <td>6.067601</td>\n",
       "      <td>7.348403</td>\n",
       "      <td>-1.378124</td>\n",
       "      <td>-5.441023</td>\n",
       "      <td>-6.819147</td>\n",
       "    </tr>\n",
       "  </tbody>\n",
       "</table>\n",
       "</div>"
      ],
      "text/plain": [
       "                D                             E                    \n",
       "C             bar       foo       All       bar       foo       All\n",
       "A     B                                                            \n",
       "one   A -0.266814  0.798018  0.531204  1.618497  0.115885  1.734382\n",
       "      B  0.050036 -1.168680 -1.118644 -0.184212 -1.588336 -1.772548\n",
       "      C  1.266347  3.601109  4.867456 -3.968853 -2.185217 -6.154070\n",
       "three A -1.466970       NaN -1.466970  0.029293       NaN  0.029293\n",
       "      B       NaN  1.791604  1.791604       NaN -0.686191 -0.686191\n",
       "      C  2.358396       NaN  2.358396  1.553662       NaN  1.553662\n",
       "two   A       NaN  1.064972  1.064972       NaN  0.174223  0.174223\n",
       "      B -0.660193       NaN -0.660193 -0.426511       NaN -0.426511\n",
       "      C       NaN -0.019422 -0.019422       NaN -1.271387 -1.271387\n",
       "All      1.280802  6.067601  7.348403 -1.378124 -5.441023 -6.819147"
      ]
     },
     "execution_count": 35,
     "metadata": {},
     "output_type": "execute_result"
    }
   ],
   "source": [
    "df.pivot_table(index=['A', 'B'], columns='C', margins=True, aggfunc=np.sum)"
   ]
  },
  {
   "cell_type": "code",
   "execution_count": 41,
   "id": "every-darkness",
   "metadata": {},
   "outputs": [
    {
     "data": {
      "text/html": [
       "<div>\n",
       "<style scoped>\n",
       "    .dataframe tbody tr th:only-of-type {\n",
       "        vertical-align: middle;\n",
       "    }\n",
       "\n",
       "    .dataframe tbody tr th {\n",
       "        vertical-align: top;\n",
       "    }\n",
       "\n",
       "    .dataframe thead tr th {\n",
       "        text-align: left;\n",
       "    }\n",
       "\n",
       "    .dataframe thead tr:last-of-type th {\n",
       "        text-align: right;\n",
       "    }\n",
       "</style>\n",
       "<table border=\"1\" class=\"dataframe\">\n",
       "  <thead>\n",
       "    <tr>\n",
       "      <th>b</th>\n",
       "      <th colspan=\"2\" halign=\"left\">one</th>\n",
       "      <th colspan=\"2\" halign=\"left\">two</th>\n",
       "    </tr>\n",
       "    <tr>\n",
       "      <th>c</th>\n",
       "      <th>dull</th>\n",
       "      <th>shiny</th>\n",
       "      <th>dull</th>\n",
       "      <th>shiny</th>\n",
       "    </tr>\n",
       "    <tr>\n",
       "      <th>a</th>\n",
       "      <th></th>\n",
       "      <th></th>\n",
       "      <th></th>\n",
       "      <th></th>\n",
       "    </tr>\n",
       "  </thead>\n",
       "  <tbody>\n",
       "    <tr>\n",
       "      <th>bar</th>\n",
       "      <td>1</td>\n",
       "      <td>0</td>\n",
       "      <td>0</td>\n",
       "      <td>1</td>\n",
       "    </tr>\n",
       "    <tr>\n",
       "      <th>foo</th>\n",
       "      <td>2</td>\n",
       "      <td>1</td>\n",
       "      <td>1</td>\n",
       "      <td>0</td>\n",
       "    </tr>\n",
       "  </tbody>\n",
       "</table>\n",
       "</div>"
      ],
      "text/plain": [
       "b    one        two      \n",
       "c   dull shiny dull shiny\n",
       "a                        \n",
       "bar    1     0    0     1\n",
       "foo    2     1    1     0"
      ]
     },
     "execution_count": 41,
     "metadata": {},
     "output_type": "execute_result"
    }
   ],
   "source": [
    "foo, bar, dull, shiny, one, two = \"foo\", \"bar\", \"dull\", \"shiny\", \"one\", \"two\"\n",
    "a = np.array([foo, foo, bar, bar, foo, foo], dtype=object)\n",
    "b = np.array([one, one, two, one, two, one], dtype=object)\n",
    "c = np.array([dull, dull, shiny, dull, dull, shiny], dtype=object)\n",
    "\n",
    "pd.crosstab(a,[b,c], rownames=[\"a\"], colnames=[\"b\", \"c\"])"
   ]
  },
  {
   "cell_type": "code",
   "execution_count": 46,
   "id": "lucky-nicholas",
   "metadata": {},
   "outputs": [
    {
     "data": {
      "text/html": [
       "<div>\n",
       "<style scoped>\n",
       "    .dataframe tbody tr th:only-of-type {\n",
       "        vertical-align: middle;\n",
       "    }\n",
       "\n",
       "    .dataframe tbody tr th {\n",
       "        vertical-align: top;\n",
       "    }\n",
       "\n",
       "    .dataframe thead th {\n",
       "        text-align: right;\n",
       "    }\n",
       "</style>\n",
       "<table border=\"1\" class=\"dataframe\">\n",
       "  <thead>\n",
       "    <tr style=\"text-align: right;\">\n",
       "      <th>B</th>\n",
       "      <th>3</th>\n",
       "      <th>4</th>\n",
       "      <th>All</th>\n",
       "    </tr>\n",
       "    <tr>\n",
       "      <th>A</th>\n",
       "      <th></th>\n",
       "      <th></th>\n",
       "      <th></th>\n",
       "    </tr>\n",
       "  </thead>\n",
       "  <tbody>\n",
       "    <tr>\n",
       "      <th>1</th>\n",
       "      <td>1</td>\n",
       "      <td>0</td>\n",
       "      <td>1</td>\n",
       "    </tr>\n",
       "    <tr>\n",
       "      <th>2</th>\n",
       "      <td>1</td>\n",
       "      <td>3</td>\n",
       "      <td>4</td>\n",
       "    </tr>\n",
       "    <tr>\n",
       "      <th>All</th>\n",
       "      <td>2</td>\n",
       "      <td>3</td>\n",
       "      <td>5</td>\n",
       "    </tr>\n",
       "  </tbody>\n",
       "</table>\n",
       "</div>"
      ],
      "text/plain": [
       "B    3  4  All\n",
       "A             \n",
       "1    1  0    1\n",
       "2    1  3    4\n",
       "All  2  3    5"
      ]
     },
     "execution_count": 46,
     "metadata": {},
     "output_type": "execute_result"
    }
   ],
   "source": [
    "df = pd.DataFrame({\n",
    "    \"A\": [1, 2, 2, 2, 2], \"B\": [3, 3, 4, 4, 4], \"C\": [1, 1, np.nan, 1, 1]\n",
    "})\n",
    "pd.crosstab(df['A'], df['B'], margins=True)"
   ]
  },
  {
   "cell_type": "code",
   "execution_count": 47,
   "id": "silent-branch",
   "metadata": {},
   "outputs": [
    {
     "data": {
      "text/html": [
       "<div>\n",
       "<style scoped>\n",
       "    .dataframe tbody tr th:only-of-type {\n",
       "        vertical-align: middle;\n",
       "    }\n",
       "\n",
       "    .dataframe tbody tr th {\n",
       "        vertical-align: top;\n",
       "    }\n",
       "\n",
       "    .dataframe thead th {\n",
       "        text-align: right;\n",
       "    }\n",
       "</style>\n",
       "<table border=\"1\" class=\"dataframe\">\n",
       "  <thead>\n",
       "    <tr style=\"text-align: right;\">\n",
       "      <th>col_0</th>\n",
       "      <th>d</th>\n",
       "      <th>e</th>\n",
       "    </tr>\n",
       "    <tr>\n",
       "      <th>row_0</th>\n",
       "      <th></th>\n",
       "      <th></th>\n",
       "    </tr>\n",
       "  </thead>\n",
       "  <tbody>\n",
       "    <tr>\n",
       "      <th>a</th>\n",
       "      <td>1</td>\n",
       "      <td>0</td>\n",
       "    </tr>\n",
       "    <tr>\n",
       "      <th>b</th>\n",
       "      <td>0</td>\n",
       "      <td>1</td>\n",
       "    </tr>\n",
       "  </tbody>\n",
       "</table>\n",
       "</div>"
      ],
      "text/plain": [
       "col_0  d  e\n",
       "row_0      \n",
       "a      1  0\n",
       "b      0  1"
      ]
     },
     "execution_count": 47,
     "metadata": {},
     "output_type": "execute_result"
    }
   ],
   "source": [
    "foo = pd.Categorical([\"a\", \"b\"], categories=[\"a\", \"b\", \"c\"])\n",
    "bar = pd.Categorical([\"d\", \"e\"], categories=[\"d\", \"e\", \"f\"])\n",
    "pd.crosstab(foo, bar)"
   ]
  },
  {
   "cell_type": "code",
   "execution_count": 54,
   "id": "binary-kingdom",
   "metadata": {},
   "outputs": [
    {
     "data": {
      "text/plain": [
       "[(0.993, 3.333], (0.993, 3.333], (3.333, 5.667], (0.993, 3.333], (5.667, 8.0], (5.667, 8.0]]\n",
       "Categories (3, interval[float64]): [(0.993, 3.333] < (3.333, 5.667] < (5.667, 8.0]]"
      ]
     },
     "execution_count": 54,
     "metadata": {},
     "output_type": "execute_result"
    }
   ],
   "source": [
    "ages = np.array([1, 2, 4, 3, 8, 6])\n",
    "pd.cut(ages, bins=3)"
   ]
  },
  {
   "cell_type": "code",
   "execution_count": 59,
   "id": "impressive-mason",
   "metadata": {},
   "outputs": [
    {
     "data": {
      "text/plain": [
       "[(0, 3], (0, 3], (3, 6], (0, 3], (6, 9], (3, 6]]\n",
       "Categories (3, interval[int64]): [(0, 3] < (3, 6] < (6, 9]]"
      ]
     },
     "execution_count": 59,
     "metadata": {},
     "output_type": "execute_result"
    }
   ],
   "source": [
    "c = pd.cut(ages, bins=[0, 3, 6, 9])\n",
    "c"
   ]
  },
  {
   "cell_type": "code",
   "execution_count": 64,
   "id": "instant-fence",
   "metadata": {},
   "outputs": [
    {
     "name": "stdout",
     "output_type": "stream",
     "text": [
      "  key  data1\n",
      "0   b      0\n",
      "1   b      1\n",
      "2   a      2\n",
      "3   c      3\n"
     ]
    },
    {
     "data": {
      "text/html": [
       "<div>\n",
       "<style scoped>\n",
       "    .dataframe tbody tr th:only-of-type {\n",
       "        vertical-align: middle;\n",
       "    }\n",
       "\n",
       "    .dataframe tbody tr th {\n",
       "        vertical-align: top;\n",
       "    }\n",
       "\n",
       "    .dataframe thead th {\n",
       "        text-align: right;\n",
       "    }\n",
       "</style>\n",
       "<table border=\"1\" class=\"dataframe\">\n",
       "  <thead>\n",
       "    <tr style=\"text-align: right;\">\n",
       "      <th></th>\n",
       "      <th>a</th>\n",
       "      <th>b</th>\n",
       "      <th>c</th>\n",
       "    </tr>\n",
       "  </thead>\n",
       "  <tbody>\n",
       "    <tr>\n",
       "      <th>0</th>\n",
       "      <td>0</td>\n",
       "      <td>1</td>\n",
       "      <td>0</td>\n",
       "    </tr>\n",
       "    <tr>\n",
       "      <th>1</th>\n",
       "      <td>0</td>\n",
       "      <td>1</td>\n",
       "      <td>0</td>\n",
       "    </tr>\n",
       "    <tr>\n",
       "      <th>2</th>\n",
       "      <td>1</td>\n",
       "      <td>0</td>\n",
       "      <td>0</td>\n",
       "    </tr>\n",
       "    <tr>\n",
       "      <th>3</th>\n",
       "      <td>0</td>\n",
       "      <td>0</td>\n",
       "      <td>1</td>\n",
       "    </tr>\n",
       "  </tbody>\n",
       "</table>\n",
       "</div>"
      ],
      "text/plain": [
       "   a  b  c\n",
       "0  0  1  0\n",
       "1  0  1  0\n",
       "2  1  0  0\n",
       "3  0  0  1"
      ]
     },
     "execution_count": 64,
     "metadata": {},
     "output_type": "execute_result"
    }
   ],
   "source": [
    "df = pd.DataFrame({\"key\": list(\"bbac\"), \"data1\": range(4)})\n",
    "print(df)\n",
    "pd.get_dummies(df['key'])"
   ]
  },
  {
   "cell_type": "code",
   "execution_count": 65,
   "id": "working-player",
   "metadata": {},
   "outputs": [
    {
     "data": {
      "text/html": [
       "<div>\n",
       "<style scoped>\n",
       "    .dataframe tbody tr th:only-of-type {\n",
       "        vertical-align: middle;\n",
       "    }\n",
       "\n",
       "    .dataframe tbody tr th {\n",
       "        vertical-align: top;\n",
       "    }\n",
       "\n",
       "    .dataframe thead th {\n",
       "        text-align: right;\n",
       "    }\n",
       "</style>\n",
       "<table border=\"1\" class=\"dataframe\">\n",
       "  <thead>\n",
       "    <tr style=\"text-align: right;\">\n",
       "      <th></th>\n",
       "      <th>key_a</th>\n",
       "      <th>key_b</th>\n",
       "      <th>key_c</th>\n",
       "    </tr>\n",
       "  </thead>\n",
       "  <tbody>\n",
       "    <tr>\n",
       "      <th>0</th>\n",
       "      <td>0</td>\n",
       "      <td>1</td>\n",
       "      <td>0</td>\n",
       "    </tr>\n",
       "    <tr>\n",
       "      <th>1</th>\n",
       "      <td>0</td>\n",
       "      <td>1</td>\n",
       "      <td>0</td>\n",
       "    </tr>\n",
       "    <tr>\n",
       "      <th>2</th>\n",
       "      <td>1</td>\n",
       "      <td>0</td>\n",
       "      <td>0</td>\n",
       "    </tr>\n",
       "    <tr>\n",
       "      <th>3</th>\n",
       "      <td>0</td>\n",
       "      <td>0</td>\n",
       "      <td>1</td>\n",
       "    </tr>\n",
       "  </tbody>\n",
       "</table>\n",
       "</div>"
      ],
      "text/plain": [
       "   key_a  key_b  key_c\n",
       "0      0      1      0\n",
       "1      0      1      0\n",
       "2      1      0      0\n",
       "3      0      0      1"
      ]
     },
     "execution_count": 65,
     "metadata": {},
     "output_type": "execute_result"
    }
   ],
   "source": [
    "dummies = pd.get_dummies(df[\"key\"], prefix=\"key\")\n",
    "dummies"
   ]
  },
  {
   "cell_type": "code",
   "execution_count": 66,
   "id": "alone-details",
   "metadata": {},
   "outputs": [
    {
     "data": {
      "text/html": [
       "<div>\n",
       "<style scoped>\n",
       "    .dataframe tbody tr th:only-of-type {\n",
       "        vertical-align: middle;\n",
       "    }\n",
       "\n",
       "    .dataframe tbody tr th {\n",
       "        vertical-align: top;\n",
       "    }\n",
       "\n",
       "    .dataframe thead th {\n",
       "        text-align: right;\n",
       "    }\n",
       "</style>\n",
       "<table border=\"1\" class=\"dataframe\">\n",
       "  <thead>\n",
       "    <tr style=\"text-align: right;\">\n",
       "      <th></th>\n",
       "      <th>data1</th>\n",
       "      <th>key_a</th>\n",
       "      <th>key_b</th>\n",
       "      <th>key_c</th>\n",
       "    </tr>\n",
       "  </thead>\n",
       "  <tbody>\n",
       "    <tr>\n",
       "      <th>0</th>\n",
       "      <td>0</td>\n",
       "      <td>0</td>\n",
       "      <td>1</td>\n",
       "      <td>0</td>\n",
       "    </tr>\n",
       "    <tr>\n",
       "      <th>1</th>\n",
       "      <td>1</td>\n",
       "      <td>0</td>\n",
       "      <td>1</td>\n",
       "      <td>0</td>\n",
       "    </tr>\n",
       "    <tr>\n",
       "      <th>2</th>\n",
       "      <td>2</td>\n",
       "      <td>1</td>\n",
       "      <td>0</td>\n",
       "      <td>0</td>\n",
       "    </tr>\n",
       "    <tr>\n",
       "      <th>3</th>\n",
       "      <td>3</td>\n",
       "      <td>0</td>\n",
       "      <td>0</td>\n",
       "      <td>1</td>\n",
       "    </tr>\n",
       "  </tbody>\n",
       "</table>\n",
       "</div>"
      ],
      "text/plain": [
       "   data1  key_a  key_b  key_c\n",
       "0      0      0      1      0\n",
       "1      1      0      1      0\n",
       "2      2      1      0      0\n",
       "3      3      0      0      1"
      ]
     },
     "execution_count": 66,
     "metadata": {},
     "output_type": "execute_result"
    }
   ],
   "source": [
    "df[[\"data1\"]].join(dummies)"
   ]
  },
  {
   "cell_type": "code",
   "execution_count": 69,
   "id": "advised-boost",
   "metadata": {},
   "outputs": [
    {
     "name": "stdout",
     "output_type": "stream",
     "text": [
      "[-0.14830284 -0.40201434  0.63955668 -0.0149193  -1.5780331   0.77066684\n",
      " -0.00256369 -0.32198427  0.62773557 -1.41595059]\n"
     ]
    }
   ],
   "source": [
    "values = np.random.randn(10)\n",
    "bins = [0, 0.2, 0.4, 0.6, 0.8, 1]\n",
    "print(values)"
   ]
  },
  {
   "cell_type": "code",
   "execution_count": 72,
   "id": "grand-receipt",
   "metadata": {},
   "outputs": [
    {
     "data": {
      "text/html": [
       "<div>\n",
       "<style scoped>\n",
       "    .dataframe tbody tr th:only-of-type {\n",
       "        vertical-align: middle;\n",
       "    }\n",
       "\n",
       "    .dataframe tbody tr th {\n",
       "        vertical-align: top;\n",
       "    }\n",
       "\n",
       "    .dataframe thead th {\n",
       "        text-align: right;\n",
       "    }\n",
       "</style>\n",
       "<table border=\"1\" class=\"dataframe\">\n",
       "  <thead>\n",
       "    <tr style=\"text-align: right;\">\n",
       "      <th></th>\n",
       "      <th>(0.0, 0.2]</th>\n",
       "      <th>(0.2, 0.4]</th>\n",
       "      <th>(0.4, 0.6]</th>\n",
       "      <th>(0.6, 0.8]</th>\n",
       "      <th>(0.8, 1.0]</th>\n",
       "    </tr>\n",
       "  </thead>\n",
       "  <tbody>\n",
       "    <tr>\n",
       "      <th>0</th>\n",
       "      <td>0</td>\n",
       "      <td>0</td>\n",
       "      <td>0</td>\n",
       "      <td>0</td>\n",
       "      <td>0</td>\n",
       "    </tr>\n",
       "    <tr>\n",
       "      <th>1</th>\n",
       "      <td>0</td>\n",
       "      <td>0</td>\n",
       "      <td>0</td>\n",
       "      <td>0</td>\n",
       "      <td>0</td>\n",
       "    </tr>\n",
       "    <tr>\n",
       "      <th>2</th>\n",
       "      <td>0</td>\n",
       "      <td>0</td>\n",
       "      <td>0</td>\n",
       "      <td>1</td>\n",
       "      <td>0</td>\n",
       "    </tr>\n",
       "    <tr>\n",
       "      <th>3</th>\n",
       "      <td>0</td>\n",
       "      <td>0</td>\n",
       "      <td>0</td>\n",
       "      <td>0</td>\n",
       "      <td>0</td>\n",
       "    </tr>\n",
       "    <tr>\n",
       "      <th>4</th>\n",
       "      <td>0</td>\n",
       "      <td>0</td>\n",
       "      <td>0</td>\n",
       "      <td>0</td>\n",
       "      <td>0</td>\n",
       "    </tr>\n",
       "    <tr>\n",
       "      <th>5</th>\n",
       "      <td>0</td>\n",
       "      <td>0</td>\n",
       "      <td>0</td>\n",
       "      <td>1</td>\n",
       "      <td>0</td>\n",
       "    </tr>\n",
       "    <tr>\n",
       "      <th>6</th>\n",
       "      <td>0</td>\n",
       "      <td>0</td>\n",
       "      <td>0</td>\n",
       "      <td>0</td>\n",
       "      <td>0</td>\n",
       "    </tr>\n",
       "    <tr>\n",
       "      <th>7</th>\n",
       "      <td>0</td>\n",
       "      <td>0</td>\n",
       "      <td>0</td>\n",
       "      <td>0</td>\n",
       "      <td>0</td>\n",
       "    </tr>\n",
       "    <tr>\n",
       "      <th>8</th>\n",
       "      <td>0</td>\n",
       "      <td>0</td>\n",
       "      <td>0</td>\n",
       "      <td>1</td>\n",
       "      <td>0</td>\n",
       "    </tr>\n",
       "    <tr>\n",
       "      <th>9</th>\n",
       "      <td>0</td>\n",
       "      <td>0</td>\n",
       "      <td>0</td>\n",
       "      <td>0</td>\n",
       "      <td>0</td>\n",
       "    </tr>\n",
       "  </tbody>\n",
       "</table>\n",
       "</div>"
      ],
      "text/plain": [
       "   (0.0, 0.2]  (0.2, 0.4]  (0.4, 0.6]  (0.6, 0.8]  (0.8, 1.0]\n",
       "0           0           0           0           0           0\n",
       "1           0           0           0           0           0\n",
       "2           0           0           0           1           0\n",
       "3           0           0           0           0           0\n",
       "4           0           0           0           0           0\n",
       "5           0           0           0           1           0\n",
       "6           0           0           0           0           0\n",
       "7           0           0           0           0           0\n",
       "8           0           0           0           1           0\n",
       "9           0           0           0           0           0"
      ]
     },
     "execution_count": 72,
     "metadata": {},
     "output_type": "execute_result"
    }
   ],
   "source": [
    "pd.cut(values, bins)\n",
    "pd.get_dummies(pd.cut(values, bins))"
   ]
  },
  {
   "cell_type": "code",
   "execution_count": 74,
   "id": "chemical-green",
   "metadata": {},
   "outputs": [
    {
     "data": {
      "text/html": [
       "<div>\n",
       "<style scoped>\n",
       "    .dataframe tbody tr th:only-of-type {\n",
       "        vertical-align: middle;\n",
       "    }\n",
       "\n",
       "    .dataframe tbody tr th {\n",
       "        vertical-align: top;\n",
       "    }\n",
       "\n",
       "    .dataframe thead th {\n",
       "        text-align: right;\n",
       "    }\n",
       "</style>\n",
       "<table border=\"1\" class=\"dataframe\">\n",
       "  <thead>\n",
       "    <tr style=\"text-align: right;\">\n",
       "      <th></th>\n",
       "      <th>C</th>\n",
       "      <th>A_a</th>\n",
       "      <th>A_b</th>\n",
       "      <th>B_b</th>\n",
       "      <th>B_c</th>\n",
       "    </tr>\n",
       "  </thead>\n",
       "  <tbody>\n",
       "    <tr>\n",
       "      <th>0</th>\n",
       "      <td>1</td>\n",
       "      <td>1</td>\n",
       "      <td>0</td>\n",
       "      <td>0</td>\n",
       "      <td>1</td>\n",
       "    </tr>\n",
       "    <tr>\n",
       "      <th>1</th>\n",
       "      <td>2</td>\n",
       "      <td>0</td>\n",
       "      <td>1</td>\n",
       "      <td>0</td>\n",
       "      <td>1</td>\n",
       "    </tr>\n",
       "    <tr>\n",
       "      <th>2</th>\n",
       "      <td>3</td>\n",
       "      <td>1</td>\n",
       "      <td>0</td>\n",
       "      <td>1</td>\n",
       "      <td>0</td>\n",
       "    </tr>\n",
       "  </tbody>\n",
       "</table>\n",
       "</div>"
      ],
      "text/plain": [
       "   C  A_a  A_b  B_b  B_c\n",
       "0  1    1    0    0    1\n",
       "1  2    0    1    0    1\n",
       "2  3    1    0    1    0"
      ]
     },
     "execution_count": 74,
     "metadata": {},
     "output_type": "execute_result"
    }
   ],
   "source": [
    "df = pd.DataFrame({\"A\": [\"a\", \"b\", \"a\"], \"B\": [\"c\", \"c\", \"b\"], \n",
    "                   \"C\": [1, 2,3]})\n",
    "pd.get_dummies(df)"
   ]
  },
  {
   "cell_type": "code",
   "execution_count": 88,
   "id": "periodic-mason",
   "metadata": {},
   "outputs": [
    {
     "name": "stdout",
     "output_type": "stream",
     "text": [
      "0       A\n",
      "1       A\n",
      "2     NaN\n",
      "3       B\n",
      "4    3.14\n",
      "5     inf\n",
      "dtype: object\n"
     ]
    },
    {
     "data": {
      "text/plain": [
       "(array([ 0,  0, -1,  1,  2,  3]), Index(['A', 'B', 3.14, inf], dtype='object'))"
      ]
     },
     "execution_count": 88,
     "metadata": {},
     "output_type": "execute_result"
    }
   ],
   "source": [
    "x = pd.Series([\"A\", \"A\", np.nan, \"B\", 3.14, np.inf])\n",
    "print(x)\n",
    "pd.factorize(x)"
   ]
  },
  {
   "cell_type": "code",
   "execution_count": 86,
   "id": "greek-madonna",
   "metadata": {},
   "outputs": [
    {
     "name": "stdout",
     "output_type": "stream",
     "text": [
      "[ 1.  2.  3.  5. inf nan nan]\n",
      "(array([ 0,  1,  0,  2,  3, -1,  4, -1]), array([ 1.,  3.,  2.,  5., inf]))\n"
     ]
    }
   ],
   "source": [
    "print(np.unique([1,3,1,2,5,np.nan,np.inf, np.nan]))\n",
    "print(pd.factorize([1,3,1,2,5,np.nan, np.inf, np.nan]))"
   ]
  },
  {
   "cell_type": "code",
   "execution_count": 110,
   "id": "effective-lecture",
   "metadata": {},
   "outputs": [
    {
     "data": {
      "text/plain": [
       "(array([ 2,  2, -1,  3,  0,  1]), Index([3.14, inf, 'A', 'B'], dtype='object'))"
      ]
     },
     "execution_count": 110,
     "metadata": {},
     "output_type": "execute_result"
    }
   ],
   "source": [
    "x = pd.Series(['A', 'A', np.nan, 'B', 3.14, np.inf])\n",
    "pd.factorize(x, sort=True)\n",
    "#np.unique(x, return_inverse=True)[::-1] # TypeError: '<' not supported between instances of 'float' and 'str'\n"
   ]
  },
  {
   "cell_type": "code",
   "execution_count": 112,
   "id": "sophisticated-rainbow",
   "metadata": {},
   "outputs": [
    {
     "data": {
      "text/html": [
       "<div>\n",
       "<style scoped>\n",
       "    .dataframe tbody tr th:only-of-type {\n",
       "        vertical-align: middle;\n",
       "    }\n",
       "\n",
       "    .dataframe tbody tr th {\n",
       "        vertical-align: top;\n",
       "    }\n",
       "\n",
       "    .dataframe thead th {\n",
       "        text-align: right;\n",
       "    }\n",
       "</style>\n",
       "<table border=\"1\" class=\"dataframe\">\n",
       "  <thead>\n",
       "    <tr style=\"text-align: right;\">\n",
       "      <th></th>\n",
       "      <th>key</th>\n",
       "      <th>row</th>\n",
       "      <th>item</th>\n",
       "      <th>col</th>\n",
       "      <th>val0</th>\n",
       "      <th>val1</th>\n",
       "    </tr>\n",
       "  </thead>\n",
       "  <tbody>\n",
       "    <tr>\n",
       "      <th>0</th>\n",
       "      <td>key0</td>\n",
       "      <td>row3</td>\n",
       "      <td>item1</td>\n",
       "      <td>col3</td>\n",
       "      <td>0.81</td>\n",
       "      <td>0.04</td>\n",
       "    </tr>\n",
       "    <tr>\n",
       "      <th>1</th>\n",
       "      <td>key1</td>\n",
       "      <td>row2</td>\n",
       "      <td>item1</td>\n",
       "      <td>col2</td>\n",
       "      <td>0.44</td>\n",
       "      <td>0.07</td>\n",
       "    </tr>\n",
       "    <tr>\n",
       "      <th>2</th>\n",
       "      <td>key1</td>\n",
       "      <td>row0</td>\n",
       "      <td>item1</td>\n",
       "      <td>col0</td>\n",
       "      <td>0.77</td>\n",
       "      <td>0.01</td>\n",
       "    </tr>\n",
       "  </tbody>\n",
       "</table>\n",
       "</div>"
      ],
      "text/plain": [
       "    key   row   item   col  val0  val1\n",
       "0  key0  row3  item1  col3  0.81  0.04\n",
       "1  key1  row2  item1  col2  0.44  0.07\n",
       "2  key1  row0  item1  col0  0.77  0.01"
      ]
     },
     "execution_count": 112,
     "metadata": {},
     "output_type": "execute_result"
    }
   ],
   "source": [
    "np.random.seed([3, 1415])\n",
    "n = 20\n",
    "cols = np.array([\"key\", \"row\", \"item\", \"col\"])\n",
    "df = cols + pd.DataFrame((np.random.randint(5, size=(n, 4)) // [2, 1, 2, 1]).astype(str))\n",
    "df.columns = cols\n",
    "df = df.join(pd.DataFrame(np.random.rand(n, 2).round(2)).add_prefix(\"val\"))\n",
    "df.head(3)"
   ]
  },
  {
   "cell_type": "code",
   "execution_count": 120,
   "id": "every-public",
   "metadata": {},
   "outputs": [
    {
     "name": "stdout",
     "output_type": "stream",
     "text": [
      "17.5 ms ± 278 µs per loop (mean ± std. dev. of 7 runs, 100 loops each)\n"
     ]
    }
   ],
   "source": [
    "%timeit df.pivot_table(columns='col', index='row', values='val0', aggfunc=['sum', 'mean'])"
   ]
  },
  {
   "cell_type": "code",
   "execution_count": 123,
   "id": "african-spoke",
   "metadata": {},
   "outputs": [
    {
     "data": {
      "text/html": [
       "<div>\n",
       "<style scoped>\n",
       "    .dataframe tbody tr th:only-of-type {\n",
       "        vertical-align: middle;\n",
       "    }\n",
       "\n",
       "    .dataframe tbody tr th {\n",
       "        vertical-align: top;\n",
       "    }\n",
       "\n",
       "    .dataframe thead tr th {\n",
       "        text-align: left;\n",
       "    }\n",
       "\n",
       "    .dataframe thead tr:last-of-type th {\n",
       "        text-align: right;\n",
       "    }\n",
       "</style>\n",
       "<table border=\"1\" class=\"dataframe\">\n",
       "  <thead>\n",
       "    <tr>\n",
       "      <th></th>\n",
       "      <th colspan=\"10\" halign=\"left\">val0</th>\n",
       "      <th>...</th>\n",
       "      <th colspan=\"10\" halign=\"left\">val1</th>\n",
       "    </tr>\n",
       "    <tr>\n",
       "      <th>item</th>\n",
       "      <th colspan=\"3\" halign=\"left\">item0</th>\n",
       "      <th colspan=\"5\" halign=\"left\">item1</th>\n",
       "      <th colspan=\"2\" halign=\"left\">item2</th>\n",
       "      <th>...</th>\n",
       "      <th>item0</th>\n",
       "      <th colspan=\"5\" halign=\"left\">item1</th>\n",
       "      <th colspan=\"4\" halign=\"left\">item2</th>\n",
       "    </tr>\n",
       "    <tr>\n",
       "      <th>col</th>\n",
       "      <th>col2</th>\n",
       "      <th>col3</th>\n",
       "      <th>col4</th>\n",
       "      <th>col0</th>\n",
       "      <th>col1</th>\n",
       "      <th>col2</th>\n",
       "      <th>col3</th>\n",
       "      <th>col4</th>\n",
       "      <th>col0</th>\n",
       "      <th>col1</th>\n",
       "      <th>...</th>\n",
       "      <th>col4</th>\n",
       "      <th>col0</th>\n",
       "      <th>col1</th>\n",
       "      <th>col2</th>\n",
       "      <th>col3</th>\n",
       "      <th>col4</th>\n",
       "      <th>col0</th>\n",
       "      <th>col1</th>\n",
       "      <th>col3</th>\n",
       "      <th>col4</th>\n",
       "    </tr>\n",
       "    <tr>\n",
       "      <th>row</th>\n",
       "      <th></th>\n",
       "      <th></th>\n",
       "      <th></th>\n",
       "      <th></th>\n",
       "      <th></th>\n",
       "      <th></th>\n",
       "      <th></th>\n",
       "      <th></th>\n",
       "      <th></th>\n",
       "      <th></th>\n",
       "      <th></th>\n",
       "      <th></th>\n",
       "      <th></th>\n",
       "      <th></th>\n",
       "      <th></th>\n",
       "      <th></th>\n",
       "      <th></th>\n",
       "      <th></th>\n",
       "      <th></th>\n",
       "      <th></th>\n",
       "      <th></th>\n",
       "    </tr>\n",
       "  </thead>\n",
       "  <tbody>\n",
       "    <tr>\n",
       "      <th>row0</th>\n",
       "      <td>NaN</td>\n",
       "      <td>NaN</td>\n",
       "      <td>NaN</td>\n",
       "      <td>0.77</td>\n",
       "      <td>NaN</td>\n",
       "      <td>NaN</td>\n",
       "      <td>NaN</td>\n",
       "      <td>NaN</td>\n",
       "      <td>NaN</td>\n",
       "      <td>0.605</td>\n",
       "      <td>...</td>\n",
       "      <td>NaN</td>\n",
       "      <td>0.01</td>\n",
       "      <td>NaN</td>\n",
       "      <td>NaN</td>\n",
       "      <td>NaN</td>\n",
       "      <td>NaN</td>\n",
       "      <td>NaN</td>\n",
       "      <td>0.745</td>\n",
       "      <td>0.01</td>\n",
       "      <td>0.02</td>\n",
       "    </tr>\n",
       "    <tr>\n",
       "      <th>row2</th>\n",
       "      <td>0.35</td>\n",
       "      <td>NaN</td>\n",
       "      <td>0.37</td>\n",
       "      <td>NaN</td>\n",
       "      <td>NaN</td>\n",
       "      <td>0.44</td>\n",
       "      <td>NaN</td>\n",
       "      <td>NaN</td>\n",
       "      <td>0.13</td>\n",
       "      <td>NaN</td>\n",
       "      <td>...</td>\n",
       "      <td>0.7</td>\n",
       "      <td>NaN</td>\n",
       "      <td>NaN</td>\n",
       "      <td>0.07</td>\n",
       "      <td>NaN</td>\n",
       "      <td>NaN</td>\n",
       "      <td>0.45</td>\n",
       "      <td>NaN</td>\n",
       "      <td>0.44</td>\n",
       "      <td>0.88</td>\n",
       "    </tr>\n",
       "    <tr>\n",
       "      <th>row3</th>\n",
       "      <td>NaN</td>\n",
       "      <td>NaN</td>\n",
       "      <td>NaN</td>\n",
       "      <td>NaN</td>\n",
       "      <td>0.31</td>\n",
       "      <td>NaN</td>\n",
       "      <td>0.81</td>\n",
       "      <td>NaN</td>\n",
       "      <td>NaN</td>\n",
       "      <td>NaN</td>\n",
       "      <td>...</td>\n",
       "      <td>NaN</td>\n",
       "      <td>NaN</td>\n",
       "      <td>0.23</td>\n",
       "      <td>NaN</td>\n",
       "      <td>0.04</td>\n",
       "      <td>NaN</td>\n",
       "      <td>NaN</td>\n",
       "      <td>NaN</td>\n",
       "      <td>0.11</td>\n",
       "      <td>NaN</td>\n",
       "    </tr>\n",
       "    <tr>\n",
       "      <th>row4</th>\n",
       "      <td>0.15</td>\n",
       "      <td>0.64</td>\n",
       "      <td>NaN</td>\n",
       "      <td>NaN</td>\n",
       "      <td>0.10</td>\n",
       "      <td>0.64</td>\n",
       "      <td>0.88</td>\n",
       "      <td>0.24</td>\n",
       "      <td>NaN</td>\n",
       "      <td>NaN</td>\n",
       "      <td>...</td>\n",
       "      <td>NaN</td>\n",
       "      <td>NaN</td>\n",
       "      <td>0.07</td>\n",
       "      <td>0.25</td>\n",
       "      <td>0.39</td>\n",
       "      <td>0.46</td>\n",
       "      <td>NaN</td>\n",
       "      <td>NaN</td>\n",
       "      <td>NaN</td>\n",
       "      <td>NaN</td>\n",
       "    </tr>\n",
       "  </tbody>\n",
       "</table>\n",
       "<p>4 rows × 24 columns</p>\n",
       "</div>"
      ],
      "text/plain": [
       "      val0                                                         ...  val1  \\\n",
       "item item0             item1                         item2         ... item0   \n",
       "col   col2  col3  col4  col0  col1  col2  col3  col4  col0   col1  ...  col4   \n",
       "row                                                                ...         \n",
       "row0   NaN   NaN   NaN  0.77   NaN   NaN   NaN   NaN   NaN  0.605  ...   NaN   \n",
       "row2  0.35   NaN  0.37   NaN   NaN  0.44   NaN   NaN  0.13    NaN  ...   0.7   \n",
       "row3   NaN   NaN   NaN   NaN  0.31   NaN  0.81   NaN   NaN    NaN  ...   NaN   \n",
       "row4  0.15  0.64   NaN   NaN  0.10  0.64  0.88  0.24   NaN    NaN  ...   NaN   \n",
       "\n",
       "                                                             \n",
       "item item1                         item2                     \n",
       "col   col0  col1  col2  col3  col4  col0   col1  col3  col4  \n",
       "row                                                          \n",
       "row0  0.01   NaN   NaN   NaN   NaN   NaN  0.745  0.01  0.02  \n",
       "row2   NaN   NaN  0.07   NaN   NaN  0.45    NaN  0.44  0.88  \n",
       "row3   NaN  0.23   NaN  0.04   NaN   NaN    NaN  0.11   NaN  \n",
       "row4   NaN  0.07  0.25  0.39  0.46   NaN    NaN   NaN   NaN  \n",
       "\n",
       "[4 rows x 24 columns]"
      ]
     },
     "execution_count": 123,
     "metadata": {},
     "output_type": "execute_result"
    }
   ],
   "source": [
    "df.pivot_table(columns=['item','col'], index='row', values=['val0', 'val1'],)"
   ]
  },
  {
   "cell_type": "code",
   "execution_count": 124,
   "id": "curious-month",
   "metadata": {},
   "outputs": [
    {
     "data": {
      "text/html": [
       "<div>\n",
       "<style scoped>\n",
       "    .dataframe tbody tr th:only-of-type {\n",
       "        vertical-align: middle;\n",
       "    }\n",
       "\n",
       "    .dataframe tbody tr th {\n",
       "        vertical-align: top;\n",
       "    }\n",
       "\n",
       "    .dataframe thead th {\n",
       "        text-align: right;\n",
       "    }\n",
       "</style>\n",
       "<table border=\"1\" class=\"dataframe\">\n",
       "  <thead>\n",
       "    <tr style=\"text-align: right;\">\n",
       "      <th></th>\n",
       "      <th>keys</th>\n",
       "      <th>values</th>\n",
       "    </tr>\n",
       "  </thead>\n",
       "  <tbody>\n",
       "    <tr>\n",
       "      <th>0</th>\n",
       "      <td>panda1</td>\n",
       "      <td>[eats, shoots]</td>\n",
       "    </tr>\n",
       "    <tr>\n",
       "      <th>1</th>\n",
       "      <td>panda2</td>\n",
       "      <td>[shoots, leaves]</td>\n",
       "    </tr>\n",
       "    <tr>\n",
       "      <th>2</th>\n",
       "      <td>panda3</td>\n",
       "      <td>[eats, leaves]</td>\n",
       "    </tr>\n",
       "  </tbody>\n",
       "</table>\n",
       "</div>"
      ],
      "text/plain": [
       "     keys            values\n",
       "0  panda1    [eats, shoots]\n",
       "1  panda2  [shoots, leaves]\n",
       "2  panda3    [eats, leaves]"
      ]
     },
     "execution_count": 124,
     "metadata": {},
     "output_type": "execute_result"
    }
   ],
   "source": [
    "keys = [\"panda1\", \"panda2\", \"panda3\"]\n",
    "values = [[\"eats\", \"shoots\"], [\"shoots\", \"leaves\"], [\"eats\", \"leaves\"]]\n",
    "df = pd.DataFrame({\"keys\": keys, \"values\": values})\n",
    "df"
   ]
  },
  {
   "cell_type": "code",
   "execution_count": 126,
   "id": "organizational-secretary",
   "metadata": {},
   "outputs": [
    {
     "data": {
      "text/html": [
       "<div>\n",
       "<style scoped>\n",
       "    .dataframe tbody tr th:only-of-type {\n",
       "        vertical-align: middle;\n",
       "    }\n",
       "\n",
       "    .dataframe tbody tr th {\n",
       "        vertical-align: top;\n",
       "    }\n",
       "\n",
       "    .dataframe thead th {\n",
       "        text-align: right;\n",
       "    }\n",
       "</style>\n",
       "<table border=\"1\" class=\"dataframe\">\n",
       "  <thead>\n",
       "    <tr style=\"text-align: right;\">\n",
       "      <th></th>\n",
       "      <th>keys</th>\n",
       "      <th>values</th>\n",
       "    </tr>\n",
       "  </thead>\n",
       "  <tbody>\n",
       "    <tr>\n",
       "      <th>0</th>\n",
       "      <td>panda1</td>\n",
       "      <td>eats</td>\n",
       "    </tr>\n",
       "    <tr>\n",
       "      <th>0</th>\n",
       "      <td>panda1</td>\n",
       "      <td>shoots</td>\n",
       "    </tr>\n",
       "    <tr>\n",
       "      <th>1</th>\n",
       "      <td>panda2</td>\n",
       "      <td>shoots</td>\n",
       "    </tr>\n",
       "    <tr>\n",
       "      <th>1</th>\n",
       "      <td>panda2</td>\n",
       "      <td>leaves</td>\n",
       "    </tr>\n",
       "    <tr>\n",
       "      <th>2</th>\n",
       "      <td>panda3</td>\n",
       "      <td>eats</td>\n",
       "    </tr>\n",
       "    <tr>\n",
       "      <th>2</th>\n",
       "      <td>panda3</td>\n",
       "      <td>leaves</td>\n",
       "    </tr>\n",
       "  </tbody>\n",
       "</table>\n",
       "</div>"
      ],
      "text/plain": [
       "     keys  values\n",
       "0  panda1    eats\n",
       "0  panda1  shoots\n",
       "1  panda2  shoots\n",
       "1  panda2  leaves\n",
       "2  panda3    eats\n",
       "2  panda3  leaves"
      ]
     },
     "execution_count": 126,
     "metadata": {},
     "output_type": "execute_result"
    }
   ],
   "source": [
    "df.explode(\"values\")"
   ]
  },
  {
   "cell_type": "code",
   "execution_count": 132,
   "id": "pointed-announcement",
   "metadata": {},
   "outputs": [
    {
     "data": {
      "text/plain": [
       "0      1\n",
       "1      2\n",
       "2      3\n",
       "3    foo\n",
       "4    NaN\n",
       "5      a\n",
       "6      b\n",
       "dtype: object"
      ]
     },
     "execution_count": 132,
     "metadata": {},
     "output_type": "execute_result"
    }
   ],
   "source": [
    "s = pd.Series([[1, 2, 3], \"foo\", [], [\"a\", \"b\"]])\n",
    "s.explode().reset_index(drop=True)"
   ]
  },
  {
   "cell_type": "code",
   "execution_count": 135,
   "id": "standing-involvement",
   "metadata": {},
   "outputs": [
    {
     "data": {
      "text/html": [
       "<div>\n",
       "<style scoped>\n",
       "    .dataframe tbody tr th:only-of-type {\n",
       "        vertical-align: middle;\n",
       "    }\n",
       "\n",
       "    .dataframe tbody tr th {\n",
       "        vertical-align: top;\n",
       "    }\n",
       "\n",
       "    .dataframe thead th {\n",
       "        text-align: right;\n",
       "    }\n",
       "</style>\n",
       "<table border=\"1\" class=\"dataframe\">\n",
       "  <thead>\n",
       "    <tr style=\"text-align: right;\">\n",
       "      <th></th>\n",
       "      <th>var1</th>\n",
       "      <th>var2</th>\n",
       "    </tr>\n",
       "  </thead>\n",
       "  <tbody>\n",
       "    <tr>\n",
       "      <th>0</th>\n",
       "      <td>a</td>\n",
       "      <td>1</td>\n",
       "    </tr>\n",
       "    <tr>\n",
       "      <th>0</th>\n",
       "      <td>b</td>\n",
       "      <td>1</td>\n",
       "    </tr>\n",
       "    <tr>\n",
       "      <th>0</th>\n",
       "      <td>c</td>\n",
       "      <td>1</td>\n",
       "    </tr>\n",
       "    <tr>\n",
       "      <th>1</th>\n",
       "      <td>d</td>\n",
       "      <td>2</td>\n",
       "    </tr>\n",
       "    <tr>\n",
       "      <th>1</th>\n",
       "      <td>e</td>\n",
       "      <td>2</td>\n",
       "    </tr>\n",
       "    <tr>\n",
       "      <th>1</th>\n",
       "      <td>f</td>\n",
       "      <td>2</td>\n",
       "    </tr>\n",
       "  </tbody>\n",
       "</table>\n",
       "</div>"
      ],
      "text/plain": [
       "  var1  var2\n",
       "0    a     1\n",
       "0    b     1\n",
       "0    c     1\n",
       "1    d     2\n",
       "1    e     2\n",
       "1    f     2"
      ]
     },
     "execution_count": 135,
     "metadata": {},
     "output_type": "execute_result"
    }
   ],
   "source": [
    "df = pd.DataFrame([{\"var1\": \"a,b,c\", \"var2\": 1}, \n",
    "                   {\"var1\": \"d,e,f\", \"var2\": 2}])\n",
    "df.assign(var1=df.var1.str.split(',')).explode('var1')"
   ]
  },
  {
   "cell_type": "markdown",
   "id": "universal-brook",
   "metadata": {},
   "source": [
    "# 2.9 Working with text data"
   ]
  },
  {
   "cell_type": "code",
   "execution_count": 148,
   "id": "starting-keeping",
   "metadata": {},
   "outputs": [
    {
     "data": {
      "text/plain": [
       "0    False\n",
       "1     <NA>\n",
       "2    False\n",
       "3    False\n",
       "dtype: boolean"
      ]
     },
     "execution_count": 148,
     "metadata": {},
     "output_type": "execute_result"
    }
   ],
   "source": [
    "s = pd.Series([\"a\", None, \"b\",\"a\"], dtype=\"string\")\n",
    "s.str.isdigit() # boolean\n",
    "s.dropna().str.match(\"a\") # boolean"
   ]
  },
  {
   "cell_type": "code",
   "execution_count": 150,
   "id": "technological-october",
   "metadata": {},
   "outputs": [
    {
     "data": {
      "text/plain": [
       "0       a\n",
       "1       b\n",
       "2       c\n",
       "3    aaba\n",
       "4    baca\n",
       "5    <NA>\n",
       "6    caba\n",
       "7     dog\n",
       "8     cat\n",
       "dtype: string"
      ]
     },
     "execution_count": 150,
     "metadata": {},
     "output_type": "execute_result"
    }
   ],
   "source": [
    "s = pd.Series([\"A\", \"B\", \"C\", \"Aaba\", \"Baca\", np.nan, \"CABA\", \"dog\", \"cat\"], \n",
    "              dtype='string')\n",
    "s.str.lower()"
   ]
  },
  {
   "cell_type": "code",
   "execution_count": 153,
   "id": "listed-breakfast",
   "metadata": {},
   "outputs": [
    {
     "data": {
      "text/plain": [
       "Index([' jack', 'jill', ' jesse', 'frank'], dtype='object')"
      ]
     },
     "execution_count": 153,
     "metadata": {},
     "output_type": "execute_result"
    }
   ],
   "source": [
    "idx = pd.Index([\" jack\", \"jill \", \" jesse \", \"frank\"])\n",
    "idx.str.strip()\n",
    "idx.str.lstrip()\n",
    "idx.str.rstrip()"
   ]
  },
  {
   "cell_type": "code",
   "execution_count": 158,
   "id": "random-florist",
   "metadata": {},
   "outputs": [
    {
     "data": {
      "text/html": [
       "<div>\n",
       "<style scoped>\n",
       "    .dataframe tbody tr th:only-of-type {\n",
       "        vertical-align: middle;\n",
       "    }\n",
       "\n",
       "    .dataframe tbody tr th {\n",
       "        vertical-align: top;\n",
       "    }\n",
       "\n",
       "    .dataframe thead th {\n",
       "        text-align: right;\n",
       "    }\n",
       "</style>\n",
       "<table border=\"1\" class=\"dataframe\">\n",
       "  <thead>\n",
       "    <tr style=\"text-align: right;\">\n",
       "      <th></th>\n",
       "      <th>column_a</th>\n",
       "      <th>column_b</th>\n",
       "    </tr>\n",
       "  </thead>\n",
       "  <tbody>\n",
       "    <tr>\n",
       "      <th>0</th>\n",
       "      <td>1.232895</td>\n",
       "      <td>-0.391184</td>\n",
       "    </tr>\n",
       "    <tr>\n",
       "      <th>1</th>\n",
       "      <td>-0.990020</td>\n",
       "      <td>2.110520</td>\n",
       "    </tr>\n",
       "    <tr>\n",
       "      <th>2</th>\n",
       "      <td>0.062507</td>\n",
       "      <td>-0.671785</td>\n",
       "    </tr>\n",
       "  </tbody>\n",
       "</table>\n",
       "</div>"
      ],
      "text/plain": [
       "   column_a  column_b\n",
       "0  1.232895 -0.391184\n",
       "1 -0.990020  2.110520\n",
       "2  0.062507 -0.671785"
      ]
     },
     "execution_count": 158,
     "metadata": {},
     "output_type": "execute_result"
    }
   ],
   "source": [
    "df = pd.DataFrame(np.random.randn(3, 2), \n",
    "                  columns=[\" Column A \", \" Column B \"],\n",
    "                  index=range(3))\n",
    "df.columns.str.strip()\n",
    "df.columns.str.lower()\n",
    "df.columns = df.columns.str.strip().str.lower().str.replace(\" \", \"_\")\n",
    "df"
   ]
  },
  {
   "cell_type": "code",
   "execution_count": 164,
   "id": "celtic-sudan",
   "metadata": {},
   "outputs": [
    {
     "name": "stdout",
     "output_type": "stream",
     "text": [
      "0     base\n",
      "1        A\n",
      "2        B\n",
      "3        C\n",
      "4     Aaba\n",
      "5     Baca\n",
      "6         \n",
      "7     <NA>\n",
      "8     CABA\n",
      "9      dog\n",
      "10     cat\n",
      "dtype: string\n"
     ]
    },
    {
     "data": {
      "text/plain": [
       "0     XX-XXse\n",
       "1           A\n",
       "2           B\n",
       "3           C\n",
       "4     XX-XXba\n",
       "5     XX-XXca\n",
       "6            \n",
       "7        <NA>\n",
       "8     XX-XXBA\n",
       "9       XX-XX\n",
       "10     XX-XXt\n",
       "dtype: string"
      ]
     },
     "execution_count": 164,
     "metadata": {},
     "output_type": "execute_result"
    }
   ],
   "source": [
    "s3 = pd.Series([\"base\", \"A\", \"B\", \"C\", \"Aaba\", \"Baca\", \"\", np.nan, \"CABA\", \"dog\", \"cat\"],\n",
    "               dtype='string')\n",
    "print(s3)\n",
    "s3.str.replace(\"^.a|dog\", \"XX-XX\", case=False, regex=True)"
   ]
  },
  {
   "cell_type": "code",
   "execution_count": 166,
   "id": "spectacular-duncan",
   "metadata": {},
   "outputs": [
    {
     "data": {
      "text/plain": [
       "0         12\n",
       "1        -10\n",
       "2    $10,000\n",
       "dtype: string"
      ]
     },
     "execution_count": 166,
     "metadata": {},
     "output_type": "execute_result"
    }
   ],
   "source": [
    "dollars = pd.Series([\"12\", \"-$10\", \"$10,000\"], dtype=\"string\")\n",
    "dollars.str.replace(r\"-\\$\", \"-\", regex=True)"
   ]
  },
  {
   "cell_type": "code",
   "execution_count": 170,
   "id": "adaptive-press",
   "metadata": {},
   "outputs": [],
   "source": [
    "pat = r\"[a-z]+\"\n",
    "def repl(m):\n",
    "    return m.group(0)[::-1]"
   ]
  },
  {
   "cell_type": "code",
   "execution_count": 171,
   "id": "economic-kansas",
   "metadata": {},
   "outputs": [
    {
     "data": {
      "text/plain": [
       "0    oof 123\n",
       "1    rab zab\n",
       "2       <NA>\n",
       "dtype: string"
      ]
     },
     "execution_count": 171,
     "metadata": {},
     "output_type": "execute_result"
    }
   ],
   "source": [
    "pd.Series([\"foo 123\", \"bar baz\", np.nan], dtype=\"string\").str.replace(\n",
    "    pat, repl, regex=True)"
   ]
  },
  {
   "cell_type": "code",
   "execution_count": 4,
   "id": "adjusted-voluntary",
   "metadata": {},
   "outputs": [
    {
     "data": {
      "text/plain": [
       "'abcd'"
      ]
     },
     "execution_count": 4,
     "metadata": {},
     "output_type": "execute_result"
    }
   ],
   "source": [
    "s = pd.Series(['a','b','c','d'], dtype='string')\n",
    "s.str.cat() # 'abcd'"
   ]
  },
  {
   "cell_type": "code",
   "execution_count": 9,
   "id": "hispanic-mixer",
   "metadata": {},
   "outputs": [
    {
     "data": {
      "text/plain": [
       "'a,b,Ramesh,d'"
      ]
     },
     "execution_count": 9,
     "metadata": {},
     "output_type": "execute_result"
    }
   ],
   "source": [
    "t = pd.Series([\"a\", \"b\", np.nan, \"d\"], dtype=\"string\")\n",
    "t.str.cat(sep=',', na_rep='Ramesh')"
   ]
  },
  {
   "cell_type": "code",
   "execution_count": 12,
   "id": "vulnerable-occurrence",
   "metadata": {},
   "outputs": [
    {
     "data": {
      "text/plain": [
       "0         aa\n",
       "1         bb\n",
       "2    cSuresh\n",
       "3         dd\n",
       "dtype: string"
      ]
     },
     "execution_count": 12,
     "metadata": {},
     "output_type": "execute_result"
    }
   ],
   "source": [
    "s.str.cat(['A', 'B', 'C', 'D'])\n",
    "s.str.cat(t)\n",
    "s.str.cat(t, na_rep='Suresh')"
   ]
  },
  {
   "cell_type": "code",
   "execution_count": 15,
   "id": "excited-singer",
   "metadata": {},
   "outputs": [
    {
     "data": {
      "text/plain": [
       "0    aaa\n",
       "1    bbb\n",
       "2    c-c\n",
       "3    ddd\n",
       "dtype: string"
      ]
     },
     "execution_count": 15,
     "metadata": {},
     "output_type": "execute_result"
    }
   ],
   "source": [
    "d = pd.concat([t, s], axis=1)\n",
    "s.str.cat(d, na_rep='-')"
   ]
  },
  {
   "cell_type": "code",
   "execution_count": 21,
   "id": "young-hamilton",
   "metadata": {},
   "outputs": [
    {
     "data": {
      "text/plain": [
       "0    aa\n",
       "1    bb\n",
       "2    cc\n",
       "3    dd\n",
       "dtype: string"
      ]
     },
     "execution_count": 21,
     "metadata": {},
     "output_type": "execute_result"
    }
   ],
   "source": [
    "u = pd.Series([\"b\", \"d\", \"a\", \"c\"], index=[1, 3, 0, 2], dtype=\"string\")\n",
    "s.str.cat(u)\n",
    "s.str.cat(u, join='left')"
   ]
  },
  {
   "cell_type": "code",
   "execution_count": 29,
   "id": "sunset-water",
   "metadata": {},
   "outputs": [
    {
     "data": {
      "text/plain": [
       "-1    -z\n",
       " 0    aa\n",
       " 1    bb\n",
       " 3    dd\n",
       " 4    -e\n",
       "dtype: string"
      ]
     },
     "execution_count": 29,
     "metadata": {},
     "output_type": "execute_result"
    }
   ],
   "source": [
    "v = pd.Series([\"z\", \"a\", \"b\", \"d\", \"e\"], index=[-1, 0, 1, 3, 4], dtype=\"string\")\n",
    "s.str.cat(v, na_rep=\"-\")\n",
    "s.str.cat(v, join='left', na_rep=\"-\")\n",
    "s.str.cat(v, join='outer', na_rep=\"-\")\n",
    "s.str.cat(v, join='inner', na_rep=\"-\")\n",
    "s.str.cat(v, join='right', na_rep=\"-\")"
   ]
  },
  {
   "cell_type": "code",
   "execution_count": 33,
   "id": "hired-township",
   "metadata": {},
   "outputs": [
    {
     "data": {
      "text/plain": [
       "0    aaa\n",
       "1    bbb\n",
       "2    c-c\n",
       "3    ddd\n",
       "dtype: string"
      ]
     },
     "execution_count": 33,
     "metadata": {},
     "output_type": "execute_result"
    }
   ],
   "source": [
    "f = d.loc[[3, 2, 1, 0], :]\n",
    "s.str.cat(f, join='left', na_rep='-')"
   ]
  },
  {
   "cell_type": "code",
   "execution_count": 39,
   "id": "checked-amber",
   "metadata": {},
   "outputs": [
    {
     "data": {
      "text/plain": [
       "-1    -z--\n",
       " 0    aaab\n",
       " 1    bbbd\n",
       " 2    c-ca\n",
       " 3    dddc\n",
       " 4    -e--\n",
       "dtype: string"
      ]
     },
     "execution_count": 39,
     "metadata": {},
     "output_type": "execute_result"
    }
   ],
   "source": [
    "s.str.cat([u, u.to_numpy()], join=\"left\")\n",
    "s.str.cat([v, u, u.to_numpy()], join=\"outer\", na_rep=\"-\")"
   ]
  },
  {
   "cell_type": "code",
   "execution_count": 42,
   "id": "essential-bread",
   "metadata": {},
   "outputs": [
    {
     "data": {
      "text/plain": [
       "-1    --z\n",
       " 0    a-a\n",
       " 3    dd-\n",
       "dtype: string"
      ]
     },
     "execution_count": 42,
     "metadata": {},
     "output_type": "execute_result"
    }
   ],
   "source": [
    "u.loc[[3]]\n",
    "v.loc[[-1, 0]]\n",
    "s.str.cat([u.loc[[3]], v.loc[[-1, 0]]], join=\"right\", na_rep=\"-\")"
   ]
  },
  {
   "cell_type": "code",
   "execution_count": 49,
   "id": "organized-parameter",
   "metadata": {},
   "outputs": [
    {
     "data": {
      "text/plain": [
       "0    <NA>\n",
       "1    <NA>\n",
       "2    <NA>\n",
       "3       a\n",
       "4       a\n",
       "5    <NA>\n",
       "6       A\n",
       "7       o\n",
       "8       a\n",
       "dtype: string"
      ]
     },
     "execution_count": 49,
     "metadata": {},
     "output_type": "execute_result"
    }
   ],
   "source": [
    "s = pd.Series([\"A\", \"B\", \"C\", \"Aaba\", \"Baca\", np.nan, \"CABA\", \"dog\", \"cat\"], \n",
    "              dtype='string')\n",
    "s.str[0]\n",
    "s.str[1]"
   ]
  },
  {
   "cell_type": "markdown",
   "id": "fiscal-remark",
   "metadata": {},
   "source": [
    "Solution for Stackoverflow"
   ]
  },
  {
   "cell_type": "code",
   "execution_count": 36,
   "id": "pediatric-clarity",
   "metadata": {},
   "outputs": [
    {
     "data": {
      "text/plain": [
       "(8388608, 3)"
      ]
     },
     "execution_count": 36,
     "metadata": {},
     "output_type": "execute_result"
    }
   ],
   "source": [
    "df = pd.DataFrame({'id':['x1', 'x1', 'x1', 'x1', 'x2', 'x2', 'x2', 'x2']\n",
    "               ,  'date':['2021-01-01','2021-01-02',\n",
    "               '2021-01-03','2021-01-04','2021-01-05',\n",
    "               '2021-01-06','2021-01-07','2021-01-08'],\n",
    "           'revenue':[5,3,2,\n",
    "                      10,12,2,\n",
    "                      1,0]})\n",
    "df[\"date\"] = pd.to_datetime(df['date'])\n",
    "for i in range(20):\n",
    "    df = pd.concat([df,df])\n",
    "df.shape"
   ]
  },
  {
   "cell_type": "code",
   "execution_count": 37,
   "id": "baking-sheriff",
   "metadata": {},
   "outputs": [
    {
     "name": "stdout",
     "output_type": "stream",
     "text": [
      "4.21 s ± 199 ms per loop (mean ± std. dev. of 7 runs, 1 loop each)\n"
     ]
    }
   ],
   "source": [
    "%timeit df.groupby('id').resample('W-Mon', on='date', closed='left', label='left').sum().reset_index()"
   ]
  },
  {
   "cell_type": "code",
   "execution_count": 38,
   "id": "dutch-appeal",
   "metadata": {},
   "outputs": [
    {
     "name": "stdout",
     "output_type": "stream",
     "text": [
      "3.3 s ± 332 ms per loop (mean ± std. dev. of 7 runs, 1 loop each)\n"
     ]
    }
   ],
   "source": [
    "%timeit df.groupby(['id', pd.Grouper(freq='W-Mon', key='date', closed='left', label='left')]).sum().reset_index()"
   ]
  },
  {
   "cell_type": "markdown",
   "id": "honey-fourth",
   "metadata": {},
   "source": [
    "2.9.6 Extracting substrings"
   ]
  },
  {
   "cell_type": "code",
   "execution_count": 39,
   "id": "involved-jewel",
   "metadata": {},
   "outputs": [
    {
     "data": {
      "text/html": [
       "<div>\n",
       "<style scoped>\n",
       "    .dataframe tbody tr th:only-of-type {\n",
       "        vertical-align: middle;\n",
       "    }\n",
       "\n",
       "    .dataframe tbody tr th {\n",
       "        vertical-align: top;\n",
       "    }\n",
       "\n",
       "    .dataframe thead th {\n",
       "        text-align: right;\n",
       "    }\n",
       "</style>\n",
       "<table border=\"1\" class=\"dataframe\">\n",
       "  <thead>\n",
       "    <tr style=\"text-align: right;\">\n",
       "      <th></th>\n",
       "      <th>0</th>\n",
       "      <th>1</th>\n",
       "    </tr>\n",
       "  </thead>\n",
       "  <tbody>\n",
       "    <tr>\n",
       "      <th>0</th>\n",
       "      <td>a</td>\n",
       "      <td>1</td>\n",
       "    </tr>\n",
       "    <tr>\n",
       "      <th>1</th>\n",
       "      <td>b</td>\n",
       "      <td>2</td>\n",
       "    </tr>\n",
       "    <tr>\n",
       "      <th>2</th>\n",
       "      <td>&lt;NA&gt;</td>\n",
       "      <td>&lt;NA&gt;</td>\n",
       "    </tr>\n",
       "  </tbody>\n",
       "</table>\n",
       "</div>"
      ],
      "text/plain": [
       "      0     1\n",
       "0     a     1\n",
       "1     b     2\n",
       "2  <NA>  <NA>"
      ]
     },
     "execution_count": 39,
     "metadata": {},
     "output_type": "execute_result"
    }
   ],
   "source": [
    "pd.Series([\"a1\", \"b2\", \"c3\"],dtype=\"string\",).str.extract(r\"([ab])(\\d)\", expand=False)"
   ]
  },
  {
   "cell_type": "code",
   "execution_count": 46,
   "id": "modern-subscriber",
   "metadata": {},
   "outputs": [
    {
     "data": {
      "text/plain": [
       "letter    string\n",
       "digit     string\n",
       "dtype: object"
      ]
     },
     "execution_count": 46,
     "metadata": {},
     "output_type": "execute_result"
    }
   ],
   "source": [
    "pd.Series([\"a1\", \"b2\", \"c3\"], dtype=\"string\").str.extract(\n",
    "    r\"(?P<letter>[ab])(?P<digit>\\d)\", expand=False)"
   ]
  },
  {
   "cell_type": "code",
   "execution_count": 41,
   "id": "consolidated-johnston",
   "metadata": {},
   "outputs": [
    {
     "data": {
      "text/html": [
       "<div>\n",
       "<style scoped>\n",
       "    .dataframe tbody tr th:only-of-type {\n",
       "        vertical-align: middle;\n",
       "    }\n",
       "\n",
       "    .dataframe tbody tr th {\n",
       "        vertical-align: top;\n",
       "    }\n",
       "\n",
       "    .dataframe thead th {\n",
       "        text-align: right;\n",
       "    }\n",
       "</style>\n",
       "<table border=\"1\" class=\"dataframe\">\n",
       "  <thead>\n",
       "    <tr style=\"text-align: right;\">\n",
       "      <th></th>\n",
       "      <th>0</th>\n",
       "      <th>1</th>\n",
       "    </tr>\n",
       "  </thead>\n",
       "  <tbody>\n",
       "    <tr>\n",
       "      <th>0</th>\n",
       "      <td>a</td>\n",
       "      <td>1</td>\n",
       "    </tr>\n",
       "    <tr>\n",
       "      <th>1</th>\n",
       "      <td>b</td>\n",
       "      <td>2</td>\n",
       "    </tr>\n",
       "    <tr>\n",
       "      <th>2</th>\n",
       "      <td>&lt;NA&gt;</td>\n",
       "      <td>3</td>\n",
       "    </tr>\n",
       "  </tbody>\n",
       "</table>\n",
       "</div>"
      ],
      "text/plain": [
       "      0  1\n",
       "0     a  1\n",
       "1     b  2\n",
       "2  <NA>  3"
      ]
     },
     "execution_count": 41,
     "metadata": {},
     "output_type": "execute_result"
    }
   ],
   "source": [
    "pd.Series([\"a1\", \"b2\", \"3\"],dtype=\"string\",).str.extract(r\"([ab])?(\\d)\", expand=False)"
   ]
  },
  {
   "cell_type": "code",
   "execution_count": 51,
   "id": "healthy-juice",
   "metadata": {},
   "outputs": [
    {
     "data": {
      "text/plain": [
       "pandas.core.frame.DataFrame"
      ]
     },
     "execution_count": 51,
     "metadata": {},
     "output_type": "execute_result"
    }
   ],
   "source": [
    "type(pd.Series([\"a1\", \"b2\", \"c3\"], dtype=\"string\").str.extract(r\"[ab](\\d)\",expand=True)) # pandas.core.frame.DataFrame\n"
   ]
  },
  {
   "cell_type": "code",
   "execution_count": 57,
   "id": "innocent-marketing",
   "metadata": {},
   "outputs": [
    {
     "data": {
      "text/html": [
       "<div>\n",
       "<style scoped>\n",
       "    .dataframe tbody tr th:only-of-type {\n",
       "        vertical-align: middle;\n",
       "    }\n",
       "\n",
       "    .dataframe tbody tr th {\n",
       "        vertical-align: top;\n",
       "    }\n",
       "\n",
       "    .dataframe thead th {\n",
       "        text-align: right;\n",
       "    }\n",
       "</style>\n",
       "<table border=\"1\" class=\"dataframe\">\n",
       "  <thead>\n",
       "    <tr style=\"text-align: right;\">\n",
       "      <th></th>\n",
       "      <th>letter</th>\n",
       "      <th>1</th>\n",
       "    </tr>\n",
       "  </thead>\n",
       "  <tbody>\n",
       "    <tr>\n",
       "      <th>0</th>\n",
       "      <td>A</td>\n",
       "      <td>11</td>\n",
       "    </tr>\n",
       "    <tr>\n",
       "      <th>1</th>\n",
       "      <td>B</td>\n",
       "      <td>22</td>\n",
       "    </tr>\n",
       "    <tr>\n",
       "      <th>2</th>\n",
       "      <td>C</td>\n",
       "      <td>33</td>\n",
       "    </tr>\n",
       "  </tbody>\n",
       "</table>\n",
       "</div>"
      ],
      "text/plain": [
       "  letter   1\n",
       "0      A  11\n",
       "1      B  22\n",
       "2      C  33"
      ]
     },
     "execution_count": 57,
     "metadata": {},
     "output_type": "execute_result"
    }
   ],
   "source": [
    "s = pd.Series([\"a1\", \"b2\", \"c3\"], [\"A11\", \"B22\", \"C33\"], dtype=\"string\")\n",
    "s.index.str.extract(\"(?P<letter>[a-zA-Z])(\\d+)\", expand=True)"
   ]
  },
  {
   "cell_type": "code",
   "execution_count": 60,
   "id": "adverse-intellectual",
   "metadata": {},
   "outputs": [
    {
     "data": {
      "text/html": [
       "<div>\n",
       "<style scoped>\n",
       "    .dataframe tbody tr th:only-of-type {\n",
       "        vertical-align: middle;\n",
       "    }\n",
       "\n",
       "    .dataframe tbody tr th {\n",
       "        vertical-align: top;\n",
       "    }\n",
       "\n",
       "    .dataframe thead th {\n",
       "        text-align: right;\n",
       "    }\n",
       "</style>\n",
       "<table border=\"1\" class=\"dataframe\">\n",
       "  <thead>\n",
       "    <tr style=\"text-align: right;\">\n",
       "      <th></th>\n",
       "      <th></th>\n",
       "      <th>letter</th>\n",
       "      <th>digit</th>\n",
       "    </tr>\n",
       "    <tr>\n",
       "      <th></th>\n",
       "      <th>match</th>\n",
       "      <th></th>\n",
       "      <th></th>\n",
       "    </tr>\n",
       "  </thead>\n",
       "  <tbody>\n",
       "    <tr>\n",
       "      <th rowspan=\"2\" valign=\"top\">A</th>\n",
       "      <th>0</th>\n",
       "      <td>a</td>\n",
       "      <td>1</td>\n",
       "    </tr>\n",
       "    <tr>\n",
       "      <th>1</th>\n",
       "      <td>a</td>\n",
       "      <td>2</td>\n",
       "    </tr>\n",
       "    <tr>\n",
       "      <th>B</th>\n",
       "      <th>0</th>\n",
       "      <td>b</td>\n",
       "      <td>1</td>\n",
       "    </tr>\n",
       "    <tr>\n",
       "      <th>C</th>\n",
       "      <th>0</th>\n",
       "      <td>c</td>\n",
       "      <td>1</td>\n",
       "    </tr>\n",
       "  </tbody>\n",
       "</table>\n",
       "</div>"
      ],
      "text/plain": [
       "        letter digit\n",
       "  match             \n",
       "A 0          a     1\n",
       "  1          a     2\n",
       "B 0          b     1\n",
       "C 0          c     1"
      ]
     },
     "execution_count": 60,
     "metadata": {},
     "output_type": "execute_result"
    }
   ],
   "source": [
    "s = pd.Series([\"a1a2\", \"b1\", \"c1\"], index=[\"A\", \"B\", \"C\"], dtype=\"string\")\n",
    "\n",
    "two_groups = \"(?P<letter>[a-z])(?P<digit>[0-9])\"\n",
    "s.str.extract(two_groups, expand=True)\n",
    "s.str.extractall(two_groups)"
   ]
  },
  {
   "cell_type": "code",
   "execution_count": 65,
   "id": "informational-worry",
   "metadata": {},
   "outputs": [
    {
     "data": {
      "text/plain": [
       "0    False\n",
       "1    False\n",
       "2     True\n",
       "3     True\n",
       "4    False\n",
       "5    False\n",
       "dtype: boolean"
      ]
     },
     "execution_count": 65,
     "metadata": {},
     "output_type": "execute_result"
    }
   ],
   "source": [
    "pattern = r\"[0-9][a-z]\"\n",
    "pd.Series([\"1\", \"2\", \"3a\", \"3b\", \"03c\", \"4dx\"],dtype=\"string\",).str.fullmatch(pattern)"
   ]
  },
  {
   "cell_type": "code",
   "execution_count": 67,
   "id": "incorrect-video",
   "metadata": {},
   "outputs": [
    {
     "data": {
      "text/html": [
       "<div>\n",
       "<style scoped>\n",
       "    .dataframe tbody tr th:only-of-type {\n",
       "        vertical-align: middle;\n",
       "    }\n",
       "\n",
       "    .dataframe tbody tr th {\n",
       "        vertical-align: top;\n",
       "    }\n",
       "\n",
       "    .dataframe thead th {\n",
       "        text-align: right;\n",
       "    }\n",
       "</style>\n",
       "<table border=\"1\" class=\"dataframe\">\n",
       "  <thead>\n",
       "    <tr style=\"text-align: right;\">\n",
       "      <th></th>\n",
       "      <th>a</th>\n",
       "      <th>b</th>\n",
       "      <th>c</th>\n",
       "    </tr>\n",
       "  </thead>\n",
       "  <tbody>\n",
       "    <tr>\n",
       "      <th>0</th>\n",
       "      <td>1</td>\n",
       "      <td>0</td>\n",
       "      <td>0</td>\n",
       "    </tr>\n",
       "    <tr>\n",
       "      <th>1</th>\n",
       "      <td>1</td>\n",
       "      <td>1</td>\n",
       "      <td>0</td>\n",
       "    </tr>\n",
       "    <tr>\n",
       "      <th>2</th>\n",
       "      <td>0</td>\n",
       "      <td>0</td>\n",
       "      <td>0</td>\n",
       "    </tr>\n",
       "    <tr>\n",
       "      <th>3</th>\n",
       "      <td>1</td>\n",
       "      <td>0</td>\n",
       "      <td>1</td>\n",
       "    </tr>\n",
       "  </tbody>\n",
       "</table>\n",
       "</div>"
      ],
      "text/plain": [
       "   a  b  c\n",
       "0  1  0  0\n",
       "1  1  1  0\n",
       "2  0  0  0\n",
       "3  1  0  1"
      ]
     },
     "execution_count": 67,
     "metadata": {},
     "output_type": "execute_result"
    }
   ],
   "source": [
    "s = pd.Series([\"a\", \"a|b\", np.nan, \"a|c\"], dtype=\"string\")\n",
    "s.str.get_dummies(sep=\"|\")"
   ]
  },
  {
   "cell_type": "code",
   "execution_count": 68,
   "id": "silver-victor",
   "metadata": {},
   "outputs": [
    {
     "data": {
      "text/plain": [
       "MultiIndex([(1, 0, 0),\n",
       "            (1, 1, 0),\n",
       "            (0, 0, 0),\n",
       "            (1, 0, 1)],\n",
       "           names=['a', 'b', 'c'])"
      ]
     },
     "execution_count": 68,
     "metadata": {},
     "output_type": "execute_result"
    }
   ],
   "source": [
    "idx = pd.Index([\"a\", \"a|b\", np.nan, \"a|c\"])\n",
    "idx.str.get_dummies(sep=\"|\")"
   ]
  },
  {
   "cell_type": "markdown",
   "id": "composed-dressing",
   "metadata": {},
   "source": [
    "# 2.10 Working with missing data"
   ]
  },
  {
   "cell_type": "code",
   "execution_count": 3,
   "id": "civil-patio",
   "metadata": {},
   "outputs": [
    {
     "data": {
      "text/html": [
       "<div>\n",
       "<style scoped>\n",
       "    .dataframe tbody tr th:only-of-type {\n",
       "        vertical-align: middle;\n",
       "    }\n",
       "\n",
       "    .dataframe tbody tr th {\n",
       "        vertical-align: top;\n",
       "    }\n",
       "\n",
       "    .dataframe thead th {\n",
       "        text-align: right;\n",
       "    }\n",
       "</style>\n",
       "<table border=\"1\" class=\"dataframe\">\n",
       "  <thead>\n",
       "    <tr style=\"text-align: right;\">\n",
       "      <th></th>\n",
       "      <th>one</th>\n",
       "      <th>two</th>\n",
       "      <th>three</th>\n",
       "      <th>four</th>\n",
       "      <th>five</th>\n",
       "    </tr>\n",
       "  </thead>\n",
       "  <tbody>\n",
       "    <tr>\n",
       "      <th>a</th>\n",
       "      <td>0.298437</td>\n",
       "      <td>1.561665</td>\n",
       "      <td>-0.585668</td>\n",
       "      <td>bar</td>\n",
       "      <td>True</td>\n",
       "    </tr>\n",
       "    <tr>\n",
       "      <th>b</th>\n",
       "      <td>NaN</td>\n",
       "      <td>NaN</td>\n",
       "      <td>NaN</td>\n",
       "      <td>NaN</td>\n",
       "      <td>NaN</td>\n",
       "    </tr>\n",
       "    <tr>\n",
       "      <th>c</th>\n",
       "      <td>0.218006</td>\n",
       "      <td>-0.293174</td>\n",
       "      <td>-0.322149</td>\n",
       "      <td>bar</td>\n",
       "      <td>True</td>\n",
       "    </tr>\n",
       "    <tr>\n",
       "      <th>d</th>\n",
       "      <td>NaN</td>\n",
       "      <td>NaN</td>\n",
       "      <td>NaN</td>\n",
       "      <td>NaN</td>\n",
       "      <td>NaN</td>\n",
       "    </tr>\n",
       "    <tr>\n",
       "      <th>e</th>\n",
       "      <td>0.691956</td>\n",
       "      <td>-0.847390</td>\n",
       "      <td>1.424238</td>\n",
       "      <td>bar</td>\n",
       "      <td>True</td>\n",
       "    </tr>\n",
       "    <tr>\n",
       "      <th>f</th>\n",
       "      <td>-0.110987</td>\n",
       "      <td>-1.222784</td>\n",
       "      <td>0.116759</td>\n",
       "      <td>bar</td>\n",
       "      <td>False</td>\n",
       "    </tr>\n",
       "    <tr>\n",
       "      <th>g</th>\n",
       "      <td>NaN</td>\n",
       "      <td>NaN</td>\n",
       "      <td>NaN</td>\n",
       "      <td>NaN</td>\n",
       "      <td>NaN</td>\n",
       "    </tr>\n",
       "    <tr>\n",
       "      <th>h</th>\n",
       "      <td>1.003344</td>\n",
       "      <td>0.599492</td>\n",
       "      <td>-1.280055</td>\n",
       "      <td>bar</td>\n",
       "      <td>True</td>\n",
       "    </tr>\n",
       "  </tbody>\n",
       "</table>\n",
       "</div>"
      ],
      "text/plain": [
       "        one       two     three four   five\n",
       "a  0.298437  1.561665 -0.585668  bar   True\n",
       "b       NaN       NaN       NaN  NaN    NaN\n",
       "c  0.218006 -0.293174 -0.322149  bar   True\n",
       "d       NaN       NaN       NaN  NaN    NaN\n",
       "e  0.691956 -0.847390  1.424238  bar   True\n",
       "f -0.110987 -1.222784  0.116759  bar  False\n",
       "g       NaN       NaN       NaN  NaN    NaN\n",
       "h  1.003344  0.599492 -1.280055  bar   True"
      ]
     },
     "execution_count": 3,
     "metadata": {},
     "output_type": "execute_result"
    }
   ],
   "source": [
    "df = pd.DataFrame(np.random.randn(5, 3),index=[\"a\", \"c\", \"e\", \"f\", \"h\"],\n",
    "                  columns=[\"one\", \"two\", \"three\"],)\n",
    "df[\"four\"] = \"bar\"\n",
    "df[\"five\"] = df[\"one\"] > 0\n",
    "df2 = df.reindex([\"a\", \"b\", \"c\", \"d\", \"e\", \"f\", \"g\", \"h\"])\n",
    "df2"
   ]
  },
  {
   "cell_type": "code",
   "execution_count": 4,
   "id": "laden-spencer",
   "metadata": {},
   "outputs": [
    {
     "data": {
      "text/plain": [
       "a     True\n",
       "b    False\n",
       "c     True\n",
       "d    False\n",
       "e     True\n",
       "f     True\n",
       "g    False\n",
       "h     True\n",
       "Name: one, dtype: bool"
      ]
     },
     "execution_count": 4,
     "metadata": {},
     "output_type": "execute_result"
    }
   ],
   "source": [
    "pd.isna(df2[\"one\"])\n",
    "pd.notna(df2[\"one\"])\n",
    "pd.isnull(df2[\"one\"])\n",
    "pd.notnull(df2[\"one\"])"
   ]
  },
  {
   "cell_type": "code",
   "execution_count": 5,
   "id": "individual-trouble",
   "metadata": {},
   "outputs": [
    {
     "data": {
      "text/html": [
       "<div>\n",
       "<style scoped>\n",
       "    .dataframe tbody tr th:only-of-type {\n",
       "        vertical-align: middle;\n",
       "    }\n",
       "\n",
       "    .dataframe tbody tr th {\n",
       "        vertical-align: top;\n",
       "    }\n",
       "\n",
       "    .dataframe thead th {\n",
       "        text-align: right;\n",
       "    }\n",
       "</style>\n",
       "<table border=\"1\" class=\"dataframe\">\n",
       "  <thead>\n",
       "    <tr style=\"text-align: right;\">\n",
       "      <th></th>\n",
       "      <th>one</th>\n",
       "      <th>two</th>\n",
       "      <th>three</th>\n",
       "      <th>four</th>\n",
       "      <th>five</th>\n",
       "    </tr>\n",
       "  </thead>\n",
       "  <tbody>\n",
       "    <tr>\n",
       "      <th>a</th>\n",
       "      <td>False</td>\n",
       "      <td>False</td>\n",
       "      <td>False</td>\n",
       "      <td>False</td>\n",
       "      <td>False</td>\n",
       "    </tr>\n",
       "    <tr>\n",
       "      <th>b</th>\n",
       "      <td>True</td>\n",
       "      <td>True</td>\n",
       "      <td>True</td>\n",
       "      <td>True</td>\n",
       "      <td>True</td>\n",
       "    </tr>\n",
       "    <tr>\n",
       "      <th>c</th>\n",
       "      <td>False</td>\n",
       "      <td>False</td>\n",
       "      <td>False</td>\n",
       "      <td>False</td>\n",
       "      <td>False</td>\n",
       "    </tr>\n",
       "    <tr>\n",
       "      <th>d</th>\n",
       "      <td>True</td>\n",
       "      <td>True</td>\n",
       "      <td>True</td>\n",
       "      <td>True</td>\n",
       "      <td>True</td>\n",
       "    </tr>\n",
       "    <tr>\n",
       "      <th>e</th>\n",
       "      <td>False</td>\n",
       "      <td>False</td>\n",
       "      <td>False</td>\n",
       "      <td>False</td>\n",
       "      <td>False</td>\n",
       "    </tr>\n",
       "    <tr>\n",
       "      <th>f</th>\n",
       "      <td>False</td>\n",
       "      <td>False</td>\n",
       "      <td>False</td>\n",
       "      <td>False</td>\n",
       "      <td>False</td>\n",
       "    </tr>\n",
       "    <tr>\n",
       "      <th>g</th>\n",
       "      <td>True</td>\n",
       "      <td>True</td>\n",
       "      <td>True</td>\n",
       "      <td>True</td>\n",
       "      <td>True</td>\n",
       "    </tr>\n",
       "    <tr>\n",
       "      <th>h</th>\n",
       "      <td>False</td>\n",
       "      <td>False</td>\n",
       "      <td>False</td>\n",
       "      <td>False</td>\n",
       "      <td>False</td>\n",
       "    </tr>\n",
       "  </tbody>\n",
       "</table>\n",
       "</div>"
      ],
      "text/plain": [
       "     one    two  three   four   five\n",
       "a  False  False  False  False  False\n",
       "b   True   True   True   True   True\n",
       "c  False  False  False  False  False\n",
       "d   True   True   True   True   True\n",
       "e  False  False  False  False  False\n",
       "f  False  False  False  False  False\n",
       "g   True   True   True   True   True\n",
       "h  False  False  False  False  False"
      ]
     },
     "execution_count": 5,
     "metadata": {},
     "output_type": "execute_result"
    }
   ],
   "source": [
    "df2.two.isna()\n",
    "df2['three'].notna()\n",
    "df2.isna()"
   ]
  },
  {
   "cell_type": "code",
   "execution_count": 6,
   "id": "complicated-romantic",
   "metadata": {},
   "outputs": [
    {
     "name": "stdout",
     "output_type": "stream",
     "text": [
      "True\n",
      "False\n",
      "False\n",
      "4453377040\n",
      "4453377040\n",
      "True\n"
     ]
    }
   ],
   "source": [
    "print(None == None) # True\n",
    "print(None == np.nan) # False\n",
    "print(np.nan == np.nan) # False\n",
    "print(id(np.nan)) # 4451886096\n",
    "print(id(np.nan)) # 4451886096\n",
    "print(np.nan is np.nan) # True"
   ]
  },
  {
   "cell_type": "code",
   "execution_count": 7,
   "id": "amber-religious",
   "metadata": {},
   "outputs": [
    {
     "data": {
      "text/plain": [
       "a    False\n",
       "b    False\n",
       "c    False\n",
       "d    False\n",
       "e    False\n",
       "f    False\n",
       "g    False\n",
       "h    False\n",
       "Name: one, dtype: bool"
      ]
     },
     "execution_count": 7,
     "metadata": {},
     "output_type": "execute_result"
    }
   ],
   "source": [
    "df2.one.isna()\n",
    "df2['one'] == np.nan"
   ]
  },
  {
   "cell_type": "code",
   "execution_count": 8,
   "id": "graphic-fellowship",
   "metadata": {},
   "outputs": [
    {
     "data": {
      "text/plain": [
       "0       1\n",
       "1       2\n",
       "2    <NA>\n",
       "3       4\n",
       "dtype: Int64"
      ]
     },
     "execution_count": 8,
     "metadata": {},
     "output_type": "execute_result"
    }
   ],
   "source": [
    "pd.Series([1, 2, np.nan, 4], dtype=pd.Int64Dtype())"
   ]
  },
  {
   "cell_type": "code",
   "execution_count": 9,
   "id": "split-understanding",
   "metadata": {},
   "outputs": [
    {
     "data": {
      "text/plain": [
       "float64           3\n",
       "object            1\n",
       "datetime64[ns]    1\n",
       "bool              1\n",
       "dtype: int64"
      ]
     },
     "execution_count": 9,
     "metadata": {},
     "output_type": "execute_result"
    }
   ],
   "source": [
    "df2 = df.copy()\n",
    "df2[\"timestamp\"] = pd.Timestamp(\"20120101\")\n",
    "df2.loc[[\"a\", \"c\", \"h\"], [\"one\", \"timestamp\"]] = np.nan\n",
    "df2.dtypes.value_counts()"
   ]
  },
  {
   "cell_type": "code",
   "execution_count": 10,
   "id": "circular-salmon",
   "metadata": {},
   "outputs": [
    {
     "data": {
      "text/html": [
       "<div>\n",
       "<style scoped>\n",
       "    .dataframe tbody tr th:only-of-type {\n",
       "        vertical-align: middle;\n",
       "    }\n",
       "\n",
       "    .dataframe tbody tr th {\n",
       "        vertical-align: top;\n",
       "    }\n",
       "\n",
       "    .dataframe thead th {\n",
       "        text-align: right;\n",
       "    }\n",
       "</style>\n",
       "<table border=\"1\" class=\"dataframe\">\n",
       "  <thead>\n",
       "    <tr style=\"text-align: right;\">\n",
       "      <th></th>\n",
       "      <th>one</th>\n",
       "      <th>three</th>\n",
       "      <th>two</th>\n",
       "    </tr>\n",
       "  </thead>\n",
       "  <tbody>\n",
       "    <tr>\n",
       "      <th>a</th>\n",
       "      <td>NaN</td>\n",
       "      <td>NaN</td>\n",
       "      <td>3.123329</td>\n",
       "    </tr>\n",
       "    <tr>\n",
       "      <th>c</th>\n",
       "      <td>NaN</td>\n",
       "      <td>NaN</td>\n",
       "      <td>-0.586348</td>\n",
       "    </tr>\n",
       "    <tr>\n",
       "      <th>e</th>\n",
       "      <td>1.383912</td>\n",
       "      <td>NaN</td>\n",
       "      <td>-1.694779</td>\n",
       "    </tr>\n",
       "    <tr>\n",
       "      <th>f</th>\n",
       "      <td>-0.221973</td>\n",
       "      <td>NaN</td>\n",
       "      <td>-2.445569</td>\n",
       "    </tr>\n",
       "    <tr>\n",
       "      <th>h</th>\n",
       "      <td>NaN</td>\n",
       "      <td>NaN</td>\n",
       "      <td>1.198984</td>\n",
       "    </tr>\n",
       "  </tbody>\n",
       "</table>\n",
       "</div>"
      ],
      "text/plain": [
       "        one  three       two\n",
       "a       NaN    NaN  3.123329\n",
       "c       NaN    NaN -0.586348\n",
       "e  1.383912    NaN -1.694779\n",
       "f -0.221973    NaN -2.445569\n",
       "h       NaN    NaN  1.198984"
      ]
     },
     "execution_count": 10,
     "metadata": {},
     "output_type": "execute_result"
    }
   ],
   "source": [
    "a = df2[['one', 'two']]\n",
    "b = df2.loc[:, df2.dtypes == 'float64']\n",
    "a+b"
   ]
  },
  {
   "cell_type": "code",
   "execution_count": 11,
   "id": "substantial-norman",
   "metadata": {},
   "outputs": [
    {
     "data": {
      "text/html": [
       "<div>\n",
       "<style scoped>\n",
       "    .dataframe tbody tr th:only-of-type {\n",
       "        vertical-align: middle;\n",
       "    }\n",
       "\n",
       "    .dataframe tbody tr th {\n",
       "        vertical-align: top;\n",
       "    }\n",
       "\n",
       "    .dataframe thead th {\n",
       "        text-align: right;\n",
       "    }\n",
       "</style>\n",
       "<table border=\"1\" class=\"dataframe\">\n",
       "  <thead>\n",
       "    <tr style=\"text-align: right;\">\n",
       "      <th></th>\n",
       "      <th>a</th>\n",
       "      <th>b</th>\n",
       "    </tr>\n",
       "  </thead>\n",
       "  <tbody>\n",
       "    <tr>\n",
       "      <th>0</th>\n",
       "      <td>10.0</td>\n",
       "      <td>NaN</td>\n",
       "    </tr>\n",
       "    <tr>\n",
       "      <th>1</th>\n",
       "      <td>20.0</td>\n",
       "      <td>40.0</td>\n",
       "    </tr>\n",
       "    <tr>\n",
       "      <th>2</th>\n",
       "      <td>60.0</td>\n",
       "      <td>30.0</td>\n",
       "    </tr>\n",
       "  </tbody>\n",
       "</table>\n",
       "</div>"
      ],
      "text/plain": [
       "      a     b\n",
       "0  10.0   NaN\n",
       "1  20.0  40.0\n",
       "2  60.0  30.0"
      ]
     },
     "execution_count": 11,
     "metadata": {},
     "output_type": "execute_result"
    }
   ],
   "source": [
    "dft = pd.DataFrame({\n",
    "    'a':[10, np.nan, 30],\n",
    "    'b':[np.nan, 20, 30]\n",
    "})\n",
    "\n",
    "dft2 = pd.DataFrame({\n",
    "    'a':[np.nan, 20, 30],\n",
    "    'b':[np.nan, 20, np.nan]\n",
    "})\n",
    "\n",
    "dft + dft2\n",
    "dft.add(dft2, fill_value=0)"
   ]
  },
  {
   "cell_type": "code",
   "execution_count": 12,
   "id": "random-institution",
   "metadata": {},
   "outputs": [
    {
     "name": "stderr",
     "output_type": "stream",
     "text": [
      "<ipython-input-12-a6043ec029b5>:2: FutureWarning: DataFrame.mean and DataFrame.median with numeric_only=None will include datetime64 and datetime64tz columns in a future version.\n",
      "  df2.mean(1)\n"
     ]
    },
    {
     "data": {
      "text/html": [
       "<div>\n",
       "<style scoped>\n",
       "    .dataframe tbody tr th:only-of-type {\n",
       "        vertical-align: middle;\n",
       "    }\n",
       "\n",
       "    .dataframe tbody tr th {\n",
       "        vertical-align: top;\n",
       "    }\n",
       "\n",
       "    .dataframe thead th {\n",
       "        text-align: right;\n",
       "    }\n",
       "</style>\n",
       "<table border=\"1\" class=\"dataframe\">\n",
       "  <thead>\n",
       "    <tr style=\"text-align: right;\">\n",
       "      <th></th>\n",
       "      <th>one</th>\n",
       "      <th>two</th>\n",
       "      <th>three</th>\n",
       "      <th>four</th>\n",
       "      <th>five</th>\n",
       "      <th>timestamp</th>\n",
       "    </tr>\n",
       "  </thead>\n",
       "  <tbody>\n",
       "    <tr>\n",
       "      <th>a</th>\n",
       "      <td>NaN</td>\n",
       "      <td>1.561665</td>\n",
       "      <td>-0.585668</td>\n",
       "      <td>bar</td>\n",
       "      <td>1</td>\n",
       "      <td>NaT</td>\n",
       "    </tr>\n",
       "    <tr>\n",
       "      <th>c</th>\n",
       "      <td>NaN</td>\n",
       "      <td>1.268491</td>\n",
       "      <td>-0.907816</td>\n",
       "      <td>barbar</td>\n",
       "      <td>2</td>\n",
       "      <td>1970-01-01 00:00:00.000000000</td>\n",
       "    </tr>\n",
       "    <tr>\n",
       "      <th>e</th>\n",
       "      <td>NaN</td>\n",
       "      <td>0.421101</td>\n",
       "      <td>0.516422</td>\n",
       "      <td>barbarbar</td>\n",
       "      <td>3</td>\n",
       "      <td>2012-01-01 00:00:00.000000000</td>\n",
       "    </tr>\n",
       "    <tr>\n",
       "      <th>f</th>\n",
       "      <td>NaN</td>\n",
       "      <td>-0.801683</td>\n",
       "      <td>0.633180</td>\n",
       "      <td>barbarbarbar</td>\n",
       "      <td>3</td>\n",
       "      <td>2053-12-31 00:00:00.000000000</td>\n",
       "    </tr>\n",
       "    <tr>\n",
       "      <th>h</th>\n",
       "      <td>NaN</td>\n",
       "      <td>-0.202191</td>\n",
       "      <td>-0.646875</td>\n",
       "      <td>barbarbarbarbar</td>\n",
       "      <td>4</td>\n",
       "      <td>1761-09-21 00:12:43.145224192</td>\n",
       "    </tr>\n",
       "  </tbody>\n",
       "</table>\n",
       "</div>"
      ],
      "text/plain": [
       "   one       two     three             four  five  \\\n",
       "a  NaN  1.561665 -0.585668              bar     1   \n",
       "c  NaN  1.268491 -0.907816           barbar     2   \n",
       "e  NaN  0.421101  0.516422        barbarbar     3   \n",
       "f  NaN -0.801683  0.633180     barbarbarbar     3   \n",
       "h  NaN -0.202191 -0.646875  barbarbarbarbar     4   \n",
       "\n",
       "                      timestamp  \n",
       "a                           NaT  \n",
       "c 1970-01-01 00:00:00.000000000  \n",
       "e 2012-01-01 00:00:00.000000000  \n",
       "f 2053-12-31 00:00:00.000000000  \n",
       "h 1761-09-21 00:12:43.145224192  "
      ]
     },
     "execution_count": 12,
     "metadata": {},
     "output_type": "execute_result"
    }
   ],
   "source": [
    "df2.one.sum()\n",
    "df2.mean(1)\n",
    "df2.cumsum()\n",
    "df2.cumsum(skipna=False)"
   ]
  },
  {
   "cell_type": "code",
   "execution_count": 13,
   "id": "reduced-scotland",
   "metadata": {},
   "outputs": [
    {
     "data": {
      "text/plain": [
       "0.0"
      ]
     },
     "execution_count": 13,
     "metadata": {},
     "output_type": "execute_result"
    }
   ],
   "source": [
    "pd.Series([], dtype=\"float64\").sum()"
   ]
  },
  {
   "cell_type": "code",
   "execution_count": 17,
   "id": "noted-french",
   "metadata": {},
   "outputs": [
    {
     "data": {
      "text/plain": [
       "a     missing\n",
       "c     missing\n",
       "e    0.691956\n",
       "f   -0.110987\n",
       "h     missing\n",
       "Name: one, dtype: object"
      ]
     },
     "execution_count": 17,
     "metadata": {},
     "output_type": "execute_result"
    }
   ],
   "source": [
    "df2.fillna(0)\n",
    "df2.one.fillna(\"missing\")"
   ]
  },
  {
   "cell_type": "code",
   "execution_count": 21,
   "id": "cognitive-brass",
   "metadata": {},
   "outputs": [
    {
     "name": "stdout",
     "output_type": "stream",
     "text": [
      "        one       two     three four   five  timestamp\n",
      "a       NaN  1.561665 -0.585668  bar   True        NaT\n",
      "c       NaN -0.293174 -0.322149  bar   True        NaT\n",
      "e  0.691956 -0.847390  1.424238  bar   True 2012-01-01\n",
      "f -0.110987 -1.222784  0.116759  bar  False 2012-01-01\n",
      "h       NaN  0.599492 -1.280055  bar   True        NaT\n"
     ]
    },
    {
     "data": {
      "text/html": [
       "<div>\n",
       "<style scoped>\n",
       "    .dataframe tbody tr th:only-of-type {\n",
       "        vertical-align: middle;\n",
       "    }\n",
       "\n",
       "    .dataframe tbody tr th {\n",
       "        vertical-align: top;\n",
       "    }\n",
       "\n",
       "    .dataframe thead th {\n",
       "        text-align: right;\n",
       "    }\n",
       "</style>\n",
       "<table border=\"1\" class=\"dataframe\">\n",
       "  <thead>\n",
       "    <tr style=\"text-align: right;\">\n",
       "      <th></th>\n",
       "      <th>one</th>\n",
       "      <th>two</th>\n",
       "      <th>three</th>\n",
       "      <th>four</th>\n",
       "      <th>five</th>\n",
       "      <th>timestamp</th>\n",
       "    </tr>\n",
       "  </thead>\n",
       "  <tbody>\n",
       "    <tr>\n",
       "      <th>a</th>\n",
       "      <td>NaN</td>\n",
       "      <td>1.561665</td>\n",
       "      <td>-0.585668</td>\n",
       "      <td>bar</td>\n",
       "      <td>True</td>\n",
       "      <td>NaT</td>\n",
       "    </tr>\n",
       "    <tr>\n",
       "      <th>c</th>\n",
       "      <td>NaN</td>\n",
       "      <td>-0.293174</td>\n",
       "      <td>-0.322149</td>\n",
       "      <td>bar</td>\n",
       "      <td>True</td>\n",
       "      <td>NaT</td>\n",
       "    </tr>\n",
       "    <tr>\n",
       "      <th>e</th>\n",
       "      <td>0.691956</td>\n",
       "      <td>-0.847390</td>\n",
       "      <td>1.424238</td>\n",
       "      <td>bar</td>\n",
       "      <td>True</td>\n",
       "      <td>2012-01-01</td>\n",
       "    </tr>\n",
       "    <tr>\n",
       "      <th>f</th>\n",
       "      <td>-0.110987</td>\n",
       "      <td>-1.222784</td>\n",
       "      <td>0.116759</td>\n",
       "      <td>bar</td>\n",
       "      <td>False</td>\n",
       "      <td>2012-01-01</td>\n",
       "    </tr>\n",
       "    <tr>\n",
       "      <th>h</th>\n",
       "      <td>-0.110987</td>\n",
       "      <td>0.599492</td>\n",
       "      <td>-1.280055</td>\n",
       "      <td>bar</td>\n",
       "      <td>True</td>\n",
       "      <td>2012-01-01</td>\n",
       "    </tr>\n",
       "  </tbody>\n",
       "</table>\n",
       "</div>"
      ],
      "text/plain": [
       "        one       two     three four   five  timestamp\n",
       "a       NaN  1.561665 -0.585668  bar   True        NaT\n",
       "c       NaN -0.293174 -0.322149  bar   True        NaT\n",
       "e  0.691956 -0.847390  1.424238  bar   True 2012-01-01\n",
       "f -0.110987 -1.222784  0.116759  bar  False 2012-01-01\n",
       "h -0.110987  0.599492 -1.280055  bar   True 2012-01-01"
      ]
     },
     "execution_count": 21,
     "metadata": {},
     "output_type": "execute_result"
    }
   ],
   "source": [
    "print(df2)\n",
    "df2.fillna(method=\"pad\")"
   ]
  },
  {
   "cell_type": "code",
   "execution_count": 40,
   "id": "regional-nepal",
   "metadata": {},
   "outputs": [
    {
     "data": {
      "text/html": [
       "<div>\n",
       "<style scoped>\n",
       "    .dataframe tbody tr th:only-of-type {\n",
       "        vertical-align: middle;\n",
       "    }\n",
       "\n",
       "    .dataframe tbody tr th {\n",
       "        vertical-align: top;\n",
       "    }\n",
       "\n",
       "    .dataframe thead th {\n",
       "        text-align: right;\n",
       "    }\n",
       "</style>\n",
       "<table border=\"1\" class=\"dataframe\">\n",
       "  <thead>\n",
       "    <tr style=\"text-align: right;\">\n",
       "      <th></th>\n",
       "      <th>week</th>\n",
       "      <th>items</th>\n",
       "    </tr>\n",
       "  </thead>\n",
       "  <tbody>\n",
       "    <tr>\n",
       "      <th>0</th>\n",
       "      <td>1</td>\n",
       "      <td>1.0</td>\n",
       "    </tr>\n",
       "    <tr>\n",
       "      <th>1</th>\n",
       "      <td>2</td>\n",
       "      <td>2.0</td>\n",
       "    </tr>\n",
       "    <tr>\n",
       "      <th>2</th>\n",
       "      <td>3</td>\n",
       "      <td>2.0</td>\n",
       "    </tr>\n",
       "    <tr>\n",
       "      <th>3</th>\n",
       "      <td>4</td>\n",
       "      <td>3.0</td>\n",
       "    </tr>\n",
       "    <tr>\n",
       "      <th>4</th>\n",
       "      <td>5</td>\n",
       "      <td>4.0</td>\n",
       "    </tr>\n",
       "    <tr>\n",
       "      <th>5</th>\n",
       "      <td>6</td>\n",
       "      <td>4.0</td>\n",
       "    </tr>\n",
       "    <tr>\n",
       "      <th>6</th>\n",
       "      <td>7</td>\n",
       "      <td>5.0</td>\n",
       "    </tr>\n",
       "  </tbody>\n",
       "</table>\n",
       "</div>"
      ],
      "text/plain": [
       "   week  items\n",
       "0     1    1.0\n",
       "1     2    2.0\n",
       "2     3    2.0\n",
       "3     4    3.0\n",
       "4     5    4.0\n",
       "5     6    4.0\n",
       "6     7    5.0"
      ]
     },
     "execution_count": 40,
     "metadata": {},
     "output_type": "execute_result"
    }
   ],
   "source": [
    "dft = pd.DataFrame({'week': [1,2,4,5,7], 'items':[1,2,3,4,5]})\n",
    "dft.set_index('week').reindex(range(1,8)).fillna(method='pad').reset_index()"
   ]
  },
  {
   "cell_type": "code",
   "execution_count": 45,
   "id": "twenty-carrier",
   "metadata": {},
   "outputs": [
    {
     "name": "stdout",
     "output_type": "stream",
     "text": [
      "1.6 ms ± 191 µs per loop (mean ± std. dev. of 7 runs, 1000 loops each)\n"
     ]
    }
   ],
   "source": [
    "%timeit dft.set_index('week').reindex(range(1,8)).fillna(method='ffill').reset_index()"
   ]
  },
  {
   "cell_type": "code",
   "execution_count": 42,
   "id": "private-pierce",
   "metadata": {},
   "outputs": [
    {
     "name": "stdout",
     "output_type": "stream",
     "text": [
      "1.32 ms ± 16.7 µs per loop (mean ± std. dev. of 7 runs, 1000 loops each)\n"
     ]
    }
   ],
   "source": [
    "%timeit dft.set_index('week').reindex(range(1,8)).ffill().reset_index()"
   ]
  },
  {
   "cell_type": "code",
   "execution_count": 50,
   "id": "nearby-mounting",
   "metadata": {},
   "outputs": [
    {
     "data": {
      "text/html": [
       "<div>\n",
       "<style scoped>\n",
       "    .dataframe tbody tr th:only-of-type {\n",
       "        vertical-align: middle;\n",
       "    }\n",
       "\n",
       "    .dataframe tbody tr th {\n",
       "        vertical-align: top;\n",
       "    }\n",
       "\n",
       "    .dataframe thead th {\n",
       "        text-align: right;\n",
       "    }\n",
       "</style>\n",
       "<table border=\"1\" class=\"dataframe\">\n",
       "  <thead>\n",
       "    <tr style=\"text-align: right;\">\n",
       "      <th></th>\n",
       "      <th>A</th>\n",
       "      <th>B</th>\n",
       "      <th>C</th>\n",
       "    </tr>\n",
       "  </thead>\n",
       "  <tbody>\n",
       "    <tr>\n",
       "      <th>0</th>\n",
       "      <td>-0.419523</td>\n",
       "      <td>1.386890</td>\n",
       "      <td>-0.871141</td>\n",
       "    </tr>\n",
       "    <tr>\n",
       "      <th>1</th>\n",
       "      <td>-1.451398</td>\n",
       "      <td>-1.048689</td>\n",
       "      <td>-0.807501</td>\n",
       "    </tr>\n",
       "    <tr>\n",
       "      <th>2</th>\n",
       "      <td>-0.303031</td>\n",
       "      <td>-0.061799</td>\n",
       "      <td>-0.313479</td>\n",
       "    </tr>\n",
       "    <tr>\n",
       "      <th>3</th>\n",
       "      <td>-0.067211</td>\n",
       "      <td>0.505452</td>\n",
       "      <td>1.521837</td>\n",
       "    </tr>\n",
       "    <tr>\n",
       "      <th>4</th>\n",
       "      <td>-0.067211</td>\n",
       "      <td>0.022389</td>\n",
       "      <td>-0.817923</td>\n",
       "    </tr>\n",
       "    <tr>\n",
       "      <th>5</th>\n",
       "      <td>1.220784</td>\n",
       "      <td>0.022389</td>\n",
       "      <td>-0.375517</td>\n",
       "    </tr>\n",
       "    <tr>\n",
       "      <th>6</th>\n",
       "      <td>-0.114751</td>\n",
       "      <td>0.704809</td>\n",
       "      <td>-0.375517</td>\n",
       "    </tr>\n",
       "    <tr>\n",
       "      <th>7</th>\n",
       "      <td>-0.060797</td>\n",
       "      <td>-0.676527</td>\n",
       "      <td>-0.375517</td>\n",
       "    </tr>\n",
       "    <tr>\n",
       "      <th>8</th>\n",
       "      <td>1.293192</td>\n",
       "      <td>-0.262103</td>\n",
       "      <td>-1.241799</td>\n",
       "    </tr>\n",
       "    <tr>\n",
       "      <th>9</th>\n",
       "      <td>-0.702163</td>\n",
       "      <td>-0.368926</td>\n",
       "      <td>-0.098611</td>\n",
       "    </tr>\n",
       "  </tbody>\n",
       "</table>\n",
       "</div>"
      ],
      "text/plain": [
       "          A         B         C\n",
       "0 -0.419523  1.386890 -0.871141\n",
       "1 -1.451398 -1.048689 -0.807501\n",
       "2 -0.303031 -0.061799 -0.313479\n",
       "3 -0.067211  0.505452  1.521837\n",
       "4 -0.067211  0.022389 -0.817923\n",
       "5  1.220784  0.022389 -0.375517\n",
       "6 -0.114751  0.704809 -0.375517\n",
       "7 -0.060797 -0.676527 -0.375517\n",
       "8  1.293192 -0.262103 -1.241799\n",
       "9 -0.702163 -0.368926 -0.098611"
      ]
     },
     "execution_count": 50,
     "metadata": {},
     "output_type": "execute_result"
    }
   ],
   "source": [
    "dff = pd.DataFrame(np.random.randn(10, 3), columns=list(\"ABC\"))\n",
    "dff.iloc[3:5, 0] = np.nan\n",
    "dff.iloc[4:6, 1] = np.nan\n",
    "dff.iloc[5:8, 2] = np.nan\n",
    "dff.fillna(dff.mean())\n",
    "dff.fillna(dff.mean()[\"B\":\"C\"])\n",
    "dff.where(pd.notna(dff), dff.mean(), axis=\"columns\")"
   ]
  },
  {
   "cell_type": "code",
   "execution_count": 59,
   "id": "interpreted-owner",
   "metadata": {},
   "outputs": [
    {
     "data": {
      "text/plain": [
       "Series([], Name: one, dtype: float64)"
      ]
     },
     "execution_count": 59,
     "metadata": {},
     "output_type": "execute_result"
    }
   ],
   "source": [
    "df = df.iloc[:,:3]\n",
    "df['one']=np.nan\n",
    "df.dropna(axis=0)\n",
    "df.dropna(axis=1)\n",
    "df['one'].dropna()"
   ]
  },
  {
   "cell_type": "markdown",
   "id": "lesser-samba",
   "metadata": {},
   "source": [
    "# 2.10.9 Interpolation"
   ]
  },
  {
   "cell_type": "code",
   "execution_count": 16,
   "id": "smoking-gazette",
   "metadata": {},
   "outputs": [
    {
     "data": {
      "text/plain": [
       "<AxesSubplot:>"
      ]
     },
     "execution_count": 16,
     "metadata": {},
     "output_type": "execute_result"
    },
    {
     "data": {
      "image/png": "[encoded data removed]",
      "text/plain": [
       "<Figure size 432x288 with 1 Axes>"
      ]
     },
     "metadata": {
      "needs_background": "light"
     },
     "output_type": "display_data"
    }
   ],
   "source": [
    "rng = pd.date_range('2000.01.31', periods=100, freq='BM')\n",
    "ts = pd.Series(np.random.randn(len(rng)), index=rng)\n",
    "ts[1:21]=np.nan\n",
    "ts[44:58]=np.nan\n",
    "ts.count() ## 66\n",
    "ts.plot()"
   ]
  },
  {
   "cell_type": "code",
   "execution_count": 19,
   "id": "overhead-border",
   "metadata": {},
   "outputs": [
    {
     "data": {
      "text/plain": [
       "<AxesSubplot:>"
      ]
     },
     "execution_count": 19,
     "metadata": {},
     "output_type": "execute_result"
    },
    {
     "data": {
      "image/png": "[encoded data removed]",
      "text/plain": [
       "<Figure size 432x288 with 1 Axes>"
      ]
     },
     "metadata": {
      "needs_background": "light"
     },
     "output_type": "display_data"
    }
   ],
   "source": [
    "ts.interpolate().count() # 100\n",
    "ts.interpolate().plot()"
   ]
  },
  {
   "cell_type": "code",
   "execution_count": 21,
   "id": "charged-delight",
   "metadata": {},
   "outputs": [
    {
     "data": {
      "text/plain": [
       "<AxesSubplot:>"
      ]
     },
     "execution_count": 21,
     "metadata": {},
     "output_type": "execute_result"
    },
    {
     "data": {
      "image/png": "[encoded data removed]",
      "text/plain": [
       "<Figure size 432x288 with 1 Axes>"
      ]
     },
     "metadata": {
      "needs_background": "light"
     },
     "output_type": "display_data"
    }
   ],
   "source": [
    "ts.interpolate(method='time').plot()"
   ]
  },
  {
   "cell_type": "code",
   "execution_count": 23,
   "id": "south-velvet",
   "metadata": {},
   "outputs": [
    {
     "data": {
      "text/plain": [
       "2000-01-31   -0.948994\n",
       "2000-02-29   -0.894311\n",
       "2000-03-31   -0.839629\n",
       "2000-04-28   -0.784946\n",
       "2000-05-31   -0.730264\n",
       "Freq: BM, dtype: float64"
      ]
     },
     "execution_count": 23,
     "metadata": {},
     "output_type": "execute_result"
    }
   ],
   "source": [
    "ts.interpolate().head()"
   ]
  },
  {
   "cell_type": "code",
   "execution_count": 25,
   "id": "cutting-metropolitan",
   "metadata": {},
   "outputs": [
    {
     "data": {
      "text/plain": [
       "2000-01-31   -0.948994\n",
       "2000-02-29   -0.444694\n",
       "2000-03-31    0.046841\n",
       "2000-04-28    0.448581\n",
       "2000-05-31    0.870604\n",
       "Freq: BM, dtype: float64"
      ]
     },
     "execution_count": 25,
     "metadata": {},
     "output_type": "execute_result"
    }
   ],
   "source": [
    "ts.interpolate(method='quadratic').head()"
   ]
  },
  {
   "cell_type": "code",
   "execution_count": 29,
   "id": "desirable-armstrong",
   "metadata": {},
   "outputs": [
    {
     "data": {
      "text/plain": [
       "0    0.0\n",
       "1    3.0\n",
       "2    4.0\n",
       "3    1.0\n",
       "4    2.0\n",
       "dtype: float64"
      ]
     },
     "execution_count": 29,
     "metadata": {},
     "output_type": "execute_result"
    }
   ],
   "source": [
    "ser = pd.Series([4.0, 1.0, 0.0, 3.0, 2.0])\n",
    "ser.replace(0,5)\n",
    "ser.replace([0, 1, 2, 3, 4], [4, 3, 2, 1, 0])"
   ]
  },
  {
   "cell_type": "code",
   "execution_count": 34,
   "id": "lasting-neutral",
   "metadata": {},
   "outputs": [
    {
     "data": {
      "text/html": [
       "<div>\n",
       "<style scoped>\n",
       "    .dataframe tbody tr th:only-of-type {\n",
       "        vertical-align: middle;\n",
       "    }\n",
       "\n",
       "    .dataframe tbody tr th {\n",
       "        vertical-align: top;\n",
       "    }\n",
       "\n",
       "    .dataframe thead th {\n",
       "        text-align: right;\n",
       "    }\n",
       "</style>\n",
       "<table border=\"1\" class=\"dataframe\">\n",
       "  <thead>\n",
       "    <tr style=\"text-align: right;\">\n",
       "      <th></th>\n",
       "      <th>a</th>\n",
       "      <th>b</th>\n",
       "      <th>c</th>\n",
       "    </tr>\n",
       "  </thead>\n",
       "  <tbody>\n",
       "    <tr>\n",
       "      <th>0</th>\n",
       "      <td>0</td>\n",
       "      <td>a</td>\n",
       "      <td>a</td>\n",
       "    </tr>\n",
       "    <tr>\n",
       "      <th>1</th>\n",
       "      <td>1</td>\n",
       "      <td>b</td>\n",
       "      <td>b</td>\n",
       "    </tr>\n",
       "    <tr>\n",
       "      <th>2</th>\n",
       "      <td>2</td>\n",
       "      <td>NaN</td>\n",
       "      <td>NaN</td>\n",
       "    </tr>\n",
       "    <tr>\n",
       "      <th>3</th>\n",
       "      <td>3</td>\n",
       "      <td>NaN</td>\n",
       "      <td>d</td>\n",
       "    </tr>\n",
       "  </tbody>\n",
       "</table>\n",
       "</div>"
      ],
      "text/plain": [
       "   a    b    c\n",
       "0  0    a    a\n",
       "1  1    b    b\n",
       "2  2  NaN  NaN\n",
       "3  3  NaN    d"
      ]
     },
     "execution_count": 34,
     "metadata": {},
     "output_type": "execute_result"
    }
   ],
   "source": [
    "d = {\"a\": list(range(4)), \"b\": list(\"ab..\"), \"c\": [\"a\", \"b\", np.nan, \"d\"]}\n",
    "df = pd.DataFrame(d)\n",
    "df.replace('.', np.nan)\n",
    "df.replace(r\"\\s*\\.\\s*\", np.nan, regex=True)"
   ]
  },
  {
   "cell_type": "code",
   "execution_count": 54,
   "id": "blind-clinton",
   "metadata": {},
   "outputs": [
    {
     "data": {
      "text/html": [
       "<div>\n",
       "<style scoped>\n",
       "    .dataframe tbody tr th:only-of-type {\n",
       "        vertical-align: middle;\n",
       "    }\n",
       "\n",
       "    .dataframe tbody tr th {\n",
       "        vertical-align: top;\n",
       "    }\n",
       "\n",
       "    .dataframe thead th {\n",
       "        text-align: right;\n",
       "    }\n",
       "</style>\n",
       "<table border=\"1\" class=\"dataframe\">\n",
       "  <thead>\n",
       "    <tr style=\"text-align: right;\">\n",
       "      <th></th>\n",
       "      <th>0</th>\n",
       "    </tr>\n",
       "  </thead>\n",
       "  <tbody>\n",
       "    <tr>\n",
       "      <th>0</th>\n",
       "      <td>600</td>\n",
       "    </tr>\n",
       "    <tr>\n",
       "      <th>1</th>\n",
       "      <td>1400</td>\n",
       "    </tr>\n",
       "    <tr>\n",
       "      <th>2</th>\n",
       "      <td>100000</td>\n",
       "    </tr>\n",
       "  </tbody>\n",
       "</table>\n",
       "</div>"
      ],
      "text/plain": [
       "        0\n",
       "0     600\n",
       "1    1400\n",
       "2  100000"
      ]
     },
     "execution_count": 54,
     "metadata": {},
     "output_type": "execute_result"
    }
   ],
   "source": [
    "l = [\"VISTA AES TIETE E UNT N2 600\",\n",
    "\"VISTA IT AUUNIBANCO PN N1 1.400\",\n",
    "\"OPCAO DE VENDA 04/21 COGNP450ON 4,50COGNE 100.000\"]\n",
    "df=DataFrame({\n",
    "    'col':l\n",
    "})\n",
    "df.col.str.extract(r'(\\d*\\.*\\d*)?$').astype(str).replace(regex={'\\.':''})"
   ]
  },
  {
   "cell_type": "code",
   "execution_count": 65,
   "id": "valid-percentage",
   "metadata": {},
   "outputs": [
    {
     "data": {
      "text/html": [
       "<div>\n",
       "<style scoped>\n",
       "    .dataframe tbody tr th:only-of-type {\n",
       "        vertical-align: middle;\n",
       "    }\n",
       "\n",
       "    .dataframe tbody tr th {\n",
       "        vertical-align: top;\n",
       "    }\n",
       "\n",
       "    .dataframe thead th {\n",
       "        text-align: right;\n",
       "    }\n",
       "</style>\n",
       "<table border=\"1\" class=\"dataframe\">\n",
       "  <thead>\n",
       "    <tr style=\"text-align: right;\">\n",
       "      <th></th>\n",
       "      <th>0</th>\n",
       "      <th>1</th>\n",
       "    </tr>\n",
       "  </thead>\n",
       "  <tbody>\n",
       "    <tr>\n",
       "      <th>0</th>\n",
       "      <td>0.516100</td>\n",
       "      <td>-1.273825</td>\n",
       "    </tr>\n",
       "    <tr>\n",
       "      <th>1</th>\n",
       "      <td>0.140443</td>\n",
       "      <td>-1.097246</td>\n",
       "    </tr>\n",
       "    <tr>\n",
       "      <th>2</th>\n",
       "      <td>-1.200129</td>\n",
       "      <td>-1.257968</td>\n",
       "    </tr>\n",
       "    <tr>\n",
       "      <th>3</th>\n",
       "      <td>-0.190381</td>\n",
       "      <td>0.470499</td>\n",
       "    </tr>\n",
       "    <tr>\n",
       "      <th>4</th>\n",
       "      <td>-0.339512</td>\n",
       "      <td>1.475863</td>\n",
       "    </tr>\n",
       "    <tr>\n",
       "      <th>5</th>\n",
       "      <td>-2.014989</td>\n",
       "      <td>-0.101649</td>\n",
       "    </tr>\n",
       "    <tr>\n",
       "      <th>6</th>\n",
       "      <td>-0.663196</td>\n",
       "      <td>-1.206852</td>\n",
       "    </tr>\n",
       "    <tr>\n",
       "      <th>7</th>\n",
       "      <td>-0.996107</td>\n",
       "      <td>-1.073538</td>\n",
       "    </tr>\n",
       "    <tr>\n",
       "      <th>8</th>\n",
       "      <td>-0.055751</td>\n",
       "      <td>-0.565110</td>\n",
       "    </tr>\n",
       "    <tr>\n",
       "      <th>9</th>\n",
       "      <td>0.200097</td>\n",
       "      <td>1.220069</td>\n",
       "    </tr>\n",
       "  </tbody>\n",
       "</table>\n",
       "</div>"
      ],
      "text/plain": [
       "          0         1\n",
       "0  0.516100 -1.273825\n",
       "1  0.140443 -1.097246\n",
       "2 -1.200129 -1.257968\n",
       "3 -0.190381  0.470499\n",
       "4 -0.339512  1.475863\n",
       "5 -2.014989 -0.101649\n",
       "6 -0.663196 -1.206852\n",
       "7 -0.996107 -1.073538\n",
       "8 -0.055751 -0.565110\n",
       "9  0.200097  1.220069"
      ]
     },
     "execution_count": 65,
     "metadata": {},
     "output_type": "execute_result"
    }
   ],
   "source": [
    "df = pd.DataFrame(np.random.randn(10, 2))\n",
    "df\n"
   ]
  },
  {
   "cell_type": "code",
   "execution_count": 66,
   "id": "developing-chase",
   "metadata": {},
   "outputs": [
    {
     "data": {
      "text/html": [
       "<div>\n",
       "<style scoped>\n",
       "    .dataframe tbody tr th:only-of-type {\n",
       "        vertical-align: middle;\n",
       "    }\n",
       "\n",
       "    .dataframe tbody tr th {\n",
       "        vertical-align: top;\n",
       "    }\n",
       "\n",
       "    .dataframe thead th {\n",
       "        text-align: right;\n",
       "    }\n",
       "</style>\n",
       "<table border=\"1\" class=\"dataframe\">\n",
       "  <thead>\n",
       "    <tr style=\"text-align: right;\">\n",
       "      <th></th>\n",
       "      <th>0</th>\n",
       "      <th>1</th>\n",
       "    </tr>\n",
       "  </thead>\n",
       "  <tbody>\n",
       "    <tr>\n",
       "      <th>0</th>\n",
       "      <td>0.516100</td>\n",
       "      <td>-1.273825</td>\n",
       "    </tr>\n",
       "    <tr>\n",
       "      <th>1</th>\n",
       "      <td>0.140443</td>\n",
       "      <td>-1.097246</td>\n",
       "    </tr>\n",
       "    <tr>\n",
       "      <th>2</th>\n",
       "      <td>-1.200129</td>\n",
       "      <td>-1.257968</td>\n",
       "    </tr>\n",
       "    <tr>\n",
       "      <th>3</th>\n",
       "      <td>-0.190381</td>\n",
       "      <td>0.470499</td>\n",
       "    </tr>\n",
       "    <tr>\n",
       "      <th>4</th>\n",
       "      <td>-0.339512</td>\n",
       "      <td>1.475863</td>\n",
       "    </tr>\n",
       "    <tr>\n",
       "      <th>5</th>\n",
       "      <td>-2.014989</td>\n",
       "      <td>-0.101649</td>\n",
       "    </tr>\n",
       "    <tr>\n",
       "      <th>6</th>\n",
       "      <td>1.500000</td>\n",
       "      <td>1.500000</td>\n",
       "    </tr>\n",
       "    <tr>\n",
       "      <th>7</th>\n",
       "      <td>-0.996107</td>\n",
       "      <td>-1.073538</td>\n",
       "    </tr>\n",
       "    <tr>\n",
       "      <th>8</th>\n",
       "      <td>-0.055751</td>\n",
       "      <td>-0.565110</td>\n",
       "    </tr>\n",
       "    <tr>\n",
       "      <th>9</th>\n",
       "      <td>0.200097</td>\n",
       "      <td>1.220069</td>\n",
       "    </tr>\n",
       "  </tbody>\n",
       "</table>\n",
       "</div>"
      ],
      "text/plain": [
       "          0         1\n",
       "0  0.516100 -1.273825\n",
       "1  0.140443 -1.097246\n",
       "2 -1.200129 -1.257968\n",
       "3 -0.190381  0.470499\n",
       "4 -0.339512  1.475863\n",
       "5 -2.014989 -0.101649\n",
       "6  1.500000  1.500000\n",
       "7 -0.996107 -1.073538\n",
       "8 -0.055751 -0.565110\n",
       "9  0.200097  1.220069"
      ]
     },
     "execution_count": 66,
     "metadata": {},
     "output_type": "execute_result"
    }
   ],
   "source": [
    "df[np.random.rand(df.shape[0]) > 0.5] = 1.5\n",
    "df"
   ]
  },
  {
   "cell_type": "code",
   "execution_count": 71,
   "id": "placed-associate",
   "metadata": {},
   "outputs": [
    {
     "data": {
      "text/plain": [
       "0    0.783059\n",
       "1    0.000000\n",
       "2    1.021866\n",
       "3    0.000000\n",
       "4    0.036881\n",
       "5    0.000000\n",
       "7    0.300151\n",
       "dtype: float64"
      ]
     },
     "execution_count": 71,
     "metadata": {},
     "output_type": "execute_result"
    }
   ],
   "source": [
    "s = pd.Series(np.random.randn(5), index=[0, 2, 4, 6, 7])\n",
    "reindexed = s.reindex(list(range(8))).fillna(0)\n",
    "crit = (s > 0).reindex(list(range(8)))\n",
    "reindexed[crit.fillna(True)]"
   ]
  },
  {
   "cell_type": "code",
   "execution_count": 7,
   "id": "fifteen-movie",
   "metadata": {},
   "outputs": [
    {
     "data": {
      "text/plain": [
       "<NA>"
      ]
     },
     "execution_count": 7,
     "metadata": {},
     "output_type": "execute_result"
    }
   ],
   "source": [
    "np.nan + 1 # nan\n",
    "pd.NA + 1 # <NA>\n",
    "\"a\" * pd.NA # <NA>"
   ]
  },
  {
   "cell_type": "code",
   "execution_count": 11,
   "id": "under-thermal",
   "metadata": {},
   "outputs": [
    {
     "data": {
      "text/plain": [
       "player    string\n",
       "year       Int64\n",
       "stint      Int64\n",
       "team      string\n",
       "lg        string\n",
       "g          Int64\n",
       "ab         Int64\n",
       "r          Int64\n",
       "h          Int64\n",
       "X2b        Int64\n",
       "dtype: object"
      ]
     },
     "execution_count": 11,
     "metadata": {},
     "output_type": "execute_result"
    }
   ],
   "source": [
    "bb = pd.read_csv(\"data/baseball.csv\", index_col=\"id\")\n",
    "bb[bb.columns[:10]].dtypes\n",
    "bbn = bb.convert_dtypes()\n",
    "bbn[bbn.columns[:10]].dtypes"
   ]
  },
  {
   "cell_type": "code",
   "execution_count": 24,
   "id": "alive-jason",
   "metadata": {},
   "outputs": [
    {
     "name": "stdout",
     "output_type": "stream",
     "text": [
      "a    object\n",
      "b    object\n",
      "dtype: object\n",
      "a    string\n",
      "b    string\n",
      "dtype: object\n"
     ]
    },
    {
     "data": {
      "text/plain": [
       "0    [abc10]\n",
       "1    [10def]\n",
       "Name: b, dtype: object"
      ]
     },
     "execution_count": 24,
     "metadata": {},
     "output_type": "execute_result"
    }
   ],
   "source": [
    "df = DataFrame({\n",
    "    'a':['abc', 'def'],\n",
    "    'b':['abc10', '10def']\n",
    "})\n",
    "df1 = df.convert_dtypes()\n",
    "print(df.dtypes)\n",
    "print(df1.dtypes)\n",
    "\n",
    "df.b.str.split()\n",
    "df1.b.str.split()"
   ]
  },
  {
   "cell_type": "markdown",
   "id": "editorial-growth",
   "metadata": {},
   "source": [
    "# 2.11 Duplicate Labels"
   ]
  },
  {
   "cell_type": "code",
   "execution_count": 30,
   "id": "charged-trouble",
   "metadata": {},
   "outputs": [
    {
     "data": {
      "text/html": [
       "<div>\n",
       "<style scoped>\n",
       "    .dataframe tbody tr th:only-of-type {\n",
       "        vertical-align: middle;\n",
       "    }\n",
       "\n",
       "    .dataframe tbody tr th {\n",
       "        vertical-align: top;\n",
       "    }\n",
       "\n",
       "    .dataframe thead th {\n",
       "        text-align: right;\n",
       "    }\n",
       "</style>\n",
       "<table border=\"1\" class=\"dataframe\">\n",
       "  <thead>\n",
       "    <tr style=\"text-align: right;\">\n",
       "      <th></th>\n",
       "      <th>index</th>\n",
       "      <th>0</th>\n",
       "    </tr>\n",
       "  </thead>\n",
       "  <tbody>\n",
       "    <tr>\n",
       "      <th>0</th>\n",
       "      <td>a</td>\n",
       "      <td>0</td>\n",
       "    </tr>\n",
       "    <tr>\n",
       "      <th>1</th>\n",
       "      <td>b</td>\n",
       "      <td>1</td>\n",
       "    </tr>\n",
       "    <tr>\n",
       "      <th>2</th>\n",
       "      <td>b</td>\n",
       "      <td>2</td>\n",
       "    </tr>\n",
       "  </tbody>\n",
       "</table>\n",
       "</div>"
      ],
      "text/plain": [
       "  index  0\n",
       "0     a  0\n",
       "1     b  1\n",
       "2     b  2"
      ]
     },
     "execution_count": 30,
     "metadata": {},
     "output_type": "execute_result"
    }
   ],
   "source": [
    "s1 = pd.Series([0, 1, 2], index=[\"a\", \"b\", \"b\"])\n",
    "#s1.reindex([\"a\", \"b\", \"c\"]) # ValueError: cannot reindex from a duplicate axis\n"
   ]
  },
  {
   "cell_type": "code",
   "execution_count": 34,
   "id": "exposed-quebec",
   "metadata": {},
   "outputs": [
    {
     "data": {
      "text/html": [
       "<div>\n",
       "<style scoped>\n",
       "    .dataframe tbody tr th:only-of-type {\n",
       "        vertical-align: middle;\n",
       "    }\n",
       "\n",
       "    .dataframe tbody tr th {\n",
       "        vertical-align: top;\n",
       "    }\n",
       "\n",
       "    .dataframe thead th {\n",
       "        text-align: right;\n",
       "    }\n",
       "</style>\n",
       "<table border=\"1\" class=\"dataframe\">\n",
       "  <thead>\n",
       "    <tr style=\"text-align: right;\">\n",
       "      <th></th>\n",
       "      <th>A</th>\n",
       "      <th>A</th>\n",
       "    </tr>\n",
       "  </thead>\n",
       "  <tbody>\n",
       "    <tr>\n",
       "      <th>0</th>\n",
       "      <td>0</td>\n",
       "      <td>1</td>\n",
       "    </tr>\n",
       "    <tr>\n",
       "      <th>1</th>\n",
       "      <td>3</td>\n",
       "      <td>4</td>\n",
       "    </tr>\n",
       "  </tbody>\n",
       "</table>\n",
       "</div>"
      ],
      "text/plain": [
       "   A  A\n",
       "0  0  1\n",
       "1  3  4"
      ]
     },
     "execution_count": 34,
     "metadata": {},
     "output_type": "execute_result"
    }
   ],
   "source": [
    "df1 = pd.DataFrame([[0, 1, 2], [3, 4, 5]], columns=[\"A\", \"A\", \"B\"])\n",
    "df1['A']"
   ]
  },
  {
   "cell_type": "code",
   "execution_count": null,
   "id": "banner-composite",
   "metadata": {},
   "outputs": [],
   "source": []
  }
 ],
 "metadata": {
  "kernelspec": {
   "display_name": "Python (myenv)",
   "language": "python",
   "name": "myenv"
  },
  "language_info": {
   "codemirror_mode": {
    "name": "ipython",
    "version": 3
   },
   "file_extension": ".py",
   "mimetype": "text/x-python",
   "name": "python",
   "nbconvert_exporter": "python",
   "pygments_lexer": "ipython3",
   "version": "3.9.1"
  }
 },
 "nbformat": 4,
 "nbformat_minor": 5
}
