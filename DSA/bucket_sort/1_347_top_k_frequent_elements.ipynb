{
 "cells": [
  {
   "cell_type": "markdown",
   "id": "54944259",
   "metadata": {},
   "source": [
    "#### 347. Top K Frequent Elements\n",
    "\n",
    "* https://leetcode.com/problems/top-k-frequent-elements/description/"
   ]
  },
  {
   "cell_type": "code",
   "execution_count": 30,
   "id": "7e464bc9",
   "metadata": {},
   "outputs": [
    {
     "data": {
      "text/plain": [
       "[1, 2]"
      ]
     },
     "execution_count": 30,
     "metadata": {},
     "output_type": "execute_result"
    }
   ],
   "source": [
    "# Credit - https://www.youtube.com/watch?v=YPTqKIgVk-k\n",
    "# Logic - 1. Count occurence of each element\n",
    "# 2. in the list of list of size nums, at the index i store the list of occured values \n",
    "# eg. if 1, 2 came 4 times in the list then at index 4 store a list of value [1,2]\n",
    "# 3. traverse through the list of list from end to start and append values to res, once len(res) == k, return res\n",
    "\n",
    "from collections import Counter\n",
    "\n",
    "def top_k_frequent(nums, k):\n",
    "    count = Counter(nums)\n",
    "    n = len(nums)\n",
    "    freq_list = [[] for _ in range(n+1)]\n",
    "    res = []\n",
    "\n",
    "    for key, v in count.items():\n",
    "        freq_list[v].append(key)\n",
    "    \n",
    "    for l in range(len(freq_list)-1, 0, -1):\n",
    "        for val in freq_list[l]:\n",
    "            res.append(val)\n",
    "            if len(res) == k:\n",
    "                return res\n",
    "            \n",
    "\n",
    "\n",
    "top_k_frequent(nums = [1,1,1,2,2,3], k = 2) # expected output [1,2] or [2,1]"
   ]
  },
  {
   "cell_type": "code",
   "execution_count": null,
   "id": "6aa7cb71",
   "metadata": {},
   "outputs": [],
   "source": []
  }
 ],
 "metadata": {
  "kernelspec": {
   "display_name": "Python 3",
   "language": "python",
   "name": "python3"
  },
  "language_info": {
   "codemirror_mode": {
    "name": "ipython",
    "version": 3
   },
   "file_extension": ".py",
   "mimetype": "text/x-python",
   "name": "python",
   "nbconvert_exporter": "python",
   "pygments_lexer": "ipython3",
   "version": "3.11.9"
  }
 },
 "nbformat": 4,
 "nbformat_minor": 5
}
