{
 "cells": [
  {
   "cell_type": "markdown",
   "metadata": {},
   "source": [
    "###  22. Generate Parentheses - https://leetcode.com/problems/generate-parentheses/description/\n",
    "\n",
    "* Given n pairs of parentheses, write a function to generate all combinations of well-formed parentheses.\n",
    "\n",
    "- Example 1:\n",
    "- Input: n = 3\n",
    "- Output: [\"((()))\",\"(()())\",\"(())()\",\"()(())\",\"()()()\"]\n",
    "\n",
    "- Example 2:\n",
    "- Input: n = 1\n",
    "- Output: [\"()\"]"
   ]
  },
  {
   "cell_type": "code",
   "execution_count": 32,
   "metadata": {},
   "outputs": [],
   "source": [
    "from typing import List\n",
    "import time\n",
    "def generate_parenthesis(n: int) -> List[str]:\n",
    "    res, sol = [], []\n",
    "\n",
    "    def backtrack(open, close):\n",
    "        if open == close == n:\n",
    "            res.append(''.join(sol))\n",
    "\n",
    "        if open < n:\n",
    "            sol.append('(')\n",
    "            backtrack(open+1, close)\n",
    "            sol.pop()\n",
    "        \n",
    "        if close < open:\n",
    "            sol.append(')')\n",
    "            backtrack(open, close+1)\n",
    "            sol.pop()\n",
    "\n",
    "    backtrack(0, 0)\n",
    "    return res\n",
    "\n"
   ]
  },
  {
   "cell_type": "code",
   "execution_count": 33,
   "metadata": {},
   "outputs": [
    {
     "name": "stdout",
     "output_type": "stream",
     "text": [
      "3.3 μs ± 309 ns per loop (mean ± std. dev. of 7 runs, 100,000 loops each)\n"
     ]
    }
   ],
   "source": [
    "%timeit generate_parenthesis(3)"
   ]
  },
  {
   "cell_type": "code",
   "execution_count": 29,
   "metadata": {},
   "outputs": [],
   "source": [
    "def generate_parenthesis_opti(n: int) -> List[str]:\n",
    "    res = []\n",
    "\n",
    "    def backtrack(s='', open=0, close=0):\n",
    "        if open == close == n:\n",
    "            res.append(s)\n",
    "\n",
    "        if open < n:\n",
    "            backtrack(s+'(', open+1, close)\n",
    "        \n",
    "        if close < open:\n",
    "            backtrack(s+')', open, close+1)\n",
    "\n",
    "    backtrack()\n",
    "    return res"
   ]
  },
  {
   "cell_type": "code",
   "execution_count": 31,
   "metadata": {},
   "outputs": [
    {
     "name": "stdout",
     "output_type": "stream",
     "text": [
      "2.74 μs ± 85.4 ns per loop (mean ± std. dev. of 7 runs, 100,000 loops each)\n"
     ]
    }
   ],
   "source": [
    "%timeit generate_parenthesis_opti(3)"
   ]
  },
  {
   "cell_type": "code",
   "execution_count": null,
   "metadata": {},
   "outputs": [],
   "source": []
  }
 ],
 "metadata": {
  "kernelspec": {
   "display_name": "Python 3",
   "language": "python",
   "name": "python3"
  },
  "language_info": {
   "codemirror_mode": {
    "name": "ipython",
    "version": 3
   },
   "file_extension": ".py",
   "mimetype": "text/x-python",
   "name": "python",
   "nbconvert_exporter": "python",
   "pygments_lexer": "ipython3",
   "version": "3.11.9"
  }
 },
 "nbformat": 4,
 "nbformat_minor": 2
}
