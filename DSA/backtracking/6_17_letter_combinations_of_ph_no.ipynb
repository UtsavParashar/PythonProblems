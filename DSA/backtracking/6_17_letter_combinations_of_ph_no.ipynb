{
 "cells": [
  {
   "cell_type": "markdown",
   "id": "9958c7bc",
   "metadata": {},
   "source": [
    "#### 17. Letter Combinations of a Phone Number\n",
    "\n",
    "* https://leetcode.com/problems/letter-combinations-of-a-phone-number/description/\n"
   ]
  },
  {
   "cell_type": "code",
   "execution_count": null,
   "id": "0cd3b00f",
   "metadata": {},
   "outputs": [],
   "source": [
    "# https://www.youtube.com/watch?v=F7EoBxhPmBk&t=15s\n",
    "\n",
    "# More intuitive\n",
    "\n",
    "def letter_combinations(digits: str) -> list[str]:\n",
    "    if digits == '':\n",
    "        return []\n",
    "    \n",
    "    res, sol = [], []\n",
    "    n = len(digits)\n",
    "    letters_map =  {\n",
    "        '2': 'abc',\n",
    "        '3': 'def',\n",
    "        '4': 'ghi',\n",
    "        '5': 'jkl',\n",
    "        '6': 'mno',\n",
    "        '7': 'pqrs',\n",
    "        '8': 'tuv',\n",
    "        '9': 'wxyz'\n",
    "    }\n",
    "\n",
    "    def backtrack(i):\n",
    "        if i == n:\n",
    "            res.append(''.join(sol))\n",
    "            return\n",
    "        \n",
    "        for letter in letters_map[digits[i]]:\n",
    "            # print(i, letter) # When i is 0 a b c are stacked and then d e f are added to each of them, since backtrackign in dfs so follows this path in the output\n",
    "            sol.append(letter)\n",
    "            backtrack(i+1)\n",
    "            sol.pop()\n",
    "\n",
    "    backtrack(0)\n",
    "    return res"
   ]
  },
  {
   "cell_type": "code",
   "execution_count": 50,
   "id": "1c427163",
   "metadata": {},
   "outputs": [
    {
     "name": "stdout",
     "output_type": "stream",
     "text": [
      "0 a\n",
      "1 d\n",
      "1 e\n",
      "1 f\n",
      "0 b\n",
      "1 d\n",
      "1 e\n",
      "1 f\n",
      "0 c\n",
      "1 d\n",
      "1 e\n",
      "1 f\n"
     ]
    },
    {
     "data": {
      "text/plain": [
       "['ad', 'ae', 'af', 'bd', 'be', 'bf', 'cd', 'ce', 'cf']"
      ]
     },
     "execution_count": 50,
     "metadata": {},
     "output_type": "execute_result"
    }
   ],
   "source": [
    "letter_combinations('23')"
   ]
  },
  {
   "cell_type": "code",
   "execution_count": 46,
   "id": "eeae63ae",
   "metadata": {},
   "outputs": [],
   "source": [
    "# https://www.youtube.com/watch?v=0snEunUacZY\n",
    "\n",
    "\n",
    "\n",
    "def letter_combinations2(digits: str) -> list[str]:\n",
    "    res = []\n",
    "    digits_to_char = {\n",
    "        '2': 'abc',\n",
    "        '3': 'def',\n",
    "        '4': 'ghi',\n",
    "        '5': 'jkl',\n",
    "        '6': 'mno',\n",
    "        '7': 'pqrs',\n",
    "        '8': 'tuv',\n",
    "        '9': 'wxyz'\n",
    "    }\n",
    "\n",
    "\n",
    "    def backtrack(i, curr_str):\n",
    "        if len(curr_str) == len(digits):\n",
    "            res.append(curr_str)\n",
    "            return\n",
    "\n",
    "        for c in digits_to_char[digits[i]]:\n",
    "            print(c, curr_str+c, i, digits_to_char[digits[i]])\n",
    "            backtrack(i+1, curr_str+c)\n",
    "\n",
    "    if digits:\n",
    "        backtrack(0, \"\")\n",
    "    \n",
    "    return res"
   ]
  },
  {
   "cell_type": "code",
   "execution_count": 47,
   "id": "56c1a0dc",
   "metadata": {},
   "outputs": [
    {
     "name": "stdout",
     "output_type": "stream",
     "text": [
      "a a 0 abc\n",
      "d ad 1 def\n",
      "e ae 1 def\n",
      "f af 1 def\n",
      "b b 0 abc\n",
      "d bd 1 def\n",
      "e be 1 def\n",
      "f bf 1 def\n",
      "c c 0 abc\n",
      "d cd 1 def\n",
      "e ce 1 def\n",
      "f cf 1 def\n"
     ]
    },
    {
     "data": {
      "text/plain": [
       "['ad', 'ae', 'af', 'bd', 'be', 'bf', 'cd', 'ce', 'cf']"
      ]
     },
     "execution_count": 47,
     "metadata": {},
     "output_type": "execute_result"
    }
   ],
   "source": [
    "letter_combinations2('23')"
   ]
  },
  {
   "cell_type": "code",
   "execution_count": null,
   "id": "1c3705f6",
   "metadata": {},
   "outputs": [],
   "source": []
  }
 ],
 "metadata": {
  "kernelspec": {
   "display_name": "Python 3",
   "language": "python",
   "name": "python3"
  },
  "language_info": {
   "codemirror_mode": {
    "name": "ipython",
    "version": 3
   },
   "file_extension": ".py",
   "mimetype": "text/x-python",
   "name": "python",
   "nbconvert_exporter": "python",
   "pygments_lexer": "ipython3",
   "version": "3.11.9"
  }
 },
 "nbformat": 4,
 "nbformat_minor": 5
}
