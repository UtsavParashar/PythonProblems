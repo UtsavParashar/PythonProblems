{
 "cells": [
  {
   "cell_type": "markdown",
   "id": "b73f8bed",
   "metadata": {},
   "source": [
    "#### 37. Sudoku Solver\n",
    "* https://leetcode.com/problems/sudoku-solver/description/\n",
    "#### ['Bloomberg', 'Intuit', 'Meta', 'Amazon', 'Apple', 'Uber']"
   ]
  },
  {
   "cell_type": "code",
   "execution_count": null,
   "id": "3c573110",
   "metadata": {},
   "outputs": [],
   "source": [
    "class Solution:\n",
    "    def solveSudoku(self, board) -> None:\n",
    "        \"\"\"\n",
    "        Do not return anything, modify board in-place instead.\n",
    "        \"\"\"\n",
    "        rows = [set() for _ in range(9)]\n",
    "        cols = [set() for _ in range(9)]\n",
    "        squares = {(i, j): set() for i in range(3) for j in range(3)}\n",
    "\n",
    "        empty = []\n",
    "        # Fill the list with r,c where values are '.'\n",
    "        for r in range(9):\n",
    "            for c in range(9):\n",
    "                val = board[r][c]\n",
    "                if val == '.':\n",
    "                    empty.append((r, c))\n",
    "                else:\n",
    "                    rows[r].add(val)\n",
    "                    cols[c].add(val)\n",
    "                    squares[(r//3, c//3)].add(val)\n",
    "\n",
    "\n",
    "        def bt(i = 0):\n",
    "            if i == len(empty):\n",
    "                return True\n",
    "\n",
    "            r, c = empty[i]\n",
    "            \n",
    "            for d in map(str, range(1, 10)):\n",
    "                if d not in rows[r] and d not in cols[c] and d not in squares[(r//3, c//3)]:\n",
    "                    board[r][c] = d\n",
    "                    rows[r].add(d)\n",
    "                    cols[c].add(d)\n",
    "                    squares[(r//3, c//3)].add(d)\n",
    "\n",
    "                    if bt(i + 1):\n",
    "                        return True\n",
    "\n",
    "                    rows[r].remove(d)\n",
    "                    cols[c].remove(d)\n",
    "                    squares[(r//3, c//3)].remove(d)\n",
    "\n",
    "            return False\n",
    "\n",
    "        bt(0)"
   ]
  },
  {
   "cell_type": "code",
   "execution_count": null,
   "id": "22120f0d",
   "metadata": {},
   "outputs": [],
   "source": []
  }
 ],
 "metadata": {
  "language_info": {
   "name": "python"
  }
 },
 "nbformat": 4,
 "nbformat_minor": 5
}
