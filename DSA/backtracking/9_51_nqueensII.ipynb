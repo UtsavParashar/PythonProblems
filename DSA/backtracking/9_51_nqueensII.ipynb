{
 "cells": [
  {
   "cell_type": "markdown",
   "id": "8a4aaed0",
   "metadata": {},
   "source": [
    "### 52. N-Queens II\n",
    "\n",
    "* https://leetcode.com/problems/n-queens-ii/description/"
   ]
  },
  {
   "cell_type": "code",
   "execution_count": 5,
   "id": "576a2713",
   "metadata": {},
   "outputs": [],
   "source": [
    "# Credit - https://www.youtube.com/watch?v=nalYyLZgvCY\n",
    "def total_n_queens(n: int) -> int:\n",
    "    cols, pos_di, neg_di = set(), set(), set()\n",
    "    res = 0\n",
    "\n",
    "    def backtrack(r):\n",
    "        if r == n:\n",
    "            nonlocal res\n",
    "            res += 1\n",
    "            return\n",
    "        \n",
    "        for c in range(n):\n",
    "            if c in cols or r+c in pos_di or r-c in neg_di:\n",
    "                continue \n",
    "\n",
    "            cols.add(c)\n",
    "            pos_di.add(r+c)\n",
    "            neg_di.add(r-c)\n",
    "\n",
    "            backtrack(r+1)\n",
    "\n",
    "            cols.remove(c)\n",
    "            pos_di.remove(r+c)\n",
    "            neg_di.remove(r-c)\n",
    "    \n",
    "    backtrack(0)\n",
    "    return res"
   ]
  },
  {
   "cell_type": "code",
   "execution_count": 10,
   "id": "bd7e79a6",
   "metadata": {},
   "outputs": [
    {
     "data": {
      "text/plain": [
       "2"
      ]
     },
     "execution_count": 10,
     "metadata": {},
     "output_type": "execute_result"
    }
   ],
   "source": [
    "total_n_queens(n = 4)"
   ]
  },
  {
   "cell_type": "markdown",
   "id": "5ca808b9",
   "metadata": {},
   "source": [
    "### Space Optimized Solution"
   ]
  },
  {
   "cell_type": "code",
   "execution_count": 9,
   "id": "44a32b57",
   "metadata": {},
   "outputs": [],
   "source": [
    "def total_n_queens(n: int) -> int:\n",
    "    res = 0\n",
    "\n",
    "    def backtrack(r, cols=set(), pos_di=set(), neg_di=set()):\n",
    "        nonlocal res\n",
    "        if r == n:\n",
    "            res += 1\n",
    "            return\n",
    "        \n",
    "        for c in range(n):\n",
    "            if c in cols or r + c in pos_di or r - c in neg_di:\n",
    "                continue \n",
    "            \n",
    "            # If placing a queen is safe, we \"place\" it and call backtrack for the next row. \n",
    "            # The sets are updated using set union (|) to include the current column and diagonals.\n",
    "            backtrack(r + 1, cols | {c}, pos_di | {r + c}, neg_di | {r - c}) # curly braces are used to make it a set \n",
    "    \n",
    "    backtrack(0)\n",
    "    return res\n"
   ]
  },
  {
   "cell_type": "code",
   "execution_count": null,
   "id": "ba5ac228",
   "metadata": {},
   "outputs": [],
   "source": []
  }
 ],
 "metadata": {
  "kernelspec": {
   "display_name": "Python 3",
   "language": "python",
   "name": "python3"
  },
  "language_info": {
   "codemirror_mode": {
    "name": "ipython",
    "version": 3
   },
   "file_extension": ".py",
   "mimetype": "text/x-python",
   "name": "python",
   "nbconvert_exporter": "python",
   "pygments_lexer": "ipython3",
   "version": "3.11.9"
  }
 },
 "nbformat": 4,
 "nbformat_minor": 5
}
