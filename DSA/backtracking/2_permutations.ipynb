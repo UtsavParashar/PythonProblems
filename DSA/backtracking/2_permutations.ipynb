{
 "cells": [
  {
   "cell_type": "markdown",
   "metadata": {},
   "source": [
    "### 46. Permutations - https://leetcode.com/problems/permutations/description/\n",
    "\n",
    "* Given an array nums of distinct integers, return all the possible permutations. You can return the answer in any order.\n",
    "\n",
    "- Example 1:\n",
    "- Input: nums = [1,2,3]\n",
    "- Output: [[1,2,3],[1,3,2],[2,1,3],[2,3,1],[3,1,2],[3,2,1]]\n",
    "\n",
    "- Example 2:\n",
    "- Input: nums = [0,1]\n",
    "- Output: [[0,1],[1,0]]\n",
    "\n",
    "- Example 3:\n",
    "- Input: nums = [1]\n",
    "- Output: [[1]]"
   ]
  },
  {
   "cell_type": "code",
   "execution_count": 12,
   "metadata": {},
   "outputs": [],
   "source": [
    "from typing import List\n",
    "def permute(nums: List[int]) -> List[List[int]]:\n",
    "    res, sol = [] , []\n",
    "\n",
    "    def backtrack():\n",
    "        if len(sol) == len(nums):\n",
    "            res.append(sol[:])\n",
    "\n",
    "        for x in nums:\n",
    "            if x not in sol:\n",
    "                sol.append(x)\n",
    "                backtrack()\n",
    "                sol.pop()\n",
    "    \n",
    "    backtrack()\n",
    "    return res"
   ]
  },
  {
   "cell_type": "code",
   "execution_count": 13,
   "metadata": {},
   "outputs": [
    {
     "name": "stdout",
     "output_type": "stream",
     "text": [
      "113 μs ± 7.51 μs per loop (mean ± std. dev. of 7 runs, 10,000 loops each)\n"
     ]
    }
   ],
   "source": [
    "%timeit permute([1,2,3,4,5])"
   ]
  },
  {
   "cell_type": "code",
   "execution_count": 5,
   "metadata": {},
   "outputs": [],
   "source": [
    "def new_permute(nums):\n",
    "    result = []\n",
    "    \n",
    "    # Helper function for backtracking\n",
    "    def backtrack(path, options):\n",
    "        # If the path includes all numbers, add the current permutation to the result\n",
    "        if not options:\n",
    "            result.append(path)\n",
    "            return\n",
    "        \n",
    "        # Iterate through the available options\n",
    "        for i in range(len(options)):\n",
    "            # Take the current number and exclude it from the remaining options\n",
    "            backtrack(path + [options[i]], options[:i] + options[i+1:])\n",
    "    \n",
    "    backtrack([], nums)\n",
    "    return result"
   ]
  },
  {
   "cell_type": "code",
   "execution_count": 6,
   "metadata": {},
   "outputs": [
    {
     "name": "stdout",
     "output_type": "stream",
     "text": [
      "83.5 μs ± 433 ns per loop (mean ± std. dev. of 7 runs, 10,000 loops each)\n"
     ]
    }
   ],
   "source": [
    "%timeit new_permute([1,2,3,4,5])"
   ]
  },
  {
   "cell_type": "code",
   "execution_count": null,
   "metadata": {},
   "outputs": [],
   "source": []
  }
 ],
 "metadata": {
  "kernelspec": {
   "display_name": "Python 3",
   "language": "python",
   "name": "python3"
  },
  "language_info": {
   "codemirror_mode": {
    "name": "ipython",
    "version": 3
   },
   "file_extension": ".py",
   "mimetype": "text/x-python",
   "name": "python",
   "nbconvert_exporter": "python",
   "pygments_lexer": "ipython3",
   "version": "3.11.9"
  }
 },
 "nbformat": 4,
 "nbformat_minor": 2
}
