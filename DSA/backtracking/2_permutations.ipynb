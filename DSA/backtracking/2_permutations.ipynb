{
 "cells": [
  {
   "cell_type": "markdown",
   "metadata": {},
   "source": [
    "### 46. Permutations - https://leetcode.com/problems/permutations/description/\n",
    "\n",
    "* Given an array nums of distinct integers, return all the possible permutations. You can return the answer in any order.\n",
    "\n",
    "- Example 1:\n",
    "- Input: nums = [1,2,3]\n",
    "- Output: [[1,2,3],[1,3,2],[2,1,3],[2,3,1],[3,1,2],[3,2,1]]\n",
    "\n",
    "- Example 2:\n",
    "- Input: nums = [0,1]\n",
    "- Output: [[0,1],[1,0]]\n",
    "\n",
    "- Example 3:\n",
    "- Input: nums = [1]\n",
    "- Output: [[1]]"
   ]
  },
  {
   "cell_type": "code",
   "execution_count": null,
   "metadata": {},
   "outputs": [
    {
     "name": "stdout",
     "output_type": "stream",
     "text": [
      "3.63 μs ± 156 ns per loop (mean ± std. dev. of 7 runs, 100,000 loops each)\n"
     ]
    }
   ],
   "source": [
    "# Base Solution - Practically for optimized\n",
    "# TC - O(n!) # real TC - O(n^2 * n!)\n",
    "# SC - O(n) # real SC with sol space - O(n* n!)\n",
    "\n",
    "class Solution:\n",
    "    def permute(self, nums: list[int]) -> list[list[int]]:\n",
    "        n = len(nums)\n",
    "        sol, res = [], []\n",
    "\n",
    "        def dfs():\n",
    "            if len(sol) == n:\n",
    "                res.append(sol[:])\n",
    "                return\n",
    "\n",
    "            for val in nums:\n",
    "                if val not in sol: # This is a O(n) expression, hence TC - O(n^2 * n!)\n",
    "                    sol.append(val)\n",
    "                    dfs()\n",
    "                    sol.pop()\n",
    "\n",
    "        dfs()\n",
    "        return res\n",
    "\n",
    "%timeit Solution().permute([1,2,3])"
   ]
  },
  {
   "cell_type": "code",
   "execution_count": 6,
   "metadata": {},
   "outputs": [
    {
     "name": "stdout",
     "output_type": "stream",
     "text": [
      "4.83 μs ± 255 ns per loop (mean ± std. dev. of 7 runs, 100,000 loops each)\n"
     ]
    }
   ],
   "source": [
    "# Slightly time optimized sol\n",
    "# TC - O(n!) # real TC - O(n * n!)\n",
    "# SC - O(n) # real SC with sol space - O(n* n!)\n",
    "\n",
    "class Solution:\n",
    "    def permute(self, nums: list[int]) -> list[list[int]]:\n",
    "        n = len(nums)\n",
    "        sol, res = [], []\n",
    "        visited = [False]*n\n",
    "\n",
    "        def dfs():\n",
    "            if len(sol) == n:\n",
    "                res.append(sol[:])\n",
    "                return\n",
    "\n",
    "            for i in range(n):\n",
    "                if not visited[i]:\n",
    "                    visited[i] = True\n",
    "                    sol.append(nums[i])\n",
    "                    dfs()\n",
    "                    sol.pop()\n",
    "                    visited[i] = False\n",
    "\n",
    "        dfs()\n",
    "        return res\n",
    "\n",
    "%timeit Solution().permute([1,2,3])"
   ]
  },
  {
   "cell_type": "code",
   "execution_count": 8,
   "metadata": {},
   "outputs": [
    {
     "name": "stdout",
     "output_type": "stream",
     "text": [
      "4.85 μs ± 467 ns per loop (mean ± std. dev. of 7 runs, 100,000 loops each)\n"
     ]
    }
   ],
   "source": [
    "class Solution:\n",
    "    def permute(self, nums):\n",
    "        result = []\n",
    "        \n",
    "        # Helper function for backtracking\n",
    "        def backtrack(path, options):\n",
    "            # If the path includes all numbers, add the current permutation to the result\n",
    "            if not options:\n",
    "                result.append(path)\n",
    "                return\n",
    "            \n",
    "            # Iterate through the available options\n",
    "            for i in range(len(options)):\n",
    "                # Take the current number and exclude it from the remaining options\n",
    "                backtrack(path + [options[i]], options[:i] + options[i+1:])\n",
    "        \n",
    "        backtrack([], nums)\n",
    "        return result\n",
    "\n",
    "%timeit Solution().permute([1,2,3])"
   ]
  }
 ],
 "metadata": {
  "kernelspec": {
   "display_name": "Python 3",
   "language": "python",
   "name": "python3"
  },
  "language_info": {
   "codemirror_mode": {
    "name": "ipython",
    "version": 3
   },
   "file_extension": ".py",
   "mimetype": "text/x-python",
   "name": "python",
   "nbconvert_exporter": "python",
   "pygments_lexer": "ipython3",
   "version": "3.11.9"
  }
 },
 "nbformat": 4,
 "nbformat_minor": 2
}
