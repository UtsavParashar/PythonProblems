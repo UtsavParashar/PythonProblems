{
 "cells": [
  {
   "cell_type": "markdown",
   "id": "d09ad255",
   "metadata": {},
   "source": [
    "## 79. Word Search\n",
    "* https://leetcode.com/problems/word-search/description/\n",
    "\n",
    "#### ['Goldman Sachs', 'Morgan Stanley', 'Bloomberg', 'Meta', 'Amazon', 'Apple', 'Netflix', 'Uber']"
   ]
  },
  {
   "cell_type": "code",
   "execution_count": 1,
   "id": "e9928fec",
   "metadata": {},
   "outputs": [
    {
     "data": {
      "text/plain": [
       "True"
      ]
     },
     "execution_count": 1,
     "metadata": {},
     "output_type": "execute_result"
    }
   ],
   "source": [
    "# TC - O(n*m*4^L) # L -> length of word\n",
    "# SC - O(L)\n",
    "\n",
    "\n",
    "class Solution:\n",
    "    def exist(self, board: list[list[str]], word: str) -> bool:\n",
    "        rows, cols = len(board), len(board[0])\n",
    "\n",
    "        def dfs(r, c, idx): # idx is index of the word\n",
    "            if len(word) == idx:\n",
    "                return True\n",
    "\n",
    "            if (r < 0 or r >= rows or c < 0 or c >= cols or board[r][c] != word[idx]):\n",
    "                return False\n",
    "\n",
    "            temp_char = board[r][c]\n",
    "            board[r][c] = '#'\n",
    "\n",
    "            found = (dfs(r-1, c, idx+1) or \n",
    "                     dfs(r+1, c, idx+1) or \n",
    "                     dfs(r, c-1, idx+1) or\n",
    "                     dfs(r, c+1, idx+1))\n",
    "            \n",
    "            board[r][c] = temp_char\n",
    "            return found\n",
    "\n",
    "        for i in range(rows):\n",
    "            for j in range(cols):\n",
    "                if dfs(i, j, 0):\n",
    "                    return True\n",
    "\n",
    "        return False\n",
    "\n",
    "Solution().exist(board = [[\"A\",\"B\",\"C\",\"E\"],[\"S\",\"F\",\"C\",\"S\"],[\"A\",\"D\",\"E\",\"E\"]], word = \"ABCCED\")"
   ]
  },
  {
   "cell_type": "code",
   "execution_count": 9,
   "id": "6178c3b8",
   "metadata": {},
   "outputs": [
    {
     "data": {
      "text/plain": [
       "False"
      ]
     },
     "execution_count": 9,
     "metadata": {},
     "output_type": "execute_result"
    }
   ],
   "source": [
    "class Solution:\n",
    "    def isValid(self, s: str) -> bool:\n",
    "        pairs = {')': '(', ']': '[', '}': '{'}\n",
    "        stack = []\n",
    "\n",
    "        for c in s:\n",
    "            if c in pairs:\n",
    "                if not stack or stack.pop() != pairs[c]:\n",
    "                    return False\n",
    "            else:\n",
    "                stack.append(c)\n",
    "        \n",
    "        return not stack\n",
    "    \n",
    "Solution().isValid(')')"
   ]
  },
  {
   "cell_type": "code",
   "execution_count": null,
   "id": "3fc785d5",
   "metadata": {},
   "outputs": [],
   "source": []
  }
 ],
 "metadata": {
  "kernelspec": {
   "display_name": "Python 3",
   "language": "python",
   "name": "python3"
  },
  "language_info": {
   "codemirror_mode": {
    "name": "ipython",
    "version": 3
   },
   "file_extension": ".py",
   "mimetype": "text/x-python",
   "name": "python",
   "nbconvert_exporter": "python",
   "pygments_lexer": "ipython3",
   "version": "3.11.9"
  }
 },
 "nbformat": 4,
 "nbformat_minor": 5
}
