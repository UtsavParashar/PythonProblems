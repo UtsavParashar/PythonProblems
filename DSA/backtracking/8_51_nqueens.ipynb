{
 "cells": [
  {
   "cell_type": "markdown",
   "id": "701b781d",
   "metadata": {},
   "source": [
    "#### 51. N-Queens\n",
    "* https://leetcode.com/problems/n-queens/description/\n",
    "\n",
    "#### ['Goldman Sachs', 'Bloomberg', 'Meta', 'Amazon', 'Apple', 'Uber']"
   ]
  },
  {
   "cell_type": "code",
   "execution_count": null,
   "id": "51459461",
   "metadata": {},
   "outputs": [],
   "source": [
    "# Credit - https://www.youtube.com/watch?v=Ph95IHmRp5M\n",
    "# Time Complexity: ~O(N!)\n",
    "# Space Complexity: O(N) for recursion + O(N) for sets\n",
    "def solve_nqueens(n):\n",
    "    res = []\n",
    "    sol = [['.']*n for _ in range(n)]\n",
    "\n",
    "    cols = set()\n",
    "    pos_diagonal = set() # r+c\n",
    "    neg_diagonal = set() # r-c\n",
    "    \n",
    "    def backtrack(r):\n",
    "        if r == n:\n",
    "            res.append([''.join(row) for row in sol])\n",
    "            return\n",
    "\n",
    "        for c in range(n):\n",
    "            if c in cols or (r+c) in pos_diagonal or (r-c) in neg_diagonal:\n",
    "                continue\n",
    "\n",
    "            cols.add(c)\n",
    "            pos_diagonal.add(r+c)\n",
    "            neg_diagonal.add(r-c)\n",
    "            sol[r][c] = 'Q'\n",
    "\n",
    "            backtrack(r+1)\n",
    "\n",
    "            cols.remove(c)\n",
    "            pos_diagonal.remove(r+c)\n",
    "            neg_diagonal.remove(r-c)\n",
    "            sol[r][c] = '.'\n",
    "\n",
    "\n",
    "    backtrack(0)\n",
    "    return res\n",
    "\n"
   ]
  },
  {
   "cell_type": "code",
   "execution_count": 7,
   "id": "5ff69fac",
   "metadata": {},
   "outputs": [
    {
     "data": {
      "text/plain": [
       "[['.Q..', '...Q', 'Q...', '..Q.'], ['..Q.', 'Q...', '...Q', '.Q..']]"
      ]
     },
     "execution_count": 7,
     "metadata": {},
     "output_type": "execute_result"
    }
   ],
   "source": [
    "solve_nqueens(4)"
   ]
  },
  {
   "cell_type": "markdown",
   "id": "c4776965",
   "metadata": {},
   "source": [
    "The time and space complexity of the `solve_nqueens` method is as follows:\n",
    "\n",
    "### Time Complexity:\n",
    "The time complexity of solving the N-Queens problem using backtracking is **O(N!)**. Here's why:\n",
    "1. At the first row, there are `N` choices for placing a queen.\n",
    "2. At the second row, there are at most `N-1` choices (since one column is already occupied, and some diagonals may also be blocked).\n",
    "3. At the third row, there are at most `N-2` choices, and so on.\n",
    "4. This results in a branching factor of `N * (N-1) * (N-2) * ... * 1 = N!`.\n",
    "\n",
    "Thus, the time complexity is **O(N!)**.\n",
    "\n",
    "### Space Complexity:\n",
    "The space complexity is **O(N^2)**. Here's why:\n",
    "1. The `sol` variable is a 2D list of size `N x N`, which takes **O(N^2)** space.\n",
    "2. The `cols`, `pos_diagonal`, and `neg_diagonal` sets each take **O(N)** space in the worst case.\n",
    "3. The recursion stack can go as deep as `N` levels, so the stack space is **O(N)**.\n",
    "\n",
    "However, the dominant factor in space usage is the `sol` variable, so the overall space complexity is **O(N^2)**."
   ]
  },
  {
   "cell_type": "markdown",
   "id": "858adcfc",
   "metadata": {},
   "source": [
    "##### Space Optimized Solution\n"
   ]
  },
  {
   "cell_type": "code",
   "execution_count": null,
   "id": "d9138534",
   "metadata": {},
   "outputs": [
    {
     "data": {
      "text/plain": [
       "[['.Q..', '...Q', 'Q...', '..Q.'], ['..Q.', 'Q...', '...Q', '.Q..']]"
      ]
     },
     "execution_count": 4,
     "metadata": {},
     "output_type": "execute_result"
    }
   ],
   "source": [
    "# Space Complexity - O(n)\n",
    "\n",
    "class Solution:\n",
    "    def solveNQueens(self, n: int) -> list[list[str]]:\n",
    "        res = []\n",
    "        queens = []\n",
    "\n",
    "        cols, pos, neg = set(), set(), set()\n",
    "        def bt(r):\n",
    "            if r == n:\n",
    "                board = []\n",
    "                for c in queens:\n",
    "                    row = ['.']*n\n",
    "                    row[c] = 'Q'\n",
    "                    board.append(''.join(row))\n",
    "                res.append(board)\n",
    "                return\n",
    "\n",
    "            for c in range(n):\n",
    "                if c in cols or (r+c) in pos or (r-c) in neg:\n",
    "                    continue\n",
    "\n",
    "                queens.append(c)\n",
    "                cols.add(c)\n",
    "                pos.add(r+c)\n",
    "                neg.add(r-c)\n",
    "\n",
    "                bt(r + 1)\n",
    "\n",
    "                queens.pop()\n",
    "                cols.remove(c)\n",
    "                pos.remove(r+c)\n",
    "                neg.remove(r-c)\n",
    "\n",
    "        bt(0)\n",
    "        return res\n",
    "    \n",
    "Solution().solveNQueens(4)"
   ]
  },
  {
   "cell_type": "code",
   "execution_count": null,
   "id": "cb8f2c55",
   "metadata": {},
   "outputs": [],
   "source": []
  }
 ],
 "metadata": {
  "kernelspec": {
   "display_name": "Python 3",
   "language": "python",
   "name": "python3"
  },
  "language_info": {
   "codemirror_mode": {
    "name": "ipython",
    "version": 3
   },
   "file_extension": ".py",
   "mimetype": "text/x-python",
   "name": "python",
   "nbconvert_exporter": "python",
   "pygments_lexer": "ipython3",
   "version": "3.11.9"
  }
 },
 "nbformat": 4,
 "nbformat_minor": 5
}
