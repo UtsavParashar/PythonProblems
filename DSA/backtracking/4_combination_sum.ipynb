{
 "cells": [
  {
   "cell_type": "markdown",
   "metadata": {},
   "source": [
    "#### 39. Combination Sum - https://leetcode.com/problems/combination-sum/description/\n",
    "\n",
    "* Given an array of distinct integers candidates and a target integer target, return a list of all unique combinations of candidates where the chosen numbers sum to target. You may return the combinations in any order.\n",
    "\n",
    "* The same number may be chosen from candidates an unlimited number of times. Two combinations are unique if the frequency of at least one of the chosen numbers is different.\n",
    "\n",
    "* The test cases are generated such that the number of unique combinations that sum up to target is less than 150 combinations for the given input.\n",
    "\n",
    "- Example 1:\n",
    "- Input: candidates = [2,3,6,7], target = 7\n",
    "- Output: [[2,2,3],[7]]\n",
    "- Explanation:\n",
    "- 2 and 3 are candidates, and 2 + 2 + 3 = 7. Note that 2 can be used multiple times.\n",
    "- 7 is a candidate, and 7 = 7.\n",
    "- These are the only two combinations.\n",
    "\n",
    "- Example 2:\n",
    "- Input: candidates = [2,3,5], target = 8\n",
    "- Output: [[2,2,2,2],[2,3,3],[3,5]]\n",
    "\n",
    "- Example 3:\n",
    "- Input: candidates = [2], target = 1\n",
    "- Output: []"
   ]
  },
  {
   "cell_type": "code",
   "execution_count": null,
   "metadata": {},
   "outputs": [
    {
     "ename": "TypeError",
     "evalue": "Solution.combinationSum() missing 1 required positional argument: 'target'",
     "output_type": "error",
     "traceback": [
      "\u001b[1;31m---------------------------------------------------------------------------\u001b[0m",
      "\u001b[1;31mTypeError\u001b[0m                                 Traceback (most recent call last)",
      "Cell \u001b[1;32mIn[13], line 34\u001b[0m\n\u001b[0;32m     31\u001b[0m         dfs(\u001b[38;5;241m0\u001b[39m, \u001b[38;5;241m0\u001b[39m)\n\u001b[0;32m     32\u001b[0m         \u001b[38;5;28;01mreturn\u001b[39;00m res\n\u001b[1;32m---> 34\u001b[0m \u001b[43mSolution\u001b[49m\u001b[43m(\u001b[49m\u001b[43m)\u001b[49m\u001b[38;5;241;43m.\u001b[39;49m\u001b[43mcombinationSum\u001b[49m\u001b[43m(\u001b[49m\u001b[43m[\u001b[49m\u001b[43m]\u001b[49m\u001b[43m)\u001b[49m\n",
      "\u001b[1;31mTypeError\u001b[0m: Solution.combinationSum() missing 1 required positional argument: 'target'"
     ]
    }
   ],
   "source": [
    "# Preferred Solution\n",
    "\n",
    "## n branches\n",
    "## each num be have two branches, one with itself, one with next number\n",
    "\n",
    "# Time and Space Complexity\n",
    "# Time Complexity:\n",
    "# Exponential in nature — worst case is O(2^T) (where T is the target), because each number can be chosen multiple times. \n",
    "# Sorting + pruning helps practically.\n",
    "\n",
    "# Space Complexity:\n",
    "# O(T) for recursion depth and path storage.\n",
    "\n",
    "class Solution:\n",
    "    def combinationSum(self, nums: list[int], target: int):\n",
    "        nums.sort() # For early pruning\n",
    "        n = len(nums)\n",
    "        sol, res = [], []\n",
    "        def dfs(i, curr_sum):\n",
    "            if curr_sum == target:\n",
    "                res.append(sol[:])\n",
    "                return\n",
    "\n",
    "            for j in range(i, n):\n",
    "                if curr_sum+nums[j] > target: ## For early pruning\n",
    "                    break\n",
    "                sol.append(nums[j])\n",
    "                dfs(j, curr_sum+nums[j])\n",
    "                sol.pop()\n",
    "            \n",
    "        dfs(0, 0)\n",
    "        return res\n",
    "    \n",
    "Solution().combinationSum([2,3,2,6,7], 8)"
   ]
  },
  {
   "cell_type": "code",
   "execution_count": 6,
   "metadata": {},
   "outputs": [],
   "source": [
    "## Credit - https://www.youtube.com/watch?v=utBw5FbYswk\n",
    "\n",
    "from typing import List\n",
    "from array import array\n",
    "\n",
    "def combination_sum(nums: List[int], target: int) -> List[List[int]]:\n",
    "    res, sol = [], []\n",
    "    n = len(nums)\n",
    "\n",
    "    def backtrack(idx, current_sum):\n",
    "        if current_sum == target:\n",
    "            res.append(sol.copy())\n",
    "            return \n",
    "\n",
    "        if current_sum > target or idx >= n:\n",
    "            return\n",
    "\n",
    "        ## Left branch\n",
    "        sol.append(nums[idx])\n",
    "        backtrack(idx, current_sum + nums[idx])\n",
    "        sol.pop()\n",
    "\n",
    "        ## Right branch\n",
    "        backtrack(idx+1, current_sum)\n",
    "\n",
    "    backtrack(0,0)\n",
    "    return res\n",
    "        "
   ]
  },
  {
   "cell_type": "code",
   "execution_count": 10,
   "metadata": {},
   "outputs": [
    {
     "data": {
      "text/plain": [
       "[[2, 2, 2, 2], [2, 3, 3], [2, 6]]"
      ]
     },
     "execution_count": 10,
     "metadata": {},
     "output_type": "execute_result"
    }
   ],
   "source": [
    "combination_sum(nums = [2,3,6,7], target = 8)"
   ]
  },
  {
   "cell_type": "code",
   "execution_count": 3,
   "metadata": {},
   "outputs": [
    {
     "data": {
      "text/plain": [
       "[[2, 2, 2, 2], [2, 3, 3], [3, 5]]"
      ]
     },
     "execution_count": 3,
     "metadata": {},
     "output_type": "execute_result"
    }
   ],
   "source": [
    "combination_sum(nums = [2,3,5], target = 8)"
   ]
  },
  {
   "cell_type": "code",
   "execution_count": 11,
   "metadata": {},
   "outputs": [
    {
     "data": {
      "text/plain": [
       "[]"
      ]
     },
     "execution_count": 11,
     "metadata": {},
     "output_type": "execute_result"
    }
   ],
   "source": [
    "combination_sum([2], target = 1)"
   ]
  },
  {
   "cell_type": "code",
   "execution_count": null,
   "metadata": {},
   "outputs": [],
   "source": []
  }
 ],
 "metadata": {
  "kernelspec": {
   "display_name": "Python 3",
   "language": "python",
   "name": "python3"
  },
  "language_info": {
   "codemirror_mode": {
    "name": "ipython",
    "version": 3
   },
   "file_extension": ".py",
   "mimetype": "text/x-python",
   "name": "python",
   "nbconvert_exporter": "python",
   "pygments_lexer": "ipython3",
   "version": "3.11.9"
  }
 },
 "nbformat": 4,
 "nbformat_minor": 2
}
