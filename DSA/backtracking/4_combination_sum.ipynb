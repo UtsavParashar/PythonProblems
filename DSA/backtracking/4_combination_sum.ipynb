{
 "cells": [
  {
   "cell_type": "markdown",
   "metadata": {},
   "source": [
    "#### 39. Combination Sum - https://leetcode.com/problems/combination-sum/description/\n",
    "\n",
    "* Given an array of distinct integers candidates and a target integer target, return a list of all unique combinations of candidates where the chosen numbers sum to target. You may return the combinations in any order.\n",
    "\n",
    "* The same number may be chosen from candidates an unlimited number of times. Two combinations are unique if the frequency of at least one of the chosen numbers is different.\n",
    "\n",
    "* The test cases are generated such that the number of unique combinations that sum up to target is less than 150 combinations for the given input.\n",
    "\n",
    "- Example 1:\n",
    "- Input: candidates = [2,3,6,7], target = 7\n",
    "- Output: [[2,2,3],[7]]\n",
    "- Explanation:\n",
    "- 2 and 3 are candidates, and 2 + 2 + 3 = 7. Note that 2 can be used multiple times.\n",
    "- 7 is a candidate, and 7 = 7.\n",
    "- These are the only two combinations.\n",
    "\n",
    "- Example 2:\n",
    "- Input: candidates = [2,3,5], target = 8\n",
    "- Output: [[2,2,2,2],[2,3,3],[3,5]]\n",
    "\n",
    "- Example 3:\n",
    "- Input: candidates = [2], target = 1\n",
    "- Output: []"
   ]
  },
  {
   "cell_type": "code",
   "execution_count": 1,
   "metadata": {},
   "outputs": [],
   "source": [
    "## Credit - https://www.youtube.com/watch?v=utBw5FbYswk\n",
    "\n",
    "from typing import List\n",
    "from array import array\n",
    "\n",
    "def combination_sum(nums: List[int], target: int) -> List[List[int]]:\n",
    "    res, sol = [], []\n",
    "    n = len(nums)\n",
    "\n",
    "    def backtrack(idx, current_sum):\n",
    "        if current_sum == target:\n",
    "            res.append(sol.copy())\n",
    "            return \n",
    "\n",
    "        if current_sum > target or idx >= n:\n",
    "            return\n",
    "\n",
    "        ## Left branch\n",
    "        sol.append(nums[idx])\n",
    "        backtrack(idx, current_sum + nums[idx])\n",
    "        sol.pop()\n",
    "\n",
    "        ## Right branch\n",
    "        backtrack(idx+1, current_sum)\n",
    "\n",
    "    backtrack(0,0)\n",
    "    return res\n",
    "        "
   ]
  },
  {
   "cell_type": "code",
   "execution_count": 2,
   "metadata": {},
   "outputs": [
    {
     "data": {
      "text/plain": [
       "[[2, 2, 3], [7]]"
      ]
     },
     "execution_count": 2,
     "metadata": {},
     "output_type": "execute_result"
    }
   ],
   "source": [
    "combination_sum(nums = [2,3,6,7], target = 7)"
   ]
  },
  {
   "cell_type": "code",
   "execution_count": 3,
   "metadata": {},
   "outputs": [
    {
     "data": {
      "text/plain": [
       "[[2, 2, 2, 2], [2, 3, 3], [3, 5]]"
      ]
     },
     "execution_count": 3,
     "metadata": {},
     "output_type": "execute_result"
    }
   ],
   "source": [
    "combination_sum(nums = [2,3,5], target = 8)"
   ]
  },
  {
   "cell_type": "code",
   "execution_count": 11,
   "metadata": {},
   "outputs": [
    {
     "data": {
      "text/plain": [
       "[]"
      ]
     },
     "execution_count": 11,
     "metadata": {},
     "output_type": "execute_result"
    }
   ],
   "source": [
    "combination_sum([2], target = 1)"
   ]
  },
  {
   "cell_type": "code",
   "execution_count": null,
   "metadata": {},
   "outputs": [],
   "source": []
  }
 ],
 "metadata": {
  "kernelspec": {
   "display_name": "Python 3",
   "language": "python",
   "name": "python3"
  },
  "language_info": {
   "codemirror_mode": {
    "name": "ipython",
    "version": 3
   },
   "file_extension": ".py",
   "mimetype": "text/x-python",
   "name": "python",
   "nbconvert_exporter": "python",
   "pygments_lexer": "ipython3",
   "version": "3.11.9"
  }
 },
 "nbformat": 4,
 "nbformat_minor": 2
}
