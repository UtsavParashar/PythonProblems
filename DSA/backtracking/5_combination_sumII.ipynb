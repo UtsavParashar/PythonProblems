{
 "cells": [
  {
   "cell_type": "markdown",
   "id": "48223984",
   "metadata": {},
   "source": [
    "#### 40. Combination Sum II\n",
    "\n",
    "* https://leetcode.com/problems/combination-sum-ii/description/"
   ]
  },
  {
   "cell_type": "code",
   "execution_count": 3,
   "id": "227d4ac2",
   "metadata": {},
   "outputs": [],
   "source": [
    "def combination_sum2(candidates, target):\n",
    "    candidates.sort()\n",
    "    res, sol = [], []\n",
    "    n = len(candidates)\n",
    "\n",
    "    def backtrack(start, current_sum):\n",
    "        if current_sum == target:\n",
    "            res.append(sol.copy())\n",
    "            return\n",
    "        \n",
    "        for i in range(start, n):\n",
    "            # Skip duplicates\n",
    "            if i > start and candidates[i] == candidates[i - 1]:\n",
    "                continue\n",
    "\n",
    "            if current_sum + candidates[i] > target:\n",
    "                break\n",
    "\n",
    "            sol.append(candidates[i])\n",
    "            backtrack(i + 1, current_sum + candidates[i])\n",
    "            sol.pop()\n",
    "\n",
    "    backtrack(0, 0)\n",
    "\n",
    "    return res\n"
   ]
  },
  {
   "cell_type": "code",
   "execution_count": 4,
   "id": "8882ca74",
   "metadata": {},
   "outputs": [
    {
     "data": {
      "text/plain": [
       "[[1, 1, 6], [1, 2, 5], [1, 7], [2, 6]]"
      ]
     },
     "execution_count": 4,
     "metadata": {},
     "output_type": "execute_result"
    }
   ],
   "source": [
    "combination_sum2(candidates = [10,1,2,7,6,1,5], target = 8)"
   ]
  },
  {
   "cell_type": "markdown",
   "id": "09f6a2a9",
   "metadata": {},
   "source": [
    "candidates[i] == candidates[i - 1]\n",
    "This checks if the current candidate is the same as the one before it.\n",
    "\n",
    "Since the candidates list is sorted, duplicates are placed next to each other.\n",
    "\n",
    "🔹 i > start\n",
    "This ensures we only skip duplicates at the same recursive level (same \"sibling\" path).\n",
    "\n",
    "It allows a duplicate to be used in a deeper recursive call, just not at the same level."
   ]
  },
  {
   "cell_type": "markdown",
   "id": "e71c91aa",
   "metadata": {},
   "source": [
    "🔁 Purpose of for i in range(start, n):\n",
    "This loop iterates over the remaining candidates, starting from the current start index, and tries each as the next number in the current combination.\n",
    "\n",
    "✅ Why start?\n",
    "It ensures that each number is used at most once.\n",
    "\n",
    "By increasing start in the recursive call (backtrack(i + 1, ...)), we never go back to reuse the same element in the same path.\n",
    "\n",
    "This is how we avoid reusing the same element multiple times, which is a key constraint of combination_sum2."
   ]
  },
  {
   "cell_type": "markdown",
   "id": "8fd25198",
   "metadata": {},
   "source": []
  }
 ],
 "metadata": {
  "kernelspec": {
   "display_name": "Python 3",
   "language": "python",
   "name": "python3"
  },
  "language_info": {
   "codemirror_mode": {
    "name": "ipython",
    "version": 3
   },
   "file_extension": ".py",
   "mimetype": "text/x-python",
   "name": "python",
   "nbconvert_exporter": "python",
   "pygments_lexer": "ipython3",
   "version": "3.11.9"
  }
 },
 "nbformat": 4,
 "nbformat_minor": 5
}
