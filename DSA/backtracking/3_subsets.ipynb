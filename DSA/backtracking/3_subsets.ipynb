{
 "cells": [
  {
   "cell_type": "markdown",
   "metadata": {},
   "source": [
    "### 78. Subsets - https://leetcode.com/problems/subsets/description/\n",
    "\n",
    "- Given an integer array nums of unique elements, return all possible subsets (the power set).\n",
    "- The solution set must not contain duplicate subsets. Return the solution in any order.\n",
    "\n",
    "- Example 1:\n",
    "- Input: nums = [1,2,3]\n",
    "- Output: [[],[1],[2],[1,2],[3],[1,3],[2,3],[1,2,3]]\n",
    "\n",
    "- Example 2:\n",
    "- Input: nums = [0]\n",
    "- Output: [[],[0]]\n"
   ]
  },
  {
   "cell_type": "code",
   "execution_count": 16,
   "metadata": {},
   "outputs": [],
   "source": [
    "from typing import List\n",
    "\n",
    "def subsets(nums: List[int]) -> List[List[int]]:\n",
    "    res, sub_result = [], []\n",
    "\n",
    "    def backtrack(idx):\n",
    "        # base case branches are greater than the number of elements in the list\n",
    "        if idx >= len(nums):\n",
    "            res.append(sub_result.copy())\n",
    "            return\n",
    "\n",
    "        # left branch where we add the number\n",
    "        sub_result.append(nums[idx])\n",
    "        backtrack(idx+1)\n",
    "\n",
    "        # right branch where we do not add the number\n",
    "        sub_result.pop()\n",
    "        backtrack(idx+1)\n",
    "\n",
    "    backtrack(0)\n",
    "    return res"
   ]
  },
  {
   "cell_type": "code",
   "execution_count": 18,
   "metadata": {},
   "outputs": [
    {
     "data": {
      "text/plain": [
       "[[1, 2, 3], [1, 2], [1, 3], [1], [2, 3], [2], [3], []]"
      ]
     },
     "execution_count": 18,
     "metadata": {},
     "output_type": "execute_result"
    }
   ],
   "source": [
    "subsets([1,2,3])"
   ]
  },
  {
   "cell_type": "code",
   "execution_count": null,
   "metadata": {},
   "outputs": [],
   "source": []
  }
 ],
 "metadata": {
  "kernelspec": {
   "display_name": "Python 3",
   "language": "python",
   "name": "python3"
  },
  "language_info": {
   "codemirror_mode": {
    "name": "ipython",
    "version": 3
   },
   "file_extension": ".py",
   "mimetype": "text/x-python",
   "name": "python",
   "nbconvert_exporter": "python",
   "pygments_lexer": "ipython3",
   "version": "3.11.9"
  }
 },
 "nbformat": 4,
 "nbformat_minor": 2
}
