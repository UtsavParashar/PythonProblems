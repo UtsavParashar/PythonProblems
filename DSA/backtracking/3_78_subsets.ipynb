{
 "cells": [
  {
   "cell_type": "markdown",
   "metadata": {},
   "source": [
    "### 78. Subsets \n",
    "* https://leetcode.com/problems/subsets/description/\n",
    "\n",
    "#### ['Bloomberg', 'Mastercard', 'Meta', 'Amazon', 'Apple', 'Uber']\n"
   ]
  },
  {
   "cell_type": "code",
   "execution_count": null,
   "metadata": {},
   "outputs": [],
   "source": [
    "# Good explanation of backtracking - https://www.youtube.com/watch?v=UP3dOYJa05s&t=587s\n",
    "# https://chatgpt.com/c/68825860-1104-800f-8dd9-4a69ce59815f\n",
    "class Solution:\n",
    "    def subsets(self, nums: list[int]) -> list[list[int]]:\n",
    "        sol, res = [], []\n",
    "        n = len(nums)\n",
    "\n",
    "        def bt(i):\n",
    "            if i == n:\n",
    "                res.append(sol[:])\n",
    "                return\n",
    "\n",
    "            # does not add the items\n",
    "            bt(i+1)\n",
    "\n",
    "            # add item\n",
    "            sol.append(nums[i])\n",
    "            bt(i+1)\n",
    "            sol.pop()\n",
    "\n",
    "        bt(0)\n",
    "\n",
    "        return res"
   ]
  },
  {
   "cell_type": "code",
   "execution_count": null,
   "metadata": {},
   "outputs": [],
   "source": [
    "from typing import List\n",
    "\n",
    "def subsets(nums: List[int]) -> List[List[int]]:\n",
    "    res, sub_result = [], []\n",
    "\n",
    "    def backtrack(idx):\n",
    "        # base case - branches are greater than the number of elements in the list\n",
    "        if idx >= len(nums):\n",
    "            res.append(sub_result.copy())\n",
    "            return\n",
    "\n",
    "        # left branch where we add the number\n",
    "        sub_result.append(nums[idx])\n",
    "        backtrack(idx+1)\n",
    "\n",
    "        # right branch where we do not add the number\n",
    "        sub_result.pop()\n",
    "        backtrack(idx+1)\n",
    "\n",
    "    backtrack(0)\n",
    "    return res"
   ]
  },
  {
   "cell_type": "code",
   "execution_count": 18,
   "metadata": {},
   "outputs": [
    {
     "data": {
      "text/plain": [
       "[[1, 2, 3], [1, 2], [1, 3], [1], [2, 3], [2], [3], []]"
      ]
     },
     "execution_count": 18,
     "metadata": {},
     "output_type": "execute_result"
    }
   ],
   "source": [
    "subsets([1,2,3])"
   ]
  },
  {
   "cell_type": "code",
   "execution_count": null,
   "metadata": {},
   "outputs": [],
   "source": []
  }
 ],
 "metadata": {
  "kernelspec": {
   "display_name": "Python 3",
   "language": "python",
   "name": "python3"
  },
  "language_info": {
   "codemirror_mode": {
    "name": "ipython",
    "version": 3
   },
   "file_extension": ".py",
   "mimetype": "text/x-python",
   "name": "python",
   "nbconvert_exporter": "python",
   "pygments_lexer": "ipython3",
   "version": "3.11.9"
  }
 },
 "nbformat": 4,
 "nbformat_minor": 2
}
