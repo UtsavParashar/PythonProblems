{
 "cells": [
  {
   "cell_type": "markdown",
   "id": "a201e14e",
   "metadata": {},
   "source": [
    "### 131. Palindrome Partitioning\n",
    "* https://leetcode.com/problems/palindrome-partitioning/description/"
   ]
  },
  {
   "cell_type": "code",
   "execution_count": 3,
   "id": "ec6b3a14",
   "metadata": {},
   "outputs": [
    {
     "data": {
      "text/plain": [
       "[['a', 'a', 'b'], ['aa', 'b']]"
      ]
     },
     "execution_count": 3,
     "metadata": {},
     "output_type": "execute_result"
    }
   ],
   "source": [
    "# Explanation - https://www.youtube.com/watch?v=3jvWodd7ht0\n",
    "\n",
    "class Solution:\n",
    "    def partition(self, s: str):\n",
    "        n = len(s)\n",
    "        res, sol = [], []\n",
    "        memo = {}\n",
    "\n",
    "        def is_palindrome(l, r):\n",
    "            if (l, r) in memo:\n",
    "                return memo[(l, r)]\n",
    "            \n",
    "            while l < r:\n",
    "                if s[l] != s[r]:\n",
    "                    memo[(l, r)] = False\n",
    "                    return False\n",
    "                l += 1\n",
    "                r -= 1\n",
    "            memo[(l, r)] = True\n",
    "            return True\n",
    "\n",
    "        def backtrack(i):\n",
    "            if i == n:\n",
    "                res.append(sol[:])\n",
    "                return\n",
    "            \n",
    "            for j in range(i, n):\n",
    "                if is_palindrome(i, j):\n",
    "                    sol.append(s[i:j+1])\n",
    "                    backtrack(j+1)\n",
    "                    sol.pop()\n",
    "\n",
    "        backtrack(0)\n",
    "        return res\n",
    "\n",
    "Solution().partition('aab')"
   ]
  },
  {
   "cell_type": "code",
   "execution_count": null,
   "id": "073476a8",
   "metadata": {},
   "outputs": [],
   "source": []
  },
  {
   "cell_type": "code",
   "execution_count": null,
   "id": "cc40e6d0",
   "metadata": {},
   "outputs": [],
   "source": []
  }
 ],
 "metadata": {
  "kernelspec": {
   "display_name": "Python 3",
   "language": "python",
   "name": "python3"
  },
  "language_info": {
   "codemirror_mode": {
    "name": "ipython",
    "version": 3
   },
   "file_extension": ".py",
   "mimetype": "text/x-python",
   "name": "python",
   "nbconvert_exporter": "python",
   "pygments_lexer": "ipython3",
   "version": "3.11.9"
  }
 },
 "nbformat": 4,
 "nbformat_minor": 5
}
