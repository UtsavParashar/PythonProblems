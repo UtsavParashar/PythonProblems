{
 "cells": [
  {
   "cell_type": "markdown",
   "id": "f77db955",
   "metadata": {},
   "source": [
    "#### 452. Minimum Number of Arrows to Burst Ballons\n",
    "\n",
    "* https://leetcode.com/problems/minimum-number-of-arrows-to-burst-balloons/description/"
   ]
  },
  {
   "cell_type": "code",
   "execution_count": 1,
   "id": "12606edb",
   "metadata": {},
   "outputs": [
    {
     "data": {
      "text/plain": [
       "2"
      ]
     },
     "execution_count": 1,
     "metadata": {},
     "output_type": "execute_result"
    }
   ],
   "source": [
    "def find_min_arrow_shots(points):\n",
    "    points.sort(key=lambda x: x[1])\n",
    "\n",
    "    arrows = 1\n",
    "    end = points[0][1]\n",
    "\n",
    "    for start, curr_end in points[1:]:\n",
    "        if start > end:\n",
    "            end = curr_end\n",
    "            arrows += 1\n",
    "\n",
    "    return arrows\n",
    "\n",
    "find_min_arrow_shots([[10,16],[2,8],[1,6],[7,12]])"
   ]
  },
  {
   "cell_type": "markdown",
   "id": "49f43695",
   "metadata": {},
   "source": [
    "❓ Why do we sort by the end of each interval?\n",
    "We're solving a greedy interval coverage problem. The goal is to minimize the number of arrows while still bursting all balloons.\n",
    "\n",
    "If you sort by the end of intervals, you can:\n",
    "\n",
    "Shoot each arrow at the earliest possible point that guarantees it covers as many balloons as possible.\n",
    "\n",
    "This works because if you fire at the earliest end, you maximize overlap coverage — i.e., you cover all balloons that start before or at that end.\n",
    "\n",
    "❓ Why is arrows initialized to 1 and not 0?\n",
    "We start with 1 arrow because:\n",
    "\n",
    "After sorting, we always need at least one arrow to start with (to burst the first group of overlapping balloons).\n",
    "\n",
    "The logic assumes the first arrow is shot at the end of the first balloon, and then we only add arrows if future balloons don’t overlap.\n",
    "\n",
    "🔁 Without this:\n",
    "If you initialize arrows = 0, you'll have to handle the first interval separately, making the code less clean."
   ]
  },
  {
   "cell_type": "code",
   "execution_count": null,
   "id": "0fa57f90",
   "metadata": {},
   "outputs": [],
   "source": []
  }
 ],
 "metadata": {
  "kernelspec": {
   "display_name": "Python 3",
   "language": "python",
   "name": "python3"
  },
  "language_info": {
   "codemirror_mode": {
    "name": "ipython",
    "version": 3
   },
   "file_extension": ".py",
   "mimetype": "text/x-python",
   "name": "python",
   "nbconvert_exporter": "python",
   "pygments_lexer": "ipython3",
   "version": "3.11.9"
  }
 },
 "nbformat": 4,
 "nbformat_minor": 5
}
