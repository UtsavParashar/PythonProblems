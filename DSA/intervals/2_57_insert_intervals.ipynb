{
 "cells": [
  {
   "cell_type": "markdown",
   "id": "7240441e",
   "metadata": {},
   "source": [
    "#### 57. Insert Interval\n",
    "\n",
    "* https://leetcode.com/problems/insert-interval/description/"
   ]
  },
  {
   "cell_type": "code",
   "execution_count": null,
   "id": "ee2f79ab",
   "metadata": {},
   "outputs": [],
   "source": [
    "## Credit - https://www.youtube.com/watch?v=A8NUOmlwOlM\n",
    "\n",
    "def insert(intervals: list[list[int]], new_interval: list[int]) -> list[list[int]]:\n",
    "    res = []\n",
    "\n",
    "    for i in range(len(intervals)):\n",
    "        if new_interval[1] < intervals[i][0]: # if new interval comes before first interval\n",
    "            res.append(new_interval)\n",
    "            return res + intervals[i:]\n",
    "        elif new_interval[0] > intervals[i][1]: # if new interval does not overlap and comes after interval\n",
    "            res.append(intervals[i])\n",
    "        else:\n",
    "            new_interval = [min(new_interval[0], intervals[i][0]), max(new_interval[1], intervals[i][1])]\n",
    "            # not appending after this because new interval could intersect with more than one interval\n",
    "    \n",
    "    res.append(new_interval) # to append the new interval if it does not get appended before\n",
    "    return res"
   ]
  },
  {
   "cell_type": "code",
   "execution_count": 3,
   "id": "8efed816",
   "metadata": {},
   "outputs": [
    {
     "data": {
      "text/plain": [
       "[[1, 2], [3, 10], [12, 16]]"
      ]
     },
     "execution_count": 3,
     "metadata": {},
     "output_type": "execute_result"
    }
   ],
   "source": [
    "insert(intervals = [[1,2],[3,5],[6,7],[8,10],[12,16]], new_interval = [4,8])"
   ]
  },
  {
   "cell_type": "code",
   "execution_count": null,
   "id": "91e4bb56",
   "metadata": {},
   "outputs": [],
   "source": [
    "# Copilot code - much clearer, you can consider this\n",
    "\n",
    "def insert(intervals: list[list[int]], new_interval: list[int]) -> list[list[int]]:\n",
    "    res = []\n",
    "    \n",
    "    for interval in intervals:\n",
    "        if new_interval[1] < interval[0]:  # new_interval is completely before the current interval\n",
    "            res.append(new_interval)\n",
    "            return res + intervals[intervals.index(interval):]\n",
    "        elif new_interval[0] > interval[1]:  # new_interval is completely after the current interval\n",
    "            res.append(interval)\n",
    "        else:  # new_interval overlaps with the current interval\n",
    "            new_interval = [min(new_interval[0], interval[0]), max(new_interval[1], interval[1])]\n",
    "    \n",
    "    res.append(new_interval)  # append the merged interval if not already added\n",
    "    return res\n"
   ]
  }
 ],
 "metadata": {
  "kernelspec": {
   "display_name": "Python 3",
   "language": "python",
   "name": "python3"
  },
  "language_info": {
   "codemirror_mode": {
    "name": "ipython",
    "version": 3
   },
   "file_extension": ".py",
   "mimetype": "text/x-python",
   "name": "python",
   "nbconvert_exporter": "python",
   "pygments_lexer": "ipython3",
   "version": "3.11.9"
  }
 },
 "nbformat": 4,
 "nbformat_minor": 5
}
