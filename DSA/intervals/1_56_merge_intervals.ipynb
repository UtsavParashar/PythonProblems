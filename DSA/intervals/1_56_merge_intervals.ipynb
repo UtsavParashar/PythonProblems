{
 "cells": [
  {
   "cell_type": "markdown",
   "id": "71b6ce75",
   "metadata": {},
   "source": [
    "#### 56. Merge Intervals\n",
    "\n",
    "* https://leetcode.com/problems/merge-intervals/description/\n",
    "\n",
    "- Given an array of intervals where intervals[i] = [starti, endi], merge all overlapping intervals, and return an array of the non-overlapping intervals that cover all the intervals in the input.\n",
    "\n",
    "- Example 1:\n",
    "Input: intervals = [[1,3],[2,6],[8,10],[15,18]]\n",
    "Output: [[1,6],[8,10],[15,18]]\n",
    "Explanation: Since intervals [1,3] and [2,6] overlap, merge them into [1,6].\n",
    "\n",
    "- Example 2:\n",
    "Input: intervals = [[1,4],[4,5]]\n",
    "Output: [[1,5]]\n",
    "Explanation: Intervals [1,4] and [4,5] are considered overlapping.\n",
    " "
   ]
  },
  {
   "cell_type": "code",
   "execution_count": null,
   "id": "3c77f697",
   "metadata": {},
   "outputs": [],
   "source": [
    "## Credit - https://www.youtube.com/watch?v=44H3cEC2fFM\n",
    "\n",
    "def merge(intervals: list[list[int]]) -> list[list[int]]:\n",
    "    if not intervals:\n",
    "        return []\n",
    "\n",
    "    intervals.sort(key=lambda x: x[0]) # if the inner list are not sorted then let's sort them\n",
    "    res = [intervals[0]]\n",
    "\n",
    "    for start, end in intervals[1:]:\n",
    "        prev_end = res[-1][1]\n",
    "        if start <= prev_end:\n",
    "            res[-1][1] = max(prev_end, end) # This is support edge case like [1, 5] [2, 4], result should be [1, 5]\n",
    "        else:\n",
    "            res.append([start, end])\n",
    "    return res\n"
   ]
  },
  {
   "cell_type": "code",
   "execution_count": 20,
   "id": "afd2d51c",
   "metadata": {},
   "outputs": [
    {
     "data": {
      "text/plain": [
       "[[1, 6], [8, 10], [15, 18]]"
      ]
     },
     "execution_count": 20,
     "metadata": {},
     "output_type": "execute_result"
    }
   ],
   "source": [
    "merge(intervals = [[1,3],[2,6],[8,10],[15,18]])"
   ]
  },
  {
   "cell_type": "code",
   "execution_count": null,
   "id": "d3ef78f0",
   "metadata": {},
   "outputs": [],
   "source": [
    "def merge(intervals: list[list[int]]) -> list[list[int]]:\n",
    "    if not intervals:\n",
    "        return []\n",
    "\n",
    "    # Sort intervals by the start time\n",
    "    intervals.sort(key=lambda x: x[0])\n",
    "    res = []\n",
    "\n",
    "    for interval in intervals:\n",
    "        # If the result list is empty or no overlap, add the interval\n",
    "        if not res or res[-1][1] < interval[0]:\n",
    "            res.append(interval)\n",
    "        else:\n",
    "            # Merge the intervals by updating the end time\n",
    "            res[-1][1] = max(res[-1][1], interval[1])\n",
    "    \n",
    "    return res"
   ]
  }
 ],
 "metadata": {
  "kernelspec": {
   "display_name": "Python 3",
   "language": "python",
   "name": "python3"
  },
  "language_info": {
   "codemirror_mode": {
    "name": "ipython",
    "version": 3
   },
   "file_extension": ".py",
   "mimetype": "text/x-python",
   "name": "python",
   "nbconvert_exporter": "python",
   "pygments_lexer": "ipython3",
   "version": "3.11.9"
  }
 },
 "nbformat": 4,
 "nbformat_minor": 5
}
