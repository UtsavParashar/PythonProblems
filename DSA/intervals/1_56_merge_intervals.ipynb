{
 "cells": [
  {
   "cell_type": "markdown",
   "id": "71b6ce75",
   "metadata": {},
   "source": [
    "#### 56. Merge Intervals\n",
    "\n",
    "* https://leetcode.com/problems/merge-intervals/description/\n",
    "\n",
    "#### ['J.P. Morgan', 'Goldman Sachs', 'Morgan Stanley', 'Bloomberg', 'DE Shaw', 'Palantir Technologies', 'Meta', 'Amazon', 'Apple', 'Netflix', 'Uber']\n",
    " "
   ]
  },
  {
   "cell_type": "code",
   "execution_count": 1,
   "id": "3c77f697",
   "metadata": {},
   "outputs": [],
   "source": [
    "## Credit - https://www.youtube.com/watch?v=44H3cEC2fFM\n",
    "## Consider this solution\n",
    "\n",
    "def merge(intervals: list[list[int]]) -> list[list[int]]:\n",
    "    if not intervals:\n",
    "        return []\n",
    "\n",
    "    intervals.sort(key=lambda x: x[0]) # if the inner list are not sorted then let's sort them\n",
    "    res = [intervals[0]]\n",
    "\n",
    "    for start, end in intervals[1:]:\n",
    "        prev_end = res[-1][1]\n",
    "        if start <= prev_end:\n",
    "            res[-1][1] = max(prev_end, end) # This is support edge case like [1, 5] [2, 4], result should be [1, 5]\n",
    "        else:\n",
    "            res.append([start, end])\n",
    "    return res\n"
   ]
  },
  {
   "cell_type": "code",
   "execution_count": 20,
   "id": "afd2d51c",
   "metadata": {},
   "outputs": [
    {
     "data": {
      "text/plain": [
       "[[1, 6], [8, 10], [15, 18]]"
      ]
     },
     "execution_count": 20,
     "metadata": {},
     "output_type": "execute_result"
    }
   ],
   "source": [
    "merge(intervals = [[1,3],[2,6],[8,10],[15,18]])"
   ]
  },
  {
   "cell_type": "code",
   "execution_count": null,
   "id": "d3ef78f0",
   "metadata": {},
   "outputs": [],
   "source": [
    "def merge(intervals: list[list[int]]) -> list[list[int]]:\n",
    "    if not intervals:\n",
    "        return []\n",
    "\n",
    "    intervals.sort(key=lambda x: x[0]) # if the inner list are not sorted then let's sort them\n",
    "    res = [intervals[0]]\n",
    "\n",
    "    for start, end in intervals[1:]:\n",
    "        prev_end = res[-1][1]\n",
    "        if start <= prev_end:\n",
    "            res[-1][1] = max(prev_end, end) # This is support edge case like [1, 5] [2, 4], result should be [1, 5]\n",
    "        else:\n",
    "            res.append([start, end])\n",
    "    return res"
   ]
  }
 ],
 "metadata": {
  "kernelspec": {
   "display_name": "Python 3",
   "language": "python",
   "name": "python3"
  },
  "language_info": {
   "codemirror_mode": {
    "name": "ipython",
    "version": 3
   },
   "file_extension": ".py",
   "mimetype": "text/x-python",
   "name": "python",
   "nbconvert_exporter": "python",
   "pygments_lexer": "ipython3",
   "version": "3.11.9"
  }
 },
 "nbformat": 4,
 "nbformat_minor": 5
}
