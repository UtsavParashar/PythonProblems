{
 "cells": [
  {
   "cell_type": "markdown",
   "id": "a2bd5d30",
   "metadata": {},
   "source": [
    "#### 214. Shortest Palindrome\n",
    "\n",
    "* https://leetcode.com/problems/shortest-palindrome/description/\n",
    "\n",
    "## ['Google']"
   ]
  },
  {
   "cell_type": "code",
   "execution_count": null,
   "id": "1fc995de",
   "metadata": {},
   "outputs": [],
   "source": [
    "# Rabin Karp Algo\n",
    "# Explanation - https://www.youtube.com/watch?v=niOT-FK1RH8\n",
    "\n",
    "class Solution:\n",
    "    def shortestPalindrome(self, s: str) -> str:\n",
    "        n = len(s)\n",
    "        base, mod = 131, 10**9 + 7\n",
    "        \n",
    "        forward_hash = 0\n",
    "        reverse_hash = 0\n",
    "        power = 1\n",
    "        longest_pal_prefix = -1\n",
    "        \n",
    "        for i, ch in enumerate(s):\n",
    "            val = ord(ch) - ord('a') + 1  # map 'a'->1, 'b'->2, etc.\n",
    "            \n",
    "            # Forward hash: s[0..i]\n",
    "            forward_hash = (forward_hash * base + val) % mod\n",
    "            # Reverse hash: reversed prefix's hash\n",
    "            reverse_hash = (reverse_hash + power * val) % mod\n",
    "            power = (power * base) % mod\n",
    "            \n",
    "            # If hashes match, we have a palindrome prefix\n",
    "            if forward_hash == reverse_hash:\n",
    "                longest_pal_prefix = i\n",
    "        \n",
    "        # Characters after longest palindrome prefix need to be reversed & prepended\n",
    "        suffix = s[longest_pal_prefix+1:]\n",
    "        return suffix[::-1] + s\n",
    "\n",
    "Solution().shortestPalindrome(s = \"aacecaaa\")"
   ]
  },
  {
   "cell_type": "code",
   "execution_count": null,
   "id": "9db7b87f",
   "metadata": {},
   "outputs": [],
   "source": []
  }
 ],
 "metadata": {
  "kernelspec": {
   "display_name": "Python 3",
   "language": "python",
   "name": "python3"
  },
  "language_info": {
   "name": "python",
   "version": "3.11.9"
  }
 },
 "nbformat": 4,
 "nbformat_minor": 5
}
