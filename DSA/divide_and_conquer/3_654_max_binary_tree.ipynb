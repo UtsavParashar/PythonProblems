{
 "cells": [
  {
   "cell_type": "markdown",
   "metadata": {},
   "source": [
    "#### 654. Maximum Binary Tree\n",
    "\n",
    "* https://leetcode.com/problems/maximum-binary-tree/description/\n",
    "\n",
    "You are given an integer array nums with no duplicates. A maximum binary tree can be built recursively from nums using the following algorithm:\n",
    "\n",
    "Create a root node whose value is the maximum value in nums.\n",
    "Recursively build the left subtree on the subarray prefix to the left of the maximum value.\n",
    "Recursively build the right subtree on the subarray suffix to the right of the maximum value.\n",
    "Return the maximum binary tree built from nums."
   ]
  },
  {
   "cell_type": "code",
   "execution_count": 3,
   "metadata": {},
   "outputs": [],
   "source": [
    "# Definition for a binary tree node.\n",
    "class TreeNode:\n",
    "    def __init__(self, val=0, left=None, right=None):\n",
    "        self.val = val\n",
    "        self.left = left\n",
    "        self.right = right\n",
    "    \n",
    "    def __repr__(self):\n",
    "        return f'{self.val}, {self.left}, {self.right}'"
   ]
  },
  {
   "cell_type": "code",
   "execution_count": null,
   "metadata": {},
   "outputs": [],
   "source": [
    "## Worst case time complexity - O(n^2)\n",
    "\n",
    "def construct_max_binary_tree(nums):\n",
    "    # Base case: if the nums list is empty, return None\n",
    "    if not nums:\n",
    "        return None\n",
    "    \n",
    "    # Find the index of the maximum element in the list\n",
    "    max_index = nums.index(max(nums))\n",
    "\n",
    "    # Create a new tree node with the maximum value\n",
    "    root = TreeNode(nums[max_index])\n",
    "\n",
    "    # Recursively construct the left subtree\n",
    "    root.left = construct_max_binary_tree(nums[:max_index])\n",
    "\n",
    "    # Recursively construct the left subtree\n",
    "    root.right = construct_max_binary_tree(nums[max_index+1:])\n",
    "    \n",
    "    return root\n"
   ]
  },
  {
   "cell_type": "code",
   "execution_count": 10,
   "metadata": {},
   "outputs": [
    {
     "data": {
      "text/plain": [
       "6, 3, None, 2, None, 1, None, None, 5, 0, None, None, None"
      ]
     },
     "execution_count": 10,
     "metadata": {},
     "output_type": "execute_result"
    }
   ],
   "source": [
    "construct_max_binary_tree(nums = [3,2,1,6,0,5])"
   ]
  },
  {
   "cell_type": "markdown",
   "metadata": {},
   "source": [
    "##### Optmized O(n) solution using monotonic stack\n",
    "\n",
    "1. What is a Monotonic Stack?\n",
    "A monotonic stack is a stack where the elements are arranged in a specific order:\n",
    "In this case, the stack will maintain elements in decreasing order of their values.\n",
    "As we iterate through the array, we use the stack to efficiently determine the parent-child relationships for the tree.\n",
    "2. How Does the Algorithm Work?\n",
    "Iterate Through the Array:\n",
    "\n",
    "For each number in the array, create a new tree node (current).\n",
    "Pop Smaller Elements:\n",
    "\n",
    "While the stack is not empty and the top element of the stack is smaller than the current number:\n",
    "Pop the top element from the stack.\n",
    "Make it the left child of the current node (current.left = stack.pop()).\n",
    "Why? Because in a Maximum Binary Tree, the left child of a node is the largest number to its left, and popping smaller elements ensures this property.\n",
    "Set the Right Child:\n",
    "\n",
    "If the stack is not empty after popping, the current node becomes the right child of the top element in the stack (stack[-1].right = current).\n",
    "Why? Because the top element in the stack is the largest number encountered so far, and the current number is the next larger number, so it must be its right child.\n",
    "Push the Current Node:\n",
    "\n",
    "Push the current node onto the stack to maintain the monotonic order.\n",
    "Return the Root:\n",
    "\n",
    "At the end of the loop, the root of the tree is the first element in the stack.\n",
    "Example Walkthrough:\n",
    "Let’s walk through an example step by step.\n",
    "\n",
    "Input:\n",
    "Execution:\n",
    "Initial State:\n",
    "\n",
    "stack = []\n",
    "Process 3:\n",
    "\n",
    "Create a node for 3.\n",
    "Stack is empty, so push 3 onto the stack.\n",
    "stack = [3]\n",
    "Process 2:\n",
    "\n",
    "Create a node for 2.\n",
    "2 < 3, so no popping.\n",
    "Set 2 as the right child of 3.\n",
    "Push 2 onto the stack.\n",
    "stack = [3, 2]\n",
    "Process 1:\n",
    "\n",
    "Create a node for 1.\n",
    "1 < 2, so no popping.\n",
    "Set 1 as the right child of 2.\n",
    "Push 1 onto the stack.\n",
    "stack = [3, 2, 1]\n",
    "Process 6:\n",
    "\n",
    "Create a node for 6.\n",
    "6 > 1, so pop 1 and set it as the left child of 6.\n",
    "6 > 2, so pop 2 and set it as the left child of 6.\n",
    "6 > 3, so pop 3 and set it as the left child of 6.\n",
    "Stack is now empty, so push 6 onto the stack.\n",
    "stack = [6]\n",
    "Process 0:\n",
    "\n",
    "Create a node for 0.\n",
    "0 < 6, so no popping.\n",
    "Set 0 as the right child of 6.\n",
    "Push 0 onto the stack.\n",
    "stack = [6, 0]\n",
    "Process 5:\n",
    "\n",
    "Create a node for 5.\n",
    "5 > 0, so pop 0 and set it as the left child of 5.\n",
    "5 < 6, so no further popping.\n",
    "Set 5 as the right child of 6.\n",
    "Push 5 onto the stack.\n",
    "stack = [6, 5]\n",
    "Final Tree:\n",
    "The constructed tree looks like this:"
   ]
  },
  {
   "cell_type": "code",
   "execution_count": 11,
   "metadata": {},
   "outputs": [],
   "source": [
    "def  constructMaximumBinaryTree(nums):\n",
    "    stack = [] # stack will be storing TreeNode objects \n",
    "\n",
    "    for num in nums:\n",
    "        current = TreeNode(num)\n",
    "\n",
    "        while stack and stack[-1].val < num:\n",
    "            current.left = stack.pop()\n",
    "\n",
    "        if stack:\n",
    "            stack[-1].right = current\n",
    "\n",
    "        stack.append(current)\n",
    "\n",
    "    return stack[0] # stack[0] will have the max value\n",
    "\n"
   ]
  },
  {
   "cell_type": "code",
   "execution_count": 12,
   "metadata": {},
   "outputs": [
    {
     "data": {
      "text/plain": [
       "6, 3, None, 2, None, 1, None, None, 5, 0, None, None, None"
      ]
     },
     "execution_count": 12,
     "metadata": {},
     "output_type": "execute_result"
    }
   ],
   "source": [
    "constructMaximumBinaryTree(nums = [3,2,1,6,0,5])"
   ]
  },
  {
   "cell_type": "code",
   "execution_count": null,
   "metadata": {},
   "outputs": [],
   "source": []
  }
 ],
 "metadata": {
  "kernelspec": {
   "display_name": "Python 3",
   "language": "python",
   "name": "python3"
  },
  "language_info": {
   "codemirror_mode": {
    "name": "ipython",
    "version": 3
   },
   "file_extension": ".py",
   "mimetype": "text/x-python",
   "name": "python",
   "nbconvert_exporter": "python",
   "pygments_lexer": "ipython3",
   "version": "3.11.9"
  }
 },
 "nbformat": 4,
 "nbformat_minor": 2
}
