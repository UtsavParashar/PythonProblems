{
 "cells": [
  {
   "cell_type": "markdown",
   "id": "f6ad3e48",
   "metadata": {},
   "source": [
    "#### 354. Russian Doll Envelopes\n",
    "\n",
    "* https://leetcode.com/problems/russian-doll-envelopes/description/"
   ]
  },
  {
   "cell_type": "code",
   "execution_count": 2,
   "id": "786a8f10",
   "metadata": {},
   "outputs": [
    {
     "data": {
      "text/plain": [
       "3"
      ]
     },
     "execution_count": 2,
     "metadata": {},
     "output_type": "execute_result"
    }
   ],
   "source": [
    "# Logic - \n",
    "# Sort the envlopes by width in ascending order and height in descending order\n",
    "# Heights are placed in descending order to differentiate the the heights for elements with same width \n",
    "# and one of the n heights is selected for an envelope of same width  \n",
    "# after then applying lis is same as problem 300\n",
    "\n",
    "# TC - O(n lon n)\n",
    "# SC - O(n)\n",
    "\n",
    "\n",
    "import bisect\n",
    "class Solution:\n",
    "    def maxEnvelopes(self, envelopes) -> int:\n",
    "        envelopes.sort(key = lambda x: (x[0], -x[1]))\n",
    "        heights = [h for _, h in envelopes]\n",
    "\n",
    "        lis = []\n",
    "\n",
    "        for h in heights:\n",
    "            idx = bisect.bisect_left(lis, h)\n",
    "            if idx == len(lis):\n",
    "                lis.append(h)\n",
    "            else:\n",
    "                lis[idx] = h\n",
    "        \n",
    "        return len(lis)\n",
    "\n",
    "\n",
    "Solution().maxEnvelopes(envelopes = [[5,4],[6,4],[6,7],[2,3]])      "
   ]
  },
  {
   "cell_type": "markdown",
   "id": "201c183a",
   "metadata": {},
   "source": [
    "🔍 Explanation:\n",
    "Sorting:\n",
    "\n",
    "By width ascending ensures outer envelope must be wider.\n",
    "\n",
    "Heights are sorted descending for equal widths to prevent invalid nesting (e.g., [5,4] and [5,6] shouldn't be counted as nested).\n",
    "\n",
    "LIS on heights:\n",
    "\n",
    "Once sorted, the problem reduces to finding LIS on the heights.\n",
    "\n",
    "We use bisect_left to maintain a list lis which simulates the smallest possible tail value for each increasing subsequence of a certain length.\n",
    "\n",
    "⏱ Time Complexity:\n",
    "Sorting: O(n log n)\n",
    "\n",
    "LIS using binary search: O(n log n)\n",
    "\n",
    "Total: O(n log n)\n",
    "\n"
   ]
  },
  {
   "cell_type": "markdown",
   "id": "436a3b6c",
   "metadata": {},
   "source": [
    "Why does sorting in ascending and descending order work\n",
    "\n",
    "\n",
    "ChatGPT said:\n",
    "Great question — understanding why we sort widths in ascending and heights in descending order (when widths are equal) is key to solving Leetcode 354 optimally.\n",
    "\n",
    "🎯 Goal Recap:\n",
    "We want to nest envelopes — one inside another — where both width and height must be strictly increasing.\n",
    "\n",
    "But if multiple envelopes have the same width, they cannot be nested, because width is not strictly increasing.\n",
    "\n",
    "🧠 Why We Sort:\n",
    "python\n",
    "Copy\n",
    "Edit\n",
    "envelopes.sort(key=lambda x: (x[0], -x[1]))\n",
    "This means:\n",
    "\n",
    "Sort widths in ascending order.\n",
    "\n",
    "If widths are equal, sort heights in descending order.\n",
    "\n",
    "✅ What This Achieves:\n",
    "Case without descending sort:\n",
    "If we sorted both width and height in ascending order:\n",
    "\n",
    "python\n",
    "Copy\n",
    "Edit\n",
    "[(5,4), (5,5), (5,6)]\n",
    "These heights would be [4,5,6], and your LIS would be of length 3 — which is wrong because you cannot nest any of them (widths are same).\n",
    "\n",
    "With descending sort:\n",
    "python\n",
    "Copy\n",
    "Edit\n",
    "[(5,6), (5,5), (5,4)]\n",
    "Now, when we extract heights, we get [6,5,4] — a non-increasing sequence, so only one envelope gets counted in the LIS (correct behavior).\n",
    "\n",
    "🎯 The Insight:\n",
    "Sorting heights in descending order when widths are equal prevents same-width envelopes from being nested via LIS.\n",
    "\n",
    "This effectively eliminates duplicates in width and makes LIS work on a 1D problem (heights) assuming widths are already strictly increasing.\n",
    "\n",
    "📦 Visual:\n",
    "Given:\n",
    "\n",
    "python\n",
    "Copy\n",
    "Edit\n",
    "envelopes = [(5,4), (6,4), (6,7), (2,3)]\n",
    "After sorting:\n",
    "\n",
    "python\n",
    "Copy\n",
    "Edit\n",
    "[(2,3), (5,4), (6,7), (6,4)]\n",
    "         ↑      ↑     ↑\n",
    "        w=2    w=5   w=6\n",
    "Heights = [3, 4, 7, 4] → LIS = [3, 4, 7] → length = 3\n",
    "\n",
    "If we didn’t sort descending on height for equal widths:\n",
    "\n",
    "python\n",
    "Copy\n",
    "Edit\n",
    "(6,4) might come before (6,7) → giving LIS = [3, 4, 4] → invalid\n",
    "Summary:\n",
    "Sorting Logic\tWhy It’s Needed\n",
    "Width ascending (x[0])\tEnsures increasing width for nesting\n",
    "Height descending (-x[1]) on tie\tPrevents nesting envelopes with same width via LIS"
   ]
  },
  {
   "cell_type": "code",
   "execution_count": null,
   "id": "0bb05f11",
   "metadata": {},
   "outputs": [],
   "source": []
  }
 ],
 "metadata": {
  "kernelspec": {
   "display_name": "Python 3",
   "language": "python",
   "name": "python3"
  },
  "language_info": {
   "codemirror_mode": {
    "name": "ipython",
    "version": 3
   },
   "file_extension": ".py",
   "mimetype": "text/x-python",
   "name": "python",
   "nbconvert_exporter": "python",
   "pygments_lexer": "ipython3",
   "version": "3.11.9"
  }
 },
 "nbformat": 4,
 "nbformat_minor": 5
}
