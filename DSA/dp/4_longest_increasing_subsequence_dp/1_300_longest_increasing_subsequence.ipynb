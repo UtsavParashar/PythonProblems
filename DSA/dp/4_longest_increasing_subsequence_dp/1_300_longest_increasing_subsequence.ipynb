{
 "cells": [
  {
   "cell_type": "markdown",
   "id": "9db561e9",
   "metadata": {},
   "source": [
    "#### 300. Longest Increasing Subsequence\n",
    "\n",
    "* https://leetcode.com/problems/longest-increasing-subsequence/description/"
   ]
  },
  {
   "cell_type": "code",
   "execution_count": 3,
   "id": "4cbf7934",
   "metadata": {},
   "outputs": [
    {
     "data": {
      "text/plain": [
       "4"
      ]
     },
     "execution_count": 3,
     "metadata": {},
     "output_type": "execute_result"
    }
   ],
   "source": [
    "# Optimized Binary Search - O(n log n) solution\n",
    "# SC - O(n)\n",
    "\n",
    "# Logic - create a list which will contain only increasing sequence\n",
    "# bisect_left will check provide the index where the elements needs to be placed\n",
    "# if idx == len of the seq then its the greatest element, append it to the seq\n",
    "# if not, then replace an existing element\n",
    "\n",
    "import bisect\n",
    "class Solution:\n",
    "    def lengthOfLIS(self, nums) -> int:\n",
    "        seq = []\n",
    "\n",
    "        for num in nums:\n",
    "            idx = bisect.bisect_left(seq, num)\n",
    "            if idx == len(seq):\n",
    "                seq.append(num)\n",
    "            else:\n",
    "                seq[idx] = num\n",
    "        return len(seq)\n",
    "Solution().lengthOfLIS([10,9,2,5,3,7,101,18])"
   ]
  },
  {
   "cell_type": "code",
   "execution_count": 2,
   "id": "e8f60645",
   "metadata": {},
   "outputs": [
    {
     "data": {
      "text/plain": [
       "4"
      ]
     },
     "execution_count": 2,
     "metadata": {},
     "output_type": "execute_result"
    }
   ],
   "source": [
    "# dp - bottom up - Tabulation - O(n^2) solution\n",
    "# SC - O(n)\n",
    "\n",
    "# Logic - keep the i at an index\n",
    "# from 0 to i traverse j to check if num i > num j, if yes, check if the sequnce increases\n",
    "class Solution:\n",
    "    def lengthOfLIS(self, nums) -> int:\n",
    "        n = len(nums)\n",
    "        dp = [1]*n # base case with dp of 1 because an element is a sequence of 1 in itself\n",
    "\n",
    "        for i in range(n):\n",
    "            for j in range(i):\n",
    "                if nums[i] > nums[j]:\n",
    "                    dp[i] = max(dp[i], dp[j]+1)\n",
    "        \n",
    "        return max(dp)\n",
    "\n",
    "Solution().lengthOfLIS([10,9,2,5,3,7,101,18])"
   ]
  },
  {
   "cell_type": "markdown",
   "id": "f59e2c76",
   "metadata": {},
   "source": [
    "If this question — Leetcode 300: Longest Increasing Subsequence (LIS) — were asked in an interview, I would approach it in the following structured and communicative manner to demonstrate both problem-solving and communication skills.\n",
    "\n",
    "🗣️ 1. Clarify the Problem First\n",
    "“Let me confirm: We are given an array of integers nums, and we need to find the length of the longest subsequence where the numbers are strictly increasing — correct?”\n",
    "\n",
    "I would also ask:\n",
    "\n",
    "“Are negative numbers or duplicates allowed in the input?”\n",
    "\n",
    "“Should we return the subsequence itself or just its length?”\n",
    "\n",
    "🧠 2. Discuss a Brute Force Approach (Optional)\n",
    "“A brute-force solution would try all possible subsequences and check which are strictly increasing — but that would be exponential time and not feasible.”\n",
    "\n",
    "➡️ Shows understanding of time complexity and the need for optimization.\n",
    "\n",
    "🔁 3. Describe the O(n²) Dynamic Programming Approach\n",
    "“Let’s use a DP array where dp[i] represents the length of the LIS ending at index i.\n",
    "We initialize all values to 1 (each number is a subsequence of length 1).\n",
    "We iterate through all previous values to build the longest subsequence up to each i.”\n",
    "\n",
    "Code sketch:\n",
    "\n",
    "python\n",
    "Copy\n",
    "Edit\n",
    "for i in range(n):\n",
    "    for j in range(i):\n",
    "        if nums[i] > nums[j]:\n",
    "            dp[i] = max(dp[i], dp[j] + 1)\n",
    "Time complexity: O(n²)\n",
    "Space complexity: O(n)\n",
    "\n",
    "➡️ I’d mention this is acceptable for small inputs and easy to implement, but not optimal.\n",
    "\n",
    "⚡ 4. Propose the Optimized O(n log n) Solution Using Binary Search\n",
    "“To improve on the DP solution, we can maintain an auxiliary array that stores the smallest tail element of all increasing subsequences of different lengths seen so far.”\n",
    "\n",
    "I’d explain the use of bisect_left to find the appropriate position to replace or append.\n",
    "\n",
    "Code sketch:\n",
    "\n",
    "python\n",
    "Copy\n",
    "Edit\n",
    "sub = []\n",
    "for num in nums:\n",
    "    idx = bisect.bisect_left(sub, num)\n",
    "    if idx == len(sub):\n",
    "        sub.append(num)\n",
    "    else:\n",
    "        sub[idx] = num\n",
    "➡️ Result is len(sub)\n",
    "\n",
    "Time complexity: O(n log n)\n",
    "Space complexity: O(n)\n",
    "\n",
    "🧪 5. Run a Dry Run\n",
    "I’d dry run a small example like nums = [10, 9, 2, 5, 3, 7, 101, 18] to show how sub evolves.\n",
    "\n",
    "🧱 6. Edge Case Discussion\n",
    "“I’d also consider edge cases like empty input, all elements equal, strictly decreasing arrays, or very large arrays — and verify both performance and correctness.”\n",
    "\n",
    "✅ 7. Final Thoughts\n",
    "“For interviews, I’d implement the binary search solution if performance matters, but also mention the DP approach for clarity and completeness.”\n",
    "\n",
    "“If asked to return the actual subsequence, I’d modify the solution to track predecessors.”\n",
    "\n",
    "🎯 Summary Pitch to Interviewer:\n",
    "“I’d use a greedy + binary search strategy to maintain a minimal tail array of increasing subsequences. This gives an efficient O(n log n) time complexity, and handles all edge cases well. I can implement this and walk through an example if you'd like.”"
   ]
  },
  {
   "cell_type": "code",
   "execution_count": null,
   "id": "39abee2a",
   "metadata": {},
   "outputs": [],
   "source": []
  }
 ],
 "metadata": {
  "kernelspec": {
   "display_name": "Python 3",
   "language": "python",
   "name": "python3"
  },
  "language_info": {
   "codemirror_mode": {
    "name": "ipython",
    "version": 3
   },
   "file_extension": ".py",
   "mimetype": "text/x-python",
   "name": "python",
   "nbconvert_exporter": "python",
   "pygments_lexer": "ipython3",
   "version": "3.11.9"
  }
 },
 "nbformat": 4,
 "nbformat_minor": 5
}
