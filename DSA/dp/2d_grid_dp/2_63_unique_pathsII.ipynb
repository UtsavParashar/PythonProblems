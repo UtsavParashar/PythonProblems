{
 "cells": [
  {
   "cell_type": "markdown",
   "id": "482af8ed",
   "metadata": {},
   "source": [
    "#### 63. Unique Paths II\n",
    "\n",
    "* https://leetcode.com/problems/unique-paths-ii/description/"
   ]
  },
  {
   "cell_type": "code",
   "execution_count": 13,
   "id": "b607bc57",
   "metadata": {},
   "outputs": [],
   "source": [
    "## Time complexity - O(m*n)\n",
    "## Space complexity - O(n)\n",
    "def unique_paths_with_obstacles(grid):\n",
    "    m, n = len(grid), len(grid[0])\n",
    "    dp = [0] * n\n",
    "\n",
    "    # Initialize the first cell\n",
    "    dp[0] = 1 if grid[0][0] == 0 else 0 # check if there's an obstacle at the start\n",
    "\n",
    "    for r in range(m):\n",
    "        for c in range(n):\n",
    "            if grid[r][c] == 1:  # If there's an obstacle\n",
    "                dp[c] = 0\n",
    "            elif c > 0:  # Update dp[c] using the value from the left\n",
    "                dp[c] += dp[c - 1]\n",
    "            print(dp)\n",
    "    return dp[-1]"
   ]
  },
  {
   "cell_type": "code",
   "execution_count": 12,
   "id": "e5f22f8a",
   "metadata": {},
   "outputs": [
    {
     "name": "stdout",
     "output_type": "stream",
     "text": [
      "[1, 0, 0]\n",
      "[1, 1, 0]\n",
      "[1, 1, 1]\n",
      "[1, 1, 1]\n",
      "[1, 0, 1]\n",
      "[1, 0, 1]\n",
      "[1, 0, 1]\n",
      "[1, 1, 1]\n",
      "[1, 1, 2]\n"
     ]
    },
    {
     "data": {
      "text/plain": [
       "2"
      ]
     },
     "execution_count": 12,
     "metadata": {},
     "output_type": "execute_result"
    }
   ],
   "source": [
    "unique_paths_with_obstacles([[0,0,0],[0,1,0],[0,0,0]])"
   ]
  },
  {
   "cell_type": "markdown",
   "id": "65aa8beb",
   "metadata": {},
   "source": [
    "What this does:\n",
    "Loop through each row and column.\n",
    "\n",
    "If the current cell is an obstacle, set dp[c] = 0 — no path can go through here.\n",
    "\n",
    "If it's not an obstacle:\n",
    "\n",
    "dp[c] already contains the number of ways from the top (previous row).\n",
    "\n",
    "dp[c - 1] gives the number of ways from the left (same row).\n",
    "\n",
    "So we add dp[c - 1] to dp[c]."
   ]
  },
  {
   "cell_type": "code",
   "execution_count": null,
   "id": "15315cd5",
   "metadata": {},
   "outputs": [],
   "source": []
  }
 ],
 "metadata": {
  "kernelspec": {
   "display_name": "Python 3",
   "language": "python",
   "name": "python3"
  },
  "language_info": {
   "codemirror_mode": {
    "name": "ipython",
    "version": 3
   },
   "file_extension": ".py",
   "mimetype": "text/x-python",
   "name": "python",
   "nbconvert_exporter": "python",
   "pygments_lexer": "ipython3",
   "version": "3.11.9"
  }
 },
 "nbformat": 4,
 "nbformat_minor": 5
}
