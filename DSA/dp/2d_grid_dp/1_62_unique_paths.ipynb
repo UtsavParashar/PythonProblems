{
 "cells": [
  {
   "cell_type": "markdown",
   "id": "81bed67d",
   "metadata": {},
   "source": [
    "#### 62. Unique Paths\n",
    "\n",
    "* https://leetcode.com/problems/unique-paths/description/\n"
   ]
  },
  {
   "cell_type": "code",
   "execution_count": 1,
   "id": "196277fb",
   "metadata": {},
   "outputs": [],
   "source": [
    "# Credit - http://youtube.com/watch?v=3ZFvBlynmls\n",
    "\n",
    "## Recursive Solution\n",
    "## Time: O(2^(m*n))\n",
    "## Space: O(m*n)\n",
    "def brute_force_recursion(m, n):\n",
    "\n",
    "    def paths(i, j):\n",
    "        if i == j == 0: # base case - start of the grid\n",
    "            return 1 \n",
    "        elif i < 0 or j < 0 or i == m or j == n: # row and column on the edge\n",
    "            return 0\n",
    "        else:\n",
    "            return paths(i, j-1) + paths(i-1, j)\n",
    "\n",
    "    return paths(m-1, n-1)\n"
   ]
  },
  {
   "cell_type": "code",
   "execution_count": 2,
   "id": "7ed5d078",
   "metadata": {},
   "outputs": [
    {
     "data": {
      "text/plain": [
       "28"
      ]
     },
     "execution_count": 2,
     "metadata": {},
     "output_type": "execute_result"
    }
   ],
   "source": [
    "brute_force_recursion(3, 7)"
   ]
  },
  {
   "cell_type": "code",
   "execution_count": 4,
   "id": "04bf2edd",
   "metadata": {},
   "outputs": [],
   "source": [
    "## Memoization(Top Down Dp) Solution\n",
    "## Time: O(m*n)\n",
    "## Space: O(m*n)\n",
    "def memoization(m, n):\n",
    "\n",
    "    memo = {(0,0): 1}\n",
    "    def paths(i, j):\n",
    "        if (i, j) in memo: # base case - start of the grid\n",
    "            return memo[(i, j)] \n",
    "        elif i < 0 or j < 0 or i == m or j == n: # row and column on the edge\n",
    "            return 0\n",
    "        else:\n",
    "            val = paths(i, j-1) + paths(i-1, j)\n",
    "            memo[(i, j)] = val\n",
    "            return val\n",
    "\n",
    "    return paths(m-1, n-1)"
   ]
  },
  {
   "cell_type": "code",
   "execution_count": 5,
   "id": "7c11f4e8",
   "metadata": {},
   "outputs": [
    {
     "data": {
      "text/plain": [
       "28"
      ]
     },
     "execution_count": 5,
     "metadata": {},
     "output_type": "execute_result"
    }
   ],
   "source": [
    "memoization(3, 7)"
   ]
  },
  {
   "cell_type": "code",
   "execution_count": 14,
   "id": "de184566",
   "metadata": {},
   "outputs": [],
   "source": [
    "## Tabulation(Bottom Up Dp) Solution\n",
    "## Time: O(m*n)\n",
    "## Space: O(m*n)\n",
    "def tablation(m, n):\n",
    "    dp = [[0]*n for _ in range(m)]\n",
    "    dp[0][0] = 1 # base case\n",
    "\n",
    "    for i in range(m):\n",
    "        for j in range(n):\n",
    "            if i==j==0:\n",
    "                continue # already placed 1\n",
    "            val = 0\n",
    "            if i > 0:\n",
    "                val += dp[i-1][j]\n",
    "            if j > 0:\n",
    "                val += dp[i][j-1]\n",
    "            \n",
    "            dp[i][j] = val\n",
    "    \n",
    "    return dp[m-1][n-1]\n",
    "            \n"
   ]
  },
  {
   "cell_type": "code",
   "execution_count": 12,
   "id": "e09444f5",
   "metadata": {},
   "outputs": [
    {
     "data": {
      "text/plain": [
       "28"
      ]
     },
     "execution_count": 12,
     "metadata": {},
     "output_type": "execute_result"
    }
   ],
   "source": [
    "tablation(3,7)"
   ]
  },
  {
   "cell_type": "markdown",
   "id": "72a43d84",
   "metadata": {},
   "source": [
    "### Explanation of Conditions in Tabulation Method\n",
    "\n",
    "1. **Purpose of `if i > 0` and `if j > 0` conditions:**\n",
    "   - These conditions ensure that we do not access indices outside the grid boundaries.\n",
    "   - `if i > 0`: Checks if there is a cell above the current cell. If true, it adds the value from the cell above to the current cell.\n",
    "   - `if j > 0`: Checks if there is a cell to the left of the current cell. If true, it adds the value from the cell to the left to the current cell.\n",
    "\n",
    "2. **Why return `dp[m-1][n-1]`:**\n",
    "   - `dp[m-1][n-1]` represents the bottom-right corner of the grid, which is the destination.\n",
    "   - The value at `dp[m-1][n-1]` contains the total number of unique paths from the top-left corner (start) to the bottom-right corner (end)."
   ]
  },
  {
   "cell_type": "code",
   "execution_count": 24,
   "id": "ce6eb714",
   "metadata": {},
   "outputs": [],
   "source": [
    "def tablation(m, n):\n",
    "    dp = [0] * n\n",
    "    dp[0] = 1  # base case\n",
    "\n",
    "    for _ in range(m):\n",
    "        for c in range(1, n): # c is column\n",
    "            dp[c] += dp[c-1]\n",
    "            print(dp[c], dp[c-1], dp)\n",
    "    \n",
    "    return dp[-1]\n"
   ]
  },
  {
   "cell_type": "code",
   "execution_count": 26,
   "id": "e0adaf82",
   "metadata": {},
   "outputs": [
    {
     "name": "stdout",
     "output_type": "stream",
     "text": [
      "1 1 [1, 1]\n",
      "2 1 [1, 2]\n",
      "3 1 [1, 3]\n"
     ]
    },
    {
     "data": {
      "text/plain": [
       "3"
      ]
     },
     "execution_count": 26,
     "metadata": {},
     "output_type": "execute_result"
    }
   ],
   "source": [
    "tablation(3,2)"
   ]
  },
  {
   "cell_type": "markdown",
   "id": "09cfc5b1",
   "metadata": {},
   "source": [
    "This loop simulates moving through the grid row by row.\n",
    "\n",
    "Outer loop runs m times — for each row.\n",
    "\n",
    "Inner loop updates each cell in the row using the idea:\n",
    "\n",
    "To reach cell (i, j), you can either come from the left (i, j-1) or from the top (i-1, j).\n",
    "\n",
    "Since we're using 1D dp, each dp[j] stores the number of ways to reach (current_row, j).\n",
    "\n",
    "The key update:\n",
    "\n",
    "dp[j] += dp[j-1]\n",
    "This means:\n",
    "New value of dp[j] = ways to come from top (old dp[j]) + ways to come from left (dp[j-1])"
   ]
  },
  {
   "cell_type": "code",
   "execution_count": null,
   "id": "694810ee",
   "metadata": {},
   "outputs": [],
   "source": []
  }
 ],
 "metadata": {
  "kernelspec": {
   "display_name": "Python 3",
   "language": "python",
   "name": "python3"
  },
  "language_info": {
   "codemirror_mode": {
    "name": "ipython",
    "version": 3
   },
   "file_extension": ".py",
   "mimetype": "text/x-python",
   "name": "python",
   "nbconvert_exporter": "python",
   "pygments_lexer": "ipython3",
   "version": "3.11.9"
  }
 },
 "nbformat": 4,
 "nbformat_minor": 5
}
