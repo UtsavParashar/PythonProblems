{
 "cells": [
  {
   "cell_type": "markdown",
   "id": "7f0d9655",
   "metadata": {},
   "source": [
    "#### 516. Longest Palindromic Subsequence\n",
    "\n",
    "Given a string s, find the longest palindromic subsequence's length in s.\n",
    "\n",
    "A subsequence is a sequence that can be derived from another sequence by deleting some or no elements without changing the order of the remaining elements.\n",
    "\n",
    " \n",
    "\n",
    "Example 1:\n",
    "\n",
    "Input: s = \"bbbab\"\n",
    "Output: 4\n",
    "Explanation: One possible longest palindromic subsequence is \"bbbb\".\n",
    "Example 2:\n",
    "\n",
    "Input: s = \"cbbd\"\n",
    "Output: 2\n",
    "Explanation: One possible longest palindromic subsequence is \"bb\"."
   ]
  },
  {
   "cell_type": "code",
   "execution_count": null,
   "id": "21cbf525",
   "metadata": {},
   "outputs": [],
   "source": [
    "# Same solution as 1143 Longest Common SubSequence, \n",
    "# for Longest Palindromic Subsequence we have a single string, so it can be reversed to make another string\n",
    "\n",
    "# Base Solution\n",
    "# TC - O(n^2)\n",
    "# SC - O(n^2 + n)\n",
    "\n",
    "def longestPalindromeSubseq(s: str) -> int:\n",
    "    s1 = s[::-1]\n",
    "    dp = [[0]*(len(s1)+1) for _ in range(len(s)+1)]\n",
    "\n",
    "    for i in range(len(s)-1, -1, -1):\n",
    "        for j in range(len(s1)-1, -1, -1):\n",
    "            if s[i] == s1[j]:\n",
    "                dp[i][j] = 1 + dp[i+1][j+1]\n",
    "            else:\n",
    "                dp[i][j] = max(dp[i+1][j], dp[i][j+1])\n",
    "    \n",
    "    return dp[0][0]\n",
    "        \n",
    "\n"
   ]
  },
  {
   "cell_type": "code",
   "execution_count": null,
   "id": "16ae0102",
   "metadata": {},
   "outputs": [
    {
     "data": {
      "text/plain": [
       "5"
      ]
     },
     "execution_count": 5,
     "metadata": {},
     "output_type": "execute_result"
    }
   ],
   "source": [
    "# Without reversing the string to create a new string but using m-j-1 to save O(n) space\n",
    "# Slightly Space Optimized Solution\n",
    "# TC - O(n^2)\n",
    "# SC - O(n^2)\n",
    "\n",
    "class Solution:\n",
    "    def longestPalindromeSubseq(self, s: str) -> int:\n",
    "        m = len(s)\n",
    "\n",
    "        dp = [[0]*(m+1) for _ in range(m+1)]\n",
    "\n",
    "        for i in range(m-1, -1, -1):\n",
    "            for j in range(m-1, -1, -1):\n",
    "                if s[i] == s[m-j-1]:\n",
    "                    dp[i][j] = 1 + dp[i+1][j+1]\n",
    "                else:\n",
    "                    dp[i][j] = max(dp[i+1][j], dp[i][j+1])\n",
    "        \n",
    "        return dp[0][0]\n",
    "    \n",
    "Solution().longestPalindromeSubseq('agbdba')"
   ]
  },
  {
   "cell_type": "code",
   "execution_count": 6,
   "id": "843877cd",
   "metadata": {},
   "outputs": [
    {
     "data": {
      "text/plain": [
       "5"
      ]
     },
     "execution_count": 6,
     "metadata": {},
     "output_type": "execute_result"
    }
   ],
   "source": [
    "# Space Optimized Solution\n",
    "# TC - O(n^2)\n",
    "# SC - O(n)\n",
    "\n",
    "class Solution:\n",
    "    def longestPalindromeSubseq(self, s: str) -> int:\n",
    "        m = len(s)\n",
    "\n",
    "        prev = [0]*(m+1)\n",
    "\n",
    "        for i in range(m-1, -1, -1):\n",
    "            curr = [0]*(m+1)\n",
    "            for j in range(m-1, -1, -1):\n",
    "                if s[i] == s[m-j-1]:\n",
    "                    curr[j] = 1 + prev[j+1]\n",
    "                else:\n",
    "                    curr[j] = max(prev[j], curr[j+1])\n",
    "            prev = curr\n",
    "        \n",
    "        return prev[0]\n",
    "    \n",
    "Solution().longestPalindromeSubseq('agbdba')"
   ]
  },
  {
   "cell_type": "code",
   "execution_count": null,
   "id": "e46d500c",
   "metadata": {},
   "outputs": [],
   "source": []
  }
 ],
 "metadata": {
  "kernelspec": {
   "display_name": "Python 3",
   "language": "python",
   "name": "python3"
  },
  "language_info": {
   "codemirror_mode": {
    "name": "ipython",
    "version": 3
   },
   "file_extension": ".py",
   "mimetype": "text/x-python",
   "name": "python",
   "nbconvert_exporter": "python",
   "pygments_lexer": "ipython3",
   "version": "3.11.9"
  }
 },
 "nbformat": 4,
 "nbformat_minor": 5
}
