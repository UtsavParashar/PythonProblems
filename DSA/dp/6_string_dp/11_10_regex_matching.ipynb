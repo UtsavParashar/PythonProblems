{
 "cells": [
  {
   "cell_type": "markdown",
   "id": "26777468",
   "metadata": {},
   "source": [
    "#### 10. Regular Expression Matching\n",
    "* https://leetcode.com/problems/regular-expression-matching/description/\n",
    "#### ['Bloomberg', 'WorldQuant', 'Meta', 'Amazon', 'Apple', 'Uber']"
   ]
  },
  {
   "cell_type": "code",
   "execution_count": null,
   "id": "827e5851",
   "metadata": {},
   "outputs": [],
   "source": [
    "# Credit - Explanation - https://www.youtube.com/watch?v=HAA8mgxlov8\n",
    "# Credit - code - https://chatgpt.com/c/68e4a867-7ee0-8320-b8e2-fa905860a4fa\n",
    "# TC - O(m * n) (because of memoization)\n",
    "# SC - O(m*n) (for recursion + cache)\n",
    "\n",
    "from functools import lru_cache\n",
    "\n",
    "class Solution:\n",
    "    def isMatch(self, s: str, p: str) -> bool:\n",
    "        \n",
    "        @lru_cache(None)\n",
    "        def dfs(i: int, j: int) -> bool:\n",
    "            # Base case: both string and pattern are exhausted\n",
    "            if j == len(p):\n",
    "                return i == len(s)\n",
    "\n",
    "            # Check if the first characters match\n",
    "            first_match = i < len(s) and (p[j] in {s[i], '.'})\n",
    "\n",
    "            # If next char is '*', handle zero or more occurrences\n",
    "            if j + 1 < len(p) and p[j + 1] == '*':\n",
    "                # Case 1: Skip the '*' and preceding char (zero occurrences)\n",
    "                # Case 2: If first char matches, consume one char from s\n",
    "                return dfs(i, j + 2) or (first_match and dfs(i + 1, j))\n",
    "            else:\n",
    "                # Normal match: move both pointers forward\n",
    "                return first_match and dfs(i + 1, j + 1)\n",
    "\n",
    "        return dfs(0, 0)\n"
   ]
  }
 ],
 "metadata": {
  "language_info": {
   "name": "python"
  }
 },
 "nbformat": 4,
 "nbformat_minor": 5
}
