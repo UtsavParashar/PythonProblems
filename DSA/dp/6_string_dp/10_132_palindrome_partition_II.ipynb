{
 "cells": [
  {
   "cell_type": "markdown",
   "id": "ec53fc48",
   "metadata": {},
   "source": [
    "#### 132. Palindrome Partitioning II\n",
    "* https://leetcode.com/problems/palindrome-partitioning-ii/description/"
   ]
  },
  {
   "cell_type": "code",
   "execution_count": null,
   "id": "07208774",
   "metadata": {},
   "outputs": [],
   "source": [
    "def minCut(s: str) -> int:\n",
    "    n = len(s)\n",
    "    # Precompute palindrome table\n",
    "    is_pal = [[False] * n for _ in range(n)]\n",
    "    for end in range(n):\n",
    "        for start in range(end + 1):\n",
    "            if s[start] == s[end] and (end - start <= 2 or is_pal[start + 1][end - 1]):\n",
    "                is_pal[start][end] = True\n",
    "\n",
    "    # DP for min cuts\n",
    "    dp = [0] * n\n",
    "    for i in range(n):\n",
    "        if is_pal[0][i]:\n",
    "            dp[i] = 0\n",
    "        else:\n",
    "            dp[i] = min(dp[j - 1] + 1 for j in range(1, i + 1) if is_pal[j][i])\n",
    "    return dp[-1]\n",
    "\n"
   ]
  },
  {
   "cell_type": "code",
   "execution_count": null,
   "id": "bbd0a585",
   "metadata": {},
   "outputs": [
    {
     "data": {
      "text/plain": [
       "1"
      ]
     },
     "execution_count": 5,
     "metadata": {},
     "output_type": "execute_result"
    }
   ],
   "source": [
    "# TLE\n",
    "# Time: O(n³) in the worst case without palindrome precomputation (since is_pal check is O(n) each call).\n",
    "# Space: O(n) recursion depth + O(n) memo table.\n",
    "\n",
    "from functools import lru_cache\n",
    "\n",
    "class Solution:\n",
    "    def minCut(self, s: str) -> int:\n",
    "        n = len(s)\n",
    "\n",
    "        def is_pal(l, r):\n",
    "            while l < r:\n",
    "                if s[l] != s[r]:\n",
    "                    return False\n",
    "                l += 1\n",
    "                r -= 1\n",
    "            return True\n",
    "\n",
    "        @lru_cache(None)\n",
    "        def dfs(i):\n",
    "            # If reached end or remaining substring is palindrome → no cuts needed\n",
    "            if i == n or is_pal(i, n-1):\n",
    "                return 0\n",
    "\n",
    "            min_cuts = float('inf')\n",
    "            for j in range(i, n):\n",
    "                if is_pal(i, j):\n",
    "                    # 1 cut + solve remainder\n",
    "                    min_cuts = min(min_cuts, 1+dfs(j+1))\n",
    "\n",
    "            return min_cuts\n",
    "\n",
    "        return dfs(0)\n",
    "Solution().minCut('aab')"
   ]
  },
  {
   "cell_type": "code",
   "execution_count": 3,
   "id": "61ac5818",
   "metadata": {},
   "outputs": [
    {
     "name": "stdout",
     "output_type": "stream",
     "text": [
      "{1: 1}\n",
      "{1: 1, 0: 1}\n"
     ]
    },
    {
     "data": {
      "text/plain": [
       "1"
      ]
     },
     "execution_count": 3,
     "metadata": {},
     "output_type": "execute_result"
    }
   ],
   "source": [
    "# TLE \n",
    "# Time: O(n³) worst-case without palindrome precomputation (due to repeated palindrome checks).\n",
    "# Space: O(n) recursion depth + O(n) memo dictionary.\n",
    "\n",
    "class Solution:\n",
    "    def minCut(self, s: str) -> int:\n",
    "        n = len(s)\n",
    "        memo = {}\n",
    "\n",
    "        def is_pal(l, r):\n",
    "            while l < r:\n",
    "                if s[l] != s[r]:\n",
    "                    return False\n",
    "                l += 1\n",
    "                r -= 1\n",
    "            return True\n",
    "\n",
    "        def dfs(i):\n",
    "            # If reached end or remaining substring is palindrome → no cuts needed\n",
    "            if i == n or is_pal(i, n-1):\n",
    "                return 0\n",
    "\n",
    "            if i in memo:\n",
    "                return memo[i]\n",
    "\n",
    "            min_cuts = float('inf')\n",
    "            for j in range(i, n):\n",
    "                if is_pal(i, j):\n",
    "                    # 1 cut + solve remainder\n",
    "                    min_cuts = min(min_cuts, 1+dfs(j+1))\n",
    "            # store the min cuts this char i in memo\n",
    "            memo[i] = min_cuts\n",
    "            print(memo)\n",
    "            return min_cuts\n",
    "\n",
    "        return dfs(0)\n",
    "Solution().minCut('aab')"
   ]
  },
  {
   "cell_type": "code",
   "execution_count": null,
   "id": "c106c7dc",
   "metadata": {},
   "outputs": [],
   "source": [
    "\n"
   ]
  }
 ],
 "metadata": {
  "kernelspec": {
   "display_name": "Python 3",
   "language": "python",
   "name": "python3"
  },
  "language_info": {
   "codemirror_mode": {
    "name": "ipython",
    "version": 3
   },
   "file_extension": ".py",
   "mimetype": "text/x-python",
   "name": "python",
   "nbconvert_exporter": "python",
   "pygments_lexer": "ipython3",
   "version": "3.11.9"
  }
 },
 "nbformat": 4,
 "nbformat_minor": 5
}
