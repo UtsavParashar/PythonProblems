{
 "cells": [
  {
   "cell_type": "markdown",
   "id": "e5a833c6",
   "metadata": {},
   "source": [
    "#### 91. Decode Ways\n",
    "\n",
    "* https://leetcode.com/problems/decode-ways/description/\n",
    "\n",
    "\n",
    "#### ['J.P. Morgan', 'Goldman Sachs', 'Morgan Stanley', 'Bloomberg', 'Graviton', 'Meta', 'Amazon', 'Apple', 'Uber']\n"
   ]
  },
  {
   "cell_type": "code",
   "execution_count": null,
   "id": "10c9616a",
   "metadata": {},
   "outputs": [
    {
     "data": {
      "text/plain": [
       "1"
      ]
     },
     "execution_count": 4,
     "metadata": {},
     "output_type": "execute_result"
    }
   ],
   "source": [
    "# TC - O(n)\n",
    "# SC - O(1)\n",
    "\n",
    "class Solution:\n",
    "    def numDecodings(self, s: str) -> int:\n",
    "        if not s or s[0] == '0':\n",
    "            return 0\n",
    "        \n",
    "        # prev: dp[i-2], curr: dp[i-1]\n",
    "        # prev is 1 because there is only 1 way to get str with 0 chars\n",
    "        # curr is 1 because there is only 1 way to represent a str with single char\n",
    "        prev, curr = 1, 1\n",
    "\n",
    "        for i in range(1, len(s)):\n",
    "            temp = 0\n",
    "            \n",
    "            # Check single digit\n",
    "            if s[i] != '0':\n",
    "                temp = curr\n",
    "\n",
    "            # Check two digits\n",
    "            if 10<=int(s[i-1: i+1])<=26:\n",
    "                temp += prev\n",
    "\n",
    "            prev, curr = curr, temp\n",
    "\n",
    "        return curr\n",
    "\n",
    "Solution().numDecodings('1203') "
   ]
  },
  {
   "cell_type": "code",
   "execution_count": null,
   "id": "d00acb9f",
   "metadata": {},
   "outputs": [
    {
     "data": {
      "text/plain": [
       "3"
      ]
     },
     "execution_count": 1,
     "metadata": {},
     "output_type": "execute_result"
    }
   ],
   "source": [
    "# if you don't want to convert to str time and again\n",
    "\n",
    "class Solution:\n",
    "    def numDecodings(self, s: str) -> int:\n",
    "        if not s or s[0] == '0':\n",
    "            return 0\n",
    "\n",
    "        prev, curr = 1, 1 \n",
    "        n = len(s)\n",
    "        for i in range(1, n):\n",
    "            temp = 0\n",
    "            one = int(s[i])\n",
    "            two = int(s[i-1:i+1])\n",
    "\n",
    "            if one != 0:\n",
    "                temp += curr\n",
    "\n",
    "            if 10 <= two <= 26:\n",
    "                temp += prev\n",
    "\n",
    "            prev, curr = curr, temp\n",
    "\n",
    "        return curr\n",
    "\n",
    "Solution().numDecodings('226') "
   ]
  },
  {
   "cell_type": "code",
   "execution_count": null,
   "id": "b04a13cb",
   "metadata": {},
   "outputs": [],
   "source": []
  }
 ],
 "metadata": {
  "kernelspec": {
   "display_name": "Python 3",
   "language": "python",
   "name": "python3"
  },
  "language_info": {
   "codemirror_mode": {
    "name": "ipython",
    "version": 3
   },
   "file_extension": ".py",
   "mimetype": "text/x-python",
   "name": "python",
   "nbconvert_exporter": "python",
   "pygments_lexer": "ipython3",
   "version": "3.11.9"
  }
 },
 "nbformat": 4,
 "nbformat_minor": 5
}
