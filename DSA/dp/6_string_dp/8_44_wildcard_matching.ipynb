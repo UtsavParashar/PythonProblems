{
 "cells": [
  {
   "cell_type": "markdown",
   "id": "c2708ddd",
   "metadata": {},
   "source": [
    "### 44. Wildcard Matching\n",
    "* https://leetcode.com/problems/wildcard-matching/description/\n",
    "\n",
    "#### ['Bloomberg', 'Two Sigma', 'Meta', 'Amazon', 'Google', 'Apple', 'Uber']"
   ]
  },
  {
   "cell_type": "code",
   "execution_count": null,
   "id": "cea73bb9",
   "metadata": {},
   "outputs": [],
   "source": [
    "### Optimized Greedy + 2 pointer solution\n",
    "## TC - O(m+n)\n",
    "## SC - O(1)\n",
    "\n",
    "class Solution:\n",
    "    def isMatch(self, s: str, p: str) -> bool:\n",
    "        m, n = len(s), len(p)\n",
    "        i, j = 0, 0\n",
    "        star_idx, match = -1, 0\n",
    "\n",
    "        while i < m:\n",
    "            if j < n and (s[i] == p[j] or p[j] == '?'):\n",
    "                i += 1\n",
    "                j += 1\n",
    "            elif j < n and p[j] == '*':\n",
    "                star_idx = j\n",
    "                match = i\n",
    "                j += 1\n",
    "            elif star_idx != -1:\n",
    "                j = star_idx + 1\n",
    "                match += 1\n",
    "                i = match\n",
    "            else:\n",
    "                return False\n",
    "\n",
    "\n",
    "        while j < n and p[j] == '*':\n",
    "            j += 1\n",
    "\n",
    "        return j == n \n",
    "        "
   ]
  },
  {
   "cell_type": "code",
   "execution_count": null,
   "id": "c4744edf",
   "metadata": {},
   "outputs": [
    {
     "data": {
      "text/plain": [
       "True"
      ]
     },
     "execution_count": 4,
     "metadata": {},
     "output_type": "execute_result"
    }
   ],
   "source": [
    "### Memoization Solution with cache\n",
    "## Ref - https://www.youtube.com/watch?v=ZmlQ3vgAOMo&t=428s\n",
    "# TC - O(m*n)\n",
    "# SC - (m*n)\n",
    "class Solution:\n",
    "    def isMatch(self, s: str, p: str) -> bool:\n",
    "        m, n = len(s), len(p)\n",
    "        cache = {}\n",
    "\n",
    "        def dfs(i, j):\n",
    "            if (i, j) in cache:\n",
    "                return cache[(i, j)]\n",
    "\n",
    "            if j == n:\n",
    "                return i == m\n",
    "\n",
    "            if i == m:\n",
    "                return all(x == '*' for x in p[j:])\n",
    "\n",
    "            if s[i] == p[j] or p[j] == '?':\n",
    "                cache[(i, j)] = dfs(i+1, j+1)\n",
    "                return cache[(i, j)]\n",
    "            elif p[j] == '*':\n",
    "                cache[(i, j)] = dfs(i+1, j) or dfs(i, j+1)\n",
    "                return cache[(i, j)]\n",
    "            else:\n",
    "                return False\n",
    "\n",
    "        return dfs(0, 0)\n",
    "\n",
    "Solution().isMatch(s = \"ab\", p = \"*\")"
   ]
  },
  {
   "cell_type": "code",
   "execution_count": 3,
   "id": "3a062a44",
   "metadata": {},
   "outputs": [
    {
     "data": {
      "text/plain": [
       "True"
      ]
     },
     "execution_count": 3,
     "metadata": {},
     "output_type": "execute_result"
    }
   ],
   "source": [
    "### Memoization Solution with lru cache\n",
    "from functools import lru_cache\n",
    "class Solution:\n",
    "    def isMatch(self, s: str, p: str) -> bool:\n",
    "        m, n = len(s), len(p)\n",
    "        cache = {}\n",
    "\n",
    "        @lru_cache(None)\n",
    "        def dfs(i, j):\n",
    "            if (i, j) in cache:\n",
    "                return cache[(i, j)]\n",
    "\n",
    "            if j == n:\n",
    "                return i == m\n",
    "\n",
    "            if i == m:\n",
    "                return all(x == '*' for x in p[j:])\n",
    "\n",
    "            if s[i] == p[j] or p[j] == '?':\n",
    "                cache[(i, j)] = dfs(i+1, j+1)\n",
    "                return cache[(i, j)]\n",
    "            elif p[j] == '*':\n",
    "                cache[(i, j)] = dfs(i+1, j) or dfs(i, j+1)\n",
    "                return cache[(i, j)]\n",
    "            else:\n",
    "                return False\n",
    "\n",
    "        return dfs(0, 0)\n",
    "\n",
    "Solution().isMatch(s = \"ab\", p = \"*\")"
   ]
  },
  {
   "cell_type": "code",
   "execution_count": null,
   "id": "d38e1bd8",
   "metadata": {},
   "outputs": [],
   "source": []
  }
 ],
 "metadata": {
  "kernelspec": {
   "display_name": "Python 3",
   "language": "python",
   "name": "python3"
  },
  "language_info": {
   "codemirror_mode": {
    "name": "ipython",
    "version": 3
   },
   "file_extension": ".py",
   "mimetype": "text/x-python",
   "name": "python",
   "nbconvert_exporter": "python",
   "pygments_lexer": "ipython3",
   "version": "3.11.9"
  }
 },
 "nbformat": 4,
 "nbformat_minor": 5
}
