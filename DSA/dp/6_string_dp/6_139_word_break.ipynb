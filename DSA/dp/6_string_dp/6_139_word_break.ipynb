{
 "cells": [
  {
   "cell_type": "markdown",
   "id": "ce042288",
   "metadata": {},
   "source": [
    "## 139. Word Break\n",
    "\n",
    "* https://leetcode.com/problems/word-break/description/"
   ]
  },
  {
   "cell_type": "code",
   "execution_count": null,
   "id": "7f575a41",
   "metadata": {},
   "outputs": [
    {
     "data": {
      "text/plain": [
       "False"
      ]
     },
     "execution_count": 4,
     "metadata": {},
     "output_type": "execute_result"
    }
   ],
   "source": [
    "# dp - bottom up solution from ChatGpt\n",
    "# https://chatgpt.com/c/6887187e-86f0-800f-bdd4-090d76361ec4\n",
    "\n",
    "# TC - (n^2)\n",
    "# SC - O(n)\n",
    "\n",
    "class Solution:\n",
    "    def wordBreak(self, s: str, wordDict: list[str]) -> bool:\n",
    "        n = len(s)\n",
    "        word_set = set(wordDict)\n",
    "\n",
    "        dp = [True] + [False]*n\n",
    "        \n",
    "        for i in range(1, n+1):\n",
    "            for j in range(i):\n",
    "                if dp[j] and s[j:i] in word_set:\n",
    "                    dp[i] = True\n",
    "                    break\n",
    "        \n",
    "        return dp[n]\n",
    "\n",
    "Solution().wordBreak('leetcode', wordDict = [\"leet\",\"code\"])\n",
    "Solution().wordBreak(s = \"catsandog\", wordDict = [\"cats\",\"dog\",\"sand\",\"and\",\"cat\"])"
   ]
  },
  {
   "cell_type": "code",
   "execution_count": 5,
   "id": "dfce90e6",
   "metadata": {},
   "outputs": [
    {
     "data": {
      "text/plain": [
       "False"
      ]
     },
     "execution_count": 5,
     "metadata": {},
     "output_type": "execute_result"
    }
   ],
   "source": [
    "# dp - top down solution using Memoization from ChatGpt\n",
    "# https://chatgpt.com/c/6887187e-86f0-800f-bdd4-090d76361ec4\n",
    "\n",
    "# TC - (n^2)\n",
    "# SC - O(n)\n",
    "\n",
    "from functools import lru_cache\n",
    "\n",
    "class Solution:\n",
    "    def wordBreak(self, s: str, wordDict: list[str]) -> bool:\n",
    "        n = len(s)\n",
    "        word_set = set(wordDict)\n",
    "\n",
    "        @lru_cache\n",
    "        def dp(i):\n",
    "            if i == n:\n",
    "                return True\n",
    "\n",
    "            for j in range(1, n+1):\n",
    "                if s[i:j] in word_set and dp(j):\n",
    "                    return True\n",
    "\n",
    "            return False\n",
    "\n",
    "        return dp(0)\n",
    "\n",
    "Solution().wordBreak('leetcode', wordDict = [\"leet\",\"code\"])\n",
    "Solution().wordBreak(s = \"catsandog\", wordDict = [\"cats\",\"dog\",\"sand\",\"and\",\"cat\"])"
   ]
  },
  {
   "cell_type": "code",
   "execution_count": null,
   "id": "7e8deb15",
   "metadata": {},
   "outputs": [],
   "source": []
  }
 ],
 "metadata": {
  "kernelspec": {
   "display_name": "Python 3",
   "language": "python",
   "name": "python3"
  },
  "language_info": {
   "codemirror_mode": {
    "name": "ipython",
    "version": 3
   },
   "file_extension": ".py",
   "mimetype": "text/x-python",
   "name": "python",
   "nbconvert_exporter": "python",
   "pygments_lexer": "ipython3",
   "version": "3.11.9"
  }
 },
 "nbformat": 4,
 "nbformat_minor": 5
}
