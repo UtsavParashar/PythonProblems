{
 "cells": [
  {
   "cell_type": "markdown",
   "id": "8d365dd5",
   "metadata": {},
   "source": [
    "#### 1937. Maximum Number of Points with Cost\n",
    "\n",
    "* https://leetcode.com/problems/maximum-number-of-points-with-cost/description/"
   ]
  },
  {
   "cell_type": "code",
   "execution_count": 4,
   "id": "45e2faca",
   "metadata": {},
   "outputs": [
    {
     "data": {
      "text/plain": [
       "9"
      ]
     },
     "execution_count": 4,
     "metadata": {},
     "output_type": "execute_result"
    }
   ],
   "source": [
    "## Explanation - https://www.youtube.com/watch?v=ik1y7fz8AOc\n",
    "## TC - O(m*n)\n",
    "## SC - O(n)\n",
    "\n",
    "class Solution:\n",
    "    def maxPoints(self, points) -> int:\n",
    "        m, n = len(points), len(points[0])\n",
    "\n",
    "        prev = points[0]\n",
    "\n",
    "        for i in range(1, m):\n",
    "            left = [0]*n\n",
    "            right = [0]*n\n",
    "            curr = [0]*n\n",
    "\n",
    "            left[0] = prev[0]\n",
    "            for j in range(1, n):\n",
    "                left[j] = max(prev[j], left[j-1]-1)\n",
    "            \n",
    "            right[n-1] = prev[n-1]\n",
    "            for j in range(n-2, -1, -1):\n",
    "                right[j] = max(prev[j], right[j+1]-1)\n",
    "\n",
    "            for j in range(n):\n",
    "                curr[j] = points[i][j] + max(left[j], right[j])\n",
    "\n",
    "\n",
    "            prev = curr\n",
    "\n",
    "        return max(prev)\n",
    "        \n",
    "Solution().maxPoints(points = [[1,2,3],[1,5,1],[3,1,1]])"
   ]
  },
  {
   "cell_type": "markdown",
   "id": "5395bc02",
   "metadata": {},
   "source": [
    "## Explanation\n",
    "\n",
    "🧠 Intuition:\n",
    "You want to maximize:\n",
    "dp[i][j] = points[i][j] + max(dp[i-1][k] - abs(j-k))\n",
    "for all k in [0, n-1].\n",
    "\n",
    "Brute-force would take O(m * n^2), which is too slow.\n",
    "\n",
    "Optimization:\n",
    "Use two passes to precompute max transitions for each position j:\n",
    "\n",
    "Left pass: left[j] = max(dp[i-1][j'] - (j - j')) for j’ ≤ j\n",
    "\n",
    "Right pass: right[j] = max(dp[i-1][j'] - (j' - j)) for j’ ≥ j\n",
    "\n",
    "These transitions work because we can reduce the absolute value cost using monotonic movement and past max values."
   ]
  },
  {
   "cell_type": "code",
   "execution_count": null,
   "id": "f434f4bc",
   "metadata": {},
   "outputs": [],
   "source": []
  },
  {
   "cell_type": "code",
   "execution_count": null,
   "id": "0342f51b",
   "metadata": {},
   "outputs": [],
   "source": []
  }
 ],
 "metadata": {
  "kernelspec": {
   "display_name": "Python 3",
   "language": "python",
   "name": "python3"
  },
  "language_info": {
   "codemirror_mode": {
    "name": "ipython",
    "version": 3
   },
   "file_extension": ".py",
   "mimetype": "text/x-python",
   "name": "python",
   "nbconvert_exporter": "python",
   "pygments_lexer": "ipython3",
   "version": "3.11.9"
  }
 },
 "nbformat": 4,
 "nbformat_minor": 5
}
