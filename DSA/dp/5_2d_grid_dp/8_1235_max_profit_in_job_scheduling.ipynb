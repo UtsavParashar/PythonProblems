{
 "cells": [
  {
   "cell_type": "markdown",
   "id": "823c9a05",
   "metadata": {},
   "source": [
    "## 1235. Maximum Profit in Job Scheduling\n",
    "\n",
    "* https://leetcode.com/problems/maximum-profit-in-job-scheduling/description/"
   ]
  },
  {
   "cell_type": "code",
   "execution_count": 1,
   "id": "b949c339",
   "metadata": {},
   "outputs": [
    {
     "data": {
      "text/plain": [
       "150"
      ]
     },
     "execution_count": 1,
     "metadata": {},
     "output_type": "execute_result"
    }
   ],
   "source": [
    "from bisect import bisect_right\n",
    "\n",
    "def jobScheduling(startTime, endTime, profit):\n",
    "    # Step 1: Create sorted list of jobs by end time\n",
    "    jobs = sorted(zip(startTime, endTime, profit), key=lambda x: x[1])\n",
    "\n",
    "    # Step 2: DP array of (endTime, maxProfitUntilNow)\n",
    "    dp = [(0, 0)]  # (end time, max profit)\n",
    "\n",
    "    for s, e, p in jobs:\n",
    "        # Binary search to find latest job that ends <= current start time\n",
    "        i = bisect_right(dp, (s, float('inf'))) - 1\n",
    "\n",
    "        # If we take this job, profit becomes: profit + dp[i][1]\n",
    "        current_profit = dp[i][1] + p\n",
    "\n",
    "        # If current_profit is greater than last stored max profit, update dp\n",
    "        if current_profit > dp[-1][1]:\n",
    "            dp.append((e, current_profit))\n",
    "\n",
    "    return dp[-1][1]\n",
    "\n",
    "jobScheduling(startTime = [1,2,3,4,6], endTime = [3,5,10,6,9], profit = [20,20,100,70,60])"
   ]
  },
  {
   "cell_type": "code",
   "execution_count": null,
   "id": "be3b60d1",
   "metadata": {},
   "outputs": [],
   "source": []
  }
 ],
 "metadata": {
  "kernelspec": {
   "display_name": "Python 3",
   "language": "python",
   "name": "python3"
  },
  "language_info": {
   "codemirror_mode": {
    "name": "ipython",
    "version": 3
   },
   "file_extension": ".py",
   "mimetype": "text/x-python",
   "name": "python",
   "nbconvert_exporter": "python",
   "pygments_lexer": "ipython3",
   "version": "3.11.9"
  }
 },
 "nbformat": 4,
 "nbformat_minor": 5
}
