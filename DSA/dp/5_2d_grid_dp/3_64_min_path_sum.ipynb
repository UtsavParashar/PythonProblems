{
 "cells": [
  {
   "cell_type": "markdown",
   "id": "0eabdebc",
   "metadata": {},
   "source": [
    "#### 64. Minimum Path Sum\n",
    "\n",
    "* https://leetcode.com/problems/minimum-path-sum/description/"
   ]
  },
  {
   "cell_type": "code",
   "execution_count": 6,
   "id": "2621d4c1",
   "metadata": {},
   "outputs": [
    {
     "data": {
      "text/plain": [
       "0"
      ]
     },
     "execution_count": 6,
     "metadata": {},
     "output_type": "execute_result"
    }
   ],
   "source": [
    "class Solution:\n",
    "    def minPathSum(self, grid) -> int:\n",
    "        if not grid or not grid[0]: return 0\n",
    "        m, n = len(grid), len(grid[0])\n",
    "\n",
    "        dp = [float('inf')]*n\n",
    "        dp[0] = 0\n",
    "\n",
    "        for i in range(m):\n",
    "            for j in range(n):\n",
    "                if j == 0:\n",
    "                    dp[j] += grid[i][j]\n",
    "                else:\n",
    "                    dp[j] = grid[i][j] + min(dp[j-1], dp[j])\n",
    "        \n",
    "        return dp[-1]\n",
    "    \n",
    "Solution().minPathSum([[]])"
   ]
  },
  {
   "cell_type": "markdown",
   "id": "2cd49957",
   "metadata": {},
   "source": [
    "🧠 Explanation\n",
    "We're finding the minimum sum path, so we use min(...) logic while traversing.\n",
    "\n",
    "dp[j] represents the minimum path sum to reach cell (i, j) from the top-left corner.\n",
    "\n",
    "For each cell:\n",
    "\n",
    "If in the first column, you can only come from above\n",
    "\n",
    "Else, take the min of dp[j] (from above) and dp[j-1] (from left)\n",
    "\n",
    "We reuse a 1D array dp to save space."
   ]
  },
  {
   "cell_type": "markdown",
   "id": "e2341d82",
   "metadata": {},
   "source": [
    "# Explanation to the interviewer\n",
    "🧠 1. Start with the core idea\n",
    "\"We're asked to find the minimum path sum from the top-left to the bottom-right of a grid, moving only right or down.\n",
    "\n",
    "This is a classic dynamic programming problem — for each cell (i, j), the minimum path sum to reach it is:\n",
    "\n",
    "css\n",
    "Copy\n",
    "Edit\n",
    "grid[i][j] + min(path from top, path from left)\n",
    "🔁 2. Optimization Strategy\n",
    "\"Instead of using a 2D DP table, I use a 1D array dp of size n to store the minimum path sums for the current row. This optimizes space from O(m*n) to O(n).\n",
    "\n",
    "🧱 3. Initialization\n",
    "\"I initialize dp with float('inf') for all columns and set dp[0] = 0. This helps in handling the first row and first column uniformly within the same loop, avoiding special-case code.\"\n",
    "\n",
    "🔄 4. Iterative Update\n",
    "\"Then I iterate through each cell of the grid row by row. For each cell (i, j):\n",
    "\n",
    "If it's in the first column, you can only come from the top → dp[j] += grid[i][j]\n",
    "\n",
    "Otherwise, you take the min of coming from the left (dp[j - 1]) or from above (dp[j]) → dp[j] = grid[i][j] + min(dp[j - 1], dp[j])\"\n",
    "\n",
    "✅ 5. Final Output\n",
    "\"At the end of the last row, dp[-1] holds the minimum path sum to reach the bottom-right corner.\"\n",
    "\n",
    "⏱️ 6. Time and Space Complexity\n",
    "Time: O(m * n) — we visit every cell exactly once.\n",
    "\n",
    "Space: O(n) — we only use a single array of size equal to the number of columns.\n",
    "\n",
    "💡 Bonus Insight (if time permits)\n",
    "\"An alternative approach would be to mutate the grid itself to save space, or even use recursion with memoization if immutability is required.\"\n",
    "\n",
    "🔚 Summary Line\n",
    "\"This solution uses a space-efficient 1D DP array and handles edge conditions (first row/column) gracefully by initializing with inf and updating in a single loop.\""
   ]
  },
  {
   "cell_type": "markdown",
   "id": "bdb98204",
   "metadata": {},
   "source": [
    "## Follow up questions by the interviewer\n",
    "If I were the interviewer for Leetcode 64 – Minimum Path Sum, and the candidate presented the space-optimized 1D DP solution you just shared, I would follow up with questions to test:\n",
    "\n",
    "Edge case awareness\n",
    "\n",
    "Understanding of DP mechanics\n",
    "\n",
    "Tradeoff reasoning\n",
    "\n",
    "Code adaptability\n",
    "\n",
    "Problem extension handling\n",
    "\n",
    "🔎 Edge Cases & Robustness\n",
    "1. Q: What happens if the grid is empty or has only one row or one column?\n",
    "\n",
    "Intent: Test for input validation and handling degenerate cases.\n",
    "\n",
    "Expected Response:\n",
    "\n",
    "I’d check for an empty grid with if not grid or not grid[0] and return 0 or raise an exception.\n",
    "For single row/column, the logic still holds — the minimum path is the sum of all elements in that row/column.\n",
    "\n",
    "🧠 Understanding DP\n",
    "2. Q: Why did you initialize dp with float('inf') and not zeros?\n",
    "\n",
    "Intent: Check whether the candidate understands the impact of initialization.\n",
    "\n",
    "Expected Response:\n",
    "\n",
    "Using float('inf') ensures that the min(dp[j - 1], dp[j]) expression works correctly, especially in the first row.\n",
    "It avoids mistakenly treating uninitialized values as valid 0s.\n",
    "\n",
    "3. Q: Why is dp[0] = 0 instead of setting it to grid[0][0]?\n",
    "\n",
    "Intent: Confirm the logic of cumulative updates.\n",
    "\n",
    "Expected Response:\n",
    "\n",
    "Setting dp[0] = 0 allows the first update (dp[0] += grid[i][j]) to behave as if dp[0] were initialized with the grid value directly.\n",
    "It simplifies the first iteration, especially when handling the top-left corner.\n",
    "\n",
    "📉 Tradeoff & Alternative Designs\n",
    "4. Q: Would you prefer this solution or a 2D DP approach in production code?\n",
    "\n",
    "Intent: Assess tradeoff analysis and communication.\n",
    "\n",
    "Expected Response:\n",
    "\n",
    "This solution is space-efficient (O(n)), but a 2D DP table can make the code more readable and less error-prone in some contexts.\n",
    "In performance-critical code or when m is large, I’d prefer the 1D version.\n",
    "\n",
    "🔄 Adaptability & Extension\n",
    "5. Q: How would you change your code if diagonal moves were allowed?\n",
    "\n",
    "Intent: Test generalization ability.\n",
    "\n",
    "Expected Response:\n",
    "\n",
    "I’d need to consider grid[i-1][j-1] as an additional option in the min calculation.\n",
    "So for j > 0, I’d change the update to:\n",
    "\n",
    "python\n",
    "Copy\n",
    "Edit\n",
    "dp[j] = grid[i][j] + min(dp[j], dp[j - 1], dp_diag)\n",
    "Where dp_diag tracks the previous row's dp[j - 1].\n",
    "\n",
    "🧪 Testing Mindset\n",
    "6. Q: What test cases would you write to validate your solution?\n",
    "\n",
    "Intent: Test thoroughness in testing.\n",
    "\n",
    "Expected Response:\n",
    "\n",
    "I’d write tests for:\n",
    "\n",
    "A 1x1 grid (smallest input)\n",
    "\n",
    "Single row and single column grids\n",
    "\n",
    "Grid with all values equal\n",
    "\n",
    "Grid with increasing/decreasing values\n",
    "\n",
    "Grid with high values along one path and low values along another\n",
    "\n",
    "🔁 Performance\n",
    "7. Q: How does your solution scale for a 10,000 x 10,000 grid?\n",
    "\n",
    "Intent: Assess scalability and awareness of limits.\n",
    "\n",
    "Expected Response:\n",
    "\n",
    "The current implementation is efficient — O(n) space and O(m*n) time, so it should handle large grids well.\n",
    "Python recursion wouldn’t scale here, but this iterative approach is well suited."
   ]
  },
  {
   "cell_type": "markdown",
   "id": "27fe9171",
   "metadata": {},
   "source": [
    "## Updated Python Code (Space-Optimized with Diagonal Moves):"
   ]
  },
  {
   "cell_type": "code",
   "execution_count": 7,
   "id": "2d587928",
   "metadata": {},
   "outputs": [],
   "source": [
    "class Solution:\n",
    "    def minPathSum(self, grid) -> int:\n",
    "        m, n = len(grid), len(grid[0])\n",
    "        prev = [float('inf')] * n\n",
    "        \n",
    "        for i in range(m):\n",
    "            curr = [float('inf')] * n\n",
    "            for j in range(n):\n",
    "                if i == 0 and j == 0:\n",
    "                    curr[j] = grid[i][j]\n",
    "                else:\n",
    "                    up = prev[j] if i > 0 else float('inf')\n",
    "                    left = curr[j - 1] if j > 0 else float('inf')\n",
    "                    diag = prev[j - 1] if i > 0 and j > 0 else float('inf')\n",
    "                    curr[j] = grid[i][j] + min(up, left, diag)\n",
    "            prev = curr\n",
    "        \n",
    "        return prev[-1]"
   ]
  },
  {
   "cell_type": "markdown",
   "id": "5b76d962",
   "metadata": {},
   "source": []
  },
  {
   "cell_type": "markdown",
   "id": "fdb133ee",
   "metadata": {},
   "source": []
  },
  {
   "cell_type": "code",
   "execution_count": 15,
   "id": "ef2fb3cf",
   "metadata": {},
   "outputs": [],
   "source": [
    "## Credit - https://www.youtube.com/watch?v=pGMsrvt0fpk\n",
    "## Bottom Up Tabulation\n",
    "## TC - O(m*n)\n",
    "## SC - O(m*n)\n",
    "\n",
    "def min_path_sum(grid: list[list[int]]) -> int:\n",
    "    rows, columns = len(grid), len(grid[0])\n",
    "\n",
    "    res = [[float('inf')]*(columns+1) for _ in range(rows+1)]\n",
    "    res[rows-1][columns] = 0\n",
    "    #print(res)\n",
    "\n",
    "    for r in range(rows-1, -1, -1):\n",
    "        for c in range(columns-1, -1, -1):\n",
    "            res[r][c] = grid[r][c] + min(res[r+1][c], res[r][c+1])\n",
    "        #print(res)\n",
    "    return res[0][0]\n",
    "\n"
   ]
  },
  {
   "cell_type": "code",
   "execution_count": 16,
   "id": "ccd3bdc0",
   "metadata": {},
   "outputs": [
    {
     "data": {
      "text/plain": [
       "7"
      ]
     },
     "execution_count": 16,
     "metadata": {},
     "output_type": "execute_result"
    }
   ],
   "source": [
    "min_path_sum(grid = [[1,3,1],[1,5,1],[4,2,1]])"
   ]
  },
  {
   "cell_type": "code",
   "execution_count": 23,
   "id": "3b9d2805",
   "metadata": {},
   "outputs": [],
   "source": [
    "## Credit - https://www.youtube.com/watch?v=pGMsrvt0fpk\n",
    "## Bottom Up Tabulation\n",
    "## TC - O(m*n)\n",
    "## SC - O(n)\n",
    "\n",
    "def min_path_sum(grid: list[list[int]]) -> int:\n",
    "    rows, columns = len(grid), len(grid[0])\n",
    "\n",
    "    # Use a single array for space optimization\n",
    "    res = [float('inf')] * (columns + 1)\n",
    "    res[columns - 1] = 0\n",
    "    #print(res)\n",
    "\n",
    "    for r in range(rows - 1, -1, -1):\n",
    "        for c in range(columns - 1, -1, -1):\n",
    "            res[c] = grid[r][c] + min(res[c], res[c + 1])\n",
    "        #print(res)\n",
    "    return res[0]\n"
   ]
  },
  {
   "cell_type": "code",
   "execution_count": 24,
   "id": "f7b4c39d",
   "metadata": {},
   "outputs": [
    {
     "data": {
      "text/plain": [
       "7"
      ]
     },
     "execution_count": 24,
     "metadata": {},
     "output_type": "execute_result"
    }
   ],
   "source": [
    "min_path_sum(grid = [[1,3,1],[1,5,1],[4,2,1]])"
   ]
  },
  {
   "cell_type": "code",
   "execution_count": null,
   "id": "71a1e2e2",
   "metadata": {},
   "outputs": [],
   "source": []
  }
 ],
 "metadata": {
  "kernelspec": {
   "display_name": "Python 3",
   "language": "python",
   "name": "python3"
  },
  "language_info": {
   "codemirror_mode": {
    "name": "ipython",
    "version": 3
   },
   "file_extension": ".py",
   "mimetype": "text/x-python",
   "name": "python",
   "nbconvert_exporter": "python",
   "pygments_lexer": "ipython3",
   "version": "3.11.9"
  }
 },
 "nbformat": 4,
 "nbformat_minor": 5
}
