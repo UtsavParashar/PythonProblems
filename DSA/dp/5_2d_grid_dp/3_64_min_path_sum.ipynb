{
 "cells": [
  {
   "cell_type": "markdown",
   "id": "0eabdebc",
   "metadata": {},
   "source": [
    "#### 64. Minimum Path Sum\n",
    "\n",
    "* https://leetcode.com/problems/minimum-path-sum/description/"
   ]
  },
  {
   "cell_type": "code",
   "execution_count": 15,
   "id": "ef2fb3cf",
   "metadata": {},
   "outputs": [],
   "source": [
    "## Credit - https://www.youtube.com/watch?v=pGMsrvt0fpk\n",
    "## Bottom Up Tabulation\n",
    "## TC - O(m*n)\n",
    "## SC - O(m*n)\n",
    "\n",
    "def min_path_sum(grid: list[list[int]]) -> int:\n",
    "    rows, columns = len(grid), len(grid[0])\n",
    "\n",
    "    res = [[float('inf')]*(columns+1) for _ in range(rows+1)]\n",
    "    res[rows-1][columns] = 0\n",
    "    #print(res)\n",
    "\n",
    "    for r in range(rows-1, -1, -1):\n",
    "        for c in range(columns-1, -1, -1):\n",
    "            res[r][c] = grid[r][c] + min(res[r+1][c], res[r][c+1])\n",
    "        #print(res)\n",
    "    return res[0][0]\n",
    "\n"
   ]
  },
  {
   "cell_type": "code",
   "execution_count": 16,
   "id": "ccd3bdc0",
   "metadata": {},
   "outputs": [
    {
     "data": {
      "text/plain": [
       "7"
      ]
     },
     "execution_count": 16,
     "metadata": {},
     "output_type": "execute_result"
    }
   ],
   "source": [
    "min_path_sum(grid = [[1,3,1],[1,5,1],[4,2,1]])"
   ]
  },
  {
   "cell_type": "code",
   "execution_count": 23,
   "id": "3b9d2805",
   "metadata": {},
   "outputs": [],
   "source": [
    "## Credit - https://www.youtube.com/watch?v=pGMsrvt0fpk\n",
    "## Bottom Up Tabulation\n",
    "## TC - O(m*n)\n",
    "## SC - O(n)\n",
    "\n",
    "def min_path_sum(grid: list[list[int]]) -> int:\n",
    "    rows, columns = len(grid), len(grid[0])\n",
    "\n",
    "    # Use a single array for space optimization\n",
    "    res = [float('inf')] * (columns + 1)\n",
    "    res[columns - 1] = 0\n",
    "    #print(res)\n",
    "\n",
    "    for r in range(rows - 1, -1, -1):\n",
    "        for c in range(columns - 1, -1, -1):\n",
    "            res[c] = grid[r][c] + min(res[c], res[c + 1])\n",
    "        #print(res)\n",
    "    return res[0]\n"
   ]
  },
  {
   "cell_type": "code",
   "execution_count": 24,
   "id": "f7b4c39d",
   "metadata": {},
   "outputs": [
    {
     "data": {
      "text/plain": [
       "7"
      ]
     },
     "execution_count": 24,
     "metadata": {},
     "output_type": "execute_result"
    }
   ],
   "source": [
    "min_path_sum(grid = [[1,3,1],[1,5,1],[4,2,1]])"
   ]
  },
  {
   "cell_type": "code",
   "execution_count": null,
   "id": "71a1e2e2",
   "metadata": {},
   "outputs": [],
   "source": []
  }
 ],
 "metadata": {
  "kernelspec": {
   "display_name": "Python 3",
   "language": "python",
   "name": "python3"
  },
  "language_info": {
   "codemirror_mode": {
    "name": "ipython",
    "version": 3
   },
   "file_extension": ".py",
   "mimetype": "text/x-python",
   "name": "python",
   "nbconvert_exporter": "python",
   "pygments_lexer": "ipython3",
   "version": "3.11.9"
  }
 },
 "nbformat": 4,
 "nbformat_minor": 5
}
