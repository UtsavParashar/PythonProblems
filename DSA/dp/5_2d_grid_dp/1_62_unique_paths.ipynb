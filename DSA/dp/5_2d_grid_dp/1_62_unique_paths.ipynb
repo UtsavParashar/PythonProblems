{
 "cells": [
  {
   "cell_type": "markdown",
   "id": "81bed67d",
   "metadata": {},
   "source": [
    "#### 62. Unique Paths\n",
    "\n",
    "* https://leetcode.com/problems/unique-paths/description/\n"
   ]
  },
  {
   "cell_type": "code",
   "execution_count": null,
   "id": "8048a091",
   "metadata": {},
   "outputs": [
    {
     "data": {
      "text/plain": [
       "28"
      ]
     },
     "execution_count": 1,
     "metadata": {},
     "output_type": "execute_result"
    }
   ],
   "source": [
    "## Tabulation - Bottom Up using 1D dp\n",
    "# TC - O(m*n)\n",
    "# SC - O(n)\n",
    "\n",
    "class Solution:\n",
    "    def uniquePaths(self, m: int, n: int) -> int:\n",
    "        dp = [1]*n\n",
    "\n",
    "        for _ in range(1, m):\n",
    "            for c in range(1, n):\n",
    "                dp[c] += dp[c-1]\n",
    "        \n",
    "        return dp[-1]\n",
    "\n",
    "Solution().uniquePaths(3, 7)"
   ]
  },
  {
   "cell_type": "markdown",
   "id": "b56186d0",
   "metadata": {},
   "source": [
    "#### Key Insight:\n",
    "You only need the current row and the previous row’s data. Since each cell only depends on the left and top, we can optimize space using just 1D array.\n",
    "\n",
    "dp[j] keeps track of the number of ways to reach cell (i, j) in the grid.\n",
    "\n",
    "Update the array row by row:\n",
    "\n",
    "dp[j] = dp[j] + dp[j - 1]\n",
    "\n",
    "dp[j]: number of ways from the cell above (same column)\n",
    "\n",
    "dp[j - 1]: number of ways from the cell to the left"
   ]
  },
  {
   "cell_type": "markdown",
   "id": "eec5909d",
   "metadata": {},
   "source": [
    "✅ Step-by-Step Interview Explanation\n",
    "Interviewer: \"How would you solve the problem of counting unique paths in an m x n grid, where you can only move right or down?\"\n",
    "\n",
    "🧩 1. Brute Force / Recursive Intuition (Just to Show Thought Process)\n",
    "First, I’d note that the number of paths to reach any cell (i, j) is the sum of the number of ways to reach the cell above it (i-1, j) and the cell to its left (i, j-1).\n",
    "\n",
    "This leads naturally to a recursive solution, but it has exponential time complexity due to overlapping subproblems.\n",
    "\n",
    "🧠 2. Use Dynamic Programming to Avoid Redundant Work\n",
    "Since the problem has optimal substructure and overlapping subproblems, I’d use dynamic programming.\n",
    "\n",
    "I can use a 2D dp table where dp[i][j] = number of unique paths to cell (i, j).\n",
    "\n",
    "Base case: The first row and column can only be reached one way — all rights or all downs.\n",
    "\n",
    "But this uses O(m*n) space.\n",
    "\n",
    "🚀 3. Optimize Space to O(n)\n",
    "Since we only need values from the current row and the previous row, we can reduce space to just one 1D array of size n.\n",
    "\n",
    "Initialize it with 1s: all cells in the first row have only one path.\n",
    "\n",
    "Then iterate row by row, updating each cell as:\n",
    "\n",
    "python\n",
    "Copy\n",
    "Edit\n",
    "dp[j] = dp[j] + dp[j - 1]\n",
    "dp[j]: ways from the cell above\n",
    "\n",
    "dp[j - 1]: ways from the left cell\n",
    "\n",
    "This gives us the final result in O(m*n) time and O(n) space.\n",
    "\n",
    "💡 Real Example\n",
    "For a 3x3 grid:\n",
    "\n",
    "After processing the second row: dp = [1, 2, 3]\n",
    "\n",
    "After processing the third row: dp = [1, 3, 6]\n",
    "\n",
    "So, 6 unique paths to the bottom-right corner.\n",
    "\n",
    "⏱️ Complexity\n",
    "Time: O(m*n) for full grid traversal\n",
    "\n",
    "Space: O(n) for optimized DP\n",
    "\n",
    "👇 Bonus (if time permits)\n",
    "There’s also a combinatorics approach:\n",
    "\n",
    "To reach the bottom-right corner, we make exactly m-1 down moves and n-1 right moves → total of m+n-2 moves.\n",
    "\n",
    "So, the number of unique paths is:\n",
    "\n",
    "\\text{C}(m+n-2, m-1) = \\frac{(m+n-2)!}{(m-1)!(n-1)!}\n",
    "]\n",
    "\n",
    "This is even more optimized but requires care with integer overflows and factorials in code.\n",
    "\n",
    "🔚 Closing\n",
    "So, I’d go with the 1D dynamic programming approach in an interview — it’s clean, efficient, and easy to implement."
   ]
  },
  {
   "cell_type": "code",
   "execution_count": 1,
   "id": "196277fb",
   "metadata": {},
   "outputs": [],
   "source": [
    "# Credit - http://youtube.com/watch?v=3ZFvBlynmls\n",
    "\n",
    "## Recursive Solution\n",
    "## Time: O(2^(m*n))\n",
    "## Space: O(m*n)\n",
    "def brute_force_recursion(m, n):\n",
    "\n",
    "    def paths(i, j):\n",
    "        if i == j == 0: # base case - start of the grid\n",
    "            return 1 \n",
    "        elif i < 0 or j < 0 or i == m or j == n: # row and column on the edge\n",
    "            return 0\n",
    "        else:\n",
    "            return paths(i, j-1) + paths(i-1, j)\n",
    "\n",
    "    return paths(m-1, n-1)\n"
   ]
  },
  {
   "cell_type": "code",
   "execution_count": 2,
   "id": "7ed5d078",
   "metadata": {},
   "outputs": [
    {
     "data": {
      "text/plain": [
       "28"
      ]
     },
     "execution_count": 2,
     "metadata": {},
     "output_type": "execute_result"
    }
   ],
   "source": [
    "brute_force_recursion(3, 7)"
   ]
  },
  {
   "cell_type": "code",
   "execution_count": 4,
   "id": "04bf2edd",
   "metadata": {},
   "outputs": [],
   "source": [
    "## Memoization(Top Down Dp) Solution\n",
    "## Time: O(m*n)\n",
    "## Space: O(m*n)\n",
    "def memoization(m, n):\n",
    "\n",
    "    memo = {(0,0): 1}\n",
    "    def paths(i, j):\n",
    "        if (i, j) in memo: # base case - start of the grid\n",
    "            return memo[(i, j)] \n",
    "        elif i < 0 or j < 0 or i == m or j == n: # row and column on the edge\n",
    "            return 0\n",
    "        else:\n",
    "            val = paths(i, j-1) + paths(i-1, j)\n",
    "            memo[(i, j)] = val\n",
    "            return val\n",
    "\n",
    "    return paths(m-1, n-1)"
   ]
  },
  {
   "cell_type": "code",
   "execution_count": 5,
   "id": "7c11f4e8",
   "metadata": {},
   "outputs": [
    {
     "data": {
      "text/plain": [
       "28"
      ]
     },
     "execution_count": 5,
     "metadata": {},
     "output_type": "execute_result"
    }
   ],
   "source": [
    "memoization(3, 7)"
   ]
  },
  {
   "cell_type": "code",
   "execution_count": 14,
   "id": "de184566",
   "metadata": {},
   "outputs": [],
   "source": [
    "## Tabulation(Bottom Up Dp) Solution\n",
    "## Time: O(m*n)\n",
    "## Space: O(m*n)\n",
    "def tablation(m, n):\n",
    "    dp = [[0]*n for _ in range(m)]\n",
    "    dp[0][0] = 1 # base case\n",
    "\n",
    "    for i in range(m):\n",
    "        for j in range(n):\n",
    "            if i==j==0:\n",
    "                continue # already placed 1\n",
    "            val = 0\n",
    "            if i > 0:\n",
    "                val += dp[i-1][j]\n",
    "            if j > 0:\n",
    "                val += dp[i][j-1]\n",
    "            \n",
    "            dp[i][j] = val\n",
    "    \n",
    "    return dp[m-1][n-1]\n",
    "            \n"
   ]
  },
  {
   "cell_type": "code",
   "execution_count": 12,
   "id": "e09444f5",
   "metadata": {},
   "outputs": [
    {
     "data": {
      "text/plain": [
       "28"
      ]
     },
     "execution_count": 12,
     "metadata": {},
     "output_type": "execute_result"
    }
   ],
   "source": [
    "tablation(3,7)"
   ]
  },
  {
   "cell_type": "markdown",
   "id": "72a43d84",
   "metadata": {},
   "source": [
    "### Explanation of Conditions in Tabulation Method\n",
    "\n",
    "1. **Purpose of `if i > 0` and `if j > 0` conditions:**\n",
    "   - These conditions ensure that we do not access indices outside the grid boundaries.\n",
    "   - `if i > 0`: Checks if there is a cell above the current cell. If true, it adds the value from the cell above to the current cell.\n",
    "   - `if j > 0`: Checks if there is a cell to the left of the current cell. If true, it adds the value from the cell to the left to the current cell.\n",
    "\n",
    "2. **Why return `dp[m-1][n-1]`:**\n",
    "   - `dp[m-1][n-1]` represents the bottom-right corner of the grid, which is the destination.\n",
    "   - The value at `dp[m-1][n-1]` contains the total number of unique paths from the top-left corner (start) to the bottom-right corner (end)."
   ]
  },
  {
   "cell_type": "code",
   "execution_count": 4,
   "id": "ce6eb714",
   "metadata": {},
   "outputs": [],
   "source": [
    "def tablation(m, n):\n",
    "    dp = [0] * n\n",
    "    dp[0] = 1  # base case\n",
    "\n",
    "    for _ in range(m):\n",
    "        for c in range(1, n): # c is column\n",
    "            dp[c] += dp[c-1]\n",
    "        print(dp[c], dp[c-1], dp)\n",
    "\n",
    "    \n",
    "    return dp[-1]\n"
   ]
  },
  {
   "cell_type": "code",
   "execution_count": 5,
   "id": "e0adaf82",
   "metadata": {},
   "outputs": [
    {
     "name": "stdout",
     "output_type": "stream",
     "text": [
      "1 1 [1, 1, 1, 1, 1, 1, 1]\n",
      "7 6 [1, 2, 3, 4, 5, 6, 7]\n",
      "28 21 [1, 3, 6, 10, 15, 21, 28]\n"
     ]
    },
    {
     "data": {
      "text/plain": [
       "28"
      ]
     },
     "execution_count": 5,
     "metadata": {},
     "output_type": "execute_result"
    }
   ],
   "source": [
    "tablation(3,7)"
   ]
  },
  {
   "cell_type": "markdown",
   "id": "09cfc5b1",
   "metadata": {},
   "source": [
    "This loop simulates moving through the grid row by row.\n",
    "\n",
    "Outer loop runs m times — for each row.\n",
    "\n",
    "Inner loop updates each cell in the row using the idea:\n",
    "\n",
    "To reach cell (i, j), you can either come from the left (i, j-1) or from the top (i-1, j).\n",
    "\n",
    "Since we're using 1D dp, each dp[j] stores the number of ways to reach (current_row, j).\n",
    "\n",
    "The key update:\n",
    "\n",
    "dp[j] += dp[j-1]\n",
    "This means:\n",
    "New value of dp[j] = ways to come from top (old dp[j]) + ways to come from left (dp[j-1])"
   ]
  },
  {
   "cell_type": "code",
   "execution_count": null,
   "id": "694810ee",
   "metadata": {},
   "outputs": [],
   "source": []
  }
 ],
 "metadata": {
  "kernelspec": {
   "display_name": "Python 3",
   "language": "python",
   "name": "python3"
  },
  "language_info": {
   "codemirror_mode": {
    "name": "ipython",
    "version": 3
   },
   "file_extension": ".py",
   "mimetype": "text/x-python",
   "name": "python",
   "nbconvert_exporter": "python",
   "pygments_lexer": "ipython3",
   "version": "3.11.9"
  }
 },
 "nbformat": 4,
 "nbformat_minor": 5
}
