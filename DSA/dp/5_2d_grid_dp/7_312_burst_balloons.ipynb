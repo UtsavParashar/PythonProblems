{
 "cells": [
  {
   "cell_type": "markdown",
   "id": "09816cb1",
   "metadata": {},
   "source": [
    "#### 312. Burst Balloons\n",
    "\n",
    "* https://leetcode.com/problems/burst-balloons/"
   ]
  },
  {
   "cell_type": "code",
   "execution_count": null,
   "id": "c47e04e5",
   "metadata": {},
   "outputs": [
    {
     "data": {
      "text/plain": [
       "167"
      ]
     },
     "execution_count": 1,
     "metadata": {},
     "output_type": "execute_result"
    }
   ],
   "source": [
    "from functools import lru_cache\n",
    "\n",
    "class Solution:\n",
    "    def maxCoins(self, nums) -> int:\n",
    "        nums = [1] + nums + [1] # Add virtual balloons with value 1 at both ends\n",
    "        n = len(nums)\n",
    "\n",
    "        @lru_cache(None)\n",
    "        def dfs(l ,r):\n",
    "            if l+1 == r: # No balloon between left and right\n",
    "                return 0\n",
    "\n",
    "            max_coins = 0\n",
    "            for i in range(l+1, r): # one at the left is avoided\n",
    "                coins = nums[l] * nums[i] * nums[r] # burst i last\n",
    "                coins += dfs(l, i) + dfs(i, r) # burst remaining\n",
    "                max_coins = max(max_coins, coins)\n",
    "            \n",
    "            return max_coins\n",
    " \n",
    "        return dfs(0, n-1) # 1 at the right is avoided\n",
    "\n",
    "Solution().maxCoins([3,1,5,8])"
   ]
  },
  {
   "cell_type": "markdown",
   "id": "2fb6b6c7",
   "metadata": {},
   "source": [
    "🧠 Explanation:\n",
    "Add 1 at the start and end of the array to handle edge balloons gracefully.\n",
    "\n",
    "Use dp(left, right) to represent the maximum coins obtainable from bursting balloons between indices left and right exclusive.\n",
    "\n",
    "For each possible last balloon to burst in the range (left, right), compute:\n",
    "\n",
    "Coins earned from bursting it: nums[left] * nums[i] * nums[right]\n",
    "\n",
    "Plus coins from solving the subproblems: dp(left, i) and dp(i, right)\n",
    "\n",
    "Memoize results with lru_cache to avoid recomputation (top-down DP)."
   ]
  },
  {
   "cell_type": "code",
   "execution_count": null,
   "id": "3c4bde99",
   "metadata": {},
   "outputs": [],
   "source": []
  }
 ],
 "metadata": {
  "kernelspec": {
   "display_name": "Python 3",
   "language": "python",
   "name": "python3"
  },
  "language_info": {
   "codemirror_mode": {
    "name": "ipython",
    "version": 3
   },
   "file_extension": ".py",
   "mimetype": "text/x-python",
   "name": "python",
   "nbconvert_exporter": "python",
   "pygments_lexer": "ipython3",
   "version": "3.11.9"
  }
 },
 "nbformat": 4,
 "nbformat_minor": 5
}
