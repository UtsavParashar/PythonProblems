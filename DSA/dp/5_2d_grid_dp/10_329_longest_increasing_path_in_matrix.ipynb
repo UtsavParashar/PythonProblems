{
 "cells": [
  {
   "cell_type": "markdown",
   "id": "a944b262",
   "metadata": {},
   "source": [
    "#### 329. Longest Increasing Path in a Matrix\n",
    "\n",
    "* https://leetcode.com/problems/longest-increasing-path-in-a-matrix/description/"
   ]
  },
  {
   "cell_type": "code",
   "execution_count": 1,
   "id": "0fbc578c",
   "metadata": {},
   "outputs": [],
   "source": [
    "## Explanation - https://www.youtube.com/watch?v=wCc_nd-GiEc\n",
    "## Solution - https://chatgpt.com/c/68807ab7-d0e0-800f-8bf1-9bcbfe7b4c91\n",
    "\n",
    "class Solution:\n",
    "    def longestIncreasingPath(self, matrix: list[list[int]]) -> int:\n",
    "        rows, cols = len(matrix), len(matrix[0])\n",
    "\n",
    "        dp = [[0]*cols for _ in range(rows)]\n",
    "\n",
    "        dirs = [(-1, 0),(1, 0),(0, -1),(0, 1)]\n",
    "        def dfs(r, c):\n",
    "            if dp[r][c] != 0:\n",
    "                return dp[r][c]\n",
    "\n",
    "            max_len = 1 \n",
    "            for dr, dc in dirs:\n",
    "                nr, nc = dr+r, dc+c\n",
    "                if 0<=nr<rows and 0<=nc<cols and matrix[nr][nc] > matrix[r][c]:\n",
    "                    max_len = max(max_len, 1+dfs(nr, nc))\n",
    "            dp[r][c] = max_len\n",
    "            return dp[r][c]\n",
    "\n",
    "        return max(dfs(r, c) for r in range(rows) for c in range(cols))"
   ]
  },
  {
   "cell_type": "code",
   "execution_count": null,
   "id": "ad3590be",
   "metadata": {},
   "outputs": [],
   "source": []
  }
 ],
 "metadata": {
  "kernelspec": {
   "display_name": "Python 3",
   "language": "python",
   "name": "python3"
  },
  "language_info": {
   "codemirror_mode": {
    "name": "ipython",
    "version": 3
   },
   "file_extension": ".py",
   "mimetype": "text/x-python",
   "name": "python",
   "nbconvert_exporter": "python",
   "pygments_lexer": "ipython3",
   "version": "3.11.9"
  }
 },
 "nbformat": 4,
 "nbformat_minor": 5
}
