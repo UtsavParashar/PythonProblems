{
 "cells": [
  {
   "cell_type": "markdown",
   "id": "0f40a1bf",
   "metadata": {},
   "source": [
    "#### 1277. Count Square Submatrices with All Ones\n",
    "* https://leetcode.com/problems/count-square-submatrices-with-all-ones/description/"
   ]
  },
  {
   "cell_type": "code",
   "execution_count": null,
   "id": "0eca78cd",
   "metadata": {},
   "outputs": [
    {
     "data": {
      "text/plain": [
       "15"
      ]
     },
     "execution_count": 1,
     "metadata": {},
     "output_type": "execute_result"
    }
   ],
   "source": [
    "# TC - O(m*n)\n",
    "# SC - O(1)\n",
    "# For explanation - https://www.youtube.com/watch?v=5Li-cR5h_uw\n",
    "\n",
    "# Logic - \n",
    "# if an element is 1, it's a 1*1 square\n",
    "# if an element is 1, it's left,up and left diagonal up min val tells if it could be a perfect 2*2 or n*n square\n",
    "\n",
    "class Solution:\n",
    "    def countSquares(self, matrix) -> int:\n",
    "        rows, cols = len(matrix), len(matrix[0])\n",
    "\n",
    "        res = 0\n",
    "\n",
    "        for i in range(rows):\n",
    "            for j in range(cols):\n",
    "                if matrix[i][j] == 1:\n",
    "                    if i>0 and j>0:\n",
    "                        matrix[i][j] += min(\n",
    "                            matrix[i-1][j],\n",
    "                            matrix[i][j-1],\n",
    "                            matrix[i-1][j-1]\n",
    "                        ) \n",
    "                    res += matrix[i][j]\n",
    "        return res\n",
    "\n",
    "Solution().countSquares([[0,1,1,1],[1,1,1,1],[0,1,1,1]])"
   ]
  },
  {
   "cell_type": "markdown",
   "id": "870c743a",
   "metadata": {},
   "source": [
    "#### Explanation\n",
    "\n",
    "✅ Key Idea:\n",
    "We use Dynamic Programming to compute the size of the largest square ending at each cell.\n",
    "\n",
    "Let dp[i][j] be the side length of the largest square ending at cell (i, j).\n",
    "\n",
    "If matrix[i][j] == 1, then:\n",
    "\n",
    "lua\n",
    "Copy\n",
    "Edit\n",
    "dp[i][j] = 1 + min(dp[i-1][j], dp[i][j-1], dp[i-1][j-1])\n",
    "Why? Because to form a square ending at (i,j), we need:\n",
    "\n",
    "A square ending at the top, left, and top-left cells of at least length 1.\n",
    "\n",
    "We sum up all values in dp to get the total number of square submatrices."
   ]
  },
  {
   "cell_type": "code",
   "execution_count": null,
   "id": "0dde1010",
   "metadata": {},
   "outputs": [],
   "source": []
  }
 ],
 "metadata": {
  "kernelspec": {
   "display_name": "Python 3",
   "language": "python",
   "name": "python3"
  },
  "language_info": {
   "codemirror_mode": {
    "name": "ipython",
    "version": 3
   },
   "file_extension": ".py",
   "mimetype": "text/x-python",
   "name": "python",
   "nbconvert_exporter": "python",
   "pygments_lexer": "ipython3",
   "version": "3.11.9"
  }
 },
 "nbformat": 4,
 "nbformat_minor": 5
}
