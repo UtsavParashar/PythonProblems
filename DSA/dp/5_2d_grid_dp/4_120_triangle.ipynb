{
 "cells": [
  {
   "cell_type": "markdown",
   "id": "0788717f",
   "metadata": {},
   "source": [
    "### 120. Triangle\n",
    "* https://leetcode.com/problems/triangle/description/"
   ]
  },
  {
   "cell_type": "code",
   "execution_count": null,
   "id": "fd6d12d3",
   "metadata": {},
   "outputs": [
    {
     "data": {
      "text/plain": [
       "11"
      ]
     },
     "execution_count": 2,
     "metadata": {},
     "output_type": "execute_result"
    }
   ],
   "source": [
    "# TC - O(n^2)\n",
    "# SC - O(n)\n",
    "# IF this solution does not look intuitive, then this explanation and code is good - https://www.youtube.com/watch?v=OM1MTokvxs4\n",
    "# Logic -\n",
    "# Assign last row if the triange to dp\n",
    "# from last second row\n",
    "# for each val in the row, add it to the min of dp[i] and dp[i+1]\n",
    "# to get the min path\n",
    "\n",
    "class Solution:\n",
    "    def minimumTotal(self, triangle: list[list[int]]) -> int:\n",
    "        dp = triangle[-1][:]  # Start with the last row\n",
    "\n",
    "        for row in reversed(triangle[:-1]):  # Start from second last row\n",
    "            for j, val in enumerate(row):\n",
    "                dp[j] = val + min(dp[j], dp[j+1])\n",
    "        \n",
    "        return dp[0]\n",
    "    \n",
    "Solution().minimumTotal([[2],[3,4],[6,5,7],[4,1,8,3]])"
   ]
  },
  {
   "cell_type": "markdown",
   "id": "76603af9",
   "metadata": {},
   "source": [
    "### Explanation - \n",
    "Start from the bottom row of the triangle and move upwards.\n",
    "At each cell (i, j), update the minimum path sum as:\n",
    "dp[j]=triangle[i][j]+min(dp[j],dp[j+1])\n",
    "Only a 1D array (dp) is needed to track the minimum path sum for the row below."
   ]
  },
  {
   "cell_type": "markdown",
   "id": "8fc59c78",
   "metadata": {},
   "source": [
    "## Explanation to an interviewer\n",
    "\n",
    "If I were explaining this Leetcode 120: Triangle solution to an interviewer, here's how I’d approach it:\n",
    "\n",
    "✅ 1. Problem Understanding\n",
    "“We’re given a triangle represented as a list of lists, and we have to find the minimum path sum from top to bottom. At each step, we can move to adjacent numbers in the row directly below.”\n",
    "\n",
    "✅ 2. Approach Selection\n",
    "“Since each step only depends on the next row’s adjacent values, we can use dynamic programming, starting from the bottom and working our way up. This way, we reuse computed values instead of recalculating subproblems.”\n",
    "\n",
    "✅ 3. Optimization Strategy\n",
    "“Instead of using a full 2D DP array, we can optimize space by using a 1D array that represents the minimum path sum for each position in the row below.”\n",
    "\n",
    "✅ 4. Walkthrough of the Code\n",
    "dp = triangle[-1][:]\n",
    "“We initialize dp as a copy of the last row of the triangle, since that row's values are the base cases.”\n",
    "\n",
    "for row in reversed(triangle[:-1]):\n",
    "“We iterate from the second-last row up to the top. For each cell, we’ll update dp[j] to represent the minimum path sum starting from that cell.”\n",
    "\n",
    "dp[j] = row[j] + min(dp[j], dp[j+1])\n",
    "“At each position j in the current row, the optimal move is to go to the smaller of the two adjacent numbers in the row below: dp[j] or dp[j+1]. We update the current cell’s cost accordingly.”\n",
    "\n",
    "✅ 5. Result\n",
    "python\n",
    "Copy\n",
    "Edit\n",
    "return dp[0]\n",
    "“Finally, after processing all rows, dp[0] contains the minimum path sum from top to bottom.”\n",
    "\n",
    "✅ 6. Complexity Analysis\n",
    "Time Complexity: O(n²) – every element in the triangle is visited once.\n",
    "\n",
    "Space Complexity: O(n) – only a single row is stored at a time, reducing space usage compared to a full 2D DP table.\n",
    "\n",
    "✅ 7. Why Bottom-Up Over Top-Down?\n",
    "“Bottom-up avoids the overhead of recursion and memoization, and is usually more efficient in terms of stack space and cache locality.”"
   ]
  },
  {
   "cell_type": "markdown",
   "id": "02a28057",
   "metadata": {},
   "source": [
    "## Follow up from the interviewer\n",
    "\n",
    "If I were the interviewer evaluating a candidate who solved Leetcode 120: Triangle using a bottom-up DP approach, I’d ask the following follow-up questions to assess their depth of understanding, ability to optimize, and how they think through variations:\n",
    "\n",
    "🔍 1. Space Optimization\n",
    "Q:\n",
    "\n",
    "Can you further optimize the space usage in your solution? Could you solve it in-place without using any extra array?\n",
    "\n",
    "Expected discussion:\n",
    "Yes, since we’re updating dp in-place, and we started with dp = triangle[-1][:], we could even directly modify triangle[-1] and propagate changes upward, avoiding an extra array.\n",
    "\n",
    "🔁 2. Top-Down vs Bottom-Up\n",
    "Q:\n",
    "\n",
    "Why did you choose a bottom-up approach instead of a top-down recursive approach with memoization? What are the pros and cons?\n",
    "\n",
    "Expected discussion:\n",
    "\n",
    "Bottom-up avoids recursion and stack overflow.\n",
    "\n",
    "Usually faster due to cache locality.\n",
    "\n",
    "Top-down might be more intuitive and readable in some cases but uses more space due to memoization.\n",
    "\n",
    "🧠 3. Reconstructing the Path\n",
    "Q:\n",
    "\n",
    "How would you modify your code to also return the actual path (not just the minimum sum)?\n",
    "\n",
    "Expected approach:\n",
    "Maintain a path list or a parallel 2D structure during the bottom-up traversal to track the decisions made at each step.\n",
    "\n",
    "⚙️ 4. Follow-up Variant\n",
    "Q:\n",
    "\n",
    "What changes would you make if, from each cell, you could move not only to the two adjacent cells below, but also to the cell diagonally to the left or right two steps away?\n",
    "\n",
    "Expected thinking:\n",
    "\n",
    "Adjust the recurrence.\n",
    "\n",
    "Add bounds checking.\n",
    "\n",
    "The problem becomes more like a generalized graph traversal or dynamic programming with variable edges.\n",
    "\n",
    "🧪 5. Edge Case Testing\n",
    "Q:\n",
    "\n",
    "What would your code return for the following input:\n",
    "triangle = [[-10]] or triangle = []?\n",
    "\n",
    "Expected response:\n",
    "\n",
    "For [[-10]], output is -10.\n",
    "\n",
    "For [], it should either raise an error or handle as zero — depends on how we want to define behavior.\n",
    "\n",
    "🔄 6. Converting to Top-Down\n",
    "Q:\n",
    "\n",
    "Can you write the same solution using top-down recursion with memoization?\n",
    "\n",
    "Expected answer:\n",
    "Yes, using @lru_cache or a 2D array to store the minimum sum at each position, recursively call for positions (i+1, j) and (i+1, j+1).\n",
    "\n",
    "🔢 7. Time and Space Complexity\n",
    "Q:\n",
    "\n",
    "What is the time and space complexity of your solution?\n",
    "\n",
    "Expected answer:\n",
    "\n",
    "Time: O(n²) — each element processed once.\n",
    "\n",
    "Space: O(n) — one row at a time; or O(1) if done in-place on the triangle."
   ]
  },
  {
   "cell_type": "markdown",
   "id": "6ee145df",
   "metadata": {},
   "source": [
    "## Solution without using DP array but updating the triangle"
   ]
  },
  {
   "cell_type": "code",
   "execution_count": null,
   "id": "9553742a",
   "metadata": {},
   "outputs": [],
   "source": [
    "# SC - O(1)\n",
    "class Solution:\n",
    "    def minimumTotal(self, triangle) -> int:\n",
    "        # Start from the second last row and move upward\n",
    "        for row in range(len(triangle) - 2, -1, -1):\n",
    "            for col in range(len(triangle[row])):\n",
    "                # Update the current cell with min path sum from below\n",
    "                triangle[row][col] += min(triangle[row + 1][col], triangle[row + 1][col + 1])\n",
    "        return triangle[0][0]"
   ]
  },
  {
   "cell_type": "markdown",
   "id": "79478a7a",
   "metadata": {},
   "source": [
    "##### Explanation\n",
    "\n",
    "* We start from the second last row (len(triangle) - 2) and move upwards to the top.\n",
    "* For each element, we choose the minimum path sum from its two children in the row below.\n",
    "* We update the triangle in-place at triangle[row][col] with this new sum.\n",
    "* The top element triangle[0][0] eventually contains the minimum total path sum."
   ]
  },
  {
   "cell_type": "code",
   "execution_count": null,
   "id": "423eb7c1",
   "metadata": {},
   "outputs": [],
   "source": [
    "def min_total(triangle: list[list[int]]) -> int:\n",
    "    r = len(triangle)\n",
    "    res = [0]*(r+1)\n",
    "    #print(r, res)\n",
    "\n",
    "    for row in triangle[::-1]:\n",
    "        for i, val in enumerate(row):\n",
    "            res[i] = val + min(res[i], res[i+1])\n",
    "    return res[0]\n",
    "\n"
   ]
  },
  {
   "cell_type": "code",
   "execution_count": 13,
   "id": "8330d4b3",
   "metadata": {},
   "outputs": [
    {
     "name": "stdout",
     "output_type": "stream",
     "text": [
      "4 [0, 0, 0, 0, 0]\n"
     ]
    },
    {
     "data": {
      "text/plain": [
       "11"
      ]
     },
     "execution_count": 13,
     "metadata": {},
     "output_type": "execute_result"
    }
   ],
   "source": [
    "min_total([[2],[3,4],[6,5,7],[4,1,8,3]])"
   ]
  },
  {
   "cell_type": "code",
   "execution_count": 1,
   "id": "6b64fe45",
   "metadata": {},
   "outputs": [
    {
     "data": {
      "text/plain": [
       "[4, 1, 8, 3]"
      ]
     },
     "execution_count": 1,
     "metadata": {},
     "output_type": "execute_result"
    }
   ],
   "source": [
    "t = [[2],[3,4],[6,5,7],[4,1,8,3]]\n",
    "t[-1]"
   ]
  },
  {
   "cell_type": "code",
   "execution_count": null,
   "id": "d792d6c9",
   "metadata": {},
   "outputs": [],
   "source": []
  }
 ],
 "metadata": {
  "kernelspec": {
   "display_name": "Python 3",
   "language": "python",
   "name": "python3"
  },
  "language_info": {
   "codemirror_mode": {
    "name": "ipython",
    "version": 3
   },
   "file_extension": ".py",
   "mimetype": "text/x-python",
   "name": "python",
   "nbconvert_exporter": "python",
   "pygments_lexer": "ipython3",
   "version": "3.11.9"
  }
 },
 "nbformat": 4,
 "nbformat_minor": 5
}
