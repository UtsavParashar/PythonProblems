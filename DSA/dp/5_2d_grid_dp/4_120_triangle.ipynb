{
 "cells": [
  {
   "cell_type": "markdown",
   "id": "0788717f",
   "metadata": {},
   "source": [
    "### 120. Triangle\n",
    "* https://leetcode.com/problems/triangle/description/"
   ]
  },
  {
   "cell_type": "code",
   "execution_count": null,
   "id": "423eb7c1",
   "metadata": {},
   "outputs": [],
   "source": [
    "def min_total(triangle: list[list[int]]) -> int:\n",
    "    r = len(triangle)\n",
    "    res = [0]*(r+1)\n",
    "    #print(r, res)\n",
    "\n",
    "    for row in triangle[::-1]:\n",
    "        for i, val in enumerate(row):\n",
    "            res[i] = val + min(res[i], res[i+1])\n",
    "    return res[0]\n",
    "\n"
   ]
  },
  {
   "cell_type": "code",
   "execution_count": 13,
   "id": "8330d4b3",
   "metadata": {},
   "outputs": [
    {
     "name": "stdout",
     "output_type": "stream",
     "text": [
      "4 [0, 0, 0, 0, 0]\n"
     ]
    },
    {
     "data": {
      "text/plain": [
       "11"
      ]
     },
     "execution_count": 13,
     "metadata": {},
     "output_type": "execute_result"
    }
   ],
   "source": [
    "min_total([[2],[3,4],[6,5,7],[4,1,8,3]])"
   ]
  },
  {
   "cell_type": "code",
   "execution_count": null,
   "id": "6b64fe45",
   "metadata": {},
   "outputs": [],
   "source": []
  }
 ],
 "metadata": {
  "kernelspec": {
   "display_name": "Python 3",
   "language": "python",
   "name": "python3"
  },
  "language_info": {
   "codemirror_mode": {
    "name": "ipython",
    "version": 3
   },
   "file_extension": ".py",
   "mimetype": "text/x-python",
   "name": "python",
   "nbconvert_exporter": "python",
   "pygments_lexer": "ipython3",
   "version": "3.11.9"
  }
 },
 "nbformat": 4,
 "nbformat_minor": 5
}
