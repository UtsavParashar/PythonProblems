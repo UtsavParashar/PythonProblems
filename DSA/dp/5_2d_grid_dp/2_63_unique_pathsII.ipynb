{
 "cells": [
  {
   "cell_type": "markdown",
   "id": "482af8ed",
   "metadata": {},
   "source": [
    "#### 63. Unique Paths II\n",
    "\n",
    "* https://leetcode.com/problems/unique-paths-ii/description/"
   ]
  },
  {
   "cell_type": "code",
   "execution_count": 1,
   "id": "ca290774",
   "metadata": {},
   "outputs": [
    {
     "data": {
      "text/plain": [
       "6"
      ]
     },
     "execution_count": 1,
     "metadata": {},
     "output_type": "execute_result"
    }
   ],
   "source": [
    "## Time complexity - O(m*n)\n",
    "## Space complexity - O(n)\n",
    "## Logic - \n",
    "## initialize dp to 0\n",
    "## initialize dp[0] to 1 if grid's first element is not a blocker\n",
    "## check if grid at i,j is a blocker, if yes stop the path using dp[j] == 0\n",
    "## check dp[j] from 1 as we want to add dp[j-1] to dp[j]\n",
    "\n",
    "class Solution:\n",
    "    def uniquePathsWithObstacles(self, obstacleGrid) -> int:\n",
    "        m, n = len(obstacleGrid), len(obstacleGrid[0])\n",
    "        dp = [0]*n\n",
    "        dp[0] = 1 if obstacleGrid[0][0] == 0 else 0\n",
    "\n",
    "        for i in range(m):\n",
    "            for j in range(n):\n",
    "                if obstacleGrid[i][j] == 1:\n",
    "                    dp[j] = 0\n",
    "                elif j > 0:\n",
    "                    dp[j] += dp[j-1]\n",
    "        \n",
    "        return dp[-1]\n",
    "    \n",
    "Solution().uniquePathsWithObstacles([[0,0,0],[0,0,0],[0,0,0]])"
   ]
  },
  {
   "cell_type": "markdown",
   "id": "51576d0e",
   "metadata": {},
   "source": [
    "🧠 Explanation\n",
    "We use a 1D DP array of size n to store the number of paths to each cell in the current row.\n",
    "\n",
    "Initialization:\n",
    "\n",
    "dp[0] is 1 only if the starting cell is not blocked.\n",
    "\n",
    "For each cell (i, j):\n",
    "\n",
    "If it’s an obstacle, set dp[j] = 0\n",
    "\n",
    "Else, dp[j] += dp[j - 1] (add paths from the left if j > 0)"
   ]
  },
  {
   "cell_type": "markdown",
   "id": "0414a888",
   "metadata": {},
   "source": [
    "🧑‍💼 Interview Explanation – Step-by-Step\n",
    "1. Start with the basic idea (build from simpler problem):\n",
    "\n",
    "“This is a variation of the classic Unique Paths problem (Leetcode 62), where a robot moves only right or down from the top-left to the bottom-right.\n",
    "\n",
    "The twist here is that some cells are blocked by obstacles, so we need to count only valid paths that avoid them.”\n",
    "\n",
    "2. Define the approach – Dynamic Programming\n",
    "\n",
    "“I’ll use dynamic programming because:\n",
    "\n",
    "The number of paths to a cell depends on the number of paths to the cell above it and the cell to the left.\n",
    "\n",
    "If a cell has an obstacle, then there are 0 ways to reach it.”\n",
    "\n",
    "3. Talk about space optimization\n",
    "\n",
    "“Instead of using a full 2D DP matrix (O(m*n)), I’ll optimize it to a 1D array of size n, since we only need the previous row’s values at any time.”\n",
    "\n",
    "4. Explain initialization\n",
    "\n",
    "“I’ll initialize dp[0] = 1 only if the starting cell (0,0) is not blocked.\n",
    "Then, for each cell in the grid, I’ll:\n",
    "\n",
    "Set dp[j] = 0 if it’s an obstacle\n",
    "\n",
    "Else, update dp[j] += dp[j - 1] to account for paths from the left.”\n",
    "\n",
    "5. Mention edge cases\n",
    "\n",
    "“Special care is needed for the first row and first column, since we can only move in one direction there.\n",
    "If we loop from (0,0) and check conditions carefully (e.g. if j > 0), we can handle these in the same loop without needing to split them out.”\n",
    "\n",
    "✅ Final Answer Summary:\n",
    "\"So, I’ll use a 1D dynamic programming array with size n, initialized based on the first cell.\n",
    "I’ll iterate through the grid and update the DP array based on whether the cell is an obstacle or not.\n",
    "At the end, dp[-1] gives the number of unique paths to the bottom-right corner.”\n",
    "\n",
    "⏱️ Time and Space Complexity:\n",
    "Time: O(m * n)\n",
    "\n",
    "Space: O(n) (space-optimized DP)"
   ]
  },
  {
   "cell_type": "markdown",
   "id": "6a4f26dc",
   "metadata": {},
   "source": [
    "ChatGPT said:\n",
    "Great question! As an interviewer for Leetcode 63 – Unique Paths II, I’d ask follow-up questions to assess:\n",
    "\n",
    "Depth of understanding\n",
    "\n",
    "Code flexibility\n",
    "\n",
    "Edge case awareness\n",
    "\n",
    "Optimization mindset\n",
    "\n",
    "Here are some thoughtful follow-ups I might ask, grouped by intent:\n",
    "\n",
    "🔎 1. Edge Case Awareness\n",
    "Q1: What happens if the starting cell or the ending cell is an obstacle?\n",
    "→ This tests if the candidate accounted for grid boundaries and base cases.\n",
    "\n",
    "Expected Answer:\n",
    "\n",
    "If the starting or ending cell is an obstacle, there are 0 paths. We should return 0 immediately in such cases.\n",
    "\n",
    "Q2: What if the grid is empty or malformed?\n",
    "→ To see if the code handles null or edge inputs.\n",
    "\n",
    "Expected Answer:\n",
    "\n",
    "If obstacleGrid is empty or has 0 rows/columns, we should return 0 or raise a validation error depending on the spec.\n",
    "\n",
    "⚙️ 2. Algorithmic Flexibility\n",
    "Q3: Can you solve this using 2D DP instead of 1D? What's the tradeoff?\n",
    "→ Tests adaptability and understanding of space-time tradeoffs.\n",
    "\n",
    "Expected Answer:\n",
    "\n",
    "Yes, we can use a 2D array where dp[i][j] = dp[i-1][j] + dp[i][j-1] if grid[i][j] is not an obstacle.\n",
    "It’s easier to write and debug, but uses O(m*n) space instead of O(n).\n",
    "\n",
    "Q4: Can you solve this recursively with memoization?\n",
    "→ Checks if the candidate understands top-down DP.\n",
    "\n",
    "Expected Answer:\n",
    "\n",
    "Yes, we can define a recursive function f(i, j) that returns the number of paths from (i, j) to the goal, with memoization to avoid recomputation.\n",
    "It would have the same time complexity but with more call stack overhead.\n",
    "\n",
    "🧠 3. Optimization & Design Thinking\n",
    "Q5: What if the grid is very large — say 10,000 x 10,000 — but only a few cells are obstacles? How would you handle it?\n",
    "→ Looks for optimization under sparsity.\n",
    "\n",
    "Expected Answer:\n",
    "\n",
    "In such cases, storing the entire grid or DP table might be inefficient.\n",
    "We can use sparse data structures like set for obstacles and possibly use A* or BFS-style pathfinding if obstacle positions matter for optimization.\n",
    "\n",
    "Q6: What if you were allowed to move diagonally too?\n",
    "→ Tests whether candidate can generalize their logic.\n",
    "\n",
    "Expected Answer:\n",
    "\n",
    "Then dp[i][j] = dp[i-1][j] + dp[i][j-1] + dp[i-1][j-1] for non-obstacle cells.\n",
    "We’d need to handle bounds carefully for the diagonal term.\n",
    "\n",
    "🧪 4. Testing & Debugging Skills\n",
    "Q7: Can you walk me through how your code handles this grid?\n",
    "\n",
    "python\n",
    "Copy\n",
    "Edit\n",
    "[[0,1,0],\n",
    " [0,0,0],\n",
    " [1,0,0]]\n",
    "→ This reveals their ability to debug and trace.\n",
    "\n",
    "Q8: How would you write unit tests for this function? What test cases would you include?\n",
    "→ Tests coding maturity and edge case planning.\n",
    "\n",
    "Expected Answer:\n",
    "\n",
    "I’d test:\n",
    "\n",
    "Empty grid\n",
    "\n",
    "Start or end cell blocked\n",
    "\n",
    "All cells blocked\n",
    "\n",
    "Grid with one row or column\n",
    "\n",
    "Large grid with no obstacles (stress test)\n",
    "\n",
    "Large grid with a diagonal wall of obstacles"
   ]
  },
  {
   "cell_type": "markdown",
   "id": "22cea536",
   "metadata": {},
   "source": []
  },
  {
   "cell_type": "code",
   "execution_count": null,
   "id": "b607bc57",
   "metadata": {},
   "outputs": [],
   "source": [
    "## Time complexity - O(m*n)\n",
    "## Space complexity - O(n)\n",
    "## Credit - https://www.youtube.com/watch?v=d3UOz7zdE4I\n",
    "\n",
    "def unique_paths_with_obstacles(grid):\n",
    "    m, n = len(grid), len(grid[0])\n",
    "    dp = [0] * n\n",
    "\n",
    "    # Initialize the first cell\n",
    "    dp[0] = 1 if grid[0][0] == 0 else 0 # check if there's an obstacle at the start\n",
    "\n",
    "    for r in range(m):\n",
    "        for c in range(n):\n",
    "            if grid[r][c] == 1:  # If there's an obstacle\n",
    "                dp[c] = 0\n",
    "            elif c > 0:  # Update dp[c] using the value from the left\n",
    "                dp[c] += dp[c - 1]\n",
    "            print(dp)\n",
    "    return dp[-1]"
   ]
  },
  {
   "cell_type": "code",
   "execution_count": 15,
   "id": "e5f22f8a",
   "metadata": {},
   "outputs": [
    {
     "name": "stdout",
     "output_type": "stream",
     "text": [
      "[1, 0, 0]\n",
      "[1, 1, 0]\n",
      "[1, 1, 1]\n",
      "[1, 1, 1]\n",
      "[1, 0, 1]\n",
      "[1, 0, 1]\n",
      "[1, 0, 1]\n",
      "[1, 1, 1]\n",
      "[1, 1, 2]\n"
     ]
    },
    {
     "data": {
      "text/plain": [
       "2"
      ]
     },
     "execution_count": 15,
     "metadata": {},
     "output_type": "execute_result"
    }
   ],
   "source": [
    "unique_paths_with_obstacles([[0,0,0],[0,1,0],[0,0,0]])"
   ]
  },
  {
   "cell_type": "markdown",
   "id": "65aa8beb",
   "metadata": {},
   "source": [
    "What this does:\n",
    "Loop through each row and column.\n",
    "\n",
    "If the current cell is an obstacle, set dp[c] = 0 — no path can go through here.\n",
    "\n",
    "If it's not an obstacle:\n",
    "\n",
    "dp[c] already contains the number of ways from the top (previous row).\n",
    "\n",
    "dp[c - 1] gives the number of ways from the left (same row).\n",
    "\n",
    "So we add dp[c - 1] to dp[c]."
   ]
  },
  {
   "cell_type": "code",
   "execution_count": null,
   "id": "15315cd5",
   "metadata": {},
   "outputs": [],
   "source": []
  }
 ],
 "metadata": {
  "kernelspec": {
   "display_name": "Python 3",
   "language": "python",
   "name": "python3"
  },
  "language_info": {
   "codemirror_mode": {
    "name": "ipython",
    "version": 3
   },
   "file_extension": ".py",
   "mimetype": "text/x-python",
   "name": "python",
   "nbconvert_exporter": "python",
   "pygments_lexer": "ipython3",
   "version": "3.11.9"
  }
 },
 "nbformat": 4,
 "nbformat_minor": 5
}
