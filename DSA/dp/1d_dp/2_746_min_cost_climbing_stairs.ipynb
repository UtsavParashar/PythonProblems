{
 "cells": [
  {
   "cell_type": "markdown",
   "id": "6b4407ae",
   "metadata": {},
   "source": [
    "#### 746. Min Cost Climbing Stairs\n",
    "\n",
    "You are given an integer array cost where cost[i] is the cost of ith step on a staircase. Once you pay the cost, you can either climb one or two steps.\n",
    "\n",
    "You can either start from the step with index 0, or the step with index 1.\n",
    "\n",
    "Return the minimum cost to reach the top of the floor.\n",
    "\n",
    " \n",
    "\n",
    "Example 1:\n",
    "\n",
    "Input: cost = [10,15,20]\n",
    "Output: 15\n",
    "Explanation: You will start at index 1.\n",
    "- Pay 15 and climb two steps to reach the top.\n",
    "The total cost is 15.\n",
    "Example 2:\n",
    "\n",
    "Input: cost = [1,100,1,1,1,100,1,1,100,1]\n",
    "Output: 6\n",
    "Explanation: You will start at index 0.\n",
    "- Pay 1 and climb two steps to reach index 2.\n",
    "- Pay 1 and climb two steps to reach index 4.\n",
    "- Pay 1 and climb two steps to reach index 6.\n",
    "- Pay 1 and climb one step to reach index 7.\n",
    "- Pay 1 and climb two steps to reach index 9.\n",
    "- Pay 1 and climb one step to reach the top.\n",
    "The total cost is 6."
   ]
  },
  {
   "cell_type": "markdown",
   "id": "568768ed",
   "metadata": {},
   "source": [
    "###### Logic is at each step you need to check the min cost till n-1 or n-2 and add cost of n-1 and n-2 to it respectively.\n",
    "* expression would be min(cost[i-1]+min_cost(i-1), cost[i-2]+min_cost(i-2))"
   ]
  },
  {
   "cell_type": "code",
   "execution_count": 2,
   "id": "bcf1c304",
   "metadata": {},
   "outputs": [],
   "source": [
    "## Recursion\n",
    "## TC - O(2^n) SC - O(n)\n",
    "\n",
    "def using_recursion(cost: list[int]) -> int:\n",
    "\n",
    "    def min_cost(i):\n",
    "        if i < 2:\n",
    "            return 0\n",
    "\n",
    "        return min(cost[i-1]+min_cost(i-1), cost[i-2]+min_cost(i-2)) # cost is cost from i, min_cost is the min cost till i\n",
    "\n",
    "    return min_cost(len(cost))\n",
    "\n",
    "        \n"
   ]
  },
  {
   "cell_type": "code",
   "execution_count": 3,
   "id": "1f2550e5",
   "metadata": {},
   "outputs": [
    {
     "data": {
      "text/plain": [
       "6"
      ]
     },
     "execution_count": 3,
     "metadata": {},
     "output_type": "execute_result"
    }
   ],
   "source": [
    "using_recursion([1,100,1,1,1,100,1,1,100,1])"
   ]
  },
  {
   "cell_type": "code",
   "execution_count": 4,
   "id": "91b91809",
   "metadata": {},
   "outputs": [],
   "source": [
    "## Using dp memoization - top down approach\n",
    "def dp_memo(cost):\n",
    "    memo = {0: 0, 1: 0}\n",
    "\n",
    "    def min_cost(i):\n",
    "        if i in memo:\n",
    "            return memo[i]\n",
    "        else:\n",
    "            memo[i] = min(cost[i-1]+min_cost(i-1), cost[i-2]+min_cost(i-2))\n",
    "\n",
    "        return memo[i]\n",
    "\n",
    "    return min_cost(len(cost))\n"
   ]
  },
  {
   "cell_type": "code",
   "execution_count": 5,
   "id": "897fe364",
   "metadata": {},
   "outputs": [
    {
     "data": {
      "text/plain": [
       "6"
      ]
     },
     "execution_count": 5,
     "metadata": {},
     "output_type": "execute_result"
    }
   ],
   "source": [
    "dp_memo([1,100,1,1,1,100,1,1,100,1])"
   ]
  },
  {
   "cell_type": "code",
   "execution_count": 8,
   "id": "90f484c6",
   "metadata": {},
   "outputs": [],
   "source": [
    "## Using dp tabulation - bottom up approach\n",
    "def dp_memo(cost):\n",
    "\n",
    "    n = len(cost)\n",
    "    res = [0]*(n+1)\n",
    "\n",
    "    for i in range(2,n+1): # why n+1 because we need to reach at the top of the stairs, 1 step above the cost list\n",
    "        res[i] = min(cost[i-1]+res[i-1], cost[i-2]+res[i-2])\n",
    "\n",
    "    return res[-1]"
   ]
  },
  {
   "cell_type": "code",
   "execution_count": 9,
   "id": "460758d0",
   "metadata": {},
   "outputs": [
    {
     "data": {
      "text/plain": [
       "6"
      ]
     },
     "execution_count": 9,
     "metadata": {},
     "output_type": "execute_result"
    }
   ],
   "source": [
    "dp_memo([1,100,1,1,1,100,1,1,100,1])"
   ]
  },
  {
   "cell_type": "code",
   "execution_count": 13,
   "id": "cfc4376a",
   "metadata": {},
   "outputs": [],
   "source": [
    "## Using dp tabulation - bottom up approach -- Space Optimized\n",
    "def dp_memo_op(cost):\n",
    "\n",
    "    n = len(cost)\n",
    "    prev, curr = 0, 0\n",
    "\n",
    "    for i in range(2,n+1): # why n+1 because we need to reach at the top of the stairs, 1 step above the cost list\n",
    "        prev, curr = curr, min(cost[i-1]+curr, cost[i-2]+prev)\n",
    "\n",
    "    return curr"
   ]
  },
  {
   "cell_type": "code",
   "execution_count": 14,
   "id": "7485b5e2",
   "metadata": {},
   "outputs": [
    {
     "data": {
      "text/plain": [
       "6"
      ]
     },
     "execution_count": 14,
     "metadata": {},
     "output_type": "execute_result"
    }
   ],
   "source": [
    "dp_memo_op([1,100,1,1,1,100,1,1,100,1])"
   ]
  },
  {
   "cell_type": "code",
   "execution_count": null,
   "id": "25063428",
   "metadata": {},
   "outputs": [],
   "source": []
  }
 ],
 "metadata": {
  "kernelspec": {
   "display_name": "Python 3",
   "language": "python",
   "name": "python3"
  },
  "language_info": {
   "codemirror_mode": {
    "name": "ipython",
    "version": 3
   },
   "file_extension": ".py",
   "mimetype": "text/x-python",
   "name": "python",
   "nbconvert_exporter": "python",
   "pygments_lexer": "ipython3",
   "version": "3.11.9"
  }
 },
 "nbformat": 4,
 "nbformat_minor": 5
}
