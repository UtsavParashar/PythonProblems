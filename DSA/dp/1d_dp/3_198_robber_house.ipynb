{
 "cells": [
  {
   "cell_type": "markdown",
   "id": "e030832f",
   "metadata": {},
   "source": [
    "### 198. Robber House\n",
    "\n",
    "* https://leetcode.com/problems/house-robber/description/\n",
    "\n",
    "- You are a professional robber planning to rob houses along a street. Each house has a certain amount of money stashed, the only constraint stopping you from robbing each of them is that adjacent houses have security systems connected and it will automatically contact the police if two adjacent houses were broken into on the same night.\n",
    "\n",
    "- Given an integer array nums representing the amount of money of each house, return the maximum amount of money you can rob tonight without alerting the police.\n",
    "\n",
    "\n",
    "Example 1:\n",
    "Input: nums = [1,2,3,1]\n",
    "Output: 4\n",
    "Explanation: Rob house 1 (money = 1) and then rob house 3 (money = 3).\n",
    "Total amount you can rob = 1 + 3 = 4.\n",
    "\n",
    "Example 2:\n",
    "Input: nums = [2,7,9,3,1]\n",
    "Output: 12\n",
    "Explanation: Rob house 1 (money = 2), rob house 3 (money = 9) and rob house 5 (money = 1).\n",
    "Total amount you can rob = 2 + 9 + 1 = 12."
   ]
  },
  {
   "cell_type": "markdown",
   "id": "0ddd2773",
   "metadata": {},
   "source": [
    "* Base case is - at house 0 you can rob nums[0] and at house 1 you have a choice to rob max(nums[0], nums[1])\n",
    "* Recurrence relation would be - either stick with the robber max money till i-1 or nums[i] + accumulated till i-2"
   ]
  },
  {
   "cell_type": "code",
   "execution_count": 6,
   "id": "2aae1022",
   "metadata": {},
   "outputs": [],
   "source": [
    "def recursive_brute_force(nums: list[int]) -> int:\n",
    "    n = len(nums)\n",
    "    def rob_houses(i):\n",
    "        if i == 0:\n",
    "            return nums[i]\n",
    "        if i == 1:\n",
    "            return max(nums[0], nums[i])\n",
    "        \n",
    "        return max(rob_houses(i-1), nums[i]+rob_houses(i-2))\n",
    "    \n",
    "    return rob_houses(n-1)\n"
   ]
  },
  {
   "cell_type": "code",
   "execution_count": 7,
   "id": "7245bfb5",
   "metadata": {},
   "outputs": [
    {
     "data": {
      "text/plain": [
       "4"
      ]
     },
     "execution_count": 7,
     "metadata": {},
     "output_type": "execute_result"
    }
   ],
   "source": [
    "recursive_brute_force(nums = [1,2,3,1])"
   ]
  },
  {
   "cell_type": "code",
   "execution_count": 8,
   "id": "a2fc522b",
   "metadata": {},
   "outputs": [
    {
     "data": {
      "text/plain": [
       "12"
      ]
     },
     "execution_count": 8,
     "metadata": {},
     "output_type": "execute_result"
    }
   ],
   "source": [
    "recursive_brute_force(nums = [2,7,9,3,1])"
   ]
  },
  {
   "cell_type": "code",
   "execution_count": 9,
   "id": "b8242621",
   "metadata": {},
   "outputs": [
    {
     "data": {
      "text/plain": [
       "6"
      ]
     },
     "execution_count": 9,
     "metadata": {},
     "output_type": "execute_result"
    }
   ],
   "source": [
    "recursive_brute_force(nums = [1,1,2,2,3])"
   ]
  },
  {
   "cell_type": "code",
   "execution_count": null,
   "id": "deb6e954",
   "metadata": {},
   "outputs": [],
   "source": [
    "# dp with memoization\n",
    "def dp_memo(nums: list[int]) -> int:\n",
    "    n = len(nums)\n",
    "\n",
    "    memo =  {0: nums[0], 1: max(nums[0], nums[1])}\n",
    "    def rob_houses(i):\n",
    "        if i in memo:\n",
    "            return memo[i]\n",
    "        else:\n",
    "            memo[i] = max(rob_houses(i-1), nums[i]+rob_houses(i-2))\n",
    "            return memo[i]\n",
    "    \n",
    "    return rob_houses(n-1)"
   ]
  },
  {
   "cell_type": "code",
   "execution_count": 12,
   "id": "592c6b21",
   "metadata": {},
   "outputs": [
    {
     "data": {
      "text/plain": [
       "4"
      ]
     },
     "execution_count": 12,
     "metadata": {},
     "output_type": "execute_result"
    }
   ],
   "source": [
    "dp_memo(nums = [1,2,3,1])"
   ]
  },
  {
   "cell_type": "code",
   "execution_count": 13,
   "id": "9ad130ba",
   "metadata": {},
   "outputs": [
    {
     "data": {
      "text/plain": [
       "12"
      ]
     },
     "execution_count": 13,
     "metadata": {},
     "output_type": "execute_result"
    }
   ],
   "source": [
    "dp_memo(nums = [2,7,9,3,1])"
   ]
  },
  {
   "cell_type": "code",
   "execution_count": 24,
   "id": "20138b73",
   "metadata": {},
   "outputs": [],
   "source": [
    "def dp_tab(nums: list[int]) -> int:\n",
    "    n = len(nums)\n",
    "\n",
    "    if n == 1:\n",
    "        return nums[0]\n",
    "    if n == 2:\n",
    "        return max(nums[0], nums[1])\n",
    "    \n",
    "\n",
    "    res = [-1]*n\n",
    "    res[0] = nums[0]\n",
    "    res[1] = max(nums[0], nums[1])\n",
    "\n",
    "    for i in range(2, n):\n",
    "        res[i] = max(res[i-1], res[i-2]+nums[i])\n",
    "    \n",
    "    return res[-1]"
   ]
  },
  {
   "cell_type": "code",
   "execution_count": 23,
   "id": "a60a8bc5",
   "metadata": {},
   "outputs": [
    {
     "name": "stdout",
     "output_type": "stream",
     "text": [
      "[1, 2, -1, -1]\n",
      "[1, 2, 4, -1]\n"
     ]
    },
    {
     "data": {
      "text/plain": [
       "4"
      ]
     },
     "execution_count": 23,
     "metadata": {},
     "output_type": "execute_result"
    }
   ],
   "source": [
    "dp_tab(nums = [1,2,3,1])"
   ]
  },
  {
   "cell_type": "code",
   "execution_count": 26,
   "id": "1632b2c9",
   "metadata": {},
   "outputs": [],
   "source": [
    "def dp_optmized(nums: list[int]) -> int:\n",
    "    n = len(nums)\n",
    "\n",
    "    if n == 1:\n",
    "        return nums[0]\n",
    "    if n == 2:\n",
    "        return max(nums[0], nums[1])\n",
    "\n",
    "    prev = nums[0]\n",
    "    curr = max(nums[0], nums[1])\n",
    "\n",
    "    for i in range(2, n):\n",
    "        prev, curr = curr, max(curr, prev+nums[i])\n",
    "    \n",
    "    return curr"
   ]
  },
  {
   "cell_type": "code",
   "execution_count": 27,
   "id": "7e22a591",
   "metadata": {},
   "outputs": [
    {
     "data": {
      "text/plain": [
       "4"
      ]
     },
     "execution_count": 27,
     "metadata": {},
     "output_type": "execute_result"
    }
   ],
   "source": [
    "dp_optmized(nums = [1,2,3,1])"
   ]
  },
  {
   "cell_type": "code",
   "execution_count": null,
   "id": "6a788353",
   "metadata": {},
   "outputs": [],
   "source": []
  }
 ],
 "metadata": {
  "kernelspec": {
   "display_name": "Python 3",
   "language": "python",
   "name": "python3"
  },
  "language_info": {
   "codemirror_mode": {
    "name": "ipython",
    "version": 3
   },
   "file_extension": ".py",
   "mimetype": "text/x-python",
   "name": "python",
   "nbconvert_exporter": "python",
   "pygments_lexer": "ipython3",
   "version": "3.11.9"
  }
 },
 "nbformat": 4,
 "nbformat_minor": 5
}
