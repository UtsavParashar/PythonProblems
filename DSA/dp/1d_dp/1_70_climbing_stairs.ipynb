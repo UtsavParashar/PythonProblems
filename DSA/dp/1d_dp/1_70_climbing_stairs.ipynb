{
 "cells": [
  {
   "cell_type": "markdown",
   "id": "0c9e5d75",
   "metadata": {},
   "source": [
    "#### 70. Climbing Stairs\n",
    "\n",
    "You are climbing a staircase. It takes n steps to reach the top.\n",
    "\n",
    "Each time you can either climb 1 or 2 steps. In how many distinct ways can you climb to the top?\n",
    "\n",
    " \n",
    "\n",
    "Example 1:\n",
    "\n",
    "Input: n = 2\n",
    "Output: 2\n",
    "Explanation: There are two ways to climb to the top.\n",
    "1. 1 step + 1 step\n",
    "2. 2 steps\n",
    "Example 2:\n",
    "\n",
    "Input: n = 3\n",
    "Output: 3\n",
    "Explanation: There are three ways to climb to the top.\n",
    "1. 1 step + 1 step + 1 step\n",
    "2. 1 step + 2 steps\n",
    "3. 2 steps + 1 step"
   ]
  },
  {
   "cell_type": "markdown",
   "id": "9f1169d3",
   "metadata": {},
   "source": [
    "##### In short, solution is fibonacci series starting with 1\n",
    "* For 1 step there is 1 way\n",
    "* for 2 steps there are 2 ways\n",
    "* for 3 steps there are 3 ways\n",
    "* for 4 steos there are 5 ways"
   ]
  },
  {
   "cell_type": "code",
   "execution_count": 55,
   "id": "1583d52b",
   "metadata": {},
   "outputs": [],
   "source": [
    "### bruteforce - recursion\n",
    "## TC - O(2^n), SP - O(n)\n",
    "\n",
    "def brute_force(n):\n",
    "    if n <= 1:\n",
    "        return 1\n",
    "\n",
    "    return brute_force(n-1) + brute_force(n-2)"
   ]
  },
  {
   "cell_type": "code",
   "execution_count": 56,
   "id": "fa0ff535",
   "metadata": {},
   "outputs": [
    {
     "data": {
      "text/plain": [
       "8"
      ]
     },
     "execution_count": 56,
     "metadata": {},
     "output_type": "execute_result"
    }
   ],
   "source": [
    "brute_force(5)"
   ]
  },
  {
   "cell_type": "code",
   "execution_count": 57,
   "id": "de008a48",
   "metadata": {},
   "outputs": [],
   "source": [
    "### DP with memoization - Top Down approach\n",
    "## TC - O(n), SP  - O(n)\n",
    "def dp_memo(n):\n",
    "    memo = {1: 1, 2: 2}\n",
    "    def f(n):\n",
    "        if n in memo:\n",
    "            return memo[n]\n",
    "        else:\n",
    "            memo[n] = f(n-1) + f(n-2)\n",
    "        return memo[n]\n",
    "    \n",
    "    return f(n)\n",
    "        "
   ]
  },
  {
   "cell_type": "code",
   "execution_count": 58,
   "id": "eaef12f9",
   "metadata": {},
   "outputs": [
    {
     "data": {
      "text/plain": [
       "8"
      ]
     },
     "execution_count": 58,
     "metadata": {},
     "output_type": "execute_result"
    }
   ],
   "source": [
    "dp_memo(5)"
   ]
  },
  {
   "cell_type": "code",
   "execution_count": 59,
   "id": "666d622e",
   "metadata": {},
   "outputs": [],
   "source": [
    "### DP with Tabulation -  Bottom up Approach\n",
    "## TC - O(n), SP  - O(n)\n",
    "\n",
    "def dp_tab(n):\n",
    "    if n <= 0: return n\n",
    "    tab = [1, 2]\n",
    "\n",
    "    for i in range(2, n):\n",
    "        tab.append(tab[i-1] + tab[i-2])\n",
    "\n",
    "    return tab[-1]"
   ]
  },
  {
   "cell_type": "code",
   "execution_count": 60,
   "id": "9fa8cf4b",
   "metadata": {},
   "outputs": [
    {
     "data": {
      "text/plain": [
       "8"
      ]
     },
     "execution_count": 60,
     "metadata": {},
     "output_type": "execute_result"
    }
   ],
   "source": [
    "dp_tab(5)"
   ]
  },
  {
   "cell_type": "code",
   "execution_count": null,
   "id": "326142b4",
   "metadata": {},
   "outputs": [],
   "source": [
    "### Most Optimized in terms of space and time\n",
    "### DP with Tabulation - Bottom up Approach\n",
    "## TC - O(n), SP  - O(1)\n",
    "\n",
    "def dp_tab_op(n):\n",
    "    if n <= 1: return n\n",
    "    prev, curr = 1, 2\n",
    "\n",
    "    for _ in range(2, n):\n",
    "        prev, curr = curr, prev+curr\n",
    "\n",
    "    return curr"
   ]
  },
  {
   "cell_type": "code",
   "execution_count": 62,
   "id": "30612d72",
   "metadata": {},
   "outputs": [
    {
     "data": {
      "text/plain": [
       "13"
      ]
     },
     "execution_count": 62,
     "metadata": {},
     "output_type": "execute_result"
    }
   ],
   "source": [
    "dp_tab_op(6)"
   ]
  },
  {
   "cell_type": "code",
   "execution_count": null,
   "id": "f692b03b",
   "metadata": {},
   "outputs": [],
   "source": []
  }
 ],
 "metadata": {
  "kernelspec": {
   "display_name": "Python 3",
   "language": "python",
   "name": "python3"
  },
  "language_info": {
   "codemirror_mode": {
    "name": "ipython",
    "version": 3
   },
   "file_extension": ".py",
   "mimetype": "text/x-python",
   "name": "python",
   "nbconvert_exporter": "python",
   "pygments_lexer": "ipython3",
   "version": "3.11.9"
  }
 },
 "nbformat": 4,
 "nbformat_minor": 5
}
