{
 "cells": [
  {
   "cell_type": "markdown",
   "id": "c7d0aa2d",
   "metadata": {},
   "source": [
    "#### 322. Coin Change\n",
    "\n",
    "* https://leetcode.com/problems/coin-change/description/"
   ]
  },
  {
   "cell_type": "code",
   "execution_count": null,
   "id": "06640927",
   "metadata": {},
   "outputs": [
    {
     "data": {
      "text/plain": [
       "3"
      ]
     },
     "execution_count": 1,
     "metadata": {},
     "output_type": "execute_result"
    }
   ],
   "source": [
    "# Logic - You don't go for greedy approach i.e for 12 take 2 5 coins and 2 1 coins, thus 2 coins.\n",
    "# however 12 could be achieved by 3 4 coins.\n",
    "\n",
    "# Tabulation method\n",
    "# Count the number of coins required for each amount from 0 to amount using each coin\n",
    "\n",
    "\n",
    "class Solution:\n",
    "    def coinChange(self, coins, amount: int) -> int:\n",
    "        dp = [0] + [float('inf')]*amount # base case 0 as 0 coins are required for the amount of 0\n",
    "\n",
    "        for coin in coins:\n",
    "            for x in range(coin, amount+1):\n",
    "                dp[x] = min(dp[x], dp[x-coin]+1) # 1 coin for the current coin being used\n",
    "\n",
    "        return -1 if dp[amount]==float('inf') else dp[amount]\n",
    "\n",
    "Solution().coinChange([1,4,5], 12)"
   ]
  },
  {
   "cell_type": "code",
   "execution_count": null,
   "id": "fc68025c",
   "metadata": {},
   "outputs": [],
   "source": []
  }
 ],
 "metadata": {
  "kernelspec": {
   "display_name": "Python 3",
   "language": "python",
   "name": "python3"
  },
  "language_info": {
   "codemirror_mode": {
    "name": "ipython",
    "version": 3
   },
   "file_extension": ".py",
   "mimetype": "text/x-python",
   "name": "python",
   "nbconvert_exporter": "python",
   "pygments_lexer": "ipython3",
   "version": "3.11.9"
  }
 },
 "nbformat": 4,
 "nbformat_minor": 5
}
