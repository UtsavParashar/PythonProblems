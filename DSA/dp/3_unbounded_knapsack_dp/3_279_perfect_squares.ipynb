{
 "cells": [
  {
   "cell_type": "markdown",
   "id": "1badec74",
   "metadata": {},
   "source": [
    "#### 279. Perfect Squares\n",
    "\n",
    "* https://leetcode.com/problems/perfect-squares/description/"
   ]
  },
  {
   "cell_type": "code",
   "execution_count": 3,
   "id": "31965e69",
   "metadata": {},
   "outputs": [
    {
     "data": {
      "text/plain": [
       "3"
      ]
     },
     "execution_count": 3,
     "metadata": {},
     "output_type": "execute_result"
    }
   ],
   "source": [
    "import math\n",
    "\n",
    "class Solution:\n",
    "    def numSquares(self, n: int) -> int:\n",
    "        dp = [0] + [float('inf')]*n\n",
    "\n",
    "        for i in range(1, n+1):\n",
    "            for j in range(1, math.isqrt(i)+1):\n",
    "                dp[i] = min(dp[i], dp[i-(j*j)]+1)\n",
    "        \n",
    "        return dp[n]\n",
    "\n",
    "Solution().numSquares(12)"
   ]
  },
  {
   "cell_type": "code",
   "execution_count": null,
   "id": "5531ee11",
   "metadata": {},
   "outputs": [],
   "source": []
  }
 ],
 "metadata": {
  "kernelspec": {
   "display_name": "Python 3",
   "language": "python",
   "name": "python3"
  },
  "language_info": {
   "codemirror_mode": {
    "name": "ipython",
    "version": 3
   },
   "file_extension": ".py",
   "mimetype": "text/x-python",
   "name": "python",
   "nbconvert_exporter": "python",
   "pygments_lexer": "ipython3",
   "version": "3.11.9"
  }
 },
 "nbformat": 4,
 "nbformat_minor": 5
}
