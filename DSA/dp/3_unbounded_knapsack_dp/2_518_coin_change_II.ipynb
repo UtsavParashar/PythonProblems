{
 "cells": [
  {
   "cell_type": "markdown",
   "id": "5b646727",
   "metadata": {},
   "source": [
    "#### 518. Coin Change II\n",
    "\n",
    "* https://leetcode.com/problems/coin-change-ii/description/"
   ]
  },
  {
   "cell_type": "code",
   "execution_count": null,
   "id": "151cf113",
   "metadata": {},
   "outputs": [
    {
     "data": {
      "text/plain": [
       "5"
      ]
     },
     "execution_count": 1,
     "metadata": {},
     "output_type": "execute_result"
    }
   ],
   "source": [
    "# Logic - You don't go for greedy approach i.e for 12 take 2 5 coins and 2 1 coins, thus 2 coins.\n",
    "# however 12 could be achieved by 3 4 coins.\n",
    "\n",
    "# Tabulation method\n",
    "# Count the number of coins required for each amount from 0 to amount using each coin\n",
    "\n",
    "class Solution:\n",
    "    def change(self, amt, coins) -> int:\n",
    "        dp = [1] + [0]*amt # base case 1, as there is 1 way to get 0 amt i.e no coins\n",
    "\n",
    "        for coin in coins:\n",
    "            for x in range(coin, amt+1):\n",
    "                dp[x] += dp[x-coin] # logic to count required coins based on previous x-coins\n",
    "\n",
    "        return dp[amt]\n",
    "\n",
    "Solution().change(9, [1,4,5])"
   ]
  },
  {
   "cell_type": "markdown",
   "id": "cd9f2f75",
   "metadata": {},
   "source": [
    "Here’s how you can confidently and clearly explain the solution to Leetcode 518 (Coin Change II) to an interviewer:\n",
    "\n",
    "🔹 1. Problem Understanding\n",
    "“We are given an array of coin denominations and a total amount. We need to find how many combinations of coins can make up that amount.\n",
    "Each coin can be used unlimited times, and order doesn’t matter (so [1,2] and [2,1] are considered the same).”\n",
    "\n",
    "🔹 2. Approach Overview: Dynamic Programming (1D Bottom-Up)\n",
    "“This is a classic unbounded knapsack problem.\n",
    "We’ll use a 1D DP array, where dp[i] represents the number of combinations to make amount i.\n",
    "\n",
    "We initialize dp[0] = 1 since there's exactly 1 way to make amount 0 — by using no coins.\n",
    "\n",
    "Then, for each coin, we iterate through all amounts from that coin value up to the target amount.\n",
    "We update dp[x] += dp[x - coin], meaning:\n",
    "\n",
    "We add the number of ways to make x - coin to the ways of making x, because we can use coin once more to reach x.\n",
    "\n",
    "This ensures we count combinations without duplication and in correct order.”\n",
    "\n",
    "🔹 3. Code Explanation\n",
    "python\n",
    "Copy\n",
    "Edit\n",
    "dp = [0] * (amount + 1)\n",
    "dp[0] = 1\n",
    "Start with 1 way to make amount 0. All others are 0.\n",
    "\n",
    "python\n",
    "Copy\n",
    "Edit\n",
    "for coin in coins:\n",
    "    for x in range(coin, amount + 1):\n",
    "        dp[x] += dp[x - coin]\n",
    "For each coin, we only look forward (not backward), so combinations are built without duplication.\n",
    "\n",
    "🔹 4. Why this avoids duplicates\n",
    "“We loop through coins first, then the amounts.\n",
    "That means [1,2] and [2,1] are treated the same — only the coin order matters for counting combinations correctly.\n",
    "If we reversed the loop (amount outer, coin inner), we’d count permutations, not combinations.”\n",
    "\n",
    "🔹 5. Time and Space Complexity\n",
    "Time: O(N × amount), where N is the number of coins.\n",
    "\n",
    "Space: O(amount) for the DP array.\n",
    "\n",
    "🔹 6. Example Walkthrough\n",
    "If coins = [1, 2, 5] and amount = 5,\n",
    "We’ll build up the combinations step-by-step using DP. Final answer is 4, representing:\n",
    "\n",
    "[1,1,1,1,1]\n",
    "\n",
    "[1,1,1,2]\n",
    "\n",
    "[1,2,2]\n",
    "\n",
    "[5]"
   ]
  },
  {
   "cell_type": "code",
   "execution_count": null,
   "id": "dc132c14",
   "metadata": {},
   "outputs": [],
   "source": []
  }
 ],
 "metadata": {
  "kernelspec": {
   "display_name": "Python 3",
   "language": "python",
   "name": "python3"
  },
  "language_info": {
   "codemirror_mode": {
    "name": "ipython",
    "version": 3
   },
   "file_extension": ".py",
   "mimetype": "text/x-python",
   "name": "python",
   "nbconvert_exporter": "python",
   "pygments_lexer": "ipython3",
   "version": "3.11.9"
  }
 },
 "nbformat": 4,
 "nbformat_minor": 5
}
