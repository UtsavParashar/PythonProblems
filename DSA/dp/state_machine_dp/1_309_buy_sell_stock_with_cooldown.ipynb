{
 "cells": [
  {
   "cell_type": "markdown",
   "id": "e7e7004a",
   "metadata": {},
   "source": [
    "#### 309. Best Time to Buy and Sell Stock with Cooldown\n",
    "\n",
    "* https://leetcode.com/problems/best-time-to-buy-and-sell-stock-with-cooldown/description/"
   ]
  },
  {
   "cell_type": "code",
   "execution_count": null,
   "id": "65111c70",
   "metadata": {},
   "outputs": [],
   "source": [
    "### Preferred, more intuitive solution\n",
    "\n",
    "def maxProfit(prices):\n",
    "    memo = {}\n",
    "    \n",
    "    def profit(day, can_buy):\n",
    "        # Base case: no more days left\n",
    "        if day >= len(prices):\n",
    "            return 0\n",
    "        \n",
    "        # Check if result is already computed\n",
    "        if (day, can_buy) in memo:\n",
    "            return memo[(day, can_buy)]\n",
    "        \n",
    "\n",
    "        cooldown = profit(day + 1, can_buy)\n",
    "        if can_buy:\n",
    "            # Two choices: buy the stock or cooldown\n",
    "            buy = profit(day + 1, not can_buy) - prices[day]\n",
    "            memo[(day, can_buy)] = max(buy, cooldown)\n",
    "        else:\n",
    "            # Two choices: sell the stock or cooldown\n",
    "            sell = profit(day + 2, not can_buy) + prices[day]\n",
    "            memo[(day, can_buy)] = max(sell, cooldown)\n",
    "\n",
    "\n",
    "        return memo[(day, can_buy)]\n",
    "    \n",
    "    # Start the recursion from day 0 with the ability to buy\n",
    "    return profit(0, True)"
   ]
  },
  {
   "cell_type": "code",
   "execution_count": 25,
   "id": "30d00ddf",
   "metadata": {},
   "outputs": [
    {
     "data": {
      "text/plain": [
       "3"
      ]
     },
     "execution_count": 25,
     "metadata": {},
     "output_type": "execute_result"
    }
   ],
   "source": [
    "maxProfit(prices = [1,2,3,0,2])"
   ]
  },
  {
   "cell_type": "code",
   "execution_count": 31,
   "id": "8fd56f81",
   "metadata": {},
   "outputs": [],
   "source": [
    "def maxProfit(prices):\n",
    "    if not prices:\n",
    "        return 0\n",
    "    \n",
    "    n = len(prices)\n",
    "\n",
    "    # dp[i][0]: maximum profit on day i with no stock in hand (could have just sold or rested)\n",
    "    # dp[i][1]: maximum profit on day i with a stock in hand\n",
    "    dp = [[0]*2 for _ in range(n)]\n",
    "    \n",
    "    dp[0][0] = 0 # We do nothing on day 0\n",
    "    dp[0][1] = -prices[0] # We buy stock on day 0\n",
    "\n",
    "    for i in range(1, n):\n",
    "        # Max profit not holding a stock today can't be less than not holding yesterday after a cooldown or selling today\n",
    "        dp[i][0] = max(dp[i-1][0],dp[i-1][1] + prices[i])\n",
    "\n",
    "        # Max profit holding a stock today can't be less than holding yesterday or buying today after cooldown\n",
    "        dp[i][1] = max(dp[i-1][1], (dp[i-2][0] if i > 1 else 0) - prices[i])\n",
    "\n",
    "    # The result is the max profit where on the last day we aren't holding any stock\n",
    "    return dp[-1][0]\n"
   ]
  },
  {
   "cell_type": "code",
   "execution_count": 32,
   "id": "bd883f05",
   "metadata": {},
   "outputs": [
    {
     "data": {
      "text/plain": [
       "3"
      ]
     },
     "execution_count": 32,
     "metadata": {},
     "output_type": "execute_result"
    }
   ],
   "source": [
    "maxProfit(prices = [1,2,3,0,2])"
   ]
  },
  {
   "cell_type": "code",
   "execution_count": null,
   "id": "c94874c3",
   "metadata": {},
   "outputs": [],
   "source": []
  }
 ],
 "metadata": {
  "kernelspec": {
   "display_name": "Python 3",
   "language": "python",
   "name": "python3"
  },
  "language_info": {
   "codemirror_mode": {
    "name": "ipython",
    "version": 3
   },
   "file_extension": ".py",
   "mimetype": "text/x-python",
   "name": "python",
   "nbconvert_exporter": "python",
   "pygments_lexer": "ipython3",
   "version": "3.11.9"
  }
 },
 "nbformat": 4,
 "nbformat_minor": 5
}
