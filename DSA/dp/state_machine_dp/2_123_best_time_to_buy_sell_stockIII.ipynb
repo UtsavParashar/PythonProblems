{
 "cells": [
  {
   "cell_type": "markdown",
   "id": "4b26e95e",
   "metadata": {},
   "source": [
    "#### Best Time to Buy and Sell Stock\n",
    "\n",
    "* https://leetcode.com/problems/best-time-to-buy-and-sell-stock-iii/description/"
   ]
  },
  {
   "cell_type": "code",
   "execution_count": 26,
   "id": "b9efd242",
   "metadata": {},
   "outputs": [],
   "source": [
    "# Pythonic - Greedy approach \n",
    "## Credit - https://www.youtube.com/watch?v=gVavspgEHyM\n",
    "## Credit - https://www.youtube.com/watch?v=lJxuwClVN2w\n",
    "\n",
    "## Prefer this solution over generic dp one\n",
    "def max_profit(prices: list[int]) -> int:\n",
    "    if not prices:\n",
    "        return 0\n",
    "\n",
    "    first_buy, second_buy = float('-inf'), float('-inf')\n",
    "    first_sell, second_sell = 0, 0\n",
    "\n",
    "    for price in prices:\n",
    "        first_buy = max(first_buy, -price)\n",
    "        first_sell = max(first_sell, first_buy + price)\n",
    "        second_buy = max(second_buy, first_sell - price)\n",
    "        second_sell = max(second_sell, second_buy + price)\n",
    "\n",
    "    return second_sell"
   ]
  },
  {
   "cell_type": "code",
   "execution_count": 12,
   "id": "20d83fa6",
   "metadata": {},
   "outputs": [
    {
     "data": {
      "text/plain": [
       "4"
      ]
     },
     "execution_count": 12,
     "metadata": {},
     "output_type": "execute_result"
    }
   ],
   "source": [
    "max_profit([1,2,3,4,5])"
   ]
  },
  {
   "cell_type": "code",
   "execution_count": null,
   "id": "6f5ad560",
   "metadata": {},
   "outputs": [],
   "source": [
    "def generic_dp_solution(prices: list[int]) -> int:\n",
    "    if not prices:\n",
    "        return 0\n",
    "\n",
    "    dp = [0] * len(prices) # We are storing the results in dp because of 2nd iteration as max two iterations are allowed\n",
    "\n",
    "    for _ in range(2):\n",
    "        buy_px, profit = float('-inf'), 0\n",
    "        for i, price in enumerate(prices):\n",
    "            buy_px = max(buy_px, dp[i] - price)\n",
    "            dp[i] = profit = max(profit, buy_px + price)\n",
    "    \n",
    "    return dp[-1]"
   ]
  },
  {
   "cell_type": "code",
   "execution_count": 25,
   "id": "e22a33ea",
   "metadata": {},
   "outputs": [
    {
     "name": "stdout",
     "output_type": "stream",
     "text": [
      "-3 0\n",
      "[0, 0, 0, 0, 0, 0, 0, 0]\n",
      "-3 0\n",
      "[0, 0, 0, 0, 0, 0, 0, 0]\n",
      "-3 2\n",
      "[0, 0, 2, 0, 0, 0, 0, 0]\n",
      "0 2\n",
      "[0, 0, 2, 2, 0, 0, 0, 0]\n",
      "0 2\n",
      "[0, 0, 2, 2, 2, 0, 0, 0]\n",
      "0 3\n",
      "[0, 0, 2, 2, 2, 3, 0, 0]\n",
      "0 3\n",
      "[0, 0, 2, 2, 2, 3, 3, 0]\n",
      "0 4\n",
      "[0, 0, 2, 2, 2, 3, 3, 4]\n",
      "-3 0\n",
      "[0, 0, 2, 2, 2, 3, 3, 4]\n",
      "-3 0\n",
      "[0, 0, 2, 2, 2, 3, 3, 4]\n",
      "-3 2\n",
      "[0, 0, 2, 2, 2, 3, 3, 4]\n",
      "2 2\n",
      "[0, 0, 2, 2, 2, 3, 3, 4]\n",
      "2 2\n",
      "[0, 0, 2, 2, 2, 3, 3, 4]\n",
      "2 5\n",
      "[0, 0, 2, 2, 2, 5, 3, 4]\n",
      "2 5\n",
      "[0, 0, 2, 2, 2, 5, 5, 4]\n",
      "2 6\n",
      "[0, 0, 2, 2, 2, 5, 5, 6]\n"
     ]
    },
    {
     "data": {
      "text/plain": [
       "6"
      ]
     },
     "execution_count": 25,
     "metadata": {},
     "output_type": "execute_result"
    }
   ],
   "source": [
    "generic_dp_solution([3,3,5,0,0,3,1,4])"
   ]
  },
  {
   "cell_type": "code",
   "execution_count": null,
   "id": "04850e42",
   "metadata": {},
   "outputs": [],
   "source": []
  },
  {
   "cell_type": "code",
   "execution_count": null,
   "id": "3b4397d2",
   "metadata": {},
   "outputs": [],
   "source": []
  },
  {
   "cell_type": "code",
   "execution_count": null,
   "id": "3eb35928",
   "metadata": {},
   "outputs": [],
   "source": []
  },
  {
   "cell_type": "code",
   "execution_count": null,
   "id": "e7b85956",
   "metadata": {},
   "outputs": [],
   "source": []
  },
  {
   "cell_type": "code",
   "execution_count": null,
   "id": "96b4afe0",
   "metadata": {},
   "outputs": [],
   "source": []
  },
  {
   "cell_type": "code",
   "execution_count": null,
   "id": "a3485479",
   "metadata": {},
   "outputs": [],
   "source": []
  },
  {
   "cell_type": "code",
   "execution_count": null,
   "id": "bcf6de98",
   "metadata": {},
   "outputs": [],
   "source": []
  },
  {
   "cell_type": "code",
   "execution_count": null,
   "id": "127fd6c3",
   "metadata": {},
   "outputs": [],
   "source": []
  },
  {
   "cell_type": "code",
   "execution_count": null,
   "id": "4d32e8ce",
   "metadata": {},
   "outputs": [],
   "source": []
  },
  {
   "cell_type": "code",
   "execution_count": null,
   "id": "2dd696fc",
   "metadata": {},
   "outputs": [],
   "source": []
  },
  {
   "cell_type": "markdown",
   "id": "4afe9fcd",
   "metadata": {},
   "source": [
    "#### Explanation\n",
    "\n",
    "This code is a more Pythonic implementation of the \"Best Time to Buy and Sell Stock III\" problem. It calculates the maximum profit that can be achieved by performing at most two transactions (buy and sell) on a list of stock prices.\n",
    "\n",
    "### Explanation:\n",
    "\n",
    "1. **Input Validation**:\n",
    "    ```python\n",
    "    if not prices:\n",
    "         return 0\n",
    "    ```\n",
    "    If the `prices` list is empty, the function immediately returns `0` since no transactions can be made.\n",
    "\n",
    "2. **Initialization**:\n",
    "    ```python\n",
    "    first_buy, second_buy = float('-inf'), float('-inf')\n",
    "    first_sell, second_sell = 0, 0\n",
    "    ```\n",
    "    - `first_buy`: Tracks the maximum profit after the first buy (negative because buying reduces profit).\n",
    "    - `first_sell`: Tracks the maximum profit after the first sell.\n",
    "    - `second_buy`: Tracks the maximum profit after the second buy.\n",
    "    - `second_sell`: Tracks the maximum profit after the second sell.\n",
    "\n",
    "    Initially, `first_buy` and `second_buy` are set to negative infinity because we want to maximize profit, and `first_sell` and `second_sell` are set to `0` since no profit is made yet.\n",
    "\n",
    "3. **Iterating Through Prices**:\n",
    "    ```python\n",
    "    for price in prices:\n",
    "    ```\n",
    "    The loop iterates through each stock price in the `prices` list.\n",
    "\n",
    "4. **Updating Variables**:\n",
    "    ```python\n",
    "    first_buy = max(first_buy, -price)\n",
    "    ```\n",
    "    - This calculates the maximum profit after the first buy. It compares the current `first_buy` with `-price` (negative because buying reduces profit).\n",
    "\n",
    "    ```python\n",
    "    first_sell = max(first_sell, first_buy + price)\n",
    "    ```\n",
    "    - This calculates the maximum profit after the first sell. It compares the current `first_sell` with the profit from selling the stock after the first buy (`first_buy + price`).\n",
    "\n",
    "    ```python\n",
    "    second_buy = max(second_buy, first_sell - price)\n",
    "    ```\n",
    "    - This calculates the maximum profit after the second buy. It compares the current `second_buy` with the profit from buying the stock after the first sell (`first_sell - price`).\n",
    "\n",
    "    ```python\n",
    "    second_sell = max(second_sell, second_buy + price)\n",
    "    ```\n",
    "    - This calculates the maximum profit after the second sell. It compares the current `second_sell` with the profit from selling the stock after the second buy (`second_buy + price`).\n",
    "\n",
    "5. **Return the Result**:\n",
    "    ```python\n",
    "    return second_sell\n",
    "    ```\n",
    "    The maximum profit after at most two transactions is stored in `second_sell`, which is returned as the result.\n",
    "\n",
    "### Key Points:\n",
    "- The algorithm uses a greedy approach to track the best possible profits at each step.\n",
    "- It ensures that at most two transactions are performed by maintaining separate variables for the first and second buy/sell operations.\n",
    "- The time complexity is \\(O(n)\\), where \\(n\\) is the length of the `prices` list, as it iterates through the list once. The space complexity is \\(O(1)\\) since it uses a constant amount of extra space."
   ]
  },
  {
   "cell_type": "code",
   "execution_count": null,
   "id": "d1a361e4",
   "metadata": {},
   "outputs": [],
   "source": [
    "\n",
    "\n"
   ]
  },
  {
   "cell_type": "code",
   "execution_count": null,
   "id": "442b14ab",
   "metadata": {},
   "outputs": [],
   "source": []
  }
 ],
 "metadata": {
  "kernelspec": {
   "display_name": "Python 3",
   "language": "python",
   "name": "python3"
  },
  "language_info": {
   "codemirror_mode": {
    "name": "ipython",
    "version": 3
   },
   "file_extension": ".py",
   "mimetype": "text/x-python",
   "name": "python",
   "nbconvert_exporter": "python",
   "pygments_lexer": "ipython3",
   "version": "3.11.9"
  }
 },
 "nbformat": 4,
 "nbformat_minor": 5
}
