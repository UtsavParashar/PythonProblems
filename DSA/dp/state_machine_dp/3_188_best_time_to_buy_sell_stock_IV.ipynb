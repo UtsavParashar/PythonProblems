{
 "cells": [
  {
   "cell_type": "markdown",
   "id": "6470af0e",
   "metadata": {},
   "source": [
    "#### 188. Best Time to Buy and Sell Stock IV\n",
    "\n",
    "* https://leetcode.com/problems/best-time-to-buy-and-sell-stock-iv/description/\n"
   ]
  },
  {
   "cell_type": "code",
   "execution_count": 41,
   "id": "7b22b8e0",
   "metadata": {},
   "outputs": [],
   "source": [
    "## Credit - https://www.youtube.com/watch?v=lJxuwClVN2w\n",
    "## Same logic is being used for best_time_to_buy_sell_stock_IV\n",
    "\n",
    "def generic_dp_solution(k: int, prices: list[int]) -> int:\n",
    "    if not prices or k == 0:\n",
    "        return 0\n",
    "\n",
    "    dp = [0] * len(prices)\n",
    "\n",
    "    for _ in range(k):\n",
    "        buy_px, profit = float('-inf'), 0\n",
    "        for i, price in enumerate(prices):\n",
    "            buy_px = max(buy_px, dp[i] - price)\n",
    "            dp[i] = profit = max(profit, buy_px + price)\n",
    "    \n",
    "    return dp[-1]"
   ]
  },
  {
   "cell_type": "code",
   "execution_count": 42,
   "id": "7c318ab2",
   "metadata": {},
   "outputs": [
    {
     "data": {
      "text/plain": [
       "6"
      ]
     },
     "execution_count": 42,
     "metadata": {},
     "output_type": "execute_result"
    }
   ],
   "source": [
    "generic_dp_solution(2, [3,3,5,0,0,3,1,4])"
   ]
  },
  {
   "cell_type": "code",
   "execution_count": 40,
   "id": "5c0e3fd9",
   "metadata": {},
   "outputs": [
    {
     "data": {
      "text/plain": [
       "7"
      ]
     },
     "execution_count": 40,
     "metadata": {},
     "output_type": "execute_result"
    }
   ],
   "source": [
    "generic_dp_solution(k = 2, prices = [3,2,6,5,0,3])"
   ]
  },
  {
   "cell_type": "markdown",
   "id": "d613c275",
   "metadata": {},
   "source": [
    "Certainly! Here's an explanation of the `generic_dp_solution` function:\n",
    "\n",
    "### Purpose:\n",
    "The function solves the \"Best Time to Buy and Sell Stock IV\" problem using dynamic programming. It calculates the maximum profit you can achieve by making at most `k` transactions (buying and selling stocks) given a list of stock prices (`prices`).\n",
    "\n",
    "### Parameters:\n",
    "- `k`: The maximum number of transactions allowed.\n",
    "- `prices`: A list of integers representing the stock prices on different days.\n",
    "\n",
    "### Explanation:\n",
    "1. **Base Case**:\n",
    "    ```python\n",
    "    if not prices or k == 0:\n",
    "         return 0\n",
    "    ```\n",
    "    If the `prices` list is empty or `k` is 0 (no transactions allowed), the maximum profit is `0`.\n",
    "\n",
    "2. **Initialization**:\n",
    "    ```python\n",
    "    dp = [0] * len(prices)\n",
    "    ```\n",
    "    `dp` is a list where `dp[i]` represents the maximum profit achievable up to day `i`.\n",
    "\n",
    "3. **Outer Loop (Transactions)**:\n",
    "    ```python\n",
    "    for _ in range(k):\n",
    "    ```\n",
    "    This loop runs `k` times, representing each transaction (buy and sell).\n",
    "\n",
    "4. **Inner Loop (Days)**:\n",
    "    ```python\n",
    "    buy_px, profit = float('-inf'), 0\n",
    "    for i, price in enumerate(prices):\n",
    "    ```\n",
    "    - `buy_px` keeps track of the maximum profit if you buy a stock on a given day.\n",
    "    - `profit` stores the maximum profit achieved so far.\n",
    "\n",
    "5. **Update `buy_px` and `dp`**:\n",
    "    ```python\n",
    "    buy_px = max(buy_px, dp[i] - price)\n",
    "    dp[i] = profit = max(profit, buy_px + price)\n",
    "    ```\n",
    "    - `buy_px = max(buy_px, dp[i] - price)`:\n",
    "      - This calculates the best \"buying opportunity\" by considering the profit from previous transactions (`dp[i]`) minus the current price.\n",
    "    - `dp[i] = profit = max(profit, buy_px + price)`:\n",
    "      - This updates the maximum profit for the current day by considering the profit from selling the stock at the current price (`buy_px + price`).\n",
    "\n",
    "6. **Return the Result**:\n",
    "    ```python\n",
    "    return dp[-1]\n",
    "    ```\n",
    "    The last element of `dp` (`dp[-1]`) contains the maximum profit achievable after all transactions.\n",
    "\n",
    "### Example:\n",
    "For `k = 2` and `prices = [2, 4, 1]`:\n",
    "- The function calculates the maximum profit you can achieve by making at most 2 transactions.\n",
    "- The result is `2`, which corresponds to buying at `2` and selling at `4`.\n",
    "\n",
    "Let me know if you need further clarification!"
   ]
  }
 ],
 "metadata": {
  "kernelspec": {
   "display_name": "Python 3",
   "language": "python",
   "name": "python3"
  },
  "language_info": {
   "codemirror_mode": {
    "name": "ipython",
    "version": 3
   },
   "file_extension": ".py",
   "mimetype": "text/x-python",
   "name": "python",
   "nbconvert_exporter": "python",
   "pygments_lexer": "ipython3",
   "version": "3.11.9"
  }
 },
 "nbformat": 4,
 "nbformat_minor": 5
}
