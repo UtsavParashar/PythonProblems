{
 "cells": [
  {
   "cell_type": "markdown",
   "id": "a206e606",
   "metadata": {},
   "source": [
    "#### 968. Binary Tree Cameras\n",
    "\n",
    "* https://leetcode.com/problems/binary-tree-cameras/description/\n",
    "\n",
    "## ['DE Shaw', 'Graviton']"
   ]
  },
  {
   "cell_type": "code",
   "execution_count": null,
   "id": "21f97710",
   "metadata": {},
   "outputs": [],
   "source": [
    "# TC - O(n)\n",
    "# SC - O(h)\n",
    "\n",
    "class TreeNode:\n",
    "    def __init__(self, val=0, left=None, right=None):\n",
    "        self.val = val\n",
    "        self.left = left\n",
    "        self.right = right\n",
    "\n",
    "# States \n",
    "# 0 - Uncovered\n",
    "# 1 - Has camera\n",
    "# 2 - Covered by camera\n",
    "class Solution:\n",
    "    def minCameraCover(self, root) -> int:\n",
    "        self.cam = 0\n",
    "        def dfs(node):\n",
    "            if not node: \n",
    "                return 2\n",
    "            l, r = dfs(node.left), dfs(node.right)\n",
    "            \n",
    "            if l==0 or r==0:\n",
    "                self.cam += 1\n",
    "                return 1\n",
    "            if l==1 or r==1:\n",
    "                return 2\n",
    "            \n",
    "            return 0\n",
    "        return (dfs(root) == 0) + self.cam  # handles for the root node # This will not work --> self.cam + (dfs(root) == 0) "
   ]
  },
  {
   "cell_type": "markdown",
   "id": "19a1d3be",
   "metadata": {},
   "source": [
    "You’re right to flag that — it’s a subtle evaluation order bug.\n",
    "\n",
    "In Python, binary + evaluates left to right.\n",
    "\n",
    "return self.cams + (dfs(root) == \"cover_me\") reads self.cams before running dfs, so it uses the stale count (since dfs increments self.cams during recursion).\n",
    "\n",
    "return (dfs(root) == \"cover_me\") + self.cams runs dfs first, then reads the updated self.cams."
   ]
  },
  {
   "cell_type": "code",
   "execution_count": 6,
   "id": "04dc488b",
   "metadata": {},
   "outputs": [
    {
     "data": {
      "text/plain": [
       "1"
      ]
     },
     "execution_count": 6,
     "metadata": {},
     "output_type": "execute_result"
    }
   ],
   "source": [
    "(None==0) + 1"
   ]
  },
  {
   "cell_type": "code",
   "execution_count": null,
   "id": "94864bc8",
   "metadata": {},
   "outputs": [],
   "source": []
  }
 ],
 "metadata": {
  "kernelspec": {
   "display_name": "Python 3",
   "language": "python",
   "name": "python3"
  },
  "language_info": {
   "codemirror_mode": {
    "name": "ipython",
    "version": 3
   },
   "file_extension": ".py",
   "mimetype": "text/x-python",
   "name": "python",
   "nbconvert_exporter": "python",
   "pygments_lexer": "ipython3",
   "version": "3.11.9"
  }
 },
 "nbformat": 4,
 "nbformat_minor": 5
}
