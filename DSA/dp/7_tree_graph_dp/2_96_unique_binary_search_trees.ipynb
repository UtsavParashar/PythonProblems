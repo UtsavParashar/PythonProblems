{
 "cells": [
  {
   "cell_type": "markdown",
   "id": "2297eeef",
   "metadata": {},
   "source": [
    "#### 96. Unique Binary Search Trees\n",
    "* https://leetcode.com/problems/unique-binary-search-trees/description/\n",
    "\n",
    "## ['Bloomberg', 'Tower Research Capital', 'Amazon', 'Apple']"
   ]
  },
  {
   "cell_type": "code",
   "execution_count": null,
   "id": "06aaff17",
   "metadata": {},
   "outputs": [
    {
     "data": {
      "text/plain": [
       "5"
      ]
     },
     "execution_count": 6,
     "metadata": {},
     "output_type": "execute_result"
    }
   ],
   "source": [
    "# Tabulation\n",
    "# TC, SC - (n^2), each nodes value computed once, each requiring O(n) loop.\n",
    "# SC - O(n) — memo storage + recursion stack.\n",
    "\n",
    "class Solution:\n",
    "    def numTrees(self, n: int) -> int:\n",
    "        dp = [1]*(n+1) # dp[0] = dp[1] = 1\n",
    "        \n",
    "        for nodes in range(2, n+1):\n",
    "            total = 0\n",
    "            for root in range(1, nodes+1):\n",
    "                left_trees = dp[root-1]\n",
    "                right_trees = dp[nodes - root]\n",
    "                total += left_trees * right_trees\n",
    "\n",
    "            dp[nodes] = total\n",
    "\n",
    "        return dp[n]\n",
    "\n",
    "Solution().numTrees(3)"
   ]
  },
  {
   "cell_type": "code",
   "execution_count": null,
   "id": "c5896087",
   "metadata": {},
   "outputs": [
    {
     "data": {
      "text/plain": [
       "5"
      ]
     },
     "execution_count": 3,
     "metadata": {},
     "output_type": "execute_result"
    }
   ],
   "source": [
    "# Memo\n",
    "# TC, SC - (n^2), each nodes value computed once, each requiring O(n) loop.\n",
    "# SC - O(n) — memo storage + recursion stack.\n",
    "\n",
    "class Solution:\n",
    "    def numTrees(self, n: int) -> int:\n",
    "        memo = {}\n",
    "        def count_trees(nodes):\n",
    "            if nodes <= 1:\n",
    "                return 1\n",
    "\n",
    "            if nodes in memo:\n",
    "                return memo[nodes]\n",
    "\n",
    "            total = 0\n",
    "            for root in range(1, nodes+1):\n",
    "                left_trees = count_trees(root-1)\n",
    "                right_trees = count_trees(nodes - root)\n",
    "                total += left_trees * right_trees\n",
    "\n",
    "            memo[nodes] = total\n",
    "            return total\n",
    "\n",
    "        return count_trees(n)\n",
    "\n",
    "Solution().numTrees(3)"
   ]
  },
  {
   "cell_type": "code",
   "execution_count": 2,
   "id": "b7c0a508",
   "metadata": {},
   "outputs": [
    {
     "data": {
      "text/plain": [
       "5"
      ]
     },
     "execution_count": 2,
     "metadata": {},
     "output_type": "execute_result"
    }
   ],
   "source": [
    "class Solution:\n",
    "    def numTrees(self, n: int) -> int:\n",
    "        memo = {}\n",
    "        def count_trees(nodes):\n",
    "            if nodes <= 1:\n",
    "                return 1\n",
    "\n",
    "            if nodes in memo:\n",
    "                return memo[nodes]\n",
    "\n",
    "            total = 0\n",
    "            for root in range(1, nodes+1):\n",
    "                left_trees = count_trees(root-1)\n",
    "                right_trees = count_trees(nodes - root)\n",
    "                total += left_trees * right_trees\n",
    "\n",
    "            memo[nodes] = total\n",
    "            return total\n",
    "\n",
    "        return count_trees(n)\n",
    "    \n",
    "Solution().numTrees(3)"
   ]
  }
 ],
 "metadata": {
  "kernelspec": {
   "display_name": "Python 3",
   "language": "python",
   "name": "python3"
  },
  "language_info": {
   "codemirror_mode": {
    "name": "ipython",
    "version": 3
   },
   "file_extension": ".py",
   "mimetype": "text/x-python",
   "name": "python",
   "nbconvert_exporter": "python",
   "pygments_lexer": "ipython3",
   "version": "3.11.9"
  }
 },
 "nbformat": 4,
 "nbformat_minor": 5
}
