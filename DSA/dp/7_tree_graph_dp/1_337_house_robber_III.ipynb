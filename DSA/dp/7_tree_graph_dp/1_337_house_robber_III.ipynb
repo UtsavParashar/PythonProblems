{
 "cells": [
  {
   "cell_type": "markdown",
   "id": "80ee8dc8",
   "metadata": {},
   "source": [
    "## 337. House Robber III\n",
    "* https://leetcode.com/problems/house-robber-iii/description/"
   ]
  },
  {
   "cell_type": "code",
   "execution_count": null,
   "id": "0426d91d",
   "metadata": {},
   "outputs": [],
   "source": []
  },
  {
   "cell_type": "code",
   "execution_count": null,
   "id": "3da34651",
   "metadata": {},
   "outputs": [],
   "source": []
  },
  {
   "cell_type": "code",
   "execution_count": null,
   "id": "a5fc6bb0",
   "metadata": {},
   "outputs": [],
   "source": []
  },
  {
   "cell_type": "code",
   "execution_count": null,
   "id": "a00b8d27",
   "metadata": {},
   "outputs": [
    {
     "data": {
      "text/plain": [
       "240"
      ]
     },
     "execution_count": 5,
     "metadata": {},
     "output_type": "execute_result"
    }
   ],
   "source": [
    "# Memoization\n",
    "# TC- O(n)\n",
    "# SC - O(h)\n",
    "\n",
    "# Definition for a binary tree node.\n",
    "class TreeNode:\n",
    "    def __init__(self, val=0, left=None, right=None):\n",
    "        self.val = val\n",
    "        self.left = left\n",
    "        self.right = right\n",
    "class Solution:\n",
    "    def rob(self, root) -> int:\n",
    "        memo = {}\n",
    "\n",
    "        def dfs(node):\n",
    "            if not node:\n",
    "                return 0\n",
    "        \n",
    "            if node in memo:\n",
    "                return memo[node]\n",
    "\n",
    "            with_root = node.val\n",
    "            if node.left:\n",
    "                with_root += dfs(node.left.left) + dfs(node.left.right)\n",
    "            if node.right:\n",
    "                with_root += dfs(node.right.left) + dfs(node.right.right)\n",
    "\n",
    "            without_root = dfs(node.left) + dfs(node.right)\n",
    "\n",
    "            memo[node] = max(with_root, without_root)\n",
    "            return memo[node]\n",
    "        \n",
    "        return dfs(root)\n",
    "\n",
    "\n",
    "root = TreeNode(3)\n",
    "root.left = TreeNode(200)\n",
    "root.right = TreeNode(4)\n",
    "root.left.left = TreeNode(100)\n",
    "root.right.left = TreeNode(40)\n",
    "Solution().rob(root)"
   ]
  },
  {
   "cell_type": "code",
   "execution_count": 3,
   "id": "cfaf4347",
   "metadata": {},
   "outputs": [
    {
     "data": {
      "text/plain": [
       "143"
      ]
     },
     "execution_count": 3,
     "metadata": {},
     "output_type": "execute_result"
    }
   ],
   "source": [
    "# Brute Force\n",
    "# TC- O(2^n)\n",
    "# SC - O(h)\n",
    "\n",
    "# Definition for a binary tree node.\n",
    "class TreeNode:\n",
    "    def __init__(self, val=0, left=None, right=None):\n",
    "        self.val = val\n",
    "        self.left = left\n",
    "        self.right = right\n",
    "class Solution:\n",
    "    def rob(self, root) -> int:\n",
    "        if not root:\n",
    "            return 0\n",
    "\n",
    "        with_root = root.val\n",
    "        if root.left:\n",
    "            with_root += self.rob(root.left.left) + self.rob(root.left.right)\n",
    "        if root.right:\n",
    "            with_root += self.rob(root.right.left) + self.rob(root.right.right)\n",
    "\n",
    "        without_root = self.rob(root.left) + self.rob(root.right)\n",
    "\n",
    "        return max(with_root, without_root)\n",
    "\n",
    "\n",
    "root = TreeNode(3)\n",
    "root.left = TreeNode(20)\n",
    "root.right = TreeNode(4)\n",
    "root.left.left = TreeNode(100)\n",
    "root.right.left = TreeNode(40)\n",
    "Solution().rob(root)"
   ]
  },
  {
   "cell_type": "code",
   "execution_count": null,
   "id": "ad5045ce",
   "metadata": {},
   "outputs": [],
   "source": []
  }
 ],
 "metadata": {
  "kernelspec": {
   "display_name": "Python 3",
   "language": "python",
   "name": "python3"
  },
  "language_info": {
   "codemirror_mode": {
    "name": "ipython",
    "version": 3
   },
   "file_extension": ".py",
   "mimetype": "text/x-python",
   "name": "python",
   "nbconvert_exporter": "python",
   "pygments_lexer": "ipython3",
   "version": "3.11.9"
  }
 },
 "nbformat": 4,
 "nbformat_minor": 5
}
