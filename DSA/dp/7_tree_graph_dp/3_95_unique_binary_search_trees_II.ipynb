{
 "cells": [
  {
   "cell_type": "markdown",
   "id": "ed5a19fd",
   "metadata": {},
   "source": [
    "### 95. Unique Binary Search Trees II"
   ]
  },
  {
   "cell_type": "code",
   "execution_count": null,
   "id": "1aee5c5a",
   "metadata": {},
   "outputs": [],
   "source": [
    "# Definition for a binary tree node.\n",
    "class TreeNode:\n",
    "    def __init__(self, val=0, left=None, right=None):\n",
    "        self.val = val\n",
    "        self.left = left\n",
    "        self.right = right\n",
    "class Solution:\n",
    "    def generateTrees(self, n: int):\n",
    "        memo = {}\n",
    "\n",
    "        def generate(left, right):\n",
    "            if left > right:\n",
    "                return [None]\n",
    "            \n",
    "            if (left, right) in memo:\n",
    "                return memo[(left, right)]\n",
    "\n",
    "            res = []\n",
    "            \n",
    "            for val in range(left, right+1):\n",
    "                for leftTree in generate(left, val-1):\n",
    "                    for rightTree in generate(val+1, right):\n",
    "                        root = TreeNode(val, leftTree, rightTree)\n",
    "                        res.append(root)\n",
    "            memo[(left, right)] = res\n",
    "            return res\n",
    "        return generate(1, n)"
   ]
  },
  {
   "cell_type": "code",
   "execution_count": null,
   "id": "8bedfb29",
   "metadata": {},
   "outputs": [],
   "source": [
    "\n"
   ]
  }
 ],
 "metadata": {
  "kernelspec": {
   "display_name": "Python 3",
   "language": "python",
   "name": "python3"
  },
  "language_info": {
   "name": "python",
   "version": "3.11.9"
  }
 },
 "nbformat": 4,
 "nbformat_minor": 5
}
