{
 "cells": [
  {
   "cell_type": "markdown",
   "id": "ed5a19fd",
   "metadata": {},
   "source": [
    "### 95. Unique Binary Search Trees II\n",
    "\n",
    "* https://leetcode.com/problems/unique-binary-search-trees-ii/\n",
    "\n",
    "## ['Bloomberg', 'Meta', 'Amazon', 'Apple', 'Uber']"
   ]
  },
  {
   "cell_type": "code",
   "execution_count": 1,
   "id": "1aee5c5a",
   "metadata": {},
   "outputs": [],
   "source": [
    "# Definition for a binary tree node.\n",
    "# Code and Explanation - https://www.youtube.com/watch?v=m907FlQa2Yc\n",
    "\n",
    "class TreeNode:\n",
    "    def __init__(self, val=0, left=None, right=None):\n",
    "        self.val = val\n",
    "        self.left = left\n",
    "        self.right = right\n",
    "class Solution:\n",
    "    def generateTrees(self, n: int):\n",
    "        memo = {}\n",
    "\n",
    "        def generate(left, right):\n",
    "            if left > right:\n",
    "                return [None]\n",
    "            \n",
    "            if (left, right) in memo:\n",
    "                return memo[(left, right)]\n",
    "\n",
    "            res = []\n",
    "            \n",
    "            for val in range(left, right+1):\n",
    "                for leftTree in generate(left, val-1):\n",
    "                    for rightTree in generate(val+1, right):\n",
    "                        root = TreeNode(val, leftTree, rightTree)\n",
    "                        res.append(root)\n",
    "            memo[(left, right)] = res\n",
    "            return res\n",
    "        return generate(1, n)"
   ]
  },
  {
   "cell_type": "code",
   "execution_count": null,
   "id": "8bedfb29",
   "metadata": {},
   "outputs": [],
   "source": [
    "\n"
   ]
  }
 ],
 "metadata": {
  "kernelspec": {
   "display_name": "Python 3",
   "language": "python",
   "name": "python3"
  },
  "language_info": {
   "codemirror_mode": {
    "name": "ipython",
    "version": 3
   },
   "file_extension": ".py",
   "mimetype": "text/x-python",
   "name": "python",
   "nbconvert_exporter": "python",
   "pygments_lexer": "ipython3",
   "version": "3.11.9"
  }
 },
 "nbformat": 4,
 "nbformat_minor": 5
}
