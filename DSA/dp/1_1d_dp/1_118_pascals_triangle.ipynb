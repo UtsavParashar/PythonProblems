{
 "cells": [
  {
   "cell_type": "markdown",
   "id": "f0800f1c",
   "metadata": {},
   "source": [
    "#### 118. Pascal's Triangle\n",
    "\n",
    "* https://leetcode.com/problems/pascals-triangle/description/\n",
    "\n",
    "- Given an integer numRows, return the first numRows of Pascal's triangle.\n",
    "- In Pascal's triangle, each number is the sum of the two numbers directly above it as shown:\n",
    "\n",
    "Example 1:\n",
    "\n",
    "Input: numRows = 5\n",
    "Output: [[1],[1,1],[1,2,1],[1,3,3,1],[1,4,6,4,1]]\n",
    "Example 2:\n",
    "\n",
    "Input: numRows = 1\n",
    "Output: [[1]]"
   ]
  },
  {
   "cell_type": "code",
   "execution_count": null,
   "id": "fce5060c",
   "metadata": {},
   "outputs": [],
   "source": [
    "# Credit - https://www.youtube.com/watch?v=nPVEaB3AjUM\n",
    "def generate(num_rows: int) -> list[list[int]]:\n",
    "    res = [[1]]\n",
    "\n",
    "    for _ in range(num_rows-1):\n",
    "        temp = [0] + res[-1] + [0]\n",
    "        curr_row = []\n",
    "        for j in range(len(res[-1])+1):\n",
    "            curr_row.append(temp[j] + temp[j+1])\n",
    "        \n",
    "        res.append(curr_row)\n",
    "    \n",
    "    return res\n"
   ]
  },
  {
   "cell_type": "code",
   "execution_count": 5,
   "id": "7639f367",
   "metadata": {},
   "outputs": [
    {
     "data": {
      "text/plain": [
       "[[1], [1, 1], [1, 2, 1], [1, 3, 3, 1], [1, 4, 6, 4, 1]]"
      ]
     },
     "execution_count": 5,
     "metadata": {},
     "output_type": "execute_result"
    }
   ],
   "source": [
    "generate(5)"
   ]
  },
  {
   "cell_type": "code",
   "execution_count": null,
   "id": "b8b6a74a",
   "metadata": {},
   "outputs": [],
   "source": [
    "def generate(num_rows: int) -> list[list[int]]:\n",
    "    res = [[1]]\n",
    "\n",
    "    for _ in range(1, num_rows):\n",
    "        curr_row = [1] + [res[-1][j] + res[-1][j+1] for j in range(len(res[-1]) - 1)] + [1]\n",
    "        res.append(curr_row)\n",
    "    \n",
    "    return res"
   ]
  }
 ],
 "metadata": {
  "kernelspec": {
   "display_name": "Python 3",
   "language": "python",
   "name": "python3"
  },
  "language_info": {
   "codemirror_mode": {
    "name": "ipython",
    "version": 3
   },
   "file_extension": ".py",
   "mimetype": "text/x-python",
   "name": "python",
   "nbconvert_exporter": "python",
   "pygments_lexer": "ipython3",
   "version": "3.11.9"
  }
 },
 "nbformat": 4,
 "nbformat_minor": 5
}
