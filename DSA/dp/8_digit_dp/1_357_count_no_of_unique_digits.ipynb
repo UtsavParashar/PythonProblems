{
 "cells": [
  {
   "cell_type": "markdown",
   "id": "27ec2701",
   "metadata": {},
   "source": [
    "### 357. Count Numbers with Unique Digits\n",
    "\n",
    "* https://leetcode.com/problems/count-numbers-with-unique-digits/description/\n",
    "\n",
    "## ['J.P. Morgan']"
   ]
  },
  {
   "cell_type": "code",
   "execution_count": 5,
   "id": "c483118c",
   "metadata": {},
   "outputs": [
    {
     "data": {
      "text/plain": [
       "5275"
      ]
     },
     "execution_count": 5,
     "metadata": {},
     "output_type": "execute_result"
    }
   ],
   "source": [
    "# Explanation - https://www.youtube.com/watch?v=nrDNGVW59c8&t=6s\n",
    "\n",
    "from math import factorial\n",
    "\n",
    "class Solution:\n",
    "    def countNumbersWithUniqueDigits(self, n: int) -> int:\n",
    "        def perm(i):\n",
    "            return factorial(9)//factorial(9-i)\n",
    "\n",
    "\n",
    "        res = 1\n",
    "        for i in range(n):\n",
    "            res += 9*perm(i)\n",
    "\n",
    "        return res\n",
    "\n",
    "Solution().countNumbersWithUniqueDigits(4)"
   ]
  },
  {
   "cell_type": "code",
   "execution_count": null,
   "id": "0d5c2431",
   "metadata": {},
   "outputs": [],
   "source": []
  }
 ],
 "metadata": {
  "kernelspec": {
   "display_name": "Python 3",
   "language": "python",
   "name": "python3"
  },
  "language_info": {
   "codemirror_mode": {
    "name": "ipython",
    "version": 3
   },
   "file_extension": ".py",
   "mimetype": "text/x-python",
   "name": "python",
   "nbconvert_exporter": "python",
   "pygments_lexer": "ipython3",
   "version": "3.11.9"
  }
 },
 "nbformat": 4,
 "nbformat_minor": 5
}
