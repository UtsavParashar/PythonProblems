{
 "cells": [
  {
   "cell_type": "markdown",
   "id": "97c13f67",
   "metadata": {},
   "source": [
    "#### 1143. Longest Common Subsequence\n",
    "\n",
    "* https://leetcode.com/problems/longest-common-subsequence/description/\n",
    "\n",
    "Given two strings text1 and text2, return the length of their longest common subsequence. If there is no common subsequence, return 0.\n",
    "\n",
    "A subsequence of a string is a new string generated from the original string with some characters (can be none) deleted without changing the relative order of the remaining characters.\n",
    "\n",
    "For example, \"ace\" is a subsequence of \"abcde\".\n",
    "A common subsequence of two strings is a subsequence that is common to both strings.\n",
    "\n",
    " \n",
    "\n",
    "Example 1:\n",
    "\n",
    "Input: text1 = \"abcde\", text2 = \"ace\" \n",
    "Output: 3  \n",
    "Explanation: The longest common subsequence is \"ace\" and its length is 3.\n",
    "Example 2:\n",
    "\n",
    "Input: text1 = \"abc\", text2 = \"abc\"\n",
    "Output: 3\n",
    "Explanation: The longest common subsequence is \"abc\" and its length is 3.\n",
    "Example 3:\n",
    "\n",
    "Input: text1 = \"abc\", text2 = \"def\"\n",
    "Output: 0\n",
    "Explanation: There is no such common subsequence, so the result is 0.\n"
   ]
  },
  {
   "cell_type": "code",
   "execution_count": null,
   "id": "8ac470e3",
   "metadata": {},
   "outputs": [],
   "source": [
    "#Credit - https://www.youtube.com/watch?v=Ua0GhsJSlWM&t=283s - good explanation\n",
    "\n",
    "\n",
    "class Solution:\n",
    "    def longestCommonSubsequence(self, text1: str, text2: str) -> int:\n",
    "        m, n = len(text1), len(text2)\n",
    "\n",
    "        dp = [[0]*(n+1) for _ in range(m+1)]\n",
    "\n",
    "        for i in range(m-1, -1, -1):\n",
    "            for j in range(n-1, -1, -1):\n",
    "                if text1[i] == text2[j]:\n",
    "                    dp[i][j] = 1 + dp[i+1][j+1] # if chars match, go diagonal and add 1\n",
    "                else:\n",
    "                    dp[i][j] = max(dp[i+1][j], dp[i][j+1]) # else max of right or down\n",
    "        \n",
    "        return dp[0][0]"
   ]
  },
  {
   "cell_type": "code",
   "execution_count": null,
   "id": "c5b1c867",
   "metadata": {},
   "outputs": [],
   "source": [
    "# Space Optimized Solution with 2 rows at a time\n",
    "\n",
    "class Solution:\n",
    "    def longestCommonSubsequence(self, text1: str, text2: str) -> int:\n",
    "        m, n = len(text1), len(text2)\n",
    "\n",
    "        prev = [0]*(n+1)\n",
    "\n",
    "        for i in range(m-1, -1, -1):\n",
    "            curr = [0]*(n+1)\n",
    "            for j in range(n-1, -1, -1):\n",
    "                if text1[i] == text2[j]:\n",
    "                    curr[j] = 1 + prev[j+1]\n",
    "                else:\n",
    "                    curr[j] = max(curr[j+1], prev[j])\n",
    "        \n",
    "            prev = curr\n",
    "        \n",
    "        return prev[0]\n"
   ]
  },
  {
   "cell_type": "code",
   "execution_count": 1,
   "id": "4412f158",
   "metadata": {},
   "outputs": [],
   "source": [
    "#Credit - https://www.youtube.com/watch?v=Ua0GhsJSlWM&t=283s\n",
    "def longestCommonSubsequence(text1, text2):\n",
    "    dp = [[0]*(len(text2)+1) for _ in range(len(text1)+1)]\n",
    "\n",
    "    for i in range(len(text1)-1, -1, -1):\n",
    "        for j in range(len(text2)-1, -1, -1):\n",
    "            if text1[i] == text2[j]: # If the chars match, then add 1 and go diagonal\n",
    "                dp[i][j] = 1+ dp[i+1][j+1]\n",
    "            else:\n",
    "                dp[i][j] = max(dp[i][j+1], dp[i+1][j])  # If chars does not match, go to the max of right or down\n",
    "    return dp[0][0] # Final count will be at the 0th location"
   ]
  },
  {
   "cell_type": "code",
   "execution_count": 3,
   "id": "c41ad635",
   "metadata": {},
   "outputs": [
    {
     "data": {
      "text/plain": [
       "4"
      ]
     },
     "execution_count": 3,
     "metadata": {},
     "output_type": "execute_result"
    }
   ],
   "source": [
    "longestCommonSubsequence('bbbab', 'babbb')"
   ]
  },
  {
   "cell_type": "code",
   "execution_count": null,
   "id": "260c2321",
   "metadata": {},
   "outputs": [],
   "source": [
    "\n",
    "def longestCommonSubsequence(text1, text2):\n",
    "    dp = [[0]*(len(text2)+1) for _ in range(len(text1)+1)]\n",
    "\n",
    "    for i in range(1, len(text1)+1):\n",
    "        for j in range(1, len(text2)+1):\n",
    "            if text1[i-1] == text2[j-1]: # If the chars match, then add 1 and go diagonal\n",
    "                dp[i][j] = 1+ dp[i-1][j-1]\n",
    "            else:\n",
    "                dp[i][j] = max(dp[i][j-1], dp[i-1][j])  # If chars does not match, go to the max of right or down\n",
    "    return dp[len(text1)][len(text2)] # Final count will be at the 0th location"
   ]
  },
  {
   "cell_type": "code",
   "execution_count": 4,
   "id": "fd9c043f",
   "metadata": {},
   "outputs": [
    {
     "data": {
      "text/plain": [
       "3"
      ]
     },
     "execution_count": 4,
     "metadata": {},
     "output_type": "execute_result"
    }
   ],
   "source": [
    "longestCommonSubsequence('abcde', 'abc')"
   ]
  }
 ],
 "metadata": {
  "kernelspec": {
   "display_name": "Python 3",
   "language": "python",
   "name": "python3"
  },
  "language_info": {
   "codemirror_mode": {
    "name": "ipython",
    "version": 3
   },
   "file_extension": ".py",
   "mimetype": "text/x-python",
   "name": "python",
   "nbconvert_exporter": "python",
   "pygments_lexer": "ipython3",
   "version": "3.11.9"
  }
 },
 "nbformat": 4,
 "nbformat_minor": 5
}
