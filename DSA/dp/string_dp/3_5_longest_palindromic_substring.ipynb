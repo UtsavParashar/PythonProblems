{
 "cells": [
  {
   "cell_type": "markdown",
   "id": "6e77b1b5",
   "metadata": {},
   "source": [
    "#### 5. Longest Palindromic Substring\n",
    "\n",
    "* https://leetcode.com/problems/longest-palindromic-substring/description/\n",
    "\n",
    "- Given a string s, return the longest palindromic substring in s.\n",
    "\n",
    "- Example 1:\n",
    "- Input: s = \"babad\"\n",
    "- Output: \"bab\"\n",
    "- Explanation: \"aba\" is also a valid answer.\n",
    "\n",
    "- Example 2:\n",
    "- Input: s = \"cbbd\"\n",
    "- Output: \"bb\""
   ]
  },
  {
   "cell_type": "code",
   "execution_count": null,
   "id": "02584b77",
   "metadata": {},
   "outputs": [],
   "source": [
    "# Credit - https://www.youtube.com/watch?v=XYQecbcd6_c\n",
    "\n",
    "def longest_palindrome(s: str) -> str:\n",
    "    res = ''\n",
    "    max_len = 0\n",
    "\n",
    "    def test_palindrome(l, r):\n",
    "        nonlocal max_len, res\n",
    "        while l >= 0 and r < len(s) and s[l] == s[r]:\n",
    "            if r-l+1 > max_len:\n",
    "                res = s[l: r+1]\n",
    "                max_len = r-l+1\n",
    "            l -= 1\n",
    "            r += 1\n",
    "\n",
    "\n",
    "\n",
    "    for i in range(len(s)):\n",
    "        test_palindrome(i, i) # for odd palindrome\n",
    "        test_palindrome(i, i+1) # for even palindrome\n",
    "\n",
    "    return res\n",
    "\n",
    "\n"
   ]
  },
  {
   "cell_type": "code",
   "execution_count": 10,
   "id": "9a21a6da",
   "metadata": {},
   "outputs": [
    {
     "data": {
      "text/plain": [
       "'bb'"
      ]
     },
     "execution_count": 10,
     "metadata": {},
     "output_type": "execute_result"
    }
   ],
   "source": [
    "longest_palindrome('cbbd')"
   ]
  },
  {
   "cell_type": "code",
   "execution_count": 11,
   "id": "d84cbcee",
   "metadata": {},
   "outputs": [],
   "source": [
    "# Copilot solution\n",
    "\n",
    "def longest_palindrome(s: str) -> str:\n",
    "    if len(s) < 2 or s == s[::-1]:\n",
    "        return s  # If the string is already a palindrome or has length < 2, return it directly\n",
    "\n",
    "    start, max_len = 0, 1\n",
    "\n",
    "    for i in range(len(s)):\n",
    "        # Check for odd-length palindromes\n",
    "        l, r = i - 1, i + 1\n",
    "        while l >= 0 and r < len(s) and s[l] == s[r]:\n",
    "            if r - l + 1 > max_len:\n",
    "                start = l\n",
    "                max_len = r - l + 1\n",
    "            l -= 1\n",
    "            r += 1\n",
    "\n",
    "        # Check for even-length palindromes\n",
    "        l, r = i, i + 1\n",
    "        while l >= 0 and r < len(s) and s[l] == s[r]:\n",
    "            if r - l + 1 > max_len:\n",
    "                start = l\n",
    "                max_len = r - l + 1\n",
    "            l -= 1\n",
    "            r += 1\n",
    "\n",
    "    return s[start:start + max_len]"
   ]
  },
  {
   "cell_type": "code",
   "execution_count": null,
   "id": "33380fae",
   "metadata": {},
   "outputs": [],
   "source": []
  }
 ],
 "metadata": {
  "kernelspec": {
   "display_name": "Python 3",
   "language": "python",
   "name": "python3"
  },
  "language_info": {
   "codemirror_mode": {
    "name": "ipython",
    "version": 3
   },
   "file_extension": ".py",
   "mimetype": "text/x-python",
   "name": "python",
   "nbconvert_exporter": "python",
   "pygments_lexer": "ipython3",
   "version": "3.11.9"
  }
 },
 "nbformat": 4,
 "nbformat_minor": 5
}
