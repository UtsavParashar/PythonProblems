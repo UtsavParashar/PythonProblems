{
 "cells": [
  {
   "cell_type": "markdown",
   "id": "7f0d9655",
   "metadata": {},
   "source": [
    "#### 516. Longest Palindromic Subsequence\n",
    "\n",
    "Given a string s, find the longest palindromic subsequence's length in s.\n",
    "\n",
    "A subsequence is a sequence that can be derived from another sequence by deleting some or no elements without changing the order of the remaining elements.\n",
    "\n",
    " \n",
    "\n",
    "Example 1:\n",
    "\n",
    "Input: s = \"bbbab\"\n",
    "Output: 4\n",
    "Explanation: One possible longest palindromic subsequence is \"bbbb\".\n",
    "Example 2:\n",
    "\n",
    "Input: s = \"cbbd\"\n",
    "Output: 2\n",
    "Explanation: One possible longest palindromic subsequence is \"bb\"."
   ]
  },
  {
   "cell_type": "code",
   "execution_count": 10,
   "id": "21cbf525",
   "metadata": {},
   "outputs": [],
   "source": [
    "from collections import defaultdict\n",
    "def brute_force(s):\n",
    "    dd = defaultdict(int)\n",
    "    for c in s: dd[c] += 1\n",
    "    return max(dd.values())\n",
    "\n",
    "\n"
   ]
  },
  {
   "cell_type": "code",
   "execution_count": 12,
   "id": "9a7c8f81",
   "metadata": {},
   "outputs": [
    {
     "data": {
      "text/plain": [
       "4"
      ]
     },
     "execution_count": 12,
     "metadata": {},
     "output_type": "execute_result"
    }
   ],
   "source": [
    "brute_force(s = \"bbbab\")"
   ]
  },
  {
   "cell_type": "code",
   "execution_count": null,
   "id": "99d1c132",
   "metadata": {},
   "outputs": [],
   "source": []
  }
 ],
 "metadata": {
  "kernelspec": {
   "display_name": "Python 3",
   "language": "python",
   "name": "python3"
  },
  "language_info": {
   "codemirror_mode": {
    "name": "ipython",
    "version": 3
   },
   "file_extension": ".py",
   "mimetype": "text/x-python",
   "name": "python",
   "nbconvert_exporter": "python",
   "pygments_lexer": "ipython3",
   "version": "3.11.9"
  }
 },
 "nbformat": 4,
 "nbformat_minor": 5
}
