{
 "cells": [
  {
   "cell_type": "markdown",
   "id": "e5a833c6",
   "metadata": {},
   "source": [
    "#### 91. Decode Ways\n",
    "\n",
    "* https://leetcode.com/problems/decode-ways/description/\n",
    "\n",
    "You have intercepted a secret message encoded as a string of numbers. The message is decoded via the following mapping:\n",
    "\n",
    "\"1\" -> 'A'\n",
    "\n",
    "\"2\" -> 'B'\n",
    "\n",
    "...\n",
    "\n",
    "\"25\" -> 'Y'\n",
    "\n",
    "\"26\" -> 'Z'\n",
    "\n",
    "However, while decoding the message, you realize that there are many different ways you can decode the message because some codes are contained in other codes (\"2\" and \"5\" vs \"25\").\n",
    "\n"
   ]
  },
  {
   "cell_type": "code",
   "execution_count": 9,
   "id": "27ed39b1",
   "metadata": {},
   "outputs": [],
   "source": [
    "def num_decoding(s: str) -> int:\n",
    "    n = len(s)\n",
    "    if n == 0:\n",
    "        return 0\n",
    "\n",
    "    dp1, dp2 = 1, 0\n",
    "\n",
    "    for i in range(n-1, -1, -1):\n",
    "        current = 0\n",
    "        if s[i] != \"0\":\n",
    "            current = dp1\n",
    "            if i+1 < n and (s[i]==\"1\" or (s[i]==\"2\" and s[i+1] in \"0123456\")):\n",
    "                current += dp2\n",
    "\n",
    "        dp2, dp1 = dp1, current\n",
    "\n",
    "    return dp1\n",
    "\n"
   ]
  },
  {
   "cell_type": "code",
   "execution_count": 10,
   "id": "c08fcb9a",
   "metadata": {},
   "outputs": [
    {
     "data": {
      "text/plain": [
       "2"
      ]
     },
     "execution_count": 10,
     "metadata": {},
     "output_type": "execute_result"
    }
   ],
   "source": [
    "num_decoding(s = \"12\")"
   ]
  },
  {
   "cell_type": "code",
   "execution_count": null,
   "id": "10c78f93",
   "metadata": {},
   "outputs": [],
   "source": []
  }
 ],
 "metadata": {
  "kernelspec": {
   "display_name": "Python 3",
   "language": "python",
   "name": "python3"
  },
  "language_info": {
   "codemirror_mode": {
    "name": "ipython",
    "version": 3
   },
   "file_extension": ".py",
   "mimetype": "text/x-python",
   "name": "python",
   "nbconvert_exporter": "python",
   "pygments_lexer": "ipython3",
   "version": "3.11.9"
  }
 },
 "nbformat": 4,
 "nbformat_minor": 5
}
