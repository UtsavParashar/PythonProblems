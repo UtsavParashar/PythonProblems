{
 "cells": [
  {
   "cell_type": "markdown",
   "id": "185261a4",
   "metadata": {},
   "source": [
    "#### 115. Distinct Subsequences\n",
    "* https://leetcode.com/problems/distinct-subsequences/description/"
   ]
  },
  {
   "cell_type": "code",
   "execution_count": null,
   "id": "d3482fdc",
   "metadata": {},
   "outputs": [],
   "source": [
    "### Space Optimized tabulation\n",
    "# TC - O(n*m), SC - O(n)\n",
    "class Solution:\n",
    "    def numDistinct(self, s: str, t: str) -> int:\n",
    "        m, n = len(s), len(t)\n",
    "\n",
    "        dp = [[0]*(n+1) for _ in range(m+1)]\n",
    "\n",
    "        # base case\n",
    "        for i in range(m+1):\n",
    "            dp[i][n] = 1\n",
    "\n",
    "        for i in reversed(range(m)):\n",
    "            for j in reversed(range(n)):\n",
    "                if s[i] == t[j]:\n",
    "                    dp[i][j] = dp[i+1][j] + dp[i+1][j+1]\n",
    "                else:\n",
    "                    dp[i][j] = dp[i+1][j]\n",
    "        \n",
    "        return dp[0][0]\n",
    "Solution().numDistinct(s = \"rabbbit\", t = \"rabbit\")"
   ]
  },
  {
   "cell_type": "code",
   "execution_count": null,
   "id": "00b24a27",
   "metadata": {},
   "outputs": [
    {
     "data": {
      "text/plain": [
       "3"
      ]
     },
     "execution_count": 4,
     "metadata": {},
     "output_type": "execute_result"
    }
   ],
   "source": [
    "## Using tabulation\n",
    "# TC, SC - O(n*m)\n",
    "\n",
    "class Solution:\n",
    "    def numDistinct(self, s: str, t: str) -> int:\n",
    "        m, n = len(s), len(t)\n",
    "\n",
    "        dp = [[0]*(n+1) for _ in range(m+1)]\n",
    "\n",
    "        # base case\n",
    "        for i in range(m+1):\n",
    "            dp[i][n] = 1\n",
    "\n",
    "        for i in reversed(range(m)):\n",
    "            for j in reversed(range(n)):\n",
    "                if s[i] == t[j]:\n",
    "                    dp[i][j] = dp[i+1][j] + dp[i+1][j+1]\n",
    "                else:\n",
    "                    dp[i][j] = dp[i+1][j]\n",
    "        \n",
    "        return dp[0][0]\n",
    "Solution().numDistinct(s = \"rabbbit\", t = \"rabbit\")"
   ]
  },
  {
   "cell_type": "code",
   "execution_count": null,
   "id": "06f5a0e4",
   "metadata": {},
   "outputs": [
    {
     "data": {
      "text/plain": [
       "3"
      ]
     },
     "execution_count": 3,
     "metadata": {},
     "output_type": "execute_result"
    }
   ],
   "source": [
    "## Using LRU Cache\n",
    "# TC, SC - O(n*m)\n",
    "\n",
    "from functools import lru_cache\n",
    "\n",
    "class Solution:\n",
    "    def numDistinct(self, s: str, t: str) -> int:\n",
    "\n",
    "        @lru_cache(None)\n",
    "        def dfs(i, j):\n",
    "            if j == len(t):\n",
    "                return 1\n",
    "            if i == len(s):\n",
    "                return 0\n",
    "\n",
    "            if s[i] == t[j]:\n",
    "                return dfs(i+1, j+1) + dfs(i+1, j)\n",
    "            else:\n",
    "                return dfs(i+1, j)\n",
    "\n",
    "        return dfs(0, 0)\n",
    "Solution().numDistinct(s = \"rabbbit\", t = \"rabbit\")"
   ]
  },
  {
   "cell_type": "code",
   "execution_count": 1,
   "id": "ede7f8b7",
   "metadata": {},
   "outputs": [
    {
     "data": {
      "text/plain": [
       "3"
      ]
     },
     "execution_count": 1,
     "metadata": {},
     "output_type": "execute_result"
    }
   ],
   "source": [
    "### Using Memoization\n",
    "# TC, SC - O(n*m)\n",
    "\n",
    "class Solution:\n",
    "    def numDistinct(self, s: str, t: str) -> int:\n",
    "        cache = {}\n",
    "\n",
    "        def dfs(i, j):\n",
    "            if j == len(t):\n",
    "                return 1\n",
    "            if i == len(s):\n",
    "                return 0\n",
    "\n",
    "            if (i,j) in cache:\n",
    "                return cache[(i, j)]\n",
    "\n",
    "            if s[i] == t[j]:\n",
    "                cache[(i, j)] = dfs(i+1, j+1) + dfs(i+1, j)\n",
    "            else:\n",
    "                cache[(i, j)] = dfs(i+1, j)\n",
    "\n",
    "            return cache[(i, j)]\n",
    "\n",
    "        return dfs(0, 0)\n",
    "\n",
    "Solution().numDistinct(s = \"rabbbit\", t = \"rabbit\")"
   ]
  },
  {
   "cell_type": "code",
   "execution_count": null,
   "id": "732d2a72",
   "metadata": {},
   "outputs": [],
   "source": []
  }
 ],
 "metadata": {
  "kernelspec": {
   "display_name": "Python 3",
   "language": "python",
   "name": "python3"
  },
  "language_info": {
   "codemirror_mode": {
    "name": "ipython",
    "version": 3
   },
   "file_extension": ".py",
   "mimetype": "text/x-python",
   "name": "python",
   "nbconvert_exporter": "python",
   "pygments_lexer": "ipython3",
   "version": "3.11.9"
  }
 },
 "nbformat": 4,
 "nbformat_minor": 5
}
