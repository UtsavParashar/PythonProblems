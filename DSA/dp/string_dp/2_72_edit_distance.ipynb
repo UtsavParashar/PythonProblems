{
 "cells": [
  {
   "cell_type": "markdown",
   "id": "3d754153",
   "metadata": {},
   "source": [
    "### 72. Edit Distance\n",
    "* https://leetcode.com/problems/edit-distance/"
   ]
  },
  {
   "cell_type": "code",
   "execution_count": 9,
   "id": "b56e3647",
   "metadata": {},
   "outputs": [
    {
     "data": {
      "text/plain": [
       "3"
      ]
     },
     "execution_count": 9,
     "metadata": {},
     "output_type": "execute_result"
    }
   ],
   "source": [
    "# Great Explanation - https://www.youtube.com/watch?v=XYi2-LPrwm4\n",
    "# TC - O(m*n), SC - O(m*n)\n",
    "\n",
    "class Solution:\n",
    "    def minDistance(self, word1: str, word2: str) -> int:\n",
    "        m, n = len(word1), len(word2)\n",
    "        dp = [[0]*(n+1) for _ in range(m+1)]\n",
    "\n",
    "        # Base Case\n",
    "        for i in range(m+1):\n",
    "            dp[i][-1] = m-i # last column to be filled with len(word1)\n",
    "        \n",
    "        for j in range(n+1):\n",
    "            dp[-1][j] = n-j # last row to be filled with len(word2)\n",
    "\n",
    "        for i in range(m-1, -1, -1):\n",
    "            for j in range(n-1, -1, -1):\n",
    "                if word1[i] == word2[j]:\n",
    "                    dp[i][j] = dp[i+1][j+1]\n",
    "                else:\n",
    "                    dp[i][j] = 1 + min(\n",
    "                        dp[i+1][j], # delete\n",
    "                        dp[i][j+1],  # insert\n",
    "                        dp[i+1][j+1] # replace\n",
    "                    )\n",
    "        \n",
    "        return dp[0][0]\n",
    "\n",
    "Solution().minDistance('horse','ros')"
   ]
  },
  {
   "cell_type": "code",
   "execution_count": 17,
   "id": "d2397d47",
   "metadata": {},
   "outputs": [
    {
     "data": {
      "text/plain": [
       "3"
      ]
     },
     "execution_count": 17,
     "metadata": {},
     "output_type": "execute_result"
    }
   ],
   "source": [
    "# Space Optimized solution of previous solution\n",
    "# here only two rows of space is used at a time\n",
    "# TC - O(m*n), SC - O(n)\n",
    "\n",
    "class Solution:\n",
    "    def minDistance(self, word1: str, word2: str) -> int:\n",
    "        m, n = len(word1), len(word2)\n",
    "        next_row = [n - j for j in range(n+1)]\n",
    "\n",
    "        for i in range(m-1, -1, -1):\n",
    "            curr_row = [0]*(n+1)\n",
    "            curr_row[n] = m - i\n",
    "            for j in range(n-1, -1, -1):\n",
    "                if word1[i] == word2[j]:\n",
    "                    curr_row[j] = next_row[j+1]\n",
    "                else:\n",
    "                    curr_row[j] = 1 + min(\n",
    "                        next_row[j], # delete\n",
    "                        curr_row[j+1], # insert\n",
    "                        next_row[j+1] # replace\n",
    "                    )\n",
    "            next_row = curr_row\n",
    "        \n",
    "        return next_row[0]\n",
    "\n",
    "\n",
    "\n",
    "Solution().minDistance('horse','ros')"
   ]
  },
  {
   "cell_type": "markdown",
   "id": "279d972c",
   "metadata": {},
   "source": [
    "🧠 Understanding the Recurrence:\n",
    "python\n",
    "Copy\n",
    "Edit\n",
    "curr_row[j] = 1 + min(\n",
    "    next_row[j],     # delete\n",
    "    curr_row[j + 1], # insert\n",
    "    next_row[j + 1]  # replace\n",
    ")\n",
    "Each of these corresponds to an edit operation you can make at position i, j:\n",
    "\n",
    "1️⃣ next_row[j] → Delete word1[i]\n",
    "You delete word1[i], so now you’re left with word1[i+1:] and still matching it to word2[j:].\n",
    "\n",
    "So: dp[i][j] = 1 + dp[i+1][j]\n",
    "\n",
    "Which is: 1 + next_row[j] (because next_row = dp[i+1])\n",
    "\n",
    "2️⃣ curr_row[j + 1] → Insert word2[j]\n",
    "You insert word2[j] into word1, so the new word1 becomes word2[j] + word1[i:].\n",
    "\n",
    "After inserting, you still need to match word1[i:] with word2[j+1:].\n",
    "\n",
    "So: dp[i][j] = 1 + dp[i][j+1]\n",
    "\n",
    "Which is: 1 + curr_row[j + 1] (because we’re currently building dp[i][...])\n",
    "\n",
    "3️⃣ next_row[j + 1] → Replace word1[i] with word2[j]\n",
    "You replace word1[i] with word2[j], then move to the next characters in both strings.\n",
    "\n",
    "So: dp[i][j] = 1 + dp[i+1][j+1]\n",
    "\n",
    "Which is: 1 + next_row[j + 1]"
   ]
  },
  {
   "cell_type": "code",
   "execution_count": null,
   "id": "e61e5875",
   "metadata": {},
   "outputs": [],
   "source": []
  }
 ],
 "metadata": {
  "kernelspec": {
   "display_name": "Python 3",
   "language": "python",
   "name": "python3"
  },
  "language_info": {
   "codemirror_mode": {
    "name": "ipython",
    "version": 3
   },
   "file_extension": ".py",
   "mimetype": "text/x-python",
   "name": "python",
   "nbconvert_exporter": "python",
   "pygments_lexer": "ipython3",
   "version": "3.11.9"
  }
 },
 "nbformat": 4,
 "nbformat_minor": 5
}
