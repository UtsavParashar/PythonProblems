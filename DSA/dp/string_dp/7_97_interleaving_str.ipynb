{
 "cells": [
  {
   "cell_type": "markdown",
   "id": "ea403a85",
   "metadata": {},
   "source": [
    "#### 97. Interleaving String\n",
    "\n",
    "* https://leetcode.com/problems/interleaving-string/description/"
   ]
  },
  {
   "cell_type": "code",
   "execution_count": 2,
   "id": "990fc96b",
   "metadata": {},
   "outputs": [
    {
     "data": {
      "text/plain": [
       "True"
      ]
     },
     "execution_count": 2,
     "metadata": {},
     "output_type": "execute_result"
    }
   ],
   "source": [
    "# https://www.youtube.com/watch?v=0Ie-pUfI_js - preferred\n",
    "# https://www.youtube.com/watch?v=3Rw3p9LrgvE - alternate\n",
    "# gpt - https://chatgpt.com/c/68903fa6-865c-800f-9c0b-88048eb59d13\n",
    "\n",
    "class Solution:\n",
    "    def isInterleave(self, s1: str, s2: str, s3: str) -> bool:\n",
    "        m, n = len(s1), len(s2)\n",
    "        if m + n != len(s3):\n",
    "            return False\n",
    "\n",
    "        dp = [[False]*(n+1) for _ in range(m+1)]\n",
    "        dp[0][0] = True\n",
    "\n",
    "        for r in range(m+1):\n",
    "            for c in range(n+1):\n",
    "                if r > 0 and s1[r-1] == s3[r+c-1]:\n",
    "                    dp[r][c] |= dp[r-1][c]\n",
    "                if c > 0 and s2[c-1] == s3[r+c-1]:\n",
    "                    dp[r][c] |= dp[r][c-1]\n",
    "\n",
    "        return dp[m][n]\n",
    "\n",
    "Solution().isInterleave(s1 = \"aabcc\", s2 = \"dbbca\", s3 = \"aadbbcbcac\")"
   ]
  },
  {
   "cell_type": "code",
   "execution_count": null,
   "id": "96b77d7b",
   "metadata": {},
   "outputs": [],
   "source": []
  }
 ],
 "metadata": {
  "kernelspec": {
   "display_name": "Python 3",
   "language": "python",
   "name": "python3"
  },
  "language_info": {
   "codemirror_mode": {
    "name": "ipython",
    "version": 3
   },
   "file_extension": ".py",
   "mimetype": "text/x-python",
   "name": "python",
   "nbconvert_exporter": "python",
   "pygments_lexer": "ipython3",
   "version": "3.11.9"
  }
 },
 "nbformat": 4,
 "nbformat_minor": 5
}
