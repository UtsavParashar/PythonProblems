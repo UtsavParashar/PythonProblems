{
 "cells": [
  {
   "cell_type": "markdown",
   "id": "6983462f",
   "metadata": {},
   "source": [
    "#### 1049. Last Stone Weight II\n",
    "\n",
    "* https://leetcode.com/problems/last-stone-weight-ii/"
   ]
  },
  {
   "cell_type": "code",
   "execution_count": 10,
   "id": "8cad4126",
   "metadata": {},
   "outputs": [
    {
     "data": {
      "text/plain": [
       "0"
      ]
     },
     "execution_count": 10,
     "metadata": {},
     "output_type": "execute_result"
    }
   ],
   "source": [
    "class Solution:\n",
    "    def lastStoneWeightII(self, stones) -> int:\n",
    "        total = sum(stones)\n",
    "        n = len(stones)\n",
    "\n",
    "        dp = {} # i, curr_sum\n",
    "\n",
    "        def dfs(i, curr_sum):\n",
    "            if i == n:\n",
    "                return abs((total-curr_sum)-curr_sum) # two slots, 1. total-curr_sum and 2. curr_sum, we need min diff\n",
    "            if (i, curr_sum) in dp:\n",
    "                return dp[(i, curr_sum)]\n",
    "            dp[(i, curr_sum)] = min(dfs(i+1, curr_sum + stones[i]), dfs(i+1, curr_sum)) \n",
    "            return dp[(i, curr_sum)] \n",
    "\n",
    "        return dfs(0, 0)\n",
    "\n",
    "Solution().lastStoneWeightII([1, 2, 1])"
   ]
  },
  {
   "cell_type": "code",
   "execution_count": null,
   "id": "801a25a7",
   "metadata": {},
   "outputs": [],
   "source": [
    "# https://www.youtube.com/watch?v=gdXkkmzvR3c"
   ]
  }
 ],
 "metadata": {
  "kernelspec": {
   "display_name": "Python 3",
   "language": "python",
   "name": "python3"
  },
  "language_info": {
   "codemirror_mode": {
    "name": "ipython",
    "version": 3
   },
   "file_extension": ".py",
   "mimetype": "text/x-python",
   "name": "python",
   "nbconvert_exporter": "python",
   "pygments_lexer": "ipython3",
   "version": "3.11.9"
  }
 },
 "nbformat": 4,
 "nbformat_minor": 5
}
