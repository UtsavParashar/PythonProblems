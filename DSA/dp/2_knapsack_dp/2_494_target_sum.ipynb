{
 "cells": [
  {
   "cell_type": "markdown",
   "id": "89f58112",
   "metadata": {},
   "source": [
    "#### 494. Target Sum\n",
    "\n",
    "* https://leetcode.com/problems/target-sum/description/"
   ]
  },
  {
   "cell_type": "code",
   "execution_count": 8,
   "id": "9e90227d",
   "metadata": {},
   "outputs": [
    {
     "data": {
      "text/plain": [
       "3"
      ]
     },
     "execution_count": 8,
     "metadata": {},
     "output_type": "execute_result"
    }
   ],
   "source": [
    "from functools import lru_cache\n",
    "class Solution:\n",
    "    def findTargetSumWays(self, nums, target) -> int:\n",
    "\n",
    "        @lru_cache(None)\n",
    "        def backtrack(i, total):\n",
    "            if i == len(nums):\n",
    "                return 1 if total == target else 0\n",
    "\n",
    "            return backtrack(i+1, total + nums[i]) + backtrack(i+1, total-nums[i])\n",
    "        return backtrack(0, 0)\n",
    "Solution().findTargetSumWays(nums = [1,1,1], target = 1)"
   ]
  },
  {
   "cell_type": "code",
   "execution_count": null,
   "id": "e977d8af",
   "metadata": {},
   "outputs": [],
   "source": []
  }
 ],
 "metadata": {
  "kernelspec": {
   "display_name": "Python 3",
   "language": "python",
   "name": "python3"
  },
  "language_info": {
   "codemirror_mode": {
    "name": "ipython",
    "version": 3
   },
   "file_extension": ".py",
   "mimetype": "text/x-python",
   "name": "python",
   "nbconvert_exporter": "python",
   "pygments_lexer": "ipython3",
   "version": "3.11.9"
  }
 },
 "nbformat": 4,
 "nbformat_minor": 5
}
