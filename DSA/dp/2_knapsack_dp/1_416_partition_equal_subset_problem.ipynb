{
 "cells": [
  {
   "cell_type": "markdown",
   "id": "a682612b",
   "metadata": {},
   "source": [
    "#### 416. Partition Equal Subset Sum\n",
    "\n",
    "* https://leetcode.com/problems/partition-equal-subset-sum/description/"
   ]
  },
  {
   "cell_type": "code",
   "execution_count": null,
   "id": "9efce5b7",
   "metadata": {},
   "outputs": [
    {
     "name": "stdout",
     "output_type": "stream",
     "text": [
      "1 1 [True, False, False, False, False, False, False, False, False, False, False, False]\n",
      "1 1 [True, False, False, False, False, False, False, False, False, False, False, False]\n",
      "1 1 [True, False, False, False, False, False, False, False, False, False, False, False]\n",
      "1 1 [True, False, False, False, False, False, False, False, False, False, False, False]\n",
      "1 1 [True, False, False, False, False, False, False, False, False, False, False, False]\n",
      "1 1 [True, False, False, False, False, False, False, False, False, False, False, False]\n",
      "1 1 [True, False, False, False, False, False, False, False, False, False, False, False]\n",
      "1 1 [True, False, False, False, False, False, False, False, False, False, False, False]\n",
      "1 1 [True, False, False, False, False, False, False, False, False, False, False, False]\n",
      "1 1 [True, False, False, False, False, False, False, False, False, False, False, False]\n",
      "1 1 [True, True, False, False, False, False, False, False, False, False, False, False]\n",
      "5 1 [True, True, False, False, False, False, False, False, False, False, False, False]\n",
      "5 1 [True, True, False, False, False, False, False, False, False, False, False, False]\n",
      "5 1 [True, True, False, False, False, False, False, False, False, False, False, False]\n",
      "5 1 [True, True, False, False, False, False, False, False, False, False, False, False]\n",
      "5 1 [True, True, False, False, False, False, False, False, False, False, False, False]\n",
      "5 1 [True, True, False, False, False, False, True, False, False, False, False, False]\n",
      "5 1 [True, True, False, False, False, True, True, False, False, False, False, False]\n",
      "11 1 [True, True, False, False, False, True, True, False, False, False, False, True]\n",
      "5 1 [True, True, False, False, False, True, True, False, False, False, False, True]\n",
      "5 1 [True, True, False, False, False, True, True, False, False, False, True, True]\n",
      "5 1 [True, True, False, False, False, True, True, False, False, False, True, True]\n",
      "5 1 [True, True, False, False, False, True, True, False, False, False, True, True]\n",
      "5 1 [True, True, False, False, False, True, True, False, False, False, True, True]\n",
      "5 1 [True, True, False, False, False, True, True, False, False, False, True, True]\n",
      "5 1 [True, True, False, False, False, True, True, False, False, False, True, True]\n"
     ]
    },
    {
     "data": {
      "text/plain": [
       "True"
      ]
     },
     "execution_count": 1,
     "metadata": {},
     "output_type": "execute_result"
    }
   ],
   "source": [
    "class Solution:\n",
    "    def canPartition(self, nums) -> bool:\n",
    "        total = sum(nums)\n",
    "        if total%2: # odd\n",
    "            return False\n",
    "\n",
    "        target = total // 2\n",
    "        dp = [False]*(target+1)\n",
    "        dp[0] = True\n",
    "\n",
    "        for num in nums:\n",
    "            for i in range(target, num-1, -1):\n",
    "                dp[i] = dp[i] or dp[i-num]\n",
    "        return dp[target]\n",
    "\n",
    "Solution().canPartition([1,5,11,5])"
   ]
  },
  {
   "cell_type": "code",
   "execution_count": null,
   "id": "95086cf1",
   "metadata": {},
   "outputs": [],
   "source": []
  }
 ],
 "metadata": {
  "kernelspec": {
   "display_name": "Python 3",
   "language": "python",
   "name": "python3"
  },
  "language_info": {
   "codemirror_mode": {
    "name": "ipython",
    "version": 3
   },
   "file_extension": ".py",
   "mimetype": "text/x-python",
   "name": "python",
   "nbconvert_exporter": "python",
   "pygments_lexer": "ipython3",
   "version": "3.11.9"
  }
 },
 "nbformat": 4,
 "nbformat_minor": 5
}
