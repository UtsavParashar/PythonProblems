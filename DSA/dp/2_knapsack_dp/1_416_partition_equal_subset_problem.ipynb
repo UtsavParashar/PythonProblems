{
 "cells": [
  {
   "cell_type": "markdown",
   "id": "a682612b",
   "metadata": {},
   "source": [
    "#### 416. Partition Equal Subset Sum\n",
    "\n",
    "* https://leetcode.com/problems/partition-equal-subset-sum/description/"
   ]
  },
  {
   "cell_type": "code",
   "execution_count": null,
   "id": "5dd1baf3",
   "metadata": {},
   "outputs": [
    {
     "data": {
      "text/plain": [
       "True"
      ]
     },
     "execution_count": 5,
     "metadata": {},
     "output_type": "execute_result"
    }
   ],
   "source": [
    "# Ref for explanation and code = https://www.youtube.com/watch?v=IsvocB5BJhw\n",
    "# TC - O(n * s)\n",
    "# n = number of elements in nums\n",
    "# s = target sum (total // 2)\n",
    "# SC - O(s)\n",
    "\n",
    "class Solution:\n",
    "    def canPartition(self, nums) -> bool:\n",
    "        total = sum(nums)\n",
    "        if total % 2: # odd\n",
    "            return False\n",
    "        \n",
    "        target = total // 2\n",
    "        dp = set([0]) # base case with 0 as the sum of 0 elements is 0\n",
    "\n",
    "        for i in range(len(nums)-1, -1, -1):\n",
    "            temp_dp = set() # temp dp is required because we cannot update a set while iterating it\n",
    "            for val in dp:\n",
    "                temp_dp.add(val+nums[i])\n",
    "            dp.update(temp_dp)\n",
    "\n",
    "        return True if target in dp else False\n",
    "    \n",
    "Solution().canPartition([1,5,11,5])"
   ]
  },
  {
   "cell_type": "code",
   "execution_count": 2,
   "id": "9efce5b7",
   "metadata": {},
   "outputs": [
    {
     "data": {
      "text/plain": [
       "True"
      ]
     },
     "execution_count": 2,
     "metadata": {},
     "output_type": "execute_result"
    }
   ],
   "source": [
    "class Solution:\n",
    "    def canPartition(self, nums) -> bool:\n",
    "        total = sum(nums)\n",
    "        if total%2: # odd\n",
    "            return False\n",
    "\n",
    "        target = total // 2 \n",
    "        dp = [False]*(target+1)\n",
    "        dp[0] = True\n",
    "\n",
    "        for num in nums:\n",
    "            for i in range(target, num-1, -1):\n",
    "                dp[i] = dp[i] or dp[i-num]\n",
    "        return dp[target]\n",
    "\n",
    "Solution().canPartition([1,5,11,5])"
   ]
  },
  {
   "cell_type": "markdown",
   "id": "5d714668",
   "metadata": {},
   "source": [
    "🔍 Why is target set to total // 2?\n",
    "Let’s break it down in simple logic:\n",
    "\n",
    "💡 Problem Goal:\n",
    "We are asked: Can the array be split into two subsets with equal sums?\n",
    "\n",
    "That means:\n",
    "\n",
    "python\n",
    "Copy\n",
    "Edit\n",
    "sum(subset1) == sum(subset2)\n",
    "Let’s say the total sum of the array is S.\n",
    "Then we need:\n",
    "\n",
    "python\n",
    "Copy\n",
    "Edit\n",
    "sum(subset1) + sum(subset2) = S\n",
    "If we want both subsets to have the same sum:\n",
    "\n",
    "python\n",
    "Copy\n",
    "Edit\n",
    "sum(subset1) = sum(subset2) = S / 2\n",
    "✅ So, we only need to check if there's a subset in the array that sums to S / 2.\n",
    "\n",
    "If such a subset exists, then the remaining elements must also sum to S / 2, because total sum is S.\n",
    "\n",
    "🤔 Why use total // 2 (and not / 2)?\n",
    "In Python:\n",
    "\n",
    "/ is float division\n",
    "\n",
    "// is integer (floor) division\n",
    "\n",
    "Since all numbers in the list are integers, the total will also be an integer.\n",
    "And since we're only interested in finding integer subset sums, we want:\n",
    "\n",
    "python\n",
    "Copy\n",
    "Edit\n",
    "target = total // 2  # Integer division\n",
    "✅ Final Note:\n",
    "Before doing this, we always check:\n",
    "\n",
    "python\n",
    "Copy\n",
    "Edit\n",
    "if total % 2 != 0: return False\n",
    "Because:\n",
    "\n",
    "If total is odd, then total / 2 is not an integer\n",
    "\n",
    "And you can’t split an array into two subsets with non-integer sums\n",
    "\n",
    "🔁 Example:\n",
    "Input: nums = [1, 5, 11, 5]\n",
    "Total sum = 22\n",
    "Target = 11 (22 // 2)\n",
    "→ Find if there is a subset whose sum is 11 ✅"
   ]
  },
  {
   "cell_type": "code",
   "execution_count": null,
   "id": "95086cf1",
   "metadata": {},
   "outputs": [],
   "source": []
  }
 ],
 "metadata": {
  "kernelspec": {
   "display_name": "Python 3",
   "language": "python",
   "name": "python3"
  },
  "language_info": {
   "codemirror_mode": {
    "name": "ipython",
    "version": 3
   },
   "file_extension": ".py",
   "mimetype": "text/x-python",
   "name": "python",
   "nbconvert_exporter": "python",
   "pygments_lexer": "ipython3",
   "version": "3.11.9"
  }
 },
 "nbformat": 4,
 "nbformat_minor": 5
}
