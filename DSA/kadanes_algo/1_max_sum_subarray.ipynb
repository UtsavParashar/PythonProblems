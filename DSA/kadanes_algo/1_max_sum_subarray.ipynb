{
 "cells": [
  {
   "cell_type": "markdown",
   "metadata": {},
   "source": [
    "#### 53. Maximum Subarray\n",
    "\n",
    "* Given an integer array nums, find the subarray with the largest sum, and return its sum.\n",
    "\n",
    "- Example 1:\n",
    "- Input: nums = [-2,1,-3,4,-1,2,1,-5,4]\n",
    "- Output: 6\n",
    "- Explanation: The subarray [4,-1,2,1] has the largest sum 6.\n",
    "\n",
    "- Example 2:\n",
    "- Input: nums = [1]\n",
    "- Output: 1\n",
    "- Explanation: The subarray [1] has the largest sum 1.\n",
    "\n",
    "- Example 3:\n",
    "- Input: nums = [5,4,-1,7,8]\n",
    "- Output: 23\n",
    "- Explanation: The subarray [5,4,-1,7,8] has the largest sum 23."
   ]
  },
  {
   "cell_type": "code",
   "execution_count": 5,
   "metadata": {},
   "outputs": [],
   "source": [
    "def brute_force(nums: list[int]) -> int:\n",
    "    max_sum = nums[0]\n",
    "    for i in range(len(nums)):\n",
    "        curr_sum = 0\n",
    "        for j in range(i, len(nums)):\n",
    "            curr_sum += nums[j]\n",
    "            max_sum = max(max_sum, curr_sum)\n",
    "    return max_sum"
   ]
  },
  {
   "cell_type": "code",
   "execution_count": 6,
   "metadata": {},
   "outputs": [
    {
     "data": {
      "text/plain": [
       "6"
      ]
     },
     "execution_count": 6,
     "metadata": {},
     "output_type": "execute_result"
    }
   ],
   "source": [
    "brute_force(nums = [-2,1,-3,4,-1,2,1,-5,4])"
   ]
  },
  {
   "cell_type": "code",
   "execution_count": 7,
   "metadata": {},
   "outputs": [
    {
     "data": {
      "text/plain": [
       "1"
      ]
     },
     "execution_count": 7,
     "metadata": {},
     "output_type": "execute_result"
    }
   ],
   "source": [
    "brute_force(nums = [1])"
   ]
  },
  {
   "cell_type": "code",
   "execution_count": 8,
   "metadata": {},
   "outputs": [
    {
     "data": {
      "text/plain": [
       "23"
      ]
     },
     "execution_count": 8,
     "metadata": {},
     "output_type": "execute_result"
    }
   ],
   "source": [
    "brute_force(nums = [5,4,-1,7,8])"
   ]
  },
  {
   "cell_type": "markdown",
   "metadata": {},
   "source": [
    "#### Kadene's Algo Steps\n",
    "* Iterate through the list, at every element check if the current element + previous sum is greater than the previous sum. If yes, start the sum from current element else let the existing sum increase."
   ]
  },
  {
   "cell_type": "code",
   "execution_count": 2,
   "metadata": {},
   "outputs": [],
   "source": [
    "def max_sub_array(nums):\n",
    "    max_sum = nums[0]\n",
    "    curr_sum = nums[0]\n",
    "\n",
    "    for val in nums[1:]:\n",
    "        curr_sum = max(curr_sum+val, val)\n",
    "        max_sum = max(max_sum, curr_sum)\n",
    "    \n",
    "    return max_sum"
   ]
  },
  {
   "cell_type": "code",
   "execution_count": 3,
   "metadata": {},
   "outputs": [
    {
     "data": {
      "text/plain": [
       "6"
      ]
     },
     "execution_count": 3,
     "metadata": {},
     "output_type": "execute_result"
    }
   ],
   "source": [
    "max_sub_array(nums = [-2,1,-3,4,-1,2,1,-5,4])"
   ]
  },
  {
   "cell_type": "code",
   "execution_count": 16,
   "metadata": {},
   "outputs": [],
   "source": [
    "def maxSubArray(nums):\n",
    "    max_sum = nums[0]\n",
    "    curr_sum = 0\n",
    "\n",
    "    for val in nums[1:]:\n",
    "        if curr_sum < 0:\n",
    "            curr_sum = 0\n",
    "        curr_sum += val\n",
    "        max_sum = max(max_sum, curr_sum)\n",
    "    \n",
    "    return max_sum"
   ]
  },
  {
   "cell_type": "code",
   "execution_count": 18,
   "metadata": {},
   "outputs": [
    {
     "name": "stdout",
     "output_type": "stream",
     "text": [
      "827 ns ± 21.2 ns per loop (mean ± std. dev. of 7 runs, 1,000,000 loops each)\n"
     ]
    }
   ],
   "source": [
    "%timeit maxSubArray(nums = [-2,1,-3,4,-1,2,1,-5,4])"
   ]
  },
  {
   "cell_type": "code",
   "execution_count": null,
   "metadata": {},
   "outputs": [],
   "source": []
  }
 ],
 "metadata": {
  "kernelspec": {
   "display_name": "Python 3",
   "language": "python",
   "name": "python3"
  },
  "language_info": {
   "codemirror_mode": {
    "name": "ipython",
    "version": 3
   },
   "file_extension": ".py",
   "mimetype": "text/x-python",
   "name": "python",
   "nbconvert_exporter": "python",
   "pygments_lexer": "ipython3",
   "version": "3.11.9"
  }
 },
 "nbformat": 4,
 "nbformat_minor": 2
}
