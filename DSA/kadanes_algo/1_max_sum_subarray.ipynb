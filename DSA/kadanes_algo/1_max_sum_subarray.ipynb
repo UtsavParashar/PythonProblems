{
 "cells": [
  {
   "cell_type": "markdown",
   "metadata": {},
   "source": [
    "#### 53. Maximum Subarray\n",
    "\n",
    "* https://leetcode.com/problems/maximum-subarray/\n",
    "\n",
    "### ['J.P. Morgan', 'Goldman Sachs', 'Barclays', 'Morgan Stanley', 'Bloomberg', 'DE Shaw', 'Meta', 'Amazon', 'Google', 'Apple', 'Uber']"
   ]
  },
  {
   "cell_type": "markdown",
   "metadata": {},
   "source": [
    "#### Kadene's Algo Steps\n",
    "* Iterate through the list, at every element check if the current element + previous sum is greater than the previous sum. If yes, start the sum from current element else let the existing sum increase."
   ]
  },
  {
   "cell_type": "code",
   "execution_count": null,
   "metadata": {},
   "outputs": [],
   "source": [
    "# TC - O(n)\n",
    "# SC - O(1)\n",
    "\n",
    "class Solution:\n",
    "    def maxSubArray(self, nums: list[int]) -> int:\n",
    "        res = float('-inf')\n",
    "        curr = 0\n",
    "        for n in nums:\n",
    "            curr = max(0, curr+n)\n",
    "            curr += n\n",
    "            res = max(curr, res)\n",
    "        \n",
    "        return res"
   ]
  },
  {
   "cell_type": "code",
   "execution_count": null,
   "metadata": {},
   "outputs": [],
   "source": [
    "# TC - O(n)\n",
    "# SC - O(1)\n",
    "def max_sub_array(nums):\n",
    "    if not nums: return 0\n",
    "    curr_sum = max_sum = nums[0]\n",
    "    curr_sum = nums[0]\n",
    "\n",
    "    for val in nums[1:]:\n",
    "        curr_sum = max(curr_sum+val, val)\n",
    "        max_sum = max(max_sum, curr_sum)\n",
    "    \n",
    "    return max_sum"
   ]
  },
  {
   "cell_type": "markdown",
   "metadata": {},
   "source": [
    "If you're explaining this Kadane’s Algorithm solution for Leetcode 53 to an interviewer, here's how you can present it step-by-step in a clear, structured, and thoughtful way:\n",
    "\n",
    "✅ 1. Start with the Problem Statement:\n",
    "\"We are given an integer array and need to find the maximum sum of a contiguous subarray. The key is that the subarray has to be contiguous, and must include at least one number.\"\n",
    "\n",
    "✅ 2. Explain Your Thought Process and Intuition:\n",
    "\"I approached this problem using Kadane’s Algorithm, which solves it in linear time.\n",
    "At every index, I ask myself:\n",
    "➤ Should I extend the previous subarray by adding this number?\n",
    "➤ Or should I start a new subarray from the current number?\n",
    "\n",
    "The idea is:\n",
    "current_sum = max(num, current_sum + num)\n",
    "This means: if the previous sum was negative and would drag the total down, I discard it and start fresh from the current number.\"\n",
    "\n",
    "✅ 3. Explain the Key Variables and Logic:\n",
    "\"I maintain two variables:\n",
    "\n",
    "current_sum: the best sum ending at the current index\n",
    "\n",
    "max_sum: the overall maximum sum seen so far\n",
    "\n",
    "I iterate through the array, updating these variables, and finally return max_sum.\"\n",
    "\n",
    "✅ 4. Mention Edge Case Handling:\n",
    "\"This solution handles arrays with all negative numbers as well, since I initialize both variables to the first element (nums[0]) instead of 0. That way, we correctly return the largest negative number if needed.\"\n",
    "\n",
    "✅ 5. Code Walkthrough (Optional):\n",
    "You can briefly mention the code:\n",
    "\n",
    "python\n",
    "Copy\n",
    "Edit\n",
    "current_sum = max(num, current_sum + num)\n",
    "max_sum = max(max_sum, current_sum)\n",
    "\"This single-pass approach checks the best sum at each index and tracks the global max efficiently.\"\n",
    "\n",
    "✅ 6. State Time and Space Complexity:\n",
    "\"Time complexity is O(n) since we scan the list once, and space complexity is O(1) as we use only constant extra space.\"\n",
    "\n",
    "✅ 7. Conclude Confidently:\n",
    "\"This is an optimal, clean, and readable solution that handles all cases efficiently without needing any additional data structures.\""
   ]
  },
  {
   "cell_type": "markdown",
   "metadata": {},
   "source": [
    "## Follow Up Questions\n",
    "\n",
    "Great! As an interviewer, after a candidate explains Kadane's Algorithm for Leetcode 53: Maximum Subarray, I would probe further with follow-up questions to assess:\n",
    "\n",
    "Depth of understanding\n",
    "\n",
    "Edge case handling\n",
    "\n",
    "Ability to adapt logic\n",
    "\n",
    "Awareness of trade-offs\n",
    "\n",
    "🔹 1. What if the input array is empty?\n",
    "Question:\n",
    "\n",
    "What does your solution return if the input array is empty?\n",
    "\n",
    "Answer:\n",
    "\n",
    "Currently, the solution assumes at least one element, since it initializes max_sum = current_sum = nums[0].\n",
    "If nums is empty, it will raise an IndexError.\n",
    "To fix this, I can add a guard clause:\n",
    "\n",
    "python\n",
    "Copy\n",
    "Edit\n",
    "if not nums:\n",
    "    return 0  # or float('-inf'), depending on requirements\n",
    "🔹 2. What if all numbers are negative?\n",
    "Question:\n",
    "\n",
    "What does your algorithm return if all elements are negative?\n",
    "\n",
    "Answer:\n",
    "\n",
    "Kadane’s algorithm still works correctly because it starts with current_sum = max_sum = nums[0]. It will pick the least negative number as the result.\n",
    "Example: [-3, -2, -5] → returns -2.\n",
    "\n",
    "🔹 3. Can you modify the algorithm to return the actual subarray instead of just the sum?\n",
    "Answer:\n",
    "Yes. We can track the start and end indices of the maximum subarray:\n",
    "\n",
    "python\n",
    "Copy\n",
    "Edit\n",
    "def maxSubArray(nums):\n",
    "    max_sum = current_sum = nums[0]\n",
    "    start = end = temp_start = 0\n",
    "\n",
    "    for i in range(1, len(nums)):\n",
    "        if nums[i] > current_sum + nums[i]:\n",
    "            current_sum = nums[i]\n",
    "            temp_start = i\n",
    "        else:\n",
    "            current_sum += nums[i]\n",
    "\n",
    "        if current_sum > max_sum:\n",
    "            max_sum = current_sum\n",
    "            start = temp_start\n",
    "            end = i\n",
    "\n",
    "    return max_sum, nums[start:end+1]\n",
    "🔹 4. Can this be solved using divide and conquer?\n",
    "Answer:\n",
    "Yes, there’s a divide and conquer solution with time complexity O(n log n).\n",
    "It recursively finds:\n",
    "\n",
    "Maximum subarray in the left half\n",
    "\n",
    "Maximum subarray in the right half\n",
    "\n",
    "Maximum subarray crossing the midpoint\n",
    "\n",
    "Compare and return the best of the three.\n",
    "\n",
    "🔹 5. Can you solve this using Dynamic Programming explicitly?\n",
    "Answer:\n",
    "Yes, using a DP array dp[i] where:\n",
    "\n",
    "python\n",
    "Copy\n",
    "Edit\n",
    "dp[0] = nums[0]\n",
    "dp[i] = max(nums[i], dp[i-1] + nums[i])\n",
    "Final result is max(dp)\n",
    "But this uses O(n) space, unlike Kadane’s which uses O(1).\n",
    "\n",
    "🔹 6. Can Kadane’s Algorithm be used for 2D arrays (matrices)?\n",
    "Answer:\n",
    "Yes, there’s an extension of Kadane’s Algorithm for maximum sum rectangle in a 2D matrix:\n",
    "\n",
    "Fix left and right column boundaries\n",
    "\n",
    "For each pair, compute a 1D array of row sums\n",
    "\n",
    "Apply Kadane’s algorithm on this 1D array\n",
    "\n",
    "Time complexity is O(n² * m) for an n x m matrix.\n",
    "\n",
    "🔹 7. What are the space-time trade-offs between the DP and Kadane's version?\n",
    "Answer:\n",
    "\n",
    "Kadane’s is more space-efficient (O(1))\n",
    "\n",
    "DP approach with a full array uses O(n) space but makes it easier to track values at each step (e.g., for debugging or backtracking).\n",
    "\n"
   ]
  },
  {
   "cell_type": "markdown",
   "metadata": {},
   "source": [
    "## Extend the solutio to return the list of max subarray"
   ]
  },
  {
   "cell_type": "code",
   "execution_count": 2,
   "metadata": {},
   "outputs": [
    {
     "data": {
      "text/plain": [
       "[4, -1, 2, 1]"
      ]
     },
     "execution_count": 2,
     "metadata": {},
     "output_type": "execute_result"
    }
   ],
   "source": [
    "def maxSubArray(nums):\n",
    "    max_sum = curr_sum = nums[0]\n",
    "    start=end=temp_start = 0\n",
    "\n",
    "    for i in range(1, len(nums)):\n",
    "        if nums[i] >= nums[i] + curr_sum:\n",
    "            curr_sum = nums[i]\n",
    "            temp_start = i\n",
    "        else:\n",
    "            curr_sum += nums[i]\n",
    "            \n",
    "        if curr_sum > max_sum:\n",
    "            max_sum = curr_sum\n",
    "            start = temp_start\n",
    "            end = i\n",
    "        \n",
    "    return nums[start: end+1]\n",
    "\n",
    "maxSubArray(nums = [-2,1,-3,4,-1,2,1,-5,4])"
   ]
  },
  {
   "cell_type": "markdown",
   "metadata": {},
   "source": [
    "## DP Solution\n",
    "#### TC, SC - O(n)"
   ]
  },
  {
   "cell_type": "code",
   "execution_count": 4,
   "metadata": {},
   "outputs": [
    {
     "data": {
      "text/plain": [
       "6"
      ]
     },
     "execution_count": 4,
     "metadata": {},
     "output_type": "execute_result"
    }
   ],
   "source": [
    "def maxSubArray(nums):\n",
    "    if not nums: return 0\n",
    "    n = len(nums)\n",
    "    dp = [0]*n\n",
    "    max_sum = dp[0] = nums[0]\n",
    "    \n",
    "    for i in range(1, n):\n",
    "        dp[i] = max(nums[i]+dp[i-1], nums[i])\n",
    "        max_sum = max(max_sum, dp[i])\n",
    "\n",
    "    return max_sum\n",
    "\n",
    "maxSubArray(nums = [-2,1,-3,4,-1,2,1,-5,4])\n"
   ]
  },
  {
   "cell_type": "code",
   "execution_count": null,
   "metadata": {},
   "outputs": [],
   "source": []
  }
 ],
 "metadata": {
  "kernelspec": {
   "display_name": "Python 3",
   "language": "python",
   "name": "python3"
  },
  "language_info": {
   "codemirror_mode": {
    "name": "ipython",
    "version": 3
   },
   "file_extension": ".py",
   "mimetype": "text/x-python",
   "name": "python",
   "nbconvert_exporter": "python",
   "pygments_lexer": "ipython3",
   "version": "3.11.9"
  }
 },
 "nbformat": 4,
 "nbformat_minor": 2
}
