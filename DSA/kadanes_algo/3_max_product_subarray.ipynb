{
 "cells": [
  {
   "cell_type": "markdown",
   "metadata": {},
   "source": [
    "#### 152 Max Product Subarray\n",
    "\n",
    "* Given an integer array nums, find a subarray that has the largest product, and return the product.\n",
    "* The test cases are generated so that the answer will fit in a 32-bit integer.\n",
    "\n",
    "- Example 1:\n",
    "- Input: nums = [2,3,-2,4]\n",
    "- Output: 6\n",
    "- Explanation: [2,3] has the largest product 6.\n",
    "\n",
    "- Example 2:\n",
    "- Input: nums = [-2,0,-1]\n",
    "- Output: 0\n",
    "- Explanation: The result cannot be 2, because [-2,-1] is not a subarray."
   ]
  },
  {
   "cell_type": "code",
   "execution_count": null,
   "metadata": {},
   "outputs": [],
   "source": [
    "## Solution is similar to Max Sum Subarray using Kadene's algo with minor changes\n",
    "## since we are calculating the product so sign plays an important role\n",
    "## hence we will have to keep track of max and min till every element\n",
    "## also, we will have to exchange current_max and current_min in case of negative numbers,why?\n",
    "##(Explained in below cell)"
   ]
  },
  {
   "cell_type": "markdown",
   "metadata": {},
   "source": [
    "* Why Swap current_max and current_min?\n",
    "- The algorithm tracks two values:\n",
    "\n",
    "- current_max: The maximum product ending at the current position.\n",
    "- current_min: The minimum product ending at the current position.\n",
    "- When a negative number is encountered:\n",
    "- current_max and current_min Roles Reverse:\n",
    "- The smallest product (current_min) multiplied by a negative number can become the largest product.\n",
    "- The largest product (current_max) multiplied by a negative number can become the smallest product.\n",
    "\n",
    "- Swapping Ensures Correct Tracking:\n",
    "- By swapping current_max and current_min, the algorithm ensures that the new current_max correctly reflects the largest product after considering the negative number, and current_min reflects the smallest product."
   ]
  },
  {
   "cell_type": "code",
   "execution_count": null,
   "metadata": {},
   "outputs": [],
   "source": [
    "def max_product(nums: list[int]) -> int:\n",
    "    global_max, curr_max, curr_min = nums[0],nums[0],nums[0]\n",
    "\n",
    "    for num in nums[1:]:\n",
    "        if num < 0:\n",
    "            # Swap current_max and current_min when num is negative\n",
    "            curr_max, curr_min = curr_min, curr_max\n",
    "\n",
    "        curr_max = max(curr_max*num, num)\n",
    "        curr_min = min(curr_min*num, num)\n",
    "\n",
    "        global_max = max(global_max, curr_max)\n",
    "    \n",
    "    return global_max"
   ]
  },
  {
   "cell_type": "code",
   "execution_count": 2,
   "metadata": {},
   "outputs": [
    {
     "data": {
      "text/plain": [
       "6"
      ]
     },
     "execution_count": 2,
     "metadata": {},
     "output_type": "execute_result"
    }
   ],
   "source": [
    "max_product(nums = [2,3,-2,4])"
   ]
  },
  {
   "cell_type": "code",
   "execution_count": 3,
   "metadata": {},
   "outputs": [
    {
     "data": {
      "text/plain": [
       "0"
      ]
     },
     "execution_count": 3,
     "metadata": {},
     "output_type": "execute_result"
    }
   ],
   "source": [
    "max_product(nums = [-2,0,-1])"
   ]
  },
  {
   "cell_type": "code",
   "execution_count": 4,
   "metadata": {},
   "outputs": [
    {
     "data": {
      "text/plain": [
       "4"
      ]
     },
     "execution_count": 4,
     "metadata": {},
     "output_type": "execute_result"
    }
   ],
   "source": [
    "max_product(nums = [-2,-2,-1])"
   ]
  },
  {
   "cell_type": "code",
   "execution_count": null,
   "metadata": {},
   "outputs": [],
   "source": []
  }
 ],
 "metadata": {
  "kernelspec": {
   "display_name": "Python 3",
   "language": "python",
   "name": "python3"
  },
  "language_info": {
   "codemirror_mode": {
    "name": "ipython",
    "version": 3
   },
   "file_extension": ".py",
   "mimetype": "text/x-python",
   "name": "python",
   "nbconvert_exporter": "python",
   "pygments_lexer": "ipython3",
   "version": "3.11.9"
  }
 },
 "nbformat": 4,
 "nbformat_minor": 2
}
