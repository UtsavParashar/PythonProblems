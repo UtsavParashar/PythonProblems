{
 "cells": [
  {
   "cell_type": "markdown",
   "metadata": {},
   "source": [
    "#### 152 Max Product Subarray\n",
    "\n",
    "* Given an integer array nums, find a subarray that has the largest product, and return the product.\n",
    "* The test cases are generated so that the answer will fit in a 32-bit integer.\n",
    "\n",
    "- Example 1:\n",
    "- Input: nums = [2,3,-2,4]\n",
    "- Output: 6\n",
    "- Explanation: [2,3] has the largest product 6.\n",
    "\n",
    "- Example 2:\n",
    "- Input: nums = [-2,0,-1]\n",
    "- Output: 0\n",
    "- Explanation: The result cannot be 2, because [-2,-1] is not a subarray."
   ]
  },
  {
   "cell_type": "code",
   "execution_count": 1,
   "metadata": {},
   "outputs": [],
   "source": [
    "def brute_force(nums):\n",
    "    curr_prod = 1\n",
    "    max_prod = nums[0]\n",
    "\n",
    "    for n in nums:\n",
    "        if n == 0:\n",
    "            return 0\n",
    "        \n",
    "        curr_prod = max(curr_prod*n, n)\n",
    "        max_prod = max(max_prod, curr_prod)\n",
    "    \n",
    "    return max_prod"
   ]
  },
  {
   "cell_type": "code",
   "execution_count": 2,
   "metadata": {},
   "outputs": [
    {
     "data": {
      "text/plain": [
       "6"
      ]
     },
     "execution_count": 2,
     "metadata": {},
     "output_type": "execute_result"
    }
   ],
   "source": [
    "brute_force(nums = [2,3,-2,4])"
   ]
  },
  {
   "cell_type": "code",
   "execution_count": 3,
   "metadata": {},
   "outputs": [
    {
     "data": {
      "text/plain": [
       "0"
      ]
     },
     "execution_count": 3,
     "metadata": {},
     "output_type": "execute_result"
    }
   ],
   "source": [
    "brute_force(nums = [-2,0,-1])"
   ]
  },
  {
   "cell_type": "code",
   "execution_count": 4,
   "metadata": {},
   "outputs": [
    {
     "data": {
      "text/plain": [
       "4"
      ]
     },
     "execution_count": 4,
     "metadata": {},
     "output_type": "execute_result"
    }
   ],
   "source": [
    "brute_force(nums = [-2,-2,-1])"
   ]
  },
  {
   "cell_type": "code",
   "execution_count": null,
   "metadata": {},
   "outputs": [],
   "source": []
  }
 ],
 "metadata": {
  "kernelspec": {
   "display_name": "Python 3",
   "language": "python",
   "name": "python3"
  },
  "language_info": {
   "codemirror_mode": {
    "name": "ipython",
    "version": 3
   },
   "file_extension": ".py",
   "mimetype": "text/x-python",
   "name": "python",
   "nbconvert_exporter": "python",
   "pygments_lexer": "ipython3",
   "version": "3.11.9"
  }
 },
 "nbformat": 4,
 "nbformat_minor": 2
}
