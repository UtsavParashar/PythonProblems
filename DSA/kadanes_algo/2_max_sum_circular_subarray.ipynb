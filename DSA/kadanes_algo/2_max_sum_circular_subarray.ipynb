{
 "cells": [
  {
   "cell_type": "markdown",
   "metadata": {},
   "source": [
    "#### 918. Maximum Sum Circular Subarray \n",
    "- https://leetcode.com/problems/maximum-sum-circular-subarray/description/\n",
    "\n",
    "* Given a circular integer array nums of length n, return the maximum possible sum of a non-empty subarray of nums.\n",
    "* A circular array means the end of the array connects to the beginning of the array. Formally, the next element of nums[i] is nums[(i + 1) % n] and the previous element of nums[i] is nums[(i - 1 + n) % n].\n",
    "* A subarray may only include each element of the fixed buffer nums at most once. Formally, for a subarray nums[i], nums[i + 1], ..., nums[j], there does not exist i <= k1, k2 <= j with k1 % n == k2 % n.\n",
    "\n",
    "- Example 1:\n",
    "- Input: nums = [1,-2,3,-2]\n",
    "- Output: 3\n",
    "- Explanation: Subarray [3] has maximum sum 3.\n",
    "\n",
    "- Example 2:\n",
    "- Input: nums = [5,-3,5]\n",
    "- Output: 10\n",
    "- Explanation: Subarray [5,5] has maximum sum 5 + 5 = 10.\n",
    "\n",
    "- Example 3:\n",
    "- Input: nums = [-3,-2,-3]\n",
    "- Output: -2\n",
    "- Explanation: Subarray [-2] has maximum sum -2."
   ]
  },
  {
   "cell_type": "code",
   "execution_count": null,
   "metadata": {},
   "outputs": [],
   "source": [
    "def max_subarray_sum_circular(nums: list[int]) -> int:\n",
    "    global_max, global_min = nums[0], nums[0]\n",
    "    curr_max, curr_min = 0, 0\n",
    "    total = 0\n",
    "\n",
    "    for n in nums:\n",
    "        curr_max = max(curr_max+n, n)\n",
    "        curr_min = min(curr_min+n, n)\n",
    "\n",
    "        total += n\n",
    "\n",
    "        global_max = max(global_max, curr_max)\n",
    "        global_min = min(global_min, curr_min)\n",
    "\n",
    "    # global_max will be greater if the max is in linear subarray, of the max is in circular subarray then total-global_min will be greater\n",
    "    return max(global_max, total-global_min) if global_max > 0 else global_max"
   ]
  },
  {
   "cell_type": "code",
   "execution_count": 20,
   "metadata": {},
   "outputs": [
    {
     "name": "stdout",
     "output_type": "stream",
     "text": [
      "-5 3 -6 -8 -8\n"
     ]
    },
    {
     "data": {
      "text/plain": [
       "3"
      ]
     },
     "execution_count": 20,
     "metadata": {},
     "output_type": "execute_result"
    }
   ],
   "source": [
    "max_subarray_sum_circular(nums = [1,-2,3,-8])"
   ]
  },
  {
   "cell_type": "code",
   "execution_count": 21,
   "metadata": {},
   "outputs": [
    {
     "name": "stdout",
     "output_type": "stream",
     "text": [
      "7 7 7 2 -3\n"
     ]
    },
    {
     "data": {
      "text/plain": [
       "10"
      ]
     },
     "execution_count": 21,
     "metadata": {},
     "output_type": "execute_result"
    }
   ],
   "source": [
    "max_subarray_sum_circular(nums = [5,-3,5])"
   ]
  },
  {
   "cell_type": "code",
   "execution_count": 22,
   "metadata": {},
   "outputs": [
    {
     "name": "stdout",
     "output_type": "stream",
     "text": [
      "-3 -2 -8 -8 -8\n"
     ]
    },
    {
     "data": {
      "text/plain": [
       "-2"
      ]
     },
     "execution_count": 22,
     "metadata": {},
     "output_type": "execute_result"
    }
   ],
   "source": [
    "max_subarray_sum_circular(nums = [-3,-2,-3])"
   ]
  },
  {
   "cell_type": "code",
   "execution_count": 23,
   "metadata": {},
   "outputs": [
    {
     "name": "stdout",
     "output_type": "stream",
     "text": [
      "10 11 4 -6 -16\n"
     ]
    },
    {
     "data": {
      "text/plain": [
       "20"
      ]
     },
     "execution_count": 23,
     "metadata": {},
     "output_type": "execute_result"
    }
   ],
   "source": [
    "max_subarray_sum_circular([-1,3,-3,9,-6,8,-5,-5,-6,10])"
   ]
  },
  {
   "cell_type": "code",
   "execution_count": 11,
   "metadata": {},
   "outputs": [],
   "source": [
    "def brute_force2(nums):\n",
    "    curr_sum = min(nums)\n",
    "    max_sum = min(nums)\n",
    "    min_value_index = nums.index(max_sum)\n",
    "\n",
    "    circular_array = nums[min_value_index:] + nums[:min_value_index]\n",
    "\n",
    "    for val in circular_array[1:]:\n",
    "        curr_sum = max(curr_sum+val, val)\n",
    "        max_sum = max(max_sum, curr_sum)\n",
    "    \n",
    "    return max_sum"
   ]
  },
  {
   "cell_type": "code",
   "execution_count": 12,
   "metadata": {},
   "outputs": [
    {
     "data": {
      "text/plain": [
       "18"
      ]
     },
     "execution_count": 12,
     "metadata": {},
     "output_type": "execute_result"
    }
   ],
   "source": [
    "brute_force2([-1,3,-3,9,-6,8,-5,-5,-6,10])"
   ]
  },
  {
   "cell_type": "code",
   "execution_count": null,
   "metadata": {},
   "outputs": [],
   "source": []
  }
 ],
 "metadata": {
  "kernelspec": {
   "display_name": "Python 3",
   "language": "python",
   "name": "python3"
  },
  "language_info": {
   "codemirror_mode": {
    "name": "ipython",
    "version": 3
   },
   "file_extension": ".py",
   "mimetype": "text/x-python",
   "name": "python",
   "nbconvert_exporter": "python",
   "pygments_lexer": "ipython3",
   "version": "3.11.9"
  }
 },
 "nbformat": 4,
 "nbformat_minor": 2
}
