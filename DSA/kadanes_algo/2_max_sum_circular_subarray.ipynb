{
 "cells": [
  {
   "cell_type": "markdown",
   "metadata": {},
   "source": [
    "#### 918. Maximum Sum Circular Subarray \n",
    "- https://leetcode.com/problems/maximum-sum-circular-subarray/description/\n",
    "\n",
    "* Given a circular integer array nums of length n, return the maximum possible sum of a non-empty subarray of nums.\n",
    "* A circular array means the end of the array connects to the beginning of the array. Formally, the next element of nums[i] is nums[(i + 1) % n] and the previous element of nums[i] is nums[(i - 1 + n) % n].\n",
    "* A subarray may only include each element of the fixed buffer nums at most once. Formally, for a subarray nums[i], nums[i + 1], ..., nums[j], there does not exist i <= k1, k2 <= j with k1 % n == k2 % n.\n",
    "\n",
    "- Example 1:\n",
    "- Input: nums = [1,-2,3,-2]\n",
    "- Output: 3\n",
    "- Explanation: Subarray [3] has maximum sum 3.\n",
    "\n",
    "- Example 2:\n",
    "- Input: nums = [5,-3,5]\n",
    "- Output: 10\n",
    "- Explanation: Subarray [5,5] has maximum sum 5 + 5 = 10.\n",
    "\n",
    "- Example 3:\n",
    "- Input: nums = [-3,-2,-3]\n",
    "- Output: -2\n",
    "- Explanation: Subarray [-2] has maximum sum -2."
   ]
  },
  {
   "cell_type": "code",
   "execution_count": 5,
   "metadata": {},
   "outputs": [],
   "source": [
    "def brute_force(nums: list[int]) -> int:\n",
    "    max_sum = min(nums)\n",
    "    curr_sum = 0\n",
    "    min_value_index = nums.index(max_sum)\n",
    "\n",
    "    circular_array = nums[min_value_index:] + nums[:min_value_index]\n",
    "    for val in circular_array:\n",
    "        if curr_sum < 0:\n",
    "            curr_sum = 0\n",
    "        curr_sum += val\n",
    "        max_sum = max(max_sum, curr_sum)\n",
    "\n",
    "    return max_sum"
   ]
  },
  {
   "cell_type": "code",
   "execution_count": 9,
   "metadata": {},
   "outputs": [
    {
     "data": {
      "text/plain": [
       "3"
      ]
     },
     "execution_count": 9,
     "metadata": {},
     "output_type": "execute_result"
    }
   ],
   "source": [
    "brute_force(nums = [1,-2,3,-8])"
   ]
  },
  {
   "cell_type": "code",
   "execution_count": 7,
   "metadata": {},
   "outputs": [
    {
     "data": {
      "text/plain": [
       "10"
      ]
     },
     "execution_count": 7,
     "metadata": {},
     "output_type": "execute_result"
    }
   ],
   "source": [
    "brute_force(nums = [5,-3,5])"
   ]
  },
  {
   "cell_type": "code",
   "execution_count": 8,
   "metadata": {},
   "outputs": [
    {
     "data": {
      "text/plain": [
       "-2"
      ]
     },
     "execution_count": 8,
     "metadata": {},
     "output_type": "execute_result"
    }
   ],
   "source": [
    "brute_force(nums = [-3,-2,-3])"
   ]
  },
  {
   "cell_type": "code",
   "execution_count": 10,
   "metadata": {},
   "outputs": [
    {
     "data": {
      "text/plain": [
       "18"
      ]
     },
     "execution_count": 10,
     "metadata": {},
     "output_type": "execute_result"
    }
   ],
   "source": [
    "brute_force([-1,3,-3,9,-6,8,-5,-5,-6,10])"
   ]
  },
  {
   "cell_type": "code",
   "execution_count": 11,
   "metadata": {},
   "outputs": [],
   "source": [
    "def brute_force2(nums):\n",
    "    curr_sum = min(nums)\n",
    "    max_sum = min(nums)\n",
    "    min_value_index = nums.index(max_sum)\n",
    "\n",
    "    circular_array = nums[min_value_index:] + nums[:min_value_index]\n",
    "\n",
    "    for val in circular_array[1:]:\n",
    "        curr_sum = max(curr_sum+val, val)\n",
    "        max_sum = max(max_sum, curr_sum)\n",
    "    \n",
    "    return max_sum"
   ]
  },
  {
   "cell_type": "code",
   "execution_count": 12,
   "metadata": {},
   "outputs": [
    {
     "data": {
      "text/plain": [
       "18"
      ]
     },
     "execution_count": 12,
     "metadata": {},
     "output_type": "execute_result"
    }
   ],
   "source": [
    "brute_force2([-1,3,-3,9,-6,8,-5,-5,-6,10])"
   ]
  },
  {
   "cell_type": "code",
   "execution_count": null,
   "metadata": {},
   "outputs": [],
   "source": []
  }
 ],
 "metadata": {
  "kernelspec": {
   "display_name": "Python 3",
   "language": "python",
   "name": "python3"
  },
  "language_info": {
   "codemirror_mode": {
    "name": "ipython",
    "version": 3
   },
   "file_extension": ".py",
   "mimetype": "text/x-python",
   "name": "python",
   "nbconvert_exporter": "python",
   "pygments_lexer": "ipython3",
   "version": "3.11.9"
  }
 },
 "nbformat": 4,
 "nbformat_minor": 2
}
