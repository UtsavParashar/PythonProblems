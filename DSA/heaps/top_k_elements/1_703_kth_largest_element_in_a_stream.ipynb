{
 "cells": [
  {
   "cell_type": "markdown",
   "id": "1c44d042",
   "metadata": {},
   "source": [
    "#### 703. Kth Largest Element in a Stream\n",
    "\n",
    "* https://www.youtube.com/watch?v=hOjcdrqMoQ8"
   ]
  },
  {
   "cell_type": "code",
   "execution_count": 1,
   "id": "7fe271e6",
   "metadata": {},
   "outputs": [],
   "source": [
    "# https://www.youtube.com/watch?v=hOjcdrqMoQ8\n",
    "\n",
    "import heapq\n",
    "\n",
    "class KthLargest:\n",
    "\n",
    "    def __init__(self, k: int, nums):\n",
    "        self.k = k\n",
    "        self.min_heap = nums\n",
    "        heapq.heapify(self.min_heap)\n",
    "\n",
    "        while len(self.min_heap) > k:\n",
    "            heapq.heappop(self.min_heap)\n",
    "        \n",
    "\n",
    "    def add(self, val: int) -> int:\n",
    "        heapq.heappush(self.min_heap, val)\n",
    "\n",
    "        if len(self.min_heap) > self.k: # Edge case if in constructor the size of heap is less than k\n",
    "            heapq.heappop(self.min_heap)\n",
    "\n",
    "        return self.min_heap[0]"
   ]
  },
  {
   "cell_type": "code",
   "execution_count": null,
   "id": "552ce49e",
   "metadata": {},
   "outputs": [],
   "source": []
  }
 ],
 "metadata": {
  "kernelspec": {
   "display_name": "Python 3",
   "language": "python",
   "name": "python3"
  },
  "language_info": {
   "codemirror_mode": {
    "name": "ipython",
    "version": 3
   },
   "file_extension": ".py",
   "mimetype": "text/x-python",
   "name": "python",
   "nbconvert_exporter": "python",
   "pygments_lexer": "ipython3",
   "version": "3.11.9"
  }
 },
 "nbformat": 4,
 "nbformat_minor": 5
}
