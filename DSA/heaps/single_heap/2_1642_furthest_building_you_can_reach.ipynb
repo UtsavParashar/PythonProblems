{
 "cells": [
  {
   "cell_type": "markdown",
   "id": "b70cb912",
   "metadata": {},
   "source": [
    "#### 1642. Furthest Building You Can Reach\n",
    "\n",
    "* https://leetcode.com/problems/furthest-building-you-can-reach/description/"
   ]
  },
  {
   "cell_type": "code",
   "execution_count": 8,
   "id": "62bba89a",
   "metadata": {},
   "outputs": [],
   "source": [
    "# Credit - https://www.youtube.com/watch?v=zyTeznvXCtg\n",
    "# TC - O(nlogn)\n",
    "\n",
    "import heapq\n",
    "\n",
    "def furthest_building(heights, bricks, ladders):\n",
    "\n",
    "    n = len(heights)\n",
    "    heap = [] # max heap to store bricks, store them as negative as python only has min heap\n",
    "\n",
    "    for i in range(n-1): # -1 because we will be checking the diff from next building\n",
    "        diff = heights[i+1] - heights[i]\n",
    "\n",
    "        if diff <= 0: # next building is at the same level or downward\n",
    "            continue\n",
    "\n",
    "        bricks -= diff\n",
    "        heapq.heappush(heap, -diff) # -diff because python support only min heap\n",
    "\n",
    "        if bricks < 0: # bricks are over let's check if ladder could be used\n",
    "            if ladders == 0:\n",
    "                return i # Not left with bricks or ladders so could reach till i\n",
    "\n",
    "            ladders -= 1\n",
    "            bricks += -heapq.heappop(heap) # -heapq.heappop because python supports only min heap\n",
    "\n",
    "    return n-1\n"
   ]
  },
  {
   "cell_type": "code",
   "execution_count": 9,
   "id": "446e341a",
   "metadata": {},
   "outputs": [
    {
     "data": {
      "text/plain": [
       "7"
      ]
     },
     "execution_count": 9,
     "metadata": {},
     "output_type": "execute_result"
    }
   ],
   "source": [
    "furthest_building(heights = [4,12,2,7,3,18,20,3,19], bricks = 10, ladders = 2)"
   ]
  },
  {
   "cell_type": "code",
   "execution_count": 10,
   "id": "9770b1d6",
   "metadata": {},
   "outputs": [
    {
     "data": {
      "text/plain": [
       "4"
      ]
     },
     "execution_count": 10,
     "metadata": {},
     "output_type": "execute_result"
    }
   ],
   "source": [
    "furthest_building(heights = [4,2,7,6,9,14,12], bricks = 5, ladders = 1)"
   ]
  },
  {
   "cell_type": "code",
   "execution_count": 16,
   "id": "605e4114",
   "metadata": {},
   "outputs": [],
   "source": [
    "heap = []\n",
    "heapq.heappush(heap, -10)\n",
    "heapq.heappush(heap, -11)"
   ]
  },
  {
   "cell_type": "code",
   "execution_count": null,
   "id": "4f56ddd3",
   "metadata": {},
   "outputs": [],
   "source": []
  }
 ],
 "metadata": {
  "kernelspec": {
   "display_name": "Python 3",
   "language": "python",
   "name": "python3"
  },
  "language_info": {
   "codemirror_mode": {
    "name": "ipython",
    "version": 3
   },
   "file_extension": ".py",
   "mimetype": "text/x-python",
   "name": "python",
   "nbconvert_exporter": "python",
   "pygments_lexer": "ipython3",
   "version": "3.11.9"
  }
 },
 "nbformat": 4,
 "nbformat_minor": 5
}
