{
 "cells": [
  {
   "cell_type": "markdown",
   "id": "354ee55d",
   "metadata": {},
   "source": [
    "#### 1464. Maximum Product of Two Elements in an Array\n",
    "\n",
    "* https://leetcode.com/problems/maximum-product-of-two-elements-in-an-array/description/"
   ]
  },
  {
   "cell_type": "code",
   "execution_count": 34,
   "id": "ac9f5b00",
   "metadata": {},
   "outputs": [],
   "source": [
    "## Using heap\n",
    "\n",
    "import heapq\n",
    "def max_product(nums):\n",
    "    vals = heapq.nlargest(2, nums)\n",
    "    return (vals[0]-1)* (vals[1]-1)"
   ]
  },
  {
   "cell_type": "code",
   "execution_count": 36,
   "id": "9a75f386",
   "metadata": {},
   "outputs": [
    {
     "name": "stdout",
     "output_type": "stream",
     "text": [
      "1.02 μs ± 31.9 ns per loop (mean ± std. dev. of 7 runs, 1,000,000 loops each)\n"
     ]
    }
   ],
   "source": [
    "%timeit max_product(nums = [3,4,5,2])"
   ]
  },
  {
   "cell_type": "code",
   "execution_count": null,
   "id": "614dbe5e",
   "metadata": {},
   "outputs": [],
   "source": [
    "def max_product(nums):\n",
    "    nums.sort()\n",
    "    return (nums[-1]-1)*(nums[-2]-1)"
   ]
  },
  {
   "cell_type": "code",
   "execution_count": 28,
   "id": "2d9a7862",
   "metadata": {},
   "outputs": [
    {
     "name": "stdout",
     "output_type": "stream",
     "text": [
      "201 ns ± 2.99 ns per loop (mean ± std. dev. of 7 runs, 1,000,000 loops each)\n"
     ]
    }
   ],
   "source": [
    "%timeit max_product(nums = [3,4,5,2])"
   ]
  },
  {
   "cell_type": "code",
   "execution_count": null,
   "id": "d15d10e7",
   "metadata": {},
   "outputs": [],
   "source": []
  }
 ],
 "metadata": {
  "kernelspec": {
   "display_name": "Python 3",
   "language": "python",
   "name": "python3"
  },
  "language_info": {
   "codemirror_mode": {
    "name": "ipython",
    "version": 3
   },
   "file_extension": ".py",
   "mimetype": "text/x-python",
   "name": "python",
   "nbconvert_exporter": "python",
   "pygments_lexer": "ipython3",
   "version": "3.11.9"
  }
 },
 "nbformat": 4,
 "nbformat_minor": 5
}
