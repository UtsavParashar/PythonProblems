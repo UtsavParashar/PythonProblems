{
 "cells": [
  {
   "cell_type": "markdown",
   "id": "515e83a5",
   "metadata": {},
   "source": [
    "#### 215. Kth Largest Element in an Array\n",
    "\n",
    "* https://leetcode.com/problems/kth-largest-element-in-an-array/description/"
   ]
  },
  {
   "cell_type": "code",
   "execution_count": null,
   "id": "c91f05d5",
   "metadata": {},
   "outputs": [],
   "source": [
    "# Using max heap\n",
    "# TC - O(n + k log n)\n",
    "# SC - O(1)\n",
    "\n",
    "## Logic is to store the nums in a max heap and pop k elements, kth element will be kth largest\n",
    "\n",
    "\n",
    "import heapq\n",
    "def find_kth_largest(nums, k):\n",
    "    # Since python supports min heap\n",
    "    nums = [-num for num in nums]\n",
    "    heapq.heapify(nums)\n",
    "\n",
    "    # pop the heap items k times and you got the answer\n",
    "    for _ in range(k-1):\n",
    "        heapq.heappop(nums)\n",
    "\n",
    "    return -heapq.heappop(nums)"
   ]
  },
  {
   "cell_type": "code",
   "execution_count": 4,
   "id": "227532e3",
   "metadata": {},
   "outputs": [
    {
     "data": {
      "text/plain": [
       "4"
      ]
     },
     "execution_count": 4,
     "metadata": {},
     "output_type": "execute_result"
    }
   ],
   "source": [
    "find_kth_largest(nums = [3,2,3,1,2,4,5,5,6], k = 4)"
   ]
  },
  {
   "cell_type": "code",
   "execution_count": null,
   "id": "7ee20ccc",
   "metadata": {},
   "outputs": [],
   "source": [
    "# Using min heap\n",
    "# TC - O(n log k)\n",
    "# SC - O(k)\n",
    "\n",
    "## Logic is to store the nums in a min heap of size k so that at the end kth largest element with be at the root\n",
    "\n",
    "import heapq\n",
    "def find_kth_largest(nums, k):\n",
    "    min_heap = []\n",
    "    \n",
    "    for num in nums:\n",
    "        if len(min_heap) < k:\n",
    "            heapq.heappush(min_heap, num)\n",
    "        else:\n",
    "            heapq.heappushpop(min_heap, num) # at a time store only k elements in a heap\n",
    "\n",
    "    return min_heap[0]"
   ]
  },
  {
   "cell_type": "code",
   "execution_count": 6,
   "id": "eaf4f711",
   "metadata": {},
   "outputs": [
    {
     "data": {
      "text/plain": [
       "4"
      ]
     },
     "execution_count": 6,
     "metadata": {},
     "output_type": "execute_result"
    }
   ],
   "source": [
    "find_kth_largest(nums = [3,2,3,1,2,4,5,5,6], k = 4)"
   ]
  },
  {
   "cell_type": "code",
   "execution_count": null,
   "id": "347128b2",
   "metadata": {},
   "outputs": [],
   "source": []
  }
 ],
 "metadata": {
  "kernelspec": {
   "display_name": "Python 3",
   "language": "python",
   "name": "python3"
  },
  "language_info": {
   "codemirror_mode": {
    "name": "ipython",
    "version": 3
   },
   "file_extension": ".py",
   "mimetype": "text/x-python",
   "name": "python",
   "nbconvert_exporter": "python",
   "pygments_lexer": "ipython3",
   "version": "3.11.9"
  }
 },
 "nbformat": 4,
 "nbformat_minor": 5
}
