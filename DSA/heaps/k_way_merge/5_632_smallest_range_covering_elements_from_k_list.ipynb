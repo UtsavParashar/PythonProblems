{
 "cells": [
  {
   "cell_type": "markdown",
   "id": "3c85d045",
   "metadata": {},
   "source": [
    "#### 632. Smallest Range Covering Elements from K Lists\n",
    "\n",
    "* https://leetcode.com/problems/smallest-range-covering-elements-from-k-lists/description/"
   ]
  },
  {
   "cell_type": "code",
   "execution_count": null,
   "id": "57bc0746",
   "metadata": {},
   "outputs": [
    {
     "data": {
      "text/plain": [
       "[20, 24]"
      ]
     },
     "execution_count": 2,
     "metadata": {},
     "output_type": "execute_result"
    }
   ],
   "source": [
    "# Code ref from chatgpt\n",
    "\n",
    "import heapq\n",
    "def smallest_range(nums):\n",
    "    max_val = float('-inf')\n",
    "    res_start, res_end = float('-inf'), float('inf')\n",
    "\n",
    "    min_heap = []\n",
    "\n",
    "    for i, l in enumerate(nums):\n",
    "        heapq.heappush(min_heap, (l[0], i, 0))\n",
    "        max_val = max(max_val, l[0])\n",
    "\n",
    "    while True:\n",
    "        min_val, r, c = heapq.heappop(min_heap)\n",
    "\n",
    "        if max_val - min_val < res_end - res_start:\n",
    "            res_start, res_end = min_val, max_val\n",
    "\n",
    "        if c+1 >= len(nums[r]):\n",
    "            break\n",
    "\n",
    "        next_val = nums[r][c+1]\n",
    "        heapq.heappush(min_heap, (next_val, r, c+1))\n",
    "\n",
    "        max_val = max(max_val, next_val)\n",
    "\n",
    "    return [res_start, res_end]\n",
    "\n",
    "smallest_range([[4,10,15,24,26],[0,9,12,20],[5,18,22,30]])"
   ]
  },
  {
   "cell_type": "code",
   "execution_count": null,
   "id": "51c98cae",
   "metadata": {},
   "outputs": [],
   "source": []
  }
 ],
 "metadata": {
  "kernelspec": {
   "display_name": "Python 3",
   "language": "python",
   "name": "python3"
  },
  "language_info": {
   "codemirror_mode": {
    "name": "ipython",
    "version": 3
   },
   "file_extension": ".py",
   "mimetype": "text/x-python",
   "name": "python",
   "nbconvert_exporter": "python",
   "pygments_lexer": "ipython3",
   "version": "3.11.9"
  }
 },
 "nbformat": 4,
 "nbformat_minor": 5
}
