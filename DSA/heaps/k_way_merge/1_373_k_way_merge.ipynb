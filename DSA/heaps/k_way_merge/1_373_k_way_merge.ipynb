{
 "cells": [
  {
   "cell_type": "markdown",
   "id": "48d20934",
   "metadata": {},
   "source": [
    "#### 373. Find K Pairs with Smallest Sums\n",
    "\n",
    "* https://leetcode.com/problems/find-k-pairs-with-smallest-sums/description/"
   ]
  },
  {
   "cell_type": "code",
   "execution_count": 6,
   "id": "f9da14ce",
   "metadata": {},
   "outputs": [],
   "source": [
    "import heapq\n",
    "\n",
    "def k_smallest_pairs(nums1, nums2, k):\n",
    "    if not nums1 or not nums2 or k == 0:\n",
    "        return []\n",
    "\n",
    "    min_heap = [(nums1[i] + nums2[0], i, 0)for i in range(min(k, len(nums1)))]\n",
    "    heapq.heapify(min_heap)\n",
    "\n",
    "    res = []\n",
    "    while min_heap and len(res) < k:\n",
    "        _, x, y = heapq.heappop(min_heap)\n",
    "        res.append([nums1[x], nums2[y]])\n",
    "        if y + 1 < len(nums2):\n",
    "            # Push next pair with same nums1[i] and next nums2[j+1]\n",
    "            heapq.heappush(min_heap, (nums1[x] + nums2[y+1],x, y+1))\n",
    "\n",
    "    return res\n",
    "\n",
    "\n"
   ]
  },
  {
   "cell_type": "code",
   "execution_count": 8,
   "id": "0f54cbff",
   "metadata": {},
   "outputs": [
    {
     "name": "stdout",
     "output_type": "stream",
     "text": [
      "1.5 μs ± 71.5 ns per loop (mean ± std. dev. of 7 runs, 1,000,000 loops each)\n"
     ]
    }
   ],
   "source": [
    "%%timeit \n",
    "\n",
    "k_smallest_pairs(nums1 = [1,7,11], nums2 = [2,4,6], k = 3)"
   ]
  },
  {
   "cell_type": "code",
   "execution_count": null,
   "id": "7ec8762b",
   "metadata": {},
   "outputs": [],
   "source": [
    "# Optimized\n",
    "\n",
    "import heapq\n",
    "\n",
    "def kSmallestPairsII(nums1, nums2, k):\n",
    "    if not nums1 or not nums2 or k == 0:\n",
    "        return []\n",
    "\n",
    "    min_heap = []\n",
    "    result = []\n",
    "\n",
    "    for i in range(min(k, len(nums1))):\n",
    "        heapq.heappush(min_heap, (nums1[i] + nums2[0], i, 0))\n",
    "\n",
    "    for _ in range(k):\n",
    "        if not min_heap:\n",
    "            break\n",
    "        _, i, j = heapq.heappop(min_heap)\n",
    "        result.append((nums1[i], nums2[j]))\n",
    "        if j + 1 < len(nums2):\n",
    "            heapq.heappush(min_heap, (nums1[i] + nums2[j + 1], i, j + 1))\n",
    "\n",
    "    return result\n"
   ]
  },
  {
   "cell_type": "code",
   "execution_count": 13,
   "id": "f324d812",
   "metadata": {},
   "outputs": [
    {
     "name": "stdout",
     "output_type": "stream",
     "text": [
      "1.31 μs ± 47.4 ns per loop (mean ± std. dev. of 7 runs, 1,000,000 loops each)\n"
     ]
    }
   ],
   "source": [
    "%%timeit \n",
    "\n",
    "kSmallestPairsII(nums1 = [1,7,11], nums2 = [2,4,6], k = 3)"
   ]
  },
  {
   "cell_type": "markdown",
   "id": "92afe0c9",
   "metadata": {},
   "source": [
    "❓ What’s the concern?\n",
    "You might be wondering:\n",
    "\n",
    "\"Since we only start with nums2[0], won’t we miss better combinations if nums2 has small elements?\"\n",
    "\n",
    "✅ Why the algorithm still works correctly\n",
    "Let’s dry-run it using the heap-based approach explained earlier.\n",
    "\n",
    "🔹 Initial heap setup:\n",
    "We push pairs:\n",
    "(nums1[i] + nums2[0], i, 0) for i in 0 to min(k, len(nums1))\n",
    "\n",
    "That gives:\n",
    "\n",
    "python\n",
    "Copy\n",
    "Edit\n",
    "(7+1, 0, 0) → (8, 0, 0)  \n",
    "(8+1, 1, 0) → (9, 1, 0)  \n",
    "(9+1, 2, 0) → (10, 2, 0)\n",
    "Heap: [(8, 0, 0), (9, 1, 0), (10, 2, 0)]\n",
    "\n",
    "🔹 Iteration 1:\n",
    "Pop (8, 0, 0) → (7, 1)\n",
    "Push (7+1, 0, 1) → (8, 0, 1)\n",
    "\n",
    "🔹 Iteration 2:\n",
    "Pop (8, 0, 1) → (7, 1)\n",
    "Push (7+1, 0, 2) → (8, 0, 2)\n",
    "\n",
    "🔹 Iteration 3:\n",
    "Pop (8, 0, 2) → (7, 1)\n",
    "\n",
    "✅ Done. We've returned 3 smallest pairs: (7,1), (7,1), (7,1)\n",
    "\n",
    "✅ Why it's still correct\n",
    "Because:\n",
    "\n",
    "We always start from nums2[0], and move right for that nums1[i]\n",
    "\n",
    "This guarantees we explore all (i, j) combinations in increasing order of nums1[i] + nums2[j]\n",
    "\n",
    "The heap keeps track of the next best candidate at all times\n",
    "\n",
    "This is key:\n",
    "🔁 For each (i, j) popped, we add (i, j+1) to the heap (if valid), maintaining order by sum.\n",
    "\n",
    "🔍 If You Were Worried...\n",
    "You might have thought:\n",
    "\n",
    "Since nums2[0] is 1 and nums2[1] is 1 and so on, aren't we favoring later nums1[i]?\n",
    "\n",
    "No, because the heap prioritizes sum, not index. It doesn’t matter that we're adding (8+1) before (7+1) — the smallest actual sum will be processed first.\n",
    "\n",
    "✅ Summary\n",
    "Situation\tExplanation\n",
    "nums2 has smaller elements\t✅ Still works correctly\n",
    "Heap seeded with nums1[i] + nums2[0]\t✅ Ensures we build from smallest sums\n",
    "Same value repeats\t✅ Will be added as long as (i, j) combination is valid"
   ]
  },
  {
   "cell_type": "code",
   "execution_count": null,
   "id": "a88129b6",
   "metadata": {},
   "outputs": [],
   "source": []
  }
 ],
 "metadata": {
  "kernelspec": {
   "display_name": "Python 3",
   "language": "python",
   "name": "python3"
  },
  "language_info": {
   "codemirror_mode": {
    "name": "ipython",
    "version": 3
   },
   "file_extension": ".py",
   "mimetype": "text/x-python",
   "name": "python",
   "nbconvert_exporter": "python",
   "pygments_lexer": "ipython3",
   "version": "3.11.9"
  }
 },
 "nbformat": 4,
 "nbformat_minor": 5
}
