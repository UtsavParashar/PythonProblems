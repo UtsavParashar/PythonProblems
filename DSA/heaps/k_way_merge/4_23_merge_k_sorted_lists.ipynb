{
 "cells": [
  {
   "cell_type": "markdown",
   "id": "2c29a75a",
   "metadata": {},
   "source": [
    "#### 23. Merge k Sorted Lists\n",
    "\n",
    "* https://leetcode.com/problems/merge-k-sorted-lists/description/"
   ]
  },
  {
   "cell_type": "code",
   "execution_count": 19,
   "id": "d56dd5a4",
   "metadata": {},
   "outputs": [],
   "source": [
    "class ListNode:\n",
    "    def __init__(self, val=0, next=None):\n",
    "        self.val = val\n",
    "        self.next = next\n",
    "\n",
    "    def __repr__(self):\n",
    "        return f'{self.val}'\n",
    "\n",
    "import heapq\n",
    "class Solution:\n",
    "    def mergeKLists(self, lists):\n",
    "        dummy = tail = ListNode()\n",
    "        min_heap = []\n",
    "\n",
    "        for i, node in enumerate(lists):\n",
    "            print(i, node)\n",
    "            if node:\n",
    "                heapq.heappush(min_heap, (node.val, i, node))\n",
    "                print(min_heap)\n",
    "\n",
    "        while min_heap:\n",
    "            _, i, node = heapq.heappop(min_heap)\n",
    "            tail.next = node\n",
    "            tail = tail.next\n",
    "\n",
    "            if node.next:\n",
    "                heapq.heappush(min_heap, (node.next.val, i, node.next))\n",
    "\n",
    "        return dummy.next\n",
    "\n"
   ]
  },
  {
   "cell_type": "code",
   "execution_count": 20,
   "id": "659c09b5",
   "metadata": {},
   "outputs": [],
   "source": [
    "root = ListNode(1)\n",
    "root.next = ListNode(4) \n",
    "root.next.next = ListNode(5)\n",
    "l1 = [root, root.next, root.next.next]\n",
    "root = ListNode(1)\n",
    "root.next = ListNode(3) \n",
    "root.next.next = ListNode(4)\n",
    "l2 = [root, root.next, root.next.next]\n"
   ]
  },
  {
   "cell_type": "code",
   "execution_count": 21,
   "id": "7f718a24",
   "metadata": {},
   "outputs": [
    {
     "name": "stdout",
     "output_type": "stream",
     "text": [
      "0 1\n",
      "[(1, 0, 1)]\n",
      "1 1\n",
      "[(1, 0, 1), (1, 1, 1)]\n"
     ]
    },
    {
     "data": {
      "text/plain": [
       "1"
      ]
     },
     "execution_count": 21,
     "metadata": {},
     "output_type": "execute_result"
    }
   ],
   "source": [
    "Solution().mergeKLists([l1[0], l2[0]])"
   ]
  },
  {
   "cell_type": "code",
   "execution_count": null,
   "id": "579a8bfb",
   "metadata": {},
   "outputs": [],
   "source": []
  }
 ],
 "metadata": {
  "kernelspec": {
   "display_name": "Python 3",
   "language": "python",
   "name": "python3"
  },
  "language_info": {
   "codemirror_mode": {
    "name": "ipython",
    "version": 3
   },
   "file_extension": ".py",
   "mimetype": "text/x-python",
   "name": "python",
   "nbconvert_exporter": "python",
   "pygments_lexer": "ipython3",
   "version": "3.11.9"
  }
 },
 "nbformat": 4,
 "nbformat_minor": 5
}
