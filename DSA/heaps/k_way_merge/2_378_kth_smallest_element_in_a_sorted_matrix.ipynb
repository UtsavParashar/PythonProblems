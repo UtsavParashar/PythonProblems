{
 "cells": [
  {
   "cell_type": "markdown",
   "id": "e3a7fdff",
   "metadata": {},
   "source": [
    "### 378. Kth Smallest Element in a Sorted Matrix\n",
    "\n",
    "* https://leetcode.com/problems/kth-smallest-element-in-a-sorted-matrix/description/"
   ]
  },
  {
   "cell_type": "code",
   "execution_count": 1,
   "id": "7cae6fcf",
   "metadata": {},
   "outputs": [
    {
     "data": {
      "text/plain": [
       "13"
      ]
     },
     "execution_count": 1,
     "metadata": {},
     "output_type": "execute_result"
    }
   ],
   "source": [
    "# Optimized solution using Binary Search\n",
    "\n",
    "def kth_smallest(matrix, k):\n",
    "\n",
    "    n = len(matrix)\n",
    "    def find_low_equal(nm):\n",
    "        count = 0\n",
    "        r, c = n - 1, 0\n",
    "\n",
    "        while r >= 0 and c < n:\n",
    "            if matrix[r][c] <= nm:\n",
    "                count += r + 1\n",
    "                c += 1\n",
    "            else:\n",
    "                r -= 1\n",
    "        return count\n",
    "    \n",
    "\n",
    "    l, h = matrix[0][0], matrix[-1][-1]\n",
    "    while l < h:\n",
    "        m = (l+h)//2\n",
    "        if find_low_equal(m) < k:\n",
    "            l = m + 1\n",
    "        else:\n",
    "            h = m\n",
    "\n",
    "    return l\n",
    "\n",
    "kth_smallest([[1,5,9],[10,11,13],[12,13,15]], k = 8)"
   ]
  },
  {
   "cell_type": "code",
   "execution_count": 5,
   "id": "6ec7d8e9",
   "metadata": {},
   "outputs": [
    {
     "data": {
      "text/plain": [
       "13"
      ]
     },
     "execution_count": 5,
     "metadata": {},
     "output_type": "execute_result"
    }
   ],
   "source": [
    "# Less Optimized Solution using Max Heap\n",
    "\n",
    "import heapq\n",
    "def kth_smallest(matrix, k):\n",
    "    n = len(matrix)\n",
    "    \n",
    "    max_heap = []\n",
    "    for r in range(n):\n",
    "        for c in range(n):\n",
    "            heapq.heappush(max_heap, -matrix[r][c])\n",
    "\n",
    "    for _ in range(n*n-k+1):\n",
    "        val = -heapq.heappop(max_heap)\n",
    "\n",
    "    return val\n",
    "\n",
    "kth_smallest([[1,5,9],[10,11,13],[12,13,15]], k = 8)"
   ]
  },
  {
   "cell_type": "code",
   "execution_count": null,
   "id": "ef7ed9dc",
   "metadata": {},
   "outputs": [],
   "source": []
  }
 ],
 "metadata": {
  "kernelspec": {
   "display_name": "Python 3",
   "language": "python",
   "name": "python3"
  },
  "language_info": {
   "codemirror_mode": {
    "name": "ipython",
    "version": 3
   },
   "file_extension": ".py",
   "mimetype": "text/x-python",
   "name": "python",
   "nbconvert_exporter": "python",
   "pygments_lexer": "ipython3",
   "version": "3.11.9"
  }
 },
 "nbformat": 4,
 "nbformat_minor": 5
}
