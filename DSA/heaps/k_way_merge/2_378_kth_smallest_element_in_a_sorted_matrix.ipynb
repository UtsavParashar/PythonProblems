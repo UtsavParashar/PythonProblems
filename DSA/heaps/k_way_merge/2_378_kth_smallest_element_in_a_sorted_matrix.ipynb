{
 "cells": [
  {
   "cell_type": "markdown",
   "id": "e3a7fdff",
   "metadata": {},
   "source": [
    "### 378. Kth Smallest Element in a Sorted Matrix\n",
    "\n",
    "* https://leetcode.com/problems/kth-smallest-element-in-a-sorted-matrix/description/"
   ]
  },
  {
   "cell_type": "code",
   "execution_count": null,
   "id": "7cae6fcf",
   "metadata": {},
   "outputs": [
    {
     "ename": "IndexError",
     "evalue": "list index out of range",
     "output_type": "error",
     "traceback": [
      "\u001b[1;31m---------------------------------------------------------------------------\u001b[0m",
      "\u001b[1;31mIndexError\u001b[0m                                Traceback (most recent call last)",
      "Cell \u001b[1;32mIn[6], line 29\u001b[0m\n\u001b[0;32m     25\u001b[0m             h \u001b[38;5;241m=\u001b[39m m\n\u001b[0;32m     27\u001b[0m     \u001b[38;5;28;01mreturn\u001b[39;00m l\n\u001b[1;32m---> 29\u001b[0m \u001b[43mkth_smallest\u001b[49m\u001b[43m(\u001b[49m\u001b[43m[\u001b[49m\u001b[43m[\u001b[49m\u001b[38;5;241;43m1\u001b[39;49m\u001b[43m,\u001b[49m\u001b[38;5;241;43m5\u001b[39;49m\u001b[43m,\u001b[49m\u001b[38;5;241;43m9\u001b[39;49m\u001b[43m]\u001b[49m\u001b[43m,\u001b[49m\u001b[43m[\u001b[49m\u001b[38;5;241;43m10\u001b[39;49m\u001b[43m,\u001b[49m\u001b[38;5;241;43m11\u001b[39;49m\u001b[43m,\u001b[49m\u001b[38;5;241;43m13\u001b[39;49m\u001b[43m]\u001b[49m\u001b[43m,\u001b[49m\u001b[43m[\u001b[49m\u001b[38;5;241;43m12\u001b[39;49m\u001b[43m,\u001b[49m\u001b[38;5;241;43m13\u001b[39;49m\u001b[43m,\u001b[49m\u001b[38;5;241;43m15\u001b[39;49m\u001b[43m]\u001b[49m\u001b[43m]\u001b[49m\u001b[43m,\u001b[49m\u001b[43m \u001b[49m\u001b[43mk\u001b[49m\u001b[43m \u001b[49m\u001b[38;5;241;43m=\u001b[39;49m\u001b[43m \u001b[49m\u001b[38;5;241;43m8\u001b[39;49m\u001b[43m)\u001b[49m\n",
      "Cell \u001b[1;32mIn[6], line 22\u001b[0m, in \u001b[0;36mkth_smallest\u001b[1;34m(matrix, k)\u001b[0m\n\u001b[0;32m     20\u001b[0m \u001b[38;5;28;01mwhile\u001b[39;00m l \u001b[38;5;241m<\u001b[39m h:\n\u001b[0;32m     21\u001b[0m     m \u001b[38;5;241m=\u001b[39m (l\u001b[38;5;241m+\u001b[39mh)\u001b[38;5;241m/\u001b[39m\u001b[38;5;241m/\u001b[39m\u001b[38;5;241m2\u001b[39m\n\u001b[1;32m---> 22\u001b[0m     \u001b[38;5;28;01mif\u001b[39;00m \u001b[43mfind_low_equal\u001b[49m\u001b[43m(\u001b[49m\u001b[43mm\u001b[49m\u001b[43m)\u001b[49m \u001b[38;5;241m<\u001b[39m k:\n\u001b[0;32m     23\u001b[0m         l \u001b[38;5;241m=\u001b[39m m \u001b[38;5;241m+\u001b[39m \u001b[38;5;241m1\u001b[39m\n\u001b[0;32m     24\u001b[0m     \u001b[38;5;28;01melse\u001b[39;00m:\n",
      "Cell \u001b[1;32mIn[6], line 11\u001b[0m, in \u001b[0;36mkth_smallest.<locals>.find_low_equal\u001b[1;34m(nm)\u001b[0m\n\u001b[0;32m      8\u001b[0m r, c \u001b[38;5;241m=\u001b[39m n\u001b[38;5;241m-\u001b[39m\u001b[38;5;241m1\u001b[39m, \u001b[38;5;241m0\u001b[39m\n\u001b[0;32m     10\u001b[0m \u001b[38;5;28;01mwhile\u001b[39;00m r \u001b[38;5;241m>\u001b[39m\u001b[38;5;241m=\u001b[39m \u001b[38;5;241m0\u001b[39m \u001b[38;5;129;01mor\u001b[39;00m c\u001b[38;5;241m<\u001b[39mn:\n\u001b[1;32m---> 11\u001b[0m     \u001b[38;5;28;01mif\u001b[39;00m \u001b[43mmatrix\u001b[49m\u001b[43m[\u001b[49m\u001b[43mr\u001b[49m\u001b[43m]\u001b[49m[c] \u001b[38;5;241m<\u001b[39m\u001b[38;5;241m=\u001b[39m nm:\n\u001b[0;32m     12\u001b[0m         count \u001b[38;5;241m+\u001b[39m\u001b[38;5;241m=\u001b[39m r \u001b[38;5;241m+\u001b[39m \u001b[38;5;241m1\u001b[39m\n\u001b[0;32m     13\u001b[0m         c \u001b[38;5;241m+\u001b[39m\u001b[38;5;241m=\u001b[39m \u001b[38;5;241m1\u001b[39m\n",
      "\u001b[1;31mIndexError\u001b[0m: list index out of range"
     ]
    }
   ],
   "source": [
    "# Optimized solution using Binary Search\n",
    "\n",
    "def kth_smallest(matrix, k):\n",
    "\n",
    "    n = len(matrix)\n",
    "    def find_low_equal(nm):\n",
    "        count = 0\n",
    "        r, c = n - 1, 0\n",
    "\n",
    "        while r >= 0 and c < n:\n",
    "            if matrix[r][c] <= nm:\n",
    "                count += r + 1\n",
    "                c += 1\n",
    "            else:\n",
    "                r -= 1\n",
    "        return count\n",
    "    \n",
    "\n",
    "    l, h = matrix[0][0], matrix[-1][-1]\n",
    "    while l < h:\n",
    "        m = (l+h)//2\n",
    "        if find_low_equal(m) < k:\n",
    "            l = m + 1\n",
    "        else:\n",
    "            h = m\n",
    "\n",
    "    return l\n",
    "\n",
    "kth_smallest([[1,5,9],[10,11,13],[12,13,15]], k = 8)"
   ]
  },
  {
   "cell_type": "code",
   "execution_count": 5,
   "id": "6ec7d8e9",
   "metadata": {},
   "outputs": [
    {
     "data": {
      "text/plain": [
       "13"
      ]
     },
     "execution_count": 5,
     "metadata": {},
     "output_type": "execute_result"
    }
   ],
   "source": [
    "# Less Optimized Solution using Max Heap\n",
    "\n",
    "import heapq\n",
    "def kth_smallest(matrix, k):\n",
    "    n = len(matrix)\n",
    "    \n",
    "    max_heap = []\n",
    "    for r in range(n):\n",
    "        for c in range(n):\n",
    "            heapq.heappush(max_heap, -matrix[r][c])\n",
    "\n",
    "    for _ in range(n*n-k+1):\n",
    "        val = -heapq.heappop(max_heap)\n",
    "\n",
    "    return val\n",
    "\n",
    "kth_smallest([[1,5,9],[10,11,13],[12,13,15]], k = 8)"
   ]
  },
  {
   "cell_type": "code",
   "execution_count": null,
   "id": "ef7ed9dc",
   "metadata": {},
   "outputs": [],
   "source": []
  }
 ],
 "metadata": {
  "kernelspec": {
   "display_name": "Python 3",
   "language": "python",
   "name": "python3"
  },
  "language_info": {
   "codemirror_mode": {
    "name": "ipython",
    "version": 3
   },
   "file_extension": ".py",
   "mimetype": "text/x-python",
   "name": "python",
   "nbconvert_exporter": "python",
   "pygments_lexer": "ipython3",
   "version": "3.11.9"
  }
 },
 "nbformat": 4,
 "nbformat_minor": 5
}
