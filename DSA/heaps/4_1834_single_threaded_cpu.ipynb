{
 "cells": [
  {
   "cell_type": "markdown",
   "id": "3fb6fc54",
   "metadata": {},
   "source": [
    "#### 1834. Single Threaded CPU\n",
    "\n",
    "* https://leetcode.com/problems/single-threaded-cpu/description/"
   ]
  },
  {
   "cell_type": "code",
   "execution_count": 4,
   "id": "2166663b",
   "metadata": {},
   "outputs": [
    {
     "data": {
      "text/plain": [
       "[0, 2, 3, 1]"
      ]
     },
     "execution_count": 4,
     "metadata": {},
     "output_type": "execute_result"
    }
   ],
   "source": [
    "import heapq\n",
    "def get_order(tasks):\n",
    "    # preserve the index ordering\n",
    "    for i,t in enumerate(tasks):\n",
    "        t.append(i)\n",
    "\n",
    "    tasks.sort()\n",
    "\n",
    "    res, min_heap = [], []\n",
    "    i, time = 0, tasks[0][0]\n",
    "\n",
    "    while min_heap or i < len(tasks):\n",
    "        while i < len(tasks) and time >= tasks[i][0]:\n",
    "            heapq.heappush(min_heap, [tasks[i][1], tasks[i][2]])\n",
    "            i += 1\n",
    "\n",
    "        if not min_heap:\n",
    "            time = tasks[i][0]\n",
    "        else:\n",
    "            proc_time, index = heapq.heappop(min_heap)\n",
    "            time += proc_time\n",
    "            res.append(index)\n",
    "\n",
    "    return res\n",
    "\n",
    "get_order([[1,2],[2,4],[3,2],[4,1]])\n"
   ]
  },
  {
   "cell_type": "code",
   "execution_count": null,
   "id": "5bb94b8f",
   "metadata": {},
   "outputs": [],
   "source": []
  }
 ],
 "metadata": {
  "kernelspec": {
   "display_name": "Python 3",
   "language": "python",
   "name": "python3"
  },
  "language_info": {
   "codemirror_mode": {
    "name": "ipython",
    "version": 3
   },
   "file_extension": ".py",
   "mimetype": "text/x-python",
   "name": "python",
   "nbconvert_exporter": "python",
   "pygments_lexer": "ipython3",
   "version": "3.11.9"
  }
 },
 "nbformat": 4,
 "nbformat_minor": 5
}
