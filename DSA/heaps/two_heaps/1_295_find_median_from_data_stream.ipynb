{
 "cells": [
  {
   "cell_type": "markdown",
   "id": "6f774920",
   "metadata": {},
   "source": [
    "#### 295. Find Median from Data Stream\n",
    "\n",
    "* https://leetcode.com/problems/find-median-from-data-stream/description/"
   ]
  },
  {
   "cell_type": "code",
   "execution_count": 24,
   "id": "d7456136",
   "metadata": {},
   "outputs": [],
   "source": [
    "# optimized\n",
    "\n",
    "import heapq\n",
    "\n",
    "class MedianFinder:\n",
    "    def __init__(self):\n",
    "        self.small = []  # Max-heap (invert values)\n",
    "        self.large = []  # Min-heap\n",
    "\n",
    "    def addNum(self, num: int) -> None:\n",
    "        heapq.heappush(self.small, -num)\n",
    "        # Ensure every number in `small` ≤ every number in `large`\n",
    "        heapq.heappush(self.large, -heapq.heappop(self.small))\n",
    "        # Balance heaps: `small` can have at most one extra element\n",
    "        if len(self.large) > len(self.small):\n",
    "            heapq.heappush(self.small, -heapq.heappop(self.large))\n",
    "\n",
    "    def findMedian(self) -> float:\n",
    "        if len(self.small) > len(self.large):\n",
    "            return float(-self.small[0])\n",
    "        return (-self.small[0] + self.large[0]) / 2"
   ]
  },
  {
   "cell_type": "code",
   "execution_count": null,
   "id": "d3c8b8d3",
   "metadata": {},
   "outputs": [],
   "source": [
    "# https://www.youtube.com/watch?v=itmhHWaHupI&t=68s\n",
    "\n",
    "import heapq\n",
    "class MedianFinder:\n",
    "\n",
    "    def __init__(self):\n",
    "        self.small, self.large = [], [] # small is max heap, large in min heap\n",
    "        \n",
    "\n",
    "    def addNum(self, num: int) -> None:\n",
    "        heapq.heappush(self.small, -num)\n",
    "\n",
    "        if self.small and self.large and -self.small[0] > self.large[0]: # if max small is greater then min large\n",
    "            heapq.heappush(self.large, -heapq.heappop(self.small))\n",
    "        \n",
    "        if len(self.small) > len(self.large)+1: # if size of small is greater than large by more than 1\n",
    "            heapq.heappush(self.large, -heapq.heappop(self.small))\n",
    "\n",
    "        if len(self.large) > len(self.small)+1:\n",
    "            heapq.heappush(self.small, -heapq.heappop(self.large))\n",
    "        \n",
    "\n",
    "    def findMedian(self) -> float:\n",
    "        print(len(self.small), len(self.large))\n",
    "        if len(self.small) > len(self.large):\n",
    "            return -self.small[0]\n",
    "        if len(self.large) > len(self.small):\n",
    "            return self.large[0]\n",
    "        return ((-self.small[0]) + self.large[0])/2"
   ]
  },
  {
   "cell_type": "code",
   "execution_count": 23,
   "id": "260cc08d",
   "metadata": {},
   "outputs": [
    {
     "name": "stdout",
     "output_type": "stream",
     "text": [
      "[-1] []\n",
      "[-1] [3]\n",
      "[-1] [3, 7]\n",
      "[-2, -1] [3, 7]\n",
      "[-2, -1] [3, 7, 4]\n",
      "2 3\n"
     ]
    },
    {
     "data": {
      "text/plain": [
       "3"
      ]
     },
     "execution_count": 23,
     "metadata": {},
     "output_type": "execute_result"
    }
   ],
   "source": [
    "d = MedianFinder()\n",
    "d.addNum(1)\n",
    "d.addNum(3)\n",
    "d.addNum(7)\n",
    "d.addNum(2)\n",
    "d.addNum(4)\n",
    "d.findMedian()"
   ]
  },
  {
   "cell_type": "code",
   "execution_count": null,
   "id": "9cee23f7",
   "metadata": {},
   "outputs": [],
   "source": [
    "\n"
   ]
  }
 ],
 "metadata": {
  "kernelspec": {
   "display_name": "Python 3",
   "language": "python",
   "name": "python3"
  },
  "language_info": {
   "codemirror_mode": {
    "name": "ipython",
    "version": 3
   },
   "file_extension": ".py",
   "mimetype": "text/x-python",
   "name": "python",
   "nbconvert_exporter": "python",
   "pygments_lexer": "ipython3",
   "version": "3.11.9"
  }
 },
 "nbformat": 4,
 "nbformat_minor": 5
}
