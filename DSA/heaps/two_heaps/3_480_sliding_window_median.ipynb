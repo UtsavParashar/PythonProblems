{
 "cells": [
  {
   "cell_type": "markdown",
   "id": "ef998cbe",
   "metadata": {},
   "source": [
    "#### 480. Sliding Window Median\n",
    "\n",
    "* https://leetcode.com/problems/sliding-window-median/description/"
   ]
  },
  {
   "cell_type": "code",
   "execution_count": 18,
   "id": "12b28940",
   "metadata": {},
   "outputs": [
    {
     "data": {
      "text/plain": [
       "[1.0, -1.0, -1.0, 3.0, 3.0, 3.0]"
      ]
     },
     "execution_count": 18,
     "metadata": {},
     "output_type": "execute_result"
    }
   ],
   "source": [
    "import heapq\n",
    "from collections import defaultdict\n",
    "\n",
    "def median_sliding_window(nums, k):\n",
    "    small, large = [], []  # max_heap, min_heap\n",
    "    delayed = defaultdict(int)\n",
    "    res = []\n",
    "\n",
    "    def prune(heap):\n",
    "        while heap:\n",
    "            num = heap[0] if heap is large else -heap[0]\n",
    "            if delayed[num]:\n",
    "                delayed[num] -= 1\n",
    "                heapq.heappop(heap)\n",
    "            else:\n",
    "                break\n",
    "\n",
    "    def balance():\n",
    "        prune(small)\n",
    "        prune(large)\n",
    "        if len(small) > len(large) + 1:\n",
    "            heapq.heappush(large, -heapq.heappop(small))\n",
    "            prune(small)\n",
    "        elif len(large) > len(small):\n",
    "            heapq.heappush(small, -heapq.heappop(large))\n",
    "            prune(large)\n",
    "\n",
    "    def insert(num):\n",
    "        if not small or num <= -small[0]:\n",
    "            heapq.heappush(small, -num)\n",
    "        else:\n",
    "            heapq.heappush(large, num)\n",
    "        balance()\n",
    "\n",
    "    def erase(num):\n",
    "        delayed[num] += 1\n",
    "        if small and num <= -small[0]:\n",
    "            if num == -small[0]:\n",
    "                prune(small)\n",
    "            balance()\n",
    "        else:\n",
    "            if large and num == large[0]:\n",
    "                prune(large)\n",
    "            balance()\n",
    "\n",
    "    def get_median():\n",
    "        if k % 2:\n",
    "            return float(-small[0])\n",
    "        return (-small[0] + large[0]) / 2.0\n",
    "\n",
    "    for i in range(k):\n",
    "        insert(nums[i])\n",
    "    res.append(get_median())\n",
    "\n",
    "    for i in range(k, len(nums)):\n",
    "        insert(nums[i])\n",
    "        erase(nums[i - k])\n",
    "        res.append(get_median())\n",
    "\n",
    "    return res\n",
    "\n",
    "median_sliding_window(nums = [1,3,-1,-3,5,3,6,7], k = 3)  # expected output [1.0, -1.0, -1.0, 3.0, 5.0, 6.0]\n"
   ]
  },
  {
   "cell_type": "code",
   "execution_count": 15,
   "id": "68b26fc8",
   "metadata": {},
   "outputs": [
    {
     "name": "stdout",
     "output_type": "stream",
     "text": [
      "[3.0, 3.0, 3.0]\n"
     ]
    }
   ],
   "source": [
    "from collections import defaultdict\n",
    "import heapq\n",
    "\n",
    "def median_sliding_windowII(nums, k):\n",
    "    small, large = [], []  # max_heap, min_heap\n",
    "    delayed = defaultdict(int)\n",
    "    res = []\n",
    "\n",
    "    def prune(heap):\n",
    "        # Remove the elements that should be discarded from the heap top\n",
    "        while heap:\n",
    "            num = heap[0] if heap is large else -heap[0]\n",
    "            if delayed[num]:\n",
    "                delayed[num] -= 1\n",
    "                heapq.heappop(heap)\n",
    "            else:\n",
    "                break\n",
    "\n",
    "    def balance():\n",
    "        # Ensure small heap has n/2 or n/2 + 1 elements\n",
    "        prune(small)\n",
    "        prune(large)\n",
    "        \n",
    "        if len(small) > len(large) + 1:\n",
    "            heapq.heappush(large, -heapq.heappop(small))\n",
    "        elif len(large) > len(small):\n",
    "            heapq.heappush(small, -heapq.heappop(large))\n",
    "\n",
    "    def insert(num):\n",
    "        # Insert into appropriate heap and balance\n",
    "        if not small or num <= -small[0]:\n",
    "            heapq.heappush(small, -num)\n",
    "        else:\n",
    "            heapq.heappush(large, num)\n",
    "        balance()\n",
    "\n",
    "    def erase(num):\n",
    "        delayed[num] += 1\n",
    "        if small and num <= -small[0]:\n",
    "            if num == -small[0]:\n",
    "                prune(small)\n",
    "            balance()\n",
    "        else:\n",
    "            if large and num == large[0]:\n",
    "                prune(large)\n",
    "            balance()\n",
    "\n",
    "    def get_median():\n",
    "        if not small:\n",
    "            return 0.0\n",
    "        if k % 2:\n",
    "            return float(-small[0])\n",
    "        if not large:\n",
    "            return float(-small[0])\n",
    "        return (-small[0] + large[0]) / 2.0\n",
    "\n",
    "    # Initialize the first window\n",
    "    for i in range(k):\n",
    "        insert(nums[i])\n",
    "    res.append(get_median())\n",
    "\n",
    "    # Slide the window\n",
    "    for i in range(k, len(nums)):\n",
    "        insert(nums[i])\n",
    "        erase(nums[i - k])\n",
    "        res.append(get_median())\n",
    "\n",
    "    return res\n",
    "\n",
    "print(median_sliding_windowII(nums = [-3,5,3,6,7], k = 3)) # expected output [1.00000,-1.00000,-1.00000,3.00000,5.00000,6.00000]"
   ]
  },
  {
   "cell_type": "code",
   "execution_count": null,
   "id": "84f4f514",
   "metadata": {},
   "outputs": [],
   "source": []
  },
  {
   "cell_type": "code",
   "execution_count": 13,
   "id": "d35cf53f",
   "metadata": {},
   "outputs": [
    {
     "name": "stdout",
     "output_type": "stream",
     "text": [
      "Test case with even window size:\n",
      "[2.5, 2.5, 3.0, 2.5, 2.5, 2.5]\n",
      "\n",
      "Test case with window size 1:\n",
      "[1.0, 2.0, 3.0, 4.0]\n"
     ]
    }
   ],
   "source": [
    "# Test with additional cases\n",
    "print(\"Test case with even window size:\")\n",
    "print(median_sliding_windowII(nums = [1,2,3,4,2,3,1,4,2], k = 4))  # Should handle even-sized windows correctly\n",
    "\n",
    "# Test with single element window\n",
    "print(\"\\nTest case with window size 1:\")\n",
    "print(median_sliding_windowII(nums = [1,2,3,4], k = 1))  # Should return each number as median"
   ]
  },
  {
   "cell_type": "code",
   "execution_count": null,
   "id": "c7657bd0",
   "metadata": {},
   "outputs": [],
   "source": []
  }
 ],
 "metadata": {
  "kernelspec": {
   "display_name": "Python 3",
   "language": "python",
   "name": "python3"
  },
  "language_info": {
   "codemirror_mode": {
    "name": "ipython",
    "version": 3
   },
   "file_extension": ".py",
   "mimetype": "text/x-python",
   "name": "python",
   "nbconvert_exporter": "python",
   "pygments_lexer": "ipython3",
   "version": "3.11.9"
  }
 },
 "nbformat": 4,
 "nbformat_minor": 5
}
