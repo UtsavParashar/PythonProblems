{
 "cells": [
  {
   "cell_type": "markdown",
   "id": "a6a293bc",
   "metadata": {},
   "source": [
    "#### 502. IPO\n",
    "\n",
    "* https://leetcode.com/problems/ipo/description/"
   ]
  },
  {
   "cell_type": "code",
   "execution_count": null,
   "id": "95fcb5b4",
   "metadata": {},
   "outputs": [
    {
     "data": {
      "text/plain": [
       "0"
      ]
     },
     "execution_count": 11,
     "metadata": {},
     "output_type": "execute_result"
    }
   ],
   "source": [
    "# https://www.youtube.com/watch?v=1IUzNJ6TPEM\n",
    "\n",
    "import heapq\n",
    "def find_max_capital(k, w, profits, capital):\n",
    "\n",
    "    min_capital = list(zip(capital, profits)) # min heap\n",
    "    heapq.heapify(min_capital)\n",
    "\n",
    "    max_profit = [] # max heap\n",
    "\n",
    "    for _ in range(k):\n",
    "\n",
    "        # Push all projects affordable with current capital to max heap\n",
    "        while min_capital and min_capital[0][0] <= w:\n",
    "            heapq.heappush(max_profit, -heapq.heappop(min_capital)[1])\n",
    "\n",
    "        if not max_profit:\n",
    "            break # No project can be started now\n",
    "\n",
    "        # Take the most profitable one\n",
    "        w += -heapq.heappop(max_profit)\n",
    "\n",
    "    return w\n",
    "\n",
    "find_max_capital(k = 1, w = 0, profits = [1,2,3], capital = [1,1,2])"
   ]
  },
  {
   "cell_type": "code",
   "execution_count": null,
   "id": "ec9c524a",
   "metadata": {},
   "outputs": [],
   "source": []
  }
 ],
 "metadata": {
  "kernelspec": {
   "display_name": "Python 3",
   "language": "python",
   "name": "python3"
  },
  "language_info": {
   "codemirror_mode": {
    "name": "ipython",
    "version": 3
   },
   "file_extension": ".py",
   "mimetype": "text/x-python",
   "name": "python",
   "nbconvert_exporter": "python",
   "pygments_lexer": "ipython3",
   "version": "3.11.9"
  }
 },
 "nbformat": 4,
 "nbformat_minor": 5
}
