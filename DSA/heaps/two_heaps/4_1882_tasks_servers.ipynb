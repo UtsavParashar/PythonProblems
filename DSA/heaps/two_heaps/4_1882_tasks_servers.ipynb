{
 "cells": [
  {
   "cell_type": "markdown",
   "id": "e2b61d28",
   "metadata": {},
   "source": [
    "#### 1882. Process Tasks Using Servers\n",
    "\n",
    "* https://leetcode.com/problems/process-tasks-using-servers/description/"
   ]
  },
  {
   "cell_type": "code",
   "execution_count": 1,
   "id": "ecb7df56",
   "metadata": {},
   "outputs": [
    {
     "data": {
      "text/plain": [
       "[2, 2, 0, 2, 1, 2]"
      ]
     },
     "execution_count": 1,
     "metadata": {},
     "output_type": "execute_result"
    }
   ],
   "source": [
    "# https://www.youtube.com/watch?v=XKA22PecuMQ\n",
    "\n",
    "import heapq\n",
    "\n",
    "def assign_tasks(servers, tasks):\n",
    "    # two min heaps, one for available servers and other one for busy servers\n",
    "    # avail = (weight, index)\n",
    "    # busy = (time_server_becomes_free, weight, index)\n",
    "\n",
    "    res = [0]*len(tasks)\n",
    "    avail = [(w, i) for i, w in enumerate(servers)]\n",
    "    heapq.heapify(avail)\n",
    "\n",
    "    busy = []\n",
    "\n",
    "    t = 0\n",
    "    for i in range(len(tasks)):\n",
    "        t = max(i, t) # we might increase t sometimes if all servers are busy\n",
    "\n",
    "        if len(avail) == 0:\n",
    "            t = busy[0][0]\n",
    "\n",
    "        while busy and t >= busy[0][0]:\n",
    "            _, weight, index = heapq.heappop(busy)\n",
    "            heapq.heappush(avail, (weight, index) ) \n",
    "\n",
    "        weight, index = heapq.heappop(avail)\n",
    "        res[i] = index\n",
    "        heapq.heappush(busy, (t+tasks[i], weight, index))\n",
    "\n",
    "    return res\n",
    "\n",
    "assign_tasks(servers = [3,3,2], tasks = [1,2,3,2,1,2])"
   ]
  },
  {
   "cell_type": "code",
   "execution_count": null,
   "id": "0a6e1be0",
   "metadata": {},
   "outputs": [],
   "source": []
  }
 ],
 "metadata": {
  "kernelspec": {
   "display_name": "Python 3",
   "language": "python",
   "name": "python3"
  },
  "language_info": {
   "codemirror_mode": {
    "name": "ipython",
    "version": 3
   },
   "file_extension": ".py",
   "mimetype": "text/x-python",
   "name": "python",
   "nbconvert_exporter": "python",
   "pygments_lexer": "ipython3",
   "version": "3.11.9"
  }
 },
 "nbformat": 4,
 "nbformat_minor": 5
}
