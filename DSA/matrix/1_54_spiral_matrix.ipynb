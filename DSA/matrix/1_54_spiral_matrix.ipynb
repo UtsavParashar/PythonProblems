{
 "cells": [
  {
   "cell_type": "markdown",
   "id": "a2dae466",
   "metadata": {},
   "source": [
    "#### 54. Spiral Matrix\n",
    "\n",
    "* https://leetcode.com/problems/spiral-matrix/description/"
   ]
  },
  {
   "cell_type": "code",
   "execution_count": 35,
   "id": "e0e2978f",
   "metadata": {},
   "outputs": [],
   "source": [
    "# credit - https://www.youtube.com/watch?v=BJnMZNwUk1M\n",
    "def spiral_order(matrix: list[list[int]]) -> list[int]:\n",
    "    left, right = 0, len(matrix[0])\n",
    "    top, bottom = 0, len(matrix)\n",
    "    res = []\n",
    "\n",
    "    while top < bottom and left < right:\n",
    "        for i in range(left, right):\n",
    "            res.append(matrix[top][i])\n",
    "        top += 1\n",
    "        \n",
    "        for i in range(top, bottom):\n",
    "            res.append(matrix[i][right-1])\n",
    "        right -= 1\n",
    "    \n",
    "        if not (top < bottom and left < right):\n",
    "            break\n",
    "\n",
    "        for i in range(right-1, left-1, -1):\n",
    "            res.append(matrix[bottom-1][i])\n",
    "        bottom -= 1\n",
    "        \n",
    "        for i in range(bottom-1, top-1, -1):\n",
    "            res.append(matrix[i][left])\n",
    "        left += 1\n",
    "\n",
    "    return res\n"
   ]
  },
  {
   "cell_type": "code",
   "execution_count": 36,
   "id": "681d24ec",
   "metadata": {},
   "outputs": [
    {
     "data": {
      "text/plain": [
       "[1, 2, 3, 6, 9, 8, 7, 4, 5]"
      ]
     },
     "execution_count": 36,
     "metadata": {},
     "output_type": "execute_result"
    }
   ],
   "source": [
    "spiral_order(matrix = [[1,2,3],[4,5,6],[7,8,9]])"
   ]
  },
  {
   "cell_type": "code",
   "execution_count": 37,
   "id": "090c0386",
   "metadata": {},
   "outputs": [
    {
     "data": {
      "text/plain": [
       "[1, 2, 3, 4, 8, 12, 11, 10, 9, 5, 6, 7]"
      ]
     },
     "execution_count": 37,
     "metadata": {},
     "output_type": "execute_result"
    }
   ],
   "source": [
    "spiral_order([[1,2,3,4],[5,6,7,8],[9,10,11,12]])"
   ]
  },
  {
   "cell_type": "code",
   "execution_count": null,
   "id": "15ec8b4a",
   "metadata": {},
   "outputs": [],
   "source": []
  }
 ],
 "metadata": {
  "kernelspec": {
   "display_name": "Python 3",
   "language": "python",
   "name": "python3"
  },
  "language_info": {
   "codemirror_mode": {
    "name": "ipython",
    "version": 3
   },
   "file_extension": ".py",
   "mimetype": "text/x-python",
   "name": "python",
   "nbconvert_exporter": "python",
   "pygments_lexer": "ipython3",
   "version": "3.11.9"
  }
 },
 "nbformat": 4,
 "nbformat_minor": 5
}
