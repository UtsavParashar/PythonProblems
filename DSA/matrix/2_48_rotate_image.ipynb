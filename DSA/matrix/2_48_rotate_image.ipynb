{
 "cells": [
  {
   "cell_type": "markdown",
   "id": "980e0261",
   "metadata": {},
   "source": [
    "#### 48. Rotate Image\n",
    "\n",
    "* https://leetcode.com/problems/rotate-image/description/\n",
    "\n",
    "#### ['J.P. Morgan', 'Goldman Sachs', 'Bloomberg', 'DE Shaw', 'Mastercard', 'Meta', 'Amazon', 'Google', 'Apple', 'Netflix', 'Uber']"
   ]
  },
  {
   "cell_type": "code",
   "execution_count": null,
   "id": "86a06e43",
   "metadata": {},
   "outputs": [],
   "source": [
    "## Two step process\n",
    "## Transpose the matrix\n",
    "## for each row reverse the elements from the center, reflection per row\n",
    "def rotate(matrix) -> None:\n",
    "    matrix[:] =  [list(row[::-1]) for row in zip(*matrix)] # zip(*tuple) transposes a matrix\n"
   ]
  },
  {
   "cell_type": "code",
   "execution_count": null,
   "id": "f276c820",
   "metadata": {},
   "outputs": [
    {
     "name": "stdout",
     "output_type": "stream",
     "text": [
      "[[7, 4, 1], [8, 5, 2], [9, 6, 3]]\n"
     ]
    }
   ],
   "source": [
    "class Solution:\n",
    "    def rotate(self, matrix: list[list[int]]) -> None:\n",
    "        \"\"\"\n",
    "        Do not return anything, modify matrix in-place instead.\n",
    "        \"\"\"\n",
    "        n = len(matrix)\n",
    "        for r in range(n):\n",
    "            for c in range(r, n):\n",
    "                if r != c:\n",
    "                    matrix[r][c], matrix[c][r] = matrix[c][r], matrix[r][c]\n",
    "        \n",
    "        for r in range(n):\n",
    "            matrix[r] = matrix[r][::-1]\n",
    "\n",
    "        return matrix\n",
    "\n",
    "Solution().rotate([[1,2,3],[4,5,6],[7,8,9]])"
   ]
  },
  {
   "cell_type": "code",
   "execution_count": 8,
   "id": "2822a99b",
   "metadata": {},
   "outputs": [
    {
     "name": "stdout",
     "output_type": "stream",
     "text": [
      "[[15, 13, 2, 5], [14, 3, 4, 1], [12, 6, 8, 9], [16, 7, 10, 11]]\n"
     ]
    }
   ],
   "source": [
    "rotate([[5,1,9,11],[2,4,8,10],[13,3,6,7],[15,14,12,16]])"
   ]
  },
  {
   "cell_type": "code",
   "execution_count": null,
   "id": "c8771c41",
   "metadata": {},
   "outputs": [],
   "source": []
  }
 ],
 "metadata": {
  "kernelspec": {
   "display_name": "Python 3",
   "language": "python",
   "name": "python3"
  },
  "language_info": {
   "codemirror_mode": {
    "name": "ipython",
    "version": 3
   },
   "file_extension": ".py",
   "mimetype": "text/x-python",
   "name": "python",
   "nbconvert_exporter": "python",
   "pygments_lexer": "ipython3",
   "version": "3.11.9"
  }
 },
 "nbformat": 4,
 "nbformat_minor": 5
}
