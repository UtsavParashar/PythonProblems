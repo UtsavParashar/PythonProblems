{
 "cells": [
  {
   "cell_type": "markdown",
   "id": "e1aab7a0",
   "metadata": {},
   "source": [
    "#### 73. Set Matrix Zeroes\n",
    "\n",
    "* https://leetcode.com/problems/set-matrix-zeroes/description/\n",
    "\n",
    "#### ['J.P. Morgan', 'Goldman Sachs', 'Bloomberg', 'Meta', 'Amazon', 'Apple', 'Uber']"
   ]
  },
  {
   "cell_type": "code",
   "execution_count": null,
   "id": "b97095e7",
   "metadata": {},
   "outputs": [],
   "source": [
    "## Credit - https://www.youtube.com/watch?v=T41rL0L3Pnw\n",
    "## Highly optimized\n",
    "## TC - O(m*n), SC - O(1)\n",
    "\n",
    "def set_zeros(matrix):\n",
    "    ROWS, COLS = len(matrix), len(matrix[0])\n",
    "    row_zero = False # use this to store the status of first row to be zeros or not\n",
    "\n",
    "    # determine which rols/cols needs to be zero\n",
    "    for r in range(ROWS):\n",
    "        for c in range(COLS):\n",
    "            # set the first col as zero\n",
    "            if matrix[r][c] == 0:\n",
    "                matrix[0][c] = 0\n",
    "\n",
    "                # Set the first row from index 1 as zero\n",
    "                if r > 0:\n",
    "                    matrix[r][0] = 0\n",
    "                else:\n",
    "                    row_zero = True # Set the first row pointer to zero\n",
    "    \n",
    "    # First zero out from second column and second row\n",
    "    for r in range(1, ROWS):\n",
    "        for c in range(1, COLS):\n",
    "            if matrix[0][c] == 0 or matrix[r][0] == 0:\n",
    "                matrix[r][c] = 0\n",
    "\n",
    "    # now let's zero out the first column \n",
    "    if matrix[0][0] == 0:\n",
    "        for r in range(ROWS):\n",
    "            matrix[r][0] = 0\n",
    "\n",
    "    # now zero out the first row\n",
    "    if row_zero:\n",
    "        for c in range(COLS):\n",
    "            matrix[0][c] = 0\n",
    "    \n"
   ]
  },
  {
   "cell_type": "code",
   "execution_count": 40,
   "id": "72167971",
   "metadata": {},
   "outputs": [
    {
     "name": "stdout",
     "output_type": "stream",
     "text": [
      "1.74 μs ± 90.7 ns per loop (mean ± std. dev. of 7 runs, 1,000,000 loops each)\n"
     ]
    }
   ],
   "source": [
    "%timeit set_zeros([[0,1,2,0],[3,4,5,2],[1,3,1,5]])"
   ]
  },
  {
   "cell_type": "code",
   "execution_count": null,
   "id": "dd55f32a",
   "metadata": {},
   "outputs": [],
   "source": [
    "# unoptimized sol\n",
    "def set_zerosII(matrix):\n",
    "    ROWS, COLS = len(matrix), len(matrix[0])\n",
    "    row_zero = any(matrix[0][c] == 0 for c in range(COLS)) # check if first row contains zero\n",
    "    col_zero = any(matrix[r][0] == 0 for r in range(ROWS)) # check if first column contain zero\n",
    "\n",
    "    # Mark rows and columns to be zeroed in the first row and first row\n",
    "    for r in range(1, ROWS):\n",
    "        for c in range(1, COLS):\n",
    "            if matrix[r][c] == 0:\n",
    "                matrix[0][c] = 0\n",
    "                matrix[r][0] = 0\n",
    "\n",
    "    # Zero out cells based on markers\n",
    "    for r in range(1, ROWS):\n",
    "        for c in range(1, COLS):\n",
    "            if matrix[0][c] == 0 or matrix[r][0] == 0:\n",
    "                matrix[r][c] = 0\n",
    "\n",
    "    # Zero out the first row if needed\n",
    "    if row_zero:\n",
    "        for c in range(COLS):\n",
    "            matrix[0][c] = 0\n",
    "\n",
    "    # Zero out the first column if needed\n",
    "    if col_zero:\n",
    "        for r in range(ROWS):\n",
    "            matrix[r][0] = 0\n",
    "\n"
   ]
  },
  {
   "cell_type": "code",
   "execution_count": 44,
   "id": "7ec999a3",
   "metadata": {},
   "outputs": [
    {
     "name": "stdout",
     "output_type": "stream",
     "text": [
      "2.61 μs ± 395 ns per loop (mean ± std. dev. of 7 runs, 100,000 loops each)\n"
     ]
    }
   ],
   "source": [
    "%timeit set_zerosII([[0,1,2,0],[3,4,5,2],[1,3,1,5]])"
   ]
  },
  {
   "cell_type": "code",
   "execution_count": null,
   "id": "709f536c",
   "metadata": {},
   "outputs": [],
   "source": []
  }
 ],
 "metadata": {
  "kernelspec": {
   "display_name": "Python 3",
   "language": "python",
   "name": "python3"
  },
  "language_info": {
   "codemirror_mode": {
    "name": "ipython",
    "version": 3
   },
   "file_extension": ".py",
   "mimetype": "text/x-python",
   "name": "python",
   "nbconvert_exporter": "python",
   "pygments_lexer": "ipython3",
   "version": "3.11.9"
  }
 },
 "nbformat": 4,
 "nbformat_minor": 5
}
