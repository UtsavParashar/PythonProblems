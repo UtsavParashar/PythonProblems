{
 "cells": [
  {
   "cell_type": "markdown",
   "id": "be58840b",
   "metadata": {},
   "source": [
    "#### 289. Game of Life\n",
    "\n",
    "* https://leetcode.com/problems/game-of-life/description/"
   ]
  },
  {
   "cell_type": "code",
   "execution_count": null,
   "id": "2a2ea7c2",
   "metadata": {},
   "outputs": [],
   "source": [
    "## Credit - http://github.com/AlgoMaster-io/leetcode-solutions/blob/main/python/game-of-life.md#approach-2-in-place-with-state-encoding\n",
    "\n",
    "### LOGIC\n",
    "# OriginalState, NewState, Value\n",
    "# 0 0 0\n",
    "# 0 1 2\n",
    "# 1 0 1\n",
    "# 1 1 3\n",
    "\n",
    "def game_of_life(board):\n",
    "    ROWS, COLS = len(board), len(board[0])\n",
    "    \n",
    "    def get_live_neighbours(row, col):\n",
    "        directions = [(-1, -1), (-1, 0), (-1, 1),\n",
    "                      ( 0, -1)        , ( 0, 1),\n",
    "                      ( 1, -1), ( 1, 0), ( 1, 1)]\n",
    "        count = 0\n",
    "\n",
    "        for dr, dc in directions:\n",
    "            r, c = row+dr, col+dc\n",
    "            if 0 <= r < ROWS and 0 <= c < COLS and abs(board[r][c]) == 1:\n",
    "                count += 1\n",
    "        return count\n",
    "\n",
    "\n",
    "    for r in range(ROWS):\n",
    "        for c in range(COLS):\n",
    "            live_neighbours = get_live_neighbours(r, c)\n",
    "\n",
    "            # Alive cell less than 2 or greater than 3 dies\n",
    "            if board[r][c]:\n",
    "                if live_neighbours in [2, 3]:\n",
    "                    board[r][c] = 3\n",
    "            elif live_neighbours == 3: #  Dead cell with exactly 3 neighbours become alive\n",
    "                board[r][c] == 2\n",
    "\n",
    "\n",
    "    for r in range(ROWS):\n",
    "        for c in range(COLS):\n",
    "            if board[r][c] == 1:\n",
    "                board[r][c] = 0\n",
    "            if board[r][c] in [2, 3]:\n",
    "                board[r][c] = 1\n"
   ]
  },
  {
   "cell_type": "code",
   "execution_count": null,
   "id": "3ab04baa",
   "metadata": {},
   "outputs": [],
   "source": []
  }
 ],
 "metadata": {
  "kernelspec": {
   "display_name": "Python 3",
   "language": "python",
   "name": "python3"
  },
  "language_info": {
   "name": "python",
   "version": "3.11.9"
  }
 },
 "nbformat": 4,
 "nbformat_minor": 5
}
