{
 "cells": [
  {
   "cell_type": "markdown",
   "id": "4ee55542",
   "metadata": {},
   "source": [
    "#### 36. Valid Sudoku\n",
    "\n",
    "* https://leetcode.com/problems/valid-sudoku/description/"
   ]
  },
  {
   "cell_type": "code",
   "execution_count": null,
   "id": "7af94c7a",
   "metadata": {},
   "outputs": [],
   "source": [
    "from collections import defaultdict\n",
    "def is_valid_sudoku(board: list[list[str]]) -> bool:\n",
    "    rows = defaultdict(set)\n",
    "    cols = defaultdict(set)\n",
    "    squares = defaultdict(set) # key = (r//3, c//3)\n",
    "\n",
    "    for r in range(9):\n",
    "        for c in range(9):\n",
    "            if board[r][c] == '.':\n",
    "                continue\n",
    "            \n",
    "            if ( board[r][c] in rows or\n",
    "                    board[r][c] in cols or\n",
    "                    board[r][c] in squares[(r//3, c//3)] ):\n",
    "                return False\n",
    "\n",
    "            cols[c].add(board[r][c])\n",
    "            rows[r].add(board[r][c])\n",
    "            squares[(r//3, c//3)].add(board[r][c])\n",
    "\n",
    "        print(rows)\n",
    "\n",
    "    return True\n",
    "\n",
    "            "
   ]
  },
  {
   "cell_type": "code",
   "execution_count": 6,
   "id": "62576ab7",
   "metadata": {},
   "outputs": [
    {
     "name": "stdout",
     "output_type": "stream",
     "text": [
      "defaultdict(<class 'set'>, {0: {'5'}, 1: {'3'}, 4: {'7'}})\n",
      "defaultdict(<class 'set'>, {0: {'6', '5'}, 1: {'3'}, 4: {'7', '9'}, 3: {'1'}, 5: {'5'}})\n",
      "defaultdict(<class 'set'>, {0: {'6', '5'}, 1: {'3', '9'}, 4: {'7', '9'}, 3: {'1'}, 5: {'5'}, 2: {'8'}, 7: {'6'}})\n",
      "defaultdict(<class 'set'>, {0: {'6', '5', '8'}, 1: {'3', '9'}, 4: {'7', '6', '9'}, 3: {'1'}, 5: {'5'}, 2: {'8'}, 7: {'6'}, 8: {'3'}})\n",
      "defaultdict(<class 'set'>, {0: {'6', '5', '8', '4'}, 1: {'3', '9'}, 4: {'7', '6', '9'}, 3: {'1', '8'}, 5: {'3', '5'}, 2: {'8'}, 7: {'6'}, 8: {'3', '1'}})\n",
      "defaultdict(<class 'set'>, {0: {'4', '8', '6', '7', '5'}, 1: {'3', '9'}, 4: {'2', '7', '6', '9'}, 3: {'1', '8'}, 5: {'3', '5'}, 2: {'8'}, 7: {'6'}, 8: {'6', '3', '1'}})\n",
      "defaultdict(<class 'set'>, {0: {'4', '8', '6', '7', '5'}, 1: {'3', '6', '9'}, 4: {'2', '7', '6', '9'}, 3: {'1', '8'}, 5: {'3', '5'}, 2: {'8'}, 7: {'6', '8'}, 8: {'6', '3', '1'}, 6: {'2'}})\n",
      "defaultdict(<class 'set'>, {0: {'4', '8', '6', '7', '5'}, 1: {'3', '6', '9'}, 4: {'1', '9', '2', '6', '7'}, 3: {'1', '8', '4'}, 5: {'3', '5', '9'}, 2: {'8'}, 7: {'6', '8'}, 8: {'6', '3', '1', '5'}, 6: {'2'}})\n",
      "defaultdict(<class 'set'>, {0: {'4', '8', '6', '7', '5'}, 1: {'3', '6', '9'}, 4: {'1', '9', '8', '2', '6', '7'}, 3: {'1', '8', '4'}, 5: {'3', '5', '9'}, 2: {'8'}, 7: {'7', '6', '8'}, 8: {'3', '1', '9', '6', '5'}, 6: {'2'}})\n"
     ]
    },
    {
     "data": {
      "text/plain": [
       "True"
      ]
     },
     "execution_count": 6,
     "metadata": {},
     "output_type": "execute_result"
    }
   ],
   "source": [
    "is_valid_sudoku([[\"5\",\"3\",\".\",\".\",\"7\",\".\",\".\",\".\",\".\"]\n",
    ",[\"6\",\".\",\".\",\"1\",\"9\",\"5\",\".\",\".\",\".\"]\n",
    ",[\".\",\"9\",\"8\",\".\",\".\",\".\",\".\",\"6\",\".\"]\n",
    ",[\"8\",\".\",\".\",\".\",\"6\",\".\",\".\",\".\",\"3\"]\n",
    ",[\"4\",\".\",\".\",\"8\",\".\",\"3\",\".\",\".\",\"1\"]\n",
    ",[\"7\",\".\",\".\",\".\",\"2\",\".\",\".\",\".\",\"6\"]\n",
    ",[\".\",\"6\",\".\",\".\",\".\",\".\",\"2\",\"8\",\".\"]\n",
    ",[\".\",\".\",\".\",\"4\",\"1\",\"9\",\".\",\".\",\"5\"]\n",
    ",[\".\",\".\",\".\",\".\",\"8\",\".\",\".\",\"7\",\"9\"]])"
   ]
  },
  {
   "cell_type": "code",
   "execution_count": 7,
   "id": "d6b9422f",
   "metadata": {},
   "outputs": [
    {
     "ename": "AttributeError",
     "evalue": "'collections.defaultdict' object has no attribute 'add'",
     "output_type": "error",
     "traceback": [
      "\u001b[1;31m---------------------------------------------------------------------------\u001b[0m",
      "\u001b[1;31mAttributeError\u001b[0m                            Traceback (most recent call last)",
      "Cell \u001b[1;32mIn[7], line 2\u001b[0m\n\u001b[0;32m      1\u001b[0m d \u001b[38;5;241m=\u001b[39m defaultdict(\u001b[38;5;28mset\u001b[39m)\n\u001b[1;32m----> 2\u001b[0m \u001b[43md\u001b[49m\u001b[38;5;241;43m.\u001b[39;49m\u001b[43madd\u001b[49m(\u001b[38;5;241m1\u001b[39m)\n",
      "\u001b[1;31mAttributeError\u001b[0m: 'collections.defaultdict' object has no attribute 'add'"
     ]
    }
   ],
   "source": [
    "d = defaultdict(set)\n",
    "d.add(1)"
   ]
  },
  {
   "cell_type": "code",
   "execution_count": null,
   "id": "43979624",
   "metadata": {},
   "outputs": [],
   "source": []
  }
 ],
 "metadata": {
  "kernelspec": {
   "display_name": "Python 3",
   "language": "python",
   "name": "python3"
  },
  "language_info": {
   "codemirror_mode": {
    "name": "ipython",
    "version": 3
   },
   "file_extension": ".py",
   "mimetype": "text/x-python",
   "name": "python",
   "nbconvert_exporter": "python",
   "pygments_lexer": "ipython3",
   "version": "3.11.9"
  }
 },
 "nbformat": 4,
 "nbformat_minor": 5
}
