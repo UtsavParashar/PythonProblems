{
 "cells": [
  {
   "cell_type": "markdown",
   "id": "753cf964",
   "metadata": {},
   "source": [
    "#### 9. Palindrome Number\n",
    "\n",
    "* https://leetcode.com/problems/palindrome-number/description/"
   ]
  },
  {
   "cell_type": "code",
   "execution_count": 3,
   "id": "d74b0acb",
   "metadata": {},
   "outputs": [],
   "source": [
    "# TC - O(log10(n))\n",
    "# SC - O(1)\n",
    "\n",
    "# https://www.youtube.com/watch?v=CijisxopxqM&t=18s\n",
    "def is_palindome(x):\n",
    "    if x < 0 or (x%10==0 and x!=0): \n",
    "        return False\n",
    "\n",
    "    reverse = 0\n",
    "    xcopy = x\n",
    "\n",
    "    while x > 0:\n",
    "        reverse = (reverse*10) + (x%10)\n",
    "        x //= 10\n",
    "\n",
    "    return reverse == xcopy"
   ]
  },
  {
   "cell_type": "code",
   "execution_count": 1,
   "id": "5483057a",
   "metadata": {},
   "outputs": [],
   "source": [
    "# https://chatgpt.com/c/687e613e-4bf8-800f-a361-421b8b5ccecd\n",
    "class Solution:\n",
    "    def isPalindrome(self, x: int) -> bool:\n",
    "        # Negative numbers are not palindrome\n",
    "        if x < 0 or (x % 10 == 0 and x != 0):\n",
    "            return False\n",
    "        \n",
    "        reversed_half = 0\n",
    "        while x > reversed_half:\n",
    "            digit = x % 10\n",
    "            reversed_half = reversed_half * 10 + digit\n",
    "            x //= 10\n",
    "        \n",
    "        # For even number of digits: x == reversed_half\n",
    "        # For odd number of digits: x == reversed_half // 10\n",
    "        return x == reversed_half or x == reversed_half // 10\n"
   ]
  },
  {
   "cell_type": "code",
   "execution_count": null,
   "id": "c16b671d",
   "metadata": {},
   "outputs": [],
   "source": []
  },
  {
   "cell_type": "code",
   "execution_count": 41,
   "id": "d7dd16a5",
   "metadata": {},
   "outputs": [
    {
     "data": {
      "text/plain": [
       "False"
      ]
     },
     "execution_count": 41,
     "metadata": {},
     "output_type": "execute_result"
    }
   ],
   "source": [
    "is_palindome(1231)"
   ]
  },
  {
   "cell_type": "code",
   "execution_count": 1,
   "id": "bcc6a160",
   "metadata": {},
   "outputs": [],
   "source": [
    "def brute_force(x):\n",
    "    return x == int(str(x)[::-1])"
   ]
  },
  {
   "cell_type": "code",
   "execution_count": 5,
   "id": "1db054c1",
   "metadata": {},
   "outputs": [
    {
     "data": {
      "text/plain": [
       "False"
      ]
     },
     "execution_count": 5,
     "metadata": {},
     "output_type": "execute_result"
    }
   ],
   "source": [
    "brute_force(1231)"
   ]
  },
  {
   "cell_type": "code",
   "execution_count": null,
   "id": "75f93256",
   "metadata": {},
   "outputs": [],
   "source": []
  },
  {
   "cell_type": "code",
   "execution_count": null,
   "id": "cad2b440",
   "metadata": {},
   "outputs": [],
   "source": []
  },
  {
   "cell_type": "code",
   "execution_count": 4,
   "id": "dbe1b3ba",
   "metadata": {},
   "outputs": [],
   "source": [
    "def sum_of_digits(num):\n",
    "    sum_ = 0\n",
    "    while num > 0:\n",
    "        rem = num%10\n",
    "        sum_ += rem\n",
    "        num //= 10\n",
    "\n",
    "    return sum_\n",
    "\n",
    "\n",
    "        "
   ]
  },
  {
   "cell_type": "code",
   "execution_count": 5,
   "id": "90edbfa9",
   "metadata": {},
   "outputs": [
    {
     "data": {
      "text/plain": [
       "15"
      ]
     },
     "execution_count": 5,
     "metadata": {},
     "output_type": "execute_result"
    }
   ],
   "source": [
    "sum_of_digits(12345)"
   ]
  },
  {
   "cell_type": "code",
   "execution_count": null,
   "id": "f1dfce35",
   "metadata": {},
   "outputs": [],
   "source": []
  }
 ],
 "metadata": {
  "kernelspec": {
   "display_name": "Python 3",
   "language": "python",
   "name": "python3"
  },
  "language_info": {
   "codemirror_mode": {
    "name": "ipython",
    "version": 3
   },
   "file_extension": ".py",
   "mimetype": "text/x-python",
   "name": "python",
   "nbconvert_exporter": "python",
   "pygments_lexer": "ipython3",
   "version": "3.11.9"
  }
 },
 "nbformat": 4,
 "nbformat_minor": 5
}
