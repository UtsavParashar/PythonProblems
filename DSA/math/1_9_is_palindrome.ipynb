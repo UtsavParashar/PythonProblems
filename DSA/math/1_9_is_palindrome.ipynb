{
 "cells": [
  {
   "cell_type": "markdown",
   "id": "753cf964",
   "metadata": {},
   "source": [
    "#### 9. Palindrome Number\n",
    "\n",
    "* https://leetcode.com/problems/palindrome-number/description/"
   ]
  },
  {
   "cell_type": "code",
   "execution_count": 37,
   "id": "173bb3e9",
   "metadata": {},
   "outputs": [],
   "source": [
    "def is_palindome(x: int) -> bool:\n",
    "    if x < 0: return False\n",
    "\n",
    "    ## Required to get the digits from start\n",
    "    div = 1\n",
    "    while x // div >= 10:\n",
    "        div *= 10\n",
    "    \n",
    "    while x > 0:\n",
    "        last_digit = x%10\n",
    "        first_digit = x//div\n",
    "\n",
    "        if last_digit != first_digit:\n",
    "            return False\n",
    "        \n",
    "        x = (x%div)//10 # remove the last and the first digit\n",
    "\n",
    "        div //= 100 # each time a last and first digit is removed div needs to be reduced by multiple of 10\n",
    "    \n",
    "    return True\n"
   ]
  },
  {
   "cell_type": "code",
   "execution_count": 36,
   "id": "0fd80466",
   "metadata": {},
   "outputs": [
    {
     "name": "stdout",
     "output_type": "stream",
     "text": [
      "10 1000\n",
      "100 1000\n",
      "1000 1000\n",
      "1000 0 1\n"
     ]
    },
    {
     "data": {
      "text/plain": [
       "False"
      ]
     },
     "execution_count": 36,
     "metadata": {},
     "output_type": "execute_result"
    }
   ],
   "source": [
    "is_palindome(1000)"
   ]
  },
  {
   "cell_type": "code",
   "execution_count": 42,
   "id": "c16b671d",
   "metadata": {},
   "outputs": [],
   "source": [
    "# TC and SC = O(n)\n",
    "# https://www.youtube.com/watch?v=CijisxopxqM&t=18s\n",
    "def is_palindome(x):\n",
    "    if x < 0: return False\n",
    "\n",
    "    reverse = 0\n",
    "    xcopy = x\n",
    "\n",
    "    while x > 0:\n",
    "        reverse = (reverse*10) + (x%10)\n",
    "        x //= 10\n",
    "\n",
    "    return reverse == xcopy"
   ]
  },
  {
   "cell_type": "code",
   "execution_count": 41,
   "id": "d7dd16a5",
   "metadata": {},
   "outputs": [
    {
     "data": {
      "text/plain": [
       "False"
      ]
     },
     "execution_count": 41,
     "metadata": {},
     "output_type": "execute_result"
    }
   ],
   "source": [
    "is_palindome(1231)"
   ]
  },
  {
   "cell_type": "code",
   "execution_count": 1,
   "id": "bcc6a160",
   "metadata": {},
   "outputs": [],
   "source": [
    "def brute_force(x):\n",
    "    return x == int(str(x)[::-1])"
   ]
  },
  {
   "cell_type": "code",
   "execution_count": 5,
   "id": "1db054c1",
   "metadata": {},
   "outputs": [
    {
     "data": {
      "text/plain": [
       "False"
      ]
     },
     "execution_count": 5,
     "metadata": {},
     "output_type": "execute_result"
    }
   ],
   "source": [
    "brute_force(1231)"
   ]
  },
  {
   "cell_type": "code",
   "execution_count": null,
   "id": "75f93256",
   "metadata": {},
   "outputs": [],
   "source": []
  },
  {
   "cell_type": "code",
   "execution_count": null,
   "id": "cad2b440",
   "metadata": {},
   "outputs": [],
   "source": []
  },
  {
   "cell_type": "code",
   "execution_count": 4,
   "id": "dbe1b3ba",
   "metadata": {},
   "outputs": [],
   "source": [
    "def sum_of_digits(num):\n",
    "    sum_ = 0\n",
    "    while num > 0:\n",
    "        rem = num%10\n",
    "        sum_ += rem\n",
    "        num //= 10\n",
    "\n",
    "    return sum_\n",
    "\n",
    "\n",
    "        "
   ]
  },
  {
   "cell_type": "code",
   "execution_count": 5,
   "id": "90edbfa9",
   "metadata": {},
   "outputs": [
    {
     "data": {
      "text/plain": [
       "15"
      ]
     },
     "execution_count": 5,
     "metadata": {},
     "output_type": "execute_result"
    }
   ],
   "source": [
    "sum_of_digits(12345)"
   ]
  },
  {
   "cell_type": "code",
   "execution_count": null,
   "id": "f1dfce35",
   "metadata": {},
   "outputs": [],
   "source": []
  }
 ],
 "metadata": {
  "kernelspec": {
   "display_name": "Python 3",
   "language": "python",
   "name": "python3"
  },
  "language_info": {
   "codemirror_mode": {
    "name": "ipython",
    "version": 3
   },
   "file_extension": ".py",
   "mimetype": "text/x-python",
   "name": "python",
   "nbconvert_exporter": "python",
   "pygments_lexer": "ipython3",
   "version": "3.11.9"
  }
 },
 "nbformat": 4,
 "nbformat_minor": 5
}
