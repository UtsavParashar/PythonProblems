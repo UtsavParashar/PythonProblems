{
 "cells": [
  {
   "cell_type": "markdown",
   "id": "565ba730",
   "metadata": {},
   "source": [
    "#### 7. Reverse Integer\n",
    "\n",
    "* https://leetcode.com/problems/reverse-integer/description/\n"
   ]
  },
  {
   "cell_type": "code",
   "execution_count": null,
   "id": "b62df31e",
   "metadata": {},
   "outputs": [],
   "source": [
    "def reverse_integer(x: int) -> int:\n",
    "    LIMIT = 2**31\n",
    "    res = 0\n",
    "    sign = -1 if x < 0 else 1\n",
    "    x = abs(x)\n",
    "\n",
    "    while x:\n",
    "        res = res * 10 + x % 10\n",
    "        x //= 10\n",
    "        if res > LIMIT - (sign == 1):\n",
    "            return 0\n",
    "\n",
    "    return sign * res\n"
   ]
  },
  {
   "cell_type": "code",
   "execution_count": 71,
   "id": "3bc95a79",
   "metadata": {},
   "outputs": [
    {
     "data": {
      "text/plain": [
       "0"
      ]
     },
     "execution_count": 71,
     "metadata": {},
     "output_type": "execute_result"
    }
   ],
   "source": [
    "reverse_integer(1534236469)"
   ]
  },
  {
   "cell_type": "code",
   "execution_count": null,
   "id": "04091c03",
   "metadata": {},
   "outputs": [
    {
     "data": {
      "text/plain": [
       "12"
      ]
     },
     "execution_count": 41,
     "metadata": {},
     "output_type": "execute_result"
    }
   ],
   "source": [
    "def reverse_integer(x: int) -> int:\n",
    "    sign = -1 if x < 0 else 1\n",
    "    reversed_x = int(str(abs(x))[::-1])\n",
    "    return sign * reversed_x if -(2**31) <= sign * reversed_x <= 2**31 - 1 else 0\n"
   ]
  },
  {
   "cell_type": "code",
   "execution_count": null,
   "id": "7122d42c",
   "metadata": {},
   "outputs": [],
   "source": []
  }
 ],
 "metadata": {
  "kernelspec": {
   "display_name": "Python 3",
   "language": "python",
   "name": "python3"
  },
  "language_info": {
   "codemirror_mode": {
    "name": "ipython",
    "version": 3
   },
   "file_extension": ".py",
   "mimetype": "text/x-python",
   "name": "python",
   "nbconvert_exporter": "python",
   "pygments_lexer": "ipython3",
   "version": "3.11.9"
  }
 },
 "nbformat": 4,
 "nbformat_minor": 5
}
