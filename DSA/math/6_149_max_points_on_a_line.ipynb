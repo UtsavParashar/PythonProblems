{
 "cells": [
  {
   "cell_type": "markdown",
   "id": "9dfd2480",
   "metadata": {},
   "source": [
    "### 149. Max Points on a Line\n",
    "\n",
    "* https://leetcode.com/problems/max-points-on-a-line/description/"
   ]
  },
  {
   "cell_type": "code",
   "execution_count": 13,
   "id": "1125a549",
   "metadata": {},
   "outputs": [
    {
     "data": {
      "text/plain": [
       "2"
      ]
     },
     "execution_count": 13,
     "metadata": {},
     "output_type": "execute_result"
    }
   ],
   "source": [
    "# https://www.youtube.com/watch?v=Bb9lOXUOnFw\n",
    "\n",
    "from collections import defaultdict\n",
    "\n",
    "def max_points(points):\n",
    "    n = len(points)\n",
    "    res = 1 # at least there will be one point\n",
    "    for i in range(n):\n",
    "        count = defaultdict(int)\n",
    "        for j in range(i+1, n):\n",
    "            if points[j][0] - points[i][0] == 0:\n",
    "                count[float('inf')] += 1\n",
    "                res = max(res, count[float('inf')] + 1)\n",
    "            else:\n",
    "                slope = (points[j][1] - points[i][1]) / (points[j][0] - points[i][0]) \n",
    "                count[slope] += 1\n",
    "                print(count)\n",
    "                res = max(res, count[slope] + 1)  # count[slope] + 1 because we initiated it to 0 but min 2 points form a line\n",
    "    return res\n",
    "\n",
    "max_points([[0,1], [0,0]])\n"
   ]
  },
  {
   "cell_type": "code",
   "execution_count": null,
   "id": "17b08a5c",
   "metadata": {},
   "outputs": [],
   "source": [
    "from collections import defaultdict\n",
    "from fractions import Fraction\n",
    "\n",
    "def max_points(points):\n",
    "    if not points:\n",
    "        return 0\n",
    "    n = len(points)\n",
    "    res = 1\n",
    "    for i in range(n):\n",
    "        slopes = defaultdict(int)\n",
    "        duplicates = 0\n",
    "        curr_max = 0\n",
    "        x1, y1 = points[i]\n",
    "        for j in range(i + 1, n):\n",
    "            x2, y2 = points[j]\n",
    "            if x1 == x2 and y1 == y2:\n",
    "                duplicates += 1\n",
    "            elif x1 == x2:\n",
    "                slopes['inf'] += 1\n",
    "                curr_max = max(curr_max, slopes['inf'])\n",
    "            else:\n",
    "                slope = Fraction(y2 - y1, x2 - x1)\n",
    "                slopes[slope] += 1\n",
    "                curr_max = max(curr_max, slopes[slope])\n",
    "        res = max(res, curr_max + duplicates + 1)\n",
    "    return res\n",
    "\n",
    "max_points([[0,1], [0,0]])\n"
   ]
  },
  {
   "cell_type": "code",
   "execution_count": null,
   "id": "347eb9fb",
   "metadata": {},
   "outputs": [],
   "source": []
  }
 ],
 "metadata": {
  "kernelspec": {
   "display_name": "Python 3",
   "language": "python",
   "name": "python3"
  },
  "language_info": {
   "codemirror_mode": {
    "name": "ipython",
    "version": 3
   },
   "file_extension": ".py",
   "mimetype": "text/x-python",
   "name": "python",
   "nbconvert_exporter": "python",
   "pygments_lexer": "ipython3",
   "version": "3.11.9"
  }
 },
 "nbformat": 4,
 "nbformat_minor": 5
}
