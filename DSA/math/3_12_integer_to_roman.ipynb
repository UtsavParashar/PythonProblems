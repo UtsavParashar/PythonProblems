{
 "cells": [
  {
   "cell_type": "markdown",
   "id": "80054e8a",
   "metadata": {},
   "source": [
    "#### 12. Integer to Roman\n",
    "\n",
    "* https://leetcode.com/problems/integer-to-roman/description/"
   ]
  },
  {
   "cell_type": "code",
   "execution_count": 22,
   "id": "37ed772b",
   "metadata": {},
   "outputs": [],
   "source": [
    "def int_to_roman(num) -> str:\n",
    "    roman_dict = {\n",
    "        'I': 1,\n",
    "        'IV': 4,\n",
    "        'V': 5,\n",
    "        'IX': 9,\n",
    "        'X': 10,\n",
    "        'XL': 40,\n",
    "        'L': 50,\n",
    "        'XC': 90,\n",
    "        'C': 100,\n",
    "        'CD': 400,\n",
    "        'D': 500,\n",
    "        'CM': 900,\n",
    "        'M': 1000\n",
    "    }\n",
    "\n",
    "    res = []\n",
    "    for roman, integer in reversed(roman_dict.items()):\n",
    "        if count := num//integer:\n",
    "            res.append(roman*count)\n",
    "            num %= integer\n",
    "    return ''.join(res)\n"
   ]
  },
  {
   "cell_type": "code",
   "execution_count": 23,
   "id": "bf6f09f3",
   "metadata": {},
   "outputs": [
    {
     "data": {
      "text/plain": [
       "'MMMDCCXLIX'"
      ]
     },
     "execution_count": 23,
     "metadata": {},
     "output_type": "execute_result"
    }
   ],
   "source": [
    "int_to_roman(3749)"
   ]
  },
  {
   "cell_type": "code",
   "execution_count": 24,
   "id": "efbb106f",
   "metadata": {},
   "outputs": [
    {
     "data": {
      "text/plain": [
       "'LVIII'"
      ]
     },
     "execution_count": 24,
     "metadata": {},
     "output_type": "execute_result"
    }
   ],
   "source": [
    "int_to_roman(58)"
   ]
  },
  {
   "cell_type": "code",
   "execution_count": 25,
   "id": "dbd57537",
   "metadata": {},
   "outputs": [
    {
     "data": {
      "text/plain": [
       "'MCMXCIV'"
      ]
     },
     "execution_count": 25,
     "metadata": {},
     "output_type": "execute_result"
    }
   ],
   "source": [
    "int_to_roman(1994)"
   ]
  },
  {
   "cell_type": "code",
   "execution_count": null,
   "id": "98486227",
   "metadata": {},
   "outputs": [],
   "source": []
  }
 ],
 "metadata": {
  "kernelspec": {
   "display_name": "Python 3",
   "language": "python",
   "name": "python3"
  },
  "language_info": {
   "codemirror_mode": {
    "name": "ipython",
    "version": 3
   },
   "file_extension": ".py",
   "mimetype": "text/x-python",
   "name": "python",
   "nbconvert_exporter": "python",
   "pygments_lexer": "ipython3",
   "version": "3.11.9"
  }
 },
 "nbformat": 4,
 "nbformat_minor": 5
}
