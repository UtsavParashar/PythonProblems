{
 "cells": [
  {
   "cell_type": "markdown",
   "id": "5a22445b",
   "metadata": {},
   "source": [
    "#### 172. Factorial Trailing Zeros\n",
    "\n",
    "* https://leetcode.com/problems/factorial-trailing-zeroes/description/"
   ]
  },
  {
   "cell_type": "code",
   "execution_count": 9,
   "id": "fa5c17bf",
   "metadata": {},
   "outputs": [],
   "source": [
    "from functools import reduce\n",
    "\n",
    "def brute_force(n):\n",
    "    if not n: return n\n",
    "\n",
    "    fact = reduce(lambda x,y: x*y, range(1, n+1))\n",
    "    res = 0\n",
    "    while fact > 0:\n",
    "        if fact%10 == 0:\n",
    "            res += 1\n",
    "        else:\n",
    "            break\n",
    "        fact //= 10\n",
    "    \n",
    "    return res\n"
   ]
  },
  {
   "cell_type": "code",
   "execution_count": 12,
   "id": "ab715d92",
   "metadata": {},
   "outputs": [
    {
     "data": {
      "text/plain": [
       "0"
      ]
     },
     "execution_count": 12,
     "metadata": {},
     "output_type": "execute_result"
    }
   ],
   "source": [
    "brute_force(0)"
   ]
  },
  {
   "cell_type": "code",
   "execution_count": null,
   "id": "36050d7c",
   "metadata": {},
   "outputs": [],
   "source": [
    "def optimized_trailing_zeros(n):\n",
    "    if n == 0:\n",
    "        return 0\n",
    "\n",
    "    count = 0\n",
    "    while n >= 5:\n",
    "        n //= 5\n",
    "        count += n\n",
    "\n",
    "    return count\n"
   ]
  },
  {
   "cell_type": "code",
   "execution_count": 18,
   "id": "229f4cf9",
   "metadata": {},
   "outputs": [
    {
     "name": "stdout",
     "output_type": "stream",
     "text": [
      "6\n",
      "1\n"
     ]
    },
    {
     "data": {
      "text/plain": [
       "7"
      ]
     },
     "execution_count": 18,
     "metadata": {},
     "output_type": "execute_result"
    }
   ],
   "source": [
    "optimized_trailing_zeros(31)"
   ]
  },
  {
   "cell_type": "code",
   "execution_count": 15,
   "id": "6fe17264",
   "metadata": {},
   "outputs": [
    {
     "name": "stdout",
     "output_type": "stream",
     "text": [
      "1 1\n",
      "2 2\n",
      "3 6\n",
      "4 24\n",
      "5 120\n",
      "6 720\n",
      "7 5040\n",
      "8 40320\n",
      "9 362880\n",
      "10 3628800\n",
      "11 39916800\n",
      "12 479001600\n",
      "13 6227020800\n",
      "14 87178291200\n",
      "15 1307674368000\n",
      "16 20922789888000\n",
      "17 355687428096000\n",
      "18 6402373705728000\n",
      "19 121645100408832000\n",
      "20 2432902008176640000\n",
      "21 51090942171709440000\n",
      "22 1124000727777607680000\n",
      "23 25852016738884976640000\n",
      "24 620448401733239439360000\n",
      "25 15511210043330985984000000\n"
     ]
    }
   ],
   "source": [
    "for i in range(1, 26):\n",
    "    print(i, reduce(lambda x,y: x*y, range(1, i+1)))"
   ]
  },
  {
   "cell_type": "code",
   "execution_count": null,
   "id": "f1a4d110",
   "metadata": {},
   "outputs": [],
   "source": []
  }
 ],
 "metadata": {
  "kernelspec": {
   "display_name": "Python 3",
   "language": "python",
   "name": "python3"
  },
  "language_info": {
   "codemirror_mode": {
    "name": "ipython",
    "version": 3
   },
   "file_extension": ".py",
   "mimetype": "text/x-python",
   "name": "python",
   "nbconvert_exporter": "python",
   "pygments_lexer": "ipython3",
   "version": "3.11.9"
  }
 },
 "nbformat": 4,
 "nbformat_minor": 5
}
