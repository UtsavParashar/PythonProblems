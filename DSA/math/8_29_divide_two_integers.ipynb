{
 "cells": [
  {
   "cell_type": "markdown",
   "id": "cc782ce8",
   "metadata": {},
   "source": [
    "#### 29. Divide Two Integers\n",
    "* https://leetcode.com/problems/divide-two-integers/description/\n",
    "#### ['Bloomberg', 'Meta', 'Amazon', 'Apple', 'Uber']"
   ]
  },
  {
   "cell_type": "code",
   "execution_count": null,
   "id": "f4fba1c1",
   "metadata": {},
   "outputs": [
    {
     "data": {
      "text/plain": [
       "1"
      ]
     },
     "execution_count": 6,
     "metadata": {},
     "output_type": "execute_result"
    }
   ],
   "source": [
    "class Solution:\n",
    "    def divide(self, dividend: int, divisor: int) -> int:\n",
    "        INT_MIN, INT_MAX = -2**31, 2**31-1\n",
    "\n",
    "\n",
    "        sign = -1 if (dividend<0) ^ (divisor<0) else 1\n",
    "        dividend, divisor = abs(dividend), abs(divisor)\n",
    "        \n",
    "        \n",
    "        if divisor == 1:\n",
    "            res = dividend*sign\n",
    "        else:\n",
    "            quo = 0\n",
    "            while dividend >= divisor:\n",
    "                counter = 0\n",
    "                while dividend >= (divisor * (2**counter)):\n",
    "                    counter += 1\n",
    "                quo += counter\n",
    "                dividend -= divisor*(2**(counter-1))\n",
    "        \n",
    "            res = sign * quo\n",
    "        if res <= INT_MIN:\n",
    "            return INT_MIN\n",
    "        elif res >= INT_MAX:\n",
    "            return INT_MAX\n",
    "        return res\n",
    "\n",
    "Solution().divide(1, 1)"
   ]
  },
  {
   "cell_type": "code",
   "execution_count": 9,
   "id": "5a64fd44",
   "metadata": {},
   "outputs": [
    {
     "data": {
      "text/plain": [
       "15.44570457013235"
      ]
     },
     "execution_count": 9,
     "metadata": {},
     "output_type": "execute_result"
    }
   ],
   "source": [
    "150/((5995.45*10_000_000)/6_17_35_96_631)"
   ]
  },
  {
   "cell_type": "code",
   "execution_count": null,
   "id": "3027ccca",
   "metadata": {},
   "outputs": [],
   "source": []
  }
 ],
 "metadata": {
  "kernelspec": {
   "display_name": "Python 3",
   "language": "python",
   "name": "python3"
  },
  "language_info": {
   "codemirror_mode": {
    "name": "ipython",
    "version": 3
   },
   "file_extension": ".py",
   "mimetype": "text/x-python",
   "name": "python",
   "nbconvert_exporter": "python",
   "pygments_lexer": "ipython3",
   "version": "3.11.9"
  }
 },
 "nbformat": 4,
 "nbformat_minor": 5
}
