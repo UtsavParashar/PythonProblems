{
 "cells": [
  {
   "cell_type": "markdown",
   "id": "cc782ce8",
   "metadata": {},
   "source": [
    "#### 29. Divide Two Integers\n",
    "* https://leetcode.com/problems/divide-two-integers/description/\n",
    "#### ['Bloomberg', 'Meta', 'Amazon', 'Apple', 'Uber']"
   ]
  },
  {
   "cell_type": "code",
   "execution_count": null,
   "id": "f4fba1c1",
   "metadata": {},
   "outputs": [
    {
     "data": {
      "text/plain": [
       "1"
      ]
     },
     "execution_count": 6,
     "metadata": {},
     "output_type": "execute_result"
    }
   ],
   "source": [
    "# Explanation - https://www.youtube.com/watch?v=pBD4B1tzgVc\n",
    "# Chatgpt discussion - https://chatgpt.com/c/6904b22b-4a44-8324-b265-2fcaa5725ce4\n",
    "\n",
    "class Solution:\n",
    "    def divide(self, dividend: int, divisor: int) -> int:\n",
    "        # Edge Cases - \n",
    "        # dividend could overflow\n",
    "        # divisor could be 0, 1\n",
    "\n",
    "        # Solution\n",
    "        # Naive solution would be to subtract divisor in each iteration from dividend and increase the quotient by 1. Issue with this is - if dividend id say INT_MAX and divisor is 1 then it's an O(n) slow solution\n",
    "        # Optimized solution - increament the divisor by power of 2 and hence the quoties will also increase in multiples of 2, in that case the solution would be O(log n)\n",
    "        \n",
    "        INT_MIN, INT_MAX = -2**31, 2**31-1\n",
    "\n",
    "        sign = -1 if (dividend<0)^(divisor<0) else 1\n",
    "        dividend, divisor = abs(dividend), abs(divisor)\n",
    "\n",
    "        quotient = 0\n",
    "        while dividend >= divisor:\n",
    "            temp_divisor, multiple = divisor, 1 # multiple is 1 as we want to multiple it with 2\n",
    "            while dividend >= (temp_divisor << 1): # left shift == temp_divisor * 2\n",
    "                temp_divisor <<= 1 # Equivalent - temp_divisor *= 2\n",
    "                multiple <<= 1 # Equivalent - multiple *= 2\n",
    "            \n",
    "            dividend -= temp_divisor\n",
    "            quotient += multiple\n",
    "        \n",
    "        res = sign * quotient\n",
    "\n",
    "        # Edge case - overflow\n",
    "        if res <= INT_MIN:\n",
    "            return INT_MIN\n",
    "        elif res >= INT_MAX:\n",
    "            return INT_MAX\n",
    "        \n",
    "        return res\n",
    "        "
   ]
  },
  {
   "cell_type": "code",
   "execution_count": 2,
   "id": "e2856b78",
   "metadata": {},
   "outputs": [
    {
     "data": {
      "text/plain": [
       "0.065875"
      ]
     },
     "execution_count": 2,
     "metadata": {},
     "output_type": "execute_result"
    }
   ],
   "source": [
    "26.35/400"
   ]
  },
  {
   "cell_type": "code",
   "execution_count": 4,
   "id": "6c8ea495",
   "metadata": {},
   "outputs": [
    {
     "data": {
      "text/plain": [
       "0.33805555555555555"
      ]
     },
     "execution_count": 4,
     "metadata": {},
     "output_type": "execute_result"
    }
   ],
   "source": [
    "60.85/180"
   ]
  },
  {
   "cell_type": "code",
   "execution_count": null,
   "id": "69e43ae4",
   "metadata": {},
   "outputs": [],
   "source": []
  }
 ],
 "metadata": {
  "kernelspec": {
   "display_name": "Python 3",
   "language": "python",
   "name": "python3"
  },
  "language_info": {
   "codemirror_mode": {
    "name": "ipython",
    "version": 3
   },
   "file_extension": ".py",
   "mimetype": "text/x-python",
   "name": "python",
   "nbconvert_exporter": "python",
   "pygments_lexer": "ipython3",
   "version": "3.11.9"
  }
 },
 "nbformat": 4,
 "nbformat_minor": 5
}
