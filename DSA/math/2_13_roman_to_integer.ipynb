{
 "cells": [
  {
   "cell_type": "markdown",
   "id": "8f11cc37",
   "metadata": {},
   "source": [
    "#### 13. Roman to Integer\n",
    "\n",
    "* https://leetcode.com/problems/roman-to-integer/description/"
   ]
  },
  {
   "cell_type": "code",
   "execution_count": 11,
   "id": "bfab012a",
   "metadata": {},
   "outputs": [],
   "source": [
    "def roman_to_int(s: str) -> int:\n",
    "    roman_dict = {\n",
    "        'I': 1,\n",
    "        'V': 5,\n",
    "        'X': 10,\n",
    "        'L': 50,\n",
    "        'C': 100,\n",
    "        'D': 500,\n",
    "        'M': 1000\n",
    "    }\n",
    "    res = 0\n",
    "\n",
    "    for i in range(len(s)):\n",
    "        if i+1 < len(s) and roman_dict[s[i]] < roman_dict[s[i+1]]:\n",
    "            res -= roman_dict[s[i]] # If i < i+1 decrement it from the result\n",
    "        else:\n",
    "            res += roman_dict[s[i]]\n",
    "    return res\n"
   ]
  },
  {
   "cell_type": "code",
   "execution_count": 12,
   "id": "ba405a52",
   "metadata": {},
   "outputs": [
    {
     "name": "stdout",
     "output_type": "stream",
     "text": [
      "1.03 μs ± 40.7 ns per loop (mean ± std. dev. of 7 runs, 1,000,000 loops each)\n"
     ]
    }
   ],
   "source": [
    "%%timeit\n",
    "roman_to_int(\"MCMXCIV\")"
   ]
  },
  {
   "cell_type": "code",
   "execution_count": 14,
   "id": "89a2d483",
   "metadata": {},
   "outputs": [],
   "source": [
    "def roman_to_intII(s: str) -> int:\n",
    "    roman_dict = {\n",
    "        'I': 1,\n",
    "        'V': 5,\n",
    "        'X': 10,\n",
    "        'L': 50,\n",
    "        'C': 100,\n",
    "        'D': 500,\n",
    "        'M': 1000\n",
    "    }\n",
    "\n",
    "    return sum(-roman_dict[s[i]] if i+1 < len(s) and roman_dict[s[i]] < roman_dict[s[i+1]] else roman_dict[s[i]] for i in range(len(s)))\n"
   ]
  },
  {
   "cell_type": "code",
   "execution_count": 15,
   "id": "05cc0310",
   "metadata": {},
   "outputs": [
    {
     "name": "stdout",
     "output_type": "stream",
     "text": [
      "1.32 μs ± 8.98 ns per loop (mean ± std. dev. of 7 runs, 1,000,000 loops each)\n"
     ]
    }
   ],
   "source": [
    "%%timeit\n",
    "roman_to_intII(\"MCMXCIV\")"
   ]
  },
  {
   "cell_type": "code",
   "execution_count": null,
   "id": "420519b1",
   "metadata": {},
   "outputs": [],
   "source": []
  }
 ],
 "metadata": {
  "kernelspec": {
   "display_name": "Python 3",
   "language": "python",
   "name": "python3"
  },
  "language_info": {
   "codemirror_mode": {
    "name": "ipython",
    "version": 3
   },
   "file_extension": ".py",
   "mimetype": "text/x-python",
   "name": "python",
   "nbconvert_exporter": "python",
   "pygments_lexer": "ipython3",
   "version": "3.11.9"
  }
 },
 "nbformat": 4,
 "nbformat_minor": 5
}
