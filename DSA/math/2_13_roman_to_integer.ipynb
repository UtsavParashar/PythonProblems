{
 "cells": [
  {
   "cell_type": "markdown",
   "id": "8f11cc37",
   "metadata": {},
   "source": [
    "#### 13. Roman to Integer\n",
    "\n",
    "* https://leetcode.com/problems/roman-to-integer/description/\n",
    "\n",
    "#### ['Goldman Sachs', 'BNY Mellon', 'Bloomberg', 'Thomson Reuters', 'Meta', 'Amazon', 'Apple', 'Uber', 'Booking.com']"
   ]
  },
  {
   "cell_type": "code",
   "execution_count": 3,
   "id": "bfab012a",
   "metadata": {},
   "outputs": [
    {
     "data": {
      "text/plain": [
       "2014"
      ]
     },
     "execution_count": 3,
     "metadata": {},
     "output_type": "execute_result"
    }
   ],
   "source": [
    "class Solution:\n",
    "    def romanToInt(self, s: str) -> int:\n",
    "        roman_int = {\n",
    "            'I': 1,\n",
    "            'V': 5,\n",
    "            'X': 10,\n",
    "            'L': 50,\n",
    "            'C': 100,\n",
    "            'D': 500,\n",
    "            'M': 1000\n",
    "        }\n",
    "\n",
    "        res, prev = 0, 0\n",
    "        for c in reversed(s):\n",
    "            curr = roman_int[c]\n",
    "            if curr < prev:\n",
    "                res -= curr\n",
    "            else:\n",
    "                res += curr\n",
    "\n",
    "            prev = curr\n",
    "\n",
    "        return res\n",
    "    \n",
    "Solution().romanToInt('MCMXVIC')"
   ]
  },
  {
   "cell_type": "code",
   "execution_count": 12,
   "id": "ba405a52",
   "metadata": {},
   "outputs": [
    {
     "name": "stdout",
     "output_type": "stream",
     "text": [
      "1.03 μs ± 40.7 ns per loop (mean ± std. dev. of 7 runs, 1,000,000 loops each)\n"
     ]
    }
   ],
   "source": [
    "%%timeit\n",
    "roman_to_int(\"MCMXCIV\")"
   ]
  },
  {
   "cell_type": "code",
   "execution_count": 14,
   "id": "89a2d483",
   "metadata": {},
   "outputs": [],
   "source": [
    "def roman_to_intII(s: str) -> int:\n",
    "    roman_dict = {\n",
    "        'I': 1,\n",
    "        'V': 5,\n",
    "        'X': 10,\n",
    "        'L': 50,\n",
    "        'C': 100,\n",
    "        'D': 500,\n",
    "        'M': 1000\n",
    "    }\n",
    "\n",
    "    return sum(-roman_dict[s[i]] if i+1 < len(s) and roman_dict[s[i]] < roman_dict[s[i+1]] else roman_dict[s[i]] for i in range(len(s)))\n"
   ]
  },
  {
   "cell_type": "code",
   "execution_count": 15,
   "id": "05cc0310",
   "metadata": {},
   "outputs": [
    {
     "name": "stdout",
     "output_type": "stream",
     "text": [
      "1.32 μs ± 8.98 ns per loop (mean ± std. dev. of 7 runs, 1,000,000 loops each)\n"
     ]
    }
   ],
   "source": [
    "%%timeit\n",
    "roman_to_intII(\"MCMXCIV\")"
   ]
  },
  {
   "cell_type": "code",
   "execution_count": 5,
   "id": "420519b1",
   "metadata": {},
   "outputs": [
    {
     "data": {
      "text/plain": [
       "3"
      ]
     },
     "execution_count": 5,
     "metadata": {},
     "output_type": "execute_result"
    }
   ],
   "source": [
    "3749//1000"
   ]
  },
  {
   "cell_type": "code",
   "execution_count": null,
   "id": "b25d34f0",
   "metadata": {},
   "outputs": [],
   "source": []
  }
 ],
 "metadata": {
  "kernelspec": {
   "display_name": "Python 3",
   "language": "python",
   "name": "python3"
  },
  "language_info": {
   "codemirror_mode": {
    "name": "ipython",
    "version": 3
   },
   "file_extension": ".py",
   "mimetype": "text/x-python",
   "name": "python",
   "nbconvert_exporter": "python",
   "pygments_lexer": "ipython3",
   "version": "3.11.9"
  }
 },
 "nbformat": 4,
 "nbformat_minor": 5
}
