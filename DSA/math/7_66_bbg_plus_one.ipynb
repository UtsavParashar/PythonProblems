{
 "cells": [
  {
   "cell_type": "code",
   "execution_count": 1,
   "id": "fc87911e",
   "metadata": {},
   "outputs": [],
   "source": [
    "#### 66. Plus One\n",
    "## https://leetcode.com/problems/plus-one/description/\n",
    "\n",
    "## Logic - If an element is less than 9 then add 1 to it and return\n",
    "## If a digit is 9 then replace it with a 0\n",
    "## IF all digits are 9 then concatenate the resultant digits with [1]\n",
    "\n",
    "class Solution:\n",
    "    def plusOne(self, digits):\n",
    "        n = len(digits)\n",
    "\n",
    "        for i in reversed(range(n)):\n",
    "            if digits[i] < 9:\n",
    "                digits[i] += 1\n",
    "                return digits\n",
    "            digits[i] = 0\n",
    "        return [1] + digits"
   ]
  },
  {
   "cell_type": "code",
   "execution_count": null,
   "id": "ba519624",
   "metadata": {},
   "outputs": [],
   "source": []
  }
 ],
 "metadata": {
  "kernelspec": {
   "display_name": "Python 3",
   "language": "python",
   "name": "python3"
  },
  "language_info": {
   "codemirror_mode": {
    "name": "ipython",
    "version": 3
   },
   "file_extension": ".py",
   "mimetype": "text/x-python",
   "name": "python",
   "nbconvert_exporter": "python",
   "pygments_lexer": "ipython3",
   "version": "3.11.9"
  }
 },
 "nbformat": 4,
 "nbformat_minor": 5
}
