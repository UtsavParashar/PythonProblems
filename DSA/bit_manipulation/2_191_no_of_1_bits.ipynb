{
 "cells": [
  {
   "cell_type": "markdown",
   "id": "f5a12040",
   "metadata": {},
   "source": [
    "#### 191. Number of 1 Bits\n",
    "\n",
    "* https://leetcode.com/problems/number-of-1-bits/description/"
   ]
  },
  {
   "cell_type": "code",
   "execution_count": 5,
   "id": "627a8c3f",
   "metadata": {},
   "outputs": [],
   "source": [
    "## Optimized Solution where only 1's bit are checked\n",
    "\n",
    "class Solution:\n",
    "    def hammingWeight(self, n: int) -> int:\n",
    "        res = 0\n",
    "        while n: \n",
    "            n &= n-1\n",
    "            res += 1\n",
    "        return res"
   ]
  },
  {
   "cell_type": "code",
   "execution_count": 4,
   "id": "a463ee50",
   "metadata": {},
   "outputs": [],
   "source": [
    "# O(1) or O(32) where each bit is checked\n",
    "\n",
    "class Solution:\n",
    "    def hammingWeight(self, n: int) -> int:\n",
    "        res = 0\n",
    "        while n: \n",
    "            if n%2: # if n%2 == 1\n",
    "                res += 1\n",
    "            n >>= 1\n",
    "        return res"
   ]
  },
  {
   "cell_type": "code",
   "execution_count": 6,
   "id": "e9fa4c4e",
   "metadata": {},
   "outputs": [
    {
     "data": {
      "text/plain": [
       "2"
      ]
     },
     "execution_count": 6,
     "metadata": {},
     "output_type": "execute_result"
    }
   ],
   "source": [
    "Solution().hammingWeight(0o1001)"
   ]
  },
  {
   "cell_type": "code",
   "execution_count": null,
   "id": "a7757fb0",
   "metadata": {},
   "outputs": [],
   "source": []
  }
 ],
 "metadata": {
  "kernelspec": {
   "display_name": "Python 3",
   "language": "python",
   "name": "python3"
  },
  "language_info": {
   "codemirror_mode": {
    "name": "ipython",
    "version": 3
   },
   "file_extension": ".py",
   "mimetype": "text/x-python",
   "name": "python",
   "nbconvert_exporter": "python",
   "pygments_lexer": "ipython3",
   "version": "3.11.9"
  }
 },
 "nbformat": 4,
 "nbformat_minor": 5
}
