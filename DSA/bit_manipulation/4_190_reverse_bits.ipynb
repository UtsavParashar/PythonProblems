{
 "cells": [
  {
   "cell_type": "markdown",
   "id": "f46fd307",
   "metadata": {},
   "source": [
    "### 190. Reverse Bits\n",
    "\n",
    "* https://leetcode.com/problems/reverse-bits/description/"
   ]
  },
  {
   "cell_type": "code",
   "execution_count": 11,
   "id": "b473e265",
   "metadata": {},
   "outputs": [
    {
     "data": {
      "text/plain": [
       "'0b11010000000000000000000000000000'"
      ]
     },
     "execution_count": 11,
     "metadata": {},
     "output_type": "execute_result"
    }
   ],
   "source": [
    "# Credit - https://www.youtube.com/watch?v=PywybHkTtPo\n",
    "# Logic - to reverse do n&1 or with reversed_n left shifter by 1\n",
    "# n right shift by 1 for the next digit\n",
    "\n",
    "def reverse_bits(n):\n",
    "    reversed_n = 0\n",
    "    for _ in range(32):\n",
    "        reversed_n = (reversed_n<<1)|(n&1)\n",
    "        n >>= 1\n",
    "    return reversed_n\n",
    "\n",
    "bin(reverse_bits(0b1011))"
   ]
  },
  {
   "cell_type": "code",
   "execution_count": 4,
   "id": "c0c8b304",
   "metadata": {},
   "outputs": [
    {
     "data": {
      "text/plain": [
       "11"
      ]
     },
     "execution_count": 4,
     "metadata": {},
     "output_type": "execute_result"
    }
   ],
   "source": [
    "0b1011"
   ]
  },
  {
   "cell_type": "code",
   "execution_count": null,
   "id": "b8928cf7",
   "metadata": {},
   "outputs": [],
   "source": []
  }
 ],
 "metadata": {
  "kernelspec": {
   "display_name": "Python 3",
   "language": "python",
   "name": "python3"
  },
  "language_info": {
   "codemirror_mode": {
    "name": "ipython",
    "version": 3
   },
   "file_extension": ".py",
   "mimetype": "text/x-python",
   "name": "python",
   "nbconvert_exporter": "python",
   "pygments_lexer": "ipython3",
   "version": "3.11.9"
  }
 },
 "nbformat": 4,
 "nbformat_minor": 5
}
