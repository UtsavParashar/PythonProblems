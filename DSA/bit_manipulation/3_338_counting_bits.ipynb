{
 "cells": [
  {
   "cell_type": "markdown",
   "id": "70e76b83",
   "metadata": {},
   "source": [
    "#### 338. Counting Bits\n",
    "\n",
    "* https://leetcode.com/problems/counting-bits/description/"
   ]
  },
  {
   "cell_type": "code",
   "execution_count": null,
   "id": "d9a84e5f",
   "metadata": {},
   "outputs": [],
   "source": [
    "## Logic - If x%2 is odd then number of bits will be equal to x//2 else it will be x//2+1\n",
    "## because when an even number is divided by 2 its like a right shift operation\n",
    "## for an even number right shift operation will loose a zero but an odd number will loose 1\n",
    "\n",
    "# Credit - https://www.youtube.com/watch?v=awxaRgUB4Kw\n",
    "\n",
    "def count_bits(n):\n",
    "    res = [0]*(n+1)\n",
    "\n",
    "    for i in range(1, n+1):\n",
    "        val = res[i//2]\n",
    "        res[i] = 1+val if i%2 else val\n",
    "\n",
    "    return res\n",
    "\n"
   ]
  },
  {
   "cell_type": "code",
   "execution_count": 22,
   "id": "4eddf3d2",
   "metadata": {},
   "outputs": [
    {
     "data": {
      "text/plain": [
       "[0, 1, 1, 2, 1, 2]"
      ]
     },
     "execution_count": 22,
     "metadata": {},
     "output_type": "execute_result"
    }
   ],
   "source": [
    "count_bits(5)"
   ]
  },
  {
   "cell_type": "code",
   "execution_count": null,
   "id": "c6a1dead",
   "metadata": {},
   "outputs": [],
   "source": []
  }
 ],
 "metadata": {
  "kernelspec": {
   "display_name": "Python 3",
   "language": "python",
   "name": "python3"
  },
  "language_info": {
   "codemirror_mode": {
    "name": "ipython",
    "version": 3
   },
   "file_extension": ".py",
   "mimetype": "text/x-python",
   "name": "python",
   "nbconvert_exporter": "python",
   "pygments_lexer": "ipython3",
   "version": "3.11.9"
  }
 },
 "nbformat": 4,
 "nbformat_minor": 5
}
