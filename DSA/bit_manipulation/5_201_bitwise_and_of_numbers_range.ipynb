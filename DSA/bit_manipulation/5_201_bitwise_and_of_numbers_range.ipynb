{
 "cells": [
  {
   "cell_type": "markdown",
   "id": "649db811",
   "metadata": {},
   "source": [
    "#### 201. Bitwise AND of Numbers Range\n",
    "\n",
    "* https://leetcode.com/problems/bitwise-and-of-numbers-range/description/"
   ]
  },
  {
   "cell_type": "code",
   "execution_count": 4,
   "id": "9b787cdf",
   "metadata": {},
   "outputs": [
    {
     "data": {
      "text/plain": [
       "4"
      ]
     },
     "execution_count": 4,
     "metadata": {},
     "output_type": "execute_result"
    }
   ],
   "source": [
    "# TC, SC - O(1)\n",
    "# Credit - https://www.youtube.com/watch?v=-qrpJykY2gE\n",
    "\n",
    "\n",
    "def range_bitwise_and(left, right):\n",
    "    count = 0\n",
    "\n",
    "    while left != right:\n",
    "        count += 1\n",
    "        left >>= 1\n",
    "        right >>= 1\n",
    "    \n",
    "    return left<<count\n",
    "\n",
    "range_bitwise_and(0b0101, 0b0111)\n"
   ]
  },
  {
   "cell_type": "code",
   "execution_count": 1,
   "id": "0c2c7993",
   "metadata": {},
   "outputs": [
    {
     "data": {
      "text/plain": [
       "4"
      ]
     },
     "execution_count": 1,
     "metadata": {},
     "output_type": "execute_result"
    }
   ],
   "source": [
    "0b01<<2"
   ]
  },
  {
   "cell_type": "code",
   "execution_count": null,
   "id": "718d70d6",
   "metadata": {},
   "outputs": [],
   "source": []
  }
 ],
 "metadata": {
  "kernelspec": {
   "display_name": "Python 3",
   "language": "python",
   "name": "python3"
  },
  "language_info": {
   "codemirror_mode": {
    "name": "ipython",
    "version": 3
   },
   "file_extension": ".py",
   "mimetype": "text/x-python",
   "name": "python",
   "nbconvert_exporter": "python",
   "pygments_lexer": "ipython3",
   "version": "3.11.9"
  }
 },
 "nbformat": 4,
 "nbformat_minor": 5
}
