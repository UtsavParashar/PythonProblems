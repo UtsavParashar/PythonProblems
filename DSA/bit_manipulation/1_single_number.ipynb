{
 "cells": [
  {
   "cell_type": "markdown",
   "metadata": {},
   "source": [
    "### 136 - Single Number - https://leetcode.com/problems/single-number/description/\n",
    "\n",
    "- Given a non-empty array of integers nums, every element appears twice except for one. Find that single one.\n",
    "- You must implement a solution with a linear runtime complexity and use only constant extra space.\n",
    "\n",
    " \n",
    "- Example 1:\n",
    "- Input: nums = [2,2,1]\n",
    "- Output: 1\n",
    "\n",
    "- Example 2:\n",
    "- Input: nums = [4,1,2,1,2]\n",
    "- Output: 4\n",
    "\n",
    "- Example 3:\n",
    "- Input: nums = [1]\n",
    "- Output: 1"
   ]
  },
  {
   "cell_type": "code",
   "execution_count": 1,
   "metadata": {},
   "outputs": [],
   "source": [
    "from typing import List\n",
    "def brute_force(nums: List[int]) -> int:\n",
    "    temp = set()\n",
    "    for num in nums:\n",
    "        if num in temp:\n",
    "            temp.remove(num)\n",
    "        else:\n",
    "            temp.add(num)\n",
    "\n",
    "    return temp.pop()"
   ]
  },
  {
   "cell_type": "code",
   "execution_count": 14,
   "metadata": {},
   "outputs": [
    {
     "name": "stdout",
     "output_type": "stream",
     "text": [
      "296 ns ± 18.9 ns per loop (mean ± std. dev. of 7 runs, 1,000,000 loops each)\n"
     ]
    }
   ],
   "source": [
    "%timeit brute_force([4,1,2,1,2])"
   ]
  },
  {
   "cell_type": "code",
   "execution_count": 16,
   "metadata": {},
   "outputs": [],
   "source": [
    "# Intution - XOR of any number with itself is 0 so at the end we will be left we with only the number which is not repeated\n",
    "\n",
    "def single_number(nums):\n",
    "    result = 0\n",
    "    for num in nums:\n",
    "        result ^= num\n",
    "    return result"
   ]
  },
  {
   "cell_type": "code",
   "execution_count": 17,
   "metadata": {},
   "outputs": [
    {
     "name": "stdout",
     "output_type": "stream",
     "text": [
      "161 ns ± 1.57 ns per loop (mean ± std. dev. of 7 runs, 10,000,000 loops each)\n"
     ]
    }
   ],
   "source": [
    "%timeit single_number([4,1,2,1,2])"
   ]
  },
  {
   "cell_type": "code",
   "execution_count": 11,
   "metadata": {},
   "outputs": [
    {
     "data": {
      "text/plain": [
       "2"
      ]
     },
     "execution_count": 11,
     "metadata": {},
     "output_type": "execute_result"
    }
   ],
   "source": [
    "3 ^ 1"
   ]
  },
  {
   "cell_type": "code",
   "execution_count": null,
   "metadata": {},
   "outputs": [],
   "source": []
  }
 ],
 "metadata": {
  "kernelspec": {
   "display_name": "Python 3",
   "language": "python",
   "name": "python3"
  },
  "language_info": {
   "codemirror_mode": {
    "name": "ipython",
    "version": 3
   },
   "file_extension": ".py",
   "mimetype": "text/x-python",
   "name": "python",
   "nbconvert_exporter": "python",
   "pygments_lexer": "ipython3",
   "version": "3.11.9"
  }
 },
 "nbformat": 4,
 "nbformat_minor": 2
}
