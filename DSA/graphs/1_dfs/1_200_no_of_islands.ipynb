{
 "cells": [
  {
   "cell_type": "markdown",
   "id": "d4a9b261",
   "metadata": {},
   "source": [
    "#### 200. Number of Islands\n",
    "\n",
    "* https://leetcode.com/problems/number-of-islands/description/\n",
    "\n",
    "#### ['Goldman Sachs', 'Barclays', 'Morgan Stanley', 'Intuit', 'Palantir Technologies', 'BlackRock', 'Booking.com']"
   ]
  },
  {
   "cell_type": "code",
   "execution_count": null,
   "id": "aa65b78a",
   "metadata": {},
   "outputs": [
    {
     "data": {
      "text/plain": [
       "3"
      ]
     },
     "execution_count": 5,
     "metadata": {},
     "output_type": "execute_result"
    }
   ],
   "source": [
    "# dfs solution\n",
    "# https://www.youtube.com/watch?v=gCswsDauXPc\n",
    "\n",
    "def num_islands(grid):\n",
    "    m, n = len(grid), len(grid[0])\n",
    "    islands = 0\n",
    "\n",
    "    # covert all adjacent 1s to 0s\n",
    "    def dfs(r, c):\n",
    "        if 0<=r<m and 0<=c<n and grid[r][c]=='1':\n",
    "            grid[r][c] = '0'\n",
    "            dfs(r-1, c) # up\n",
    "            dfs(r+1, c) # down\n",
    "            dfs(r, c-1) # left\n",
    "            dfs(r, c+1) # right\n",
    "\n",
    "    for r in range(m):\n",
    "        for c in range(n):\n",
    "            if grid[r][c] == '1':\n",
    "                islands += 1\n",
    "                dfs(r,c)\n",
    "\n",
    "    return islands\n",
    "\n",
    "\n",
    "num_islands([\n",
    "  [\"1\",\"1\",\"0\",\"0\",\"0\"],\n",
    "  [\"1\",\"1\",\"0\",\"0\",\"0\"],\n",
    "  [\"0\",\"0\",\"1\",\"0\",\"0\"],\n",
    "  [\"0\",\"0\",\"0\",\"1\",\"1\"]\n",
    "])"
   ]
  },
  {
   "cell_type": "code",
   "execution_count": null,
   "id": "e3eed930",
   "metadata": {},
   "outputs": [
    {
     "data": {
      "text/plain": [
       "3"
      ]
     },
     "execution_count": 15,
     "metadata": {},
     "output_type": "execute_result"
    }
   ],
   "source": [
    "# BFS\n",
    "# Explanation - https://www.youtube.com/watch?v=pV2kpPD66nE\n",
    "# Code - gpt\n",
    "\n",
    "from collections import deque\n",
    "\n",
    "def num_islands(grid):\n",
    "    if not grid: return 0\n",
    "\n",
    "\n",
    "    m, n = len(grid), len(grid[0])\n",
    "    islands = 0\n",
    "\n",
    "    def bfs(r, c):\n",
    "        q = deque([(r, c)])\n",
    "        grid[r][c] = '0' # mark visited\n",
    "\n",
    "        while q:\n",
    "            x, y = q.popleft()\n",
    "            for dx, dy in [(-1,0), (1,0), (0,-1), (0,1)]:\n",
    "                nx, ny = x+dx, y+dy\n",
    "                if 0<=nx<m and 0<=ny<n and grid[nx][ny]=='1':\n",
    "                    grid[nx][ny] = '0'\n",
    "                    q.append((nx, ny))\n",
    "    \n",
    "    for r in range(m):\n",
    "        for c in range(n):\n",
    "            if grid[r][c] == '1':\n",
    "                bfs(r, c)\n",
    "                islands += 1\n",
    "\n",
    "    return islands\n",
    "\n",
    "num_islands([\n",
    "  [\"1\",\"1\",\"0\",\"0\",\"0\"],\n",
    "  [\"1\",\"1\",\"0\",\"0\",\"0\"],\n",
    "  [\"0\",\"0\",\"1\",\"0\",\"0\"],\n",
    "  [\"0\",\"0\",\"0\",\"1\",\"1\"]\n",
    "])"
   ]
  },
  {
   "cell_type": "code",
   "execution_count": null,
   "id": "b3d5dfa2",
   "metadata": {},
   "outputs": [],
   "source": []
  }
 ],
 "metadata": {
  "kernelspec": {
   "display_name": "Python 3",
   "language": "python",
   "name": "python3"
  },
  "language_info": {
   "codemirror_mode": {
    "name": "ipython",
    "version": 3
   },
   "file_extension": ".py",
   "mimetype": "text/x-python",
   "name": "python",
   "nbconvert_exporter": "python",
   "pygments_lexer": "ipython3",
   "version": "3.11.undefined"
  }
 },
 "nbformat": 4,
 "nbformat_minor": 5
}
