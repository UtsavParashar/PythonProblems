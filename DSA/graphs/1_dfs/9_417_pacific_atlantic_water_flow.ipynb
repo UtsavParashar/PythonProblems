{
 "cells": [
  {
   "cell_type": "markdown",
   "id": "a0614aba",
   "metadata": {},
   "source": [
    "#### 417. Pacific Atlantic Water Flow\n",
    "\n",
    "* https://leetcode.com/problems/pacific-atlantic-water-flow/"
   ]
  },
  {
   "cell_type": "code",
   "execution_count": null,
   "id": "327ff64a",
   "metadata": {},
   "outputs": [
    {
     "name": "stdout",
     "output_type": "stream",
     "text": [
      "[(0, 0), (1, 0), (2, 0), (3, 0), (4, 0), (0, 0), (0, 1), (0, 2), (0, 3), (0, 4)]\n",
      "[(0, 4), (1, 4), (2, 4), (3, 4), (4, 4), (4, 0), (4, 1), (4, 2), (4, 3), (4, 4)]\n"
     ]
    },
    {
     "data": {
      "text/plain": [
       "[(4, 0), (0, 4), (3, 1), (1, 4), (3, 0), (2, 2), (1, 3)]"
      ]
     },
     "execution_count": 6,
     "metadata": {},
     "output_type": "execute_result"
    }
   ],
   "source": [
    "# decent explanation - https://www.youtube.com/watch?v=pDvvDvgHUKE\n",
    "\n",
    "from collections import deque\n",
    "def pacificAtlantic(heights):\n",
    "    rows, cols = len(heights), len(heights[0])\n",
    "\n",
    "    def bfs(starts, reachable):\n",
    "        q = deque(starts)\n",
    "\n",
    "        while q:\n",
    "            r, c = q.popleft()\n",
    "\n",
    "            if (r,c) in reachable:\n",
    "                continue\n",
    "\n",
    "            reachable.add((r,c))\n",
    "\n",
    "            for ar, ac in [(-1, 0), (1, 0), (0, -1), (0, 1)]: # ar, ac - adjacent row, adjacent col\n",
    "                nr, nc = r+ar, c+ac # nr, nc - new row, new col\n",
    "\n",
    "                if 0<=nr<rows and 0<=nc<cols and heights[nr][nc] >= heights[r][c]: \n",
    "                    q.append((nr, nc))\n",
    "\n",
    "    pacific_starts = [(r, 0) for r in range(rows)] + [(0, c) for c in range(cols)]\n",
    "    print(pacific_starts)\n",
    "    pacific_reachable = set()\n",
    "    bfs(pacific_starts, pacific_reachable)\n",
    "\n",
    "    atlantic_starts = [(r, cols-1) for r in range(rows)] + [(rows-1, c) for c in range(cols)]\n",
    "    print(atlantic_starts)\n",
    "    atlantic_reachable = set()\n",
    "    bfs(atlantic_starts, atlantic_reachable)\n",
    "\n",
    "    return list(pacific_reachable & atlantic_reachable) # pacific_reachable.intersection(atlantic_reachable)\n",
    "\n",
    "\n",
    "pacificAtlantic([[1,2,2,3,5],[3,2,3,4,4],[2,4,5,3,1],[6,7,1,4,5],[5,1,1,2,4]])"
   ]
  },
  {
   "cell_type": "code",
   "execution_count": null,
   "id": "249d4e87",
   "metadata": {},
   "outputs": [],
   "source": []
  }
 ],
 "metadata": {
  "kernelspec": {
   "display_name": "Python 3",
   "language": "python",
   "name": "python3"
  },
  "language_info": {
   "codemirror_mode": {
    "name": "ipython",
    "version": 3
   },
   "file_extension": ".py",
   "mimetype": "text/x-python",
   "name": "python",
   "nbconvert_exporter": "python",
   "pygments_lexer": "ipython3",
   "version": "3.11.9"
  }
 },
 "nbformat": 4,
 "nbformat_minor": 5
}
