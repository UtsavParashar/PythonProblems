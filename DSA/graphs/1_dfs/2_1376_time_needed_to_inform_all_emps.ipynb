{
 "cells": [
  {
   "cell_type": "markdown",
   "id": "096b93fc",
   "metadata": {},
   "source": [
    "#### 1376. Time Needed to Inform All Employees\n",
    "\n",
    "* https://leetcode.com/problems/time-needed-to-inform-all-employees/description/ "
   ]
  },
  {
   "cell_type": "code",
   "execution_count": null,
   "id": "6ade36c5",
   "metadata": {},
   "outputs": [
    {
     "data": {
      "text/plain": [
       "1"
      ]
     },
     "execution_count": 5,
     "metadata": {},
     "output_type": "execute_result"
    }
   ],
   "source": [
    "### dfs - gpt\n",
    "\n",
    "# Logic - in default dict store manager -> [list of subordinates] except for head\n",
    "# return inform time per manager + max inform time from all manager at the same level\n",
    "\n",
    "from collections import defaultdict\n",
    "\n",
    "def no_of_minutes(n, head_id, manager, inform_time):\n",
    "    tree = defaultdict(list)\n",
    "\n",
    "    for emp, mgr in enumerate(manager):\n",
    "        if mgr != -1:\n",
    "            tree[mgr].append(emp)\n",
    "\n",
    "    def dfs(mgr):\n",
    "        if not tree[mgr]:\n",
    "            return 0\n",
    "        return inform_time[mgr] + max((dfs(sub)for sub in tree[mgr]))\n",
    "\n",
    "    return dfs(head_id)\n",
    "\n",
    "\n",
    "\n",
    "no_of_minutes( n = 6, head_id = 2, manager = [2,2,-1,2,2,2], inform_time = [0,0,1,0,0,0])"
   ]
  },
  {
   "cell_type": "code",
   "execution_count": 8,
   "id": "5465041a",
   "metadata": {},
   "outputs": [
    {
     "data": {
      "text/plain": [
       "1"
      ]
     },
     "execution_count": 8,
     "metadata": {},
     "output_type": "execute_result"
    }
   ],
   "source": [
    "### bfs\n",
    "\n",
    "from collections import defaultdict, deque\n",
    "\n",
    "def no_of_minutes(n, head_id, manager, inform_time):\n",
    "    tree = defaultdict(list)\n",
    "\n",
    "    for emp, mgr in enumerate(manager):\n",
    "        if mgr != -1:\n",
    "            tree[mgr].append(emp)\n",
    "\n",
    "    \n",
    "    q = deque([(head_id, 0)])\n",
    "    max_time = 0\n",
    "\n",
    "    while q:\n",
    "        mgr, time_so_far = q.popleft()\n",
    "        max_time = max(max_time, time_so_far)\n",
    "\n",
    "        for sub in tree[mgr]:\n",
    "            q.append((sub, inform_time[mgr]+time_so_far))\n",
    "\n",
    "    return max_time\n",
    "\n",
    "\n",
    "no_of_minutes( n = 6, head_id = 2, manager = [2,2,-1,2,2,2], inform_time = [0,0,1,0,0,0])"
   ]
  },
  {
   "cell_type": "code",
   "execution_count": null,
   "id": "cafda8c0",
   "metadata": {},
   "outputs": [],
   "source": []
  }
 ],
 "metadata": {
  "kernelspec": {
   "display_name": "Python 3",
   "language": "python",
   "name": "python3"
  },
  "language_info": {
   "codemirror_mode": {
    "name": "ipython",
    "version": 3
   },
   "file_extension": ".py",
   "mimetype": "text/x-python",
   "name": "python",
   "nbconvert_exporter": "python",
   "pygments_lexer": "ipython3",
   "version": "3.11.9"
  }
 },
 "nbformat": 4,
 "nbformat_minor": 5
}
