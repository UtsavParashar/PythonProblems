{
 "cells": [
  {
   "cell_type": "markdown",
   "id": "3d37e509",
   "metadata": {},
   "source": [
    "### 785. Is Graph Bipartite?\n",
    "\n",
    "https://leetcode.com/problems/is-graph-bipartite/"
   ]
  },
  {
   "cell_type": "code",
   "execution_count": null,
   "id": "c5ae70c6",
   "metadata": {},
   "outputs": [
    {
     "data": {
      "text/plain": [
       "True"
      ]
     },
     "execution_count": 3,
     "metadata": {},
     "output_type": "execute_result"
    }
   ],
   "source": [
    "from collections import deque\n",
    "\n",
    "def is_bipartite(graph):\n",
    "    n = len(graph)\n",
    "    colors = [-1]*n\n",
    "\n",
    "    for i in range(n): # this loop is required if multiple graphs are not connected\n",
    "        if colors[i] == -1:\n",
    "            colors[i] = 0\n",
    "\n",
    "            q = deque([i])\n",
    "\n",
    "            while q:\n",
    "                node = q.popleft()\n",
    "                for nei in graph[node]:\n",
    "                    if colors[nei] == -1:\n",
    "                        colors[nei] = 1-colors[node]\n",
    "                        q.append(nei)\n",
    "                    elif colors[nei] == colors[node]: # if node and its neighbour has same value that means they are adjacent \n",
    "                        return False\n",
    "    return True\n",
    "\n",
    "is_bipartite([[1,2,3],[0,2],[0,1,3],[0,2]]) # negative case\n",
    "is_bipartite([[1,3],[0,2],[1,3],[0,2]]) # positive case\n",
    "is_bipartite([[1],[0],[3],[2]]) # two unconnected graphs\n",
    "            "
   ]
  },
  {
   "cell_type": "markdown",
   "id": "c793b9b0",
   "metadata": {},
   "source": [
    "#### Code explanation\n",
    "\n",
    "📌 Why is the outer loop needed?\n",
    "The DFS function only explores nodes connected to the starting node. If the graph has other unvisited nodes not connected to that component, we’ll miss them without the outer loop.\n",
    "\n",
    "So the outer loop ensures that we:\n",
    "\n",
    "Start a DFS for every unvisited node, and\n",
    "\n",
    "Check each component of the graph.\n",
    "\n",
    "🧠 Think of this graph:\n",
    "yaml\n",
    "Copy\n",
    "Edit\n",
    "Component 1:  0 — 1\n",
    "\n",
    "Component 2:  2 — 3\n",
    "Adjacency list:\n",
    "\n",
    "python\n",
    "Copy\n",
    "Edit\n",
    "graph = [[1], [0], [3], [2]]\n",
    "If you only call:\n",
    "\n",
    "python\n",
    "Copy\n",
    "Edit\n",
    "dfs(0, 0)\n",
    "Then nodes 0 and 1 will be colored, but 2 and 3 will be completely ignored unless you loop through all i in range(n).\n",
    "\n",
    "✅ So the outer loop does this:\n",
    "python\n",
    "Copy\n",
    "Edit\n",
    "for i in range(n):\n",
    "    if color[i] == -1:\n",
    "        if not dfs(i, 0):\n",
    "            return False\n",
    "It makes sure:\n",
    "\n",
    "We start a DFS from every unvisited node.\n",
    "\n",
    "We cover all components of the graph.\n",
    "\n",
    "We return False as soon as we find any component that is not bipartite.\n",
    "\n",
    "🔁 Summary:\n",
    "Without for i in range(n)\tWith for i in range(n)\n",
    "Only one connected part is checked\tAll disconnected components are checked\n",
    "May return incorrect result\tReturns correct result for full graph"
   ]
  },
  {
   "cell_type": "markdown",
   "id": "07d571f3",
   "metadata": {},
   "source": [
    "📘 What is meant by adjacent nodes?\n",
    "In a graph, adjacent nodes (or neighbors) are nodes that are directly connected by an edge.\n",
    "\n",
    "For example, if you have this graph:\n",
    "\n",
    "lua\n",
    "Copy\n",
    "Edit\n",
    "0 --- 1\n",
    "|     |\n",
    "3 --- 2\n",
    "Node 0 is adjacent to nodes 1 and 3.\n",
    "\n",
    "Node 1 is adjacent to nodes 0 and 2.\n",
    "\n",
    "Node 2 is adjacent to nodes 1 and 3.\n",
    "\n",
    "Node 3 is adjacent to nodes 0 and 2.\n",
    "\n",
    "In code, if the graph is represented as:\n",
    "\n",
    "python\n",
    "Copy\n",
    "Edit\n",
    "graph = [[1, 3], [0, 2], [1, 3], [0, 2]]\n",
    "Then:\n",
    "\n",
    "graph[0] = [1, 3] → means node 0 is adjacent to nodes 1 and 3.\n",
    "\n",
    "✅ Problem Goal (Is Graph Bipartite?)\n",
    "A graph is bipartite if you can color all its nodes using two colors (say, 0 and 1) in such a way that no two adjacent nodes have the same color.\n",
    "\n",
    "This is like dividing the nodes into two groups where every edge only connects a node from one group to a node from the other group."
   ]
  },
  {
   "cell_type": "markdown",
   "id": "3b9838a5",
   "metadata": {},
   "source": []
  }
 ],
 "metadata": {
  "kernelspec": {
   "display_name": "Python 3",
   "language": "python",
   "name": "python3"
  },
  "language_info": {
   "codemirror_mode": {
    "name": "ipython",
    "version": 3
   },
   "file_extension": ".py",
   "mimetype": "text/x-python",
   "name": "python",
   "nbconvert_exporter": "python",
   "pygments_lexer": "ipython3",
   "version": "3.11.9"
  }
 },
 "nbformat": 4,
 "nbformat_minor": 5
}
