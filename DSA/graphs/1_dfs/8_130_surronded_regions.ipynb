{
 "cells": [
  {
   "cell_type": "markdown",
   "id": "b9ecbf6c",
   "metadata": {},
   "source": [
    "### 130. Surrounded Regions\n",
    "\n",
    "* https://leetcode.com/problems/surrounded-regions/description/"
   ]
  },
  {
   "cell_type": "code",
   "execution_count": null,
   "id": "1496a37c",
   "metadata": {},
   "outputs": [
    {
     "name": "stdout",
     "output_type": "stream",
     "text": [
      "[['X', 'X', 'X', 'X'], ['X', 'T', 'T', 'X'], ['X', 'T', 'T', 'X'], ['X', 'T', 'X', 'X']]\n",
      "[['X', 'X', 'X', 'X'], ['X', 'O', 'O', 'X'], ['X', 'O', 'O', 'X'], ['X', 'O', 'X', 'X']]\n"
     ]
    }
   ],
   "source": [
    "# Credit - https://www.youtube.com/watch?v=9z2BunfoZ5Y\n",
    "\n",
    "def solve(board) -> None:\n",
    "    \"\"\"\n",
    "    Do not return anything, modify board in-place instead.\n",
    "    \"\"\"\n",
    "    if not board or not board[0]:\n",
    "        return\n",
    "\n",
    "    rows, cols = len(board), len(board[0])\n",
    "\n",
    "    # Step 1 - Use DFS to mark 'O's connected to the border as 'T'\n",
    "    def dfs(r, c):\n",
    "        if r < 0 or r >= rows or c < 0 or c >= cols or board[r][c] != 'O':\n",
    "            return\n",
    "        board[r][c] = 'T'\n",
    "        dfs(r+1, c)\n",
    "        dfs(r-1, c)\n",
    "        dfs(r, c+1)\n",
    "        dfs(r, c-1)\n",
    "\n",
    "    # Mark border 'O's and their connected 'O's\n",
    "    for r in range(rows):\n",
    "        for c in range(cols):\n",
    "            if (r in [0, rows-1] or c in [0, cols-1]) and board[r][c] == 'O':\n",
    "                dfs(r, c)\n",
    "    print(board)\n",
    "    # Step 2 - Flip all remaining 'O's to 'X', and 'T's back to 'O'\n",
    "    for r in range(rows):\n",
    "        for c in range(cols):\n",
    "            if board[r][c] == 'O':\n",
    "                board[r][c] = 'X'\n",
    "            elif board[r][c] == 'T':\n",
    "                board[r][c] = 'O'\n",
    "\n",
    "    print(board)\n",
    "\n",
    "solve([[\"X\",\"X\",\"X\",\"X\"],[\"X\",\"O\",\"O\",\"X\"],[\"X\",\"O\",\"O\",\"X\"],[\"X\",\"O\",\"X\",\"X\"]])"
   ]
  },
  {
   "cell_type": "code",
   "execution_count": null,
   "id": "ee5b6d55",
   "metadata": {},
   "outputs": [],
   "source": []
  }
 ],
 "metadata": {
  "kernelspec": {
   "display_name": "Python 3",
   "language": "python",
   "name": "python3"
  },
  "language_info": {
   "codemirror_mode": {
    "name": "ipython",
    "version": 3
   },
   "file_extension": ".py",
   "mimetype": "text/x-python",
   "name": "python",
   "nbconvert_exporter": "python",
   "pygments_lexer": "ipython3",
   "version": "3.11.9"
  }
 },
 "nbformat": 4,
 "nbformat_minor": 5
}
