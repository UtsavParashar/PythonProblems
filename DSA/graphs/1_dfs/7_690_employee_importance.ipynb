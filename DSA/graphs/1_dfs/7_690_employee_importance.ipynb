{
 "cells": [
  {
   "cell_type": "markdown",
   "id": "a116a4ec",
   "metadata": {},
   "source": [
    "#### 690. Employee Importance\n",
    "\n",
    "* https://leetcode.com/problems/employee-importance/description/"
   ]
  },
  {
   "cell_type": "code",
   "execution_count": null,
   "id": "43f97b57",
   "metadata": {},
   "outputs": [],
   "source": [
    "# BFS\n",
    "class Employee:\n",
    "    def __init__(self, id: int, importance: int, subordinates):\n",
    "        self.id = id\n",
    "        self.importance = importance\n",
    "        self.subordinates = subordinates\n",
    "\n",
    "from collections import deque\n",
    "class Solution:\n",
    "    def getImportance(self, employees, id):\n",
    "        emp_map = {emp.id: emp for emp in employees}\n",
    "\n",
    "        q = deque([id])\n",
    "        res = 0\n",
    "        while q:\n",
    "            curr_id = q.popleft()\n",
    "            emp = emp_map[curr_id]\n",
    "            res += emp.importance\n",
    "            q.extend(emp.subordinates)\n",
    "\n",
    "        return res"
   ]
  },
  {
   "cell_type": "code",
   "execution_count": null,
   "id": "5628d651",
   "metadata": {},
   "outputs": [],
   "source": [
    "class Employee:\n",
    "    def __init__(self, id: int, importance: int, subordinates):\n",
    "        self.id = id\n",
    "        self.importance = importance\n",
    "        self.subordinates = subordinates\n",
    "\n",
    "from collections import deque\n",
    "class Solution:\n",
    "    def getImportance(self, employees, id):\n",
    "        emp_map = {emp.id: emp for emp in employees}\n",
    "\n",
    "        def dfs(eid):\n",
    "            emp = emp_map[eid]\n",
    "            return emp.importance + sum(dfs(subid) for subid in emp.subordinates)\n",
    "        \n",
    "        return dfs(id)\n"
   ]
  },
  {
   "cell_type": "code",
   "execution_count": null,
   "id": "f633d780",
   "metadata": {},
   "outputs": [
    {
     "name": "stdout",
     "output_type": "stream",
     "text": [
      "{1: 0, 5: 1}\n"
     ]
    },
    {
     "data": {
      "text/plain": [
       "-3"
      ]
     },
     "execution_count": 5,
     "metadata": {},
     "output_type": "execute_result"
    }
   ],
   "source": [
    "class Employee:\n",
    "    def __init__(self, id: int, importance: int, subordinates):\n",
    "        self.id = id\n",
    "        self.importance = importance\n",
    "        self.subordinates = subordinates\n",
    "\n",
    "from collections import deque\n",
    "class Solution:\n",
    "    def getImportance(self, employees, id):\n",
    "        id_index = {}\n",
    "        for idx, emp in enumerate(employees):\n",
    "            id_index[emp.id] = idx\n",
    "\n",
    "        q = deque([employees[id_index[id]]])\n",
    "        res = 0\n",
    "        while q:\n",
    "            emp_obj = q.popleft()\n",
    "            res += emp_obj.importance\n",
    "\n",
    "            for s in emp_obj.subordinates:\n",
    "                q.append(employees[id_index[s]])\n",
    "        \n",
    "        return res\n"
   ]
  },
  {
   "cell_type": "code",
   "execution_count": null,
   "id": "3f937a72",
   "metadata": {},
   "outputs": [],
   "source": []
  }
 ],
 "metadata": {
  "kernelspec": {
   "display_name": "Python 3",
   "language": "python",
   "name": "python3"
  },
  "language_info": {
   "codemirror_mode": {
    "name": "ipython",
    "version": 3
   },
   "file_extension": ".py",
   "mimetype": "text/x-python",
   "name": "python",
   "nbconvert_exporter": "python",
   "pygments_lexer": "ipython3",
   "version": "3.11.9"
  }
 },
 "nbformat": 4,
 "nbformat_minor": 5
}
