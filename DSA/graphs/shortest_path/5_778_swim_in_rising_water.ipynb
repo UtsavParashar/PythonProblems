{
 "cells": [
  {
   "cell_type": "markdown",
   "id": "ba6d7f64",
   "metadata": {},
   "source": [
    "#### 778. Swim in Rising Water\n",
    "\n",
    "* https://leetcode.com/problems/swim-in-rising-water/description/"
   ]
  },
  {
   "cell_type": "code",
   "execution_count": null,
   "id": "2332f1cf",
   "metadata": {},
   "outputs": [
    {
     "data": {
      "text/plain": [
       "16"
      ]
     },
     "execution_count": 2,
     "metadata": {},
     "output_type": "execute_result"
    }
   ],
   "source": [
    "# ref - https://www.youtube.com/watch?v=amvrKlMLuGY\n",
    "\n",
    "import heapq\n",
    "\n",
    "class Solution:\n",
    "    def swimInWater(self, grid) -> int:\n",
    "        n = len(grid)\n",
    "        visited = set()\n",
    "\n",
    "        minheap = [(grid[0][0], 0, 0)] # max_height/time, r, c\n",
    "        directions = ((-1,0),(1,0),(0,-1),(0,1))\n",
    "\n",
    "        while minheap:\n",
    "            t, r, c = heapq.heappop(minheap)\n",
    "\n",
    "            if r == n-1 and c == n-1:\n",
    "                return t\n",
    "\n",
    "            if (r, c) in visited:\n",
    "                continue\n",
    "\n",
    "            visited.add((r, c))\n",
    "\n",
    "            for dr, dc in directions:\n",
    "                nr, nc = dr+r, dc+c\n",
    "                if 0<=nr<n and 0<=nc<n and (nr, nc) not in visited:\n",
    "                    heapq.heappush(minheap, (max(t, grid[nr][nc]),nr, nc))\n",
    "\n",
    "Solution().swimInWater([[0,1,2,3,4],[24,23,22,21,5],[12,13,14,15,16],[11,17,18,19,20],[10,9,8,7,6]])"
   ]
  },
  {
   "cell_type": "code",
   "execution_count": null,
   "id": "4ea3d261",
   "metadata": {},
   "outputs": [],
   "source": []
  }
 ],
 "metadata": {
  "kernelspec": {
   "display_name": "Python 3",
   "language": "python",
   "name": "python3"
  },
  "language_info": {
   "codemirror_mode": {
    "name": "ipython",
    "version": 3
   },
   "file_extension": ".py",
   "mimetype": "text/x-python",
   "name": "python",
   "nbconvert_exporter": "python",
   "pygments_lexer": "ipython3",
   "version": "3.11.9"
  }
 },
 "nbformat": 4,
 "nbformat_minor": 5
}
