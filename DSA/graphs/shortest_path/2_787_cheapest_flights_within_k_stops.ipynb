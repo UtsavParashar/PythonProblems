{
 "cells": [
  {
   "cell_type": "markdown",
   "id": "070d91a9",
   "metadata": {},
   "source": [
    "### 787. Cheapest Flights Within K Stops\n",
    "\n",
    "* https://leetcode.com/problems/cheapest-flights-within-k-stops/"
   ]
  },
  {
   "cell_type": "code",
   "execution_count": null,
   "id": "d87862d8",
   "metadata": {},
   "outputs": [
    {
     "name": "stdout",
     "output_type": "stream",
     "text": [
      "defaultdict(<class 'list'>, {0: [(1, 100)], 1: [(2, 100), (3, 600)], 2: [(0, 100), (3, 200)]})\n"
     ]
    },
    {
     "data": {
      "text/plain": [
       "700"
      ]
     },
     "execution_count": 3,
     "metadata": {},
     "output_type": "execute_result"
    }
   ],
   "source": [
    "# Djikshtra's algo\n",
    "\n",
    "import heapq\n",
    "from collections import defaultdict\n",
    "\n",
    "class Solution:\n",
    "    def findCheapestPrice(self, n: int, flights, src, dst, k) -> int:\n",
    "        graph = defaultdict(list)\n",
    "        for u, v, w in flights:\n",
    "            graph[u].append((v, w))\n",
    "\n",
    "        print(graph)\n",
    "        visited = dict() # (nei, stops): price\n",
    "\n",
    "        minheap = [(0, src, 0)] # total_cost, src, stops_so_far\n",
    "\n",
    "        while minheap:\n",
    "            cost, node, stops = heapq.heappop(minheap)\n",
    "\n",
    "            if node == dst:\n",
    "                return cost\n",
    "\n",
    "            if stops > k: # try another path\n",
    "                continue\n",
    "\n",
    "            for nei, price in graph[node]:\n",
    "                curr_px = cost + price\n",
    "                if (nei, stops+1) not in visited or curr_px < visited[(nei, stops+1)]:\n",
    "                    visited[(nei, stops+1)] = curr_px\n",
    "                    heapq.heappush(minheap, (curr_px, nei, stops+1))\n",
    "\n",
    "        return -1\n",
    "\n",
    "Solution().findCheapestPrice(n = 4, flights = [[0,1,100],[1,2,100],[2,0,100],[1,3,600],[2,3,200]], src = 0, dst = 3, k = 1)"
   ]
  },
  {
   "cell_type": "code",
   "execution_count": 6,
   "id": "cfb570ef",
   "metadata": {},
   "outputs": [
    {
     "data": {
      "text/plain": [
       "700"
      ]
     },
     "execution_count": 6,
     "metadata": {},
     "output_type": "execute_result"
    }
   ],
   "source": [
    "# Ref - https://www.youtube.com/watch?v=5eIK3zUdYmE - Explanation is distastrous\n",
    "# Bellman-Ford Algo\n",
    "\n",
    "class Solution:\n",
    "    def findCheapestPrice(self, n: int, flights, src, dst, k) -> int:\n",
    "        INF = float('inf')\n",
    "        prices = [INF]*n\n",
    "        prices[src] = 0\n",
    "\n",
    "        for _ in range(k+1):\n",
    "            tmp = prices.copy()\n",
    "            for u, v, cost in flights:\n",
    "                if prices[u] == INF:\n",
    "                    continue\n",
    "                if prices[u]+cost < tmp[v]:\n",
    "                    tmp[v]= prices[u]+cost\n",
    "            prices = tmp\n",
    "\n",
    "        return -1 if prices[dst]==INF else prices[dst]\n",
    "\n",
    "\n",
    "Solution().findCheapestPrice(n = 4, flights = [[0,1,100],[1,2,100],[2,0,100],[1,3,600],[2,3,200]], src = 0, dst = 3, k = 1)"
   ]
  },
  {
   "cell_type": "code",
   "execution_count": null,
   "id": "748e5953",
   "metadata": {},
   "outputs": [],
   "source": []
  }
 ],
 "metadata": {
  "kernelspec": {
   "display_name": "Python 3",
   "language": "python",
   "name": "python3"
  },
  "language_info": {
   "codemirror_mode": {
    "name": "ipython",
    "version": 3
   },
   "file_extension": ".py",
   "mimetype": "text/x-python",
   "name": "python",
   "nbconvert_exporter": "python",
   "pygments_lexer": "ipython3",
   "version": "3.11.9"
  }
 },
 "nbformat": 4,
 "nbformat_minor": 5
}
