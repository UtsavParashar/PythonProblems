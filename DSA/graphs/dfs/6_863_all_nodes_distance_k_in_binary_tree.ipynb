{
 "cells": [
  {
   "cell_type": "markdown",
   "id": "7b0d6867",
   "metadata": {},
   "source": [
    "#### 863. All Nodes Distance k in Binary Tree\n",
    "\n",
    "* https://leetcode.com/problems/all-nodes-distance-k-in-binary-tree/description/"
   ]
  },
  {
   "cell_type": "code",
   "execution_count": null,
   "id": "4b3ddd6f",
   "metadata": {},
   "outputs": [],
   "source": [
    "# Ref - https://www.youtube.com/watch?v=LQh2g3ygCVU\n",
    "\n",
    "# Logic - 2 step process\n",
    "# 1. Convert the tree to undirected graph using a dict, node as key and all its adjacent nodes as value\n",
    "# 2. Find the nodes at distance k from the target node\n",
    "\n",
    "class TreeNode:\n",
    "    def __init__(self, x):\n",
    "        self.val = x\n",
    "        self.left = None\n",
    "        self.right = None\n",
    "\n",
    "from collections import defaultdict, deque\n",
    "class Solution:\n",
    "    def distanceK(self, root: TreeNode, target: TreeNode, k: int) -> list[int]:\n",
    "        # 1. Convert the tree to undirected graph using a dict, node as key and all its adjacent nodes as value\n",
    "        graph = defaultdict(list)\n",
    "\n",
    "        def graph_builder(node, parent=None):\n",
    "            if not node: return\n",
    "\n",
    "            if parent:\n",
    "                graph[node].append(parent)\n",
    "                graph[parent].append(node)\n",
    "\n",
    "            graph_builder(node.left, node)\n",
    "            graph_builder(node.right, node)\n",
    "\n",
    "        graph_builder(root)\n",
    "\n",
    "        # 2. Find the nodes at distance k from the target node\n",
    "        q = deque([(target, 0)]) #start from target and distance=0\n",
    "        res = []\n",
    "        visited = set()\n",
    "        while q:\n",
    "            node, distance = q.popleft()\n",
    "            if node in visited:\n",
    "                continue\n",
    "\n",
    "            visited.add(node)\n",
    "\n",
    "            if distance == k:\n",
    "                res.append(node.val)\n",
    "            \n",
    "            elif distance < k:\n",
    "                for nei in graph[node]:\n",
    "                    q.append((nei, distance+1))\n",
    "\n",
    "        return res\n",
    "\n"
   ]
  },
  {
   "cell_type": "markdown",
   "id": "d7067b3a",
   "metadata": {},
   "source": [
    "🧩 Explanation:\n",
    "Step 1: Build a graph\n",
    "We create a graph where each node has edges to its children and to its parent.\n",
    "This turns the binary tree into an undirected graph, which allows us to move \"upward\" too.\n",
    "\n",
    "Step 2: BFS from target\n",
    "We perform a BFS from the target node:\n",
    "\n",
    "Track visited nodes to avoid cycles.\n",
    "\n",
    "Keep adding neighbors (left, right, parent).\n",
    "\n",
    "Once distance == K, collect node values.\n",
    "\n",
    "📦 Time and Space Complexity:\n",
    "Time: O(N) — Each node is visited once during graph construction and BFS.\n",
    "\n",
    "Space: O(N) — For the graph and queue.\n",
    "\n"
   ]
  },
  {
   "cell_type": "code",
   "execution_count": null,
   "id": "a7deb624",
   "metadata": {},
   "outputs": [],
   "source": []
  }
 ],
 "metadata": {
  "kernelspec": {
   "display_name": "Python 3",
   "language": "python",
   "name": "python3"
  },
  "language_info": {
   "name": "python",
   "version": "3.11.9"
  }
 },
 "nbformat": 4,
 "nbformat_minor": 5
}
