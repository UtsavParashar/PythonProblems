{
 "cells": [
  {
   "cell_type": "markdown",
   "id": "1ad6d7f9",
   "metadata": {},
   "source": [
    "#### 827. Making a Large Island\n",
    "\n",
    "* https://leetcode.com/problems/making-a-large-island/description/"
   ]
  },
  {
   "cell_type": "code",
   "execution_count": 1,
   "id": "0ceb41d4",
   "metadata": {},
   "outputs": [
    {
     "data": {
      "text/plain": [
       "3"
      ]
     },
     "execution_count": 1,
     "metadata": {},
     "output_type": "execute_result"
    }
   ],
   "source": [
    "from collections import defaultdict\n",
    "\n",
    "def largest_island(grid):\n",
    "    n = len(grid)\n",
    "    island_id = 2\n",
    "    area = defaultdict(int)\n",
    "\n",
    "    # Step 1. Mark the islands from 2 to n using dfs\n",
    "    def dfs(r, c, id):\n",
    "        if r<0 or r>=n or c<0 or c>=n or grid[r][c]!=1:\n",
    "            return 0\n",
    "        grid[r][c] = id\n",
    "        return 1 + sum(dfs(r+dr, c+dc, id) for dr, dc in [(-1,0),(1,0),(0,-1),(0,1)])\n",
    "\n",
    "    for r in range(n):\n",
    "        for c in range(n):\n",
    "            area[island_id] = dfs(r, c, island_id)\n",
    "            island_id += 1\n",
    "\n",
    "    # Try converting each 0 to 1 and calculate the area\n",
    "    max_area = max(area.values(), default=0)\n",
    "    for r in range(n):\n",
    "        for c in range(n):\n",
    "            if grid[r][c] == 0:\n",
    "                seen = set()\n",
    "                total = 1 # start with 1 for the converted call\n",
    "                for dr, dc in [(-1,0),(1,0),(0,-1),(0,1)]:\n",
    "                    nr, nc = r+dr, c+dc\n",
    "                    if 0 <= nr < n and 0 <= nc < n and grid[nr][nc] > 1:\n",
    "                        seen.add(grid[nr][nc])\n",
    "\n",
    "                total += sum(area[id] for id in seen)\n",
    "                max_area = max(max_area, total)\n",
    "\n",
    "    return max_area if max_area > 0 else n*n #All 1's case  \n",
    "\n",
    "largest_island([[1,0],[0,1]])"
   ]
  },
  {
   "cell_type": "code",
   "execution_count": null,
   "id": "89e089a9",
   "metadata": {},
   "outputs": [],
   "source": []
  }
 ],
 "metadata": {
  "kernelspec": {
   "display_name": "Python 3",
   "language": "python",
   "name": "python3"
  },
  "language_info": {
   "codemirror_mode": {
    "name": "ipython",
    "version": 3
   },
   "file_extension": ".py",
   "mimetype": "text/x-python",
   "name": "python",
   "nbconvert_exporter": "python",
   "pygments_lexer": "ipython3",
   "version": "3.11.9"
  }
 },
 "nbformat": 4,
 "nbformat_minor": 5
}
