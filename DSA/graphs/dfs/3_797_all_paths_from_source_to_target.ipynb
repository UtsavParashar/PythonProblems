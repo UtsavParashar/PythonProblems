{
 "cells": [
  {
   "cell_type": "markdown",
   "id": "87ed331a",
   "metadata": {},
   "source": [
    "#### 797 All Paths From Source to Target\n",
    "\n",
    "* https://leetcode.com/problems/all-paths-from-source-to-target/description/"
   ]
  },
  {
   "cell_type": "code",
   "execution_count": null,
   "id": "bb766d8d",
   "metadata": {},
   "outputs": [],
   "source": [
    "def allPathsSourceTarget(graph: list[list[int]]) -> list[list[int]]:\n",
    "    res = []\n",
    "\n",
    "    def dfs(path):\n",
    "        node = path[-1]\n",
    "        if node == len(graph) - 1:\n",
    "            res.append(path[:])\n",
    "            return\n",
    "        for nei in graph[node]:\n",
    "            dfs(nei, path + [nei])\n",
    "\n",
    "    dfs([0])\n",
    "    return res"
   ]
  },
  {
   "cell_type": "code",
   "execution_count": 6,
   "id": "7a64ebb5",
   "metadata": {},
   "outputs": [
    {
     "data": {
      "text/plain": [
       "[[0, 4], [0, 3, 4], [0, 1, 4], [0, 1, 3, 4], [0, 1, 2, 3, 4]]"
      ]
     },
     "execution_count": 6,
     "metadata": {},
     "output_type": "execute_result"
    }
   ],
   "source": [
    "# Optimized BFS sol\n",
    "\n",
    "\n",
    "from collections import deque\n",
    "\n",
    "def allPathsSourceTarget(graph: list[list[int]]) -> list[list[int]]:\n",
    "    res = []\n",
    "\n",
    "    q = deque([[0]])\n",
    "    \n",
    "    while q:\n",
    "        vals = q.popleft()\n",
    "\n",
    "        if vals[-1] == len(graph)-1:\n",
    "            res.append(vals)\n",
    "\n",
    "        for nei in graph[vals[-1]]:\n",
    "            q.append(vals + [nei])\n",
    "\n",
    "    return res\n",
    "\n",
    "allPathsSourceTarget([[4,3,1],[3,2,4],[3],[4],[]])"
   ]
  },
  {
   "cell_type": "code",
   "execution_count": null,
   "id": "27ed2d8f",
   "metadata": {},
   "outputs": [],
   "source": []
  }
 ],
 "metadata": {
  "kernelspec": {
   "display_name": "Python 3",
   "language": "python",
   "name": "python3"
  },
  "language_info": {
   "codemirror_mode": {
    "name": "ipython",
    "version": 3
   },
   "file_extension": ".py",
   "mimetype": "text/x-python",
   "name": "python",
   "nbconvert_exporter": "python",
   "pygments_lexer": "ipython3",
   "version": "3.11.9"
  }
 },
 "nbformat": 4,
 "nbformat_minor": 5
}
