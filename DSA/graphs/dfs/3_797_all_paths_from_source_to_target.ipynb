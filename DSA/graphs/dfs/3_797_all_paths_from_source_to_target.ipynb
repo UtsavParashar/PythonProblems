{
 "cells": [
  {
   "cell_type": "markdown",
   "id": "87ed331a",
   "metadata": {},
   "source": [
    "#### 797 All Paths From Source to Target\n",
    "\n",
    "* https://leetcode.com/problems/all-paths-from-source-to-target/description/"
   ]
  },
  {
   "cell_type": "code",
   "execution_count": null,
   "id": "bb766d8d",
   "metadata": {},
   "outputs": [],
   "source": [
    "def allPathsSourceTarget(self, graph: list[list[int]]) -> list[list[int]]:\n",
    "    res = []\n",
    "\n",
    "    def dfs(path):\n",
    "        node = path[-1]\n",
    "        if node == len(graph) - 1:\n",
    "            res.append(path[:])\n",
    "            return\n",
    "        for nei in graph[node]:\n",
    "            dfs(nei, path + [nei])\n",
    "\n",
    "    dfs([0])\n",
    "    return res"
   ]
  },
  {
   "cell_type": "code",
   "execution_count": null,
   "id": "7a64ebb5",
   "metadata": {},
   "outputs": [],
   "source": []
  }
 ],
 "metadata": {
  "kernelspec": {
   "display_name": "Python 3",
   "language": "python",
   "name": "python3"
  },
  "language_info": {
   "name": "python",
   "version": "3.11.9"
  }
 },
 "nbformat": 4,
 "nbformat_minor": 5
}
