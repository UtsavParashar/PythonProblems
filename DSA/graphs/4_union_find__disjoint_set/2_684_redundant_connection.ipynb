{
 "cells": [
  {
   "cell_type": "markdown",
   "id": "5757a3c5",
   "metadata": {},
   "source": [
    "#### 684. Redundant Connection\n",
    "\n",
    "* https://leetcode.com/problems/redundant-connection/description/"
   ]
  },
  {
   "cell_type": "code",
   "execution_count": 5,
   "id": "769077f6",
   "metadata": {},
   "outputs": [
    {
     "name": "stdout",
     "output_type": "stream",
     "text": [
      "[0, 1, 2, 3, 1, 5]\n",
      "[0, 3, 2, 3, 1, 5]\n"
     ]
    },
    {
     "data": {
      "text/plain": [
       "[1, 3]"
      ]
     },
     "execution_count": 5,
     "metadata": {},
     "output_type": "execute_result"
    }
   ],
   "source": [
    "class Solution:\n",
    "    def findRedundantConnection(self, edges):\n",
    "        n = len(edges)\n",
    "        parent = list(range(n+1))\n",
    "\n",
    "        def find(x):\n",
    "            if parent[x] != x:\n",
    "                parent[x] = find(parent[x])\n",
    "            return parent[x]\n",
    "\n",
    "        def union(x, y):\n",
    "            rootX = find(x)\n",
    "            rootY = find(y)\n",
    "\n",
    "            if rootX == rootY:\n",
    "                return False\n",
    "            parent[rootY] = rootX\n",
    "            print(parent)\n",
    "            return True\n",
    "\n",
    "        for u, v in edges:\n",
    "            if not union(u, v):\n",
    "                return [u, v]\n",
    "\n",
    "#Solution().findRedundantConnection(edges = [[1,2],[1,3],[2,3]])\n",
    "Solution().findRedundantConnection([[1,4],[3,4],[1,3],[1,2],[4,5]])"
   ]
  },
  {
   "cell_type": "code",
   "execution_count": null,
   "id": "ef1996b7",
   "metadata": {},
   "outputs": [],
   "source": []
  }
 ],
 "metadata": {
  "kernelspec": {
   "display_name": "Python 3",
   "language": "python",
   "name": "python3"
  },
  "language_info": {
   "codemirror_mode": {
    "name": "ipython",
    "version": 3
   },
   "file_extension": ".py",
   "mimetype": "text/x-python",
   "name": "python",
   "nbconvert_exporter": "python",
   "pygments_lexer": "ipython3",
   "version": "3.11.9"
  }
 },
 "nbformat": 4,
 "nbformat_minor": 5
}
