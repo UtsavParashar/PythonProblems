{
 "cells": [
  {
   "cell_type": "markdown",
   "id": "6a2bda4c",
   "metadata": {},
   "source": [
    "### 547. Number of Provinces\n",
    "\n",
    "* https://leetcode.com/problems/number-of-provinces/description/"
   ]
  },
  {
   "cell_type": "code",
   "execution_count": 3,
   "id": "76dc2b5b",
   "metadata": {},
   "outputs": [
    {
     "data": {
      "text/plain": [
       "2"
      ]
     },
     "execution_count": 3,
     "metadata": {},
     "output_type": "execute_result"
    }
   ],
   "source": [
    "# DFS Solution\n",
    "\n",
    "class Solution:\n",
    "    def findCircleNum(self, isConnected) -> int:\n",
    "        province = 0\n",
    "        seen = set()\n",
    "        n = len(isConnected)\n",
    "        def dfs(r):\n",
    "            seen.add(r)\n",
    "            for c in range(n):\n",
    "                if isConnected[r][c] == 1 and c not in seen:\n",
    "                    dfs(c)\n",
    "            return\n",
    "\n",
    "        for r in range(n):\n",
    "            if r not in seen:\n",
    "                province += 1\n",
    "                dfs(r)\n",
    "\n",
    "        return province\n",
    "\n",
    "\n",
    "Solution().findCircleNum(isConnected = [[1,1,0],[1,1,0],[0,0,1]])"
   ]
  },
  {
   "cell_type": "code",
   "execution_count": null,
   "id": "2f2b711a",
   "metadata": {},
   "outputs": [
    {
     "data": {
      "text/plain": [
       "2"
      ]
     },
     "execution_count": 8,
     "metadata": {},
     "output_type": "execute_result"
    }
   ],
   "source": [
    "# Union Find Solution\n",
    "# but DFS solution is more intuitive\n",
    "\n",
    "class Solution:\n",
    "    def findCircleNum(self, isConnected) -> int:\n",
    "        n = len(isConnected)\n",
    "        parent = list(range(n))\n",
    "\n",
    "        def find(x):\n",
    "            if parent[x] != x:\n",
    "                parent[x] = find(parent[x])\n",
    "            return parent[x]\n",
    "\n",
    "        def union(x, y):\n",
    "            rootX = find(x)\n",
    "            rootY = find(y)\n",
    "\n",
    "            if rootX != rootY:\n",
    "                parent[rootY] = rootX\n",
    "\n",
    "        for r in range(n):\n",
    "            for c in range(r+1, n):\n",
    "                if isConnected[r][c] == 1:\n",
    "                    union(r, c)\n",
    "\n",
    "        return len(set(find(i) for i in parent))\n",
    "    \n",
    "Solution().findCircleNum(isConnected = [[1,1,0],[1,1,0],[0,0,1]])"
   ]
  },
  {
   "cell_type": "code",
   "execution_count": null,
   "id": "00c42534",
   "metadata": {},
   "outputs": [],
   "source": []
  }
 ],
 "metadata": {
  "kernelspec": {
   "display_name": "Python 3",
   "language": "python",
   "name": "python3"
  },
  "language_info": {
   "codemirror_mode": {
    "name": "ipython",
    "version": 3
   },
   "file_extension": ".py",
   "mimetype": "text/x-python",
   "name": "python",
   "nbconvert_exporter": "python",
   "pygments_lexer": "ipython3",
   "version": "3.11.9"
  }
 },
 "nbformat": 4,
 "nbformat_minor": 5
}
