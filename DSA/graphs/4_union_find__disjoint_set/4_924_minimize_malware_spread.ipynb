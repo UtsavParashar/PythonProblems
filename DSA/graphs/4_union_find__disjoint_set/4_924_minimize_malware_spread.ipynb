{
 "cells": [
  {
   "cell_type": "markdown",
   "id": "fe90ef79",
   "metadata": {},
   "source": [
    "#### 924. Minimize Malware Spread\n",
    "\n",
    "* https://leetcode.com/problems/minimize-malware-spread/description/"
   ]
  },
  {
   "cell_type": "code",
   "execution_count": null,
   "id": "956f237d",
   "metadata": {},
   "outputs": [
    {
     "name": "stdout",
     "output_type": "stream",
     "text": [
      "[0, 1, 2]\n",
      "Counter({0: 1, 1: 1, 2: 1})\n",
      "Counter({0: 1, 2: 1})\n",
      "0 0 1\n",
      "2 2 1\n"
     ]
    },
    {
     "data": {
      "text/plain": [
       "0"
      ]
     },
     "execution_count": 9,
     "metadata": {},
     "output_type": "execute_result"
    }
   ],
   "source": [
    "# There could be many disconnected graphs\n",
    "# In each graph assign a parent\n",
    "# if any graph has more than one infected node then leave that graph because removing a node will not help\n",
    "# from all the group of graphs the one which has min initial value of the infected node could be removed\n",
    "\n",
    "# Explaination ref - https://www.youtube.com/watch?v=8__sEBHzC00\n",
    "\n",
    "from collections import Counter\n",
    "\n",
    "class Solution:\n",
    "    def minMalwareSpread(self, graph, initial):\n",
    "        n = len(graph)\n",
    "        parent = list(range(n))\n",
    "\n",
    "        def find(x):\n",
    "            if parent[x] != x:\n",
    "                parent[x] = find(parent[x]) # Path Compression\n",
    "            return parent[x]\n",
    "\n",
    "        def union(x, y):\n",
    "            parent[find(x)] = find(y)\n",
    "\n",
    "        \n",
    "        for i in range(n):\n",
    "            for j in range(i+1, n): # from i+1 because of path compression as the graph in undirected and always connected to itself\n",
    "                if graph[i][j] == 1:\n",
    "                    union(i, j)\n",
    "\n",
    "\n",
    "        # Count the size of each component\n",
    "        group = Counter(find(i) for i in range(n))   \n",
    "\n",
    "        # Count infections in each component\n",
    "        infected = Counter(find(val) for val in initial)\n",
    "\n",
    "\n",
    "        # since lowest initial is to be returned\n",
    "        initial.sort()\n",
    "        res = initial[0]\n",
    "        max_saved = -1\n",
    "\n",
    "        for node in initial:\n",
    "            root = find(node)\n",
    "            print(node, root, group[root])\n",
    "            if infected[root] == 1:\n",
    "                if group[root] > max_saved:\n",
    "                    max_saved = group[root]\n",
    "                    res = node\n",
    "\n",
    "        return res\n",
    "\n",
    "\n",
    "Solution().minMalwareSpread(graph = [[1,0,0],[0,1,0],[0,0,1]], initial = [0,2])"
   ]
  },
  {
   "cell_type": "code",
   "execution_count": null,
   "id": "54dc6d26",
   "metadata": {},
   "outputs": [],
   "source": []
  }
 ],
 "metadata": {
  "kernelspec": {
   "display_name": "Python 3",
   "language": "python",
   "name": "python3"
  },
  "language_info": {
   "codemirror_mode": {
    "name": "ipython",
    "version": 3
   },
   "file_extension": ".py",
   "mimetype": "text/x-python",
   "name": "python",
   "nbconvert_exporter": "python",
   "pygments_lexer": "ipython3",
   "version": "3.11.9"
  }
 },
 "nbformat": 4,
 "nbformat_minor": 5
}
