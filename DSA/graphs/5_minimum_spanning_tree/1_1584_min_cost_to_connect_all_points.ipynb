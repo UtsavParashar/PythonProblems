{
 "cells": [
  {
   "cell_type": "markdown",
   "id": "4ef03442",
   "metadata": {},
   "source": [
    "#### 1584. Min Cost to Connect All Points\n",
    "\n",
    "* https://leetcode.com/problems/min-cost-to-connect-all-points/description/\n"
   ]
  },
  {
   "cell_type": "code",
   "execution_count": 2,
   "id": "2dac4a45",
   "metadata": {},
   "outputs": [
    {
     "data": {
      "text/plain": [
       "18"
      ]
     },
     "execution_count": 2,
     "metadata": {},
     "output_type": "execute_result"
    }
   ],
   "source": [
    "# Prim's Algorithm\n",
    "# TC - O(n^2 log n)\n",
    "# Use Min heap to store cost and destination so min cost node is returned for each dest\n",
    "\n",
    "\n",
    "import heapq\n",
    "class Solution:\n",
    "    def minCostConnectPoints(self, points) -> int:\n",
    "        minheap = [(0, 0)] # starting from 0th node and cost to itself is 0\n",
    "        n = len(points)\n",
    "        visited = set()\n",
    "        res = 0\n",
    "\n",
    "        while len(visited) < n:\n",
    "            cost, dest = heapq.heappop(minheap)\n",
    "            if dest in visited:\n",
    "                continue\n",
    "\n",
    "            visited.add(dest)\n",
    "            res += cost\n",
    "\n",
    "            for i in range(n):\n",
    "                if i not in visited:\n",
    "                    duration = abs(points[dest][0] - points[i][0]) + abs(points[dest][1] - points[i][1]) # Manhattan Dist\n",
    "                    heapq.heappush(minheap, (duration, i))\n",
    "\n",
    "        return res\n",
    "\n",
    "\n",
    "Solution().minCostConnectPoints([[3,12],[-2,5],[-4,1]])"
   ]
  },
  {
   "cell_type": "markdown",
   "id": "6db51270",
   "metadata": {},
   "source": [
    "Up to O(n²) edges considered\n",
    "\n",
    "Each heap operation: O(log n)\n",
    "\n",
    "Dominant term: O(n² log n)"
   ]
  },
  {
   "cell_type": "code",
   "execution_count": null,
   "id": "7269e924",
   "metadata": {},
   "outputs": [],
   "source": []
  }
 ],
 "metadata": {
  "kernelspec": {
   "display_name": "Python 3",
   "language": "python",
   "name": "python3"
  },
  "language_info": {
   "codemirror_mode": {
    "name": "ipython",
    "version": 3
   },
   "file_extension": ".py",
   "mimetype": "text/x-python",
   "name": "python",
   "nbconvert_exporter": "python",
   "pygments_lexer": "ipython3",
   "version": "3.11.9"
  }
 },
 "nbformat": 4,
 "nbformat_minor": 5
}
