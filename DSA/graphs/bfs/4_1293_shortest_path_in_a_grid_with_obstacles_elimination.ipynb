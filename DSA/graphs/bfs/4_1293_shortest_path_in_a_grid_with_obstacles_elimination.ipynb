{
 "cells": [
  {
   "cell_type": "markdown",
   "id": "58381287",
   "metadata": {},
   "source": [
    "#### 1293. Shortest Path in a Grid with Obstacles Elimination\n",
    "\n",
    "* https://leetcode.com/problems/shortest-path-in-a-grid-with-obstacles-elimination/description/"
   ]
  },
  {
   "cell_type": "code",
   "execution_count": 1,
   "id": "22e344ec",
   "metadata": {},
   "outputs": [
    {
     "data": {
      "text/plain": [
       "6"
      ]
     },
     "execution_count": 1,
     "metadata": {},
     "output_type": "execute_result"
    }
   ],
   "source": [
    "from collections import deque\n",
    "\n",
    "class Solution:\n",
    "    def shortestPath(self, grid, k: int) -> int:\n",
    "        rows, cols = len(grid), len(grid[0])\n",
    "        \n",
    "        if k >= rows+cols-2: # edge case\n",
    "            return rows+cols-2\n",
    "\n",
    "        visited = {(0,0,k)}\n",
    "        q = deque([(0, 0, k, 0)]) # r, c, remaining_k, steps\n",
    "\n",
    "        directions = [(-1, 0), (1, 0), (0, -1), (0, 1)]\n",
    "        while q:\n",
    "            r, c, rem_k, steps = q.popleft()\n",
    "\n",
    "            if r == rows - 1 and c == cols - 1:\n",
    "                return steps\n",
    "\n",
    "            for dr, dc in directions:\n",
    "                nr, nc = r+dr, c+dc\n",
    "\n",
    "                if 0<=nr<rows and 0<=nc<cols:\n",
    "                    nk = rem_k - grid[nr][nc]\n",
    "\n",
    "                    if nk >= 0 and (nr, nc, nk) not in visited:\n",
    "                        visited.add((nr, nc, nk))\n",
    "                        q.append((nr, nc, nk, steps+1))\n",
    "\n",
    "        \n",
    "        return -1\n",
    "\n",
    "\n",
    "Solution().shortestPath(grid = [[0,0,0],[1,1,0],[0,0,0],[0,1,1],[0,0,0]], k = 1)\n",
    "\n",
    "\n",
    "\n"
   ]
  },
  {
   "cell_type": "code",
   "execution_count": null,
   "id": "9c9ddeb9",
   "metadata": {},
   "outputs": [],
   "source": []
  }
 ],
 "metadata": {
  "kernelspec": {
   "display_name": "Python 3",
   "language": "python",
   "name": "python3"
  },
  "language_info": {
   "codemirror_mode": {
    "name": "ipython",
    "version": 3
   },
   "file_extension": ".py",
   "mimetype": "text/x-python",
   "name": "python",
   "nbconvert_exporter": "python",
   "pygments_lexer": "ipython3",
   "version": "3.11.9"
  }
 },
 "nbformat": 4,
 "nbformat_minor": 5
}
