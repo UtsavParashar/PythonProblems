{
 "cells": [
  {
   "cell_type": "markdown",
   "id": "8965f9a6",
   "metadata": {},
   "source": [
    "#### 815. Bus Routes\n",
    "\n",
    "* https://leetcode.com/problems/bus-routes/description/"
   ]
  },
  {
   "cell_type": "code",
   "execution_count": 22,
   "id": "7c2476d9",
   "metadata": {},
   "outputs": [
    {
     "name": "stdout",
     "output_type": "stream",
     "text": [
      "7.18 μs ± 351 ns per loop (mean ± std. dev. of 7 runs, 100,000 loops each)\n"
     ]
    }
   ],
   "source": [
    "%%timeit\n",
    "\n",
    "from collections import defaultdict, deque\n",
    "\n",
    "class Solution:\n",
    "    def numBusesToDestination(self, routes, source: int, target: int) -> int:\n",
    "        if source == target: return 0\n",
    "        stop_routes_map = defaultdict(set) # stop: route\n",
    "\n",
    "        for route, stops in enumerate(routes):\n",
    "            for stop in stops:\n",
    "                stop_routes_map[stop].add(route)\n",
    "\n",
    "\n",
    "        visited_routes = set()\n",
    "        visited_stops = set([source])\n",
    "\n",
    "        q = deque([(source, 0)]) # current_stop, buses_taken\n",
    "\n",
    "        while q:\n",
    "            current_stop, buses_taken = q.popleft()\n",
    "\n",
    "            if current_stop == target:\n",
    "                return buses_taken\n",
    "\n",
    "            for route in stop_routes_map[current_stop]:\n",
    "                if route in visited_routes:\n",
    "                    continue\n",
    "\n",
    "                visited_routes.add(route)\n",
    "\n",
    "                for stop in routes[route]:\n",
    "                    if stop not in visited_stops:\n",
    "                        visited_stops.add(stop)\n",
    "                        q.append((stop, buses_taken+1))\n",
    "\n",
    "        return -1\n",
    "\n",
    "\n",
    "\n",
    "\n",
    "Solution().numBusesToDestination(routes = [[1,2,7],[3,6,7]], source = 2, target = 6)\n"
   ]
  },
  {
   "cell_type": "code",
   "execution_count": null,
   "id": "eb436c62",
   "metadata": {},
   "outputs": [
    {
     "name": "stdout",
     "output_type": "stream",
     "text": [
      "6.8 μs ± 253 ns per loop (mean ± std. dev. of 7 runs, 100,000 loops each)\n"
     ]
    }
   ],
   "source": [
    "%%timeit\n",
    "\n",
    "## Optimized\n",
    "\n",
    "from collections import defaultdict, deque\n",
    "\n",
    "class Solution:\n",
    "    def numBusesToDestination(self, routes, source, target):\n",
    "        \n",
    "        if source == target:\n",
    "            return 0\n",
    "        \n",
    "        stop_to_routes = defaultdict(set)\n",
    "        for route_index, route in enumerate(routes):\n",
    "            for stop in route:\n",
    "                stop_to_routes[stop].add(route_index)\n",
    "        \n",
    "        visited_stops = set([source])\n",
    "        visited_routes = set()\n",
    "        \n",
    "        queue = deque([(source, 1)])  # 1st bus taken\n",
    "        \n",
    "        while queue:\n",
    "            current_stop, buses_taken = queue.popleft()\n",
    "            \n",
    "            for route in stop_to_routes[current_stop]:\n",
    "                \n",
    "                if route in visited_routes:\n",
    "                    continue\n",
    "                visited_routes.add(route)\n",
    "                \n",
    "                for stop_on_route in routes[route]:\n",
    "                    \n",
    "                    if stop_on_route == target:\n",
    "                        return buses_taken\n",
    "                    \n",
    "                    if stop_on_route not in visited_stops:\n",
    "                        visited_stops.add(stop_on_route)\n",
    "                        queue.append((stop_on_route, buses_taken+1))\n",
    "        \n",
    "        return -1\n",
    "    \n",
    "Solution().numBusesToDestination(routes = [[1,2,7],[3,6,7]], source = 2, target = 6)\n"
   ]
  },
  {
   "cell_type": "code",
   "execution_count": null,
   "id": "7911ac0b",
   "metadata": {},
   "outputs": [],
   "source": []
  }
 ],
 "metadata": {
  "kernelspec": {
   "display_name": "Python 3",
   "language": "python",
   "name": "python3"
  },
  "language_info": {
   "codemirror_mode": {
    "name": "ipython",
    "version": 3
   },
   "file_extension": ".py",
   "mimetype": "text/x-python",
   "name": "python",
   "nbconvert_exporter": "python",
   "pygments_lexer": "ipython3",
   "version": "3.11.9"
  }
 },
 "nbformat": 4,
 "nbformat_minor": 5
}
