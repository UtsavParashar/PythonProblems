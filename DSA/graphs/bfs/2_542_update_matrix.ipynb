{
 "cells": [
  {
   "cell_type": "markdown",
   "id": "836fd2ad",
   "metadata": {},
   "source": [
    "#### 542. Update Matrix\n",
    "\n",
    "* https://leetcode.com/problems/01-matrix/description/"
   ]
  },
  {
   "cell_type": "code",
   "execution_count": 10,
   "id": "2e719ab5",
   "metadata": {},
   "outputs": [
    {
     "data": {
      "text/plain": [
       "[[0, 0, 0], [0, 1, 0], [1, 2, 1]]"
      ]
     },
     "execution_count": 10,
     "metadata": {},
     "output_type": "execute_result"
    }
   ],
   "source": [
    "from collections import deque\n",
    "\n",
    "class Solution:\n",
    "    def updateMatrix(self, mat):\n",
    "        rows, cols = len(mat), len(mat[0])\n",
    "        q = deque()\n",
    "        for r in range(rows):\n",
    "            for c in range(cols):\n",
    "                if mat[r][c] == 0:\n",
    "                    q.append((r, c))\n",
    "                else:\n",
    "                    mat[r][c] = float('inf')\n",
    "\n",
    "        directions = [(-1, 0), (1, 0), (0, -1), (0, 1)]\n",
    "        while q:\n",
    "            r, c = q.popleft()\n",
    "            for dr, dc in directions:\n",
    "                nr, nc = r+dr, c+dc\n",
    "\n",
    "                if 0<=nr<rows and 0<=nc<cols and mat[nr][nc] > mat[r][c]+1:\n",
    "                    mat[nr][nc] = mat[r][c]+1\n",
    "                    q.append((nr, nc))\n",
    "\n",
    "        return mat\n",
    "\n",
    "#Solution().updateMatrix([[0,0,0],[0,1,0],[0,0,0]])\n",
    "Solution().updateMatrix([[0,0,0],[0,1,0],[1,1,1]])"
   ]
  },
  {
   "cell_type": "markdown",
   "id": "dc73e03d",
   "metadata": {},
   "source": [
    "In the solutions of leetcode 542 why are we placing the coordinates of 0 in queue\n",
    "\n",
    "\n",
    "ChatGPT said:\n",
    "Great question! Placing the coordinates of all the 0 cells in the queue at the start of LeetCode 542 solution is a key part of optimizing the BFS approach. Here's the clear reasoning:\n",
    "\n",
    "✅ Why do we place coordinates of all 0s in the queue initially?\n",
    "Because the problem asks:\n",
    "\n",
    "For each cell, find the distance to the nearest 0.\n",
    "\n",
    "All cells containing 0 are considered sources for this problem.\n",
    "\n",
    "We perform a multi-source BFS, where we expand outwards from all 0 positions simultaneously.\n",
    "\n",
    "This guarantees that each 1 cell will be updated with the shortest distance to its nearest 0.\n",
    "\n",
    "✅ Analogy: Think of 0s as fire stations, and you want to compute distance of every cell to its nearest fire station. You start expanding from all fire stations at once.\n",
    "✅ Step-by-Step Intuition\n",
    "Initialize a matrix to track distances (dist) or modify mat in-place.\n",
    "\n",
    "Place all coordinates of 0s into the queue. Their distance is already 0.\n",
    "\n",
    "From these positions, BFS explores neighboring cells:\n",
    "\n",
    "If a neighboring cell hasn't been updated yet (distance is inf or large number), we set its distance to current_distance + 1.\n",
    "\n",
    "Add that neighboring cell to the queue to continue the BFS.\n",
    "\n",
    "✅ Why Not Start BFS from 1s?\n",
    "If you start BFS from each 1, you'd need to perform BFS separately for each 1, leading to a brute-force solution with high time complexity — potentially O(m² * n²).\n",
    "\n",
    "Placing all 0s in the queue initially:\n",
    "✔ Ensures each cell is visited only once.\n",
    "✔ Guarantees correct shortest distance is calculated.\n",
    "✔ Reduces time complexity to O(m * n).\n",
    "\n",
    "✅ Quick Code Reference\n",
    "python\n",
    "Copy\n",
    "Edit\n",
    "for r in range(rows):\n",
    "    for c in range(cols):\n",
    "        if mat[r][c] == 0:\n",
    "            dist[r][c] = 0\n",
    "            queue.append((r, c))\n",
    "OR in in-place version:\n",
    "\n",
    "python\n",
    "Copy\n",
    "Edit\n",
    "for r in range(rows):\n",
    "    for c in range(cols):\n",
    "        if mat[r][c] == 0:\n",
    "            queue.append((r, c))\n",
    "        else:\n",
    "            mat[r][c] = float('inf')\n",
    "✅ Summary\n",
    "We put all 0s in the queue initially because:\n",
    "✔ They are the starting points for distance calculation.\n",
    "✔ It enables efficient multi-source BFS.\n",
    "✔ It avoids redundant processing and ensures the optimal, shortest distances are computed in one pass.\n"
   ]
  },
  {
   "cell_type": "code",
   "execution_count": null,
   "id": "bc5052f8",
   "metadata": {},
   "outputs": [],
   "source": []
  }
 ],
 "metadata": {
  "kernelspec": {
   "display_name": "Python 3",
   "language": "python",
   "name": "python3"
  },
  "language_info": {
   "codemirror_mode": {
    "name": "ipython",
    "version": 3
   },
   "file_extension": ".py",
   "mimetype": "text/x-python",
   "name": "python",
   "nbconvert_exporter": "python",
   "pygments_lexer": "ipython3",
   "version": "3.11.9"
  }
 },
 "nbformat": 4,
 "nbformat_minor": 5
}
