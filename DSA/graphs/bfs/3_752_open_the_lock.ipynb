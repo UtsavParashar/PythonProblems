{
 "cells": [
  {
   "cell_type": "markdown",
   "id": "b3404001",
   "metadata": {},
   "source": [
    "#### 752. Open the Lock\n",
    "\n",
    "* https://leetcode.com/problems/open-the-lock/description/"
   ]
  },
  {
   "cell_type": "code",
   "execution_count": 20,
   "id": "ea7a3500",
   "metadata": {},
   "outputs": [],
   "source": [
    "from collections import deque\n",
    "class Solution:\n",
    "    def openLock(self, deadends, target: str) -> int:\n",
    "        visited = set(deadends)\n",
    "        if '0000' in visited:\n",
    "            return -1\n",
    "        q = deque([('0000', 0)]) # key, steps\n",
    "\n",
    "        while q:\n",
    "            key, steps = q.popleft()\n",
    "            if key == target:\n",
    "                return steps\n",
    "            for i in range(4):\n",
    "                for move in [1, -1]:\n",
    "                    digit = (int(key[i]) + move)%10\n",
    "                    new_key = key[:i] + str(digit) + key[i+1:]\n",
    "\n",
    "                    if new_key not in visited:\n",
    "                        visited.add(new_key)\n",
    "\n",
    "                        q.append((new_key, steps+1))\n",
    "        \n",
    "        return -1\n",
    "\n"
   ]
  },
  {
   "cell_type": "code",
   "execution_count": 21,
   "id": "20f64a11",
   "metadata": {},
   "outputs": [
    {
     "name": "stdout",
     "output_type": "stream",
     "text": [
      "2.45 ms ± 178 μs per loop (mean ± std. dev. of 7 runs, 100 loops each)\n"
     ]
    }
   ],
   "source": [
    "%%timeit\n",
    "\n",
    "Solution().openLock([\"0201\",\"0101\",\"0102\",\"1212\",\"2002\"], target = \"0202\")"
   ]
  },
  {
   "cell_type": "code",
   "execution_count": 22,
   "id": "8fea737a",
   "metadata": {},
   "outputs": [],
   "source": [
    "class Solution:\n",
    "    def openLock(self, deadends, target: str) -> int:\n",
    "        if target == '0000': return 0\n",
    "        if '0000' in deadends: return -1\n",
    "        \n",
    "        visited = set(deadends)\n",
    "\n",
    "        q = deque([('0000', 0)]) # key, level\n",
    "\n",
    "        def children(key):\n",
    "            for i in range(4):\n",
    "                x = int(key[i])\n",
    "                for diff in [1, -1]:\n",
    "                    yield key[:i] + str((x+diff)%10) + key[i+1:] # 9%10 = 9 and -1%10==9\n",
    "        \n",
    "        while q:\n",
    "            key, level = q.popleft()\n",
    "            if key == target:\n",
    "                return level\n",
    "            for child in children(key):\n",
    "                if child not in visited:\n",
    "                    visited.add(child)\n",
    "                    q.append((child, level + 1))\n",
    "\n",
    "        return -1"
   ]
  },
  {
   "cell_type": "code",
   "execution_count": 23,
   "id": "e77e7811",
   "metadata": {},
   "outputs": [
    {
     "name": "stdout",
     "output_type": "stream",
     "text": [
      "2.46 ms ± 266 μs per loop (mean ± std. dev. of 7 runs, 100 loops each)\n"
     ]
    }
   ],
   "source": [
    "%%timeit\n",
    "\n",
    "Solution().openLock([\"0201\",\"0101\",\"0102\",\"1212\",\"2002\"], target = \"0202\")"
   ]
  },
  {
   "cell_type": "code",
   "execution_count": 27,
   "id": "da6ed11a",
   "metadata": {},
   "outputs": [],
   "source": [
    "from collections import deque\n",
    "class Solution:\n",
    "    def openLock(self, deadends, target: str) -> int:\n",
    "        if target == '0000': return 0\n",
    "        visited = set(deadends)\n",
    "        if '0000' in visited:\n",
    "            return -1\n",
    "        q = deque([('0000', 0)]) # key, steps\n",
    "\n",
    "        def get_key(key):\n",
    "            for i in range(4):\n",
    "                for move in (1, -1):\n",
    "                    digit = (int(key[i]) + move)%10\n",
    "                    yield key[:i] + str(digit) + key[i+1:]\n",
    "\n",
    "        while q:\n",
    "            key, steps = q.popleft()\n",
    "            if key == target:\n",
    "                return steps\n",
    "            for new_key in get_key(key):\n",
    "                if new_key not in visited:\n",
    "                    visited.add(new_key)\n",
    "                    q.append((new_key, steps+1))\n",
    "    \n",
    "        return -1"
   ]
  },
  {
   "cell_type": "code",
   "execution_count": 25,
   "id": "0f3ac363",
   "metadata": {},
   "outputs": [
    {
     "name": "stdout",
     "output_type": "stream",
     "text": [
      "2.75 ms ± 297 μs per loop (mean ± std. dev. of 7 runs, 100 loops each)\n"
     ]
    }
   ],
   "source": [
    "%%timeit \n",
    "\n",
    "Solution().openLock([\"0201\",\"0101\",\"0102\",\"1212\",\"2002\"], target = \"0202\")"
   ]
  },
  {
   "cell_type": "code",
   "execution_count": null,
   "id": "55518276",
   "metadata": {},
   "outputs": [],
   "source": []
  }
 ],
 "metadata": {
  "kernelspec": {
   "display_name": "Python 3",
   "language": "python",
   "name": "python3"
  },
  "language_info": {
   "codemirror_mode": {
    "name": "ipython",
    "version": 3
   },
   "file_extension": ".py",
   "mimetype": "text/x-python",
   "name": "python",
   "nbconvert_exporter": "python",
   "pygments_lexer": "ipython3",
   "version": "3.11.9"
  }
 },
 "nbformat": 4,
 "nbformat_minor": 5
}
