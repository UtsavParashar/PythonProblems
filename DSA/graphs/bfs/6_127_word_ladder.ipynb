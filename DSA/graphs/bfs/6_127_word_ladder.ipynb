{
 "cells": [
  {
   "cell_type": "markdown",
   "id": "35285442",
   "metadata": {},
   "source": [
    "#### 127. Word Ladder\n",
    "\n",
    "* https://leetcode.com/problems/word-ladder/description/"
   ]
  },
  {
   "cell_type": "code",
   "execution_count": 6,
   "id": "8256483d",
   "metadata": {},
   "outputs": [
    {
     "data": {
      "text/plain": [
       "5"
      ]
     },
     "execution_count": 6,
     "metadata": {},
     "output_type": "execute_result"
    }
   ],
   "source": [
    "from collections import deque\n",
    "import string\n",
    "\n",
    "class Solution:\n",
    "    def ladderLength(self, beginWord, endWord, wordList) -> int:\n",
    "        if beginWord == endWord:\n",
    "            return 0\n",
    "\n",
    "        word_set = set(wordList)\n",
    "\n",
    "        if endWord not in word_set:\n",
    "            return 0\n",
    "        \n",
    "        q = deque([(beginWord, 1)])\n",
    "\n",
    "        while q:\n",
    "            word, steps = q.popleft()\n",
    "\n",
    "            if word == endWord:\n",
    "                return steps\n",
    "\n",
    "            for i in range(len(word)):\n",
    "                for c in string.ascii_lowercase: # chars a-z\n",
    "                    next_word = word[:i] + c + word[i+1:]\n",
    "                    if next_word in word_set:\n",
    "                        word_set.remove(next_word) # mark visited\n",
    "                        q.append((next_word, steps+1))\n",
    "\n",
    "        return 0\n",
    "\n",
    "Solution().ladderLength(beginWord = \"hit\", endWord = \"cog\", wordList = [\"hot\",\"dot\",\"dog\",\"lot\",\"log\",\"cog\"])\n",
    "         "
   ]
  },
  {
   "cell_type": "code",
   "execution_count": null,
   "id": "1d7983b7",
   "metadata": {},
   "outputs": [
    {
     "data": {
      "text/plain": [
       "'abcdefghijklmnopqrstuvwxyz'"
      ]
     },
     "execution_count": 4,
     "metadata": {},
     "output_type": "execute_result"
    }
   ],
   "source": [
    "class Solution:\n",
    "    def ladderLength(self, beginWord, endWord, wordList) -> int:\n",
    "        if endWord not in wordList:\n",
    "            return 0\n",
    "\n",
    "        word_set = set(wordList)\n",
    "        queue = deque([(beginWord, 1)])\n",
    "\n",
    "        while queue:\n",
    "            word, steps = queue.popleft()\n",
    "            if word == endWord:\n",
    "                return steps\n",
    "\n",
    "            for i in range(len(word)):\n",
    "                for c in string.ascii_lowercase:\n",
    "                    next_word = word[:i] + c + word[i+1:]\n",
    "                    if next_word in word_set:\n",
    "                        word_set.remove(next_word)\n",
    "                        queue.append((next_word, steps + 1))\n",
    "        return 0\n",
    "\n",
    "Solution().ladderLength(\"hit\", \"cog\", [\"hot\", \"dot\", \"dog\", \"lot\", \"log\", \"cog\"])\n"
   ]
  },
  {
   "cell_type": "code",
   "execution_count": null,
   "id": "885df893",
   "metadata": {},
   "outputs": [],
   "source": []
  }
 ],
 "metadata": {
  "kernelspec": {
   "display_name": "Python 3",
   "language": "python",
   "name": "python3"
  },
  "language_info": {
   "codemirror_mode": {
    "name": "ipython",
    "version": 3
   },
   "file_extension": ".py",
   "mimetype": "text/x-python",
   "name": "python",
   "nbconvert_exporter": "python",
   "pygments_lexer": "ipython3",
   "version": "3.11.9"
  }
 },
 "nbformat": 4,
 "nbformat_minor": 5
}
