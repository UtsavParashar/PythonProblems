{
 "cells": [
  {
   "cell_type": "markdown",
   "id": "a061343b",
   "metadata": {},
   "source": [
    "#### 2812. Find the Safest Path in a Grid\n",
    "* https://leetcode.com/problems/find-the-safest-path-in-a-grid/description/\n",
    "\n",
    "## IMC"
   ]
  },
  {
   "cell_type": "code",
   "execution_count": 5,
   "id": "9a75c288",
   "metadata": {},
   "outputs": [
    {
     "data": {
      "text/plain": [
       "2"
      ]
     },
     "execution_count": 5,
     "metadata": {},
     "output_type": "execute_result"
    }
   ],
   "source": [
    "# Based on two leetcode solutions - \n",
    "# 286. Wall and Gates - Islands and Treasure - start from available gate, in 2812 start from thief - use q\n",
    "# 778. Swim in Rising Water - Move from top left to bottom right, with min distance and max safeness - use max heap and dijkstra's algo \n",
    "\n",
    "from collections import deque\n",
    "import heapq\n",
    "\n",
    "class Solution:\n",
    "    def maximumSafenessFactor(self, grid) -> int:\n",
    "        n = len(grid)\n",
    "        if grid[0][0] == 1 or grid[n-1][n-1] == 1:\n",
    "            return 0\n",
    "\n",
    "        q = deque()\n",
    "\n",
    "        dist = [[-1]*n for _ in range(n)]\n",
    "\n",
    "        for i in range(n):\n",
    "            for j in range(n):\n",
    "                if grid[i][j] == 1:\n",
    "                    dist[i][j] = 0\n",
    "                    q.append((i, j))\n",
    "        \n",
    "\n",
    "        dirs = ((-1, 0), (1, 0), (0, -1), (0, 1))\n",
    "\n",
    "        while q:\n",
    "            r, c = q.popleft()\n",
    "            for dr, dc in dirs:\n",
    "                nr, nc = dr+r, dc+c\n",
    "                if 0<=nr<n and 0<=nc<n and dist[nr][nc] == -1:\n",
    "                    dist[nr][nc] = 1 + dist[r][c]\n",
    "                    q.append((nr, nc))\n",
    "\n",
    "        visit = set((0, 0))\n",
    "        maxheap = [(-dist[0][0], 0, 0)]\n",
    "\n",
    "        while maxheap:\n",
    "            d, r, c = heapq.heappop(maxheap)\n",
    "\n",
    "            if r == n-1 and c == n-1:\n",
    "                return -d\n",
    "\n",
    "            for dr, dc in dirs:\n",
    "                nr, nc = dr+r, dc+c\n",
    "                if 0<=nr<n and 0<=nc<n and (nr, nc) not in visit:\n",
    "                    visit.add((nr, nc))\n",
    "                    min_val = min(dist[nr][nc], -d)\n",
    "                    heapq.heappush(maxheap, (-min_val, nr, nc))\n",
    "        \n",
    "        return 0\n",
    "\n",
    "Solution().maximumSafenessFactor([[0,0,1],[0,0,0],[0,0,0]]) # expected output 2"
   ]
  },
  {
   "cell_type": "code",
   "execution_count": null,
   "id": "0b46dc95",
   "metadata": {},
   "outputs": [],
   "source": [
    "\n"
   ]
  }
 ],
 "metadata": {
  "kernelspec": {
   "display_name": "Python 3",
   "language": "python",
   "name": "python3"
  },
  "language_info": {
   "codemirror_mode": {
    "name": "ipython",
    "version": 3
   },
   "file_extension": ".py",
   "mimetype": "text/x-python",
   "name": "python",
   "nbconvert_exporter": "python",
   "pygments_lexer": "ipython3",
   "version": "3.11.9"
  }
 },
 "nbformat": 4,
 "nbformat_minor": 5
}
