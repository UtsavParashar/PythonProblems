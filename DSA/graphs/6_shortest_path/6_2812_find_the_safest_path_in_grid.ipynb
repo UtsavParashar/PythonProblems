{
 "cells": [
  {
   "cell_type": "markdown",
   "id": "a061343b",
   "metadata": {},
   "source": [
    "#### 2812. Find the Safest Path in a Grid\n",
    "* https://leetcode.com/problems/find-the-safest-path-in-a-grid/description/\n",
    "\n",
    "## IMC"
   ]
  },
  {
   "cell_type": "code",
   "execution_count": 6,
   "id": "9a75c288",
   "metadata": {},
   "outputs": [
    {
     "data": {
      "text/plain": [
       "2"
      ]
     },
     "execution_count": 6,
     "metadata": {},
     "output_type": "execute_result"
    }
   ],
   "source": [
    "# Based on two leetcode solutions - \n",
    "# 286. Wall and Gates - Islands and Treasure - start from available gate, in 2812 start from thief - use q\n",
    "# 778. Swim in Rising Water - Move from top left to bottom right, with min distance and max safeness - use max heap and dijkstra's algo \n",
    "# Explanation - https://www.youtube.com/watch?v=-5mQcNiVWTs&t=535s\n",
    "# TC, SC - O(n2 log n), O(n²)\n",
    "from collections import deque\n",
    "import heapq\n",
    "\n",
    "class Solution:\n",
    "    def maximumSafenessFactor(self, grid) -> int:\n",
    "        n = len(grid)\n",
    "        if grid[0][0] == 1 or grid[n-1][n-1] == 1:\n",
    "            return 0\n",
    "\n",
    "        q = deque()\n",
    "\n",
    "        dist = [[-1]*n for _ in range(n)]\n",
    "\n",
    "        for i in range(n):\n",
    "            for j in range(n):\n",
    "                if grid[i][j] == 1:\n",
    "                    dist[i][j] = 0\n",
    "                    q.append((i, j))\n",
    "        \n",
    "\n",
    "        dirs = ((-1, 0), (1, 0), (0, -1), (0, 1))\n",
    "\n",
    "        while q:\n",
    "            r, c = q.popleft()\n",
    "            for dr, dc in dirs:\n",
    "                nr, nc = dr+r, dc+c\n",
    "                if 0<=nr<n and 0<=nc<n and dist[nr][nc] == -1:\n",
    "                    dist[nr][nc] = 1 + dist[r][c]\n",
    "                    q.append((nr, nc))\n",
    "\n",
    "        visit = set((0, 0))\n",
    "        maxheap = [(-dist[0][0], 0, 0)]\n",
    "\n",
    "        while maxheap:\n",
    "            d, r, c = heapq.heappop(maxheap)\n",
    "\n",
    "            if r == n-1 and c == n-1:\n",
    "                return -d\n",
    "\n",
    "            for dr, dc in dirs:\n",
    "                nr, nc = dr+r, dc+c\n",
    "                if 0<=nr<n and 0<=nc<n and (nr, nc) not in visit:\n",
    "                    visit.add((nr, nc))\n",
    "                    min_val = min(dist[nr][nc], -d)\n",
    "                    heapq.heappush(maxheap, (-min_val, nr, nc))\n",
    "        \n",
    "        return 0\n",
    "\n",
    "Solution().maximumSafenessFactor([[0,0,1],[0,0,0],[0,0,0]]) # expected output 2"
   ]
  },
  {
   "cell_type": "markdown",
   "id": "d2b67a8e",
   "metadata": {},
   "source": [
    "Step 1 — Multi-source BFS\n",
    "We process each cell exactly once.\n",
    "\n",
    "Each cell has at most 4 neighbors, so BFS cost is O(n²).\n",
    "\n",
    "Memory used for dist is O(n²).\n",
    "\n",
    "Step 2 — Max-Heap Path Search\n",
    "At most n² cells are pushed into the heap.\n",
    "\n",
    "Heap push/pop is O(log(n²)) = O(2·log n) ≈ O(log n).\n",
    "\n",
    "So total heap operations = O(n² log n).\n",
    "\n",
    "Memory for visit and maxheap = O(n²).\n",
    "\n",
    "Overall Complexity\n",
    "Time Complexity:\n",
    "BFS: O(n²)\n",
    "Heap traversal: O(n² log n)\n",
    "Combined: O(n² log n)\n",
    "\n",
    "Space Complexity:\n",
    "\n",
    "dist: O(n²)\n",
    "\n",
    "visit: O(n²)\n",
    "\n",
    "maxheap: O(n²) in worst case\n",
    "Total: O(n²)\n",
    "\n",
    "So final answer:\n",
    "\n",
    "css\n",
    "Copy\n",
    "Edit\n",
    "Time:  O(n² log n)\n",
    "Space: O(n²)"
   ]
  },
  {
   "cell_type": "code",
   "execution_count": null,
   "id": "0b46dc95",
   "metadata": {},
   "outputs": [],
   "source": [
    "\n"
   ]
  }
 ],
 "metadata": {
  "kernelspec": {
   "display_name": "Python 3",
   "language": "python",
   "name": "python3"
  },
  "language_info": {
   "codemirror_mode": {
    "name": "ipython",
    "version": 3
   },
   "file_extension": ".py",
   "mimetype": "text/x-python",
   "name": "python",
   "nbconvert_exporter": "python",
   "pygments_lexer": "ipython3",
   "version": "3.11.9"
  }
 },
 "nbformat": 4,
 "nbformat_minor": 5
}
