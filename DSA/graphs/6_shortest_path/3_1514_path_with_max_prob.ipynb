{
 "cells": [
  {
   "cell_type": "markdown",
   "id": "496d1878",
   "metadata": {},
   "source": [
    "#### 1514. Path with Maximum Probability\n",
    "\n",
    "* https://leetcode.com/problems/path-with-maximum-probability/description/"
   ]
  },
  {
   "cell_type": "code",
   "execution_count": 2,
   "id": "469ae26f",
   "metadata": {},
   "outputs": [
    {
     "data": {
      "text/plain": [
       "0.25"
      ]
     },
     "execution_count": 2,
     "metadata": {},
     "output_type": "execute_result"
    }
   ],
   "source": [
    "from collections import defaultdict\n",
    "import heapq\n",
    "\n",
    "class Solution:\n",
    "    def maxProbability(self, n, edges, succProb, start_node, end_node):\n",
    "        graph = defaultdict(list)\n",
    "        for (u, v), prob in zip(edges, succProb):\n",
    "            graph[u].append((v, prob))\n",
    "            graph[v].append((u, prob))\n",
    "\n",
    "        visited = set()\n",
    "\n",
    "        maxheap = [(-1, start_node)] # prob, start\n",
    "\n",
    "        while maxheap:\n",
    "            prob, node = heapq.heappop(maxheap)\n",
    "            prob = -prob\n",
    "            if node == end_node:\n",
    "                return prob\n",
    "            \n",
    "            if node in visited:\n",
    "                continue\n",
    "\n",
    "            visited.add(node)\n",
    "\n",
    "            for nei, edge_prob in graph[node]:\n",
    "                if nei not in visited:\n",
    "                    heapq.heappush(maxheap, (-(prob*edge_prob), nei))\n",
    "\n",
    "        return 0.0\n",
    "        \n",
    "\n",
    "Solution().maxProbability(n = 3, edges = [[0,1],[1,2],[0,2]], succProb = [0.5,0.5,0.2], start_node = 0, end_node = 2)"
   ]
  },
  {
   "cell_type": "code",
   "execution_count": null,
   "id": "915b660e",
   "metadata": {},
   "outputs": [],
   "source": []
  }
 ],
 "metadata": {
  "kernelspec": {
   "display_name": "Python 3",
   "language": "python",
   "name": "python3"
  },
  "language_info": {
   "codemirror_mode": {
    "name": "ipython",
    "version": 3
   },
   "file_extension": ".py",
   "mimetype": "text/x-python",
   "name": "python",
   "nbconvert_exporter": "python",
   "pygments_lexer": "ipython3",
   "version": "3.11.9"
  }
 },
 "nbformat": 4,
 "nbformat_minor": 5
}
