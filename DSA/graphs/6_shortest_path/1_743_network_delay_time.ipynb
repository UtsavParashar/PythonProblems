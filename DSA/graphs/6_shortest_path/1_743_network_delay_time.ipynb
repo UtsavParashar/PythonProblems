{
 "cells": [
  {
   "cell_type": "markdown",
   "id": "b48a3102",
   "metadata": {},
   "source": [
    "#### 743. Network Delay Time\n",
    "\n",
    "* https://leetcode.com/problems/network-delay-time/"
   ]
  },
  {
   "cell_type": "code",
   "execution_count": null,
   "id": "f0937a48",
   "metadata": {},
   "outputs": [],
   "source": [
    "# Ref - https://www.youtube.com/watch?v=EaphyqKU4PQ\n",
    "# Dijkstra's algo\n",
    "\n",
    "import heapq\n",
    "\n",
    "class Solution:\n",
    "    def networkDelayTime(self, times, n, k) -> int:\n",
    "        \n",
    "        # Build adjacency list\n",
    "        graph ={i: [] for i in range(1, n+1)} # could be done by default dict\n",
    "        for u, v, w in times:\n",
    "            graph[u].append((v, w))\n",
    "        \n",
    "\n",
    "        # Min-heap to get the node with the shortest distance\n",
    "        minheap = [(0, k)] # time, dest\n",
    "        \n",
    "        visited = set()\n",
    "        res = 0\n",
    "\n",
    "        while minheap:\n",
    "            time, node = heapq.heappop(minheap)\n",
    "            if node in visited:\n",
    "                continue\n",
    "            visited.add(node)\n",
    "            res = max(res, time)\n",
    "\n",
    "            for nei, nei_time in graph[node]:\n",
    "                if nei not in visited:\n",
    "                    heapq.heappush(minheap, (time + nei_time, nei))\n",
    "\n",
    "        return res if len(visited) == n else -1\n",
    "\n",
    "\n",
    "\n"
   ]
  },
  {
   "cell_type": "code",
   "execution_count": 1,
   "id": "f536d7ab",
   "metadata": {},
   "outputs": [],
   "source": [
    "import heapq\n",
    "\n",
    "class Solution:\n",
    "    def networkDelayTime(self, times, n, k) -> int:\n",
    "        \n",
    "        # Build adjacency list\n",
    "        graph ={i: [] for i in range(1, n+1)} # could be done by default dict\n",
    "        for u, v, w in times:\n",
    "            graph[u].append((v, w))\n",
    "        \n",
    "\n",
    "        # Min-heap to get the node with the shortest distance\n",
    "        minheap = [(0, k)] # time, dest\n",
    "        \n",
    "        visited = {}\n",
    "\n",
    "        while minheap:\n",
    "            time, node = heapq.heappop(minheap)\n",
    "            if node in visited:\n",
    "                continue\n",
    "            visited[node] = time\n",
    "\n",
    "            for nei, nei_time in graph[node]:\n",
    "                if nei not in visited:\n",
    "                    heapq.heappush(minheap, (time + nei_time, nei))\n",
    "\n",
    "        return max(visited.values()) if len(visited) == n else -1\n",
    "\n",
    "\n",
    "\n"
   ]
  },
  {
   "cell_type": "markdown",
   "id": "aac0fa48",
   "metadata": {},
   "source": [
    "Time Complexity\n",
    "Building graph: O(E) where E is the number of edges.\n",
    "\n",
    "Dijkstra's: O((E + N) * log N) due to heap operations.\n",
    "\n",
    "Space Complexity\n",
    "Graph: O(E)\n",
    "\n",
    "Distance map: O(N)\n",
    "\n",
    "Heap: O(N)"
   ]
  },
  {
   "cell_type": "code",
   "execution_count": null,
   "id": "6eb12c89",
   "metadata": {},
   "outputs": [],
   "source": []
  }
 ],
 "metadata": {
  "kernelspec": {
   "display_name": "Python 3",
   "language": "python",
   "name": "python3"
  },
  "language_info": {
   "codemirror_mode": {
    "name": "ipython",
    "version": 3
   },
   "file_extension": ".py",
   "mimetype": "text/x-python",
   "name": "python",
   "nbconvert_exporter": "python",
   "pygments_lexer": "ipython3",
   "version": "3.11.9"
  }
 },
 "nbformat": 4,
 "nbformat_minor": 5
}
