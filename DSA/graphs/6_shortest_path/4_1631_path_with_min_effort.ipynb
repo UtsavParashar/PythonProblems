{
 "cells": [
  {
   "cell_type": "markdown",
   "id": "06adb136",
   "metadata": {},
   "source": [
    "#### 1631. Path With Minumum Effort\n",
    "\n",
    "* https://leetcode.com/problems/path-with-minimum-effort/description/"
   ]
  },
  {
   "cell_type": "code",
   "execution_count": 1,
   "id": "e00f7877",
   "metadata": {},
   "outputs": [
    {
     "data": {
      "text/plain": [
       "2"
      ]
     },
     "execution_count": 1,
     "metadata": {},
     "output_type": "execute_result"
    }
   ],
   "source": [
    "import heapq\n",
    "class Solution:\n",
    "    def minimumEffortPath(self, heights) -> int:\n",
    "        rows, cols = len(heights), len(heights[0])\n",
    "        visited = set() # (r, c)\n",
    "        minheap = [(0, 0, 0)] # diff, r, c\n",
    "        directions = ((-1, 0), (1, 0), (0, -1), (0, 1))\n",
    "\n",
    "        while minheap:\n",
    "            diff, r, c = heapq.heappop(minheap)\n",
    "\n",
    "            if r==rows-1 and c==cols-1:\n",
    "                return diff\n",
    "\n",
    "            if (r, c) in visited:\n",
    "                continue\n",
    "\n",
    "            visited.add((r, c))\n",
    "\n",
    "            for dr, dc in directions:\n",
    "                nr, nc = dr+r, dc+c\n",
    "                if 0<=nr<rows and 0<=nc<cols and (nr, nc) not in visited:\n",
    "                    max_diff = max(diff, abs(heights[r][c] - heights[nr][nc]))\n",
    "                    heapq.heappush(minheap, (max_diff, nr, nc))\n",
    "\n",
    "Solution().minimumEffortPath([[1,2,2],[3,8,2],[5,3,5]])"
   ]
  },
  {
   "cell_type": "code",
   "execution_count": null,
   "id": "78b83632",
   "metadata": {},
   "outputs": [],
   "source": []
  }
 ],
 "metadata": {
  "kernelspec": {
   "display_name": "Python 3",
   "language": "python",
   "name": "python3"
  },
  "language_info": {
   "codemirror_mode": {
    "name": "ipython",
    "version": 3
   },
   "file_extension": ".py",
   "mimetype": "text/x-python",
   "name": "python",
   "nbconvert_exporter": "python",
   "pygments_lexer": "ipython3",
   "version": "3.11.9"
  }
 },
 "nbformat": 4,
 "nbformat_minor": 5
}
