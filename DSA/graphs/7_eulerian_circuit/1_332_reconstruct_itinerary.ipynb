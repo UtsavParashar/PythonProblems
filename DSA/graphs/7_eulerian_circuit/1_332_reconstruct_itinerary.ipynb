{
 "cells": [
  {
   "cell_type": "markdown",
   "id": "623a5390",
   "metadata": {},
   "source": [
    "#### 332. Reconstruct Itinerary\n",
    "\n",
    "* https://leetcode.com/problems/reconstruct-itinerary/description/"
   ]
  },
  {
   "cell_type": "code",
   "execution_count": null,
   "id": "5db53119",
   "metadata": {},
   "outputs": [
    {
     "data": {
      "text/plain": [
       "['JFK', 'ATL', 'JFK', 'SFO', 'ATL', 'SFO']"
      ]
     },
     "execution_count": 14,
     "metadata": {},
     "output_type": "execute_result"
    }
   ],
   "source": [
    "# https://chatgpt.com/c/686f41bf-afa8-800f-979c-e92b5a5ff141\n",
    "\n",
    "# Eulers Path + Min Heap\n",
    "\n",
    "from collections import defaultdict\n",
    "import heapq\n",
    "\n",
    "class Solution:\n",
    "    def findItinerary(self, tickets):\n",
    "        graph = defaultdict(list)\n",
    "\n",
    "        for src, dest in tickets:\n",
    "            heapq.heappush(graph[src], dest)\n",
    "\n",
    "        itinerary = []\n",
    "        def dfs(airport):\n",
    "            while graph[airport]:\n",
    "                dfs(heapq.heappop(graph[airport]))\n",
    "            itinerary.append(airport)\n",
    "\n",
    "        dfs('JFK')\n",
    "        return itinerary[::-1]\n",
    "\n",
    "Solution().findItinerary([[\"JFK\",\"SFO\"],[\"JFK\",\"ATL\"],[\"SFO\",\"ATL\"],[\"ATL\",\"JFK\"],[\"ATL\",\"SFO\"]])"
   ]
  },
  {
   "cell_type": "code",
   "execution_count": 4,
   "id": "f570f1db",
   "metadata": {},
   "outputs": [
    {
     "data": {
      "text/plain": [
       "3"
      ]
     },
     "execution_count": 4,
     "metadata": {},
     "output_type": "execute_result"
    }
   ],
   "source": [
    "[1,2,3].pop()"
   ]
  },
  {
   "cell_type": "code",
   "execution_count": null,
   "id": "046f1aa2",
   "metadata": {},
   "outputs": [],
   "source": []
  }
 ],
 "metadata": {
  "kernelspec": {
   "display_name": "Python 3",
   "language": "python",
   "name": "python3"
  },
  "language_info": {
   "codemirror_mode": {
    "name": "ipython",
    "version": 3
   },
   "file_extension": ".py",
   "mimetype": "text/x-python",
   "name": "python",
   "nbconvert_exporter": "python",
   "pygments_lexer": "ipython3",
   "version": "3.11.9"
  }
 },
 "nbformat": 4,
 "nbformat_minor": 5
}
