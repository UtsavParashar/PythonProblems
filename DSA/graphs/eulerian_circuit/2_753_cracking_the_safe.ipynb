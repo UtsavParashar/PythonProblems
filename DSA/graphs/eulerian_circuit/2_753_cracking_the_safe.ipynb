{
 "cells": [
  {
   "cell_type": "markdown",
   "id": "1aa604b1",
   "metadata": {},
   "source": [
    "#### 753. Cracking the Safe\n",
    "\n",
    "* https://leetcode.com/problems/cracking-the-safe/description/"
   ]
  },
  {
   "cell_type": "code",
   "execution_count": null,
   "id": "534627d6",
   "metadata": {},
   "outputs": [
    {
     "data": {
      "text/plain": [
       "'00110'"
      ]
     },
     "execution_count": 1,
     "metadata": {},
     "output_type": "execute_result"
    }
   ],
   "source": [
    "# Ref - https://chatgpt.com/c/68709460-6a24-800f-80c5-9a362eb9afd0\n",
    "\n",
    "class Solution:\n",
    "    def crackSafe(self, n: int, k: int) -> str:\n",
    "        res = []\n",
    "        start = '0'*(n-1)\n",
    "        seen = set()\n",
    "\n",
    "        def dfs(node):\n",
    "            for i in map(str, range(k)):\n",
    "                nei = node + i\n",
    "                if nei not in seen:\n",
    "                    seen.add(nei)\n",
    "                    dfs(nei[1:]) # # Move to next node (drop leftmost char)\n",
    "                    res.append(i)\n",
    "\n",
    "        dfs(start)\n",
    "        return start + ''.join(reversed(res))\n",
    "\n",
    "Solution().crackSafe(n = 2, k = 2)"
   ]
  },
  {
   "cell_type": "code",
   "execution_count": null,
   "id": "65821731",
   "metadata": {},
   "outputs": [],
   "source": []
  }
 ],
 "metadata": {
  "kernelspec": {
   "display_name": "Python 3",
   "language": "python",
   "name": "python3"
  },
  "language_info": {
   "codemirror_mode": {
    "name": "ipython",
    "version": 3
   },
   "file_extension": ".py",
   "mimetype": "text/x-python",
   "name": "python",
   "nbconvert_exporter": "python",
   "pygments_lexer": "ipython3",
   "version": "3.11.9"
  }
 },
 "nbformat": 4,
 "nbformat_minor": 5
}
