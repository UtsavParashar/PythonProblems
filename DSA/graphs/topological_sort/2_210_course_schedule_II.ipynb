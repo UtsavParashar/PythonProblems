{
 "cells": [
  {
   "cell_type": "markdown",
   "id": "7bff6e2f",
   "metadata": {},
   "source": [
    "#### 210. Course Schedule II\n",
    "\n",
    "* https://leetcode.com/problems/course-schedule-ii/description/"
   ]
  },
  {
   "cell_type": "code",
   "execution_count": 8,
   "id": "dac9e1bb",
   "metadata": {},
   "outputs": [
    {
     "data": {
      "text/plain": [
       "[0, 1]"
      ]
     },
     "execution_count": 8,
     "metadata": {},
     "output_type": "execute_result"
    }
   ],
   "source": [
    "# TC - O(V+E) visited all vertices and edges\n",
    "# https://www.youtube.com/watch?v=2cpihwDznaw, explanation without code\n",
    "\n",
    "\n",
    "from collections import defaultdict\n",
    "\n",
    "class Solution:\n",
    "    def findOrder(self, numCourses, prerequisites):\n",
    "        dag = defaultdict(list)\n",
    "\n",
    "        for course, prereq in prerequisites:\n",
    "            dag[course].append(prereq)\n",
    "\n",
    "        visited = [0] * numCourses\n",
    "        res = []\n",
    "\n",
    "        # True if no cycle else False\n",
    "        def dfs(node):\n",
    "            if visited[node] == 1: # cycle, visiting a node twice in a dfs\n",
    "                return False\n",
    "            \n",
    "            if visited[node] == 2:\n",
    "                return True\n",
    "\n",
    "            visited[node] = 1\n",
    "\n",
    "            for nei in dag[node]:\n",
    "                if not dfs(nei):\n",
    "                    return False\n",
    "\n",
    "            visited[node] = 2\n",
    "            res.append(node)\n",
    "            return True\n",
    "\n",
    "        for i in range(numCourses):\n",
    "            if not dfs(i):\n",
    "                return []\n",
    "\n",
    "        return res\n",
    "\n",
    "Solution().findOrder(numCourses = 2, prerequisites = [[1,0]])"
   ]
  },
  {
   "cell_type": "code",
   "execution_count": null,
   "id": "488edf2a",
   "metadata": {},
   "outputs": [],
   "source": []
  }
 ],
 "metadata": {
  "kernelspec": {
   "display_name": "Python 3",
   "language": "python",
   "name": "python3"
  },
  "language_info": {
   "codemirror_mode": {
    "name": "ipython",
    "version": 3
   },
   "file_extension": ".py",
   "mimetype": "text/x-python",
   "name": "python",
   "nbconvert_exporter": "python",
   "pygments_lexer": "ipython3",
   "version": "3.11.9"
  }
 },
 "nbformat": 4,
 "nbformat_minor": 5
}
