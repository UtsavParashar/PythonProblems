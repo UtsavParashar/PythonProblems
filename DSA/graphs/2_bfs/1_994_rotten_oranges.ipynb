{
 "cells": [
  {
   "cell_type": "markdown",
   "id": "cf5cf914",
   "metadata": {},
   "source": [
    "#### 994. Rotting Oranges\n",
    "\n",
    "* https://leetcode.com/problems/rotting-oranges/"
   ]
  },
  {
   "cell_type": "code",
   "execution_count": 16,
   "id": "a84af4bd",
   "metadata": {},
   "outputs": [
    {
     "data": {
      "text/plain": [
       "-1"
      ]
     },
     "execution_count": 16,
     "metadata": {},
     "output_type": "execute_result"
    }
   ],
   "source": [
    "# https://www.youtube.com/watch?v=y704fEOx0s0\n",
    "\n",
    "from collections import deque\n",
    "\n",
    "class Solution:\n",
    "    def orangesRotting(self, grid) -> int:\n",
    "        rows, cols = len(grid), len(grid[0])\n",
    "        q = deque()\n",
    "        fresh, time = 0, 0\n",
    "\n",
    "        for r in range(rows):\n",
    "            for c in range(cols):\n",
    "                if grid[r][c] == 2:\n",
    "                    q.append((r, c))\n",
    "                elif grid[r][c] == 1:\n",
    "                    fresh += 1\n",
    "\n",
    "        directions = [(-1, 0), (1, 0), (0, -1), (0, 1)]\n",
    "        while q and fresh > 0:\n",
    "            for _ in range(len(q)):\n",
    "                r, c = q.popleft()\n",
    "\n",
    "                for dr, dc in directions:\n",
    "                    nr, nc = r+dr, c+dc\n",
    "                    if nr<0 or nr>=rows or nc<0 or nc>=cols or grid[nr][nc]!= 1:\n",
    "                        continue\n",
    "\n",
    "                    grid[nr][nc] = 2\n",
    "                    fresh -= 1\n",
    "                    q.append((nr, nc))\n",
    "\n",
    "            time += 1\n",
    "    \n",
    "        return -1 if fresh else time\n",
    "\n",
    "Solution().orangesRotting([[2,1,1],[1,1,0],[0,1,1]])\n",
    "Solution().orangesRotting([[2,1,1],[0,1,1],[1,0,1]])"
   ]
  },
  {
   "cell_type": "code",
   "execution_count": null,
   "id": "f2dfe3ca",
   "metadata": {},
   "outputs": [],
   "source": []
  }
 ],
 "metadata": {
  "kernelspec": {
   "display_name": "Python 3",
   "language": "python",
   "name": "python3"
  },
  "language_info": {
   "codemirror_mode": {
    "name": "ipython",
    "version": 3
   },
   "file_extension": ".py",
   "mimetype": "text/x-python",
   "name": "python",
   "nbconvert_exporter": "python",
   "pygments_lexer": "ipython3",
   "version": "3.11.9"
  }
 },
 "nbformat": 4,
 "nbformat_minor": 5
}
