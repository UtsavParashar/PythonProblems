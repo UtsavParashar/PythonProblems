{
 "cells": [
  {
   "cell_type": "markdown",
   "id": "42f6c35d",
   "metadata": {},
   "source": [
    "#### 721. Accounts Merge\n",
    "\n",
    "* https://leetcode.com/problems/accounts-merge/description/"
   ]
  },
  {
   "cell_type": "code",
   "execution_count": null,
   "id": "fb155307",
   "metadata": {},
   "outputs": [
    {
     "data": {
      "text/plain": [
       "[[['John', 'john00@mail.com', 'john_newyork@mail.com', 'johnsmith@mail.com']],\n",
       " [['Mary', 'mary@mail.com']],\n",
       " [['John', 'johnnybravo@mail.com']]]"
      ]
     },
     "execution_count": 8,
     "metadata": {},
     "output_type": "execute_result"
    }
   ],
   "source": [
    "from collections import defaultdict\n",
    "\n",
    "class Solution:\n",
    "    def accountsMerge(self, accounts):\n",
    "        parent = {}\n",
    "        email_name = {}\n",
    "\n",
    "        def find(x):\n",
    "            if parent[x] != x:\n",
    "                parent[x] = find(parent[x])\n",
    "            return parent[x]\n",
    "\n",
    "        def union(x, y):\n",
    "            parent[find(x)] = find(y)\n",
    "\n",
    "        # 1. Find parent and map email and name\n",
    "        for account in accounts:\n",
    "            name = account[0]\n",
    "            first_email = account[1]\n",
    "\n",
    "            for email in account[1:]:\n",
    "                if email not in parent:\n",
    "                    parent[email] = email\n",
    "                union(first_email, email)\n",
    "                email_name[email] = name\n",
    "            \n",
    "        # 2. group parent and its child list in default dict\n",
    "        group = defaultdict(list)\n",
    "        for email in parent:\n",
    "            root = find(email)\n",
    "            group[root].append(email)\n",
    "\n",
    "        # 3. merge name and sorted child list\n",
    "        res = []\n",
    "        for email, child in group.items():\n",
    "            res.append([email_name[email]] + sorted(child))\n",
    "        \n",
    "        return res\n",
    "\n",
    "Solution().accountsMerge(accounts = [[\"John\",\"johnsmith@mail.com\",\"john_newyork@mail.com\"],[\"John\",\"johnsmith@mail.com\",\"john00@mail.com\"],[\"Mary\",\"mary@mail.com\"],[\"John\",\"johnnybravo@mail.com\"]])"
   ]
  },
  {
   "cell_type": "code",
   "execution_count": null,
   "id": "90aca422",
   "metadata": {},
   "outputs": [],
   "source": []
  }
 ],
 "metadata": {
  "kernelspec": {
   "display_name": "Python 3",
   "language": "python",
   "name": "python3"
  },
  "language_info": {
   "codemirror_mode": {
    "name": "ipython",
    "version": 3
   },
   "file_extension": ".py",
   "mimetype": "text/x-python",
   "name": "python",
   "nbconvert_exporter": "python",
   "pygments_lexer": "ipython3",
   "version": "3.11.9"
  }
 },
 "nbformat": 4,
 "nbformat_minor": 5
}
