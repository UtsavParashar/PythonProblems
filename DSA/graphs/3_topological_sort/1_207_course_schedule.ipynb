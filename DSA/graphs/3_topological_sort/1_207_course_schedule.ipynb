{
 "cells": [
  {
   "cell_type": "markdown",
   "id": "ce4db408",
   "metadata": {},
   "source": [
    "#### 207. Course Schedule\n",
    "\n",
    "* https://leetcode.com/problems/course-schedule/description/"
   ]
  },
  {
   "cell_type": "code",
   "execution_count": null,
   "id": "ddea78e5",
   "metadata": {},
   "outputs": [
    {
     "data": {
      "text/plain": [
       "False"
      ]
     },
     "execution_count": 10,
     "metadata": {},
     "output_type": "execute_result"
    }
   ],
   "source": [
    "from collections import defaultdict\n",
    "\n",
    "class Solution:\n",
    "    def canFinish(self, numCourses, prerequisites) -> bool:\n",
    "        # create dag\n",
    "        dag = defaultdict(list)\n",
    "\n",
    "        for course, prereq in prerequisites:\n",
    "            dag[course].append(prereq)\n",
    "\n",
    "        visited = [0]*numCourses # 0 - unvisited\n",
    "\n",
    "        def dfs(node):\n",
    "            if visited[node] == 1: # visiting\n",
    "                return False # if twice in visiting state means cyclical graph\n",
    "\n",
    "            if visited[node] == 2: # visited\n",
    "                return True\n",
    "\n",
    "            visited[node] = 1 # convert a node to visiting\n",
    "            for nei in dag[node]:\n",
    "                if not dfs(nei):\n",
    "                    return False\n",
    "            \n",
    "            visited[node] = 2 # mark visited\n",
    "            return True\n",
    "\n",
    "\n",
    "        for i in range(numCourses):\n",
    "            if not dfs(i):\n",
    "                return False\n",
    "\n",
    "        return True\n",
    "\n",
    "\n",
    "Solution().canFinish(numCourses = 2, prerequisites = [[1,0],[0,1]])"
   ]
  },
  {
   "cell_type": "code",
   "execution_count": null,
   "id": "8715595a",
   "metadata": {},
   "outputs": [],
   "source": []
  }
 ],
 "metadata": {
  "kernelspec": {
   "display_name": "Python 3",
   "language": "python",
   "name": "python3"
  },
  "language_info": {
   "codemirror_mode": {
    "name": "ipython",
    "version": 3
   },
   "file_extension": ".py",
   "mimetype": "text/x-python",
   "name": "python",
   "nbconvert_exporter": "python",
   "pygments_lexer": "ipython3",
   "version": "3.11.9"
  }
 },
 "nbformat": 4,
 "nbformat_minor": 5
}
