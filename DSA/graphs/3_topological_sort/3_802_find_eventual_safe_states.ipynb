{
 "cells": [
  {
   "cell_type": "markdown",
   "id": "2a181453",
   "metadata": {},
   "source": [
    "#### 802. Find Eventual Safe States\n",
    "\n",
    "* https://leetcode.com/problems/find-eventual-safe-states/"
   ]
  },
  {
   "cell_type": "code",
   "execution_count": null,
   "id": "4594ae76",
   "metadata": {},
   "outputs": [
    {
     "data": {
      "text/plain": [
       "[2, 4, 5, 6]"
      ]
     },
     "execution_count": 2,
     "metadata": {},
     "output_type": "execute_result"
    }
   ],
   "source": [
    "# Ref - https://www.youtube.com/watch?v=wciKkM3g3wQ\n",
    "\n",
    "class Solution:\n",
    "    def eventualSafeNodes(self, graph):\n",
    "        safe_map = {}\n",
    "        res = []\n",
    "\n",
    "        n = len(graph)\n",
    "\n",
    "        def dfs(node):\n",
    "            if node in safe_map:\n",
    "                return safe_map[node]\n",
    "\n",
    "            safe_map[node] = False\n",
    "\n",
    "            for nei in graph[node]:\n",
    "                if not dfs(nei):\n",
    "                    return False\n",
    "            \n",
    "            safe_map[node] = True\n",
    "            return safe_map[node]\n",
    "\n",
    "        for i in range(n):\n",
    "            if dfs(i):\n",
    "                res.append(i)\n",
    "\n",
    "        return res\n",
    "\n",
    "Solution().eventualSafeNodes(graph = [[1,2],[2,3],[5],[0],[5],[],[]])"
   ]
  },
  {
   "cell_type": "code",
   "execution_count": null,
   "id": "a90fbb27",
   "metadata": {},
   "outputs": [],
   "source": []
  }
 ],
 "metadata": {
  "kernelspec": {
   "display_name": "Python 3",
   "language": "python",
   "name": "python3"
  },
  "language_info": {
   "codemirror_mode": {
    "name": "ipython",
    "version": 3
   },
   "file_extension": ".py",
   "mimetype": "text/x-python",
   "name": "python",
   "nbconvert_exporter": "python",
   "pygments_lexer": "ipython3",
   "version": "3.11.9"
  }
 },
 "nbformat": 4,
 "nbformat_minor": 5
}
