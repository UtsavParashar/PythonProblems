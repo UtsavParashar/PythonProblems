{
 "cells": [
  {
   "cell_type": "markdown",
   "id": "f2622bcc",
   "metadata": {},
   "source": [
    "#### 30. Substring with Concatenation of All Words\n",
    "\n",
    "* https://leetcode.com/problems/substring-with-concatenation-of-all-words/description/"
   ]
  },
  {
   "cell_type": "code",
   "execution_count": 19,
   "id": "6c498653",
   "metadata": {},
   "outputs": [],
   "source": [
    "# Credit - https://www.youtube.com/watch?v=taYRJf-M25I\n",
    "# https://github.com/AlgoMaster-io/leetcode-solutions/blob/main/python/substring-with-concatenation-of-all-words.md#approach-2-sliding-window-with-hashmap-solution\n",
    "\n",
    "from collections import Counter, defaultdict\n",
    "def find_substring(s: str, words: list):\n",
    "    if not s or not words:\n",
    "        return []\n",
    "\n",
    "    word_length = len(words[0])\n",
    "    word_count = len(words)\n",
    "    word_freq = Counter(words)\n",
    "    res = []\n",
    "\n",
    "    for i in range(word_length):\n",
    "        left = i\n",
    "        seen = defaultdict(int)\n",
    "        count = 0\n",
    "\n",
    "        for j in range(i, len(s)-word_length+1, word_length):\n",
    "            word = s[j:j+word_length]\n",
    "\n",
    "            if word in word_freq:\n",
    "                seen[word] += 1\n",
    "                count += 1\n",
    "\n",
    "                while seen[word] > word_freq[word]:\n",
    "                    left_word = s[left: left + word_length]\n",
    "                    seen[left_word] -= 1\n",
    "                    count -= 1\n",
    "                    left += word_length\n",
    "\n",
    "                if count == word_count:\n",
    "                    res.append(left)\n",
    "\n",
    "            else:\n",
    "                seen.clear()\n",
    "                count = 0\n",
    "                left = j+word_length\n",
    "    \n",
    "    return res\n"
   ]
  },
  {
   "cell_type": "code",
   "execution_count": 20,
   "id": "d3494d7c",
   "metadata": {},
   "outputs": [
    {
     "data": {
      "text/plain": [
       "[0, 9]"
      ]
     },
     "execution_count": 20,
     "metadata": {},
     "output_type": "execute_result"
    }
   ],
   "source": [
    "find_substring(s = \"barfoothefoobarman\", words = [\"foo\",\"bar\"])"
   ]
  },
  {
   "cell_type": "code",
   "execution_count": null,
   "id": "d5c4c243",
   "metadata": {},
   "outputs": [],
   "source": []
  }
 ],
 "metadata": {
  "kernelspec": {
   "display_name": "Python 3",
   "language": "python",
   "name": "python3"
  },
  "language_info": {
   "codemirror_mode": {
    "name": "ipython",
    "version": 3
   },
   "file_extension": ".py",
   "mimetype": "text/x-python",
   "name": "python",
   "nbconvert_exporter": "python",
   "pygments_lexer": "ipython3",
   "version": "3.11.9"
  }
 },
 "nbformat": 4,
 "nbformat_minor": 5
}
