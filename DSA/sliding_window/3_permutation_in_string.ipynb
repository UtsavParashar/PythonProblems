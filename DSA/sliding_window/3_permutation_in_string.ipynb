{
 "cells": [
  {
   "cell_type": "markdown",
   "metadata": {},
   "source": [
    "#### 567. Permutation in String\n",
    "\n",
    "- Given two strings s1 and s2, return true if s2 contains a permutation of s1, or false otherwise.\n",
    "- In other words, return true if one of s1's permutations is the substring of s2.\n",
    "\n",
    "- Example 1:\n",
    "- Input: s1 = \"ab\", s2 = \"eidbaooo\"\n",
    "- Output: true\n",
    "- Explanation: s2 contains one permutation of s1 (\"ba\").\n",
    "\n",
    "- Example 2:\n",
    "- Input: s1 = \"ab\", s2 = \"eidboaoo\"\n",
    "- Output: false"
   ]
  },
  {
   "cell_type": "code",
   "execution_count": 20,
   "metadata": {},
   "outputs": [],
   "source": [
    "def brute_force(s1, s2):\n",
    "    \n",
    "    def get_permutations(ls):\n",
    "        res = set()\n",
    "        sol = []\n",
    "\n",
    "        def backtrack():\n",
    "            if len(sol) == len(s1):\n",
    "                res.add(''.join(sol))\n",
    "                return\n",
    "\n",
    "            for x in ls:\n",
    "                if x not in sol:\n",
    "                    sol.append(x)\n",
    "                    backtrack()\n",
    "                    sol.pop()\n",
    "\n",
    "        backtrack()\n",
    "        return res\n",
    "\n",
    "    perms = get_permutations(list(s1))\n",
    "    i = 0\n",
    "    while i < len(s2):\n",
    "        if i >= len(s1):\n",
    "            curr_str = s2[i-len(s1):i]\n",
    "            if curr_str in perms:\n",
    "                return True\n",
    "        i += 1\n",
    "    return False\n",
    "        \n"
   ]
  },
  {
   "cell_type": "code",
   "execution_count": 22,
   "metadata": {},
   "outputs": [
    {
     "data": {
      "text/plain": [
       "True"
      ]
     },
     "execution_count": 22,
     "metadata": {},
     "output_type": "execute_result"
    }
   ],
   "source": [
    "brute_force('ab', 'eidbaoo')"
   ]
  },
  {
   "cell_type": "code",
   "execution_count": 28,
   "metadata": {},
   "outputs": [],
   "source": [
    "from collections import Counter,defaultdict\n",
    "def check_inclusion(s1, s2):\n",
    "    s1_counter = Counter(s1)\n",
    "    s2_counter = defaultdict(int)\n",
    "\n",
    "    for i in range(len(s2)):\n",
    "        s2_counter[s2[i]] += 1\n",
    "        \n",
    "        if i >= len(s1):\n",
    "            if s2_counter[s2[i-len(s1)]] == 1:\n",
    "                del s2_counter[s2[i-len(s1)]]\n",
    "            else:\n",
    "                s2_counter[s2[i-len(s1)]] -= 1\n",
    "        \n",
    "        if s1_counter == s2_counter:\n",
    "            return True\n",
    "    \n",
    "    return False\n",
    "\n",
    "        \n",
    "        \n",
    "\n"
   ]
  },
  {
   "cell_type": "code",
   "execution_count": 31,
   "metadata": {},
   "outputs": [
    {
     "data": {
      "text/plain": [
       "True"
      ]
     },
     "execution_count": 31,
     "metadata": {},
     "output_type": "execute_result"
    }
   ],
   "source": [
    "check_inclusion('ab', 'cba')"
   ]
  },
  {
   "cell_type": "code",
   "execution_count": null,
   "metadata": {},
   "outputs": [],
   "source": []
  }
 ],
 "metadata": {
  "kernelspec": {
   "display_name": "Python 3",
   "language": "python",
   "name": "python3"
  },
  "language_info": {
   "codemirror_mode": {
    "name": "ipython",
    "version": 3
   },
   "file_extension": ".py",
   "mimetype": "text/x-python",
   "name": "python",
   "nbconvert_exporter": "python",
   "pygments_lexer": "ipython3",
   "version": "3.11.9"
  }
 },
 "nbformat": 4,
 "nbformat_minor": 2
}
