{
 "cells": [
  {
   "cell_type": "markdown",
   "id": "64f6e812",
   "metadata": {},
   "source": [
    "#### 2461. Max Sum of Distinct Subarray with length k\n",
    "\n",
    "* https://leetcode.com/problems/maximum-sum-of-distinct-subarrays-with-length-k/description/"
   ]
  },
  {
   "cell_type": "code",
   "execution_count": null,
   "id": "3010d881",
   "metadata": {},
   "outputs": [],
   "source": [
    "def max_subarray_sum(nums, k):\n",
    "    subarray = []\n",
    "    max_sum, curr_sum = 0, 0\n",
    "    for i in range(len(nums)):\n",
    "        if i >= k or nums[i] in subarray:\n",
    "            subarray.remove(i-k)\n",
    "            continue\n",
    "            subarray.append(nums[i])\n",
    "            curr_sum += nums[i] - nums[i-k]\n",
    "            max_sum = max(max_sum, curr_sum)\n",
    "\n",
    "        print(i, curr_sum, max_sum, subarray)\n",
    "    return max_sum\n",
    "\n"
   ]
  },
  {
   "cell_type": "code",
   "execution_count": 10,
   "id": "4b541e49",
   "metadata": {},
   "outputs": [
    {
     "name": "stdout",
     "output_type": "stream",
     "text": [
      "0 -8 0 [1]\n",
      "1 -12 0 [1, 5]\n",
      "2 -17 0 [1, 5, 4]\n"
     ]
    },
    {
     "ename": "ValueError",
     "evalue": "list.remove(x): x not in list",
     "output_type": "error",
     "traceback": [
      "\u001b[1;31m---------------------------------------------------------------------------\u001b[0m",
      "\u001b[1;31mValueError\u001b[0m                                Traceback (most recent call last)",
      "Cell \u001b[1;32mIn[10], line 1\u001b[0m\n\u001b[1;32m----> 1\u001b[0m \u001b[43mmax_subarray_sum\u001b[49m\u001b[43m(\u001b[49m\u001b[43mnums\u001b[49m\u001b[43m \u001b[49m\u001b[38;5;241;43m=\u001b[39;49m\u001b[43m \u001b[49m\u001b[43m[\u001b[49m\u001b[38;5;241;43m1\u001b[39;49m\u001b[43m,\u001b[49m\u001b[38;5;241;43m5\u001b[39;49m\u001b[43m,\u001b[49m\u001b[38;5;241;43m4\u001b[39;49m\u001b[43m,\u001b[49m\u001b[38;5;241;43m2\u001b[39;49m\u001b[43m,\u001b[49m\u001b[38;5;241;43m9\u001b[39;49m\u001b[43m,\u001b[49m\u001b[38;5;241;43m9\u001b[39;49m\u001b[43m,\u001b[49m\u001b[38;5;241;43m9\u001b[39;49m\u001b[43m]\u001b[49m\u001b[43m,\u001b[49m\u001b[43m \u001b[49m\u001b[43mk\u001b[49m\u001b[43m \u001b[49m\u001b[38;5;241;43m=\u001b[39;49m\u001b[43m \u001b[49m\u001b[38;5;241;43m3\u001b[39;49m\u001b[43m)\u001b[49m\n",
      "Cell \u001b[1;32mIn[9], line 6\u001b[0m, in \u001b[0;36mmax_subarray_sum\u001b[1;34m(nums, k)\u001b[0m\n\u001b[0;32m      4\u001b[0m \u001b[38;5;28;01mfor\u001b[39;00m i \u001b[38;5;129;01min\u001b[39;00m \u001b[38;5;28mrange\u001b[39m(\u001b[38;5;28mlen\u001b[39m(nums)):\n\u001b[0;32m      5\u001b[0m     \u001b[38;5;28;01mif\u001b[39;00m i \u001b[38;5;241m>\u001b[39m\u001b[38;5;241m=\u001b[39m k \u001b[38;5;129;01mor\u001b[39;00m nums[i] \u001b[38;5;129;01min\u001b[39;00m subarray:\n\u001b[1;32m----> 6\u001b[0m         \u001b[43msubarray\u001b[49m\u001b[38;5;241;43m.\u001b[39;49m\u001b[43mremove\u001b[49m\u001b[43m(\u001b[49m\u001b[43mi\u001b[49m\u001b[38;5;241;43m-\u001b[39;49m\u001b[43mk\u001b[49m\u001b[43m)\u001b[49m\n\u001b[0;32m      7\u001b[0m         \u001b[38;5;28;01mcontinue\u001b[39;00m\n\u001b[0;32m      8\u001b[0m     subarray\u001b[38;5;241m.\u001b[39mappend(nums[i])\n",
      "\u001b[1;31mValueError\u001b[0m: list.remove(x): x not in list"
     ]
    }
   ],
   "source": [
    "max_subarray_sum(nums = [1,5,4,2,9,9,9], k = 3)"
   ]
  },
  {
   "cell_type": "code",
   "execution_count": null,
   "id": "8768d5cd",
   "metadata": {},
   "outputs": [],
   "source": []
  }
 ],
 "metadata": {
  "kernelspec": {
   "display_name": "Python 3",
   "language": "python",
   "name": "python3"
  },
  "language_info": {
   "codemirror_mode": {
    "name": "ipython",
    "version": 3
   },
   "file_extension": ".py",
   "mimetype": "text/x-python",
   "name": "python",
   "nbconvert_exporter": "python",
   "pygments_lexer": "ipython3",
   "version": "3.11.9"
  }
 },
 "nbformat": 4,
 "nbformat_minor": 5
}
