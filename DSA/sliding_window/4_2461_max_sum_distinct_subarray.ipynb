{
 "cells": [
  {
   "cell_type": "markdown",
   "id": "64f6e812",
   "metadata": {},
   "source": [
    "#### 2461. Max Sum of Distinct Subarray with length k\n",
    "\n",
    "* https://leetcode.com/problems/maximum-sum-of-distinct-subarrays-with-length-k/description/"
   ]
  },
  {
   "cell_type": "code",
   "execution_count": 14,
   "id": "3010d881",
   "metadata": {},
   "outputs": [],
   "source": [
    "# Credit - https://github.com/AlgoMaster-io/leetcode-solutions/blob/main/python/maximum-sum-of-distinct-subarrays-with-length-k.md#sliding-window--set-approach\n",
    "def max_subarray_sum(nums, k):\n",
    "    max_sum = curr_sum = 0\n",
    "    curr_set = set()\n",
    "    left = 0 # left pointer of the sliding window\n",
    "\n",
    "    for right, num in enumerate(nums):\n",
    "        # We are removing left element from the set using nums[left]\n",
    "        while num in curr_set:\n",
    "            curr_set.remove(nums[left])\n",
    "            curr_sum -= nums[left]\n",
    "            left += 1\n",
    "\n",
    "        # Add nums right to the set and sum\n",
    "        curr_set.add(num)\n",
    "        curr_sum += num\n",
    "\n",
    "        if right - left + 1 == k:\n",
    "            max_sum = max(max_sum, curr_sum)\n",
    "            curr_set.remove(nums[left])\n",
    "            curr_sum -= nums[left]\n",
    "            left += 1\n",
    "\n",
    "    return max_sum\n",
    "\n"
   ]
  },
  {
   "cell_type": "code",
   "execution_count": 13,
   "id": "4b541e49",
   "metadata": {},
   "outputs": [
    {
     "data": {
      "text/plain": [
       "15"
      ]
     },
     "execution_count": 13,
     "metadata": {},
     "output_type": "execute_result"
    }
   ],
   "source": [
    "max_subarray_sum(nums = [1,5,4,2,9,9,9], k = 3)"
   ]
  },
  {
   "cell_type": "markdown",
   "id": "bbc303d6",
   "metadata": {},
   "source": [
    "### Explanation of the Code\n",
    "\n",
    "1. **Function Definition**: The function `max_subarray_sum` takes two arguments: `nums` (a list of integers) and `k` (the length of the subarray).\n",
    "2. **Initialization**: Variables `max_sum` and `curr_sum` are initialized to 0 to track the maximum sum and the current sum of the subarray. A set `curr_set` is used to store distinct elements, and `left` is the left pointer of the sliding window.\n",
    "3. **Sliding Window Logic**:\n",
    "   - Iterate through the array using the `right` pointer.\n",
    "   - If the current number (`num`) is already in the set, remove elements from the left of the window until `num` is no longer in the set.\n",
    "   - Add `num` to the set and update the current sum.\n",
    "4. **Check Subarray Length**: If the window size equals `k`, update `max_sum` if the current sum is greater. Then, slide the window by removing the leftmost element.\n",
    "5. **Return Result**: After processing all elements, return the maximum sum of any subarray of length `k` with distinct elements."
   ]
  },
  {
   "cell_type": "code",
   "execution_count": null,
   "id": "8768d5cd",
   "metadata": {},
   "outputs": [],
   "source": []
  }
 ],
 "metadata": {
  "kernelspec": {
   "display_name": "Python 3",
   "language": "python",
   "name": "python3"
  },
  "language_info": {
   "codemirror_mode": {
    "name": "ipython",
    "version": 3
   },
   "file_extension": ".py",
   "mimetype": "text/x-python",
   "name": "python",
   "nbconvert_exporter": "python",
   "pygments_lexer": "ipython3",
   "version": "3.11.9"
  }
 },
 "nbformat": 4,
 "nbformat_minor": 5
}
