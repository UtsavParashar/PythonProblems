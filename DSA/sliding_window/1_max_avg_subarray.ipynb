{
 "cells": [
  {
   "cell_type": "markdown",
   "metadata": {},
   "source": [
    "### 643. Maximum Average Subarray I - https://leetcode.com/problems/maximum-average-subarray-i/description/\n",
    "\n",
    "- You are given an integer array nums consisting of n elements, and an integer k.\n",
    "- Find a contiguous subarray whose length is equal to k that has the maximum average value and return this value. Any answer with a calculation error less than 10-5 will be accepted.\n",
    "\n",
    "- Example 1:\n",
    "- Input: nums = [1,12,-5,-6,50,3], k = 4\n",
    "- Output: 12.75000\n",
    "- Explanation: Maximum average is (12 - 5 - 6 + 50) / 4 = 51 / 4 = 12.75\n",
    "\n",
    "- Example 2:\n",
    "- Input: nums = [5], k = 1\n",
    "- Output: 5.00000"
   ]
  },
  {
   "cell_type": "code",
   "execution_count": 10,
   "metadata": {},
   "outputs": [],
   "source": [
    "def brute_force(nums, k):\n",
    "    max_avg = 0\n",
    "    for i in range(len(nums)-k+1):\n",
    "        sums = 0\n",
    "        for j in range(i, i+k):\n",
    "            sums += nums[j]\n",
    "        avg = sums/k\n",
    "        print(i, j, avg, sums)\n",
    "        max_avg = max(max_avg, avg)\n",
    "    return max_avg"
   ]
  },
  {
   "cell_type": "code",
   "execution_count": 11,
   "metadata": {},
   "outputs": [
    {
     "name": "stdout",
     "output_type": "stream",
     "text": [
      "0 3 0.5 2\n",
      "1 4 12.75 51\n",
      "2 5 10.5 42\n"
     ]
    },
    {
     "data": {
      "text/plain": [
       "12.75"
      ]
     },
     "execution_count": 11,
     "metadata": {},
     "output_type": "execute_result"
    }
   ],
   "source": [
    "brute_force(nums = [1,12,-5,-6,50,3], k = 4)"
   ]
  },
  {
   "cell_type": "code",
   "execution_count": null,
   "metadata": {},
   "outputs": [],
   "source": [
    "def find_max_average(nums, k):\n",
    "    current_sum = sum(nums[:k])\n",
    "    max_sum = current_sum\n",
    "\n",
    "    for i in range(k, len(nums)):\n",
    "        current_sum += nums[i] - nums[i-k]\n",
    "        max_sum = max(max_sum, current_sum)\n",
    "\n",
    "    return max_sum/k"
   ]
  },
  {
   "cell_type": "code",
   "execution_count": 27,
   "metadata": {},
   "outputs": [
    {
     "name": "stdout",
     "output_type": "stream",
     "text": [
      "2\n"
     ]
    },
    {
     "data": {
      "text/plain": [
       "12.75"
      ]
     },
     "execution_count": 27,
     "metadata": {},
     "output_type": "execute_result"
    }
   ],
   "source": [
    "find_max_average(nums = [1,12,-5,-6,50,3], k = 4)"
   ]
  }
 ],
 "metadata": {
  "kernelspec": {
   "display_name": "Python 3",
   "language": "python",
   "name": "python3"
  },
  "language_info": {
   "codemirror_mode": {
    "name": "ipython",
    "version": 3
   },
   "file_extension": ".py",
   "mimetype": "text/x-python",
   "name": "python",
   "nbconvert_exporter": "python",
   "pygments_lexer": "ipython3",
   "version": "3.11.9"
  }
 },
 "nbformat": 4,
 "nbformat_minor": 2
}
