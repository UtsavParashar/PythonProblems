{
 "cells": [
  {
   "cell_type": "markdown",
   "metadata": {},
   "source": [
    "#### 438. Find All Anagrams in a String\n",
    "\n",
    "- Given two strings s and p, return an array of all the start indices of p's anagrams in s. You may return the answer in any order.\n",
    "\n",
    "- Example 1:\n",
    "- Input: s = \"cbaebabacd\", p = \"abc\"\n",
    "- Output: [0,6]\n",
    "- Explanation:\n",
    "- The substring with start index = 0 is \"cba\", which is an anagram of \"abc\".\n",
    "- The substring with start index = 6 is \"bac\", which is an anagram of \"abc\".\n",
    "\n",
    "- Example 2:\n",
    "- Input: s = \"abab\", p = \"ab\"\n",
    "- Output: [0,1,2]\n",
    "- Explanation:\n",
    "- The substring with start index = 0 is \"ab\", which is an anagram of \"ab\".\n",
    "- The substring with start index = 1 is \"ba\", which is an anagram of \"ab\".\n",
    "- The substring with start index = 2 is \"ab\", which is an anagram of \"ab\".\n"
   ]
  },
  {
   "cell_type": "markdown",
   "metadata": {},
   "source": [
    "##### Ultra brute force solution\n",
    "- Find all permutations of the substring p and store them in a set\n",
    "- run sliding window over the string to check if the substring from string is in the set"
   ]
  },
  {
   "cell_type": "code",
   "execution_count": 20,
   "metadata": {},
   "outputs": [],
   "source": [
    "def brute_force(s: str, p: str) -> list[int]:\n",
    "    output = []\n",
    "\n",
    "    def get_permutations(l):\n",
    "        res = set()\n",
    "        sol = []\n",
    "\n",
    "        def backtrack():\n",
    "            if len(sol) == len(l):\n",
    "                res.add(''.join(sol))\n",
    "                return\n",
    "\n",
    "            for i in l:\n",
    "                if i not in sol:\n",
    "                    sol.append(i)\n",
    "                    backtrack()\n",
    "                    sol.pop()\n",
    "        \n",
    "        backtrack()\n",
    "        return res\n",
    "\n",
    "    perms = get_permutations(list(p))\n",
    "\n",
    "    for i in range(len(s)-len(p)+1):\n",
    "        check_str = s[i:i+len(p)]\n",
    "        if check_str in perms:\n",
    "            output.append(i)\n",
    "\n",
    "    return output\n",
    "\n"
   ]
  },
  {
   "cell_type": "code",
   "execution_count": 21,
   "metadata": {},
   "outputs": [
    {
     "data": {
      "text/plain": [
       "[0, 1, 2]"
      ]
     },
     "execution_count": 21,
     "metadata": {},
     "output_type": "execute_result"
    }
   ],
   "source": [
    "brute_force(s = \"abab\", p = \"ab\")"
   ]
  },
  {
   "cell_type": "code",
   "execution_count": 22,
   "metadata": {},
   "outputs": [
    {
     "data": {
      "text/plain": [
       "[0, 6]"
      ]
     },
     "execution_count": 22,
     "metadata": {},
     "output_type": "execute_result"
    }
   ],
   "source": [
    "brute_force(s = \"cbaebabacd\", p = \"abc\")"
   ]
  },
  {
   "cell_type": "code",
   "execution_count": 37,
   "metadata": {},
   "outputs": [],
   "source": [
    "from collections import Counter\n",
    "\n",
    "def better_solution(s, p):\n",
    "    output = []\n",
    "\n",
    "    for i in range(len(s)-len(p)+1):\n",
    "        check_str = s[i:i+len(p)]\n",
    "        check_str_counter = Counter(check_str)\n",
    "        counter_p = Counter(p)\n",
    "        for c in counter_p.keys():\n",
    "            if c in check_str_counter.keys() and counter_p[c] == check_str_counter[c]:\n",
    "                counter_p[c] -=  1\n",
    "                check_str_counter[c] -= 1\n",
    "            else:\n",
    "                break\n",
    "        if counter_p == check_str_counter:\n",
    "            output.append(i) \n",
    "    return output"
   ]
  },
  {
   "cell_type": "code",
   "execution_count": 40,
   "metadata": {},
   "outputs": [
    {
     "name": "stdout",
     "output_type": "stream",
     "text": [
      "23.3 μs ± 351 ns per loop (mean ± std. dev. of 7 runs, 10,000 loops each)\n"
     ]
    }
   ],
   "source": [
    "%timeit better_solution(s = \"cbaebabacd\", p = \"abc\")"
   ]
  },
  {
   "cell_type": "code",
   "execution_count": 50,
   "metadata": {},
   "outputs": [],
   "source": [
    "from collections import defaultdict, Counter\n",
    "\n",
    "def findAnagrams(s, p):\n",
    "    # Initialize result and dictionary structures\n",
    "    result = []\n",
    "    p_count = Counter(p)\n",
    "    s_count = Counter()\n",
    "\n",
    "    # sliding window\n",
    "    for i in range(len(s)):\n",
    "        s_count[s[i]] += 1\n",
    "        \n",
    "        if i >= len(p):\n",
    "            if s_count[s[i-len(p)]] == 1:\n",
    "                del s_count[s[i-len(p)]]\n",
    "            else:\n",
    "                s_count[s[i-len(p)]] -= 1\n",
    "        \n",
    "        if p_count == s_count:\n",
    "            result.append(i-len(p)+1)\n",
    "    return result\n"
   ]
  },
  {
   "cell_type": "code",
   "execution_count": 51,
   "metadata": {},
   "outputs": [
    {
     "data": {
      "text/plain": [
       "[0, 6]"
      ]
     },
     "execution_count": 51,
     "metadata": {},
     "output_type": "execute_result"
    }
   ],
   "source": [
    "findAnagrams(s = \"cbaebabacd\", p = \"abc\")"
   ]
  },
  {
   "cell_type": "code",
   "execution_count": null,
   "metadata": {},
   "outputs": [],
   "source": []
  }
 ],
 "metadata": {
  "kernelspec": {
   "display_name": "Python 3",
   "language": "python",
   "name": "python3"
  },
  "language_info": {
   "codemirror_mode": {
    "name": "ipython",
    "version": 3
   },
   "file_extension": ".py",
   "mimetype": "text/x-python",
   "name": "python",
   "nbconvert_exporter": "python",
   "pygments_lexer": "ipython3",
   "version": "3.11.9"
  }
 },
 "nbformat": 4,
 "nbformat_minor": 2
}
