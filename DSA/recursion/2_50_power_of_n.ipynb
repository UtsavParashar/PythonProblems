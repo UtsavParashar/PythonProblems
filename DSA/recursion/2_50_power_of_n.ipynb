{
 "cells": [
  {
   "cell_type": "markdown",
   "metadata": {},
   "source": [
    "#### 50. Pow(x, n)\n",
    "* https://leetcode.com/problems/powx-n/description/\n",
    "\n",
    "\n",
    "- Implement pow(x, n), which calculates x raised to the power n (i.e., xn).\n",
    "\n",
    "- Example 1:\n",
    "- Input: x = 2.00000, n = 10\n",
    "- Output: 1024.00000\n",
    "\n",
    "- Example 2:\n",
    "- Input: x = 2.10000, n = 3\n",
    "- Output: 9.26100\n",
    "\n",
    "- Example 3:\n",
    "- Input: x = 2.00000, n = -2\n",
    "- Output: 0.25000\n",
    "- Explanation: 2-2 = 1/22 = 1/4 = 0.25"
   ]
  },
  {
   "cell_type": "code",
   "execution_count": 17,
   "metadata": {},
   "outputs": [
    {
     "name": "stdout",
     "output_type": "stream",
     "text": [
      "1024.0\n"
     ]
    },
    {
     "data": {
      "text/plain": [
       "1024.0"
      ]
     },
     "execution_count": 17,
     "metadata": {},
     "output_type": "execute_result"
    }
   ],
   "source": [
    "import math\n",
    "print(math.pow(2,10))\n",
    "math.pow(2,5)*math.pow(2,5)"
   ]
  },
  {
   "cell_type": "code",
   "execution_count": null,
   "metadata": {},
   "outputs": [],
   "source": [
    "## Time complexity - O(n)\n",
    "def brute_force_pow(x, n):\n",
    "    # Handle the case where n is zero\n",
    "    if n == 0:\n",
    "        return 1\n",
    "    \n",
    "    res = 1\n",
    "    \n",
    "    # Handle negative powers by using the reciprocal of x\n",
    "    exponent = abs(n)\n",
    "\n",
    "    for _ in range(exponent):\n",
    "        res *= x\n",
    "    \n",
    "    # If n is negative, return the reciprocal\n",
    "    return res if n > 0 else 1/res"
   ]
  },
  {
   "cell_type": "code",
   "execution_count": 20,
   "metadata": {},
   "outputs": [
    {
     "data": {
      "text/plain": [
       "4"
      ]
     },
     "execution_count": 20,
     "metadata": {},
     "output_type": "execute_result"
    }
   ],
   "source": [
    "brute_force_pow(-2, 2)"
   ]
  },
  {
   "cell_type": "code",
   "execution_count": null,
   "metadata": {},
   "outputs": [],
   "source": [
    "#### Using recursion - time complexity O(log n),  Space Complexity - O(long n) for recursion stack\n",
    "## Logic - 2 ^ 10 could be written as 2^5 * 2^5\n",
    "## 2^5 can be written as 2 * 2^2 * 2^2\n",
    "## if x == 0, return 0 --> as 0^n is 0\n",
    "## if n == 0, return 1 --> anything raise to power 0 is 1\n",
    "## find the power using abs(n) and then at the end check if n is negative then return reciprocal\n",
    "## If you want to be extra smart in recursion 2^2 * 2^2 can we written as 4^2 \n"
   ]
  },
  {
   "cell_type": "code",
   "execution_count": 35,
   "metadata": {},
   "outputs": [],
   "source": [
    "def optimized_pow(x, n):\n",
    "    if x == 0: return 0\n",
    "    def pow_helper(x, n):\n",
    "        if n == 0: return 1\n",
    "\n",
    "        res = pow_helper(x*x, n//2) # 2^2 * 2^2 can we written as 4^2 \n",
    "        # res = pow_helper(x, n//2)\n",
    "        # res = res*res\n",
    "\n",
    "        return x*res if n%2 else res\n",
    "    \n",
    "    res = pow_helper(x, abs(n))\n",
    "    return res if n>=0 else 1/res"
   ]
  },
  {
   "cell_type": "code",
   "execution_count": 36,
   "metadata": {},
   "outputs": [
    {
     "name": "stdout",
     "output_type": "stream",
     "text": [
      "573 ns ± 43 ns per loop (mean ± std. dev. of 7 runs, 1,000,000 loops each)\n"
     ]
    }
   ],
   "source": [
    "%timeit optimized_pow(2,-10)"
   ]
  },
  {
   "cell_type": "code",
   "execution_count": 28,
   "metadata": {},
   "outputs": [],
   "source": [
    "#### Iterative Solution - Time Complexity - O(logn), space complexity - O(1)\n",
    "#### This method follows the same principle as the optimized recursive approach but avoids the stack overhead by \n",
    "## converting the recursion into iteration. \n",
    "## We continuously square the base and adjust the result when the power is odd until the power is zero."
   ]
  },
  {
   "cell_type": "code",
   "execution_count": 32,
   "metadata": {},
   "outputs": [],
   "source": [
    "def pow(x, n):\n",
    "    if n < 0:\n",
    "        x = 1/x\n",
    "        n = -n\n",
    "    \n",
    "    res = 1\n",
    "\n",
    "    while n >0 :\n",
    "        # edge case if power is odd\n",
    "        if n%2:\n",
    "            res *= x\n",
    "        \n",
    "        # square the base\n",
    "        x *= x\n",
    "\n",
    "        # half the power\n",
    "        n //= 2\n",
    "    \n",
    "    return res"
   ]
  },
  {
   "cell_type": "code",
   "execution_count": 34,
   "metadata": {},
   "outputs": [
    {
     "name": "stdout",
     "output_type": "stream",
     "text": [
      "269 ns ± 7.74 ns per loop (mean ± std. dev. of 7 runs, 1,000,000 loops each)\n"
     ]
    }
   ],
   "source": [
    "%timeit pow(2, -10)"
   ]
  },
  {
   "cell_type": "code",
   "execution_count": null,
   "metadata": {},
   "outputs": [],
   "source": []
  }
 ],
 "metadata": {
  "kernelspec": {
   "display_name": "Python 3",
   "language": "python",
   "name": "python3"
  },
  "language_info": {
   "codemirror_mode": {
    "name": "ipython",
    "version": 3
   },
   "file_extension": ".py",
   "mimetype": "text/x-python",
   "name": "python",
   "nbconvert_exporter": "python",
   "pygments_lexer": "ipython3",
   "version": "3.11.9"
  }
 },
 "nbformat": 4,
 "nbformat_minor": 2
}
