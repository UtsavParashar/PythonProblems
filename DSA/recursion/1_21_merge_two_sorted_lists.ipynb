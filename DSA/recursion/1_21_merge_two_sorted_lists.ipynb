{
 "cells": [
  {
   "cell_type": "markdown",
   "metadata": {},
   "source": [
    "#### 21. Merge Two Sorted Lists\n",
    "- You are given the heads of two sorted linked lists list1 and list2.\n",
    "- Merge the two lists into one sorted list. The list should be made by splicing together the nodes of the first two lists.\n",
    "- Return the head of the merged linked list."
   ]
  },
  {
   "cell_type": "code",
   "execution_count": null,
   "metadata": {},
   "outputs": [],
   "source": [
    "def merge_two_lists(l1, l2):\n",
    "    lp, rp = 0, 0\n",
    "    res=[]\n",
    "\n",
    "    while lp < len(l1) and rp < len(l2):\n",
    "        if l1[lp] < l2[rp]:\n",
    "            res.append(l1[lp])\n",
    "            lp += 1\n",
    "        else:\n",
    "            res.append(l2[rp])\n",
    "            rp += 1\n",
    "\n",
    "    if lp < len(l1):\n",
    "        res.extend(l1[lp:])\n",
    "    elif rp < len(l2):\n",
    "        res.extend(l2[rp:])\n",
    "    \n",
    "    return res\n"
   ]
  },
  {
   "cell_type": "code",
   "execution_count": 17,
   "metadata": {},
   "outputs": [
    {
     "data": {
      "text/plain": [
       "[1, 1, 2, 3, 4, 4]"
      ]
     },
     "execution_count": 17,
     "metadata": {},
     "output_type": "execute_result"
    }
   ],
   "source": [
    "merge_two_lists([1,2,4], [1,3,4])"
   ]
  },
  {
   "cell_type": "code",
   "execution_count": 19,
   "metadata": {},
   "outputs": [],
   "source": [
    "### using linked list\n",
    "\n",
    "class ListNode:\n",
    "    def __init__(self, val=0, next=None):\n",
    "        self.val = val\n",
    "        self.next = next\n",
    "\n",
    "\n",
    "def merge_two_linked_list(l1, l2):\n",
    "    dummy = ListNode()\n",
    "    tail = dummy\n",
    "\n",
    "    while l1 and l2:\n",
    "        if l1.val < l2.val:\n",
    "            tail.next = l1\n",
    "            l1 = l1.next\n",
    "        else:\n",
    "            tail.next = l2\n",
    "            l2 = l2.next\n",
    "        tail = tail.next\n",
    "\n",
    "    if l1:\n",
    "        tail.next = l1\n",
    "    elif l2:\n",
    "        tail.next = l2\n",
    "\n",
    "    return dummy.next\n"
   ]
  },
  {
   "cell_type": "code",
   "execution_count": null,
   "metadata": {},
   "outputs": [],
   "source": [
    "\n"
   ]
  }
 ],
 "metadata": {
  "kernelspec": {
   "display_name": "Python 3",
   "language": "python",
   "name": "python3"
  },
  "language_info": {
   "codemirror_mode": {
    "name": "ipython",
    "version": 3
   },
   "file_extension": ".py",
   "mimetype": "text/x-python",
   "name": "python",
   "nbconvert_exporter": "python",
   "pygments_lexer": "ipython3",
   "version": "3.11.9"
  }
 },
 "nbformat": 4,
 "nbformat_minor": 2
}
