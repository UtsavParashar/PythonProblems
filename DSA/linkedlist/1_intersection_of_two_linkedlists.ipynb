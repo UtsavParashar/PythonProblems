{
 "cells": [
  {
   "cell_type": "markdown",
   "metadata": {},
   "source": [
    "#### 160. Intersection of Two LinkedLists\n",
    "\n",
    "* https://leetcode.com/problems/intersection-of-two-linked-lists/description/\n"
   ]
  },
  {
   "cell_type": "markdown",
   "metadata": {},
   "source": [
    "## Optimized Solution\n",
    "\n",
    "LeetCode problem 160 is titled \"Intersection of Two Linked Lists\". The problem asks you to find the node at which two singly linked lists intersect. If the two linked lists have no intersection, return null.\n",
    "\n",
    "Optimized Solution\n",
    "The most efficient solution for this problem uses two pointers. The idea is to traverse both linked lists simultaneously, and when one pointer reaches the end of a list, it switches to the head of the other list. This ensures that both pointers traverse the same number of nodes (the combined length of both lists). If there is an intersection, the pointers will meet at the intersection node. If not, both pointers will eventually become null.\n",
    "\n",
    "This approach has a time complexity of O(m + n), where m and n are the lengths of the two linked lists, and a space complexity of O(1).\n",
    "\n",
    "Explanation\n",
    "Initialization:\n",
    "\n",
    "Two pointers, pointerA and pointerB, are initialized to the heads of the two linked lists (headA and headB).\n",
    "Traversal:\n",
    "\n",
    "Both pointers traverse their respective lists. When a pointer reaches the end of its list, it switches to the head of the other list.\n",
    "This ensures that both pointers traverse the same total distance, which is the sum of the lengths of the two lists.\n",
    "Intersection Check:\n",
    "\n",
    "If the two linked lists intersect, the pointers will meet at the intersection node.\n",
    "If they do not intersect, both pointers will eventually become None after traversing both lists.\n",
    "Return:\n",
    "\n",
    "The function returns the intersection node if it exists, or None if the lists do not intersect.\n",
    "Example\n",
    "Consider the following linked lists:\n",
    "List A: 4 -> 1 -> 8 -> 4 -> 5\n",
    "List B: 5 -> 6 -> 1 -> 8 -> 4 -> 5\n",
    "\n",
    "The intersection node is the node with value 8.\n",
    "\n",
    "Execution:\n",
    "Initially: pointerA = 4, pointerB = 5\n",
    "After traversing: pointerA = 8, pointerB = 8 (intersection found)\n",
    "Why This Works\n",
    "By switching the pointers to the other list's head after reaching the end, the difference in lengths of the two lists is effectively canceled out. This ensures that both pointers traverse the same total distance, leading to a meeting point at the intersection node (if it exists)."
   ]
  },
  {
   "cell_type": "code",
   "execution_count": null,
   "metadata": {},
   "outputs": [],
   "source": [
    "class ListNode:\n",
    "    def __init__(self, x):\n",
    "        self.val = x\n",
    "        self.next = None\n",
    "        \n",
    "\n",
    "def get_intersection_node(headA: ListNode, headB:ListNode):\n",
    "    if not headA or not headB:\n",
    "        return None\n",
    "    \n",
    "    pointerA, pointerB = headA, headB\n",
    "\n",
    "    while pointerA != pointerB:\n",
    "        pointerA = pointerA.next if pointerA else headB\n",
    "        pointerB = pointerB.next if pointerB else headA\n",
    "\n",
    "    return pointerA"
   ]
  },
  {
   "cell_type": "code",
   "execution_count": 4,
   "metadata": {},
   "outputs": [
    {
     "name": "stdout",
     "output_type": "stream",
     "text": [
      "None None\n",
      "None\n"
     ]
    }
   ],
   "source": [
    "print(get_intersection_node(ListNode([2,6,4]), ListNode([1,5])))"
   ]
  },
  {
   "cell_type": "code",
   "execution_count": null,
   "metadata": {},
   "outputs": [],
   "source": []
  }
 ],
 "metadata": {
  "kernelspec": {
   "display_name": "Python 3",
   "language": "python",
   "name": "python3"
  },
  "language_info": {
   "codemirror_mode": {
    "name": "ipython",
    "version": 3
   },
   "file_extension": ".py",
   "mimetype": "text/x-python",
   "name": "python",
   "nbconvert_exporter": "python",
   "pygments_lexer": "ipython3",
   "version": "3.11.9"
  }
 },
 "nbformat": 4,
 "nbformat_minor": 2
}
