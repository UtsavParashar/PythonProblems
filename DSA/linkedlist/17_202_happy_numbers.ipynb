{
 "cells": [
  {
   "cell_type": "markdown",
   "id": "26fcde2a",
   "metadata": {},
   "source": [
    "###  202. Happy Number\n",
    "* https://leetcode.com/problems/happy-number/description/"
   ]
  },
  {
   "cell_type": "code",
   "execution_count": 5,
   "id": "1bc8432d",
   "metadata": {},
   "outputs": [],
   "source": [
    "def is_happy(n):\n",
    "    visit = set()\n",
    "\n",
    "    def get_sum_square(n):\n",
    "        res = 0\n",
    "\n",
    "        while n:\n",
    "            digit = n%10\n",
    "            res += digit ** 2\n",
    "            n //= 10\n",
    "        \n",
    "        return res\n",
    "\n",
    "    while n not in visit:\n",
    "        visit.add(n)\n",
    "        n = get_sum_square(n)\n",
    "        print(visit)\n",
    "\n",
    "        if n == 1:\n",
    "            return True\n",
    "    \n",
    "    return False"
   ]
  },
  {
   "cell_type": "code",
   "execution_count": 7,
   "id": "1732dc22",
   "metadata": {},
   "outputs": [
    {
     "name": "stdout",
     "output_type": "stream",
     "text": [
      "{12}\n",
      "{12, 5}\n",
      "{25, 12, 5}\n",
      "{25, 29, 12, 5}\n",
      "{5, 12, 85, 25, 29}\n",
      "{89, 5, 12, 85, 25, 29}\n",
      "{89, 5, 12, 145, 85, 25, 29}\n",
      "{89, 5, 42, 12, 145, 85, 25, 29}\n",
      "{89, 5, 42, 12, 145, 20, 85, 25, 29}\n",
      "{89, 4, 5, 42, 12, 145, 20, 85, 25, 29}\n",
      "{89, 4, 5, 42, 12, 16, 145, 20, 85, 25, 29}\n",
      "{89, 4, 5, 37, 42, 12, 16, 145, 20, 85, 25, 29}\n",
      "{89, 4, 5, 37, 42, 12, 16, 145, 20, 85, 25, 58, 29}\n"
     ]
    },
    {
     "data": {
      "text/plain": [
       "False"
      ]
     },
     "execution_count": 7,
     "metadata": {},
     "output_type": "execute_result"
    }
   ],
   "source": [
    "is_happy(12)"
   ]
  },
  {
   "cell_type": "code",
   "execution_count": null,
   "id": "86d6cbaf",
   "metadata": {},
   "outputs": [],
   "source": [
    "def is_happy(n):\n",
    "    def get_sum_square(n):\n",
    "        return sum(int(digit) ** 2 for digit in str(n))\n",
    "\n",
    "    visit = set()\n",
    "    while n != 1 and n not in visit:\n",
    "        visit.add(n)\n",
    "        n = get_sum_square(n)\n",
    "\n",
    "    return n == 1\n"
   ]
  }
 ],
 "metadata": {
  "kernelspec": {
   "display_name": "Python 3",
   "language": "python",
   "name": "python3"
  },
  "language_info": {
   "codemirror_mode": {
    "name": "ipython",
    "version": 3
   },
   "file_extension": ".py",
   "mimetype": "text/x-python",
   "name": "python",
   "nbconvert_exporter": "python",
   "pygments_lexer": "ipython3",
   "version": "3.11.9"
  }
 },
 "nbformat": 4,
 "nbformat_minor": 5
}
