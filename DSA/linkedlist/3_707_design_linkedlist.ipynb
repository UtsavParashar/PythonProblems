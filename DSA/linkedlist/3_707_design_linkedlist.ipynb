{
 "cells": [
  {
   "cell_type": "markdown",
   "id": "d1ab4d9c",
   "metadata": {},
   "source": [
    "#### 707. Design Linked List\n",
    "\n",
    "* https://leetcode.com/problems/design-linked-list/description/"
   ]
  },
  {
   "cell_type": "code",
   "execution_count": 26,
   "id": "7a1f9f73",
   "metadata": {},
   "outputs": [],
   "source": [
    "# https://www.youtube.com/watch?v=dqLHTK7RuIo\n",
    "\n",
    "class SinglyLinkedList:\n",
    "    def __init__(self, val, next=None):\n",
    "        self.val = val\n",
    "        self.next = next\n",
    "\n",
    "    def __repr__(self):\n",
    "        return f'{self.val}, {self.next}'\n"
   ]
  },
  {
   "cell_type": "code",
   "execution_count": 4,
   "id": "e48fee05",
   "metadata": {},
   "outputs": [
    {
     "data": {
      "text/plain": [
       "1, 2, 3, 4, None"
      ]
     },
     "execution_count": 4,
     "metadata": {},
     "output_type": "execute_result"
    }
   ],
   "source": [
    "head = SinglyLinkedList(1)\n",
    "a = SinglyLinkedList(2)\n",
    "b = SinglyLinkedList(3)\n",
    "c = SinglyLinkedList(4)\n",
    "\n",
    "head.next = a\n",
    "a.next = b\n",
    "b.next = c\n",
    "\n",
    "head"
   ]
  },
  {
   "cell_type": "code",
   "execution_count": 5,
   "id": "9573d14e",
   "metadata": {},
   "outputs": [
    {
     "name": "stdout",
     "output_type": "stream",
     "text": [
      "1\n",
      "2\n",
      "3\n",
      "4\n"
     ]
    }
   ],
   "source": [
    "## Traverse the list\n",
    "\n",
    "curr = head\n",
    "while curr:\n",
    "    print(curr.val)\n",
    "    curr = curr.next"
   ]
  },
  {
   "cell_type": "code",
   "execution_count": null,
   "id": "ebfd9b7e",
   "metadata": {},
   "outputs": [
    {
     "data": {
      "text/plain": [
       "'1 -> 2 -> 3 -> 4'"
      ]
     },
     "execution_count": 7,
     "metadata": {},
     "output_type": "execute_result"
    }
   ],
   "source": [
    "# Display Linked List - O(n)\n",
    "\n",
    "def display(head):\n",
    "    curr = head\n",
    "    elements = []\n",
    "    while curr:\n",
    "        elements.append(str(curr.val))\n",
    "        curr = curr.next\n",
    "\n",
    "    return ' -> '.join(elements)\n",
    "\n",
    "display(head)"
   ]
  },
  {
   "cell_type": "code",
   "execution_count": 11,
   "id": "2c82dc5d",
   "metadata": {},
   "outputs": [
    {
     "data": {
      "text/plain": [
       "False"
      ]
     },
     "execution_count": 11,
     "metadata": {},
     "output_type": "execute_result"
    }
   ],
   "source": [
    "# Search for node value - O(n)\n",
    "\n",
    "def search(head, val):\n",
    "    curr = head\n",
    "    while curr:\n",
    "        if curr.val == val:\n",
    "            return True\n",
    "        curr = curr.next\n",
    "    return False\n",
    "\n",
    "search(head, 5)"
   ]
  },
  {
   "cell_type": "code",
   "execution_count": 21,
   "id": "924d5715",
   "metadata": {},
   "outputs": [],
   "source": [
    "### Doubly Linked List\n",
    "\n",
    "class DoublyLinkedList:\n",
    "    def __init__(self, val, next=None, prev=None):\n",
    "        self.val = val\n",
    "        self.next = next\n",
    "        self.prev = prev\n",
    "\n",
    "    def __repr__(self):\n",
    "        return f'{self.val}, {self.next}, {self.prev}'"
   ]
  },
  {
   "cell_type": "code",
   "execution_count": 22,
   "id": "908df933",
   "metadata": {},
   "outputs": [
    {
     "data": {
      "text/plain": [
       "1, None, None"
      ]
     },
     "execution_count": 22,
     "metadata": {},
     "output_type": "execute_result"
    }
   ],
   "source": [
    "head = tail = DoublyLinkedList(1)\n",
    "head"
   ]
  },
  {
   "cell_type": "code",
   "execution_count": 23,
   "id": "43d7325c",
   "metadata": {},
   "outputs": [
    {
     "data": {
      "text/plain": [
       "'1'"
      ]
     },
     "execution_count": 23,
     "metadata": {},
     "output_type": "execute_result"
    }
   ],
   "source": [
    "def display(head):\n",
    "    curr = head\n",
    "    elements = []\n",
    "    while curr:\n",
    "        elements.append(str(curr.val))\n",
    "        curr = curr.next\n",
    "\n",
    "    return ' <-> '.join(elements)\n",
    "display(head)"
   ]
  },
  {
   "cell_type": "code",
   "execution_count": 24,
   "id": "1c5f77d3",
   "metadata": {},
   "outputs": [
    {
     "data": {
      "text/plain": [
       "'10 <-> 1'"
      ]
     },
     "execution_count": 24,
     "metadata": {},
     "output_type": "execute_result"
    }
   ],
   "source": [
    "### Insert at the beginning - O(1)\n",
    "\n",
    "def insert_at_the_beginning(head, tail, val):\n",
    "    new_node = DoublyLinkedList(val, next = head)\n",
    "    head.prev = new_node\n",
    "\n",
    "    return  new_node, tail\n",
    "\n",
    "head, tail = insert_at_the_beginning(head, tail, 10)\n",
    "display(head)"
   ]
  },
  {
   "cell_type": "code",
   "execution_count": 25,
   "id": "0d85eb28",
   "metadata": {},
   "outputs": [
    {
     "data": {
      "text/plain": [
       "'10 <-> 1 <-> 20'"
      ]
     },
     "execution_count": 25,
     "metadata": {},
     "output_type": "execute_result"
    }
   ],
   "source": [
    "### insert at the end - O(1)\n",
    "\n",
    "def insert_at_the_end(head, tail, val):\n",
    "    last_node = DoublyLinkedList(val, prev=tail)\n",
    "    tail.next = last_node\n",
    "\n",
    "    return head, last_node\n",
    "\n",
    "head, tail = insert_at_the_end(head, tail, 20)\n",
    "display(head)"
   ]
  },
  {
   "cell_type": "code",
   "execution_count": null,
   "id": "412b39e0",
   "metadata": {},
   "outputs": [],
   "source": []
  }
 ],
 "metadata": {
  "kernelspec": {
   "display_name": "Python 3",
   "language": "python",
   "name": "python3"
  },
  "language_info": {
   "codemirror_mode": {
    "name": "ipython",
    "version": 3
   },
   "file_extension": ".py",
   "mimetype": "text/x-python",
   "name": "python",
   "nbconvert_exporter": "python",
   "pygments_lexer": "ipython3",
   "version": "3.11.9"
  }
 },
 "nbformat": 4,
 "nbformat_minor": 5
}
