{
 "cells": [
  {
   "cell_type": "markdown",
   "id": "32e017d0",
   "metadata": {},
   "source": [
    "#### 61. Rotate List\n",
    "\n",
    "* https://leetcode.com/problems/rotate-list/description/\n",
    "\n",
    "#### ['Morgan Stanley', 'Bloomberg', 'Meta', 'Amazon', 'Apple']"
   ]
  },
  {
   "cell_type": "code",
   "execution_count": null,
   "id": "e701d79f",
   "metadata": {},
   "outputs": [],
   "source": [
    "# Definition for singly-linked list.\n",
    "class ListNode:\n",
    "    def __init__(self, val=0, next=None):\n",
    "        self.val = val\n",
    "        self.next = next\n",
    "    \n",
    "    def __repr__(self):\n",
    "        return f'{self.val}, {self.next}'\n",
    "\n",
    "def rotate_right(head, k):\n",
    "    if not head:\n",
    "        return head\n",
    "\n",
    "    length, tail = 1, head # length will be atleast 1 because first if condition is passed\n",
    "    # Iterate through the list for length and get the tail\n",
    "    while tail.next:\n",
    "        tail = tail.next\n",
    "        length += 1\n",
    "\n",
    "    k %= length\n",
    "    if k == 0:\n",
    "        return head\n",
    "\n",
    "    # Move to the pivot and rotate\n",
    "    breakpoint = length - k - 1 # As the node after which link is to be removed is at length-k-1\n",
    "    curr = head\n",
    "    for _ in range(breakpoint):\n",
    "        curr = curr.next\n",
    "\n",
    "    new_head = curr.next\n",
    "    curr.next = None\n",
    "    tail.next = head\n",
    "    \n",
    "    return new_head\n",
    "        \n",
    "\n"
   ]
  },
  {
   "cell_type": "code",
   "execution_count": 10,
   "id": "3d58bf3c",
   "metadata": {},
   "outputs": [
    {
     "data": {
      "text/plain": [
       "3, 4, 5, 1, 2, None"
      ]
     },
     "execution_count": 10,
     "metadata": {},
     "output_type": "execute_result"
    }
   ],
   "source": [
    "root = ListNode(1)\n",
    "root.next = ListNode(2)\n",
    "root.next.next = ListNode(3)\n",
    "root.next.next.next = ListNode(4)\n",
    "root.next.next.next.next = ListNode(5)\n",
    "\n",
    "rotate_right(root, 2)"
   ]
  },
  {
   "cell_type": "code",
   "execution_count": null,
   "id": "b954ec58",
   "metadata": {},
   "outputs": [],
   "source": []
  }
 ],
 "metadata": {
  "kernelspec": {
   "display_name": "Python 3",
   "language": "python",
   "name": "python3"
  },
  "language_info": {
   "codemirror_mode": {
    "name": "ipython",
    "version": 3
   },
   "file_extension": ".py",
   "mimetype": "text/x-python",
   "name": "python",
   "nbconvert_exporter": "python",
   "pygments_lexer": "ipython3",
   "version": "3.11.9"
  }
 },
 "nbformat": 4,
 "nbformat_minor": 5
}
