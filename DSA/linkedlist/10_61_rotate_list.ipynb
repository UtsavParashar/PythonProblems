{
 "cells": [
  {
   "cell_type": "markdown",
   "id": "32e017d0",
   "metadata": {},
   "source": [
    "#### 61. Rotate List\n",
    "\n",
    "* https://leetcode.com/problems/rotate-list/description/\n",
    "\n",
    "#### ['Morgan Stanley', 'Bloomberg', 'Meta', 'Amazon', 'Apple']"
   ]
  },
  {
   "cell_type": "code",
   "execution_count": 4,
   "id": "10612df2",
   "metadata": {},
   "outputs": [
    {
     "data": {
      "text/plain": [
       "4, 5, 1, 2, 3, None"
      ]
     },
     "execution_count": 4,
     "metadata": {},
     "output_type": "execute_result"
    }
   ],
   "source": [
    "# Definition for singly-linked list.\n",
    "class ListNode:\n",
    "    def __init__(self, val=0, next=None):\n",
    "        self.val = val\n",
    "        self.next = next\n",
    "    \n",
    "    def __repr__(self):\n",
    "        return f'{self.val}, {self.next}'\n",
    "class Solution:\n",
    "    def rotateRight(self, head, k: int):\n",
    "        # 5 step procedure\n",
    "        # 1. Find the len of the ll and point the tail\n",
    "        # 2. Optimize k, if k is greater than n \n",
    "        # 3. Make the list circular\n",
    "        # 4. Point the new tail\n",
    "        # 5. Point the new head and cut link after new tail\n",
    "\n",
    "        # Edge cases\n",
    "        # 1. head is None return head\n",
    "        # 2. single element in the ll - return head\n",
    "        # 3. k == 0 or k > n\n",
    "\n",
    "        # Edge cases\n",
    "        if not head or not head.next or not k:\n",
    "            return head\n",
    "        \n",
    "        # 1. Get the len of ll and point tail\n",
    "        n = 1\n",
    "        tail = head\n",
    "        while tail.next:\n",
    "            n += 1\n",
    "            tail = tail.next\n",
    "\n",
    "        # 2. optimize k\n",
    "        k %= n\n",
    "        if k == n:\n",
    "            return head\n",
    "\n",
    "        # 3. create circular linkedlist\n",
    "        tail.next = head\n",
    "\n",
    "        # 4. Point the new tail\n",
    "        new_tail = head\n",
    "        for _ in range(n-k-1):\n",
    "            new_tail = new_tail.next\n",
    "\n",
    "        # 5. Point the new header and break the circular link\n",
    "        new_head = new_tail.next\n",
    "        new_tail.next = None\n",
    "\n",
    "        return new_head\n",
    "    \n",
    "root = ListNode(1)\n",
    "root.next = ListNode(2)\n",
    "root.next.next = ListNode(3)\n",
    "root.next.next.next = ListNode(4)\n",
    "root.next.next.next.next = ListNode(5)\n",
    "\n",
    "Solution().rotateRight(root, 2)"
   ]
  },
  {
   "cell_type": "code",
   "execution_count": null,
   "id": "e701d79f",
   "metadata": {},
   "outputs": [],
   "source": [
    "# Definition for singly-linked list.\n",
    "class ListNode:\n",
    "    def __init__(self, val=0, next=None):\n",
    "        self.val = val\n",
    "        self.next = next\n",
    "    \n",
    "    def __repr__(self):\n",
    "        return f'{self.val}, {self.next}'\n",
    "\n",
    "def rotate_right(head, k):\n",
    "    if not head:\n",
    "        return head\n",
    "\n",
    "    length, tail = 1, head # length will be atleast 1 because first if condition is passed\n",
    "    # Iterate through the list for length and get the tail\n",
    "    while tail.next:\n",
    "        tail = tail.next\n",
    "        length += 1\n",
    "\n",
    "    k %= length\n",
    "    if k == 0:\n",
    "        return head\n",
    "\n",
    "    # Move to the pivot and rotate\n",
    "    breakpoint = length - k - 1 # As the node after which link is to be removed is at length-k-1\n",
    "    curr = head\n",
    "    for _ in range(breakpoint):\n",
    "        curr = curr.next\n",
    "\n",
    "    new_head = curr.next\n",
    "    curr.next = None\n",
    "    tail.next = head\n",
    "    \n",
    "    return new_head\n",
    "        \n",
    "\n"
   ]
  },
  {
   "cell_type": "code",
   "execution_count": 10,
   "id": "3d58bf3c",
   "metadata": {},
   "outputs": [
    {
     "data": {
      "text/plain": [
       "3, 4, 5, 1, 2, None"
      ]
     },
     "execution_count": 10,
     "metadata": {},
     "output_type": "execute_result"
    }
   ],
   "source": [
    "root = ListNode(1)\n",
    "root.next = ListNode(2)\n",
    "root.next.next = ListNode(3)\n",
    "root.next.next.next = ListNode(4)\n",
    "root.next.next.next.next = ListNode(5)\n",
    "\n",
    "rotate_right(root, 2)"
   ]
  },
  {
   "cell_type": "code",
   "execution_count": null,
   "id": "b954ec58",
   "metadata": {},
   "outputs": [],
   "source": [
    "# Below solution will not work because of the below edge case\n",
    "##Edge cases = k == len of ll, in that case creating circular ll at the start will not work as we we not break the link\n",
    "\n",
    "# Definition for singly-linked list.\n",
    "class ListNode:\n",
    "    def __init__(self, val=0, next=None):\n",
    "        self.val = val\n",
    "        self.next = next\n",
    "class Solution:\n",
    "    def rotateRight(self, head, k: int):\n",
    "        # find the len of the ll\n",
    "        # point n-kth element to None\n",
    "        # point last element to the first element\n",
    "        # point head to n-k+1st element\n",
    "        # find the len of the ll\n",
    "\n",
    "        # Edge cases = k == len of ll, in that case creating circular ll at the start will not work as we we not break the link\n",
    "        # Empty head or single element of k == 0 should be handled at the start\n",
    "\n",
    "        if not head or not head.next or not k:\n",
    "            return head\n",
    "\n",
    "        curr = head\n",
    "        n = 0\n",
    "        while curr:\n",
    "            n += 1\n",
    "            if not curr.next:\n",
    "                curr.next = head\n",
    "                break\n",
    "            curr = curr.next\n",
    "        \n",
    "        if k == n:\n",
    "            return head\n",
    "            \n",
    "        k %= n\n",
    "        \n",
    "        m = n - k\n",
    "        curr = head\n",
    "        counter = 0\n",
    "        while counter < n:\n",
    "            if counter == m-1:\n",
    "                head = curr.next\n",
    "                curr.next = None\n",
    "                break\n",
    "            counter += 1\n",
    "            curr = curr.next\n",
    "\n",
    "        return head\n",
    "\n"
   ]
  },
  {
   "cell_type": "code",
   "execution_count": null,
   "id": "eb7d17d5",
   "metadata": {},
   "outputs": [],
   "source": []
  }
 ],
 "metadata": {
  "kernelspec": {
   "display_name": "Python 3",
   "language": "python",
   "name": "python3"
  },
  "language_info": {
   "codemirror_mode": {
    "name": "ipython",
    "version": 3
   },
   "file_extension": ".py",
   "mimetype": "text/x-python",
   "name": "python",
   "nbconvert_exporter": "python",
   "pygments_lexer": "ipython3",
   "version": "3.11.9"
  }
 },
 "nbformat": 4,
 "nbformat_minor": 5
}
