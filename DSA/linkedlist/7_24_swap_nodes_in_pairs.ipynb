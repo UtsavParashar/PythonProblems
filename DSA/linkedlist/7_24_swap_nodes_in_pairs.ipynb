{
 "cells": [
  {
   "cell_type": "markdown",
   "id": "90056e3e",
   "metadata": {},
   "source": [
    "### 24. Swap Nodes in Pairs\n",
    "\n",
    "* https://leetcode.com/problems/swap-nodes-in-pairs/description/"
   ]
  },
  {
   "cell_type": "code",
   "execution_count": null,
   "id": "cfd3aa65",
   "metadata": {},
   "outputs": [],
   "source": [
    "### Credit - https://www.youtube.com/watch?v=o811TZLAWOo\n",
    "\n",
    "# Definition for singly-linked list.\n",
    "class ListNode:\n",
    "    def __init__(self, val=0, next=None):\n",
    "        self.val = val\n",
    "        self.next = next\n",
    "    \n",
    "    def __repr__(self):\n",
    "        return f'{self.val}, {self.next}'\n",
    "\n",
    "def swap_pairs(head):\n",
    "    dummy = ListNode(0, head)\n",
    "\n",
    "    prev, curr = dummy, head\n",
    "    \n",
    "    while curr and curr.next: # curr.next because we want to test in pairs\n",
    "        # save pointer of the next pair\n",
    "        next_pair = curr.next.next\n",
    "        second = curr.next\n",
    "\n",
    "        # reverse the pair\n",
    "        second.next = curr\n",
    "        curr.next = next_pair\n",
    "        prev.next = second\n",
    "\n",
    "        # update pointers\n",
    "        prev = curr\n",
    "        curr = next_pair\n",
    "\n",
    "    return dummy.next"
   ]
  },
  {
   "cell_type": "code",
   "execution_count": 11,
   "id": "ac963a95",
   "metadata": {},
   "outputs": [
    {
     "data": {
      "text/plain": [
       "2, 1, 3, 4, None"
      ]
     },
     "execution_count": 11,
     "metadata": {},
     "output_type": "execute_result"
    }
   ],
   "source": [
    "root = ListNode(1)\n",
    "root.next = ListNode(2)\n",
    "root.next.next = ListNode(3)\n",
    "root.next.next.next = ListNode(4)\n",
    "\n",
    "swap_pairs(root)"
   ]
  },
  {
   "cell_type": "code",
   "execution_count": null,
   "id": "7be8df76",
   "metadata": {},
   "outputs": [],
   "source": []
  }
 ],
 "metadata": {
  "kernelspec": {
   "display_name": "Python 3",
   "language": "python",
   "name": "python3"
  },
  "language_info": {
   "codemirror_mode": {
    "name": "ipython",
    "version": 3
   },
   "file_extension": ".py",
   "mimetype": "text/x-python",
   "name": "python",
   "nbconvert_exporter": "python",
   "pygments_lexer": "ipython3",
   "version": "3.11.9"
  }
 },
 "nbformat": 4,
 "nbformat_minor": 5
}
