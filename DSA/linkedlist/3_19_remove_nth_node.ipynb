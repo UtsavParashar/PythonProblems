{
 "cells": [
  {
   "cell_type": "markdown",
   "id": "a7480634",
   "metadata": {},
   "source": [
    "#### 19. Remove Nth Node From End of List\n",
    "\n",
    "* https://leetcode.com/problems/remove-nth-node-from-end-of-list/description/"
   ]
  },
  {
   "cell_type": "code",
   "execution_count": 34,
   "id": "aa8bdd96",
   "metadata": {},
   "outputs": [],
   "source": [
    "# Credit - https://www.youtube.com/watch?v=fbi4UdayLSA\n",
    "class ListNode:\n",
    "    def __init__(self, val=0, next=None):\n",
    "        self.val = val\n",
    "        self.next = next\n",
    "\n",
    "    def __repr__(self):\n",
    "        return f'{self.val}, {self.next}'\n",
    "\n",
    "def remove_nth_node_from_end(head, n):\n",
    "    dummy = ListNode(0, head) # Dummy node is required for the edge case if the head node is to be removed\n",
    "    left, right = dummy, head\n",
    "\n",
    "    # Move right ahead by n steps\n",
    "    for _ in range(n):\n",
    "        right = right.next\n",
    "\n",
    "    # Move both pointers until right reaches the end\n",
    "    while right:\n",
    "        left, right = left.next, right.next\n",
    "\n",
    "    # Remove the nth node from the end\n",
    "    left.next = left.next.next\n",
    "    return dummy.next"
   ]
  },
  {
   "cell_type": "code",
   "execution_count": 35,
   "id": "4fd807ea",
   "metadata": {},
   "outputs": [
    {
     "data": {
      "text/plain": [
       "1, 2, 3, 5, None"
      ]
     },
     "execution_count": 35,
     "metadata": {},
     "output_type": "execute_result"
    }
   ],
   "source": [
    "# Create the linked list: 1 -> 2 -> 3 -> 4 -> 5\n",
    "root = ListNode(1)\n",
    "root.next = ListNode(2)\n",
    "root.next.next = ListNode(3)\n",
    "root.next.next.next = ListNode(4)\n",
    "root.next.next.next.next = ListNode(5)\n",
    "\n",
    "# Remove the 2nd node from the end\n",
    "result = remove_nth_node_from_end(root, 2)\n",
    "\n",
    "# Print the resulting linked list\n",
    "result\n"
   ]
  },
  {
   "cell_type": "code",
   "execution_count": null,
   "id": "d3e2a90b",
   "metadata": {},
   "outputs": [],
   "source": []
  },
  {
   "cell_type": "code",
   "execution_count": null,
   "id": "9f43a372",
   "metadata": {},
   "outputs": [],
   "source": []
  }
 ],
 "metadata": {
  "kernelspec": {
   "display_name": "Python 3",
   "language": "python",
   "name": "python3"
  },
  "language_info": {
   "codemirror_mode": {
    "name": "ipython",
    "version": 3
   },
   "file_extension": ".py",
   "mimetype": "text/x-python",
   "name": "python",
   "nbconvert_exporter": "python",
   "pygments_lexer": "ipython3",
   "version": "3.11.9"
  }
 },
 "nbformat": 4,
 "nbformat_minor": 5
}
