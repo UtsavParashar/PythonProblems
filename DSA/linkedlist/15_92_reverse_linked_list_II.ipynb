{
 "cells": [
  {
   "cell_type": "markdown",
   "id": "fab4cb98",
   "metadata": {},
   "source": [
    "### 92. Reverse Linked List II\n",
    "\n",
    "* https://leetcode.com/problems/reverse-linked-list-ii/description/\n",
    "\n",
    "### ['Bloomberg', 'Meta', 'Amazon', 'Apple', 'Uber']"
   ]
  },
  {
   "cell_type": "code",
   "execution_count": null,
   "id": "13690bc4",
   "metadata": {},
   "outputs": [],
   "source": [
    "# Definition for singly-linked list.\n",
    "class ListNode:\n",
    "    def __init__(self, val=0, next=None):\n",
    "        self.val = val\n",
    "        self.next = next\n",
    "\n",
    "class Solution:\n",
    "    def reverseBetween(self, head, left: int, right: int):\n",
    "        if not head or left >= right:\n",
    "            return head\n",
    "\n",
    "        dummy = ListNode(0, head)\n",
    "        prev = dummy\n",
    "\n",
    "        for _ in range(left-1):\n",
    "            prev = prev.next\n",
    "\n",
    "        head = prev.next\n",
    "\n",
    "        for _ in range(right - left):\n",
    "            nn = head.next\n",
    "            head.next = nn.next\n",
    "            nn.next = prev.next\n",
    "            prev.next = nn\n",
    "\n",
    "        return dummy.next"
   ]
  },
  {
   "cell_type": "code",
   "execution_count": null,
   "id": "206bfff8",
   "metadata": {},
   "outputs": [],
   "source": [
    "# Definition for singly-linked list.\n",
    "class ListNode:\n",
    "    def __init__(self, val=0, next=None):\n",
    "        self.val = val\n",
    "        self.next = next\n",
    "        \n",
    "class Solution:\n",
    "    def reverseBetween(self, head, left: int, right: int):\n",
    "        if left >= right:\n",
    "            return head\n",
    "        dummy = ListNode(0, head)\n",
    "        count = 0\n",
    "        prev_grp = prev = dummy\n",
    "\n",
    "        while count < (left-1):\n",
    "            prev, head = head, head.next\n",
    "            count += 1\n",
    "            prev_grp = prev\n",
    "\n",
    "        while count < right:\n",
    "            nn = head.next\n",
    "            head.next = prev\n",
    "\n",
    "            prev, head = head, nn\n",
    "            count += 1\n",
    "\n",
    "        prev_grp.next.next = head\n",
    "        prev_grp.next = prev\n",
    "\n",
    "        return dummy.next"
   ]
  },
  {
   "cell_type": "code",
   "execution_count": 6,
   "id": "b28fdf18",
   "metadata": {},
   "outputs": [],
   "source": [
    "## Credit - https://www.youtube.com/watch?v=ykxvY2ZUfM4\n",
    "\n",
    "class ListNode:\n",
    "    def __init__(self, val=0, next=None):\n",
    "        self.val = val\n",
    "        self.next = next\n",
    "\n",
    "    def __repr__(self):\n",
    "        return f'{self.val}, {self.next}'\n",
    "\n",
    "\n",
    "def reverse_between(head, left, right):\n",
    "    if not head or not head.next or left == right:\n",
    "        return head\n",
    "\n",
    "    ## reach the left node position\n",
    "    prev, curr = None, head\n",
    "    i = 1\n",
    "    while curr and i != left:\n",
    "        prev, curr = curr, curr.next\n",
    "        i += 1\n",
    "\n",
    "    # Two pointers - one before left and other one at the left node for future pointing\n",
    "    pointer_to_start = prev\n",
    "    start = curr\n",
    "\n",
    "    while curr and i != right+1:\n",
    "        next = curr.next\n",
    "        curr.next = prev\n",
    "        prev = curr\n",
    "        curr = next\n",
    "        i += 1\n",
    "    \n",
    "    start.next = curr\n",
    "    if pointer_to_start:\n",
    "        pointer_to_start.next = prev\n",
    "    else:\n",
    "        return prev # if left is 0 then this will become new head\n",
    "\n",
    "    return head\n"
   ]
  },
  {
   "cell_type": "code",
   "execution_count": 7,
   "id": "56769b4f",
   "metadata": {},
   "outputs": [
    {
     "data": {
      "text/plain": [
       "1, 4, 3, 2, 5, None"
      ]
     },
     "execution_count": 7,
     "metadata": {},
     "output_type": "execute_result"
    }
   ],
   "source": [
    "root = ListNode(1)\n",
    "root.next = ListNode(2)\n",
    "root.next.next = ListNode(3)\n",
    "root.next.next.next = ListNode(4)\n",
    "root.next.next.next.next = ListNode(5)\n",
    "\n",
    "\n",
    "reverse_between(root, 2, 4)"
   ]
  },
  {
   "cell_type": "code",
   "execution_count": null,
   "id": "fea7ca4b",
   "metadata": {},
   "outputs": [],
   "source": []
  }
 ],
 "metadata": {
  "kernelspec": {
   "display_name": "Python 3",
   "language": "python",
   "name": "python3"
  },
  "language_info": {
   "codemirror_mode": {
    "name": "ipython",
    "version": 3
   },
   "file_extension": ".py",
   "mimetype": "text/x-python",
   "name": "python",
   "nbconvert_exporter": "python",
   "pygments_lexer": "ipython3",
   "version": "3.11.9"
  }
 },
 "nbformat": 4,
 "nbformat_minor": 5
}
