{
 "cells": [
  {
   "cell_type": "markdown",
   "id": "dfa6c027",
   "metadata": {},
   "source": [
    "#### 138. Copy List with Random Pointer\n",
    "\n",
    "* https://leetcode.com/problems/copy-list-with-random-pointer/description/"
   ]
  },
  {
   "cell_type": "code",
   "execution_count": 11,
   "id": "21c765ad",
   "metadata": {},
   "outputs": [],
   "source": [
    "# Credit - https://www.youtube.com/watch?v=DAzEniVtkMQ\n",
    "\n",
    "class Node:\n",
    "    def __init__(self, x: int, next: 'Node' = None, random: 'Node' = None):\n",
    "        self.val = int(x)\n",
    "        self.next = next\n",
    "        self.random = random\n",
    "\n",
    "def copy_random_list(head):\n",
    "    curr = head\n",
    "    copy_dict = {None: None} # initializing to None to handle the edge case when curr.next or curr.random is None\n",
    "\n",
    "    while curr:\n",
    "        node = Node(x = curr.val)\n",
    "        copy_dict[curr] = node\n",
    "        curr = curr.next\n",
    "\n",
    "    curr = head\n",
    "    while curr:\n",
    "        node = copy_dict[curr]\n",
    "        node.next = copy_dict[curr.next]\n",
    "        node.random = copy_dict[curr.random]\n",
    "        curr = curr.next\n",
    "\n",
    "    return copy_dict[head]"
   ]
  },
  {
   "cell_type": "code",
   "execution_count": 12,
   "id": "e70aa83a",
   "metadata": {},
   "outputs": [
    {
     "name": "stdout",
     "output_type": "stream",
     "text": [
      "Node value: 1, Random value: 3\n",
      "Node value: 2, Random value: 1\n",
      "Node value: 3, Random value: 2\n"
     ]
    }
   ],
   "source": [
    "# Create a linked list with random pointers\n",
    "node1 = Node(1)\n",
    "node2 = Node(2)\n",
    "node3 = Node(3)\n",
    "\n",
    "node1.next = node2\n",
    "node2.next = node3\n",
    "\n",
    "node1.random = node3\n",
    "node2.random = node1\n",
    "node3.random = node2\n",
    "\n",
    "# Call the function to copy the list\n",
    "copied_list = copy_random_list(node1)\n",
    "\n",
    "# Verify the copied list\n",
    "curr = copied_list\n",
    "while curr:\n",
    "    print(f\"Node value: {curr.val}, Random value: {curr.random.val if curr.random else None}\")\n",
    "    curr = curr.next\n"
   ]
  },
  {
   "cell_type": "code",
   "execution_count": null,
   "id": "259f53e7",
   "metadata": {},
   "outputs": [],
   "source": []
  }
 ],
 "metadata": {
  "kernelspec": {
   "display_name": "Python 3",
   "language": "python",
   "name": "python3"
  },
  "language_info": {
   "codemirror_mode": {
    "name": "ipython",
    "version": 3
   },
   "file_extension": ".py",
   "mimetype": "text/x-python",
   "name": "python",
   "nbconvert_exporter": "python",
   "pygments_lexer": "ipython3",
   "version": "3.11.9"
  }
 },
 "nbformat": 4,
 "nbformat_minor": 5
}
