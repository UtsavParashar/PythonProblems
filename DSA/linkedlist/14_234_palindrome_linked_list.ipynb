{
 "cells": [
  {
   "cell_type": "markdown",
   "id": "8752f169",
   "metadata": {},
   "source": [
    "#### 234. Palindrome Linked List\n",
    "\n",
    "* https://leetcode.com/problems/palindrome-linked-list/description/"
   ]
  },
  {
   "cell_type": "code",
   "execution_count": 11,
   "id": "a10c4956",
   "metadata": {},
   "outputs": [],
   "source": [
    "# Credit  - https://www.youtube.com/watch?v=yOzXms1J6Nk\n",
    "\n",
    "class ListNode:\n",
    "    def __init__(self, val=0, next=None):\n",
    "        self.val = val\n",
    "        self.next = next\n",
    "    \n",
    "    def __repr__(self):\n",
    "        return f'{self.val}, {self.next}'\n",
    "\n",
    "def is_palindrome(head):\n",
    "    slow, fast = head, head\n",
    "\n",
    "    # get one pointer in the middle other to the end\n",
    "    while fast and fast.next:\n",
    "        slow = slow.next\n",
    "        fast = fast.next.next\n",
    "\n",
    "    # reverse from middle to end\n",
    "    prev = None\n",
    "    while slow:\n",
    "        next = slow.next\n",
    "        slow.next = prev\n",
    "        prev = slow\n",
    "        slow = next\n",
    "\n",
    "    # Compare the vals\n",
    "    while prev:\n",
    "        if prev.val != head.val:\n",
    "            return False\n",
    "        prev = prev.next\n",
    "        head = head.next\n",
    "    return True"
   ]
  },
  {
   "cell_type": "code",
   "execution_count": 10,
   "id": "637e1686",
   "metadata": {},
   "outputs": [
    {
     "data": {
      "text/plain": [
       "True"
      ]
     },
     "execution_count": 10,
     "metadata": {},
     "output_type": "execute_result"
    }
   ],
   "source": [
    "root = ListNode(1)\n",
    "root.next = ListNode(2)\n",
    "root.next.next = ListNode(1)\n",
    "root.next.next.next = ListNode(2)\n",
    "root.next.next.next.next = ListNode(1)\n",
    "\n",
    "is_palindrome(root)"
   ]
  },
  {
   "cell_type": "code",
   "execution_count": null,
   "id": "18eaaf1f",
   "metadata": {},
   "outputs": [],
   "source": []
  }
 ],
 "metadata": {
  "kernelspec": {
   "display_name": "Python 3",
   "language": "python",
   "name": "python3"
  },
  "language_info": {
   "codemirror_mode": {
    "name": "ipython",
    "version": 3
   },
   "file_extension": ".py",
   "mimetype": "text/x-python",
   "name": "python",
   "nbconvert_exporter": "python",
   "pygments_lexer": "ipython3",
   "version": "3.11.9"
  }
 },
 "nbformat": 4,
 "nbformat_minor": 5
}
