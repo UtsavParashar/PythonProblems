{
 "cells": [
  {
   "cell_type": "markdown",
   "id": "efc313cf",
   "metadata": {},
   "source": [
    "### 82. Remove Duplicates from Sorted List II\n",
    "\n",
    "* https://leetcode.com/problems/remove-duplicates-from-sorted-list-ii/description/"
   ]
  },
  {
   "cell_type": "code",
   "execution_count": 12,
   "id": "a4378794",
   "metadata": {},
   "outputs": [],
   "source": [
    "## Credit - https://www.youtube.com/watch?v=R6-PnHODewY&t=10s\n",
    "## TC - O(n)\n",
    "## SC - O(1)\n",
    "\n",
    "# Definition for singly-linked list.\n",
    "class ListNode:\n",
    "    def __init__(self, val=0, next=None):\n",
    "        self.val = val\n",
    "        self.next = next\n",
    "\n",
    "    def __repr__(self):\n",
    "        return f'{self.val}, {self.next}'\n",
    "\n",
    "def delete_duplicates(head):\n",
    "    dummy = ListNode(0, head)\n",
    "\n",
    "    prev = dummy\n",
    "\n",
    "    while head:\n",
    "        if head.next and head.val == head.next.val:\n",
    "            # skip the nodes whose values are equal to head\n",
    "            while head.next and head.val == head.next.val:\n",
    "                head = head.next\n",
    "            prev.next = head.next\n",
    "        else:\n",
    "            prev = prev.next\n",
    "        head = head.next\n",
    "        #print(head, prev)\n",
    "    \n",
    "    return dummy.next\n",
    "\n",
    "\n",
    "    "
   ]
  },
  {
   "cell_type": "code",
   "execution_count": 11,
   "id": "f52c1444",
   "metadata": {},
   "outputs": [
    {
     "name": "stdout",
     "output_type": "stream",
     "text": [
      "2, 3, 3, 4, 4, 5, None 1, 2, 3, 3, 4, 4, 5, None\n",
      "3, 3, 4, 4, 5, None 2, 3, 3, 4, 4, 5, None\n",
      "4, 4, 5, None 2, 4, 4, 5, None\n",
      "5, None 2, 5, None\n",
      "None 5, None\n"
     ]
    },
    {
     "data": {
      "text/plain": [
       "1, 2, 5, None"
      ]
     },
     "execution_count": 11,
     "metadata": {},
     "output_type": "execute_result"
    }
   ],
   "source": [
    "root = ListNode(1)\n",
    "root.next = ListNode(2)\n",
    "root.next.next = ListNode(3)\n",
    "root.next.next.next = ListNode(3)\n",
    "root.next.next.next.next = ListNode(4)\n",
    "root.next.next.next.next.next = ListNode(4)\n",
    "root.next.next.next.next.next.next = ListNode(5)\n",
    "\n",
    "delete_duplicates(root)\n"
   ]
  },
  {
   "cell_type": "code",
   "execution_count": null,
   "id": "727f357a",
   "metadata": {},
   "outputs": [],
   "source": []
  }
 ],
 "metadata": {
  "kernelspec": {
   "display_name": "Python 3",
   "language": "python",
   "name": "python3"
  },
  "language_info": {
   "codemirror_mode": {
    "name": "ipython",
    "version": 3
   },
   "file_extension": ".py",
   "mimetype": "text/x-python",
   "name": "python",
   "nbconvert_exporter": "python",
   "pygments_lexer": "ipython3",
   "version": "3.11.9"
  }
 },
 "nbformat": 4,
 "nbformat_minor": 5
}
