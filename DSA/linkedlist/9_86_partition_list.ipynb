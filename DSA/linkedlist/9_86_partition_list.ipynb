{
 "cells": [
  {
   "cell_type": "markdown",
   "id": "57e9b747",
   "metadata": {},
   "source": [
    "#### 86. Partition List\n",
    "\n",
    "* https://leetcode.com/problems/partition-list/description/"
   ]
  },
  {
   "cell_type": "code",
   "execution_count": null,
   "id": "fe241d7b",
   "metadata": {},
   "outputs": [],
   "source": [
    "class ListNode:\n",
    "    def __init__(self, val=0, next=None):\n",
    "        self.val = val\n",
    "        self.next = next\n",
    "\n",
    "def partition(head, x):\n",
    "    left, right = ListNode(), ListNode()\n",
    "    left_tail, right_tail = left, right\n",
    "\n",
    "    while head:\n",
    "        if head.val < x:\n",
    "            left_tail.next = head\n",
    "            left_tail = left_tail.next\n",
    "        else:\n",
    "            right_tail.next = head\n",
    "            right_tail = right_tail.next\n",
    "        head = head.next\n",
    "\n",
    "    left_tail.next = right.next\n",
    "    right_tail.next = None\n",
    "\n",
    "    return left.next\n"
   ]
  },
  {
   "cell_type": "code",
   "execution_count": null,
   "id": "1d78a4ec",
   "metadata": {},
   "outputs": [],
   "source": []
  }
 ],
 "metadata": {
  "kernelspec": {
   "display_name": "Python 3",
   "language": "python",
   "name": "python3"
  },
  "language_info": {
   "name": "python",
   "version": "3.11.9"
  }
 },
 "nbformat": 4,
 "nbformat_minor": 5
}
