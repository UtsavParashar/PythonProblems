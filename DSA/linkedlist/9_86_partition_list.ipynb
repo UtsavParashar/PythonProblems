{
 "cells": [
  {
   "cell_type": "markdown",
   "id": "57e9b747",
   "metadata": {},
   "source": [
    "#### 86. Partition List\n",
    "\n",
    "* https://leetcode.com/problems/partition-list/description/"
   ]
  },
  {
   "cell_type": "code",
   "execution_count": 4,
   "id": "fe241d7b",
   "metadata": {},
   "outputs": [],
   "source": [
    "class ListNode:\n",
    "    def __init__(self, val=0, next=None):\n",
    "        self.val = val\n",
    "        self.next = next\n",
    "    \n",
    "    def __repr__(self):\n",
    "        return f'{self.val}, {self.next}'\n",
    "\n",
    "def partition(head,x ):\n",
    "        left, right = ListNode(), ListNode()\n",
    "        left_tail, right_tail = left, right\n",
    "\n",
    "        while head:\n",
    "            if head.val < x:\n",
    "                left_tail.next = head\n",
    "                left_tail = left_tail.next\n",
    "            else:\n",
    "                right_tail.next = head\n",
    "                right_tail = right_tail.next\n",
    "            head = head.next\n",
    "\n",
    "        left_tail.next = right.next\n",
    "        right_tail.next = None\n",
    "\n",
    "        return left.next\n"
   ]
  },
  {
   "cell_type": "code",
   "execution_count": 6,
   "id": "1d78a4ec",
   "metadata": {},
   "outputs": [
    {
     "data": {
      "text/plain": [
       "1, 2, 2, 4, 3, 5, None"
      ]
     },
     "execution_count": 6,
     "metadata": {},
     "output_type": "execute_result"
    }
   ],
   "source": [
    "root = ListNode(1)\n",
    "root.next = ListNode(2)\n",
    "root.next.next = ListNode(2)\n",
    "root.next.next.next = ListNode(4)\n",
    "root.next.next.next.next = ListNode(3)\n",
    "root.next.next.next.next.next = ListNode(5)\n",
    "\n",
    "partition(root, 3)"
   ]
  },
  {
   "cell_type": "code",
   "execution_count": null,
   "id": "36ec9495",
   "metadata": {},
   "outputs": [],
   "source": []
  }
 ],
 "metadata": {
  "kernelspec": {
   "display_name": "Python 3",
   "language": "python",
   "name": "python3"
  },
  "language_info": {
   "codemirror_mode": {
    "name": "ipython",
    "version": 3
   },
   "file_extension": ".py",
   "mimetype": "text/x-python",
   "name": "python",
   "nbconvert_exporter": "python",
   "pygments_lexer": "ipython3",
   "version": "3.11.9"
  }
 },
 "nbformat": 4,
 "nbformat_minor": 5
}
