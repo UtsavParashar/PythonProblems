{
 "cells": [
  {
   "cell_type": "markdown",
   "id": "d8033ed4",
   "metadata": {},
   "source": [
    "#### 25. Reverse Nodes in k-Grop\n",
    "\n",
    "* https://leetcode.com/problems/reverse-nodes-in-k-group/\n",
    "\n",
    "#### ['Bloomberg', 'DE Shaw', 'Meta', 'Amazon', 'Apple']"
   ]
  },
  {
   "cell_type": "code",
   "execution_count": null,
   "id": "c6fe63a4",
   "metadata": {},
   "outputs": [],
   "source": [
    "# Credit - https://github.com/AlgoMaster-io/leetcode-solutions/blob/main/python/reverse-nodes-in-k-group.md#approach-2-recursive-reverse-optimized\n",
    "\n",
    "def reverse_k_group(head, k):\n",
    "    # Determining if there are enough nodes left to reverse\n",
    "    count = 0\n",
    "    ptr = head\n",
    "\n",
    "    while count < k and ptr:\n",
    "        ptr = ptr.next\n",
    "        count += 1\n",
    "\n",
    "    if count == k:\n",
    "        # if there are at least k nodes, reverse them\n",
    "        reversed_head = reverse(head, k)\n",
    "        # Recur for the remaining nodes and connect the head of the reversed result\n",
    "        head.next = reverse_k_group(ptr, k)\n",
    "        return reversed_head\n",
    "    \n",
    "    return head\n",
    "\n",
    "def reverse(head, k):\n",
    "    prev, curr = None, head\n",
    "\n",
    "    # reverse k nodes in place\n",
    "    while k > 0:\n",
    "        next = curr.next\n",
    "        curr.next = prev\n",
    "        prev = curr\n",
    "        curr = next\n",
    "        k-= 1\n",
    "    return prev\n"
   ]
  },
  {
   "cell_type": "code",
   "execution_count": 1,
   "id": "9ceea5a2",
   "metadata": {},
   "outputs": [],
   "source": [
    "## Optimize and Pythonic\n",
    "\n",
    "def reverse_k_group(head, k):\n",
    "    # Check if there are at least k nodes to reverse\n",
    "    ptr, count = head, 0\n",
    "    while ptr and count < k:\n",
    "        ptr, count = ptr.next, count + 1\n",
    "\n",
    "    if count == k:\n",
    "        # Reverse k nodes\n",
    "        reversed_head = reverse(head, k)\n",
    "        # Recur for the remaining nodes and connect the reversed part\n",
    "        head.next = reverse_k_group(ptr, k)\n",
    "        return reversed_head\n",
    "\n",
    "    return head\n",
    "\n",
    "def reverse(head, k):\n",
    "    prev, curr = None, head\n",
    "    for _ in range(k):\n",
    "        curr.next, prev, curr = prev, curr, curr.next\n",
    "    return prev\n"
   ]
  },
  {
   "cell_type": "code",
   "execution_count": null,
   "id": "1b9291ed",
   "metadata": {},
   "outputs": [],
   "source": []
  }
 ],
 "metadata": {
  "kernelspec": {
   "display_name": "Python 3",
   "language": "python",
   "name": "python3"
  },
  "language_info": {
   "codemirror_mode": {
    "name": "ipython",
    "version": 3
   },
   "file_extension": ".py",
   "mimetype": "text/x-python",
   "name": "python",
   "nbconvert_exporter": "python",
   "pygments_lexer": "ipython3",
   "version": "3.11.9"
  }
 },
 "nbformat": 4,
 "nbformat_minor": 5
}
