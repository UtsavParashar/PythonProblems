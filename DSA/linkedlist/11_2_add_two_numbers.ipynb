{
 "cells": [
  {
   "cell_type": "markdown",
   "id": "a5925265",
   "metadata": {},
   "source": [
    "#### 2. Add Two Numbers\n",
    "\n",
    "* https://leetcode.com/problems/add-two-numbers/description/"
   ]
  },
  {
   "cell_type": "code",
   "execution_count": 6,
   "id": "59546776",
   "metadata": {},
   "outputs": [],
   "source": [
    "class ListNode:\n",
    "    def __init__(self, val=0, next=None):\n",
    "        self.val = val\n",
    "        self.next = next\n",
    "    \n",
    "    def __repr__(self):\n",
    "        return f'{self.val}, {self.next}'\n",
    "\n",
    "def add_two_numbers(l1, l2):\n",
    "    dummy = ListNode()\n",
    "    curr = dummy\n",
    "    carry = 0\n",
    "\n",
    "    while l1 or l2 or carry:\n",
    "        v1 = l1.val if l1 else 0\n",
    "        v2 = l2.val if l2 else 0\n",
    "\n",
    "        res = v1 + v2 + carry\n",
    "        carry = res // 10\n",
    "        res %= 10\n",
    "\n",
    "        curr.next = ListNode(val=res)\n",
    "\n",
    "        # update pointers\n",
    "        curr = curr.next\n",
    "        l1 = l1.next if l1 else None\n",
    "        l2 = l2.next if l2 else None\n",
    "\n",
    "    return dummy.next\n",
    "        \n"
   ]
  },
  {
   "cell_type": "code",
   "execution_count": 8,
   "id": "541bc42b",
   "metadata": {},
   "outputs": [
    {
     "data": {
      "text/plain": [
       "7, 0, 3, 1, None"
      ]
     },
     "execution_count": 8,
     "metadata": {},
     "output_type": "execute_result"
    }
   ],
   "source": [
    "root = ListNode(2)\n",
    "root.next = ListNode(4)\n",
    "root.next.next = ListNode(3)\n",
    "\n",
    "nroot = ListNode(5)\n",
    "nroot.next = ListNode(6)\n",
    "nroot.next.next = ListNode(9)\n",
    "\n",
    "add_two_numbers(root, nroot)"
   ]
  },
  {
   "cell_type": "code",
   "execution_count": null,
   "id": "46ea32c8",
   "metadata": {},
   "outputs": [],
   "source": []
  }
 ],
 "metadata": {
  "kernelspec": {
   "display_name": "Python 3",
   "language": "python",
   "name": "python3"
  },
  "language_info": {
   "codemirror_mode": {
    "name": "ipython",
    "version": 3
   },
   "file_extension": ".py",
   "mimetype": "text/x-python",
   "name": "python",
   "nbconvert_exporter": "python",
   "pygments_lexer": "ipython3",
   "version": "3.11.9"
  }
 },
 "nbformat": 4,
 "nbformat_minor": 5
}
