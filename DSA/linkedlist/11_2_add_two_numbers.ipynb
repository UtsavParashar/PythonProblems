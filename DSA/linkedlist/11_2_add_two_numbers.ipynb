{
 "cells": [
  {
   "cell_type": "markdown",
   "id": "a5925265",
   "metadata": {},
   "source": [
    "#### 2. Add Two Numbers\n",
    "\n",
    "* https://leetcode.com/problems/add-two-numbers/description/"
   ]
  },
  {
   "cell_type": "code",
   "execution_count": null,
   "id": "59546776",
   "metadata": {},
   "outputs": [],
   "source": [
    "## Credit https://www.youtube.com/watch?v=wgFPrzTjm7s\n",
    "\n",
    "class ListNode:\n",
    "    def __init__(self, val=0, next=None):\n",
    "        self.val = val\n",
    "        self.next = next\n",
    "    \n",
    "    def __repr__(self):\n",
    "        return f'{self.val}, {self.next}'\n",
    "\n",
    "def add_two_numbers(l1, l2):\n",
    "    dummy = ListNode()\n",
    "    curr = dummy\n",
    "    carry = 0\n",
    "\n",
    "    while l1 or l2 or carry:\n",
    "        v1 = l1.val if l1 else 0\n",
    "        v2 = l2.val if l2 else 0\n",
    "\n",
    "        res = v1 + v2 + carry\n",
    "        carry = res // 10\n",
    "        res %= 10\n",
    "\n",
    "        curr.next = ListNode(val=res)\n",
    "\n",
    "        # update pointers\n",
    "        curr = curr.next\n",
    "        l1 = l1.next if l1 else None\n",
    "        l2 = l2.next if l2 else None\n",
    "\n",
    "    return dummy.next\n",
    "        \n"
   ]
  },
  {
   "cell_type": "code",
   "execution_count": 8,
   "id": "541bc42b",
   "metadata": {},
   "outputs": [
    {
     "data": {
      "text/plain": [
       "7, 0, 3, 1, None"
      ]
     },
     "execution_count": 8,
     "metadata": {},
     "output_type": "execute_result"
    }
   ],
   "source": [
    "root = ListNode(2)\n",
    "root.next = ListNode(4)\n",
    "root.next.next = ListNode(3)\n",
    "\n",
    "nroot = ListNode(5)\n",
    "nroot.next = ListNode(6)\n",
    "nroot.next.next = ListNode(9)\n",
    "\n",
    "add_two_numbers(root, nroot)"
   ]
  },
  {
   "cell_type": "markdown",
   "id": "ccab2731",
   "metadata": {},
   "source": [
    "for the solution of leetcode 2, why is \n",
    "l1 = l1.next if l1 else None \n",
    "and not \n",
    "l1 = l1.next if l1.next else None\n",
    "\n",
    "\n",
    "ChatGPT said:\n",
    "Great question!\n",
    "\n",
    "You're asking:\n",
    "\n",
    "In the Leetcode 2 solution (Add Two Numbers), why do we write:\n",
    "\n",
    "python\n",
    "Copy\n",
    "Edit\n",
    "l1 = l1.next if l1 else None\n",
    "instead of:\n",
    "\n",
    "python\n",
    "Copy\n",
    "Edit\n",
    "l1 = l1.next if l1.next else None\n",
    "✅ Short Answer:\n",
    "We write:\n",
    "\n",
    "python\n",
    "Copy\n",
    "Edit\n",
    "l1 = l1.next if l1 else None\n",
    "because we first need to check if l1 itself is not None, before trying to access l1.next.\n",
    "\n",
    "❌ Why this would fail:\n",
    "python\n",
    "Copy\n",
    "Edit\n",
    "l1 = l1.next if l1.next else None\n",
    "If l1 is None, then trying to access l1.next will raise an error:\n",
    "\n",
    "pgsql\n",
    "Copy\n",
    "Edit\n",
    "AttributeError: 'NoneType' object has no attribute 'next'\n",
    "✅ Safer version:\n",
    "python\n",
    "Copy\n",
    "Edit\n",
    "l1 = l1.next if l1 else None\n",
    "This means:\n",
    "\n",
    "If l1 exists (is not None), move to l1.next\n",
    "\n",
    "Otherwise, keep l1 = None (end of list reached)\n",
    "\n",
    "Same logic applies for l2.\n",
    "\n",
    "🔁 Full line in context:\n",
    "python\n",
    "Copy\n",
    "Edit\n",
    "while l1 or l2 or carry:\n",
    "    val1 = l1.val if l1 else 0\n",
    "    val2 = l2.val if l2 else 0\n",
    "    total = val1 + val2 + carry\n",
    "    carry = total // 10\n",
    "    current.next = ListNode(total % 10)\n",
    "    current = current.next\n",
    "    l1 = l1.next if l1 else None\n",
    "    l2 = l2.next if l2 else None\n",
    "This keeps traversal safe and robust even if one list is shorter than the other."
   ]
  },
  {
   "cell_type": "code",
   "execution_count": null,
   "id": "46ea32c8",
   "metadata": {},
   "outputs": [],
   "source": []
  }
 ],
 "metadata": {
  "kernelspec": {
   "display_name": "Python 3",
   "language": "python",
   "name": "python3"
  },
  "language_info": {
   "codemirror_mode": {
    "name": "ipython",
    "version": 3
   },
   "file_extension": ".py",
   "mimetype": "text/x-python",
   "name": "python",
   "nbconvert_exporter": "python",
   "pygments_lexer": "ipython3",
   "version": "3.11.9"
  }
 },
 "nbformat": 4,
 "nbformat_minor": 5
}
