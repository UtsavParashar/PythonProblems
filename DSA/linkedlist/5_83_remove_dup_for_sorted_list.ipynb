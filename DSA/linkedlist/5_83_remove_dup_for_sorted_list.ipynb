{
 "cells": [
  {
   "cell_type": "markdown",
   "id": "55427dbe",
   "metadata": {},
   "source": [
    "#### 83. Remove Duplicates from Sorted List\n",
    "\n",
    "* https://leetcode.com/problems/remove-duplicates-from-sorted-list/description/"
   ]
  },
  {
   "cell_type": "code",
   "execution_count": null,
   "id": "16d77c70",
   "metadata": {},
   "outputs": [],
   "source": [
    "## TC - O(n)\n",
    "## SP - O(1)\n",
    "\n",
    "# Definition for singly-linked list.\n",
    "class ListNode:\n",
    "    def __init__(self, val=0, next=None):\n",
    "        self.val = val\n",
    "        self.next = next\n",
    "    \n",
    "    def __repr__(self):\n",
    "        return f'{self.val}, {self.next}'\n",
    "\n",
    "# Optimized\n",
    "def delete_duplicates(head):\n",
    "    curr = head\n",
    "    \n",
    "    while curr:\n",
    "        # delete the duplicate nodes or unlink the duplicate nodes\n",
    "        if curr.next and curr.val == curr.next.val:\n",
    "            curr.next = curr.next.next\n",
    "        else:\n",
    "            curr = curr.next\n",
    "\n",
    "    return head\n",
    "\n"
   ]
  },
  {
   "cell_type": "code",
   "execution_count": 43,
   "id": "dbcde390",
   "metadata": {},
   "outputs": [
    {
     "data": {
      "text/plain": [
       "1, 1, 2, 3, 3, None"
      ]
     },
     "execution_count": 43,
     "metadata": {},
     "output_type": "execute_result"
    }
   ],
   "source": [
    "root = ListNode(1)\n",
    "root.next = ListNode(1)\n",
    "root.next.next = ListNode(2)\n",
    "root.next.next.next = ListNode(3)\n",
    "root.next.next.next.next = ListNode(3)\n",
    "\n",
    "root"
   ]
  },
  {
   "cell_type": "code",
   "execution_count": 44,
   "id": "259b2b26",
   "metadata": {},
   "outputs": [
    {
     "name": "stdout",
     "output_type": "stream",
     "text": [
      "139 ns ± 4.41 ns per loop (mean ± std. dev. of 7 runs, 10,000,000 loops each)\n"
     ]
    }
   ],
   "source": [
    "%timeit delete_duplicates(root)"
   ]
  },
  {
   "cell_type": "code",
   "execution_count": null,
   "id": "687eb730",
   "metadata": {},
   "outputs": [],
   "source": [
    "# https://www.youtube.com/watch?v=p10f-VpO4nE\n",
    "def delete_duplicatesII(head):\n",
    "    curr = head\n",
    "    \n",
    "    while curr:\n",
    "        # delete the duplicate nodes or unlink the duplicate nodes\n",
    "        while curr.next and curr.val == curr.next.val:\n",
    "            curr.next = curr.next.next\n",
    "        curr = curr.next\n",
    "\n",
    "    return head"
   ]
  },
  {
   "cell_type": "code",
   "execution_count": 46,
   "id": "2acfc53a",
   "metadata": {},
   "outputs": [
    {
     "name": "stdout",
     "output_type": "stream",
     "text": [
      "138 ns ± 2.7 ns per loop (mean ± std. dev. of 7 runs, 10,000,000 loops each)\n"
     ]
    }
   ],
   "source": [
    "%timeit delete_duplicatesII(root)"
   ]
  },
  {
   "cell_type": "code",
   "execution_count": null,
   "id": "d9a23779",
   "metadata": {},
   "outputs": [],
   "source": []
  }
 ],
 "metadata": {
  "kernelspec": {
   "display_name": "Python 3",
   "language": "python",
   "name": "python3"
  },
  "language_info": {
   "codemirror_mode": {
    "name": "ipython",
    "version": 3
   },
   "file_extension": ".py",
   "mimetype": "text/x-python",
   "name": "python",
   "nbconvert_exporter": "python",
   "pygments_lexer": "ipython3",
   "version": "3.11.9"
  }
 },
 "nbformat": 4,
 "nbformat_minor": 5
}
