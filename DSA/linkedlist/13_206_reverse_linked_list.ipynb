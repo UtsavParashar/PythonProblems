{
 "cells": [
  {
   "cell_type": "markdown",
   "id": "52af2be4",
   "metadata": {},
   "source": [
    "### 206. Reverse Linked List\n",
    "\n",
    "* https://leetcode.com/problems/reverse-linked-list/description/"
   ]
  },
  {
   "cell_type": "code",
   "execution_count": 1,
   "id": "1b3f426c",
   "metadata": {},
   "outputs": [],
   "source": [
    "class ListNode:\n",
    "    def __init__(self, val=0, next=None):\n",
    "        self.val = val\n",
    "        self.next = next\n",
    "    \n",
    "    def __repr__(self):\n",
    "        return f'{self.val}, {self.next}'\n",
    "    \n",
    "def reverse_list(head):\n",
    "    prev, curr = None, head\n",
    "\n",
    "    while curr:\n",
    "        next = curr.next\n",
    "        curr.next = prev\n",
    "        prev = curr\n",
    "        curr = next\n",
    "\n",
    "    return prev"
   ]
  },
  {
   "cell_type": "code",
   "execution_count": 2,
   "id": "3a0cc43d",
   "metadata": {},
   "outputs": [
    {
     "data": {
      "text/plain": [
       "5, 4, 3, 2, 1, None"
      ]
     },
     "execution_count": 2,
     "metadata": {},
     "output_type": "execute_result"
    }
   ],
   "source": [
    "root = ListNode(1)\n",
    "root.next = ListNode(2)\n",
    "root.next.next = ListNode(3)\n",
    "root.next.next.next = ListNode(4)\n",
    "root.next.next.next.next = ListNode(5)\n",
    "\n",
    "reverse_list(root)"
   ]
  },
  {
   "cell_type": "code",
   "execution_count": null,
   "id": "ebc907ed",
   "metadata": {},
   "outputs": [],
   "source": []
  }
 ],
 "metadata": {
  "kernelspec": {
   "display_name": "Python 3",
   "language": "python",
   "name": "python3"
  },
  "language_info": {
   "codemirror_mode": {
    "name": "ipython",
    "version": 3
   },
   "file_extension": ".py",
   "mimetype": "text/x-python",
   "name": "python",
   "nbconvert_exporter": "python",
   "pygments_lexer": "ipython3",
   "version": "3.11.9"
  }
 },
 "nbformat": 4,
 "nbformat_minor": 5
}
