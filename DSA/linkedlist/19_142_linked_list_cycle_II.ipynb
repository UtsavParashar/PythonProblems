{
 "cells": [
  {
   "cell_type": "markdown",
   "id": "046c9fd6",
   "metadata": {},
   "source": [
    "#### 142.LinkedList Cycle\n",
    "\n",
    "* https://leetcode.com/problems/linked-list-cycle-ii/description/"
   ]
  },
  {
   "cell_type": "code",
   "execution_count": null,
   "id": "3b496317",
   "metadata": {},
   "outputs": [],
   "source": [
    "class ListNode:\n",
    "    def __init__(self, val=0, next=None):\n",
    "        self.val = val\n",
    "        self.next = next\n",
    "\n",
    "    def __repr__(self):\n",
    "        return f'{self.val}, {self.next}'\n",
    "\n",
    "def detect_cycle(head):\n",
    "    slow, fast = head, head\n",
    "\n",
    "    while fast and fast.next:\n",
    "        fast = fast.next.next\n",
    "        slow = slow.next\n",
    "\n",
    "        if slow is fast:\n",
    "            break\n",
    "\n",
    "    if not fast or not fast.next:\n",
    "        return None\n",
    "\n",
    "    slow = head\n",
    "    while slow != fast:\n",
    "        slow = slow.next\n",
    "        fast = fast.next\n",
    "\n",
    "    return slow"
   ]
  },
  {
   "cell_type": "code",
   "execution_count": 1,
   "id": "02437636",
   "metadata": {},
   "outputs": [],
   "source": [
    "## Pythonic\n",
    "\n",
    "def detect_cycle(head):\n",
    "    slow, fast = head, head\n",
    "\n",
    "    while fast and fast.next:\n",
    "        slow, fast = slow.next, fast.next.next\n",
    "        if slow == fast:\n",
    "            break\n",
    "    else:\n",
    "        return None  # No cycle\n",
    "\n",
    "    slow = head\n",
    "    while slow != fast:\n",
    "        slow, fast = slow.next, fast.next\n",
    "\n",
    "    return slow\n"
   ]
  },
  {
   "cell_type": "code",
   "execution_count": null,
   "id": "1b7bf9cb",
   "metadata": {},
   "outputs": [],
   "source": []
  }
 ],
 "metadata": {
  "kernelspec": {
   "display_name": "Python 3",
   "language": "python",
   "name": "python3"
  },
  "language_info": {
   "codemirror_mode": {
    "name": "ipython",
    "version": 3
   },
   "file_extension": ".py",
   "mimetype": "text/x-python",
   "name": "python",
   "nbconvert_exporter": "python",
   "pygments_lexer": "ipython3",
   "version": "3.11.9"
  }
 },
 "nbformat": 4,
 "nbformat_minor": 5
}
