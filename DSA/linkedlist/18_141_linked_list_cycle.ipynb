{
 "cells": [
  {
   "cell_type": "markdown",
   "id": "f1853d4a",
   "metadata": {},
   "source": [
    "#### 141. Linked List Cycle\n",
    "\n",
    "* https://leetcode.com/problems/linked-list-cycle/description/"
   ]
  },
  {
   "cell_type": "code",
   "execution_count": null,
   "id": "9e9447c6",
   "metadata": {},
   "outputs": [],
   "source": [
    "class ListNode:\n",
    "    def __init__(self, val=0, next=None):\n",
    "        self.val = val\n",
    "        self.next = next\n",
    "\n",
    "    def __repr__(self):\n",
    "        return f'{self.val}, {self.next}'\n",
    "\n",
    "def has_cycle(head):\n",
    "    fast, slow = head, head\n",
    "\n",
    "    while fast and fast.next:\n",
    "        fast = fast.next.next\n",
    "        slow = slow.next\n",
    "\n",
    "        if slow is fast:\n",
    "            return True\n",
    "    \n",
    "    return False"
   ]
  }
 ],
 "metadata": {
  "kernelspec": {
   "display_name": "Python 3",
   "language": "python",
   "name": "python3"
  },
  "language_info": {
   "name": "python",
   "version": "3.11.9"
  }
 },
 "nbformat": 4,
 "nbformat_minor": 5
}
