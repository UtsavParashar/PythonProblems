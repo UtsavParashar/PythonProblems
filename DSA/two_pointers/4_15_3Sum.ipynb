{
 "cells": [
  {
   "cell_type": "markdown",
   "metadata": {},
   "source": [
    "#### 15. 3Sum\n",
    "\n",
    "* https://leetcode.com/problems/3sum/description/\n",
    "\n",
    "* Given an integer array nums, return all the triplets [nums[i], nums[j], nums[k]] such that i != j, i != k, and j != k, and nums[i] + nums[j] + nums[k] == 0.\n",
    "- Notice that the solution set must not contain duplicate triplets."
   ]
  },
  {
   "cell_type": "code",
   "execution_count": null,
   "metadata": {},
   "outputs": [],
   "source": [
    "def three_sum(nums):\n",
    "    nums.sort()\n",
    "    res = []\n",
    "\n",
    "    for i in range(len(nums) - 2):\n",
    "        if i > 0 and nums[i] == nums[i - 1]:  # Skip duplicates for the first number\n",
    "            continue\n",
    "        l, r = i + 1, len(nums) - 1 # Here it because oa two sum problem that nums[l] + nums[r] == -nums[i]\n",
    "        while l < r:\n",
    "            curr_sum = nums[i] + nums[l] + nums[r]\n",
    "            if curr_sum == 0:\n",
    "                res.append([nums[i], nums[l], nums[r]])\n",
    "                l += 1\n",
    "                r -= 1\n",
    "                while l < r and nums[l] == nums[l - 1]:  # Skip duplicates for the second number\n",
    "                    l += 1\n",
    "                while l < r and nums[r] == nums[r + 1]:  # Skip duplicates for the third number\n",
    "                    r -= 1\n",
    "            elif curr_sum < 0:\n",
    "                l += 1\n",
    "            else:\n",
    "                r -= 1\n",
    "\n",
    "    return res\n",
    "\n",
    "                    \n",
    "\n"
   ]
  },
  {
   "cell_type": "code",
   "execution_count": 18,
   "metadata": {},
   "outputs": [
    {
     "data": {
      "text/plain": [
       "[[-1, -1, 2], [-1, 0, 1]]"
      ]
     },
     "execution_count": 18,
     "metadata": {},
     "output_type": "execute_result"
    }
   ],
   "source": [
    "three_sum(nums = [-1,0,1,2,-1,-4])"
   ]
  },
  {
   "cell_type": "code",
   "execution_count": null,
   "metadata": {},
   "outputs": [],
   "source": []
  }
 ],
 "metadata": {
  "kernelspec": {
   "display_name": "Python 3",
   "language": "python",
   "name": "python3"
  },
  "language_info": {
   "codemirror_mode": {
    "name": "ipython",
    "version": 3
   },
   "file_extension": ".py",
   "mimetype": "text/x-python",
   "name": "python",
   "nbconvert_exporter": "python",
   "pygments_lexer": "ipython3",
   "version": "3.11.9"
  }
 },
 "nbformat": 4,
 "nbformat_minor": 2
}
