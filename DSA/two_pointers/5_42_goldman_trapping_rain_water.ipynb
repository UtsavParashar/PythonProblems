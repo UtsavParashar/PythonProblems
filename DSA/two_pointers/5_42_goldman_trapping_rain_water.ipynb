{
 "cells": [
  {
   "cell_type": "markdown",
   "metadata": {},
   "source": [
    "#### 42. Trapping Rain Water\n",
    "* Given n non-negative integers representing an elevation map where the width of each bar is 1, compute how much water it can trap after raining.\n",
    "\n",
    "- Input: height = [0,1,0,2,1,0,1,3,2,1,2,1]\n",
    "- Output: 6\n",
    "- Explanation: The above elevation map (black section) is represented by array [0,1,0,2,1,0,1,3,2,1,2,1]. In this case, 6 units of rain water (blue section) are being trapped.\n",
    "\n",
    "- Example 2:\n",
    "- Input: height = [4,2,0,3,2,5]\n",
    "- Output: 9"
   ]
  },
  {
   "cell_type": "code",
   "execution_count": 2,
   "metadata": {},
   "outputs": [],
   "source": [
    "# https://www.youtube.com/watch?v=ZI2z5pq0TqA\n",
    "\n",
    "def trap(height):\n",
    "    water = 0\n",
    "    n = len(height)\n",
    "    l, r = 0, n-1\n",
    "    left_max, right_max = height[l], height[r]\n",
    "\n",
    "    while l < r:\n",
    "        if left_max < right_max:\n",
    "            l += 1\n",
    "            left_max = max(left_max, height[l])\n",
    "            water += left_max - height[l]\n",
    "        else:\n",
    "            r -= 1\n",
    "            right_max = max(right_max, height[r])\n",
    "            water += right_max - height[r]\n",
    "\n",
    "    return water\n"
   ]
  },
  {
   "cell_type": "code",
   "execution_count": 3,
   "metadata": {},
   "outputs": [
    {
     "data": {
      "text/plain": [
       "9"
      ]
     },
     "execution_count": 3,
     "metadata": {},
     "output_type": "execute_result"
    }
   ],
   "source": [
    "trap(height = [4,2,0,3,2,5])"
   ]
  },
  {
   "cell_type": "code",
   "execution_count": null,
   "metadata": {},
   "outputs": [],
   "source": []
  }
 ],
 "metadata": {
  "kernelspec": {
   "display_name": "Python 3",
   "language": "python",
   "name": "python3"
  },
  "language_info": {
   "codemirror_mode": {
    "name": "ipython",
    "version": 3
   },
   "file_extension": ".py",
   "mimetype": "text/x-python",
   "name": "python",
   "nbconvert_exporter": "python",
   "pygments_lexer": "ipython3",
   "version": "3.11.9"
  }
 },
 "nbformat": 4,
 "nbformat_minor": 2
}
