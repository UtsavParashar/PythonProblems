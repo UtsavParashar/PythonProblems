{
 "cells": [
  {
   "cell_type": "markdown",
   "id": "5a11e030",
   "metadata": {},
   "source": [
    "#### 16. 3Sum Closest\n",
    "\n",
    "* https://leetcode.com/problems/3sum-closest/description/\n",
    "\n",
    "#### ['Bloomberg', 'Meta', 'Amazon', 'Google', 'Apple', 'Uber']"
   ]
  },
  {
   "cell_type": "code",
   "execution_count": null,
   "id": "daf92dba",
   "metadata": {},
   "outputs": [],
   "source": [
    "# Credit - https://chatgpt.com/c/68e491d5-3894-8324-9316-38f874dc9f2c\n",
    "# TC - ⏱️ Time Complexity\n",
    "# Sorting: O(n log n)\n",
    "# Two-pointer traversal for each element: O(n²)\n",
    "# ✅ Overall: O(n²)\n",
    "# 💾 Space Complexity\n",
    "# O(1) (in-place sorting and constant extra space)\n",
    "\n",
    "class Solution:\n",
    "    def threeSumClosest(self, nums, target: int) -> int:\n",
    "        nums.sort()\n",
    "        n = len(nums)\n",
    "        closest = float('inf')\n",
    "\n",
    "        for i in range(n-2):\n",
    "            l, r = i+1, n-1\n",
    "            \n",
    "            while l < r:\n",
    "                curr_sum = nums[i] + nums[l] + nums[r]\n",
    "\n",
    "                if abs(curr_sum - target) < abs(closest - target):\n",
    "                    closest = curr_sum\n",
    "\n",
    "                if curr_sum < target:\n",
    "                    l += 1\n",
    "                elif curr_sum > target:\n",
    "                    r -= 1\n",
    "                else:\n",
    "                    return curr_sum\n",
    "        \n",
    "        return closest"
   ]
  },
  {
   "cell_type": "code",
   "execution_count": null,
   "id": "545fc729",
   "metadata": {},
   "outputs": [],
   "source": []
  }
 ],
 "metadata": {
  "kernelspec": {
   "display_name": "Python 3",
   "language": "python",
   "name": "python3"
  },
  "language_info": {
   "codemirror_mode": {
    "name": "ipython",
    "version": 3
   },
   "file_extension": ".py",
   "mimetype": "text/x-python",
   "name": "python",
   "nbconvert_exporter": "python",
   "pygments_lexer": "ipython3",
   "version": "3.11.9"
  }
 },
 "nbformat": 4,
 "nbformat_minor": 5
}
