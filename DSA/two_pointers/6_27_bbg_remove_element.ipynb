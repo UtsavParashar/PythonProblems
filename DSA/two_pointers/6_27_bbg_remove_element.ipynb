{
 "cells": [
  {
   "cell_type": "markdown",
   "id": "d897aab4",
   "metadata": {},
   "source": [
    "# 27. Remove Element\n",
    "* https://leetcode.com/problems/remove-element/description/\n",
    "\n",
    "#### TC - O(n), SC-O(1)"
   ]
  },
  {
   "cell_type": "code",
   "execution_count": null,
   "id": "66dde979",
   "metadata": {},
   "outputs": [],
   "source": [
    "class Solution:\n",
    "    def removeElement(self, nums: list[int], val: int) -> int:\n",
    "        k = 0\n",
    "        for num in nums:\n",
    "            if num != val:\n",
    "                nums[k] = num\n",
    "                k += 1\n",
    "\n",
    "        return k"
   ]
  },
  {
   "cell_type": "code",
   "execution_count": null,
   "id": "46ed4612",
   "metadata": {},
   "outputs": [],
   "source": []
  }
 ],
 "metadata": {
  "kernelspec": {
   "display_name": "Python 3",
   "language": "python",
   "name": "python3"
  },
  "language_info": {
   "name": "python",
   "version": "3.11.9"
  }
 },
 "nbformat": 4,
 "nbformat_minor": 5
}
