{
 "cells": [
  {
   "cell_type": "markdown",
   "id": "e7f60485",
   "metadata": {},
   "source": [
    "#### 18. 4Sum\n",
    "* https://leetcode.com/problems/4sum/description/\n",
    "\n",
    "#### ['Bloomberg', 'DE Shaw', 'Meta', 'Amazon', 'Google', 'Apple', 'Uber']"
   ]
  },
  {
   "cell_type": "code",
   "execution_count": 1,
   "id": "b6a594e7",
   "metadata": {},
   "outputs": [
    {
     "data": {
      "text/plain": [
       "[[-2, -1, 1, 2], [-2, 0, 0, 2], [-1, 0, 0, 1]]"
      ]
     },
     "execution_count": 1,
     "metadata": {},
     "output_type": "execute_result"
    }
   ],
   "source": [
    "class Solution:\n",
    "    def fourSum(self, nums, target):\n",
    "        nums.sort()\n",
    "        n = len(nums)\n",
    "        res = []\n",
    "\n",
    "        for i in range(n-3):\n",
    "            if i > 0 and nums[i] == nums[i-1]:\n",
    "                continue\n",
    "            for j in range(i+1, n-2):\n",
    "                if j > i+1 and nums[j] == nums[j-1]:\n",
    "                    continue\n",
    "\n",
    "                l, r = j+1, n-1\n",
    "                while l < r:\n",
    "                    curr = nums[i] + nums[j] + nums[l] + nums[r]\n",
    "\n",
    "                    if curr == target:\n",
    "                        res.append([nums[i], nums[j], nums[l], nums[r]])\n",
    "                        l += 1\n",
    "                        r -= 1\n",
    "                        while l<r and nums[l] == nums[l-1]:\n",
    "                            l += 1\n",
    "                        while l<r and nums[r] == nums[r+1]:\n",
    "                            r -= 1\n",
    "                    elif curr < target:\n",
    "                        l += 1\n",
    "                    else:\n",
    "                        r -= 1\n",
    "\n",
    "        return res\n",
    "    \n",
    "Solution().fourSum(nums = [1,0,-1,0,-2,2], target = 0)\n"
   ]
  },
  {
   "cell_type": "code",
   "execution_count": null,
   "id": "710eb181",
   "metadata": {},
   "outputs": [],
   "source": []
  }
 ],
 "metadata": {
  "kernelspec": {
   "display_name": "Python 3",
   "language": "python",
   "name": "python3"
  },
  "language_info": {
   "codemirror_mode": {
    "name": "ipython",
    "version": 3
   },
   "file_extension": ".py",
   "mimetype": "text/x-python",
   "name": "python",
   "nbconvert_exporter": "python",
   "pygments_lexer": "ipython3",
   "version": "3.11.9"
  }
 },
 "nbformat": 4,
 "nbformat_minor": 5
}
