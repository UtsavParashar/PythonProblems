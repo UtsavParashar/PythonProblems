{
 "cells": [
  {
   "cell_type": "markdown",
   "metadata": {},
   "source": [
    " #### 11. Container With Most Water - https://leetcode.com/problems/container-with-most-water/description/\n",
    "\n",
    "* https://leetcode.com/problems/container-with-most-water/description/\n",
    "\n",
    "#### ['J.P. Morgan', 'Goldman Sachs', 'HSBC', 'Bloomberg', 'Mastercard', 'RBC', 'Meta', 'Amazon', 'Apple', 'Uber']"
   ]
  },
  {
   "cell_type": "code",
   "execution_count": 1,
   "metadata": {},
   "outputs": [],
   "source": [
    "# Two Pointer approach\n",
    "# TC - O(n)\n",
    "# SC - O(1)\n",
    "\n",
    "class Solution:\n",
    "    def maxArea(self, height: list[int]) -> int:\n",
    "        max_area = 0\n",
    "        n = len(height)\n",
    "        l, r = 0, n-1\n",
    "\n",
    "        while l < r:\n",
    "            w = r - l\n",
    "\n",
    "            if height[l] < height[r]:\n",
    "                area = w * height[l]\n",
    "                l += 1\n",
    "            else:\n",
    "                area = w * height[r]\n",
    "                r -= 1\n",
    "            \n",
    "            max_area = max(max_area, area)\n",
    "\n",
    "        return max_area"
   ]
  },
  {
   "cell_type": "code",
   "execution_count": null,
   "metadata": {},
   "outputs": [],
   "source": []
  }
 ],
 "metadata": {
  "kernelspec": {
   "display_name": "Python 3",
   "language": "python",
   "name": "python3"
  },
  "language_info": {
   "codemirror_mode": {
    "name": "ipython",
    "version": 3
   },
   "file_extension": ".py",
   "mimetype": "text/x-python",
   "name": "python",
   "nbconvert_exporter": "python",
   "pygments_lexer": "ipython3",
   "version": "3.11.9"
  }
 },
 "nbformat": 4,
 "nbformat_minor": 2
}
