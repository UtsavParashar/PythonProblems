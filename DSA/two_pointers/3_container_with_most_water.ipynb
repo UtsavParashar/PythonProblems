{
 "cells": [
  {
   "cell_type": "markdown",
   "metadata": {},
   "source": [
    " #### 11. Container With Most Water - https://leetcode.com/problems/container-with-most-water/description/\n",
    "\n",
    "- You are given an integer array height of length n. There are n vertical lines drawn such that the two endpoints of the ith line are (i, 0) and (i, height[i]).\n",
    "\n",
    "- Find two lines that together with the x-axis form a container, such that the container contains the most water.\n",
    "\n",
    "- Return the maximum amount of water a container can store.\n",
    "\n",
    "- Notice that you may not slant the container.\n",
    "\n",
    "- Example 1\n",
    "- Input: height = [1,8,6,2,5,4,8,3,7]\n",
    "- Output: 49\n",
    "- Explanation: The above vertical lines are represented by array [1,8,6,2,5,4,8,3,7]. In this case, the max area of water (blue section) the container can contain is 49.\n",
    "\n",
    "- Example 2:\n",
    "- Input: height = [1,1]\n",
    "- Output: 1"
   ]
  },
  {
   "cell_type": "code",
   "execution_count": 17,
   "metadata": {},
   "outputs": [],
   "source": [
    "# result is max of diff between index and min of values\n",
    "\n",
    "from typing import List\n",
    "def bruteforce_max_area(height: List[int]) -> int:\n",
    "    max_val = 0\n",
    "\n",
    "    for i, val in enumerate(height):\n",
    "        for j, val2 in enumerate(height[i+1:], i+1):\n",
    "            # if (res := (j - i)* min(val, val2)) > max_val:\n",
    "            #     max_val = res\n",
    "            max_val = max((j-i)* min(val, val2), max_val)\n",
    "    \n",
    "    return max_val"
   ]
  },
  {
   "cell_type": "code",
   "execution_count": 18,
   "metadata": {},
   "outputs": [
    {
     "data": {
      "text/plain": [
       "14"
      ]
     },
     "execution_count": 18,
     "metadata": {},
     "output_type": "execute_result"
    }
   ],
   "source": [
    "bruteforce_max_area([1,8,6,7])"
   ]
  },
  {
   "cell_type": "code",
   "execution_count": 19,
   "metadata": {},
   "outputs": [
    {
     "data": {
      "text/plain": [
       "1"
      ]
     },
     "execution_count": 19,
     "metadata": {},
     "output_type": "execute_result"
    }
   ],
   "source": [
    "bruteforce_max_area([1,1])"
   ]
  },
  {
   "cell_type": "markdown",
   "metadata": {},
   "source": [
    "#### Optimized Solution\n",
    "- O(n) - Two pointers - calculate max_area at each step using min height and width(j index - i index) "
   ]
  },
  {
   "cell_type": "code",
   "execution_count": null,
   "metadata": {},
   "outputs": [],
   "source": [
    "def max_area(height):\n",
    "    max_area = 0\n",
    "    i, j = 0, len(height)-1\n",
    "\n",
    "    while i < j:\n",
    "        area = (j-i) * min(height[j], height[i])\n",
    "        max_area = max(area, max_area)\n",
    "        if height[i] < height[j]:\n",
    "            i+= 1\n",
    "        else:\n",
    "            j -= 1\n",
    "    return max_area"
   ]
  },
  {
   "cell_type": "code",
   "execution_count": 22,
   "metadata": {},
   "outputs": [
    {
     "data": {
      "text/plain": [
       "49"
      ]
     },
     "execution_count": 22,
     "metadata": {},
     "output_type": "execute_result"
    }
   ],
   "source": [
    "bruteforce_max_area(height = [1,8,6,2,5,4,8,3,7])"
   ]
  },
  {
   "cell_type": "code",
   "execution_count": null,
   "metadata": {},
   "outputs": [],
   "source": []
  }
 ],
 "metadata": {
  "kernelspec": {
   "display_name": "Python 3",
   "language": "python",
   "name": "python3"
  },
  "language_info": {
   "codemirror_mode": {
    "name": "ipython",
    "version": 3
   },
   "file_extension": ".py",
   "mimetype": "text/x-python",
   "name": "python",
   "nbconvert_exporter": "python",
   "pygments_lexer": "ipython3",
   "version": "3.11.9"
  }
 },
 "nbformat": 4,
 "nbformat_minor": 2
}
