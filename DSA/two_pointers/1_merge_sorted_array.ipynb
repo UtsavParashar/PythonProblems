{
 "cells": [
  {
   "cell_type": "markdown",
   "metadata": {},
   "source": [
    "### 88. Merge Sorted Array - https://leetcode.com/problems/merge-sorted-array/description/\n",
    "\n",
    "* You are given two integer arrays nums1 and nums2, sorted in non-decreasing order, and two integers m and n, representing the number of elements in nums1 and nums2 respectively.\n",
    "\n",
    "* Merge nums1 and nums2 into a single array sorted in non-decreasing order.\n",
    "\n",
    "* The final sorted array should not be returned by the function, but instead be stored inside the array nums1. To accommodate this, nums1 has a length of m + n, where the first m elements denote the elements that should be merged, and the last n elements are set to 0 and should be ignored. nums2 has a length of n.\n",
    "\n",
    " \n",
    "- Example 1:\n",
    "- Input: nums1 = [1,2,3,0,0,0], m = 3, nums2 = [2,5,6], n = 3\n",
    "- Output: [1,2,2,3,5,6]\n",
    "- Explanation: The arrays we are merging are [1,2,3] and [2,5,6].\n",
    "- The result of the merge is [1,2,2,3,5,6] with the underlined elements coming from nums1.\n",
    "\n",
    "- Example 2:\n",
    "- Input: nums1 = [1], m = 1, nums2 = [], n = 0\n",
    "- Output: [1]\n",
    "- Explanation: The arrays we are merging are [1] and [].\n",
    "- The result of the merge is [1].\n",
    "\n",
    "- Example 3:\n",
    "- Input: nums1 = [0], m = 0, nums2 = [1], n = 1\n",
    "- Output: [1]\n",
    "- Explanation: The arrays we are merging are [] and [1].\n",
    "- The result of the merge is [1].\n",
    "\n",
    "- Note that because m = 0, there are no elements in nums1. The 0 is only there to ensure the merge result can fit in nums1."
   ]
  },
  {
   "cell_type": "code",
   "execution_count": null,
   "metadata": {},
   "outputs": [],
   "source": [
    "# three pointers\n",
    "# TC - O(n), SC - O(1)\n",
    "\n",
    "class Solution:\n",
    "    def merge(self, nums1: list[int], m: int, nums2: list[int], n: int) -> None:\n",
    "        \"\"\"\n",
    "        Do not return anything, modify nums1 in-place instead.\n",
    "        \"\"\"\n",
    "        x, y, z = m-1, n-1, m+n-1\n",
    "\n",
    "        while y >= 0:\n",
    "            if x >= 0 and nums1[x] > nums2[y]:\n",
    "                nums1[z] = nums1[x]\n",
    "                x -= 1\n",
    "            else:\n",
    "                nums1[z] = nums2[y]\n",
    "                y -= 1\n",
    "            z -= 1\n",
    "        \n",
    "        print(nums1)"
   ]
  },
  {
   "cell_type": "code",
   "execution_count": 5,
   "metadata": {},
   "outputs": [
    {
     "name": "stdout",
     "output_type": "stream",
     "text": [
      "[1, 2, 2, 3, 5, 6]\n"
     ]
    }
   ],
   "source": [
    "Solution().merge(nums1 = [1,2,3,0,0,0], m = 3, nums2 = [2,5,6], n = 3)"
   ]
  },
  {
   "cell_type": "code",
   "execution_count": 61,
   "metadata": {},
   "outputs": [],
   "source": [
    "def merge(nums1, m, nums2, n):\n",
    "\n",
    "    n -= 1\n",
    "    m -= 1\n",
    "    for z in range(len(nums1)-1, -1, -1):\n",
    "        if m < 0:\n",
    "            nums1[z] = nums2[n]\n",
    "            n -= 1\n",
    "        elif n < 0:\n",
    "            break\n",
    "        elif nums1[m] > nums2[n]:\n",
    "            nums1[z] = nums1[m]\n",
    "            m -= 1\n",
    "        else:\n",
    "            nums1[z] = nums2[n]\n",
    "            n -= 1\n",
    "    print(nums1)"
   ]
  },
  {
   "cell_type": "code",
   "execution_count": 60,
   "metadata": {},
   "outputs": [
    {
     "name": "stdout",
     "output_type": "stream",
     "text": [
      "[1, 2, 2, 3, 5, 6]\n"
     ]
    }
   ],
   "source": [
    "merge(nums1 = [2,2,3,0,0,0], m = 3, nums2 = [1,5,6], n = 3)"
   ]
  },
  {
   "cell_type": "code",
   "execution_count": null,
   "metadata": {},
   "outputs": [],
   "source": []
  }
 ],
 "metadata": {
  "kernelspec": {
   "display_name": "Python 3",
   "language": "python",
   "name": "python3"
  },
  "language_info": {
   "codemirror_mode": {
    "name": "ipython",
    "version": 3
   },
   "file_extension": ".py",
   "mimetype": "text/x-python",
   "name": "python",
   "nbconvert_exporter": "python",
   "pygments_lexer": "ipython3",
   "version": "3.11.9"
  }
 },
 "nbformat": 4,
 "nbformat_minor": 2
}
