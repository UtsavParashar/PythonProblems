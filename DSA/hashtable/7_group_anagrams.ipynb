{
 "cells": [
  {
   "cell_type": "markdown",
   "metadata": {},
   "source": [
    "### 49. Group Anagrams - https://leetcode.com/problems/group-anagrams/description/\n",
    "\n",
    "* Given an array of strings strs, group the anagrams together. You can return the answer in any order.\n",
    "\n",
    "- Example 1:\n",
    "- Input: strs = [\"eat\",\"tea\",\"tan\",\"ate\",\"nat\",\"bat\"]\n",
    "- Output: [[\"bat\"],[\"nat\",\"tan\"],[\"ate\",\"eat\",\"tea\"]]\n",
    "- Explanation:\n",
    "\n",
    "- There is no string in strs that can be rearranged to form \"bat\".\n",
    "- The strings \"nat\" and \"tan\" are anagrams as they can be rearranged to form each other.\n",
    "- The strings \"ate\", \"eat\", and \"tea\" are anagrams as they can be rearranged to form each other.\n",
    "\n",
    "\n",
    "- Example 2:\n",
    "- Input: strs = [\"\"]\n",
    "- Output: [[\"\"]]\n",
    "\n",
    "- Example 3:\n",
    "- Input: strs = [\"a\"]\n",
    "- Output: [[\"a\"]]"
   ]
  },
  {
   "cell_type": "code",
   "execution_count": 54,
   "metadata": {},
   "outputs": [],
   "source": [
    "from typing import List\n",
    "from collections import defaultdict, Counter\n",
    "\n",
    "def brute_force(strs: List[str]) -> List[List[str]]:\n",
    "    anagram_dict = defaultdict(list)\n",
    "\n",
    "    def is_anagram(string, key):\n",
    "        if len(string) != len(key):\n",
    "            return False\n",
    "        string_counter = Counter(string)\n",
    "        key_counter = Counter(key)\n",
    "\n",
    "        for k, v in string_counter.items():\n",
    "            if key_counter[k] != v:\n",
    "                return False\n",
    "        return True\n",
    "        \n",
    "    flag = True\n",
    "    for string in strs:\n",
    "        for key in anagram_dict.keys():\n",
    "            if is_anagram(string, key):\n",
    "                anagram_dict[key].append(string)\n",
    "                flag = False\n",
    "                break\n",
    "        if flag:\n",
    "            anagram_dict[string] = [string]\n",
    "        flag = True\n",
    "\n",
    "    return [v for v in anagram_dict.values()]\n",
    "        "
   ]
  },
  {
   "cell_type": "code",
   "execution_count": 65,
   "metadata": {},
   "outputs": [
    {
     "name": "stdout",
     "output_type": "stream",
     "text": [
      "13.5 μs ± 223 ns per loop (mean ± std. dev. of 7 runs, 100,000 loops each)\n"
     ]
    }
   ],
   "source": [
    "%timeit brute_force([\"eat\",\"tea\",\"tan\",\"ate\",\"nat\",\"bat\"])"
   ]
  },
  {
   "cell_type": "code",
   "execution_count": 56,
   "metadata": {},
   "outputs": [
    {
     "data": {
      "text/plain": [
       "[['a']]"
      ]
     },
     "execution_count": 56,
     "metadata": {},
     "output_type": "execute_result"
    }
   ],
   "source": [
    "brute_force([\"a\"])"
   ]
  },
  {
   "cell_type": "code",
   "execution_count": 57,
   "metadata": {},
   "outputs": [
    {
     "data": {
      "text/plain": [
       "[['']]"
      ]
     },
     "execution_count": 57,
     "metadata": {},
     "output_type": "execute_result"
    }
   ],
   "source": [
    "brute_force([\"\"])"
   ]
  },
  {
   "cell_type": "markdown",
   "metadata": {},
   "source": [
    "### Using Sorting - Practically this is more optimized\n",
    "- Time complexity - O(m x n log n)\n",
    "- n log n for sorting into m i.e for each string "
   ]
  },
  {
   "cell_type": "code",
   "execution_count": 79,
   "metadata": {},
   "outputs": [],
   "source": [
    "def group_anagrams(strs):\n",
    "    anagrams = {}\n",
    "\n",
    "    for s in strs:\n",
    "        sorted_str = tuple(sorted(s))\n",
    "\n",
    "        if sorted_str not in anagrams:\n",
    "            anagrams[sorted_str] = []\n",
    "\n",
    "        anagrams[sorted_str].append(s)\n",
    "    \n",
    "    return list(anagrams.values())"
   ]
  },
  {
   "cell_type": "code",
   "execution_count": 80,
   "metadata": {},
   "outputs": [
    {
     "name": "stdout",
     "output_type": "stream",
     "text": [
      "1.64 μs ± 67.2 ns per loop (mean ± std. dev. of 7 runs, 1,000,000 loops each)\n"
     ]
    }
   ],
   "source": [
    "%timeit group_anagrams([\"eat\",\"tea\",\"tan\",\"ate\",\"nat\",\"bat\"])"
   ]
  },
  {
   "cell_type": "code",
   "execution_count": 81,
   "metadata": {},
   "outputs": [
    {
     "data": {
      "text/plain": [
       "['a', 'b', 'c']"
      ]
     },
     "execution_count": 81,
     "metadata": {},
     "output_type": "execute_result"
    }
   ],
   "source": [
    "sorted('abc')"
   ]
  },
  {
   "cell_type": "markdown",
   "metadata": {},
   "source": [
    "### Optimized Solution - \n",
    "- Using the trick that there are total 26 alphabets so create the key accordingly \n",
    "- Time complexity (m x n x 26) ~ (m x n) "
   ]
  },
  {
   "cell_type": "code",
   "execution_count": 72,
   "metadata": {},
   "outputs": [],
   "source": [
    "from collections import defaultdict\n",
    "\n",
    "def group_anagrams_optimized(strs):\n",
    "    res = defaultdict(list)\n",
    "\n",
    "    for s in strs:\n",
    "        count = [0]*26 # a .. z\n",
    "\n",
    "        for c in s:\n",
    "            count[ord(c) - ord('a')] += 1\n",
    "        \n",
    "        res[tuple(count)].append(s)\n",
    "\n",
    "    return list(res.values())"
   ]
  },
  {
   "cell_type": "code",
   "execution_count": 76,
   "metadata": {},
   "outputs": [
    {
     "name": "stdout",
     "output_type": "stream",
     "text": [
      "3.72 μs ± 186 ns per loop (mean ± std. dev. of 7 runs, 100,000 loops each)\n"
     ]
    }
   ],
   "source": [
    "%timeit group_anagrams_optimized([\"eat\",\"tea\",\"tan\",\"ate\",\"nat\",\"bat\"])"
   ]
  },
  {
   "cell_type": "code",
   "execution_count": null,
   "metadata": {},
   "outputs": [],
   "source": []
  }
 ],
 "metadata": {
  "kernelspec": {
   "display_name": "Python 3",
   "language": "python",
   "name": "python3"
  },
  "language_info": {
   "codemirror_mode": {
    "name": "ipython",
    "version": 3
   },
   "file_extension": ".py",
   "mimetype": "text/x-python",
   "name": "python",
   "nbconvert_exporter": "python",
   "pygments_lexer": "ipython3",
   "version": "3.11.9"
  }
 },
 "nbformat": 4,
 "nbformat_minor": 2
}
