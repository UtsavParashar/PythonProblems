{
 "cells": [
  {
   "cell_type": "markdown",
   "metadata": {},
   "source": [
    "### 205. Isomorphic Strings - https://leetcode.com/problems/isomorphic-strings/description/\n",
    "\n",
    "* Given two strings s and t, determine if they are isomorphic.\n",
    "\n",
    "* Two strings s and t are isomorphic if the characters in s can be replaced to get t.\n",
    "\n",
    "* All occurrences of a character must be replaced with another character while preserving the order of characters. No two characters may map to the same character, but a character may map to itself.\n",
    "\n",
    "- Example 1:\n",
    "- Input: s = \"egg\", t = \"add\"\n",
    "- Output: true\n",
    "- Explanation:\n",
    "- The strings s and t can be made identical by:\n",
    "- Mapping 'e' to 'a'.\n",
    "- Mapping 'g' to 'd'.\n",
    "\n",
    "- Example 2:\n",
    "- Input: s = \"foo\", t = \"bar\"\n",
    "- Output: false\n",
    "- Explanation:\n",
    "- The strings s and t can not be made identical as 'o' needs to be mapped to both 'a' and 'r'.\n",
    "\n",
    "- Example 3:\n",
    "- Input: s = \"paper\", t = \"title\"\n",
    "- Output: true"
   ]
  },
  {
   "cell_type": "code",
   "execution_count": 48,
   "metadata": {},
   "outputs": [],
   "source": [
    "# This is the optimized Solution\n",
    "def semi_optimized(s: str, t: str) -> bool:\n",
    "    if len(s) != len(t):\n",
    "        return False\n",
    "    \n",
    "    ds, dt = {}, {}\n",
    "    for c1, c2 in zip(s, t):\n",
    "        if c1 in ds.keys() and ds[c1] != c2 or c2 in dt.keys() and dt[c2] != c1:\n",
    "            return False\n",
    "        ds[c1], dt[c2] = c2, c1\n",
    "\n",
    "    return True\n"
   ]
  },
  {
   "cell_type": "code",
   "execution_count": 46,
   "metadata": {},
   "outputs": [
    {
     "name": "stdout",
     "output_type": "stream",
     "text": [
      "1.02 μs ± 28.3 ns per loop (mean ± std. dev. of 7 runs, 1,000,000 loops each)\n"
     ]
    }
   ],
   "source": [
    "%timeit semi_optimized('bbbaaaba', 'aaabbbba')"
   ]
  },
  {
   "cell_type": "code",
   "execution_count": 43,
   "metadata": {},
   "outputs": [
    {
     "name": "stdout",
     "output_type": "stream",
     "text": [
      "734 ns ± 26.2 ns per loop (mean ± std. dev. of 7 runs, 1,000,000 loops each)\n"
     ]
    }
   ],
   "source": [
    "%timeit semi_optimized('paper', 'title')"
   ]
  },
  {
   "cell_type": "code",
   "execution_count": null,
   "metadata": {},
   "outputs": [
    {
     "data": {
      "text/plain": [
       "False"
      ]
     },
     "execution_count": 41,
     "metadata": {},
     "output_type": "execute_result"
    }
   ],
   "source": [
    "semi_optimized('foo', 'bar')"
   ]
  },
  {
   "cell_type": "code",
   "execution_count": 44,
   "metadata": {},
   "outputs": [],
   "source": [
    "def is_isomorphic(s: str, t: str) -> bool:\n",
    "    def encode(string):\n",
    "        mapping = {}\n",
    "        encoded_string = []\n",
    "        for index, char in enumerate(string):\n",
    "            if char not in mapping:\n",
    "                mapping[char] = index\n",
    "            encoded_string.append(mapping[char])\n",
    "        return encoded_string\n",
    "    \n",
    "    return encode(s) == encode(t)"
   ]
  },
  {
   "cell_type": "code",
   "execution_count": 45,
   "metadata": {},
   "outputs": [
    {
     "name": "stdout",
     "output_type": "stream",
     "text": [
      "926 ns ± 14.8 ns per loop (mean ± std. dev. of 7 runs, 1,000,000 loops each)\n"
     ]
    }
   ],
   "source": [
    "%timeit is_isomorphic('paper', 'title')"
   ]
  },
  {
   "cell_type": "code",
   "execution_count": 47,
   "metadata": {},
   "outputs": [
    {
     "name": "stdout",
     "output_type": "stream",
     "text": [
      "1.1 μs ± 16.6 ns per loop (mean ± std. dev. of 7 runs, 1,000,000 loops each)\n"
     ]
    }
   ],
   "source": [
    "%timeit is_isomorphic('bbbaaaba', 'aaabbbba')"
   ]
  },
  {
   "cell_type": "code",
   "execution_count": null,
   "metadata": {},
   "outputs": [],
   "source": []
  }
 ],
 "metadata": {
  "kernelspec": {
   "display_name": "Python 3",
   "language": "python",
   "name": "python3"
  },
  "language_info": {
   "codemirror_mode": {
    "name": "ipython",
    "version": 3
   },
   "file_extension": ".py",
   "mimetype": "text/x-python",
   "name": "python",
   "nbconvert_exporter": "python",
   "pygments_lexer": "ipython3",
   "version": "3.11.9"
  }
 },
 "nbformat": 4,
 "nbformat_minor": 2
}
