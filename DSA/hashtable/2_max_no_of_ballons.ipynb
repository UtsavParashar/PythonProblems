{
 "cells": [
  {
   "cell_type": "markdown",
   "metadata": {},
   "source": [
    "### 1189. Maximum Number of Balloons - https://leetcode.com/problems/maximum-number-of-balloons/description/\n",
    "\n",
    "* Given a string text, you want to use the characters of text to form as many instances of the word \"balloon\" as possible.\n",
    "* You can use each character in text at most once. Return the maximum number of instances that can be formed.\n",
    "\n",
    "- Example 1:\n",
    "- Input: text = \"nlaebolko\"\n",
    "- Output: 1\n",
    "\n",
    "- Example 2:\n",
    "- Input: text = \"loonbalxballpoon\"\n",
    "- Output: 2\n",
    "\n",
    "- Example 3:\n",
    "- Input: text = \"leetcode\"\n",
    "- Output: 0"
   ]
  },
  {
   "cell_type": "code",
   "execution_count": 49,
   "metadata": {},
   "outputs": [],
   "source": [
    "from collections import defaultdict\n",
    "\n",
    "def brute_force(text: str) -> int:\n",
    "    d = defaultdict(int)\n",
    "    for s in text:\n",
    "        d[s] += 1\n",
    "\n",
    "    counter = 0\n",
    "    for _ in range(d['b']):\n",
    "        for s in 'balloon':\n",
    "            if s in d.keys():\n",
    "                d[s] -= 1\n",
    "                if d[s] == 0:\n",
    "                    del d[s]\n",
    "            else:\n",
    "                return counter\n",
    "        counter += 1\n",
    "    return counter\n",
    "        "
   ]
  },
  {
   "cell_type": "code",
   "execution_count": 53,
   "metadata": {},
   "outputs": [
    {
     "data": {
      "text/plain": [
       "0"
      ]
     },
     "execution_count": 53,
     "metadata": {},
     "output_type": "execute_result"
    }
   ],
   "source": [
    "brute_force(\"leet\")"
   ]
  },
  {
   "cell_type": "code",
   "execution_count": 51,
   "metadata": {},
   "outputs": [],
   "source": [
    "from collections import Counter\n",
    "\n",
    "def max_no_of_balloon(text: str) -> int:\n",
    "    freq = Counter(text)\n",
    "    \n",
    "    # Calculate instance of each letter in balloon\n",
    "    min_counter = freq['b']\n",
    "    for s in 'alloon':\n",
    "        occurrence = freq[s]//2 if s in ['l', 'o'] else freq[s]\n",
    "        min_counter = min(min_counter, occurrence)\n",
    "    return min_counter"
   ]
  },
  {
   "cell_type": "code",
   "execution_count": 52,
   "metadata": {},
   "outputs": [
    {
     "name": "stdout",
     "output_type": "stream",
     "text": [
      "2 μs ± 31.4 ns per loop (mean ± std. dev. of 7 runs, 100,000 loops each)\n"
     ]
    }
   ],
   "source": [
    "%timeit max_no_of_balloon(\"loonbalxballpoon\")"
   ]
  },
  {
   "cell_type": "code",
   "execution_count": 46,
   "metadata": {},
   "outputs": [],
   "source": [
    "from collections import Counter\n",
    "\n",
    "def max_no_of_balloons(text: str) -> int:\n",
    "    freq = Counter(text)\n",
    "    \n",
    "    # Calculate instance of each letter in balloon\n",
    "    b_counter = freq['b']\n",
    "    a_counter = freq['a']\n",
    "    l_counter = freq['l'] // 2\n",
    "    o_counter = freq['o'] // 2\n",
    "    n_counter = freq['n']\n",
    "\n",
    "    return min(b_counter, a_counter, l_counter, o_counter, n_counter)"
   ]
  },
  {
   "cell_type": "code",
   "execution_count": 45,
   "metadata": {},
   "outputs": [
    {
     "name": "stdout",
     "output_type": "stream",
     "text": [
      "0\n"
     ]
    },
    {
     "data": {
      "text/plain": [
       "0"
      ]
     },
     "execution_count": 45,
     "metadata": {},
     "output_type": "execute_result"
    }
   ],
   "source": [
    "max_no_of_balloons(\"leetcode\")"
   ]
  },
  {
   "cell_type": "code",
   "execution_count": null,
   "metadata": {},
   "outputs": [],
   "source": []
  },
  {
   "cell_type": "code",
   "execution_count": null,
   "metadata": {},
   "outputs": [],
   "source": []
  }
 ],
 "metadata": {
  "kernelspec": {
   "display_name": "Python 3",
   "language": "python",
   "name": "python3"
  },
  "language_info": {
   "codemirror_mode": {
    "name": "ipython",
    "version": 3
   },
   "file_extension": ".py",
   "mimetype": "text/x-python",
   "name": "python",
   "nbconvert_exporter": "python",
   "pygments_lexer": "ipython3",
   "version": "3.11.9"
  }
 },
 "nbformat": 4,
 "nbformat_minor": 2
}
