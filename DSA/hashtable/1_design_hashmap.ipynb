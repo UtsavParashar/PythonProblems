{
 "cells": [
  {
   "cell_type": "markdown",
   "metadata": {},
   "source": [
    "## 706. Design HashMap - https://leetcode.com/problems/design-hashmap/description/\n",
    "\n",
    "* Design a HashMap without using any built-in hash table libraries.\n",
    "\n",
    "* Implement the MyHashMap class:\n",
    "\n",
    "* MyHashMap() initializes the object with an empty map.\n",
    "* void put(int key, int value) inserts a (key, value) pair into the HashMap. If the key already exists in the map, update the corresponding value.\n",
    "* int get(int key) returns the value to which the specified key is mapped, or -1 if this map contains no mapping for the key.\n",
    "* void remove(key) removes the key and its corresponding value if the map contains the mapping for the key.\n",
    " \n",
    "\n",
    "- Example 1:\n",
    "\n",
    "- Input\n",
    "- [\"MyHashMap\", \"put\", \"put\", \"get\", \"get\", \"put\", \"get\", \"remove\", \"get\"]\n",
    "- [[], [1, 1], [2, 2], [1], [3], [2, 1], [2], [2], [2]]\n",
    "- Output\n",
    "- [null, null, null, 1, -1, null, 1, null, -1]\n",
    "\n",
    "- Explanation\n",
    "- MyHashMap myHashMap = new MyHashMap();\n",
    "- myHashMap.put(1, 1); // The map is now [[1,1]]\n",
    "- myHashMap.put(2, 2); // The map is now [[1,1], [2,2]]\n",
    "- myHashMap.get(1);    // return 1, The map is now [[1,1], [2,2]]\n",
    "- myHashMap.get(3);    // return -1 (i.e., not found), The map is now [[1,1], [2,2]]\n",
    "- myHashMap.put(2, 1); // The map is now [[1,1], [2,1]] (i.e., update the existing value)\n",
    "- myHashMap.get(2);    // return 1, The map is now [[1,1], [2,1]]\n",
    "- myHashMap.remove(2); // remove the mapping for 2, The map is now [[1,1]]\n",
    "- myHashMap.get(2);    // return -1 (i.e., not found), The map is now [[1,1]]"
   ]
  },
  {
   "cell_type": "code",
   "execution_count": null,
   "metadata": {},
   "outputs": [],
   "source": [
    "## using open addressing\n",
    "\n",
    "class HashMap:\n",
    "    def __init__(self):\n",
    "        self._size = 1000000\n",
    "        self._table = [-1]*self._size\n",
    "\n",
    "    def _hash(self, key):\n",
    "        return key % self._size\n",
    "    \n",
    "    def put(self, key: int, value: int) -> None:\n",
    "        index = self._hash(key)\n",
    "\n",
    "        # Liner Probing in case of collision\n",
    "        while self._table[index] != -1 and self._table[index][0] != key:\n",
    "            index = (index+1)%self._size\n",
    "        self._table[index] = (key, value)\n",
    "\n",
    "    def get(self, key):\n",
    "        index = self._hash(key)\n",
    "\n",
    "        # Search for the key using linear probing\n",
    "        while self._table[index] != -1:\n",
    "            if self._table[index][0] == key:\n",
    "                return self._table[index][1]\n",
    "            index = (index+1)%self._size\n",
    "        return -1\n",
    "    \n",
    "    def remove(self, key):\n",
    "        index = self._hash(key)\n",
    "        # find the key to remove using linear probing\n",
    "        while self._table[index] != -1:\n",
    "            if self._table[index][0] == key:\n",
    "                # Mark as deleted, handle with a sentinel or restructuring\n",
    "                self._table[index] = -1\n",
    "                return \n",
    "        index = (index+1)%self._size\n",
    "\n",
    "    def _items(self):\n",
    "        return [(self._table[i][0], self._table[i][1])for i in range(self._size) if self._table[i] != -1] \n",
    "    \n",
    "    def __repr__(self):\n",
    "        return f'{self._items()}'"
   ]
  },
  {
   "cell_type": "code",
   "execution_count": 34,
   "metadata": {},
   "outputs": [
    {
     "data": {
      "text/plain": [
       "[(1, 1), (2, 2)]"
      ]
     },
     "execution_count": 34,
     "metadata": {},
     "output_type": "execute_result"
    }
   ],
   "source": [
    "h = HashMap()\n",
    "h.put(1, 1)\n",
    "h.put(2,2)\n",
    "h"
   ]
  },
  {
   "cell_type": "code",
   "execution_count": 35,
   "metadata": {},
   "outputs": [
    {
     "data": {
      "text/plain": [
       "1"
      ]
     },
     "execution_count": 35,
     "metadata": {},
     "output_type": "execute_result"
    }
   ],
   "source": [
    "h.get(1)"
   ]
  },
  {
   "cell_type": "code",
   "execution_count": 36,
   "metadata": {},
   "outputs": [
    {
     "data": {
      "text/plain": [
       "-1"
      ]
     },
     "execution_count": 36,
     "metadata": {},
     "output_type": "execute_result"
    }
   ],
   "source": [
    "h.get(3)"
   ]
  },
  {
   "cell_type": "code",
   "execution_count": 37,
   "metadata": {},
   "outputs": [],
   "source": [
    "h.put(2, 1)"
   ]
  },
  {
   "cell_type": "code",
   "execution_count": 38,
   "metadata": {},
   "outputs": [
    {
     "data": {
      "text/plain": [
       "[(1, 1), (2, 1)]"
      ]
     },
     "execution_count": 38,
     "metadata": {},
     "output_type": "execute_result"
    }
   ],
   "source": [
    "h"
   ]
  },
  {
   "cell_type": "code",
   "execution_count": 40,
   "metadata": {},
   "outputs": [],
   "source": [
    "h.remove(2)"
   ]
  },
  {
   "cell_type": "code",
   "execution_count": 41,
   "metadata": {},
   "outputs": [
    {
     "data": {
      "text/plain": [
       "[(1, 1)]"
      ]
     },
     "execution_count": 41,
     "metadata": {},
     "output_type": "execute_result"
    }
   ],
   "source": [
    "h"
   ]
  },
  {
   "cell_type": "code",
   "execution_count": 43,
   "metadata": {},
   "outputs": [
    {
     "data": {
      "text/plain": [
       "-1"
      ]
     },
     "execution_count": 43,
     "metadata": {},
     "output_type": "execute_result"
    }
   ],
   "source": [
    "h.get(2)"
   ]
  },
  {
   "cell_type": "code",
   "execution_count": null,
   "metadata": {},
   "outputs": [],
   "source": []
  },
  {
   "cell_type": "code",
   "execution_count": null,
   "metadata": {},
   "outputs": [],
   "source": []
  },
  {
   "cell_type": "code",
   "execution_count": null,
   "metadata": {},
   "outputs": [],
   "source": []
  },
  {
   "cell_type": "code",
   "execution_count": null,
   "metadata": {},
   "outputs": [],
   "source": []
  },
  {
   "cell_type": "code",
   "execution_count": null,
   "metadata": {},
   "outputs": [],
   "source": []
  },
  {
   "cell_type": "code",
   "execution_count": 38,
   "metadata": {},
   "outputs": [],
   "source": [
    "class MyHashMap():\n",
    "    def __init__(self):\n",
    "        self.size = 10\n",
    "        self.hash_map = [[] for _ in range(self.size)]\n",
    "\n",
    "    def _hash_func(self, key: int):\n",
    "        return key%self.size\n",
    "\n",
    "    def put(self, key: int, value: int) -> None:\n",
    "        _hash_code = self._hash_func(key)\n",
    "        self.hash_map[_hash_code] = [key, value]\n",
    "\n",
    "    def get(self, key):\n",
    "        _hash_code = self._hash_func(key)\n",
    "        print(_hash_code)\n",
    "        if self.hash_map[_hash_code]:\n",
    "            return self.hash_map[_hash_code][key]\n",
    "        return -1\n",
    "        \n",
    "\n"
   ]
  },
  {
   "cell_type": "code",
   "execution_count": null,
   "metadata": {},
   "outputs": [],
   "source": []
  },
  {
   "cell_type": "code",
   "execution_count": null,
   "metadata": {},
   "outputs": [],
   "source": []
  },
  {
   "cell_type": "code",
   "execution_count": null,
   "metadata": {},
   "outputs": [],
   "source": []
  },
  {
   "cell_type": "code",
   "execution_count": null,
   "metadata": {},
   "outputs": [],
   "source": []
  },
  {
   "cell_type": "code",
   "execution_count": 39,
   "metadata": {},
   "outputs": [],
   "source": [
    "d = MyHashMap()"
   ]
  },
  {
   "cell_type": "code",
   "execution_count": 40,
   "metadata": {},
   "outputs": [],
   "source": [
    "d.put(11, 22)\n",
    "d.put(1, 2)"
   ]
  },
  {
   "cell_type": "code",
   "execution_count": 41,
   "metadata": {},
   "outputs": [
    {
     "name": "stdout",
     "output_type": "stream",
     "text": [
      "1\n"
     ]
    },
    {
     "data": {
      "text/plain": [
       "2"
      ]
     },
     "execution_count": 41,
     "metadata": {},
     "output_type": "execute_result"
    }
   ],
   "source": [
    "d.get(1)"
   ]
  },
  {
   "cell_type": "code",
   "execution_count": 42,
   "metadata": {},
   "outputs": [
    {
     "name": "stdout",
     "output_type": "stream",
     "text": [
      "1\n"
     ]
    },
    {
     "ename": "IndexError",
     "evalue": "list index out of range",
     "output_type": "error",
     "traceback": [
      "\u001b[1;31m---------------------------------------------------------------------------\u001b[0m",
      "\u001b[1;31mIndexError\u001b[0m                                Traceback (most recent call last)",
      "Cell \u001b[1;32mIn[42], line 1\u001b[0m\n\u001b[1;32m----> 1\u001b[0m \u001b[43md\u001b[49m\u001b[38;5;241;43m.\u001b[39;49m\u001b[43mget\u001b[49m\u001b[43m(\u001b[49m\u001b[38;5;241;43m11\u001b[39;49m\u001b[43m)\u001b[49m\n",
      "Cell \u001b[1;32mIn[38], line 17\u001b[0m, in \u001b[0;36mMyHashMap.get\u001b[1;34m(self, key)\u001b[0m\n\u001b[0;32m     15\u001b[0m \u001b[38;5;28mprint\u001b[39m(_hash_code)\n\u001b[0;32m     16\u001b[0m \u001b[38;5;28;01mif\u001b[39;00m \u001b[38;5;28mself\u001b[39m\u001b[38;5;241m.\u001b[39mhash_map[_hash_code]:\n\u001b[1;32m---> 17\u001b[0m     \u001b[38;5;28;01mreturn\u001b[39;00m \u001b[38;5;28;43mself\u001b[39;49m\u001b[38;5;241;43m.\u001b[39;49m\u001b[43mhash_map\u001b[49m\u001b[43m[\u001b[49m\u001b[43m_hash_code\u001b[49m\u001b[43m]\u001b[49m\u001b[43m[\u001b[49m\u001b[43mkey\u001b[49m\u001b[43m]\u001b[49m\n\u001b[0;32m     18\u001b[0m \u001b[38;5;28;01mreturn\u001b[39;00m \u001b[38;5;241m-\u001b[39m\u001b[38;5;241m1\u001b[39m\n",
      "\u001b[1;31mIndexError\u001b[0m: list index out of range"
     ]
    }
   ],
   "source": [
    "d.get(11)"
   ]
  },
  {
   "cell_type": "code",
   "execution_count": null,
   "metadata": {},
   "outputs": [],
   "source": []
  }
 ],
 "metadata": {
  "kernelspec": {
   "display_name": "Python 3",
   "language": "python",
   "name": "python3"
  },
  "language_info": {
   "codemirror_mode": {
    "name": "ipython",
    "version": 3
   },
   "file_extension": ".py",
   "mimetype": "text/x-python",
   "name": "python",
   "nbconvert_exporter": "python",
   "pygments_lexer": "ipython3",
   "version": "3.11.9"
  }
 },
 "nbformat": 4,
 "nbformat_minor": 2
}
