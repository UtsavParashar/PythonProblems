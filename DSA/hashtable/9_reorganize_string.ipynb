{
 "cells": [
  {
   "cell_type": "markdown",
   "metadata": {},
   "source": [
    "### 767. Reorganize String - https://leetcode.com/problems/reorganize-string/description/\n",
    "\n",
    "* Given a string s, rearrange the characters of s so that any two adjacent characters are not the same.\n",
    "* Return any possible rearrangement of s or return \"\" if not possible.\n",
    "\n",
    "- Example 1:\n",
    "- Input: s = \"aab\"\n",
    "- Output: \"aba\"\n",
    "\n",
    "- Example 2:\n",
    "- Input: s = \"aaab\"\n",
    "- Output: \"\""
   ]
  },
  {
   "cell_type": "code",
   "execution_count": 10,
   "metadata": {},
   "outputs": [],
   "source": [
    "from collections import Counter\n",
    "\n",
    "def reorganize_string(s: str) -> str:\n",
    "    char_count = Counter(s)\n",
    "\n",
    "    sorted_chars = sorted(char_count, key = lambda x: -char_count[x])\n",
    "\n",
    "    res = ['']*len(s)\n",
    "    index = 0\n",
    "\n",
    "    for char in sorted_chars:\n",
    "        count = char_count[char]\n",
    "        if count > (len(s)+1)//2:\n",
    "            return \"\"\n",
    "        \n",
    "        for _ in range(count):\n",
    "            if index >= len(s):\n",
    "                index = 1\n",
    "            res[index] = char\n",
    "            index += 2\n",
    "\n",
    "    return ''.join(res)\n"
   ]
  },
  {
   "cell_type": "code",
   "execution_count": 11,
   "metadata": {},
   "outputs": [
    {
     "data": {
      "text/plain": [
       "'abacb'"
      ]
     },
     "execution_count": 11,
     "metadata": {},
     "output_type": "execute_result"
    }
   ],
   "source": [
    "reorganize_string('aabbc')"
   ]
  },
  {
   "cell_type": "code",
   "execution_count": null,
   "metadata": {},
   "outputs": [],
   "source": []
  }
 ],
 "metadata": {
  "kernelspec": {
   "display_name": "Python 3",
   "language": "python",
   "name": "python3"
  },
  "language_info": {
   "codemirror_mode": {
    "name": "ipython",
    "version": 3
   },
   "file_extension": ".py",
   "mimetype": "text/x-python",
   "name": "python",
   "nbconvert_exporter": "python",
   "pygments_lexer": "ipython3",
   "version": "3.11.9"
  }
 },
 "nbformat": 4,
 "nbformat_minor": 2
}
