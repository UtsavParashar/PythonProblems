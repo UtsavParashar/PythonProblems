{
 "cells": [
  {
   "cell_type": "markdown",
   "metadata": {},
   "source": [
    "### 49. Group Anagrams - https://leetcode.com/problems/group-anagrams/description/\n",
    "\n",
    "* https://leetcode.com/problems/group-anagrams/description/\n",
    "\n",
    "### ['J.P. Morgan', 'Goldman Sachs', 'Morgan Stanley', 'BNY Mellon', 'Bloomberg', 'Intuit', 'MSCI', 'BlackRock', 'Meta', 'Amazon', 'Google', 'Apple', 'Uber']"
   ]
  },
  {
   "cell_type": "code",
   "execution_count": null,
   "metadata": {},
   "outputs": [],
   "source": [
    "# Two Solutions\n",
    "\n",
    "# 1. dict + using sorting\n",
    "# TC - O(n * k log k) - Useful when strings are of any case\n",
    "# SC - O(n * k) \n",
    "\n",
    "from collections import defaultdict\n",
    "\n",
    "class Solution:\n",
    "    def groupAnagrams(self, strs: list[str]) -> list[list[str]]:\n",
    "        anagram_dict = defaultdict(list)\n",
    "\n",
    "        for s in strs:\n",
    "            sorted_str = tuple(sorted(s))\n",
    "            anagram_dict[sorted_str].append(s)\n",
    "\n",
    "        return list(anagram_dict.values())\n",
    "\n"
   ]
  },
  {
   "cell_type": "code",
   "execution_count": null,
   "metadata": {},
   "outputs": [],
   "source": [
    "# 1. dict + using char array\n",
    "# TC - O(n * k)\n",
    "# SC - O(n * 26) - Use for long string of lower/single case\n",
    "\n",
    "from collections import defaultdict\n",
    "\n",
    "class Solution:\n",
    "    def groupAnagrams(self, strs: list[str]) -> list[list[str]]:\n",
    "        anagram_dict = defaultdict(list)\n",
    "\n",
    "        for s in strs:\n",
    "            char_arr = [0]*26\n",
    "            for c in s:\n",
    "                char_arr[ord(c) - ord('a')] += 1\n",
    "            anagram_dict[tuple(char_arr)].append(s)\n",
    "\n",
    "        return list(anagram_dict.values())\n"
   ]
  }
 ],
 "metadata": {
  "kernelspec": {
   "display_name": "Python 3",
   "language": "python",
   "name": "python3"
  },
  "language_info": {
   "codemirror_mode": {
    "name": "ipython",
    "version": 3
   },
   "file_extension": ".py",
   "mimetype": "text/x-python",
   "name": "python",
   "nbconvert_exporter": "python",
   "pygments_lexer": "ipython3",
   "version": "3.11.9"
  }
 },
 "nbformat": 4,
 "nbformat_minor": 2
}
