{
 "cells": [
  {
   "cell_type": "markdown",
   "metadata": {},
   "source": [
    "### 767. Reorganize String - https://leetcode.com/problems/reorganize-string/description/\n",
    "\n",
    "* Given a string s, rearrange the characters of s so that any two adjacent characters are not the same.\n",
    "* Return any possible rearrangement of s or return \"\" if not possible.\n",
    "\n",
    "- Example 1:\n",
    "- Input: s = \"aab\"\n",
    "- Output: \"aba\"\n",
    "\n",
    "- Example 2:\n",
    "- Input: s = \"aaab\"\n",
    "- Output: \"\""
   ]
  },
  {
   "cell_type": "code",
   "execution_count": 28,
   "metadata": {},
   "outputs": [],
   "source": [
    "from collections import Counter\n",
    "def reorganize_string(string: str) -> str:\n",
    "    if not string:\n",
    "        return \"\"\n",
    "    \n",
    "    counter = Counter(string)\n",
    "    \n",
    "    max_counter = 0\n",
    "    second_max_counter = 0\n",
    "    max_counter_key = '_'\n",
    "    second_max_counter_key = '_'\n",
    "    res = []\n",
    "\n",
    "    for k, v in counter.items():\n",
    "        print(counter)\n",
    "        if v > max_counter:\n",
    "            second_max_counter = max_counter\n",
    "            second_max_counter_key = max_counter_key\n",
    "\n",
    "            max_counter = v\n",
    "            max_counter_key = k\n",
    "\n",
    "        if v > second_max_counter:\n",
    "            second_max_counter = v\n",
    "            second_max_counter_key = k\n",
    "        \n",
    "        if len(res) != 0 and res[-1] == max_counter_key:\n",
    "            print('inside')\n",
    "            res.append(second_max_counter_key)\n",
    "            counter[second_max_counter_key] = counter[second_max_counter_key] - 1\n",
    "            if counter[second_max_counter_key] == 0:\n",
    "                del counter[second_max_counter_key]\n",
    "        else:\n",
    "            res.append(max_counter_key)\n",
    "            counter[max_counter_key] = counter[max_counter_key] - 1\n",
    "\n",
    "        if len(counter) == 1 and counter[max_counter] > 1:\n",
    "            return \"\"\n",
    "        \n",
    "        print(res)\n",
    "        \n",
    "    return res\n",
    "    \n",
    "\n",
    "\n",
    "\n",
    "\n"
   ]
  },
  {
   "cell_type": "code",
   "execution_count": 29,
   "metadata": {},
   "outputs": [
    {
     "name": "stdout",
     "output_type": "stream",
     "text": [
      "Counter({'a': 3, 'b': 1, 'c': 1})\n",
      "['a']\n",
      "Counter({'a': 2, 'b': 1, 'c': 1})\n",
      "inside\n",
      "['a', 'a']\n",
      "Counter({'a': 1, 'b': 1, 'c': 1})\n",
      "inside\n",
      "['a', 'a', 'a']\n"
     ]
    },
    {
     "ename": "RuntimeError",
     "evalue": "dictionary changed size during iteration",
     "output_type": "error",
     "traceback": [
      "\u001b[1;31m---------------------------------------------------------------------------\u001b[0m",
      "\u001b[1;31mRuntimeError\u001b[0m                              Traceback (most recent call last)",
      "Cell \u001b[1;32mIn[29], line 1\u001b[0m\n\u001b[1;32m----> 1\u001b[0m \u001b[43mreorganize_string\u001b[49m\u001b[43m(\u001b[49m\u001b[38;5;124;43m'\u001b[39;49m\u001b[38;5;124;43maaabc\u001b[39;49m\u001b[38;5;124;43m'\u001b[39;49m\u001b[43m)\u001b[49m\n",
      "Cell \u001b[1;32mIn[28], line 14\u001b[0m, in \u001b[0;36mreorganize_string\u001b[1;34m(string)\u001b[0m\n\u001b[0;32m     11\u001b[0m second_max_counter_key \u001b[38;5;241m=\u001b[39m \u001b[38;5;124m'\u001b[39m\u001b[38;5;124m_\u001b[39m\u001b[38;5;124m'\u001b[39m\n\u001b[0;32m     12\u001b[0m res \u001b[38;5;241m=\u001b[39m []\n\u001b[1;32m---> 14\u001b[0m \u001b[43m\u001b[49m\u001b[38;5;28;43;01mfor\u001b[39;49;00m\u001b[43m \u001b[49m\u001b[43mk\u001b[49m\u001b[43m,\u001b[49m\u001b[43m \u001b[49m\u001b[43mv\u001b[49m\u001b[43m \u001b[49m\u001b[38;5;129;43;01min\u001b[39;49;00m\u001b[43m \u001b[49m\u001b[43mcounter\u001b[49m\u001b[38;5;241;43m.\u001b[39;49m\u001b[43mitems\u001b[49m\u001b[43m(\u001b[49m\u001b[43m)\u001b[49m\u001b[43m:\u001b[49m\n\u001b[0;32m     15\u001b[0m \u001b[43m    \u001b[49m\u001b[38;5;28;43mprint\u001b[39;49m\u001b[43m(\u001b[49m\u001b[43mcounter\u001b[49m\u001b[43m)\u001b[49m\n\u001b[0;32m     16\u001b[0m \u001b[43m    \u001b[49m\u001b[38;5;28;43;01mif\u001b[39;49;00m\u001b[43m \u001b[49m\u001b[43mv\u001b[49m\u001b[43m \u001b[49m\u001b[38;5;241;43m>\u001b[39;49m\u001b[43m \u001b[49m\u001b[43mmax_counter\u001b[49m\u001b[43m:\u001b[49m\n",
      "\u001b[1;31mRuntimeError\u001b[0m: dictionary changed size during iteration"
     ]
    }
   ],
   "source": [
    "reorganize_string('aaabc')"
   ]
  },
  {
   "cell_type": "code",
   "execution_count": null,
   "metadata": {},
   "outputs": [],
   "source": []
  }
 ],
 "metadata": {
  "kernelspec": {
   "display_name": "Python 3",
   "language": "python",
   "name": "python3"
  },
  "language_info": {
   "codemirror_mode": {
    "name": "ipython",
    "version": 3
   },
   "file_extension": ".py",
   "mimetype": "text/x-python",
   "name": "python",
   "nbconvert_exporter": "python",
   "pygments_lexer": "ipython3",
   "version": "3.11.9"
  }
 },
 "nbformat": 4,
 "nbformat_minor": 2
}
