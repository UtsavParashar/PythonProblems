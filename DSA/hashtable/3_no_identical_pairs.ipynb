{
 "cells": [
  {
   "cell_type": "markdown",
   "metadata": {},
   "source": [
    "### 1512. Number of Good Pairs - https://leetcode.com/problems/number-of-good-pairs/description/\n",
    "\n",
    "* Given an array of integers nums, return the number of good pairs.\n",
    "\n",
    "* A pair (i, j) is called good if nums[i] == nums[j] and i < j.\n",
    "\n",
    "- Example 1:\n",
    "- Input: nums = [1,2,3,1,1,3]\n",
    "- Output: 4\n",
    "- Explanation: There are 4 good pairs (0,3), (0,4), (3,4), (2,5) 0-indexed.\n",
    "\n",
    "- Example 2:\n",
    "- Input: nums = [1,1,1,1]\n",
    "- Output: 6\n",
    "- Explanation: Each pair in the array are good.\n",
    "\n",
    "- Example 3:\n",
    "- Input: nums = [1,2,3]\n",
    "- Output: 0"
   ]
  },
  {
   "cell_type": "code",
   "execution_count": null,
   "metadata": {},
   "outputs": [],
   "source": [
    "from typing import List\n",
    "from collections import Counter\n",
    "from math import factorial\n",
    "def brute_force(nums: List[int]) -> int:\n",
    "\n",
    "    def _get_factorial(n):\n",
    "        if n <= 1:\n",
    "            return 1\n",
    "        else:\n",
    "            return n * _get_factorial(n-1)\n",
    "\n",
    "    def _get_combination_count(freq):\n",
    "        # n! // r! * (n-r)!\n",
    "        return factorial(freq)//(2*factorial(freq-2))\n",
    "\n",
    "    freq_dict = Counter(nums)\n",
    "\n",
    "    good_pair_count = 0\n",
    "    for key in freq_dict.keys():\n",
    "        if freq_dict[key] > 1:\n",
    "           good_pair_count += _get_combination_count(freq_dict[key])\n",
    "    \n",
    "    return good_pair_count\n"
   ]
  },
  {
   "cell_type": "code",
   "execution_count": 60,
   "metadata": {},
   "outputs": [
    {
     "name": "stdout",
     "output_type": "stream",
     "text": [
      "1.42 μs ± 37 ns per loop (mean ± std. dev. of 7 runs, 1,000,000 loops each)\n"
     ]
    }
   ],
   "source": [
    "%timeit brute_force([1,2,3,1,1,3])"
   ]
  },
  {
   "cell_type": "code",
   "execution_count": 41,
   "metadata": {},
   "outputs": [
    {
     "data": {
      "text/plain": [
       "6"
      ]
     },
     "execution_count": 41,
     "metadata": {},
     "output_type": "execute_result"
    }
   ],
   "source": [
    "brute_force([1,1,1,1])"
   ]
  },
  {
   "cell_type": "code",
   "execution_count": 42,
   "metadata": {},
   "outputs": [
    {
     "data": {
      "text/plain": [
       "0"
      ]
     },
     "execution_count": 42,
     "metadata": {},
     "output_type": "execute_result"
    }
   ],
   "source": [
    "brute_force([1,2,3])"
   ]
  },
  {
   "cell_type": "code",
   "execution_count": 23,
   "metadata": {},
   "outputs": [],
   "source": [
    "def get_factorial(n):\n",
    "    return 1 if n <= 1 else n * get_factorial(n-1)"
   ]
  },
  {
   "cell_type": "code",
   "execution_count": 24,
   "metadata": {},
   "outputs": [
    {
     "name": "stdout",
     "output_type": "stream",
     "text": [
      "1.45 μs ± 49.9 ns per loop (mean ± std. dev. of 7 runs, 100,000 loops each)\n"
     ]
    }
   ],
   "source": [
    "%timeit get_factorial(30)"
   ]
  },
  {
   "cell_type": "code",
   "execution_count": 31,
   "metadata": {},
   "outputs": [],
   "source": [
    "def fact(n):\n",
    "    prd = 1\n",
    "    for i in range(2, n+1):\n",
    "        prd *= i\n",
    "    return prd"
   ]
  },
  {
   "cell_type": "code",
   "execution_count": 32,
   "metadata": {},
   "outputs": [
    {
     "name": "stdout",
     "output_type": "stream",
     "text": [
      "886 ns ± 19.7 ns per loop (mean ± std. dev. of 7 runs, 1,000,000 loops each)\n"
     ]
    }
   ],
   "source": [
    "%timeit fact(30)"
   ]
  },
  {
   "cell_type": "code",
   "execution_count": 33,
   "metadata": {},
   "outputs": [],
   "source": [
    "from math import factorial"
   ]
  },
  {
   "cell_type": "code",
   "execution_count": 34,
   "metadata": {},
   "outputs": [
    {
     "name": "stdout",
     "output_type": "stream",
     "text": [
      "139 ns ± 3.21 ns per loop (mean ± std. dev. of 7 runs, 10,000,000 loops each)\n"
     ]
    }
   ],
   "source": [
    "%timeit factorial(30)"
   ]
  },
  {
   "cell_type": "markdown",
   "metadata": {},
   "source": [
    "### Optimized Solution \n",
    "\n",
    "- Credit - https://github.com/AlgoMaster-io/leetcode-solutions/blob/main/python/number-of-good-pairs.md#optimized-solution-using-a-dictionary\n",
    "\n",
    "* Optimized Solution Using a Dictionary\n",
    "- To improve efficiency, we can count the occurrences of each number in the list using a dictionary. For each identical number, say that it appears k times, the number of good pairs is given by k * (k - 1) / 2, which is the combination formula for choosing 2 elements from k.\n",
    "\n",
    "* Intuition\n",
    "- Use a dictionary to track the occurrence of each element.\n",
    "- For each new occurrence of an element, update the number of good pairs because each new occurrence of an element can form a new good pair with all previous instances of that element."
   ]
  },
  {
   "cell_type": "code",
   "execution_count": 55,
   "metadata": {},
   "outputs": [],
   "source": [
    "from typing import List\n",
    "from collections import defaultdict\n",
    "\n",
    "def num_identical_pairs(nums: List[int]) -> int:\n",
    "    count = defaultdict(int)\n",
    "    good_pairs = 0\n",
    "\n",
    "    for num in nums:\n",
    "        good_pairs += count[num]\n",
    "        count[num] += 1\n",
    "    \n",
    "    return good_pairs"
   ]
  },
  {
   "cell_type": "code",
   "execution_count": 61,
   "metadata": {},
   "outputs": [
    {
     "name": "stdout",
     "output_type": "stream",
     "text": [
      "755 ns ± 29.5 ns per loop (mean ± std. dev. of 7 runs, 1,000,000 loops each)\n"
     ]
    }
   ],
   "source": [
    "%timeit num_identical_pairs([1,2,3,1,1,3])"
   ]
  },
  {
   "cell_type": "code",
   "execution_count": null,
   "metadata": {},
   "outputs": [],
   "source": []
  }
 ],
 "metadata": {
  "kernelspec": {
   "display_name": "Python 3",
   "language": "python",
   "name": "python3"
  },
  "language_info": {
   "codemirror_mode": {
    "name": "ipython",
    "version": 3
   },
   "file_extension": ".py",
   "mimetype": "text/x-python",
   "name": "python",
   "nbconvert_exporter": "python",
   "pygments_lexer": "ipython3",
   "version": "3.11.9"
  }
 },
 "nbformat": 4,
 "nbformat_minor": 2
}
