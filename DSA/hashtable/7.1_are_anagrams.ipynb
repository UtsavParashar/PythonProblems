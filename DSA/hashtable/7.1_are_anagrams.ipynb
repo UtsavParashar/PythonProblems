{
 "cells": [
  {
   "cell_type": "markdown",
   "metadata": {},
   "source": [
    "### 242. Valid Anagram  - https://leetcode.com/problems/valid-anagram/description/\n",
    "\n",
    "- Given two strings s and t, return true if t is an anagram of s, and false otherwise.\n",
    "- Example 1:\n",
    "-Input: s = \"anagram\", t = \"nagaram\"\n",
    "- Output: true\n",
    "\n",
    "- Example 2:\n",
    "- Input: s = \"rat\", t = \"car\"\n",
    "- Output: false"
   ]
  },
  {
   "cell_type": "code",
   "execution_count": 2,
   "metadata": {},
   "outputs": [],
   "source": [
    "from collections import Counter\n",
    "\n",
    "def is_anagram(string, key):\n",
    "    if len(string) != len(key):\n",
    "        return False\n",
    "    string_counter = Counter(string)\n",
    "    key_counter = Counter(key)\n",
    "\n",
    "    for k, v in string_counter.items():\n",
    "        if key_counter[k] != v:\n",
    "            return False\n",
    "    return True"
   ]
  },
  {
   "cell_type": "code",
   "execution_count": 10,
   "metadata": {},
   "outputs": [
    {
     "name": "stdout",
     "output_type": "stream",
     "text": [
      "2.07 μs ± 120 ns per loop (mean ± std. dev. of 7 runs, 100,000 loops each)\n"
     ]
    }
   ],
   "source": [
    "%timeit is_anagram(\"anagram\", \"nagaram\")"
   ]
  },
  {
   "cell_type": "code",
   "execution_count": 4,
   "metadata": {},
   "outputs": [
    {
     "data": {
      "text/plain": [
       "False"
      ]
     },
     "execution_count": 4,
     "metadata": {},
     "output_type": "execute_result"
    }
   ],
   "source": [
    "is_anagram(\"rat\",\"car\")"
   ]
  },
  {
   "cell_type": "code",
   "execution_count": 15,
   "metadata": {},
   "outputs": [],
   "source": [
    "# This one is more optimized\n",
    "def are_anagrams(s1, s2):\n",
    "    char_count = {}\n",
    "\n",
    "    for s in s1:\n",
    "        char_count[s] = char_count.get(s, 0) + 1\n",
    "\n",
    "    for s in s2:\n",
    "        char_count[s] = char_count.get(s, 0) - 1\n",
    "\n",
    "    for value in char_count.values():\n",
    "        if value:\n",
    "            return False\n",
    "    return True"
   ]
  },
  {
   "cell_type": "code",
   "execution_count": 12,
   "metadata": {},
   "outputs": [
    {
     "name": "stdout",
     "output_type": "stream",
     "text": [
      "752 ns ± 18.2 ns per loop (mean ± std. dev. of 7 runs, 1,000,000 loops each)\n"
     ]
    }
   ],
   "source": [
    "%timeit are_anagrams(\"anagram\", \"nagaram\")"
   ]
  },
  {
   "cell_type": "code",
   "execution_count": 13,
   "metadata": {},
   "outputs": [],
   "source": [
    "def are_anagrams_optimized(s1, s2):\n",
    "    freq = [0] * 26\n",
    "\n",
    "    for s in s1:\n",
    "        freq[ord(s)-ord('a')] += 1\n",
    "\n",
    "    for s in s2:\n",
    "        freq[ord(s)-ord('a')] -= 1\n",
    "\n",
    "    for count in freq:\n",
    "        if count:\n",
    "            return False\n",
    "    return True"
   ]
  },
  {
   "cell_type": "code",
   "execution_count": 14,
   "metadata": {},
   "outputs": [
    {
     "name": "stdout",
     "output_type": "stream",
     "text": [
      "1.39 μs ± 14.4 ns per loop (mean ± std. dev. of 7 runs, 1,000,000 loops each)\n"
     ]
    }
   ],
   "source": [
    "%timeit are_anagrams_optimized(\"anagram\", \"nagaram\")"
   ]
  },
  {
   "cell_type": "code",
   "execution_count": null,
   "metadata": {},
   "outputs": [],
   "source": []
  }
 ],
 "metadata": {
  "kernelspec": {
   "display_name": "Python 3",
   "language": "python",
   "name": "python3"
  },
  "language_info": {
   "codemirror_mode": {
    "name": "ipython",
    "version": 3
   },
   "file_extension": ".py",
   "mimetype": "text/x-python",
   "name": "python",
   "nbconvert_exporter": "python",
   "pygments_lexer": "ipython3",
   "version": "3.11.9"
  }
 },
 "nbformat": 4,
 "nbformat_minor": 2
}
