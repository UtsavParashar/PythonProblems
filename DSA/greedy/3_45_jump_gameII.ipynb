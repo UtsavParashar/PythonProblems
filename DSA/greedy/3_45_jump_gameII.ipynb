{
 "cells": [
  {
   "cell_type": "markdown",
   "id": "b5408959",
   "metadata": {},
   "source": [
    "#### 45. Jump Game II\n",
    "\n",
    "* https://leetcode.com/problems/jump-game-ii/description/\n",
    "\n",
    "#### ['Goldman Sachs', 'Bloomberg', 'DE Shaw', 'Meta', 'Amazon', 'Google', 'Apple', 'Uber']"
   ]
  },
  {
   "cell_type": "code",
   "execution_count": 7,
   "id": "201e2ee5",
   "metadata": {},
   "outputs": [],
   "source": [
    "## Credit - https://www.youtube.com/watch?v=CsDI-yQuGeM\n",
    "## TC - O(n)\n",
    "## SC - O(1)\n",
    "\n",
    "## Explanation - We are dividing the array into regions\n",
    "## farthest specifies the fartest we could reach from an index\n",
    "## when i == end, that's the end of a region so we increment min_jumps by 1 and point end to farthest\n",
    "\n",
    "\n",
    "def jump(nums: list[int]) -> int:\n",
    "    min_jumps, end, farthest = 0, 0, 0\n",
    "\n",
    "    # Iterate with index and value, exclude the last element\n",
    "    for i, num in enumerate(nums[:-1]):   # we are traversing till n-1, because min_jumps += 1 might reach out of bounds\n",
    "        farthest = max(farthest, i + num)\n",
    "        if i == end:\n",
    "            min_jumps += 1\n",
    "            end = farthest\n",
    "\n",
    "    return min_jumps\n",
    "\n",
    "    "
   ]
  },
  {
   "cell_type": "code",
   "execution_count": 8,
   "id": "df7bda1f",
   "metadata": {},
   "outputs": [
    {
     "data": {
      "text/plain": [
       "2"
      ]
     },
     "execution_count": 8,
     "metadata": {},
     "output_type": "execute_result"
    }
   ],
   "source": [
    "jump(nums = [2,3,1,1,4])"
   ]
  },
  {
   "cell_type": "code",
   "execution_count": null,
   "id": "8e924f42",
   "metadata": {},
   "outputs": [],
   "source": [
    "\n"
   ]
  }
 ],
 "metadata": {
  "kernelspec": {
   "display_name": "Python 3",
   "language": "python",
   "name": "python3"
  },
  "language_info": {
   "codemirror_mode": {
    "name": "ipython",
    "version": 3
   },
   "file_extension": ".py",
   "mimetype": "text/x-python",
   "name": "python",
   "nbconvert_exporter": "python",
   "pygments_lexer": "ipython3",
   "version": "3.11.9"
  }
 },
 "nbformat": 4,
 "nbformat_minor": 5
}
