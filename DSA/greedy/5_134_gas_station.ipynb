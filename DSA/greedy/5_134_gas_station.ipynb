{
 "cells": [
  {
   "cell_type": "markdown",
   "id": "36adaaf9",
   "metadata": {},
   "source": [
    "\n",
    "#### 134. Gas Station\n",
    "\n",
    "* https://leetcode.com/problems/gas-station/description/"
   ]
  },
  {
   "cell_type": "code",
   "execution_count": null,
   "id": "839ebe67",
   "metadata": {},
   "outputs": [],
   "source": [
    "## Credit - https://www.youtube.com/watch?v=lJwbPZGo05A\n",
    "\n",
    "## TC - O(n)\n",
    "## SC - O(1)\n",
    "\n",
    "def can_complete_circuit(gas: list[int], cost: list[int]) -> int:\n",
    "    if sum(gas) < sum(cost):\n",
    "        return -1\n",
    "\n",
    "    # Since gas is more than cost so we know that there is a solution\n",
    "    total,start_point = 0, 0\n",
    "\n",
    "    for i in range(len(gas)):\n",
    "        total += gas[i] - cost[i]\n",
    "        if total < 0: # If total falls below 0 then reset total to 0 \n",
    "            total = 0\n",
    "            start_point = i + 1 # since we know that there is a solution hence start_point = i+1 hence being greedy\n",
    "    \n",
    "    return start_point\n",
    "            \n"
   ]
  },
  {
   "cell_type": "code",
   "execution_count": 4,
   "id": "0ff9b364",
   "metadata": {},
   "outputs": [
    {
     "data": {
      "text/plain": [
       "3"
      ]
     },
     "execution_count": 4,
     "metadata": {},
     "output_type": "execute_result"
    }
   ],
   "source": [
    "can_complete_circuit(gas = [1,2,3,4,5], cost = [3,4,5,1,2])"
   ]
  },
  {
   "cell_type": "code",
   "execution_count": null,
   "id": "5310cecb",
   "metadata": {},
   "outputs": [],
   "source": []
  }
 ],
 "metadata": {
  "kernelspec": {
   "display_name": "Python 3",
   "language": "python",
   "name": "python3"
  },
  "language_info": {
   "codemirror_mode": {
    "name": "ipython",
    "version": 3
   },
   "file_extension": ".py",
   "mimetype": "text/x-python",
   "name": "python",
   "nbconvert_exporter": "python",
   "pygments_lexer": "ipython3",
   "version": "3.11.9"
  }
 },
 "nbformat": 4,
 "nbformat_minor": 5
}
