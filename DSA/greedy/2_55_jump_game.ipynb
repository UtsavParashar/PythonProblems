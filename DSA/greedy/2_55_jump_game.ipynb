{
 "cells": [
  {
   "cell_type": "markdown",
   "id": "26c12fc7",
   "metadata": {},
   "source": [
    "#### 55. Jump Game\n",
    "\n",
    "* https://leetcode.com/problems/jump-game/description/"
   ]
  },
  {
   "cell_type": "code",
   "execution_count": null,
   "id": "9a3c8a4f",
   "metadata": {},
   "outputs": [],
   "source": [
    "## Credit - https://www.youtube.com/watch?app=desktop&v=PfGypLRcoVA\n",
    "## Optimized Greedy Method\n",
    "## Trick is to start from the end of the array and move the target backwards \n",
    "# if the previous value[s] are capable of reaching target\n",
    "\n",
    "def can_jump(nums: list[int]) -> bool:\n",
    "    n = len(nums)\n",
    "    target = nums[n-1]\n",
    "\n",
    "    for i in range(n-1, -1, -1):\n",
    "        if nums[i]+i >= target:\n",
    "            target = i\n",
    "\n",
    "    return target == 0\n"
   ]
  },
  {
   "cell_type": "code",
   "execution_count": 3,
   "id": "dd66f48e",
   "metadata": {},
   "outputs": [
    {
     "data": {
      "text/plain": [
       "True"
      ]
     },
     "execution_count": 3,
     "metadata": {},
     "output_type": "execute_result"
    }
   ],
   "source": [
    "can_jump(nums = [2,3,1,1,4])"
   ]
  },
  {
   "cell_type": "code",
   "execution_count": 4,
   "id": "93b3b32c",
   "metadata": {},
   "outputs": [
    {
     "data": {
      "text/plain": [
       "False"
      ]
     },
     "execution_count": 4,
     "metadata": {},
     "output_type": "execute_result"
    }
   ],
   "source": [
    "can_jump(nums = [3,2,1,0,4])"
   ]
  },
  {
   "cell_type": "code",
   "execution_count": null,
   "id": "aa2cc1bd",
   "metadata": {},
   "outputs": [],
   "source": []
  },
  {
   "cell_type": "code",
   "execution_count": null,
   "id": "86cae55e",
   "metadata": {},
   "outputs": [],
   "source": []
  },
  {
   "cell_type": "code",
   "execution_count": null,
   "id": "274eb12e",
   "metadata": {},
   "outputs": [],
   "source": []
  },
  {
   "cell_type": "code",
   "execution_count": null,
   "id": "09d7cdd1",
   "metadata": {},
   "outputs": [],
   "source": [
    "# Time Complexity - O(max_val ^ n)\n",
    "# Space Complexity - O(n)\n",
    "def brute_force_dp(nums: list[int]) -> bool:\n",
    "\n",
    "    n = len(nums)\n",
    "\n",
    "    def can_reach(i):\n",
    "        if i == n-1:\n",
    "            return True\n",
    "\n",
    "        for jump in range(1, nums[i]+1):\n",
    "            if can_reach(i+jump):\n",
    "                return True\n",
    "\n",
    "        return False\n",
    "\n",
    "    return can_reach(0)\n",
    "\n",
    "    "
   ]
  },
  {
   "cell_type": "code",
   "execution_count": null,
   "id": "8a17876e",
   "metadata": {},
   "outputs": [],
   "source": [
    "# Time Complexity - O(n^2)\n",
    "# Space Complexity - O(n)\n",
    "def top_down_dp_memo(nums: list[int]) -> bool:\n",
    "\n",
    "    n = len(nums)\n",
    "    memo = {(n-1): True}\n",
    "\n",
    "    def can_reach(i):\n",
    "        if i in memo:\n",
    "            return memo[i]\n",
    "\n",
    "        for jump in range(1, nums[i]+1):\n",
    "            if can_reach(i+jump):\n",
    "                memo[i] = True\n",
    "                return True\n",
    "\n",
    "        memo[i] = False\n",
    "        return False\n",
    "\n",
    "    return can_reach(0)"
   ]
  },
  {
   "cell_type": "code",
   "execution_count": null,
   "id": "3d8c7a72",
   "metadata": {},
   "outputs": [],
   "source": []
  }
 ],
 "metadata": {
  "kernelspec": {
   "display_name": "Python 3",
   "language": "python",
   "name": "python3"
  },
  "language_info": {
   "codemirror_mode": {
    "name": "ipython",
    "version": 3
   },
   "file_extension": ".py",
   "mimetype": "text/x-python",
   "name": "python",
   "nbconvert_exporter": "python",
   "pygments_lexer": "ipython3",
   "version": "3.11.9"
  }
 },
 "nbformat": 4,
 "nbformat_minor": 5
}
