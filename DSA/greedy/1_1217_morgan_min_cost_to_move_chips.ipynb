{
 "cells": [
  {
   "cell_type": "markdown",
   "id": "27a51256",
   "metadata": {},
   "source": [
    "#### 1217. Minimum Cost to Move Chips to The Same Position\n",
    "\n",
    "* 1217. Minimum Cost to Move Chips to The Same Position"
   ]
  },
  {
   "cell_type": "code",
   "execution_count": null,
   "id": "f9a49b9b",
   "metadata": {},
   "outputs": [],
   "source": [
    "def minCostToMoveChips(position: list[int]) -> int:\n",
    "    odd = sum(1 for val in position if val%2)\n",
    "    even = len(position) - odd\n",
    "    return min(even, odd)"
   ]
  },
  {
   "cell_type": "code",
   "execution_count": 2,
   "id": "244733ac",
   "metadata": {},
   "outputs": [
    {
     "data": {
      "text/plain": [
       "1"
      ]
     },
     "execution_count": 2,
     "metadata": {},
     "output_type": "execute_result"
    }
   ],
   "source": [
    "9%2"
   ]
  },
  {
   "cell_type": "code",
   "execution_count": null,
   "id": "d832797c",
   "metadata": {},
   "outputs": [],
   "source": []
  }
 ],
 "metadata": {
  "kernelspec": {
   "display_name": "Python 3",
   "language": "python",
   "name": "python3"
  },
  "language_info": {
   "codemirror_mode": {
    "name": "ipython",
    "version": 3
   },
   "file_extension": ".py",
   "mimetype": "text/x-python",
   "name": "python",
   "nbconvert_exporter": "python",
   "pygments_lexer": "ipython3",
   "version": "3.11.9"
  }
 },
 "nbformat": 4,
 "nbformat_minor": 5
}
