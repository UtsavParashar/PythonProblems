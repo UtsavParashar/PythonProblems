{
 "cells": [
  {
   "cell_type": "markdown",
   "id": "63b056d6",
   "metadata": {},
   "source": [
    "#### 921. Minimum Add to Make Parentheses Valid\n",
    "\n",
    "* https://leetcode.com/problems/minimum-add-to-make-parentheses-valid/description/"
   ]
  },
  {
   "cell_type": "code",
   "execution_count": 28,
   "id": "0f84c5da",
   "metadata": {},
   "outputs": [],
   "source": [
    "# Credit - https://www.youtube.com/watch?v=UizI7R6ND9Q\n",
    "\n",
    "def min_add_to_make_valid(s):\n",
    "    open, res = 0, 0\n",
    "    for c in s:\n",
    "        if c == '(':\n",
    "            open += 1\n",
    "        elif open > 0:\n",
    "            open -= 1\n",
    "        else: # This is the condition when open == 0 then we incrememt the count by 1, something like ). \n",
    "              # To cove edge cases like - \"()))((\"\n",
    "            res += 1\n",
    "    return res + open"
   ]
  },
  {
   "cell_type": "code",
   "execution_count": 29,
   "id": "79f589dc",
   "metadata": {},
   "outputs": [
    {
     "data": {
      "text/plain": [
       "4"
      ]
     },
     "execution_count": 29,
     "metadata": {},
     "output_type": "execute_result"
    }
   ],
   "source": [
    "min_add_to_make_valid(s = \"()))((\")"
   ]
  },
  {
   "cell_type": "code",
   "execution_count": null,
   "id": "54fe963a",
   "metadata": {},
   "outputs": [
    {
     "data": {
      "text/plain": [
       "3"
      ]
     },
     "execution_count": 20,
     "metadata": {},
     "output_type": "execute_result"
    }
   ],
   "source": [
    "min_add_to_make_valid(s = \"(((\")"
   ]
  },
  {
   "cell_type": "code",
   "execution_count": null,
   "id": "5cd4f5a9",
   "metadata": {},
   "outputs": [],
   "source": [
    "def min_add_to_make_valid(s):\n",
    "    open, res = 0, 0\n",
    "    for c in s:\n",
    "        if c == '(':\n",
    "            open += 1\n",
    "        else:\n",
    "            if open == 0: # There isn't an open bracket but a closed one\n",
    "                res += 1\n",
    "            open = max(open-1, 0) # What is open count is already 0 and we found a closing brace then to not let open be negative we use this condition\n",
    "    return res + open"
   ]
  }
 ],
 "metadata": {
  "kernelspec": {
   "display_name": "Python 3",
   "language": "python",
   "name": "python3"
  },
  "language_info": {
   "codemirror_mode": {
    "name": "ipython",
    "version": 3
   },
   "file_extension": ".py",
   "mimetype": "text/x-python",
   "name": "python",
   "nbconvert_exporter": "python",
   "pygments_lexer": "ipython3",
   "version": "3.11.9"
  }
 },
 "nbformat": 4,
 "nbformat_minor": 5
}
