{
 "cells": [
  {
   "cell_type": "markdown",
   "id": "e406370a",
   "metadata": {},
   "source": [
    "### 857. Min Cost to Hire K Workers\n",
    "\n",
    "* https://leetcode.com/problems/minimum-cost-to-hire-k-workers/description/"
   ]
  },
  {
   "cell_type": "code",
   "execution_count": null,
   "id": "6f9458e9",
   "metadata": {},
   "outputs": [
    {
     "name": "stdout",
     "output_type": "stream",
     "text": [
      "inf\n",
      "150.0\n",
      "105.0\n"
     ]
    },
    {
     "data": {
      "text/plain": [
       "105.0"
      ]
     },
     "execution_count": 4,
     "metadata": {},
     "output_type": "execute_result"
    }
   ],
   "source": [
    "# https://www.youtube.com/watch?v=f879mUH6vJk\n",
    "\n",
    "import heapq\n",
    "\n",
    "def min_cost_to_hire_k_workers(quality, wage, k):\n",
    "    workers = sorted([(w/q, q)for q,w in zip(quality, wage)])\n",
    "    min_cost = float('inf')\n",
    "    total_qty = 0\n",
    "    max_heap = []\n",
    "\n",
    "    for ratio, q in workers:\n",
    "        total_qty += q\n",
    "        heapq.heappush(max_heap, -q)\n",
    "\n",
    "        if len(max_heap) > k:\n",
    "            total_qty += heapq.heappop(max_heap)\n",
    "\n",
    "        if len(max_heap) == k:\n",
    "            min_cost = min(min_cost, total_qty*ratio)\n",
    "\n",
    "    return min_cost\n",
    "    \n",
    "min_cost_to_hire_k_workers(quality = [10,20,5], wage = [70,50,30], k = 2)"
   ]
  },
  {
   "cell_type": "code",
   "execution_count": null,
   "id": "c944a832",
   "metadata": {},
   "outputs": [],
   "source": []
  }
 ],
 "metadata": {
  "kernelspec": {
   "display_name": "Python 3",
   "language": "python",
   "name": "python3"
  },
  "language_info": {
   "codemirror_mode": {
    "name": "ipython",
    "version": 3
   },
   "file_extension": ".py",
   "mimetype": "text/x-python",
   "name": "python",
   "nbconvert_exporter": "python",
   "pygments_lexer": "ipython3",
   "version": "3.11.9"
  }
 },
 "nbformat": 4,
 "nbformat_minor": 5
}
