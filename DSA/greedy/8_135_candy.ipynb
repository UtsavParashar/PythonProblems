{
 "cells": [
  {
   "cell_type": "markdown",
   "id": "685a5ceb",
   "metadata": {},
   "source": [
    "#### 135. Candy\n",
    "\n",
    "* https://leetcode.com/problems/candy/description/"
   ]
  },
  {
   "cell_type": "code",
   "execution_count": 4,
   "id": "c8020a83",
   "metadata": {},
   "outputs": [
    {
     "data": {
      "text/plain": [
       "0"
      ]
     },
     "execution_count": 4,
     "metadata": {},
     "output_type": "execute_result"
    }
   ],
   "source": [
    "#https://www.youtube.com/watch?v=1IzCRCcK17A\n",
    "\n",
    "def candy(ratings):\n",
    "    res = [1]*len(ratings)\n",
    "    for i in range(1, len(ratings)):\n",
    "        if ratings[i] > ratings[i-1]:\n",
    "            res[i] = res[i-1]+1\n",
    "\n",
    "    for i in range(len(ratings)-2,-1,-1):\n",
    "        if ratings[i] > ratings[i+1]:\n",
    "            res[i] = max(res[i], 1+res[i+1])\n",
    "\n",
    "    return sum(res)\n",
    "\n",
    "candy(ratings = [])"
   ]
  },
  {
   "cell_type": "code",
   "execution_count": null,
   "id": "6c9ac235",
   "metadata": {},
   "outputs": [],
   "source": []
  }
 ],
 "metadata": {
  "kernelspec": {
   "display_name": "Python 3",
   "language": "python",
   "name": "python3"
  },
  "language_info": {
   "codemirror_mode": {
    "name": "ipython",
    "version": 3
   },
   "file_extension": ".py",
   "mimetype": "text/x-python",
   "name": "python",
   "nbconvert_exporter": "python",
   "pygments_lexer": "ipython3",
   "version": "3.11.9"
  }
 },
 "nbformat": 4,
 "nbformat_minor": 5
}
