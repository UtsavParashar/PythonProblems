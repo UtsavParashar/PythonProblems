{
 "cells": [
  {
   "cell_type": "markdown",
   "id": "a777a535",
   "metadata": {},
   "source": [
    "#### 621. Task Schedular\n",
    "\n",
    "* https://leetcode.com/problems/task-scheduler/description/"
   ]
  },
  {
   "cell_type": "code",
   "execution_count": 2,
   "id": "574fe766",
   "metadata": {},
   "outputs": [],
   "source": [
    "# https://www.youtube.com/watch?v=s8p8ukTyA2I\n",
    "\n",
    "from collections import Counter, deque\n",
    "import heapq\n",
    "\n",
    "def least_interval(tasks, n):\n",
    "    count = Counter(tasks)\n",
    "    t = 0\n",
    "    max_heap = [-val for val in count.values()]\n",
    "    heapq.heapify(max_heap)\n",
    "\n",
    "    q = deque()\n",
    "\n",
    "    while max_heap or q:\n",
    "        t += 1\n",
    "        if max_heap:\n",
    "            val = 1+heapq.heappop(max_heap)\n",
    "            if val:\n",
    "                q.append([val, t+n])\n",
    "        \n",
    "        if q and q[0][1] == t:\n",
    "            heapq.heappush(max_heap, q.popleft()[0])\n",
    "\n",
    "    return t"
   ]
  },
  {
   "cell_type": "code",
   "execution_count": null,
   "id": "2b12ed5d",
   "metadata": {},
   "outputs": [],
   "source": []
  }
 ],
 "metadata": {
  "kernelspec": {
   "display_name": "Python 3",
   "language": "python",
   "name": "python3"
  },
  "language_info": {
   "codemirror_mode": {
    "name": "ipython",
    "version": 3
   },
   "file_extension": ".py",
   "mimetype": "text/x-python",
   "name": "python",
   "nbconvert_exporter": "python",
   "pygments_lexer": "ipython3",
   "version": "3.11.9"
  }
 },
 "nbformat": 4,
 "nbformat_minor": 5
}
