{
 "cells": [
  {
   "cell_type": "markdown",
   "id": "6fe7d19f",
   "metadata": {},
   "source": [
    "#### 871 - Min Number of Refuling Stops\n",
    "\n",
    "* https://leetcode.com/problems/minimum-number-of-refueling-stops/description/"
   ]
  },
  {
   "cell_type": "code",
   "execution_count": null,
   "id": "f4037802",
   "metadata": {},
   "outputs": [],
   "source": [
    "## Credit - https://www.youtube.com/watch?v=SyhKIxIf-kM\n",
    "\n",
    "import heapq\n",
    "\n",
    "def bf_min_refuel_stops(target, startFuel, stations):\n",
    "    max_heap = []\n",
    "    fuel = startFuel\n",
    "    prev = 0 # to keep previous pointer distance\n",
    "    output = 0\n",
    "\n",
    "    for distance, gas in stations + [[target, 0]]:\n",
    "        fuel -= distance - prev\n",
    "        while fuel < 0 and max_heap: # if fuel is below 0 and max heap has fuel then get the max fuel pump\n",
    "            fuel += -heapq.heappop(max_heap)   # negative because of max heap\n",
    "            output += 1 \n",
    "        if fuel < 0: # fuel is over and not gas left\n",
    "            return -1\n",
    "        heapq.heappush(max_heap, -gas) # negative because of max heap\n",
    "        prev = distance\n",
    "\n",
    "    return output\n",
    "\n",
    "    "
   ]
  },
  {
   "cell_type": "code",
   "execution_count": 6,
   "id": "e7b92899",
   "metadata": {},
   "outputs": [
    {
     "data": {
      "text/plain": [
       "2"
      ]
     },
     "execution_count": 6,
     "metadata": {},
     "output_type": "execute_result"
    }
   ],
   "source": [
    "bf_min_refuel_stops(target = 100, startFuel = 10, stations = [[10,60],[20,30],[30,30],[60,40]])"
   ]
  },
  {
   "cell_type": "code",
   "execution_count": 7,
   "id": "36b2ecea",
   "metadata": {},
   "outputs": [
    {
     "data": {
      "text/plain": [
       "0"
      ]
     },
     "execution_count": 7,
     "metadata": {},
     "output_type": "execute_result"
    }
   ],
   "source": [
    "bf_min_refuel_stops(target = 1, startFuel = 1, stations = [])"
   ]
  },
  {
   "cell_type": "code",
   "execution_count": 8,
   "id": "62dd1403",
   "metadata": {},
   "outputs": [
    {
     "data": {
      "text/plain": [
       "1"
      ]
     },
     "execution_count": 8,
     "metadata": {},
     "output_type": "execute_result"
    }
   ],
   "source": [
    "bf_min_refuel_stops(target = 100, startFuel = 1, stations = [[10,100]])"
   ]
  },
  {
   "cell_type": "code",
   "execution_count": null,
   "id": "a9cce0f5",
   "metadata": {},
   "outputs": [],
   "source": []
  }
 ],
 "metadata": {
  "kernelspec": {
   "display_name": "Python 3",
   "language": "python",
   "name": "python3"
  },
  "language_info": {
   "codemirror_mode": {
    "name": "ipython",
    "version": 3
   },
   "file_extension": ".py",
   "mimetype": "text/x-python",
   "name": "python",
   "nbconvert_exporter": "python",
   "pygments_lexer": "ipython3",
   "version": "3.11.9"
  }
 },
 "nbformat": 4,
 "nbformat_minor": 5
}
