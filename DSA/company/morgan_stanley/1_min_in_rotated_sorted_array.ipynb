{
 "cells": [
  {
   "cell_type": "markdown",
   "metadata": {},
   "source": [
    "#### 153. Find Minimum in Rotated Sorted Array - https://leetcode.com/problems/find-minimum-in-rotated-sorted-array/description/\n",
    "\n",
    "* Suppose an array of length n sorted in ascending order is rotated between 1 and n times. For example, the array nums = [0,1,2,4,5,6,7] might become:\n",
    "\n",
    "- [4,5,6,7,0,1,2] if it was rotated 4 times.\n",
    "- [0,1,2,4,5,6,7] if it was rotated 7 times.\n",
    "- Notice that rotating an array [a[0], a[1], a[2], ..., a[n-1]] 1 time results in the array [a[n-1], a[0], a[1], a[2], ..., a[n-2]].\n",
    "\n",
    "- Given the sorted rotated array nums of unique elements, return the minimum element of this array.\n",
    "\n",
    "- You must write an algorithm that runs in O(log n) time.\n",
    "\n",
    "- Example 1:\n",
    "- Input: nums = [3,4,5,1,2]\n",
    "- Output: 1\n",
    "- Explanation: The original array was [1,2,3,4,5] rotated 3 times.\n",
    "\n",
    "- Example 2:\n",
    "- Input: nums = [4,5,6,7,0,1,2]\n",
    "- Output: 0\n",
    "- Explanation: The original array was [0,1,2,4,5,6,7] and it was rotated 4 times.\n",
    "\n",
    "- Example 3:\n",
    "- Input: nums = [11,13,15,17]\n",
    "- Output: 11\n",
    "- Explanation: The original array was [11,13,15,17] and it was rotated 4 times. \n"
   ]
  },
  {
   "cell_type": "code",
   "execution_count": null,
   "metadata": {},
   "outputs": [],
   "source": [
    "from typing import List\n",
    "def linear_find_min(nums: List[int]) -> int:\n",
    "    for idx in range(1, len(nums)):\n",
    "        if nums[idx] - nums[idx-1] < 1:\n",
    "            return nums[idx]\n",
    "    return nums[0]\n",
    "\n"
   ]
  },
  {
   "cell_type": "code",
   "execution_count": 6,
   "metadata": {},
   "outputs": [
    {
     "name": "stdout",
     "output_type": "stream",
     "text": [
      "261 ns ± 8.04 ns per loop (mean ± std. dev. of 7 runs, 1,000,000 loops each)\n"
     ]
    }
   ],
   "source": [
    "%timeit linear_find_min(nums = [3,4,5,1,2])"
   ]
  },
  {
   "cell_type": "code",
   "execution_count": 8,
   "metadata": {},
   "outputs": [],
   "source": [
    "# Slightly better linear\n",
    "def better_linear_find_min(nums):\n",
    "    min_value = nums[0]\n",
    "    for num in nums[1:]:\n",
    "        if num < min_value:\n",
    "            return num\n",
    "    return min_value"
   ]
  },
  {
   "cell_type": "code",
   "execution_count": 9,
   "metadata": {},
   "outputs": [
    {
     "name": "stdout",
     "output_type": "stream",
     "text": [
      "161 ns ± 7.7 ns per loop (mean ± std. dev. of 7 runs, 1,000,000 loops each)\n"
     ]
    }
   ],
   "source": [
    "%timeit better_linear_find_min(nums = [3,4,5,1,2])"
   ]
  },
  {
   "cell_type": "code",
   "execution_count": 3,
   "metadata": {},
   "outputs": [
    {
     "data": {
      "text/plain": [
       "0"
      ]
     },
     "execution_count": 3,
     "metadata": {},
     "output_type": "execute_result"
    }
   ],
   "source": [
    "linear_find_min(nums = [4,5,6,7,0,1,2])"
   ]
  },
  {
   "cell_type": "code",
   "execution_count": 4,
   "metadata": {},
   "outputs": [
    {
     "data": {
      "text/plain": [
       "11"
      ]
     },
     "execution_count": 4,
     "metadata": {},
     "output_type": "execute_result"
    }
   ],
   "source": [
    "linear_find_min(nums = [11,13,15,17])"
   ]
  },
  {
   "cell_type": "markdown",
   "metadata": {},
   "source": [
    "#### Optimized - Binary Search\n",
    "- Same as normal binary search but here is the value is on the left then mid == high and not high-1"
   ]
  },
  {
   "cell_type": "code",
   "execution_count": 2,
   "metadata": {},
   "outputs": [],
   "source": [
    "def find_min(nums):\n",
    "    left, right = 0, len(nums)-1\n",
    "\n",
    "    while left < right:\n",
    "        mid = (left+right)//2\n",
    "\n",
    "        if nums[mid] > nums[right]:\n",
    "            left = mid + 1\n",
    "        else:\n",
    "            right = mid\n",
    "\n",
    "        print(left, right, mid)\n",
    "    ## left and right will point to the smallest element\n",
    "    return nums[left]"
   ]
  },
  {
   "cell_type": "code",
   "execution_count": 3,
   "metadata": {},
   "outputs": [
    {
     "name": "stdout",
     "output_type": "stream",
     "text": [
      "0 1 1\n",
      "1 1 0\n"
     ]
    },
    {
     "data": {
      "text/plain": [
       "1"
      ]
     },
     "execution_count": 3,
     "metadata": {},
     "output_type": "execute_result"
    }
   ],
   "source": [
    "find_min([4,1,2,3])"
   ]
  },
  {
   "cell_type": "markdown",
   "metadata": {},
   "source": [
    "#### Optmized Sol below\n",
    "- Explanation of the Logic:\n",
    "- Binary Search:\n",
    "- The array is rotated, so the smallest element is the \"pivot\" point where the rotation occurs.\n",
    "- The goal is to narrow down the search range (left to right) to find this pivot.\n",
    "\n",
    "* Key Observations:\n",
    "- If nums[mid] > nums[right], the minimum must be in the right half of the array (excluding mid), so - move left to mid + 1.\n",
    "- Otherwise, the minimum is in the left half (including mid), so move right to mid.\n",
    "\n",
    "* Termination:\n",
    "- The loop terminates when left == right, meaning both pointers point to the smallest element."
   ]
  },
  {
   "cell_type": "code",
   "execution_count": null,
   "metadata": {},
   "outputs": [],
   "source": [
    "def find_min(nums):\n",
    "    left, right = 0, len(nums) - 1\n",
    "\n",
    "    while left < right:\n",
    "        mid = (left + right) // 2\n",
    "\n",
    "        # If the middle element is greater than the rightmost element,\n",
    "        # the minimum must be in the right half of the array.\n",
    "        if nums[mid] > nums[right]:\n",
    "            left = mid + 1\n",
    "        else:\n",
    "            # Otherwise, the minimum is in the left half (including mid).\n",
    "            right = mid\n",
    "\n",
    "    # At the end of the loop, left and right will point to the smallest element.\n",
    "    return nums[left]"
   ]
  },
  {
   "cell_type": "markdown",
   "metadata": {},
   "source": [
    "why are we not using left <= right and why are we not using right = mid -1 ?\n",
    "\n",
    "Great question! Let me explain why the code uses left < right and right = mid instead of left <= right and right = mid - 1.\n",
    "\n",
    "1. Why left < right instead of left <= right?\n",
    "The condition left < right ensures that the loop stops when left and right point to the same element.\n",
    "At the end of the loop, left and right will converge to the index of the smallest element, so there's no need to continue the loop when left == right.\n",
    "If we used left <= right, the loop would run one extra iteration, which is unnecessary because the smallest element is already found when left == right.\n",
    "\n",
    "2. Why right = mid instead of right = mid - 1?\n",
    "The key here is that the midpoint itself could be the smallest element. For example:\n",
    "If nums[mid] <= nums[right], the smallest element could be at mid or in the left half of the array (including mid).\n",
    "By setting right = mid, we include mid in the next search range.\n",
    "If we used right = mid - 1, we would exclude mid from the search range, which could cause us to miss the smallest element.\n",
    "\n",
    "Why This Works:\n",
    "The logic relies on the fact that the rotated sorted array has two distinct parts:\n",
    "\n",
    "A sorted left part.\n",
    "A sorted right part.\n",
    "By comparing nums[mid] with nums[right], we determine which part contains the smallest element:\n",
    "\n",
    "If nums[mid] > nums[right], the smallest element must be in the right half (excluding mid), so we set left = mid + 1.\n",
    "Otherwise, the smallest element is in the left half (including mid), so we set right = mid"
   ]
  },
  {
   "cell_type": "markdown",
   "metadata": {},
   "source": []
  }
 ],
 "metadata": {
  "kernelspec": {
   "display_name": "Python 3",
   "language": "python",
   "name": "python3"
  },
  "language_info": {
   "codemirror_mode": {
    "name": "ipython",
    "version": 3
   },
   "file_extension": ".py",
   "mimetype": "text/x-python",
   "name": "python",
   "nbconvert_exporter": "python",
   "pygments_lexer": "ipython3",
   "version": "3.11.9"
  }
 },
 "nbformat": 4,
 "nbformat_minor": 2
}
