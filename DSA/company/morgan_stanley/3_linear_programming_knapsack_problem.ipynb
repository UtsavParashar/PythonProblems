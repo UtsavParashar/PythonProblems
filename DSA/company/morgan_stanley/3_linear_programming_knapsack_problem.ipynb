{
 "cells": [
  {
   "cell_type": "markdown",
   "metadata": {},
   "source": [
    "#### Knapsack problem\n",
    "* Given weights of products and their prices we want to take away the items of max price in our bag which could hold 17 kgs weight\n",
    "\n",
    "- The problem could be solved using interger linear programming using pulp package\n",
    "\n",
    "* Generic conditions - Imp\n",
    "* variales 1>= b >= 0\n",
    "* subject to = weights*b <= carry_weight\n",
    "* Objective function - max prices.b"
   ]
  },
  {
   "cell_type": "code",
   "execution_count": 4,
   "metadata": {},
   "outputs": [
    {
     "ename": "ImportError",
     "evalue": "cannot import name 'PULP_CBC_CMS' from 'pulp' (C:\\Users\\Utsav\\AppData\\Local\\Packages\\PythonSoftwareFoundation.Python.3.11_qbz5n2kfra8p0\\LocalCache\\local-packages\\Python311\\site-packages\\pulp\\__init__.py)",
     "output_type": "error",
     "traceback": [
      "\u001b[1;31m---------------------------------------------------------------------------\u001b[0m",
      "\u001b[1;31mImportError\u001b[0m                               Traceback (most recent call last)",
      "Cell \u001b[1;32mIn[4], line 2\u001b[0m\n\u001b[0;32m      1\u001b[0m \u001b[38;5;28;01mfrom\u001b[39;00m\u001b[38;5;250m \u001b[39m\u001b[38;5;21;01mpulp\u001b[39;00m\u001b[38;5;250m \u001b[39m\u001b[38;5;28;01mimport\u001b[39;00m \u001b[38;5;241m*\u001b[39m\n\u001b[1;32m----> 2\u001b[0m \u001b[38;5;28;01mfrom\u001b[39;00m\u001b[38;5;250m \u001b[39m\u001b[38;5;21;01mpulp\u001b[39;00m\u001b[38;5;250m \u001b[39m\u001b[38;5;28;01mimport\u001b[39;00m PULP_CBC_CMS\n\u001b[0;32m      3\u001b[0m \u001b[38;5;66;03m# data \u001b[39;00m\n\u001b[0;32m      4\u001b[0m n \u001b[38;5;241m=\u001b[39m \u001b[38;5;241m8\u001b[39m \n",
      "\u001b[1;31mImportError\u001b[0m: cannot import name 'PULP_CBC_CMS' from 'pulp' (C:\\Users\\Utsav\\AppData\\Local\\Packages\\PythonSoftwareFoundation.Python.3.11_qbz5n2kfra8p0\\LocalCache\\local-packages\\Python311\\site-packages\\pulp\\__init__.py)"
     ]
    }
   ],
   "source": [
    "from pulp import *\n",
    "from pulp import PULP_CBC_CMS\n",
    "# data \n",
    "n = 8 \n",
    "weights = [4,2,8,3,7,5,9,6]\n",
    "prices = [19, 17, 30, 13, 25, 29, 23, 10]\n",
    "carry_weight = 17\n",
    "\n",
    "# problem formulation\n",
    "model = LpProblem(sense=LpMaximize)\n",
    "\n",
    "variables = [LpVariable(name=f'x_{i}', cat=LpBinary) for i in range(n)]\n",
    "\n",
    "model += lpDot(weights, variables) <= carry_weight\n",
    "model += lpDot(prices, variables)\n",
    "\n",
    "status = model.solve(PULP_CBC_CMS(msg=False))\n",
    "print('price: ', model.objective.value)\n",
    "print('take: ', *[variables[i].value() for i in range(n)])"
   ]
  },
  {
   "cell_type": "code",
   "execution_count": null,
   "metadata": {},
   "outputs": [],
   "source": []
  }
 ],
 "metadata": {
  "kernelspec": {
   "display_name": "Python 3",
   "language": "python",
   "name": "python3"
  },
  "language_info": {
   "codemirror_mode": {
    "name": "ipython",
    "version": 3
   },
   "file_extension": ".py",
   "mimetype": "text/x-python",
   "name": "python",
   "nbconvert_exporter": "python",
   "pygments_lexer": "ipython3",
   "version": "3.11.9"
  }
 },
 "nbformat": 4,
 "nbformat_minor": 2
}
