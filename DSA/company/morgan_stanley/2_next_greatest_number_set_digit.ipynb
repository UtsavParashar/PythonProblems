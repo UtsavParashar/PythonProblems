{
 "cells": [
  {
   "cell_type": "markdown",
   "metadata": {},
   "source": [
    "#### Next greater number set digits - https://www.geeksforgeeks.org/problems/next-greater-number-set-digits3503/1\n",
    "\n",
    "* Given a number n, find the smallest number that has the same set of digits as n and is greater than n. If n is the greatest possible number with its set of digits, report it.\n",
    "\n",
    "- Example 1:\n",
    "- Input:\n",
    "- N = 143\n",
    "- Output: 314\n",
    "- Explanation: Numbers possible with digits\n",
    "- 1, 3 and 4 are: 134, 143, 314, 341, 413, 431.\n",
    "- The first greater number after 143 is 314.\n",
    "\n",
    "- Example 2:\n",
    "- Input:\n",
    "- N = 431\n",
    "- Output: not possible\n",
    "- Explanation: Numbers possible with digits\n",
    "- 1, 3 and 4 are: 134, 143, 314, 341, 413, 431.\n",
    "- Clearly, there's no number greater than 431.\n",
    "\n",
    "- Your Task:\n",
    "- You don't need to read input or print anything. Your task is to complete the function findNext () which takes an integer N as input and returns the smallest number greater than N with the same set of digits as N. If such a number is not possible, return -1.\n",
    "\n",
    "- Expected Time Complexity: O(LogN).\n",
    "- Expected Auxiliary Space: O(LogN).\n",
    "\n"
   ]
  },
  {
   "cell_type": "code",
   "execution_count": 25,
   "metadata": {},
   "outputs": [],
   "source": [
    "### Ultra brute force method to revise few concepts like backtracking and arrays\n",
    "### Steps - \n",
    "### 1. Find all permutations of the number \n",
    "### 2. sort all permutations\n",
    "### 3. Number next to the given number is the next greater\n",
    "### 4. Corner case - if the given number is last in the sorted list then it is the greatest\n",
    "\n",
    "from array import array\n",
    "\n",
    "def next_greater_bruteforce(n: int) -> int:\n",
    "\n",
    "    def get_permutations(n):\n",
    "        num = [i for i in str(n)]\n",
    "        res, sol = array('i'), []\n",
    "\n",
    "        def backtrack():\n",
    "            if len(num) == len(sol):\n",
    "                res.append(int(''.join(sol)))\n",
    "                return\n",
    "            \n",
    "            for val in num:\n",
    "                if val not in sol:\n",
    "                    sol.append(val)\n",
    "                    backtrack()\n",
    "                    sol.pop()\n",
    "        \n",
    "        backtrack()\n",
    "        return res\n",
    "\n",
    "    sorted_list =  sorted(get_permutations(n))\n",
    "    for idx, val in enumerate(sorted_list):\n",
    "        if idx == len(sorted_list)-1:\n",
    "            return 'not possible'\n",
    "        \n",
    "        if val == n:\n",
    "            return sorted_list[idx+1]\n",
    "\n"
   ]
  },
  {
   "cell_type": "code",
   "execution_count": 26,
   "metadata": {},
   "outputs": [
    {
     "data": {
      "text/plain": [
       "'not possible'"
      ]
     },
     "execution_count": 26,
     "metadata": {},
     "output_type": "execute_result"
    }
   ],
   "source": [
    "next_greater_bruteforce(431)"
   ]
  },
  {
   "cell_type": "code",
   "execution_count": null,
   "metadata": {},
   "outputs": [],
   "source": []
  }
 ],
 "metadata": {
  "kernelspec": {
   "display_name": "Python 3",
   "language": "python",
   "name": "python3"
  },
  "language_info": {
   "codemirror_mode": {
    "name": "ipython",
    "version": 3
   },
   "file_extension": ".py",
   "mimetype": "text/x-python",
   "name": "python",
   "nbconvert_exporter": "python",
   "pygments_lexer": "ipython3",
   "version": "3.11.9"
  }
 },
 "nbformat": 4,
 "nbformat_minor": 2
}
