{
 "cells": [
  {
   "cell_type": "markdown",
   "id": "0e5fac9d",
   "metadata": {},
   "source": [
    "#### 2068. Check whether two strings are almost equivalent\n",
    "\n",
    "* https://leetcode.com/problems/check-whether-two-strings-are-almost-equivalent/description/"
   ]
  },
  {
   "cell_type": "code",
   "execution_count": null,
   "id": "48c45fa4",
   "metadata": {},
   "outputs": [
    {
     "data": {
      "text/plain": [
       "True"
      ]
     },
     "execution_count": 4,
     "metadata": {},
     "output_type": "execute_result"
    }
   ],
   "source": [
    "from collections import Counter\n",
    "def checkAlmostEquivalent(word1, word2):\n",
    "    word1_dict = Counter(word1)\n",
    "    word2_dict = Counter(word2)\n",
    "\n",
    "    # Check all unique characters in both words\n",
    "    all_keys = set(word1_dict.keys()).union(set(word2_dict.keys()))\n",
    "    for k in all_keys:\n",
    "        c_w1 = word1_dict.get(k, 0)\n",
    "        c_w2 = word2_dict.get(k, 0)\n",
    "        if abs(c_w1 - c_w2) > 3:\n",
    "            return False\n",
    "\n",
    "    return True\n",
    "\n",
    "checkAlmostEquivalent(\n",
    "    word1=\"bddhdfcdihfehbehfeiccehhchbibiggifcbgieedgfhggebcbeeddfdfiehcigdfcccdhgchbbfheddbdbiifeeiieg\",\n",
    "    word2=\"cdecdhhfgdieiifhhifffcgddeehgbciceggedbdggbigiieidgcceccgfhiecdefdhighbfdcdbgcfddeebbgibcihe\"\n",
    ") # expected False"
   ]
  },
  {
   "cell_type": "code",
   "execution_count": 6,
   "id": "8a7bb7c2",
   "metadata": {},
   "outputs": [
    {
     "data": {
      "text/plain": [
       "{'a', 'b', 'c'}"
      ]
     },
     "execution_count": 6,
     "metadata": {},
     "output_type": "execute_result"
    }
   ],
   "source": [
    "set(('a','b')).union(set(['b', 'c']))"
   ]
  },
  {
   "cell_type": "code",
   "execution_count": null,
   "id": "acdb1921",
   "metadata": {},
   "outputs": [],
   "source": []
  }
 ],
 "metadata": {
  "kernelspec": {
   "display_name": "Python 3",
   "language": "python",
   "name": "python3"
  },
  "language_info": {
   "codemirror_mode": {
    "name": "ipython",
    "version": 3
   },
   "file_extension": ".py",
   "mimetype": "text/x-python",
   "name": "python",
   "nbconvert_exporter": "python",
   "pygments_lexer": "ipython3",
   "version": "3.11.9"
  }
 },
 "nbformat": 4,
 "nbformat_minor": 5
}
