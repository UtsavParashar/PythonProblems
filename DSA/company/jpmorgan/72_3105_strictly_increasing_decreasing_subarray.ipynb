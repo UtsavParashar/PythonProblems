{
 "cells": [
  {
   "cell_type": "markdown",
   "id": "06472873",
   "metadata": {},
   "source": [
    "#### 3105. Longest Strictly Increasing or Strictly Descreasing Subarray - Premium\n"
   ]
  },
  {
   "cell_type": "code",
   "execution_count": null,
   "id": "ae546061",
   "metadata": {},
   "outputs": [
    {
     "data": {
      "text/plain": [
       "3"
      ]
     },
     "execution_count": 7,
     "metadata": {},
     "output_type": "execute_result"
    }
   ],
   "source": [
    "def longest_monotonic_subarray(nums):\n",
    "    increasing, decreasing, res = 1, 1, 0\n",
    "\n",
    "    for i in range(1, len(nums)):\n",
    "        if nums[i] > nums[i-1]:\n",
    "            increasing += 1\n",
    "            decreasing = 1\n",
    "        elif nums[i] < nums[i-1]:\n",
    "            decreasing += 1\n",
    "            increasing = 1\n",
    "        else:\n",
    "            increasing = 1\n",
    "            decreasing = 1\n",
    "        res = max(res, increasing, decreasing)\n",
    "    \n",
    "    return res\n",
    "\n",
    "longest_monotonic_subarray([1,4,3,3,2,1])\n",
    "        \n",
    "\n"
   ]
  },
  {
   "cell_type": "code",
   "execution_count": null,
   "id": "e9caea89",
   "metadata": {},
   "outputs": [],
   "source": []
  }
 ],
 "metadata": {
  "kernelspec": {
   "display_name": "Python 3",
   "language": "python",
   "name": "python3"
  },
  "language_info": {
   "codemirror_mode": {
    "name": "ipython",
    "version": 3
   },
   "file_extension": ".py",
   "mimetype": "text/x-python",
   "name": "python",
   "nbconvert_exporter": "python",
   "pygments_lexer": "ipython3",
   "version": "3.11.9"
  }
 },
 "nbformat": 4,
 "nbformat_minor": 5
}
