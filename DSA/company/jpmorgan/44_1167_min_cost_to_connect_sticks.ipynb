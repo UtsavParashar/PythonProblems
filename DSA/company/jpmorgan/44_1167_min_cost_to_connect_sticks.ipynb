{
 "cells": [
  {
   "cell_type": "markdown",
   "id": "cbf28590",
   "metadata": {},
   "source": [
    "#### 1167. Min Cost to Connect Sticks\n",
    "\n",
    "* https://www.youtube.com/watch?v=wxBp_rFU7SY"
   ]
  },
  {
   "cell_type": "code",
   "execution_count": null,
   "id": "128b4ba3",
   "metadata": {},
   "outputs": [
    {
     "data": {
      "text/plain": [
       "14"
      ]
     },
     "execution_count": 1,
     "metadata": {},
     "output_type": "execute_result"
    }
   ],
   "source": [
    "# Credit - https://www.youtube.com/watch?v=wxBp_rFU7SY\n",
    "\n",
    "import heapq\n",
    "\n",
    "def connect_sticks(sticks):\n",
    "    if len(sticks) <= 1: return 0\n",
    "\n",
    "    heapq.heapify(sticks)\n",
    "    cost = 0\n",
    "    while len(sticks) > 1:\n",
    "        cost += heapq.heappop(sticks) + heapq.heappop(sticks)\n",
    "        heapq.heappush(sticks, cost)\n",
    "\n",
    "    return cost\n",
    "\n",
    "connect_sticks([2,4,3])"
   ]
  },
  {
   "cell_type": "code",
   "execution_count": null,
   "id": "47b71c7e",
   "metadata": {},
   "outputs": [],
   "source": []
  }
 ],
 "metadata": {
  "kernelspec": {
   "display_name": "Python 3",
   "language": "python",
   "name": "python3"
  },
  "language_info": {
   "codemirror_mode": {
    "name": "ipython",
    "version": 3
   },
   "file_extension": ".py",
   "mimetype": "text/x-python",
   "name": "python",
   "nbconvert_exporter": "python",
   "pygments_lexer": "ipython3",
   "version": "3.11.9"
  }
 },
 "nbformat": 4,
 "nbformat_minor": 5
}
