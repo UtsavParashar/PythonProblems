{
 "cells": [
  {
   "cell_type": "markdown",
   "id": "0bc51e69",
   "metadata": {},
   "source": [
    "#### 1541. Min Insertions to Balance a Parentheses String\n",
    "\n",
    "* https://leetcode.com/problems/minimum-insertions-to-balance-a-parentheses-string/description/"
   ]
  },
  {
   "cell_type": "code",
   "execution_count": 4,
   "id": "adfffb37",
   "metadata": {},
   "outputs": [
    {
     "name": "stdout",
     "output_type": "stream",
     "text": [
      "2\n",
      "1\n",
      "0\n"
     ]
    }
   ],
   "source": [
    "# Optimized and clean\n",
    "\n",
    "def min_insertions(s):\n",
    "    res = right_needed = 0\n",
    "    for c in s:\n",
    "        if c == '(':\n",
    "            if right_needed % 2: #  # odd number -> fix by adding one ')'\n",
    "                res += 1\n",
    "                right_needed -= 1\n",
    "            right_needed += 2 # # Every '(' needs two ')'\n",
    "        else:\n",
    "            right_needed -= 1\n",
    "            if right_needed < 0: # too many ')'\n",
    "                res += 1 # # insert one '('\n",
    "                right_needed = 1 # we still need one more ')'\n",
    "    return res + right_needed\n",
    "\n",
    "print(min_insertions('('))\n",
    "print(min_insertions('()'))\n",
    "print(min_insertions('())'))"
   ]
  },
  {
   "cell_type": "code",
   "execution_count": null,
   "id": "07cbdcca",
   "metadata": {},
   "outputs": [
    {
     "data": {
      "text/plain": [
       "0"
      ]
     },
     "execution_count": 3,
     "metadata": {},
     "output_type": "execute_result"
    }
   ],
   "source": [
    "def min_insertions(s):\n",
    "    res, right_needed = 0, 0\n",
    "\n",
    "    i = 0\n",
    "    while i < len(s):\n",
    "        if s[i] == '(':\n",
    "            if right_needed % 2: # odd number -> fix by adding one ')'\n",
    "                res += 1\n",
    "                right_needed -= 1\n",
    "            right_needed += 2  \n",
    "        else:\n",
    "            right_needed -= 1\n",
    "            if right_needed < 0: # too many ')'\n",
    "                res += 1 # insert one '('\n",
    "                right_needed = 1 # we still need one more ')'\n",
    " \n",
    "        i += 1\n",
    "\n",
    "    return res + right_needed\n",
    "\n",
    "min_insertions('(')\n",
    "min_insertions('()')\n",
    "min_insertions('())')"
   ]
  },
  {
   "cell_type": "code",
   "execution_count": null,
   "id": "b8911e92",
   "metadata": {},
   "outputs": [],
   "source": [
    "\n"
   ]
  },
  {
   "cell_type": "markdown",
   "id": "8dfad41f",
   "metadata": {},
   "source": [
    "### Logic\n",
    "\n",
    "Certainly! Let's walk through the logic step-by-step for Leetcode 1541: Minimum Insertions to Balance a Parentheses String, where:\n",
    "\n",
    "Each '(' must be followed by exactly two ')'.\n",
    "\n",
    "🎯 Goal\n",
    "Make the string valid using as few insertions as possible such that:\n",
    "\n",
    "Each '(' is matched with exactly two ')'.\n",
    "\n",
    "You can insert '(' or ')' anywhere.\n",
    "\n",
    "✅ Key Observations\n",
    "One '(' needs two ')'.\n",
    "\n",
    "')' must be grouped properly — i.e., we need to track if they're coming in pairs.\n",
    "\n",
    "If a lone ')' appears, we may need to insert one more ')' or even a '(' if no open one is waiting.\n",
    "\n",
    "🧠 Variables Used\n",
    "res: Total insertions needed.\n",
    "\n",
    "right_needed: Number of ')' we are expecting (i.e., the number of ')' we still need to see to match all open '(').\n",
    "\n",
    "🔄 Step-by-step Logic\n",
    "When you see '(':\n",
    "\n",
    "It expects 2 ')' to match it → so we increase right_needed += 2.\n",
    "\n",
    "But if right_needed is odd, it means we previously had an unmatched single ')':\n",
    "\n",
    "Fix it by adding 1 ')', increment res += 1, and decrement right_needed -= 1.\n",
    "\n",
    "When you see ')':\n",
    "\n",
    "You fulfill part of the expected closing: right_needed -= 1.\n",
    "\n",
    "If right_needed drops below 0:\n",
    "\n",
    "You had too many ')' and not enough '('.\n",
    "\n",
    "Fix it by inserting a '(', increment res += 1, and assume that new '(' needs 1 more ')' → set right_needed = 1.\n",
    "\n",
    "At the end, if any right_needed > 0, it means you're still missing some ')' → insert those:\n",
    "\n",
    "Return res + right_needed.\n",
    "\n",
    "🧪 Example Walkthrough: \"(()))\"\n",
    "Let's trace the code:\n",
    "\n",
    "Initial: res = 0, right_needed = 0\n",
    "\n",
    "ini\n",
    "Copy\n",
    "Edit\n",
    "i = 0: '(' → right_needed += 2 → right_needed = 2\n",
    "i = 1: '(' → right_needed += 2 → right_needed = 4\n",
    "i = 2: ')' → right_needed -= 1 → right_needed = 3\n",
    "i = 3: ')' → right_needed -= 1 → right_needed = 2\n",
    "i = 4: ')' → right_needed -= 1 → right_needed = 1 (valid so far)\n",
    "After loop ends: right_needed = 1 (we still need 1 ')'), so:\n",
    "\n",
    "res + right_needed = 0 + 1 = 1\n",
    "\n",
    "✅ Answer: 1 insertion needed"
   ]
  },
  {
   "cell_type": "code",
   "execution_count": null,
   "id": "c3805d28",
   "metadata": {},
   "outputs": [],
   "source": []
  }
 ],
 "metadata": {
  "kernelspec": {
   "display_name": "Python 3",
   "language": "python",
   "name": "python3"
  },
  "language_info": {
   "codemirror_mode": {
    "name": "ipython",
    "version": 3
   },
   "file_extension": ".py",
   "mimetype": "text/x-python",
   "name": "python",
   "nbconvert_exporter": "python",
   "pygments_lexer": "ipython3",
   "version": "3.11.9"
  }
 },
 "nbformat": 4,
 "nbformat_minor": 5
}
