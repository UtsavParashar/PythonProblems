{
 "cells": [
  {
   "cell_type": "markdown",
   "id": "c95a270c",
   "metadata": {},
   "source": [
    "#### 121. Best Time to Buy and Sell Stock\n",
    "\n",
    "* https://leetcode.com/problems/best-time-to-buy-and-sell-stock/description/"
   ]
  },
  {
   "cell_type": "code",
   "execution_count": 2,
   "id": "cb983864",
   "metadata": {},
   "outputs": [
    {
     "data": {
      "text/plain": [
       "5"
      ]
     },
     "execution_count": 2,
     "metadata": {},
     "output_type": "execute_result"
    }
   ],
   "source": [
    "def max_profit(prices):\n",
    "    profit, min_px = 0, float('inf')\n",
    "\n",
    "    for px in prices:\n",
    "        min_px = min(px, min_px)\n",
    "        profit = max(profit, px-min_px)\n",
    "\n",
    "    return profit\n",
    "\n",
    "max_profit(prices = [7,1,5,3,6,4])\n"
   ]
  },
  {
   "cell_type": "code",
   "execution_count": null,
   "id": "df785c3e",
   "metadata": {},
   "outputs": [],
   "source": [
    "def max_profit(prices):\n",
    "    min_px = float('inf')\n",
    "    max_prof = 0\n",
    "    for px in prices:\n",
    "        min_px = min(min_px, px)\n",
    "        max_prof = max(max_prof, px - min_px)\n",
    "    return max_prof\n",
    "\n",
    "max_profit([7, 1, 5, 3, 6, 4])\n"
   ]
  }
 ],
 "metadata": {
  "kernelspec": {
   "display_name": "Python 3",
   "language": "python",
   "name": "python3"
  },
  "language_info": {
   "codemirror_mode": {
    "name": "ipython",
    "version": 3
   },
   "file_extension": ".py",
   "mimetype": "text/x-python",
   "name": "python",
   "nbconvert_exporter": "python",
   "pygments_lexer": "ipython3",
   "version": "3.11.9"
  }
 },
 "nbformat": 4,
 "nbformat_minor": 5
}
