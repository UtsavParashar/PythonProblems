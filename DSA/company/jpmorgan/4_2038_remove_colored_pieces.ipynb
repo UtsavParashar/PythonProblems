{
 "cells": [
  {
   "cell_type": "markdown",
   "id": "34fa508e",
   "metadata": {},
   "source": [
    "#### 2038. Remove Colored Pieces if Both Neighbors are the Same Color\n",
    "\n",
    "* https://leetcode.com/problems/remove-colored-pieces-if-both-neighbors-are-the-same-color/description/"
   ]
  },
  {
   "cell_type": "code",
   "execution_count": null,
   "id": "a5e1dbf2",
   "metadata": {},
   "outputs": [],
   "source": [
    "# Credit - https://www.youtube.com/watch?v=T54GScWobZ4\n",
    "\n",
    "def winner_of_game(colors):\n",
    "    alice, bob = 0, 0\n",
    "\n",
    "    for i in range(1, len(colors)-1):\n",
    "        if colors[i-1] == colors[i] == colors[i+1]:\n",
    "            if colors[i] == 'A':\n",
    "                alice += 1\n",
    "            else:\n",
    "                bob += 1\n",
    "\n",
    "    return alice > bob # alice could win only if alice has greater count for equal since alice has to go first so they will loose "
   ]
  },
  {
   "cell_type": "code",
   "execution_count": null,
   "id": "2b9aa47c",
   "metadata": {},
   "outputs": [],
   "source": [
    "def winner_of_game(colors):\n",
    "    alice = sum(len(seq) - 2 for seq in colors.split('B') if len(seq) >= 3)\n",
    "    bob = sum(len(seq) - 2 for seq in colors.split('A') if len(seq) >= 3)\n",
    "    return alice > bob\n"
   ]
  }
 ],
 "metadata": {
  "kernelspec": {
   "display_name": "Python 3",
   "language": "python",
   "name": "python3"
  },
  "language_info": {
   "name": "python",
   "version": "3.11.9"
  }
 },
 "nbformat": 4,
 "nbformat_minor": 5
}
