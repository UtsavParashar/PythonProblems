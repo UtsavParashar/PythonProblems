{
 "cells": [
  {
   "cell_type": "markdown",
   "id": "5016d3ef",
   "metadata": {},
   "source": [
    "#### 518. Coin Change 2\n",
    "\n",
    "* https://leetcode.com/problems/coin-change-ii/description/"
   ]
  },
  {
   "cell_type": "code",
   "execution_count": 2,
   "id": "c12e8467",
   "metadata": {},
   "outputs": [],
   "source": [
    "# tabulation - bottom up solution\n",
    "# chat gpt - sol\n",
    "\n",
    "def change(amt, coins):\n",
    "    dp = [0]*(amt+1)\n",
    "    dp[0] = 1 # One way to make amout 0 - use no coins\n",
    "\n",
    "    for coin in coins:\n",
    "        for x in range(coin, amt + 1):\n",
    "            dp[x] += dp[x-coin]\n",
    "\n",
    "    return dp[amt]\n"
   ]
  },
  {
   "cell_type": "code",
   "execution_count": 1,
   "id": "620cdfee",
   "metadata": {},
   "outputs": [],
   "source": [
    "# memoization - top down solution\n",
    "from functools import lru_cache\n",
    "def change(amt, coins):\n",
    "\n",
    "    @lru_cache(None)\n",
    "    def dp(i, rem):\n",
    "        if rem == 0: # positive case\n",
    "            return 1\n",
    "\n",
    "        if rem < 0 or i == len(coins): # negative case\n",
    "            return 0\n",
    "\n",
    "         # Choice: use coin[i] (stay) or skip coin[i] (move forward)\n",
    "        return dp(i, rem-coins[i]) + dp(i+1, rem)\n",
    "\n",
    "    \n",
    "    return dp(0, amt)\n",
    "        "
   ]
  },
  {
   "cell_type": "code",
   "execution_count": null,
   "id": "a564746d",
   "metadata": {},
   "outputs": [],
   "source": []
  }
 ],
 "metadata": {
  "kernelspec": {
   "display_name": "Python 3",
   "language": "python",
   "name": "python3"
  },
  "language_info": {
   "codemirror_mode": {
    "name": "ipython",
    "version": 3
   },
   "file_extension": ".py",
   "mimetype": "text/x-python",
   "name": "python",
   "nbconvert_exporter": "python",
   "pygments_lexer": "ipython3",
   "version": "3.11.9"
  }
 },
 "nbformat": 4,
 "nbformat_minor": 5
}
