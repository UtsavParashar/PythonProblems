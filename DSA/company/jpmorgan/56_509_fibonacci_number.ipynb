{
 "cells": [
  {
   "cell_type": "markdown",
   "id": "98781465",
   "metadata": {},
   "source": [
    "#### 509. Fibonacci Number\n",
    "\n",
    "* https://leetcode.com/problems/fibonacci-number/description/"
   ]
  },
  {
   "cell_type": "code",
   "execution_count": null,
   "id": "aafe12eb",
   "metadata": {},
   "outputs": [
    {
     "data": {
      "text/plain": [
       "5"
      ]
     },
     "execution_count": 6,
     "metadata": {},
     "output_type": "execute_result"
    }
   ],
   "source": [
    "def fib(n):\n",
    "    a, b = 0, 1\n",
    "    for _ in range(n):\n",
    "        a, b = b, a+b\n",
    "    return a\n",
    "\n",
    "fib(5)"
   ]
  },
  {
   "cell_type": "code",
   "execution_count": null,
   "id": "94272013",
   "metadata": {},
   "outputs": [],
   "source": []
  }
 ],
 "metadata": {
  "kernelspec": {
   "display_name": "Python 3",
   "language": "python",
   "name": "python3"
  },
  "language_info": {
   "codemirror_mode": {
    "name": "ipython",
    "version": 3
   },
   "file_extension": ".py",
   "mimetype": "text/x-python",
   "name": "python",
   "nbconvert_exporter": "python",
   "pygments_lexer": "ipython3",
   "version": "3.11.9"
  }
 },
 "nbformat": 4,
 "nbformat_minor": 5
}
