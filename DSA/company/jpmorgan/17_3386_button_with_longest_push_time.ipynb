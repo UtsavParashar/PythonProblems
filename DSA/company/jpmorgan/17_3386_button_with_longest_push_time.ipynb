{
 "cells": [
  {
   "cell_type": "markdown",
   "id": "f9a470f4",
   "metadata": {},
   "source": [
    "#### 3386. Button with Longest Push Time\n",
    "\n",
    "* https://leetcode.com/problems/button-with-longest-push-time/description/"
   ]
  },
  {
   "cell_type": "code",
   "execution_count": 9,
   "id": "de094e2c",
   "metadata": {},
   "outputs": [
    {
     "data": {
      "text/plain": [
       "10"
      ]
     },
     "execution_count": 9,
     "metadata": {},
     "output_type": "execute_result"
    }
   ],
   "source": [
    "def button_with_longest_time(events):\n",
    "    index, time_diff = events[0][0], events[0][1]\n",
    "\n",
    "    for i in range(1, len(events)):\n",
    "        curr_time_diff = events[i][1] - events[i-1][1]\n",
    "        if curr_time_diff > time_diff:\n",
    "            index = events[i][0]\n",
    "            time_diff = curr_time_diff\n",
    "        elif curr_time_diff == time_diff:\n",
    "            index = min(index, events[i][0])\n",
    "\n",
    "    return index\n",
    "\n",
    "button_with_longest_time(events = [[10,5],[1,7]])"
   ]
  },
  {
   "cell_type": "code",
   "execution_count": null,
   "id": "f4315acc",
   "metadata": {},
   "outputs": [],
   "source": []
  }
 ],
 "metadata": {
  "kernelspec": {
   "display_name": "Python 3",
   "language": "python",
   "name": "python3"
  },
  "language_info": {
   "codemirror_mode": {
    "name": "ipython",
    "version": 3
   },
   "file_extension": ".py",
   "mimetype": "text/x-python",
   "name": "python",
   "nbconvert_exporter": "python",
   "pygments_lexer": "ipython3",
   "version": "3.11.9"
  }
 },
 "nbformat": 4,
 "nbformat_minor": 5
}
