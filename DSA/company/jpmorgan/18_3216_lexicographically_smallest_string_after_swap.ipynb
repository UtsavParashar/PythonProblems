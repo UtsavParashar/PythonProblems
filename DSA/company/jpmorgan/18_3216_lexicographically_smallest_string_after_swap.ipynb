{
 "cells": [
  {
   "cell_type": "markdown",
   "id": "b8022a88",
   "metadata": {},
   "source": [
    "#### 3216. Lexicographically Smallest String After a Swap\n",
    "\n",
    "* https://leetcode.com/problems/lexicographically-smallest-string-after-a-swap/description/"
   ]
  },
  {
   "cell_type": "code",
   "execution_count": 11,
   "id": "96577143",
   "metadata": {},
   "outputs": [
    {
     "data": {
      "text/plain": [
       "'02'"
      ]
     },
     "execution_count": 11,
     "metadata": {},
     "output_type": "execute_result"
    }
   ],
   "source": [
    "def get_smallest_str(s):\n",
    "    l = list(s)\n",
    "    for i in range(1,len(l)):\n",
    "        curr_val = int(l[i])\n",
    "        prev_val = int(l[i-1])\n",
    "        if curr_val<prev_val and (curr_val%2 and prev_val%2 or curr_val%2==0 and prev_val%2==0):\n",
    "            l[i-1], l[i] = l[i], l[i-1]\n",
    "            break\n",
    "    \n",
    "    return ''.join(l)\n",
    "\n",
    "get_smallest_str(s = \"20\")"
   ]
  },
  {
   "cell_type": "code",
   "execution_count": 12,
   "id": "80ef9b33",
   "metadata": {},
   "outputs": [],
   "source": [
    "# ref - https://www.youtube.com/watch?v=Y_bVQfAe8vI\n",
    "\n",
    "def get_smallest_str(s):\n",
    "    l = list(s)\n",
    "    for i in range(1, len(l)):\n",
    "        if int(l[i]) < int(l[i-1]) and int(l[i]) % 2 == int(l[i-1]) % 2:\n",
    "            l[i-1], l[i] = l[i], l[i-1]\n",
    "            break\n",
    "    return ''.join(l)\n"
   ]
  },
  {
   "cell_type": "markdown",
   "id": "9b3235c3",
   "metadata": {},
   "source": [
    "#### Why do we check `int(l[i]) % 2 == int(l[i-1]) % 2` instead of explicitly checking for oddness?\n",
    "\n",
    "The condition `int(l[i]) % 2 == int(l[i-1]) % 2` checks if both digits have the same parity (both are odd or both are even).\n",
    "\n",
    "- If both are odd: `odd % 2 == 1`, so both sides are 1.\n",
    "- If both are even: `even % 2 == 0`, so both sides are 0.\n",
    "\n",
    "This is equivalent to checking if both are odd or both are even, but more concise. Explicitly checking for oddness would require two separate conditions (both odd or both even), while this single check covers both cases."
   ]
  }
 ],
 "metadata": {
  "kernelspec": {
   "display_name": "Python 3",
   "language": "python",
   "name": "python3"
  },
  "language_info": {
   "codemirror_mode": {
    "name": "ipython",
    "version": 3
   },
   "file_extension": ".py",
   "mimetype": "text/x-python",
   "name": "python",
   "nbconvert_exporter": "python",
   "pygments_lexer": "ipython3",
   "version": "3.11.9"
  }
 },
 "nbformat": 4,
 "nbformat_minor": 5
}
