{
 "cells": [
  {
   "cell_type": "markdown",
   "id": "09e19d75",
   "metadata": {},
   "source": [
    "#### 53. Maximum Subarray\n",
    "\n",
    "* https://leetcode.com/problems/maximum-subarray/description/"
   ]
  },
  {
   "cell_type": "code",
   "execution_count": null,
   "id": "9d48dfd1",
   "metadata": {},
   "outputs": [],
   "source": [
    "def max_subarray(nums):\n",
    "    curr_sum, max_sum = 0, float('-inf')\n",
    "\n",
    "    for num in nums:\n",
    "        curr_sum += num\n",
    "        max_sum = max(max_sum, curr_sum)\n",
    "        curr_sum = max(curr_sum, 0)\n",
    "\n",
    "    return max_sum"
   ]
  },
  {
   "cell_type": "code",
   "execution_count": null,
   "id": "f80816ff",
   "metadata": {},
   "outputs": [],
   "source": [
    "def max_subarray(nums):\n",
    "    max_sum = curr_sum = nums[0]\n",
    "    for num in nums[1:]:\n",
    "        curr_sum = max(num, curr_sum + num)\n",
    "        max_sum = max(max_sum, curr_sum)\n",
    "    return max_sum\n"
   ]
  }
 ],
 "metadata": {
  "kernelspec": {
   "display_name": "Python 3",
   "language": "python",
   "name": "python3"
  },
  "language_info": {
   "name": "python",
   "version": "3.11.9"
  }
 },
 "nbformat": 4,
 "nbformat_minor": 5
}
