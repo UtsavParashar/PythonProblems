{
 "cells": [
  {
   "cell_type": "markdown",
   "id": "e325fb89",
   "metadata": {},
   "source": [
    "#### 1328. Break a Palindrome\n",
    "\n",
    "* https://leetcode.com/problems/break-a-palindrome/description/"
   ]
  },
  {
   "cell_type": "code",
   "execution_count": null,
   "id": "0743688f",
   "metadata": {},
   "outputs": [],
   "source": [
    "# Ref - https://www.youtube.com/watch?v=0DSALG_D8-I\n",
    "# Logic - 3 conditions\n",
    "# 1. if only single char, return \"\"\n",
    "# 2. if till half len of str if there is no 'a' at any point then replace it with 'a'\n",
    "# 3. till half point, if all are 'a' then replace the last char with b\n",
    "\n",
    "def break_palindrome(palindrome):\n",
    "    if len(palindrome) < 2: # Cond 1\n",
    "        return \"\"\n",
    "    \n",
    "    l = list(palindrome)\n",
    "\n",
    "    for i in range(len(l)//2): # Cond 2\n",
    "        if l[i] != 'a':\n",
    "            l[i] = 'a'\n",
    "            return ''.join(l)\n",
    "\n",
    "    l[-1] = 'b' # cond 3\n",
    "    return ''.join(l)\n"
   ]
  },
  {
   "cell_type": "code",
   "execution_count": null,
   "id": "ead7f64f",
   "metadata": {},
   "outputs": [],
   "source": [
    "def break_palindrome(palindrome):\n",
    "    if len(palindrome) < 2:\n",
    "        return \"\"\n",
    "    for i, c in enumerate(palindrome[:len(palindrome)//2]):\n",
    "        if c != 'a':\n",
    "            return palindrome[:i] + 'a' + palindrome[i+1:]\n",
    "    return palindrome[:-1] + 'b'\n"
   ]
  }
 ],
 "metadata": {
  "kernelspec": {
   "display_name": "Python 3",
   "language": "python",
   "name": "python3"
  },
  "language_info": {
   "name": "python",
   "version": "3.11.9"
  }
 },
 "nbformat": 4,
 "nbformat_minor": 5
}
