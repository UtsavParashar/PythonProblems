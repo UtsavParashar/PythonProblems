{
 "cells": [
  {
   "cell_type": "markdown",
   "id": "2a60fead",
   "metadata": {},
   "source": [
    "#### 146. LRU Cache\n",
    "\n",
    "* https://leetcode.com/problems/lru-cache/description/"
   ]
  },
  {
   "cell_type": "code",
   "execution_count": 3,
   "id": "a0a0c5b2",
   "metadata": {},
   "outputs": [],
   "source": [
    "# Ref - https://www.youtube.com/watch?v=7ABFKPK2hD4&t=443s\n",
    "\n",
    "class Node:\n",
    "    def __init__(self, k, v):\n",
    "        self.k = k\n",
    "        self.v = v\n",
    "        self.prev, self.next = None, None\n",
    "\n",
    "class LRUCache:\n",
    "    def __init__(self, capacity):\n",
    "        self.cap = capacity\n",
    "        self.cache = {}\n",
    "\n",
    "        # Left - LRU, right = most recent\n",
    "        self.left, self.right = Node(0, 0), Node(0, 0)\n",
    "        self.left.next, self.right.prev = self.right, self.left  # LRU and MRU pointing to each other\n",
    "\n",
    "\n",
    "    def insert(self, node):\n",
    "        prev, next = self.right.prev, self.right\n",
    "        prev.next = next.prev = node # pointing to the new node\n",
    "        node.next, node.prev = next, prev\n",
    "\n",
    "\n",
    "    def remove(self, node):\n",
    "        prev, next = node.prev, node.next\n",
    "        prev.next, next.prev = next, prev # middle node removed\n",
    "\n",
    "    def get(self, key):\n",
    "        if key in self.cache:\n",
    "            self.remove(self.cache[key])\n",
    "            self.insert(self.cache[key])\n",
    "            return self.cache[key].v\n",
    "        return -1 # if key is not present\n",
    "\n",
    "    def put(self, key, val):\n",
    "        if key in self.cache:\n",
    "            self.remove(self.cache[key])    \n",
    "        self.cache[key] = Node(key, val)\n",
    "        self.insert(self.cache[key])\n",
    "\n",
    "        if len(self.cache) > self.cap:\n",
    "            # remove from the linked list and delete the LRU from the hashmap\n",
    "            lru = self.left.next\n",
    "            self.remove(lru)\n",
    "            del self.cache[lru.k]\n"
   ]
  },
  {
   "cell_type": "code",
   "execution_count": 4,
   "id": "cb47b666",
   "metadata": {},
   "outputs": [],
   "source": [
    "from collections import OrderedDict\n",
    "\n",
    "class LRUCache:\n",
    "    def __init__(self, capacity):\n",
    "        self.cache = OrderedDict()\n",
    "        self.cap = capacity\n",
    "\n",
    "    def get(self, key):\n",
    "        if key not in self.cache:\n",
    "            return -1\n",
    "        self.cache.move_to_end(key)\n",
    "        return self.cache[key]\n",
    "\n",
    "    def put(self, key, value):\n",
    "        if key in self.cache:\n",
    "            self.cache.move_to_end(key)\n",
    "        self.cache[key] = value\n",
    "        if len(self.cache) > self.cap:\n",
    "            self.cache.popitem(last=False)\n"
   ]
  },
  {
   "cell_type": "code",
   "execution_count": null,
   "id": "d1ca6fd5",
   "metadata": {},
   "outputs": [],
   "source": []
  }
 ],
 "metadata": {
  "kernelspec": {
   "display_name": "Python 3",
   "language": "python",
   "name": "python3"
  },
  "language_info": {
   "codemirror_mode": {
    "name": "ipython",
    "version": 3
   },
   "file_extension": ".py",
   "mimetype": "text/x-python",
   "name": "python",
   "nbconvert_exporter": "python",
   "pygments_lexer": "ipython3",
   "version": "3.11.9"
  }
 },
 "nbformat": 4,
 "nbformat_minor": 5
}
