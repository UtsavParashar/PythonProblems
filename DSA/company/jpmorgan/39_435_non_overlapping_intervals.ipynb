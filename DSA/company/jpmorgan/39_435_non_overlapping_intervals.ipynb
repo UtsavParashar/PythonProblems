{
 "cells": [
  {
   "cell_type": "markdown",
   "id": "a978e09e",
   "metadata": {},
   "source": [
    "#### 435. Non-overlapping Intervals\n",
    "\n",
    "* https://leetcode.com/problems/non-overlapping-intervals/description/"
   ]
  },
  {
   "cell_type": "code",
   "execution_count": null,
   "id": "99532dda",
   "metadata": {},
   "outputs": [],
   "source": [
    "def eraseOverlapIntervalsII(intervals):\n",
    "    intervals.sort()\n",
    "    prev_end = intervals[0][1]\n",
    "    res = 0\n",
    "    for start, end in intervals[1:]:\n",
    "        if start >= prev_end:\n",
    "            prev_end = end\n",
    "        else:\n",
    "            res += 1\n",
    "            prev_end = min(prev_end, end)\n",
    "\n",
    "    return res\n"
   ]
  },
  {
   "cell_type": "code",
   "execution_count": 12,
   "id": "d7409bb1",
   "metadata": {},
   "outputs": [
    {
     "name": "stdout",
     "output_type": "stream",
     "text": [
      "682 ns ± 17.9 ns per loop (mean ± std. dev. of 7 runs, 1,000,000 loops each)\n"
     ]
    }
   ],
   "source": [
    "%%timeit\n",
    "\n",
    "eraseOverlapIntervals([[1,2],[2,3],[3,4],[1,3],[1,4]])"
   ]
  },
  {
   "cell_type": "code",
   "execution_count": null,
   "id": "ef6fc760",
   "metadata": {},
   "outputs": [],
   "source": [
    "def eraseOverlapIntervalsII(intervals):    \n",
    "    if not intervals:\n",
    "        return 0\n",
    "    intervals.sort(key=lambda x: x[1])\n",
    "    count, prev_end = 0, intervals[0][1]\n",
    "    for start, end in intervals[1:]:\n",
    "        if start < prev_end:\n",
    "            count += 1\n",
    "        else:\n",
    "            prev_end = end\n",
    "    return count"
   ]
  }
 ],
 "metadata": {
  "kernelspec": {
   "display_name": "Python 3",
   "language": "python",
   "name": "python3"
  },
  "language_info": {
   "codemirror_mode": {
    "name": "ipython",
    "version": 3
   },
   "file_extension": ".py",
   "mimetype": "text/x-python",
   "name": "python",
   "nbconvert_exporter": "python",
   "pygments_lexer": "ipython3",
   "version": "3.11.9"
  }
 },
 "nbformat": 4,
 "nbformat_minor": 5
}
