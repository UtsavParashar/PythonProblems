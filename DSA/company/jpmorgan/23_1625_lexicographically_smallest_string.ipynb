{
 "cells": [
  {
   "cell_type": "markdown",
   "id": "95036dfb",
   "metadata": {},
   "source": [
    "#### 1625. Lexicographically Smallest String After Applying Operations\n",
    "\n",
    "* https://leetcode.com/problems/lexicographically-smallest-string-after-applying-operations/description/"
   ]
  },
  {
   "cell_type": "code",
   "execution_count": null,
   "id": "8b1a932c",
   "metadata": {},
   "outputs": [
    {
     "data": {
      "text/plain": [
       "'2050'"
      ]
     },
     "execution_count": 3,
     "metadata": {},
     "output_type": "execute_result"
    }
   ],
   "source": [
    "# Credit - https://www.youtube.com/watch?v=nWwd3ca4jsU\n",
    "\n",
    "def find_lex_smallest_str(s, a, b):\n",
    "    ans = s\n",
    "    visited = set()\n",
    "    def add(s):\n",
    "        l = list(s)\n",
    "        for i in range(len(l)):\n",
    "            if i & 1:\n",
    "                l[i] = str((int(l[i]) + a)%10)\n",
    "        return ''.join(l)\n",
    "\n",
    "    def rotate(s):\n",
    "        return s[-b:]+s[:-b]\n",
    "\n",
    "    def dfs(s, visited):\n",
    "        nonlocal ans\n",
    "        if s in visited:\n",
    "            return\n",
    "\n",
    "        visited.add(s)\n",
    "        ans = min(ans, s)\n",
    "\n",
    "        dfs(add(s), visited)\n",
    "        dfs(rotate(s), visited)\n",
    "\n",
    "    dfs(s, visited)\n",
    "    return ans\n",
    "\n",
    "find_lex_smallest_str(s = \"5525\", a = 9, b = 2)\n"
   ]
  },
  {
   "cell_type": "code",
   "execution_count": null,
   "id": "653ec3a7",
   "metadata": {},
   "outputs": [],
   "source": []
  }
 ],
 "metadata": {
  "kernelspec": {
   "display_name": "Python 3",
   "language": "python",
   "name": "python3"
  },
  "language_info": {
   "codemirror_mode": {
    "name": "ipython",
    "version": 3
   },
   "file_extension": ".py",
   "mimetype": "text/x-python",
   "name": "python",
   "nbconvert_exporter": "python",
   "pygments_lexer": "ipython3",
   "version": "3.11.9"
  }
 },
 "nbformat": 4,
 "nbformat_minor": 5
}
