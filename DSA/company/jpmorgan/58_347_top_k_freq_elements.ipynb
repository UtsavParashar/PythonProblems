{
 "cells": [
  {
   "cell_type": "markdown",
   "id": "a5fbf114",
   "metadata": {},
   "source": [
    "#### 347. Top K Frequent Elements\n",
    "\n",
    "* https://leetcode.com/problems/top-k-frequent-elements/description/"
   ]
  },
  {
   "cell_type": "code",
   "execution_count": 24,
   "id": "003a69be",
   "metadata": {},
   "outputs": [],
   "source": [
    "## Ref - https://www.youtube.com/watch?v=YPTqKIgVk-k\n",
    "## Bucket Sort\n",
    "\n",
    "from collections import Counter, defaultdict\n",
    "\n",
    "def top_k_frequent(nums, k):\n",
    "    freq = Counter(nums)\n",
    "    nfreq = defaultdict(list)\n",
    "\n",
    "    for key, val in freq.items():\n",
    "        nfreq[val].append(key)\n",
    "\n",
    "    res = []\n",
    "    for key in range(len(nums), 0, -1):\n",
    "        if key in nfreq:\n",
    "            for val in nfreq[key]:\n",
    "                res.append(val)\n",
    "                k -= 1\n",
    "                if k == 0:\n",
    "                    return res\n",
    "\n"
   ]
  },
  {
   "cell_type": "code",
   "execution_count": 21,
   "id": "2ac7c40f",
   "metadata": {},
   "outputs": [
    {
     "name": "stdout",
     "output_type": "stream",
     "text": [
      "2.1 μs ± 131 ns per loop (mean ± std. dev. of 7 runs, 100,000 loops each)\n"
     ]
    }
   ],
   "source": [
    "%%timeit\n",
    "\n",
    "top_k_frequent(nums = [1,2,2,3,3,2], k = 2)"
   ]
  },
  {
   "cell_type": "code",
   "execution_count": 22,
   "id": "2689b1e2",
   "metadata": {},
   "outputs": [],
   "source": [
    "from collections import Counter, defaultdict\n",
    "\n",
    "def top_k_frequentII(nums, k):\n",
    "    freq_map = Counter(nums)\n",
    "    buckets = defaultdict(list)\n",
    "\n",
    "    for num, freq in freq_map.items():\n",
    "        buckets[freq].append(num)\n",
    "\n",
    "    res = []\n",
    "    for freq in range(len(nums), 0, -1):\n",
    "        res.extend(buckets[freq])\n",
    "        if len(res) >= k:\n",
    "            return res[:k]"
   ]
  },
  {
   "cell_type": "code",
   "execution_count": 23,
   "id": "7f7a3b38",
   "metadata": {},
   "outputs": [
    {
     "name": "stdout",
     "output_type": "stream",
     "text": [
      "2.61 μs ± 320 ns per loop (mean ± std. dev. of 7 runs, 100,000 loops each)\n"
     ]
    }
   ],
   "source": [
    "%%timeit\n",
    "\n",
    "top_k_frequentII(nums = [1,2,2,3,3,2], k = 2)"
   ]
  },
  {
   "cell_type": "code",
   "execution_count": null,
   "id": "705584a2",
   "metadata": {},
   "outputs": [],
   "source": []
  }
 ],
 "metadata": {
  "kernelspec": {
   "display_name": "Python 3",
   "language": "python",
   "name": "python3"
  },
  "language_info": {
   "codemirror_mode": {
    "name": "ipython",
    "version": 3
   },
   "file_extension": ".py",
   "mimetype": "text/x-python",
   "name": "python",
   "nbconvert_exporter": "python",
   "pygments_lexer": "ipython3",
   "version": "3.11.9"
  }
 },
 "nbformat": 4,
 "nbformat_minor": 5
}
