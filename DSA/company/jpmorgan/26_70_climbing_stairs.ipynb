{
 "cells": [
  {
   "cell_type": "markdown",
   "id": "b66b8f36",
   "metadata": {},
   "source": [
    "#### 70. Climbing Stairs\n",
    "\n",
    "* https://leetcode.com/problems/climbing-stairs/description/"
   ]
  },
  {
   "cell_type": "code",
   "execution_count": null,
   "id": "90902f22",
   "metadata": {},
   "outputs": [],
   "source": [
    "class Solution:\n",
    "    def climbStairs(self, n: int) -> int:\n",
    "        if n == 1:\n",
    "            return 1\n",
    "\n",
    "        if n == 2:\n",
    "            return 2\n",
    "\n",
    "        prev, curr = 1, 2\n",
    "\n",
    "        for _ in range(1, n-1):\n",
    "            prev, curr = curr, curr+prev\n",
    "\n",
    "        return curr"
   ]
  },
  {
   "cell_type": "code",
   "execution_count": null,
   "id": "8386e8d3",
   "metadata": {},
   "outputs": [],
   "source": []
  }
 ],
 "metadata": {
  "kernelspec": {
   "display_name": "Python 3",
   "language": "python",
   "name": "python3"
  },
  "language_info": {
   "name": "python",
   "version": "3.11.9"
  }
 },
 "nbformat": 4,
 "nbformat_minor": 5
}
