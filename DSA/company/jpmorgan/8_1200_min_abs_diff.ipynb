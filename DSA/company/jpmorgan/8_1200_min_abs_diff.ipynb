{
 "cells": [
  {
   "cell_type": "markdown",
   "id": "033e7a09",
   "metadata": {},
   "source": [
    "#### 1200. Min Abs Diff\n",
    "\n",
    "* https://leetcode.com/problems/minimum-absolute-difference/description/"
   ]
  },
  {
   "cell_type": "code",
   "execution_count": null,
   "id": "e027ad12",
   "metadata": {},
   "outputs": [
    {
     "data": {
      "text/plain": [
       "[[1, 3]]"
      ]
     },
     "execution_count": 3,
     "metadata": {},
     "output_type": "execute_result"
    }
   ],
   "source": [
    "## ref - https://www.youtube.com/watch?v=nGHCq1gyv0I\n",
    "\n",
    "def min_abs_diff(arr):\n",
    "    arr.sort()\n",
    "    min_diff = float('inf')\n",
    "    res = []\n",
    "\n",
    "    for i in range(1, len(arr)):\n",
    "        diff = arr[i] - arr[i-1]\n",
    "        min_diff = min(min_diff, diff)\n",
    "\n",
    "    for i in range(1, len(arr)):\n",
    "        if  arr[i] - arr[i-1] == min_diff:\n",
    "            res.append([arr[i-1], arr[i]])\n",
    "    \n",
    "    return res\n",
    "\n",
    "min_abs_diff(arr = [1,3,6,10,15])"
   ]
  },
  {
   "cell_type": "code",
   "execution_count": null,
   "id": "a1a6d2c2",
   "metadata": {},
   "outputs": [],
   "source": [
    "def min_abs_diff(arr):\n",
    "    arr = sorted(arr)\n",
    "    min_diff = min(b - a for a, b in zip(arr, arr[1:]))\n",
    "    return [[a, b] for a, b in zip(arr, arr[1:]) if b - a == min_diff]\n",
    "\n",
    "min_abs_diff(arr=[1, 3, 6, 10, 15])\n"
   ]
  },
  {
   "cell_type": "markdown",
   "id": "9209fc68",
   "metadata": {},
   "source": [
    "#### Can this problem be solved in O(n) time complexity?\n",
    "\n",
    "No, for arbitrary unsorted input, the minimum absolute difference between any two elements requires comparing adjacent elements in sorted order. Sorting takes O(n log n) time, which dominates the overall complexity. Without constraints like a small integer range (allowing counting sort), O(n) is not possible in the general case."
   ]
  },
  {
   "cell_type": "code",
   "execution_count": null,
   "id": "f36653b8",
   "metadata": {},
   "outputs": [],
   "source": [
    "# If the input is not sorted and values are arbitrary, we must sort first (O(n log n)).\n",
    "# Only if the input values are bounded (e.g., 0 <= arr[i] <= 10^5), we could use counting sort for O(n).\n",
    "# For general input, O(n) is not possible."
   ]
  }
 ],
 "metadata": {
  "kernelspec": {
   "display_name": "Python 3",
   "language": "python",
   "name": "python3"
  },
  "language_info": {
   "codemirror_mode": {
    "name": "ipython",
    "version": 3
   },
   "file_extension": ".py",
   "mimetype": "text/x-python",
   "name": "python",
   "nbconvert_exporter": "python",
   "pygments_lexer": "ipython3",
   "version": "3.11.9"
  }
 },
 "nbformat": 4,
 "nbformat_minor": 5
}
