{
 "cells": [
  {
   "cell_type": "markdown",
   "id": "4703a2df",
   "metadata": {},
   "source": [
    "#### 1012. Numbers with Repeated Digits\n",
    "\n",
    "* https://leetcode.com/problems/numbers-with-repeated-digits/description/"
   ]
  },
  {
   "cell_type": "code",
   "execution_count": 9,
   "id": "ef08272f",
   "metadata": {},
   "outputs": [
    {
     "data": {
      "text/plain": [
       "3"
      ]
     },
     "execution_count": 9,
     "metadata": {},
     "output_type": "execute_result"
    }
   ],
   "source": [
    "from math import factorial\n",
    "def repeated_digits(n):\n",
    "    def perm(k, r):\n",
    "        return factorial(k)//factorial(k-r)\n",
    "\n",
    "    digits = list(map(int, str(n+1)))  # Add 1 to handle edge cases\n",
    "    n_digits = len(digits)\n",
    "    res = 0\n",
    "\n",
    "    # Count numbers with unique digits less than n+1\n",
    "    for i in range(1, n_digits):\n",
    "        res += 9 * perm(9, i-1)  # 1st digit can't be 0\n",
    "\n",
    "    used = set()\n",
    "    for i, x in enumerate(digits):\n",
    "        for y in range(0 if i else 1, x):\n",
    "            if y not in used:\n",
    "                res += perm(9 - i, n_digits - i - 1)\n",
    "        if x in used:\n",
    "            break\n",
    "        used.add(x)\n",
    "\n",
    "    return n - res\n",
    "\n",
    "repeated_digits(34)  # expected answer: 1"
   ]
  },
  {
   "cell_type": "code",
   "execution_count": null,
   "id": "4ebbec11",
   "metadata": {},
   "outputs": [],
   "source": []
  }
 ],
 "metadata": {
  "kernelspec": {
   "display_name": "Python 3",
   "language": "python",
   "name": "python3"
  },
  "language_info": {
   "codemirror_mode": {
    "name": "ipython",
    "version": 3
   },
   "file_extension": ".py",
   "mimetype": "text/x-python",
   "name": "python",
   "nbconvert_exporter": "python",
   "pygments_lexer": "ipython3",
   "version": "3.11.9"
  }
 },
 "nbformat": 4,
 "nbformat_minor": 5
}
