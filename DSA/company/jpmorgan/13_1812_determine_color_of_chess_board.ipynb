{
 "cells": [
  {
   "cell_type": "markdown",
   "id": "e3c64efa",
   "metadata": {},
   "source": [
    "#### 1812. Determine Color of a Chessboard Square\n",
    "\n",
    "* https://leetcode.com/problems/determine-color-of-a-chessboard-square/description/"
   ]
  },
  {
   "cell_type": "code",
   "execution_count": null,
   "id": "a77ab115",
   "metadata": {},
   "outputs": [
    {
     "data": {
      "text/plain": [
       "False"
      ]
     },
     "execution_count": 8,
     "metadata": {},
     "output_type": "execute_result"
    }
   ],
   "source": [
    "# Logic - if sum of char and int val is even then False else Trye\n",
    "def square_is_white(coordinates):\n",
    "    return True if (ord(coordinates[0])+int(coordinates[1]))%2 else False\n",
    "\n",
    "square_is_white('a1')"
   ]
  },
  {
   "cell_type": "code",
   "execution_count": null,
   "id": "d19a5fa6",
   "metadata": {},
   "outputs": [],
   "source": []
  }
 ],
 "metadata": {
  "kernelspec": {
   "display_name": "Python 3",
   "language": "python",
   "name": "python3"
  },
  "language_info": {
   "codemirror_mode": {
    "name": "ipython",
    "version": 3
   },
   "file_extension": ".py",
   "mimetype": "text/x-python",
   "name": "python",
   "nbconvert_exporter": "python",
   "pygments_lexer": "ipython3",
   "version": "3.11.9"
  }
 },
 "nbformat": 4,
 "nbformat_minor": 5
}
