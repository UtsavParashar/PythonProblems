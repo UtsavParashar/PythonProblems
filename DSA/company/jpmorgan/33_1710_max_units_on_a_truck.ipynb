{
 "cells": [
  {
   "cell_type": "markdown",
   "id": "b9dc2a76",
   "metadata": {},
   "source": [
    "#### 1710. Max Units on a Truck\n",
    "\n",
    "* https://leetcode.com/problems/maximum-units-on-a-truck/description/"
   ]
  },
  {
   "cell_type": "code",
   "execution_count": null,
   "id": "3968cca1",
   "metadata": {},
   "outputs": [
    {
     "data": {
      "text/plain": [
       "91"
      ]
     },
     "execution_count": 21,
     "metadata": {},
     "output_type": "execute_result"
    }
   ],
   "source": [
    "def max_units(boxTypes, truckSize):\n",
    "    boxTypes.sort(key=lambda x: x[1], reverse=True)\n",
    "    res = 0\n",
    "\n",
    "\n",
    "    for boxes, units in boxTypes: \n",
    "        res += min(boxes, truckSize)*units\n",
    "        truckSize -= boxes\n",
    "        if truckSize <= 0:\n",
    "            break\n",
    "\n",
    "    return res\n",
    "\n",
    "max_units(boxTypes = [[5,10],[2,5],[4,7],[3,9]], truckSize = 10)"
   ]
  },
  {
   "cell_type": "code",
   "execution_count": null,
   "id": "aadaecf0",
   "metadata": {},
   "outputs": [],
   "source": []
  },
  {
   "cell_type": "code",
   "execution_count": null,
   "id": "96e90b57",
   "metadata": {},
   "outputs": [],
   "source": []
  }
 ],
 "metadata": {
  "kernelspec": {
   "display_name": "Python 3",
   "language": "python",
   "name": "python3"
  },
  "language_info": {
   "codemirror_mode": {
    "name": "ipython",
    "version": 3
   },
   "file_extension": ".py",
   "mimetype": "text/x-python",
   "name": "python",
   "nbconvert_exporter": "python",
   "pygments_lexer": "ipython3",
   "version": "3.11.9"
  }
 },
 "nbformat": 4,
 "nbformat_minor": 5
}
