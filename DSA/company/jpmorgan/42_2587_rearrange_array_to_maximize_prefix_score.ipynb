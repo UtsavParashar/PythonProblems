{
 "cells": [
  {
   "cell_type": "markdown",
   "id": "6968b837",
   "metadata": {},
   "source": [
    "#### 2587. Rearrange Array to Maximize Prefix Score\n",
    "\n",
    "* https://leetcode.com/problems/rearrange-array-to-maximize-prefix-score/description/"
   ]
  },
  {
   "cell_type": "code",
   "execution_count": null,
   "id": "e787da40",
   "metadata": {},
   "outputs": [],
   "source": [
    "# Logic - \n",
    "# Sort the nums in reverse order\n",
    "# Since at the start of the array the numbers are positive so prefix would be positive\n",
    "# Once prefix enters the zone of 0 or negative number break and return the counter\n",
    "def max_score(nums):\n",
    "    nums.sort(reverse=True)\n",
    "    prefix = 0\n",
    "    count = 0\n",
    "    for num in nums:\n",
    "        prefix += num\n",
    "        if prefix > 0:\n",
    "            count += 1\n",
    "        else:\n",
    "            break\n",
    "    return count\n",
    "\n",
    "max_score(nums=[2, -1, 0, 1, -3, 3, -3])\n"
   ]
  }
 ],
 "metadata": {
  "kernelspec": {
   "display_name": "Python 3",
   "language": "python",
   "name": "python3"
  },
  "language_info": {
   "codemirror_mode": {
    "name": "ipython",
    "version": 3
   },
   "file_extension": ".py",
   "mimetype": "text/x-python",
   "name": "python",
   "nbconvert_exporter": "python",
   "pygments_lexer": "ipython3",
   "version": "3.11.9"
  }
 },
 "nbformat": 4,
 "nbformat_minor": 5
}
