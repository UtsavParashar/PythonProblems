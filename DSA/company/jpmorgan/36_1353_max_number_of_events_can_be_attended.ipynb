{
 "cells": [
  {
   "cell_type": "markdown",
   "id": "a3b169cf",
   "metadata": {},
   "source": [
    "### 1353. Max No of Events That Can be Attended\n",
    "\n",
    "* https://leetcode.com/problems/maximum-number-of-events-that-can-be-attended/description/"
   ]
  },
  {
   "cell_type": "code",
   "execution_count": 7,
   "id": "f18e8e96",
   "metadata": {},
   "outputs": [
    {
     "data": {
      "text/plain": [
       "4"
      ]
     },
     "execution_count": 7,
     "metadata": {},
     "output_type": "execute_result"
    }
   ],
   "source": [
    "## Logic \n",
    "## First attend the events which will expire first - sort events by start and queue them by end\n",
    "## current day should be less than equal to event start day, eg if there are 3 events like [1,2][1,2][1,2] \n",
    "## You can attend only 2 of the 3  \n",
    "\n",
    "import heapq\n",
    "\n",
    "def max_events(events):\n",
    "    events.sort()\n",
    "    total_days = max(e[1] for e in events)\n",
    "    res = 0\n",
    "    min_heap = []\n",
    "    i = 0 # Index for iterating through events.\n",
    "    n = len(events)\n",
    "    for day in range(1, total_days + 1):\n",
    "        while i < n and events[i][0] == day:\n",
    "            heapq.heappush(min_heap, events[i][1])\n",
    "            i += 1\n",
    "        while min_heap and min_heap[0] < day:\n",
    "            heapq.heappop(min_heap)\n",
    "        if min_heap:\n",
    "            heapq.heappop(min_heap)\n",
    "            res += 1\n",
    "    return res\n",
    "\n",
    "max_events(events = [[1,4],[4,4],[2,2],[3,4],[1,1]])"
   ]
  },
  {
   "cell_type": "markdown",
   "id": "70f51bda",
   "metadata": {},
   "source": [
    "The goal is to attend the maximum number of non-overlapping events, where each event has a start and end day.\n",
    "The approach is greedy: always attend the event that ends the earliest among available options.\n",
    "Step-by-step explanation:\n",
    "\n",
    "events.sort(): Sorts the events by their start day.\n",
    "total_days = max(e[1] for e in events): Finds the last possible day any event ends.\n",
    "Initializes variables:\n",
    "res: Counts the number of events attended.\n",
    "min_heap: A min-heap to keep track of event end days.\n",
    "i: Index for iterating through events.\n",
    "n: Total number of events.\n",
    "For each day from 1 to total_days:\n",
    "Add all events starting today to the heap (by their end day).\n",
    "Remove from the heap any events that have already ended (end day < today).\n",
    "If there are any events available (heap not empty), attend the one that ends earliest (pop from heap) and increment res."
   ]
  },
  {
   "cell_type": "code",
   "execution_count": 8,
   "id": "25aa3ba7",
   "metadata": {},
   "outputs": [
    {
     "data": {
      "text/plain": [
       "5"
      ]
     },
     "execution_count": 8,
     "metadata": {},
     "output_type": "execute_result"
    }
   ],
   "source": [
    "max_events(events = [[1,4],[4,4],[2,2],[3,4],[1,1]])"
   ]
  },
  {
   "cell_type": "code",
   "execution_count": null,
   "id": "e62ece16",
   "metadata": {},
   "outputs": [],
   "source": []
  }
 ],
 "metadata": {
  "kernelspec": {
   "display_name": "Python 3",
   "language": "python",
   "name": "python3"
  },
  "language_info": {
   "codemirror_mode": {
    "name": "ipython",
    "version": 3
   },
   "file_extension": ".py",
   "mimetype": "text/x-python",
   "name": "python",
   "nbconvert_exporter": "python",
   "pygments_lexer": "ipython3",
   "version": "3.11.9"
  }
 },
 "nbformat": 4,
 "nbformat_minor": 5
}
