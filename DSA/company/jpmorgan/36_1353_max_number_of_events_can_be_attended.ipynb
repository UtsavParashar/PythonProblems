{
 "cells": [
  {
   "cell_type": "markdown",
   "id": "a3b169cf",
   "metadata": {},
   "source": [
    "### 1353. Max No of Events That Can be Attended\n",
    "\n",
    "* https://leetcode.com/problems/maximum-number-of-events-that-can-be-attended/description/"
   ]
  },
  {
   "cell_type": "code",
   "execution_count": null,
   "id": "f18e8e96",
   "metadata": {},
   "outputs": [],
   "source": [
    "## Logic \n",
    "## First attend the events which will expire first - sort events by start and queue them by end\n",
    "## current day should be less than equal to event start day, eg if there are 3 events like [1,2][1,2][1,2] \n",
    "## You can attend only 2 of the 3  \n",
    "\n",
    "import heapq\n",
    "def max_events(events):\n",
    "    events.sort()\n",
    "    day, attended = 1, 0\n",
    "\n",
    "    heapq.heapify()\n",
    "\n",
    "    for start, end in events:\n"
   ]
  },
  {
   "cell_type": "code",
   "execution_count": null,
   "id": "25aa3ba7",
   "metadata": {},
   "outputs": [],
   "source": []
  }
 ],
 "metadata": {
  "kernelspec": {
   "display_name": "Python 3",
   "language": "python",
   "name": "python3"
  },
  "language_info": {
   "name": "python",
   "version": "3.11.9"
  }
 },
 "nbformat": 4,
 "nbformat_minor": 5
}
