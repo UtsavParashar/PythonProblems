{
 "cells": [
  {
   "cell_type": "markdown",
   "id": "a3b169cf",
   "metadata": {},
   "source": [
    "### 1353. Max No of Events That Can be Attended\n",
    "\n",
    "* https://leetcode.com/problems/maximum-number-of-events-that-can-be-attended/description/"
   ]
  },
  {
   "cell_type": "code",
   "execution_count": 12,
   "id": "f18e8e96",
   "metadata": {},
   "outputs": [
    {
     "name": "stdout",
     "output_type": "stream",
     "text": [
      "[[1, 1], [1, 4], [2, 2], [3, 4], [4, 4]]\n",
      "1 1\n",
      "2 4\n",
      "3 2\n",
      "3 4\n",
      "4 4\n"
     ]
    },
    {
     "data": {
      "text/plain": [
       "5"
      ]
     },
     "execution_count": 12,
     "metadata": {},
     "output_type": "execute_result"
    }
   ],
   "source": [
    "## Logic \n",
    "## First attend the events which will expire first - sort events by start and queue them by end\n",
    "## current day should be less than equal to event start day, eg if there are 3 events like [1,2][1,2][1,2] \n",
    "## You can attend only 2 of the 3  \n",
    "\n",
    "def max_events(events):\n",
    "    events.sort(key=lambda x: (x[0], x[1]))\n",
    "    print(events)\n",
    "    day = 1\n",
    "    for _, end in events:\n",
    "        print(day, end)\n",
    "        if day <= end:\n",
    "            day += 1\n",
    "\n",
    "    return day\n",
    "\n",
    "max_events(events = [[1,4],[4,4],[2,2],[3,4],[1,1]])"
   ]
  },
  {
   "cell_type": "code",
   "execution_count": 8,
   "id": "25aa3ba7",
   "metadata": {},
   "outputs": [
    {
     "data": {
      "text/plain": [
       "5"
      ]
     },
     "execution_count": 8,
     "metadata": {},
     "output_type": "execute_result"
    }
   ],
   "source": [
    "max_events(events = [[1,4],[4,4],[2,2],[3,4],[1,1]])"
   ]
  },
  {
   "cell_type": "code",
   "execution_count": null,
   "id": "e62ece16",
   "metadata": {},
   "outputs": [],
   "source": []
  }
 ],
 "metadata": {
  "kernelspec": {
   "display_name": "Python 3",
   "language": "python",
   "name": "python3"
  },
  "language_info": {
   "codemirror_mode": {
    "name": "ipython",
    "version": 3
   },
   "file_extension": ".py",
   "mimetype": "text/x-python",
   "name": "python",
   "nbconvert_exporter": "python",
   "pygments_lexer": "ipython3",
   "version": "3.11.9"
  }
 },
 "nbformat": 4,
 "nbformat_minor": 5
}
