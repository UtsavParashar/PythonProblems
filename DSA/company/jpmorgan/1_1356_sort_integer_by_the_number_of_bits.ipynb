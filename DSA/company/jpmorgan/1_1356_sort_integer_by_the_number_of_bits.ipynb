{
 "cells": [
  {
   "cell_type": "markdown",
   "id": "5c255369",
   "metadata": {},
   "source": [
    "### 1356. Sort Integers by The Number of 1 Bits\n",
    "\n",
    "* https://leetcode.com/problems/sort-integers-by-the-number-of-1-bits/description/"
   ]
  },
  {
   "cell_type": "code",
   "execution_count": null,
   "id": "17010330",
   "metadata": {},
   "outputs": [],
   "source": [
    "def sortByBits(arr: list[int]) -> list[int]:\n",
    "    # Sort by number of 1's in binary, then by value\n",
    "    return sorted(arr, key=lambda x: (bin(x).count('1'), x))"
   ]
  },
  {
   "cell_type": "code",
   "execution_count": null,
   "id": "a36f95a3",
   "metadata": {},
   "outputs": [],
   "source": [
    "# Example usage\n",
    "arr = [0,1,2,3,4,5,6,7,8]\n",
    "print(sortByBits(arr))  # Output: [0,1,2,4,8,3,5,6,7]"
   ]
  },
  {
   "cell_type": "code",
   "execution_count": 4,
   "id": "0f02d086",
   "metadata": {},
   "outputs": [],
   "source": [
    "def sortByBits(arr: list[int]) -> list[int]:\n",
    "\n",
    "    def count_bits(x: int) -> int:\n",
    "        count = 0\n",
    "        while x:\n",
    "            x &= x-1\n",
    "            count += 1\n",
    "        return count\n",
    "\n",
    "    # Sort by number of 1's in binary (using bitwise ops), then by value\n",
    "    return sorted(arr, key=lambda x: (count_bits(x), x))"
   ]
  },
  {
   "cell_type": "code",
   "execution_count": 5,
   "id": "01d82885",
   "metadata": {},
   "outputs": [
    {
     "name": "stdout",
     "output_type": "stream",
     "text": [
      "1.91 μs ± 64.7 ns per loop (mean ± std. dev. of 7 runs, 1,000,000 loops each)\n"
     ]
    }
   ],
   "source": [
    "%%timeit\n",
    "sortByBits(arr = [0,1,2,3,4,5,6,7,8])  # Output: [0,1,2,4,8,3,5,6,7]"
   ]
  },
  {
   "cell_type": "code",
   "execution_count": 6,
   "id": "40d4a1f8",
   "metadata": {},
   "outputs": [],
   "source": [
    "def sortByBitsII(arr: list[int]) -> list[int]:\n",
    "\n",
    "    def count_bits(x: int) -> int:\n",
    "        count = 0\n",
    "        while x:\n",
    "            count += x & 1\n",
    "            x >>= 1\n",
    "        return count\n",
    "\n",
    "    # Sort by number of 1's in binary (using bitwise ops), then by value\n",
    "    return sorted(arr, key=lambda x: (count_bits(x), x))"
   ]
  },
  {
   "cell_type": "code",
   "execution_count": 7,
   "id": "bb52d7a6",
   "metadata": {},
   "outputs": [
    {
     "name": "stdout",
     "output_type": "stream",
     "text": [
      "2.09 μs ± 42.9 ns per loop (mean ± std. dev. of 7 runs, 100,000 loops each)\n"
     ]
    }
   ],
   "source": [
    "%%timeit\n",
    "sortByBitsII(arr = [0,1,2,3,4,5,6,7,8])  # Output: [0,1,2,4,8,3,5,6,7]"
   ]
  },
  {
   "cell_type": "code",
   "execution_count": null,
   "id": "18d09ae2",
   "metadata": {},
   "outputs": [],
   "source": []
  }
 ],
 "metadata": {
  "kernelspec": {
   "display_name": "Python 3",
   "language": "python",
   "name": "python3"
  },
  "language_info": {
   "codemirror_mode": {
    "name": "ipython",
    "version": 3
   },
   "file_extension": ".py",
   "mimetype": "text/x-python",
   "name": "python",
   "nbconvert_exporter": "python",
   "pygments_lexer": "ipython3",
   "version": "3.11.9"
  }
 },
 "nbformat": 4,
 "nbformat_minor": 5
}
