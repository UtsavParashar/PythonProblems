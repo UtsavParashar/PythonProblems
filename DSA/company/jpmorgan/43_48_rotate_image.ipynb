{
 "cells": [
  {
   "cell_type": "markdown",
   "id": "bc2811e7",
   "metadata": {},
   "source": [
    "#### 48. Rotate Image\n",
    "\n",
    "* https://leetcode.com/problems/rotate-image/description/"
   ]
  },
  {
   "cell_type": "code",
   "execution_count": 2,
   "id": "0126fd8c",
   "metadata": {},
   "outputs": [],
   "source": [
    "# Credit - https://www.youtube.com/watch?v=-jhbxNJijyE\n",
    "\n",
    "# Transpose + Reflection\n",
    "\n",
    "def rotate(matrix):\n",
    "    n = len(matrix)\n",
    "    for i in range(n):\n",
    "        for j in range(i+1, n):\n",
    "            matrix[i][j], matrix[j][i] = matrix[j][i], matrix[i][j]\n",
    "\n",
    "    for i in range(n):\n",
    "        for j in range(n//2):\n",
    "            matrix[i][j], matrix[i][n-j-1] = matrix[i][n-j-1], matrix[i][j]"
   ]
  },
  {
   "cell_type": "code",
   "execution_count": null,
   "id": "f860c022",
   "metadata": {},
   "outputs": [],
   "source": []
  }
 ],
 "metadata": {
  "kernelspec": {
   "display_name": "Python 3",
   "language": "python",
   "name": "python3"
  },
  "language_info": {
   "codemirror_mode": {
    "name": "ipython",
    "version": 3
   },
   "file_extension": ".py",
   "mimetype": "text/x-python",
   "name": "python",
   "nbconvert_exporter": "python",
   "pygments_lexer": "ipython3",
   "version": "3.11.9"
  }
 },
 "nbformat": 4,
 "nbformat_minor": 5
}
