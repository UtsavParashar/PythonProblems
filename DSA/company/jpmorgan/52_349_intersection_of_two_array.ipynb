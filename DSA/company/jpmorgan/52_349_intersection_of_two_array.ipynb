{
 "cells": [
  {
   "cell_type": "markdown",
   "id": "607031bb",
   "metadata": {},
   "source": [
    "### 349. Intersection of Two Arrays\n",
    "\n",
    "* https://leetcode.com/problems/intersection-of-two-arrays/description/"
   ]
  },
  {
   "cell_type": "code",
   "execution_count": null,
   "id": "8d500759",
   "metadata": {},
   "outputs": [
    {
     "data": {
      "text/plain": [
       "[2]"
      ]
     },
     "execution_count": 6,
     "metadata": {},
     "output_type": "execute_result"
    }
   ],
   "source": [
    "def intersection(nums1, nums2):\n",
    "    res = []\n",
    "    for num in nums1:\n",
    "        if num in nums2 and num not in res:\n",
    "            res.append(num)\n",
    "    return res\n",
    "\n",
    "intersection(nums1 = [1,2,2,1], nums2 = [2,2])"
   ]
  },
  {
   "cell_type": "code",
   "execution_count": 7,
   "id": "6380519c",
   "metadata": {},
   "outputs": [
    {
     "data": {
      "text/plain": [
       "[2]"
      ]
     },
     "execution_count": 7,
     "metadata": {},
     "output_type": "execute_result"
    }
   ],
   "source": [
    "def intersection(nums1, nums2):\n",
    "    return list(set(nums1) & set(nums2))\n",
    "\n",
    "intersection(nums1 = [1,2,2,1], nums2 = [2,2])\n"
   ]
  },
  {
   "cell_type": "code",
   "execution_count": null,
   "id": "2b2de456",
   "metadata": {},
   "outputs": [],
   "source": []
  }
 ],
 "metadata": {
  "kernelspec": {
   "display_name": "Python 3",
   "language": "python",
   "name": "python3"
  },
  "language_info": {
   "codemirror_mode": {
    "name": "ipython",
    "version": 3
   },
   "file_extension": ".py",
   "mimetype": "text/x-python",
   "name": "python",
   "nbconvert_exporter": "python",
   "pygments_lexer": "ipython3",
   "version": "3.11.9"
  }
 },
 "nbformat": 4,
 "nbformat_minor": 5
}
