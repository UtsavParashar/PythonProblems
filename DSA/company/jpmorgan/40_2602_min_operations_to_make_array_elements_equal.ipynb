{
 "cells": [
  {
   "cell_type": "markdown",
   "id": "57601538",
   "metadata": {},
   "source": [
    "#### 2602. Min Operations to Make All Array Elements Equal\n",
    "\n",
    "* https://leetcode.com/problems/minimum-operations-to-make-all-array-elements-equal/description/"
   ]
  },
  {
   "cell_type": "code",
   "execution_count": 8,
   "id": "61e56067",
   "metadata": {},
   "outputs": [
    {
     "name": "stdout",
     "output_type": "stream",
     "text": [
      "[0, 1, 4, 10, 18]\n"
     ]
    },
    {
     "data": {
      "text/plain": [
       "[14, 10]"
      ]
     },
     "execution_count": 8,
     "metadata": {},
     "output_type": "execute_result"
    }
   ],
   "source": [
    "def min_operations(nums, queries):\n",
    "    nums.sort()\n",
    "    n = len(nums)\n",
    "    prefix_sum = [0] * (n + 1)\n",
    "    for i in range(n):\n",
    "        prefix_sum[i + 1] = prefix_sum[i] + nums[i]\n",
    "    res = []\n",
    "    print(prefix_sum)\n",
    "\n",
    "    import bisect\n",
    "    for q in queries:\n",
    "        idx = bisect.bisect_left(nums, q)\n",
    "        left = q * idx - prefix_sum[idx]\n",
    "        right = (prefix_sum[n] - prefix_sum[idx]) - q * (n - idx)\n",
    "        res.append(left + right)\n",
    "    return res\n",
    "\n",
    "min_operations([3,1,6,8], [1,5])"
   ]
  },
  {
   "cell_type": "markdown",
   "id": "92d936bc",
   "metadata": {},
   "source": [
    "### Code Explanation\n",
    "\n",
    "1. **Sort the Array:** The input array `nums` is sorted to make prefix sum calculations and binary search efficient.\n",
    "2. **Prefix Sum:** A prefix sum array is built so that the sum of any subarray can be computed in O(1) time.\n",
    "3. **For Each Query:** For each value in `queries`, the code computes the minimum operations needed to make all elements equal to that value.\n",
    "    - It uses `bisect_left` to find the index where the query value would fit in the sorted array.\n",
    "    - For elements less than the query value, it calculates the total increments needed.\n",
    "    - For elements greater than or equal to the query value, it calculates the total decrements needed.\n",
    "    - The sum of increments and decrements gives the answer for that query.\n",
    "4. **Return Results:** The results for all queries are returned as a list."
   ]
  },
  {
   "cell_type": "markdown",
   "id": "df1ba5b0",
   "metadata": {},
   "source": [
    "why is there an extra 0 at the start in prefix_sum list?\n",
    "\n",
    "The extra 0 at the start of the prefix_sum list is intentional and serves an important purpose:\n",
    "\n",
    "prefix_sum[0] = 0 allows you to easily calculate the sum of the first k elements of the nums array using prefix_sum[k].\n",
    "For any subarray sum from index i to j (exclusive), you can use prefix_sum[j] - prefix_sum[i].\n",
    "By starting with 0, prefix_sum[i] always represents the sum of the first i elements, making calculations simple and avoiding off-by-one errors.\n",
    "For example, if nums = [1, 3, 6, 8], then prefix_sum = [0, 1, 4, 10, 18].\n",
    "\n",
    "prefix_sum[2] = 4 is the sum of nums[0] + nums[1] = 1 + 3.\n",
    "This is a common pattern in prefix sum implementations to simplify range sum calculations."
   ]
  },
  {
   "cell_type": "markdown",
   "id": "92daec61",
   "metadata": {},
   "source": [
    "why are we using bisect_left here and not bisect_right\n",
    "\n",
    "We use bisect_left instead of bisect_right in this code because we want to find the index of the first element in the sorted nums array that is greater than or equal to the query value q.\n",
    "\n",
    "bisect_left(nums, q) returns the index where q could be inserted to keep nums sorted, placing it before any existing entries of q.\n",
    "This index (idx) tells us how many elements in nums are strictly less than q (all elements at positions 0 to idx-1).\n",
    "For the problem, we want to:\n",
    "Increase all elements less than q up to q (these are at indices < idx).\n",
    "Decrease all elements greater than or equal to q down to q (these are at indices ≥ idx).\n",
    "If we used bisect_right, it would return the index after the last occurrence of q, which would incorrectly count elements equal to q as needing to be increased, rather than left unchanged.\n",
    "\n",
    "In summary:\n",
    "bisect_left is used to split the array into elements less than q and elements greater than or equal to q, which matches the logic needed for this problem."
   ]
  },
  {
   "cell_type": "markdown",
   "id": "d7060116",
   "metadata": {},
   "source": [
    "how did this formula came?\n",
    "\n",
    "The formula left = q * idx - prefix_sum[idx] calculates the total number of operations needed to increase all elements less than q to q.\n",
    "\n",
    "Here's how it works:\n",
    "\n",
    "After sorting, the first idx elements in nums are all less than q.\n",
    "To make each of these elements equal to q, you need to add (q - nums[i]) to each one.\n",
    "The total operations for these elements is:\n",
    "(q - nums[0]) + (q - nums[1]) + ... + (q - nums[idx-1])\n",
    "= q * idx - (nums[0] + nums[1] + ... + nums[idx-1])\n",
    "= q * idx - prefix_sum[idx]\n",
    "So, the formula comes from summing the difference between q and each element less than q, using the prefix sum for efficiency."
   ]
  },
  {
   "cell_type": "code",
   "execution_count": 4,
   "id": "cc58f2c8",
   "metadata": {},
   "outputs": [
    {
     "name": "stdout",
     "output_type": "stream",
     "text": [
      "[0, 4, 9, 14]\n"
     ]
    }
   ],
   "source": []
  },
  {
   "cell_type": "code",
   "execution_count": null,
   "id": "0b7eec5d",
   "metadata": {},
   "outputs": [],
   "source": []
  }
 ],
 "metadata": {
  "kernelspec": {
   "display_name": "Python 3",
   "language": "python",
   "name": "python3"
  },
  "language_info": {
   "codemirror_mode": {
    "name": "ipython",
    "version": 3
   },
   "file_extension": ".py",
   "mimetype": "text/x-python",
   "name": "python",
   "nbconvert_exporter": "python",
   "pygments_lexer": "ipython3",
   "version": "3.11.9"
  }
 },
 "nbformat": 4,
 "nbformat_minor": 5
}
