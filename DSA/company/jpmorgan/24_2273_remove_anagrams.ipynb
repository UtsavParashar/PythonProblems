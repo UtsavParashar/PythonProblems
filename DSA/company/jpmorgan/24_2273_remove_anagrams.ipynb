{
 "cells": [
  {
   "cell_type": "markdown",
   "id": "6c04c566",
   "metadata": {},
   "source": [
    "### 2273. Find Resultant Array After Removing Anagrams\n",
    "\n",
    "* https://leetcode.com/problems/find-resultant-array-after-removing-anagrams/description/"
   ]
  },
  {
   "cell_type": "code",
   "execution_count": 2,
   "id": "d91a2181",
   "metadata": {},
   "outputs": [
    {
     "data": {
      "text/plain": [
       "['abba', 'cd', 'ef']"
      ]
     },
     "execution_count": 2,
     "metadata": {},
     "output_type": "execute_result"
    }
   ],
   "source": [
    "from collections import Counter\n",
    "\n",
    "def remove_anagrams(words):\n",
    "    res = [words[0]]\n",
    "    for word in words[1:]:\n",
    "        if Counter(word) != Counter(res[-1]):\n",
    "            res.append(word)\n",
    "\n",
    "    return res\n",
    "\n",
    "remove_anagrams(words = [\"abba\",\"baba\",\"bbaa\",\"cd\",\"cd\", \"ef\"])\n"
   ]
  },
  {
   "cell_type": "code",
   "execution_count": 5,
   "id": "0eaf84eb",
   "metadata": {},
   "outputs": [
    {
     "data": {
      "text/plain": [
       "['abba', 'cd', 'ef']"
      ]
     },
     "execution_count": 5,
     "metadata": {},
     "output_type": "execute_result"
    }
   ],
   "source": [
    "from collections import Counter\n",
    "\n",
    "def remove_anagrams(words):\n",
    "    def count_freq(word):\n",
    "        counter = [0]*26\n",
    "        for c in word:\n",
    "            counter[ord(c)-ord('a')] += 1\n",
    "        return counter\n",
    "\n",
    "    res=[words[0]]\n",
    "\n",
    "    for word in words[1:]:\n",
    "        if count_freq(word) != count_freq(res[-1]):\n",
    "            res.append(word)\n",
    "\n",
    "\n",
    "    return res\n",
    "\n",
    "remove_anagrams(words = [\"abba\",\"baba\",\"bbaa\",\"cd\",\"cd\", \"ef\"])"
   ]
  },
  {
   "cell_type": "code",
   "execution_count": null,
   "id": "efd5fb74",
   "metadata": {},
   "outputs": [],
   "source": []
  }
 ],
 "metadata": {
  "kernelspec": {
   "display_name": "Python 3",
   "language": "python",
   "name": "python3"
  },
  "language_info": {
   "codemirror_mode": {
    "name": "ipython",
    "version": 3
   },
   "file_extension": ".py",
   "mimetype": "text/x-python",
   "name": "python",
   "nbconvert_exporter": "python",
   "pygments_lexer": "ipython3",
   "version": "3.11.9"
  }
 },
 "nbformat": 4,
 "nbformat_minor": 5
}
