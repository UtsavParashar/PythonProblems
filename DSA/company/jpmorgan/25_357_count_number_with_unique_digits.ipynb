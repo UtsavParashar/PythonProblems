{
 "cells": [
  {
   "cell_type": "markdown",
   "id": "8a0f29b6",
   "metadata": {},
   "source": [
    "#### 357. Count Number with Unique Digits\n",
    "\n",
    "* https://leetcode.com/problems/count-numbers-with-unique-digits/description/"
   ]
  },
  {
   "cell_type": "code",
   "execution_count": null,
   "id": "6dd28315",
   "metadata": {},
   "outputs": [
    {
     "data": {
      "text/plain": [
       "5275"
      ]
     },
     "execution_count": 22,
     "metadata": {},
     "output_type": "execute_result"
    }
   ],
   "source": [
    "# Credit - http://youtube.com/watch?v=nrDNGVW59c8\n",
    "\n",
    "from math import factorial\n",
    "\n",
    "def unique_digits(n):\n",
    "    def perm(r):\n",
    "        return factorial(9)//factorial(9-r)\n",
    "\n",
    "    res = 1\n",
    "    for i in range(n):\n",
    "        res += 9*perm(i)\n",
    "\n",
    "    return res\n",
    "\n",
    "unique_digits(4)"
   ]
  },
  {
   "cell_type": "code",
   "execution_count": null,
   "id": "675b2544",
   "metadata": {},
   "outputs": [
    {
     "data": {
      "text/plain": [
       "9.0"
      ]
     },
     "execution_count": 9,
     "metadata": {},
     "output_type": "execute_result"
    }
   ],
   "source": []
  },
  {
   "cell_type": "code",
   "execution_count": null,
   "id": "4ad47e89",
   "metadata": {},
   "outputs": [],
   "source": []
  }
 ],
 "metadata": {
  "kernelspec": {
   "display_name": "Python 3",
   "language": "python",
   "name": "python3"
  },
  "language_info": {
   "codemirror_mode": {
    "name": "ipython",
    "version": 3
   },
   "file_extension": ".py",
   "mimetype": "text/x-python",
   "name": "python",
   "nbconvert_exporter": "python",
   "pygments_lexer": "ipython3",
   "version": "3.11.9"
  }
 },
 "nbformat": 4,
 "nbformat_minor": 5
}
