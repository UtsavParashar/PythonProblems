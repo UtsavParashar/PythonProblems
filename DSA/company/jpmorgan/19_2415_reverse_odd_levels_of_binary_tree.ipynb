{
 "cells": [
  {
   "cell_type": "markdown",
   "id": "6d8fe9e0",
   "metadata": {},
   "source": [
    "#### 2415. Reverse Odd Levels of Binary Tree\n",
    "\n",
    "* https://leetcode.com/problems/reverse-odd-levels-of-binary-tree/description/"
   ]
  },
  {
   "cell_type": "code",
   "execution_count": 15,
   "id": "05f93060",
   "metadata": {},
   "outputs": [],
   "source": [
    "# Definition for a binary tree node.\n",
    "# Credit - https://www.youtube.com/watch?v=3x3JoCb8-tU\n",
    "\n",
    "class TreeNode:\n",
    "    def __init__(self, val=0, left=None, right=None):\n",
    "        self.val = val\n",
    "        self.left = left\n",
    "        self.right = right\n",
    "\n",
    "from collections import deque\n",
    "\n",
    "\n",
    "\n",
    "def reverse_odd_levels(root):\n",
    "    q = deque([root])\n",
    "\n",
    "    level = 0\n",
    "    while q:\n",
    "        if level & 1: # gives odd numbers\n",
    "            l, r = 0, len(q)-1\n",
    "\n",
    "            while l<r:\n",
    "                q[l].val, q[r].val = q[r].val, q[l].val\n",
    "                l+=1\n",
    "                r-=1\n",
    "\n",
    "\n",
    "        for _ in range(len(q)):\n",
    "            node = q.popleft()\n",
    "            if node.left:\n",
    "                q.append(node.left)\n",
    "            if node.right:\n",
    "                q.append(node.right)\n",
    "        \n",
    "        level += 1\n",
    "\n",
    "    return root\n",
    "\n",
    "\n"
   ]
  },
  {
   "cell_type": "code",
   "execution_count": 16,
   "id": "de1d7969",
   "metadata": {},
   "outputs": [
    {
     "name": "stdout",
     "output_type": "stream",
     "text": [
      "5\n",
      "3\n",
      "8\n",
      "13\n",
      "21\n",
      "34\n"
     ]
    }
   ],
   "source": [
    "root = TreeNode(2)\n",
    "root.left = TreeNode(3)\n",
    "root.right = TreeNode(5)\n",
    "root.left.left = TreeNode(8)\n",
    "root.left.right = TreeNode(13)\n",
    "root.right.left = TreeNode(21)\n",
    "root.right.right = TreeNode(34)\n",
    "\n",
    "root = reverse_odd_levels(root)\n",
    "print(root.left.val)\n",
    "print(root.right.val)\n",
    "print(root.left.left.val)\n",
    "print(root.left.right.val)\n",
    "print(root.right.left.val)\n",
    "print(root.right.right.val)"
   ]
  },
  {
   "cell_type": "code",
   "execution_count": 13,
   "id": "df3799ba",
   "metadata": {},
   "outputs": [],
   "source": [
    "def reverse_odd_levels(root):\n",
    "    q = deque([root])\n",
    "\n",
    "    level = 0\n",
    "    while q:\n",
    "        if level & 1: # odd level\n",
    "            l, r = 0, len(q)-1\n",
    "            while l < r:\n",
    "                q[l].val, q[r].val = q[r].val, q[l].val\n",
    "                l += 1\n",
    "                r -= 1\n",
    "\n",
    "\n",
    "        for _ in range(len(q)):\n",
    "            node = q.popleft()\n",
    "            if node.left:\n",
    "                q.append(node.left)\n",
    "            if node.right:\n",
    "                q.append(node.right)\n",
    "\n",
    "        level += 1\n",
    "\n",
    "    return root"
   ]
  },
  {
   "cell_type": "code",
   "execution_count": null,
   "id": "353ec072",
   "metadata": {},
   "outputs": [],
   "source": [
    "def reverse_odd_levels(root):\n",
    "    q = deque([root])\n",
    "    level = 0\n",
    "    while q:\n",
    "        if level % 2 == 1:\n",
    "            vals = [node.val for node in q]\n",
    "            for node, val in zip(q, reversed(vals)):\n",
    "                node.val = val\n",
    "        for _ in range(len(q)):\n",
    "            node = q.popleft()\n",
    "            q.extend(child for child in (node.left, node.right) if child)\n",
    "        level += 1\n",
    "    return root\n"
   ]
  }
 ],
 "metadata": {
  "kernelspec": {
   "display_name": "Python 3",
   "language": "python",
   "name": "python3"
  },
  "language_info": {
   "codemirror_mode": {
    "name": "ipython",
    "version": 3
   },
   "file_extension": ".py",
   "mimetype": "text/x-python",
   "name": "python",
   "nbconvert_exporter": "python",
   "pygments_lexer": "ipython3",
   "version": "3.11.9"
  }
 },
 "nbformat": 4,
 "nbformat_minor": 5
}
