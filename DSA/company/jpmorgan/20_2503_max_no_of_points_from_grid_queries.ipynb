{
 "cells": [
  {
   "cell_type": "markdown",
   "id": "199b132b",
   "metadata": {},
   "source": [
    "#### 2503. Max Number of Points From Grid Queries\n",
    "\n",
    "* https://leetcode.com/problems/maximum-number-of-points-from-grid-queries/description/"
   ]
  },
  {
   "cell_type": "code",
   "execution_count": 23,
   "id": "66dffc63",
   "metadata": {},
   "outputs": [
    {
     "data": {
      "text/plain": [
       "[5, 8, 1]"
      ]
     },
     "execution_count": 23,
     "metadata": {},
     "output_type": "execute_result"
    }
   ],
   "source": [
    "# Logic - BFS, min heap, set\n",
    "# Credit - https://www.youtube.com/watch?v=NtH8cWBCu3Y\n",
    "\n",
    "from heapq import heappop, heappush\n",
    "\n",
    "def max_points(grid, queries):\n",
    "    query = [(v, i) for i, v in enumerate(queries)] # sort that we could work on smallest value first\n",
    "    query.sort()\n",
    "\n",
    "    ROWS, COLS = len(grid), len(grid[0])\n",
    "    min_heap = [(grid[0][0], 0, 0)] # val, r, c\n",
    "\n",
    "    visit = set([(0,0)]) # (r, c)\n",
    "    points = 0\n",
    "    res = [0]*len(query)\n",
    "    for limit, index in query:\n",
    "        while min_heap and min_heap[0][0] < limit:\n",
    "            _, r, c = heappop(min_heap)\n",
    "            points += 1\n",
    "            neighbours = [(r+1, c), (r-1, c), (r, c+1), (r, c-1)]\n",
    "\n",
    "            for nr, nc in neighbours:\n",
    "                if 0 <= nr < ROWS and 0 <= nc < COLS and (nr, nc) not in visit:\n",
    "                    heappush(min_heap, (grid[nr][nc], nr, nc))\n",
    "                    visit.add((nr, nc))\n",
    "\n",
    "        res[index] = points\n",
    "\n",
    "    return res\n",
    "\n",
    "max_points(grid = [[1,2,3],[2,5,7],[3,5,1]], queries = [5,6,2])"
   ]
  },
  {
   "cell_type": "code",
   "execution_count": 25,
   "id": "3b570987",
   "metadata": {},
   "outputs": [
    {
     "data": {
      "text/plain": [
       "[5, 8, 1]"
      ]
     },
     "execution_count": 25,
     "metadata": {},
     "output_type": "execute_result"
    }
   ],
   "source": [
    "from heapq import heappop, heappush\n",
    "from itertools import product\n",
    "\n",
    "def max_points(grid, queries):\n",
    "\n",
    "    query = sorted((v, i) for i, v in enumerate(queries))\n",
    "    ROWS, COLS = len(grid), len(grid[0])\n",
    "    min_heap = [(grid[0][0], 0, 0)]\n",
    "    visit = {(0, 0)}\n",
    "    points = 0\n",
    "    res = [0] * len(queries)\n",
    "\n",
    "    for limit, idx in query:\n",
    "        while min_heap and min_heap[0][0] < limit:\n",
    "            _, r, c = heappop(min_heap)\n",
    "            points += 1\n",
    "            for nr, nc in ((r+1, c), (r-1, c), (r, c+1), (r, c-1)):\n",
    "                if 0 <= nr < ROWS and 0 <= nc < COLS and (nr, nc) not in visit:\n",
    "                    heappush(min_heap, (grid[nr][nc], nr, nc))\n",
    "                    visit.add((nr, nc))\n",
    "        res[idx] = points\n",
    "\n",
    "    return res\n",
    "\n",
    "max_points(grid=[[1,2,3],[2,5,7],[3,5,1]], queries=[5,6,2])\n"
   ]
  },
  {
   "cell_type": "code",
   "execution_count": null,
   "id": "e5731fb4",
   "metadata": {},
   "outputs": [],
   "source": []
  }
 ],
 "metadata": {
  "kernelspec": {
   "display_name": "Python 3",
   "language": "python",
   "name": "python3"
  },
  "language_info": {
   "codemirror_mode": {
    "name": "ipython",
    "version": 3
   },
   "file_extension": ".py",
   "mimetype": "text/x-python",
   "name": "python",
   "nbconvert_exporter": "python",
   "pygments_lexer": "ipython3",
   "version": "3.11.9"
  }
 },
 "nbformat": 4,
 "nbformat_minor": 5
}
