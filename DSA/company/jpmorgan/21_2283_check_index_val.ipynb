{
 "cells": [
  {
   "cell_type": "markdown",
   "id": "46695e92",
   "metadata": {},
   "source": [
    "#### 2283. Check if Number Has Equal Digit Count and Digit Value\n",
    "\n",
    "* https://leetcode.com/problems/check-if-number-has-equal-digit-count-and-digit-value/description/"
   ]
  },
  {
   "cell_type": "code",
   "execution_count": 10,
   "id": "4d1acd7e",
   "metadata": {},
   "outputs": [
    {
     "data": {
      "text/plain": [
       "False"
      ]
     },
     "execution_count": 10,
     "metadata": {},
     "output_type": "execute_result"
    }
   ],
   "source": [
    "from collections import Counter\n",
    "def digit_count(num):\n",
    "    c = Counter(num)\n",
    "    return all(int(v) == c[str(i)] for i, v in enumerate(num))\n",
    "\n",
    "digit_count(num = \"0309\")"
   ]
  },
  {
   "cell_type": "code",
   "execution_count": null,
   "id": "ddf6d350",
   "metadata": {},
   "outputs": [],
   "source": []
  }
 ],
 "metadata": {
  "kernelspec": {
   "display_name": "Python 3",
   "language": "python",
   "name": "python3"
  },
  "language_info": {
   "codemirror_mode": {
    "name": "ipython",
    "version": 3
   },
   "file_extension": ".py",
   "mimetype": "text/x-python",
   "name": "python",
   "nbconvert_exporter": "python",
   "pygments_lexer": "ipython3",
   "version": "3.11.9"
  }
 },
 "nbformat": 4,
 "nbformat_minor": 5
}
