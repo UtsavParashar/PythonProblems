{
 "cells": [
  {
   "cell_type": "markdown",
   "id": "98ae037e",
   "metadata": {},
   "source": [
    "### 263. Ugly Number\n",
    "\n",
    "* https://leetcode.com/problems/ugly-number/description/"
   ]
  },
  {
   "cell_type": "code",
   "execution_count": null,
   "id": "1a043dcd",
   "metadata": {},
   "outputs": [
    {
     "data": {
      "text/plain": [
       "True"
      ]
     },
     "execution_count": 3,
     "metadata": {},
     "output_type": "execute_result"
    }
   ],
   "source": [
    "## https://www.youtube.com/watch?v=M0Zay1Qr9ws\n",
    "\n",
    "\n",
    "def is_ugly(n):\n",
    "    if n <= 0:\n",
    "        return False\n",
    "\n",
    "    for divisor in (2,3,5):\n",
    "        while n % divisor == 0:\n",
    "            n //= divisor\n",
    "\n",
    "    return n == 1\n",
    "\n",
    "is_ugly(6)"
   ]
  }
 ],
 "metadata": {
  "kernelspec": {
   "display_name": "Python 3",
   "language": "python",
   "name": "python3"
  },
  "language_info": {
   "codemirror_mode": {
    "name": "ipython",
    "version": 3
   },
   "file_extension": ".py",
   "mimetype": "text/x-python",
   "name": "python",
   "nbconvert_exporter": "python",
   "pygments_lexer": "ipython3",
   "version": "3.11.9"
  }
 },
 "nbformat": 4,
 "nbformat_minor": 5
}
