{
 "cells": [
  {
   "cell_type": "markdown",
   "id": "31c1f0d0",
   "metadata": {},
   "source": [
    "#### 1268. Search Suggestions System\n",
    "\n",
    "* https://leetcode.com/problems/search-suggestions-system/description/"
   ]
  },
  {
   "cell_type": "code",
   "execution_count": 2,
   "id": "980fb30c",
   "metadata": {},
   "outputs": [
    {
     "data": {
      "text/plain": [
       "[['mobile', 'moneypot', 'monitor'],\n",
       " ['mobile', 'moneypot', 'monitor'],\n",
       " ['mouse', 'mousepad'],\n",
       " ['mouse', 'mousepad'],\n",
       " ['mouse', 'mousepad']]"
      ]
     },
     "execution_count": 2,
     "metadata": {},
     "output_type": "execute_result"
    }
   ],
   "source": [
    "def suggested_products(products, search_word):\n",
    "    products.sort()\n",
    "\n",
    "    l, r = 0, len(products)-1\n",
    "    res = []\n",
    "    prefix = ''\n",
    "    for c in search_word:\n",
    "        prefix += c\n",
    "\n",
    "        while l<=r and not products[l].startswith(prefix):\n",
    "            l += 1\n",
    "        while l<=r and not products[r].startswith(prefix):\n",
    "            r -= 1\n",
    "\n",
    "        suggestions = []\n",
    "        for i in range(l, min(l+3, r+1)):\n",
    "            suggestions.append(products[i])\n",
    "\n",
    "        res.append(suggestions)\n",
    "    \n",
    "    return res\n",
    "\n",
    "\n",
    "suggested_products(products = [\"mobile\",\"mouse\",\"moneypot\",\"monitor\",\"mousepad\"], search_word = \"mouse\")\n"
   ]
  },
  {
   "cell_type": "code",
   "execution_count": null,
   "id": "8d1eb6d7",
   "metadata": {},
   "outputs": [],
   "source": []
  }
 ],
 "metadata": {
  "kernelspec": {
   "display_name": "Python 3",
   "language": "python",
   "name": "python3"
  },
  "language_info": {
   "codemirror_mode": {
    "name": "ipython",
    "version": 3
   },
   "file_extension": ".py",
   "mimetype": "text/x-python",
   "name": "python",
   "nbconvert_exporter": "python",
   "pygments_lexer": "ipython3",
   "version": "3.11.9"
  }
 },
 "nbformat": 4,
 "nbformat_minor": 5
}
