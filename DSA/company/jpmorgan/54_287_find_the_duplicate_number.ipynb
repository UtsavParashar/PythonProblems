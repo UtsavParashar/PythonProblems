{
 "cells": [
  {
   "cell_type": "markdown",
   "id": "383042f9",
   "metadata": {},
   "source": [
    "#### 287. Find the Duplicate Number\n",
    "\n",
    "* https://leetcode.com/problems/find-the-duplicate-number/description/"
   ]
  },
  {
   "cell_type": "code",
   "execution_count": 2,
   "id": "4e7680e0",
   "metadata": {},
   "outputs": [
    {
     "data": {
      "text/plain": [
       "2"
      ]
     },
     "execution_count": 2,
     "metadata": {},
     "output_type": "execute_result"
    }
   ],
   "source": [
    "# Ref - https://www.youtube.com/watch?v=0U4e11Z7Vcs\n",
    "# https://www.youtube.com/watch?v=wjYnzkAhcNk\n",
    "\n",
    "\n",
    "# Floyd's Cycle Finding Algo - Tortoise and Hare Algo\n",
    "def find_duplicates(nums):\n",
    "    slow, fast = 0, 0\n",
    "    while True:\n",
    "        slow = nums[slow]\n",
    "        fast = nums[nums[fast]]\n",
    "        if slow == fast:\n",
    "            break\n",
    "\n",
    "    slow2 = 0\n",
    "    while slow != slow2:\n",
    "        slow = nums[slow]\n",
    "        slow2 = nums[slow2]\n",
    "\n",
    "    return slow\n",
    "\n",
    "find_duplicates(nums = [1,3,4,2,2])"
   ]
  },
  {
   "cell_type": "code",
   "execution_count": null,
   "id": "fed56d0e",
   "metadata": {},
   "outputs": [],
   "source": [
    "def find_duplicate(nums):\n",
    "    # Phase 1: Finding the intersection point\n",
    "    tortoise = hare = nums[0]\n",
    "    while True:\n",
    "        tortoise = nums[tortoise]\n",
    "        hare = nums[nums[hare]]\n",
    "        if tortoise == hare:\n",
    "            break\n",
    "\n",
    "    # Phase 2: Finding the entrance to the cycle\n",
    "    tortoise = nums[0]\n",
    "    while tortoise != hare:\n",
    "        tortoise = nums[tortoise]\n",
    "        hare = nums[hare]\n",
    "\n",
    "    return hare\n",
    "\n",
    "find_duplicate([1, 3, 4, 2, 2])"
   ]
  }
 ],
 "metadata": {
  "kernelspec": {
   "display_name": "Python 3",
   "language": "python",
   "name": "python3"
  },
  "language_info": {
   "codemirror_mode": {
    "name": "ipython",
    "version": 3
   },
   "file_extension": ".py",
   "mimetype": "text/x-python",
   "name": "python",
   "nbconvert_exporter": "python",
   "pygments_lexer": "ipython3",
   "version": "3.11.9"
  }
 },
 "nbformat": 4,
 "nbformat_minor": 5
}
