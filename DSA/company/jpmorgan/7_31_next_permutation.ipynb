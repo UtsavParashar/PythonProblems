{
 "cells": [
  {
   "cell_type": "markdown",
   "id": "e77902ea",
   "metadata": {},
   "source": [
    "#### 31. Next Permutation\n",
    "\n",
    "* https://leetcode.com/problems/next-permutation/description/ "
   ]
  },
  {
   "cell_type": "code",
   "execution_count": null,
   "id": "57ebeca9",
   "metadata": {},
   "outputs": [],
   "source": [
    "# Ref - https://www.youtube.com/watch?v=IhsUbEMfIbY\n",
    "\n",
    "def next_permutation(nums):\n",
    "    bp = n = len(nums)\n",
    "\n",
    "    # 1. Find the first decreasing element from the right\n",
    "    for idx in range(n-2, -1, -1):\n",
    "        if nums[idx] < nums[idx+1]:\n",
    "            bp = idx\n",
    "            break\n",
    "\n",
    "\n",
    "    # 2. Find the next biggest number from the right\n",
    "    for idx in range(n-1, bp, -1):\n",
    "        if nums[idx] > nums[bp]:\n",
    "            nums[bp], nums[idx] = nums[idx], nums[bp]\n",
    "            break\n",
    "\n",
    "    # 3. Reverse the remaining array (bp+1 to end)\n",
    "    if bp == n:\n",
    "        nums.reverse()\n",
    "    else:\n",
    "        nums[bp+1:] = reversed(nums[bp+1:])\n",
    "\n",
    "\n",
    "next_permutation([3,2,1])"
   ]
  },
  {
   "cell_type": "code",
   "execution_count": null,
   "id": "629c0ad6",
   "metadata": {},
   "outputs": [],
   "source": []
  }
 ],
 "metadata": {
  "kernelspec": {
   "display_name": "Python 3",
   "language": "python",
   "name": "python3"
  },
  "language_info": {
   "codemirror_mode": {
    "name": "ipython",
    "version": 3
   },
   "file_extension": ".py",
   "mimetype": "text/x-python",
   "name": "python",
   "nbconvert_exporter": "python",
   "pygments_lexer": "ipython3",
   "version": "3.11.9"
  }
 },
 "nbformat": 4,
 "nbformat_minor": 5
}
