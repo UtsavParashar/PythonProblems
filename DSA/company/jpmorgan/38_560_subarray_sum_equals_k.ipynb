{
 "cells": [
  {
   "cell_type": "markdown",
   "id": "0420cc3f",
   "metadata": {},
   "source": [
    "#### 560. Subarray Sum Equals K\n",
    "\n",
    "* https://leetcode.com/problems/subarray-sum-equals-k/description/"
   ]
  },
  {
   "cell_type": "code",
   "execution_count": 11,
   "id": "452ac557",
   "metadata": {},
   "outputs": [
    {
     "data": {
      "text/plain": [
       "3"
      ]
     },
     "execution_count": 11,
     "metadata": {},
     "output_type": "execute_result"
    }
   ],
   "source": [
    "from collections import defaultdict\n",
    "\n",
    "def subarray_sum(nums, k):\n",
    "    prefix_sum = defaultdict(int)\n",
    "    prefix_sum[0] = 1\n",
    "    curr_sum = 0\n",
    "    res = 0\n",
    "    for num in nums:\n",
    "        curr_sum += num\n",
    "        residual = curr_sum - k\n",
    "        res += prefix_sum.get(residual, 0)\n",
    "        prefix_sum[curr_sum] += 1\n",
    "    \n",
    "    return res\n",
    "        \n",
    "\n",
    "\n",
    "subarray_sum(nums = [1,3,2,-4,1,2,5,2,17], k = 5)"
   ]
  },
  {
   "cell_type": "code",
   "execution_count": null,
   "id": "f349bb41",
   "metadata": {},
   "outputs": [],
   "source": [
    "from collections import Counter\n",
    "\n",
    "def subarray_sum(nums, k):\n",
    "    prefix_sum = Counter({0: 1})\n",
    "    curr_sum = res = 0\n",
    "    for num in nums:\n",
    "        curr_sum += num\n",
    "        res += prefix_sum[curr_sum - k]\n",
    "        prefix_sum[curr_sum] += 1\n",
    "    return res\n"
   ]
  },
  {
   "cell_type": "markdown",
   "id": "4f2f2f7e",
   "metadata": {},
   "source": [
    "Counter from the collections module is used instead of defaultdict to track the frequency of prefix sums. Both Counter and defaultdict(int) can serve this purpose, but there are subtle differences:\n",
    "\n",
    "Counter is specifically designed for counting hashable objects. It automatically initializes missing keys to 0 and provides convenient methods for counting.\n",
    "defaultdict(int) also initializes missing keys to 0, but it is a more general-purpose tool for default values.\n",
    "In this context, both will work the same way for counting prefix sums. Using Counter is a stylistic choice—some developers prefer it for clarity when the main goal is counting occurrences, as it makes the intent explicit. There is no functional difference in this code between using Counter and defaultdict(int)."
   ]
  },
  {
   "cell_type": "markdown",
   "id": "803e4939",
   "metadata": {},
   "source": []
  }
 ],
 "metadata": {
  "kernelspec": {
   "display_name": "Python 3",
   "language": "python",
   "name": "python3"
  },
  "language_info": {
   "codemirror_mode": {
    "name": "ipython",
    "version": 3
   },
   "file_extension": ".py",
   "mimetype": "text/x-python",
   "name": "python",
   "nbconvert_exporter": "python",
   "pygments_lexer": "ipython3",
   "version": "3.11.9"
  }
 },
 "nbformat": 4,
 "nbformat_minor": 5
}
