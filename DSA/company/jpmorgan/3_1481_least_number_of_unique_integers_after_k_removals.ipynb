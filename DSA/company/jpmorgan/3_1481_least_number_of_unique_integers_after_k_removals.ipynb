{
 "cells": [
  {
   "cell_type": "markdown",
   "id": "291ed583",
   "metadata": {},
   "source": [
    "#### 1481. Least Number of Unique Integers after K Removals\n",
    "\n",
    "* https://leetcode.com/problems/least-number-of-unique-integers-after-k-removals/description/"
   ]
  },
  {
   "cell_type": "code",
   "execution_count": null,
   "id": "eb1b1d11",
   "metadata": {},
   "outputs": [
    {
     "data": {
      "text/plain": [
       "2"
      ]
     },
     "execution_count": 1,
     "metadata": {},
     "output_type": "execute_result"
    }
   ],
   "source": [
    "from collections import Counter\n",
    "\n",
    "def find_least_num_of_unique_ints(arr, k):\n",
    "    freq = Counter(arr)\n",
    "\n",
    "    counts = sorted(freq.values())\n",
    "    unique = len(counts)\n",
    "\n",
    "    for count in counts:\n",
    "        if k >= count:\n",
    "            k -= count\n",
    "            unique -= 1\n",
    "        else:\n",
    "            break\n",
    "    \n",
    "    return unique\n",
    "\n"
   ]
  },
  {
   "cell_type": "code",
   "execution_count": 2,
   "id": "d0d35ed3",
   "metadata": {},
   "outputs": [
    {
     "name": "stdout",
     "output_type": "stream",
     "text": [
      "1.19 μs ± 65.4 ns per loop (mean ± std. dev. of 7 runs, 1,000,000 loops each)\n"
     ]
    }
   ],
   "source": [
    "%%timeit\n",
    "\n",
    "find_least_num_of_unique_ints(arr = [4,3,1,1,3,3,2], k = 3)"
   ]
  },
  {
   "cell_type": "code",
   "execution_count": null,
   "id": "70c8cc08",
   "metadata": {},
   "outputs": [],
   "source": []
  },
  {
   "cell_type": "code",
   "execution_count": 4,
   "id": "dd57fc4b",
   "metadata": {},
   "outputs": [],
   "source": [
    "# Credit - https://www.youtube.com/watch?v=Nsp_ta7SlEk\n",
    "# Optimized Solution using Bucket Sort - Avg case TC - O(n)\n",
    "\n",
    "from collections import Counter\n",
    "\n",
    "def find_least_num_of_unique_intsII(arr, k):\n",
    "    freq = Counter(arr)\n",
    "    freq_counter = Counter(freq.values())\n",
    "\n",
    "\n",
    "    # Sort the keys to process frequencies in increasing order\n",
    "    for i in sorted(freq_counter):\n",
    "        remove = i * freq_counter[i]\n",
    "        if k >= remove:\n",
    "            k -= remove\n",
    "            freq_counter[i] = 0\n",
    "        else:\n",
    "            freq_counter[i] -= k // i\n",
    "            break\n",
    "\n",
    "    # The answer is the sum of remaining (nonzero) frequencies\n",
    "    #print(freq_counter)\n",
    "    return sum(v for v in freq_counter.values() if v > 0)\n",
    "\n"
   ]
  },
  {
   "cell_type": "code",
   "execution_count": 5,
   "id": "b5569b54",
   "metadata": {},
   "outputs": [
    {
     "name": "stdout",
     "output_type": "stream",
     "text": [
      "2.67 μs ± 171 ns per loop (mean ± std. dev. of 7 runs, 100,000 loops each)\n"
     ]
    }
   ],
   "source": [
    "%%timeit\n",
    "\n",
    "find_least_num_of_unique_intsII(arr = [4,3,1,1,3,3,2], k = 3)"
   ]
  },
  {
   "cell_type": "code",
   "execution_count": 25,
   "id": "ebc5bbda",
   "metadata": {},
   "outputs": [
    {
     "data": {
      "text/plain": [
       "1"
      ]
     },
     "execution_count": 25,
     "metadata": {},
     "output_type": "execute_result"
    }
   ],
   "source": [
    "# TC - nlogn\n",
    "\n",
    "from collections import Counter\n",
    "import heapq\n",
    "\n",
    "def find_least_num_of_unique_ints(arr, k):\n",
    "    freq = Counter(arr)\n",
    "    freq_val = list(freq.values())\n",
    "    heapq.heapify(freq_val)\n",
    "    res = len(freq_val)\n",
    "    \n",
    "    # Remove k elements, always from the smallest frequency\n",
    "    while k > 0 and freq_val:\n",
    "        f = heapq.heappop(freq_val)\n",
    "        if k >= f:\n",
    "            k -= f\n",
    "            res -= 1\n",
    "\n",
    "    return res\n",
    "    \n",
    "        \n",
    "\n",
    "\n",
    "\n",
    "find_least_num_of_unique_ints(arr = [5,5,4], k = 1)\n"
   ]
  },
  {
   "cell_type": "code",
   "execution_count": null,
   "id": "4f88010b",
   "metadata": {},
   "outputs": [],
   "source": [
    "# Time Complexity:\n",
    "# - Building the Counter: O(n), where n is the length of arr.\n",
    "# - heapq.heapify: O(m), where m is the number of unique integers.\n",
    "# - Each heappop/heappush operation in the while loop is O(log m).\n",
    "#   In the worst case, we may remove up to m unique integers (if k is large).\n",
    "#   So, the loop runs at most m times: O(m log m).\n",
    "# - Total: O(n + m log m)\n",
    "\n",
    "# Space Complexity:\n",
    "# - Counter and freq_val both store up to m unique integers: O(m).\n",
    "# - Total: O(m)\n"
   ]
  },
  {
   "cell_type": "code",
   "execution_count": null,
   "id": "3c5b3aee",
   "metadata": {},
   "outputs": [
    {
     "data": {
      "text/plain": [
       "2"
      ]
     },
     "execution_count": 22,
     "metadata": {},
     "output_type": "execute_result"
    }
   ],
   "source": [
    "def find_least_num_of_unique_ints(arr, k):\n",
    "    freq = Counter(arr)\n",
    "    freq_vals = sorted(freq.values())\n",
    "    removed = 0\n",
    "    for count in freq_vals:\n",
    "        if k >= count:\n",
    "            k -= count\n",
    "            removed += 1\n",
    "        else:\n",
    "            break\n",
    "    return len(freq_vals) - removed\n",
    "\n",
    "find_least_num_of_unique_ints(arr = [4,3,1,1,3,3,2], k = 3)\n"
   ]
  },
  {
   "cell_type": "code",
   "execution_count": null,
   "id": "2253836c",
   "metadata": {},
   "outputs": [],
   "source": [
    "The time and space complexity analysis is as follows:\n",
    "\n",
    "- **Time Complexity:**  \n",
    "    - Counting frequencies with `Counter(arr)` takes O(n), where n is the length of `arr`.\n",
    "    - Sorting the frequencies with `sorted(freq.values())` takes O(m log m), where m is the number of unique integers.\n",
    "    - The for loop iterates at most m times.\n",
    "    - **Total:** O(n + m log m)\n",
    "\n",
    "- **Space Complexity:**  \n",
    "    - The `Counter` dictionary stores up to m unique integers: O(m).\n",
    "    - The sorted list of frequencies also takes O(m).\n",
    "    - **Total:** O(m)\n"
   ]
  },
  {
   "cell_type": "code",
   "execution_count": 23,
   "id": "f650ee41",
   "metadata": {},
   "outputs": [
    {
     "data": {
      "text/plain": [
       "2"
      ]
     },
     "execution_count": 23,
     "metadata": {},
     "output_type": "execute_result"
    }
   ],
   "source": [
    "def findLeastNumOfUniqueInts(arr, k):\n",
    "    freq = Counter(arr)\n",
    "    freq_val = sorted(freq.values())\n",
    "    removed = 0\n",
    "\n",
    "    for val in freq_val:\n",
    "        if k >= val:\n",
    "            k -= val\n",
    "            removed += 1\n",
    "        else:\n",
    "            break\n",
    "    \n",
    "    return len(freq_val)-removed\n",
    "\n",
    "findLeastNumOfUniqueInts(arr = [4,3,1,1,3,3,2], k = 3)"
   ]
  },
  {
   "cell_type": "code",
   "execution_count": null,
   "id": "2856d82a",
   "metadata": {},
   "outputs": [],
   "source": []
  }
 ],
 "metadata": {
  "kernelspec": {
   "display_name": "Python 3",
   "language": "python",
   "name": "python3"
  },
  "language_info": {
   "codemirror_mode": {
    "name": "ipython",
    "version": 3
   },
   "file_extension": ".py",
   "mimetype": "text/x-python",
   "name": "python",
   "nbconvert_exporter": "python",
   "pygments_lexer": "ipython3",
   "version": "3.11.9"
  }
 },
 "nbformat": 4,
 "nbformat_minor": 5
}
