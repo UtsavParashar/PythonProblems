{
 "cells": [
  {
   "cell_type": "markdown",
   "id": "8834face",
   "metadata": {},
   "source": [
    "#### 217. Contains Duplicate\n",
    "\n",
    "* https://leetcode.com/problems/contains-duplicate/description/"
   ]
  },
  {
   "cell_type": "code",
   "execution_count": 2,
   "id": "319b1748",
   "metadata": {},
   "outputs": [
    {
     "data": {
      "text/plain": [
       "False"
      ]
     },
     "execution_count": 2,
     "metadata": {},
     "output_type": "execute_result"
    }
   ],
   "source": [
    "def contains_duplicate(nums):\n",
    "    visited = set()\n",
    "\n",
    "    for num in nums:\n",
    "        if num in visited:\n",
    "            return True\n",
    "        visited.add(num)\n",
    "\n",
    "    return False\n",
    "\n",
    "contains_duplicate(nums = [1,2,3,4])"
   ]
  },
  {
   "cell_type": "code",
   "execution_count": null,
   "id": "7887bf89",
   "metadata": {},
   "outputs": [],
   "source": []
  }
 ],
 "metadata": {
  "kernelspec": {
   "display_name": "Python 3",
   "language": "python",
   "name": "python3"
  },
  "language_info": {
   "codemirror_mode": {
    "name": "ipython",
    "version": 3
   },
   "file_extension": ".py",
   "mimetype": "text/x-python",
   "name": "python",
   "nbconvert_exporter": "python",
   "pygments_lexer": "ipython3",
   "version": "3.11.9"
  }
 },
 "nbformat": 4,
 "nbformat_minor": 5
}
