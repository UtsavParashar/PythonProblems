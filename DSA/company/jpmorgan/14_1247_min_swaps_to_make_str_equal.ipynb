{
 "cells": [
  {
   "cell_type": "markdown",
   "id": "09793eb6",
   "metadata": {},
   "source": [
    "#### 1247. Min Swaps to Make Strings Equal\n",
    "\n",
    "* https://leetcode.com/problems/minimum-swaps-to-make-strings-equal/description/"
   ]
  },
  {
   "cell_type": "code",
   "execution_count": 10,
   "id": "41206887",
   "metadata": {},
   "outputs": [
    {
     "data": {
      "text/plain": [
       "2"
      ]
     },
     "execution_count": 10,
     "metadata": {},
     "output_type": "execute_result"
    }
   ],
   "source": [
    "def min_swap(s1, s2):\n",
    "    if len(s1) != len(s2):\n",
    "        return -1\n",
    "\n",
    "    zipped = list(zip(s1, s2))\n",
    "    xy = sum(1 for a, b in zipped if a == 'x' and b == 'y')\n",
    "    yx = sum(1 for a, b in zipped if a == 'y' and b == 'x')\n",
    "\n",
    "    if (xy + yx) % 2 != 0:\n",
    "        return -1\n",
    "\n",
    "    return xy // 2 + yx // 2 + 2 * (xy % 2)\n",
    "\n",
    "min_swap(s1=\"xy\", s2=\"yx\")\n"
   ]
  },
  {
   "cell_type": "markdown",
   "id": "a28370dc",
   "metadata": {},
   "source": [
    "## Explanation\n",
    "\n",
    "You are given two strings s1 and s2 of equal length.\n",
    "Each string consists only of the characters 'x' and 'y'.\n",
    "\n",
    "In one swap operation, you can swap any two characters at the same index in the two strings.\n",
    "That is: for index i, you can swap s1[i] and s2[i].\n",
    "\n",
    "✅ Goal: Make s1 equal to s2 using the minimum number of swaps, or return -1 if it's not possible.\n",
    "\n",
    "✅ Key Observations:\n",
    "When s1[i] ≠ s2[i], there are only two mismatch types:\n",
    "\n",
    "'x' in s1[i] and 'y' in s2[i]: call this an xy mismatch\n",
    "\n",
    "'y' in s1[i] and 'x' in s2[i]: call this a yx mismatch\n",
    "\n",
    "All mismatches must be of either type xy or yx.\n",
    "\n",
    "💡 Intuition:\n",
    "To fix mismatches:\n",
    "\n",
    "Two xy mismatches can be resolved in 1 swap: swap positions i and j both of type xy\n",
    "\n",
    "Similarly, two yx mismatches can be resolved in 1 swap\n",
    "\n",
    "But if you have one xy and one yx, you need 2 swaps to fix both.\n",
    "\n",
    "Hence:\n",
    "\n",
    "If (xy + yx) is odd, you can’t make them match (because one will be left alone) → return -1\n",
    "\n",
    "Else:\n",
    "\n",
    "Each pair of xy mismatches takes xy // 2 swaps\n",
    "\n",
    "Each pair of yx mismatches takes yx // 2 swaps\n",
    "\n",
    "If one xy and one yx is left → takes 2 swaps to fix\n",
    "\n",
    "🔁 Summary:\n",
    "Fix two of same mismatch (xy or yx) → 1 swap\n",
    "\n",
    "One xy + one yx → needs 2 swaps\n",
    "\n",
    "If odd number of mismatches → ❌ not solvable\n",
    "\n",
    "✅ Time and Space Complexity:\n",
    "Time: O(n)\n",
    "\n",
    "Space: O(1) (only two counters)"
   ]
  },
  {
   "cell_type": "code",
   "execution_count": null,
   "id": "90f6565c",
   "metadata": {},
   "outputs": [],
   "source": []
  }
 ],
 "metadata": {
  "kernelspec": {
   "display_name": "Python 3",
   "language": "python",
   "name": "python3"
  },
  "language_info": {
   "codemirror_mode": {
    "name": "ipython",
    "version": 3
   },
   "file_extension": ".py",
   "mimetype": "text/x-python",
   "name": "python",
   "nbconvert_exporter": "python",
   "pygments_lexer": "ipython3",
   "version": "3.11.9"
  }
 },
 "nbformat": 4,
 "nbformat_minor": 5
}
