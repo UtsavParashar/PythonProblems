{
 "cells": [
  {
   "cell_type": "markdown",
   "id": "9b062282",
   "metadata": {},
   "source": [
    "#### 423. Reconstruct Original Digits from English\n",
    "\n",
    "* https://leetcode.com/problems/reconstruct-original-digits-from-english/description/"
   ]
  },
  {
   "cell_type": "code",
   "execution_count": 5,
   "id": "d205db2d",
   "metadata": {},
   "outputs": [
    {
     "data": {
      "text/plain": [
       "'24'"
      ]
     },
     "execution_count": 5,
     "metadata": {},
     "output_type": "execute_result"
    }
   ],
   "source": [
    "# https://www.youtube.com/watch?v=oD2KnJdUCYI\n",
    "\n",
    "from collections import Counter\n",
    "\n",
    "def original_digits(s):\n",
    "    count = Counter(s)\n",
    "    res = [0]*10\n",
    "\n",
    "    res[0] = count['z']\n",
    "    res[2] = count['w']\n",
    "    res[4] = count['u']\n",
    "    res[6] = count['x']\n",
    "    res[8] = count['g']\n",
    "\n",
    "    res[1] = count['o'] - res[0] - res[2] - res[4]\n",
    "    res[3] = count['h'] - res[8]\n",
    "    res[5] = count['f'] - res[4]\n",
    "    res[7] = count['s'] - res[6]\n",
    "    res[9] = count['i'] - res[5] - res[6] - res[8]\n",
    "\n",
    "    result = []\n",
    "    for i in range(10):\n",
    "        result.append(str(i)*res[i])\n",
    "    return ''.join(result)\n",
    "\n",
    "original_digits('wtroouf')"
   ]
  },
  {
   "cell_type": "code",
   "execution_count": null,
   "id": "f39bd52d",
   "metadata": {},
   "outputs": [],
   "source": []
  }
 ],
 "metadata": {
  "kernelspec": {
   "display_name": "Python 3",
   "language": "python",
   "name": "python3"
  },
  "language_info": {
   "codemirror_mode": {
    "name": "ipython",
    "version": 3
   },
   "file_extension": ".py",
   "mimetype": "text/x-python",
   "name": "python",
   "nbconvert_exporter": "python",
   "pygments_lexer": "ipython3",
   "version": "3.11.9"
  }
 },
 "nbformat": 4,
 "nbformat_minor": 5
}
