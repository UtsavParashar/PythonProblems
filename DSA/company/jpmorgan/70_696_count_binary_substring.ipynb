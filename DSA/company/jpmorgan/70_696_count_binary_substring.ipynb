{
 "cells": [
  {
   "cell_type": "markdown",
   "id": "7d194a0b",
   "metadata": {},
   "source": [
    "#### 696. Count Binary Substrings\n",
    "\n",
    "* https://leetcode.com/problems/count-binary-substrings/description/"
   ]
  },
  {
   "cell_type": "code",
   "execution_count": null,
   "id": "a74b0013",
   "metadata": {},
   "outputs": [
    {
     "data": {
      "text/plain": [
       "6"
      ]
     },
     "execution_count": 4,
     "metadata": {},
     "output_type": "execute_result"
    }
   ],
   "source": [
    "# https://www.youtube.com/watch?v=MGPHPadxhtQ\n",
    "\n",
    "def count_binary_substring(s):\n",
    "    prev, curr, res = 0, 1, 0 # curr is 1 because we are having for loop from 1\n",
    "\n",
    "    for i in range(1, len(s)):\n",
    "        if s[i] == s[i-1]:\n",
    "            curr += 1\n",
    "        else:\n",
    "            res += min(curr, prev)\n",
    "            prev = curr\n",
    "            curr = 1\n",
    "\n",
    "    res += min(curr, prev)\n",
    "    return res\n",
    "\n",
    "count_binary_substring(s = \"00110011\")"
   ]
  },
  {
   "cell_type": "code",
   "execution_count": null,
   "id": "668b89a0",
   "metadata": {},
   "outputs": [],
   "source": []
  }
 ],
 "metadata": {
  "kernelspec": {
   "display_name": "Python 3",
   "language": "python",
   "name": "python3"
  },
  "language_info": {
   "codemirror_mode": {
    "name": "ipython",
    "version": 3
   },
   "file_extension": ".py",
   "mimetype": "text/x-python",
   "name": "python",
   "nbconvert_exporter": "python",
   "pygments_lexer": "ipython3",
   "version": "3.11.9"
  }
 },
 "nbformat": 4,
 "nbformat_minor": 5
}
