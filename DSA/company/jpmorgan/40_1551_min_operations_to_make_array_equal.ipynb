{
 "cells": [
  {
   "cell_type": "markdown",
   "id": "36d20ad5",
   "metadata": {},
   "source": [
    "#### 1551. Minimum Operations to Make Array Equal\n",
    "\n",
    "* https://leetcode.com/problems/minimum-operations-to-make-array-equal/description/"
   ]
  },
  {
   "cell_type": "code",
   "execution_count": null,
   "id": "e57dc56a",
   "metadata": {},
   "outputs": [],
   "source": [
    "# Credit - https://www.youtube.com/watch?v=9aGx9hoIBjI\n",
    "# odd - n*(n+1) Eg array 1 3 5 7 9\n",
    "# even - n*n Eg 1 3 5 7 9 11\n",
    "\n",
    "def min_operations(n):\n",
    "    mid = n // 2\n",
    "    return mid*(mid+1) if n&1 else mid*mid"
   ]
  },
  {
   "cell_type": "code",
   "execution_count": 5,
   "id": "edcfddc8",
   "metadata": {},
   "outputs": [
    {
     "data": {
      "text/plain": [
       "9"
      ]
     },
     "execution_count": 5,
     "metadata": {},
     "output_type": "execute_result"
    }
   ],
   "source": [
    "min_operations(6)"
   ]
  },
  {
   "cell_type": "code",
   "execution_count": null,
   "id": "164e3471",
   "metadata": {},
   "outputs": [],
   "source": []
  }
 ],
 "metadata": {
  "kernelspec": {
   "display_name": "Python 3",
   "language": "python",
   "name": "python3"
  },
  "language_info": {
   "codemirror_mode": {
    "name": "ipython",
    "version": 3
   },
   "file_extension": ".py",
   "mimetype": "text/x-python",
   "name": "python",
   "nbconvert_exporter": "python",
   "pygments_lexer": "ipython3",
   "version": "3.11.9"
  }
 },
 "nbformat": 4,
 "nbformat_minor": 5
}
