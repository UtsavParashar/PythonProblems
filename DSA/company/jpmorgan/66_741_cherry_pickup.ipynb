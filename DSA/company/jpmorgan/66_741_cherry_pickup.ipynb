{
 "cells": [
  {
   "cell_type": "markdown",
   "id": "e6ed5594",
   "metadata": {},
   "source": [
    "#### 741. Cherry Pickup\n",
    "\n",
    "* https://leetcode.com/problems/cherry-pickup/description/"
   ]
  },
  {
   "cell_type": "code",
   "execution_count": 6,
   "id": "ee64f2fb",
   "metadata": {},
   "outputs": [
    {
     "data": {
      "text/plain": [
       "13"
      ]
     },
     "execution_count": 6,
     "metadata": {},
     "output_type": "execute_result"
    }
   ],
   "source": [
    "from functools import lru_cache\n",
    "\n",
    "def cherry_pickup(grid):\n",
    "    n = len(grid)\n",
    "\n",
    "    @lru_cache(None)\n",
    "    def dp(r1, c1, r2):\n",
    "        c2 = r1+c1-r2 # # since t = r1 + c1 = r2 + c2\n",
    "\n",
    "        # boundary checks\n",
    "        if r1>=n or r2>=n or c1>=n or c2>=n or grid[r1][c1]==-1 or grid[r2][c2]==-1:\n",
    "            return float('-inf')\n",
    "\n",
    "        # if both reach bottom right\n",
    "        if r1==c1==r2==c2==n-1:\n",
    "            return grid[r1][c1]\n",
    "\n",
    "\n",
    "        #collect cherries\n",
    "        cherries = grid[r1][c1]\n",
    "        if (r1, c1) != (r2, c2):\n",
    "            cherries += grid[r2][c2]\n",
    "\n",
    "        \n",
    "        # Explore All move combinations\n",
    "        next_val = max(dp(r1+1, c1, r2+1), # both down\n",
    "                    dp(r1+1, c1, r2),   # P1 down, P2 right\n",
    "                    dp(r1, c1+1, r2+1),  # P1 right, P2 down\n",
    "                    dp(r1, c1+1, r2))  # both right\n",
    "\n",
    "\n",
    "        return cherries + next_val\n",
    "\n",
    "\n",
    "\n",
    "\n",
    "    res = dp(0,0,0)\n",
    "    return max(0, res)\n",
    "\n",
    "\n",
    "cherry_pickup([[1,1,1,1,1],[1,1,-1,1,1],[-1,-1,1,1,1],[1,1,1,1,1],[-1,1,1,1,1]]) # expected answer - 13"
   ]
  },
  {
   "cell_type": "code",
   "execution_count": null,
   "id": "11c44483",
   "metadata": {},
   "outputs": [],
   "source": []
  }
 ],
 "metadata": {
  "kernelspec": {
   "display_name": "Python 3",
   "language": "python",
   "name": "python3"
  },
  "language_info": {
   "codemirror_mode": {
    "name": "ipython",
    "version": 3
   },
   "file_extension": ".py",
   "mimetype": "text/x-python",
   "name": "python",
   "nbconvert_exporter": "python",
   "pygments_lexer": "ipython3",
   "version": "3.11.9"
  }
 },
 "nbformat": 4,
 "nbformat_minor": 5
}
