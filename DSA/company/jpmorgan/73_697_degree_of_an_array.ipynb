{
 "cells": [
  {
   "cell_type": "markdown",
   "id": "d73e03fc",
   "metadata": {},
   "source": [
    "#### 697. Degree of an Array\n",
    "\n",
    "* https://leetcode.com/problems/degree-of-an-array/description/"
   ]
  },
  {
   "cell_type": "code",
   "execution_count": 3,
   "id": "44fbce80",
   "metadata": {},
   "outputs": [
    {
     "data": {
      "text/plain": [
       "6"
      ]
     },
     "execution_count": 3,
     "metadata": {},
     "output_type": "execute_result"
    }
   ],
   "source": [
    "from collections import defaultdict\n",
    "\n",
    "def find_shortest_subarray(nums):\n",
    "    freq = defaultdict(int)\n",
    "    degree = defaultdict(list)\n",
    "\n",
    "    for i, num in enumerate(nums):\n",
    "        freq[num] += 1\n",
    "        degree[num].append(i)\n",
    "\n",
    "    max_freq = max(freq.values())\n",
    "\n",
    "    res = float('inf')\n",
    "    for k, v in freq.items():\n",
    "        if max_freq == v:\n",
    "            res = min(res, 1+degree[k][-1]-degree[k][0])\n",
    "\n",
    "    return res\n",
    "\n",
    "find_shortest_subarray(nums = [1,2,2,3,1,4,2])"
   ]
  },
  {
   "cell_type": "code",
   "execution_count": null,
   "id": "c92c009d",
   "metadata": {},
   "outputs": [],
   "source": [
    "def find_shortest_subarray(nums):\n",
    "    first, last, count = {}, {}, {}\n",
    "    for i, num in enumerate(nums):\n",
    "        if num not in first:\n",
    "            first[num] = i\n",
    "        last[num] = i\n",
    "        count[num] = count.get(num, 0) + 1\n",
    "\n",
    "    degree = max(count.values())\n",
    "    return min(last[num] - first[num] + 1 for num in count if count[num] == degree)\n",
    "\n",
    "find_shortest_subarray(nums = [1,2,2,3,1,4,2])\n"
   ]
  }
 ],
 "metadata": {
  "kernelspec": {
   "display_name": "Python 3",
   "language": "python",
   "name": "python3"
  },
  "language_info": {
   "codemirror_mode": {
    "name": "ipython",
    "version": 3
   },
   "file_extension": ".py",
   "mimetype": "text/x-python",
   "name": "python",
   "nbconvert_exporter": "python",
   "pygments_lexer": "ipython3",
   "version": "3.11.9"
  }
 },
 "nbformat": 4,
 "nbformat_minor": 5
}
