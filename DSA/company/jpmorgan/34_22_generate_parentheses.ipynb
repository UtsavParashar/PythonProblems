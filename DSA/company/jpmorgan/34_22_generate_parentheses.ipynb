{
 "cells": [
  {
   "cell_type": "markdown",
   "id": "8a79cc9a",
   "metadata": {},
   "source": [
    "#### 22. Generate Parentheses\n",
    "\n",
    "* https://leetcode.com/problems/generate-parentheses/description/"
   ]
  },
  {
   "cell_type": "code",
   "execution_count": 1,
   "id": "68d501ab",
   "metadata": {},
   "outputs": [
    {
     "data": {
      "text/plain": [
       "['((()))', '(()())', '(())()', '()(())', '()()()']"
      ]
     },
     "execution_count": 1,
     "metadata": {},
     "output_type": "execute_result"
    }
   ],
   "source": [
    "def generate_Parentheses(n):\n",
    "    sol, res = [], []\n",
    "\n",
    "    def backtrack(open , close):\n",
    "        if open == close == n:\n",
    "            res.append(''.join(sol))\n",
    "            return\n",
    "\n",
    "        if open < n:\n",
    "            sol.append('(')\n",
    "            backtrack(open+1, close)\n",
    "            sol.pop()\n",
    "\n",
    "        if close < open:\n",
    "            sol.append(')')\n",
    "            backtrack(open, close+1)\n",
    "            sol.pop()\n",
    "\n",
    "    backtrack(0, 0)\n",
    "\n",
    "    return res\n",
    "\n",
    "generate_Parentheses(3)\n"
   ]
  },
  {
   "cell_type": "code",
   "execution_count": null,
   "id": "e5ea4e6d",
   "metadata": {},
   "outputs": [],
   "source": []
  }
 ],
 "metadata": {
  "kernelspec": {
   "display_name": "Python 3",
   "language": "python",
   "name": "python3"
  },
  "language_info": {
   "codemirror_mode": {
    "name": "ipython",
    "version": 3
   },
   "file_extension": ".py",
   "mimetype": "text/x-python",
   "name": "python",
   "nbconvert_exporter": "python",
   "pygments_lexer": "ipython3",
   "version": "3.11.9"
  }
 },
 "nbformat": 4,
 "nbformat_minor": 5
}
