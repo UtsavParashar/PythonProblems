{
 "cells": [
  {
   "cell_type": "markdown",
   "id": "2cb98698",
   "metadata": {},
   "source": [
    "#### 2696. Min Str Len After Removing Substr\n",
    "\n",
    "* https://leetcode.com/problems/minimum-string-length-after-removing-substrings/"
   ]
  },
  {
   "cell_type": "code",
   "execution_count": 10,
   "id": "5843c651",
   "metadata": {},
   "outputs": [
    {
     "data": {
      "text/plain": [
       "2"
      ]
     },
     "execution_count": 10,
     "metadata": {},
     "output_type": "execute_result"
    }
   ],
   "source": [
    "# Credit\n",
    "\n",
    "def min_len(s):\n",
    "    if not s:\n",
    "        return \n",
    "    stack = []\n",
    "    for i in range(len(s)):\n",
    "        stack.append(s[i])\n",
    "        if (len(stack) > 1) and ((stack[-2] == 'A' and stack[-1] == 'B') or (stack[-2] == 'C' and stack[-1] == 'D')):\n",
    "            stack.pop()\n",
    "            stack.pop()\n",
    "\n",
    "    return len(stack)\n",
    "\n",
    "min_len(s = \"ABFCACDB\")\n"
   ]
  },
  {
   "cell_type": "code",
   "execution_count": 11,
   "id": "e430a288",
   "metadata": {},
   "outputs": [
    {
     "data": {
      "text/plain": [
       "2"
      ]
     },
     "execution_count": 11,
     "metadata": {},
     "output_type": "execute_result"
    }
   ],
   "source": [
    "# Optimized\n",
    "\n",
    "def min_len(s):\n",
    "    stack = []\n",
    "    for c in s:\n",
    "        if stack and ((stack[-1], c) in {('A', 'B'), ('C', 'D')}):\n",
    "            stack.pop()\n",
    "        else:\n",
    "            stack.append(c)\n",
    "    return len(stack)\n",
    "\n",
    "min_len(\"ABFCACDB\")\n"
   ]
  },
  {
   "cell_type": "code",
   "execution_count": null,
   "id": "6212820d",
   "metadata": {},
   "outputs": [
    {
     "data": {
      "text/plain": [
       "set"
      ]
     },
     "execution_count": 9,
     "metadata": {},
     "output_type": "execute_result"
    }
   ],
   "source": []
  },
  {
   "cell_type": "code",
   "execution_count": null,
   "id": "e85f6bf8",
   "metadata": {},
   "outputs": [],
   "source": []
  }
 ],
 "metadata": {
  "kernelspec": {
   "display_name": "Python 3",
   "language": "python",
   "name": "python3"
  },
  "language_info": {
   "codemirror_mode": {
    "name": "ipython",
    "version": 3
   },
   "file_extension": ".py",
   "mimetype": "text/x-python",
   "name": "python",
   "nbconvert_exporter": "python",
   "pygments_lexer": "ipython3",
   "version": "3.11.9"
  }
 },
 "nbformat": 4,
 "nbformat_minor": 5
}
