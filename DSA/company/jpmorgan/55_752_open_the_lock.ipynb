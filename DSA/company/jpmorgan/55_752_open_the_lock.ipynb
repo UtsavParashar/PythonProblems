{
 "cells": [
  {
   "cell_type": "markdown",
   "id": "d5a3fb03",
   "metadata": {},
   "source": [
    "#### 752. Open the Lock\n",
    "\n",
    "* http://leetcode.com/problems/open-the-lock/description/"
   ]
  },
  {
   "cell_type": "code",
   "execution_count": 10,
   "id": "c8e97f3a",
   "metadata": {},
   "outputs": [
    {
     "data": {
      "text/plain": [
       "6"
      ]
     },
     "execution_count": 10,
     "metadata": {},
     "output_type": "execute_result"
    }
   ],
   "source": [
    "# Credit - https://www.youtube.com/watch?v=Pzg3bCDY87w\n",
    "# BFS\n",
    "\n",
    "from collections import deque\n",
    "def open_lock(deadends, target):\n",
    "    if target == '0000': return 0\n",
    "    if '0000' in deadends: return -1\n",
    "    \n",
    "    visited = set(deadends)\n",
    "\n",
    "    q = deque([('0000', 0)]) # key, level\n",
    "\n",
    "    def children(key):\n",
    "        for i in range(4):\n",
    "            x = int(key[i])\n",
    "            for diff in [1, -1]:\n",
    "                yield key[:i] + str((x+diff)%10) + key[i+1:] # 9%10 = 9 and -1%10==9\n",
    "    \n",
    "    while q:\n",
    "        key, level = q.popleft()\n",
    "        if key == target:\n",
    "            return level\n",
    "        for child in children(key):\n",
    "            if child not in visited:\n",
    "                visited.add(child)\n",
    "                q.append((child, level + 1))\n",
    "\n",
    "    return -1\n",
    "\n",
    "open_lock(deadends = [\"0201\",\"0101\",\"0102\",\"1212\",\"2002\"], target = \"0202\")\n"
   ]
  },
  {
   "cell_type": "markdown",
   "id": "cfcaab9f",
   "metadata": {},
   "source": [
    "#### Why is key == target checked outside the for child in children(key) loop, and not as if child == target inside the loop?\n",
    "\n",
    "- Ans - It works and would return one step earlier, but:\n",
    "\n",
    "You’d be checking the target multiple times (once for every generated child),\n",
    "\n",
    "You’d have to adjust logic carefully to account for level + 1 (since you're one step away),\n",
    "\n",
    "And you’d mix state generation with goal checking, which is less clean in BFS.\n",
    "\n",
    "##### ✅ Best Practice in BFS\n",
    "Check the target when you pop from the queue, not when you push to it:\n",
    "\n",
    "It aligns better with level tracking (level is exact when you dequeue).\n",
    "\n",
    "It avoids premature checks and keeps logic clean.\n",
    "\n",
    "\n",
    "##### 📌 TL;DR\n",
    "Question\tAnswer\n",
    "Why check key == target outside the loop?\tBecause it’s the cleanest and most accurate place to check in BFS — you’re guaranteed shortest path here.\n",
    "Why not check child == target inside?\tYou could, but it's unnecessary, may add complexity, and breaks BFS convention of checking on dequeue.\n",
    "\n"
   ]
  },
  {
   "cell_type": "code",
   "execution_count": null,
   "id": "b48c9e05",
   "metadata": {},
   "outputs": [],
   "source": []
  }
 ],
 "metadata": {
  "kernelspec": {
   "display_name": "Python 3",
   "language": "python",
   "name": "python3"
  },
  "language_info": {
   "codemirror_mode": {
    "name": "ipython",
    "version": 3
   },
   "file_extension": ".py",
   "mimetype": "text/x-python",
   "name": "python",
   "nbconvert_exporter": "python",
   "pygments_lexer": "ipython3",
   "version": "3.11.9"
  }
 },
 "nbformat": 4,
 "nbformat_minor": 5
}
