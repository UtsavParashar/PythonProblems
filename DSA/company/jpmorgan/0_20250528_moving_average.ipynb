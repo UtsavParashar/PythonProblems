{
 "cells": [
  {
   "cell_type": "markdown",
   "id": "ac8db250",
   "metadata": {},
   "source": [
    "#### Lead Software Engineer - Python - Risk Engineering\n",
    "\n",
    "Job Identification\n",
    "210603667\n",
    "Job Category\n",
    "Software Engineering\n",
    "Business Unit\n",
    "Commercial & Investment Bank\n",
    "Posting Date\n",
    "04/08/2025, 07:04 PM\n",
    "Locations\n",
    " LONDON, LONDON, United Kingdom\n",
    "Job Schedule\n",
    "Full time\n",
    "Job Description\n",
    "We have an opportunity to impact your career and provide an adventure where you can push the limits of what's possible.\n",
    "\n",
    "As a Lead Software Engineer at JPMorgan Chase within Athena Core Team, you are an integral part of an agile team that works to enhance, build, and deliver trusted market-leading technology products in a secure, stable, and scalable way. As a core technical contributor, you are responsible for conducting critical technology solutions across multiple technical areas within various business functions in support of the firm’s business objectives.\n",
    "\n",
    "Job responsibilities\n",
    "\n",
    "Executes creative software solutions, design, development, and technical troubleshooting with ability to think beyond routine or conventional approaches to build solutions or break down technical problems\n",
    "Develops secure high-quality production code, and reviews and debugs code written by others\n",
    "Identifies opportunities to eliminate or automate remediation of recurring issues to improve overall operational stability of software applications and systems\n",
    "Leads evaluation sessions with external vendors, startups, and internal teams to drive outcomes-oriented probing of architectural designs, technical credentials, and applicability for use within existing systems and information architecture\n",
    "Leads communities of practice across Software Engineering to drive awareness and use of new and leading-edge technologies\n",
    "Adds to team culture of diversity, equity, inclusion, and respect\n",
    "Required qualifications, capabilities, and skills\n",
    "\n",
    "Formal training or certification on Computer Science concepts and proficient advanced experience. \n",
    "Hands-on practical experience delivering system design, application development, testing, and operational stability\n",
    "Understanding of cross-asset/cross-business platforms\n",
    "Understanding of distributed frameworks\n",
    "Solid knowledge of Python\n",
    "Proficiency in automation and continuous delivery methods\n",
    "Proficiency in all aspects of the Software Development Life Cycle\n",
    "Advanced understanding of agile methodologies such as CI/CD, Application Resiliency, and Security\n",
    "Proficiency in software applications and technical processes within a technical discipline (e.g., cloud, artificial intelligence, machine learning, mobile, etc.)\n",
    "Preferred qualifications, capabilities, and skills\n",
    "In-depth knowledge of the financial services industry and their IT systems\n",
    "Practical cloud native experience"
   ]
  },
  {
   "cell_type": "code",
   "execution_count": 1,
   "id": "06f1ae4a",
   "metadata": {},
   "outputs": [],
   "source": [
    "class MovingAverage:\n",
    "    def __init__(self, sliding_window):\n",
    "        self.sliding_window = sliding_window\n",
    "        self.px_list = []\n",
    "        self.curr_sum = 0.0\n",
    "\n",
    "    def get_moving_average(self, px: float):\n",
    "        self.px_list.append(px)\n",
    "        self.curr_sum += px\n",
    "\n",
    "        if len(self.px_list) > self.sliding_window:\n",
    "            self.curr_sum -= self.px_list.pop(0)\n",
    "\n",
    "        if len(self.px_list) < self.sliding_window:\n",
    "            return None\n",
    "        return self.curr_sum / self.sliding_window"
   ]
  },
  {
   "cell_type": "code",
   "execution_count": 2,
   "id": "07d9578b",
   "metadata": {},
   "outputs": [],
   "source": [
    "class MovingAverage:\n",
    "    def __init__(self, sliding_window):\n",
    "        self.sliding_window = sliding_window\n",
    "        self.px_list = []\n",
    "        self.curr_sum = 0\n",
    "    \n",
    "    def get_moving_average(self, px: float):\n",
    "        if len(self.px_list) < self.sliding_window:\n",
    "            self.px_list.append(px) # 1, 2\n",
    "            self.curr_sum += px # 3\n",
    "            if len(self.px_list)<self.sliding_window:\n",
    "                return None\n",
    "            else:\n",
    "                return self.curr_sum/self.sliding_window\n",
    "        \n",
    "        remove = self.px_list.pop(0)\n",
    "        self.curr_sum = self.curr_sum - remove + px\n",
    "        self.px_list.append(px)\n",
    "        \n",
    "        return self.curr_sum/self.sliding_window"
   ]
  },
  {
   "cell_type": "code",
   "execution_count": 3,
   "id": "c39f3107",
   "metadata": {},
   "outputs": [
    {
     "data": {
      "text/plain": [
       "3.5"
      ]
     },
     "execution_count": 3,
     "metadata": {},
     "output_type": "execute_result"
    }
   ],
   "source": [
    "mavg = MovingAverage(2)\n",
    "mavg.get_moving_average(1)\n",
    "mavg.get_moving_average(2)\n",
    "mavg.get_moving_average(3)\n",
    "mavg.get_moving_average(4)"
   ]
  },
  {
   "cell_type": "code",
   "execution_count": null,
   "id": "b8736ef5",
   "metadata": {},
   "outputs": [],
   "source": []
  }
 ],
 "metadata": {
  "kernelspec": {
   "display_name": "Python 3",
   "language": "python",
   "name": "python3"
  },
  "language_info": {
   "codemirror_mode": {
    "name": "ipython",
    "version": 3
   },
   "file_extension": ".py",
   "mimetype": "text/x-python",
   "name": "python",
   "nbconvert_exporter": "python",
   "pygments_lexer": "ipython3",
   "version": "3.11.9"
  }
 },
 "nbformat": 4,
 "nbformat_minor": 5
}
