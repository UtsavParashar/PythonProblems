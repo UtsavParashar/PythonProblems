{
 "cells": [
  {
   "cell_type": "markdown",
   "id": "deae87b2",
   "metadata": {},
   "source": [
    "#### 20. Valid Parentheses\n",
    "\n",
    "* https://leetcode.com/problems/valid-parentheses/description/"
   ]
  },
  {
   "cell_type": "code",
   "execution_count": null,
   "id": "9ca0096f",
   "metadata": {},
   "outputs": [],
   "source": [
    "def is_valid(s):\n",
    "    hm = {')': '(', '}': '{', ']': '['}\n",
    "    stack = []\n",
    "\n",
    "    for c in s:\n",
    "        if c not in hm:\n",
    "            stack.append(c)\n",
    "        elif not stack or stack.pop() != hm[c]:\n",
    "            return False\n",
    "\n",
    "    return not stack\n",
    "\n"
   ]
  },
  {
   "cell_type": "code",
   "execution_count": 6,
   "id": "633d09bb",
   "metadata": {},
   "outputs": [
    {
     "data": {
      "text/plain": [
       "True"
      ]
     },
     "execution_count": 6,
     "metadata": {},
     "output_type": "execute_result"
    }
   ],
   "source": [
    "is_valid(s = \"([])\")"
   ]
  },
  {
   "cell_type": "code",
   "execution_count": null,
   "id": "89811d54",
   "metadata": {},
   "outputs": [],
   "source": [
    "def is_valid(s):\n",
    "    stack = []\n",
    "    pairs = {'(': ')', '{': '}', '[': ']'}\n",
    "    for c in s:\n",
    "        if c in pairs:\n",
    "            stack.append(c)\n",
    "        elif not stack or pairs[stack.pop()] != c:\n",
    "            return False\n",
    "    return not stack\n"
   ]
  }
 ],
 "metadata": {
  "kernelspec": {
   "display_name": "Python 3",
   "language": "python",
   "name": "python3"
  },
  "language_info": {
   "codemirror_mode": {
    "name": "ipython",
    "version": 3
   },
   "file_extension": ".py",
   "mimetype": "text/x-python",
   "name": "python",
   "nbconvert_exporter": "python",
   "pygments_lexer": "ipython3",
   "version": "3.11.9"
  }
 },
 "nbformat": 4,
 "nbformat_minor": 5
}
