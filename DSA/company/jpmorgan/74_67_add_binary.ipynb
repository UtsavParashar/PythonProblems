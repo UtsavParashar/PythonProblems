{
 "cells": [
  {
   "cell_type": "markdown",
   "id": "11587eb4",
   "metadata": {},
   "source": [
    "#### 67. Add Binary\n",
    "\n",
    "* https://leetcode.com/problems/add-binary/description/"
   ]
  },
  {
   "cell_type": "code",
   "execution_count": 13,
   "id": "fdb5a485",
   "metadata": {},
   "outputs": [
    {
     "data": {
      "text/plain": [
       "'100'"
      ]
     },
     "execution_count": 13,
     "metadata": {},
     "output_type": "execute_result"
    }
   ],
   "source": [
    "# https://www.youtube.com/watch?v=keuWJ47xG8g\n",
    "\n",
    "def add_binary(a, b):\n",
    "    a, b = a[::-1], b[::-1]\n",
    "\n",
    "    carry = 0\n",
    "    res = ''\n",
    "    for i in range(max(len(a), len(b))):\n",
    "        x = a[i] if i < len(a) else 0\n",
    "        y = b[i] if i < len(b) else 0\n",
    "        total = int(x) + int(y) + carry\n",
    "        char = str(total % 2)\n",
    "        res = char + res\n",
    "        carry = total // 2\n",
    "    \n",
    "    return '1'+res if carry else res\n",
    "\n",
    "\n",
    "add_binary(a = \"11\", b = \"1\")"
   ]
  },
  {
   "cell_type": "code",
   "execution_count": 14,
   "id": "90a44462",
   "metadata": {},
   "outputs": [
    {
     "data": {
      "text/plain": [
       "'1110'"
      ]
     },
     "execution_count": 14,
     "metadata": {},
     "output_type": "execute_result"
    }
   ],
   "source": [
    "def add_binary(a, b):\n",
    "    return bin(int(a, 2) + int(b, 2))[2:]\n",
    "\n",
    "add_binary(a=\"1101\", b=\"1\")\n"
   ]
  },
  {
   "cell_type": "code",
   "execution_count": 12,
   "id": "2fcac71b",
   "metadata": {},
   "outputs": [
    {
     "data": {
      "text/plain": [
       "'0b1110'"
      ]
     },
     "execution_count": 12,
     "metadata": {},
     "output_type": "execute_result"
    }
   ],
   "source": [
    "bin(int('1101', 2) + int('1', 2))"
   ]
  },
  {
   "cell_type": "code",
   "execution_count": null,
   "id": "323cff5e",
   "metadata": {},
   "outputs": [],
   "source": []
  }
 ],
 "metadata": {
  "kernelspec": {
   "display_name": "Python 3",
   "language": "python",
   "name": "python3"
  },
  "language_info": {
   "codemirror_mode": {
    "name": "ipython",
    "version": 3
   },
   "file_extension": ".py",
   "mimetype": "text/x-python",
   "name": "python",
   "nbconvert_exporter": "python",
   "pygments_lexer": "ipython3",
   "version": "3.11.9"
  }
 },
 "nbformat": 4,
 "nbformat_minor": 5
}
