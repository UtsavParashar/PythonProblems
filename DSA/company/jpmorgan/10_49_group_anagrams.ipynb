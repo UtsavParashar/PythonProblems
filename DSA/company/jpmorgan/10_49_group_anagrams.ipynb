{
 "cells": [
  {
   "cell_type": "markdown",
   "id": "3fc81e7b",
   "metadata": {},
   "source": [
    "#### 49. Group Anagrams\n",
    "\n",
    "* https://leetcode.com/problems/group-anagrams/description/"
   ]
  },
  {
   "cell_type": "code",
   "execution_count": 7,
   "id": "3c1221f7",
   "metadata": {},
   "outputs": [
    {
     "data": {
      "text/plain": [
       "[['']]"
      ]
     },
     "execution_count": 7,
     "metadata": {},
     "output_type": "execute_result"
    }
   ],
   "source": [
    "from collections import defaultdict\n",
    "def group_anagrams(strs):\n",
    "    anagrams = defaultdict(list)\n",
    "\n",
    "    for val in strs:\n",
    "        sval = tuple(sorted(val))\n",
    "        anagrams[sval].append(val)\n",
    "\n",
    "    return list(anagrams.values())\n",
    "\n",
    "\n",
    "group_anagrams(strs = [\"\"])\n",
    "\n",
    "\n",
    "    "
   ]
  },
  {
   "cell_type": "code",
   "execution_count": null,
   "id": "49c3e368",
   "metadata": {},
   "outputs": [],
   "source": []
  }
 ],
 "metadata": {
  "kernelspec": {
   "display_name": "Python 3",
   "language": "python",
   "name": "python3"
  },
  "language_info": {
   "codemirror_mode": {
    "name": "ipython",
    "version": 3
   },
   "file_extension": ".py",
   "mimetype": "text/x-python",
   "name": "python",
   "nbconvert_exporter": "python",
   "pygments_lexer": "ipython3",
   "version": "3.11.9"
  }
 },
 "nbformat": 4,
 "nbformat_minor": 5
}
