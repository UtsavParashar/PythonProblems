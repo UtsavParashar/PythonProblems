{
 "cells": [
  {
   "cell_type": "markdown",
   "id": "44000ae2",
   "metadata": {},
   "source": [
    "#### 1010. Pairs of Songs With Total Durations Divisible by 60\n",
    "\n",
    "* https://leetcode.com/problems/pairs-of-songs-with-total-durations-divisible-by-60/description/"
   ]
  },
  {
   "cell_type": "code",
   "execution_count": null,
   "id": "fc0e8d03",
   "metadata": {},
   "outputs": [
    {
     "data": {
      "text/plain": [
       "3"
      ]
     },
     "execution_count": 6,
     "metadata": {},
     "output_type": "execute_result"
    }
   ],
   "source": [
    "# credit - https://www.youtube.com/watch?v=Nm17fNO3gXU\n",
    "\n",
    "# Logic - get remainder times\n",
    "# if sum of remainder times is divisible by 60 then pair is divisible by 60\n",
    "# remainder would lie in the region of 0 to 59\n",
    "# with the edge case on 0 and 30 as pair of 0,0 forms one pair, similar is the case with 30\n",
    "# counter should be till 30 to avoid double counting of the pair like 20, 40 and 40, 20 i.e n*n-1/2\n",
    "# if 20 is twice and 40 is once then pair would be 2C1 and 1C1 which is 2*1 = 2 as mC1 and nC1 = m*n\n",
    "\n",
    "\n",
    "from collections import Counter\n",
    "def num_pairs_by_60(time):\n",
    "    rem_time_freq = Counter([t%60 for t in time])\n",
    "    pairs = 0\n",
    "\n",
    "    for rem in rem_time_freq:\n",
    "        if rem == 0 or rem == 30:\n",
    "            pairs += (rem_time_freq[rem]*(rem_time_freq[rem]-1))//2\n",
    "        if 0 < rem < 30:\n",
    "            if (residual:=60-rem) in rem_time_freq:\n",
    "                pairs += rem_time_freq[rem]*rem_time_freq[residual]\n",
    "\n",
    "    return pairs\n",
    "\n",
    "num_pairs_by_60([60,60,60])\n",
    "\n",
    "    "
   ]
  },
  {
   "cell_type": "code",
   "execution_count": null,
   "id": "718677e2",
   "metadata": {},
   "outputs": [],
   "source": []
  }
 ],
 "metadata": {
  "kernelspec": {
   "display_name": "Python 3",
   "language": "python",
   "name": "python3"
  },
  "language_info": {
   "codemirror_mode": {
    "name": "ipython",
    "version": 3
   },
   "file_extension": ".py",
   "mimetype": "text/x-python",
   "name": "python",
   "nbconvert_exporter": "python",
   "pygments_lexer": "ipython3",
   "version": "3.11.9"
  }
 },
 "nbformat": 4,
 "nbformat_minor": 5
}
