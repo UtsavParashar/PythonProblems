{
 "cells": [
  {
   "cell_type": "markdown",
   "id": "12b435bf",
   "metadata": {},
   "source": [
    "#### 206. Reverse Linked List\n",
    "\n",
    "* https://leetcode.com/problems/reverse-linked-list/description/"
   ]
  },
  {
   "cell_type": "code",
   "execution_count": null,
   "id": "98a14151",
   "metadata": {},
   "outputs": [],
   "source": [
    "# Logic - have 3 pointers\n",
    "# prev = None\n",
    "# next_node = curr.next\n",
    "# curr.next = prev\n",
    "# prev = curr\n",
    "# curr = next_node\n",
    "\n",
    "\n",
    "class ListNode:\n",
    "    def __init__(self, val=0, next=None):\n",
    "        self.val = val\n",
    "        self.next = next\n",
    "\n",
    "def reverse_list(head):\n",
    "    curr = head\n",
    "    prev = None\n",
    "\n",
    "    while curr:\n",
    "        next_node = curr.next\n",
    "        curr.next = prev\n",
    "        prev = curr\n",
    "        curr = next_node\n",
    "\n",
    "    return prev"
   ]
  }
 ],
 "metadata": {
  "language_info": {
   "name": "python"
  }
 },
 "nbformat": 4,
 "nbformat_minor": 5
}
