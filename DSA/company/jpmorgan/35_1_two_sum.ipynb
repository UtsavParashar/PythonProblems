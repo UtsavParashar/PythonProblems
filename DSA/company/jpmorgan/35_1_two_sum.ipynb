{
 "cells": [
  {
   "cell_type": "markdown",
   "id": "59247c82",
   "metadata": {},
   "source": [
    "### 1. Two Sum\n",
    "\n",
    "* https://leetcode.com/problems/two-sum/description/"
   ]
  },
  {
   "cell_type": "code",
   "execution_count": 10,
   "id": "77c7c576",
   "metadata": {},
   "outputs": [
    {
     "data": {
      "text/plain": [
       "[1, 2]"
      ]
     },
     "execution_count": 10,
     "metadata": {},
     "output_type": "execute_result"
    }
   ],
   "source": [
    "def two_sum(nums, target):\n",
    "    nums_dict = {}\n",
    "\n",
    "    for i, num in enumerate(nums):\n",
    "        if (diff:=target-num) in nums_dict:\n",
    "            return[nums_dict[diff], i]\n",
    "        nums_dict[num] =  i\n",
    "\n",
    "two_sum(nums = [3,2,4], target = 6)"
   ]
  },
  {
   "cell_type": "code",
   "execution_count": null,
   "id": "f9bce57d",
   "metadata": {},
   "outputs": [],
   "source": []
  }
 ],
 "metadata": {
  "kernelspec": {
   "display_name": "Python 3",
   "language": "python",
   "name": "python3"
  },
  "language_info": {
   "codemirror_mode": {
    "name": "ipython",
    "version": 3
   },
   "file_extension": ".py",
   "mimetype": "text/x-python",
   "name": "python",
   "nbconvert_exporter": "python",
   "pygments_lexer": "ipython3",
   "version": "3.11.9"
  }
 },
 "nbformat": 4,
 "nbformat_minor": 5
}
