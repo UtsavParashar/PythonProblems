{
 "cells": [
  {
   "cell_type": "markdown",
   "id": "1590df89",
   "metadata": {},
   "source": [
    "#### 1464. Max Product of Two Elements in an Array\n",
    "\n",
    "* https://leetcode.com/problems/maximum-product-of-two-elements-in-an-array/description/"
   ]
  },
  {
   "cell_type": "code",
   "execution_count": 13,
   "id": "c81a5263",
   "metadata": {},
   "outputs": [],
   "source": [
    "def max_product(nums):\n",
    "    max_, second_max = 0, 0\n",
    "\n",
    "    for num in nums:\n",
    "        if num >= max_:\n",
    "            second_max = max_\n",
    "            max_ = num\n",
    "        elif num > second_max:\n",
    "            second_max = num\n",
    "\n",
    "    return (max_ - 1)*(second_max-1)\n",
    "\n",
    "\n",
    "        "
   ]
  },
  {
   "cell_type": "code",
   "execution_count": 14,
   "id": "15474cdd",
   "metadata": {},
   "outputs": [
    {
     "name": "stdout",
     "output_type": "stream",
     "text": [
      "202 ns ± 13.4 ns per loop (mean ± std. dev. of 7 runs, 1,000,000 loops each)\n"
     ]
    }
   ],
   "source": [
    "%%timeit\n",
    "\n",
    "max_product(nums = [3,4,5,2])"
   ]
  },
  {
   "cell_type": "code",
   "execution_count": 15,
   "id": "4daedc56",
   "metadata": {},
   "outputs": [],
   "source": [
    "def max_productII(nums):\n",
    "    first = max(nums)\n",
    "    nums.remove(first)\n",
    "    second = max(nums)\n",
    "    return (first - 1) * (second - 1)\n",
    "\n",
    "\n"
   ]
  },
  {
   "cell_type": "code",
   "execution_count": 17,
   "id": "7e0d31b7",
   "metadata": {},
   "outputs": [
    {
     "name": "stdout",
     "output_type": "stream",
     "text": [
      "285 ns ± 5.97 ns per loop (mean ± std. dev. of 7 runs, 1,000,000 loops each)\n"
     ]
    }
   ],
   "source": [
    "%%timeit\n",
    "\n",
    "max_productII(nums = [3,4,5,2])"
   ]
  },
  {
   "cell_type": "code",
   "execution_count": null,
   "id": "c903492b",
   "metadata": {},
   "outputs": [],
   "source": []
  }
 ],
 "metadata": {
  "kernelspec": {
   "display_name": "Python 3",
   "language": "python",
   "name": "python3"
  },
  "language_info": {
   "codemirror_mode": {
    "name": "ipython",
    "version": 3
   },
   "file_extension": ".py",
   "mimetype": "text/x-python",
   "name": "python",
   "nbconvert_exporter": "python",
   "pygments_lexer": "ipython3",
   "version": "3.11.9"
  }
 },
 "nbformat": 4,
 "nbformat_minor": 5
}
