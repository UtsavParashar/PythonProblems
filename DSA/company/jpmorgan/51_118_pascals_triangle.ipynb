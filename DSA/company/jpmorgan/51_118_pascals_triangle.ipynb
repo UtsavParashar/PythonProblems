{
 "cells": [
  {
   "cell_type": "markdown",
   "id": "9d42d147",
   "metadata": {},
   "source": [
    "#### https://leetcode.com/problems/pascals-triangle\n",
    "\n",
    "* https://leetcode.com/problems/pascals-triangle/description/"
   ]
  },
  {
   "cell_type": "code",
   "execution_count": 3,
   "id": "05352a33",
   "metadata": {},
   "outputs": [
    {
     "data": {
      "text/plain": [
       "[[1], [1, 1], [1, 2, 1], [1, 3, 3, 1], [1, 4, 6, 4, 1]]"
      ]
     },
     "execution_count": 3,
     "metadata": {},
     "output_type": "execute_result"
    }
   ],
   "source": [
    "# Credit - https://www.youtube.com/watch?v=nPVEaB3AjUM\n",
    "\n",
    "def generate(num_rows):\n",
    "    if not num_rows:\n",
    "        return 0\n",
    "    res = [[1]]\n",
    "\n",
    "    for _ in range(num_rows-1):\n",
    "        curr = [0] + res[-1] + [0]\n",
    "        sol = []\n",
    "        for j in range(1, len(curr)):\n",
    "            sol.append(curr[j]+curr[j-1])\n",
    "        res.append(sol)\n",
    "\n",
    "    return res\n",
    "\n",
    "generate(5)\n"
   ]
  },
  {
   "cell_type": "code",
   "execution_count": null,
   "id": "cc6da263",
   "metadata": {},
   "outputs": [],
   "source": [
    "def generate(num_rows):\n",
    "    res = []\n",
    "    for i in range(num_rows):\n",
    "        row = [1] * (i + 1)\n",
    "        for j in range(1, i):\n",
    "            row[j] = res[i-1][j-1] + res[i-1][j]\n",
    "        res.append(row)\n",
    "    return res\n",
    "\n",
    "generate(5)\n"
   ]
  }
 ],
 "metadata": {
  "kernelspec": {
   "display_name": "Python 3",
   "language": "python",
   "name": "python3"
  },
  "language_info": {
   "codemirror_mode": {
    "name": "ipython",
    "version": 3
   },
   "file_extension": ".py",
   "mimetype": "text/x-python",
   "name": "python",
   "nbconvert_exporter": "python",
   "pygments_lexer": "ipython3",
   "version": "3.11.9"
  }
 },
 "nbformat": 4,
 "nbformat_minor": 5
}
