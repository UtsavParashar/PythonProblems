{
 "cells": [
  {
   "cell_type": "markdown",
   "id": "2e1bfd0e",
   "metadata": {},
   "source": [
    "#### 322. Coin Change\n",
    "\n",
    "* https://leetcode.com/problems/coin-change/description/"
   ]
  },
  {
   "cell_type": "code",
   "execution_count": null,
   "id": "af1b680d",
   "metadata": {},
   "outputs": [],
   "source": [
    "\n",
    "# optimized - https://www.youtube.com/watch?v=koE9ly1CFDc\n",
    "# Bottom up - tabulation\n",
    "\n",
    "\n",
    "import math\n",
    "\n",
    "def coin_change(coins, amount):\n",
    "    coins.sort()\n",
    "    dp = [0]*(amount+1)\n",
    "\n",
    "    for i in range(1, len(dp)):\n",
    "        min_coins = math.inf\n",
    "\n",
    "        for coin in coins:\n",
    "            diff = i - coin\n",
    "            if diff < 0:\n",
    "                break\n",
    "\n",
    "            min_coins = min(min_coins,1+dp[diff])\n",
    "        dp[i] = min_coins\n",
    "\n",
    "    \n",
    "    return dp[amount] if dp[amount] < math.inf else -1\n",
    "\n",
    "\n"
   ]
  },
  {
   "cell_type": "code",
   "execution_count": null,
   "id": "a41df83d",
   "metadata": {},
   "outputs": [],
   "source": [
    "def coin_change(coins, amount):\n",
    "    dp = [float('inf')] * (amount + 1)\n",
    "    dp[0] = 0\n",
    "\n",
    "    for coin in coins:\n",
    "        for x in range(coin, amount + 1):\n",
    "            dp[x] = min(dp[x], dp[x - coin] + 1)\n",
    "\n",
    "    return dp[amount] if dp[amount] != float('inf') else -1\n"
   ]
  },
  {
   "cell_type": "code",
   "execution_count": 20,
   "id": "e9bb2f28",
   "metadata": {},
   "outputs": [
    {
     "data": {
      "text/plain": [
       "3"
      ]
     },
     "execution_count": 20,
     "metadata": {},
     "output_type": "execute_result"
    }
   ],
   "source": [
    "coin_change(coins = [1,2,5], amount = 11)\n"
   ]
  },
  {
   "cell_type": "code",
   "execution_count": null,
   "id": "6092ad45",
   "metadata": {},
   "outputs": [],
   "source": []
  },
  {
   "cell_type": "code",
   "execution_count": null,
   "id": "67bab332",
   "metadata": {},
   "outputs": [],
   "source": []
  },
  {
   "cell_type": "code",
   "execution_count": null,
   "id": "eeb064bb",
   "metadata": {},
   "outputs": [],
   "source": []
  },
  {
   "cell_type": "code",
   "execution_count": null,
   "id": "0cabf163",
   "metadata": {},
   "outputs": [
    {
     "name": "stdout",
     "output_type": "stream",
     "text": [
      "inf\n"
     ]
    },
    {
     "data": {
      "text/plain": [
       "-1"
      ]
     },
     "execution_count": 11,
     "metadata": {},
     "output_type": "execute_result"
    }
   ],
   "source": [
    "from functools import lru_cache\n",
    "import math\n",
    "# Top Down - Memoization\n",
    "def coin_change(coins, amount):\n",
    "    coins.sort()\n",
    "    memo = {0:0}\n",
    "    def dp(amt):\n",
    "        if amt in memo:\n",
    "            return memo[amt]\n",
    "        \n",
    "        min_coins = math.inf\n",
    "\n",
    "        for coin in coins:\n",
    "            diff = amt - coin\n",
    "            if diff < 0:\n",
    "                break\n",
    "\n",
    "            min_coins = min(min_coins, 1+dp(diff))\n",
    "        \n",
    "        memo[amt] = min_coins\n",
    "        return min_coins\n",
    "    \n",
    "    res = dp(amount)\n",
    "    return res if res < math.inf else -1\n",
    "\n",
    "coin_change([2], 3)\n"
   ]
  },
  {
   "cell_type": "code",
   "execution_count": null,
   "id": "43ac4a98",
   "metadata": {},
   "outputs": [],
   "source": [
    "import math\n",
    "from functools import lru_cache\n",
    "\n",
    "# Top Down - Memoization using lru_cache\n",
    "def coin_change(coins, amount):\n",
    "    coins.sort()\n",
    "\n",
    "    @lru_cache(maxsize=None)\n",
    "    def dp(amt):\n",
    "        if amt == 0:\n",
    "            return 0\n",
    "        if amt < 0:\n",
    "            return math.inf\n",
    "        \n",
    "        min_coins = math.inf\n",
    "        for coin in coins:\n",
    "            min_coins = min(min_coins, 1 + dp(amt - coin))\n",
    "        return min_coins\n",
    "\n",
    "    res = dp(amount)\n",
    "    return res if res < math.inf else -1\n",
    "\n",
    "coin_change([2], 3)\n"
   ]
  }
 ],
 "metadata": {
  "kernelspec": {
   "display_name": "Python 3",
   "language": "python",
   "name": "python3"
  },
  "language_info": {
   "codemirror_mode": {
    "name": "ipython",
    "version": 3
   },
   "file_extension": ".py",
   "mimetype": "text/x-python",
   "name": "python",
   "nbconvert_exporter": "python",
   "pygments_lexer": "ipython3",
   "version": "3.11.9"
  }
 },
 "nbformat": 4,
 "nbformat_minor": 5
}
