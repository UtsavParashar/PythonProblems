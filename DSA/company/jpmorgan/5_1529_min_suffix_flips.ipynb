{
 "cells": [
  {
   "cell_type": "markdown",
   "id": "a22de1ac",
   "metadata": {},
   "source": [
    "### 1529. Minimum Suffix Flips\n",
    "\n",
    "* https://leetcode.com/problems/minimum-suffix-flips/description/"
   ]
  },
  {
   "cell_type": "code",
   "execution_count": null,
   "id": "a64666b9",
   "metadata": {},
   "outputs": [
    {
     "data": {
      "text/plain": [
       "3"
      ]
     },
     "execution_count": 2,
     "metadata": {},
     "output_type": "execute_result"
    }
   ],
   "source": [
    "### Tip to Remember:\n",
    "# Count how many times the current bit differs from the bit before it.\n",
    "# Each such change means a flip is needed.\n",
    "# This is a classic greedy technique exploiting prefix changes.\n",
    "\n",
    "# Ref - https://www.youtube.com/watch?v=qQmIDv_hM8M\n",
    "\n",
    "def min_flips(target):\n",
    "    res, prev = 0, '0'\n",
    "    for bit in target:\n",
    "        if bit != prev:\n",
    "            res += 1\n",
    "            prev = bit\n",
    "\n",
    "    return res\n",
    "\n",
    "min_flips('10111')"
   ]
  },
  {
   "cell_type": "code",
   "execution_count": null,
   "id": "633c2e39",
   "metadata": {},
   "outputs": [
    {
     "name": "stdout",
     "output_type": "stream",
     "text": [
      "[('0', '1'), ('1', '0'), ('0', '1'), ('1', '1'), ('1', '1')]\n"
     ]
    }
   ],
   "source": [
    "def min_flips(target):\n",
    "    return sum(a != b for a, b in zip('0' + target, target))\n",
    "\n",
    "min_flips('10111')"
   ]
  },
  {
   "cell_type": "code",
   "execution_count": null,
   "id": "d68c5345",
   "metadata": {},
   "outputs": [],
   "source": [
    "def min_flips(target):\n",
    "    res = 0\n",
    "    prev = '0'\n",
    "    for bit in target:\n",
    "        if bit != prev:\n",
    "            res += 1\n",
    "            prev = bit\n",
    "    return res\n"
   ]
  }
 ],
 "metadata": {
  "kernelspec": {
   "display_name": "Python 3",
   "language": "python",
   "name": "python3"
  },
  "language_info": {
   "codemirror_mode": {
    "name": "ipython",
    "version": 3
   },
   "file_extension": ".py",
   "mimetype": "text/x-python",
   "name": "python",
   "nbconvert_exporter": "python",
   "pygments_lexer": "ipython3",
   "version": "3.11.9"
  }
 },
 "nbformat": 4,
 "nbformat_minor": 5
}
