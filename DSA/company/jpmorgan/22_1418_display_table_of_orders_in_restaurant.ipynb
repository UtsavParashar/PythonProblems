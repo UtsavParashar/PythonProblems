{
 "cells": [
  {
   "cell_type": "markdown",
   "id": "242c3c71",
   "metadata": {},
   "source": [
    "#### 1418. Display Table of Food Orders in a Restaurant\n",
    "\n",
    "* https://leetcode.com/problems/display-table-of-food-orders-in-a-restaurant/description/"
   ]
  },
  {
   "cell_type": "code",
   "execution_count": 22,
   "id": "d8aff789",
   "metadata": {},
   "outputs": [],
   "source": [
    "from collections import defaultdict\n",
    "\n",
    "def display_table(orders):\n",
    "    table_dish = defaultdict(int) # table, {}\n",
    "    dishes = set()\n",
    "    tables = set()\n",
    "    for _, table, dish in orders:\n",
    "        table_dish[(table,dish)] += 1\n",
    "        dishes.add(dish)\n",
    "        tables.add(int(table))\n",
    "\n",
    "    sorted_dishes = sorted(dishes)\n",
    "    res = [[\"Table\"] + sorted_dishes]\n",
    "    \n",
    "    for table in sorted(tables):\n",
    "        temp_list = [str(table)]\n",
    "        for dish in sorted_dishes:\n",
    "            count = table_dish.get((str(table), dish), 0)\n",
    "            temp_list.append(str(count))\n",
    "        res.append(temp_list)\n",
    "    \n",
    "    return res\n",
    "            \n"
   ]
  },
  {
   "cell_type": "code",
   "execution_count": 28,
   "id": "86938279",
   "metadata": {},
   "outputs": [
    {
     "name": "stdout",
     "output_type": "stream",
     "text": [
      "5.05 μs ± 373 ns per loop (mean ± std. dev. of 7 runs, 100,000 loops each)\n"
     ]
    }
   ],
   "source": [
    "%%timeit\n",
    "\n",
    "display_table([[\"David\",\"3\",\"Ceviche\"],[\"Corina\",\"10\",\"Beef Burrito\"],[\"David\",\"3\",\"Fried Chicken\"],[\"Carla\",\"5\",\"Water\"],[\"Carla\",\"5\",\"Ceviche\"],[\"Rous\",\"3\",\"Ceviche\"]])\n"
   ]
  },
  {
   "cell_type": "code",
   "execution_count": 26,
   "id": "dfd2d2d1",
   "metadata": {},
   "outputs": [],
   "source": [
    "def display_tableII(orders):\n",
    "    table_dish = defaultdict(lambda: defaultdict(int))\n",
    "    dishes = set()\n",
    "    tables = set()\n",
    "\n",
    "    for _, table, dish in orders:\n",
    "        table_dish[table][dish] += 1\n",
    "        dishes.add(dish)\n",
    "        tables.add(table)\n",
    "\n",
    "    sorted_dishes = sorted(dishes)\n",
    "    sorted_tables = sorted(tables, key=int)\n",
    "    res = [[\"Table\"] + sorted_dishes]\n",
    "\n",
    "    for table in sorted_tables:\n",
    "        row = [table] + [str(table_dish[table].get(dish, 0)) for dish in sorted_dishes]\n",
    "        res.append(row)\n",
    "\n",
    "    return res\n"
   ]
  },
  {
   "cell_type": "code",
   "execution_count": 27,
   "id": "4bebcad0",
   "metadata": {},
   "outputs": [
    {
     "name": "stdout",
     "output_type": "stream",
     "text": [
      "4.86 μs ± 99.5 ns per loop (mean ± std. dev. of 7 runs, 100,000 loops each)\n"
     ]
    }
   ],
   "source": [
    "%%timeit\n",
    "\n",
    "display_tableII([[\"David\",\"3\",\"Ceviche\"],[\"Corina\",\"10\",\"Beef Burrito\"],[\"David\",\"3\",\"Fried Chicken\"],[\"Carla\",\"5\",\"Water\"],[\"Carla\",\"5\",\"Ceviche\"],[\"Rous\",\"3\",\"Ceviche\"]])\n"
   ]
  },
  {
   "cell_type": "code",
   "execution_count": 29,
   "id": "1c94c727",
   "metadata": {},
   "outputs": [],
   "source": [
    "import collections\n",
    "def displayTable(orders):\n",
    "    desk = collections.defaultdict(collections.Counter)\n",
    "    meal = set()\n",
    "    for _, table, food in orders:\n",
    "        meal.add(food)\n",
    "        desk[table][food] += 1\n",
    "    foods = sorted(meal)\n",
    "    result = [['Table'] + foods]\n",
    "    for table in sorted(desk, key=int):\n",
    "        result.append([table] + [str(desk[table][food]) for food in foods])\n",
    "    return result\n",
    "    "
   ]
  },
  {
   "cell_type": "code",
   "execution_count": 30,
   "id": "04977174",
   "metadata": {},
   "outputs": [
    {
     "name": "stdout",
     "output_type": "stream",
     "text": [
      "6.11 μs ± 343 ns per loop (mean ± std. dev. of 7 runs, 100,000 loops each)\n"
     ]
    }
   ],
   "source": [
    "%%timeit\n",
    "\n",
    "displayTable([[\"David\",\"3\",\"Ceviche\"],[\"Corina\",\"10\",\"Beef Burrito\"],[\"David\",\"3\",\"Fried Chicken\"],[\"Carla\",\"5\",\"Water\"],[\"Carla\",\"5\",\"Ceviche\"],[\"Rous\",\"3\",\"Ceviche\"]])\n"
   ]
  },
  {
   "cell_type": "code",
   "execution_count": null,
   "id": "862b0e9d",
   "metadata": {},
   "outputs": [],
   "source": []
  }
 ],
 "metadata": {
  "kernelspec": {
   "display_name": "Python 3",
   "language": "python",
   "name": "python3"
  },
  "language_info": {
   "codemirror_mode": {
    "name": "ipython",
    "version": 3
   },
   "file_extension": ".py",
   "mimetype": "text/x-python",
   "name": "python",
   "nbconvert_exporter": "python",
   "pygments_lexer": "ipython3",
   "version": "3.11.9"
  }
 },
 "nbformat": 4,
 "nbformat_minor": 5
}
