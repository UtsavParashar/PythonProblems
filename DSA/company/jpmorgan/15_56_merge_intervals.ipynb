{
 "cells": [
  {
   "cell_type": "markdown",
   "id": "94cbe269",
   "metadata": {},
   "source": [
    "#### 56. Merge Intervals\n",
    "\n",
    "* https://leetcode.com/problems/merge-intervals/description/"
   ]
  },
  {
   "cell_type": "code",
   "execution_count": 1,
   "id": "14807b88",
   "metadata": {},
   "outputs": [
    {
     "data": {
      "text/plain": [
       "[[0, 4]]"
      ]
     },
     "execution_count": 1,
     "metadata": {},
     "output_type": "execute_result"
    }
   ],
   "source": [
    "def merge(intervals):\n",
    "    intervals.sort(key=lambda x: x[0])\n",
    "    res = [intervals[0]]\n",
    "    \n",
    "    for start, end in intervals[1:]: \n",
    "        last_end = res[-1][1]\n",
    "\n",
    "        if start <= last_end:\n",
    "            res[-1][1] = max(end, last_end)\n",
    "        else:\n",
    "            res.append([start, end])\n",
    "\n",
    "    return res\n",
    "\n",
    "merge(intervals = [[1,4],[0,2]])"
   ]
  },
  {
   "cell_type": "code",
   "execution_count": null,
   "id": "e79dfe96",
   "metadata": {},
   "outputs": [],
   "source": []
  }
 ],
 "metadata": {
  "kernelspec": {
   "display_name": "Python 3",
   "language": "python",
   "name": "python3"
  },
  "language_info": {
   "codemirror_mode": {
    "name": "ipython",
    "version": 3
   },
   "file_extension": ".py",
   "mimetype": "text/x-python",
   "name": "python",
   "nbconvert_exporter": "python",
   "pygments_lexer": "ipython3",
   "version": "3.11.9"
  }
 },
 "nbformat": 4,
 "nbformat_minor": 5
}
