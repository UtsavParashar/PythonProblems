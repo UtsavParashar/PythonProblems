{
 "cells": [
  {
   "cell_type": "markdown",
   "id": "6275f79a",
   "metadata": {},
   "source": [
    "#### 780. Reaching Points\n",
    "\n",
    "* https://leetcode.com/problems/reaching-points/description/"
   ]
  },
  {
   "cell_type": "code",
   "execution_count": null,
   "id": "ad14b8cf",
   "metadata": {},
   "outputs": [],
   "source": [
    "## credit - https://www.youtube.com/watch?v=tPr5Uae6Drc\n",
    "\n",
    "def reaching_points(sx, sy, tx, ty):\n",
    "    while tx >= sx and ty >= sy:\n",
    "        if tx==sx and ty==sy:\n",
    "            return True\n",
    "        \n",
    "        if tx>ty:\n",
    "            tx %= ty\n",
    "        else:\n",
    "            ty %= tx\n",
    "\n",
    "        if tx == sx: # then only need to change ty\n",
    "            if (ty-sy)%tx == 0:\n",
    "                return True\n",
    "            else:\n",
    "                return False\n",
    "\n",
    "        if ty == sy: # then only need to change tx\n",
    "            if (tx-sx)%ty == 0:\n",
    "                return True\n",
    "            else:\n",
    "                return False\n",
    "\n",
    "    return False"
   ]
  },
  {
   "cell_type": "code",
   "execution_count": null,
   "id": "8a35c17f",
   "metadata": {},
   "outputs": [],
   "source": [
    "def reaching_points(sx, sy, tx, ty):\n",
    "    while tx >= sx and ty >= sy:\n",
    "        if tx == sx and ty == sy:\n",
    "            return True\n",
    "        if tx > ty:\n",
    "            if ty > sy:\n",
    "                tx %= ty\n",
    "            else:\n",
    "                return (tx - sx) % ty == 0 and sy == ty\n",
    "        else:\n",
    "            if tx > sx:\n",
    "                ty %= tx\n",
    "            else:\n",
    "                return (ty - sy) % tx == 0 and sx == tx\n",
    "    return False\n"
   ]
  }
 ],
 "metadata": {
  "kernelspec": {
   "display_name": "Python 3",
   "language": "python",
   "name": "python3"
  },
  "language_info": {
   "name": "python",
   "version": "3.11.9"
  }
 },
 "nbformat": 4,
 "nbformat_minor": 5
}
