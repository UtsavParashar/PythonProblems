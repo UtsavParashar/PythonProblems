{
 "cells": [
  {
   "cell_type": "code",
   "execution_count": 1,
   "id": "b003fb70",
   "metadata": {},
   "outputs": [
    {
     "data": {
      "text/plain": [
       "7"
      ]
     },
     "execution_count": 1,
     "metadata": {},
     "output_type": "execute_result"
    }
   ],
   "source": [
    "## 121. Best time to buy sell a stock\n",
    "## https://leetcode.com/problems/best-time-to-buy-and-sell-stock/description/\n",
    "## TC - O(n), SC - O(1)\n",
    "\n",
    "class Solution:\n",
    "    def maxProfit(self, prices: list[int]) -> int:\n",
    "        max_profit = 0\n",
    "        cost_px = prices[0]\n",
    "        n = len(prices)\n",
    "        for i  in range(n):\n",
    "            if prices[i] < cost_px:\n",
    "                cost_px = prices[i]\n",
    "            profit = prices[i] - cost_px\n",
    "            if profit > max_profit:\n",
    "                max_profit = profit\n",
    "\n",
    "        return max_profit\n",
    "    \n",
    "Solution().maxProfit([7,1,3,5,8,4])"
   ]
  },
  {
   "cell_type": "code",
   "execution_count": 6,
   "id": "8f093172",
   "metadata": {},
   "outputs": [
    {
     "name": "stdout",
     "output_type": "stream",
     "text": [
      "1 8 1 8 8 0\n",
      "1 7 7 7 49 8\n",
      "1 6 3 6 18 49\n",
      "1 5 8 5 40 49\n",
      "1 4 4 4 16 49\n",
      "1 3 5 3 15 49\n",
      "1 2 2 2 4 49\n",
      "1 1 6 1 6 49\n"
     ]
    },
    {
     "data": {
      "text/plain": [
       "49"
      ]
     },
     "execution_count": 6,
     "metadata": {},
     "output_type": "execute_result"
    }
   ],
   "source": [
    "class Solution:\n",
    "    def maxArea(self, height) -> int:\n",
    "        n = len(height)\n",
    "        l, r = 0, n-1\n",
    "        max_area = 0\n",
    "\n",
    "        while l < r:\n",
    "            if height[l] < height[r]:\n",
    "                h = height[l]\n",
    "                l += 1\n",
    "            else:\n",
    "                h = height[r]\n",
    "                r -= 1\n",
    "            w = r - l + 1\n",
    "\n",
    "            print(l, r, h, w, h*w, max_area)\n",
    "            max_area = max(max_area, h*w)\n",
    "        \n",
    "        return max_area\n",
    "    \n",
    "Solution().maxArea([1,8,6,2,5,4,8,3,7])"
   ]
  },
  {
   "cell_type": "code",
   "execution_count": null,
   "id": "94e9c9b0",
   "metadata": {},
   "outputs": [],
   "source": []
  }
 ],
 "metadata": {
  "kernelspec": {
   "display_name": "Python 3",
   "language": "python",
   "name": "python3"
  },
  "language_info": {
   "codemirror_mode": {
    "name": "ipython",
    "version": 3
   },
   "file_extension": ".py",
   "mimetype": "text/x-python",
   "name": "python",
   "nbconvert_exporter": "python",
   "pygments_lexer": "ipython3",
   "version": "3.11.9"
  }
 },
 "nbformat": 4,
 "nbformat_minor": 5
}
