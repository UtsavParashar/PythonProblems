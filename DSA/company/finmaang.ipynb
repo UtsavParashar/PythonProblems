{
 "cells": [
  {
   "cell_type": "code",
   "execution_count": 1,
   "id": "b003fb70",
   "metadata": {},
   "outputs": [
    {
     "data": {
      "text/plain": [
       "7"
      ]
     },
     "execution_count": 1,
     "metadata": {},
     "output_type": "execute_result"
    }
   ],
   "source": [
    "## 121. Best time to buy sell a stock\n",
    "## https://leetcode.com/problems/best-time-to-buy-and-sell-stock/description/\n",
    "## TC - O(n), SC - O(1)\n",
    "\n",
    "class Solution:\n",
    "    def maxProfit(self, prices: list[int]) -> int:\n",
    "        max_profit = 0\n",
    "        cost_px = prices[0]\n",
    "        n = len(prices)\n",
    "        for i  in range(n):\n",
    "            if prices[i] < cost_px:\n",
    "                cost_px = prices[i]\n",
    "            profit = prices[i] - cost_px\n",
    "            if profit > max_profit:\n",
    "                max_profit = profit\n",
    "\n",
    "        return max_profit\n",
    "    \n",
    "Solution().maxProfit([7,1,3,5,8,4])"
   ]
  },
  {
   "cell_type": "code",
   "execution_count": 1,
   "id": "8f093172",
   "metadata": {},
   "outputs": [
    {
     "data": {
      "text/plain": [
       "['a', 'b', 'c']"
      ]
     },
     "execution_count": 1,
     "metadata": {},
     "output_type": "execute_result"
    }
   ],
   "source": [
    "sorted('abc')"
   ]
  }
 ],
 "metadata": {
  "kernelspec": {
   "display_name": "Python 3",
   "language": "python",
   "name": "python3"
  },
  "language_info": {
   "codemirror_mode": {
    "name": "ipython",
    "version": 3
   },
   "file_extension": ".py",
   "mimetype": "text/x-python",
   "name": "python",
   "nbconvert_exporter": "python",
   "pygments_lexer": "ipython3",
   "version": "3.11.9"
  }
 },
 "nbformat": 4,
 "nbformat_minor": 5
}
