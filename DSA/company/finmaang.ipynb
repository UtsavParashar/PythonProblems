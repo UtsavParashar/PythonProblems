{
 "cells": [
  {
   "cell_type": "code",
   "execution_count": 1,
   "id": "b003fb70",
   "metadata": {},
   "outputs": [
    {
     "data": {
      "text/plain": [
       "7"
      ]
     },
     "execution_count": 1,
     "metadata": {},
     "output_type": "execute_result"
    }
   ],
   "source": [
    "## 121. Best time to buy sell a stock\n",
    "## https://leetcode.com/problems/best-time-to-buy-and-sell-stock/description/\n",
    "## TC - O(n), SC - O(1)\n",
    "\n",
    "class Solution:\n",
    "    def maxProfit(self, prices: list[int]) -> int:\n",
    "        max_profit = 0\n",
    "        cost_px = prices[0]\n",
    "        n = len(prices)\n",
    "        for i  in range(n):\n",
    "            if prices[i] < cost_px:\n",
    "                cost_px = prices[i]\n",
    "            profit = prices[i] - cost_px\n",
    "            if profit > max_profit:\n",
    "                max_profit = profit\n",
    "\n",
    "        return max_profit\n",
    "    \n",
    "Solution().maxProfit([7,1,3,5,8,4])"
   ]
  },
  {
   "cell_type": "code",
   "execution_count": null,
   "id": "8f093172",
   "metadata": {},
   "outputs": [
    {
     "name": "stdout",
     "output_type": "stream",
     "text": [
      "1 2 3 4\n",
      "1\n",
      "2 inf -inf 3\n"
     ]
    },
    {
     "data": {
      "text/plain": [
       "2.5"
      ]
     },
     "execution_count": 11,
     "metadata": {},
     "output_type": "execute_result"
    }
   ],
   "source": [
    "class Solution:\n",
    "    def findMedianSortedArrays(self, nums1, nums2):\n",
    "        A, B = nums1, nums2\n",
    "        \n",
    "        if len(A) > len(B):\n",
    "            A, B = B, A\n",
    "\n",
    "        lenA, lenB = len(A), len(B) \n",
    "        total = lenA + lenB\n",
    "        half = total // 2\n",
    "\n",
    "        l, r = 0, lenA-1\n",
    "        while True:\n",
    "            i = (l+r)//2\n",
    "            j = half - i - 2\n",
    "\n",
    "            Aleft = A[i] if i >= 0 else float('-inf')\n",
    "            Aright = A[i+1] if (i+1)<lenA else float('inf')\n",
    "            Bleft = B[j] if j >= 0 else float('-inf')\n",
    "            Bright = B[j+1] if (j+1)<lenB else float('inf')\n",
    "\n",
    "            print(Aleft, Aright, Bleft, Bright)\n",
    "\n",
    "            if Aleft <= Bright and Bleft <= Aright:\n",
    "                if total % 2:\n",
    "                    return min(Aright, Bright)\n",
    "                else:\n",
    "                    return (max(Aleft, Bleft) + min(Aright, Bright)) / 2\n",
    "            elif Aright < Bleft:\n",
    "                l = i + 1\n",
    "                print(l)\n",
    "            else:\n",
    "                r = i - 1\n",
    "\n",
    "Solution().findMedianSortedArrays([1, 2], [3, 4])\n"
   ]
  },
  {
   "cell_type": "code",
   "execution_count": null,
   "id": "94e9c9b0",
   "metadata": {},
   "outputs": [
    {
     "name": "stdout",
     "output_type": "stream",
     "text": [
      "f\n",
      "fl\n"
     ]
    }
   ],
   "source": [
    "class Solution:\n",
    "    def longestCommonPrefix(self, strs):\n",
    "        prefix = ''\n",
    "        for chars in zip(*strs):\n",
    "            if len(set(chars)) == 1:\n",
    "                prefix += chars[0]\n",
    "            else:\n",
    "                break\n",
    "        return prefix\n"
   ]
  },
  {
   "cell_type": "code",
   "execution_count": null,
   "id": "fdebe7d9",
   "metadata": {},
   "outputs": [],
   "source": []
  }
 ],
 "metadata": {
  "kernelspec": {
   "display_name": "Python 3",
   "language": "python",
   "name": "python3"
  },
  "language_info": {
   "codemirror_mode": {
    "name": "ipython",
    "version": 3
   },
   "file_extension": ".py",
   "mimetype": "text/x-python",
   "name": "python",
   "nbconvert_exporter": "python",
   "pygments_lexer": "ipython3",
   "version": "3.11.9"
  }
 },
 "nbformat": 4,
 "nbformat_minor": 5
}
