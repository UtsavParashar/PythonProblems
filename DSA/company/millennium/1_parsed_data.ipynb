{
 "cells": [
  {
   "cell_type": "markdown",
   "metadata": {},
   "source": [
    "Input: \"\"\"'key1': 'value1'\n",
    "'key 3': '2'\n",
    "'key 3': '3'\n",
    "'key 3': '4'\n",
    "'key 5': 5\n",
    "\"\"\"\n",
    "\n",
    "expected output: \n",
    "parsed_data = {'key1': 'value1', 'key3': ['2', '3', '4'], 'key5': 5}"
   ]
  },
  {
   "cell_type": "code",
   "execution_count": 40,
   "metadata": {},
   "outputs": [
    {
     "data": {
      "text/plain": [
       "{'key1': 'value1', 'key3': ['2', '3', '4'], 'key5': '5'}"
      ]
     },
     "execution_count": 40,
     "metadata": {},
     "output_type": "execute_result"
    }
   ],
   "source": [
    "s= \"\"\"key1: value1\n",
    "key3: 2\n",
    "key3: 3\n",
    "key3: 4\n",
    "key5: 5\"\"\"\n",
    "parsed_data = {}\n",
    "temp_list = []\n",
    "for item in s.split('\\n'):\n",
    "    temp_list.append(item.split(':'))\n",
    "\n",
    "for item in temp_list:\n",
    "    key = item[0]\n",
    "    value = item[1].strip()\n",
    "    if key in parsed_data:\n",
    "        if not isinstance(parsed_data[key], list):\n",
    "            parsed_data[key] = [parsed_data[key]]\n",
    "        parsed_data[key].append(value)\n",
    "    else:\n",
    "        parsed_data[key] = value\n",
    "\n",
    "parsed_data\n",
    "\n"
   ]
  },
  {
   "cell_type": "code",
   "execution_count": 38,
   "metadata": {},
   "outputs": [
    {
     "data": {
      "text/plain": [
       "True"
      ]
     },
     "execution_count": 38,
     "metadata": {},
     "output_type": "execute_result"
    }
   ],
   "source": [
    "isinstance(0, int)"
   ]
  },
  {
   "cell_type": "code",
   "execution_count": 1,
   "metadata": {},
   "outputs": [
    {
     "data": {
      "text/plain": [
       "{'key1': 'value1', 'key3': [2, 3, 4], 'key5': 5}"
      ]
     },
     "execution_count": 1,
     "metadata": {},
     "output_type": "execute_result"
    }
   ],
   "source": [
    "s = \"\"\"'key1': 'value1'\n",
    "'key 3': '2'\n",
    "'key 3': '3'\n",
    "'key 3': '4'\n",
    "'key 5': 5\n",
    "\"\"\"\n",
    "\n",
    "parsed_data = {}\n",
    "for line in s.splitlines():\n",
    "    if line.strip():  # Skip empty lines\n",
    "        key, value = line.split(':', 1)\n",
    "        key = key.strip().replace(' ', '').strip(\"'\")\n",
    "        value = value.strip().strip(\"'\")\n",
    "        # Convert numeric values to int\n",
    "        if value.isdigit():\n",
    "            value = int(value)\n",
    "        # Handle duplicate keys\n",
    "        if key in parsed_data:\n",
    "            if not isinstance(parsed_data[key], list):\n",
    "                parsed_data[key] = [parsed_data[key]]\n",
    "            parsed_data[key].append(value)\n",
    "        else:\n",
    "            parsed_data[key] = value\n",
    "\n",
    "parsed_data"
   ]
  },
  {
   "cell_type": "code",
   "execution_count": null,
   "metadata": {},
   "outputs": [],
   "source": []
  }
 ],
 "metadata": {
  "kernelspec": {
   "display_name": "Python 3",
   "language": "python",
   "name": "python3"
  },
  "language_info": {
   "codemirror_mode": {
    "name": "ipython",
    "version": 3
   },
   "file_extension": ".py",
   "mimetype": "text/x-python",
   "name": "python",
   "nbconvert_exporter": "python",
   "pygments_lexer": "ipython3",
   "version": "3.11.9"
  }
 },
 "nbformat": 4,
 "nbformat_minor": 2
}
