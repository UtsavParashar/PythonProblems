{
 "cells": [
  {
   "cell_type": "markdown",
   "metadata": {},
   "source": [
    "Input: \"\"\"'key1': 'value1'\n",
    "'key 3': '2'\n",
    "'key 3': '3'\n",
    "'key 3': '4'\n",
    "'key 5': 5\n",
    "\"\"\"\n",
    "\n",
    "expected output: \n",
    "parsed_data = {'key1': 'value1', 'key3': ['2', '3', '4'], 'key5': 5}"
   ]
  },
  {
   "cell_type": "code",
   "execution_count": 40,
   "metadata": {},
   "outputs": [
    {
     "data": {
      "text/plain": [
       "{'key1': 'value1', 'key3': ['2', '3', '4'], 'key5': '5'}"
      ]
     },
     "execution_count": 40,
     "metadata": {},
     "output_type": "execute_result"
    }
   ],
   "source": [
    "s= \"\"\"key1: value1\n",
    "key3: 2\n",
    "key3: 3\n",
    "key3: 4\n",
    "key5: 5\"\"\"\n",
    "parsed_data = {}\n",
    "temp_list = []\n",
    "for item in s.split('\\n'):\n",
    "    temp_list.append(item.split(':'))\n",
    "\n",
    "for item in temp_list:\n",
    "    key = item[0]\n",
    "    value = item[1].strip()\n",
    "    if key in parsed_data:\n",
    "        if not isinstance(parsed_data[key], list):\n",
    "            parsed_data[key] = [parsed_data[key]]\n",
    "        parsed_data[key].append(value)\n",
    "    else:\n",
    "        parsed_data[key] = value\n",
    "\n",
    "parsed_data\n",
    "\n"
   ]
  },
  {
   "cell_type": "code",
   "execution_count": 38,
   "metadata": {},
   "outputs": [
    {
     "data": {
      "text/plain": [
       "True"
      ]
     },
     "execution_count": 38,
     "metadata": {},
     "output_type": "execute_result"
    }
   ],
   "source": [
    "isinstance(0, int)"
   ]
  },
  {
   "cell_type": "code",
   "execution_count": 36,
   "metadata": {},
   "outputs": [
    {
     "name": "stdout",
     "output_type": "stream",
     "text": [
      "2.57 μs ± 282 ns per loop (mean ± std. dev. of 7 runs, 100,000 loops each)\n"
     ]
    }
   ],
   "source": [
    "%%timeit\n",
    "\n",
    "s = \"\"\"'key1': 'value1'\n",
    "'key 3': '2'\n",
    "'key 3': '3'\n",
    "'key 3': '4'\n",
    "'key 5': 5\n",
    "\"\"\"\n",
    "\n",
    "parsed_data = {}\n",
    "for line in s.splitlines():\n",
    "    if line.strip():  # Skip empty lines\n",
    "        key, value = line.split(':', 1)\n",
    "        key = key.strip().replace(' ', '').strip(\"'\")\n",
    "        value = value.strip().strip(\"'\")\n",
    "        # Convert numeric values to int\n",
    "        if value.isdigit():\n",
    "            value = int(value)\n",
    "        # Handle duplicate keys\n",
    "        if key in parsed_data:\n",
    "            if not isinstance(parsed_data[key], list):\n",
    "                parsed_data[key] = [parsed_data[key]]\n",
    "            parsed_data[key].append(value)\n",
    "        else:\n",
    "            parsed_data[key] = value\n",
    "\n",
    "parsed_data"
   ]
  },
  {
   "cell_type": "code",
   "execution_count": null,
   "metadata": {},
   "outputs": [
    {
     "ename": "SyntaxError",
     "evalue": "invalid syntax (<string>, line 1)",
     "output_type": "error",
     "traceback": [
      "Traceback \u001b[1;36m(most recent call last)\u001b[0m:\n",
      "\u001b[0m  File \u001b[0;32m~\\AppData\\Local\\Packages\\PythonSoftwareFoundation.Python.3.11_qbz5n2kfra8p0\\LocalCache\\local-packages\\Python311\\site-packages\\IPython\\core\\interactiveshell.py:3577\u001b[0m in \u001b[0;35mrun_code\u001b[0m\n    exec(code_obj, self.user_global_ns, self.user_ns)\u001b[0m\n",
      "\u001b[1;36m  Cell \u001b[1;32mIn[42], line 7\u001b[1;36m\n\u001b[1;33m    eval(s)\u001b[1;36m\n",
      "\u001b[1;36m  File \u001b[1;32m<string>:1\u001b[1;36m\u001b[0m\n\u001b[1;33m    key1: value1\u001b[0m\n\u001b[1;37m        ^\u001b[0m\n\u001b[1;31mSyntaxError\u001b[0m\u001b[1;31m:\u001b[0m invalid syntax\n"
     ]
    }
   ],
   "source": []
  },
  {
   "cell_type": "code",
   "execution_count": null,
   "metadata": {},
   "outputs": [],
   "source": []
  }
 ],
 "metadata": {
  "kernelspec": {
   "display_name": "Python 3",
   "language": "python",
   "name": "python3"
  },
  "language_info": {
   "codemirror_mode": {
    "name": "ipython",
    "version": 3
   },
   "file_extension": ".py",
   "mimetype": "text/x-python",
   "name": "python",
   "nbconvert_exporter": "python",
   "pygments_lexer": "ipython3",
   "version": "3.11.9"
  }
 },
 "nbformat": 4,
 "nbformat_minor": 2
}
