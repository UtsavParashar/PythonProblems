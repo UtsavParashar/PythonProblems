{
 "cells": [
  {
   "cell_type": "markdown",
   "id": "e0a9efc1",
   "metadata": {},
   "source": [
    "#### 3080. Mark Elements on Array by Performing Queries\n",
    "\n",
    "* https://leetcode.com/problems/mark-elements-on-array-by-performing-queries/description/"
   ]
  },
  {
   "cell_type": "code",
   "execution_count": null,
   "id": "0ef68f13",
   "metadata": {},
   "outputs": [],
   "source": [
    "## Credit - Code - https://www.youtube.com/watch?v=-h4CiRPoyXs\n",
    "## Credit - Explanation - https://www.youtube.com/watch?v=lHuto2jhSp8\n",
    "import heapq\n",
    "\n",
    "def unmarked_sum_array(nums, queries):\n",
    "    marked = set()\n",
    "    answers = [0 for _ in range(len(queries))]\n",
    "    unmarked_heap = [(v, i) for i, v in enumerate(nums)]\n",
    "    heapq.heapify(unmarked_heap)\n",
    "    sm, n = sum(nums), len(nums)\n",
    "\n",
    "    for qi, (idx, k) in enumerate(queries):\n",
    "        if idx not in marked:\n",
    "            marked.add(idx)\n",
    "            sm -= nums[idx]\n",
    "\n",
    "        while k and unmarked_heap:\n",
    "            v, i = heapq.heappop(unmarked_heap)\n",
    "            if i not in marked:\n",
    "                marked.add(i)\n",
    "                sm -= v\n",
    "                k -= 1\n",
    "        \n",
    "        answers[qi] = sm\n",
    "\n",
    "        if len(marked) == n:\n",
    "            break\n",
    "\n",
    "    return answers\n",
    "        \n",
    "\n"
   ]
  },
  {
   "cell_type": "code",
   "execution_count": 3,
   "id": "521df111",
   "metadata": {},
   "outputs": [
    {
     "data": {
      "text/plain": [
       "[8, 3, 0]"
      ]
     },
     "execution_count": 3,
     "metadata": {},
     "output_type": "execute_result"
    }
   ],
   "source": [
    "unmarked_sum_array(nums = [1,2,2,1,2,3,1], queries = [[1,2],[3,3],[4,2]])"
   ]
  },
  {
   "cell_type": "code",
   "execution_count": 4,
   "id": "9a4ebcc0",
   "metadata": {},
   "outputs": [
    {
     "data": {
      "text/plain": [
       "[7]"
      ]
     },
     "execution_count": 4,
     "metadata": {},
     "output_type": "execute_result"
    }
   ],
   "source": [
    "unmarked_sum_array(nums = [1,4,2,3], queries = [[0,1]])"
   ]
  },
  {
   "cell_type": "code",
   "execution_count": null,
   "id": "a7cd0e5b",
   "metadata": {},
   "outputs": [],
   "source": []
  }
 ],
 "metadata": {
  "kernelspec": {
   "display_name": "Python 3",
   "language": "python",
   "name": "python3"
  },
  "language_info": {
   "codemirror_mode": {
    "name": "ipython",
    "version": 3
   },
   "file_extension": ".py",
   "mimetype": "text/x-python",
   "name": "python",
   "nbconvert_exporter": "python",
   "pygments_lexer": "ipython3",
   "version": "3.11.9"
  }
 },
 "nbformat": 4,
 "nbformat_minor": 5
}
