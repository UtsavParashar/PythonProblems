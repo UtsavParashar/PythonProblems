{
 "cells": [
  {
   "cell_type": "markdown",
   "metadata": {},
   "source": [
    "#### Reverse Words\n",
    "\n",
    "Given a string s, reverse the string without reversing its individual words. Words are separated by spaces.\n",
    "\n",
    "Note: The string may contain leading or trailing spaces, or multiple spaces between two words. The returned string should only have a single space separating the words, and no extra spaces should be included.\n",
    "\n",
    "Examples :\n",
    "\n",
    "Input: s = \" i like this program very much \"\n",
    "Output: \"much very program this like i\"\n",
    "Explanation: After removing extra spaces and reversing the whole string (not individual words), the input string becomes \"much very program this like i\". \n",
    "Input: s = \" pqr mno \"\n",
    "Output: \"mno pqr\"\n",
    "Explanation: After removing extra spaces and reversing the whole string, the input string becomes \"mno pqr\". \n",
    "Input: s = \" a \"\n",
    "Output: \"a\"\n",
    "Explanation: The input string contains only one word with extra spaces around it. After removing the extra spaces, the output is \"a\".Constraints:"
   ]
  },
  {
   "cell_type": "code",
   "execution_count": null,
   "metadata": {},
   "outputs": [],
   "source": [
    "def reverse_string_words(s: str) -> str:\n",
    "    return ' '.join(\" pqr   mno \".split()[::-1])\n",
    "    return ' '.join([word for word in reversed(s.strip().split())])\n",
    "        "
   ]
  },
  {
   "cell_type": "code",
   "execution_count": 18,
   "metadata": {},
   "outputs": [
    {
     "data": {
      "text/plain": [
       "'mno pqr'"
      ]
     },
     "execution_count": 18,
     "metadata": {},
     "output_type": "execute_result"
    }
   ],
   "source": [
    "\n",
    "reverse_string_words(s = \" pqr   mno \")"
   ]
  },
  {
   "cell_type": "code",
   "execution_count": 21,
   "metadata": {},
   "outputs": [],
   "source": [
    "def reverse_string_words(s: str) -> str:\n",
    "    print(list(reversed(s)))"
   ]
  },
  {
   "cell_type": "code",
   "execution_count": 22,
   "metadata": {},
   "outputs": [
    {
     "name": "stdout",
     "output_type": "stream",
     "text": [
      "[' ', 'o', 'n', 'm', ' ', ' ', ' ', 'r', 'q', 'p', ' ']\n"
     ]
    }
   ],
   "source": [
    "reverse_string_words(s = \" pqr   mno \")"
   ]
  },
  {
   "cell_type": "code",
   "execution_count": null,
   "metadata": {},
   "outputs": [
    {
     "data": {
      "text/plain": [
       "'mno pqr'"
      ]
     },
     "execution_count": 25,
     "metadata": {},
     "output_type": "execute_result"
    }
   ],
   "source": []
  },
  {
   "cell_type": "code",
   "execution_count": null,
   "metadata": {},
   "outputs": [],
   "source": []
  }
 ],
 "metadata": {
  "kernelspec": {
   "display_name": "Python 3",
   "language": "python",
   "name": "python3"
  },
  "language_info": {
   "codemirror_mode": {
    "name": "ipython",
    "version": 3
   },
   "file_extension": ".py",
   "mimetype": "text/x-python",
   "name": "python",
   "nbconvert_exporter": "python",
   "pygments_lexer": "ipython3",
   "version": "3.11.9"
  }
 },
 "nbformat": 4,
 "nbformat_minor": 2
}
