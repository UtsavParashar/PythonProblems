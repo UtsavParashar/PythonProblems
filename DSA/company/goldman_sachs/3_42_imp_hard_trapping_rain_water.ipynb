{
 "cells": [
  {
   "cell_type": "markdown",
   "metadata": {},
   "source": [
    "#### 42. Trapping Rain Water\n",
    "\n",
    "* Given n non-negative integers representing an elevation map where the width of each bar is 1, compute how much water it can trap after raining."
   ]
  },
  {
   "cell_type": "code",
   "execution_count": null,
   "metadata": {},
   "outputs": [],
   "source": [
    "# https://www.youtube.com/watch?v=KFdHpOlz8hs\n",
    "\n",
    "def trap(height: list[int]) -> int:\n",
    "    left_wall = right_wall = 0\n",
    "    n = len(height)\n",
    "    \n",
    "    # Initialize max_left and max_right with size n\n",
    "    max_left = [0] * n\n",
    "    max_right = [0] * n\n",
    "\n",
    "    for i in range(n):\n",
    "        j = -i-1\n",
    "        max_left[i] = left_wall\n",
    "        max_right[j] = right_wall\n",
    "\n",
    "        left_wall = max(left_wall, height[i])\n",
    "        right_wall = max(right_wall, height[j])\n",
    "        \n",
    "    \n",
    "    print(max_left, max_right)\n",
    "\n",
    "    sum_ = 0\n",
    "    for i in range(n):\n",
    "        potential_water = min(max_left[i], max_right[i])\n",
    "        sum_ += max(0, potential_water - height[i])\n",
    "\n",
    "    return sum_\n"
   ]
  },
  {
   "cell_type": "code",
   "execution_count": 24,
   "metadata": {},
   "outputs": [
    {
     "name": "stdout",
     "output_type": "stream",
     "text": [
      "[0, 0, 1, 1, 2, 2, 2, 2, 3, 3, 3, 3] [3, 3, 3, 3, 3, 3, 3, 2, 2, 2, 1, 0]\n"
     ]
    },
    {
     "data": {
      "text/plain": [
       "12"
      ]
     },
     "execution_count": 24,
     "metadata": {},
     "output_type": "execute_result"
    }
   ],
   "source": [
    "trap(height = [0,1,0,2,1,0,1,3,2,1,2,1])"
   ]
  },
  {
   "cell_type": "code",
   "execution_count": 1,
   "metadata": {},
   "outputs": [],
   "source": [
    "# https://www.youtube.com/watch?v=ZI2z5pq0TqA\n",
    "\n",
    "def trap(height):\n",
    "    water = 0\n",
    "    n = len(height)\n",
    "    l, r = 0, n-1\n",
    "    left_max, right_max = height[l], height[r]\n",
    "\n",
    "    while l < r:\n",
    "        if left_max < right_max:\n",
    "            l += 1\n",
    "            left_max = max(left_max, height[l])\n",
    "            water += left_max - height[l]\n",
    "        else:\n",
    "            r -= 1\n",
    "            right_max = max(right_max, height[r])\n",
    "            water += right_max - height[r]\n",
    "\n",
    "    return water"
   ]
  },
  {
   "cell_type": "code",
   "execution_count": null,
   "metadata": {},
   "outputs": [],
   "source": []
  }
 ],
 "metadata": {
  "kernelspec": {
   "display_name": "Python 3",
   "language": "python",
   "name": "python3"
  },
  "language_info": {
   "codemirror_mode": {
    "name": "ipython",
    "version": 3
   },
   "file_extension": ".py",
   "mimetype": "text/x-python",
   "name": "python",
   "nbconvert_exporter": "python",
   "pygments_lexer": "ipython3",
   "version": "3.11.9"
  }
 },
 "nbformat": 4,
 "nbformat_minor": 2
}
