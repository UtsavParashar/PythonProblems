{
 "cells": [
  {
   "cell_type": "code",
   "execution_count": null,
   "id": "90fc6b8a",
   "metadata": {},
   "outputs": [],
   "source": [
    "# bit ma"
   ]
  },
  {
   "cell_type": "code",
   "execution_count": 9,
   "id": "20823dec",
   "metadata": {},
   "outputs": [
    {
     "data": {
      "text/plain": [
       "[[1, 2], [2, 3], [3, 4]]"
      ]
     },
     "execution_count": 9,
     "metadata": {},
     "output_type": "execute_result"
    }
   ],
   "source": [
    "# 1200. Min Abs Diff\n",
    "\n",
    "def min_abs_diff(arr):\n",
    "    arr.sort()\n",
    "\n",
    "    min_diff = float('inf')\n",
    "    res = []\n",
    "    for i in range(1, len(arr)):\n",
    "        diff = arr[i] - arr[i-1]\n",
    "        if diff < min_diff:\n",
    "            res.clear()\n",
    "            min_diff = diff\n",
    "            res.append([arr[i-1], arr[i]])\n",
    "        elif diff == min_diff:\n",
    "            res.append([arr[i-1], arr[i]])\n",
    "        \n",
    "    return res\n",
    "\n",
    "min_abs_diff(arr = [4,2,1,3])\n"
   ]
  },
  {
   "cell_type": "code",
   "execution_count": 20,
   "id": "c620c162",
   "metadata": {},
   "outputs": [
    {
     "name": "stdout",
     "output_type": "stream",
     "text": [
      "False\n"
     ]
    },
    {
     "data": {
      "text/plain": [
       "True"
      ]
     },
     "execution_count": 20,
     "metadata": {},
     "output_type": "execute_result"
    }
   ],
   "source": [
    "# 2068. Check Whether Two Strings are Almost Equivalent\n",
    "\n",
    "\n",
    "# Optimized pythonic solution\n",
    "from collections import Counter\n",
    "def check_almost_equivalent(word1, word2):\n",
    "    w1_counter = Counter(word1)\n",
    "    w2_counter = Counter(word2)\n",
    "\n",
    "    for c in set(w1_counter + w2_counter):\n",
    "        if abs(w1_counter.get(c, 0) - w2_counter.get(c, 0)) > 3:\n",
    "            return False\n",
    "    return True\n",
    "\n",
    "\n",
    "print(check_almost_equivalent(word1 = \"aaaa\", word2 = \"bccb\"))\n",
    "check_almost_equivalent(word1 = \"abcdeef\", word2 = \"abaaacc\")"
   ]
  },
  {
   "cell_type": "code",
   "execution_count": null,
   "id": "d3c29a3b",
   "metadata": {},
   "outputs": [],
   "source": [
    "# 2068. Check Whether Two Strings are Almost Equivalent\n",
    "\n",
    "# My Solution\n",
    "from collections import Counter\n",
    "def check_almost_equivalent(word1, word2):\n",
    "    w1_counter = Counter(word1)\n",
    "    w2_counter = Counter(word2)\n",
    "\n",
    "    unique_chars = set(w1_counter.keys()) | set(w2_counter.keys())\n",
    "\n",
    "    for c in unique_chars:\n",
    "        c1 = w1_counter[c] if c in w1_counter else 0\n",
    "        c2 = w2_counter[c] if c in w2_counter else 0\n",
    "\n",
    "        if c1 - c2 > 3 or c2 - c1 > 3:\n",
    "            return False\n",
    "        \n",
    "    return True\n",
    "\n",
    "check_almost_equivalent(word1 = \"abcdeef\", word2 = \"abaaacc\")"
   ]
  },
  {
   "cell_type": "code",
   "execution_count": 8,
   "id": "c6e589de",
   "metadata": {},
   "outputs": [
    {
     "data": {
      "text/plain": [
       "3"
      ]
     },
     "execution_count": 8,
     "metadata": {},
     "output_type": "execute_result"
    }
   ],
   "source": [
    "## 70. Climbing Stairs\n",
    "\n",
    "def climb_stairs(n):\n",
    "    prev, curr = 1, 2\n",
    "\n",
    "    for _ in range(n-1):\n",
    "        prev, curr = curr, prev+curr\n",
    "\n",
    "    return prev\n",
    "\n",
    "climb_stairs(3)"
   ]
  },
  {
   "cell_type": "code",
   "execution_count": null,
   "id": "825c88f8",
   "metadata": {},
   "outputs": [],
   "source": []
  }
 ],
 "metadata": {
  "kernelspec": {
   "display_name": "Python 3",
   "language": "python",
   "name": "python3"
  },
  "language_info": {
   "codemirror_mode": {
    "name": "ipython",
    "version": 3
   },
   "file_extension": ".py",
   "mimetype": "text/x-python",
   "name": "python",
   "nbconvert_exporter": "python",
   "pygments_lexer": "ipython3",
   "version": "3.11.9"
  }
 },
 "nbformat": 4,
 "nbformat_minor": 5
}
