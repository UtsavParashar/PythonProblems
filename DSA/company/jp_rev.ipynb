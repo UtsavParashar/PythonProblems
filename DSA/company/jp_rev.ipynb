{
 "cells": [
  {
   "cell_type": "code",
   "execution_count": null,
   "id": "90fc6b8a",
   "metadata": {},
   "outputs": [],
   "source": [
    "# bit ma"
   ]
  },
  {
   "cell_type": "code",
   "execution_count": 9,
   "id": "20823dec",
   "metadata": {},
   "outputs": [
    {
     "data": {
      "text/plain": [
       "[[1, 2], [2, 3], [3, 4]]"
      ]
     },
     "execution_count": 9,
     "metadata": {},
     "output_type": "execute_result"
    }
   ],
   "source": [
    "# 1200. Min Abs Diff\n",
    "\n",
    "def min_abs_diff(arr):\n",
    "    arr.sort()\n",
    "\n",
    "    min_diff = float('inf')\n",
    "    res = []\n",
    "    for i in range(1, len(arr)):\n",
    "        diff = arr[i] - arr[i-1]\n",
    "        if diff < min_diff:\n",
    "            res.clear()\n",
    "            min_diff = diff\n",
    "            res.append([arr[i-1], arr[i]])\n",
    "        elif diff == min_diff:\n",
    "            res.append([arr[i-1], arr[i]])\n",
    "        \n",
    "    return res\n",
    "\n",
    "min_abs_diff(arr = [4,2,1,3])\n"
   ]
  },
  {
   "cell_type": "code",
   "execution_count": 20,
   "id": "c620c162",
   "metadata": {},
   "outputs": [
    {
     "name": "stdout",
     "output_type": "stream",
     "text": [
      "False\n"
     ]
    },
    {
     "data": {
      "text/plain": [
       "True"
      ]
     },
     "execution_count": 20,
     "metadata": {},
     "output_type": "execute_result"
    }
   ],
   "source": [
    "# 2068. Check Whether Two Strings are Almost Equivalent\n",
    "\n",
    "\n",
    "# Optimized pythonic solution\n",
    "from collections import Counter\n",
    "def check_almost_equivalent(word1, word2):\n",
    "    w1_counter = Counter(word1)\n",
    "    w2_counter = Counter(word2)\n",
    "\n",
    "    for c in set(w1_counter + w2_counter):\n",
    "        if abs(w1_counter.get(c, 0) - w2_counter.get(c, 0)) > 3:\n",
    "            return False\n",
    "    return True\n",
    "\n",
    "\n",
    "print(check_almost_equivalent(word1 = \"aaaa\", word2 = \"bccb\"))\n",
    "check_almost_equivalent(word1 = \"abcdeef\", word2 = \"abaaacc\")"
   ]
  },
  {
   "cell_type": "code",
   "execution_count": null,
   "id": "d3c29a3b",
   "metadata": {},
   "outputs": [],
   "source": [
    "# 2068. Check Whether Two Strings are Almost Equivalent\n",
    "\n",
    "# My Solution\n",
    "from collections import Counter\n",
    "def check_almost_equivalent(word1, word2):\n",
    "    w1_counter = Counter(word1)\n",
    "    w2_counter = Counter(word2)\n",
    "\n",
    "    unique_chars = set(w1_counter.keys()) | set(w2_counter.keys())\n",
    "\n",
    "    for c in unique_chars:\n",
    "        c1 = w1_counter[c] if c in w1_counter else 0\n",
    "        c2 = w2_counter[c] if c in w2_counter else 0\n",
    "\n",
    "        if c1 - c2 > 3 or c2 - c1 > 3:\n",
    "            return False\n",
    "        \n",
    "    return True\n",
    "\n",
    "check_almost_equivalent(word1 = \"abcdeef\", word2 = \"abaaacc\")"
   ]
  },
  {
   "cell_type": "code",
   "execution_count": 8,
   "id": "c6e589de",
   "metadata": {},
   "outputs": [
    {
     "data": {
      "text/plain": [
       "3"
      ]
     },
     "execution_count": 8,
     "metadata": {},
     "output_type": "execute_result"
    }
   ],
   "source": [
    "## 70. Climbing Stairs\n",
    "\n",
    "def climb_stairs(n):\n",
    "    prev, curr = 1, 2\n",
    "\n",
    "    for _ in range(n-1):\n",
    "        prev, curr = curr, prev+curr\n",
    "\n",
    "    return prev\n",
    "\n",
    "climb_stairs(3)"
   ]
  },
  {
   "cell_type": "code",
   "execution_count": 3,
   "id": "825c88f8",
   "metadata": {},
   "outputs": [
    {
     "name": "stdout",
     "output_type": "stream",
     "text": [
      "5\n",
      "0\n"
     ]
    }
   ],
   "source": [
    "## 121. Best Time to Buy and Sell Stock\n",
    "\n",
    "def max_profit(prices):\n",
    "    min_px, max_profit = prices[0], 0\n",
    "\n",
    "    for px in prices[1:]:\n",
    "        min_px = min(min_px, px)\n",
    "        max_profit = max(max_profit, px-min_px)\n",
    "\n",
    "    return max_profit\n",
    "\n",
    "print(max_profit(prices = [7,1,5,3,6,4]))\n",
    "print(max_profit(prices = [7,6,4,3,1]))"
   ]
  },
  {
   "cell_type": "code",
   "execution_count": 1,
   "id": "5e3b21af",
   "metadata": {},
   "outputs": [],
   "source": [
    "### 1481. Least Number of Unique Integers after K Removals\n",
    "\n",
    "from collections import Counter\n",
    "\n",
    "def find_least_num_of_unique_ints(arr, k):\n",
    "    freq = Counter(arr)\n",
    "\n",
    "    counts = sorted(freq.values())\n",
    "    unique = len(counts)\n",
    "\n",
    "    for count in counts:\n",
    "        if k >= count:\n",
    "            k -= count\n",
    "            unique -= 1\n",
    "        else:\n",
    "            break\n",
    "    \n",
    "    return unique"
   ]
  },
  {
   "cell_type": "code",
   "execution_count": 28,
   "id": "559f1450",
   "metadata": {},
   "outputs": [
    {
     "data": {
      "text/plain": [
       "False"
      ]
     },
     "execution_count": 28,
     "metadata": {},
     "output_type": "execute_result"
    }
   ],
   "source": [
    "## 20. Valid Parentheses\n",
    "\n",
    "class Solution:\n",
    "    def isValid(self, s: str) -> bool:\n",
    "        dict = {')': '(', '}':'{', ']':'['}\n",
    "        stack = []\n",
    "\n",
    "        for c in s:\n",
    "            if c in dict:\n",
    "                if not stack or dict[c] != stack.pop():\n",
    "                    return False\n",
    "            else:\n",
    "                stack.append(c)\n",
    "\n",
    "        return not stack\n",
    "    \n",
    "Solution().isValid(\"[()])\")"
   ]
  },
  {
   "cell_type": "code",
   "execution_count": 29,
   "id": "5e891887",
   "metadata": {},
   "outputs": [
    {
     "data": {
      "text/plain": [
       "True"
      ]
     },
     "execution_count": 29,
     "metadata": {},
     "output_type": "execute_result"
    }
   ],
   "source": [
    "False or True"
   ]
  },
  {
   "cell_type": "code",
   "execution_count": null,
   "id": "5790b876",
   "metadata": {},
   "outputs": [],
   "source": []
  }
 ],
 "metadata": {
  "kernelspec": {
   "display_name": "Python 3",
   "language": "python",
   "name": "python3"
  },
  "language_info": {
   "codemirror_mode": {
    "name": "ipython",
    "version": 3
   },
   "file_extension": ".py",
   "mimetype": "text/x-python",
   "name": "python",
   "nbconvert_exporter": "python",
   "pygments_lexer": "ipython3",
   "version": "3.11.9"
  }
 },
 "nbformat": 4,
 "nbformat_minor": 5
}
