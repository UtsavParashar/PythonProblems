{
 "cells": [
  {
   "cell_type": "code",
   "execution_count": null,
   "id": "90fc6b8a",
   "metadata": {},
   "outputs": [],
   "source": [
    "# bit ma"
   ]
  },
  {
   "cell_type": "code",
   "execution_count": 9,
   "id": "20823dec",
   "metadata": {},
   "outputs": [
    {
     "data": {
      "text/plain": [
       "[[1, 2], [2, 3], [3, 4]]"
      ]
     },
     "execution_count": 9,
     "metadata": {},
     "output_type": "execute_result"
    }
   ],
   "source": [
    "# 1200. Min Abs Diff\n",
    "\n",
    "def min_abs_diff(arr):\n",
    "    arr.sort()\n",
    "\n",
    "    min_diff = float('inf')\n",
    "    res = []\n",
    "    for i in range(1, len(arr)):\n",
    "        diff = arr[i] - arr[i-1]\n",
    "        if diff < min_diff:\n",
    "            res.clear()\n",
    "            min_diff = diff\n",
    "            res.append([arr[i-1], arr[i]])\n",
    "        elif diff == min_diff:\n",
    "            res.append([arr[i-1], arr[i]])\n",
    "        \n",
    "    return res\n",
    "\n",
    "min_abs_diff(arr = [4,2,1,3])\n"
   ]
  },
  {
   "cell_type": "code",
   "execution_count": 20,
   "id": "c620c162",
   "metadata": {},
   "outputs": [
    {
     "name": "stdout",
     "output_type": "stream",
     "text": [
      "False\n"
     ]
    },
    {
     "data": {
      "text/plain": [
       "True"
      ]
     },
     "execution_count": 20,
     "metadata": {},
     "output_type": "execute_result"
    }
   ],
   "source": [
    "# 2068. Check Whether Two Strings are Almost Equivalent\n",
    "\n",
    "\n",
    "# Optimized pythonic solution\n",
    "from collections import Counter\n",
    "def check_almost_equivalent(word1, word2):\n",
    "    w1_counter = Counter(word1)\n",
    "    w2_counter = Counter(word2)\n",
    "\n",
    "    for c in set(w1_counter + w2_counter):\n",
    "        if abs(w1_counter.get(c, 0) - w2_counter.get(c, 0)) > 3:\n",
    "            return False\n",
    "    return True\n",
    "\n",
    "\n",
    "print(check_almost_equivalent(word1 = \"aaaa\", word2 = \"bccb\"))\n",
    "check_almost_equivalent(word1 = \"abcdeef\", word2 = \"abaaacc\")"
   ]
  },
  {
   "cell_type": "code",
   "execution_count": null,
   "id": "d3c29a3b",
   "metadata": {},
   "outputs": [],
   "source": [
    "# 2068. Check Whether Two Strings are Almost Equivalent\n",
    "\n",
    "# My Solution\n",
    "from collections import Counter\n",
    "def check_almost_equivalent(word1, word2):\n",
    "    w1_counter = Counter(word1)\n",
    "    w2_counter = Counter(word2)\n",
    "\n",
    "    unique_chars = set(w1_counter.keys()) | set(w2_counter.keys())\n",
    "\n",
    "    for c in unique_chars:\n",
    "        c1 = w1_counter[c] if c in w1_counter else 0\n",
    "        c2 = w2_counter[c] if c in w2_counter else 0\n",
    "\n",
    "        if c1 - c2 > 3 or c2 - c1 > 3:\n",
    "            return False\n",
    "        \n",
    "    return True\n",
    "\n",
    "check_almost_equivalent(word1 = \"abcdeef\", word2 = \"abaaacc\")"
   ]
  },
  {
   "cell_type": "code",
   "execution_count": 8,
   "id": "c6e589de",
   "metadata": {},
   "outputs": [
    {
     "data": {
      "text/plain": [
       "3"
      ]
     },
     "execution_count": 8,
     "metadata": {},
     "output_type": "execute_result"
    }
   ],
   "source": [
    "## 70. Climbing Stairs\n",
    "\n",
    "def climb_stairs(n):\n",
    "    prev, curr = 1, 2\n",
    "\n",
    "    for _ in range(n-1):\n",
    "        prev, curr = curr, prev+curr\n",
    "\n",
    "    return prev\n",
    "\n",
    "climb_stairs(3)"
   ]
  },
  {
   "cell_type": "code",
   "execution_count": 3,
   "id": "825c88f8",
   "metadata": {},
   "outputs": [
    {
     "name": "stdout",
     "output_type": "stream",
     "text": [
      "5\n",
      "0\n"
     ]
    }
   ],
   "source": [
    "## 121. Best Time to Buy and Sell Stock\n",
    "\n",
    "def max_profit(prices):\n",
    "    min_px, max_profit = prices[0], 0\n",
    "\n",
    "    for px in prices[1:]:\n",
    "        min_px = min(min_px, px)\n",
    "        max_profit = max(max_profit, px-min_px)\n",
    "\n",
    "    return max_profit\n",
    "\n",
    "print(max_profit(prices = [7,1,5,3,6,4]))\n",
    "print(max_profit(prices = [7,6,4,3,1]))"
   ]
  },
  {
   "cell_type": "code",
   "execution_count": 1,
   "id": "5e3b21af",
   "metadata": {},
   "outputs": [],
   "source": [
    "### 1481. Least Number of Unique Integers after K Removals\n",
    "\n",
    "from collections import Counter\n",
    "\n",
    "def find_least_num_of_unique_ints(arr, k):\n",
    "    freq = Counter(arr)\n",
    "\n",
    "    counts = sorted(freq.values())\n",
    "    unique = len(counts)\n",
    "\n",
    "    for count in counts:\n",
    "        if k >= count:\n",
    "            k -= count\n",
    "            unique -= 1\n",
    "        else:\n",
    "            break\n",
    "    \n",
    "    return unique"
   ]
  },
  {
   "cell_type": "code",
   "execution_count": 28,
   "id": "559f1450",
   "metadata": {},
   "outputs": [
    {
     "data": {
      "text/plain": [
       "False"
      ]
     },
     "execution_count": 28,
     "metadata": {},
     "output_type": "execute_result"
    }
   ],
   "source": [
    "## 20. Valid Parentheses\n",
    "\n",
    "class Solution:\n",
    "    def isValid(self, s: str) -> bool:\n",
    "        dict = {')': '(', '}':'{', ']':'['}\n",
    "        stack = []\n",
    "\n",
    "        for c in s:\n",
    "            if c in dict:\n",
    "                if not stack or dict[c] != stack.pop():\n",
    "                    return False\n",
    "            else:\n",
    "                stack.append(c)\n",
    "\n",
    "        return not stack\n",
    "    \n",
    "Solution().isValid(\"[()])\")"
   ]
  },
  {
   "cell_type": "code",
   "execution_count": 2,
   "id": "5e891887",
   "metadata": {},
   "outputs": [
    {
     "name": "stdout",
     "output_type": "stream",
     "text": [
      "True\n"
     ]
    }
   ],
   "source": [
    "### 2038. Remove Colored Pieces if Both Neighbours are the Same Color\n",
    "\n",
    "class Solution:\n",
    "    def winnerOfGame(self, colors: str) -> bool:\n",
    "        a = 0\n",
    "        for i in range(1, len(colors)-1):\n",
    "            if colors[i-1] == colors[i] == colors[i+1]:\n",
    "                if colors[i] == 'A':\n",
    "                    a += 1\n",
    "                else:\n",
    "                    a -= 1\n",
    "        return a>0\n",
    "    \n",
    "s = Solution()\n",
    "print(s.winnerOfGame(colors = \"AAABABB\"))"
   ]
  },
  {
   "cell_type": "code",
   "execution_count": 4,
   "id": "5790b876",
   "metadata": {},
   "outputs": [],
   "source": [
    "## 1529. Min Suffix Flips\n",
    "\n",
    "class Solution:\n",
    "    def minFlips(self, target: str) -> int:\n",
    "        flips = 0\n",
    "        current = '0'\n",
    "\n",
    "        for c in target:\n",
    "            if c != current:\n",
    "                flips += 1\n",
    "                current = c\n",
    "\n",
    "        return flips"
   ]
  },
  {
   "cell_type": "code",
   "execution_count": 5,
   "id": "b4446566",
   "metadata": {},
   "outputs": [],
   "source": [
    "# 1328. Break a Palindrome\n",
    "\n",
    "class Solution:\n",
    "    def breakPalindrome(self, palindrome: str) -> str:\n",
    "        n = len(palindrome)\n",
    "        if n == 1:\n",
    "            return \"\"\n",
    "\n",
    "        plist = list(palindrome)\n",
    "\n",
    "        for i in range(n//2):\n",
    "            if plist[i] != 'a':\n",
    "                plist[i] = 'a'\n",
    "                return ''.join(plist)\n",
    "\n",
    "        plist[-1] = 'b'\n",
    "        return ''.join(plist)"
   ]
  },
  {
   "cell_type": "code",
   "execution_count": 17,
   "id": "9b8de744",
   "metadata": {},
   "outputs": [
    {
     "data": {
      "text/plain": [
       "False"
      ]
     },
     "execution_count": 17,
     "metadata": {},
     "output_type": "execute_result"
    }
   ],
   "source": [
    "## 1812. Determine Color of a Chessboard Square\n",
    "\n",
    "class Solution:\n",
    "    def squareIsWhite(self, coordinates: str) -> bool:\n",
    "        return (ord(coordinates[0])+ int(coordinates[1]))%2 == 1\n",
    "    \n",
    "Solution().squareIsWhite('c7')"
   ]
  },
  {
   "cell_type": "code",
   "execution_count": null,
   "id": "50ce47f0",
   "metadata": {},
   "outputs": [],
   "source": [
    "### 31. Next Permutation\n",
    "\n",
    "class Solution:\n",
    "    def nextPermutation(self, nums) -> None:\n",
    "        \"\"\"\n",
    "        Do not return anything, modify nums in-place instead.\n",
    "        \"\"\"\n",
    "        n = len(nums)\n",
    "        bp = n\n",
    "\n",
    "        # 1. Find the first decreasing element from the right\n",
    "        for idx in range(n-2, -1, -1):\n",
    "            if nums[idx] < nums[idx+1]:\n",
    "                bp = idx\n",
    "                break\n",
    "\n",
    "\n",
    "        # 2. Find the next biggest number from the right and swap it\n",
    "        for idx in range(n-1, bp, -1):\n",
    "            if nums[idx] > nums[bp]:\n",
    "                nums[bp], nums[idx] = nums[idx], nums[bp]\n",
    "                break\n",
    "\n",
    "        # 3. Reverse the remaining array (bp+1 to end)\n",
    "        if bp == n:\n",
    "            nums.reverse()\n",
    "        else:\n",
    "            nums[bp+1:] = reversed(nums[bp+1:])\n",
    "\n",
    "        \n"
   ]
  },
  {
   "cell_type": "code",
   "execution_count": 3,
   "id": "e405c9ab",
   "metadata": {},
   "outputs": [
    {
     "data": {
      "text/plain": [
       "[['eat', 'tea', 'ate'], ['tan', 'nat'], ['bat']]"
      ]
     },
     "execution_count": 3,
     "metadata": {},
     "output_type": "execute_result"
    }
   ],
   "source": [
    "# 49. Group Anagrams\n",
    "\n",
    "\n",
    "from collections import defaultdict\n",
    "class Solution:\n",
    "    def groupAnagrams(self, strs):\n",
    "        anagrams = defaultdict(list)\n",
    "\n",
    "        for c in strs:\n",
    "            anagrams[tuple(sorted(c))].append(c)\n",
    "\n",
    "        return list(anagrams.values())\n",
    "    \n",
    "Solution().groupAnagrams([\"eat\",\"tea\",\"tan\",\"ate\",\"nat\",\"bat\"])"
   ]
  },
  {
   "cell_type": "code",
   "execution_count": null,
   "id": "2574bb54",
   "metadata": {},
   "outputs": [
    {
     "data": {
      "text/plain": [
       "'43520'"
      ]
     },
     "execution_count": 3,
     "metadata": {},
     "output_type": "execute_result"
    }
   ],
   "source": [
    "# 3216. Lexicographically Smallest String After a Swap\n",
    "\n",
    "class Solution:\n",
    "    def getSmallestString(self, s: str) -> str:\n",
    "        ls = list(s)\n",
    "        for i in range(1, len(s)):\n",
    "            prev, curr = int(ls[i-1]), int(ls[i])\n",
    "            if curr%2 == prev%2 and curr<prev:\n",
    "                ls[i], ls[i-1] = ls[i-1], ls[i]\n",
    "                break         # not returning from here because of input like 001 which does not need any change\n",
    "                \n",
    "        return ''.join(ls)\n",
    "        \n",
    "        \n",
    "    \n",
    "Solution().getSmallestString(\"45320\")\n"
   ]
  },
  {
   "cell_type": "code",
   "execution_count": null,
   "id": "44ba9fe4",
   "metadata": {},
   "outputs": [
    {
     "data": {
      "text/plain": [
       "[[1, 3]]"
      ]
     },
     "execution_count": 6,
     "metadata": {},
     "output_type": "execute_result"
    }
   ],
   "source": [
    "# 56. Merge Intervals\n",
    "\n",
    "class Solution:\n",
    "    def merge(self, intervals):\n",
    "        intervals.sort()\n",
    "        res = [intervals[0]]\n",
    "\n",
    "        for start, end in intervals[1:]:\n",
    "            last_end = res[-1][1]\n",
    "            if last_end >= start:\n",
    "                res[-1][1] = max(last_end, end)\n",
    "            else:\n",
    "                res.append([start, end])\n",
    "\n",
    "        return res\n",
    "\n",
    "Solution().merge([[1,3],[2,6],[8,10],[15,18]])"
   ]
  },
  {
   "cell_type": "code",
   "execution_count": null,
   "id": "c1572b46",
   "metadata": {},
   "outputs": [],
   "source": []
  }
 ],
 "metadata": {
  "kernelspec": {
   "display_name": "Python 3",
   "language": "python",
   "name": "python3"
  },
  "language_info": {
   "codemirror_mode": {
    "name": "ipython",
    "version": 3
   },
   "file_extension": ".py",
   "mimetype": "text/x-python",
   "name": "python",
   "nbconvert_exporter": "python",
   "pygments_lexer": "ipython3",
   "version": "3.11.9"
  }
 },
 "nbformat": 4,
 "nbformat_minor": 5
}
