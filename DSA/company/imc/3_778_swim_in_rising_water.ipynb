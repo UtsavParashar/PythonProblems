{
 "cells": [
  {
   "cell_type": "markdown",
   "id": "8a940739",
   "metadata": {},
   "source": [
    "#### 778. Swim in Rising Water\n",
    "* https://leetcode.com/problems/swim-in-rising-water/description/\n",
    "\n",
    "## IMC, DE Shaw"
   ]
  },
  {
   "cell_type": "code",
   "execution_count": null,
   "id": "6dc5dbbc",
   "metadata": {},
   "outputs": [
    {
     "data": {
      "text/plain": [
       "2"
      ]
     },
     "execution_count": 1,
     "metadata": {},
     "output_type": "execute_result"
    }
   ],
   "source": [
    "## Logic - Min Heap, Djikstra's Algo\n",
    "\n",
    "import heapq\n",
    "class Solution:\n",
    "    def swimInWater(self, grid):\n",
    "        n = len(grid)\n",
    "        minheap = [(grid[0][0], 0, 0)]\n",
    "        visit = set((0, 0))\n",
    "        dirs = ((-1, 0), (1, 0), (0, -1), (0, 1))\n",
    "\n",
    "        while minheap:\n",
    "            t, r, c = heapq.heappop(minheap)\n",
    "\n",
    "            if r == n-1 and c == n-1:\n",
    "                return t\n",
    "            \n",
    "            for dr, dc in dirs:\n",
    "                nr, nc = dr + r, dc + c\n",
    "                if 0<=nr<n and 0<=nc<n and (nr, nc) not in visit:\n",
    "                    heapq.heappush(minheap, (max(t, grid[nr][nc]), nr, nc))\n",
    "                    visit.add((nr, nc))\n",
    "\n",
    "            \n",
    "Solution().swimInWater([[0, 1, 3], [2, 4, 1], [1, 2, 1]])"
   ]
  },
  {
   "cell_type": "code",
   "execution_count": null,
   "id": "d7152dd1",
   "metadata": {},
   "outputs": [],
   "source": []
  }
 ],
 "metadata": {
  "kernelspec": {
   "display_name": "Python 3",
   "language": "python",
   "name": "python3"
  },
  "language_info": {
   "codemirror_mode": {
    "name": "ipython",
    "version": 3
   },
   "file_extension": ".py",
   "mimetype": "text/x-python",
   "name": "python",
   "nbconvert_exporter": "python",
   "pygments_lexer": "ipython3",
   "version": "3.11.9"
  }
 },
 "nbformat": 4,
 "nbformat_minor": 5
}
