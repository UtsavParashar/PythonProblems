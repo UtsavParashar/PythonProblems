{
 "cells": [
  {
   "cell_type": "markdown",
   "id": "7f93cf0e",
   "metadata": {},
   "source": [
    "#### 286. Wall and Gates - Islands and Treasure\n",
    "* https://neetcode.io/problems/islands-and-treasure?list=neetcode150"
   ]
  },
  {
   "cell_type": "code",
   "execution_count": null,
   "id": "360e902b",
   "metadata": {},
   "outputs": [
    {
     "name": "stdout",
     "output_type": "stream",
     "text": [
      "[[3, -1, 0, 1], [2, 2, 1, -1], [1, -1, 2, -1], [0, -1, 3, 4]]\n"
     ]
    }
   ],
   "source": [
    "# Expalanation -  https://www.youtube.com/watch?v=e69C6xhiSQE\n",
    "# Graph - Multisource BFS\n",
    "# Code - https://chatgpt.com/c/68943f40-0c88-8331-88e5-4989a9f2c8a1\n",
    "\n",
    "\n",
    "from collections import deque\n",
    "\n",
    "def walls_and_gates(grid):\n",
    "    INF = 2**31-1\n",
    "    q = deque()\n",
    "    m,n = len(grid), len(grid[0])\n",
    "\n",
    "    # Step 1 - Add gates to the queue\n",
    "    for i in range(m):\n",
    "        for j in range(n):\n",
    "            if grid[i][j] == 0:\n",
    "                q.append((i, j))\n",
    "\n",
    "    dirs = ((-1, 0), (1, 0), (0, -1), (0, 1))\n",
    "    \n",
    "    # Step 2: BFS from all gates\n",
    "    while q:\n",
    "        r, c = q.popleft()\n",
    "        for dr, dc in dirs:\n",
    "            nr, nc = dr+r, dc+c\n",
    "            if 0<=nr<m and 0<=nc<n and grid[nr][nc] == INF:\n",
    "                grid[nr][nc] = grid[r][c] + 1\n",
    "                q.append((nr, nc))\n",
    "    \n",
    "    print(grid)\n",
    "\n",
    "walls_and_gates([\n",
    "  [2147483647,-1,0,2147483647],\n",
    "  [2147483647,2147483647,2147483647,-1],\n",
    "  [2147483647,-1,2147483647,-1],\n",
    "  [0,-1,2147483647,2147483647]\n",
    "])"
   ]
  },
  {
   "cell_type": "code",
   "execution_count": 3,
   "id": "8683f6ae",
   "metadata": {},
   "outputs": [
    {
     "data": {
      "text/plain": [
       "2147483647"
      ]
     },
     "execution_count": 3,
     "metadata": {},
     "output_type": "execute_result"
    }
   ],
   "source": [
    "2**31-1"
   ]
  },
  {
   "cell_type": "code",
   "execution_count": 6,
   "id": "34265307",
   "metadata": {},
   "outputs": [
    {
     "data": {
      "text/plain": [
       "86400"
      ]
     },
     "execution_count": 6,
     "metadata": {},
     "output_type": "execute_result"
    }
   ],
   "source": [
    "24*60*60"
   ]
  },
  {
   "cell_type": "code",
   "execution_count": null,
   "id": "5f91d4d3",
   "metadata": {},
   "outputs": [],
   "source": []
  }
 ],
 "metadata": {
  "kernelspec": {
   "display_name": "Python 3",
   "language": "python",
   "name": "python3"
  },
  "language_info": {
   "codemirror_mode": {
    "name": "ipython",
    "version": 3
   },
   "file_extension": ".py",
   "mimetype": "text/x-python",
   "name": "python",
   "nbconvert_exporter": "python",
   "pygments_lexer": "ipython3",
   "version": "3.11.9"
  }
 },
 "nbformat": 4,
 "nbformat_minor": 5
}
