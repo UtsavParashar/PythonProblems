{
 "cells": [
  {
   "cell_type": "code",
   "execution_count": 1,
   "id": "06294fc0",
   "metadata": {},
   "outputs": [
    {
     "data": {
      "text/plain": [
       "True"
      ]
     },
     "execution_count": 1,
     "metadata": {},
     "output_type": "execute_result"
    }
   ],
   "source": [
    "### 125. Valid Palindrome\n",
    "### TC - O(n), SC - O(1)\n",
    "### Two pointer approach\n",
    "\n",
    "class Solution:\n",
    "    def isPalindrome(self, s: str) -> bool:\n",
    "        l, r = 0, len(s)-1\n",
    "\n",
    "        while l < r:\n",
    "            while l<r and not s[l].isalnum():\n",
    "                l += 1\n",
    "            while l<r and not s[r].isalnum():\n",
    "                r -= 1\n",
    "\n",
    "            if s[l].lower() != s[r].lower():\n",
    "                return False\n",
    "\n",
    "            l += 1\n",
    "            r -= 1\n",
    "\n",
    "        return True \n",
    "\n",
    "Solution().isPalindrome(s = \"A man, a plan, a canal: Panama\")"
   ]
  },
  {
   "cell_type": "code",
   "execution_count": 2,
   "id": "6006ec65",
   "metadata": {},
   "outputs": [
    {
     "data": {
      "text/plain": [
       "True"
      ]
     },
     "execution_count": 2,
     "metadata": {},
     "output_type": "execute_result"
    }
   ],
   "source": [
    "### 125. Valid Palindrome\n",
    "### TC - O(n), SC - O(n)\n",
    "### Pythonic approach, good for smalll strings\n",
    "\n",
    "class Solution:\n",
    "    def isPalindrome(self, s: str) -> bool:\n",
    "        filter = ''.join(c.lower() for c in s if c.isalnum())\n",
    "        return filter == filter[::-1]\n",
    "\n",
    "Solution().isPalindrome(s = \"A man, a plan, a canal: Panama\")"
   ]
  },
  {
   "cell_type": "code",
   "execution_count": null,
   "id": "aed6087d",
   "metadata": {},
   "outputs": [],
   "source": []
  }
 ],
 "metadata": {
  "kernelspec": {
   "display_name": "Python 3",
   "language": "python",
   "name": "python3"
  },
  "language_info": {
   "codemirror_mode": {
    "name": "ipython",
    "version": 3
   },
   "file_extension": ".py",
   "mimetype": "text/x-python",
   "name": "python",
   "nbconvert_exporter": "python",
   "pygments_lexer": "ipython3",
   "version": "3.11.9"
  }
 },
 "nbformat": 4,
 "nbformat_minor": 5
}
