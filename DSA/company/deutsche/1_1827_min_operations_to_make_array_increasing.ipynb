{
 "cells": [
  {
   "cell_type": "markdown",
   "id": "c36c4ee8",
   "metadata": {},
   "source": [
    "#### 1827. Min Operations to Make the Array Increasing\n",
    "\n",
    "* https://leetcode.com/problems/minimum-operations-to-make-the-array-increasing/"
   ]
  },
  {
   "cell_type": "code",
   "execution_count": null,
   "id": "6ede3343",
   "metadata": {},
   "outputs": [],
   "source": [
    "class Solution:\n",
    "    def minOperations(self, nums) -> int:\n",
    "        res = 0\n",
    "        for i in range(1, len(nums)):\n",
    "            if nums[i] <= nums[i-1]:\n",
    "                diff = nums[i-1] + 1\n",
    "                res +=  diff - nums[i]\n",
    "                nums[i] = diff\n",
    "        return res\n",
    "\n"
   ]
  },
  {
   "cell_type": "code",
   "execution_count": null,
   "id": "6e4fdc51",
   "metadata": {},
   "outputs": [],
   "source": [
    "class Solution:\n",
    "    def minOperations(self, nums) -> int:\n",
    "        res = 0\n",
    "        for i in range(1, len(nums)):\n",
    "            if nums[i] <= nums[i-1]:\n",
    "                res += nums[i-1] + 1 - nums[i]\n",
    "                nums[i] = nums[i-1] + 1\n",
    "        return res\n"
   ]
  },
  {
   "cell_type": "markdown",
   "id": "9cad3ae7",
   "metadata": {},
   "source": [
    "Intuition & Explanation\n",
    "Traverse the array from the second element.\n",
    "\n",
    "If the current element is not strictly greater than the previous element:\n",
    "\n",
    "Calculate how much to increment it: nums[i - 1] - nums[i] + 1\n",
    "\n",
    "Add this to the operations counter.\n",
    "\n",
    "Update the current element to nums[i - 1] + 1 to maintain strictly increasing order.\n",
    "\n",
    "Finally, return the total operations.\n",
    "\n",
    "Time & Space Complexity\n",
    "✅ Time Complexity: O(n) — Single pass through the array\n",
    "✅ Space Complexity: O(1) — Constant extra space used"
   ]
  },
  {
   "cell_type": "code",
   "execution_count": null,
   "id": "9a04c359",
   "metadata": {},
   "outputs": [],
   "source": []
  }
 ],
 "metadata": {
  "kernelspec": {
   "display_name": "Python 3",
   "language": "python",
   "name": "python3"
  },
  "language_info": {
   "name": "python",
   "version": "3.11.9"
  }
 },
 "nbformat": 4,
 "nbformat_minor": 5
}
