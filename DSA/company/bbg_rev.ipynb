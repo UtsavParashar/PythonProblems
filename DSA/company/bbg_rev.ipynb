{
 "cells": [
  {
   "cell_type": "code",
   "execution_count": 8,
   "id": "9adf8894",
   "metadata": {},
   "outputs": [
    {
     "data": {
      "text/plain": [
       "8"
      ]
     },
     "execution_count": 8,
     "metadata": {},
     "output_type": "execute_result"
    }
   ],
   "source": [
    "### 70. Climbing Stairs\n",
    "\n",
    "class Solution:\n",
    "    def climbStairs(self, n: int) -> int:\n",
    "        if n in [1 ,2]:\n",
    "            return n\n",
    "        prev = 1\n",
    "        curr = 2\n",
    "        for _ in range(n-2):\n",
    "            prev, curr = curr, prev+curr\n",
    "\n",
    "        return curr\n",
    "    \n",
    "Solution().climbStairs(5)\n"
   ]
  },
  {
   "cell_type": "code",
   "execution_count": 1,
   "id": "168a45eb",
   "metadata": {},
   "outputs": [
    {
     "data": {
      "text/plain": [
       "[1, 2]"
      ]
     },
     "execution_count": 1,
     "metadata": {},
     "output_type": "execute_result"
    }
   ],
   "source": [
    "## 1. Two Sum\n",
    "# Edge case, if a number + number == target then checking target-num in the existing list will return wrong result\n",
    "# edge case example - nums = [3,2,4], target = 6\n",
    "\n",
    "class Solution:\n",
    "    def twoSum(self, nums, target: int):\n",
    "        dict = {} # num: index\n",
    "        for i, num in enumerate(nums):\n",
    "            if (diff:=target-num) in dict:\n",
    "                return [dict[diff], i]\n",
    "            dict[num] = i\n",
    "            \n",
    "Solution().twoSum(nums = [3,2,4], target = 6)\n"
   ]
  },
  {
   "cell_type": "code",
   "execution_count": null,
   "id": "d7041d0f",
   "metadata": {},
   "outputs": [],
   "source": [
    "# 56. Merge Intervals\n",
    "# https://leetcode.com/problems/merge-intervals/description/\n",
    "\n",
    "# Edge case - unsorted intervals by first element\n",
    "# next intervals first element might be greater then prev intervals second element\n",
    "# but we need the max of both element at the second location (1st index element)\n",
    "\n",
    "# Logic - Check current intervals 0th element is greater than or equal to last element of merged array\n",
    "# if yes, update the last element of merged array's 1st index element\n",
    "\n",
    "class Solution:\n",
    "    def merge(self, intervals):\n",
    "        intervals.sort(key=lambda x: x[0]) # sort intervals with the first element\n",
    "        merged = [] # resultant array initialization\n",
    "        for interval in intervals:\n",
    "            if not merged or interval[0] > merged[-1][1]:\n",
    "                merged.append(interval)\n",
    "            else:\n",
    "                merged[-1][1] = max(merged[-1][1], interval[1])\n",
    "\n",
    "        return merged"
   ]
  },
  {
   "cell_type": "code",
   "execution_count": 1,
   "id": "6a57a08f",
   "metadata": {},
   "outputs": [],
   "source": [
    "## 2. Add Two Numbers\n",
    "##  https://leetcode.com/problems/add-two-numbers/description/\n",
    "\n",
    "# Edge Cases - \n",
    "# 1. length of both list are unequal\n",
    "# 2. negative numbers\n",
    "\n",
    "# Definition for singly-linked list.\n",
    "class ListNode:\n",
    "    def __init__(self, val=0, next=None):\n",
    "        self.val = val\n",
    "        self.next = next\n",
    "class Solution:\n",
    "    def addTwoNumbers(self, l1, l2):\n",
    "        head = ListNode()\n",
    "        curr = head\n",
    "        carry = 0\n",
    "\n",
    "        while l1 or l2 or carry:\n",
    "            v1 = l1.val if l1 else 0\n",
    "            v2 = l2.val if l2 else 0\n",
    "\n",
    "            total = v1 + v2 + carry\n",
    "            carry = total // 10\n",
    "\n",
    "            curr.next = ListNode(val=total%10)\n",
    "            curr = curr.next\n",
    "\n",
    "            l1 = l1.next if l1 else None\n",
    "            l2 = l2.next if l2 else None\n",
    "\n",
    "        return head.next\n"
   ]
  },
  {
   "cell_type": "code",
   "execution_count": null,
   "id": "d81140d7",
   "metadata": {},
   "outputs": [],
   "source": [
    "### 3. Longest Substring Without Repeating Characters\n",
    "# https://leetcode.com/problems/longest-substring-without-repeating-characters/description/\n",
    "\n",
    "# Sliding window problem\n",
    "# two pointers l and r\n",
    "# if same char as seen in in s[r] then remove all elements in seen from left\n",
    "# until s[r] is removed\n",
    "# check if the len of set is greater than exising max length\n",
    "# if yes, then update it\n",
    "\n",
    "class Solution:\n",
    "    def lengthOfLongestSubstring(self, s: str) -> int:\n",
    "        seen = set()\n",
    "        l, max_len = 0, 0\n",
    "        for r in range(len(s)):\n",
    "            while s[r] in seen:\n",
    "                seen.remove(s[l])\n",
    "                l += 1\n",
    "            seen.add(s[r])\n",
    "            max_len = max(max_len, r-l+1)\n",
    "        return max_len"
   ]
  }
 ],
 "metadata": {
  "kernelspec": {
   "display_name": "Python 3",
   "language": "python",
   "name": "python3"
  },
  "language_info": {
   "codemirror_mode": {
    "name": "ipython",
    "version": 3
   },
   "file_extension": ".py",
   "mimetype": "text/x-python",
   "name": "python",
   "nbconvert_exporter": "python",
   "pygments_lexer": "ipython3",
   "version": "3.11.9"
  }
 },
 "nbformat": 4,
 "nbformat_minor": 5
}
