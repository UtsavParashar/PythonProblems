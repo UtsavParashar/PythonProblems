{
 "cells": [
  {
   "cell_type": "code",
   "execution_count": 8,
   "id": "9adf8894",
   "metadata": {},
   "outputs": [
    {
     "data": {
      "text/plain": [
       "8"
      ]
     },
     "execution_count": 8,
     "metadata": {},
     "output_type": "execute_result"
    }
   ],
   "source": [
    "### 70. Climbing Stairs\n",
    "\n",
    "class Solution:\n",
    "    def climbStairs(self, n: int) -> int:\n",
    "        if n in [1 ,2]:\n",
    "            return n\n",
    "        prev = 1\n",
    "        curr = 2\n",
    "        for _ in range(n-2):\n",
    "            prev, curr = curr, prev+curr\n",
    "\n",
    "        return curr\n",
    "    \n",
    "Solution().climbStairs(5)\n"
   ]
  },
  {
   "cell_type": "code",
   "execution_count": 1,
   "id": "168a45eb",
   "metadata": {},
   "outputs": [
    {
     "data": {
      "text/plain": [
       "[1, 2]"
      ]
     },
     "execution_count": 1,
     "metadata": {},
     "output_type": "execute_result"
    }
   ],
   "source": [
    "## 1. Two Sum\n",
    "# Edge case, if a number + number == target then checking target-num in the existing list will return wrong result\n",
    "# edge case example - nums = [3,2,4], target = 6\n",
    "\n",
    "class Solution:\n",
    "    def twoSum(self, nums, target: int):\n",
    "        dict = {} # num: index\n",
    "        for i, num in enumerate(nums):\n",
    "            if (diff:=target-num) in dict:\n",
    "                return [dict[diff], i]\n",
    "            dict[num] = i\n",
    "            \n",
    "Solution().twoSum(nums = [3,2,4], target = 6)\n"
   ]
  },
  {
   "cell_type": "code",
   "execution_count": null,
   "id": "d7041d0f",
   "metadata": {},
   "outputs": [],
   "source": [
    "# 56. Merge Intervals\n",
    "# https://leetcode.com/problems/merge-intervals/description/\n",
    "\n",
    "# Edge case - unsorted intervals by first element\n",
    "# next intervals first element might be greater then prev intervals second element\n",
    "# but we need the max of both element at the second location (1st index element)\n",
    "\n",
    "# Logic - Check current intervals 0th element is greater than or equal to last element of merged array\n",
    "# if yes, update the last element of merged array's 1st index element\n",
    "\n",
    "class Solution:\n",
    "    def merge(self, intervals):\n",
    "        intervals.sort(key=lambda x: x[0]) # sort intervals with the first element\n",
    "        merged = [] # resultant array initialization\n",
    "        for interval in intervals:\n",
    "            if not merged or interval[0] > merged[-1][1]:\n",
    "                merged.append(interval)\n",
    "            else:\n",
    "                merged[-1][1] = max(merged[-1][1], interval[1])\n",
    "\n",
    "        return merged"
   ]
  },
  {
   "cell_type": "code",
   "execution_count": 1,
   "id": "6a57a08f",
   "metadata": {},
   "outputs": [],
   "source": [
    "## 2. Add Two Numbers\n",
    "##  https://leetcode.com/problems/add-two-numbers/description/\n",
    "\n",
    "# Edge Cases - \n",
    "# 1. length of both list are unequal\n",
    "# 2. negative numbers\n",
    "\n",
    "# Definition for singly-linked list.\n",
    "class ListNode:\n",
    "    def __init__(self, val=0, next=None):\n",
    "        self.val = val\n",
    "        self.next = next\n",
    "class Solution:\n",
    "    def addTwoNumbers(self, l1, l2):\n",
    "        head = ListNode()\n",
    "        curr = head\n",
    "        carry = 0\n",
    "\n",
    "        while l1 or l2 or carry:\n",
    "            v1 = l1.val if l1 else 0\n",
    "            v2 = l2.val if l2 else 0\n",
    "\n",
    "            total = v1 + v2 + carry\n",
    "            carry = total // 10\n",
    "\n",
    "            curr.next = ListNode(val=total%10)\n",
    "            curr = curr.next\n",
    "\n",
    "            l1 = l1.next if l1 else None\n",
    "            l2 = l2.next if l2 else None\n",
    "\n",
    "        return head.next\n"
   ]
  },
  {
   "cell_type": "code",
   "execution_count": null,
   "id": "d81140d7",
   "metadata": {},
   "outputs": [],
   "source": [
    "### 3. Longest Substring Without Repeating Characters\n",
    "# https://leetcode.com/problems/longest-substring-without-repeating-characters/description/\n",
    "\n",
    "# Sliding window problem\n",
    "# two pointers l and r\n",
    "# if same char as seen in in s[r] then remove all elements in seen from left\n",
    "# until s[r] is removed\n",
    "# check if the len of set is greater than exising max length\n",
    "# if yes, then update it\n",
    "\n",
    "class Solution:\n",
    "    def lengthOfLongestSubstring(self, s: str) -> int:\n",
    "        seen = set()\n",
    "        l, max_len = 0, 0\n",
    "        for r in range(len(s)):\n",
    "            while s[r] in seen:\n",
    "                seen.remove(s[l])\n",
    "                l += 1\n",
    "            seen.add(s[r])\n",
    "            max_len = max(max_len, r-l+1)\n",
    "        return max_len"
   ]
  },
  {
   "cell_type": "code",
   "execution_count": null,
   "id": "6423872d",
   "metadata": {},
   "outputs": [],
   "source": [
    "# 20. Valid Parentheses\n",
    "# https://leetcode.com/problems/valid-parentheses/description/\n",
    "# TC, SC - O(n)\n",
    "\n",
    "\n",
    "class Solution:\n",
    "    def isValid(self, s: str) -> bool:\n",
    "        pairs = {')': '(', '}': '{', ']': '['}\n",
    "        stack = []\n",
    "\n",
    "        for c in s:\n",
    "            if c in pairs.values():\n",
    "                stack.append(c)\n",
    "            elif c in pairs:\n",
    "                if not stack or stack.pop() != pairs[c]:\n",
    "                    return False\n",
    "            else:\n",
    "                return False # invalid sequence\n",
    "\n",
    "        return not stack"
   ]
  },
  {
   "cell_type": "code",
   "execution_count": null,
   "id": "8a2d1835",
   "metadata": {},
   "outputs": [
    {
     "name": "stdout",
     "output_type": "stream",
     "text": [
      "[1, 2, 2, 3, 5, 6]\n"
     ]
    }
   ],
   "source": [
    "# 88. Merge Sorted Array\n",
    "# https://leetcode.com/problems/merge-sorted-array/description/\n",
    "# 3 pointers at the end of m, n and nums1\n",
    "# update the max value from nums1 and nums2 at the end of nums1\n",
    "\n",
    "# TC - O(m+n), SC - O(1)\n",
    "\n",
    "class Solution:\n",
    "    def merge(self, nums1, m, nums2, n) -> None:\n",
    "        \"\"\"\n",
    "        Do not return anything, modify nums1 in-place instead.\n",
    "        \"\"\"\n",
    "        x = m-1\n",
    "        y = n-1\n",
    "        z = m + n -1\n",
    "\n",
    "        while y >= 0:\n",
    "            if x >= 0 and nums1[x] > nums2[y]:\n",
    "                nums1[z] = nums1[x]\n",
    "                x -= 1\n",
    "            else:\n",
    "                nums1[z] = nums2[y]\n",
    "                y -= 1\n",
    "            z -= 1\n",
    "        \n",
    "        print(nums1)\n",
    "\n",
    "Solution().merge(nums1 = [1,2,3,0,0,0], m = 3, nums2 = [2,5,6], n = 3)"
   ]
  },
  {
   "cell_type": "code",
   "execution_count": null,
   "id": "3b662598",
   "metadata": {},
   "outputs": [],
   "source": [
    "### 167. Two Sum II - Input Array Is Sorted\n",
    "### https://leetcode.com/problems/two-sum-ii-input-array-is-sorted/description/\n",
    "### Prereq for 3 sum\n",
    "### Two pointer\n",
    "## TC - O(n)\n",
    "## SC - O(1)\n",
    "\n",
    "\n",
    "class Solution:\n",
    "    def twoSum(self, numbers, target: int):\n",
    "        n = len(numbers)\n",
    "        l, r = 0, n-1\n",
    "\n",
    "        while l < r:\n",
    "            curr_sum = numbers[l] + numbers[r]\n",
    "            if curr_sum == target:\n",
    "                return [l+1, r+1]\n",
    "            elif curr_sum > target:\n",
    "                r -= 1\n",
    "            else:\n",
    "                l += 1"
   ]
  },
  {
   "cell_type": "code",
   "execution_count": null,
   "id": "784d22ea",
   "metadata": {},
   "outputs": [
    {
     "data": {
      "text/plain": [
       "0"
      ]
     },
     "execution_count": 3,
     "metadata": {},
     "output_type": "execute_result"
    }
   ],
   "source": [
    "## 42. Trapping Rain Water\n",
    "## https://leetcode.com/problems/trapping-rain-water/description/\n",
    "\n",
    "# Logic -\n",
    "# take two pointer l and r\n",
    "# calculate lmax and rmax\n",
    "# now, we need the min of these two max as the water could flow from there\n",
    "# so while l<r check if lmax< rmax or the other way round\n",
    "# move the pointer because we want to check the water at l+1 or r-1\n",
    "# get the max of lmax/rmax with current height, \n",
    "# this will help in the next statement where we subtract height by max, hence in worst case 0 will be added to the result\n",
    "\n",
    "# TC - O(n), SC - O(1)\n",
    "\n",
    "class Solution:\n",
    "    def trap(self, height) -> int:\n",
    "        if not height: return 0\n",
    "        n = len(height)\n",
    "        l, r = 0, n-1\n",
    "        lmax, rmax = height[l], height[r]\n",
    "        water = 0\n",
    "        while l < r:\n",
    "            if lmax < rmax:\n",
    "                l += 1\n",
    "                lmax = max(lmax, height[l])\n",
    "                water += lmax - height[l]\n",
    "            else:\n",
    "                r -= 1\n",
    "                rmax = max(rmax, height[r])\n",
    "                water += rmax - height[r]          \n",
    "        return water\n",
    "    \n",
    "Solution().trap([])"
   ]
  },
  {
   "cell_type": "code",
   "execution_count": null,
   "id": "d1ff24dd",
   "metadata": {},
   "outputs": [],
   "source": [
    "## 15. 3Sum\n",
    "## https://leetcode.com/problems/3sum/\n",
    "# Logic - fix a pointer i, then rest of the two pointers are like two sum sorted\n",
    "# remember to sort the array\n",
    "# remember to avoid duplicates for i, l and r\n",
    "\n",
    "# TC - O(n^2), SC - O(1)\n",
    "class Solution:\n",
    "    def threeSum(self, nums):\n",
    "        if len(nums) < 3: return # edge case to handle nums length less than 3\n",
    "        nums.sort()\n",
    "        n = len(nums)\n",
    "        res = []\n",
    "        for i in range(n-2):\n",
    "            if i > 0 and nums[i] == nums[i-1]: # skip duplicates for the first number\n",
    "                continue\n",
    "            l = i+1\n",
    "            r = n-1\n",
    "            while l < r :\n",
    "                curr = nums[i] + nums[l] + nums[r]\n",
    "                if curr == 0:\n",
    "                    res.append([nums[i], nums[l], nums[r]])\n",
    "                    l += 1\n",
    "                    r -= 1\n",
    "                    while l < r and nums[l] == nums[l-1]: # skip duplicates for the second number\n",
    "                        l += 1\n",
    "                    while l < r and nums[r] == nums[r+1]: # skip duplicates for the third number\n",
    "                        r -= 1\n",
    "                elif curr > 0:\n",
    "                    r -= 1\n",
    "                else:\n",
    "                    l += 1\n",
    "        return res\n",
    "Solution().threeSum([-1,-2,-1,0,1,2,3,6])"
   ]
  },
  {
   "cell_type": "code",
   "execution_count": 1,
   "id": "fad320b8",
   "metadata": {},
   "outputs": [
    {
     "data": {
      "text/plain": [
       "'abcddbcddeabcddbcddeabcddbcddeabcddbcddeabcddbcddeabcddbcddeabcddbcddeabcddbcddeabcddbcddeabcddbcdde'"
      ]
     },
     "execution_count": 1,
     "metadata": {},
     "output_type": "execute_result"
    }
   ],
   "source": [
    "# 394. Decode String\n",
    "# https://leetcode.com/problems/decode-string/description/\n",
    "\n",
    "# Explanation - https://www.youtube.com/watch?v=qB0zZpBJlh8\n",
    "# TC, SC - O(n)\n",
    "# Code - https://chatgpt.com/c/687cb9a6-090c-800f-bf4e-7651be5de14b\n",
    "\n",
    "class Solution:\n",
    "    def decodeString(self, s: str) -> str:\n",
    "        stack = []\n",
    "        curr_num = 0\n",
    "        curr_str = ''\n",
    "        \n",
    "        for char in s:\n",
    "            if char.isdigit():\n",
    "                # Build multi-digit numbers (e.g., \"12[abc]\")\n",
    "                curr_num = 10 * curr_num + int(char)\n",
    "                \n",
    "            elif char == '[':\n",
    "                # Save current context to stack\n",
    "                stack.append((curr_str, curr_num))\n",
    "                # Reset for the inner string\n",
    "                curr_str, curr_num = \"\", 0\n",
    "                \n",
    "            elif char == ']':\n",
    "                # Decode the current string\n",
    "                prev_str, num = stack.pop()\n",
    "                curr_str = prev_str + num * curr_str\n",
    "                \n",
    "            else:\n",
    "                # Build the current string\n",
    "                curr_str += char\n",
    "\n",
    "        return curr_str\n",
    "\n",
    "Solution().decodeString('10[a2[bc2[d]]e]')"
   ]
  },
  {
   "cell_type": "code",
   "execution_count": 1,
   "id": "fe266070",
   "metadata": {},
   "outputs": [
    {
     "data": {
      "text/plain": [
       "['JFK', 'ATL', 'JFK', 'SFO', 'ATL', 'SFO']"
      ]
     },
     "execution_count": 1,
     "metadata": {},
     "output_type": "execute_result"
    }
   ],
   "source": [
    "# 332. Reconstruct Itinerary\n",
    "# https://leetcode.com/problems/reconstruct-itinerary/description/\n",
    "\n",
    "## TC - O(E log E) where E is the number of tickets (heap operations).\n",
    "## SC - O(V + E) for the graph and recursion stack.\n",
    "\n",
    "\n",
    "from collections import defaultdict\n",
    "import heapq\n",
    "\n",
    "class Solution:\n",
    "    def findItinerary(self, tickets):\n",
    "        graph = defaultdict(list)\n",
    "\n",
    "        for src, dest in tickets:\n",
    "            heapq.heappush(graph[src], dest)\n",
    "\n",
    "        itinerary = []\n",
    "        def dfs(src):\n",
    "            while graph[src]:\n",
    "                dfs(heapq.heappop(graph[src]))\n",
    "            itinerary.append(src)\n",
    "\n",
    "        dfs('JFK')\n",
    "\n",
    "        return itinerary[::-1]\n",
    "\n",
    "Solution().findItinerary([[\"JFK\",\"SFO\"],[\"JFK\",\"ATL\"],[\"SFO\",\"ATL\"],[\"ATL\",\"JFK\"],[\"ATL\",\"SFO\"]])"
   ]
  },
  {
   "cell_type": "code",
   "execution_count": null,
   "id": "e05f7e1b",
   "metadata": {},
   "outputs": [],
   "source": [
    "# 5. Longest Palindromic Substring\n",
    "# https://leetcode.com/problems/longest-palindromic-substring/description/\n",
    "\n",
    "# Time: O(n²) — We expand around each center.\n",
    "# Space: O(1) — No extra space used apart from variables.\n",
    "\n",
    "# Logic - \n",
    "# Expand the pointer or either side of a char \n",
    "# Different cases for even and odd\n",
    "\n",
    "class Solution:\n",
    "    def longestPalindrome(self, s: str) -> str:\n",
    "        def expand_around_center(left: int, right: int) -> str:\n",
    "            while left >= 0 and right < len(s) and s[left] == s[right]:\n",
    "                left -= 1\n",
    "                right += 1\n",
    "            return s[left + 1:right]  # the valid palindrome\n",
    "\n",
    "        longest = \"\"\n",
    "        for i in range(len(s)):\n",
    "            # Odd length palindrome\n",
    "            odd = expand_around_center(i, i)\n",
    "            # Even length palindrome\n",
    "            even = expand_around_center(i, i + 1)\n",
    "            # Choose the longer one\n",
    "            curr_longest = odd if len(odd) > len(even) else even\n",
    "            # Update result\n",
    "            if len(curr_longest) > len(longest):\n",
    "                longest = curr_longest\n",
    "\n",
    "        return longest"
   ]
  },
  {
   "cell_type": "code",
   "execution_count": 2,
   "id": "e2e11929",
   "metadata": {},
   "outputs": [
    {
     "data": {
      "text/plain": [
       "1994"
      ]
     },
     "execution_count": 2,
     "metadata": {},
     "output_type": "execute_result"
    }
   ],
   "source": [
    "### 13. Roman to Integer\n",
    "## https://leetcode.com/problems/roman-to-integer/description/\n",
    "# TC - O(n), SC- O(1)\n",
    "# remember - revere the s, used for edge cases like IX == 9 (10 -1)\n",
    "\n",
    "class Solution:\n",
    "    def romanToInt(self, s: str) -> int:\n",
    "        roman_int = {\n",
    "            'I': 1,\n",
    "            'V': 5,\n",
    "            'X': 10,\n",
    "            'L': 50,\n",
    "            'C': 100,\n",
    "            'D': 500,\n",
    "            'M': 1000\n",
    "        }\n",
    "\n",
    "        total = prev = 0\n",
    "        for c in reversed(s):\n",
    "            curr = roman_int[c]\n",
    "            if curr < prev:\n",
    "                total -= curr\n",
    "            else:\n",
    "                total += curr\n",
    "            prev = curr\n",
    "        \n",
    "        return total\n",
    "    \n",
    "Solution().romanToInt(\"MCMXCIV\")"
   ]
  },
  {
   "cell_type": "code",
   "execution_count": 4,
   "id": "cb8529df",
   "metadata": {},
   "outputs": [
    {
     "data": {
      "text/plain": [
       "'fl'"
      ]
     },
     "execution_count": 4,
     "metadata": {},
     "output_type": "execute_result"
    }
   ],
   "source": [
    "#### 14. Longest Common Prefix\n",
    "# https://leetcode.com/problems/longest-common-prefix/description/\n",
    "# TC - O(n), SC- O(1)\n",
    "# Pythonic Solution using zip and *strs\n",
    "\n",
    "class Solution:\n",
    "    def longestCommonPrefix(self, strs: list[str]) -> str:\n",
    "        prefix = ''\n",
    "        for chars in zip(*strs):\n",
    "            if len(set(chars)) == 1:\n",
    "                prefix += chars[0]\n",
    "            else:\n",
    "                break # for edge case to return empty string if strs is empty\n",
    "        return prefix\n",
    " \n",
    "Solution().longestCommonPrefix([\"flower\",\"flow\",\"flight\"])"
   ]
  },
  {
   "cell_type": "code",
   "execution_count": null,
   "id": "2c4f8a76",
   "metadata": {},
   "outputs": [
    {
     "data": {
      "text/plain": [
       "'fl'"
      ]
     },
     "execution_count": 5,
     "metadata": {},
     "output_type": "execute_result"
    }
   ],
   "source": [
    "#### 14. Longest Common Prefix\n",
    "# https://leetcode.com/problems/longest-common-prefix/description/\n",
    "# TC - O(n), SC- O(1)\n",
    "# Old School Solution\n",
    "# Logic - take index from of first str\n",
    "# match char of first str with each str \n",
    "# if len of any of the string is reached or char does not match then return from first string\n",
    "\n",
    "class Solution:\n",
    "    def longestCommonPrefix(self, strs: list[str]) -> str:\n",
    "        if not strs:\n",
    "            return ''\n",
    "\n",
    "        for i in range(len(strs[0])):\n",
    "            for s in strs[1:]:\n",
    "                if i >= len(s) or s[i] != strs[0][i]:\n",
    "                    return strs[0][:i]\n",
    "        \n",
    "        return strs[0]\n",
    "Solution().longestCommonPrefix([\"flower\",\"flow\",\"flight\"])"
   ]
  },
  {
   "cell_type": "code",
   "execution_count": 6,
   "id": "f7a77b10",
   "metadata": {},
   "outputs": [
    {
     "data": {
      "text/plain": [
       "49"
      ]
     },
     "execution_count": 6,
     "metadata": {},
     "output_type": "execute_result"
    }
   ],
   "source": [
    "# 11. Container With Most Water\n",
    "# https://leetcode.com/problems/container-with-most-water/description/\n",
    "# TC - O(n), SC - O(1)\n",
    "# Two Pointer approach\n",
    "\n",
    "class Solution:\n",
    "    def maxArea(self, height: list[int]) -> int:\n",
    "        max_area = 0\n",
    "        n = len(height)\n",
    "        l, r = 0, n-1\n",
    "\n",
    "        while l < r:\n",
    "            w = r - l\n",
    "\n",
    "            if height[l] < height[r]:\n",
    "                area = w * height[l]\n",
    "                l += 1\n",
    "            else:\n",
    "                area = w * height[r]\n",
    "                r -= 1\n",
    "            \n",
    "            max_area = max(max_area, area)\n",
    "\n",
    "        return max_area\n",
    "    \n",
    "Solution().maxArea(height = [1,8,6,2,5,4,8,3,7])"
   ]
  },
  {
   "cell_type": "code",
   "execution_count": 1,
   "id": "89b8f4ca",
   "metadata": {},
   "outputs": [],
   "source": [
    "## 7. Reverse Integer\n",
    "## https://leetcode.com/problems/reverse-integer/description/\n",
    "# TC - O(log10(x)), SC - O(1)\n",
    "\n",
    "class Solution:\n",
    "    def reverse(self, x: int) -> int:\n",
    "        MIN_INT = -2**31\n",
    "        MAX_INT = (2**31) - 1\n",
    "        sign = -1 if x < 0 else 1\n",
    "        x = abs(x)\n",
    "\n",
    "        res = 0\n",
    "        while x:\n",
    "            rem = x % 10\n",
    "            \n",
    "            if res > (MAX_INT - rem) // 10:\n",
    "                return 0\n",
    "            \n",
    "            res = res*10 + rem\n",
    "            x //= 10\n",
    "        \n",
    "        return sign*res"
   ]
  },
  {
   "cell_type": "code",
   "execution_count": 13,
   "id": "c423657d",
   "metadata": {},
   "outputs": [],
   "source": [
    "## 21. Merge Two Sorted Linked List\n",
    "## TC - O(n+m), SC - O(1)\n",
    "## Time Complexity: O(n + m) — where n and m are lengths of the two input lists.\n",
    "# Space Complexity: O(1) — in-place merging with no extra space (excluding output list).\n",
    "\n",
    "\n",
    "# Definition for singly-linked list.\n",
    "class ListNode:\n",
    "    def __init__(self, val=0, next=None):\n",
    "        self.val = val\n",
    "        self.next = next\n",
    "class Solution:\n",
    "    def mergeTwoLists(self, list1, list2):\n",
    "        dummy = ListNode()\n",
    "        curr = dummy\n",
    "\n",
    "        while list1 and list2: \n",
    "            if list1.val <= list2.val:\n",
    "                curr.next = ListNode(val = list1.val)\n",
    "                list1 = list1.next\n",
    "            else:\n",
    "                curr.next = ListNode(val = list2.val)\n",
    "                list2 = list2.next\n",
    "            curr = curr.next\n",
    "\n",
    "        curr.next = list1 if list1 else list2\n",
    "\n",
    "        return dummy.next\n",
    "        "
   ]
  },
  {
   "cell_type": "code",
   "execution_count": 24,
   "id": "b0b1dd6a",
   "metadata": {},
   "outputs": [
    {
     "data": {
      "text/plain": [
       "4"
      ]
     },
     "execution_count": 24,
     "metadata": {},
     "output_type": "execute_result"
    }
   ],
   "source": [
    "## 33. Search in Rotated Sorted Array\n",
    "## https://leetcode.com/problems/search-in-rotated-sorted-array/description/\n",
    "\n",
    "\n",
    "class Solution:\n",
    "    def search(self, nums: list[int], target: int) -> int:\n",
    "        if not nums or  target is None:\n",
    "            return\n",
    "\n",
    "        l, r = 0, len(nums)-1\n",
    "\n",
    "        while l<=r:\n",
    "            m = (l+r)//2\n",
    "\n",
    "            if nums[m] == target:\n",
    "                return m\n",
    "            elif nums[l] <= nums[m]:\n",
    "                if nums[l] <= target < nums[m]:\n",
    "                    r = m - 1\n",
    "                else:\n",
    "                    l = m + 1\n",
    "            else:\n",
    "                if nums[m] < target <= nums[r]:\n",
    "                    l = m + 1\n",
    "                else:\n",
    "                    r = m - 1\n",
    "        return -1\n",
    "    \n",
    "Solution().search([4,5,6,7,0,1,2], target = 0)"
   ]
  },
  {
   "cell_type": "code",
   "execution_count": 3,
   "id": "67afe11c",
   "metadata": {},
   "outputs": [
    {
     "data": {
      "text/plain": [
       "[[], [1], [2], [2, 1], [3], [3, 1], [3, 2], [3, 2, 1]]"
      ]
     },
     "execution_count": 3,
     "metadata": {},
     "output_type": "execute_result"
    }
   ],
   "source": [
    "# 78. Subsets\n",
    "# https://leetcode.com/problems/subsets/description/\n",
    "# Good explanation of backtracking - https://www.youtube.com/watch?v=UP3dOYJa05s&t=587s\n",
    "# https://chatgpt.com/c/68825860-1104-800f-8dd9-4a69ce59815f\n",
    "class Solution:\n",
    "    def subsets(self, nums: list[int]) -> list[list[int]]:\n",
    "        sol, res = [], []\n",
    "        n = len(nums)\n",
    "\n",
    "        def bt(i):\n",
    "            if i == n:\n",
    "                res.append(sol[:])\n",
    "                return\n",
    "\n",
    "            # does not add the items\n",
    "            bt(i+1)\n",
    "\n",
    "            # add item\n",
    "            sol.append(nums[i])\n",
    "            bt(i+1)\n",
    "            sol.pop()\n",
    "\n",
    "        bt(0)\n",
    "\n",
    "        return res\n",
    "    \n",
    "Solution().subsets([3,2,1])"
   ]
  },
  {
   "cell_type": "code",
   "execution_count": null,
   "id": "44320aa2",
   "metadata": {},
   "outputs": [
    {
     "data": {
      "text/plain": [
       "['((()))', '(()())', '(())()', '()(())', '()()()']"
      ]
     },
     "execution_count": 15,
     "metadata": {},
     "output_type": "execute_result"
    }
   ],
   "source": [
    "# 22. Generate Parentheses\n",
    "# https://leetcode.com/problems/generate-parentheses/description/\n",
    "# Solution uses Catalan number, which grows slower than 2^(2n)\n",
    "# This solution uses backtracking with pruning and efficiently generates only the valid strings, making it both correct and optimal.\n",
    "# Think of solving a maze:\n",
    "# Backtracking = Try every path, go back if you hit a wall.\n",
    "# Pruning = Skip entering rooms you already know have walls or traps.\n",
    "#✅ Final Complexity Summary\n",
    "#Type\tComplexity\n",
    "#⏱ Time\tO(4ⁿ / √n)\n",
    "#🧠 Space (total)\tO(4ⁿ / √n) for output + O(n) for stack\n",
    "\n",
    "class Solution:\n",
    "    def generateParenthesis(self, n: int) -> list[str]:\n",
    "        sol, res = [], []\n",
    "\n",
    "        def bt(open, close):\n",
    "            if open == close == n:\n",
    "                res.append(''.join(sol))\n",
    "                return\n",
    "\n",
    "            if open < n:\n",
    "                sol.append('(')\n",
    "                bt(open+1, close)\n",
    "                sol.pop()\n",
    "\n",
    "            if close < open:\n",
    "                sol.append(')')\n",
    "                bt(open, close+1)\n",
    "                sol.pop()\n",
    "\n",
    "\n",
    "        bt(0,0)\n",
    "\n",
    "        return res\n",
    "    \n",
    "Solution().generateParenthesis(3)"
   ]
  },
  {
   "cell_type": "code",
   "execution_count": 2,
   "id": "cb789667",
   "metadata": {},
   "outputs": [
    {
     "data": {
      "text/plain": [
       "[[1, 2], [2, 1]]"
      ]
     },
     "execution_count": 2,
     "metadata": {},
     "output_type": "execute_result"
    }
   ],
   "source": [
    "## 46. Permutations\n",
    "## https://leetcode.com/problems/permutations/submissions/1711935754/\n",
    "### Traverse the vals of nums\n",
    "## if num not in sol then add it\n",
    "## base case is if len(sol) == len(num) then it could be added to res\n",
    "\n",
    "# TC - O(n!)\n",
    "# SC - O(n)\n",
    "\n",
    "class Solution:\n",
    "    def permute(self, nums):\n",
    "        n = len(nums)\n",
    "        sol, res = [], []\n",
    "\n",
    "        def dfs():\n",
    "            if len(sol) == n:\n",
    "                res.append(sol[:])\n",
    "                return\n",
    "\n",
    "            for val in nums:\n",
    "                if val not in sol:\n",
    "                    sol.append(val)\n",
    "                    dfs()\n",
    "                    sol.pop()\n",
    "\n",
    "        dfs()\n",
    "\n",
    "        return res\n",
    "    \n",
    "Solution().permute([1,2])"
   ]
  },
  {
   "cell_type": "code",
   "execution_count": 4,
   "id": "451208d8",
   "metadata": {},
   "outputs": [
    {
     "data": {
      "text/plain": [
       "[[2, 2, 2, 2], [2, 3, 3], [2, 6]]"
      ]
     },
     "execution_count": 4,
     "metadata": {},
     "output_type": "execute_result"
    }
   ],
   "source": [
    "# 39. Combination Sum\n",
    "# https://leetcode.com/problems/combination-sum/description/\n",
    "\n",
    "# Preferred Solution\n",
    "\n",
    "## n branches\n",
    "## each num be have two branches, one with itself, one with next number\n",
    "\n",
    "# Time and Space Complexity\n",
    "# Time Complexity:\n",
    "# Exponential in nature — worst case is O(2^T) (where T is the target), because each number can be chosen multiple times. \n",
    "# Sorting + pruning helps practically.\n",
    "\n",
    "# Space Complexity:\n",
    "# O(T) for recursion depth and path storage.\n",
    "\n",
    "class Solution:\n",
    "    def combinationSum(self, nums: list[int], target: int):\n",
    "        nums.sort() # For early pruning\n",
    "        n = len(nums)\n",
    "        sol, res = [], []\n",
    "        def dfs(i, curr_sum):\n",
    "            if curr_sum == target:\n",
    "                res.append(sol[:])\n",
    "                return\n",
    "\n",
    "            for j in range(i, n):\n",
    "                if curr_sum+nums[j] > target: ## For early pruning\n",
    "                    break\n",
    "                sol.append(nums[j])\n",
    "                dfs(j, curr_sum+nums[j])\n",
    "                sol.pop()\n",
    "            \n",
    "        dfs(0, 0)\n",
    "        return res\n",
    "    \n",
    "Solution().combinationSum([2,3,6,7], 8)"
   ]
  },
  {
   "cell_type": "code",
   "execution_count": null,
   "id": "a42ff460",
   "metadata": {},
   "outputs": [],
   "source": [
    "# 40. Combination Sum II\n",
    "# https://leetcode.com/problems/combination-sum-ii/description/\n",
    "\n",
    "# Similar to leetcode 39\n",
    "# But here we don't want duplicates hence we sort and check that nums[j] != nums[j-1]\n",
    "# TC - O(2^n)\n",
    "# SC - O(n)\n",
    "# Tree explanation - https://www.youtube.com/watch?v=rSA3t6BDDwg&t=743s\n",
    "class Solution:\n",
    "    def combinationSum2(self, nums: list[int], target: int) -> list[list[int]]:\n",
    "        nums.sort()\n",
    "        n = len(nums)\n",
    "        sol, res = [], []\n",
    "\n",
    "        def dfs(i, curr_sum):\n",
    "            if curr_sum == target:\n",
    "                res.append(sol[:])\n",
    "                return\n",
    "\n",
    "            for j in range(i, n):\n",
    "                if j > i and nums[j] == nums[j-1]:\n",
    "                    continue\n",
    "                if nums[j] + curr_sum > target:\n",
    "                    break\n",
    "                \n",
    "                sol.append(nums[j])\n",
    "                dfs(j+1, curr_sum+nums[j])\n",
    "                sol.pop()\n",
    "\n",
    "        dfs(0, 0)\n",
    "        return res"
   ]
  },
  {
   "cell_type": "code",
   "execution_count": 15,
   "id": "c5d1d24c",
   "metadata": {},
   "outputs": [
    {
     "data": {
      "text/plain": [
       "1"
      ]
     },
     "execution_count": 15,
     "metadata": {},
     "output_type": "execute_result"
    }
   ],
   "source": [
    "class Solution:\n",
    "    def trap(self, height: list[int]) -> int:\n",
    "        n = len(height)\n",
    "        l, r = 0, n-1\n",
    "        lmax, rmax = height[l], height[r]\n",
    "        res = 0\n",
    "        while l < r:\n",
    "            if lmax < rmax:\n",
    "                l += 1\n",
    "                lmax = max(lmax, height[l])\n",
    "                res += lmax - height[l]\n",
    "            else:\n",
    "                r -= 1\n",
    "                rmax = max(rmax, height[r])\n",
    "                res += rmax - height[r]\n",
    "        return res\n",
    "    \n",
    "Solution().trap([1,0,1])"
   ]
  },
  {
   "cell_type": "code",
   "execution_count": 18,
   "id": "7c1d9b68",
   "metadata": {},
   "outputs": [
    {
     "data": {
      "text/plain": [
       "[('f', 'f', 'f'), ('l', 'l', 'l'), ('o', 'o', 'o'), ('w', 'w', 'w')]"
      ]
     },
     "execution_count": 18,
     "metadata": {},
     "output_type": "execute_result"
    }
   ],
   "source": [
    "strs = [\"flower\",\"flow\",\"flowder\"]\n",
    "list(zip(*strs))"
   ]
  },
  {
   "cell_type": "code",
   "execution_count": null,
   "id": "c4351733",
   "metadata": {},
   "outputs": [
    {
     "data": {
      "text/plain": [
       "'str'"
      ]
     },
     "execution_count": 21,
     "metadata": {},
     "output_type": "execute_result"
    }
   ],
   "source": []
  },
  {
   "cell_type": "code",
   "execution_count": null,
   "id": "fdc92ee9",
   "metadata": {},
   "outputs": [],
   "source": []
  }
 ],
 "metadata": {
  "kernelspec": {
   "display_name": "Python 3",
   "language": "python",
   "name": "python3"
  },
  "language_info": {
   "codemirror_mode": {
    "name": "ipython",
    "version": 3
   },
   "file_extension": ".py",
   "mimetype": "text/x-python",
   "name": "python",
   "nbconvert_exporter": "python",
   "pygments_lexer": "ipython3",
   "version": "3.11.9"
  }
 },
 "nbformat": 4,
 "nbformat_minor": 5
}
