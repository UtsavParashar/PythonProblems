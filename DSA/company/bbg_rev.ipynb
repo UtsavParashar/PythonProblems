{
 "cells": [
  {
   "cell_type": "code",
   "execution_count": 8,
   "id": "9adf8894",
   "metadata": {},
   "outputs": [
    {
     "data": {
      "text/plain": [
       "8"
      ]
     },
     "execution_count": 8,
     "metadata": {},
     "output_type": "execute_result"
    }
   ],
   "source": [
    "### 70. Climbing Stairs\n",
    "\n",
    "class Solution:\n",
    "    def climbStairs(self, n: int) -> int:\n",
    "        if n in [1 ,2]:\n",
    "            return n\n",
    "        prev = 1\n",
    "        curr = 2\n",
    "        for _ in range(n-2):\n",
    "            prev, curr = curr, prev+curr\n",
    "\n",
    "        return curr\n",
    "    \n",
    "Solution().climbStairs(5)\n"
   ]
  },
  {
   "cell_type": "code",
   "execution_count": 1,
   "id": "168a45eb",
   "metadata": {},
   "outputs": [
    {
     "data": {
      "text/plain": [
       "[1, 2]"
      ]
     },
     "execution_count": 1,
     "metadata": {},
     "output_type": "execute_result"
    }
   ],
   "source": [
    "## 1. Two Sum\n",
    "# Edge case, if a number + number == target then checking target-num in the existing list will return wrong result\n",
    "# edge case example - nums = [3,2,4], target = 6\n",
    "\n",
    "class Solution:\n",
    "    def twoSum(self, nums, target: int):\n",
    "        dict = {} # num: index\n",
    "        for i, num in enumerate(nums):\n",
    "            if (diff:=target-num) in dict:\n",
    "                return [dict[diff], i]\n",
    "            dict[num] = i\n",
    "            \n",
    "Solution().twoSum(nums = [3,2,4], target = 6)\n"
   ]
  },
  {
   "cell_type": "code",
   "execution_count": null,
   "id": "d7041d0f",
   "metadata": {},
   "outputs": [],
   "source": [
    "# 56. Merge Intervals\n",
    "# https://leetcode.com/problems/merge-intervals/description/\n",
    "\n",
    "# Edge case - unsorted intervals by first element\n",
    "# next intervals first element might be greater then prev intervals second element\n",
    "# but we need the max of both element at the second location (1st index element)\n",
    "\n",
    "# Logic - Check current intervals 0th element is greater than or equal to last element of merged array\n",
    "# if yes, update the last element of merged array's 1st index element\n",
    "\n",
    "class Solution:\n",
    "    def merge(self, intervals):\n",
    "        intervals.sort(key=lambda x: x[0]) # sort intervals with the first element\n",
    "        merged = [] # resultant array initialization\n",
    "        for interval in intervals:\n",
    "            if not merged or interval[0] > merged[-1][1]:\n",
    "                merged.append(interval)\n",
    "            else:\n",
    "                merged[-1][1] = max(merged[-1][1], interval[1])\n",
    "\n",
    "        return merged"
   ]
  },
  {
   "cell_type": "code",
   "execution_count": 1,
   "id": "6a57a08f",
   "metadata": {},
   "outputs": [],
   "source": [
    "## 2. Add Two Numbers\n",
    "##  https://leetcode.com/problems/add-two-numbers/description/\n",
    "\n",
    "# Edge Cases - \n",
    "# 1. length of both list are unequal\n",
    "# 2. negative numbers\n",
    "\n",
    "# Definition for singly-linked list.\n",
    "class ListNode:\n",
    "    def __init__(self, val=0, next=None):\n",
    "        self.val = val\n",
    "        self.next = next\n",
    "class Solution:\n",
    "    def addTwoNumbers(self, l1, l2):\n",
    "        head = ListNode()\n",
    "        curr = head\n",
    "        carry = 0\n",
    "\n",
    "        while l1 or l2 or carry:\n",
    "            v1 = l1.val if l1 else 0\n",
    "            v2 = l2.val if l2 else 0\n",
    "\n",
    "            total = v1 + v2 + carry\n",
    "            carry = total // 10\n",
    "\n",
    "            curr.next = ListNode(val=total%10)\n",
    "            curr = curr.next\n",
    "\n",
    "            l1 = l1.next if l1 else None\n",
    "            l2 = l2.next if l2 else None\n",
    "\n",
    "        return head.next\n"
   ]
  },
  {
   "cell_type": "code",
   "execution_count": null,
   "id": "d81140d7",
   "metadata": {},
   "outputs": [],
   "source": [
    "### 3. Longest Substring Without Repeating Characters\n",
    "# https://leetcode.com/problems/longest-substring-without-repeating-characters/description/\n",
    "\n",
    "# Sliding window problem\n",
    "# two pointers l and r\n",
    "# if same char as seen in in s[r] then remove all elements in seen from left\n",
    "# until s[r] is removed\n",
    "# check if the len of set is greater than exising max length\n",
    "# if yes, then update it\n",
    "\n",
    "class Solution:\n",
    "    def lengthOfLongestSubstring(self, s: str) -> int:\n",
    "        seen = set()\n",
    "        l, max_len = 0, 0\n",
    "        for r in range(len(s)):\n",
    "            while s[r] in seen:\n",
    "                seen.remove(s[l])\n",
    "                l += 1\n",
    "            seen.add(s[r])\n",
    "            max_len = max(max_len, r-l+1)\n",
    "        return max_len"
   ]
  },
  {
   "cell_type": "code",
   "execution_count": null,
   "id": "6423872d",
   "metadata": {},
   "outputs": [],
   "source": [
    "# 20. Valid Parentheses\n",
    "# https://leetcode.com/problems/valid-parentheses/description/\n",
    "# TC, SC - O(n)\n",
    "\n",
    "\n",
    "class Solution:\n",
    "    def isValid(self, s: str) -> bool:\n",
    "        pairs = {')': '(', '}': '{', ']': '['}\n",
    "        stack = []\n",
    "\n",
    "        for c in s:\n",
    "            if c in pairs.values():\n",
    "                stack.append(c)\n",
    "            elif c in pairs:\n",
    "                if not stack or stack.pop() != pairs[c]:\n",
    "                    return False\n",
    "            else:\n",
    "                return False # invalid sequence\n",
    "\n",
    "        return not stack"
   ]
  },
  {
   "cell_type": "code",
   "execution_count": null,
   "id": "8a2d1835",
   "metadata": {},
   "outputs": [
    {
     "name": "stdout",
     "output_type": "stream",
     "text": [
      "[1, 2, 2, 3, 5, 6]\n"
     ]
    }
   ],
   "source": [
    "# 88. Merge Sorted Array\n",
    "# https://leetcode.com/problems/merge-sorted-array/description/\n",
    "# 3 pointers at the end of m, n and nums1\n",
    "# update the max value from nums1 and nums2 at the end of nums1\n",
    "\n",
    "# TC - O(m+n), SC - O(1)\n",
    "\n",
    "class Solution:\n",
    "    def merge(self, nums1, m, nums2, n) -> None:\n",
    "        \"\"\"\n",
    "        Do not return anything, modify nums1 in-place instead.\n",
    "        \"\"\"\n",
    "        x = m-1\n",
    "        y = n-1\n",
    "        z = m + n -1\n",
    "\n",
    "        while y >= 0:\n",
    "            if x >= 0 and nums1[x] > nums2[y]:\n",
    "                nums1[z] = nums1[x]\n",
    "                x -= 1\n",
    "            else:\n",
    "                nums1[z] = nums2[y]\n",
    "                y -= 1\n",
    "            z -= 1\n",
    "        \n",
    "        print(nums1)\n",
    "\n",
    "Solution().merge(nums1 = [1,2,3,0,0,0], m = 3, nums2 = [2,5,6], n = 3)"
   ]
  },
  {
   "cell_type": "code",
   "execution_count": null,
   "id": "3b662598",
   "metadata": {},
   "outputs": [],
   "source": [
    "### 167. Two Sum II - Input Array Is Sorted\n",
    "### https://leetcode.com/problems/two-sum-ii-input-array-is-sorted/description/\n",
    "### Prereq for 3 sum\n",
    "### Two pointer\n",
    "## TC - O(n)\n",
    "## SC - O(1)\n",
    "\n",
    "\n",
    "class Solution:\n",
    "    def twoSum(self, numbers, target: int):\n",
    "        n = len(numbers)\n",
    "        l, r = 0, n-1\n",
    "\n",
    "        while l < r:\n",
    "            curr_sum = numbers[l] + numbers[r]\n",
    "            if curr_sum == target:\n",
    "                return [l+1, r+1]\n",
    "            elif curr_sum > target:\n",
    "                r -= 1\n",
    "            else:\n",
    "                l += 1"
   ]
  },
  {
   "cell_type": "code",
   "execution_count": null,
   "id": "784d22ea",
   "metadata": {},
   "outputs": [
    {
     "data": {
      "text/plain": [
       "0"
      ]
     },
     "execution_count": 3,
     "metadata": {},
     "output_type": "execute_result"
    }
   ],
   "source": [
    "## 42. Trapping Rain Water\n",
    "## https://leetcode.com/problems/trapping-rain-water/description/\n",
    "\n",
    "# Logic -\n",
    "# take two pointer l and r\n",
    "# calculate lmax and rmax\n",
    "# now, we need the min of these two max as the water could flow from there\n",
    "# so while l<r check if lmax< rmax or the other way round\n",
    "# move the pointer because we want to check the water at l+1 or r-1\n",
    "# get the max of lmax/rmax with current height, \n",
    "# this will help in the next statement where we subtract height by max, hence in worst case 0 will be added to the result\n",
    "\n",
    "# TC - O(n), SC - O(1)\n",
    "\n",
    "class Solution:\n",
    "    def trap(self, height) -> int:\n",
    "        if not height: return 0\n",
    "        n = len(height)\n",
    "        l, r = 0, n-1\n",
    "        lmax, rmax = height[l], height[r]\n",
    "        water = 0\n",
    "        while l < r:\n",
    "            if lmax < rmax:\n",
    "                l += 1\n",
    "                lmax = max(lmax, height[l])\n",
    "                water += lmax - height[l]\n",
    "            else:\n",
    "                r -= 1\n",
    "                rmax = max(rmax, height[r])\n",
    "                water += rmax - height[r]          \n",
    "        return water\n",
    "    \n",
    "Solution().trap([])"
   ]
  },
  {
   "cell_type": "code",
   "execution_count": null,
   "id": "d1ff24dd",
   "metadata": {},
   "outputs": [],
   "source": []
  }
 ],
 "metadata": {
  "kernelspec": {
   "display_name": "Python 3",
   "language": "python",
   "name": "python3"
  },
  "language_info": {
   "codemirror_mode": {
    "name": "ipython",
    "version": 3
   },
   "file_extension": ".py",
   "mimetype": "text/x-python",
   "name": "python",
   "nbconvert_exporter": "python",
   "pygments_lexer": "ipython3",
   "version": "3.11.9"
  }
 },
 "nbformat": 4,
 "nbformat_minor": 5
}
