{
 "cells": [
  {
   "cell_type": "code",
   "execution_count": 8,
   "id": "9adf8894",
   "metadata": {},
   "outputs": [
    {
     "data": {
      "text/plain": [
       "8"
      ]
     },
     "execution_count": 8,
     "metadata": {},
     "output_type": "execute_result"
    }
   ],
   "source": [
    "### 70. Climbing Stairs\n",
    "\n",
    "class Solution:\n",
    "    def climbStairs(self, n: int) -> int:\n",
    "        if n in [1 ,2]:\n",
    "            return n\n",
    "        prev = 1\n",
    "        curr = 2\n",
    "        for _ in range(n-2):\n",
    "            prev, curr = curr, prev+curr\n",
    "\n",
    "        return curr\n",
    "    \n",
    "Solution().climbStairs(5)\n"
   ]
  },
  {
   "cell_type": "code",
   "execution_count": null,
   "id": "168a45eb",
   "metadata": {},
   "outputs": [
    {
     "data": {
      "text/plain": [
       "[2, 1]"
      ]
     },
     "execution_count": 17,
     "metadata": {},
     "output_type": "execute_result"
    }
   ],
   "source": [
    "## 1. Two Sum\n",
    "# Edge case, if a number + number == target then checking target-num in the existing list will return wrong result\n",
    "# edge case example - nums = [3,2,4], target = 6\n",
    "\n",
    "class Solution:\n",
    "    def twoSum(self, nums, target: int):\n",
    "        dict = {}\n",
    "        for i, num in enumerate(nums):\n",
    "            if target-num in dict:\n",
    "                return [i, dict[target-num]]\n",
    "            dict[num] = i\n",
    "            \n",
    "Solution().twoSum(nums = [3,2,4], target = 6)\n"
   ]
  },
  {
   "cell_type": "code",
   "execution_count": null,
   "id": "d7041d0f",
   "metadata": {},
   "outputs": [],
   "source": []
  }
 ],
 "metadata": {
  "kernelspec": {
   "display_name": "Python 3",
   "language": "python",
   "name": "python3"
  },
  "language_info": {
   "codemirror_mode": {
    "name": "ipython",
    "version": 3
   },
   "file_extension": ".py",
   "mimetype": "text/x-python",
   "name": "python",
   "nbconvert_exporter": "python",
   "pygments_lexer": "ipython3",
   "version": "3.11.9"
  }
 },
 "nbformat": 4,
 "nbformat_minor": 5
}
