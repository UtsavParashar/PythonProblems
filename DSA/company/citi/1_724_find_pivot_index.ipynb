{
 "cells": [
  {
   "cell_type": "markdown",
   "id": "b514cc84",
   "metadata": {},
   "source": [
    "#### 724. Find Pivot Index\n",
    "\n",
    "* https://leetcode.com/problems/find-pivot-index/description/\n",
    "\n",
    "#### ['Citigroup']\n"
   ]
  },
  {
   "cell_type": "code",
   "execution_count": 2,
   "id": "a828f559",
   "metadata": {},
   "outputs": [
    {
     "data": {
      "text/plain": [
       "3"
      ]
     },
     "execution_count": 2,
     "metadata": {},
     "output_type": "execute_result"
    }
   ],
   "source": [
    "class Solution:\n",
    "    def pivotIndex(self, nums: list[int]) -> int:\n",
    "        total = sum(nums)\n",
    "        left_sum = 0\n",
    "        \n",
    "        for i, num in enumerate(nums):\n",
    "            right_sum = total - left_sum - num\n",
    "            if left_sum == right_sum:\n",
    "                return i\n",
    "            left_sum += num\n",
    "\n",
    "        return -1\n",
    "\n",
    "Solution().pivotIndex([1,7,3,6,5,6])"
   ]
  },
  {
   "cell_type": "code",
   "execution_count": 8,
   "id": "d5d96f3f",
   "metadata": {},
   "outputs": [
    {
     "data": {
      "text/plain": [
       "[0, 0, 4, 1, 8]"
      ]
     },
     "execution_count": 8,
     "metadata": {},
     "output_type": "execute_result"
    }
   ],
   "source": [
    "handles = [i//2 if i%2 else i*2 for i in range(5)]\n",
    "handles"
   ]
  },
  {
   "cell_type": "code",
   "execution_count": 10,
   "id": "f110a8d6",
   "metadata": {},
   "outputs": [
    {
     "data": {
      "text/plain": [
       "6"
      ]
     },
     "execution_count": 10,
     "metadata": {},
     "output_type": "execute_result"
    }
   ],
   "source": [
    "class Solution:\n",
    "    def maximalRectangle(self, matrix) -> int:\n",
    "        ma = 0\n",
    "        def max_area(heights):\n",
    "            nonlocal ma\n",
    "            heights = [int(x) for x in heights]\n",
    "            stack = []\n",
    "\n",
    "            for i, height in enumerate(heights + [0]):\n",
    "                while stack and heights[stack[-1]] > height:\n",
    "                    h = heights[stack.pop()]\n",
    "                    w = i if not stack else i - stack[-1] - 1\n",
    "                    ma = max(ma, h*w)\n",
    "                stack.append(i)\n",
    "\n",
    "\n",
    "\n",
    "        m, n = len(matrix), len(matrix[0])\n",
    "\n",
    "        for r in range(1, m):\n",
    "            for c in range(n):\n",
    "                if int(matrix[r][c]) == 1 and int(matrix[r-1][c]) >= 1:\n",
    "                    matrix[r][c] = int(matrix[r][c]) + int(matrix[r-1][c])\n",
    "\n",
    "        for r in range(m):\n",
    "                max_area(matrix[r])\n",
    "\n",
    "        return ma\n",
    "Solution().maximalRectangle([[\"1\",\"0\",\"1\",\"0\",\"0\"],[\"1\",\"0\",\"1\",\"1\",\"1\"],[\"1\",\"1\",\"1\",\"1\",\"1\"],[\"1\",\"0\",\"0\",\"1\",\"0\"]])"
   ]
  },
  {
   "cell_type": "code",
   "execution_count": null,
   "id": "f12cbace",
   "metadata": {},
   "outputs": [],
   "source": []
  }
 ],
 "metadata": {
  "kernelspec": {
   "display_name": "Python 3",
   "language": "python",
   "name": "python3"
  },
  "language_info": {
   "codemirror_mode": {
    "name": "ipython",
    "version": 3
   },
   "file_extension": ".py",
   "mimetype": "text/x-python",
   "name": "python",
   "nbconvert_exporter": "python",
   "pygments_lexer": "ipython3",
   "version": "3.11.9"
  }
 },
 "nbformat": 4,
 "nbformat_minor": 5
}
