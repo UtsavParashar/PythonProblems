{
 "cells": [
  {
   "cell_type": "markdown",
   "id": "92162aa5",
   "metadata": {},
   "source": [
    "#### 238. Product of Array Except Self\n",
    "\n",
    "* https://leetcode.com/problems/product-of-array-except-self/description/\n",
    "\n",
    "#### ['Goldman Sachs', 'Intuit', 'Citigroup']"
   ]
  },
  {
   "cell_type": "code",
   "execution_count": null,
   "id": "ad6914a5",
   "metadata": {},
   "outputs": [
    {
     "data": {
      "text/plain": [
       "[24, 12, 8, 6]"
      ]
     },
     "execution_count": 1,
     "metadata": {},
     "output_type": "execute_result"
    }
   ],
   "source": [
    "class Solution:\n",
    "    def productExceptSelf(self, nums: list[int]) -> list[int]:\n",
    "        zero_count = nums.count(0)\n",
    "        \n",
    "        if zero_count > 1:\n",
    "            return [0] * len(nums)\n",
    "        \n",
    "        total_prod = 1\n",
    "        for num in nums:\n",
    "            if num != 0:\n",
    "                total_prod *= num\n",
    "        \n",
    "        if zero_count == 1:\n",
    "            return [total_prod if num == 0 else 0 for num in nums]\n",
    "        else:\n",
    "            return [total_prod // num for num in nums]\n",
    "\n",
    "Solution().productExceptSelf([1, 2, 3, 4])"
   ]
  },
  {
   "cell_type": "code",
   "execution_count": 2,
   "id": "311a5cd2",
   "metadata": {},
   "outputs": [
    {
     "name": "stdout",
     "output_type": "stream",
     "text": [
      "[1, 1, 1, 1]\n",
      "[1, 1, 1, 1]\n",
      "[1, 1, 2, 1]\n",
      "[1, 1, 2, 6]\n"
     ]
    },
    {
     "data": {
      "text/plain": [
       "[24, 12, 8, 6]"
      ]
     },
     "execution_count": 2,
     "metadata": {},
     "output_type": "execute_result"
    }
   ],
   "source": [
    "from typing import List\n",
    "\n",
    "class Solution:\n",
    "    def productExceptSelf(self, nums: List[int]) -> List[int]:\n",
    "        n = len(nums)\n",
    "        res = [1] * n\n",
    "\n",
    "        # prefix products\n",
    "        prefix = 1\n",
    "        for i in range(n):\n",
    "            res[i] = prefix\n",
    "            print(res)\n",
    "            prefix *= nums[i]\n",
    "\n",
    "        # suffix products\n",
    "        suffix = 1\n",
    "        for i in range(n - 1, -1, -1):\n",
    "            res[i] *= suffix\n",
    "            suffix *= nums[i]\n",
    "\n",
    "        return res\n",
    "\n",
    "Solution().productExceptSelf([1, 2, 3, 4])"
   ]
  }
 ],
 "metadata": {
  "kernelspec": {
   "display_name": "Python 3",
   "language": "python",
   "name": "python3"
  },
  "language_info": {
   "codemirror_mode": {
    "name": "ipython",
    "version": 3
   },
   "file_extension": ".py",
   "mimetype": "text/x-python",
   "name": "python",
   "nbconvert_exporter": "python",
   "pygments_lexer": "ipython3",
   "version": "3.11.9"
  }
 },
 "nbformat": 4,
 "nbformat_minor": 5
}
