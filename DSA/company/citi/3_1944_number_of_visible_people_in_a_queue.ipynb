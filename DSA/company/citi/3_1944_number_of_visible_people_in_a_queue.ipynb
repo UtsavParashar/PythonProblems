{
 "cells": [
  {
   "cell_type": "markdown",
   "id": "2a4d6424",
   "metadata": {},
   "source": [
    "#### 1944. Number of Visible People in a Queue\n",
    "\n",
    "* https://leetcode.com/problems/number-of-visible-people-in-a-queue/description/\n",
    "\n",
    "\n",
    "#### [Citi]\n"
   ]
  },
  {
   "cell_type": "code",
   "execution_count": 2,
   "id": "f8a4d604",
   "metadata": {},
   "outputs": [
    {
     "data": {
      "text/plain": [
       "[3, 1, 2, 1, 1, 0]"
      ]
     },
     "execution_count": 2,
     "metadata": {},
     "output_type": "execute_result"
    }
   ],
   "source": [
    "# Time complexity: O(n)\n",
    "# Space complexity: O(n)\n",
    "\n",
    "class Solution:\n",
    "    def canSeePersonsCount(self, heights: list[int]) -> list[int]:\n",
    "        stack = []\n",
    "        n = len(heights)\n",
    "        res = [0]*n\n",
    "\n",
    "        for i in reversed(range(n)):\n",
    "            count = 0\n",
    "\n",
    "            while stack and stack[-1] < heights[i]:\n",
    "                stack.pop()\n",
    "                count += 1\n",
    "\n",
    "            if stack:\n",
    "                count += 1\n",
    "\n",
    "            res[i] = count\n",
    "            stack.append(heights[i])\n",
    "\n",
    "        return res\n",
    "\n",
    "Solution().canSeePersonsCount([10,6,8,5,11,9])"
   ]
  },
  {
   "cell_type": "markdown",
   "id": "a78226a6",
   "metadata": {},
   "source": [
    "nside the for loop there's a while loop, won't the time complexity be n^2 or n*k\n",
    "ChatGPT said:\n",
    "\n",
    "That’s a very sharp observation 👌 — let’s break it down carefully.\n",
    "\n",
    "Why it looks like O(n²)\n",
    "\n",
    "We have an outer for loop running n times.\n",
    "\n",
    "Inside, there’s a while loop that could, in the worst case, pop multiple elements.\n",
    "\n",
    "At first glance, that might suggest O(n²).\n",
    "\n",
    "Why it’s actually O(n)\n",
    "\n",
    "The key is amortized analysis of the stack operations:\n",
    "\n",
    "Every element is pushed once into the stack.\n",
    "\n",
    "Every element is popped at most once from the stack.\n",
    "\n",
    "So across the entire for loop, the total number of while loop pops is at most n.\n",
    "\n",
    "That means:\n",
    "\n",
    "Even though the while loop may run multiple times in some iterations,\n",
    "\n",
    "Across all iterations combined, it runs at most n times.\n",
    "\n",
    "Putting it together\n",
    "\n",
    "Outer loop: runs n times.\n",
    "\n",
    "Push + Pop operations: each element can only be pushed once and popped once → 2n operations max.\n",
    "\n",
    "✅ So the total work = O(n + n) = O(n)\n",
    "\n",
    "Complexity\n",
    "\n",
    "Time: O(n) (amortized)\n",
    "\n",
    "Space: O(n)\n",
    "\n",
    "👉 So if you’re in an interview and the interviewer asks “isn’t that O(n²) because of the while loop?”, you can confidently answer:\n",
    "\n",
    "“It may look quadratic, but each person is pushed and popped at most once, so the total number of stack operations is linear. Hence the solution is O(n) time and O(n) space.”"
   ]
  },
  {
   "cell_type": "code",
   "execution_count": null,
   "id": "ec0ae360",
   "metadata": {},
   "outputs": [],
   "source": []
  }
 ],
 "metadata": {
  "kernelspec": {
   "display_name": "Python 3",
   "language": "python",
   "name": "python3"
  },
  "language_info": {
   "codemirror_mode": {
    "name": "ipython",
    "version": 3
   },
   "file_extension": ".py",
   "mimetype": "text/x-python",
   "name": "python",
   "nbconvert_exporter": "python",
   "pygments_lexer": "ipython3",
   "version": "3.11.9"
  }
 },
 "nbformat": 4,
 "nbformat_minor": 5
}
