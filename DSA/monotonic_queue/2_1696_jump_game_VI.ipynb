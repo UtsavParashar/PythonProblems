{
 "cells": [
  {
   "cell_type": "markdown",
   "id": "cc1291ef",
   "metadata": {},
   "source": [
    "#### 1696. Jump Game VI\n",
    "\n",
    "* https://leetcode.com/problems/jump-game-vi/description/"
   ]
  },
  {
   "cell_type": "code",
   "execution_count": 4,
   "id": "c4ddcbbd",
   "metadata": {},
   "outputs": [],
   "source": [
    "## Same as sliding window maximum\n",
    "## Credit - https://github.com/AlgoMaster-io/leetcode-solutions/blob/main/python/jump-game-vi.md#optimized-dp-with-sliding-window-maximum\n",
    "\n",
    "from collections import deque\n",
    "\n",
    "def max_result(nums, k):\n",
    "    n = len(nums)\n",
    "    dq = deque([0]) # queue of index\n",
    "\n",
    "    for i in range(1, n):\n",
    "        nums[i] += nums[dq[0]]\n",
    "\n",
    "        if dq and dq[0] == i-k:\n",
    "            dq.popleft()\n",
    "\n",
    "        while dq and nums[i] > nums[dq[-1]]:\n",
    "            dq.pop()\n",
    "\n",
    "        dq.append(i)\n",
    "\n",
    "    return nums[-1]"
   ]
  },
  {
   "cell_type": "code",
   "execution_count": 5,
   "id": "88a8b4e8",
   "metadata": {},
   "outputs": [
    {
     "data": {
      "text/plain": [
       "28"
      ]
     },
     "execution_count": 5,
     "metadata": {},
     "output_type": "execute_result"
    }
   ],
   "source": [
    "max_result(nums = [10,11,-2,4,0,3], k = 3)"
   ]
  },
  {
   "cell_type": "code",
   "execution_count": null,
   "id": "9fa3013e",
   "metadata": {},
   "outputs": [],
   "source": []
  }
 ],
 "metadata": {
  "kernelspec": {
   "display_name": "Python 3",
   "language": "python",
   "name": "python3"
  },
  "language_info": {
   "codemirror_mode": {
    "name": "ipython",
    "version": 3
   },
   "file_extension": ".py",
   "mimetype": "text/x-python",
   "name": "python",
   "nbconvert_exporter": "python",
   "pygments_lexer": "ipython3",
   "version": "3.11.9"
  }
 },
 "nbformat": 4,
 "nbformat_minor": 5
}
