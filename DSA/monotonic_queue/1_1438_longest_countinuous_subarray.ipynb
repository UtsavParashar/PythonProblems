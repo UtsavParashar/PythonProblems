{
 "cells": [
  {
   "cell_type": "markdown",
   "metadata": {},
   "source": [
    "1438. Longest Continuous Subarray With Absolute Diff Less Than or Equal to Limit\n",
    "\n",
    "* https://leetcode.com/problems/longest-continuous-subarray-with-absolute-diff-less-than-or-equal-to-limit/description/\n",
    "\n",
    "- Given an array of integers nums and an integer limit, return the size of the longest non-empty subarray such that the absolute difference between any two elements of this subarray is less than or equal to limit.\n",
    "\n",
    "- Example 1:\n",
    "- Input: nums = [8,2,4,7], limit = 4\n",
    "- Output: 2 \n",
    "- Explanation: All subarrays are: \n",
    "- [8] with maximum absolute diff |8-8| = 0 <= 4.\n",
    "- [8,2] with maximum absolute diff |8-2| = 6 > 4. \n",
    "- [8,2,4] with maximum absolute diff |8-2| = 6 > 4.\n",
    "- [8,2,4,7] with maximum absolute diff |8-2| = 6 > 4.\n",
    "- [2] with maximum absolute diff |2-2| = 0 <= 4.\n",
    "- [2,4] with maximum absolute diff |2-4| = 2 <= 4.\n",
    "- [2,4,7] with maximum absolute diff |2-7| = 5 > 4.\n",
    "- [4] with maximum absolute diff |4-4| = 0 <= 4.\n",
    "- [4,7] with maximum absolute diff |4-7| = 3 <= 4.\n",
    "- [7] with maximum absolute diff |7-7| = 0 <= 4. \n",
    "- Therefore, the size of the longest subarray is 2.\n",
    "\n",
    "- Example 2:\n",
    "- Input: nums = [10,1,2,4,7,2], limit = 5\n",
    "- Output: 4 \n",
    "- Explanation: The subarray [2,4,7,2] is the longest since the maximum absolute diff is |2-7| = 5 <= 5.\n",
    "\n",
    "- Example 3:\n",
    "- Input: nums = [4,2,2,2,4,4,2,2], limit = 0\n",
    "- Output: 3"
   ]
  },
  {
   "cell_type": "code",
   "execution_count": 3,
   "metadata": {},
   "outputs": [],
   "source": [
    "def brute_force(nums, limit):\n",
    "    max_length = 0\n",
    "    n = len(nums)\n",
    "\n",
    "    for i in range(n):\n",
    "        min_ele = nums[i]\n",
    "        max_ele = nums[i]\n",
    "        for j in range(i, n):\n",
    "            min_ele = min(min_ele, nums[j])\n",
    "            max_ele = max(max_ele, nums[j])\n",
    "\n",
    "            if max_ele - min_ele <= limit:\n",
    "                max_length = max(max_length, j-i+1)\n",
    "            else:\n",
    "                break\n",
    "    return max_length"
   ]
  },
  {
   "cell_type": "code",
   "execution_count": 4,
   "metadata": {},
   "outputs": [
    {
     "data": {
      "text/plain": [
       "2"
      ]
     },
     "execution_count": 4,
     "metadata": {},
     "output_type": "execute_result"
    }
   ],
   "source": [
    "brute_force(nums = [8,2,4,7], limit = 4)"
   ]
  },
  {
   "cell_type": "code",
   "execution_count": 9,
   "metadata": {},
   "outputs": [],
   "source": [
    "from collections import deque\n",
    "\n",
    "def optimized_with_monotonic_queue(nums, limit):\n",
    "    max_deque = deque()  # To track the maximum elements\n",
    "    min_deque = deque()  # To track the minimum elements\n",
    "    left = 0  # Left pointer of the sliding window\n",
    "    max_length = 0\n",
    "\n",
    "    for right in range(len(nums)):\n",
    "        # Maintain the max deque\n",
    "        while max_deque and nums[max_deque[-1]] < nums[right]:\n",
    "            max_deque.pop()\n",
    "        max_deque.append(right)\n",
    "\n",
    "        # Maintain the min deque\n",
    "        while min_deque and nums[min_deque[-1]] > nums[right]:\n",
    "            min_deque.pop()\n",
    "        min_deque.append(right)\n",
    "\n",
    "        # Check if the current window is valid\n",
    "        while nums[max_deque[0]] - nums[min_deque[0]] > limit:\n",
    "            # Shrink the window from the left\n",
    "            left += 1\n",
    "            if max_deque[0] < left:\n",
    "                max_deque.popleft()\n",
    "            if min_deque[0] < left:\n",
    "                min_deque.popleft()\n",
    "\n",
    "        # Update the maximum length of the valid subarray\n",
    "        max_length = max(max_length, right - left + 1)\n",
    "\n",
    "    return max_length"
   ]
  },
  {
   "cell_type": "code",
   "execution_count": 10,
   "metadata": {},
   "outputs": [
    {
     "data": {
      "text/plain": [
       "2"
      ]
     },
     "execution_count": 10,
     "metadata": {},
     "output_type": "execute_result"
    }
   ],
   "source": [
    "optimized_with_monotonic_queue(nums = [8,2,4,7], limit = 4)"
   ]
  },
  {
   "cell_type": "code",
   "execution_count": 11,
   "metadata": {},
   "outputs": [
    {
     "data": {
      "text/plain": [
       "4"
      ]
     },
     "execution_count": 11,
     "metadata": {},
     "output_type": "execute_result"
    }
   ],
   "source": [
    "optimized_with_monotonic_queue(nums = [10,1,2,4,7,2], limit = 5)"
   ]
  },
  {
   "cell_type": "code",
   "execution_count": null,
   "metadata": {},
   "outputs": [],
   "source": []
  }
 ],
 "metadata": {
  "kernelspec": {
   "display_name": "Python 3",
   "language": "python",
   "name": "python3"
  },
  "language_info": {
   "codemirror_mode": {
    "name": "ipython",
    "version": 3
   },
   "file_extension": ".py",
   "mimetype": "text/x-python",
   "name": "python",
   "nbconvert_exporter": "python",
   "pygments_lexer": "ipython3",
   "version": "3.11.9"
  }
 },
 "nbformat": 4,
 "nbformat_minor": 2
}
