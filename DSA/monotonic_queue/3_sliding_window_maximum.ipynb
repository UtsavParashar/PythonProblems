{
 "cells": [
  {
   "cell_type": "markdown",
   "metadata": {},
   "source": [
    "#### 239. Sliding Window Maximum\n",
    "\n",
    "* You are given an array of integers nums, there is a sliding window of size k which is moving from the very left of the array to the very right. You can only see the k numbers in the window. Each time the sliding window moves right by one position.\n",
    "\n",
    "* Return the max sliding window.\n",
    "\n",
    "* Example 1:\n",
    "- Input: nums = [1,3,-1,-3,5,3,6,7], k = 3\n",
    "- Output: [3,3,5,5,6,7]\n",
    "- Explanation: \n",
    "- Window position                Max\n",
    "- ---------------               -----\n",
    "- [1  3  -1] -3  5  3  6  7       3\n",
    "-  1 [3  -1  -3] 5  3  6  7       3\n",
    "-  1  3 [-1  -3  5] 3  6  7       5\n",
    "-  1  3  -1 [-3  5  3] 6  7       5\n",
    "-  1  3  -1  -3 [5  3  6] 7       6\n",
    "-  1  3  -1  -3  5 [3  6  7]      7\n",
    "\n",
    "* Example 2:\n",
    "- Input: nums = [1], k = 1\n",
    "- Output: [1]"
   ]
  },
  {
   "cell_type": "code",
   "execution_count": null,
   "metadata": {},
   "outputs": [],
   "source": [
    "# O((n-k)*k)\n",
    "def brute_force(nums, k):\n",
    "    return [max(nums[i:i+k]) for i in range(len(nums)-k+1)]\n"
   ]
  },
  {
   "cell_type": "code",
   "execution_count": 2,
   "metadata": {},
   "outputs": [
    {
     "data": {
      "text/plain": [
       "[3, 3, 5, 5, 6, 7]"
      ]
     },
     "execution_count": 2,
     "metadata": {},
     "output_type": "execute_result"
    }
   ],
   "source": [
    "brute_force(nums = [1,3,-1,-3,5,3,6,7], k = 3)"
   ]
  },
  {
   "cell_type": "code",
   "execution_count": 3,
   "metadata": {},
   "outputs": [
    {
     "data": {
      "text/plain": [
       "[1]"
      ]
     },
     "execution_count": 3,
     "metadata": {},
     "output_type": "execute_result"
    }
   ],
   "source": [
    "brute_force(nums = [1], k = 1)"
   ]
  },
  {
   "cell_type": "code",
   "execution_count": 8,
   "metadata": {},
   "outputs": [],
   "source": [
    "from collections import deque\n",
    "\n",
    "def optimized_sliding_window_max(nums, k):\n",
    "    res = []\n",
    "    dq = deque()\n",
    "\n",
    "    for i, num in enumerate(nums):\n",
    "\n",
    "        dq.append(i)\n",
    "    \n",
    "    print(dq)\n"
   ]
  },
  {
   "cell_type": "code",
   "execution_count": 9,
   "metadata": {},
   "outputs": [
    {
     "name": "stdout",
     "output_type": "stream",
     "text": [
      "deque([0, 1, 2, 3, 4, 5, 6, 7])\n"
     ]
    }
   ],
   "source": [
    "optimized_sliding_window_max(nums = [1,3,-1,-3,5,3,6,7], k = 3)"
   ]
  },
  {
   "cell_type": "code",
   "execution_count": null,
   "metadata": {},
   "outputs": [],
   "source": []
  }
 ],
 "metadata": {
  "kernelspec": {
   "display_name": "Python 3",
   "language": "python",
   "name": "python3"
  },
  "language_info": {
   "codemirror_mode": {
    "name": "ipython",
    "version": 3
   },
   "file_extension": ".py",
   "mimetype": "text/x-python",
   "name": "python",
   "nbconvert_exporter": "python",
   "pygments_lexer": "ipython3",
   "version": "3.11.9"
  }
 },
 "nbformat": 4,
 "nbformat_minor": 2
}
