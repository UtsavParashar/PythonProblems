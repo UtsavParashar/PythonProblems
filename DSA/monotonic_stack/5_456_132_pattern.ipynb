{
 "cells": [
  {
   "cell_type": "markdown",
   "id": "f5b1d553",
   "metadata": {},
   "source": [
    "#### 456. 132 Pattern\n",
    "\n",
    "* https://leetcode.com/problems/132-pattern/description/"
   ]
  },
  {
   "cell_type": "code",
   "execution_count": 2,
   "id": "b3c56e30",
   "metadata": {},
   "outputs": [],
   "source": [
    "### Credit - https://www.youtube.com/watch?v=q5ANAl8Z458\n",
    "\n",
    "def find_132_pattern(nums):\n",
    "    stack = [] # monotonically decreasing stack, pair (num, curr_min)\n",
    "    curr_min = nums[0]\n",
    "    for num in nums[1:]:\n",
    "        while stack and stack[-1][0] <= num:\n",
    "            stack.pop()\n",
    "        if stack and stack[-1][1] < num:\n",
    "            return True\n",
    "        stack.append([num, curr_min])\n",
    "        curr_min = min(curr_min, num)\n",
    "\n",
    "    return False\n"
   ]
  },
  {
   "cell_type": "code",
   "execution_count": null,
   "id": "865362d9",
   "metadata": {},
   "outputs": [],
   "source": [
    "def find_132_pattern(nums):\n",
    "    if len(nums) < 3:\n",
    "        return False\n",
    "\n",
    "    stack = []\n",
    "    second_max = float('-inf')  # Represents the \"2\" in the 132 pattern\n",
    "\n",
    "    # Traverse the array from right to left\n",
    "    for num in reversed(nums):\n",
    "        if num < second_max:  # Found the \"1\" in the 132 pattern\n",
    "            return True\n",
    "        while stack and stack[-1] < num:\n",
    "            second_max = stack.pop()  # Update the \"2\" in the 132 pattern\n",
    "        stack.append(num)  # Push the current number as a candidate for \"3\"\n",
    "\n",
    "    return False"
   ]
  }
 ],
 "metadata": {
  "kernelspec": {
   "display_name": "Python 3",
   "language": "python",
   "name": "python3"
  },
  "language_info": {
   "codemirror_mode": {
    "name": "ipython",
    "version": 3
   },
   "file_extension": ".py",
   "mimetype": "text/x-python",
   "name": "python",
   "nbconvert_exporter": "python",
   "pygments_lexer": "ipython3",
   "version": "3.11.9"
  }
 },
 "nbformat": 4,
 "nbformat_minor": 5
}
