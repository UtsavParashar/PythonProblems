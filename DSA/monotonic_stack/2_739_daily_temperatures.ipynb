{
 "cells": [
  {
   "cell_type": "markdown",
   "metadata": {},
   "source": [
    "#### 739. Daily Temperatures\n",
    "\n",
    "* Given an array of integers temperatures represents the daily temperatures, return an array answer such that answer[i] is the number of days you have to wait after the ith day to get a warmer temperature. If there is no future day for which this is possible, keep answer[i] == 0 instead.\n",
    "\n",
    "- Example 1:\n",
    "- Input: temperatures = [73,74,75,71,69,72,76,73]\n",
    "- Output: [1,1,4,2,1,1,0,0]\n",
    "\n",
    "- Example 2:\n",
    "- Input: temperatures = [30,40,50,60]\n",
    "- Output: [1,1,1,0]\n",
    "\n",
    "- Example 3:\n",
    "- Input: temperatures = [30,60,90]\n",
    "- Output: [1,1,0]"
   ]
  },
  {
   "cell_type": "code",
   "execution_count": 4,
   "metadata": {},
   "outputs": [],
   "source": [
    "def daily_temperatures(temperarures: list[int]) -> list[int]:\n",
    "    res=[0]*len(temperarures)\n",
    "    stack = []\n",
    "\n",
    "    for i, v in enumerate(temperarures):\n",
    "        while stack and v > temperarures[stack[-1]]:\n",
    "            pop_index =  stack.pop()\n",
    "            res[pop_index] = i - pop_index\n",
    "        stack.append(i)\n",
    "    return res\n"
   ]
  },
  {
   "cell_type": "code",
   "execution_count": 5,
   "metadata": {},
   "outputs": [
    {
     "data": {
      "text/plain": [
       "[1, 1, 4, 2, 1, 1, 0, 0]"
      ]
     },
     "execution_count": 5,
     "metadata": {},
     "output_type": "execute_result"
    }
   ],
   "source": [
    "daily_temperatures(temperarures = [73,74,75,71,69,72,76,73])"
   ]
  },
  {
   "cell_type": "code",
   "execution_count": 6,
   "metadata": {},
   "outputs": [
    {
     "data": {
      "text/plain": [
       "[1, 1, 1, 0]"
      ]
     },
     "execution_count": 6,
     "metadata": {},
     "output_type": "execute_result"
    }
   ],
   "source": [
    "daily_temperatures(temperarures = [30,40,50,60])"
   ]
  },
  {
   "cell_type": "code",
   "execution_count": null,
   "metadata": {},
   "outputs": [],
   "source": []
  }
 ],
 "metadata": {
  "kernelspec": {
   "display_name": "Python 3",
   "language": "python",
   "name": "python3"
  },
  "language_info": {
   "codemirror_mode": {
    "name": "ipython",
    "version": 3
   },
   "file_extension": ".py",
   "mimetype": "text/x-python",
   "name": "python",
   "nbconvert_exporter": "python",
   "pygments_lexer": "ipython3",
   "version": "3.11.9"
  }
 },
 "nbformat": 4,
 "nbformat_minor": 2
}
