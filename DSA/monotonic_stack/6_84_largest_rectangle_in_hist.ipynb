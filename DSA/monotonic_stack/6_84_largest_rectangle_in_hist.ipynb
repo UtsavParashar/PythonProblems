{
 "cells": [
  {
   "cell_type": "markdown",
   "id": "9831381e",
   "metadata": {},
   "source": [
    "#### 84. Largest rectangle in histogram\n",
    "\n",
    "* https://leetcode.com/problems/largest-rectangle-in-histogram/description/"
   ]
  },
  {
   "cell_type": "code",
   "execution_count": 9,
   "id": "2216997d",
   "metadata": {},
   "outputs": [],
   "source": [
    "## Credit - https://www.youtube.com/watch?v=ZGMw8Bvpwd4\n",
    "\n",
    "def largest_rectangle_area(heights):\n",
    "    stack = [] # monotonic decreasing stack, pairs(height, start_index)\n",
    "    max_area = 0\n",
    "\n",
    "    for i, height in enumerate(heights):\n",
    "        start = i\n",
    "        while stack and height < stack[-1][0]:\n",
    "            h, j = stack.pop()\n",
    "            w = i - j\n",
    "            max_area = max(max_area, h*w)\n",
    "            \n",
    "            start = j # as the previous blocks width could also be included\n",
    "        \n",
    "        stack.append([height, start])\n",
    "\n",
    "    # if elements are left in the stack\n",
    "    while stack:\n",
    "        h, j = stack.pop()\n",
    "        w = len(heights) - j\n",
    "        max_area = max(max_area, h*w)\n",
    "\n",
    "    return max_area"
   ]
  },
  {
   "cell_type": "code",
   "execution_count": 10,
   "id": "be1bb44b",
   "metadata": {},
   "outputs": [
    {
     "data": {
      "text/plain": [
       "10"
      ]
     },
     "execution_count": 10,
     "metadata": {},
     "output_type": "execute_result"
    }
   ],
   "source": [
    "largest_rectangle_area([2,1,5,6,2,3])"
   ]
  },
  {
   "cell_type": "code",
   "execution_count": 5,
   "id": "10e9457e",
   "metadata": {},
   "outputs": [
    {
     "data": {
      "text/plain": [
       "4"
      ]
     },
     "execution_count": 5,
     "metadata": {},
     "output_type": "execute_result"
    }
   ],
   "source": [
    "largest_rectangle_area([2,4])"
   ]
  },
  {
   "cell_type": "code",
   "execution_count": 6,
   "id": "d47b1b1e",
   "metadata": {},
   "outputs": [],
   "source": [
    "def largest_rectangle_area(heights):\n",
    "    stack = []  # monotonic decreasing stack, stores (index, height)\n",
    "    max_area = 0\n",
    "\n",
    "    for i, height in enumerate(heights + [0]):  # Add a sentinel value to flush the stack\n",
    "        while stack and heights[stack[-1]] > height:\n",
    "            h = heights[stack.pop()]\n",
    "            w = i if not stack else i - stack[-1] - 1\n",
    "            max_area = max(max_area, h * w)\n",
    "        stack.append(i)\n",
    "\n",
    "    return max_area\n"
   ]
  },
  {
   "cell_type": "code",
   "execution_count": 7,
   "id": "51d6b1ff",
   "metadata": {},
   "outputs": [
    {
     "data": {
      "text/plain": [
       "10"
      ]
     },
     "execution_count": 7,
     "metadata": {},
     "output_type": "execute_result"
    }
   ],
   "source": [
    "largest_rectangle_area([2,1,5,6,2,3])"
   ]
  },
  {
   "cell_type": "code",
   "execution_count": 8,
   "id": "a2ca61da",
   "metadata": {},
   "outputs": [
    {
     "data": {
      "text/plain": [
       "4"
      ]
     },
     "execution_count": 8,
     "metadata": {},
     "output_type": "execute_result"
    }
   ],
   "source": [
    "largest_rectangle_area([2,4])"
   ]
  },
  {
   "cell_type": "code",
   "execution_count": null,
   "id": "87e358b6",
   "metadata": {},
   "outputs": [],
   "source": []
  }
 ],
 "metadata": {
  "kernelspec": {
   "display_name": "Python 3",
   "language": "python",
   "name": "python3"
  },
  "language_info": {
   "codemirror_mode": {
    "name": "ipython",
    "version": 3
   },
   "file_extension": ".py",
   "mimetype": "text/x-python",
   "name": "python",
   "nbconvert_exporter": "python",
   "pygments_lexer": "ipython3",
   "version": "3.11.9"
  }
 },
 "nbformat": 4,
 "nbformat_minor": 5
}
