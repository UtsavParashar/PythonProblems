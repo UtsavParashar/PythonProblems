{
 "cells": [
  {
   "cell_type": "markdown",
   "id": "6f84dfe3",
   "metadata": {},
   "source": [
    "#### 901. Online Stock Span\n",
    "\n",
    "* https://leetcode.com/problems/online-stock-span/description/"
   ]
  },
  {
   "cell_type": "code",
   "execution_count": 9,
   "id": "591cb2ad",
   "metadata": {},
   "outputs": [],
   "source": [
    "# Credit - https://www.youtube.com/watch?v=slYh0ZNEqSw\n",
    "\n",
    "class StockSpanner:\n",
    "    def __init__(self):\n",
    "        self.stack = [] # pair (px, span) - monotonically decreasing stack\n",
    "\n",
    "    def next(self, price):\n",
    "        span = 1\n",
    "        while self.stack and self.stack[-1][0] <= price:\n",
    "            span += self.stack.pop()[1]\n",
    "        self.stack.append((price, span))\n",
    "        return span\n",
    "\n"
   ]
  },
  {
   "cell_type": "code",
   "execution_count": 10,
   "id": "6a8f0f7b",
   "metadata": {},
   "outputs": [
    {
     "name": "stdout",
     "output_type": "stream",
     "text": [
      "1\n",
      "1\n",
      "1\n",
      "2\n",
      "1\n",
      "4\n",
      "6\n"
     ]
    }
   ],
   "source": [
    "ss = StockSpanner()\n",
    "print(ss.next(100))\n",
    "print(ss.next(80))\n",
    "print(ss.next(60))\n",
    "print(ss.next(70))\n",
    "print(ss.next(60))\n",
    "print(ss.next(75))\n",
    "print(ss.next(85))\n"
   ]
  },
  {
   "cell_type": "code",
   "execution_count": 11,
   "id": "0e7d4543",
   "metadata": {},
   "outputs": [],
   "source": [
    "class StockSpanner:\n",
    "    def __init__(self):\n",
    "        self.stack = []  # pair (price, span)\n",
    "\n",
    "    def next(self, price):\n",
    "        span = 1\n",
    "        while self.stack and self.stack[-1][0] <= price:\n",
    "            span += self.stack.pop()[1]\n",
    "        self.stack.append((price, span))\n",
    "        return span"
   ]
  },
  {
   "cell_type": "code",
   "execution_count": null,
   "id": "4e036ea3",
   "metadata": {},
   "outputs": [],
   "source": []
  }
 ],
 "metadata": {
  "kernelspec": {
   "display_name": "Python 3",
   "language": "python",
   "name": "python3"
  },
  "language_info": {
   "codemirror_mode": {
    "name": "ipython",
    "version": 3
   },
   "file_extension": ".py",
   "mimetype": "text/x-python",
   "name": "python",
   "nbconvert_exporter": "python",
   "pygments_lexer": "ipython3",
   "version": "3.11.9"
  }
 },
 "nbformat": 4,
 "nbformat_minor": 5
}
