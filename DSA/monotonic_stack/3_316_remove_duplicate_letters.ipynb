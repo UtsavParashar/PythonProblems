{
 "cells": [
  {
   "cell_type": "markdown",
   "id": "676ccfc0",
   "metadata": {},
   "source": [
    "#### 316. Remove Duplicate Letters\n",
    "\n",
    "* https://leetcode.com/problems/remove-duplicate-letters/description/"
   ]
  },
  {
   "cell_type": "code",
   "execution_count": 43,
   "id": "d98c7660",
   "metadata": {},
   "outputs": [],
   "source": [
    "## Credit - https://www.youtube.com/watch?v=j313ttNJjo0\n",
    "\n",
    "from collections import Counter\n",
    "\n",
    "def remove_duplicate_letters(s: str) -> str:\n",
    "    freq = Counter(s)  # Count the frequency of each character\n",
    "    seen = set()  # Track characters in the stack\n",
    "    stack = []  # Monotonic increasing stack\n",
    "\n",
    "    for c in s:\n",
    "        freq[c] -= 1  # Decrement the frequency of the current character\n",
    "\n",
    "        if c in seen:\n",
    "            continue  # Skip if the character is already in the stack\n",
    "\n",
    "        # Remove characters from the stack if they are greater than the current character\n",
    "        # and they still have occurrences left in the string\n",
    "        while stack and stack[-1] > c and freq[stack[-1]] > 0:\n",
    "            seen.remove(stack.pop())\n",
    "\n",
    "        stack.append(c)  # Add the current character to the stack\n",
    "        seen.add(c)  # Mark the character as seen\n",
    "\n",
    "    return ''.join(stack)  # Convert the stack to a string\n",
    "        \n",
    "\n",
    "                \n",
    "\n"
   ]
  },
  {
   "cell_type": "code",
   "execution_count": 42,
   "id": "db45a7f7",
   "metadata": {},
   "outputs": [
    {
     "data": {
      "text/plain": [
       "'cbad'"
      ]
     },
     "execution_count": 42,
     "metadata": {},
     "output_type": "execute_result"
    }
   ],
   "source": [
    "remove_duplicate_letters(s = \"cbacdcbc\")"
   ]
  }
 ],
 "metadata": {
  "kernelspec": {
   "display_name": "Python 3",
   "language": "python",
   "name": "python3"
  },
  "language_info": {
   "codemirror_mode": {
    "name": "ipython",
    "version": 3
   },
   "file_extension": ".py",
   "mimetype": "text/x-python",
   "name": "python",
   "nbconvert_exporter": "python",
   "pygments_lexer": "ipython3",
   "version": "3.11.9"
  }
 },
 "nbformat": 4,
 "nbformat_minor": 5
}
