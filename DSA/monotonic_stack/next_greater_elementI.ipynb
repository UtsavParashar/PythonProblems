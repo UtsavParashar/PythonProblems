{
 "cells": [
  {
   "cell_type": "markdown",
   "metadata": {},
   "source": [
    "#### 496. Next Greater Element I\n",
    "\n",
    "* https://leetcode.com/problems/next-greater-element-i/description/\n",
    "\n",
    "- The next greater element of some element x in an array is the first greater element that is to the right of x in the same array.\n",
    "- You are given two distinct 0-indexed integer arrays nums1 and nums2, where nums1 is a subset of nums2.\n",
    "\n",
    "- For each 0 <= i < nums1.length, find the index j such that nums1[i] == nums2[j] and determine the next greater element of nums2[j] in nums2. - If there is no next greater element, then the answer for this query is -1.\n",
    "\n",
    "- Return an array ans of length nums1.length such that ans[i] is the next greater element as described above.\n",
    "\n",
    "- Example 1:\n",
    "- Input: nums1 = [4,1,2], nums2 = [1,3,4,2]\n",
    "- Output: [-1,3,-1]\n",
    "- Explanation: The next greater element for each value of nums1 is as follows:\n",
    "- 4 is underlined in nums2 = [1,3,4,2]. There is no next greater element, so the answer is -1.\n",
    "- 1 is underlined in nums2 = [1,3,4,2]. The next greater element is 3.\n",
    "- 2 is underlined in nums2 = [1,3,4,2]. There is no next greater element, so the answer is -1.\n",
    "\n",
    "- Example 2:\n",
    "- Input: nums1 = [2,4], nums2 = [1,2,3,4]\n",
    "- Output: [3,-1]\n",
    "- Explanation: The next greater element for each value of nums1 is as follows:\n",
    "- 2 is underlined in nums2 = [1,2,3,4]. The next greater element is 3.\n",
    "- 4 is underlined in nums2 = [1,2,3,4]. There is no next greater element, so the answer is -1."
   ]
  },
  {
   "cell_type": "markdown",
   "metadata": {},
   "source": [
    "##### Optimized Solution\n",
    "- Steps - https://www.youtube.com/watch?v=68a1Dc_qVq4\n",
    "1. Iterate through nums2\n",
    "2. Check if the value of nums2 is in stack and if it is greater than current value\n",
    "3. if it is in stack and greater than current value then pop the value from stack check its index in num1 and store the value at that index in res. This will make sure that the values less than current value are always poped from the stack.\n",
    "4. If curr value of num2 is in num1 then store it in stack"
   ]
  },
  {
   "cell_type": "code",
   "execution_count": 6,
   "metadata": {},
   "outputs": [],
   "source": [
    "def next_greater_element(nums1: list[int], nums2: list[int]) -> list[int]:\n",
    "    nums1_index_map = {val: i for i, val in enumerate(nums1)}\n",
    "    res = [-1]*len(nums1)\n",
    "    stack = []\n",
    "\n",
    "    for val in nums2:\n",
    "        while stack and val > stack[-1]:\n",
    "            res[nums1_index_map[stack.pop()]] =  val\n",
    "        \n",
    "        if val in nums1:\n",
    "            stack.append(val)\n",
    "    \n",
    "    return res"
   ]
  },
  {
   "cell_type": "code",
   "execution_count": 11,
   "metadata": {},
   "outputs": [
    {
     "name": "stdout",
     "output_type": "stream",
     "text": [
      "916 ns ± 44.2 ns per loop (mean ± std. dev. of 7 runs, 1,000,000 loops each)\n"
     ]
    }
   ],
   "source": [
    "%timeit next_greater_element(nums1 = [4,1,2], nums2 = [1,3,4,2])"
   ]
  },
  {
   "cell_type": "code",
   "execution_count": 8,
   "metadata": {},
   "outputs": [
    {
     "data": {
      "text/plain": [
       "[3, -1]"
      ]
     },
     "execution_count": 8,
     "metadata": {},
     "output_type": "execute_result"
    }
   ],
   "source": [
    "next_greater_element(nums1 = [2,4], nums2 = [1,2,3,4])"
   ]
  },
  {
   "cell_type": "code",
   "execution_count": null,
   "metadata": {},
   "outputs": [],
   "source": [
    "def next_greater_element_builtin(nums1: list[int], nums2: list[int]) -> list[int]:\n",
    "    res = [-1]*len(nums1)\n",
    "    stack = []\n",
    "\n",
    "    for val in nums2:\n",
    "        while stack and val > stack[-1]:\n",
    "            res[nums1.index(stack.pop())] =  val\n",
    "        \n",
    "        if val in nums1:\n",
    "            stack.append(val)\n",
    "    \n",
    "    return res"
   ]
  },
  {
   "cell_type": "code",
   "execution_count": 12,
   "metadata": {},
   "outputs": [
    {
     "name": "stdout",
     "output_type": "stream",
     "text": [
      "598 ns ± 39.3 ns per loop (mean ± std. dev. of 7 runs, 1,000,000 loops each)\n"
     ]
    }
   ],
   "source": [
    "%timeit next_greater_element_builtin(nums1 = [4,1,2], nums2 = [1,3,4,2])"
   ]
  },
  {
   "cell_type": "code",
   "execution_count": null,
   "metadata": {},
   "outputs": [],
   "source": []
  }
 ],
 "metadata": {
  "kernelspec": {
   "display_name": "Python 3",
   "language": "python",
   "name": "python3"
  },
  "language_info": {
   "codemirror_mode": {
    "name": "ipython",
    "version": 3
   },
   "file_extension": ".py",
   "mimetype": "text/x-python",
   "name": "python",
   "nbconvert_exporter": "python",
   "pygments_lexer": "ipython3",
   "version": "3.11.9"
  }
 },
 "nbformat": 4,
 "nbformat_minor": 2
}
