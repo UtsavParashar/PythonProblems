{
 "cells": [
  {
   "cell_type": "markdown",
   "metadata": {},
   "source": [
    "#### 739. Daily Temperatures\n",
    "\n",
    "* Given an array of integers temperatures represents the daily temperatures, return an array answer such that answer[i] is the number of days you have to wait after the ith day to get a warmer temperature. If there is no future day for which this is possible, keep answer[i] == 0 instead.\n",
    "\n",
    "- Example 1:\n",
    "- Input: temperatures = [73,74,75,71,69,72,76,73]\n",
    "- Output: [1,1,4,2,1,1,0,0]\n",
    "\n",
    "- Example 2:\n",
    "- Input: temperatures = [30,40,50,60]\n",
    "- Output: [1,1,1,0]\n",
    "\n",
    "- Example 3:\n",
    "- Input: temperatures = [30,60,90]\n",
    "- Output: [1,1,0]"
   ]
  },
  {
   "cell_type": "markdown",
   "metadata": {},
   "source": []
  }
 ],
 "metadata": {
  "language_info": {
   "name": "python"
  }
 },
 "nbformat": 4,
 "nbformat_minor": 2
}
