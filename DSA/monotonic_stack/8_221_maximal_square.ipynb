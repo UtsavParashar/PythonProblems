{
 "cells": [
  {
   "cell_type": "markdown",
   "id": "c49875e7",
   "metadata": {},
   "source": [
    "#### 221. Maximal Square\n",
    "\n",
    "* https://leetcode.com/problems/maximal-square/description/\n",
    "\n",
    "#### ['Goldman Sachs', 'DE Shaw', 'Booking.com', 'Google']"
   ]
  },
  {
   "cell_type": "code",
   "execution_count": 1,
   "id": "e6ca5f6b",
   "metadata": {},
   "outputs": [
    {
     "data": {
      "text/plain": [
       "4"
      ]
     },
     "execution_count": 1,
     "metadata": {},
     "output_type": "execute_result"
    }
   ],
   "source": [
    "class Solution:\n",
    "    def maximalSquare(self, matrix) -> int:\n",
    "        m, n = len(matrix), len(matrix[0])\n",
    "        cache = {} # (r, c) -> maxLength\n",
    "\n",
    "        def helper(r, c):\n",
    "            if r >= m or c >= n:\n",
    "                return 0\n",
    "\n",
    "            if (r, c) not in cache:\n",
    "                down = helper(r+1, c)\n",
    "                right = helper(r, c+1)\n",
    "                diag = helper(r+1, c+1)\n",
    "\n",
    "                cache[r, c] = 0\n",
    "                if matrix[r][c] == '1':\n",
    "                    cache[(r, c)] = 1 + min(down, right, diag)\n",
    "\n",
    "            return cache[r, c]\n",
    "        helper(0, 0)\n",
    "        return max(cache.values()) ** 2\n",
    "    \n",
    "Solution().maximalSquare([[\"1\",\"0\",\"1\",\"0\",\"0\"],[\"1\",\"0\",\"1\",\"1\",\"1\"],[\"1\",\"1\",\"1\",\"1\",\"1\"],[\"1\",\"0\",\"0\",\"1\",\"0\"]])\n",
    "        "
   ]
  },
  {
   "cell_type": "code",
   "execution_count": null,
   "id": "dbbe5bda",
   "metadata": {},
   "outputs": [],
   "source": []
  }
 ],
 "metadata": {
  "kernelspec": {
   "display_name": "Python 3",
   "language": "python",
   "name": "python3"
  },
  "language_info": {
   "codemirror_mode": {
    "name": "ipython",
    "version": 3
   },
   "file_extension": ".py",
   "mimetype": "text/x-python",
   "name": "python",
   "nbconvert_exporter": "python",
   "pygments_lexer": "ipython3",
   "version": "3.11.9"
  }
 },
 "nbformat": 4,
 "nbformat_minor": 5
}
