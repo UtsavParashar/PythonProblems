{
 "cells": [
  {
   "cell_type": "markdown",
   "id": "b900130c",
   "metadata": {},
   "source": [
    "#### 85. Maximal Rectangle\n",
    "* https://leetcode.com/problems/maximal-rectangle/description/\n",
    "#### ['Bloomberg', 'DE Shaw', 'Intuit', 'Meta', 'Amazon', 'Google', 'Apple', 'Uber']"
   ]
  },
  {
   "cell_type": "code",
   "execution_count": 1,
   "id": "cd558ac5",
   "metadata": {},
   "outputs": [
    {
     "data": {
      "text/plain": [
       "6"
      ]
     },
     "execution_count": 1,
     "metadata": {},
     "output_type": "execute_result"
    }
   ],
   "source": [
    "class Solution:\n",
    "    def maximalRectangle(self, matrix) -> int:\n",
    "        m, n = len(matrix), len(matrix[0])\n",
    "        max_area = 0\n",
    "        heights = [0]*(n+1)\n",
    "\n",
    "        for row in matrix:\n",
    "            for j in range(n):\n",
    "                heights[j] = heights[j]+1 if row[j]=='1' else 0\n",
    "\n",
    "            stack = [-1] # Sentinal value to flush\n",
    "            for i, height in enumerate(heights):\n",
    "                while heights[stack[-1]] > height:\n",
    "                    h = heights[stack.pop()]\n",
    "                    w = i - stack[-1] -1 \n",
    "                    max_area = max(max_area, h*w)\n",
    "                stack.append(i)\n",
    "        return max_area\n",
    "\n",
    "Solution().maximalRectangle([[\"1\",\"0\",\"1\",\"0\",\"0\"],[\"1\",\"0\",\"1\",\"1\",\"1\"],[\"1\",\"1\",\"1\",\"1\",\"1\"],[\"1\",\"0\",\"0\",\"1\",\"0\"]])         "
   ]
  },
  {
   "cell_type": "code",
   "execution_count": null,
   "id": "b38cd92d",
   "metadata": {},
   "outputs": [],
   "source": []
  }
 ],
 "metadata": {
  "kernelspec": {
   "display_name": "Python 3",
   "language": "python",
   "name": "python3"
  },
  "language_info": {
   "codemirror_mode": {
    "name": "ipython",
    "version": 3
   },
   "file_extension": ".py",
   "mimetype": "text/x-python",
   "name": "python",
   "nbconvert_exporter": "python",
   "pygments_lexer": "ipython3",
   "version": "3.11.9"
  }
 },
 "nbformat": 4,
 "nbformat_minor": 5
}
