{
 "cells": [
  {
   "cell_type": "markdown",
   "id": "4e834c5a",
   "metadata": {},
   "source": [
    "## Merge Sort: Counting Inversions\n",
    "\n",
    "* https://www.hackerrank.com/challenges/ctci-merge-sort/problem?isFullScreen=true"
   ]
  },
  {
   "cell_type": "code",
   "execution_count": null,
   "id": "45c09969",
   "metadata": {},
   "outputs": [
    {
     "data": {
      "text/plain": [
       "4"
      ]
     },
     "execution_count": 3,
     "metadata": {},
     "output_type": "execute_result"
    }
   ],
   "source": [
    "## Time Complexity - O(n log n)\n",
    "## Space Complexity - O(n) for recursion and merged arrays\n",
    "# https://chatgpt.com/c/68863a87-d3a0-800f-914b-7d59f16a9b84\n",
    "\n",
    "def countInversions(arr):\n",
    "    def merge_sort(nums):\n",
    "        n = len(nums)\n",
    "\n",
    "        if n <= 1:\n",
    "            return nums, 0\n",
    "\n",
    "        m = n//2\n",
    "        left, count_left = merge_sort(nums[:m])\n",
    "        right, count_right = merge_sort(nums[m:])\n",
    "\n",
    "        merged, count_merge = merge(left, right)\n",
    "        return merged, count_left + count_right + count_merge\n",
    "\n",
    "    def merge(l, r):\n",
    "        i, j = 0, 0\n",
    "        merged = []\n",
    "        cnt = 0\n",
    "        len_l = len(l)\n",
    "        while i < len_l and j < len(r):\n",
    "            if l[i] <= r[j]:\n",
    "                merged.append(l[i])\n",
    "                i += 1\n",
    "            else:\n",
    "                merged.append(r[j])\n",
    "                cnt += len_l - i\n",
    "                j += 1\n",
    "        merged.extend(l[i:])\n",
    "        merged.extend(r[j:])\n",
    "\n",
    "        return merged, cnt\n",
    "\n",
    "    _, invs = merge_sort(arr)\n",
    "    return invs\n",
    "\n",
    "countInversions([2, 1, 3, 1, 2])"
   ]
  },
  {
   "cell_type": "code",
   "execution_count": null,
   "id": "4169fb40",
   "metadata": {},
   "outputs": [],
   "source": []
  }
 ],
 "metadata": {
  "kernelspec": {
   "display_name": "Python 3",
   "language": "python",
   "name": "python3"
  },
  "language_info": {
   "codemirror_mode": {
    "name": "ipython",
    "version": 3
   },
   "file_extension": ".py",
   "mimetype": "text/x-python",
   "name": "python",
   "nbconvert_exporter": "python",
   "pygments_lexer": "ipython3",
   "version": "3.11.9"
  }
 },
 "nbformat": 4,
 "nbformat_minor": 5
}
