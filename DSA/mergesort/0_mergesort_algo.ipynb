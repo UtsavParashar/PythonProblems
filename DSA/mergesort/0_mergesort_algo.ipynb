{
 "cells": [
  {
   "cell_type": "markdown",
   "id": "eb215e24",
   "metadata": {},
   "source": [
    "### Merge Sort Algo\n",
    "* https://www.youtube.com/watch?v=TzeBrDU-JaY"
   ]
  },
  {
   "cell_type": "code",
   "execution_count": null,
   "id": "e979e4a2",
   "metadata": {},
   "outputs": [
    {
     "data": {
      "text/plain": [
       "[1, 2, 3, 4, 5, 9]"
      ]
     },
     "execution_count": 1,
     "metadata": {},
     "output_type": "execute_result"
    }
   ],
   "source": [
    "# TC - O(n log n)\n",
    "# SC - O(n)\n",
    "\n",
    "def merge_sort(arr):\n",
    "    n = len(arr)\n",
    "    if n <= 1:\n",
    "        return arr\n",
    "    \n",
    "    # Split the list into two halves\n",
    "    m = n//2\n",
    "    left = merge_sort(arr[:m])\n",
    "    right = merge_sort(arr[m:])\n",
    "\n",
    "    # Merge the sorted halgs\n",
    "    return merge(left, right)\n",
    "\n",
    "def merge(l, r):\n",
    "    i, j = 0, 0\n",
    "    merged = []\n",
    "    while i < len(l) and j < len(r):\n",
    "        if l[i] <= r[j]:\n",
    "            merged.append(l[i])\n",
    "            i += 1\n",
    "        else:\n",
    "            merged.append(r[j])\n",
    "            j += 1\n",
    "\n",
    "    merged.extend(l[i:])\n",
    "    merged.extend(r[j:])\n",
    "\n",
    "    return merged\n",
    "\n",
    "merge_sort([3,1,5,2,9,4])\n"
   ]
  },
  {
   "cell_type": "code",
   "execution_count": null,
   "id": "53445702",
   "metadata": {},
   "outputs": [],
   "source": []
  }
 ],
 "metadata": {
  "kernelspec": {
   "display_name": "Python 3",
   "language": "python",
   "name": "python3"
  },
  "language_info": {
   "codemirror_mode": {
    "name": "ipython",
    "version": 3
   },
   "file_extension": ".py",
   "mimetype": "text/x-python",
   "name": "python",
   "nbconvert_exporter": "python",
   "pygments_lexer": "ipython3",
   "version": "3.11.9"
  }
 },
 "nbformat": 4,
 "nbformat_minor": 5
}
