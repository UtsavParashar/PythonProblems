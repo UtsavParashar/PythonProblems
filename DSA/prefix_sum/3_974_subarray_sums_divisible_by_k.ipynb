{
 "cells": [
  {
   "cell_type": "markdown",
   "metadata": {},
   "source": [
    "#### 974. Subarray Sums Divisible by k\n",
    "\n",
    "* Given an integer array nums and an integer k, return the number of non-empty subarrays that have a sum divisible by k.\n",
    "* A subarray is a contiguous part of an array.\n",
    "\n",
    "- Example 1:\n",
    "- Input: nums = [4,5,0,-2,-3,1], k = 5\n",
    "- Output: 7\n",
    "- Explanation: There are 7 subarrays with a sum divisible by k = 5:\n",
    "- [4, 5, 0, -2, -3, 1], [5], [5, 0], [5, 0, -2, -3], [0], [0, -2, -3], [-2, -3]\n",
    "\n",
    "- Example 2:\n",
    "- Input: nums = [5], k = 9\n",
    "- Output: 0"
   ]
  },
  {
   "cell_type": "code",
   "execution_count": 26,
   "metadata": {},
   "outputs": [],
   "source": [
    "def brute_force(nums: list[int], k: int) -> int:\n",
    "    counter = 0\n",
    "    for i in range(len(nums)):\n",
    "        curr_sum = 0\n",
    "\n",
    "        for j in range(i, len(nums)):\n",
    "            curr_sum  += nums[j] \n",
    "            if curr_sum%k == 0:\n",
    "                counter += 1\n",
    "    return counter\n",
    "\n"
   ]
  },
  {
   "cell_type": "code",
   "execution_count": 27,
   "metadata": {},
   "outputs": [
    {
     "data": {
      "text/plain": [
       "7"
      ]
     },
     "execution_count": 27,
     "metadata": {},
     "output_type": "execute_result"
    }
   ],
   "source": [
    "brute_force(nums = [4,5,0,-2,-3,1], k = 5)"
   ]
  },
  {
   "cell_type": "code",
   "execution_count": 28,
   "metadata": {},
   "outputs": [
    {
     "data": {
      "text/plain": [
       "0"
      ]
     },
     "execution_count": 28,
     "metadata": {},
     "output_type": "execute_result"
    }
   ],
   "source": [
    "brute_force(nums = [5], k = 9)"
   ]
  },
  {
   "cell_type": "code",
   "execution_count": null,
   "metadata": {},
   "outputs": [],
   "source": [
    "# Credit - https://www.youtube.com/watch?v=bcXy-T4Sc3E&t=486s\n",
    "\n",
    "from collections import defaultdict\n",
    "def subarray_div_by_k(nums, k):\n",
    "    cur_sum, res = 0, 0\n",
    "    prefix_sum = defaultdict(int)\n",
    "    prefix_sum[0] = 1\n",
    "\n",
    "    for num in nums:\n",
    "        cur_sum += num\n",
    "        remainder = cur_sum%k\n",
    "        if remainder in prefix_sum:\n",
    "            res += prefix_sum[remainder]\n",
    "        \n",
    "        prefix_sum[remainder] += 1\n",
    "\n",
    "    return res"
   ]
  },
  {
   "cell_type": "code",
   "execution_count": 8,
   "metadata": {},
   "outputs": [
    {
     "data": {
      "text/plain": [
       "7"
      ]
     },
     "execution_count": 8,
     "metadata": {},
     "output_type": "execute_result"
    }
   ],
   "source": [
    "subarray_div_by_k(nums = [4,5,0,-2,-3,1], k = 5)"
   ]
  },
  {
   "cell_type": "code",
   "execution_count": null,
   "metadata": {},
   "outputs": [],
   "source": []
  }
 ],
 "metadata": {
  "kernelspec": {
   "display_name": "Python 3",
   "language": "python",
   "name": "python3"
  },
  "language_info": {
   "codemirror_mode": {
    "name": "ipython",
    "version": 3
   },
   "file_extension": ".py",
   "mimetype": "text/x-python",
   "name": "python",
   "nbconvert_exporter": "python",
   "pygments_lexer": "ipython3",
   "version": "3.11.9"
  }
 },
 "nbformat": 4,
 "nbformat_minor": 2
}
