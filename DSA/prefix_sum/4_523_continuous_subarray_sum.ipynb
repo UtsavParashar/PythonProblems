{
 "cells": [
  {
   "cell_type": "markdown",
   "id": "63822d11",
   "metadata": {},
   "source": [
    "#### 523. Continuous Subarray Sum\n",
    "\n",
    "* https://leetcode.com/problems/continuous-subarray-sum/description/"
   ]
  },
  {
   "cell_type": "code",
   "execution_count": 33,
   "id": "62bd61d7",
   "metadata": {},
   "outputs": [],
   "source": [
    "def check_subarray_sum(nums, k):\n",
    "    remainder_dict = {0: -1}\n",
    "    curr_sum = 0\n",
    "    for idx, num in enumerate(nums):\n",
    "        curr_sum += num\n",
    "        rem = curr_sum % k\n",
    "        if rem in remainder_dict:\n",
    "            if idx-remainder_dict[rem] > 1:\n",
    "                return True\n",
    "            continue\n",
    "        remainder_dict[rem] = idx\n",
    "    return False"
   ]
  },
  {
   "cell_type": "code",
   "execution_count": 34,
   "id": "a5bca61c",
   "metadata": {},
   "outputs": [
    {
     "name": "stdout",
     "output_type": "stream",
     "text": [
      "479 ns ± 28.1 ns per loop (mean ± std. dev. of 7 runs, 1,000,000 loops each)\n"
     ]
    }
   ],
   "source": [
    "%timeit check_subarray_sum(nums = [23,2,6,4,7], k = 6)"
   ]
  },
  {
   "cell_type": "code",
   "execution_count": 32,
   "id": "37264e42",
   "metadata": {},
   "outputs": [],
   "source": [
    "def check_subarray_sumII(nums, k):\n",
    "    remainder_dict = {0: -1}\n",
    "    curr_sum = 0\n",
    "    for idx, num in enumerate(nums):\n",
    "        curr_sum += num\n",
    "        rem = curr_sum % k\n",
    "        if rem in remainder_dict and idx - remainder_dict[rem] > 1:\n",
    "            return True\n",
    "        remainder_dict.setdefault(rem, idx)\n",
    "    return False"
   ]
  },
  {
   "cell_type": "code",
   "execution_count": 26,
   "id": "175bc2e6",
   "metadata": {},
   "outputs": [
    {
     "name": "stdout",
     "output_type": "stream",
     "text": [
      "540 ns ± 25.4 ns per loop (mean ± std. dev. of 7 runs, 1,000,000 loops each)\n"
     ]
    }
   ],
   "source": [
    "%timeit check_subarray_sumII(nums = [23,2,6,4,7], k = 6)"
   ]
  },
  {
   "cell_type": "code",
   "execution_count": 30,
   "id": "ee5fa626",
   "metadata": {},
   "outputs": [],
   "source": [
    "def check_subarray_sumIII(nums, k):\n",
    "    remainder_dict = {0: -1}\n",
    "    curr_sum = 0\n",
    "    for idx, num in enumerate(nums):\n",
    "        curr_sum += num\n",
    "        rem = curr_sum % k\n",
    "        if rem not in remainder_dict:\n",
    "            remainder_dict[rem] = idx\n",
    "        elif idx-remainder_dict[rem] > 1:\n",
    "                return True\n",
    "    return False"
   ]
  },
  {
   "cell_type": "code",
   "execution_count": 31,
   "id": "0e4b32e6",
   "metadata": {},
   "outputs": [
    {
     "name": "stdout",
     "output_type": "stream",
     "text": [
      "501 ns ± 41.1 ns per loop (mean ± std. dev. of 7 runs, 1,000,000 loops each)\n"
     ]
    }
   ],
   "source": [
    "%timeit check_subarray_sumIII(nums = [23,2,6,4,7], k = 6)"
   ]
  }
 ],
 "metadata": {
  "kernelspec": {
   "display_name": "Python 3",
   "language": "python",
   "name": "python3"
  },
  "language_info": {
   "codemirror_mode": {
    "name": "ipython",
    "version": 3
   },
   "file_extension": ".py",
   "mimetype": "text/x-python",
   "name": "python",
   "nbconvert_exporter": "python",
   "pygments_lexer": "ipython3",
   "version": "3.11.9"
  }
 },
 "nbformat": 4,
 "nbformat_minor": 5
}
