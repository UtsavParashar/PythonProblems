{
 "cells": [
  {
   "cell_type": "markdown",
   "metadata": {},
   "source": [
    "### 560 - Subarray sum equals k\n",
    "\n",
    "- Given an array of integers nums and an integer k, return the total number of subarrays whose sum equals to k.\n",
    "- A subarray is a contiguous non-empty sequence of elements within an array.\n",
    "\n",
    "- Example 1:\n",
    "- Input: nums = [1,1,1], k = 2\n",
    "- Output: 2\n",
    "\n",
    "- Example 2:\n",
    "- Input: nums = [1,2,3], k = 3\n",
    "- Output: 2"
   ]
  },
  {
   "cell_type": "code",
   "execution_count": 25,
   "metadata": {},
   "outputs": [],
   "source": [
    "# https://www.youtube.com/watch?v=xvNwoz-ufXA\n",
    "from typing import List\n",
    "def brute_force(nums: List[int], k: int) -> int:\n",
    "    counter = 0\n",
    "    for i in range(len(nums)):\n",
    "        sums = 0\n",
    "        for j in nums[i:]:\n",
    "            sums += j\n",
    "            if sums == k:\n",
    "                counter += 1\n",
    "    return counter"
   ]
  },
  {
   "cell_type": "code",
   "execution_count": 26,
   "metadata": {},
   "outputs": [
    {
     "data": {
      "text/plain": [
       "8"
      ]
     },
     "execution_count": 26,
     "metadata": {},
     "output_type": "execute_result"
    }
   ],
   "source": [
    "brute_force([1,2,3,-3,1,1,1,4,2,-3], 3)"
   ]
  },
  {
   "cell_type": "code",
   "execution_count": 31,
   "metadata": {},
   "outputs": [],
   "source": [
    "def subarray_sum(nums, k):\n",
    "    sum_freq = {0: 1}\n",
    "    cum_sum = 0\n",
    "    count = 0\n",
    "\n",
    "    for num in nums:\n",
    "        cum_sum += num\n",
    "        diff = cum_sum - k\n",
    "\n",
    "        if diff in sum_freq:\n",
    "            count += sum_freq[diff]\n",
    "\n",
    "        if cum_sum in sum_freq:\n",
    "            sum_freq[cum_sum] += 1\n",
    "        else:\n",
    "            sum_freq[cum_sum] =1 \n",
    "    \n",
    "    return count\n"
   ]
  },
  {
   "cell_type": "code",
   "execution_count": 32,
   "metadata": {},
   "outputs": [
    {
     "data": {
      "text/plain": [
       "2"
      ]
     },
     "execution_count": 32,
     "metadata": {},
     "output_type": "execute_result"
    }
   ],
   "source": [
    "subarray_sum([1,2,-1], 2)"
   ]
  },
  {
   "cell_type": "code",
   "execution_count": null,
   "metadata": {},
   "outputs": [],
   "source": []
  }
 ],
 "metadata": {
  "kernelspec": {
   "display_name": "Python 3",
   "language": "python",
   "name": "python3"
  },
  "language_info": {
   "codemirror_mode": {
    "name": "ipython",
    "version": 3
   },
   "file_extension": ".py",
   "mimetype": "text/x-python",
   "name": "python",
   "nbconvert_exporter": "python",
   "pygments_lexer": "ipython3",
   "version": "3.11.9"
  }
 },
 "nbformat": 4,
 "nbformat_minor": 2
}
