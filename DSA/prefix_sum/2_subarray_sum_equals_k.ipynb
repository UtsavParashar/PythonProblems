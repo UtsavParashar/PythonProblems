{
 "cells": [
  {
   "cell_type": "markdown",
   "metadata": {},
   "source": [
    "### 560 - Subarray sum equals k\n",
    "\n",
    "- Given an array of integers nums and an integer k, return the total number of subarrays whose sum equals to k.\n",
    "- A subarray is a contiguous non-empty sequence of elements within an array.\n",
    "\n",
    "- Example 1:\n",
    "- Input: nums = [1,1,1], k = 2\n",
    "- Output: 2\n",
    "\n",
    "- Example 2:\n",
    "- Input: nums = [1,2,3], k = 3\n",
    "- Output: 2"
   ]
  },
  {
   "cell_type": "code",
   "execution_count": 25,
   "metadata": {},
   "outputs": [],
   "source": [
    "# https://www.youtube.com/watch?v=xvNwoz-ufXA\n",
    "from typing import List\n",
    "def brute_force(nums: List[int], k: int) -> int:\n",
    "    counter = 0\n",
    "    for i in range(len(nums)):\n",
    "        sums = 0\n",
    "        for j in nums[i:]:\n",
    "            sums += j\n",
    "            if sums == k:\n",
    "                counter += 1\n",
    "    return counter"
   ]
  },
  {
   "cell_type": "code",
   "execution_count": 26,
   "metadata": {},
   "outputs": [
    {
     "data": {
      "text/plain": [
       "8"
      ]
     },
     "execution_count": 26,
     "metadata": {},
     "output_type": "execute_result"
    }
   ],
   "source": [
    "brute_force([1,2,3,-3,1,1,1,4,2,-3], 3)"
   ]
  },
  {
   "cell_type": "code",
   "execution_count": null,
   "metadata": {},
   "outputs": [],
   "source": [
    "#Credit -  https://www.youtube.com/watch?v=ph0v80-rRtQ\n",
    "from collections import defaultdict\n",
    "def subarray_sum(nums, k):\n",
    "    curr, res = 0, 0\n",
    "    prefix_sum = defaultdict(int)\n",
    "    prefix_sum[0] = 1\n",
    "\n",
    "    for num in nums:\n",
    "        curr += num\n",
    "        if (diff:=curr - k) in prefix_sum:\n",
    "            res += prefix_sum[diff]\n",
    "        prefix_sum[curr] += 1\n",
    "\n",
    "    return res\n"
   ]
  },
  {
   "cell_type": "code",
   "execution_count": 2,
   "metadata": {},
   "outputs": [
    {
     "data": {
      "text/plain": [
       "2"
      ]
     },
     "execution_count": 2,
     "metadata": {},
     "output_type": "execute_result"
    }
   ],
   "source": [
    "subarray_sum([1,2,-1], 2)"
   ]
  },
  {
   "cell_type": "code",
   "execution_count": null,
   "metadata": {},
   "outputs": [],
   "source": []
  }
 ],
 "metadata": {
  "kernelspec": {
   "display_name": "Python 3",
   "language": "python",
   "name": "python3"
  },
  "language_info": {
   "codemirror_mode": {
    "name": "ipython",
    "version": 3
   },
   "file_extension": ".py",
   "mimetype": "text/x-python",
   "name": "python",
   "nbconvert_exporter": "python",
   "pygments_lexer": "ipython3",
   "version": "3.11.9"
  }
 },
 "nbformat": 4,
 "nbformat_minor": 2
}
