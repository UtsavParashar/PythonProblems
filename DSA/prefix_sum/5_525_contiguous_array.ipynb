{
 "cells": [
  {
   "cell_type": "markdown",
   "id": "42dc6b9e",
   "metadata": {},
   "source": [
    "#### 525. Contiguous Array\n",
    "\n",
    "* https://leetcode.com/problems/contiguous-array/description/"
   ]
  },
  {
   "cell_type": "code",
   "execution_count": 7,
   "id": "29228940",
   "metadata": {},
   "outputs": [],
   "source": [
    "## Credit - https://github.com/AlgoMaster-io/leetcode-solutions/blob/main/python/contiguous-array.md\n",
    "\n",
    "def find_max_length(nums):\n",
    "    cumsum = 0\n",
    "    sum_index_dict = {0: -1}\n",
    "    max_len = 0\n",
    "\n",
    "    for i, num in enumerate(nums):\n",
    "        cumsum += -1 if num == 0 else 1\n",
    "\n",
    "        # Check if this cumulative sum has been seen before\n",
    "        if cumsum in sum_index_dict:\n",
    "            # The subarray between the first occurrence and now has equal 0’s and 1’s\n",
    "            max_len = max(max_len, i - sum_index_dict[cumsum])\n",
    "        else:\n",
    "            sum_index_dict[cumsum] = i\n",
    "    \n",
    "    return max_len\n",
    "        "
   ]
  },
  {
   "cell_type": "code",
   "execution_count": 6,
   "id": "37ba81ce",
   "metadata": {},
   "outputs": [
    {
     "data": {
      "text/plain": [
       "4"
      ]
     },
     "execution_count": 6,
     "metadata": {},
     "output_type": "execute_result"
    }
   ],
   "source": [
    "find_max_length([0,0,1,1])"
   ]
  },
  {
   "cell_type": "code",
   "execution_count": null,
   "id": "4ca8c360",
   "metadata": {},
   "outputs": [],
   "source": [
    "def fix_max_length(nums):\n",
    "    cumsum, max_len, sum_index_dict = 0, 0, {0: -1}\n",
    "\n",
    "    for i, num in enumerate(nums):\n",
    "        cumsum += -1 if num == 0 else 1\n",
    "        max_len = max(max_len, i - sum_index_dict.setdefault(cumsum, i))\n",
    "    \n",
    "    return max_len\n"
   ]
  }
 ],
 "metadata": {
  "kernelspec": {
   "display_name": "Python 3",
   "language": "python",
   "name": "python3"
  },
  "language_info": {
   "codemirror_mode": {
    "name": "ipython",
    "version": 3
   },
   "file_extension": ".py",
   "mimetype": "text/x-python",
   "name": "python",
   "nbconvert_exporter": "python",
   "pygments_lexer": "ipython3",
   "version": "3.11.9"
  }
 },
 "nbformat": 4,
 "nbformat_minor": 5
}
