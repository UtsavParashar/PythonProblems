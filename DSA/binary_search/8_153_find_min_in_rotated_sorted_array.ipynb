{
 "cells": [
  {
   "cell_type": "markdown",
   "id": "29ed1c90",
   "metadata": {},
   "source": [
    "#### 153. Find Minimum in Rotated Sorted Array\n",
    "\n",
    "* https://leetcode.com/problems/find-minimum-in-rotated-sorted-array/"
   ]
  },
  {
   "cell_type": "code",
   "execution_count": null,
   "id": "77666400",
   "metadata": {},
   "outputs": [],
   "source": [
    "def find_min(nums):\n",
    "    l, r = 0, len(nums)-1\n",
    "\n",
    "    while l < r:\n",
    "        m = (l+r)//2\n",
    "\n",
    "        if nums[m] > nums[l]:\n",
    "            l = m + 1\n",
    "        else:\n",
    "            r = m\n",
    "    ## left and right will point to the smallest element\n",
    "    return nums[l]"
   ]
  },
  {
   "cell_type": "code",
   "execution_count": 2,
   "id": "488a0474",
   "metadata": {},
   "outputs": [
    {
     "data": {
      "text/plain": [
       "1"
      ]
     },
     "execution_count": 2,
     "metadata": {},
     "output_type": "execute_result"
    }
   ],
   "source": [
    "find_min(nums = [3,4,5,1,2])"
   ]
  },
  {
   "cell_type": "code",
   "execution_count": 3,
   "id": "2af39846",
   "metadata": {},
   "outputs": [],
   "source": [
    "def find_max(nums):\n",
    "    l, r = 0, len(nums)-1\n",
    "\n",
    "    while l < r:\n",
    "        m = (l+r)//2\n",
    "\n",
    "        if nums[m] < nums[r]:\n",
    "            r = m - 1\n",
    "        else:\n",
    "            l = m\n",
    "    ## left and right will point to the max element\n",
    "    return nums[r]"
   ]
  },
  {
   "cell_type": "code",
   "execution_count": 4,
   "id": "e9924570",
   "metadata": {},
   "outputs": [
    {
     "data": {
      "text/plain": [
       "5"
      ]
     },
     "execution_count": 4,
     "metadata": {},
     "output_type": "execute_result"
    }
   ],
   "source": [
    "find_max(nums = [3,4,5,1,2])"
   ]
  },
  {
   "cell_type": "code",
   "execution_count": null,
   "id": "9497b8c3",
   "metadata": {},
   "outputs": [],
   "source": []
  }
 ],
 "metadata": {
  "kernelspec": {
   "display_name": "Python 3",
   "language": "python",
   "name": "python3"
  },
  "language_info": {
   "codemirror_mode": {
    "name": "ipython",
    "version": 3
   },
   "file_extension": ".py",
   "mimetype": "text/x-python",
   "name": "python",
   "nbconvert_exporter": "python",
   "pygments_lexer": "ipython3",
   "version": "3.11.9"
  }
 },
 "nbformat": 4,
 "nbformat_minor": 5
}
