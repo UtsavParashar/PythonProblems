{
 "cells": [
  {
   "cell_type": "markdown",
   "metadata": {},
   "source": [
    "#### 35. Search Insert Position - https://leetcode.com/problems/search-insert-position/description/\n",
    "\n",
    "* Given a sorted array of distinct integers and a target value, return the index if the target is found. If not, return the index where it would be if it were inserted in order.\n",
    "\n",
    "- You must write an algorithm with O(log n) runtime complexity.\n",
    "\n",
    "- Example 1:\n",
    "- Input: nums = [1,3,5,6], target = 5\n",
    "- Output: 2\n",
    "\n",
    "- Example 2:\n",
    "- Input: nums = [1,3,5,6], target = 2\n",
    "- Output: 1\n",
    "\n",
    "- Example 3:\n",
    "- Input: nums = [1,3,5,6], target = 7\n",
    "- Output: 4\n",
    "\n"
   ]
  },
  {
   "cell_type": "code",
   "execution_count": 26,
   "metadata": {},
   "outputs": [],
   "source": [
    "def brute_force(nums, target):\n",
    "    l,r = 0, len(nums)-1\n",
    "\n",
    "    if target > nums[-1]:\n",
    "         return r+1\n",
    "    \n",
    "    while l <= r:\n",
    "        m = (l + r) // 2\n",
    "        if nums[m] == target:\n",
    "            return m\n",
    "        elif nums[m] > target:\n",
    "            if nums[m-1] < target:\n",
    "                return m\n",
    "            else:\n",
    "                r = m -1\n",
    "        else:\n",
    "                l = m + 1\n",
    "    \n",
    "\n"
   ]
  },
  {
   "cell_type": "code",
   "execution_count": 27,
   "metadata": {},
   "outputs": [
    {
     "data": {
      "text/plain": [
       "4"
      ]
     },
     "execution_count": 27,
     "metadata": {},
     "output_type": "execute_result"
    }
   ],
   "source": [
    "brute_force(nums = [1,3,5,6], target = 7)"
   ]
  },
  {
   "cell_type": "markdown",
   "metadata": {},
   "source": [
    "### Optimized Solution"
   ]
  },
  {
   "cell_type": "code",
   "execution_count": 30,
   "metadata": {},
   "outputs": [],
   "source": [
    "def searchInsert(nums, target):\n",
    "    left, right = 0, len(nums) - 1\n",
    "    \n",
    "    while left <= right:\n",
    "        mid = (left + right) // 2\n",
    "        \n",
    "        if nums[mid] == target:\n",
    "            # Target found, return its index\n",
    "            return mid\n",
    "        elif nums[mid] < target:\n",
    "            # If mid value is less than target, move left pointer\n",
    "            left = mid + 1\n",
    "        else:\n",
    "            # If mid value is greater than target, move right pointer\n",
    "            right = mid - 1\n",
    "    \n",
    "    # If no exact match is found, left gives the insert position\n",
    "    return left"
   ]
  },
  {
   "cell_type": "code",
   "execution_count": 29,
   "metadata": {},
   "outputs": [
    {
     "data": {
      "text/plain": [
       "4"
      ]
     },
     "execution_count": 29,
     "metadata": {},
     "output_type": "execute_result"
    }
   ],
   "source": [
    "searchInsert(nums = [1,3,5,6], target = 7)"
   ]
  },
  {
   "cell_type": "code",
   "execution_count": null,
   "metadata": {},
   "outputs": [],
   "source": []
  }
 ],
 "metadata": {
  "kernelspec": {
   "display_name": "Python 3",
   "language": "python",
   "name": "python3"
  },
  "language_info": {
   "codemirror_mode": {
    "name": "ipython",
    "version": 3
   },
   "file_extension": ".py",
   "mimetype": "text/x-python",
   "name": "python",
   "nbconvert_exporter": "python",
   "pygments_lexer": "ipython3",
   "version": "3.11.9"
  }
 },
 "nbformat": 4,
 "nbformat_minor": 2
}
