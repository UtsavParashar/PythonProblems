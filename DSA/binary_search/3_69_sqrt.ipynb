{
 "cells": [
  {
   "cell_type": "markdown",
   "metadata": {},
   "source": [
    "### 69. Sqrt(x)\n",
    "* https://leetcode.com/problems/sqrtx/description/\n",
    "#### ['Goldman Sachs', 'Bloomberg', 'Meta', 'Amazon', 'Apple', 'Uber']"
   ]
  },
  {
   "cell_type": "code",
   "execution_count": 2,
   "metadata": {},
   "outputs": [],
   "source": [
    "# TC - O(log n)\n",
    "# SC - O(1)\n",
    "# why returning r - because the sqrt or the floor of the sqrt is on the right at the end of the traversal\n",
    "# if ceiling of sqrt is asked then we could return left\n",
    "\n",
    "class Solution:\n",
    "    def mySqrt(self, x: int) -> int:\n",
    "        if x < 2:\n",
    "            return x\n",
    "\n",
    "        l, r = 1, x//2\n",
    "\n",
    "        while l <= r:\n",
    "            m = (l+r)//2\n",
    "            if (sq:=m*m) == x:\n",
    "                return m\n",
    "            elif sq < x:\n",
    "                l = m +1\n",
    "            else:\n",
    "                r = m -1\n",
    "\n",
    "        return r"
   ]
  },
  {
   "cell_type": "code",
   "execution_count": 14,
   "metadata": {},
   "outputs": [],
   "source": [
    "## Optmized result - using binary search\n",
    "\n",
    "def int_sqrt(x):\n",
    "    if x == 0: return x\n",
    "\n",
    "    l, r = 0, x\n",
    "    res = 0\n",
    "\n",
    "    while l <= r:\n",
    "        m = l + ((r-l)//2)\n",
    "        if m**2 < x:\n",
    "            l = m+1\n",
    "            res = m\n",
    "        elif m**2 > x:\n",
    "            r = m-1\n",
    "        else:\n",
    "            return m\n",
    "    \n",
    "    return res"
   ]
  },
  {
   "cell_type": "code",
   "execution_count": 15,
   "metadata": {},
   "outputs": [
    {
     "data": {
      "text/plain": [
       "3"
      ]
     },
     "execution_count": 15,
     "metadata": {},
     "output_type": "execute_result"
    }
   ],
   "source": [
    "int_sqrt(9)"
   ]
  },
  {
   "cell_type": "code",
   "execution_count": 3,
   "metadata": {},
   "outputs": [],
   "source": [
    "# Another solution using binary search\n",
    "\n",
    "def my_sqrt(x):\n",
    "    if x == 0: return x\n",
    "\n",
    "    l, r = 0, x\n",
    "\n",
    "    while l <= r:\n",
    "        m = (l + r)//2\n",
    "\n",
    "        m_squared = m*m\n",
    "        if m_squared == x:\n",
    "            return m\n",
    "        elif m_squared < x:\n",
    "            l = m + 1\n",
    "        else:\n",
    "            r = m - 1\n",
    "    \n",
    "    return r"
   ]
  },
  {
   "cell_type": "code",
   "execution_count": null,
   "metadata": {},
   "outputs": [],
   "source": []
  }
 ],
 "metadata": {
  "kernelspec": {
   "display_name": "Python 3",
   "language": "python",
   "name": "python3"
  },
  "language_info": {
   "codemirror_mode": {
    "name": "ipython",
    "version": 3
   },
   "file_extension": ".py",
   "mimetype": "text/x-python",
   "name": "python",
   "nbconvert_exporter": "python",
   "pygments_lexer": "ipython3",
   "version": "3.11.9"
  }
 },
 "nbformat": 4,
 "nbformat_minor": 2
}
