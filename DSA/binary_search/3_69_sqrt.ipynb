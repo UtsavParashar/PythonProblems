{
 "cells": [
  {
   "cell_type": "markdown",
   "metadata": {},
   "source": [
    "### 69. Sqrt(x)\n",
    "\n",
    "- Given a non-negative integer x, return the square root of x rounded down to the nearest integer. The returned integer should be non-negative as well.\n",
    "- You must not use any built-in exponent function or operator.\n",
    "- For example, do not use pow(x, 0.5) in c++ or x ** 0.5 in python.\n",
    "\n",
    "- Example 1:\n",
    "-Input: x = 4\n",
    "- Output: 2\n",
    "- Explanation: The square root of 4 is 2, so we return 2.\n",
    "\n",
    "- Example 2:\n",
    "- Input: x = 8\n",
    "- Output: 2\n",
    "- Explanation: The square root of 8 is 2.82842..., and since we round it down to the nearest integer, 2 is returned."
   ]
  },
  {
   "cell_type": "code",
   "execution_count": 14,
   "metadata": {},
   "outputs": [],
   "source": [
    "## Optmized result - using binary search\n",
    "\n",
    "def int_sqrt(x):\n",
    "    if x == 0: return x\n",
    "\n",
    "    l, r = 0, x\n",
    "    res = 0\n",
    "\n",
    "    while l <= r:\n",
    "        m = l + ((r-l)//2)\n",
    "        if m**2 < x:\n",
    "            l = m+1\n",
    "            res = m\n",
    "        elif m**2 > x:\n",
    "            r = m-1\n",
    "        else:\n",
    "            return m\n",
    "    \n",
    "    return res"
   ]
  },
  {
   "cell_type": "code",
   "execution_count": 15,
   "metadata": {},
   "outputs": [
    {
     "data": {
      "text/plain": [
       "3"
      ]
     },
     "execution_count": 15,
     "metadata": {},
     "output_type": "execute_result"
    }
   ],
   "source": [
    "int_sqrt(9)"
   ]
  },
  {
   "cell_type": "code",
   "execution_count": 3,
   "metadata": {},
   "outputs": [],
   "source": [
    "# Another solution using binary search\n",
    "\n",
    "def my_sqrt(x):\n",
    "    if x == 0: return x\n",
    "\n",
    "    l, r = 0, x\n",
    "\n",
    "    while l <= r:\n",
    "        m = (l + r)//2\n",
    "\n",
    "        m_squared = m*m\n",
    "        if m_squared == x:\n",
    "            return m\n",
    "        elif m_squared < x:\n",
    "            l = m + 1\n",
    "        else:\n",
    "            r = m - 1\n",
    "    \n",
    "    return r"
   ]
  },
  {
   "cell_type": "code",
   "execution_count": null,
   "metadata": {},
   "outputs": [],
   "source": []
  },
  {
   "cell_type": "code",
   "execution_count": null,
   "metadata": {},
   "outputs": [],
   "source": []
  }
 ],
 "metadata": {
  "kernelspec": {
   "display_name": "Python 3",
   "language": "python",
   "name": "python3"
  },
  "language_info": {
   "codemirror_mode": {
    "name": "ipython",
    "version": 3
   },
   "file_extension": ".py",
   "mimetype": "text/x-python",
   "name": "python",
   "nbconvert_exporter": "python",
   "pygments_lexer": "ipython3",
   "version": "3.11.9"
  }
 },
 "nbformat": 4,
 "nbformat_minor": 2
}
