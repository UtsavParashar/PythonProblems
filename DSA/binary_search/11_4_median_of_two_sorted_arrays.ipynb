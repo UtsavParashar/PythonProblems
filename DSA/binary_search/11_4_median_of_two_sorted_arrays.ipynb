{
 "cells": [
  {
   "cell_type": "markdown",
   "id": "e24d35e3",
   "metadata": {},
   "source": [
    "#### 4. Median of Two Sorted Arrays\n",
    "\n",
    "* https://leetcode.com/problems/median-of-two-sorted-arrays/description/"
   ]
  },
  {
   "cell_type": "code",
   "execution_count": 4,
   "id": "e7406819",
   "metadata": {},
   "outputs": [],
   "source": [
    "# https://www.youtube.com/watch?v=q6IEA26hvXc\n",
    "\n",
    "def find_median_sorted_arrays(nums1, nums2):\n",
    "    A, B = nums1, nums2\n",
    "\n",
    "    if len(A) > len(B):\n",
    "        A, B = B, A\n",
    "\n",
    "    l, r = 0, len(A)-1\n",
    "\n",
    "    total = len(A) + len(B)\n",
    "    half = total // 2\n",
    "    while True:\n",
    "        i = (l+r)//2\n",
    "        j = half - i - 2\n",
    "\n",
    "        Aleft = A[i] if i >=0 else float('-inf')\n",
    "        Bleft = B[j] if j >=0 else float('-inf')\n",
    "        Aright = A[i+1] if (i+1) < len(A) else float('inf')\n",
    "        Bright = B[j+1] if (j+1) < len(B) else float('inf')\n",
    "\n",
    "        if Aleft <= Bright and Bleft <= Aright:\n",
    "            if total % 2:\n",
    "                return min(Aright, Bright)\n",
    "            return (max(Aleft, Bleft) + min(Aright, Bright))/2\n",
    "        elif  Aleft > Bright:\n",
    "            r = i - 1\n",
    "        else:\n",
    "            l = i + 1\n",
    "    \n"
   ]
  },
  {
   "cell_type": "code",
   "execution_count": 5,
   "id": "282357c7",
   "metadata": {},
   "outputs": [
    {
     "data": {
      "text/plain": [
       "2.5"
      ]
     },
     "execution_count": 5,
     "metadata": {},
     "output_type": "execute_result"
    }
   ],
   "source": [
    "find_median_sorted_arrays(nums1 = [1,3], nums2 = [2,4])"
   ]
  },
  {
   "cell_type": "code",
   "execution_count": null,
   "id": "243c25e6",
   "metadata": {},
   "outputs": [],
   "source": []
  }
 ],
 "metadata": {
  "kernelspec": {
   "display_name": "Python 3",
   "language": "python",
   "name": "python3"
  },
  "language_info": {
   "codemirror_mode": {
    "name": "ipython",
    "version": 3
   },
   "file_extension": ".py",
   "mimetype": "text/x-python",
   "name": "python",
   "nbconvert_exporter": "python",
   "pygments_lexer": "ipython3",
   "version": "3.11.9"
  }
 },
 "nbformat": 4,
 "nbformat_minor": 5
}
