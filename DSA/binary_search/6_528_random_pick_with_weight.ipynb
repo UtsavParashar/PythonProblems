{
 "cells": [
  {
   "cell_type": "markdown",
   "id": "39b2f4d8",
   "metadata": {},
   "source": [
    "#### 528. Random Pick with Weight\n",
    "\n",
    "* https://leetcode.com/problems/random-pick-with-weight/"
   ]
  },
  {
   "cell_type": "code",
   "execution_count": 21,
   "id": "dbbda25e",
   "metadata": {},
   "outputs": [],
   "source": [
    "import itertools\n",
    "import random\n",
    "class Solution:\n",
    "\n",
    "    def __init__(self, w: list[int]):\n",
    "        total = sum(w)\n",
    "        self.normalized_weights  = [val/total for val in itertools.accumulate(w)]\n",
    "\n",
    "    def pickIndex(self):\n",
    "        target = random.random()\n",
    "        for i, weight in enumerate(self.normalized_weights):\n",
    "            if target < weight:\n",
    "                return i"
   ]
  },
  {
   "cell_type": "code",
   "execution_count": 22,
   "id": "aa22f017",
   "metadata": {},
   "outputs": [
    {
     "data": {
      "text/plain": [
       "2"
      ]
     },
     "execution_count": 22,
     "metadata": {},
     "output_type": "execute_result"
    }
   ],
   "source": [
    "Solution([1,2,3]).pickIndex()"
   ]
  },
  {
   "cell_type": "code",
   "execution_count": null,
   "id": "642bd1a7",
   "metadata": {},
   "outputs": [],
   "source": [
    "class Solution:\n",
    "    def __init__(self, w: list[int]):\n",
    "        self.normalized_weights = list(itertools.accumulate(w, lambda acc, x: acc + x / sum(w)))\n",
    "\n",
    "    def pickIndex(self):\n",
    "        target = random.random()\n",
    "        return next(i for i, weight in enumerate(self.normalized_weights) if target < weight)\n"
   ]
  }
 ],
 "metadata": {
  "kernelspec": {
   "display_name": "Python 3",
   "language": "python",
   "name": "python3"
  },
  "language_info": {
   "codemirror_mode": {
    "name": "ipython",
    "version": 3
   },
   "file_extension": ".py",
   "mimetype": "text/x-python",
   "name": "python",
   "nbconvert_exporter": "python",
   "pygments_lexer": "ipython3",
   "version": "3.11.9"
  }
 },
 "nbformat": 4,
 "nbformat_minor": 5
}
