{
 "cells": [
  {
   "cell_type": "markdown",
   "metadata": {},
   "source": [
    "#### 34. Find First and Last Position of Element in Sorted Array\n",
    "\n",
    "* Given an array of integers nums sorted in non-decreasing order, find the starting and ending position of a given target value.\n",
    "* If target is not found in the array, return [-1, -1].\n",
    "* You must write an algorithm with O(log n) runtime complexity.\n",
    "\n",
    "- Example 1:\n",
    "- Input: nums = [5,7,7,8,8,10], target = 8\n",
    "= Output: [3,4]\n",
    "\n",
    "- Example 2:\n",
    "- Input: nums = [5,7,7,8,8,10], target = 6\n",
    "- Output: [-1,-1]\n",
    "\n",
    "- Example 3:\n",
    "- Input: nums = [], target = 0\n",
    "- Output: [-1,-1]"
   ]
  },
  {
   "cell_type": "code",
   "execution_count": null,
   "metadata": {},
   "outputs": [],
   "source": [
    "def brute_force(nums, target):\n",
    "    l,r = 0, len(nums)-1\n",
    "\n",
    "    while l <= r:\n",
    "        m = (l+r)//2\n",
    "        if target == nums[m]:\n",
    "            print(m)\n",
    "            lm, rm = m, m\n",
    "            if m == 0:\n",
    "                flm = m\n",
    "            else:\n",
    "                while nums[lm] == target:\n",
    "                    if lm == 0:\n",
    "                        break\n",
    "                    lm -= 1\n",
    "                flm = lm+1 if lm else 0\n",
    "            \n",
    "            if rm == len(nums)-1:\n",
    "                frm = m\n",
    "            else:\n",
    "                while nums[rm] == target:\n",
    "                    rm += 1\n",
    "                    if rm == (len(nums)):\n",
    "                        break\n",
    "                frm = rm-1\n",
    "            return [flm, frm]\n",
    "        elif target > nums[m]:\n",
    "            l = m + 1\n",
    "        else:\n",
    "            r = m -1\n",
    "    \n",
    "    return [-1, -1]\n",
    "            \n",
    "\n"
   ]
  },
  {
   "cell_type": "code",
   "execution_count": 74,
   "metadata": {},
   "outputs": [
    {
     "name": "stdout",
     "output_type": "stream",
     "text": [
      "1\n"
     ]
    },
    {
     "data": {
      "text/plain": [
       "[0, 1]"
      ]
     },
     "execution_count": 74,
     "metadata": {},
     "output_type": "execute_result"
    }
   ],
   "source": [
    "# Edge case for which brute force method fails\n",
    "brute_force(nums = [1,4], target = 4)"
   ]
  },
  {
   "cell_type": "code",
   "execution_count": 63,
   "metadata": {},
   "outputs": [
    {
     "data": {
      "text/plain": [
       "[3, 4]"
      ]
     },
     "execution_count": 63,
     "metadata": {},
     "output_type": "execute_result"
    }
   ],
   "source": [
    "brute_force(nums = [5,7,7,8,8,10], target = 8)"
   ]
  },
  {
   "cell_type": "code",
   "execution_count": 64,
   "metadata": {},
   "outputs": [
    {
     "data": {
      "text/plain": [
       "[-1, -1]"
      ]
     },
     "execution_count": 64,
     "metadata": {},
     "output_type": "execute_result"
    }
   ],
   "source": [
    "brute_force(nums = [5,7,7,8,8,10], target = 6)"
   ]
  },
  {
   "cell_type": "code",
   "execution_count": 65,
   "metadata": {},
   "outputs": [
    {
     "data": {
      "text/plain": [
       "[-1, -1]"
      ]
     },
     "execution_count": 65,
     "metadata": {},
     "output_type": "execute_result"
    }
   ],
   "source": [
    "brute_force(nums = [], target = 0)"
   ]
  },
  {
   "cell_type": "code",
   "execution_count": 67,
   "metadata": {},
   "outputs": [
    {
     "data": {
      "text/plain": [
       "[0, 1]"
      ]
     },
     "execution_count": 67,
     "metadata": {},
     "output_type": "execute_result"
    }
   ],
   "source": [
    "brute_force(nums = [1,4], target = 4)"
   ]
  },
  {
   "cell_type": "code",
   "execution_count": 44,
   "metadata": {},
   "outputs": [
    {
     "name": "stdout",
     "output_type": "stream",
     "text": [
      "3.67 ms ± 390 μs per loop (mean ± std. dev. of 7 runs, 100 loops each)\n"
     ]
    }
   ],
   "source": [
    "%timeit brute_force(nums = [8]*100000, target = 8)"
   ]
  },
  {
   "cell_type": "code",
   "execution_count": 37,
   "metadata": {},
   "outputs": [],
   "source": [
    "def searchRange(nums, target):\n",
    "    def findFirst(nums, target):\n",
    "        start, end = 0, len(nums) - 1\n",
    "        while start <= end:\n",
    "            mid = start + (end - start) // 2\n",
    "            # Move the end pointer to mid - 1 when mid is greater or equal to target\n",
    "            if nums[mid] >= target:\n",
    "                end = mid - 1\n",
    "            else:\n",
    "                start = mid + 1\n",
    "        # After the loop, start is at the first position or out of bounds\n",
    "        # Verify if start is a valid position and matches the target\n",
    "        if start < len(nums) and nums[start] == target:\n",
    "            return start\n",
    "        return -1\n",
    "\n",
    "    def findLast(nums, target):\n",
    "        start, end = 0, len(nums) - 1\n",
    "        while start <= end:\n",
    "            mid = start + (end - start) // 2\n",
    "            # Move the start pointer to mid + 1 when mid is less or equal to target\n",
    "            if nums[mid] <= target:\n",
    "                start = mid + 1\n",
    "            else:\n",
    "                end = mid - 1\n",
    "        # After the loop, end is at the last position or out of bounds\n",
    "        # Verify if end is a valid position and matches the target\n",
    "        if end >= 0 and nums[end] == target:\n",
    "            return end\n",
    "        return -1\n",
    "\n",
    "    return [findFirst(nums, target), findLast(nums, target)]"
   ]
  },
  {
   "cell_type": "code",
   "execution_count": 41,
   "metadata": {},
   "outputs": [
    {
     "name": "stdout",
     "output_type": "stream",
     "text": [
      "648 ns ± 7.49 ns per loop (mean ± std. dev. of 7 runs, 1,000,000 loops each)\n"
     ]
    }
   ],
   "source": [
    "%timeit searchRange(nums = [5,7,7,8,8,10], target = 8)"
   ]
  },
  {
   "cell_type": "code",
   "execution_count": 45,
   "metadata": {},
   "outputs": [
    {
     "name": "stdout",
     "output_type": "stream",
     "text": [
      "54.3 μs ± 6.04 μs per loop (mean ± std. dev. of 7 runs, 10,000 loops each)\n"
     ]
    }
   ],
   "source": [
    "%timeit searchRange(nums = [8]*100000, target = 8)"
   ]
  },
  {
   "cell_type": "code",
   "execution_count": null,
   "metadata": {},
   "outputs": [],
   "source": []
  }
 ],
 "metadata": {
  "kernelspec": {
   "display_name": "Python 3",
   "language": "python",
   "name": "python3"
  },
  "language_info": {
   "codemirror_mode": {
    "name": "ipython",
    "version": 3
   },
   "file_extension": ".py",
   "mimetype": "text/x-python",
   "name": "python",
   "nbconvert_exporter": "python",
   "pygments_lexer": "ipython3",
   "version": "3.11.9"
  }
 },
 "nbformat": 4,
 "nbformat_minor": 2
}
