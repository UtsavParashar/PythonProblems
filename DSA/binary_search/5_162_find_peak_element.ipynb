{
 "cells": [
  {
   "cell_type": "markdown",
   "id": "208a5315",
   "metadata": {},
   "source": [
    "### 162. Find Peak Element\n",
    "* https://leetcode.com/problems/find-peak-element/description/"
   ]
  },
  {
   "cell_type": "code",
   "execution_count": 3,
   "id": "70aed55d",
   "metadata": {},
   "outputs": [],
   "source": [
    "# https://www.youtube.com/watch?v=kMzJy9es7Hc\n",
    "\n",
    "def find_peak_element(nums):\n",
    "    l, r = 0, len(nums)-1\n",
    "\n",
    "    while l < r:\n",
    "        m = (l + r) // 2\n",
    "        if nums[m] < nums[m+1]:\n",
    "            l = m + 1\n",
    "        else:\n",
    "            r = m\n",
    "    \n",
    "    return l"
   ]
  },
  {
   "cell_type": "code",
   "execution_count": 4,
   "id": "7eb7ebf9",
   "metadata": {},
   "outputs": [
    {
     "data": {
      "text/plain": [
       "2"
      ]
     },
     "execution_count": 4,
     "metadata": {},
     "output_type": "execute_result"
    }
   ],
   "source": [
    "find_peak_element(nums = [1,2,3,1])"
   ]
  },
  {
   "cell_type": "code",
   "execution_count": null,
   "id": "9c3be2b7",
   "metadata": {},
   "outputs": [],
   "source": []
  }
 ],
 "metadata": {
  "kernelspec": {
   "display_name": "Python 3",
   "language": "python",
   "name": "python3"
  },
  "language_info": {
   "codemirror_mode": {
    "name": "ipython",
    "version": 3
   },
   "file_extension": ".py",
   "mimetype": "text/x-python",
   "name": "python",
   "nbconvert_exporter": "python",
   "pygments_lexer": "ipython3",
   "version": "3.11.9"
  }
 },
 "nbformat": 4,
 "nbformat_minor": 5
}
