{
 "cells": [
  {
   "cell_type": "markdown",
   "id": "367bf32d",
   "metadata": {},
   "source": [
    "#### 875. Koko Eating Bananas\n",
    "\n",
    "* https://leetcode.com/problems/koko-eating-bananas/description/"
   ]
  },
  {
   "cell_type": "code",
   "execution_count": 17,
   "id": "ee5d2f15",
   "metadata": {},
   "outputs": [],
   "source": [
    "## Credit - https://www.youtube.com/watch?v=U2SozAs9RzA\n",
    "\n",
    "import math\n",
    "def min_eating_speed(piles, h):\n",
    "\n",
    "    l, r = 1, max(piles)\n",
    "    res = r\n",
    "    while l <= r:\n",
    "        hours = 0\n",
    "        k = (l+r)//2\n",
    "        for p in piles:\n",
    "            hours += math.ceil(p/k)\n",
    "        if hours <= h:\n",
    "            res = min(res, k)\n",
    "            r = k - 1\n",
    "        else:\n",
    "            l = k + 1\n",
    "        \n",
    "    \n",
    "    return res\n",
    "\n",
    "    \n"
   ]
  },
  {
   "cell_type": "code",
   "execution_count": 18,
   "id": "23759b32",
   "metadata": {},
   "outputs": [
    {
     "data": {
      "text/plain": [
       "4"
      ]
     },
     "execution_count": 18,
     "metadata": {},
     "output_type": "execute_result"
    }
   ],
   "source": [
    "min_eating_speed(piles = [3,6,7,11], h = 8)"
   ]
  },
  {
   "cell_type": "code",
   "execution_count": null,
   "id": "33e49d0c",
   "metadata": {},
   "outputs": [],
   "source": []
  }
 ],
 "metadata": {
  "kernelspec": {
   "display_name": "Python 3",
   "language": "python",
   "name": "python3"
  },
  "language_info": {
   "codemirror_mode": {
    "name": "ipython",
    "version": 3
   },
   "file_extension": ".py",
   "mimetype": "text/x-python",
   "name": "python",
   "nbconvert_exporter": "python",
   "pygments_lexer": "ipython3",
   "version": "3.11.9"
  }
 },
 "nbformat": 4,
 "nbformat_minor": 5
}
