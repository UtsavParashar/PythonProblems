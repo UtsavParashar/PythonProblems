{
 "cells": [
  {
   "cell_type": "markdown",
   "id": "bf16059d",
   "metadata": {},
   "source": [
    "#### 1095. Find in Mountain Array\n",
    "\n",
    "* https://leetcode.com/problems/find-in-mountain-array/description/"
   ]
  },
  {
   "cell_type": "code",
   "execution_count": 74,
   "id": "f2f8d72a",
   "metadata": {},
   "outputs": [],
   "source": [
    "class MountainArray:\n",
    "    def __init__(self, nums):\n",
    "        self.nums = nums\n",
    "        \n",
    "    def get(self, index: int) -> int:\n",
    "        return self.nums[index]\n",
    "    def length(self) -> int:\n",
    "        return len(self.nums)\n",
    "\n",
    "class Solution:\n",
    "    def find_in_mountain_array(self, target: int, mountain_arr: MountainArray) -> int:\n",
    "        def binary_search(l, r, asc=True):\n",
    "            while l <= r:\n",
    "                m = l + (r-l) //2\n",
    "                mid_val = mountain_arr.get(m)\n",
    "                if mid_val == target:\n",
    "                    return m\n",
    "                if asc:\n",
    "                    if mid_val < target:\n",
    "                        l = m + 1\n",
    "                    else:\n",
    "                        r = m - 1\n",
    "                else:\n",
    "                    if mid_val > target:\n",
    "                        l = m + 1\n",
    "                    else:\n",
    "                        r = m - 1\n",
    "                \n",
    "            return -1\n",
    "\n",
    "\n",
    "        length = mountain_arr.length()\n",
    "        left, right = 0, length-1 # as the 0th index and last index value can't be peak else it won't be a mountain\n",
    "        # find peak\n",
    "        while left < right:\n",
    "            m = (left+right)//2\n",
    "            if mountain_arr.get(m) < mountain_arr.get(m+1):\n",
    "                left = m + 1\n",
    "            else:\n",
    "                right = m\n",
    "        peak = left # left and right both will be pointing to the peak\n",
    "\n",
    "\n",
    "        # find target in the increasing subarray\n",
    "        index = binary_search(0, peak, True)\n",
    "        if index != -1:\n",
    "            return index\n",
    "\n",
    "        # find target in the decreasing subarray\n",
    "        return binary_search(peak, length-1, False)"
   ]
  },
  {
   "cell_type": "code",
   "execution_count": 75,
   "id": "ffe1edd9",
   "metadata": {},
   "outputs": [
    {
     "data": {
      "text/plain": [
       "1"
      ]
     },
     "execution_count": 75,
     "metadata": {},
     "output_type": "execute_result"
    }
   ],
   "source": [
    "ma = MountainArray([1,2,3,4,5,3,1])\n",
    "Solution().find_in_mountain_array(2, ma)"
   ]
  },
  {
   "cell_type": "code",
   "execution_count": null,
   "id": "7a291d3b",
   "metadata": {},
   "outputs": [],
   "source": []
  }
 ],
 "metadata": {
  "kernelspec": {
   "display_name": "Python 3",
   "language": "python",
   "name": "python3"
  },
  "language_info": {
   "codemirror_mode": {
    "name": "ipython",
    "version": 3
   },
   "file_extension": ".py",
   "mimetype": "text/x-python",
   "name": "python",
   "nbconvert_exporter": "python",
   "pygments_lexer": "ipython3",
   "version": "3.11.9"
  }
 },
 "nbformat": 4,
 "nbformat_minor": 5
}
