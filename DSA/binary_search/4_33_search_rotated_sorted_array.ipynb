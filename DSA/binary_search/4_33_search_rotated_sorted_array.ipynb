{
 "cells": [
  {
   "cell_type": "markdown",
   "metadata": {},
   "source": [
    "#### 33. Search in Rotated Sorted Array\n",
    "\n",
    "* https://leetcode.com/problems/search-in-rotated-sorted-array/description/\n",
    "\n",
    "- Example 1:\n",
    "- Input: nums = [4,5,6,7,0,1,2], target = 0\n",
    "- Output: 4\n",
    "\n",
    "- Example 2:\n",
    "- Input: nums = [4,5,6,7,0,1,2], target = 3\n",
    "- Output: -1\n",
    "\n",
    "- Example 3:\n",
    "- Input: nums = [1], target = 0\n",
    "- Output: -1"
   ]
  },
  {
   "cell_type": "code",
   "execution_count": 1,
   "metadata": {},
   "outputs": [],
   "source": [
    "def brute_force(nums, target):\n",
    "    for i, v in enumerate(nums):\n",
    "        if v == target:\n",
    "            return i\n",
    "    return -1"
   ]
  },
  {
   "cell_type": "code",
   "execution_count": 2,
   "metadata": {},
   "outputs": [
    {
     "data": {
      "text/plain": [
       "4"
      ]
     },
     "execution_count": 2,
     "metadata": {},
     "output_type": "execute_result"
    }
   ],
   "source": [
    "brute_force(nums = [4,5,6,7,0,1,2], target = 0)"
   ]
  },
  {
   "cell_type": "code",
   "execution_count": 3,
   "metadata": {},
   "outputs": [
    {
     "data": {
      "text/plain": [
       "-1"
      ]
     },
     "execution_count": 3,
     "metadata": {},
     "output_type": "execute_result"
    }
   ],
   "source": [
    "brute_force(nums = [4,5,6,7,0,1,2], target = 3)"
   ]
  },
  {
   "cell_type": "code",
   "execution_count": 4,
   "metadata": {},
   "outputs": [
    {
     "data": {
      "text/plain": [
       "-1"
      ]
     },
     "execution_count": 4,
     "metadata": {},
     "output_type": "execute_result"
    }
   ],
   "source": [
    "brute_force(nums = [1], target = 0)"
   ]
  },
  {
   "cell_type": "markdown",
   "metadata": {},
   "source": [
    "#### Optimized Sol explaination\n",
    "\n",
    "* Binary Search Basics:\n",
    "\n",
    "- Use two pointers, left and right, to define the search range.\n",
    "- Calculate the middle index mid and compare nums[mid] with the target.\n",
    "\n",
    "- Handle Rotated Array:\n",
    "- Check if the left part (nums[left] to nums[mid]) is sorted:\n",
    "- If sorted, check if the target lies within this range. If yes, adjust the right pointer to search in the left part; otherwise, search in the right part.\n",
    "- If the left part is not sorted, the right part (nums[mid] to nums[right]) must be sorted:\n",
    "- Similarly, check if the target lies within this range and adjust the left pointer accordingly.\n",
    "- Repeat Until Found:\n",
    "- Continue narrowing down the search range until the target is found or the range becomes invalid (left > right).\n",
    "\n",
    "- Complexity:\n",
    "- Time Complexity: O(log n):\n",
    "- The search range is halved in each iteration.\n",
    "- Space Complexity: O(1):\n",
    "- No additional space is used."
   ]
  },
  {
   "cell_type": "code",
   "execution_count": 5,
   "metadata": {},
   "outputs": [],
   "source": [
    "def search(nums, target):\n",
    "    left, right = 0, len(nums) - 1\n",
    "\n",
    "    while left <= right:\n",
    "        mid = (left + right) // 2\n",
    "\n",
    "        # Check if the middle element is the target\n",
    "        if nums[mid] == target:\n",
    "            return mid\n",
    "\n",
    "        # Determine which part of the array is sorted\n",
    "        if nums[left] <= nums[mid]:  # Left part is sorted\n",
    "            if nums[left] <= target < nums[mid]:  # Target is in the left part\n",
    "                right = mid - 1\n",
    "            else:  # Target is in the right part\n",
    "                left = mid + 1\n",
    "        else:  # Right part is sorted\n",
    "            if nums[mid] < target <= nums[right]:  # Target is in the right part\n",
    "                left = mid + 1\n",
    "            else:  # Target is in the left part\n",
    "                right = mid - 1\n",
    "\n",
    "    return -1  # Target not found"
   ]
  },
  {
   "cell_type": "code",
   "execution_count": null,
   "metadata": {},
   "outputs": [],
   "source": []
  }
 ],
 "metadata": {
  "kernelspec": {
   "display_name": "Python 3",
   "language": "python",
   "name": "python3"
  },
  "language_info": {
   "codemirror_mode": {
    "name": "ipython",
    "version": 3
   },
   "file_extension": ".py",
   "mimetype": "text/x-python",
   "name": "python",
   "nbconvert_exporter": "python",
   "pygments_lexer": "ipython3",
   "version": "3.11.9"
  }
 },
 "nbformat": 4,
 "nbformat_minor": 2
}
