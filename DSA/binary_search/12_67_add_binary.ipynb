{
 "cells": [
  {
   "cell_type": "markdown",
   "id": "f0ccd952",
   "metadata": {},
   "source": [
    "#### 67. Add Binary\n",
    "* https://leetcode.com/problems/add-binary/description/\n",
    "\n",
    "### ['Bloomberg', 'SIG', 'Meta', 'Amazon', 'Google', 'Apple', 'Uber']"
   ]
  },
  {
   "cell_type": "code",
   "execution_count": 1,
   "id": "bbf6932f",
   "metadata": {},
   "outputs": [
    {
     "data": {
      "text/plain": [
       "'10101'"
      ]
     },
     "execution_count": 1,
     "metadata": {},
     "output_type": "execute_result"
    }
   ],
   "source": [
    "class Solution:\n",
    "    def addBinary(self, a: str, b: str) -> str:\n",
    "        i, j, carry = len(a)-1, len(b)-1, 0\n",
    "        res = []\n",
    "\n",
    "        while i >= 0 or j >= 0 or carry:\n",
    "            total = carry\n",
    "            if i >= 0:\n",
    "                total += int(a[i])\n",
    "                i -= 1\n",
    "            if j >= 0:\n",
    "                total += int(b[j])\n",
    "                j -= 1\n",
    "\n",
    "            char = total%2 # base 2\n",
    "            carry = total // 2\n",
    "\n",
    "            res.append(str(char))\n",
    "        \n",
    "        return ''.join(reversed(res))\n",
    "    \n",
    "Solution().addBinary(a = \"1010\", b = \"1011\")"
   ]
  },
  {
   "cell_type": "code",
   "execution_count": null,
   "id": "6a109884",
   "metadata": {},
   "outputs": [
    {
     "data": {
      "text/plain": [
       "<reversed at 0x2023709a0b0>"
      ]
     },
     "execution_count": 2,
     "metadata": {},
     "output_type": "execute_result"
    }
   ],
   "source": [
    "class Solution:\n",
    "    def addBinary(self, a: str, b: str) -> str:\n",
    "        lenA, lenB = len(a), len(b)\n",
    "        res = ''\n",
    "        a, b = a[::-1], b[::-1]\n",
    "        carry = 0\n",
    "\n",
    "        for i in range(max(lenA, lenB)):\n",
    "            charA = int(a[i]) if i < lenA else 0\n",
    "            charB = int(b[i]) if i < lenB else 0\n",
    "\n",
    "            total = charA + charB + carry\n",
    "            char = str(total%2)\n",
    "            carry = total // 2\n",
    "            res = char + res\n",
    "        \n",
    "        return str(carry) + res if carry else res\n"
   ]
  },
  {
   "cell_type": "code",
   "execution_count": null,
   "id": "bfc61516",
   "metadata": {},
   "outputs": [],
   "source": []
  }
 ],
 "metadata": {
  "kernelspec": {
   "display_name": "Python 3",
   "language": "python",
   "name": "python3"
  },
  "language_info": {
   "codemirror_mode": {
    "name": "ipython",
    "version": 3
   },
   "file_extension": ".py",
   "mimetype": "text/x-python",
   "name": "python",
   "nbconvert_exporter": "python",
   "pygments_lexer": "ipython3",
   "version": "3.11.9"
  }
 },
 "nbformat": 4,
 "nbformat_minor": 5
}
