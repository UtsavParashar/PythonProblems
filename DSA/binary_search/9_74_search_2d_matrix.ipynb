{
 "cells": [
  {
   "cell_type": "markdown",
   "id": "ebf076ee",
   "metadata": {},
   "source": [
    "#### 74. Search a 2D matrix \n",
    "\n",
    "* https://leetcode.com/problems/search-a-2d-matrix/description/\n"
   ]
  },
  {
   "cell_type": "code",
   "execution_count": 6,
   "id": "d99e5d13",
   "metadata": {},
   "outputs": [],
   "source": [
    "## Credit - https://www.youtube.com/watch?v=x-dYOtIudzc\n",
    "\n",
    "def search_matrix(matrix, target):\n",
    "    m = len(matrix)\n",
    "    n = len(matrix[0])\n",
    "    l, r = 0, (m*n)-1\n",
    "\n",
    "    while l <= r:\n",
    "        k = (l+r)//2\n",
    "\n",
    "        i = k // n # get the row\n",
    "        j = k % n # get the column\n",
    "\n",
    "        mid_num = matrix[i][j]\n",
    "\n",
    "        if target == mid_num:\n",
    "            return True\n",
    "        if target > mid_num:\n",
    "            l = k + 1\n",
    "        else:\n",
    "            r = k - 1\n",
    "\n",
    "    return False \n",
    "\n",
    "\n"
   ]
  },
  {
   "cell_type": "code",
   "execution_count": 7,
   "id": "cda7df6f",
   "metadata": {},
   "outputs": [
    {
     "data": {
      "text/plain": [
       "False"
      ]
     },
     "execution_count": 7,
     "metadata": {},
     "output_type": "execute_result"
    }
   ],
   "source": [
    "search_matrix(matrix = [[1,3,5,7],[10,11,16,20],[23,30,34,60]], target = 13)"
   ]
  },
  {
   "cell_type": "code",
   "execution_count": null,
   "id": "11975072",
   "metadata": {},
   "outputs": [],
   "source": []
  }
 ],
 "metadata": {
  "kernelspec": {
   "display_name": "Python 3",
   "language": "python",
   "name": "python3"
  },
  "language_info": {
   "codemirror_mode": {
    "name": "ipython",
    "version": 3
   },
   "file_extension": ".py",
   "mimetype": "text/x-python",
   "name": "python",
   "nbconvert_exporter": "python",
   "pygments_lexer": "ipython3",
   "version": "3.11.9"
  }
 },
 "nbformat": 4,
 "nbformat_minor": 5
}
