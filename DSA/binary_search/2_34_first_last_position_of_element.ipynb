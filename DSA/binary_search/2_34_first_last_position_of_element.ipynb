{
 "cells": [
  {
   "cell_type": "markdown",
   "metadata": {},
   "source": [
    "#### 34. Find First and Last Position of Element in Sorted Array\n",
    "* https://leetcode.com/problems/find-first-and-last-position-of-element-in-sorted-array/description/\n",
    "#### ['Bloomberg', 'DE Shaw', 'Meta', 'Amazon', 'Apple', 'Uber']"
   ]
  },
  {
   "cell_type": "code",
   "execution_count": 1,
   "metadata": {},
   "outputs": [
    {
     "data": {
      "text/plain": [
       "[3, 4]"
      ]
     },
     "execution_count": 1,
     "metadata": {},
     "output_type": "execute_result"
    }
   ],
   "source": [
    "## TC - O(logn)\n",
    "## SC - O(1)\n",
    "## Credit - Explanation - https://www.youtube.com/watch?v=4sQL7R5ySUU&t=404s\n",
    "## https://chatgpt.com/c/68e36013-fedc-8321-be6a-54d32121e85a\n",
    "\n",
    "class Solution:\n",
    "    def searchRange(self, nums, target: int):\n",
    "        # Apply binary search twice\n",
    "        # Once to get the left index and other time to get the right index\n",
    "        # left_bias will help find the left index \n",
    "        def find_bound(left_bias):\n",
    "            bound = -1\n",
    "\n",
    "            l, r = 0, len(nums)-1\n",
    "            while l <= r:\n",
    "                m = (l+r)//2\n",
    "                if nums[m] == target:\n",
    "                    bound = m\n",
    "                    if left_bias: # help find left index\n",
    "                        r = m - 1\n",
    "                    else:\n",
    "                        l = m + 1 # help find right index\n",
    "                elif nums[m] < target:\n",
    "                    l = m + 1\n",
    "                else:\n",
    "                    r = m - 1\n",
    "\n",
    "            return bound\n",
    "        return [find_bound(True), find_bound(False)]\n",
    "    \n",
    "Solution().searchRange(nums = [5,7,7,8,8,10], target = 8)\n",
    "        "
   ]
  },
  {
   "cell_type": "code",
   "execution_count": 3,
   "metadata": {},
   "outputs": [
    {
     "data": {
      "text/plain": [
       "[3, 4]"
      ]
     },
     "execution_count": 3,
     "metadata": {},
     "output_type": "execute_result"
    }
   ],
   "source": [
    "## Pythonic solution using bisect, which tells the index where the element could be placed in a sorted list\n",
    "import bisect\n",
    "class Solution:\n",
    "    def searchRange(self, nums, target: int):\n",
    "        left = bisect.bisect_left(nums, target)\n",
    "        if left == len(nums) or nums[left] != target:\n",
    "            return [-1, -1]\n",
    "        right = bisect.bisect_right(nums, target)-1\n",
    "        return [left, right]\n",
    "    \n",
    "Solution().searchRange(nums = [5,7,7,8,8,10], target = 8)"
   ]
  },
  {
   "cell_type": "code",
   "execution_count": null,
   "metadata": {},
   "outputs": [],
   "source": []
  }
 ],
 "metadata": {
  "kernelspec": {
   "display_name": "Python 3",
   "language": "python",
   "name": "python3"
  },
  "language_info": {
   "codemirror_mode": {
    "name": "ipython",
    "version": 3
   },
   "file_extension": ".py",
   "mimetype": "text/x-python",
   "name": "python",
   "nbconvert_exporter": "python",
   "pygments_lexer": "ipython3",
   "version": "3.11.9"
  }
 },
 "nbformat": 4,
 "nbformat_minor": 2
}
