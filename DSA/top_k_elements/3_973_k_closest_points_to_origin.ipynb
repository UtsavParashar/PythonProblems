{
 "cells": [
  {
   "cell_type": "markdown",
   "id": "dd76a4d1",
   "metadata": {},
   "source": [
    "#### 973. K Closest Points to Origin\n",
    "\n",
    "* https://leetcode.com/problems/k-closest-points-to-origin/description/"
   ]
  },
  {
   "cell_type": "code",
   "execution_count": null,
   "id": "a5e35e28",
   "metadata": {},
   "outputs": [
    {
     "data": {
      "text/plain": [
       "[[-2, 4], [3, 3]]"
      ]
     },
     "execution_count": 3,
     "metadata": {},
     "output_type": "execute_result"
    }
   ],
   "source": [
    "# TC = nlogk\n",
    "# https://www.youtube.com/watch?v=IGRUukbD6p8\n",
    "\n",
    "import heapq\n",
    "\n",
    "def k_closest(points, k):\n",
    "    def distance(x, y):\n",
    "        return x**2+y**2\n",
    "\n",
    "    heap = []\n",
    "    for x, y in points:\n",
    "        d = distance(x, y)\n",
    "        if len(heap) < k:\n",
    "            heapq.heappush(heap, (-d, x, y))\n",
    "        else:\n",
    "            heapq.heappushpop(heap, (-d, x, y))\n",
    "\n",
    "    return [[x, y] for _, x, y in heap]\n",
    "\n",
    "k_closest(points = [[3,3],[5,-1],[-2,4]], k = 2)"
   ]
  },
  {
   "cell_type": "code",
   "execution_count": null,
   "id": "a7dfc94e",
   "metadata": {},
   "outputs": [],
   "source": []
  }
 ],
 "metadata": {
  "kernelspec": {
   "display_name": "Python 3",
   "language": "python",
   "name": "python3"
  },
  "language_info": {
   "codemirror_mode": {
    "name": "ipython",
    "version": 3
   },
   "file_extension": ".py",
   "mimetype": "text/x-python",
   "name": "python",
   "nbconvert_exporter": "python",
   "pygments_lexer": "ipython3",
   "version": "3.11.9"
  }
 },
 "nbformat": 4,
 "nbformat_minor": 5
}
