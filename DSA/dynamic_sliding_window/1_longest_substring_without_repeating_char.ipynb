{
 "cells": [
  {
   "cell_type": "markdown",
   "metadata": {},
   "source": [
    "#### 3. Longest Substring Without Repeating Characters - https://leetcode.com/problems/longest-substring-without-repeating-characters/description/\n",
    "\n",
    "Given a string s, find the length of the longest substring without duplicate characters.\n",
    "\n",
    "Example 1:\n",
    "Input: s = \"abcabcbb\"\n",
    "Output: 3\n",
    "Explanation: The answer is \"abc\", with the length of 3.\n",
    "\n",
    "Example 2:\n",
    "Input: s = \"bbbbb\"\n",
    "Output: 1\n",
    "Explanation: The answer is \"b\", with the length of 1.\n",
    "\n",
    "Example 3:\n",
    "Input: s = \"pwwkew\"\n",
    "Output: 3\n",
    "Explanation: The answer is \"wke\", with the length of 3.\n",
    "Notice that the answer must be a substring, \"pwke\" is a subsequence and not a substring.\n"
   ]
  },
  {
   "cell_type": "code",
   "execution_count": 8,
   "metadata": {},
   "outputs": [],
   "source": [
    "def brute_force(s):\n",
    "\n",
    "    longest = 0\n",
    "    counter = 0\n",
    "    temp = set()\n",
    "    for i in range(len(s)):\n",
    "        for j in s[i:]:\n",
    "            if j not in temp:\n",
    "                temp.add(j)\n",
    "                counter += 1\n",
    "            else:\n",
    "                if counter > longest:\n",
    "                    longest = counter\n",
    "                counter = 0\n",
    "                temp = set()\n",
    "                break\n",
    "    return longest\n",
    "\n"
   ]
  },
  {
   "cell_type": "code",
   "execution_count": 11,
   "metadata": {},
   "outputs": [
    {
     "data": {
      "text/plain": [
       "3"
      ]
     },
     "execution_count": 11,
     "metadata": {},
     "output_type": "execute_result"
    }
   ],
   "source": [
    "brute_force('abcabcbb')"
   ]
  },
  {
   "cell_type": "code",
   "execution_count": null,
   "metadata": {},
   "outputs": [],
   "source": [
    "# https://www.youtube.com/watch?v=wiGpQwVHdE0\n",
    "def len_longest_substring(s):\n",
    "    temp = set()\n",
    "    longest = 0\n",
    "    l = 0\n",
    "    for r in range(len(s)):\n",
    "        while s[r] in temp:\n",
    "            temp.remove(s[l])\n",
    "            l += 1\n",
    "        temp.add(s[r])\n",
    "        longest = max(longest, r-l+1)\n",
    "    return longest\n",
    "\n"
   ]
  },
  {
   "cell_type": "code",
   "execution_count": 25,
   "metadata": {},
   "outputs": [
    {
     "data": {
      "text/plain": [
       "3"
      ]
     },
     "execution_count": 25,
     "metadata": {},
     "output_type": "execute_result"
    }
   ],
   "source": [
    "len_longest_substring('abcabcbb')"
   ]
  },
  {
   "cell_type": "code",
   "execution_count": null,
   "metadata": {},
   "outputs": [
    {
     "data": {
      "text/plain": [
       "       message: Optimization terminated successfully. (HiGHS Status 7: Optimal)\n",
       "       success: True\n",
       "        status: 0\n",
       "           fun: 0.0\n",
       "             x: [ 0.000e+00  0.000e+00]\n",
       "           nit: 0\n",
       "         lower:  residual: [ 0.000e+00  0.000e+00]\n",
       "                marginals: [ 9.000e+01  1.800e+02]\n",
       "         upper:  residual: [       inf        inf]\n",
       "                marginals: [ 0.000e+00  0.000e+00]\n",
       "         eqlin:  residual: []\n",
       "                marginals: []\n",
       "       ineqlin:  residual: [ 4.000e+01  3.150e+02]\n",
       "                marginals: [-0.000e+00 -0.000e+00]"
      ]
     },
     "execution_count": 2,
     "metadata": {},
     "output_type": "execute_result"
    }
   ],
   "source": [
    "## Testing Linear Programming\n",
    "\n",
    "from scipy.optimize import linprog\n",
    "\n",
    "objective = [-90, -180]\n",
    "constraints = [[2,5], [15, 45]]\n",
    "b = [40, 315]\n",
    "bounds = [(0, None), (0, None)]\n",
    "linprog(objective, A_ub=constraints, b_ub=b, bounds = bounds)"
   ]
  },
  {
   "cell_type": "code",
   "execution_count": null,
   "metadata": {},
   "outputs": [],
   "source": []
  }
 ],
 "metadata": {
  "kernelspec": {
   "display_name": "Python 3",
   "language": "python",
   "name": "python3"
  },
  "language_info": {
   "codemirror_mode": {
    "name": "ipython",
    "version": 3
   },
   "file_extension": ".py",
   "mimetype": "text/x-python",
   "name": "python",
   "nbconvert_exporter": "python",
   "pygments_lexer": "ipython3",
   "version": "3.11.9"
  }
 },
 "nbformat": 4,
 "nbformat_minor": 2
}
