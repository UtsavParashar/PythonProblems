{
 "cells": [
  {
   "cell_type": "markdown",
   "metadata": {},
   "source": [
    "#### 424. Longest Repeating Character Replacement - https://leetcode.com/problems/longest-repeating-character-replacement/description/\n",
    "\n",
    "* You are given a string s and an integer k. You can choose any character of the string and change it to any other uppercase English character. * You can perform this operation at most k times.\n",
    "* Return the length of the longest substring containing the same letter you can get after performing the above operations.\n",
    "\n",
    "- Example 1:\n",
    "- Input: s = \"ABAB\", k = 2\n",
    "- Output: 4\n",
    "- Explanation: Replace the two 'A's with two 'B's or vice versa.\n",
    "\n",
    "- Example 2:\n",
    "- Input: s = \"AABABBA\", k = 1\n",
    "- Output: 4\n",
    "- Explanation: Replace the one 'A' in the middle with 'B' and form \"AABBBBA\".\n",
    "- The substring \"BBBB\" has the longest repeating letters, which is 4.\n",
    "- There may exists other ways to achieve this answer too."
   ]
  },
  {
   "cell_type": "code",
   "execution_count": null,
   "metadata": {},
   "outputs": [],
   "source": [
    "# https://www.youtube.com/watch?v=tkNWKvxI3mU&t=393s\n",
    "def character_replacement(s, k):\n",
    "    longest = 0\n",
    "    l = 0\n",
    "    counts = [0]*26\n",
    "\n",
    "    for r in range(len(s)):\n",
    "        counts[ord(s[r]) - ord('A')] += 1\n",
    "        while (r-l+1) - max(counts) > k:\n",
    "            counts[ord(s[l]) - ord('A')] -= 1\n",
    "            l += 1\n",
    "\n",
    "        longest = max(longest, (r-l+1))\n",
    "    return longest"
   ]
  },
  {
   "cell_type": "code",
   "execution_count": 11,
   "metadata": {},
   "outputs": [
    {
     "data": {
      "text/plain": [
       "2"
      ]
     },
     "execution_count": 11,
     "metadata": {},
     "output_type": "execute_result"
    }
   ],
   "source": [
    "character_replacement('AABAB', k=0)"
   ]
  },
  {
   "cell_type": "code",
   "execution_count": 4,
   "metadata": {},
   "outputs": [
    {
     "data": {
      "text/plain": [
       "4"
      ]
     },
     "execution_count": 4,
     "metadata": {},
     "output_type": "execute_result"
    }
   ],
   "source": [
    "character_replacement('ABAB', k=2)"
   ]
  },
  {
   "cell_type": "code",
   "execution_count": 7,
   "metadata": {},
   "outputs": [],
   "source": [
    "def characterReplacement(s: str, k: int) -> int:\n",
    "    max_length = 0\n",
    "    max_freq = 0\n",
    "    freq = {}\n",
    "    left = 0\n",
    "    \n",
    "    for right in range(len(s)):\n",
    "        # Add the current character to the frequency dictionary or update its frequency\n",
    "        char = s[right]\n",
    "        if char not in freq:\n",
    "            freq[char] = 0\n",
    "        freq[char] += 1\n",
    "        \n",
    "        # Update max frequency character in the current window\n",
    "        max_freq = max(max_freq, freq[char])\n",
    "        \n",
    "        # If the current window exceeds allowable replacements, shrink it\n",
    "        while (right - left + 1) - max_freq > k:\n",
    "            freq[s[left]] -= 1\n",
    "            left += 1\n",
    "        \n",
    "        # Calculate the max length for the valid window\n",
    "        max_length = max(max_length, right - left + 1)\n",
    "        \n",
    "    return max_length"
   ]
  },
  {
   "cell_type": "code",
   "execution_count": 8,
   "metadata": {},
   "outputs": [
    {
     "data": {
      "text/plain": [
       "4"
      ]
     },
     "execution_count": 8,
     "metadata": {},
     "output_type": "execute_result"
    }
   ],
   "source": [
    "characterReplacement('ABCAC', k=2)"
   ]
  },
  {
   "cell_type": "code",
   "execution_count": null,
   "metadata": {},
   "outputs": [],
   "source": []
  }
 ],
 "metadata": {
  "kernelspec": {
   "display_name": "Python 3",
   "language": "python",
   "name": "python3"
  },
  "language_info": {
   "codemirror_mode": {
    "name": "ipython",
    "version": 3
   },
   "file_extension": ".py",
   "mimetype": "text/x-python",
   "name": "python",
   "nbconvert_exporter": "python",
   "pygments_lexer": "ipython3",
   "version": "3.11.9"
  }
 },
 "nbformat": 4,
 "nbformat_minor": 2
}
