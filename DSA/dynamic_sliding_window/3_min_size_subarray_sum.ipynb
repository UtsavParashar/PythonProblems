{
 "cells": [
  {
   "cell_type": "markdown",
   "metadata": {},
   "source": [
    "### 209. Minimum Size Subarray Sum\n",
    "\n",
    "* Given an array of positive integers nums and a positive integer target, return the minimal length of a subarray whose sum is greater than or equal to target. If there is no such subarray, return 0 instead.\n",
    "\n",
    "- Example 1:\n",
    "= Input: target = 7, nums = [2,3,1,2,4,3]\n",
    "= Output: 2\n",
    "= Explanation: The subarray [4,3] has the minimal length under the problem constraint.\n",
    "\n",
    "- Example 2:\n",
    "- Input: target = 4, nums = [1,4,4]\n",
    "- Output: 1\n",
    "\n",
    "- Example 3:\n",
    "- Input: target = 11, nums = [1,1,1,1,1,1,1,1]\n",
    "- Output: 0"
   ]
  },
  {
   "cell_type": "code",
   "execution_count": 11,
   "metadata": {},
   "outputs": [],
   "source": [
    "def min_subarray_len(target:int, nums:list[int])->int:\n",
    "    min_length = float('inf')\n",
    "    l = 0\n",
    "    curr_sum = 0\n",
    "    for r in range(len(nums)):\n",
    "        curr_sum += nums[r]\n",
    "        while curr_sum >= target:\n",
    "            min_length = min(min_length, r-l+1)\n",
    "            curr_sum -= nums[l]\n",
    "            l += 1\n",
    "    \n",
    "    return 0 if min_length == float('inf') else int(min_length)\n"
   ]
  },
  {
   "cell_type": "code",
   "execution_count": 10,
   "metadata": {},
   "outputs": [
    {
     "data": {
      "text/plain": [
       "2"
      ]
     },
     "execution_count": 10,
     "metadata": {},
     "output_type": "execute_result"
    }
   ],
   "source": [
    "min_subarray_len(target = 7, nums = [2,3,1,2,4,3])"
   ]
  },
  {
   "cell_type": "code",
   "execution_count": null,
   "metadata": {},
   "outputs": [],
   "source": []
  }
 ],
 "metadata": {
  "kernelspec": {
   "display_name": "Python 3",
   "language": "python",
   "name": "python3"
  },
  "language_info": {
   "codemirror_mode": {
    "name": "ipython",
    "version": 3
   },
   "file_extension": ".py",
   "mimetype": "text/x-python",
   "name": "python",
   "nbconvert_exporter": "python",
   "pygments_lexer": "ipython3",
   "version": "3.11.9"
  }
 },
 "nbformat": 4,
 "nbformat_minor": 2
}
