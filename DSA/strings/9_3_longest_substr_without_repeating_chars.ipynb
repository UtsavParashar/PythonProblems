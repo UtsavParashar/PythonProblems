{
 "cells": [
  {
   "cell_type": "markdown",
   "id": "f321664f",
   "metadata": {},
   "source": [
    "### 3. Longest Substring Without Repeating Characters\n",
    "\n",
    "* https://leetcode.com/problems/longest-substring-without-repeating-characters/description/\n",
    "\n",
    "## ['J.P. Morgan', 'Goldman Sachs', 'Morgan Stanley', 'BNY Mellon', 'Bloomberg', 'Intuit', 'Meta', 'Amazon', 'Google', 'Apple', 'Netflix', 'Uber']"
   ]
  },
  {
   "cell_type": "code",
   "execution_count": null,
   "id": "9742fe08",
   "metadata": {},
   "outputs": [],
   "source": [
    "# TC, SC - O(n)\n",
    "\n",
    "\n",
    "class Solution:\n",
    "    def lengthOfLongestSubstring(self, s: str) -> int:\n",
    "        seen = {}\n",
    "        left = 0\n",
    "        max_len = 0\n",
    "\n",
    "        for right, char in enumerate(s):\n",
    "            if char in seen and seen[char] >= left:\n",
    "                left = seen[char] + 1\n",
    "            seen[char] = right\n",
    "            max_len = max(max_len, right - left + 1)\n",
    "\n",
    "        return max_len\n"
   ]
  },
  {
   "cell_type": "code",
   "execution_count": 1,
   "id": "022b5d27",
   "metadata": {},
   "outputs": [],
   "source": [
    "class Solution:\n",
    "    def lengthOfLongestSubstring(self, s: str) -> int:\n",
    "        chars = set()\n",
    "        left = 0\n",
    "        max_len = 0\n",
    "\n",
    "        for right, char in enumerate(s):\n",
    "            while char in chars:\n",
    "                chars.remove(s[left])\n",
    "                left += 1\n",
    "            chars.add(char)\n",
    "            max_len = max(max_len, right - left + 1)\n",
    "\n",
    "        return max_len\n"
   ]
  },
  {
   "cell_type": "code",
   "execution_count": null,
   "id": "ed034262",
   "metadata": {},
   "outputs": [],
   "source": []
  }
 ],
 "metadata": {
  "kernelspec": {
   "display_name": "Python 3",
   "language": "python",
   "name": "python3"
  },
  "language_info": {
   "codemirror_mode": {
    "name": "ipython",
    "version": 3
   },
   "file_extension": ".py",
   "mimetype": "text/x-python",
   "name": "python",
   "nbconvert_exporter": "python",
   "pygments_lexer": "ipython3",
   "version": "3.11.9"
  }
 },
 "nbformat": 4,
 "nbformat_minor": 5
}
