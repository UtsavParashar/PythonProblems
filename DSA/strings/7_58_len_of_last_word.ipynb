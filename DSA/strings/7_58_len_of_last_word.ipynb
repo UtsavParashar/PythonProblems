{
 "cells": [
  {
   "cell_type": "markdown",
   "id": "2bef2cea",
   "metadata": {},
   "source": [
    "### 58. Length of Last Word\n",
    "* https://leetcode.com/problems/length-of-last-word/description/"
   ]
  },
  {
   "cell_type": "code",
   "execution_count": null,
   "id": "64297550",
   "metadata": {},
   "outputs": [],
   "source": [
    "class Solution:\n",
    "    def lengthOfLastWord(self, s: str) -> int:\n",
    "        return len(s.rstrip().split()[-1])"
   ]
  },
  {
   "cell_type": "code",
   "execution_count": null,
   "id": "e9042474",
   "metadata": {},
   "outputs": [],
   "source": []
  }
 ],
 "metadata": {
  "kernelspec": {
   "display_name": "Python 3",
   "language": "python",
   "name": "python3"
  },
  "language_info": {
   "name": "python",
   "version": "3.11.9"
  }
 },
 "nbformat": 4,
 "nbformat_minor": 5
}
