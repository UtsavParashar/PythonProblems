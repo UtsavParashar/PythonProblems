{
 "cells": [
  {
   "cell_type": "markdown",
   "metadata": {},
   "source": [
    "### 392. Is Subsequence\n",
    "\n",
    "* Given two strings s and t, return true if s is a subsequence of t, or false otherwise.\n",
    "\n",
    "* A subsequence of a string is a new string that is formed from the original string by deleting some (can be none) of the characters without disturbing the relative positions of the remaining characters. (i.e., \"ace\" is a subsequence of \"abcde\" while \"aec\" is not).\n",
    "\n",
    "- Example 1:\n",
    "- Input: s = \"abc\", t = \"ahbgdc\"\n",
    "- Output: true\n",
    "- Example 2:\n",
    "\n",
    "- Input: s = \"axc\", t = \"ahbgdc\"\n",
    "- Output: false"
   ]
  },
  {
   "cell_type": "code",
   "execution_count": 35,
   "metadata": {},
   "outputs": [],
   "source": [
    "def is_subsequence(seq: str, sub_seq:str) -> bool:\n",
    "    def is_present(s, pos):\n",
    "        for idx, val in enumerate(seq[pos:]):\n",
    "            if s == val:\n",
    "                #print(idx, val)\n",
    "                return idx\n",
    "        return 'Not Present'\n",
    "    pos = 0\n",
    "    for s in sub_seq:\n",
    "        ret = is_present(s, pos)\n",
    "        #print(f'Returned {ret}')\n",
    "        if ret == 'Not Present':\n",
    "            return False\n",
    "        else:\n",
    "            pos = ret\n",
    "            pos += 1\n",
    "    return True"
   ]
  },
  {
   "cell_type": "code",
   "execution_count": 36,
   "metadata": {},
   "outputs": [
    {
     "data": {
      "text/plain": [
       "False"
      ]
     },
     "execution_count": 36,
     "metadata": {},
     "output_type": "execute_result"
    }
   ],
   "source": [
    "is_subsequence('abcde', 'aec')"
   ]
  },
  {
   "cell_type": "code",
   "execution_count": 100,
   "metadata": {},
   "outputs": [],
   "source": [
    "def is_subsequence(sub_seq: str, seq:str) -> bool:\n",
    "    pos = 0\n",
    "    for s in sub_seq:\n",
    "        for idx, val in enumerate(seq[pos:], pos):\n",
    "            if s == val:\n",
    "                pos = idx + 1\n",
    "                break\n",
    "        else:\n",
    "            return False\n",
    "        \n",
    "    return True\n",
    "        "
   ]
  },
  {
   "cell_type": "code",
   "execution_count": 101,
   "metadata": {},
   "outputs": [
    {
     "data": {
      "text/plain": [
       "False"
      ]
     },
     "execution_count": 101,
     "metadata": {},
     "output_type": "execute_result"
    }
   ],
   "source": [
    "is_subsequence('aaaaaa', 'bbaaaa')"
   ]
  },
  {
   "cell_type": "code",
   "execution_count": 84,
   "metadata": {},
   "outputs": [
    {
     "name": "stdout",
     "output_type": "stream",
     "text": [
      "390 ns ± 4.5 ns per loop (mean ± std. dev. of 7 runs, 1,000,000 loops each)\n"
     ]
    }
   ],
   "source": [
    "%timeit is_subsequence_optimized('ace', 'abcde')"
   ]
  },
  {
   "cell_type": "code",
   "execution_count": null,
   "metadata": {},
   "outputs": [],
   "source": [
    "# https://www.youtube.com/watch?v=99RVfqklbCE\n",
    "def is_subsequence_optimized(s: str, t: str) -> bool:\n",
    "    i, j = 0, 0\n",
    "    while i < len(s) and j < len(t):\n",
    "        if s[i] == t[j]:\n",
    "            i += 1\n",
    "        j += 1\n",
    "    return True if i == len(s) else False"
   ]
  },
  {
   "cell_type": "code",
   "execution_count": 88,
   "metadata": {},
   "outputs": [
    {
     "data": {
      "text/plain": [
       "False"
      ]
     },
     "execution_count": 88,
     "metadata": {},
     "output_type": "execute_result"
    }
   ],
   "source": [
    "is_subsequence_optimized('aaaaaa', 'bbaaaa')"
   ]
  },
  {
   "cell_type": "code",
   "execution_count": null,
   "metadata": {},
   "outputs": [],
   "source": []
  }
 ],
 "metadata": {
  "kernelspec": {
   "display_name": "Python 3",
   "language": "python",
   "name": "python3"
  },
  "language_info": {
   "codemirror_mode": {
    "name": "ipython",
    "version": 3
   },
   "file_extension": ".py",
   "mimetype": "text/x-python",
   "name": "python",
   "nbconvert_exporter": "python",
   "pygments_lexer": "ipython3",
   "version": "3.11.9"
  }
 },
 "nbformat": 4,
 "nbformat_minor": 2
}
