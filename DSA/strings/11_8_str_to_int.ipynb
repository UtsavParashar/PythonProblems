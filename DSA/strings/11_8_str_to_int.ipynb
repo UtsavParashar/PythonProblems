{
 "cells": [
  {
   "cell_type": "markdown",
   "id": "8ab2dee1",
   "metadata": {},
   "source": [
    "#### 8. String to Integer (atoi)\n",
    "\n",
    "* https://leetcode.com/problems/string-to-integer-atoi/description/\n",
    "\n",
    "#### ['Goldman Sachs', 'Bloomberg', 'Meta', 'Amazon', 'Google', 'Apple', 'Uber']"
   ]
  },
  {
   "cell_type": "code",
   "execution_count": null,
   "id": "129a24f8",
   "metadata": {},
   "outputs": [
    {
     "data": {
      "text/plain": [
       "927"
      ]
     },
     "execution_count": 1,
     "metadata": {},
     "output_type": "execute_result"
    }
   ],
   "source": [
    "# Explanation - https://www.youtube.com/watch?v=An1BTSYpOIY\n",
    "# TC, SC - O(n), O(1)\n",
    "\n",
    "class Solution:\n",
    "    def myAtoi(self, s: str) -> int:\n",
    "        # Strip left spaces - Condition 1\n",
    "        s = s.lstrip()\n",
    "        if not s: return 0\n",
    "\n",
    "        # Condition 2 - Signedness - Consider sign\n",
    "        sign, i, n = 1, 0, len(s)\n",
    "        if s[i] in ['-', '+']:\n",
    "            sign = -1 if s[i] == '-' else 1\n",
    "            i += 1\n",
    "\n",
    "        # Condition 3 - Convertion to int\n",
    "        num = 0\n",
    "        while i < n and s[i].isdigit():\n",
    "            num = num*10 + int(s[i])\n",
    "            i += 1\n",
    "\n",
    "        # Condition 4 - Round to min and max int\n",
    "        num = sign * num\n",
    "        MIN_INT, MAX_INT = -2**31, 2**31-1\n",
    "        return max(MIN_INT, min(num, MAX_INT))\n",
    "        \n",
    "\n",
    "Solution().myAtoi('927 is 297')"
   ]
  },
  {
   "cell_type": "code",
   "execution_count": null,
   "id": "a1912057",
   "metadata": {},
   "outputs": [],
   "source": []
  }
 ],
 "metadata": {
  "kernelspec": {
   "display_name": "Python 3",
   "language": "python",
   "name": "python3"
  },
  "language_info": {
   "codemirror_mode": {
    "name": "ipython",
    "version": 3
   },
   "file_extension": ".py",
   "mimetype": "text/x-python",
   "name": "python",
   "nbconvert_exporter": "python",
   "pygments_lexer": "ipython3",
   "version": "3.11.9"
  }
 },
 "nbformat": 4,
 "nbformat_minor": 5
}
