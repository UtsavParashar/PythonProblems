{
 "cells": [
  {
   "cell_type": "markdown",
   "id": "ec0677e3",
   "metadata": {},
   "source": [
    "#### 43. Multiply Strings\n",
    "* https://leetcode.com/problems/multiply-strings/description/\n",
    "\n",
    "#### ['Bloomberg', 'Two Sigma', 'Meta', 'Amazon', 'Apple', 'Uber']"
   ]
  },
  {
   "cell_type": "code",
   "execution_count": null,
   "id": "57729826",
   "metadata": {},
   "outputs": [],
   "source": [
    "# Credit - https://www.youtube.com/watch?v=1vZswirL8Y8\n",
    "# TC = O(m*n)\n",
    "# SC = O(m+n) # for storing res in array\n",
    "\n",
    "class Solution:\n",
    "    def multiply(self, num1: str, num2: str) -> str:\n",
    "        if '0' in [num1, num2]:\n",
    "            return '0'\n",
    "            \n",
    "        m, n = len(num1), len(num2)\n",
    "        num1, num2 = num1[::-1], num2[::-1]\n",
    "        res = [0]*(m+n)\n",
    "\n",
    "        for i in range(m):\n",
    "            for j in range(n):\n",
    "                mul = int(num1[i]) * int(num2[j])\n",
    "                res[i+j] += mul\n",
    "                res[i+j+1] += res[i+j]//10\n",
    "                res[i+j] %= 10\n",
    "\n",
    "        res.reverse()\n",
    "        return (''.join(map(str, res))).lstrip('0')"
   ]
  },
  {
   "cell_type": "code",
   "execution_count": null,
   "id": "73399f0a",
   "metadata": {},
   "outputs": [],
   "source": []
  }
 ],
 "metadata": {
  "kernelspec": {
   "display_name": "Python 3",
   "language": "python",
   "name": "python3"
  },
  "language_info": {
   "codemirror_mode": {
    "name": "ipython",
    "version": 3
   },
   "file_extension": ".py",
   "mimetype": "text/x-python",
   "name": "python",
   "nbconvert_exporter": "python",
   "pygments_lexer": "ipython3",
   "version": "3.11.9"
  }
 },
 "nbformat": 4,
 "nbformat_minor": 5
}
