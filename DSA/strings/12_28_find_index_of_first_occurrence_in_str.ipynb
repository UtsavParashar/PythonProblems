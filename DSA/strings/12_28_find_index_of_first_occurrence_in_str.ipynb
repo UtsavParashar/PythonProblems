{
 "cells": [
  {
   "cell_type": "markdown",
   "id": "4a450785",
   "metadata": {},
   "source": [
    "##### 28. Find the Index of the First Occurrence in a String\n",
    "* https://leetcode.com/problems/find-the-index-of-the-first-occurrence-in-a-string/description/\n",
    "\n",
    "#### ['Bloomberg', 'Meta', 'Amazon', 'Google', 'Apple', 'Uber']"
   ]
  },
  {
   "cell_type": "code",
   "execution_count": null,
   "id": "b4a91516",
   "metadata": {},
   "outputs": [
    {
     "data": {
      "text/plain": [
       "0"
      ]
     },
     "execution_count": 1,
     "metadata": {},
     "output_type": "execute_result"
    }
   ],
   "source": [
    "# https://chatgpt.com/c/68e36664-2908-8323-94d2-48ea437479e2\n",
    "\n",
    "class Solution:\n",
    "    def strStr(self, haystack: str, needle: str) -> int:\n",
    "        if not needle:\n",
    "            return 0\n",
    "        \n",
    "        m, n = len(haystack), len(needle)\n",
    "\n",
    "        for i in range(m-n+1):\n",
    "            if haystack[i: i+n] == needle:\n",
    "                return i\n",
    "\n",
    "        return -1\n",
    "    \n",
    "Solution().strStr(haystack = \"sadbutsad\", needle = \"sad\")"
   ]
  },
  {
   "cell_type": "code",
   "execution_count": 4,
   "id": "9fe70329",
   "metadata": {},
   "outputs": [
    {
     "data": {
      "text/plain": [
       "True"
      ]
     },
     "execution_count": 4,
     "metadata": {},
     "output_type": "execute_result"
    }
   ],
   "source": [
    "not []"
   ]
  },
  {
   "cell_type": "code",
   "execution_count": null,
   "id": "2e90c635",
   "metadata": {},
   "outputs": [],
   "source": []
  }
 ],
 "metadata": {
  "kernelspec": {
   "display_name": "Python 3",
   "language": "python",
   "name": "python3"
  },
  "language_info": {
   "codemirror_mode": {
    "name": "ipython",
    "version": 3
   },
   "file_extension": ".py",
   "mimetype": "text/x-python",
   "name": "python",
   "nbconvert_exporter": "python",
   "pygments_lexer": "ipython3",
   "version": "3.11.9"
  }
 },
 "nbformat": 4,
 "nbformat_minor": 5
}
