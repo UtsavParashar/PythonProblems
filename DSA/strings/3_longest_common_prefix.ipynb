{
 "cells": [
  {
   "cell_type": "markdown",
   "metadata": {},
   "source": [
    "## 14. Longest Common Prefix\n",
    "\n",
    "* https://leetcode.com/problems/longest-common-prefix/description/\n",
    "\n",
    "#### ['Deutsche Bank', 'HSBC', 'Bloomberg', 'Jane Street', 'Meta', 'Amazon', 'Google', 'Apple', 'Uber']\n"
   ]
  },
  {
   "cell_type": "code",
   "execution_count": null,
   "metadata": {},
   "outputs": [],
   "source": [
    "#### 14. Longest Common Prefix\n",
    "# https://leetcode.com/problems/longest-common-prefix/description/\n",
    "# TC - O(n), SC- O(1)\n",
    "# Old School Solution\n",
    "# Logic - take index from of first str\n",
    "# match char of first str with each str \n",
    "# if len of any of the string is reached or char does not match then return from the latest string or first str\n",
    "\n",
    "from typing import List\n",
    "\n",
    "class Solution:\n",
    "    def longestCommonPrefix(self, strs: List[str]) -> str:\n",
    "        first_str = strs[0]\n",
    "\n",
    "        for i, c in enumerate(first_str):\n",
    "            for s in strs[1:]:\n",
    "                if not len(s)>i or s[i] != c:\n",
    "                    return first_str[:i]\n",
    "\n",
    "        return first_str "
   ]
  },
  {
   "cell_type": "code",
   "execution_count": null,
   "metadata": {},
   "outputs": [],
   "source": [
    "#### 14. Longest Common Prefix\n",
    "# https://leetcode.com/problems/longest-common-prefix/description/\n",
    "# TC - O(n), SC- O(1)\n",
    "# Pythonic Solution using zip and *strs\n",
    "\n",
    "from typing import List\n",
    "\n",
    "class Solution:\n",
    "    def longestCommonPrefix(self, strs: List[str]) -> str:\n",
    "        prefix = ''\n",
    "\n",
    "        for chars in zip(*strs):\n",
    "            if len(set(chars)) == 1:\n",
    "                prefix += chars[0]\n",
    "            else:\n",
    "                break\n",
    "\n",
    "        return prefix"
   ]
  },
  {
   "cell_type": "code",
   "execution_count": 12,
   "metadata": {},
   "outputs": [],
   "source": [
    "from typing import List\n",
    "def longest_common_prefix(strs: List[str]) -> str:\n",
    "    res = ''\n",
    "    for i in range(len(strs[0])):\n",
    "        char = strs[0][i]\n",
    "        for s in strs[1:]:\n",
    "            if i >= len(s) or s[i] != char:\n",
    "                return res\n",
    "        res += char\n",
    "    return res"
   ]
  },
  {
   "cell_type": "code",
   "execution_count": null,
   "metadata": {},
   "outputs": [
    {
     "data": {
      "text/plain": [
       "'flow'"
      ]
     },
     "execution_count": 14,
     "metadata": {},
     "output_type": "execute_result"
    }
   ],
   "source": [
    "longest_common_prefix([\"flower\",\"flow\",\"flight\"])"
   ]
  },
  {
   "cell_type": "code",
   "execution_count": 3,
   "metadata": {},
   "outputs": [
    {
     "name": "stdout",
     "output_type": "stream",
     "text": [
      "[1, 2, 6]\n",
      "4 [1, 2, 6]\n",
      "12 [1, 8, 6]\n",
      "24 [12, 8, 6]\n"
     ]
    },
    {
     "data": {
      "text/plain": [
       "[12, 8, 6]"
      ]
     },
     "execution_count": 3,
     "metadata": {},
     "output_type": "execute_result"
    }
   ],
   "source": [
    "class Solution:\n",
    "    def productExceptSelf(self, nums):\n",
    "        n = len(nums)\n",
    "        res = [1]*n\n",
    "        left, right = 1, 1\n",
    "\n",
    "        for i in range(n):\n",
    "            res[i] = left\n",
    "            left *= nums[i]\n",
    "\n",
    "        print(res)\n",
    "\n",
    "        for i in range(n-1, -1, -1):\n",
    "            res[i] *= right\n",
    "            right *= nums[i]\n",
    "            print(right, res)\n",
    "\n",
    "        return res\n",
    "\n",
    "Solution().productExceptSelf([2,3,4])"
   ]
  },
  {
   "cell_type": "code",
   "execution_count": null,
   "metadata": {},
   "outputs": [],
   "source": []
  }
 ],
 "metadata": {
  "kernelspec": {
   "display_name": "Python 3",
   "language": "python",
   "name": "python3"
  },
  "language_info": {
   "codemirror_mode": {
    "name": "ipython",
    "version": 3
   },
   "file_extension": ".py",
   "mimetype": "text/x-python",
   "name": "python",
   "nbconvert_exporter": "python",
   "pygments_lexer": "ipython3",
   "version": "3.11.9"
  }
 },
 "nbformat": 4,
 "nbformat_minor": 2
}
