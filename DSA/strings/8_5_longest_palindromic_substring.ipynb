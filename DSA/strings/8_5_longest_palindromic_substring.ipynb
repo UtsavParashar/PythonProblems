{
 "cells": [
  {
   "cell_type": "markdown",
   "id": "98e12d8d",
   "metadata": {},
   "source": [
    "### 5. Longest Palindromic Substring\n",
    "\n",
    "* https://leetcode.com/problems/longest-palindromic-substring/description/\n",
    "\n",
    "### ['J.P. Morgan', 'Goldman Sachs', 'Morgan Stanley', 'BNY Mellon', 'Bloomberg', 'Mastercard', 'RBC', 'BlackRock', 'Meta', 'Amazon', 'Apple', 'Uber']"
   ]
  },
  {
   "cell_type": "code",
   "execution_count": null,
   "id": "f86748ac",
   "metadata": {},
   "outputs": [
    {
     "data": {
      "text/plain": [
       "'bb'"
      ]
     },
     "execution_count": 2,
     "metadata": {},
     "output_type": "execute_result"
    }
   ],
   "source": [
    "# Time: O(n²) — We expand around each center.\n",
    "# Space: O(1) — No extra space used apart from variables.\n",
    "\n",
    "# Logic - \n",
    "# Expand the pointer or either side of a char \n",
    "# Different cases for even and \n",
    "\n",
    "# “This solution leverages the expand-around-center method. It systematically checks all possible palindrome centers (both odd and even), expanding outward, and keeps track of the longest substring. It’s much simpler and space-efficient than the dynamic programming approach, with the same O(n²) time complexity but only O(1) extra space.”\n",
    "\n",
    "class Solution:\n",
    "    def longestPalindrome(self, s: str) -> str:\n",
    "\n",
    "        n = len(s)\n",
    "        res = '' \n",
    "\n",
    "        def is_pal(l, r):\n",
    "            while l>=0 and r<n and s[l] == s[r]:\n",
    "                l -= 1\n",
    "                r += 1\n",
    "            return s[l+1: r]\n",
    "\n",
    "        for i in range(n):\n",
    "            odd = is_pal(i, i)\n",
    "            even = is_pal(i, i+1)\n",
    "\n",
    "            curr_longest = even if len(even) > len(odd) else odd\n",
    "\n",
    "            if len(curr_longest) > len(res):\n",
    "                res = curr_longest\n",
    "\n",
    "        return res\n",
    "\n",
    "Solution().longestPalindrome('ababc')\n",
    "Solution().longestPalindrome('abbc')"
   ]
  },
  {
   "cell_type": "code",
   "execution_count": null,
   "id": "6536a7ca",
   "metadata": {},
   "outputs": [],
   "source": []
  }
 ],
 "metadata": {
  "kernelspec": {
   "display_name": "Python 3",
   "language": "python",
   "name": "python3"
  },
  "language_info": {
   "codemirror_mode": {
    "name": "ipython",
    "version": 3
   },
   "file_extension": ".py",
   "mimetype": "text/x-python",
   "name": "python",
   "nbconvert_exporter": "python",
   "pygments_lexer": "ipython3",
   "version": "3.11.9"
  }
 },
 "nbformat": 4,
 "nbformat_minor": 5
}
