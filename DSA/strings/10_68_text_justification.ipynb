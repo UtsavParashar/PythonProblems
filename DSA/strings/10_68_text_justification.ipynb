{
 "cells": [
  {
   "cell_type": "markdown",
   "id": "800ca983",
   "metadata": {},
   "source": [
    "#### 68. Text Justification\n",
    "\n",
    "* https://leetcode.com/problems/text-justification/description/\n",
    "\n",
    "#### ['Bloomberg', 'SIG', 'Meta', 'Amazon', 'Google', 'Apple', 'Netflix', 'Uber']"
   ]
  },
  {
   "cell_type": "code",
   "execution_count": 1,
   "id": "e5e73906",
   "metadata": {},
   "outputs": [
    {
     "data": {
      "text/plain": [
       "['This    is    an', 'example  of text', 'justification.  ']"
      ]
     },
     "execution_count": 1,
     "metadata": {},
     "output_type": "execute_result"
    }
   ],
   "source": [
    "class Solution:\n",
    "    def fullJustify(self, words, maxWidth):\n",
    "        res, cur, num_letters = [], [], 0\n",
    "\n",
    "        for w in words:\n",
    "            # If adding this word exceeds maxWidth, justify current line\n",
    "            if num_letters + len(w) + len(cur) > maxWidth:\n",
    "                for i in range(maxWidth - num_letters):\n",
    "                    cur[i % (len(cur) - 1 or 1)] += \" \"\n",
    "                res.append(\"\".join(cur))\n",
    "                cur, num_letters = [], 0\n",
    "            cur.append(w)\n",
    "            num_letters += len(w)\n",
    "\n",
    "        # Last line: left-justified\n",
    "        res.append(\" \".join(cur).ljust(maxWidth))\n",
    "        return res\n",
    "    \n",
    "Solution().fullJustify([\"This\", \"is\", \"an\", \"example\", \"of\", \"text\", \"justification.\"], maxWidth = 16)\n",
    "        "
   ]
  },
  {
   "cell_type": "code",
   "execution_count": null,
   "id": "3305d003",
   "metadata": {},
   "outputs": [],
   "source": []
  }
 ],
 "metadata": {
  "kernelspec": {
   "display_name": "Python 3",
   "language": "python",
   "name": "python3"
  },
  "language_info": {
   "codemirror_mode": {
    "name": "ipython",
    "version": 3
   },
   "file_extension": ".py",
   "mimetype": "text/x-python",
   "name": "python",
   "nbconvert_exporter": "python",
   "pygments_lexer": "ipython3",
   "version": "3.11.9"
  }
 },
 "nbformat": 4,
 "nbformat_minor": 5
}
