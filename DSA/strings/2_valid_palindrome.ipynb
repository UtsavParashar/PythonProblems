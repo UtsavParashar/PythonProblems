{
 "cells": [
  {
   "cell_type": "markdown",
   "metadata": {},
   "source": [
    "## 125. Valid Palindrome\n",
    "\n",
    "* A phrase is a palindrome if, after converting all uppercase letters into lowercase letters and removing all non-alphanumeric characters, it reads the same forward and backward. Alphanumeric characters include letters and numbers.\n",
    "\n",
    "* Given a string s, return true if it is a palindrome, or false otherwise.\n",
    "\n",
    "- Example 1:\n",
    "- Input: s = \"A man, a plan, a canal: Panama\"\n",
    "- Output: true\n",
    "- Explanation: \"amanaplanacanalpanama\" is a palindrome.\n",
    "\n",
    "- Example 2:\n",
    "- Input: s = \"race a car\"\n",
    "- Output: false\n",
    "- Explanation: \"raceacar\" is not a palindrome.\n",
    "\n",
    "- Example 3:\n",
    "- Input: s = \" \"\n",
    "- Output: true\n",
    "- Explanation: s is an empty string \"\" after removing non-alphanumeric characters.\n",
    "- Since an empty string reads the same forward and backward, it is a palindrome."
   ]
  },
  {
   "cell_type": "code",
   "execution_count": 7,
   "metadata": {},
   "outputs": [],
   "source": [
    "import re\n",
    "def valid_palindrome(sentence: str) -> bool:\n",
    "    sen = (re.sub(r'[^a-zA-Z0-9]', '', sentence)).lower()\n",
    "    n = len(sen)\n",
    "    for i in range(n//2):\n",
    "        if sen[i] != sen[n-i-1]:\n",
    "            return False\n",
    "    return True"
   ]
  },
  {
   "cell_type": "code",
   "execution_count": 22,
   "metadata": {},
   "outputs": [
    {
     "data": {
      "text/plain": [
       "'amanaplanacanalpanama'"
      ]
     },
     "execution_count": 22,
     "metadata": {},
     "output_type": "execute_result"
    }
   ],
   "source": [
    "# Another way to create a list of char of alpha numeric elements\n",
    "sentence = 'A man, a plan, a canal: Panama'\n",
    "''.join([c.lower() for c in sentence if c.isalnum()])"
   ]
  },
  {
   "cell_type": "code",
   "execution_count": 17,
   "metadata": {},
   "outputs": [
    {
     "name": "stdout",
     "output_type": "stream",
     "text": [
      "2.12 μs ± 20.8 ns per loop (mean ± std. dev. of 7 runs, 100,000 loops each)\n"
     ]
    }
   ],
   "source": [
    "%timeit valid_palindrome('A man, a plan, a canal: Panama')"
   ]
  },
  {
   "cell_type": "code",
   "execution_count": 10,
   "metadata": {},
   "outputs": [
    {
     "data": {
      "text/plain": [
       "False"
      ]
     },
     "execution_count": 10,
     "metadata": {},
     "output_type": "execute_result"
    }
   ],
   "source": [
    "valid_palindrome('race a car')"
   ]
  },
  {
   "cell_type": "code",
   "execution_count": 16,
   "metadata": {},
   "outputs": [
    {
     "name": "stdout",
     "output_type": "stream",
     "text": [
      "1.96 μs ± 76.3 ns per loop (mean ± std. dev. of 7 runs, 1,000,000 loops each)\n"
     ]
    }
   ],
   "source": [
    "%timeit optimized_is_palindrome('A man, a plan, a canal: Panama')"
   ]
  },
  {
   "cell_type": "code",
   "execution_count": null,
   "metadata": {},
   "outputs": [],
   "source": [
    "def optimized_is_palindrome(sentence: str) -> bool:\n",
    "    i, j = 0, len(sentence)-1\n",
    "    while i < j:\n",
    "        # increment i if the character is not alphanumeric\n",
    "        while i < j and not sentence[i].isalnum():\n",
    "            i += 1\n",
    "        # decrement j if the character is not alphanumeric\n",
    "        while i < j and not sentence[j].isalnum():\n",
    "            j -= 1\n",
    "        \n",
    "        # compare the char in similar case\n",
    "        if sentence[i].lower() != sentence[j].lower():\n",
    "            return False\n",
    "\n",
    "        i += 1 \n",
    "        j -= 1\n",
    "    return True\n",
    "        "
   ]
  },
  {
   "cell_type": "code",
   "execution_count": null,
   "metadata": {},
   "outputs": [],
   "source": []
  }
 ],
 "metadata": {
  "kernelspec": {
   "display_name": "Python 3",
   "language": "python",
   "name": "python3"
  },
  "language_info": {
   "codemirror_mode": {
    "name": "ipython",
    "version": 3
   },
   "file_extension": ".py",
   "mimetype": "text/x-python",
   "name": "python",
   "nbconvert_exporter": "python",
   "pygments_lexer": "ipython3",
   "version": "3.11.9"
  }
 },
 "nbformat": 4,
 "nbformat_minor": 2
}
