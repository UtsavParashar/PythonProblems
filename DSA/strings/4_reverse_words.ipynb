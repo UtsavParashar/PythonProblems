{
 "cells": [
  {
   "cell_type": "markdown",
   "metadata": {},
   "source": [
    "## 151. Reverse Words in a String\n",
    "\n",
    "* Given an input string s, reverse the order of the words.\n",
    "* A word is defined as a sequence of non-space characters. The words in s will be separated by at least one space.\n",
    "* Return a string of the words in reverse order concatenated by a single space.\n",
    "\n",
    "* Note that s may contain leading or trailing spaces or multiple spaces between two words. The returned string should only have a single space separating the words. Do not include any extra spaces.\n",
    "\n",
    "- Example 1:\n",
    "- Input: s = \"the sky is blue\"\n",
    "- Output: \"blue is sky the\"\n",
    "\n",
    "- Example 2:\n",
    "- Input: s = \"  hello world  \"\n",
    "- Output: \"world hello\"\n",
    "- Explanation: Your reversed string should not contain leading or trailing spaces.\n",
    "\n",
    "- Example 3:\n",
    "- Input: s = \"a good   example\"\n",
    "- Output: \"example good a\"\n",
    "- Explanation: You need to reduce multiple spaces between two words to a single space in the reversed string."
   ]
  },
  {
   "cell_type": "code",
   "execution_count": null,
   "metadata": {},
   "outputs": [],
   "source": []
  },
  {
   "cell_type": "code",
   "execution_count": 65,
   "metadata": {},
   "outputs": [],
   "source": [
    "def brute_force_reverse_words(s: str) -> str:\n",
    "    # Step 1: Use split() to divide the string into words\n",
    "    #words = s.split()\n",
    "    \n",
    "    # Step 2: Reverse the list of words\n",
    "    #reverse_words = words[::-1]\n",
    "    \n",
    "    # Step 3: Join the words back into a string with a single space\n",
    "    #return ' '.join(reversed_words)\n",
    "\n",
    "    return ' '.join(s.split()[::-1])"
   ]
  },
  {
   "cell_type": "code",
   "execution_count": 67,
   "metadata": {},
   "outputs": [
    {
     "data": {
      "text/plain": [
       "'blue is sky the'"
      ]
     },
     "execution_count": 67,
     "metadata": {},
     "output_type": "execute_result"
    }
   ],
   "source": [
    "brute_force_reverse_words(\"the sky is   blue \")"
   ]
  },
  {
   "cell_type": "code",
   "execution_count": 32,
   "metadata": {},
   "outputs": [
    {
     "data": {
      "text/plain": [
       "''"
      ]
     },
     "execution_count": 32,
     "metadata": {},
     "output_type": "execute_result"
    }
   ],
   "source": [
    "brute_force_reverse_words(\" \")"
   ]
  },
  {
   "cell_type": "markdown",
   "metadata": {},
   "source": [
    "### Optimized Solution\n",
    "Credit - https://github.com/AlgoMaster-io/leetcode-solutions/blob/main/python/reverse-words-in-a-string.md\n",
    "\n",
    "Approach 2: In-place Reversal (Optimal)\n",
    "Intuition:\n",
    "The most optimal in terms of space is to perform the reversal in place. This method requires more careful manipulation as we need to deal directly with the character array. The steps are as follows:\n",
    "\n",
    "1. Trim the string to remove leading and trailing spaces.\n",
    "2. Convert the string to a list of characters for easier manipulation.\n",
    "3. Reverse the entire list of characters.\n",
    "4. Reverse each word in the reversed list to restore the word order.\n",
    "5. Join the words with a single space to form the final output."
   ]
  },
  {
   "cell_type": "code",
   "execution_count": 55,
   "metadata": {},
   "outputs": [],
   "source": [
    "def reverse_words(s: str) -> str:\n",
    "    def reverse_list(l, left, right):\n",
    "        while left < right:\n",
    "            l[left], l[right] = l[right], l[left]\n",
    "            left += 1\n",
    "            right -= 1\n",
    "\n",
    "\n",
    "    # Step 1 and 2\n",
    "    l = list(s.strip())\n",
    "    \n",
    "    # Step 3\n",
    "    n = len(l)\n",
    "    start = 0\n",
    "    reverse_list(l, start, n-1)\n",
    "\n",
    "    # Step 4\n",
    "    while start < n:\n",
    "        while start < n and l[start] == ' ':\n",
    "            start += 1\n",
    "        end = start\n",
    "\n",
    "        while end < n and l[end] != ' ':\n",
    "            end += 1\n",
    "\n",
    "        reverse_list(l, start, end-1)\n",
    "        start = end\n",
    "    \n",
    "    # Step 5\n",
    "    return ' '.join(''.join(l).split())\n",
    "\n"
   ]
  },
  {
   "cell_type": "code",
   "execution_count": 58,
   "metadata": {},
   "outputs": [
    {
     "name": "stdout",
     "output_type": "stream",
     "text": [
      "2.26 μs ± 77.8 ns per loop (mean ± std. dev. of 7 runs, 100,000 loops each)\n"
     ]
    }
   ],
   "source": [
    "%timeit reverse_words(\"the sky is   blue \")"
   ]
  },
  {
   "cell_type": "code",
   "execution_count": null,
   "metadata": {},
   "outputs": [],
   "source": []
  }
 ],
 "metadata": {
  "kernelspec": {
   "display_name": "Python 3",
   "language": "python",
   "name": "python3"
  },
  "language_info": {
   "codemirror_mode": {
    "name": "ipython",
    "version": 3
   },
   "file_extension": ".py",
   "mimetype": "text/x-python",
   "name": "python",
   "nbconvert_exporter": "python",
   "pygments_lexer": "ipython3",
   "version": "3.11.9"
  }
 },
 "nbformat": 4,
 "nbformat_minor": 2
}
