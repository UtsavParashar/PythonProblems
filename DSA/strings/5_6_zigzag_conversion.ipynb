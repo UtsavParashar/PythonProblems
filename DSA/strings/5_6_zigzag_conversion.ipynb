{
 "cells": [
  {
   "cell_type": "markdown",
   "id": "b7b39718",
   "metadata": {},
   "source": [
    "#### 6. Zigzag Conversion\n",
    "\n",
    "* https://leetcode.com/problems/zigzag-conversion/description/\n",
    "\n",
    "#### ['Goldman Sachs', 'Bloomberg', 'Intuit', 'Meta', 'Amazon', 'Apple', 'Uber']"
   ]
  },
  {
   "cell_type": "code",
   "execution_count": null,
   "id": "e9db96ab",
   "metadata": {},
   "outputs": [],
   "source": [
    "# This seems more optimized and intuitive\n",
    "\n",
    "# Time Complexity - O(n)\n",
    "# Space Complexity - O(n)\n",
    "# credit - https://www.youtube.com/watch?v=2NMMVnxV6lo and https://github.com/AlgoMaster-io/leetcode-solutions/blob/main/python/zigzag-conversion.md#basic-approach-simulate-zigzag-pattern\n",
    "\n",
    "\n",
    "def decent_solution(s, num_rows):\n",
    "    if num_rows == 1 or num_rows >= len(s): return s\n",
    "\n",
    "    rows = ['']*num_rows\n",
    "    current_row, steps = 0, 1 # steps is the direction\n",
    "\n",
    "    for char in s:\n",
    "        rows[current_row] += char\n",
    "        if current_row == 0:\n",
    "            steps = 1\n",
    "        elif current_row == len(rows) - 1:\n",
    "            steps = -1\n",
    "\n",
    "        # is steps is positive move to the next row, if steps is negative move to the prev row\n",
    "        current_row += steps\n",
    "\n",
    "    \n",
    "    return ''.join(rows)\n",
    "\n"
   ]
  },
  {
   "cell_type": "code",
   "execution_count": 1,
   "id": "56b78773",
   "metadata": {},
   "outputs": [
    {
     "data": {
      "text/plain": [
       "['', '', '', '', '']"
      ]
     },
     "execution_count": 1,
     "metadata": {},
     "output_type": "execute_result"
    }
   ],
   "source": [
    "['']*5"
   ]
  },
  {
   "cell_type": "code",
   "execution_count": 19,
   "id": "1827e0f4",
   "metadata": {},
   "outputs": [
    {
     "name": "stdout",
     "output_type": "stream",
     "text": [
      "1.3 μs ± 36.3 ns per loop (mean ± std. dev. of 7 runs, 1,000,000 loops each)\n"
     ]
    }
   ],
   "source": [
    "%timeit decent_solution('PAYPALISHIRING', 3)"
   ]
  },
  {
   "cell_type": "code",
   "execution_count": null,
   "id": "940265ab",
   "metadata": {},
   "outputs": [],
   "source": [
    "# https://www.youtube.com/watch?v=Q2Tw6gcVEwc&t=516s\n",
    "\n",
    "def another_solution(s, num_rows):\n",
    "    if num_rows == 1 or num_rows >= len(s): return s\n",
    "\n",
    "    res = []\n",
    "    cycle_len = 2 * num_rows - 2  # explained here - https://www.youtube.com/watch?v=Q2Tw6gcVEwc&t=516s\n",
    "\n",
    "    for i in range(num_rows):\n",
    "        for j in range(i, len(s), cycle_len):\n",
    "            res.append(s[j])\n",
    "\n",
    "            # If it's not the first or last row, add the diagonal character\n",
    "            if i not in [0, num_rows-1] and j+cycle_len - 2*i < len(s):\n",
    "                res.append(s[j+cycle_len - 2*i])\n",
    "\n",
    "    return ''.join(res)\n"
   ]
  },
  {
   "cell_type": "code",
   "execution_count": null,
   "id": "710ead79",
   "metadata": {},
   "outputs": [
    {
     "name": "stdout",
     "output_type": "stream",
     "text": [
      "1.55 μs ± 29.7 ns per loop (mean ± std. dev. of 7 runs, 1,000,000 loops each)\n"
     ]
    }
   ],
   "source": [
    "%timeit another_solution('PAYPALISHIRING', 3)"
   ]
  },
  {
   "cell_type": "code",
   "execution_count": null,
   "id": "19cf514e",
   "metadata": {},
   "outputs": [],
   "source": []
  }
 ],
 "metadata": {
  "kernelspec": {
   "display_name": "Python 3",
   "language": "python",
   "name": "python3"
  },
  "language_info": {
   "codemirror_mode": {
    "name": "ipython",
    "version": 3
   },
   "file_extension": ".py",
   "mimetype": "text/x-python",
   "name": "python",
   "nbconvert_exporter": "python",
   "pygments_lexer": "ipython3",
   "version": "3.11.9"
  }
 },
 "nbformat": 4,
 "nbformat_minor": 5
}
