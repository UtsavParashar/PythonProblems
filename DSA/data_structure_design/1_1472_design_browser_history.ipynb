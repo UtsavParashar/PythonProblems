{
 "cells": [
  {
   "cell_type": "markdown",
   "id": "bdd54f8f",
   "metadata": {},
   "source": [
    "#### 1472. Design Browser History\n",
    "\n",
    "* https://leetcode.com/problems/design-browser-history/description/"
   ]
  },
  {
   "cell_type": "code",
   "execution_count": 77,
   "id": "f6670416",
   "metadata": {},
   "outputs": [
    {
     "name": "stdout",
     "output_type": "stream",
     "text": [
      "8.23 μs ± 785 ns per loop (mean ± std. dev. of 7 runs, 100,000 loops each)\n"
     ]
    }
   ],
   "source": [
    "%%timeit\n",
    "\n",
    "# Perfomance wise optimized solution\n",
    "\n",
    "\n",
    "class BrowserHistory:\n",
    "\n",
    "    def __init__(self, homepage: str):\n",
    "        self.store = [homepage]\n",
    "        self.curr = 0\n",
    "        self.max_len = 1 # to be used to maintain the max val in case of new path creation\n",
    "        \n",
    "\n",
    "    def visit(self, url: str) -> None:\n",
    "        self.curr += 1\n",
    "        if self.curr < len(self.store):\n",
    "            self.store[self.curr] = url\n",
    "        else:\n",
    "            self.store.append(url)\n",
    "        self.max_len = self.curr + 1\n",
    "\n",
    "\n",
    "    def back(self, steps: int) -> str:\n",
    "        self.curr = max(0, self.curr-steps)\n",
    "        return self.store[self.curr]\n",
    "\n",
    "\n",
    "    def forward(self, steps: int) -> str:\n",
    "        self.curr = min(self.max_len-1, self.curr+steps)\n",
    "        return self.store[self.curr]\n",
    "    \n",
    "\n",
    "browserHistory  = BrowserHistory('leetcode.com')\n",
    "browserHistory.visit('google.com')\n",
    "browserHistory.visit(\"facebook.com\")\n",
    "browserHistory.visit(\"youtube.com\")\n",
    "browserHistory.back(1)\n",
    "browserHistory.back(1)\n",
    "browserHistory.forward(1)\n",
    "browserHistory.visit(\"linkedin.com\")\n",
    "browserHistory.forward(2)\n",
    "browserHistory.back(2)\n",
    "browserHistory.back(7)"
   ]
  },
  {
   "cell_type": "code",
   "execution_count": 78,
   "id": "88b1dfe1",
   "metadata": {},
   "outputs": [
    {
     "name": "stdout",
     "output_type": "stream",
     "text": [
      "8.33 μs ± 357 ns per loop (mean ± std. dev. of 7 runs, 100,000 loops each)\n"
     ]
    }
   ],
   "source": [
    "%%timeit\n",
    "\n",
    "# # Space wise optimized solution\n",
    "\n",
    "class BrowserHistory:\n",
    "\n",
    "    def __init__(self, homepage: str):\n",
    "        self.store = [homepage]\n",
    "        self.curr = 0\n",
    "\n",
    "    def visit(self, url: str) -> None:\n",
    "        self.store = self.store[:self.curr+1] # truncate the histor\n",
    "        self.store.append(url)\n",
    "        self.curr = self.curr + 1\n",
    "\n",
    "    def back(self, steps: int) -> str:\n",
    "        self.curr = max(0, self.curr-steps)\n",
    "        return self.store[self.curr]\n",
    "\n",
    "    def forward(self, steps: int) -> str:\n",
    "        self.curr = min(len(self.store)-1, self.curr+steps)\n",
    "        return self.store[self.curr]\n",
    "    \n",
    "browserHistory  = BrowserHistory('leetcode.com')\n",
    "browserHistory.visit('google.com')\n",
    "browserHistory.visit(\"facebook.com\")\n",
    "browserHistory.visit(\"youtube.com\")\n",
    "browserHistory.back(1)\n",
    "browserHistory.back(1)\n",
    "browserHistory.forward(1)\n",
    "browserHistory.visit(\"linkedin.com\")\n",
    "browserHistory.forward(2)\n",
    "browserHistory.back(2)\n",
    "browserHistory.back(7)"
   ]
  },
  {
   "cell_type": "code",
   "execution_count": 51,
   "id": "ba44ab46",
   "metadata": {},
   "outputs": [],
   "source": [
    "# Doubly Linked List solution\n",
    "\n",
    "class ListNode:\n",
    "    def __init__(self, val, prev=None, next=None):\n",
    "        self.val = val\n",
    "        self.prev = prev\n",
    "        self.next = next\n",
    "\n",
    "class BrowserHistory:\n",
    "\n",
    "    def __init__(self, homepage: str):\n",
    "        self.curr = ListNode(homepage)\n",
    "\n",
    "    def visit(self, url: str) -> None:\n",
    "        self.curr.next = ListNode(url, self.curr)\n",
    "        self.curr = self.curr.next\n",
    "\n",
    "    def back(self, steps: int) -> str:\n",
    "        while self.curr.prev and steps > 0: # steps handles the situation of out of bounds\n",
    "            self.curr = self.curr.prev\n",
    "            steps -= 1\n",
    "        return self.curr.val\n",
    "\n",
    "    def forward(self, steps: int) -> str:\n",
    "        while self.curr.next and steps > 0:\n",
    "            self.curr = self.curr.next\n",
    "            steps -= 1\n",
    "        return self.curr.val"
   ]
  },
  {
   "cell_type": "code",
   "execution_count": null,
   "id": "003dd69c",
   "metadata": {},
   "outputs": [
    {
     "data": {
      "text/plain": [
       "'facebook.com'"
      ]
     },
     "execution_count": 61,
     "metadata": {},
     "output_type": "execute_result"
    }
   ],
   "source": [
    "\n"
   ]
  },
  {
   "cell_type": "code",
   "execution_count": null,
   "id": "e9e0101a",
   "metadata": {},
   "outputs": [],
   "source": []
  }
 ],
 "metadata": {
  "kernelspec": {
   "display_name": "Python 3",
   "language": "python",
   "name": "python3"
  },
  "language_info": {
   "codemirror_mode": {
    "name": "ipython",
    "version": 3
   },
   "file_extension": ".py",
   "mimetype": "text/x-python",
   "name": "python",
   "nbconvert_exporter": "python",
   "pygments_lexer": "ipython3",
   "version": "3.11.9"
  }
 },
 "nbformat": 4,
 "nbformat_minor": 5
}
