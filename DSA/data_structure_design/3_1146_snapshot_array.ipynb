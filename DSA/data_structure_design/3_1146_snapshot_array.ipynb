{
 "cells": [
  {
   "cell_type": "markdown",
   "id": "214360c6",
   "metadata": {},
   "source": [
    "#### 1146. Snapshot Array\n",
    "\n",
    "* https://leetcode.com/problems/snapshot-array/description/"
   ]
  },
  {
   "cell_type": "code",
   "execution_count": null,
   "id": "b6a1c6d0",
   "metadata": {},
   "outputs": [],
   "source": [
    "from bisect import bisect_right\n",
    "\n",
    "class SnapshotArray:\n",
    "\n",
    "    def __init__(self, length: int):\n",
    "        self.base_array = [[(0, 0)] for _ in range(length)] # snapid, val\n",
    "        self.snap_id = 0\n",
    "        \n",
    "\n",
    "    def set(self, index: int, val: int) -> None:\n",
    "        arr = self.base_array[index]\n",
    "        # If the most recent change was during the current snap_id, overwrite it\n",
    "        if arr[-1][0] == self.snap_id:\n",
    "            arr[-1] = (self.snap_id, val)\n",
    "        else:\n",
    "            arr.append((self.snap_id, val))\n",
    "\n",
    "    def snap(self) -> int:\n",
    "        self.snap_id += 1\n",
    "        return self.snap_id-1\n",
    "        \n",
    "\n",
    "    def get(self, index: int, snap_id: int) -> int:\n",
    "        arr = self.base_array[index]\n",
    "        # Binary search to find the rightmost snap_id ≤ given snap_id\n",
    "        idx = bisect_right(arr, (snap_id, float('inf')))-1\n",
    "        return arr[idx][1]\n",
    "\n"
   ]
  },
  {
   "cell_type": "code",
   "execution_count": null,
   "id": "b971c722",
   "metadata": {},
   "outputs": [],
   "source": []
  }
 ],
 "metadata": {
  "kernelspec": {
   "display_name": "Python 3",
   "language": "python",
   "name": "python3"
  },
  "language_info": {
   "name": "python",
   "version": "3.11.9"
  }
 },
 "nbformat": 4,
 "nbformat_minor": 5
}
