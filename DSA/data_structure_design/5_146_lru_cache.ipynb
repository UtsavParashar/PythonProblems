{
 "cells": [
  {
   "cell_type": "markdown",
   "id": "310a0c79",
   "metadata": {},
   "source": [
    "#### 146. LRU Cache\n",
    "\n",
    "* https://leetcode.com/problems/lru-cache/description/\n",
    "\n",
    "#### ['J.P. Morgan', 'Goldman Sachs', 'Morgan Stanley', 'Intuit', 'Optiver', 'Palantir Technologies', 'Netflix', 'Booking.com']"
   ]
  },
  {
   "cell_type": "code",
   "execution_count": 3,
   "id": "c3d87623",
   "metadata": {},
   "outputs": [
    {
     "data": {
      "text/plain": [
       "OrderedDict([(1, 1), (3, 3)])"
      ]
     },
     "execution_count": 3,
     "metadata": {},
     "output_type": "execute_result"
    }
   ],
   "source": [
    "from collections import OrderedDict\n",
    "\n",
    "class LRUCache:\n",
    "    def __init__(self, capacity):\n",
    "        self.cache = OrderedDict()\n",
    "        self.cap = capacity\n",
    "\n",
    "    def get(self, key):\n",
    "        if key in self.cache:\n",
    "            self.cache.move_to_end(key)\n",
    "            return self.cache[key]\n",
    "        return -1\n",
    "\n",
    "    def put(self,key, val):\n",
    "        if key in self.cache:\n",
    "            self.cache.move_to_end(key)\n",
    "        self.cache[key] = val\n",
    "        if len(self.cache) > self.cap:\n",
    "            self.cache.popitem(last=False)\n",
    "\n",
    "\n",
    "lRUCache = LRUCache(2)\n",
    "lRUCache.put(1, 1)\n",
    "lRUCache.put(2, 2)\n",
    "lRUCache.get(1)\n",
    "lRUCache.put(3, 3)\n",
    "lRUCache.get(3)\n",
    "lRUCache.cache"
   ]
  },
  {
   "cell_type": "code",
   "execution_count": null,
   "id": "97c18c6b",
   "metadata": {},
   "outputs": [],
   "source": []
  }
 ],
 "metadata": {
  "kernelspec": {
   "display_name": "Python 3",
   "language": "python",
   "name": "python3"
  },
  "language_info": {
   "codemirror_mode": {
    "name": "ipython",
    "version": 3
   },
   "file_extension": ".py",
   "mimetype": "text/x-python",
   "name": "python",
   "nbconvert_exporter": "python",
   "pygments_lexer": "ipython3",
   "version": "3.11.9"
  }
 },
 "nbformat": 4,
 "nbformat_minor": 5
}
