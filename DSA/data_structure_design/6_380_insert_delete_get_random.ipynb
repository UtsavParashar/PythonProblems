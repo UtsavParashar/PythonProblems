{
 "cells": [
  {
   "cell_type": "markdown",
   "id": "635dd729",
   "metadata": {},
   "source": [
    "#### 380. Insert Delete GetRandom O(1)\n",
    "\n",
    "* https://leetcode.com/problems/insert-delete-getrandom-o1/"
   ]
  },
  {
   "cell_type": "code",
   "execution_count": null,
   "id": "48688a6b",
   "metadata": {},
   "outputs": [],
   "source": [
    "import random\n",
    "\n",
    "class RandomizedSet:\n",
    "\n",
    "    def __init__(self):\n",
    "        self.num_dict = {} # val: idx\n",
    "        self.num_list = []\n",
    "        \n",
    "\n",
    "    def insert(self, val: int) -> bool:\n",
    "        res = val not in self.num_dict\n",
    "        if res:\n",
    "            self.num_dict[val] = len(self.num_list)\n",
    "            self.num_list.append(val)\n",
    "        return res \n",
    "\n",
    "    def remove(self, val: int) -> bool:\n",
    "        res = val in self.num_dict\n",
    "        if res:\n",
    "            idx = self.num_dict[val]\n",
    "            last_val = self.num_list[-1]\n",
    "            self.num_list[idx] = last_val\n",
    "            self.num_dict[last_val] = idx\n",
    "            self.num_list.pop()\n",
    "            del self.num_dict[val]\n",
    "        return res     \n",
    "\n",
    "    def getRandom(self) -> int:\n",
    "        return random.choice(self.num_list)"
   ]
  },
  {
   "cell_type": "code",
   "execution_count": null,
   "id": "a90a034b",
   "metadata": {},
   "outputs": [],
   "source": [
    "class RandomizedSet:\n",
    "    def __init__(self):\n",
    "        self.num_dict: dict[int, int] = {}\n",
    "        self.num_list: list[int] = []\n",
    "\n",
    "    def insert(self, val: int) -> bool:\n",
    "        if val in self.num_dict:\n",
    "            return False\n",
    "        self.num_dict[val] = len(self.num_list)\n",
    "        self.num_list.append(val)\n",
    "        return True\n",
    "\n",
    "    def remove(self, val: int) -> bool:\n",
    "        if val not in self.num_dict:\n",
    "            return False\n",
    "        idx = self.num_dict[val]\n",
    "        last_val = self.num_list[-1]\n",
    "        self.num_list[idx] = last_val\n",
    "        self.num_dict[last_val] = idx\n",
    "        self.num_list.pop()\n",
    "        del self.num_dict[val]\n",
    "        return True\n",
    "\n",
    "    def getRandom(self) -> int:\n",
    "        return random.choice(self.num_list)\n"
   ]
  }
 ],
 "metadata": {
  "kernelspec": {
   "display_name": "Python 3",
   "language": "python",
   "name": "python3"
  },
  "language_info": {
   "name": "python",
   "version": "3.11.9"
  }
 },
 "nbformat": 4,
 "nbformat_minor": 5
}
