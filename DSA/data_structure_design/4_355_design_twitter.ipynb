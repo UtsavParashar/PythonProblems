{
 "cells": [
  {
   "cell_type": "markdown",
   "id": "a657294d",
   "metadata": {},
   "source": [
    "## 355. Design Twitter\n",
    "\n",
    "https://leetcode.com/problems/design-twitter/description/"
   ]
  },
  {
   "cell_type": "code",
   "execution_count": null,
   "id": "2afc4596",
   "metadata": {},
   "outputs": [],
   "source": [
    "# Optimized solution\n",
    "# inspired by the merge k sorted list - leetcode 23\n",
    "\n",
    "import heapq\n",
    "from collections import defaultdict\n",
    "\n",
    "class Twitter:\n",
    "\n",
    "    def __init__(self):\n",
    "        self.timestamp = 0\n",
    "        self.users_map = defaultdict(list) # {user_id : [(timestamp, tweetId)]}\n",
    "        self.follows = defaultdict(set) # {user_id:{followeeId}}\n",
    "        \n",
    "\n",
    "    def postTweet(self, userId: int, tweetId: int) -> None:\n",
    "        self.users_map[userId].append((self.timestamp, tweetId))\n",
    "        self.timestamp += 1\n",
    "        \n",
    "\n",
    "    def getNewsFeed(self, userId: int):\n",
    "        max_heap = []\n",
    "        res = []\n",
    "        \n",
    "        followee_ids = self.follows[userId] | {userId}\n",
    "\n",
    "        for followee_id in followee_ids:\n",
    "            if followee_id in self.users_map:\n",
    "                # first insert all the last tweets from the user_map, inspired by leetcode 23\n",
    "                index = len(self.users_map[followee_id]) - 1\n",
    "                timestamp, tweet_id = self.users_map[followee_id][index]\n",
    "                heapq.heappush(max_heap, (-timestamp, tweet_id, followee_id, index-1))\n",
    "\n",
    "        while max_heap and len(res) < 10:\n",
    "            timestamp, tweet_id, followee_id, index = heapq.heappop(max_heap)\n",
    "            res.append(tweet_id)\n",
    "            if index >= 0:\n",
    "                timestamp, tweet_id = self.users_map[followee_id][index]\n",
    "                heapq.heappush(max_heap, (-timestamp, tweet_id, followee_id, index-1))\n",
    "        return res\n",
    "\n",
    "\n",
    "    def follow(self, followerId: int, followeeId: int) -> None:\n",
    "        if followerId != followeeId:\n",
    "            self.follows[followerId].add(followeeId)        \n",
    "\n",
    "    def unfollow(self, followerId: int, followeeId: int) -> None:\n",
    "        self.follows[followerId].discard(followeeId)\n",
    "        \n",
    "\n",
    "twitter = Twitter()\n",
    "twitter.postTweet(1, 5)\n",
    "twitter.getNewsFeed(1)\n",
    "twitter.follow(1, 2)\n",
    "twitter.postTweet(2, 6)\n",
    "twitter.getNewsFeed(1)\n",
    "twitter.unfollow(1, 2)\n",
    "twitter.getNewsFeed(1)"
   ]
  },
  {
   "cell_type": "code",
   "execution_count": null,
   "id": "2dc799d7",
   "metadata": {},
   "outputs": [
    {
     "data": {
      "text/plain": [
       "[5]"
      ]
     },
     "execution_count": 11,
     "metadata": {},
     "output_type": "execute_result"
    }
   ],
   "source": [
    "# Preferred solution\n",
    "\n",
    "import heapq\n",
    "from collections import defaultdict\n",
    "\n",
    "class Twitter:\n",
    "\n",
    "    def __init__(self):\n",
    "        self.timestamp = 0\n",
    "        self.users_map = defaultdict(list)\n",
    "        self.follows = defaultdict(set)\n",
    "        \n",
    "\n",
    "    def postTweet(self, userId: int, tweetId: int) -> None:\n",
    "        self.users_map[userId].append((self.timestamp, tweetId))\n",
    "        self.timestamp += 1\n",
    "        \n",
    "\n",
    "    def getNewsFeed(self, userId: int):\n",
    "        heap = []\n",
    "\n",
    "        people = self.follows[userId] | {userId}\n",
    "        for person in people:\n",
    "            tweets = self.users_map[person]\n",
    "            for tweet in tweets[-10:]:\n",
    "                heapq.heappush(heap, tweet)\n",
    "\n",
    "                if len(heap) > 10:\n",
    "                    heapq.heappop(heap)\n",
    "\n",
    "        return [tweet_id for _, tweet_id in sorted(heap, reverse=True)]\n",
    "        \n",
    "\n",
    "    def follow(self, followerId: int, followeeId: int) -> None:\n",
    "        if followerId != followeeId:\n",
    "            self.follows[followerId].add(followeeId)        \n",
    "\n",
    "    def unfollow(self, followerId: int, followeeId: int) -> None:\n",
    "        self.follows[followerId].discard(followeeId)\n",
    "        \n",
    "\n",
    "twitter = Twitter()\n",
    "twitter.postTweet(1, 5)\n",
    "twitter.getNewsFeed(1)\n",
    "twitter.follow(1, 2)\n",
    "twitter.postTweet(2, 6)\n",
    "twitter.getNewsFeed(1)\n",
    "twitter.unfollow(1, 2)\n",
    "twitter.getNewsFeed(1)"
   ]
  },
  {
   "cell_type": "code",
   "execution_count": null,
   "id": "181fc8d9",
   "metadata": {},
   "outputs": [],
   "source": []
  }
 ],
 "metadata": {
  "kernelspec": {
   "display_name": "Python 3",
   "language": "python",
   "name": "python3"
  },
  "language_info": {
   "codemirror_mode": {
    "name": "ipython",
    "version": 3
   },
   "file_extension": ".py",
   "mimetype": "text/x-python",
   "name": "python",
   "nbconvert_exporter": "python",
   "pygments_lexer": "ipython3",
   "version": "3.11.9"
  }
 },
 "nbformat": 4,
 "nbformat_minor": 5
}
