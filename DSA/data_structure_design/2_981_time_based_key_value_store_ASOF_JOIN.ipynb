{
 "cells": [
  {
   "cell_type": "markdown",
   "id": "b3aba6b1",
   "metadata": {},
   "source": [
    "#### 981. Time Based Key Value Store\n",
    "\n",
    "* https://leetcode.com/problems/time-based-key-value-store/description/"
   ]
  },
  {
   "cell_type": "code",
   "execution_count": 11,
   "id": "0bb63856",
   "metadata": {},
   "outputs": [
    {
     "data": {
      "text/plain": [
       "'bar2'"
      ]
     },
     "execution_count": 11,
     "metadata": {},
     "output_type": "execute_result"
    }
   ],
   "source": [
    "# chat gpt ref\n",
    "\n",
    "from collections import defaultdict\n",
    "from bisect import bisect_right\n",
    "\n",
    "class TimeMap:\n",
    "\n",
    "    def __init__(self):\n",
    "        self.asof = defaultdict(list)\n",
    "\n",
    "    def set(self, key: str, value: str, timestamp: int) -> None:\n",
    "        self.asof[key].append((timestamp, value))\n",
    "        \n",
    "\n",
    "    def get(self, key: str, timestamp: int) -> str:\n",
    "        if key not in self.asof:\n",
    "            return \"\"\n",
    "\n",
    "        time_vals = self.asof[key]\n",
    "        idx = bisect_right(time_vals, (timestamp, chr(127))) # chr(127) is the max char, else None can also be used\n",
    "        return time_vals[idx-1][1] if idx > 0 else \"\"\n",
    "\n",
    "\n",
    "timeMap = TimeMap()\n",
    "timeMap.set(\"foo\", \"bar\", 1)\n",
    "timeMap.get(\"foo\", 1)\n",
    "timeMap.get(\"foo\", 3)\n",
    "timeMap.set(\"foo\", \"bar2\", 4)\n",
    "timeMap.get(\"foo\", 4)\n",
    "timeMap.get(\"foo\", 5)"
   ]
  },
  {
   "cell_type": "code",
   "execution_count": null,
   "id": "a79d5459",
   "metadata": {},
   "outputs": [
    {
     "data": {
      "text/plain": [
       "'bar2'"
      ]
     },
     "execution_count": 10,
     "metadata": {},
     "output_type": "execute_result"
    }
   ],
   "source": [
    "from collections import defaultdict\n",
    "from bisect import bisect_right\n",
    "\n",
    "class TimeMap:\n",
    "\n",
    "    def __init__(self):\n",
    "        self.asof = defaultdict(list)\n",
    "\n",
    "    def set(self, key: str, value: str, timestamp: int) -> None:\n",
    "        self.asof[key].append((timestamp, value))\n",
    "        \n",
    "\n",
    "    def get(self, key: str, timestamp: int) -> str:\n",
    "        res = \"\"\n",
    "        if key not in self.asof:\n",
    "            return res\n",
    "\n",
    "        arr = self.asof[key]\n",
    "        l, r = 0, len(arr)-1\n",
    "\n",
    "        while l <= r:\n",
    "            m = (l+r)//2\n",
    "            if arr[m][0] <= timestamp:\n",
    "                res = arr[m][1]\n",
    "                l = m + 1\n",
    "            else:\n",
    "                r = m -1\n",
    "\n",
    "        return res\n",
    "\n",
    "\n",
    "timeMap = TimeMap()\n",
    "timeMap.set(\"foo\", \"bar\", 1)\n",
    "timeMap.get(\"foo\", 1)\n",
    "timeMap.get(\"foo\", 3)\n",
    "timeMap.set(\"foo\", \"bar2\", 4)\n",
    "timeMap.get(\"foo\", 4)\n",
    "timeMap.get(\"foo\", 5)"
   ]
  },
  {
   "cell_type": "code",
   "execution_count": null,
   "id": "49cbbd07",
   "metadata": {},
   "outputs": [],
   "source": []
  }
 ],
 "metadata": {
  "kernelspec": {
   "display_name": "Python 3",
   "language": "python",
   "name": "python3"
  },
  "language_info": {
   "codemirror_mode": {
    "name": "ipython",
    "version": 3
   },
   "file_extension": ".py",
   "mimetype": "text/x-python",
   "name": "python",
   "nbconvert_exporter": "python",
   "pygments_lexer": "ipython3",
   "version": "3.11.9"
  }
 },
 "nbformat": 4,
 "nbformat_minor": 5
}
