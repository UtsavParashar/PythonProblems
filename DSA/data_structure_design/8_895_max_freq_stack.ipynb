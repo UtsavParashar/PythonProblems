{
 "cells": [
  {
   "cell_type": "markdown",
   "id": "5dc75356",
   "metadata": {},
   "source": [
    "#### 895. Max Freq Stack\n",
    "\n",
    "* https:#leetcode.com/problems/maximum-frequency-stack/description/"
   ]
  },
  {
   "cell_type": "code",
   "execution_count": null,
   "id": "442cd852",
   "metadata": {},
   "outputs": [
    {
     "data": {
      "text/plain": [
       "4"
      ]
     },
     "execution_count": 5,
     "metadata": {},
     "output_type": "execute_result"
    }
   ],
   "source": [
    "# Explanation - https://www.youtube.com/watch?v=Z6idIicFDOE\n",
    "# Solution from self and GPT\n",
    "\n",
    "from collections import defaultdict\n",
    "\n",
    "class FreqStack:\n",
    "\n",
    "    def __init__(self):\n",
    "        self.freq = defaultdict(int) # val -> freq , 5->3\n",
    "        self.group = defaultdict(list) # freq -> list of vals {3:[5], 2:[5,4,5,4], 1:[5,4,3]}\n",
    "        self.max_count = 0\n",
    "\n",
    "    def push(self, val: int) -> None:\n",
    "        self.freq[val] += 1\n",
    "        val_freq = self.freq[val]\n",
    "        self.group[val_freq].append(val)\n",
    "        self.max_count = max(self.max_count, val_freq)\n",
    "        \n",
    "\n",
    "    def pop(self) -> int:\n",
    "        max_val = self.group[self.max_count].pop()\n",
    "        self.freq[max_val] -= 1\n",
    "        if not self.group[self.max_count]:\n",
    "            self.max_count -= 1\n",
    "\n",
    "        return max_val\n",
    "\n",
    "freqStack = FreqStack()\n",
    "freqStack.push(5)\n",
    "freqStack.push(7); # The stack is [5,7]\n",
    "freqStack.push(5); # The stack is [5,7,5]\n",
    "freqStack.push(7); # The stack is [5,7,5,7]\n",
    "freqStack.push(4); # The stack is [5,7,5,7,4]\n",
    "freqStack.push(5); # The stack is [5,7,5,7,4,5]\n",
    "freqStack.pop()\n",
    "freqStack.pop()\n",
    "freqStack.pop()\n",
    "freqStack.pop()"
   ]
  },
  {
   "cell_type": "code",
   "execution_count": null,
   "id": "bb3d18ac",
   "metadata": {},
   "outputs": [],
   "source": []
  }
 ],
 "metadata": {
  "kernelspec": {
   "display_name": "Python 3",
   "language": "python",
   "name": "python3"
  },
  "language_info": {
   "codemirror_mode": {
    "name": "ipython",
    "version": 3
   },
   "file_extension": ".py",
   "mimetype": "text/x-python",
   "name": "python",
   "nbconvert_exporter": "python",
   "pygments_lexer": "ipython3",
   "version": "3.11.9"
  }
 },
 "nbformat": 4,
 "nbformat_minor": 5
}
