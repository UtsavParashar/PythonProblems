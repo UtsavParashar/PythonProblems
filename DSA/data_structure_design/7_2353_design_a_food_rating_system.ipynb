{
 "cells": [
  {
   "cell_type": "markdown",
   "id": "f96ed093",
   "metadata": {},
   "source": [
    "#### 2353. Design a Food Rating System\n",
    "\n",
    "* https://leetcode.com/problems/design-a-food-rating-system/"
   ]
  },
  {
   "cell_type": "code",
   "execution_count": 11,
   "id": "e90714c6",
   "metadata": {},
   "outputs": [
    {
     "data": {
      "text/plain": [
       "'ramen'"
      ]
     },
     "execution_count": 11,
     "metadata": {},
     "output_type": "execute_result"
    }
   ],
   "source": [
    "# https://www.youtube.com/watch?v=Ikp8SgbgbEo\n",
    "\n",
    "from sortedcontainers import SortedSet\n",
    "from collections import defaultdict\n",
    "\n",
    "class FoodRatings:\n",
    "\n",
    "    def __init__(self, foods, cuisines, ratings):\n",
    "        self.cuisines_ratings_foods = defaultdict(SortedSet)\n",
    "        self.food_cuisines = {}\n",
    "        self.food_ratings = {}\n",
    "\n",
    "        for i in range(len(foods)):\n",
    "            self.cuisines_ratings_foods[cuisines[i]].add((-ratings[i], foods[i])) # top rating at the first element\n",
    "            self.food_cuisines[foods[i]] = cuisines[i]\n",
    "            self.food_ratings[foods[i]] = ratings[i]\n",
    "\n",
    "    def changeRating(self, food, newRating):\n",
    "        c = self.food_cuisines[food]\n",
    "        r = self.food_ratings[food]\n",
    "        self.cuisines_ratings_foods[c].remove((-r, food))\n",
    "        self.cuisines_ratings_foods[c].add((-newRating, food))\n",
    "        self.food_ratings[food] = newRating\n",
    "\n",
    "    def highestRated(self, cuisine):\n",
    "        return self.cuisines_ratings_foods[cuisine][0][1]\n",
    "\n",
    "\n",
    "foodRatings = FoodRatings([\"kimchi\", \"miso\", \"sushi\", \"moussaka\", \"ramen\", \"bulgogi\"], [\"korean\", \"japanese\", \"japanese\", \"greek\", \"japanese\", \"korean\"], [9, 12, 8, 15, 14, 7])\n",
    "foodRatings.highestRated(\"korean\")\n",
    "foodRatings.highestRated(\"japanese\")\n",
    "foodRatings.changeRating(\"sushi\", 16)\n",
    "foodRatings.highestRated(\"japanese\")\n",
    "foodRatings.changeRating(\"ramen\", 16)\n",
    "foodRatings.highestRated(\"japanese\")"
   ]
  },
  {
   "cell_type": "code",
   "execution_count": 12,
   "id": "c0ad566d",
   "metadata": {},
   "outputs": [
    {
     "data": {
      "text/plain": [
       "'ramen'"
      ]
     },
     "execution_count": 12,
     "metadata": {},
     "output_type": "execute_result"
    }
   ],
   "source": [
    "### heapq solution\n",
    "from collections import defaultdict\n",
    "import heapq\n",
    "class FoodRatings:\n",
    "\n",
    "    def __init__(self, foods, cuisines, ratings):\n",
    "        self.cuisines_ratings_foods_heap = defaultdict(list)\n",
    "        self.food_cuisines = {}\n",
    "        self.food_ratings = {}\n",
    "\n",
    "        for food, cuisine, rating in zip(foods, cuisines, ratings):\n",
    "            self.food_cuisines[food] = cuisine\n",
    "            self.food_ratings[food] = rating\n",
    "            heapq.heappush(self.cuisines_ratings_foods_heap[cuisine], (-rating, food)) # separate heap for each cuisine\n",
    "\n",
    "    def changeRating(self, food, newRating):\n",
    "        self.food_ratings[food] = newRating\n",
    "        cuisine = self.food_cuisines[food]\n",
    "        heapq.heappush(self.cuisines_ratings_foods_heap[cuisine], (-newRating, food))\n",
    "\n",
    "    def highestRated(self, cuisine):\n",
    "        heap = self.cuisines_ratings_foods_heap[cuisine]\n",
    "        while heap:\n",
    "            rating, food = heap[0]\n",
    "            if -rating == self.food_ratings[food]:\n",
    "                return food\n",
    "            else:\n",
    "                heapq.heappop(heap)\n",
    "\n",
    "\n",
    "foodRatings = FoodRatings([\"kimchi\", \"miso\", \"sushi\", \"moussaka\", \"ramen\", \"bulgogi\"], [\"korean\", \"japanese\", \"japanese\", \"greek\", \"japanese\", \"korean\"], [9, 12, 8, 15, 14, 7])\n",
    "foodRatings.highestRated(\"korean\")\n",
    "foodRatings.highestRated(\"japanese\")\n",
    "foodRatings.changeRating(\"sushi\", 16)\n",
    "foodRatings.highestRated(\"japanese\")\n",
    "foodRatings.changeRating(\"ramen\", 16)\n",
    "foodRatings.highestRated(\"japanese\")"
   ]
  },
  {
   "cell_type": "markdown",
   "id": "860c4329",
   "metadata": {},
   "source": [
    " Key Optimizations:\n",
    "Max Heap simulation with (-rating, food) to keep top-rated foods on top.\n",
    "\n",
    "Lazy deletion: When updating ratings, we just push the new value; old values are ignored during highestRated.\n",
    "\n",
    "Lexicographical tie-breaking handled automatically due to ( -rating, food ) tuple ordering.\n",
    "\n",
    "\n",
    "🔁 Why Do We Need a while Loop in highestRated?\n",
    "Yes, heapq ensures the top of the heap contains the food with the highest rating (since we use (-rating, food) for max-heap behavior).\n",
    "BUT, when we do a changeRating, we don’t remove the old value from the heap (heapq has no O(log n) remove), so we push a new entry and leave the old one behind — this is called lazy deletion.\n",
    "\n",
    "⚠️ Problem Scenario Without while Loop\n",
    "Here’s what can go wrong without the loop:\n",
    "\n",
    "Initial:\n",
    "\n",
    "python\n",
    "Copy\n",
    "Edit\n",
    "sushi = 10  => heap = [(-10, 'sushi')]\n",
    "You call changeRating(\"sushi\", 20)\n",
    "→ New entry is pushed:\n",
    "\n",
    "python\n",
    "Copy\n",
    "Edit\n",
    "heap = [(-20, 'sushi'), (-10, 'sushi')]\n",
    "Top of heap is now (-20, 'sushi') ✅ correct!\n",
    "\n",
    "But suppose you change it again:\n",
    "\n",
    "python\n",
    "Copy\n",
    "Edit\n",
    "changeRating(\"sushi\", 15)\n",
    "heap = [(-20, 'sushi'), (-10, 'sushi'), (-15, 'sushi')]\n",
    "Top of the heap is still (-20, 'sushi'), but now this entry is outdated — current rating is 15.\n",
    "\n",
    "So when you call highestRated('japanese'), you must loop until the top of the heap has a rating that matches food_to_rating[food].\n",
    "\n",
    "✅ That’s Why We Do:\n",
    "python\n",
    "Copy\n",
    "Edit\n",
    "while heap:\n",
    "    rating, food = heap[0]\n",
    "    if -rating == self.food_to_rating[food]:\n",
    "        return food\n",
    "    else:\n",
    "        heapq.heappop(heap)\n",
    "We pop outdated entries until we find the most up-to-date (rating, food) pair."
   ]
  },
  {
   "cell_type": "markdown",
   "id": "268d9276",
   "metadata": {},
   "source": []
  }
 ],
 "metadata": {
  "kernelspec": {
   "display_name": "Python 3",
   "language": "python",
   "name": "python3"
  },
  "language_info": {
   "codemirror_mode": {
    "name": "ipython",
    "version": 3
   },
   "file_extension": ".py",
   "mimetype": "text/x-python",
   "name": "python",
   "nbconvert_exporter": "python",
   "pygments_lexer": "ipython3",
   "version": "3.11.9"
  }
 },
 "nbformat": 4,
 "nbformat_minor": 5
}
