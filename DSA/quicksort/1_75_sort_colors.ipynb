{
 "cells": [
  {
   "cell_type": "markdown",
   "id": "c62be9ee",
   "metadata": {},
   "source": [
    "### 75. Sort Colors\n",
    "* https://leetcode.com/problems/sort-colors/description/"
   ]
  },
  {
   "cell_type": "code",
   "execution_count": 1,
   "id": "baad0df8",
   "metadata": {},
   "outputs": [
    {
     "data": {
      "text/plain": [
       "[0, 0, 1, 1, 2, 2]"
      ]
     },
     "execution_count": 1,
     "metadata": {},
     "output_type": "execute_result"
    }
   ],
   "source": [
    "## Preferred Sol - O(n) - Dutch Flag algo\n",
    "\n",
    "class Solution:\n",
    "    def sortColors(self, nums) -> None:\n",
    "        \"\"\"\n",
    "        Do not return anything, modify nums in-place instead.\n",
    "        \"\"\"\n",
    "        l, m, r = 0, 0, len(nums)-1\n",
    "\n",
    "        while m <= r:\n",
    "            if nums[m] == 0:\n",
    "                nums[l], nums[m] = nums[m], nums[l]\n",
    "                l += 1\n",
    "                m += 1\n",
    "            elif nums[m] == 1:\n",
    "                m += 1\n",
    "            else: # nums[m] == 2\n",
    "                nums[r], nums[m] = nums[m], nums[r]\n",
    "                r -= 1\n",
    "\n",
    "        return nums\n",
    "    \n",
    "Solution().sortColors([2,0,2,1,1,0])"
   ]
  },
  {
   "cell_type": "code",
   "execution_count": null,
   "id": "9a05354f",
   "metadata": {},
   "outputs": [],
   "source": [
    "# Quick sort - O(n log n) is an overkill for it\n",
    "def sort_colors(nums):\n",
    "    i, l, r = 0, 0, len(nums)-1\n",
    "\n",
    "    while i <= r: # once i and r interchange means all 2 are in place hence 1s and 0s are also in palce\n",
    "        if nums[i] == 0:\n",
    "            nums[l], nums[i] = nums[i], nums[l]\n",
    "            l += 1\n",
    "        elif nums[i] == 2:\n",
    "            nums[r], nums[i] = nums[i], nums[r]\n",
    "            r -= 1\n",
    "            i -= 1 # l and i are starting at the same point so l has added advantage but for r, to swap the values of 0, 1 at correct postion i needs to be decremented as i in by default incremented for each iteration\n",
    "        i += 1\n",
    "        print(nums)\n",
    "    return nums\n"
   ]
  },
  {
   "cell_type": "code",
   "execution_count": 12,
   "id": "105df2e2",
   "metadata": {},
   "outputs": [
    {
     "name": "stdout",
     "output_type": "stream",
     "text": [
      "[0, 0, 2, 1, 1, 2]\n",
      "[0, 0, 2, 1, 1, 2]\n",
      "[0, 0, 2, 1, 1, 2]\n",
      "[0, 0, 1, 1, 2, 2]\n",
      "[0, 0, 1, 1, 2, 2]\n"
     ]
    },
    {
     "data": {
      "text/plain": [
       "[0, 0, 1, 1, 2, 2]"
      ]
     },
     "execution_count": 12,
     "metadata": {},
     "output_type": "execute_result"
    }
   ],
   "source": [
    "sort_colors([2,0,2,1,1,0])"
   ]
  },
  {
   "cell_type": "code",
   "execution_count": 13,
   "id": "efd90313",
   "metadata": {},
   "outputs": [
    {
     "name": "stdout",
     "output_type": "stream",
     "text": [
      "[1, 0, 2]\n",
      "[1, 0, 2]\n"
     ]
    },
    {
     "data": {
      "text/plain": [
       "[1, 0, 2]"
      ]
     },
     "execution_count": 13,
     "metadata": {},
     "output_type": "execute_result"
    }
   ],
   "source": [
    "sort_colors([2,0,1])"
   ]
  },
  {
   "cell_type": "code",
   "execution_count": null,
   "id": "2dc334df",
   "metadata": {},
   "outputs": [],
   "source": []
  }
 ],
 "metadata": {
  "kernelspec": {
   "display_name": "Python 3",
   "language": "python",
   "name": "python3"
  },
  "language_info": {
   "codemirror_mode": {
    "name": "ipython",
    "version": 3
   },
   "file_extension": ".py",
   "mimetype": "text/x-python",
   "name": "python",
   "nbconvert_exporter": "python",
   "pygments_lexer": "ipython3",
   "version": "3.11.9"
  }
 },
 "nbformat": 4,
 "nbformat_minor": 5
}
