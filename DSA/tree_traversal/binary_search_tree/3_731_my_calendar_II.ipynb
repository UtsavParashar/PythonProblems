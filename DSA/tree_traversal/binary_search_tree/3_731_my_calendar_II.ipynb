{
 "cells": [
  {
   "cell_type": "markdown",
   "id": "cd7ace5f",
   "metadata": {},
   "source": [
    "#### 731. My Calendar II\n",
    "\n",
    "* https://leetcode.com/problems/my-calendar-ii/description/"
   ]
  },
  {
   "cell_type": "code",
   "execution_count": 5,
   "id": "33c4423c",
   "metadata": {},
   "outputs": [],
   "source": [
    "class MyCalendarTwo:\n",
    "\n",
    "    def __init__(self):\n",
    "        self.overlapping = set()\n",
    "        self.nonoverlapping = []\n",
    "\n",
    "    def book(self, startTime: int, endTime: int) -> bool:\n",
    "        for s, e in self.overlapping:\n",
    "            if max(s,startTime) < min(e, endTime):\n",
    "                return False\n",
    "\n",
    "        for s, e in self.nonoverlapping:\n",
    "            if max(s,startTime) < min(e, endTime):\n",
    "                self.overlapping.add((max(s,startTime), min(e, endTime)))\n",
    "        \n",
    "        self.nonoverlapping.append((startTime, endTime))\n",
    "\n",
    "        return True\n"
   ]
  },
  {
   "cell_type": "code",
   "execution_count": 7,
   "id": "48c6df0e",
   "metadata": {},
   "outputs": [
    {
     "data": {
      "text/plain": [
       "False"
      ]
     },
     "execution_count": 7,
     "metadata": {},
     "output_type": "execute_result"
    }
   ],
   "source": [
    "cal = MyCalendarTwo()\n",
    "cal.book(10, 20)\n",
    "cal.book(50, 60)\n",
    "cal.book(10, 40)\n",
    "cal.book(5, 15)"
   ]
  },
  {
   "cell_type": "code",
   "execution_count": null,
   "id": "0fdd865d",
   "metadata": {},
   "outputs": [],
   "source": []
  }
 ],
 "metadata": {
  "kernelspec": {
   "display_name": "Python 3",
   "language": "python",
   "name": "python3"
  },
  "language_info": {
   "codemirror_mode": {
    "name": "ipython",
    "version": 3
   },
   "file_extension": ".py",
   "mimetype": "text/x-python",
   "name": "python",
   "nbconvert_exporter": "python",
   "pygments_lexer": "ipython3",
   "version": "3.11.9"
  }
 },
 "nbformat": 4,
 "nbformat_minor": 5
}
