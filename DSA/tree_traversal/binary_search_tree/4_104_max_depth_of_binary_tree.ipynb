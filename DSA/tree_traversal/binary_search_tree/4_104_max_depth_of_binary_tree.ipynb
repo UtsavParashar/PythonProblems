{
 "cells": [
  {
   "cell_type": "markdown",
   "id": "e3b8761f",
   "metadata": {},
   "source": [
    "### 104. Maximum Depth of Binary Tree\n",
    "\n",
    "* https://leetcode.com/problems/maximum-depth-of-binary-tree/description/"
   ]
  },
  {
   "cell_type": "code",
   "execution_count": 1,
   "id": "ff971a48",
   "metadata": {},
   "outputs": [],
   "source": [
    "# TC - O(n)\n",
    "# SC - O(h), height of the tree, O(log n) for binary search tree\n",
    "\n",
    "# Definition for a binary tree node.\n",
    "class TreeNode:\n",
    "    def __init__(self, val=0, left=None, right=None):\n",
    "        self.val = val\n",
    "        self.left = left\n",
    "        self.right = right\n",
    "\n",
    "from collections import deque\n",
    "class Solution:\n",
    "    def maxDepth(self, root) -> int:\n",
    "        if not root:\n",
    "            return 0\n",
    "\n",
    "        q = deque([(root)])\n",
    "        max_depth = 0\n",
    "\n",
    "        while q:\n",
    "            level_size = len(q)\n",
    "\n",
    "            for _ in range(level_size):\n",
    "                n = q.popleft()\n",
    "\n",
    "                if n.left:\n",
    "                    q.append((n.left))\n",
    "\n",
    "                if n.right:\n",
    "                    q.append((n.right))\n",
    "\n",
    "            max_depth += 1"
   ]
  },
  {
   "cell_type": "code",
   "execution_count": null,
   "id": "2c31fbab",
   "metadata": {},
   "outputs": [],
   "source": [
    "# DFS Solution\n",
    "# TC - O(n)\n",
    "# SC - O(h), height of the tree, O(log n) for binary search tree\n",
    "\n",
    "class Solution:\n",
    "    def maxDepth(self, root) -> int:\n",
    "        def helper(node):\n",
    "            if not node:\n",
    "                return 0\n",
    "            \n",
    "            return 1 + max(helper(node.left), helper(node.right))\n",
    "        \n",
    "        return helper(root)"
   ]
  }
 ],
 "metadata": {
  "kernelspec": {
   "display_name": "Python 3",
   "language": "python",
   "name": "python3"
  },
  "language_info": {
   "codemirror_mode": {
    "name": "ipython",
    "version": 3
   },
   "file_extension": ".py",
   "mimetype": "text/x-python",
   "name": "python",
   "nbconvert_exporter": "python",
   "pygments_lexer": "ipython3",
   "version": "3.11.9"
  }
 },
 "nbformat": 4,
 "nbformat_minor": 5
}
