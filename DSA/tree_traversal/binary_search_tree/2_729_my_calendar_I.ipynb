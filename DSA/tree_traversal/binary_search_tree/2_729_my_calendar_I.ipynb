{
 "cells": [
  {
   "cell_type": "markdown",
   "id": "9aa9d5b7",
   "metadata": {},
   "source": [
    "#### 729. My Calendar I\n",
    "\n",
    "* https://leetcode.com/problems/my-calendar-i/description/"
   ]
  },
  {
   "cell_type": "code",
   "execution_count": null,
   "id": "47f51945",
   "metadata": {},
   "outputs": [],
   "source": [
    "class MyCalendar:\n",
    "    def __init__(self):\n",
    "        self.events = [] # (estart, eend) existing start and existing end\n",
    "        \n",
    "\n",
    "    def book(self, startTime: int, endTime: int) -> bool:\n",
    "        # Iterating over each existing booking to check for overlaps\n",
    "        for estart, eend in self.events:\n",
    "            if max(startTime,estart) < min(endTime, eend):\n",
    "                return False\n",
    "        # No calendar found, adding first booking\n",
    "        self.events.append((startTime, endTime))\n",
    "        return True"
   ]
  },
  {
   "cell_type": "code",
   "execution_count": null,
   "id": "021a938a",
   "metadata": {},
   "outputs": [],
   "source": []
  }
 ],
 "metadata": {
  "kernelspec": {
   "display_name": "Python 3",
   "language": "python",
   "name": "python3"
  },
  "language_info": {
   "name": "python",
   "version": "3.11.9"
  }
 },
 "nbformat": 4,
 "nbformat_minor": 5
}
