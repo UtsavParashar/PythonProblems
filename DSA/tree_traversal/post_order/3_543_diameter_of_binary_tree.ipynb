{
 "cells": [
  {
   "cell_type": "markdown",
   "id": "1608d72b",
   "metadata": {},
   "source": [
    "#### 543. Diameter of a Binary Tree\n",
    "\n",
    "* https://leetcode.com/problems/diameter-of-binary-tree/description/"
   ]
  },
  {
   "cell_type": "code",
   "execution_count": null,
   "id": "07fb6204",
   "metadata": {},
   "outputs": [],
   "source": [
    "## Trick is to compare the height and diameter of the tree and return the max\n",
    "\n",
    "## Ref - https://www.youtube.com/watch?v=K81C31ytOZE\n",
    "## https://www.youtube.com/watch?v=6lJZ_xj1mEo\n",
    "\n",
    "class TreeNode:\n",
    "    def __init__(self, val=0, left=None, right=None):\n",
    "        self.val = val\n",
    "        self.left = left\n",
    "        self.right = right\n",
    "class Solution:\n",
    "    def diameterOfBinaryTree(self, root) -> int:\n",
    "        self.largest_diameter = 0\n",
    "\n",
    "        # dfs is to determine the height of the tree\n",
    "        def height(node):\n",
    "            if not node:\n",
    "                return 0\n",
    "\n",
    "            left_height  = height(node.left)\n",
    "            right_height = height(node.right)\n",
    "\n",
    "            diameter = left_height + right_height\n",
    "            \n",
    "            self.largest_diameter = max(self.largest_diameter, diameter)\n",
    "\n",
    "            return 1 +  max(left_height, right_height)# +1 for the curr node, height formula 1+max(left, right)\n",
    "\n",
    "        height(root)\n",
    "        return self.largest_diameter\n"
   ]
  },
  {
   "cell_type": "code",
   "execution_count": 4,
   "id": "13c80511",
   "metadata": {},
   "outputs": [
    {
     "ename": "AttributeError",
     "evalue": "'Solution' object has no attribute 'res'",
     "output_type": "error",
     "traceback": [
      "\u001b[1;31m---------------------------------------------------------------------------\u001b[0m",
      "\u001b[1;31mAttributeError\u001b[0m                            Traceback (most recent call last)",
      "Cell \u001b[1;32mIn[4], line 11\u001b[0m\n\u001b[0;32m      8\u001b[0m root\u001b[38;5;241m.\u001b[39mright\u001b[38;5;241m.\u001b[39mright \u001b[38;5;241m=\u001b[39m TreeNode(\u001b[38;5;241m8\u001b[39m)\n\u001b[0;32m      9\u001b[0m root\u001b[38;5;241m.\u001b[39mright\u001b[38;5;241m.\u001b[39mleft \u001b[38;5;241m=\u001b[39m TreeNode(\u001b[38;5;241m9\u001b[39m)\n\u001b[1;32m---> 11\u001b[0m \u001b[43mSolution\u001b[49m\u001b[43m(\u001b[49m\u001b[43m)\u001b[49m\u001b[38;5;241;43m.\u001b[39;49m\u001b[43mdiameterOfBinaryTree\u001b[49m\u001b[43m(\u001b[49m\u001b[43mroot\u001b[49m\u001b[43m)\u001b[49m\n",
      "Cell \u001b[1;32mIn[3], line 28\u001b[0m, in \u001b[0;36mSolution.diameterOfBinaryTree\u001b[1;34m(self, root)\u001b[0m\n\u001b[0;32m     24\u001b[0m     \u001b[38;5;28mself\u001b[39m\u001b[38;5;241m.\u001b[39mlargest_diameter \u001b[38;5;241m=\u001b[39m \u001b[38;5;28mmax\u001b[39m(\u001b[38;5;28mself\u001b[39m\u001b[38;5;241m.\u001b[39mres, diameter)\n\u001b[0;32m     26\u001b[0m     \u001b[38;5;28;01mreturn\u001b[39;00m \u001b[38;5;241m1\u001b[39m \u001b[38;5;241m+\u001b[39m  \u001b[38;5;28mmax\u001b[39m(left_height, right_height)\u001b[38;5;66;03m# +1 for the curr node, height formula 1+max(left, right)\u001b[39;00m\n\u001b[1;32m---> 28\u001b[0m \u001b[43mheight\u001b[49m\u001b[43m(\u001b[49m\u001b[43mroot\u001b[49m\u001b[43m)\u001b[49m\n\u001b[0;32m     29\u001b[0m \u001b[38;5;28;01mreturn\u001b[39;00m \u001b[38;5;28mself\u001b[39m\u001b[38;5;241m.\u001b[39mlargest_diameter\n",
      "Cell \u001b[1;32mIn[3], line 19\u001b[0m, in \u001b[0;36mSolution.diameterOfBinaryTree.<locals>.height\u001b[1;34m(node)\u001b[0m\n\u001b[0;32m     16\u001b[0m \u001b[38;5;28;01mif\u001b[39;00m \u001b[38;5;129;01mnot\u001b[39;00m node:\n\u001b[0;32m     17\u001b[0m     \u001b[38;5;28;01mreturn\u001b[39;00m \u001b[38;5;241m0\u001b[39m\n\u001b[1;32m---> 19\u001b[0m left_height  \u001b[38;5;241m=\u001b[39m \u001b[43mheight\u001b[49m\u001b[43m(\u001b[49m\u001b[43mnode\u001b[49m\u001b[38;5;241;43m.\u001b[39;49m\u001b[43mleft\u001b[49m\u001b[43m)\u001b[49m\n\u001b[0;32m     20\u001b[0m right_height \u001b[38;5;241m=\u001b[39m height(node\u001b[38;5;241m.\u001b[39mright)\n\u001b[0;32m     22\u001b[0m diameter \u001b[38;5;241m=\u001b[39m left_height \u001b[38;5;241m+\u001b[39m right_height\n",
      "Cell \u001b[1;32mIn[3], line 19\u001b[0m, in \u001b[0;36mSolution.diameterOfBinaryTree.<locals>.height\u001b[1;34m(node)\u001b[0m\n\u001b[0;32m     16\u001b[0m \u001b[38;5;28;01mif\u001b[39;00m \u001b[38;5;129;01mnot\u001b[39;00m node:\n\u001b[0;32m     17\u001b[0m     \u001b[38;5;28;01mreturn\u001b[39;00m \u001b[38;5;241m0\u001b[39m\n\u001b[1;32m---> 19\u001b[0m left_height  \u001b[38;5;241m=\u001b[39m \u001b[43mheight\u001b[49m\u001b[43m(\u001b[49m\u001b[43mnode\u001b[49m\u001b[38;5;241;43m.\u001b[39;49m\u001b[43mleft\u001b[49m\u001b[43m)\u001b[49m\n\u001b[0;32m     20\u001b[0m right_height \u001b[38;5;241m=\u001b[39m height(node\u001b[38;5;241m.\u001b[39mright)\n\u001b[0;32m     22\u001b[0m diameter \u001b[38;5;241m=\u001b[39m left_height \u001b[38;5;241m+\u001b[39m right_height\n",
      "Cell \u001b[1;32mIn[3], line 24\u001b[0m, in \u001b[0;36mSolution.diameterOfBinaryTree.<locals>.height\u001b[1;34m(node)\u001b[0m\n\u001b[0;32m     20\u001b[0m right_height \u001b[38;5;241m=\u001b[39m height(node\u001b[38;5;241m.\u001b[39mright)\n\u001b[0;32m     22\u001b[0m diameter \u001b[38;5;241m=\u001b[39m left_height \u001b[38;5;241m+\u001b[39m right_height\n\u001b[1;32m---> 24\u001b[0m \u001b[38;5;28mself\u001b[39m\u001b[38;5;241m.\u001b[39mlargest_diameter \u001b[38;5;241m=\u001b[39m \u001b[38;5;28mmax\u001b[39m(\u001b[38;5;28;43mself\u001b[39;49m\u001b[38;5;241;43m.\u001b[39;49m\u001b[43mres\u001b[49m, diameter)\n\u001b[0;32m     26\u001b[0m \u001b[38;5;28;01mreturn\u001b[39;00m \u001b[38;5;241m1\u001b[39m \u001b[38;5;241m+\u001b[39m  \u001b[38;5;28mmax\u001b[39m(left_height, right_height)\n",
      "\u001b[1;31mAttributeError\u001b[0m: 'Solution' object has no attribute 'res'"
     ]
    }
   ],
   "source": [
    "root = TreeNode(1)\n",
    "root.left = TreeNode(2)\n",
    "root.left.left = TreeNode(4)\n",
    "root.left.right = TreeNode(5)\n",
    "root.left.right.left = TreeNode(6)\n",
    "root.left.right.right = TreeNode(7)\n",
    "root.right = TreeNode(3)\n",
    "root.right.right = TreeNode(8)\n",
    "root.right.left = TreeNode(9)\n",
    "\n",
    "Solution().diameterOfBinaryTree(root)\n"
   ]
  },
  {
   "cell_type": "code",
   "execution_count": null,
   "id": "dc7a9bdd",
   "metadata": {},
   "outputs": [],
   "source": []
  }
 ],
 "metadata": {
  "kernelspec": {
   "display_name": "Python 3",
   "language": "python",
   "name": "python3"
  },
  "language_info": {
   "codemirror_mode": {
    "name": "ipython",
    "version": 3
   },
   "file_extension": ".py",
   "mimetype": "text/x-python",
   "name": "python",
   "nbconvert_exporter": "python",
   "pygments_lexer": "ipython3",
   "version": "3.11.9"
  }
 },
 "nbformat": 4,
 "nbformat_minor": 5
}
