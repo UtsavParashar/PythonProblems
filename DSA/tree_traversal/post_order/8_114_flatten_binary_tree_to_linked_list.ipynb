{
 "cells": [
  {
   "cell_type": "markdown",
   "id": "d05524d5",
   "metadata": {},
   "source": [
    "#### 114. Flatten Binary Tree to Linked List\n",
    "\n",
    "* https://leetcode.com/problems/flatten-binary-tree-to-linked-list/description/"
   ]
  },
  {
   "cell_type": "code",
   "execution_count": null,
   "id": "cd0cd4ee",
   "metadata": {},
   "outputs": [],
   "source": [
    "## Ref - https://www.youtube.com/watch?v=rKnD7rLT0lI\n",
    "\n",
    "class TreeNode:\n",
    "    def __init__(self, val=0, left=None, right=None):\n",
    "        self.val = val\n",
    "        self.left = left\n",
    "        self.right = right\n",
    "\n",
    "def flatten(root) -> None:\n",
    "    \"\"\"\n",
    "    Do not return anything, modify root in-place instead.\n",
    "    \"\"\"\n",
    "    # Helper function to perform post-order traversal and flatten the tree\n",
    "    def dfs(node):\n",
    "        if not node:\n",
    "            return None\n",
    "\n",
    "        left_tail = dfs(node.left)\n",
    "        right_tail = dfs(node.right)\n",
    "\n",
    "        if node.left:\n",
    "            # Attach the right subtree to the rightmost node of the left subtree\n",
    "            left_tail.right = node.right\n",
    "            node.right = node.left\n",
    "            node.left = None\n",
    "\n",
    "        # Return the rightmost node after flattening\n",
    "        return right_tail or left_tail or node\n",
    "\n",
    "    dfs(root)\n"
   ]
  },
  {
   "cell_type": "code",
   "execution_count": null,
   "id": "adfd888a",
   "metadata": {},
   "outputs": [],
   "source": []
  }
 ],
 "metadata": {
  "kernelspec": {
   "display_name": "Python 3",
   "language": "python",
   "name": "python3"
  },
  "language_info": {
   "name": "python",
   "version": "3.11.9"
  }
 },
 "nbformat": 4,
 "nbformat_minor": 5
}
