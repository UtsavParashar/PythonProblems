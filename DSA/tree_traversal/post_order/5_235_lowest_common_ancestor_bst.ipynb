{
 "cells": [
  {
   "cell_type": "markdown",
   "id": "3409d787",
   "metadata": {},
   "source": [
    "#### 235. Lowest Common Ancestor of a Binary Search Tree\n",
    "\n",
    "* https://leetcode.com/problems/lowest-common-ancestor-of-a-binary-search-tree/description/"
   ]
  },
  {
   "cell_type": "code",
   "execution_count": null,
   "id": "cfb43bf2",
   "metadata": {},
   "outputs": [],
   "source": [
    "# Ref - https://www.youtube.com/watch?v=gs2LMfuOR9k\n",
    "# Logic - Use the property of BST\n",
    "# if both nodes are less than root node then go left \n",
    "# elif both nodes are more than root node then go right\n",
    "# if one is small other is greater then root is the answer\n",
    "\n",
    "\n",
    "class TreeNode:\n",
    "    def __init__(self, x):\n",
    "        self.val = x\n",
    "        self.left = None\n",
    "        self.right = None\n",
    "\n",
    "def lowest_common_ancestor(root, p, q):\n",
    "    while root:\n",
    "        if root.val > p.val and root.val > q.val:\n",
    "            root = root.left\n",
    "        elif root.val < p.val and root.val < q.val:\n",
    "            root = root.right\n",
    "        else:\n",
    "            return root\n"
   ]
  },
  {
   "cell_type": "code",
   "execution_count": null,
   "id": "46b035ff",
   "metadata": {},
   "outputs": [],
   "source": []
  }
 ],
 "metadata": {
  "kernelspec": {
   "display_name": "Python 3",
   "language": "python",
   "name": "python3"
  },
  "language_info": {
   "name": "python",
   "version": "3.11.9"
  }
 },
 "nbformat": 4,
 "nbformat_minor": 5
}
