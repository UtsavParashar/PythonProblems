{
 "cells": [
  {
   "cell_type": "markdown",
   "metadata": {},
   "source": [
    "##### 145. Binary Tree Postorder Traversal\n",
    "* Given the root of a binary tree, return the postorder traversal of its nodes' values.\n",
    "* post order flow - L, R, M"
   ]
  },
  {
   "cell_type": "code",
   "execution_count": 2,
   "metadata": {},
   "outputs": [],
   "source": [
    "class TreeNode:\n",
    "    def __init__(self, val=0, left=None, right=None):\n",
    "        self.val = val\n",
    "        self.left = left\n",
    "        self.right = right\n",
    "    def __repr__(self):\n",
    "        return f'{self.val}, {self.left}, {self.right}'"
   ]
  },
  {
   "cell_type": "code",
   "execution_count": 3,
   "metadata": {},
   "outputs": [],
   "source": [
    "def postorderTraversal(root: TreeNode) -> list[int]:\n",
    "    if not root:\n",
    "        return []\n",
    "    return postorderTraversal(root.left) + postorderTraversal(root.right) + [root.val]"
   ]
  },
  {
   "cell_type": "code",
   "execution_count": 6,
   "metadata": {},
   "outputs": [
    {
     "data": {
      "text/plain": [
       "[4, 6, 7, 5, 2, 9, 8, 3, 1]"
      ]
     },
     "execution_count": 6,
     "metadata": {},
     "output_type": "execute_result"
    }
   ],
   "source": [
    "root = TreeNode(1)\n",
    "root.left = TreeNode(2)\n",
    "root.left.left = TreeNode(4)\n",
    "root.left.right = TreeNode(5)\n",
    "root.left.right.left = TreeNode(6)\n",
    "root.left.right.right = TreeNode(7)\n",
    "root.right = TreeNode(3)\n",
    "root.right.right = TreeNode(8)\n",
    "root.right.right.left = TreeNode(9)\n",
    "\n",
    "postorderTraversal(root)"
   ]
  },
  {
   "cell_type": "code",
   "execution_count": null,
   "metadata": {},
   "outputs": [],
   "source": [
    "## Similar explanation neetcode - https://www.youtube.com/watch?v=QhszUQhGGlA\n",
    "\n",
    "def postorderTraversal(root: TreeNode) -> list[int]:\n",
    "    # Initialize the result list to store the postorder traversal\n",
    "    # Initialize the stack to assist in iterative traversal\n",
    "    # Initialize last_visited to keep track of the last visited node\n",
    "    res, stack = [], []\n",
    "    last_visited = None\n",
    "\n",
    "    # Continue while there are nodes to process (either in the stack or as root)\n",
    "    while root or stack:\n",
    "        if root:\n",
    "            # Traverse left subtree by pushing the current node to the stack\n",
    "            stack.append(root)\n",
    "            root = root.left\n",
    "        else:\n",
    "            # Peek the top node in the stack\n",
    "            peek_node = stack[-1]\n",
    "            # If the right child exists and hasn't been visited yet, move to the right child\n",
    "            if peek_node.right and last_visited != peek_node.right:\n",
    "                root = peek_node.right\n",
    "            else:\n",
    "                # Otherwise, process the current node and mark it as visited\n",
    "                res.append(peek_node.val)\n",
    "                last_visited = stack.pop()\n",
    "\n",
    "    # Return the result list containing the postorder traversal\n",
    "    return res"
   ]
  },
  {
   "cell_type": "code",
   "execution_count": null,
   "metadata": {},
   "outputs": [],
   "source": []
  }
 ],
 "metadata": {
  "kernelspec": {
   "display_name": "Python 3",
   "language": "python",
   "name": "python3"
  },
  "language_info": {
   "codemirror_mode": {
    "name": "ipython",
    "version": 3
   },
   "file_extension": ".py",
   "mimetype": "text/x-python",
   "name": "python",
   "nbconvert_exporter": "python",
   "pygments_lexer": "ipython3",
   "version": "3.11.9"
  }
 },
 "nbformat": 4,
 "nbformat_minor": 2
}
