{
 "cells": [
  {
   "cell_type": "markdown",
   "id": "05ae7652",
   "metadata": {},
   "source": [
    "#### 979. Distribute Coins in Binary Tree\n",
    "\n",
    "* https://leetcode.com/problems/distribute-coins-in-binary-tree/description/"
   ]
  },
  {
   "cell_type": "code",
   "execution_count": null,
   "id": "7f95b39d",
   "metadata": {},
   "outputs": [],
   "source": [
    "# https://www.youtube.com/watch?v=fW5FQFd9oNw\n",
    "\n",
    "class TreeNode:\n",
    "    def __init__(self, val=0, left=None, right=None):\n",
    "        self.val = val\n",
    "        self.left = left\n",
    "        self.right = right\n",
    "class Solution:\n",
    "    def distributeCoins(self, root) -> int:\n",
    "\n",
    "        self.moves = 0\n",
    "\n",
    "        def dfs(node):\n",
    "            if not node:\n",
    "                return 0\n",
    "\n",
    "            left_moves = dfs(node.left)\n",
    "            right_moves = dfs(node.right)\n",
    "\n",
    "            balance = left_moves + right_moves - node.val - 1\n",
    "            self.moves += abs(left_moves) + abs(right_moves)\n",
    "            return balance\n",
    "\n",
    "        dfs(root)\n",
    "\n",
    "        return self.moves"
   ]
  },
  {
   "cell_type": "code",
   "execution_count": null,
   "id": "23e2c488",
   "metadata": {},
   "outputs": [],
   "source": []
  }
 ],
 "metadata": {
  "kernelspec": {
   "display_name": "Python 3",
   "language": "python",
   "name": "python3"
  },
  "language_info": {
   "name": "python",
   "version": "3.11.9"
  }
 },
 "nbformat": 4,
 "nbformat_minor": 5
}
