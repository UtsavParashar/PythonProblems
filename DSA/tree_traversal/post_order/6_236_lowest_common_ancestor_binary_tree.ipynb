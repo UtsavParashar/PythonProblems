{
 "cells": [
  {
   "cell_type": "markdown",
   "id": "b98260d0",
   "metadata": {},
   "source": [
    "#### 236. Lowest Common Ancestor of a Binary Tree\n",
    "\n",
    "* https://leetcode.com/problems/lowest-common-ancestor-of-a-binary-tree/description/"
   ]
  },
  {
   "cell_type": "code",
   "execution_count": null,
   "id": "19dc7ff7",
   "metadata": {},
   "outputs": [],
   "source": [
    "# ref - https://www.youtube.com/watch?v=WO1tfq2sbsI\n",
    "\n",
    "class TreeNode:\n",
    "    def __init__(self, x):\n",
    "        self.val = x\n",
    "        self.left = None\n",
    "        self.right = None\n",
    "\n",
    "class Solution:\n",
    "    def lowestCommonAncestor(self, root, p, q):\n",
    "        if not root:\n",
    "            return None\n",
    "        \n",
    "        if p == root or q == root:\n",
    "            return root\n",
    "        \n",
    "        l = self.lowestCommonAncestor(root.left, p, q)\n",
    "        r = self.lowestCommonAncestor(root.right, p, q)\n",
    "\n",
    "        if l and r: # if p and q are on either side of the root then they would merge at root\n",
    "            return root\n",
    "        else:\n",
    "            return l or r # if either l or r is one of the p or q then as per LCA that is the desendent of itself\n",
    "         \n",
    "\n"
   ]
  },
  {
   "cell_type": "code",
   "execution_count": null,
   "id": "d31d67d5",
   "metadata": {},
   "outputs": [],
   "source": []
  }
 ],
 "metadata": {
  "kernelspec": {
   "display_name": "Python 3",
   "language": "python",
   "name": "python3"
  },
  "language_info": {
   "name": "python",
   "version": "3.11.9"
  }
 },
 "nbformat": 4,
 "nbformat_minor": 5
}
