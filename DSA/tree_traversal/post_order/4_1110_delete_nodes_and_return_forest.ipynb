{
 "cells": [
  {
   "cell_type": "markdown",
   "id": "e67691f7",
   "metadata": {},
   "source": [
    "### 1110. Delete Nodes And Return Forest\n",
    "\n",
    "* https://leetcode.com/problems/delete-nodes-and-return-forest/description/"
   ]
  },
  {
   "cell_type": "code",
   "execution_count": 1,
   "id": "8f4944ac",
   "metadata": {},
   "outputs": [],
   "source": [
    "## Optimized Solution\n",
    "## https://www.youtube.com/watch?v=UhKu0q1yXHY\n",
    "\n",
    "class TreeNode:\n",
    "    def __init__(self, val=0, left=None, right=None):\n",
    "        self.val = val\n",
    "        self.left = left\n",
    "        self.right = right\n",
    "\n",
    "def delNodes(root, to_delete):\n",
    "    to_delete = set(to_delete)\n",
    "    res_set = set([root])\n",
    "\n",
    "    def dfs(node):\n",
    "        if not node:\n",
    "            return None\n",
    "\n",
    "        res = node\n",
    "\n",
    "        if node.val in to_delete:\n",
    "            res = None\n",
    "            res_set.discard(node)\n",
    "            if node.left: res_set.add(node.left)\n",
    "            if node.right: res_set.add(node.right)\n",
    "\n",
    "        node.left = dfs(node.left)\n",
    "        node.right = dfs(node.right)\n",
    "\n",
    "        return res\n",
    "\n",
    "    dfs(root)\n",
    "    return list(res_set)\n"
   ]
  },
  {
   "cell_type": "code",
   "execution_count": null,
   "id": "c1062625",
   "metadata": {},
   "outputs": [],
   "source": [
    "def delNodes(root, to_delete):\n",
    "    to_delete_set = set(to_delete)\n",
    "    forest = []\n",
    "\n",
    "    def dfs(node, is_root):\n",
    "        if not node:\n",
    "            return None\n",
    "        deleted = node.val in to_delete_set\n",
    "        if is_root and not deleted:\n",
    "            forest.append(node)\n",
    "        node.left = dfs(node.left, deleted)\n",
    "        node.right = dfs(node.right, deleted)\n",
    "        return None if deleted else node\n",
    "\n",
    "    dfs(root, True)\n",
    "    return forest"
   ]
  }
 ],
 "metadata": {
  "kernelspec": {
   "display_name": "Python 3",
   "language": "python",
   "name": "python3"
  },
  "language_info": {
   "codemirror_mode": {
    "name": "ipython",
    "version": 3
   },
   "file_extension": ".py",
   "mimetype": "text/x-python",
   "name": "python",
   "nbconvert_exporter": "python",
   "pygments_lexer": "ipython3",
   "version": "3.11.9"
  }
 },
 "nbformat": 4,
 "nbformat_minor": 5
}
