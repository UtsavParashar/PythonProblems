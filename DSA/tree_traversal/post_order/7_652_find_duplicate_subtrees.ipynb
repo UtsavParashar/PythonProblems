{
 "cells": [
  {
   "cell_type": "markdown",
   "id": "3f76f748",
   "metadata": {},
   "source": [
    "### 652. Find Duplicate Subtrees\n",
    "\n",
    "* https://leetcode.com/problems/find-duplicate-subtrees/description/"
   ]
  },
  {
   "cell_type": "code",
   "execution_count": null,
   "id": "91e6ebdf",
   "metadata": {},
   "outputs": [],
   "source": [
    "## Ref - https://www.youtube.com/watch?v=kn0Z5_qPPzY\n",
    "\n",
    "class TreeNode:\n",
    "    def __init__(self, val=0, left=None, right=None):\n",
    "        self.val = val\n",
    "        self.left = left\n",
    "        self.right = right\n",
    "\n",
    "from collections import defaultdict\n",
    "def findDuplicateSubtrees(root):\n",
    "    subtree_dict = defaultdict(list) # s\n",
    "    res = []\n",
    "\n",
    "    def dfs(node):\n",
    "        if not node: return 'N'\n",
    "        s = f'{str(node.val)},{dfs(node.left)},{dfs(node.right)}'\n",
    "\n",
    "        if len(subtree_dict[s]) == 1: # == 1 so that s is stored only once\n",
    "            res.append(node)\n",
    "        subtree_dict[s].append(node)\n",
    "\n",
    "        # s is returned so that each recursive call can communicate the structure and values of its subtree up the call stack,\n",
    "        # which is essential for detecting duplicates or reconstructing the tree.\n",
    "        return s \n",
    "    dfs(root)\n",
    "    return res"
   ]
  },
  {
   "cell_type": "code",
   "execution_count": null,
   "id": "a3f673d4",
   "metadata": {},
   "outputs": [],
   "source": []
  }
 ],
 "metadata": {
  "kernelspec": {
   "display_name": "Python 3",
   "language": "python",
   "name": "python3"
  },
  "language_info": {
   "codemirror_mode": {
    "name": "ipython",
    "version": 3
   },
   "file_extension": ".py",
   "mimetype": "text/x-python",
   "name": "python",
   "nbconvert_exporter": "python",
   "pygments_lexer": "ipython3",
   "version": "3.11.9"
  }
 },
 "nbformat": 4,
 "nbformat_minor": 5
}
