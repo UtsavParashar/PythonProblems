{
 "cells": [
  {
   "cell_type": "markdown",
   "id": "054dba7a",
   "metadata": {},
   "source": [
    "#### 124. Binary Tree Max Path Sum\n",
    "\n",
    "* https://leetcode.com/problems/binary-tree-maximum-path-sum/description/"
   ]
  },
  {
   "cell_type": "code",
   "execution_count": null,
   "id": "296d933d",
   "metadata": {},
   "outputs": [],
   "source": [
    "# https://www.youtube.com/watch?v=Hr5cWUld4vU\n",
    "\n",
    "class TreeNode:\n",
    "    def __init__(self, val=0, left=None, right=None):\n",
    "        self.val = val\n",
    "        self.left = left\n",
    "        self.right = right\n",
    "class Solution:\n",
    "    def maxPathSum(self, root) -> int:\n",
    "        self.res = float('-inf') # or root.val\n",
    "\n",
    "        def dfs(node):\n",
    "            if not node:\n",
    "                return 0\n",
    "\n",
    "            left_sum = max(dfs(node.left), 0) # if the node val is negative then why to include it\n",
    "            right_sum = max(dfs(node.right), 0)\n",
    "            \n",
    "            res_sum = node.val + left_sum + right_sum # this is to check if root and its both childs create path\n",
    "            self.res = max(self.res, res_sum) \n",
    "            return  node.val + max(left_sum, right_sum)# else the max child is to be added to node.val\n",
    "        \n",
    "        dfs(root)\n",
    "\n",
    "        return self.res\n",
    "\n",
    "            "
   ]
  },
  {
   "cell_type": "code",
   "execution_count": null,
   "id": "1e6cef90",
   "metadata": {},
   "outputs": [],
   "source": [
    "class TreeNode:\n",
    "    def __init__(self, val=0, left=None, right=None):\n",
    "        self.val = val\n",
    "        self.left = left\n",
    "        self.right = right\n",
    "\n",
    "class Solution:\n",
    "    def maxPathSum(self, root) -> int:\n",
    "        self.res = float('-inf')\n",
    "\n",
    "        def dfs(node):\n",
    "            if not node:\n",
    "                return 0\n",
    "            left = max(dfs(node.left), 0)\n",
    "            right = max(dfs(node.right), 0)\n",
    "            self.res = max(self.res, node.val + left + right)\n",
    "            return node.val + max(left, right)\n",
    "\n",
    "        dfs(root)\n",
    "        return self.res\n"
   ]
  }
 ],
 "metadata": {
  "kernelspec": {
   "display_name": "Python 3",
   "language": "python",
   "name": "python3"
  },
  "language_info": {
   "name": "python",
   "version": "3.11.9"
  }
 },
 "nbformat": 4,
 "nbformat_minor": 5
}
