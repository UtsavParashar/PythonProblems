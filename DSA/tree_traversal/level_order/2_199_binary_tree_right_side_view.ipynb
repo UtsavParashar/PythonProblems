{
 "cells": [
  {
   "cell_type": "markdown",
   "metadata": {},
   "source": [
    "#### 199. Binary Tree Right Side View\n",
    "* https://leetcode.com/problems/binary-tree-right-side-view/description/\n",
    "* Given the root of a binary tree, imagine yourself standing on the right side of it, return the values of the nodes you can see ordered from top to bottom.\n",
    "\n",
    "- Example 1:\n",
    "- Input: root = [1,2,3,null,5,null,4]\n",
    "- Output: [1,3,4]\n",
    "\n",
    "- Example 2:\n",
    "- Input: root = [1,2,3,4,null,null,null,5]\n",
    "- Output: [1,3,4,5]"
   ]
  },
  {
   "cell_type": "code",
   "execution_count": 1,
   "metadata": {},
   "outputs": [],
   "source": [
    "class TreeNode:\n",
    "    def __init__(self, val=0, left=None, right=None):\n",
    "        self.val = val\n",
    "        self.left = left\n",
    "        self.right = right\n",
    "\n",
    "    def __repr__(self):\n",
    "        return f'{self.val}, {self.left}, {self.right}'"
   ]
  },
  {
   "cell_type": "markdown",
   "metadata": {},
   "source": [
    "The function `right_side_view` is designed to find the nodes you can see if you look at a binary tree from the right side. Here's how it works in simple terms:\n",
    "\n",
    "1. **Input**: It takes the root of the tree as input. The tree is made up of nodes, each having a value and possibly left and right child nodes.\n",
    "\n",
    "2. **Output**: It returns a list of values of the nodes that are visible from the right side of the tree.\n",
    "\n",
    "3. **How it works**:\n",
    "    - If the tree is empty (no root), it returns an empty list.\n",
    "    - It uses a queue (a list-like structure) to process the tree level by level, starting from the root.\n",
    "    - For each level of the tree:\n",
    "      - It looks at all the nodes in that level.\n",
    "      - It adds the value of the last node in that level (the one visible from the right side) to the result list.\n",
    "    - It keeps doing this until all levels of the tree are processed.\n",
    "\n",
    "4. **Extra Debugging**: The function also prints some details while running, like the current queue, the size of the level, the current node being processed, and the result list so far. This helps in understanding how it works step by step.\n",
    "\n",
    "In short, the function \"walks\" through the tree level by level and picks the last node from each level to form the right-side view."
   ]
  },
  {
   "cell_type": "code",
   "execution_count": null,
   "metadata": {},
   "outputs": [],
   "source": [
    "from collections import deque\n",
    "\n",
    "def right_side_view(root: TreeNode):\n",
    "    if not root:\n",
    "        return []\n",
    "\n",
    "    res = []\n",
    "    q = deque([root])\n",
    "    \n",
    "    print(q, res)\n",
    "\n",
    "    while q:\n",
    "        level_size = len(q)\n",
    "        for i in range(level_size):\n",
    "            node = q.popleft()\n",
    "            \n",
    "            if node.left:\n",
    "                q.append(node.left)\n",
    "            \n",
    "            if node.right:\n",
    "                q.append(node.right)\n",
    "            \n",
    "            # Append the value of the last node in the current level\n",
    "            if i == level_size - 1: # if level_size - 1 is replaced by 0 then it becomes left view\n",
    "                res.append(node.val)\n",
    "                    \n",
    "    return res\n",
    "            "
   ]
  },
  {
   "cell_type": "code",
   "execution_count": 7,
   "metadata": {},
   "outputs": [
    {
     "name": "stdout",
     "output_type": "stream",
     "text": [
      "deque([1, 2, 4, 5, None, None, None, None, 3, None, None]) []\n"
     ]
    },
    {
     "data": {
      "text/plain": [
       "[1, 2, 4, 5]"
      ]
     },
     "execution_count": 7,
     "metadata": {},
     "output_type": "execute_result"
    }
   ],
   "source": [
    "root = TreeNode(1)\n",
    "root.left = TreeNode(2)\n",
    "root.right = TreeNode(3)\n",
    "root.left.left = TreeNode(4)\n",
    "root.left.left.left = TreeNode(5)\n",
    "\n",
    "\n",
    "right_side_view(root)"
   ]
  },
  {
   "cell_type": "code",
   "execution_count": 8,
   "metadata": {},
   "outputs": [
    {
     "name": "stdout",
     "output_type": "stream",
     "text": [
      "deque([1, 2, None, 5, None, None, 3, None, 4, None, None]) []\n"
     ]
    },
    {
     "data": {
      "text/plain": [
       "[1, 2, 5]"
      ]
     },
     "execution_count": 8,
     "metadata": {},
     "output_type": "execute_result"
    }
   ],
   "source": [
    "root = TreeNode(1)\n",
    "root.left = TreeNode(2)\n",
    "root.right = TreeNode(3)\n",
    "root.left.right = TreeNode(5)\n",
    "root.right.right = TreeNode(4)\n",
    "\n",
    "\n",
    "right_side_view(root)"
   ]
  },
  {
   "cell_type": "code",
   "execution_count": null,
   "metadata": {},
   "outputs": [],
   "source": []
  }
 ],
 "metadata": {
  "kernelspec": {
   "display_name": "Python 3",
   "language": "python",
   "name": "python3"
  },
  "language_info": {
   "codemirror_mode": {
    "name": "ipython",
    "version": 3
   },
   "file_extension": ".py",
   "mimetype": "text/x-python",
   "name": "python",
   "nbconvert_exporter": "python",
   "pygments_lexer": "ipython3",
   "version": "3.11.9"
  }
 },
 "nbformat": 4,
 "nbformat_minor": 2
}
