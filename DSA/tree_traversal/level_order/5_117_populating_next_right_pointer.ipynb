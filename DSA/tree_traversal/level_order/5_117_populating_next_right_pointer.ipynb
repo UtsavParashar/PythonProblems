{
 "cells": [
  {
   "cell_type": "markdown",
   "id": "1072c2cd",
   "metadata": {},
   "source": [
    "#### 117. Poplulating Next Right Pointers in Each Node II\n",
    "\n",
    "* https://leetcode.com/problems/populating-next-right-pointers-in-each-node-ii/description/"
   ]
  },
  {
   "cell_type": "code",
   "execution_count": 1,
   "id": "67a31910",
   "metadata": {},
   "outputs": [],
   "source": [
    "\n",
    "# this solution will work for perfect binary tree\n",
    "def connect(node):\n",
    "    curr, nxt = node, node.next if node else None\n",
    "\n",
    "    while curr and nxt:\n",
    "        curr.left.next = curr.right\n",
    "\n",
    "        if curr.next:\n",
    "            curr.right.next = curr.next.left\n",
    "\n",
    "        curr = curr.next\n",
    "        if not curr:\n",
    "            curr = nxt\n",
    "            nxt = curr.left\n",
    "    \n",
    "    return node"
   ]
  },
  {
   "cell_type": "code",
   "execution_count": null,
   "id": "3d205f24",
   "metadata": {},
   "outputs": [],
   "source": []
  },
  {
   "cell_type": "code",
   "execution_count": null,
   "id": "e7e64d00",
   "metadata": {},
   "outputs": [],
   "source": []
  }
 ],
 "metadata": {
  "kernelspec": {
   "display_name": "Python 3",
   "language": "python",
   "name": "python3"
  },
  "language_info": {
   "codemirror_mode": {
    "name": "ipython",
    "version": 3
   },
   "file_extension": ".py",
   "mimetype": "text/x-python",
   "name": "python",
   "nbconvert_exporter": "python",
   "pygments_lexer": "ipython3",
   "version": "3.11.9"
  }
 },
 "nbformat": 4,
 "nbformat_minor": 5
}
