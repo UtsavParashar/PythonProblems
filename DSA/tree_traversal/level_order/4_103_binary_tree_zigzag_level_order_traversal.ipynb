{
 "cells": [
  {
   "cell_type": "markdown",
   "id": "d63658bb",
   "metadata": {},
   "source": [
    "#### 103. Binary Tree Zigzag Level Order Traversal\n",
    "\n",
    "* https://leetcode.com/problems/binary-tree-zigzag-level-order-traversal/description/"
   ]
  },
  {
   "cell_type": "code",
   "execution_count": 5,
   "id": "d6fa65c3",
   "metadata": {},
   "outputs": [],
   "source": [
    "class TreeNode:\n",
    "    def __init__(self, val=0, left=None, right=None):\n",
    "        self.val = val\n",
    "        self.left = left\n",
    "        self.right = right\n",
    "\n",
    "\n",
    "from collections import deque\n",
    "def zigzag_level_order_traversal(root):\n",
    "    q = deque([root] if root else None)\n",
    "    res = []\n",
    "\n",
    "    while q:\n",
    "        qlen = len(q)\n",
    "        level = []\n",
    "        for _ in range(qlen):\n",
    "            node = q.popleft()\n",
    "\n",
    "            if node:\n",
    "                level.append(node.val)\n",
    "                if node.left:\n",
    "                    q.append(node.left)\n",
    "                if node.right:\n",
    "                    q.append(node.right)\n",
    "        if len(res)%2:\n",
    "            level.reverse()\n",
    "\n",
    "        res.append(level)\n",
    "\n",
    "    return res"
   ]
  },
  {
   "cell_type": "code",
   "execution_count": 6,
   "id": "240f13a7",
   "metadata": {},
   "outputs": [
    {
     "data": {
      "text/plain": [
       "[[1], [3, 2], [4], [5]]"
      ]
     },
     "execution_count": 6,
     "metadata": {},
     "output_type": "execute_result"
    }
   ],
   "source": [
    "root = TreeNode(1)\n",
    "root.left = TreeNode(2)\n",
    "root.right = TreeNode(3)\n",
    "root.left.left = TreeNode(4)\n",
    "root.left.left.left = TreeNode(5)\n",
    "\n",
    "\n",
    "zigzag_level_order_traversal(root)"
   ]
  },
  {
   "cell_type": "code",
   "execution_count": null,
   "id": "b4591b84",
   "metadata": {},
   "outputs": [],
   "source": []
  }
 ],
 "metadata": {
  "kernelspec": {
   "display_name": "Python 3",
   "language": "python",
   "name": "python3"
  },
  "language_info": {
   "codemirror_mode": {
    "name": "ipython",
    "version": 3
   },
   "file_extension": ".py",
   "mimetype": "text/x-python",
   "name": "python",
   "nbconvert_exporter": "python",
   "pygments_lexer": "ipython3",
   "version": "3.11.9"
  }
 },
 "nbformat": 4,
 "nbformat_minor": 5
}
