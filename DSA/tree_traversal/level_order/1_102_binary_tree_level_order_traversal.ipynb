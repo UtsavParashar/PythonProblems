{
 "cells": [
  {
   "cell_type": "markdown",
   "metadata": {},
   "source": [
    "### 102. Binary Tree Level Order Traversal\n",
    "\n",
    "* https://leetcode.com/problems/binary-tree-level-order-traversal/description/\n",
    "\n",
    "#### ['Bloomberg', 'Intuit', 'Meta', 'Apple', 'Uber']"
   ]
  },
  {
   "cell_type": "code",
   "execution_count": 4,
   "metadata": {},
   "outputs": [],
   "source": [
    "class TreeNode:\n",
    "    def __init__(self, val=0, left=None, right=None):\n",
    "        self.val = val\n",
    "        self.left = left\n",
    "        self.right = right\n",
    "\n",
    "    def __repr__(self):\n",
    "        return f'{self.val}, {self.left}, {self.right}'"
   ]
  },
  {
   "cell_type": "code",
   "execution_count": null,
   "metadata": {},
   "outputs": [],
   "source": [
    "#### Credit - https://www.youtube.com/watch?v=6ZnyEApgFYg\n",
    "### Solution used BFS along with a queue\n",
    "### O(n) time and space\n",
    "from collections import deque\n",
    "\n",
    "def level_order_traversal(root: TreeNode):\n",
    "    if not root:\n",
    "        return []  # Return an empty list if the tree is empty\n",
    "\n",
    "    res = []\n",
    "    q = deque([root])  # Initialize the queue with the root node\n",
    "\n",
    "    while q:\n",
    "        level = []  # List to store the current level's values\n",
    "\n",
    "        for _ in range(len(q)): \n",
    "            node = q.popleft()\n",
    "            level.append(node.val)  # Add the current node's value to the level\n",
    "\n",
    "            # Add the left and right children to the queue if they exist\n",
    "            if node.left:\n",
    "                q.append(node.left)\n",
    "            if node.right:\n",
    "                q.append(node.right)\n",
    "\n",
    "        res.append(level)  # Append the current level to the result\n",
    "\n",
    "    return res"
   ]
  },
  {
   "cell_type": "code",
   "execution_count": 13,
   "metadata": {},
   "outputs": [
    {
     "data": {
      "text/plain": [
       "[[1], [2, 3], [4, 5, 6]]"
      ]
     },
     "execution_count": 13,
     "metadata": {},
     "output_type": "execute_result"
    }
   ],
   "source": [
    "root = TreeNode(1)\n",
    "root.left = TreeNode(2)\n",
    "root.right = TreeNode(3)\n",
    "root.left.left = TreeNode(4)\n",
    "root.left.right = TreeNode(5)\n",
    "root.right.right = TreeNode(6)\n",
    "\n",
    "level_order_traversal(root)"
   ]
  },
  {
   "cell_type": "code",
   "execution_count": 1,
   "metadata": {},
   "outputs": [],
   "source": [
    "class Solution:\n",
    "    def levelOrder(self, root):\n",
    "        res = []\n",
    "\n",
    "        def dfs(node, level):\n",
    "            if not node:\n",
    "                return\n",
    "            if level == len(res):\n",
    "                res.append([])\n",
    "                \n",
    "            res[level].append(node.val)\n",
    "            dfs(node.left, level+1)\n",
    "            dfs(node.right, level+1)\n",
    "\n",
    "        dfs(root, 0)\n",
    "        return res    "
   ]
  },
  {
   "cell_type": "code",
   "execution_count": null,
   "metadata": {},
   "outputs": [],
   "source": []
  }
 ],
 "metadata": {
  "kernelspec": {
   "display_name": "Python 3",
   "language": "python",
   "name": "python3"
  },
  "language_info": {
   "codemirror_mode": {
    "name": "ipython",
    "version": 3
   },
   "file_extension": ".py",
   "mimetype": "text/x-python",
   "name": "python",
   "nbconvert_exporter": "python",
   "pygments_lexer": "ipython3",
   "version": "3.11.9"
  }
 },
 "nbformat": 4,
 "nbformat_minor": 2
}
