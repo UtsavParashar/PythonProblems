{
 "cells": [
  {
   "cell_type": "markdown",
   "metadata": {},
   "source": [
    "#### 104. Maximum Depth of Binary Tree\n",
    "\n",
    "* Given the root of a binary tree, return its maximum depth.\n",
    "* A binary tree's maximum depth is the number of nodes along the longest path from the root node down to the farthest leaf node."
   ]
  },
  {
   "cell_type": "code",
   "execution_count": 3,
   "metadata": {},
   "outputs": [],
   "source": [
    "class TreeNode:\n",
    "    def __init__(self, val=0, left=None, right=None):\n",
    "        self.val = val\n",
    "        self.left = left\n",
    "        self.right = right\n",
    "    \n",
    "    def __repr__(self):\n",
    "        return f'{self.val}, {self.left}, {self.right}'"
   ]
  },
  {
   "cell_type": "code",
   "execution_count": 8,
   "metadata": {},
   "outputs": [],
   "source": [
    "## This solution is better\n",
    "\n",
    "from collections import deque\n",
    "\n",
    "def max_depth(root: TreeNode):\n",
    "    if not root:\n",
    "        return 0\n",
    "    \n",
    "    level = 0\n",
    "    q = deque([root])\n",
    "\n",
    "    while q:\n",
    "        level += 1\n",
    "\n",
    "        for _ in range(len(q)):\n",
    "            node = q.popleft()\n",
    "\n",
    "            if node.left:\n",
    "                q.append(node.left)\n",
    "\n",
    "            if node.right:\n",
    "                q.append(node.right)\n",
    "    return level"
   ]
  },
  {
   "cell_type": "code",
   "execution_count": 6,
   "metadata": {},
   "outputs": [
    {
     "data": {
      "text/plain": [
       "3"
      ]
     },
     "execution_count": 6,
     "metadata": {},
     "output_type": "execute_result"
    }
   ],
   "source": [
    "root = TreeNode(3)\n",
    "root.left = TreeNode(9)\n",
    "root.right = TreeNode(20)\n",
    "root.left.right = TreeNode(15)\n",
    "root.right.right = TreeNode(7)\n",
    "\n",
    "max_depth(root)"
   ]
  },
  {
   "cell_type": "code",
   "execution_count": 7,
   "metadata": {},
   "outputs": [],
   "source": [
    "## ANother solution\n",
    "\n",
    "from collections import deque\n",
    "\n",
    "def max_depth(root: TreeNode):\n",
    "    if not root:\n",
    "        return 0\n",
    "\n",
    "    q = deque([(root, 1)])  # Store nodes along with their depth\n",
    "    max_depth = 0\n",
    "\n",
    "    while q:\n",
    "        node, depth = q.popleft()\n",
    "        max_depth = max(max_depth, depth)\n",
    "\n",
    "        if node.left:\n",
    "            q.append((node.left, depth + 1))\n",
    "        if node.right:\n",
    "            q.append((node.right, depth + 1))\n",
    "\n",
    "    return max_depth"
   ]
  },
  {
   "cell_type": "code",
   "execution_count": null,
   "metadata": {},
   "outputs": [],
   "source": []
  }
 ],
 "metadata": {
  "kernelspec": {
   "display_name": "Python 3",
   "language": "python",
   "name": "python3"
  },
  "language_info": {
   "codemirror_mode": {
    "name": "ipython",
    "version": 3
   },
   "file_extension": ".py",
   "mimetype": "text/x-python",
   "name": "python",
   "nbconvert_exporter": "python",
   "pygments_lexer": "ipython3",
   "version": "3.11.9"
  }
 },
 "nbformat": 4,
 "nbformat_minor": 2
}
