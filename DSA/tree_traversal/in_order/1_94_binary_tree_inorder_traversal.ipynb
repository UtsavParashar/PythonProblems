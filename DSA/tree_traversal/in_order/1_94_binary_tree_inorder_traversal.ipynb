{
 "cells": [
  {
   "cell_type": "markdown",
   "metadata": {},
   "source": [
    "#### 94. Binary Tree Inorder Traversal\n",
    "\n",
    "* Given the root of a binary tree, return the inorder traversal of its nodes' values.\n",
    "\n",
    "* Inorder traversal means L, M, R"
   ]
  },
  {
   "cell_type": "code",
   "execution_count": 2,
   "metadata": {},
   "outputs": [],
   "source": [
    "\n",
    "class TreeNode:\n",
    "    def __init__(self, val=0, left=None, right=None):\n",
    "        self.val = val\n",
    "        self.left = left\n",
    "        self.right = right\n",
    "    def __repr__(self):\n",
    "        return f'{self.val}, {self.left}, {self.right}'"
   ]
  },
  {
   "cell_type": "code",
   "execution_count": 3,
   "metadata": {},
   "outputs": [],
   "source": [
    "def inorderTraversal(root: TreeNode) -> list[int]:\n",
    "    if not root:\n",
    "        return []\n",
    "    \n",
    "    return inorderTraversal(root.left) + [root.val] + inorderTraversal(root.right)"
   ]
  },
  {
   "cell_type": "code",
   "execution_count": 3,
   "metadata": {},
   "outputs": [
    {
     "data": {
      "text/plain": [
       "[4, 2, 6, 5, 7, 1, 3, 9, 8]"
      ]
     },
     "execution_count": 3,
     "metadata": {},
     "output_type": "execute_result"
    }
   ],
   "source": [
    "root = TreeNode(1)\n",
    "root.left = TreeNode(2)\n",
    "root.left.left = TreeNode(4)\n",
    "root.left.right = TreeNode(5)\n",
    "root.left.right.left = TreeNode(6)\n",
    "root.left.right.right = TreeNode(7)\n",
    "root.right = TreeNode(3)\n",
    "root.right.right = TreeNode(8)\n",
    "root.right.right.left = TreeNode(9)\n",
    "\n",
    "inorderTraversal(root)"
   ]
  },
  {
   "cell_type": "code",
   "execution_count": 8,
   "metadata": {},
   "outputs": [],
   "source": [
    "### Iterative solution\n",
    "\n",
    "def inorderTraversal(root: TreeNode) -> list[int]:\n",
    "    stack, res = [], []\n",
    "\n",
    "    while stack or root:\n",
    "        if root:\n",
    "            stack.append(root)\n",
    "            root = root.left\n",
    "        else:\n",
    "            root = stack.pop()\n",
    "            res.append(root.val)\n",
    "            root = root.right\n",
    "\n",
    "    return res\n",
    "            "
   ]
  },
  {
   "cell_type": "code",
   "execution_count": 9,
   "metadata": {},
   "outputs": [
    {
     "data": {
      "text/plain": [
       "[4, 2, 6, 5, 7, 1, 3, 9, 8]"
      ]
     },
     "execution_count": 9,
     "metadata": {},
     "output_type": "execute_result"
    }
   ],
   "source": [
    "root = TreeNode(1)\n",
    "root.left = TreeNode(2)\n",
    "root.left.left = TreeNode(4)\n",
    "root.left.right = TreeNode(5)\n",
    "root.left.right.left = TreeNode(6)\n",
    "root.left.right.right = TreeNode(7)\n",
    "root.right = TreeNode(3)\n",
    "root.right.right = TreeNode(8)\n",
    "root.right.right.left = TreeNode(9)\n",
    "\n",
    "inorderTraversal(root)"
   ]
  },
  {
   "cell_type": "markdown",
   "metadata": {},
   "source": [
    "##### Explanation of iterative sol\n",
    "\n",
    "The active selection is a Python implementation of an in-order traversal for a binary tree using an iterative approach. In-order traversal means visiting the left subtree, then the root node, and finally the right subtree. This implementation avoids recursion by using a stack to keep track of nodes that need to be revisited.\n",
    "\n",
    "Step-by-Step Explanation:\n",
    "Initialization: The loop while stack or root ensures that the traversal continues as long as there are nodes to process. The stack is used to store nodes temporarily, and root represents the current node being processed.\n",
    "\n",
    "Traversing Left Subtree:\n",
    "\n",
    "The if root block checks if the current node (root) is not None. If it exists, the node is pushed onto the stack using stack.append(root). This saves the node for later processing after its left subtree is fully traversed.\n",
    "Then, root = root.left moves the pointer to the left child of the current node, continuing the traversal down the left subtree.\n",
    "Processing the Node:\n",
    "\n",
    "When root becomes None (indicating the leftmost node has been reached), the else block executes. The last node added to the stack is popped using stack.pop(), which retrieves the most recently visited node that still needs processing.\n",
    "The value of this node (root.val) is appended to the result list res, as this is the correct point in the traversal to visit the node.\n",
    "Traversing Right Subtree:\n",
    "\n",
    "After processing the current node, root = root.right moves the pointer to the right child of the node. This begins the traversal of the right subtree.\n",
    "Loop Continuation:\n",
    "\n",
    "The loop repeats, alternating between traversing left subtrees, processing nodes, and traversing right subtrees until both the stack is empty and root is None. At this point, all nodes have been visited in in-order sequence.\n",
    "Returning the Result:\n",
    "\n",
    "Finally, the result list res, which contains the values of the nodes in in-order traversal order, is returned.\n",
    "Key Points:\n",
    "The stack is crucial for simulating the recursive behavior of in-order traversal, allowing the algorithm to backtrack to parent nodes after reaching the leftmost node.\n",
    "The root pointer dynamically switches between the current node, its left child, and its right child, ensuring all nodes are visited in the correct order.\n",
    "This iterative approach is more memory-efficient than recursion for deep trees, as it avoids the risk of a stack overflow caused by excessive recursive calls.\n",
    "This implementation is concise and efficient, leveraging the stack to manage traversal state explicitly."
   ]
  },
  {
   "cell_type": "code",
   "execution_count": null,
   "metadata": {},
   "outputs": [],
   "source": []
  }
 ],
 "metadata": {
  "kernelspec": {
   "display_name": "Python 3",
   "language": "python",
   "name": "python3"
  },
  "language_info": {
   "codemirror_mode": {
    "name": "ipython",
    "version": 3
   },
   "file_extension": ".py",
   "mimetype": "text/x-python",
   "name": "python",
   "nbconvert_exporter": "python",
   "pygments_lexer": "ipython3",
   "version": "3.11.9"
  }
 },
 "nbformat": 4,
 "nbformat_minor": 2
}
