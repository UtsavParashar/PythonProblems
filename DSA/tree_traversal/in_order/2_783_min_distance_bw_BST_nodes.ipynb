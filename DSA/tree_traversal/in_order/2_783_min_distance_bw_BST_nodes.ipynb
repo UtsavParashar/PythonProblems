{
 "cells": [
  {
   "cell_type": "markdown",
   "metadata": {},
   "source": [
    "#### 783. Minimum Distance Between BST Nodes\n",
    "\n",
    "* Given the root of a Binary Search Tree (BST), return the minimum difference between the values of any two different nodes in the tree.\n",
    "\n",
    "- Example\n",
    "- Input: root = [4,2,6,1,3]\n",
    "- Output: 1"
   ]
  },
  {
   "cell_type": "code",
   "execution_count": 2,
   "metadata": {},
   "outputs": [],
   "source": [
    "class TreeNode:\n",
    "    def __init__(self, val=0, left=None, right=None):\n",
    "        self.val = val\n",
    "        self.left = left\n",
    "        self.right = right\n",
    "    def __repr__(self):\n",
    "        return f'{self.val}, {self.left}, {self.right}'"
   ]
  },
  {
   "cell_type": "code",
   "execution_count": null,
   "metadata": {},
   "outputs": [],
   "source": [
    "def min_diff_in_bst(root: TreeNode) -> int:\n",
    "    res, stack = [], []\n",
    "\n",
    "    while root or stack:\n",
    "        if root:\n",
    "            stack.append(root)\n",
    "            root = root.left\n",
    "        else:\n",
    "            root = stack.pop()\n",
    "            res.append(root.val)\n",
    "            root = root.right\n",
    "\n",
    "    min_val = float('inf')\n",
    "    for i in range(1,len(res)):\n",
    "        min_val = min(min_val, res[i]-res[i-1])\n",
    "\n",
    "    return min_val"
   ]
  },
  {
   "cell_type": "code",
   "execution_count": 16,
   "metadata": {},
   "outputs": [
    {
     "name": "stdout",
     "output_type": "stream",
     "text": [
      "[4, 2, 1]\n",
      "[4, 2]\n",
      "[4, 3]\n",
      "[4]\n",
      "[6]\n"
     ]
    },
    {
     "data": {
      "text/plain": [
       "1"
      ]
     },
     "execution_count": 16,
     "metadata": {},
     "output_type": "execute_result"
    }
   ],
   "source": [
    "root = TreeNode(4)\n",
    "root.left = TreeNode(2)\n",
    "root.left.left = TreeNode(1)\n",
    "root.left.right = TreeNode(3)\n",
    "root.right = TreeNode(6)\n",
    "\n",
    "min_diff_in_bst(root)"
   ]
  },
  {
   "cell_type": "code",
   "execution_count": null,
   "metadata": {},
   "outputs": [],
   "source": [
    "### Optimized code by co pilot\n",
    "\n",
    "def min_diff_in_bst(root: TreeNode) -> int:\n",
    "    stack, prev, min_val = [], None, float('inf')\n",
    "\n",
    "    while root or stack:\n",
    "        while root:\n",
    "            stack.append(root)  # Traverse to the leftmost node, pushing nodes onto the stack\n",
    "            root = root.left\n",
    "        root = stack.pop()  # Process the node at the top of the stack\n",
    "        if prev is not None:\n",
    "            min_val = min(min_val, root.val - prev)  # Update the minimum difference\n",
    "        prev = root.val  # Update the previous node value\n",
    "        root = root.right  # Move to the right subtree\n",
    "\n",
    "    return min_val"
   ]
  },
  {
   "cell_type": "markdown",
   "metadata": {},
   "source": [
    "Explanation of Co pilot code\n",
    "\n",
    "This code calculates the minimum difference between the values of any two nodes in a Binary Search Tree (BST) using an in-order traversal. Let me explain it step by step in simple terms.\n",
    "\n",
    "Key Concepts:\n",
    "Binary Search Tree (BST):\n",
    "\n",
    "In a BST, for any node:\n",
    "All values in the left subtree are smaller.\n",
    "All values in the right subtree are larger.\n",
    "An in-order traversal of a BST visits the nodes in sorted order.\n",
    "Goal:\n",
    "\n",
    "Find the smallest difference between the values of any two nodes in the BST.\n",
    "Approach:\n",
    "\n",
    "Use an iterative in-order traversal with a stack to visit nodes in sorted order.\n",
    "Keep track of the previous node's value (prev) to calculate the difference with the current node's value.\n",
    "Update the minimum difference (min_val) as you traverse the tree.\n",
    "Step-by-Step Explanation:\n",
    "1. Initialization:\n",
    "stack: Used to simulate recursion and store nodes while traversing the tree.\n",
    "prev: Stores the value of the previously visited node during the traversal.\n",
    "min_val: Keeps track of the smallest difference found so far, initialized to infinity (float('inf')).\n",
    "2. Outer While Loop:\n",
    "This loop continues as long as there are nodes to process (root) or nodes stored in the stack.\n",
    "It ensures that all nodes in the tree are visited.\n",
    "3. Traverse to the Leftmost Node:\n",
    "This inner loop moves to the leftmost node of the current subtree.\n",
    "Along the way, it pushes nodes onto the stack to remember the path back up the tree.\n",
    "4. Process the Node:\n",
    "Once the leftmost node is reached, the top node is popped from the stack for processing.\n",
    "This is the current node in the in-order traversal.\n",
    "5. Calculate the Minimum Difference:\n",
    "If a previous node (prev) exists, calculate the difference between the current node's value (root.val) and the previous node's value.\n",
    "Update min_val if this difference is smaller than the current min_val.\n",
    "Update prev to the current node's value for the next iteration.\n",
    "6. Move to the Right Subtree:\n",
    "After processing the current node, move to its right child to continue the in-order traversal.\n",
    "7. Return the Result:\n",
    "After the traversal is complete, min_val contains the smallest difference between any two nodes in the BST.\n",
    "Example Walkthrough:\n",
    "Input:\n",
    "Execution:\n",
    "Initialization:\n",
    "\n",
    "stack = [], prev = None, min_val = float('inf')\n",
    "In-Order Traversal:\n",
    "\n",
    "Traverse to the leftmost node:\n",
    "Push 4 → Push 2 → Push 1\n",
    "Process 1:\n",
    "prev = None, so no difference is calculated.\n",
    "Update prev = 1.\n",
    "Process 2:\n",
    "Difference = 2 - 1 = 1.\n",
    "Update min_val = 1, prev = 2.\n",
    "Process 3:\n",
    "Difference = 3 - 2 = 1.\n",
    "min_val remains 1, prev = 3.\n",
    "Process 4:\n",
    "Difference = 4 - 3 = 1.\n",
    "min_val remains 1, prev = 4.\n",
    "Process 6:\n",
    "Difference = 6 - 4 = 2.\n",
    "min_val remains 1, prev = 6.\n",
    "Return Result:\n",
    "\n",
    "min_val = 1.\n",
    "Complexity:\n",
    "Time Complexity: O(n):\n",
    "\n",
    "Each node is visited exactly once during the in-order traversal.\n",
    "Space Complexity: O(h):\n",
    "\n",
    "The stack stores at most h nodes, where h is the height of the tree.\n",
    "In the worst case (skewed tree), h = n. In the best case (balanced tree), h = log(n).\n",
    "Summary:\n",
    "This code performs an in-order traversal of the BST to visit nodes in sorted order.\n",
    "It calculates the minimum difference between consecutive nodes during the traversal.\n",
    "The use of a stack ensures an iterative approach, avoiding recursion and reducing memory usage."
   ]
  },
  {
   "cell_type": "code",
   "execution_count": null,
   "metadata": {},
   "outputs": [],
   "source": []
  }
 ],
 "metadata": {
  "kernelspec": {
   "display_name": "Python 3",
   "language": "python",
   "name": "python3"
  },
  "language_info": {
   "codemirror_mode": {
    "name": "ipython",
    "version": 3
   },
   "file_extension": ".py",
   "mimetype": "text/x-python",
   "name": "python",
   "nbconvert_exporter": "python",
   "pygments_lexer": "ipython3",
   "version": "3.11.9"
  }
 },
 "nbformat": 4,
 "nbformat_minor": 2
}
