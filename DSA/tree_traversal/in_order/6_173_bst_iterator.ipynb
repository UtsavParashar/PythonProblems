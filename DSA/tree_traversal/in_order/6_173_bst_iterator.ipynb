{
 "cells": [
  {
   "cell_type": "markdown",
   "id": "8604d3ab",
   "metadata": {},
   "source": [
    "#### 173. Binary Search Tree Iterator\n",
    "* https://leetcode.com/problems/binary-search-tree-iterator/description/"
   ]
  },
  {
   "cell_type": "code",
   "execution_count": 5,
   "id": "b900d321",
   "metadata": {},
   "outputs": [],
   "source": [
    "## Credit - https://www.youtube.com/watch?v=RXy5RzGF5wo\n",
    "\n",
    "class TreeNode:\n",
    "    def __init__(self, val=0, left=None, right=None):\n",
    "        self.val = val\n",
    "        self.left = left\n",
    "        self.right = right\n",
    "class BSTIterator:\n",
    "    def __init__(self, root):\n",
    "        self.stack = []\n",
    "        while root:\n",
    "            self.stack.append(root)\n",
    "            root = root.left\n",
    "\n",
    "    def next(self) -> int:\n",
    "        res = self.stack.pop()\n",
    "        curr = res.right\n",
    "        while curr:\n",
    "            self.stack.append(curr)\n",
    "            curr = curr.left\n",
    "        return res.val\n",
    "\n",
    "\n",
    "    def hasNext(self) -> bool:\n",
    "        return bool(self.stack)"
   ]
  }
 ],
 "metadata": {
  "kernelspec": {
   "display_name": "Python 3",
   "language": "python",
   "name": "python3"
  },
  "language_info": {
   "codemirror_mode": {
    "name": "ipython",
    "version": 3
   },
   "file_extension": ".py",
   "mimetype": "text/x-python",
   "name": "python",
   "nbconvert_exporter": "python",
   "pygments_lexer": "ipython3",
   "version": "3.11.9"
  }
 },
 "nbformat": 4,
 "nbformat_minor": 5
}
