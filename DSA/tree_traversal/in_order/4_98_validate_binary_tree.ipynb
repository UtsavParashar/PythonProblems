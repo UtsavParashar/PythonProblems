{
 "cells": [
  {
   "cell_type": "markdown",
   "id": "f9435d12",
   "metadata": {},
   "source": [
    "#### 98. Validate Binary Search Tree\n",
    "\n",
    "* https://leetcode.com/problems/validate-binary-search-tree/description/\n",
    "\n",
    "#### ['Bloomberg', 'SIG', 'Meta', 'Amazon', 'Apple', 'Uber']"
   ]
  },
  {
   "cell_type": "code",
   "execution_count": null,
   "id": "cd6c8ab5",
   "metadata": {},
   "outputs": [],
   "source": [
    "## DFS Bound\n",
    "## TC - O(n)\n",
    "## SC - O(h)\n",
    "## Credit - https://www.youtube.com/watch?v=s6ATEkipzow\n",
    "## Credit - https://chatgpt.com/c/68e3515d-d388-8321-84be-78f0640b18f7\n",
    "\n",
    "class TreeNode:\n",
    "    def __init__(self, val=0, left=None, right=None):\n",
    "        self.val = val\n",
    "        self.left = left\n",
    "        self.right = right\n",
    "class Solution:\n",
    "    def isValidBST(self, root) -> bool:\n",
    "        def helper(node, low, high):\n",
    "            # Leaf Nodes\n",
    "            if not node:\n",
    "                return True\n",
    "\n",
    "            # node should lie between lower bound and upper bound\n",
    "            if not low < node.val < high:\n",
    "                return False\n",
    "\n",
    "            # for left node bound is low and current nodes value\n",
    "            # for right node, bound is current nodes value and high \n",
    "            return helper(node.left, low, node.val) and helper(node.right, node.val, high)\n",
    "\n",
    "        # lower and upper bound for root node is  float('-inf'), float('inf')\n",
    "        return helper(root, float('-inf'), float('inf'))"
   ]
  },
  {
   "cell_type": "code",
   "execution_count": null,
   "id": "29e0c327",
   "metadata": {},
   "outputs": [],
   "source": [
    "## Inorder Traversal\n",
    "## TC - O(n)\n",
    "## SC - O(h)\n",
    "\n",
    "class TreeNode:\n",
    "    def __init__(self, val=0, left=None, right=None):\n",
    "        self.val = val\n",
    "        self.left = left\n",
    "        self.right = right\n",
    "class Solution:\n",
    "    def isValidBST(self, root) -> bool:\n",
    "        stack, prev = [], float('-inf')\n",
    "\n",
    "        while root or stack:\n",
    "            while root:\n",
    "                stack.append(root)\n",
    "                root = root.left\n",
    "\n",
    "            root = stack.pop()\n",
    "            if root.val <= prev:\n",
    "                return False\n",
    "\n",
    "            prev = root.val\n",
    "            root = root.right\n",
    "\n",
    "        return True"
   ]
  },
  {
   "cell_type": "code",
   "execution_count": null,
   "id": "471da62a",
   "metadata": {},
   "outputs": [],
   "source": [
    "### DFS Inorder Traversal SOlution\n",
    "\n",
    "class Solution:\n",
    "    def isValidBST(self, root):\n",
    "        if not root:\n",
    "            return True\n",
    "        stack = []\n",
    "        curr = root\n",
    "        prev = float('-inf')\n",
    "        while stack or curr:\n",
    "            while curr:\n",
    "                stack.append(curr)\n",
    "                curr = curr.left\n",
    "            \n",
    "            curr = stack.pop()\n",
    "            if prev >= curr.val:\n",
    "                return False\n",
    "            \n",
    "            prev = curr.val\n",
    "            curr = curr.right\n",
    "\n",
    "        return True"
   ]
  },
  {
   "cell_type": "code",
   "execution_count": null,
   "id": "aa8d80ce",
   "metadata": {},
   "outputs": [],
   "source": [
    "# Optimized \n",
    "class TreeNode:\n",
    "    def __init__(self, val=0, left=None, right=None):\n",
    "        self.val = val\n",
    "        self.left = left\n",
    "        self.right = right\n",
    "\n",
    "def is_valid_bst(root):\n",
    "    prev = None\n",
    "\n",
    "    def inorder(node):\n",
    "        nonlocal prev\n",
    "        if not node:\n",
    "            return True\n",
    "        if not inorder(node.left):\n",
    "            return False\n",
    "        if prev is not None and node.val <= prev:\n",
    "            return False\n",
    "        prev = node.val\n",
    "        return inorder(node.right)\n",
    "\n",
    "    return inorder(root)\n",
    "    "
   ]
  },
  {
   "cell_type": "code",
   "execution_count": 19,
   "id": "d5b16a01",
   "metadata": {},
   "outputs": [],
   "source": [
    "## Credit - https://www.youtube.com/watch?v=s6ATEkipzow\n",
    "\n",
    "def is_valid_bst1(root):\n",
    "    def valid(node, left, right):\n",
    "        if not node: # Empty binary tree is a bst\n",
    "            return True \n",
    "        \n",
    "        if not left < node.val < right:\n",
    "            return False\n",
    "        \n",
    "        return valid(node.left, left, node.val) and valid(node.right, node.val, right)\n",
    "    \n",
    "    return valid(root, float('-inf'), float('inf'))"
   ]
  },
  {
   "cell_type": "code",
   "execution_count": 20,
   "id": "4afe2048",
   "metadata": {},
   "outputs": [
    {
     "data": {
      "text/plain": [
       "False"
      ]
     },
     "execution_count": 20,
     "metadata": {},
     "output_type": "execute_result"
    }
   ],
   "source": [
    "root = TreeNode(4)\n",
    "root.left = TreeNode(5)\n",
    "root.right = TreeNode(6)\n",
    "\n"
   ]
  },
  {
   "cell_type": "code",
   "execution_count": 21,
   "id": "0b0b9248",
   "metadata": {},
   "outputs": [
    {
     "name": "stdout",
     "output_type": "stream",
     "text": [
      "508 ns ± 57.3 ns per loop (mean ± std. dev. of 7 runs, 1,000,000 loops each)\n"
     ]
    }
   ],
   "source": [
    "%%timeit \n",
    "is_valid_bst1(root)"
   ]
  },
  {
   "cell_type": "code",
   "execution_count": 22,
   "id": "12cf7a3d",
   "metadata": {},
   "outputs": [
    {
     "name": "stdout",
     "output_type": "stream",
     "text": [
      "442 ns ± 11.7 ns per loop (mean ± std. dev. of 7 runs, 1,000,000 loops each)\n"
     ]
    }
   ],
   "source": [
    "%%timeit \n",
    "is_valid_bst(root)"
   ]
  },
  {
   "cell_type": "code",
   "execution_count": null,
   "id": "b671d638",
   "metadata": {},
   "outputs": [],
   "source": []
  }
 ],
 "metadata": {
  "kernelspec": {
   "display_name": "Python 3",
   "language": "python",
   "name": "python3"
  },
  "language_info": {
   "codemirror_mode": {
    "name": "ipython",
    "version": 3
   },
   "file_extension": ".py",
   "mimetype": "text/x-python",
   "name": "python",
   "nbconvert_exporter": "python",
   "pygments_lexer": "ipython3",
   "version": "3.11.9"
  }
 },
 "nbformat": 4,
 "nbformat_minor": 5
}
