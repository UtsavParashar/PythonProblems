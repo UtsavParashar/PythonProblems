{
 "cells": [
  {
   "cell_type": "markdown",
   "metadata": {},
   "source": [
    "#### 530. Minimum Absolute Difference in BST\n",
    "\n",
    "Given the root of a Binary Search Tree (BST), return the minimum absolute difference between the values of any two different nodes in the tree.\n",
    "\n",
    "Input: root = [4,2,6,1,3]\n",
    "Output: 1"
   ]
  },
  {
   "cell_type": "code",
   "execution_count": 1,
   "metadata": {},
   "outputs": [],
   "source": [
    "class TreeNode:\n",
    "    def __init__(self, val=0, left=None, right=None):\n",
    "        self.val = val\n",
    "        self.left = left\n",
    "        self.right = right\n",
    "    def __repr__(self):\n",
    "        return f'{self.val}, {self.left}, {self.right}'"
   ]
  },
  {
   "cell_type": "code",
   "execution_count": 3,
   "metadata": {},
   "outputs": [],
   "source": [
    "def getMinimumDifference(root: TreeNode) -> int:\n",
    "    prev, min_val = None, float('inf')\n",
    "\n",
    "    def inorder(root):\n",
    "        nonlocal prev, min_val  # Declare nonlocal variables\n",
    "        if not root:\n",
    "            return\n",
    "\n",
    "        inorder(root.left)\n",
    "\n",
    "        if prev is not None:  # Ensure prev is not None before subtraction\n",
    "            min_val = min(min_val, root.val - prev)\n",
    "\n",
    "        prev = root.val\n",
    "        inorder(root.right)\n",
    "\n",
    "    inorder(root)\n",
    "    return min_val"
   ]
  },
  {
   "cell_type": "code",
   "execution_count": 4,
   "metadata": {},
   "outputs": [
    {
     "data": {
      "text/plain": [
       "1"
      ]
     },
     "execution_count": 4,
     "metadata": {},
     "output_type": "execute_result"
    }
   ],
   "source": [
    "root = TreeNode(4)\n",
    "root.left = TreeNode(2)\n",
    "root.left.left = TreeNode(1)\n",
    "root.left.right = TreeNode(3)\n",
    "root.right = TreeNode(6)\n",
    "\n",
    "getMinimumDifference(root)"
   ]
  },
  {
   "cell_type": "code",
   "execution_count": 11,
   "metadata": {},
   "outputs": [],
   "source": [
    "#### Optmized by copilot\n",
    "\n",
    "def getMinimumDifference(root: TreeNode) -> int:\n",
    "    prev, min_val = -float('inf'), float('inf')\n",
    "\n",
    "    def inorder(root):\n",
    "        nonlocal prev, min_val  # Declare nonlocal variables\n",
    "        if root:\n",
    "            inorder(root.left)\n",
    "\n",
    "            # Update the minimum difference\n",
    "            min_val = min(min_val, root.val - prev)\n",
    "            prev = root.val\n",
    "\n",
    "            inorder(root.right)\n",
    "\n",
    "    inorder(root)\n",
    "    return min_val"
   ]
  },
  {
   "cell_type": "code",
   "execution_count": 14,
   "metadata": {},
   "outputs": [
    {
     "data": {
      "text/plain": [
       "4"
      ]
     },
     "execution_count": 14,
     "metadata": {},
     "output_type": "execute_result"
    }
   ],
   "source": [
    "def sqrt(x):\n",
    "    l, r = 0, x//2\n",
    "\n",
    "    while l <= r:\n",
    "        m = (l + r) // 2\n",
    "        sqr = m * m\n",
    "        if sqr == x:\n",
    "            return m\n",
    "        elif sqr < x:\n",
    "            l = m + 1\n",
    "        else:\n",
    "            r = m - 1\n",
    "\n",
    "    return r  # Return r for integer part of sqrt\n",
    "\n",
    "sqrt(17)"
   ]
  },
  {
   "cell_type": "code",
   "execution_count": null,
   "metadata": {},
   "outputs": [],
   "source": []
  },
  {
   "cell_type": "code",
   "execution_count": null,
   "metadata": {},
   "outputs": [],
   "source": []
  }
 ],
 "metadata": {
  "kernelspec": {
   "display_name": "Python 3",
   "language": "python",
   "name": "python3"
  },
  "language_info": {
   "codemirror_mode": {
    "name": "ipython",
    "version": 3
   },
   "file_extension": ".py",
   "mimetype": "text/x-python",
   "name": "python",
   "nbconvert_exporter": "python",
   "pygments_lexer": "ipython3",
   "version": "3.11.9"
  }
 },
 "nbformat": 4,
 "nbformat_minor": 2
}
