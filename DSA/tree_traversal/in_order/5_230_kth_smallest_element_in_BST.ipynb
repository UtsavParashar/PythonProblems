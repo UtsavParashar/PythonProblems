{
 "cells": [
  {
   "cell_type": "markdown",
   "id": "9403dffa",
   "metadata": {},
   "source": [
    "#### 230. Kth Smallest Element in a BST\n",
    "\n",
    "* https://leetcode.com/problems/kth-smallest-element-in-a-bst/description/"
   ]
  },
  {
   "cell_type": "code",
   "execution_count": 18,
   "id": "602b612e",
   "metadata": {},
   "outputs": [],
   "source": [
    "## Credit -  https://www.youtube.com/watch?v=5LUXSvjmGCw\n",
    "\n",
    "class TreeNode:\n",
    "    def __init__(self, val=0, left=None, right=None):\n",
    "        self.val = val\n",
    "        self.left = left\n",
    "        self.right = right\n",
    "\n",
    "def kth_smallest(root, k):\n",
    "    curr = root\n",
    "    stack = []\n",
    "    n = 0\n",
    "\n",
    "    while curr or stack:\n",
    "        while curr:\n",
    "            stack.append(curr)\n",
    "            curr = curr.left\n",
    "\n",
    "        curr = stack.pop()\n",
    "        n += 1\n",
    "        if n == k: \n",
    "            return curr.val\n",
    "\n",
    "        curr = curr.right\n"
   ]
  },
  {
   "cell_type": "code",
   "execution_count": 19,
   "id": "f0ccd63a",
   "metadata": {},
   "outputs": [],
   "source": [
    "root = TreeNode(4)\n",
    "root.left = TreeNode(5)\n",
    "root.right = TreeNode(6)\n",
    "\n",
    "kth_smallest(root, 4)"
   ]
  },
  {
   "cell_type": "code",
   "execution_count": null,
   "id": "4c750db6",
   "metadata": {},
   "outputs": [],
   "source": []
  }
 ],
 "metadata": {
  "kernelspec": {
   "display_name": "Python 3",
   "language": "python",
   "name": "python3"
  },
  "language_info": {
   "codemirror_mode": {
    "name": "ipython",
    "version": 3
   },
   "file_extension": ".py",
   "mimetype": "text/x-python",
   "name": "python",
   "nbconvert_exporter": "python",
   "pygments_lexer": "ipython3",
   "version": "3.11.9"
  }
 },
 "nbformat": 4,
 "nbformat_minor": 5
}
