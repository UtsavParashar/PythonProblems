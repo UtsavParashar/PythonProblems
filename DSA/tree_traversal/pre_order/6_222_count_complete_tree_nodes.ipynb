{
 "cells": [
  {
   "cell_type": "markdown",
   "id": "b01a969b",
   "metadata": {},
   "source": [
    "#### 222. Count Complete Tree Nodes\n",
    "\n",
    "* https://leetcode.com/problems/count-complete-tree-nodes/description/"
   ]
  },
  {
   "cell_type": "code",
   "execution_count": 5,
   "id": "07777523",
   "metadata": {},
   "outputs": [],
   "source": [
    "class TreeNode:\n",
    "    def __init__(self, val=0, left=None, right=None):\n",
    "        self.val = val\n",
    "        self.left = left\n",
    "        self.right = right\n",
    "\n",
    "# O(n) Solution\n",
    "def count_nodes(root):\n",
    "    count = 0\n",
    "\n",
    "    def dfs(node):\n",
    "        nonlocal count\n",
    "        if not node:\n",
    "            return None\n",
    "        \n",
    "        count += 1\n",
    "        if node.left:\n",
    "            dfs(node.left)\n",
    "        if node.right:\n",
    "            dfs(node.right)\n",
    "\n",
    "    dfs(root)\n",
    "\n",
    "    return count\n",
    "    "
   ]
  },
  {
   "cell_type": "code",
   "execution_count": 16,
   "id": "e8cf6cc5",
   "metadata": {},
   "outputs": [
    {
     "data": {
      "text/plain": [
       "5"
      ]
     },
     "execution_count": 16,
     "metadata": {},
     "output_type": "execute_result"
    }
   ],
   "source": [
    "root = TreeNode(1)\n",
    "root.left = TreeNode(2)\n",
    "root.right = TreeNode(3)\n",
    "root.left.left = TreeNode(4)\n",
    "root.left.right = TreeNode(5)\n",
    "\n",
    "\n",
    "count_nodes(root)"
   ]
  },
  {
   "cell_type": "code",
   "execution_count": null,
   "id": "2e5aa0a7",
   "metadata": {},
   "outputs": [],
   "source": [
    "## Credit - https://www.youtube.com/watch?v=JxIf7Rs9nPw\n",
    "\n",
    "## O(n) solution\n",
    "def count_nodes(root):\n",
    "    if not root: return 0\n",
    "    return  1+ count_nodes(root.left) + count_nodes(root.right)"
   ]
  },
  {
   "cell_type": "code",
   "execution_count": null,
   "id": "998d8e2f",
   "metadata": {},
   "outputs": [],
   "source": [
    "# O(logn * logn) Solution\n",
    "\n",
    "# logic - \n",
    "# find the height of the left subtree\n",
    "# find the height of the right subtree\n",
    "# if the height of left subtree and right subtree is same then number of node = (2**h)-1\n",
    "# if the height of right subtree is less then right subtree then find the left nodes count\n",
    "\n",
    "def count_nodes(root):\n",
    "    if not root: return 0\n",
    "    \n",
    "    def lheight(node):\n",
    "        if not node: return 0\n",
    "        return 1+lheight(node.left)\n",
    "    \n",
    "    def rheight(node):\n",
    "        if not node: return 0\n",
    "        return 1+rheight(node.right)\n",
    "    \n",
    "\n",
    "    l, r = lheight(root), rheight(root)\n",
    "\n",
    "    if l == r:\n",
    "        return (2**l)-1\n",
    "    else: # l>r\n",
    "        return 1+count_nodes(root.left)+count_nodes(root.right)\n"
   ]
  },
  {
   "cell_type": "code",
   "execution_count": null,
   "id": "44752d39",
   "metadata": {},
   "outputs": [],
   "source": []
  }
 ],
 "metadata": {
  "kernelspec": {
   "display_name": "Python 3",
   "language": "python",
   "name": "python3"
  },
  "language_info": {
   "codemirror_mode": {
    "name": "ipython",
    "version": 3
   },
   "file_extension": ".py",
   "mimetype": "text/x-python",
   "name": "python",
   "nbconvert_exporter": "python",
   "pygments_lexer": "ipython3",
   "version": "3.11.9"
  }
 },
 "nbformat": 4,
 "nbformat_minor": 5
}
