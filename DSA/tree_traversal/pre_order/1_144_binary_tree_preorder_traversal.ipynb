{
 "cells": [
  {
   "cell_type": "markdown",
   "metadata": {},
   "source": [
    "#### 144. Binary Tree Preorder Traversal\n",
    "* https://leetcode.com/problems/binary-tree-preorder-traversal/description/\n",
    "* Given the root of a binary tree, return the preorder traversal of its nodes' values.\n",
    "\n",
    "- Example 1:\n",
    "- Input: root = [1,null,2,3]\n",
    "- Output: [1,2,3]"
   ]
  },
  {
   "cell_type": "code",
   "execution_count": 6,
   "metadata": {},
   "outputs": [],
   "source": [
    "class TreeNode:\n",
    "    def __init__(self, val=0, left=None, right=None):\n",
    "        self.val = val\n",
    "        self.left = left\n",
    "        self.right = right\n",
    "    def __repr__(self):\n",
    "        return f'{self.val}, {self.left}, {self.right}'"
   ]
  },
  {
   "cell_type": "code",
   "execution_count": 4,
   "metadata": {},
   "outputs": [],
   "source": [
    "### Recursive Solution\n",
    "\n",
    "def preorder_recursive(root: TreeNode):\n",
    "    res = []\n",
    "\n",
    "    def inner(node):\n",
    "        if node:\n",
    "            res.append(node.val)\n",
    "            inner(node.left)\n",
    "            inner(node.right)\n",
    "    \n",
    "    inner(root)\n",
    "    return res\n",
    "    "
   ]
  },
  {
   "cell_type": "code",
   "execution_count": 7,
   "metadata": {},
   "outputs": [],
   "source": [
    "def preorder_recursive(root: TreeNode):\n",
    "    if not root:\n",
    "        return []\n",
    "    return [root.val] + preorder_recursive(root.left) + preorder_recursive(root.right)\n"
   ]
  },
  {
   "cell_type": "code",
   "execution_count": 8,
   "metadata": {},
   "outputs": [
    {
     "data": {
      "text/plain": [
       "[1, 2, 4, 5, 6, 7, 3, 8, 9]"
      ]
     },
     "execution_count": 8,
     "metadata": {},
     "output_type": "execute_result"
    }
   ],
   "source": [
    "root = TreeNode(1)\n",
    "root.left = TreeNode(2)\n",
    "root.left.left = TreeNode(4)\n",
    "root.left.right = TreeNode(5)\n",
    "root.left.right.left = TreeNode(6)\n",
    "root.left.right.right = TreeNode(7)\n",
    "root.right = TreeNode(3)\n",
    "root.right.right = TreeNode(8)\n",
    "root.right.right.left = TreeNode(9)\n",
    "\n",
    "\n",
    "preorder_recursive(root)"
   ]
  },
  {
   "cell_type": "code",
   "execution_count": 14,
   "metadata": {},
   "outputs": [],
   "source": [
    "# https://www.youtube.com/watch?v=afTpieEZXck\n",
    "\n",
    "def preorder_iterative(root: TreeNode):\n",
    "    stack, res = [], []\n",
    "\n",
    "    while root or stack:\n",
    "        if root:\n",
    "            res.append(root.val)\n",
    "            stack.append(root.right) # Storing right in stack for future use\n",
    "            root = root.left\n",
    "        else:\n",
    "            root = stack.pop()\n",
    "    \n",
    "    return res"
   ]
  },
  {
   "cell_type": "code",
   "execution_count": 16,
   "metadata": {},
   "outputs": [
    {
     "data": {
      "text/plain": [
       "[1, 2, 4, 5, 6, 7, 3, 8, 9]"
      ]
     },
     "execution_count": 16,
     "metadata": {},
     "output_type": "execute_result"
    }
   ],
   "source": [
    "root = TreeNode(1)\n",
    "root.left = TreeNode(2)\n",
    "root.left.left = TreeNode(4)\n",
    "root.left.right = TreeNode(5)\n",
    "root.left.right.left = TreeNode(6)\n",
    "root.left.right.right = TreeNode(7)\n",
    "root.right = TreeNode(3)\n",
    "root.right.right = TreeNode(8)\n",
    "root.right.right.left = TreeNode(9)\n",
    "\n",
    "\n",
    "preorder_iterative(root)"
   ]
  },
  {
   "cell_type": "code",
   "execution_count": null,
   "metadata": {},
   "outputs": [],
   "source": []
  }
 ],
 "metadata": {
  "kernelspec": {
   "display_name": "Python 3",
   "language": "python",
   "name": "python3"
  },
  "language_info": {
   "codemirror_mode": {
    "name": "ipython",
    "version": 3
   },
   "file_extension": ".py",
   "mimetype": "text/x-python",
   "name": "python",
   "nbconvert_exporter": "python",
   "pygments_lexer": "ipython3",
   "version": "3.11.9"
  }
 },
 "nbformat": 4,
 "nbformat_minor": 2
}
