{
 "cells": [
  {
   "cell_type": "markdown",
   "id": "d578183e",
   "metadata": {},
   "source": [
    "#### 112. Path Sum\n",
    "\n",
    "* https://leetcode.com/problems/path-sum/description/"
   ]
  },
  {
   "cell_type": "code",
   "execution_count": 5,
   "id": "e4d1edae",
   "metadata": {},
   "outputs": [],
   "source": [
    "## Credit - https://www.youtube.com/watch?v=Txzs2maQ_D0\n",
    "\n",
    "class TreeNode:\n",
    "    def __init__(self, val=0, left=None, right=None):\n",
    "        self.val = val\n",
    "        self.left = left\n",
    "        self.right = right\n",
    "\n",
    "def has_path_sum(root, target_sum):\n",
    "\n",
    "    def dfs(node, curr_sum):\n",
    "        if not node: return False # For the edge case root=[], targetSum =0, Output=false\n",
    "\n",
    "        curr_sum += node.val\n",
    "        if not node.left and not node.right:\n",
    "            return curr_sum == target_sum # main output\n",
    "\n",
    "        return dfs(node.left, curr_sum) or dfs(node.right, curr_sum)\n",
    "\n",
    "    return dfs(root, 0)\n"
   ]
  },
  {
   "cell_type": "code",
   "execution_count": 6,
   "id": "c37c252d",
   "metadata": {},
   "outputs": [
    {
     "data": {
      "text/plain": [
       "True"
      ]
     },
     "execution_count": 6,
     "metadata": {},
     "output_type": "execute_result"
    }
   ],
   "source": [
    "root = TreeNode(5)\n",
    "root.left = TreeNode(4)\n",
    "root.right = TreeNode(8)\n",
    "root.left.left = TreeNode(11)\n",
    "root.left.left.left = TreeNode(7)\n",
    "root.left.left.right = TreeNode(2)\n",
    "root.right.left = TreeNode(13)\n",
    "root.right.right = TreeNode(4)\n",
    "root.right.right.right = TreeNode(1)\n",
    "\n",
    "\n",
    "has_path_sum(root, 22)"
   ]
  },
  {
   "cell_type": "code",
   "execution_count": null,
   "id": "9020a75f",
   "metadata": {},
   "outputs": [],
   "source": []
  }
 ],
 "metadata": {
  "kernelspec": {
   "display_name": "Python 3",
   "language": "python",
   "name": "python3"
  },
  "language_info": {
   "codemirror_mode": {
    "name": "ipython",
    "version": 3
   },
   "file_extension": ".py",
   "mimetype": "text/x-python",
   "name": "python",
   "nbconvert_exporter": "python",
   "pygments_lexer": "ipython3",
   "version": "3.11.9"
  }
 },
 "nbformat": 4,
 "nbformat_minor": 5
}
