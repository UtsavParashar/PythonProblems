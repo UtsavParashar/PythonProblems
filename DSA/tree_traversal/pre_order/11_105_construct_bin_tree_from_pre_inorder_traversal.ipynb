{
 "cells": [
  {
   "cell_type": "markdown",
   "id": "e4e8a2ec",
   "metadata": {},
   "source": [
    "#### 105. Construct Binary Tree from PreOrder and Inorder Traversal\n",
    "\n",
    "* https://leetcode.com/problems/construct-binary-tree-from-preorder-and-inorder-traversal/description/"
   ]
  },
  {
   "cell_type": "code",
   "execution_count": 1,
   "id": "229b7782",
   "metadata": {},
   "outputs": [],
   "source": [
    "# Ref - https://www.youtube.com/watch?v=ihj4IQGZ2zc\n",
    "\n",
    "class TreeNode:\n",
    "    def __init__(self, val=0, left=None, right=None):\n",
    "        self.val = val\n",
    "        self.left = left\n",
    "        self.right = right\n",
    "\n",
    "\n",
    "def buildTree(preorder, inorder):\n",
    "    if not preorder or not inorder:\n",
    "        return\n",
    "    \n",
    "    root = TreeNode(preorder[0])\n",
    "    mid = inorder.index(preorder[0])\n",
    "\n",
    "    root.left = buildTree(preorder[1:mid+1], inorder[:mid])\n",
    "    root.right = buildTree(preorder[mid+1:], inorder[mid+1:])\n",
    "\n",
    "    return root"
   ]
  },
  {
   "cell_type": "code",
   "execution_count": 9,
   "id": "362dae58",
   "metadata": {},
   "outputs": [
    {
     "name": "stdout",
     "output_type": "stream",
     "text": [
      "3\n",
      "9\n",
      "20\n",
      "15\n",
      "7\n"
     ]
    }
   ],
   "source": [
    "node = buildTree(preorder = [3,9,20,15,7], inorder = [9,3,15,20,7])\n",
    "print(node.val)\n",
    "print(node.left.val)\n",
    "print(node.right.val)\n",
    "print(node.right.left.val)\n",
    "print(node.right.right.val)"
   ]
  },
  {
   "cell_type": "code",
   "execution_count": null,
   "id": "c7d70a32",
   "metadata": {},
   "outputs": [],
   "source": []
  }
 ],
 "metadata": {
  "kernelspec": {
   "display_name": "Python 3",
   "language": "python",
   "name": "python3"
  },
  "language_info": {
   "codemirror_mode": {
    "name": "ipython",
    "version": 3
   },
   "file_extension": ".py",
   "mimetype": "text/x-python",
   "name": "python",
   "nbconvert_exporter": "python",
   "pygments_lexer": "ipython3",
   "version": "3.11.9"
  }
 },
 "nbformat": 4,
 "nbformat_minor": 5
}
