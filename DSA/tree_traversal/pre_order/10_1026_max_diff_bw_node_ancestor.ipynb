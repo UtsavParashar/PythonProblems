{
 "cells": [
  {
   "cell_type": "markdown",
   "id": "f74417fe",
   "metadata": {},
   "source": [
    "#### 1026. Max Diff Between Node and Ancestor\n",
    "\n",
    "* https://leetcode.com/problems/maximum-difference-between-node-and-ancestor/description/"
   ]
  },
  {
   "cell_type": "code",
   "execution_count": 10,
   "id": "fed55ad3",
   "metadata": {},
   "outputs": [],
   "source": [
    "## Credit - https://www.youtube.com/watch?v=Fi8285s8214\n",
    "\n",
    "class TreeNode:\n",
    "    def __init__(self, val=0, left=None, right=None):\n",
    "        self.val = val\n",
    "        self.left = left\n",
    "        self.right = right\n",
    "\n",
    "def max_ancestor_diff(root):\n",
    "    if not root: return 0\n",
    "\n",
    "    def dfs(node, max_val, min_val):\n",
    "        if not node:\n",
    "            return max_val - min_val\n",
    "\n",
    "        max_val = max(max_val, node.val)\n",
    "        min_val = min(min_val, node.val)\n",
    "\n",
    "        max_left_diff = dfs(node.left, max_val, min_val)\n",
    "        max_right_diff = dfs(node.right, max_val, min_val)\n",
    "\n",
    "        return max(max_left_diff, max_right_diff)\n",
    "\n",
    "    return dfs(root, root.val, root.val)\n"
   ]
  },
  {
   "cell_type": "code",
   "execution_count": 11,
   "id": "11a36c8d",
   "metadata": {},
   "outputs": [
    {
     "data": {
      "text/plain": [
       "12"
      ]
     },
     "execution_count": 11,
     "metadata": {},
     "output_type": "execute_result"
    }
   ],
   "source": [
    "root = TreeNode(10)\n",
    "root.left = TreeNode(5)\n",
    "root.left.left = TreeNode(3)\n",
    "root.left.left.left = TreeNode(3)\n",
    "root.left.left.right = TreeNode(-2)\n",
    "root.left.right = TreeNode(2)\n",
    "root.left.right.right = TreeNode(1)\n",
    "root.right = TreeNode(3)\n",
    "root.right.right = TreeNode(11)\n",
    "max_ancestor_diff(root)"
   ]
  },
  {
   "cell_type": "code",
   "execution_count": null,
   "id": "ae629ca9",
   "metadata": {},
   "outputs": [],
   "source": []
  }
 ],
 "metadata": {
  "kernelspec": {
   "display_name": "Python 3",
   "language": "python",
   "name": "python3"
  },
  "language_info": {
   "codemirror_mode": {
    "name": "ipython",
    "version": 3
   },
   "file_extension": ".py",
   "mimetype": "text/x-python",
   "name": "python",
   "nbconvert_exporter": "python",
   "pygments_lexer": "ipython3",
   "version": "3.11.9"
  }
 },
 "nbformat": 4,
 "nbformat_minor": 5
}
