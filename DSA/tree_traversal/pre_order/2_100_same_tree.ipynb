{
 "cells": [
  {
   "cell_type": "markdown",
   "metadata": {},
   "source": [
    "#### 100. Same Tree\n",
    "\n",
    "- Given the roots of two binary trees p and q, write a function to check if they are the same or not.\n",
    "- Two binary trees are considered the same if they are structurally identical, and the nodes have the same value."
   ]
  },
  {
   "cell_type": "code",
   "execution_count": 2,
   "metadata": {},
   "outputs": [],
   "source": [
    "class TreeNode:\n",
    "    def __init__(self, val=0, left=None, right=None):\n",
    "        self.val = val\n",
    "        self.left = left\n",
    "        self.right = right\n",
    "    def __repr__(self):\n",
    "        return f'{self.val}, {self.left}, {self.right}'"
   ]
  },
  {
   "cell_type": "code",
   "execution_count": null,
   "metadata": {},
   "outputs": [],
   "source": [
    "def is_same_tree(p: TreeNode, q:TreeNode):\n",
    "    if not p and not q: # both are pointing to null\n",
    "        return True\n",
    "\n",
    "    if not p or not q or p.val != q.val: # if node in one tree is present and not in other return false\n",
    "        return False                     # if values of the nodes does not match then return false\n",
    "\n",
    "    return is_same_tree(p.left, q.left) and is_same_tree(p.right, q.right) # check that the conditions are true for every node\n"
   ]
  },
  {
   "cell_type": "code",
   "execution_count": null,
   "metadata": {},
   "outputs": [],
   "source": [
    "# Copilot optimized\n",
    "def is_same_tree(p: TreeNode, q:TreeNode):\n",
    "    if p is None or q is None:  # if either node is None\n",
    "        return p is q           # return True if both are None, otherwise False\n",
    "\n",
    "    if p.val != q.val:          # if values of the nodes do not match\n",
    "        return False\n",
    "\n",
    "    return is_same_tree(p.left, q.left) and is_same_tree(p.right, q.right)  # recursively check left and right subtrees"
   ]
  },
  {
   "cell_type": "code",
   "execution_count": 11,
   "metadata": {},
   "outputs": [
    {
     "data": {
      "text/plain": [
       "False"
      ]
     },
     "execution_count": 11,
     "metadata": {},
     "output_type": "execute_result"
    }
   ],
   "source": [
    "p = TreeNode(1)\n",
    "p.left = TreeNode(2)\n",
    "p.right = TreeNode(3)\n",
    "\n",
    "q = TreeNode(1)\n",
    "q.left = TreeNode(2)\n",
    "#q.right = TreeNode(3)\n",
    "\n",
    "is_same_tree(p, q)\n"
   ]
  },
  {
   "cell_type": "code",
   "execution_count": 15,
   "metadata": {},
   "outputs": [
    {
     "data": {
      "text/plain": [
       "False"
      ]
     },
     "execution_count": 15,
     "metadata": {},
     "output_type": "execute_result"
    }
   ],
   "source": [
    "TreeNode(1) == TreeNode(1)"
   ]
  },
  {
   "cell_type": "code",
   "execution_count": null,
   "metadata": {},
   "outputs": [],
   "source": []
  }
 ],
 "metadata": {
  "kernelspec": {
   "display_name": "Python 3",
   "language": "python",
   "name": "python3"
  },
  "language_info": {
   "codemirror_mode": {
    "name": "ipython",
    "version": 3
   },
   "file_extension": ".py",
   "mimetype": "text/x-python",
   "name": "python",
   "nbconvert_exporter": "python",
   "pygments_lexer": "ipython3",
   "version": "3.11.9"
  }
 },
 "nbformat": 4,
 "nbformat_minor": 2
}
