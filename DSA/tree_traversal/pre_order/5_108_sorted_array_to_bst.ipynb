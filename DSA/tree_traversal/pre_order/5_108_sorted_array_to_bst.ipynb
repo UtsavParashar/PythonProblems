{
 "cells": [
  {
   "cell_type": "markdown",
   "id": "3d70f29f",
   "metadata": {},
   "source": [
    "#### 108. Convert Sorted Array to Binary Search Tree\n",
    "\n",
    "* https://leetcode.com/problems/convert-sorted-array-to-binary-search-tree/description/"
   ]
  },
  {
   "cell_type": "code",
   "execution_count": 15,
   "id": "1ab87eb2",
   "metadata": {},
   "outputs": [],
   "source": [
    "# Credit - https://www.youtube.com/watch?v=0K0uCMYq5ng\n",
    "\n",
    "class TreeNode:\n",
    "    def __init__(self, val=0, left=None, right=None):\n",
    "        self.val = val\n",
    "        self.left = left\n",
    "        self.right = right\n",
    "\n",
    "def sorted_array_to_bst(nums):\n",
    "    def dfs(l, r):\n",
    "        if l > r:\n",
    "            return None\n",
    "        m = (l+r)//2\n",
    "        node = TreeNode(nums[m])\n",
    "        node.left = dfs(l, m-1)\n",
    "        node.right = dfs(m+1, r)\n",
    "\n",
    "        return node\n",
    "\n",
    "    root = dfs(0, len(nums)-1)\n",
    "\n",
    "    return root"
   ]
  },
  {
   "cell_type": "code",
   "execution_count": 14,
   "id": "933d336a",
   "metadata": {},
   "outputs": [
    {
     "name": "stdout",
     "output_type": "stream",
     "text": [
      "0\n",
      "-10\n"
     ]
    }
   ],
   "source": [
    "root = sorted_array_to_bst(nums = [-10,-3,0,5,9])\n",
    "print(root.val)\n",
    "print(root.left.val)"
   ]
  },
  {
   "cell_type": "code",
   "execution_count": null,
   "id": "f35fbe05",
   "metadata": {},
   "outputs": [],
   "source": []
  }
 ],
 "metadata": {
  "kernelspec": {
   "display_name": "Python 3",
   "language": "python",
   "name": "python3"
  },
  "language_info": {
   "codemirror_mode": {
    "name": "ipython",
    "version": 3
   },
   "file_extension": ".py",
   "mimetype": "text/x-python",
   "name": "python",
   "nbconvert_exporter": "python",
   "pygments_lexer": "ipython3",
   "version": "3.11.9"
  }
 },
 "nbformat": 4,
 "nbformat_minor": 5
}
