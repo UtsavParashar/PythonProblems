{
 "cells": [
  {
   "cell_type": "markdown",
   "metadata": {},
   "source": [
    "#### 437. Path Sum III\n",
    "\n",
    "* https://leetcode.com/problems/path-sum-iii/description/\n",
    "\n",
    "Given the root of a binary tree and an integer targetSum, return the number of paths where the sum of the values along the path equals targetSum.\n",
    "\n",
    "The path does not need to start or end at the root or a leaf, but it must go downwards (i.e., traveling only from parent nodes to child nodes)."
   ]
  },
  {
   "cell_type": "code",
   "execution_count": 1,
   "metadata": {},
   "outputs": [],
   "source": [
    "# ref - https://www.youtube.com/watch?v=6jYxwdwjwKg\n",
    "\n",
    "from collections import defaultdict\n",
    "\n",
    "class TreeNode:\n",
    "    def __init__(self, val=0, left=None, right=None):\n",
    "        self.val = val\n",
    "        self.left = left\n",
    "        self.right = right\n",
    "\n",
    "def path_sum(root: TreeNode, targetSum: int) -> int:\n",
    "    freq = defaultdict(int) # dict - {sum: freq}\n",
    "    freq[0] = 1\n",
    "    output = 0\n",
    "\n",
    "    def dfs(node, prev_sum):\n",
    "        nonlocal output\n",
    "        if not node: return None\n",
    "        curr_sum = prev_sum + node.val\n",
    "        if (diff := curr_sum - targetSum) in freq:\n",
    "            output += freq[diff]\n",
    "        \n",
    "        freq[curr_sum] += 1 # Add the new sum\n",
    "        if node.left:\n",
    "            dfs(node.left, curr_sum)\n",
    "        if node.right:\n",
    "            dfs(node.right, curr_sum)\n",
    "\n",
    "        freq[curr_sum] -= 1 # remove the counter for backtracking\n",
    "\n",
    "    dfs(root, 0)\n",
    "    return output\n",
    "\n",
    "    "
   ]
  },
  {
   "cell_type": "code",
   "execution_count": 2,
   "metadata": {},
   "outputs": [
    {
     "data": {
      "text/plain": [
       "3"
      ]
     },
     "execution_count": 2,
     "metadata": {},
     "output_type": "execute_result"
    }
   ],
   "source": [
    "root = TreeNode(10)\n",
    "root.left = TreeNode(5)\n",
    "root.left.left = TreeNode(3)\n",
    "root.left.left.left = TreeNode(3)\n",
    "root.left.left.right = TreeNode(-2)\n",
    "root.left.right = TreeNode(2)\n",
    "root.left.right.right = TreeNode(1)\n",
    "root.right = TreeNode(-3)\n",
    "root.right.right = TreeNode(11)\n",
    "path_sum(root, 8)"
   ]
  },
  {
   "cell_type": "code",
   "execution_count": null,
   "metadata": {},
   "outputs": [],
   "source": []
  }
 ],
 "metadata": {
  "kernelspec": {
   "display_name": "Python 3",
   "language": "python",
   "name": "python3"
  },
  "language_info": {
   "codemirror_mode": {
    "name": "ipython",
    "version": 3
   },
   "file_extension": ".py",
   "mimetype": "text/x-python",
   "name": "python",
   "nbconvert_exporter": "python",
   "pygments_lexer": "ipython3",
   "version": "3.11.9"
  }
 },
 "nbformat": 4,
 "nbformat_minor": 2
}
