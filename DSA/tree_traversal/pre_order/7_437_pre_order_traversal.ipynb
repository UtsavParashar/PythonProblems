{
 "cells": [
  {
   "cell_type": "markdown",
   "metadata": {},
   "source": [
    "#### 437. Path Sum III\n",
    "\n",
    "* https://leetcode.com/problems/path-sum-iii/description/\n",
    "\n",
    "Given the root of a binary tree and an integer targetSum, return the number of paths where the sum of the values along the path equals targetSum.\n",
    "\n",
    "The path does not need to start or end at the root or a leaf, but it must go downwards (i.e., traveling only from parent nodes to child nodes)."
   ]
  },
  {
   "cell_type": "code",
   "execution_count": null,
   "metadata": {
    "vscode": {
     "languageId": "plaintext"
    }
   },
   "outputs": [],
   "source": [
    "from collections import defaultdict\n",
    "\n",
    "def path_sum(root: TreeNode, targetSum: int) -> int:\n",
    "    def dfs(node, current_sum):\n",
    "        if not node:\n",
    "            return 0\n",
    "\n",
    "        # Calculate current prefix sum\n",
    "        current_sum += node.val\n",
    "\n",
    "        # Count paths with sum equal to targetSum\n",
    "        path_count = prefix_sums[current_sum - targetSum]\n",
    "\n",
    "        # Update prefix sums with the current sum\n",
    "        prefix_sums[current_sum] += 1\n",
    "\n",
    "        # Recurse into left and right subtrees\n",
    "        path_count += dfs(node.left, current_sum)\n",
    "        path_count += dfs(node.right, current_sum)\n",
    "\n",
    "        # Backtrack: remove the current sum from the prefix sums\n",
    "        prefix_sums[current_sum] -= 1\n",
    "\n",
    "        return path_count\n",
    "\n",
    "    # Hash map to store prefix sums and their frequencies\n",
    "    prefix_sums = defaultdict(int)\n",
    "    prefix_sums[0] = 1  # Base case: a path with sum 0 exists\n",
    "\n",
    "    return dfs(root, 0)"
   ]
  },
  {
   "cell_type": "code",
   "execution_count": null,
   "metadata": {
    "vscode": {
     "languageId": "plaintext"
    }
   },
   "outputs": [],
   "source": []
  }
 ],
 "metadata": {
  "language_info": {
   "name": "python"
  }
 },
 "nbformat": 4,
 "nbformat_minor": 2
}
