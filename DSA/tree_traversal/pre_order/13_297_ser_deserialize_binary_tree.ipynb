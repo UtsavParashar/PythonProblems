{
 "cells": [
  {
   "cell_type": "markdown",
   "id": "e67a6ed0",
   "metadata": {},
   "source": [
    "### 297. Serialize and Deserialize Binary Tree\n",
    "\n",
    "* https://leetcode.com/problems/serialize-and-deserialize-binary-tree/"
   ]
  },
  {
   "cell_type": "code",
   "execution_count": null,
   "id": "e76b7aad",
   "metadata": {},
   "outputs": [],
   "source": [
    "# Ref  - https://www.youtube.com/watch?v=u4JAi2JJhI8\n",
    "\n",
    "class TreeNode(object):\n",
    "    def __init__(self, x):\n",
    "        self.val = x\n",
    "        self.left = None\n",
    "        self.right = None\n",
    "\n",
    "class Codec:\n",
    "    def serialize(self, root):\n",
    "        res = []\n",
    "\n",
    "        def dfs(node):\n",
    "            if not node:\n",
    "                res.append('N')\n",
    "                return\n",
    "            \n",
    "            res.append(str(node.val))\n",
    "            dfs(node.left)\n",
    "            dfs(node.right)\n",
    "        \n",
    "        dfs(root)\n",
    "        return ','.join(res)\n",
    "        \n",
    "\n",
    "    def deserialize(self, data):\n",
    "        vals = data.split(',')\n",
    "        self.i = 0\n",
    "\n",
    "        def dfs():\n",
    "            if vals[self.i] == 'N':\n",
    "                self.i += 1\n",
    "                return\n",
    "            \n",
    "            node = TreeNode(int(vals[self.i]))\n",
    "            self.i += 1\n",
    "            node.left = dfs()\n",
    "            node.right = dfs()\n",
    "            return node\n",
    "        return dfs()\n",
    "\n",
    "        "
   ]
  },
  {
   "cell_type": "code",
   "execution_count": 24,
   "id": "43f7c547",
   "metadata": {},
   "outputs": [
    {
     "name": "stdout",
     "output_type": "stream",
     "text": [
      "1\n",
      "2\n",
      "3\n",
      "4\n",
      "5\n"
     ]
    }
   ],
   "source": [
    "# ser = Codec()\n",
    "# deser = Codec()\n",
    "# ans = deser.deserialize(ser.serialize(root))\n",
    "\n",
    "root = TreeNode(1)\n",
    "root.left = TreeNode(2)\n",
    "root.right = TreeNode(3)\n",
    "root.right.left = TreeNode(4)\n",
    "root.right.right = TreeNode(5)\n",
    "\n",
    "ser = Codec()\n",
    "#ser.serialize(root)\n",
    "deser = Codec()\n",
    "node = deser.deserialize(ser.serialize(root))\n",
    "print(node.val)\n",
    "print(node.left.val)\n",
    "print(node.right.val)\n",
    "print(node.right.left.val)\n",
    "print(node.right.right.val)"
   ]
  },
  {
   "cell_type": "code",
   "execution_count": null,
   "id": "a54f6784",
   "metadata": {},
   "outputs": [],
   "source": [
    "## Succinct code - https://github.com/AlgoMaster-io/leetcode-solutions/blob/main/python/serialize-and-deserialize-binary-tree.md#solution-2-depth-first-search-dfs-preorder-using-recursion\n",
    "class TreeNode(object):\n",
    "    def __init__(self, x):\n",
    "        self.val = x\n",
    "        self.left = None\n",
    "        self.right = None\n",
    "\n",
    "class Codec:\n",
    "    def serialize(self, root):\n",
    "        if not root:\n",
    "            return 'N'\n",
    "        return f'{root.val},{self.serialize(root.left)},{self.serialize(root.right)}'\n",
    "        \n",
    "\n",
    "    def deserialize(self, data):\n",
    "        vals = iter(data.split(','))\n",
    "\n",
    "        def dfs(vals):\n",
    "            val = next(vals)\n",
    "            if val  == 'N':\n",
    "                return\n",
    "            \n",
    "            node = TreeNode(int(val))\n",
    "            node.left = dfs(vals)\n",
    "            node.right = dfs(vals)\n",
    "            return node\n",
    "        return dfs(vals)"
   ]
  },
  {
   "cell_type": "code",
   "execution_count": 30,
   "id": "02efbad8",
   "metadata": {},
   "outputs": [
    {
     "name": "stdout",
     "output_type": "stream",
     "text": [
      "1\n",
      "2\n",
      "3\n",
      "4\n",
      "5\n"
     ]
    }
   ],
   "source": [
    "root = TreeNode(1)\n",
    "root.left = TreeNode(2)\n",
    "root.right = TreeNode(3)\n",
    "root.right.left = TreeNode(4)\n",
    "root.right.right = TreeNode(5)\n",
    "\n",
    "ser = Codec()\n",
    "#ser.serialize(root)\n",
    "deser = Codec()\n",
    "node = deser.deserialize(ser.serialize(root))\n",
    "print(node.val)\n",
    "print(node.left.val)\n",
    "print(node.right.val)\n",
    "print(node.right.left.val)\n",
    "print(node.right.right.val)"
   ]
  },
  {
   "cell_type": "code",
   "execution_count": null,
   "id": "8bc98ed1",
   "metadata": {},
   "outputs": [],
   "source": []
  }
 ],
 "metadata": {
  "kernelspec": {
   "display_name": "Python 3",
   "language": "python",
   "name": "python3"
  },
  "language_info": {
   "codemirror_mode": {
    "name": "ipython",
    "version": 3
   },
   "file_extension": ".py",
   "mimetype": "text/x-python",
   "name": "python",
   "nbconvert_exporter": "python",
   "pygments_lexer": "ipython3",
   "version": "3.11.9"
  }
 },
 "nbformat": 4,
 "nbformat_minor": 5
}
