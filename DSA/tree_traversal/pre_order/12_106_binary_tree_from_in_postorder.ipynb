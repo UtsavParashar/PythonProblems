{
 "cells": [
  {
   "cell_type": "markdown",
   "id": "e4a4a94d",
   "metadata": {},
   "source": [
    "#### 106. Construct Binary Tree from Inorder and Postorder Traversal\n",
    "\n",
    "* https://leetcode.com/problems/construct-binary-tree-from-inorder-and-postorder-traversal/description/"
   ]
  },
  {
   "cell_type": "code",
   "execution_count": null,
   "id": "9fd4b843",
   "metadata": {},
   "outputs": [],
   "source": [
    "# O(n^2) solution\n",
    "# Two issues - each time call .index which takes O(n) time, this could be replaced by a hashmap\n",
    "# Other then passing sublist in each recursive call, left, right pointers could be passed\n",
    "\n",
    "class TreeNode:\n",
    "    def __init__(self, val=0, left=None, right=None):\n",
    "        self.val = val\n",
    "        self.left = left\n",
    "        self.right = right\n",
    "\n",
    "def build_tree(inorder, postorder):\n",
    "    if not inorder:\n",
    "        return\n",
    "\n",
    "    root = TreeNode(postorder.pop())\n",
    "    mid = inorder.index(root.val)\n",
    "\n",
    "    root.right = build_tree(inorder[mid+1:], postorder)\n",
    "    root.left = build_tree(inorder[:mid], postorder)\n",
    "\n",
    "    return root"
   ]
  },
  {
   "cell_type": "code",
   "execution_count": null,
   "id": "7babfbf1",
   "metadata": {},
   "outputs": [],
   "source": [
    "## Optimized O(n) solution\n",
    "\n",
    "def build_tree(inorder, postorder):\n",
    "    index_val_dict = {v: i for i, v in enumerate(inorder)}\n",
    "\n",
    "    def inner(l, r):\n",
    "        if l > r:\n",
    "            return \n",
    "        root = TreeNode(postorder.pop())\n",
    "        mid = index_val_dict[root.val]\n",
    "\n",
    "        root.right = inner(mid+1, r)\n",
    "        root.left = inner(l, mid-1)\n",
    "\n",
    "        return root\n",
    "\n",
    "    return inner(0, len(inorder)-1)"
   ]
  },
  {
   "cell_type": "code",
   "execution_count": 11,
   "id": "ac27f43a",
   "metadata": {},
   "outputs": [
    {
     "name": "stdout",
     "output_type": "stream",
     "text": [
      "3\n",
      "9\n",
      "20\n",
      "15\n",
      "7\n"
     ]
    }
   ],
   "source": [
    "node = build_tree(inorder = [9,3,15,20,7], postorder = [9,15,7,20,3])\n",
    "print(node.val)\n",
    "print(node.left.val)\n",
    "print(node.right.val)\n",
    "print(node.right.left.val)\n",
    "print(node.right.right.val)"
   ]
  },
  {
   "cell_type": "code",
   "execution_count": null,
   "id": "79660876",
   "metadata": {},
   "outputs": [],
   "source": []
  }
 ],
 "metadata": {
  "kernelspec": {
   "display_name": "Python 3",
   "language": "python",
   "name": "python3"
  },
  "language_info": {
   "codemirror_mode": {
    "name": "ipython",
    "version": 3
   },
   "file_extension": ".py",
   "mimetype": "text/x-python",
   "name": "python",
   "nbconvert_exporter": "python",
   "pygments_lexer": "ipython3",
   "version": "3.11.9"
  }
 },
 "nbformat": 4,
 "nbformat_minor": 5
}
