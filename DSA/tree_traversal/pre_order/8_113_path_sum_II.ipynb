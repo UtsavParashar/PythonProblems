{
 "cells": [
  {
   "cell_type": "markdown",
   "id": "6f1b13e4",
   "metadata": {},
   "source": [
    "#### 113. Path Sum II\n",
    "\n",
    "* https://leetcode.com/problems/path-sum-ii/description/"
   ]
  },
  {
   "cell_type": "code",
   "execution_count": 19,
   "id": "b020f96c",
   "metadata": {},
   "outputs": [],
   "source": [
    "## Reference - https://www.youtube.com/watch?v=-mkM5FUaA5c\n",
    "\n",
    "class TreeNode:\n",
    "    def __init__(self, val=0, left=None, right=None):\n",
    "        self.val = val\n",
    "        self.left = left\n",
    "        self.right = right\n",
    "\n",
    "def has_path_sum(root, target_sum):\n",
    "    res = []\n",
    "    def dfs(node, path, curr_sum):\n",
    "        if not node: return False # For the edge case root=[], targetSum =0, Output=false\n",
    "\n",
    "        curr_sum += node.val\n",
    "        sol = path + [node.val]\n",
    "        if not node.left and not node.right and curr_sum == target_sum:\n",
    "            res.append(sol)\n",
    "\n",
    "        return dfs(node.left, sol, curr_sum) or dfs(node.right, sol, curr_sum)\n",
    "\n",
    "    dfs(root, [], 0)\n",
    "    return res"
   ]
  },
  {
   "cell_type": "code",
   "execution_count": 20,
   "id": "bba698a5",
   "metadata": {},
   "outputs": [
    {
     "data": {
      "text/plain": [
       "[[5, 4, 11, 2], [5, 8, 4, 5]]"
      ]
     },
     "execution_count": 20,
     "metadata": {},
     "output_type": "execute_result"
    }
   ],
   "source": [
    "root = TreeNode(5)\n",
    "root.left = TreeNode(4)\n",
    "root.right = TreeNode(8)\n",
    "root.left.left = TreeNode(11)\n",
    "root.left.left.left = TreeNode(7)\n",
    "root.left.left.right = TreeNode(2)\n",
    "root.right.left = TreeNode(13)\n",
    "root.right.right = TreeNode(4)\n",
    "root.right.right.left = TreeNode(5)\n",
    "root.right.right.right = TreeNode(1)\n",
    "\n",
    "\n",
    "has_path_sum(root, 22)"
   ]
  },
  {
   "cell_type": "code",
   "execution_count": 22,
   "id": "3b1a52b7",
   "metadata": {},
   "outputs": [
    {
     "data": {
      "text/plain": [
       "[19, 20]"
      ]
     },
     "execution_count": 22,
     "metadata": {},
     "output_type": "execute_result"
    }
   ],
   "source": [
    "[]+[19]+[20]"
   ]
  },
  {
   "cell_type": "code",
   "execution_count": null,
   "id": "cec69956",
   "metadata": {},
   "outputs": [],
   "source": []
  }
 ],
 "metadata": {
  "kernelspec": {
   "display_name": "Python 3",
   "language": "python",
   "name": "python3"
  },
  "language_info": {
   "codemirror_mode": {
    "name": "ipython",
    "version": 3
   },
   "file_extension": ".py",
   "mimetype": "text/x-python",
   "name": "python",
   "nbconvert_exporter": "python",
   "pygments_lexer": "ipython3",
   "version": "3.11.9"
  }
 },
 "nbformat": 4,
 "nbformat_minor": 5
}
