{
 "cells": [
  {
   "cell_type": "markdown",
   "id": "19ec5fa5",
   "metadata": {},
   "source": [
    "#### 257. Binary Tree Paths\n",
    "\n",
    "* https://leetcode.com/problems/binary-tree-paths/description/"
   ]
  },
  {
   "cell_type": "code",
   "execution_count": 19,
   "id": "52493daf",
   "metadata": {},
   "outputs": [],
   "source": [
    "## Credit - https://www.youtube.com/watch?v=MzQzY0iP3GU\n",
    "\n",
    "class TreeNode:\n",
    "    def __init__(self, val=0, left=None, right=None):\n",
    "        self.val = val\n",
    "        self.left = left\n",
    "        self.right = right\n",
    "\n",
    "def binary_tree_paths(root):\n",
    "    res = []\n",
    "\n",
    "    def traverse(node, path_till_node):\n",
    "        if not (node.left or node.right):\n",
    "            res.append('->'.join(path_till_node))\n",
    "        \n",
    "        if node.left:\n",
    "            traverse(node.left,path_till_node + [str(node.left.val)])\n",
    "\n",
    "        if node.right:\n",
    "            traverse(node.right, path_till_node + [str(node.right.val)])\n",
    "\n",
    "    traverse(root, [str(root.val)])\n",
    "\n",
    "    return res"
   ]
  },
  {
   "cell_type": "code",
   "execution_count": 20,
   "id": "fb5189b9",
   "metadata": {},
   "outputs": [
    {
     "data": {
      "text/plain": [
       "['1->2->5', '1->3->10']"
      ]
     },
     "execution_count": 20,
     "metadata": {},
     "output_type": "execute_result"
    }
   ],
   "source": [
    "root = TreeNode(1)\n",
    "root.left = TreeNode(2)\n",
    "root.right = TreeNode(3)\n",
    "root.left.right = TreeNode(5)\n",
    "root.right.left = TreeNode(10)\n",
    "\n",
    "binary_tree_paths(root)"
   ]
  },
  {
   "cell_type": "code",
   "execution_count": null,
   "id": "a4ce5ebf",
   "metadata": {},
   "outputs": [],
   "source": []
  }
 ],
 "metadata": {
  "kernelspec": {
   "display_name": "Python 3",
   "language": "python",
   "name": "python3"
  },
  "language_info": {
   "codemirror_mode": {
    "name": "ipython",
    "version": 3
   },
   "file_extension": ".py",
   "mimetype": "text/x-python",
   "name": "python",
   "nbconvert_exporter": "python",
   "pygments_lexer": "ipython3",
   "version": "3.11.9"
  }
 },
 "nbformat": 4,
 "nbformat_minor": 5
}
