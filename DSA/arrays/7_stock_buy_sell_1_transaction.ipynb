{
 "cells": [
  {
   "cell_type": "markdown",
   "metadata": {},
   "source": [
    "### Stock Buy and Sell – Max one Transaction Allowed\n",
    "\n",
    "- Given an array prices[] of length N, representing the prices of the stocks on different days, the task is to find the maximum profit possible by buying and selling the stocks on different days when at most one transaction is allowed. Here one transaction means 1 buy + 1 Sell.\n",
    "\n",
    "- Note: Stock must be bought before being sold.\n",
    "\n",
    "- Examples:\n",
    "\n",
    "- Input: prices[] = {7, 10, 1, 3, 6, 9, 2}\n",
    "- Output: 8\n",
    "- Explanation: Buy for price 1 and sell for price 9. \n",
    "\n",
    "\n",
    "- Input: prices[] = {7, 6, 4, 3, 1} \n",
    "- Output: 0\n",
    "- Explanation: Since the array is sorted in decreasing order, 0 profit can be made without making any transaction.\n",
    "\n",
    "- Input: prices[] = {1, 3, 6, 9, 11} \n",
    "- Output: 10\n",
    "- Explanation: Since the array is sorted in increasing order, we can make maximum profit by buying at price[0] and selling at price[n-1]"
   ]
  },
  {
   "cell_type": "markdown",
   "metadata": {},
   "source": [
    "#### Optimal Solution"
   ]
  },
  {
   "cell_type": "code",
   "execution_count": 18,
   "metadata": {},
   "outputs": [],
   "source": [
    "from typing import List\n",
    "\n",
    "def max_profit(nlist: List) -> int:\n",
    "    if len(nlist) < 2:\n",
    "        raise RuntimeError('Atleast two transctions are required')\n",
    "\n",
    "    profit = 0\n",
    "    buy_price = nlist[0]\n",
    "\n",
    "    for px in nlist:\n",
    "        if px < buy_price:\n",
    "            buy_price = px\n",
    "        \n",
    "        current_profit = px - buy_price\n",
    "        if profit < current_profit:\n",
    "            profit = current_profit\n",
    "\n",
    "    return profit"
   ]
  },
  {
   "cell_type": "code",
   "execution_count": 19,
   "metadata": {},
   "outputs": [
    {
     "name": "stdout",
     "output_type": "stream",
     "text": [
      "351 ns ± 4.51 ns per loop (mean ± std. dev. of 7 runs, 1,000,000 loops each)\n"
     ]
    }
   ],
   "source": [
    "%timeit max_profit([7, 10, 1, 3, 6, 9, 2])"
   ]
  },
  {
   "cell_type": "code",
   "execution_count": 17,
   "metadata": {},
   "outputs": [
    {
     "name": "stdout",
     "output_type": "stream",
     "text": [
      "1.02 μs ± 15.4 ns per loop (mean ± std. dev. of 7 runs, 1,000,000 loops each)\n"
     ]
    }
   ],
   "source": [
    "%timeit max_profit([7, 10, 1, 3, 6, 9, 2])"
   ]
  },
  {
   "cell_type": "code",
   "execution_count": 13,
   "metadata": {},
   "outputs": [
    {
     "data": {
      "text/plain": [
       "0"
      ]
     },
     "execution_count": 13,
     "metadata": {},
     "output_type": "execute_result"
    }
   ],
   "source": [
    "max_profit([7, 6, 4, 3, 1])"
   ]
  },
  {
   "cell_type": "code",
   "execution_count": 14,
   "metadata": {},
   "outputs": [
    {
     "data": {
      "text/plain": [
       "10"
      ]
     },
     "execution_count": 14,
     "metadata": {},
     "output_type": "execute_result"
    }
   ],
   "source": [
    "max_profit([1, 3, 6, 9, 11])"
   ]
  },
  {
   "cell_type": "code",
   "execution_count": 20,
   "metadata": {},
   "outputs": [],
   "source": [
    "# Comparatively Slow Solution\n",
    "from typing import List\n",
    "\n",
    "def max_profit(nlist: List) -> int:\n",
    "    if len(nlist) < 2:\n",
    "        raise RuntimeError('Atleast two transctions are required')\n",
    "\n",
    "    profit = 0\n",
    "    buy_price = nlist[0]\n",
    "\n",
    "    for px in nlist:\n",
    "        buy_price = min(px, buy_price)\n",
    "        profit = max(profit, px - buy_price)\n",
    "\n",
    "    return profit"
   ]
  },
  {
   "cell_type": "code",
   "execution_count": null,
   "metadata": {},
   "outputs": [],
   "source": []
  }
 ],
 "metadata": {
  "kernelspec": {
   "display_name": "Python 3",
   "language": "python",
   "name": "python3"
  },
  "language_info": {
   "codemirror_mode": {
    "name": "ipython",
    "version": 3
   },
   "file_extension": ".py",
   "mimetype": "text/x-python",
   "name": "python",
   "nbconvert_exporter": "python",
   "pygments_lexer": "ipython3",
   "version": "3.11.9"
  }
 },
 "nbformat": 4,
 "nbformat_minor": 2
}
