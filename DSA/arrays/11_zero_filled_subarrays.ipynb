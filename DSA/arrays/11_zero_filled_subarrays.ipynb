{
 "cells": [
  {
   "cell_type": "markdown",
   "metadata": {},
   "source": [
    "## Number of Zero-Filled Subarrays\n",
    "\n",
    "* Given an integer array nums, return the number of subarrays filled with 0. A subarray is a contiguous non-empty sequence of elements within an array.\n",
    "\n",
    "- Example 1:\n",
    "- Input: nums = [1,3,0,0,2,0,0,4]\n",
    "- Output: 6\n",
    "- Explanation: \n",
    "- There are 4 occurrences of [0] as a subarray.\n",
    "- There are 2 occurrences of [0,0] as a subarray.\n",
    "- There is no occurrence of a subarray with a size more than 2 filled with 0. Therefore, we return 6.\n",
    "\n",
    "- Example 2:\n",
    "- Input: nums = [0,0,0,2,0,0]\n",
    "- Output: 9\n",
    "- Explanation:\n",
    "- There are 5 occurrences of [0] as a subarray.\n",
    "- There are 3 occurrences of [0,0] as a subarray.\n",
    "- There is 1 occurrence of [0,0,0] as a subarray.\n",
    "- There is no occurrence of a subarray with a size more than 3 filled with 0. Therefore, we return 9.\n",
    "- Example 3:\n",
    "\n",
    "- Input: nums = [2,10,2019]\n",
    "- Output: 0\n",
    "- Explanation: There is no subarray filled with 0. Therefore, we return 0."
   ]
  },
  {
   "cell_type": "markdown",
   "metadata": {},
   "source": [
    "### Optimal Solution\n",
    "* for each occurence of zero increase zeros counter by 1 and total counter by consequtive zeros till that point."
   ]
  },
  {
   "cell_type": "code",
   "execution_count": 6,
   "metadata": {},
   "outputs": [],
   "source": [
    "from typing import List\n",
    "\n",
    "def num_zero_filled_subarrays(nums: List) -> int:\n",
    "    zeros = 0\n",
    "    total = 0\n",
    "    for n in nums:\n",
    "        if n == 0:\n",
    "            zeros += 1\n",
    "            total += zeros\n",
    "        else:\n",
    "            zeros = 0\n",
    "\n",
    "    return total\n",
    "        "
   ]
  },
  {
   "cell_type": "code",
   "execution_count": 7,
   "metadata": {},
   "outputs": [
    {
     "data": {
      "text/plain": [
       "6"
      ]
     },
     "execution_count": 7,
     "metadata": {},
     "output_type": "execute_result"
    }
   ],
   "source": [
    "num_zero_filled_subarrays([1,3,0,0,2,0,0,4])"
   ]
  },
  {
   "cell_type": "code",
   "execution_count": 8,
   "metadata": {},
   "outputs": [
    {
     "data": {
      "text/plain": [
       "9"
      ]
     },
     "execution_count": 8,
     "metadata": {},
     "output_type": "execute_result"
    }
   ],
   "source": [
    "num_zero_filled_subarrays([0,0,0,2,0,0])"
   ]
  },
  {
   "cell_type": "code",
   "execution_count": null,
   "metadata": {},
   "outputs": [],
   "source": []
  }
 ],
 "metadata": {
  "kernelspec": {
   "display_name": "Python 3",
   "language": "python",
   "name": "python3"
  },
  "language_info": {
   "codemirror_mode": {
    "name": "ipython",
    "version": 3
   },
   "file_extension": ".py",
   "mimetype": "text/x-python",
   "name": "python",
   "nbconvert_exporter": "python",
   "pygments_lexer": "ipython3",
   "version": "3.11.9"
  }
 },
 "nbformat": 4,
 "nbformat_minor": 2
}
