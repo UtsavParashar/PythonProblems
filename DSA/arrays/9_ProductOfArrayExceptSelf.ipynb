{
 "cells": [
  {
   "cell_type": "markdown",
   "metadata": {},
   "source": [
    "## Product of Array Except Self\n",
    "\n",
    "* Given an array arr[] of n integers, construct a product array res[] (of the same size) such that res[i] is equal to the product of all the elements of arr[] except arr[i]. \n",
    "\n",
    "- Example: \n",
    "\n",
    "- Input: arr[] = [10, 3, 5, 6, 2]\n",
    "- Output: [180, 600, 360, 300, 900]\n",
    "- Explanation: \n",
    "- For i=0, res[i] = 3 * 5 * 6 * 2 is 180.\n",
    "- For i = 1, res[i] = 10 * 5 * 6 * 2 is 600.\n",
    "- For i = 2, res[i] = 10 * 3 * 6 * 2 is 360.\n",
    "- For i = 3, res[i] = 10 * 3 * 5 * 2 is 300.\n",
    "- For i = 4, res[i] = 10 * 3 * 5 * 6 is 900.\n",
    "- Input: arr[] = [12, 0]\n",
    "- Output: [0, 12]\n",
    "- Explanation: \n",
    "- For i = 0, res[i] = 0.\n",
    "- For i = 1, res[i] = 12."
   ]
  },
  {
   "cell_type": "markdown",
   "metadata": {},
   "source": [
    "### Optimal Solution if division is allowed"
   ]
  },
  {
   "cell_type": "code",
   "execution_count": null,
   "metadata": {},
   "outputs": [],
   "source": [
    "## Edge Cases \n",
    "## 1. If the array contain 1 zero then rest of the elements will be zero and the position of zero will be replaced by product of rest of the elements\n",
    "## 2. If the array contain more than 0 zero, then the resultant array will be of zero\n",
    "## 3. If the array does not contain zero then compute the product and divide each element by it\n",
    "\n",
    "from typing import List\n",
    "def product_except_self(nums: List) -> List:\n",
    "    zeros = 0\n",
    "    prod = 1\n",
    "    idx = []\n",
    "    res = [0] * len(nums)\n",
    "\n",
    "    # count zeros\n",
    "    for i, n in enumerate(nums):\n",
    "        if not n:\n",
    "            zeros += 1\n",
    "            idx.append(i)\n",
    "        else:\n",
    "            prod *= n\n",
    "        \n",
    "        if zeros == 2:\n",
    "            return res\n",
    "\n",
    "    if zeros == 1:\n",
    "        res[idx[0]] = prod\n",
    "        return res\n",
    "    \n",
    "    for i, n in enumerate(nums):\n",
    "        res[i] = prod / n\n",
    "    \n",
    "    return res\n",
    "\n"
   ]
  },
  {
   "cell_type": "code",
   "execution_count": 9,
   "metadata": {},
   "outputs": [
    {
     "data": {
      "text/plain": [
       "[180.0, 600.0, 360.0, 300.0, 900.0]"
      ]
     },
     "execution_count": 9,
     "metadata": {},
     "output_type": "execute_result"
    }
   ],
   "source": [
    "product_except_self([10, 3, 5, 6, 2])"
   ]
  },
  {
   "cell_type": "code",
   "execution_count": 10,
   "metadata": {},
   "outputs": [
    {
     "data": {
      "text/plain": [
       "[0, 12]"
      ]
     },
     "execution_count": 10,
     "metadata": {},
     "output_type": "execute_result"
    }
   ],
   "source": [
    "product_except_self([12, 0])"
   ]
  },
  {
   "cell_type": "code",
   "execution_count": 11,
   "metadata": {},
   "outputs": [
    {
     "data": {
      "text/plain": [
       "[0, 0, 9, 0, 0]"
      ]
     },
     "execution_count": 11,
     "metadata": {},
     "output_type": "execute_result"
    }
   ],
   "source": [
    "product_except_self([-1,1,0,-3,3])"
   ]
  },
  {
   "cell_type": "code",
   "execution_count": 42,
   "metadata": {},
   "outputs": [],
   "source": [
    "def brute_force(nums: List) -> List:\n",
    "    n = len(nums)\n",
    "    print(n)\n",
    "\n",
    "    prefix_product = [1] * n\n",
    "    sufix_product = [1] * n\n",
    "    res = [0] * n\n",
    "\n",
    "    # prefix product array\n",
    "    for i in range(1, n):\n",
    "        prefix_product[i] = nums[i-1] * prefix_product[i-1]\n",
    "\n",
    "    # sufix product array\n",
    "    for j in range(n-2, -1, -1):\n",
    "        sufix_product[j] = nums[j+1] * sufix_product[j+1]\n",
    "\n",
    "    for i in range(n):\n",
    "        res[i] = prefix_product[i] * sufix_product[i]\n",
    "\n",
    "    print(prefix_product)\n",
    "    print(sufix_product)\n",
    "    return res"
   ]
  },
  {
   "cell_type": "code",
   "execution_count": 43,
   "metadata": {},
   "outputs": [
    {
     "name": "stdout",
     "output_type": "stream",
     "text": [
      "3\n",
      "[1, 1, 2]\n",
      "[6, 3, 1]\n"
     ]
    },
    {
     "data": {
      "text/plain": [
       "[6, 3, 2]"
      ]
     },
     "execution_count": 43,
     "metadata": {},
     "output_type": "execute_result"
    }
   ],
   "source": [
    "brute_force([1,2,3])"
   ]
  },
  {
   "cell_type": "code",
   "execution_count": 35,
   "metadata": {},
   "outputs": [
    {
     "name": "stdout",
     "output_type": "stream",
     "text": [
      "[1, 1, 2, 6]\n",
      "[24, 12, 4, 1]\n"
     ]
    },
    {
     "data": {
      "text/plain": [
       "[24, 12, 8, 6]"
      ]
     },
     "execution_count": 35,
     "metadata": {},
     "output_type": "execute_result"
    }
   ],
   "source": [
    "brute_force([1,2,3,4])"
   ]
  },
  {
   "cell_type": "markdown",
   "metadata": {},
   "source": [
    "### Optimal Solution without division"
   ]
  },
  {
   "cell_type": "code",
   "execution_count": 74,
   "metadata": {},
   "outputs": [],
   "source": [
    "def product_except_self(nums: List) -> List:\n",
    "    post = 1\n",
    "    n = len(nums)\n",
    "    output = [1] * n\n",
    "\n",
    "    for i in range(1, n):\n",
    "        output[i] = output[i-1] * nums[i-1]\n",
    "\n",
    "    for i in range(n-1, -1, -1):\n",
    "        output[i] *= post\n",
    "        post *= nums[i]\n",
    "\n",
    "    return output"
   ]
  },
  {
   "cell_type": "code",
   "execution_count": 75,
   "metadata": {},
   "outputs": [
    {
     "data": {
      "text/plain": [
       "[24, 12, 8, 6]"
      ]
     },
     "execution_count": 75,
     "metadata": {},
     "output_type": "execute_result"
    }
   ],
   "source": [
    "product_except_self([1,2,3,4])"
   ]
  },
  {
   "cell_type": "code",
   "execution_count": 64,
   "metadata": {},
   "outputs": [],
   "source": [
    "def productExceptSelf(nums):\n",
    "    length = len(nums)\n",
    "    # Initialize the output array for prefix products and final result\n",
    "    output = [1] * length\n",
    "\n",
    "    # Calculate prefix products directly into the output array\n",
    "    for i in range(1, length):\n",
    "        output[i] = output[i - 1] * nums[i - 1]\n",
    "\n",
    "    # Initialize a suffix product variable\n",
    "    suffix_product = 1\n",
    "    for i in range(length - 1, -1, -1):\n",
    "        # Multiply the suffix product with the current output product\n",
    "        output[i] *= suffix_product\n",
    "        # Update the suffix product for the next iteration\n",
    "        suffix_product *= nums[i]\n",
    "\n",
    "    return output"
   ]
  },
  {
   "cell_type": "code",
   "execution_count": 65,
   "metadata": {},
   "outputs": [
    {
     "data": {
      "text/plain": [
       "[0, 0, 0, 0, 0]"
      ]
     },
     "execution_count": 65,
     "metadata": {},
     "output_type": "execute_result"
    }
   ],
   "source": [
    "productExceptSelf([1,2,0,0,3])"
   ]
  },
  {
   "cell_type": "code",
   "execution_count": null,
   "metadata": {},
   "outputs": [],
   "source": []
  }
 ],
 "metadata": {
  "kernelspec": {
   "display_name": "Python 3",
   "language": "python",
   "name": "python3"
  },
  "language_info": {
   "codemirror_mode": {
    "name": "ipython",
    "version": 3
   },
   "file_extension": ".py",
   "mimetype": "text/x-python",
   "name": "python",
   "nbconvert_exporter": "python",
   "pygments_lexer": "ipython3",
   "version": "3.11.9"
  }
 },
 "nbformat": 4,
 "nbformat_minor": 2
}
