{
 "cells": [
  {
   "cell_type": "markdown",
   "id": "ec464e62",
   "metadata": {},
   "source": [
    "#### 2395. Find Subarrays With Equal Sum\n",
    "\n",
    "* https://leetcode.com/problems/find-subarrays-with-equal-sum/description/"
   ]
  },
  {
   "cell_type": "code",
   "execution_count": null,
   "id": "1f8b1f75",
   "metadata": {},
   "outputs": [],
   "source": [
    "def brute_force(nums: list[int]) -> bool:\n",
    "    seen_sums = set()\n",
    "    for i in range(len(nums) - 1):\n",
    "        if (current_sum := nums[i] + nums[i + 1]) in seen_sums:\n",
    "            return True\n",
    "        seen_sums.add(current_sum)\n",
    "    return False\n"
   ]
  },
  {
   "cell_type": "code",
   "execution_count": 36,
   "id": "d4766811",
   "metadata": {},
   "outputs": [
    {
     "data": {
      "text/plain": [
       "False"
      ]
     },
     "execution_count": 36,
     "metadata": {},
     "output_type": "execute_result"
    }
   ],
   "source": [
    "brute_force(nums = [1,3,4,2])"
   ]
  },
  {
   "cell_type": "code",
   "execution_count": null,
   "id": "5d910cf1",
   "metadata": {},
   "outputs": [],
   "source": []
  }
 ],
 "metadata": {
  "kernelspec": {
   "display_name": "Python 3",
   "language": "python",
   "name": "python3"
  },
  "language_info": {
   "codemirror_mode": {
    "name": "ipython",
    "version": 3
   },
   "file_extension": ".py",
   "mimetype": "text/x-python",
   "name": "python",
   "nbconvert_exporter": "python",
   "pygments_lexer": "ipython3",
   "version": "3.11.9"
  }
 },
 "nbformat": 4,
 "nbformat_minor": 5
}
