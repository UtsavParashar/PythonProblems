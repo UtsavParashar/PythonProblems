{
 "cells": [
  {
   "cell_type": "markdown",
   "metadata": {},
   "source": [
    "### Stock Buy and Sell – Multiple Transaction Allowed\n",
    "\n",
    "* Given an array prices[] of size n denoting the cost of stock on each day, the task is to find the maximum total profit if we can buy and sell the stocks any number of times.\n",
    "\n",
    "- Note: We can only sell a stock which we have bought earlier and we cannot hold multiple stocks on any day.\n",
    "\n",
    "- Examples:\n",
    "\n",
    "- Input: prices[] = {100, 180, 260, 310, 40, 535, 695}\n",
    "- Output: 865\n",
    "- Explanation: Buy the stock on day 0 and sell it on day 3 => 310 – 100 = 210\n",
    "                       Buy the stock on day 4 and sell it on day 6 => 695 – 40 = 655\n",
    "                       Maximum Profit  = 210 + 655 = 865"
   ]
  },
  {
   "cell_type": "markdown",
   "metadata": {},
   "source": [
    "### Decent Solution"
   ]
  },
  {
   "cell_type": "code",
   "execution_count": null,
   "metadata": {},
   "outputs": [],
   "source": [
    "\n",
    "from typing import List\n",
    "\n",
    "def local_minima_maxima(px: List) -> int:\n",
    "    min_px = px[0]\n",
    "    profit = 0\n",
    "\n",
    "    for i in range(len(px)):\n",
    "        if px[i] < min_px:\n",
    "            profit += px[i-1] - min_px\n",
    "            min_px = px[i]\n",
    "        \n",
    "        print(profit)\n",
    "        \n",
    "        if i == len(px)-1 and px[len(px)-1] > min_px:\n",
    "            profit += px[len(px)-1] - min_px\n",
    "    \n",
    "    return profit\n",
    "\n"
   ]
  },
  {
   "cell_type": "code",
   "execution_count": 25,
   "metadata": {},
   "outputs": [
    {
     "name": "stdout",
     "output_type": "stream",
     "text": [
      "0\n",
      "0\n",
      "0\n",
      "0\n",
      "0\n"
     ]
    },
    {
     "data": {
      "text/plain": [
       "2"
      ]
     },
     "execution_count": 25,
     "metadata": {},
     "output_type": "execute_result"
    }
   ],
   "source": [
    "local_minima_maxima([4,2,2,2,4])"
   ]
  },
  {
   "cell_type": "markdown",
   "metadata": {},
   "source": [
    "### Optimal Solution - Positive Mark to Market"
   ]
  },
  {
   "cell_type": "code",
   "execution_count": 2,
   "metadata": {},
   "outputs": [],
   "source": [
    "def mark_to_market(px: list) -> int:\n",
    "    profit = 0\n",
    "    for i in range(1, len(px)):\n",
    "        if px[i] > px[i-1]:\n",
    "            profit += px[i] - px[i-1]\n",
    "    \n",
    "    return profit"
   ]
  },
  {
   "cell_type": "code",
   "execution_count": 27,
   "metadata": {},
   "outputs": [
    {
     "data": {
      "text/plain": [
       "865"
      ]
     },
     "execution_count": 27,
     "metadata": {},
     "output_type": "execute_result"
    }
   ],
   "source": [
    "mark_to_market([100, 180, 260, 310, 40, 535, 695])"
   ]
  },
  {
   "cell_type": "code",
   "execution_count": 4,
   "metadata": {},
   "outputs": [
    {
     "data": {
      "text/plain": [
       "7"
      ]
     },
     "execution_count": 4,
     "metadata": {},
     "output_type": "execute_result"
    }
   ],
   "source": [
    "mark_to_market([8,7,1,5,3,6,4])"
   ]
  },
  {
   "cell_type": "code",
   "execution_count": 30,
   "metadata": {},
   "outputs": [
    {
     "data": {
      "text/plain": [
       "4"
      ]
     },
     "execution_count": 30,
     "metadata": {},
     "output_type": "execute_result"
    }
   ],
   "source": [
    "mark_to_market([1,2,3,4,5])"
   ]
  },
  {
   "cell_type": "code",
   "execution_count": null,
   "metadata": {},
   "outputs": [],
   "source": []
  }
 ],
 "metadata": {
  "kernelspec": {
   "display_name": "Python 3",
   "language": "python",
   "name": "python3"
  },
  "language_info": {
   "codemirror_mode": {
    "name": "ipython",
    "version": 3
   },
   "file_extension": ".py",
   "mimetype": "text/x-python",
   "name": "python",
   "nbconvert_exporter": "python",
   "pygments_lexer": "ipython3",
   "version": "3.11.9"
  }
 },
 "nbformat": 4,
 "nbformat_minor": 2
}
