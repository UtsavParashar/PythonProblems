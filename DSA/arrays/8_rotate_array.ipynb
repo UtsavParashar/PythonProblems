{
 "cells": [
  {
   "cell_type": "markdown",
   "metadata": {},
   "source": [
    "### Rotate an Array by d – Counterclockwise or Left\n",
    "\n",
    "- Given an array of integers arr[] of size n, the task is to rotate the array elements to the left by d positions.\n",
    "\n",
    "- Examples:\n",
    "\n",
    "- Input: arr[] = {1, 2, 3, 4, 5, 6}, d = 2\n",
    "- Output: {3, 4, 5, 6, 1, 2}\n",
    "- Explanation: After first left rotation, arr[] becomes {2, 3, 4, 5, 6, 1} and after the second rotation, arr[] becomes {3, 4, 5, 6, 1, 2}\n",
    "\n",
    "\n",
    "- Input: arr[] = {1, 2, 3}, d = 4\n",
    "- Output: {2, 3, 1}\n",
    "- Explanation: The array is rotated as follows:\n",
    "\n",
    "\n",
    "- After first left rotation, arr[] = {2, 3, 1}\n",
    "- After second left rotation, arr[] = {3, 1, 2}\n",
    "- After third left rotation, arr[] = {1, 2, 3}\n",
    "- After fourth left rotation, arr[] = {2, 3, 1}"
   ]
  },
  {
   "cell_type": "code",
   "execution_count": 46,
   "metadata": {},
   "outputs": [],
   "source": [
    "from typing import List\n",
    "\n",
    "def brute_force(nlist: List, k: int) -> List:\n",
    "    k %= len(nlist) # if k is greater then len of list\n",
    "    if len(nlist) == 1 or k == 0:\n",
    "        return nlist\n",
    "    return nlist[k:] + nlist[:k]"
   ]
  },
  {
   "cell_type": "code",
   "execution_count": 19,
   "metadata": {},
   "outputs": [
    {
     "data": {
      "text/plain": [
       "[3, 4, 5, 6, 1, 2]"
      ]
     },
     "execution_count": 19,
     "metadata": {},
     "output_type": "execute_result"
    }
   ],
   "source": [
    "brute_force([1, 2, 3, 4, 5, 6], 2)"
   ]
  },
  {
   "cell_type": "code",
   "execution_count": 23,
   "metadata": {},
   "outputs": [
    {
     "data": {
      "text/plain": [
       "[2, 3, 1]"
      ]
     },
     "execution_count": 23,
     "metadata": {},
     "output_type": "execute_result"
    }
   ],
   "source": [
    "brute_force([1, 2, 3], 1)"
   ]
  },
  {
   "cell_type": "markdown",
   "metadata": {},
   "source": [
    "#### Another Solution"
   ]
  },
  {
   "cell_type": "code",
   "execution_count": 56,
   "metadata": {},
   "outputs": [],
   "source": [
    "def rotate(nlist, k):\n",
    "    n = len(nlist)\n",
    "    k %= n\n",
    "\n",
    "    def reverse(start, end):\n",
    "        while start < end:\n",
    "            nlist[start], nlist[end] = nlist[end], nlist[start]\n",
    "            start += 1\n",
    "            end -= 1\n",
    "    \n",
    "    reverse(0, n-1)\n",
    "    reverse(0, n-k-1)\n",
    "    reverse(n-k, n-1)\n",
    "    \n",
    "\n",
    "    return nlist"
   ]
  },
  {
   "cell_type": "code",
   "execution_count": 57,
   "metadata": {},
   "outputs": [
    {
     "data": {
      "text/plain": [
       "[3, 4, 5, 6, 1, 2]"
      ]
     },
     "execution_count": 57,
     "metadata": {},
     "output_type": "execute_result"
    }
   ],
   "source": [
    "rotate([1, 2, 3, 4, 5, 6], 2)"
   ]
  },
  {
   "cell_type": "code",
   "execution_count": 47,
   "metadata": {},
   "outputs": [
    {
     "data": {
      "text/plain": [
       "[3, 4, 5, 6, 1, 2]"
      ]
     },
     "execution_count": 47,
     "metadata": {},
     "output_type": "execute_result"
    }
   ],
   "source": [
    "brute_force([1, 2, 3, 4, 5, 6], 2)"
   ]
  },
  {
   "cell_type": "markdown",
   "metadata": {},
   "source": [
    "### Similar problem - Rotate Array Towards Right\n",
    "#### Leetcode - \n",
    "##### 189. Rotate Array\n",
    "\n",
    "- Given an integer array nums, rotate the array to the right by k steps, where k is non-negative.\n",
    "- Example 1:\n",
    "- Input: nums = [1,2,3,4,5,6,7], k = 3\n",
    "- Output: [5,6,7,1,2,3,4]\n",
    "- Explanation:\n",
    "- rotate 1 steps to the right: [7,1,2,3,4,5,6]\n",
    "- rotate 2 steps to the right: [6,7,1,2,3,4,5]\n",
    "- rotate 3 steps to the right: [5,6,7,1,2,3,4]\n",
    "- Example 2:\n",
    "- Input: nums = [-1,-100,3,99], k = 2\n",
    "- Output: [3,99,-1,-100]\n",
    "- Explanation: \n",
    "- rotate 1 steps to the right: [99,-1,-100,3]\n",
    "- rotate 2 steps to the right: [3,99,-1,-100]"
   ]
  },
  {
   "cell_type": "code",
   "execution_count": 39,
   "metadata": {},
   "outputs": [],
   "source": [
    "from typing import List\n",
    "\n",
    "def brute_force(nlist: List, k: int) -> List:\n",
    "    k %= len(nlist) # if k is greater then len of list\n",
    "    n = len(nlist)\n",
    "    if len(nlist) == 1 or k == 0:\n",
    "        return nlist\n",
    "    return nlist[-k:] + nlist[:n-k]"
   ]
  },
  {
   "cell_type": "code",
   "execution_count": 81,
   "metadata": {},
   "outputs": [
    {
     "name": "stdout",
     "output_type": "stream",
     "text": [
      "204 ns ± 6.48 ns per loop (mean ± std. dev. of 7 runs, 1,000,000 loops each)\n"
     ]
    }
   ],
   "source": [
    "%timeit brute_force([1,2,3,4,5,6,7], k = 3)"
   ]
  },
  {
   "cell_type": "code",
   "execution_count": 79,
   "metadata": {},
   "outputs": [],
   "source": [
    "class S1:\n",
    "    def rotate(self, nlist, k):\n",
    "        n = len(nlist)\n",
    "        k %= n\n",
    "\n",
    "        def reverse(start, end):\n",
    "            while start < end:\n",
    "                nlist[start], nlist[end] = nlist[end], nlist[start]\n",
    "                start += 1\n",
    "                end -= 1\n",
    "        \n",
    "        #reverse(0, n-1)\n",
    "        nlist.reverse()\n",
    "        reverse(0, k-1)\n",
    "        reverse(k, n-1)\n",
    "        \n",
    "\n",
    "        return nlist"
   ]
  },
  {
   "cell_type": "code",
   "execution_count": 80,
   "metadata": {},
   "outputs": [
    {
     "name": "stdout",
     "output_type": "stream",
     "text": [
      "561 ns ± 8.77 ns per loop (mean ± std. dev. of 7 runs, 1,000,000 loops each)\n"
     ]
    }
   ],
   "source": [
    "%timeit S1().rotate([1,2,3,4,5,6,7], k = 3)"
   ]
  },
  {
   "cell_type": "code",
   "execution_count": 76,
   "metadata": {},
   "outputs": [
    {
     "name": "stdout",
     "output_type": "stream",
     "text": [
      "1.1 μs ± 37.9 ns per loop (mean ± std. dev. of 7 runs, 1,000,000 loops each)\n"
     ]
    }
   ],
   "source": [
    "%timeit Solution().rotate([1,2,3,4,5,6,7], k = 3)"
   ]
  },
  {
   "cell_type": "code",
   "execution_count": 75,
   "metadata": {},
   "outputs": [],
   "source": [
    "class Solution(object):\n",
    "    @staticmethod\n",
    "    def rev(l: list):\n",
    "        n = len(l)\n",
    "        for i in range(n // 2):\n",
    "            l[i], l[n - i - 1] = l[n - i - 1], l[i]\n",
    "        return l\n",
    "\n",
    "    def rotate(self, nums, k):\n",
    "        \"\"\"\n",
    "        :type nums: List[int]\n",
    "        :type k: int\n",
    "        :rtype: None Do not return anything, modify nums in-place instead.\n",
    "        \"\"\"        \n",
    "        if k > len(nums):\n",
    "            k = k % len(nums)\n",
    "        \n",
    "        rev_nums = self.rev(nums)\n",
    "        rev_nums[:k] = self.rev(rev_nums[:k])\n",
    "        rev_nums[k:] = self.rev(rev_nums[k:])\n",
    "\n",
    "        return rev_nums"
   ]
  }
 ],
 "metadata": {
  "kernelspec": {
   "display_name": "Python 3",
   "language": "python",
   "name": "python3"
  },
  "language_info": {
   "codemirror_mode": {
    "name": "ipython",
    "version": 3
   },
   "file_extension": ".py",
   "mimetype": "text/x-python",
   "name": "python",
   "nbconvert_exporter": "python",
   "pygments_lexer": "ipython3",
   "version": "3.11.9"
  }
 },
 "nbformat": 4,
 "nbformat_minor": 2
}
