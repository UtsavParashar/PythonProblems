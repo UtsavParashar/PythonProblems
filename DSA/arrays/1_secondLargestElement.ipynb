{
 "cells": [
  {
   "cell_type": "markdown",
   "metadata": {},
   "source": [
    "### Problem - Second Largest Element in an Array\n",
    "#### Description - Given an array of positive integers arr[] of size n, the task is to find second largest distinct element in the array.\n",
    "* Note: If the second largest element does not exist, return -1.\n",
    "\n",
    "* Examples\n",
    "* Input: arr[] = [12, 35, 1, 10, 34, 1]\n",
    "* Output: 34\n",
    "* Explanation: The largest element of the array is 35 and the second largest element is 34.\n",
    "\n",
    "* Input: arr[] = [10, 5, 10]\n",
    "* Output: 5\n",
    "* Explanation: The largest element of the array is 10 and the second largest element is 5.\n",
    "\n",
    "* Input: arr[] = [10, 10, 10]\n",
    "* Output: -1\n",
    "* Explanation: The largest element of the array is 10 there is no second largest element."
   ]
  },
  {
   "cell_type": "code",
   "execution_count": 6,
   "metadata": {},
   "outputs": [],
   "source": [
    "def brute_force(n_list):\n",
    "  largest = -1\n",
    "  second_largest = -1\n",
    "\n",
    "  for number in n_list:\n",
    "    if number > largest:\n",
    "      second_largest, largest,  = largest, number\n",
    "    elif number > second_largest and number < largest:\n",
    "      second_largest = number\n",
    "  \n",
    "  return second_largest"
   ]
  },
  {
   "cell_type": "code",
   "execution_count": 9,
   "metadata": {},
   "outputs": [
    {
     "data": {
      "text/plain": [
       "-1"
      ]
     },
     "execution_count": 9,
     "metadata": {},
     "output_type": "execute_result"
    }
   ],
   "source": [
    "brute_force([12, 35, 1, 10, 34, 1])\n",
    "brute_force([10, 5, 10])\n",
    "brute_force([10, 10, 10])"
   ]
  },
  {
   "cell_type": "code",
   "execution_count": null,
   "metadata": {},
   "outputs": [],
   "source": []
  }
 ],
 "metadata": {
  "kernelspec": {
   "display_name": "Python 3",
   "language": "python",
   "name": "python3"
  },
  "language_info": {
   "codemirror_mode": {
    "name": "ipython",
    "version": 3
   },
   "file_extension": ".py",
   "mimetype": "text/x-python",
   "name": "python",
   "nbconvert_exporter": "python",
   "pygments_lexer": "ipython3",
   "version": "3.11.9"
  }
 },
 "nbformat": 4,
 "nbformat_minor": 2
}
