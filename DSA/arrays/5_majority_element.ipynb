{
 "cells": [
  {
   "cell_type": "markdown",
   "metadata": {},
   "source": [
    "### Majority Element\n",
    "\n",
    "- Given an array arr. Find the majority element in the array. If no majority exists, return -1. A majority element in an array is an element that appears strictly more than arr.size() / 2 times in the array.\n",
    "\n",
    "- Examples : \n",
    "\n",
    "- Input : arr[] = {1, 1, 2, 1, 3, 5, 1}\n",
    "- Output : 1\n",
    "- Explanation: Note that 1 appear 4 times which is more than  7 / 2 times \n",
    "\n",
    "\n",
    "- Input : arr[] = {3, 3, 4, 2, 4, 4, 2, 4}\n",
    "- Output :  -1 \n",
    "- Explanation: There is no element whose frequency is greater than the half of the size of the array size.\n",
    "\n",
    "\n",
    "- Input : arr[] = {3}\n",
    "- Output : 3\n",
    "- Explanation: Appears more than n/2 times"
   ]
  },
  {
   "cell_type": "code",
   "execution_count": null,
   "metadata": {},
   "outputs": [],
   "source": [
    "from typing import List\n",
    "def brute_force(nlist: List) -> List:\n",
    "    d = {}\n",
    "    mid_point = len(nlist)//2\n",
    "    for i in nlist:\n",
    "        if i in d.keys():\n",
    "            d[i] = d[i]+1\n",
    "        else:\n",
    "            d[i] = 1\n",
    "    \n",
    "    for k in d.keys():\n",
    "        if d[k] > mid_point:\n",
    "            return k\n",
    "    \n",
    "    return -1 "
   ]
  },
  {
   "cell_type": "code",
   "execution_count": 2,
   "metadata": {},
   "outputs": [
    {
     "data": {
      "text/plain": [
       "1"
      ]
     },
     "execution_count": 2,
     "metadata": {},
     "output_type": "execute_result"
    }
   ],
   "source": [
    "brute_force([1, 1, 2, 1, 3, 5, 1])"
   ]
  },
  {
   "cell_type": "code",
   "execution_count": 3,
   "metadata": {},
   "outputs": [
    {
     "data": {
      "text/plain": [
       "-1"
      ]
     },
     "execution_count": 3,
     "metadata": {},
     "output_type": "execute_result"
    }
   ],
   "source": [
    "brute_force([3, 3, 4, 2, 4, 4, 2, 4])"
   ]
  },
  {
   "cell_type": "code",
   "execution_count": 5,
   "metadata": {},
   "outputs": [
    {
     "data": {
      "text/plain": [
       "3"
      ]
     },
     "execution_count": 5,
     "metadata": {},
     "output_type": "execute_result"
    }
   ],
   "source": [
    "brute_force([3])"
   ]
  },
  {
   "cell_type": "markdown",
   "metadata": {},
   "source": [
    "#### Optimal Solution"
   ]
  },
  {
   "cell_type": "code",
   "execution_count": null,
   "metadata": {},
   "outputs": [],
   "source": [
    "from collections import defaultdict\n",
    "from typing import List\n",
    "\n",
    "def majority_element(nlist: List) -> int:\n",
    "    if len(nlist) < 1:\n",
    "        raise RuntimeError\n",
    "    \n",
    "    mid_size = len(nlist) / 2\n",
    "    count_dict = defaultdict(int)\n",
    "    for val in nlist:\n",
    "        count_dict[val] += 1\n",
    "\n",
    "        if count_dict[val] > mid_size:\n",
    "            return val\n",
    "    \n",
    "    return -1\n"
   ]
  },
  {
   "cell_type": "code",
   "execution_count": 9,
   "metadata": {},
   "outputs": [
    {
     "data": {
      "text/plain": [
       "1"
      ]
     },
     "execution_count": 9,
     "metadata": {},
     "output_type": "execute_result"
    }
   ],
   "source": [
    "majority_element([1, 1, 2, 1, 3, 5, 1])"
   ]
  },
  {
   "cell_type": "code",
   "execution_count": 10,
   "metadata": {},
   "outputs": [
    {
     "data": {
      "text/plain": [
       "-1"
      ]
     },
     "execution_count": 10,
     "metadata": {},
     "output_type": "execute_result"
    }
   ],
   "source": [
    "majority_element([3, 3, 4, 2, 4, 4, 2, 4])"
   ]
  },
  {
   "cell_type": "code",
   "execution_count": 11,
   "metadata": {},
   "outputs": [
    {
     "data": {
      "text/plain": [
       "3"
      ]
     },
     "execution_count": 11,
     "metadata": {},
     "output_type": "execute_result"
    }
   ],
   "source": [
    "majority_element([3])"
   ]
  }
 ],
 "metadata": {
  "kernelspec": {
   "display_name": "Python 3",
   "language": "python",
   "name": "python3"
  },
  "language_info": {
   "codemirror_mode": {
    "name": "ipython",
    "version": 3
   },
   "file_extension": ".py",
   "mimetype": "text/x-python",
   "name": "python",
   "nbconvert_exporter": "python",
   "pygments_lexer": "ipython3",
   "version": "3.11.9"
  }
 },
 "nbformat": 4,
 "nbformat_minor": 2
}
