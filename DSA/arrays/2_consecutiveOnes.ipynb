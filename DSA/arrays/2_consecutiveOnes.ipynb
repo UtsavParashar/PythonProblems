{
 "cells": [
  {
   "cell_type": "markdown",
   "metadata": {},
   "source": [
    "# Maximum consecutive one’s (or zeros) in a binary array\n",
    "* Given an array arr[] consisting of only 0’s and 1’s, the task is to find the count of a maximum number of consecutive 1’s or 0’s present in the array.\n",
    "\n",
    "### Examples\n",
    "- Input: arr[] = {1, 1, 0, 0, 1, 0, 1, 0, 1, 1, 1, 1}\n",
    "- Output: 4\n",
    "- Explanation: The maximum number of consecutive 1’s in the array is 4 from index 8-11.  \n",
    "\n",
    "\n",
    "- Input: arr[] = {0, 0, 1, 0, 1, 0, 1, 0, 1, 0, 1}\n",
    "- Output: 2\n",
    "- Explanation: The maximum number of consecutive 0’s in the array is 2 from index 0-1.\n",
    "\n",
    "\n",
    "- Input: arr[] = {0, 0, 0, 0}\n",
    "- Output: 4\n",
    "- Explanation: The maximum number of consecutive 0’s in the array is 4."
   ]
  },
  {
   "cell_type": "code",
   "execution_count": 48,
   "metadata": {},
   "outputs": [],
   "source": [
    "from typing import List\n",
    "\n",
    "def max_consecutive(n_list: List) -> int:\n",
    "    max_count, counter = 0, 1\n",
    "    for i in range(1, len(n_list)):\n",
    "        if n_list[i] == n_list[i-1]:\n",
    "            counter += 1\n",
    "        else:\n",
    "            max_count = max(max_count, counter)\n",
    "            counter = 1\n",
    "    return max(max_count, counter)"
   ]
  },
  {
   "cell_type": "code",
   "execution_count": 53,
   "metadata": {},
   "outputs": [
    {
     "data": {
      "text/plain": [
       "4"
      ]
     },
     "execution_count": 53,
     "metadata": {},
     "output_type": "execute_result"
    }
   ],
   "source": [
    "max_consecutive([1, 1, 0, 0, 1, 0, 1, 0, 1, 1, 1, 1])"
   ]
  },
  {
   "cell_type": "code",
   "execution_count": 54,
   "metadata": {},
   "outputs": [],
   "source": [
    "## Using Bit manipulation XOR - 0,1 -- 1 and 0,0 -- 0\n",
    "\n",
    "def max_consecutive_xor(nlist: List) -> int:\n",
    "    max_count, counter, prev_val = 0, 1, -1\n",
    "    for num in nlist:\n",
    "        if not num ^ prev_val:\n",
    "            counter += 1\n",
    "        else:\n",
    "            max_count = max(max_count, counter)\n",
    "        prev_val = num\n",
    "    return max(max_count, counter)\n",
    "\n",
    "\n"
   ]
  },
  {
   "cell_type": "code",
   "execution_count": 56,
   "metadata": {},
   "outputs": [
    {
     "data": {
      "text/plain": [
       "2"
      ]
     },
     "execution_count": 56,
     "metadata": {},
     "output_type": "execute_result"
    }
   ],
   "source": [
    "max_consecutive([0, 0, 1, 0, 1, 0, 1, 0, 1, 0, 1])"
   ]
  },
  {
   "cell_type": "code",
   "execution_count": 57,
   "metadata": {},
   "outputs": [
    {
     "data": {
      "text/plain": [
       "4"
      ]
     },
     "execution_count": 57,
     "metadata": {},
     "output_type": "execute_result"
    }
   ],
   "source": [
    "max_consecutive([0, 0, 0, 0])"
   ]
  },
  {
   "cell_type": "code",
   "execution_count": null,
   "metadata": {},
   "outputs": [],
   "source": []
  }
 ],
 "metadata": {
  "kernelspec": {
   "display_name": "Python 3",
   "language": "python",
   "name": "python3"
  },
  "language_info": {
   "codemirror_mode": {
    "name": "ipython",
    "version": 3
   },
   "file_extension": ".py",
   "mimetype": "text/x-python",
   "name": "python",
   "nbconvert_exporter": "python",
   "pygments_lexer": "ipython3",
   "version": "3.11.9"
  }
 },
 "nbformat": 4,
 "nbformat_minor": 2
}
