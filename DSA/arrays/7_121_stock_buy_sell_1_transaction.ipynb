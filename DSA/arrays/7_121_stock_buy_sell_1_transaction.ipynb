{
 "cells": [
  {
   "cell_type": "markdown",
   "metadata": {},
   "source": [
    "### Stock Buy and Sell – Max one Transaction Allowed\n",
    "\n",
    "* https://leetcode.com/problems/best-time-to-buy-and-sell-stock/\n",
    "\n",
    "#### ['J.P. Morgan', 'Goldman Sachs', 'Deutsche Bank', 'Millennium', 'UBS', 'Morgan Stanley', 'Bank of America', 'HSBC', 'BNY Mellon', 'DE Shaw', 'AQR Capital Management', 'Intuit', 'Mastercard', 'Optiver', 'Palantir Technologies', 'RBC', 'Societe Generale', 'Two Sigma', 'BlackRock', 'Netflix', 'Uber']\n"
   ]
  },
  {
   "cell_type": "markdown",
   "metadata": {},
   "source": [
    "#### Optimal Solution"
   ]
  },
  {
   "cell_type": "code",
   "execution_count": 2,
   "metadata": {},
   "outputs": [],
   "source": [
    "from typing import List\n",
    "# TC - O(n), O(1)\n",
    "\n",
    "\n",
    "def max_profit(nlist: List) -> int:\n",
    "    if len(nlist) < 2:\n",
    "        raise RuntimeError('Atleast two transctions are required')\n",
    "\n",
    "    profit = 0\n",
    "    buy_price = nlist[0]\n",
    "\n",
    "    for px in nlist:\n",
    "        if px < buy_price:\n",
    "            buy_price = px\n",
    "        \n",
    "        current_profit = px - buy_price\n",
    "        if profit < current_profit:\n",
    "            profit = current_profit\n",
    "\n",
    "    return profit"
   ]
  },
  {
   "cell_type": "code",
   "execution_count": 3,
   "metadata": {},
   "outputs": [],
   "source": [
    "# Pythonic \n",
    "# TC - O(n), O(1)\n",
    "\n",
    "class Solution:\n",
    "    def maxProfit(self, prices: List[int]) -> int:\n",
    "        profit, min_px = 0, float('inf')\n",
    "\n",
    "        for px in prices:\n",
    "            min_px = min(px, min_px)\n",
    "            profit = max(profit, px-min_px)\n",
    "\n",
    "        return profit"
   ]
  },
  {
   "cell_type": "code",
   "execution_count": 4,
   "metadata": {},
   "outputs": [],
   "source": [
    "# Using Kadane's Algo\n",
    "class Solution:\n",
    "    def maxProfit(self, prices: list[int]) -> int:\n",
    "        max_cur = max_so_far = 0\n",
    "        for i in range(1, len(prices)):\n",
    "            diff = prices[i] - prices[i - 1]\n",
    "            max_cur = max(0, max_cur + diff)\n",
    "            max_so_far = max(max_so_far, max_cur)\n",
    "        return max_so_far"
   ]
  },
  {
   "cell_type": "code",
   "execution_count": null,
   "metadata": {},
   "outputs": [],
   "source": []
  }
 ],
 "metadata": {
  "kernelspec": {
   "display_name": "Python 3",
   "language": "python",
   "name": "python3"
  },
  "language_info": {
   "codemirror_mode": {
    "name": "ipython",
    "version": 3
   },
   "file_extension": ".py",
   "mimetype": "text/x-python",
   "name": "python",
   "nbconvert_exporter": "python",
   "pygments_lexer": "ipython3",
   "version": "3.11.9"
  }
 },
 "nbformat": 4,
 "nbformat_minor": 2
}
