{
 "cells": [
  {
   "cell_type": "markdown",
   "id": "8115f618",
   "metadata": {},
   "source": [
    "#### 31. Next Permutation\n",
    "\n",
    "* https://leetcode.com/problems/next-permutation/description/"
   ]
  },
  {
   "cell_type": "code",
   "execution_count": null,
   "id": "208f6143",
   "metadata": {},
   "outputs": [],
   "source": [
    "## Credit - https://www.youtube.com/watch?v=IhsUbEMfIbY\n",
    "\n",
    "## Logic - 3 Steps\n",
    "### Start from the end of the array, which will be in increasing order from right to left. \n",
    "### Find the breakpoint where the left number is less than right number.\n",
    "### From the breakpoint, find the next bigger number from the breakpoint number\n",
    "### reverse the array from breakpoint + 1\n",
    "\n",
    "def next_perm(nums: list[int]) -> None:\n",
    "    n = len(nums)\n",
    "    for i in range(n-2, -1, -1):\n",
    "        if nums[i] < nums[i+1]:\n",
    "            for j in range(n-1, i, -1):\n",
    "                nums[j], nums[i] = nums[i], nums[j]\n",
    "                break\n",
    "            \n",
    "            nums[i+1:] = reversed(nums[i+1:])\n",
    "            return nums\n",
    "    \n",
    "    return sorted(nums) # For edge case like input[3,2,1] for which output is [1,2,3] \n",
    "\n"
   ]
  },
  {
   "cell_type": "code",
   "execution_count": 18,
   "id": "59d16b12",
   "metadata": {},
   "outputs": [
    {
     "data": {
      "text/plain": [
       "[1, 2, 3]"
      ]
     },
     "execution_count": 18,
     "metadata": {},
     "output_type": "execute_result"
    }
   ],
   "source": [
    "next_perm(nums = [3,2,1])"
   ]
  },
  {
   "cell_type": "code",
   "execution_count": 23,
   "id": "f036f093",
   "metadata": {},
   "outputs": [],
   "source": [
    "def next_perm(nums: list[int]) -> None:\n",
    "    n = len(nums)\n",
    "    for i in range(n-2, -1, -1):\n",
    "        if nums[i] < nums[i+1]:\n",
    "            # Find the smallest number larger than nums[i] from the right\n",
    "            for j in range(n-1, i, -1):\n",
    "                if nums[j] > nums[i]:\n",
    "                    nums[j], nums[i] = nums[i], nums[j]\n",
    "                    break\n",
    "            \n",
    "            # Reverse the subarray from i+1 to the end\n",
    "            nums[i+1:] = reversed(nums[i+1:])\n",
    "            print(nums)\n",
    "            return  # Exit the function after updating nums in place\n",
    "    \n",
    "    nums.sort()  # For edge case like input [3,2,1], modify nums in place to [1,2,3]\n",
    "    print(nums)"
   ]
  },
  {
   "cell_type": "code",
   "execution_count": 24,
   "id": "3d95afef",
   "metadata": {},
   "outputs": [
    {
     "name": "stdout",
     "output_type": "stream",
     "text": [
      "[3, 1, 2]\n"
     ]
    }
   ],
   "source": [
    "next_perm([2,3,1])"
   ]
  },
  {
   "cell_type": "code",
   "execution_count": null,
   "id": "13a4773d",
   "metadata": {},
   "outputs": [],
   "source": []
  }
 ],
 "metadata": {
  "kernelspec": {
   "display_name": "Python 3",
   "language": "python",
   "name": "python3"
  },
  "language_info": {
   "codemirror_mode": {
    "name": "ipython",
    "version": 3
   },
   "file_extension": ".py",
   "mimetype": "text/x-python",
   "name": "python",
   "nbconvert_exporter": "python",
   "pygments_lexer": "ipython3",
   "version": "3.11.9"
  }
 },
 "nbformat": 4,
 "nbformat_minor": 5
}
