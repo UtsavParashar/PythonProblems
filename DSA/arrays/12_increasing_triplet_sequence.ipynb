{
 "cells": [
  {
   "cell_type": "markdown",
   "metadata": {},
   "source": [
    "## 334. Increasing Triplet Subsequence\n",
    "\n",
    "* Given an integer array nums, return true if there exists a triple of indices (i, j, k) such that i < j < k and nums[i] < nums[j] < nums[k]. If no such indices exists, return false.\n",
    "\n",
    " \n",
    "- Example 1:\n",
    "- Input: nums = [1,2,3,4,5]\n",
    "- Output: true\n",
    "- Explanation: Any triplet where i < j < k is valid.\n",
    "\n",
    "- Example 2:\n",
    "- Input: nums = [5,4,3,2,1]\n",
    "- Output: false\n",
    "- Explanation: No triplet exists.\n",
    "\n",
    "- Example 3:\n",
    "- Input: nums = [2,1,5,0,4,6]\n",
    "- Output: true\n",
    "- Explanation: The triplet (3, 4, 5) is valid because nums[3] == 0 < nums[4] == 4 < nums[5] == 6.\n"
   ]
  },
  {
   "cell_type": "code",
   "execution_count": 16,
   "metadata": {},
   "outputs": [],
   "source": [
    "from typing import List\n",
    "def increasing_triplet(nums: List[int]) -> bool:\n",
    "    first = second = float('inf')\n",
    "    for n in nums:\n",
    "        if n <= first:\n",
    "            first = n\n",
    "        elif n <= second:\n",
    "            second = n\n",
    "        else:\n",
    "            return True\n",
    "    return False"
   ]
  },
  {
   "cell_type": "code",
   "execution_count": 17,
   "metadata": {},
   "outputs": [
    {
     "data": {
      "text/plain": [
       "True"
      ]
     },
     "execution_count": 17,
     "metadata": {},
     "output_type": "execute_result"
    }
   ],
   "source": [
    "increasing_triplet([20,100,10,12,5,13])"
   ]
  },
  {
   "cell_type": "code",
   "execution_count": 18,
   "metadata": {},
   "outputs": [
    {
     "data": {
      "text/plain": [
       "True"
      ]
     },
     "execution_count": 18,
     "metadata": {},
     "output_type": "execute_result"
    }
   ],
   "source": [
    "increasingTriplet([20,100,10,12,5,13])"
   ]
  },
  {
   "cell_type": "code",
   "execution_count": 9,
   "metadata": {},
   "outputs": [],
   "source": [
    "def increasingTriplet(nums):\n",
    "    first = second = float('inf')\n",
    "    for num in nums:\n",
    "        if num <= first:\n",
    "            # Update the smallest number seen so far\n",
    "            first = num\n",
    "        elif num <= second:\n",
    "            # Update the second smallest number that is greater than 'first'\n",
    "            second = num\n",
    "        else:\n",
    "            # We have found a number greater than both first and second\n",
    "            return True\n",
    "    return False"
   ]
  },
  {
   "cell_type": "code",
   "execution_count": 6,
   "metadata": {},
   "outputs": [
    {
     "data": {
      "text/plain": [
       "False"
      ]
     },
     "execution_count": 6,
     "metadata": {},
     "output_type": "execute_result"
    }
   ],
   "source": [
    "increasing_triplet([5,4,3,2,1])"
   ]
  },
  {
   "cell_type": "code",
   "execution_count": 7,
   "metadata": {},
   "outputs": [
    {
     "data": {
      "text/plain": [
       "True"
      ]
     },
     "execution_count": 7,
     "metadata": {},
     "output_type": "execute_result"
    }
   ],
   "source": [
    "increasing_triplet([2,1,5,0,4,6])"
   ]
  },
  {
   "cell_type": "code",
   "execution_count": null,
   "metadata": {},
   "outputs": [],
   "source": []
  }
 ],
 "metadata": {
  "kernelspec": {
   "display_name": "Python 3",
   "language": "python",
   "name": "python3"
  },
  "language_info": {
   "codemirror_mode": {
    "name": "ipython",
    "version": 3
   },
   "file_extension": ".py",
   "mimetype": "text/x-python",
   "name": "python",
   "nbconvert_exporter": "python",
   "pygments_lexer": "ipython3",
   "version": "3.11.9"
  }
 },
 "nbformat": 4,
 "nbformat_minor": 2
}
