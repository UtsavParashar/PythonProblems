{
 "cells": [
  {
   "cell_type": "markdown",
   "metadata": {},
   "source": [
    "## Move all zeros to end of array\n",
    "\n",
    "* Given an array of integers arr[], the task is to move all the zeros to the end of the array while maintaining the relative order of all non-zero elements.\n",
    "\n",
    "#### Examples: \n",
    "\n",
    "- Input: arr[] = [1, 2, 0, 4, 3, 0, 5, 0]\n",
    "- Output: arr[] = [1, 2, 4, 3, 5, 0, 0, 0]\n",
    "= Explanation: There are three 0s that are moved to the end.\n",
    "\n",
    "\n",
    "- Input: arr[] = [10, 20, 30]\n",
    "- Output: arr[] = [10, 20, 30]\n",
    "- Explanation: No change in array as there are no 0s.\n",
    "\n",
    "- Input: arr[] = [0, 0]\n",
    "- Output: arr[] = [0, 0]\n",
    "- Explanation: No change in array as there are all 0s.\n",
    "\n",
    "\n",
    "#### Solution - \n",
    "* placing all non zero at the left and zero at the right\n",
    "* Two pointers - z - which will point to the zero and wait there\n",
    "* nz - iterate through the loop, once nz element is found replace it with zero element index and move z forward to the next zero element\n",
    "\n"
   ]
  },
  {
   "cell_type": "code",
   "execution_count": 21,
   "metadata": {},
   "outputs": [],
   "source": [
    "from typing import List\n",
    "def place_zeros_at_the_right(nlist: List) -> List:\n",
    "    z = 0\n",
    "    for nz in range(len(nlist)):\n",
    "        # replace numbers only if the nz is pointing to a non-zero number\n",
    "        if nlist[nz]:\n",
    "            #print(nlist[nz])\n",
    "            nlist[z], nlist[nz] = nlist[nz], nlist[z]\n",
    "            z += 1\n",
    "        #print(nlist)\n",
    "    return nlist\n",
    "\n"
   ]
  },
  {
   "cell_type": "code",
   "execution_count": 22,
   "metadata": {},
   "outputs": [
    {
     "data": {
      "text/plain": [
       "[1, 1, 1, 2, 1, 0, 0]"
      ]
     },
     "execution_count": 22,
     "metadata": {},
     "output_type": "execute_result"
    }
   ],
   "source": [
    "place_zeros_at_the_right([1,1,0,1,0,2,1])"
   ]
  },
  {
   "cell_type": "markdown",
   "metadata": {},
   "source": [
    "###### Explanation\n",
    "- In the above solution basically we have two pointers left and right\n",
    "- left pointer point to zeros \n",
    "- right pointer points to non zeros\n",
    "- and when left pointer is at zero and right pointer is at non zero they swap the values and left pointer then moves forward where as right pointer continuously moves forward\n"
   ]
  },
  {
   "cell_type": "code",
   "execution_count": 23,
   "metadata": {},
   "outputs": [],
   "source": [
    "def place_zeros_at_right(nums):\n",
    "    left = 0\n",
    "\n",
    "    for right in range(len(nums)):\n",
    "        if nums[right] != 0:\n",
    "            nums[left], nums[right] = nums[right], nums[left]\n",
    "            left += 1\n",
    "    return nums\n"
   ]
  },
  {
   "cell_type": "code",
   "execution_count": 24,
   "metadata": {},
   "outputs": [
    {
     "data": {
      "text/plain": [
       "[1, 1, 1, 2, 1, 0, 0]"
      ]
     },
     "execution_count": 24,
     "metadata": {},
     "output_type": "execute_result"
    }
   ],
   "source": [
    "place_zeros_at_right([1,1,0,1,0,2,1])"
   ]
  },
  {
   "cell_type": "code",
   "execution_count": 2,
   "metadata": {},
   "outputs": [],
   "source": [
    "# Order of the non zero elements are not maintained in this solution \n",
    "def test(nums):\n",
    "    i = 0\n",
    "    j = len(nums)-1\n",
    "\n",
    "    while i < j:\n",
    "        while i < j and nums[i] != 0:\n",
    "            i += 1\n",
    "\n",
    "        while i < j and nums[j] == 0:\n",
    "            j -= 1\n",
    "\n",
    "        nums[i],nums[j] = nums[j], nums[i]\n",
    "    return nums \n"
   ]
  },
  {
   "cell_type": "code",
   "execution_count": null,
   "metadata": {},
   "outputs": [
    {
     "data": {
      "text/plain": [
       "[12, 1, 3, 0, 0]"
      ]
     },
     "execution_count": 3,
     "metadata": {},
     "output_type": "execute_result"
    }
   ],
   "source": [
    "test([0,1,0,3,12]) # If the expected solution is 1,3,12,0,0 then it might not work"
   ]
  },
  {
   "cell_type": "code",
   "execution_count": null,
   "metadata": {},
   "outputs": [],
   "source": []
  }
 ],
 "metadata": {
  "kernelspec": {
   "display_name": "Python 3",
   "language": "python",
   "name": "python3"
  },
  "language_info": {
   "codemirror_mode": {
    "name": "ipython",
    "version": 3
   },
   "file_extension": ".py",
   "mimetype": "text/x-python",
   "name": "python",
   "nbconvert_exporter": "python",
   "pygments_lexer": "ipython3",
   "version": "3.11.9"
  }
 },
 "nbformat": 4,
 "nbformat_minor": 2
}
