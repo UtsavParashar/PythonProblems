{
 "cells": [
  {
   "cell_type": "markdown",
   "metadata": {},
   "source": [
    "## Move all zeros to end of array\n",
    "\n",
    "* Given an array of integers arr[], the task is to move all the zeros to the end of the array while maintaining the relative order of all non-zero elements.\n",
    "\n",
    "#### Examples: \n",
    "\n",
    "- Input: arr[] = [1, 2, 0, 4, 3, 0, 5, 0]\n",
    "- Output: arr[] = [1, 2, 4, 3, 5, 0, 0, 0]\n",
    "= Explanation: There are three 0s that are moved to the end.\n",
    "\n",
    "\n",
    "- Input: arr[] = [10, 20, 30]\n",
    "- Output: arr[] = [10, 20, 30]\n",
    "- Explanation: No change in array as there are no 0s.\n",
    "\n",
    "- Input: arr[] = [0, 0]\n",
    "- Output: arr[] = [0, 0]\n",
    "- Explanation: No change in array as there are all 0s.\n",
    "\n",
    "\n",
    "#### Solution - \n",
    "* placing all non zero at the left and zero at the right\n",
    "* Two pointers - z - which will point to the zero and wait there\n",
    "* nz - iterate through the loop, once nz element is found replace it with zero element index and move z forward to the next zero element\n",
    "\n"
   ]
  },
  {
   "cell_type": "code",
   "execution_count": 23,
   "metadata": {},
   "outputs": [],
   "source": [
    "from typing import List\n",
    "def place_zeros_at_the_right(nlist: List) -> List:\n",
    "    z = 0\n",
    "    for nz in range(len(nlist)):\n",
    "        # replace numbers only if the nz is pointing to a non-zero number\n",
    "        if nlist[nz]:\n",
    "            #print(nlist[nz])\n",
    "            nlist[z], nlist[nz] = nlist[nz], nlist[z]\n",
    "            z += 1\n",
    "        #print(nlist)\n",
    "    return nlist\n",
    "\n"
   ]
  },
  {
   "cell_type": "code",
   "execution_count": 24,
   "metadata": {},
   "outputs": [
    {
     "name": "stdout",
     "output_type": "stream",
     "text": [
      "406 ns ± 5.18 ns per loop (mean ± std. dev. of 7 runs, 1,000,000 loops each)\n"
     ]
    }
   ],
   "source": [
    "%timeit place_zeros_at_the_right([1,1,0,1,0,2,1])"
   ]
  },
  {
   "cell_type": "code",
   "execution_count": 14,
   "metadata": {},
   "outputs": [],
   "source": [
    "def test(nums):\n",
    "    i = 0\n",
    "    j = len(nums)-1\n",
    "\n",
    "    while i < j:\n",
    "        while i < j and nums[i] != 0:\n",
    "            i += 1\n",
    "\n",
    "        while i < j and nums[j] == 0:\n",
    "            j -= 1\n",
    "\n",
    "        nums[i],nums[j] = nums[j], nums[i]\n",
    "    return nums \n"
   ]
  },
  {
   "cell_type": "code",
   "execution_count": 25,
   "metadata": {},
   "outputs": [
    {
     "name": "stdout",
     "output_type": "stream",
     "text": [
      "415 ns ± 11.2 ns per loop (mean ± std. dev. of 7 runs, 1,000,000 loops each)\n"
     ]
    }
   ],
   "source": [
    "%timeit test([1,1,0,1,0,2,1])"
   ]
  },
  {
   "cell_type": "code",
   "execution_count": null,
   "metadata": {},
   "outputs": [],
   "source": []
  }
 ],
 "metadata": {
  "kernelspec": {
   "display_name": "Python 3",
   "language": "python",
   "name": "python3"
  },
  "language_info": {
   "codemirror_mode": {
    "name": "ipython",
    "version": 3
   },
   "file_extension": ".py",
   "mimetype": "text/x-python",
   "name": "python",
   "nbconvert_exporter": "python",
   "pygments_lexer": "ipython3",
   "version": "3.11.9"
  }
 },
 "nbformat": 4,
 "nbformat_minor": 2
}
