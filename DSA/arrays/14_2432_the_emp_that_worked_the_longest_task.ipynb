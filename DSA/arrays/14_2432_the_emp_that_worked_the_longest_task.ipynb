{
 "cells": [
  {
   "cell_type": "markdown",
   "id": "1177e42e",
   "metadata": {},
   "source": [
    "#### 2432. The Employee That Worked on the Longest Task\n",
    "\n",
    "* https://leetcode.com/problems/the-employee-that-worked-on-the-longest-task/description/"
   ]
  },
  {
   "cell_type": "code",
   "execution_count": 9,
   "id": "28e35c47",
   "metadata": {},
   "outputs": [],
   "source": [
    "def hardest_worker(n, logs:list[list[int]]):\n",
    "    if not logs:\n",
    "        return \n",
    "    emp_id, max_hours = logs[0][0], logs[0][1]\n",
    "\n",
    "    for idx in range(1, len(logs)):\n",
    "        if (curr := logs[idx][1] - logs[idx-1][1]) > max_hours:\n",
    "            max_hours = curr\n",
    "            emp_id = logs[idx][0]\n",
    "        elif curr == max_hours and logs[idx][0] < emp_id:\n",
    "            emp_id = logs[idx][0]\n",
    "        \n",
    "    return emp_id\n",
    "\n",
    "\n",
    "         "
   ]
  },
  {
   "cell_type": "code",
   "execution_count": 11,
   "id": "4f6553c8",
   "metadata": {},
   "outputs": [
    {
     "data": {
      "text/plain": [
       "1"
      ]
     },
     "execution_count": 11,
     "metadata": {},
     "output_type": "execute_result"
    }
   ],
   "source": [
    "hardest_worker(n = 10, logs = [[0,3],[2,5],[0,9],[1,15]])"
   ]
  },
  {
   "cell_type": "code",
   "execution_count": 3,
   "id": "9e94d284",
   "metadata": {},
   "outputs": [
    {
     "data": {
      "text/plain": [
       "3"
      ]
     },
     "execution_count": 3,
     "metadata": {},
     "output_type": "execute_result"
    }
   ],
   "source": [
    "hardest_worker(n = 26, logs = [[1,1],[3,7],[2,12],[7,17]])"
   ]
  },
  {
   "cell_type": "code",
   "execution_count": 16,
   "id": "d9061140",
   "metadata": {},
   "outputs": [
    {
     "data": {
      "text/plain": [
       "0"
      ]
     },
     "execution_count": 16,
     "metadata": {},
     "output_type": "execute_result"
    }
   ],
   "source": [
    "hardest_worker(n = 2, logs = [[0,10],[1,20]])"
   ]
  },
  {
   "cell_type": "code",
   "execution_count": null,
   "id": "5b4fa4c2",
   "metadata": {},
   "outputs": [],
   "source": [
    "def hardest_worker(n, logs: list[list[int]]):\n",
    "    if not logs:\n",
    "        return \n",
    "    emp_id, max_hours = logs[0][0], logs[0][1]\n",
    "\n",
    "    for i in range(1, len(logs)):\n",
    "        curr_hours = logs[i][1] - logs[i-1][1]\n",
    "        if curr_hours > max_hours or (curr_hours == max_hours and logs[i][0] < emp_id):\n",
    "            max_hours, emp_id = curr_hours, logs[i][0]\n",
    "    \n",
    "    return emp_id"
   ]
  },
  {
   "cell_type": "code",
   "execution_count": null,
   "id": "e76d48e3",
   "metadata": {},
   "outputs": [],
   "source": []
  },
  {
   "cell_type": "code",
   "execution_count": null,
   "id": "91756826",
   "metadata": {},
   "outputs": [],
   "source": []
  }
 ],
 "metadata": {
  "kernelspec": {
   "display_name": "Python 3",
   "language": "python",
   "name": "python3"
  },
  "language_info": {
   "codemirror_mode": {
    "name": "ipython",
    "version": 3
   },
   "file_extension": ".py",
   "mimetype": "text/x-python",
   "name": "python",
   "nbconvert_exporter": "python",
   "pygments_lexer": "ipython3",
   "version": "3.11.9"
  }
 },
 "nbformat": 4,
 "nbformat_minor": 5
}
