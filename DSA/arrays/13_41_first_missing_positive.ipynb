{
 "cells": [
  {
   "cell_type": "markdown",
   "metadata": {},
   "source": [
    "#### 41. First Missing Positive\n",
    "\n",
    "* https://leetcode.com/problems/first-missing-positive/description/\n",
    "\n",
    "#### ['Goldman Sachs', 'Morgan Stanley', 'Bloomberg', 'Meta', 'Amazon', 'Google', 'Apple', 'Netflix', 'Uber']\n"
   ]
  },
  {
   "cell_type": "code",
   "execution_count": null,
   "metadata": {},
   "outputs": [],
   "source": [
    "def first_missing_positive(nums):\n",
    "    n = len(nums)\n",
    "    for i in range(n):\n",
    "        while 1 <= nums[i] <= n and nums[nums[i] - 1] != nums[i]: # consider it as i != nums[i] i.e value 1 is not at position 0\n",
    "            # Swap numbers to their correct position.\n",
    "            nums[nums[i] - 1], nums[i] = nums[i], nums[nums[i] - 1]\n",
    "    \n",
    "    # If after rearrangement, nums[i] != i + 1, i + 1 is the missing number.\n",
    "    for i in range(n):\n",
    "        if nums[i] != i + 1:\n",
    "            return i + 1\n",
    "\n",
    "    # If all numbers are in their correct positions, the missing number is n+1\n",
    "    return n + 1\n"
   ]
  },
  {
   "cell_type": "code",
   "execution_count": null,
   "metadata": {},
   "outputs": [],
   "source": [
    "# merging return from prev solution\n",
    "# O(n), O(1)\n",
    "\n",
    "class Solution:\n",
    "    def firstMissingPositive(self, nums) -> int:\n",
    "        n = len(nums)\n",
    "\n",
    "        for i in range(n):\n",
    "            while 1 <= nums[i] <= n and nums[nums[i]-1] != nums[i]:\n",
    "                nums[nums[i]-1], nums[i] = nums[i], nums[nums[i]-1]\n",
    "\n",
    "        return next((i+1 for i in range(n) if nums[i]!=i+1), n+1)"
   ]
  },
  {
   "cell_type": "code",
   "execution_count": 47,
   "metadata": {},
   "outputs": [
    {
     "data": {
      "text/plain": [
       "4"
      ]
     },
     "execution_count": 47,
     "metadata": {},
     "output_type": "execute_result"
    }
   ],
   "source": [
    "first_missing_positive([2,1,3])"
   ]
  },
  {
   "cell_type": "markdown",
   "metadata": {},
   "source": [
    "#### Co pilot explanation\n",
    "\n",
    "Problem Context:\n",
    "The goal is to find the smallest positive integer that is missing from the array.\n",
    "For example:\n",
    "Input: [3, 4, -1, 1]\n",
    "Output: 2 (because 1 is present, but 2 is missing).\n",
    "Key Idea:\n",
    "If the array contains a number x and 1 <= x <= n (where n is the size of the array), then the number x should ideally be placed at index x - 1.\n",
    "\n",
    "For example:\n",
    "If the number is 3, it should be placed at index 2 (3 - 1 = 2).\n",
    "If the number is 1, it should be placed at index 0 (1 - 1 = 0).\n",
    "The while loop ensures that every number is placed in its correct position if possible.\n",
    "\n",
    "Code Explanation:\n",
    "1. Condition: 1 <= nums[i] <= n:\n",
    "This ensures that the number is a valid positive integer within the range [1, n].\n",
    "Numbers outside this range (e.g., negative numbers, zeros, or numbers greater than n) are ignored because they cannot affect the result.\n",
    "2. Condition: i != nums[i] - 1:\n",
    "This checks if the number nums[i] is already in its correct position.\n",
    "For example:\n",
    "If nums[i] = 3 and i = 2, the number 3 is already at index 2 (3 - 1 = 2), so no swapping is needed.\n",
    "If the number is not in its correct position, the loop continues to swap it into the correct position.\n",
    "3. Swapping: [nums[nums[i]-1], nums[i] = nums[i], nums[nums[i]-1]](http://vscodecontentref/6):\n",
    "This swaps the current number nums[i] with the number at its target position ([nums[nums[i] - 1]](http://vscodecontentref/8)).\n",
    "The goal is to place nums[i] at index nums[i] - 1"
   ]
  },
  {
   "cell_type": "code",
   "execution_count": 50,
   "metadata": {},
   "outputs": [],
   "source": [
    "def trw(height):\n",
    "    water = 0\n",
    "    l, r = 0, len(height)-1\n",
    "    lm, rm = height[l], height[r]\n",
    "\n",
    "    while l < r:\n",
    "        if lm < rm:\n",
    "            l += 1\n",
    "            lm = max(lm, height[l])\n",
    "            water += lm - height[l]\n",
    "        else:\n",
    "            r -= 1\n",
    "            rm = max(rm, height[r])\n",
    "            water += rm - height[r]\n",
    "    \n",
    "    return water\n"
   ]
  },
  {
   "cell_type": "code",
   "execution_count": 54,
   "metadata": {},
   "outputs": [
    {
     "data": {
      "text/plain": [
       "5"
      ]
     },
     "execution_count": 54,
     "metadata": {},
     "output_type": "execute_result"
    }
   ],
   "source": [
    "trw([3,1,0,4])"
   ]
  },
  {
   "cell_type": "code",
   "execution_count": null,
   "metadata": {},
   "outputs": [],
   "source": []
  }
 ],
 "metadata": {
  "kernelspec": {
   "display_name": "Python 3",
   "language": "python",
   "name": "python3"
  },
  "language_info": {
   "codemirror_mode": {
    "name": "ipython",
    "version": 3
   },
   "file_extension": ".py",
   "mimetype": "text/x-python",
   "name": "python",
   "nbconvert_exporter": "python",
   "pygments_lexer": "ipython3",
   "version": "3.11.9"
  }
 },
 "nbformat": 4,
 "nbformat_minor": 2
}
