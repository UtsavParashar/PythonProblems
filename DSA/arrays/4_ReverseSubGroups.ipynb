{
 "cells": [
  {
   "cell_type": "markdown",
   "metadata": {},
   "source": [
    "## Reverse an Array in groups of given size\n",
    "\n",
    "* Given an array arr[] and an integer k, the task is to reverse every subarray formed by consecutive K elements.\n",
    "\n",
    "- Examples: \n",
    "\n",
    "-  Input: arr[] = [1, 2, 3, 4, 5, 6, 7, 8, 9], k = 3 \n",
    "- Output: 3, 2, 1, 6, 5, 4, 9, 8, 7\n",
    "\n",
    "\n",
    "- Input: arr[] = [1, 2, 3, 4, 5, 6, 7, 8], k = 5 \n",
    "- Output: 5, 4, 3, 2, 1, 8, 7, 6\n",
    "\n",
    "\n",
    "- Input: arr[] = [1, 2, 3, 4, 5, 6], k = 1 \n",
    "- Output: 1, 2, 3, 4, 5, 6\n",
    "\n",
    "\n",
    "- Input: arr[] = [1, 2, 3, 4, 5, 6, 7, 8], k = 10 \n",
    "- Output: 8, 7, 6, 5, 4, 3, 2, 1"
   ]
  },
  {
   "cell_type": "code",
   "execution_count": null,
   "metadata": {},
   "outputs": [],
   "source": [
    "from typing import List\n",
    "def brute_force(nlist: List, k: int) -> List:\n",
    "    if k == 1:\n",
    "        return nlist\n",
    "    newlist = list()\n",
    "    start_counter = 0\n",
    "    for idx in range(len(nlist)):\n",
    "        if idx % k == 0:\n",
    "            for i in reversed(nlist[start_counter: ]):\n",
    "                newlist.append(i)\n",
    "            start_counter = idx\n",
    "        if len(nlist) - idx < k and idx == (len(nlist)-1):\n",
    "            for i in reversed(nlist[start_counter:]):\n",
    "                newlist.append(i)\n",
    "    return newlist\n"
   ]
  },
  {
   "cell_type": "code",
   "execution_count": null,
   "metadata": {},
   "outputs": [
    {
     "data": {
      "text/plain": [
       "[3, 2, 1, 6, 5, 4, 9, 8, 7]"
      ]
     },
     "execution_count": 22,
     "metadata": {},
     "output_type": "execute_result"
    }
   ],
   "source": [
    "brute_force([1, 2, 3, 4, 5, 6, 7, 8, 9], 3)"
   ]
  },
  {
   "cell_type": "code",
   "execution_count": 23,
   "metadata": {},
   "outputs": [
    {
     "data": {
      "text/plain": [
       "[5, 4, 3, 2, 1, 8, 7, 6]"
      ]
     },
     "execution_count": 23,
     "metadata": {},
     "output_type": "execute_result"
    }
   ],
   "source": [
    "brute_force( [1, 2, 3, 4, 5, 6, 7, 8], 5)"
   ]
  },
  {
   "cell_type": "code",
   "execution_count": 24,
   "metadata": {},
   "outputs": [
    {
     "data": {
      "text/plain": [
       "[1, 2, 3, 4, 5, 6]"
      ]
     },
     "execution_count": 24,
     "metadata": {},
     "output_type": "execute_result"
    }
   ],
   "source": [
    "brute_force( [1, 2, 3, 4, 5, 6], 1)"
   ]
  },
  {
   "cell_type": "code",
   "execution_count": 25,
   "metadata": {},
   "outputs": [
    {
     "data": {
      "text/plain": [
       "[8, 7, 6, 5, 4, 3, 2, 1]"
      ]
     },
     "execution_count": 25,
     "metadata": {},
     "output_type": "execute_result"
    }
   ],
   "source": [
    "brute_force( [1, 2, 3, 4, 5, 6, 7, 8], 10)"
   ]
  },
  {
   "cell_type": "code",
   "execution_count": null,
   "metadata": {},
   "outputs": [],
   "source": [
    "from typing import List\n",
    "def improved_solution(nlist: List, k: int) -> List:\n",
    "    if k == 1:\n",
    "        return nlist\n",
    "    N = len(nlist)\n",
    "    for i in range(0, N, k):\n",
    "        if i > N - k:\n",
    "            nlist[i:] = reversed(nlist[i:])\n",
    "        else:\n",
    "            nlist[i:i+k] = reversed(nlist[i:i+k])\n",
    "    return nlist"
   ]
  },
  {
   "cell_type": "code",
   "execution_count": 33,
   "metadata": {},
   "outputs": [
    {
     "name": "stdout",
     "output_type": "stream",
     "text": [
      "0\n",
      "3\n",
      "6\n"
     ]
    },
    {
     "data": {
      "text/plain": [
       "[3, 2, 1, 6, 5, 4, 8, 7]"
      ]
     },
     "execution_count": 33,
     "metadata": {},
     "output_type": "execute_result"
    }
   ],
   "source": [
    "brute_force( [1, 2, 3, 4, 5, 6, 7, 8], 3)"
   ]
  },
  {
   "cell_type": "code",
   "execution_count": null,
   "metadata": {},
   "outputs": [],
   "source": []
  }
 ],
 "metadata": {
  "kernelspec": {
   "display_name": "Python 3",
   "language": "python",
   "name": "python3"
  },
  "language_info": {
   "codemirror_mode": {
    "name": "ipython",
    "version": 3
   },
   "file_extension": ".py",
   "mimetype": "text/x-python",
   "name": "python",
   "nbconvert_exporter": "python",
   "pygments_lexer": "ipython3",
   "version": "3.11.9"
  }
 },
 "nbformat": 4,
 "nbformat_minor": 2
}
