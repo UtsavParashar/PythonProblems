{
 "cells": [
  {
   "cell_type": "markdown",
   "metadata": {},
   "source": [
    "#### 2073. Time needed to buy tickets\n",
    "* https://leetcode.com/problems/time-needed-to-buy-tickets/description/\n",
    "\n",
    "There are n people in a line queuing to buy tickets, where the 0th person is at the front of the line and the (n - 1)th person is at the back of the line.\n",
    "\n",
    "You are given a 0-indexed integer array tickets of length n where the number of tickets that the ith person would like to buy is tickets[i].\n",
    "\n",
    "Each person takes exactly 1 second to buy a ticket. A person can only buy 1 ticket at a time and has to go back to the end of the line (which happens instantaneously) in order to buy more tickets. If a person does not have any tickets left to buy, the person will leave the line.\n",
    "\n",
    "Return the time taken for the person initially at position k (0-indexed) to finish buying tickets.\n",
    "\n",
    " \n",
    "\n",
    "Example 1:\n",
    "\n",
    "Input: tickets = [2,3,2], k = 2\n",
    "\n",
    "Output: 6\n",
    "\n",
    "Explanation:\n",
    "\n",
    "The queue starts as [2,3,2], where the kth person is underlined.\n",
    "After the person at the front has bought a ticket, the queue becomes [3,2,1] at 1 second.\n",
    "Continuing this process, the queue becomes [2,1,2] at 2 seconds.\n",
    "Continuing this process, the queue becomes [1,2,1] at 3 seconds.\n",
    "Continuing this process, the queue becomes [2,1] at 4 seconds. Note: the person at the front left the queue.\n",
    "Continuing this process, the queue becomes [1,1] at 5 seconds.\n",
    "Continuing this process, the queue becomes [1] at 6 seconds. The kth person has bought all their tickets, so return 6.\n",
    "Example 2:\n",
    "\n",
    "Input: tickets = [5,1,1,1], k = 0\n",
    "\n",
    "Output: 8\n",
    "\n",
    "Explanation:\n",
    "\n",
    "The queue starts as [5,1,1,1], where the kth person is underlined.\n",
    "After the person at the front has bought a ticket, the queue becomes [1,1,1,4] at 1 second.\n",
    "Continuing this process for 3 seconds, the queue becomes [4] at 4 seconds.\n",
    "Continuing this process for 4 seconds, the queue becomes [] at 8 seconds. The kth person has bought all their tickets, so return 8.\n",
    " "
   ]
  },
  {
   "cell_type": "code",
   "execution_count": 5,
   "metadata": {},
   "outputs": [],
   "source": [
    "def time_required_to_buy(tickets, k):\n",
    "    res = 0\n",
    "    for i in range(len(tickets)):\n",
    "        if i <= k:\n",
    "            res += min(tickets[i], tickets[k])\n",
    "        else:\n",
    "            res += min(tickets[i], tickets[k]-1)\n",
    "    return res\n"
   ]
  },
  {
   "cell_type": "code",
   "execution_count": 6,
   "metadata": {},
   "outputs": [
    {
     "data": {
      "text/plain": [
       "6"
      ]
     },
     "execution_count": 6,
     "metadata": {},
     "output_type": "execute_result"
    }
   ],
   "source": [
    "time_required_to_buy([2,3,2], k = 2)"
   ]
  },
  {
   "cell_type": "code",
   "execution_count": 7,
   "metadata": {},
   "outputs": [
    {
     "data": {
      "text/plain": [
       "8"
      ]
     },
     "execution_count": 7,
     "metadata": {},
     "output_type": "execute_result"
    }
   ],
   "source": [
    "time_required_to_buy([5,1,1,1], k = 0)"
   ]
  },
  {
   "cell_type": "code",
   "execution_count": null,
   "metadata": {},
   "outputs": [],
   "source": [
    "def time_required_to_buy(tickets, k):\n",
    "    return sum(min(tickets[k] - (i > k), v) for i, v in enumerate(tickets))"
   ]
  },
  {
   "cell_type": "code",
   "execution_count": 13,
   "metadata": {},
   "outputs": [
    {
     "data": {
      "text/plain": [
       "8"
      ]
     },
     "execution_count": 13,
     "metadata": {},
     "output_type": "execute_result"
    }
   ],
   "source": [
    "time_required_to_buy([5,1,1,1], k = 0)"
   ]
  },
  {
   "cell_type": "code",
   "execution_count": null,
   "metadata": {},
   "outputs": [],
   "source": []
  }
 ],
 "metadata": {
  "kernelspec": {
   "display_name": "Python 3",
   "language": "python",
   "name": "python3"
  },
  "language_info": {
   "codemirror_mode": {
    "name": "ipython",
    "version": 3
   },
   "file_extension": ".py",
   "mimetype": "text/x-python",
   "name": "python",
   "nbconvert_exporter": "python",
   "pygments_lexer": "ipython3",
   "version": "3.11.9"
  }
 },
 "nbformat": 4,
 "nbformat_minor": 2
}
