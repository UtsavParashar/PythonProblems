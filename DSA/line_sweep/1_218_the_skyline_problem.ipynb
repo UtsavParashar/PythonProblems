{
 "cells": [
  {
   "cell_type": "markdown",
   "id": "a36b65d7",
   "metadata": {},
   "source": [
    "#### 218. The Skyline Problem\n",
    "* https://leetcode.com/problems/the-skyline-problem/description/\n",
    "\n",
    "### ['Goldman Sachs', 'Google']"
   ]
  },
  {
   "cell_type": "code",
   "execution_count": null,
   "id": "92ae57ba",
   "metadata": {},
   "outputs": [
    {
     "data": {
      "text/plain": [
       "[[2, 10], [3, 15], [7, 12], [12, 0], [15, 10], [20, 8], [24, 0]]"
      ]
     },
     "execution_count": 2,
     "metadata": {},
     "output_type": "execute_result"
    }
   ],
   "source": [
    "# Explanation - https://www.youtube.com/watch?v=GSBLe8cKu0s\n",
    "# TC - O(nlogn)\n",
    "# SC - O(n)\n",
    "\n",
    "import heapq\n",
    "\n",
    "class Solution:\n",
    "    def getSkyline(self, buildings):\n",
    "        # Step 1 -- collect all edges\n",
    "        events = []\n",
    "        for L, R, H in buildings:\n",
    "            events.append((L, -H, R)) # entering event\n",
    "            events.append((R, 0, 0)) # leaving event\n",
    "\n",
    "        # Step 2 - Sort events\n",
    "        # sort by x, then by height (entering before leaving)\n",
    "        events.sort()\n",
    "        \n",
    "        # Step 3 - Sweep line with Max Heap\n",
    "        res = [[0, 0]]\n",
    "        live = [(0, float('inf'))] # (negH, end)\n",
    "\n",
    "        for x, negH, R in events:\n",
    "            # Remove past buildings\n",
    "            while live[0][1] <= x:\n",
    "                heapq.heappop(live)\n",
    "\n",
    "            if negH != 0:\n",
    "                heapq.heappush(live, (negH, R))\n",
    "\n",
    "            # if current max height changes, add to result\n",
    "            if res[-1][1] != -live[0][0]:\n",
    "                res.append([x, -live[0][0]])\n",
    "\n",
    "        return res[1:]\n",
    "\n",
    "Solution().getSkyline([[2,9,10],[3,7,15],[5,12,12],[15,20,10],[19,24,8]])"
   ]
  },
  {
   "cell_type": "code",
   "execution_count": null,
   "id": "ed6c214c",
   "metadata": {},
   "outputs": [],
   "source": []
  }
 ],
 "metadata": {
  "kernelspec": {
   "display_name": "Python 3",
   "language": "python",
   "name": "python3"
  },
  "language_info": {
   "codemirror_mode": {
    "name": "ipython",
    "version": 3
   },
   "file_extension": ".py",
   "mimetype": "text/x-python",
   "name": "python",
   "nbconvert_exporter": "python",
   "pygments_lexer": "ipython3",
   "version": "3.11.9"
  }
 },
 "nbformat": 4,
 "nbformat_minor": 5
}
