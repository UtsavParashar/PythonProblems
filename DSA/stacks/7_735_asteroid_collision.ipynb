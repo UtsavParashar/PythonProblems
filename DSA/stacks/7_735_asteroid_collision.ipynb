{
 "cells": [
  {
   "cell_type": "markdown",
   "id": "fdb9637e",
   "metadata": {},
   "source": [
    "#### 735. Asteroid Collision\n",
    "* https://leetcode.com/problems/asteroid-collision/description/\n",
    "# IMC and Deutsche"
   ]
  },
  {
   "cell_type": "code",
   "execution_count": null,
   "id": "cd460c22",
   "metadata": {},
   "outputs": [
    {
     "data": {
      "text/plain": [
       "[3, 5]"
      ]
     },
     "execution_count": 6,
     "metadata": {},
     "output_type": "execute_result"
    }
   ],
   "source": [
    "# Explanation -  https://www.youtube.com/watch?v=LN7KjRszjk4\n",
    "\n",
    "class Solution:\n",
    "    def asteroidCollision(self, asteroids):\n",
    "        stack = []\n",
    "        for a in asteroids:\n",
    "            # Only collision when last asteroid is moving right (positive) and current is moving left (negative)\n",
    "            while stack and stack[-1] > 0 and a < 0:\n",
    "                if stack[-1] < -a: # Top asteroid is smaller, pop it\n",
    "                    stack.pop()\n",
    "                    continue\n",
    "                elif stack[-1] == -a: # Equal size, both destroyed\n",
    "                    stack.pop()\n",
    "                break\n",
    "            else:\n",
    "                # No collision, push asteroid\n",
    "                stack.append(a)\n",
    "        \n",
    "        return stack\n",
    "    \n",
    "Solution().asteroidCollision([3, 5, -4])"
   ]
  },
  {
   "cell_type": "code",
   "execution_count": null,
   "id": "a30203a0",
   "metadata": {},
   "outputs": [
    {
     "data": {
      "text/plain": [
       "[-3, 4, 0]"
      ]
     },
     "execution_count": 5,
     "metadata": {},
     "output_type": "execute_result"
    }
   ],
   "source": [
    "# Explanation and code - https://www.youtube.com/watch?v=LN7KjRszjk4\n",
    "# TC, SC - O(n)\n",
    "\n",
    "class Solution:\n",
    "    def asteroidCollision(self, asteroids):\n",
    "        stack = []\n",
    "        for a in asteroids:\n",
    "            while stack and stack[-1] > 0 and a < 0:\n",
    "                diff = stack[-1] + a\n",
    "                if diff < 0:\n",
    "                    stack.pop()\n",
    "                elif diff > 0:\n",
    "                    a = 0\n",
    "                else:\n",
    "                    a = 0\n",
    "                    stack.pop()\n",
    "            else:\n",
    "                stack.append(a)\n",
    "\n",
    "        return stack\n",
    "\n",
    "Solution().asteroidCollision([-3, 4, 3, 2, -3])"
   ]
  },
  {
   "cell_type": "code",
   "execution_count": null,
   "id": "6c087202",
   "metadata": {},
   "outputs": [],
   "source": []
  }
 ],
 "metadata": {
  "kernelspec": {
   "display_name": "Python 3",
   "language": "python",
   "name": "python3"
  },
  "language_info": {
   "codemirror_mode": {
    "name": "ipython",
    "version": 3
   },
   "file_extension": ".py",
   "mimetype": "text/x-python",
   "name": "python",
   "nbconvert_exporter": "python",
   "pygments_lexer": "ipython3",
   "version": "3.11.9"
  }
 },
 "nbformat": 4,
 "nbformat_minor": 5
}
