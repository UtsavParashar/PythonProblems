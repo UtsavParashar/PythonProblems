{
 "cells": [
  {
   "cell_type": "markdown",
   "id": "411a52b3",
   "metadata": {},
   "source": [
    "#### 227. Basic Calculator II\n",
    "\n",
    "* https://leetcode.com/problems/basic-calculator-ii/description/"
   ]
  },
  {
   "cell_type": "code",
   "execution_count": null,
   "id": "d366b2e5",
   "metadata": {},
   "outputs": [],
   "source": [
    "def calculator(s):\n",
    "    s = s.replace(' ', '')\n",
    "    total, curr, last_num, i = 0, 0, 0, 0\n",
    "    op = '+'\n",
    "\n",
    "    while i < len(s):\n",
    "        if s[i].isdigit():\n",
    "            curr = curr * 10 + int(s[i])\n",
    "\n",
    "        if s[i] in '+-*/' or i == len(s) - 1:\n",
    "            if op == '+':\n",
    "                total += last_num\n",
    "                last_num = curr\n",
    "            elif op == '-':\n",
    "                total += last_num\n",
    "                last_num = -curr\n",
    "            elif op == '*':\n",
    "                last_num *= curr\n",
    "            elif op == '/':\n",
    "                last_num = int(last_num/curr)\n",
    "\n",
    "            # prepare for new operation\n",
    "            op = s[i]\n",
    "            curr = 0\n",
    "        \n",
    "        i += 1\n",
    "    \n",
    "    total += last_num\n",
    "    return total"
   ]
  },
  {
   "cell_type": "code",
   "execution_count": null,
   "id": "75538770",
   "metadata": {},
   "outputs": [],
   "source": []
  }
 ],
 "metadata": {
  "kernelspec": {
   "display_name": "Python 3",
   "language": "python",
   "name": "python3"
  },
  "language_info": {
   "name": "python",
   "version": "3.11.9"
  }
 },
 "nbformat": 4,
 "nbformat_minor": 5
}
