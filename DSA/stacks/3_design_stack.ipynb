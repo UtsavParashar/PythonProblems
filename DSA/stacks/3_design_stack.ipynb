{
 "cells": [
  {
   "cell_type": "markdown",
   "metadata": {},
   "source": [
    "#### 155. Min Stack\n",
    "\n",
    "- https://leetcode.com/problems/min-stack/description/\n",
    "\n",
    "\n",
    "- Design a stack that supports push, pop, top, and retrieving the minimum element in constant time.\n",
    "- Implement the MinStack class:\n",
    "\n",
    "- MinStack() initializes the stack object.\n",
    "- void push(int val) pushes the element val onto the stack.\n",
    "- void pop() removes the element on the top of the stack.\n",
    "- int top() gets the top element of the stack.\n",
    "- int getMin() retrieves the minimum element in the stack.\n",
    "- You must implement a solution with O(1) time complexity for each function.\n",
    "\n",
    "- Example 1:\n",
    "- Input\n",
    "- [\"MinStack\",\"push\",\"push\",\"push\",\"getMin\",\"pop\",\"top\",\"getMin\"]\n",
    "- [[],[-2],[0],[-3],[],[],[],[]]\n",
    "\n",
    "- Output\n",
    "- [null,null,null,null,-3,null,0,-2]\n",
    "\n",
    "- Explanation\n",
    "- MinStack minStack = new MinStack();\n",
    "- minStack.push(-2);\n",
    "- minStack.push(0);\n",
    "- minStack.push(-3);\n",
    "- minStack.getMin(); // return -3\n",
    "- minStack.pop();\n",
    "- minStack.top();    // return 0\n",
    "- minStack.getMin(); // return -2"
   ]
  },
  {
   "cell_type": "code",
   "execution_count": 3,
   "metadata": {},
   "outputs": [],
   "source": [
    "## Optimized\n",
    "## Keep the min value updated with the top value of the stack\n",
    "## So the list behaving as stack will have a tuple of value and min_value"
   ]
  },
  {
   "cell_type": "code",
   "execution_count": null,
   "metadata": {},
   "outputs": [],
   "source": [
    "class MinStack:\n",
    "    def __init__(self):\n",
    "        self._stack = []\n",
    "\n",
    "    def push(self, val) -> None:\n",
    "        if not self._stack:\n",
    "            self.min_val = val\n",
    "        else:\n",
    "            min_val = min(val, self._stack[-1][-1])\n",
    "        self._stack.append((val, min_val))\n",
    "\n",
    "    def pop(self) -> None:\n",
    "        self._stack.pop()\n",
    "\n",
    "    def top(self) -> int:\n",
    "        return self._stack[-1][0]\n",
    "\n",
    "    def getMin(self) -> int:\n",
    "        return self._stack[-1][-1]\n",
    "\n",
    "    def __repr__(self):\n",
    "        return f'{[val[0] for val in self._stack]}'"
   ]
  },
  {
   "cell_type": "code",
   "execution_count": 5,
   "metadata": {},
   "outputs": [],
   "source": [
    "a = []"
   ]
  },
  {
   "cell_type": "code",
   "execution_count": 6,
   "metadata": {},
   "outputs": [
    {
     "name": "stdout",
     "output_type": "stream",
     "text": [
      "a\n"
     ]
    }
   ],
   "source": [
    "if not a:\n",
    "    print('a')"
   ]
  },
  {
   "cell_type": "code",
   "execution_count": null,
   "metadata": {},
   "outputs": [],
   "source": [
    "## BruteForce\n",
    "\n",
    "class MinStack:\n",
    "    def __init__(self):\n",
    "        self._stack = []\n",
    "\n",
    "    def push(self, val) -> None:\n",
    "        self._stack.append(val)\n",
    "\n",
    "    def pop(self) -> None:\n",
    "        self._stack.pop()\n",
    "\n",
    "    def top(self) -> int:\n",
    "        return self._stack[-1]\n",
    "\n",
    "    def getMin(self) -> int:\n",
    "        if self._stack:\n",
    "            min_value = self._stack[0]\n",
    "        else:\n",
    "            return self._stack\n",
    "\n",
    "        for val in self._stack:\n",
    "            min_value = min(min_value, val)\n",
    "        \n",
    "        return min_value\n",
    "\n",
    "    def __repr__(self):\n",
    "        return f'{self._stack}'"
   ]
  },
  {
   "cell_type": "code",
   "execution_count": 15,
   "metadata": {},
   "outputs": [],
   "source": [
    "minStack = MinStack()\n",
    "minStack.push(-2)"
   ]
  },
  {
   "cell_type": "code",
   "execution_count": 16,
   "metadata": {},
   "outputs": [
    {
     "data": {
      "text/plain": [
       "[-2]"
      ]
     },
     "execution_count": 16,
     "metadata": {},
     "output_type": "execute_result"
    }
   ],
   "source": [
    "minStack"
   ]
  },
  {
   "cell_type": "code",
   "execution_count": 17,
   "metadata": {},
   "outputs": [
    {
     "data": {
      "text/plain": [
       "[-2, 0]"
      ]
     },
     "execution_count": 17,
     "metadata": {},
     "output_type": "execute_result"
    }
   ],
   "source": [
    "minStack.push(0)\n",
    "minStack"
   ]
  },
  {
   "cell_type": "code",
   "execution_count": 18,
   "metadata": {},
   "outputs": [
    {
     "data": {
      "text/plain": [
       "[-2, 0, -3]"
      ]
     },
     "execution_count": 18,
     "metadata": {},
     "output_type": "execute_result"
    }
   ],
   "source": [
    "minStack.push(-3)\n",
    "minStack"
   ]
  },
  {
   "cell_type": "code",
   "execution_count": 19,
   "metadata": {},
   "outputs": [
    {
     "data": {
      "text/plain": [
       "-3"
      ]
     },
     "execution_count": 19,
     "metadata": {},
     "output_type": "execute_result"
    }
   ],
   "source": [
    "minStack.getMin()"
   ]
  },
  {
   "cell_type": "code",
   "execution_count": null,
   "metadata": {},
   "outputs": [],
   "source": [
    "minStack.pop()"
   ]
  },
  {
   "cell_type": "code",
   "execution_count": 21,
   "metadata": {},
   "outputs": [
    {
     "data": {
      "text/plain": [
       "[-2, 0]"
      ]
     },
     "execution_count": 21,
     "metadata": {},
     "output_type": "execute_result"
    }
   ],
   "source": [
    "minStack"
   ]
  },
  {
   "cell_type": "code",
   "execution_count": 22,
   "metadata": {},
   "outputs": [
    {
     "data": {
      "text/plain": [
       "0"
      ]
     },
     "execution_count": 22,
     "metadata": {},
     "output_type": "execute_result"
    }
   ],
   "source": [
    "minStack.top()"
   ]
  },
  {
   "cell_type": "code",
   "execution_count": 23,
   "metadata": {},
   "outputs": [
    {
     "data": {
      "text/plain": [
       "-2"
      ]
     },
     "execution_count": 23,
     "metadata": {},
     "output_type": "execute_result"
    }
   ],
   "source": [
    "minStack.getMin()"
   ]
  },
  {
   "cell_type": "code",
   "execution_count": null,
   "metadata": {},
   "outputs": [],
   "source": []
  }
 ],
 "metadata": {
  "kernelspec": {
   "display_name": "Python 3",
   "language": "python",
   "name": "python3"
  },
  "language_info": {
   "codemirror_mode": {
    "name": "ipython",
    "version": 3
   },
   "file_extension": ".py",
   "mimetype": "text/x-python",
   "name": "python",
   "nbconvert_exporter": "python",
   "pygments_lexer": "ipython3",
   "version": "3.11.9"
  }
 },
 "nbformat": 4,
 "nbformat_minor": 2
}
