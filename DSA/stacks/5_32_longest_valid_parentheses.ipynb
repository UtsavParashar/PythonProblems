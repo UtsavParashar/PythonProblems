{
 "cells": [
  {
   "cell_type": "markdown",
   "id": "4b8e0d8e",
   "metadata": {},
   "source": [
    "#### 32. Longest Valid Parentheses\n",
    "\n",
    "* https://leetcode.com/problems/longest-valid-parentheses/description/"
   ]
  },
  {
   "cell_type": "code",
   "execution_count": 28,
   "id": "78013cc8",
   "metadata": {},
   "outputs": [],
   "source": [
    "## Credit - https://www.youtube.com/watch?v=vURq_xYGr-k\n",
    "\n",
    "def longest_valid_parentheses(s):\n",
    "    open, close, max_len = 0, 0, 0\n",
    "\n",
    "    for c in s:\n",
    "        if c == '(':\n",
    "            open += 1\n",
    "        else:\n",
    "            close += 1\n",
    "        \n",
    "        if open == close:\n",
    "            max_len = max(max_len, open * 2)\n",
    "        \n",
    "        if close > open:\n",
    "            open, close = 0, 0\n",
    "\n",
    "    open = close = 0\n",
    "    for c in reversed(s):\n",
    "        if c == '(':\n",
    "            open += 1\n",
    "        else:\n",
    "            close += 1\n",
    "        \n",
    "        if open == close:\n",
    "            max_len = max(max_len, open * 2)\n",
    "        \n",
    "        if close < open:\n",
    "            open, close = 0, 0\n",
    "\n",
    "    return max_len"
   ]
  },
  {
   "cell_type": "code",
   "execution_count": 27,
   "id": "b738034a",
   "metadata": {},
   "outputs": [
    {
     "name": "stdout",
     "output_type": "stream",
     "text": [
      "2\n"
     ]
    }
   ],
   "source": [
    "def longest_valid_parentheses_v2(s):\n",
    "\n",
    "    def longest_parentheses(s, reverse=False):\n",
    "        open, close, max_len = 0, 0, 0\n",
    "\n",
    "        for c in (s[::-1] if reverse else s):\n",
    "            if c == '(':\n",
    "                if reverse:\n",
    "                    close += 1\n",
    "                else:\n",
    "                    open += 1\n",
    "            else:\n",
    "                if reverse:\n",
    "                    open += 1\n",
    "                else:\n",
    "                    close += 1\n",
    "            \n",
    "            if open == close:\n",
    "                max_len = max(max_len, open * 2)\n",
    "            \n",
    "            if close > open:\n",
    "                open, close = 0, 0\n",
    "        return max_len\n",
    "\n",
    "    return max(longest_parentheses(s), longest_parentheses(s, reverse=True))\n",
    "\n",
    "# Test the function\n",
    "print(longest_valid_parentheses_v2(\"(()\"))  # Expected Output - 2\n"
   ]
  },
  {
   "cell_type": "code",
   "execution_count": 22,
   "id": "1aa9555f",
   "metadata": {},
   "outputs": [
    {
     "data": {
      "text/plain": [
       "0"
      ]
     },
     "execution_count": 22,
     "metadata": {},
     "output_type": "execute_result"
    }
   ],
   "source": [
    "longest_valid_parentheses(\"(()\")"
   ]
  },
  {
   "cell_type": "code",
   "execution_count": null,
   "id": "935b17cf",
   "metadata": {},
   "outputs": [],
   "source": []
  }
 ],
 "metadata": {
  "kernelspec": {
   "display_name": "Python 3",
   "language": "python",
   "name": "python3"
  },
  "language_info": {
   "codemirror_mode": {
    "name": "ipython",
    "version": 3
   },
   "file_extension": ".py",
   "mimetype": "text/x-python",
   "name": "python",
   "nbconvert_exporter": "python",
   "pygments_lexer": "ipython3",
   "version": "3.11.9"
  }
 },
 "nbformat": 4,
 "nbformat_minor": 5
}
