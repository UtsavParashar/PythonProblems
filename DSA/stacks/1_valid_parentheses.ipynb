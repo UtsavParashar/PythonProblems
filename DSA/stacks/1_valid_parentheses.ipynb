{
 "cells": [
  {
   "cell_type": "markdown",
   "metadata": {},
   "source": [
    "#### 20. Valid Parentheses\n",
    "\n",
    "* Given a string s containing just the characters '(', ')', '{', '}', '[' and ']', determine if the input string is valid.\n",
    "* An input string is valid if:\n",
    "- Open brackets must be closed by the same type of brackets.\n",
    "- Open brackets must be closed in the correct order.\n",
    "- Every close bracket has a corresponding open bracket of the same type.\n",
    " \n",
    "\n",
    "Example 1:\n",
    "\n",
    "Input: s = \"()\"\n",
    "\n",
    "Output: true\n",
    "\n",
    "Example 2:\n",
    "\n",
    "Input: s = \"()[]{}\"\n",
    "\n",
    "Output: true\n",
    "\n",
    "Example 3:\n",
    "\n",
    "Input: s = \"(]\"\n",
    "\n",
    "Output: false\n",
    "\n",
    "Example 4:\n",
    "\n",
    "Input: s = \"([])\"\n",
    "\n",
    "Output: true\n"
   ]
  },
  {
   "cell_type": "code",
   "execution_count": null,
   "metadata": {},
   "outputs": [],
   "source": [
    "def is_valid(s: str) -> bool:\n",
    "    hash_map = {')': '(', '}': '{', ']': '['}\n",
    "    stack = []\n",
    "    for c in s:\n",
    "        if c not in hash_map: # i.e it might be an open bracket\n",
    "            stack.append(c)\n",
    "        else:\n",
    "            if not stack: # i.e if stack is empty but s contain a bracket so return False\n",
    "                return False\n",
    "            else:\n",
    "                popped = stack.pop()\n",
    "                if popped != hash_map[c]:\n",
    "                    return False\n",
    "    return not stack # edge case i.e if any open bracket is left in the stack which didn't had closing bracket\n"
   ]
  },
  {
   "cell_type": "code",
   "execution_count": null,
   "metadata": {},
   "outputs": [],
   "source": [
    "# Optimize and made pythonic by ChatGPT\n",
    "\n",
    "def is_valid(s: str) -> bool:\n",
    "    hash_map = {')': '(', '}': '{', ']': '['}\n",
    "    stack = []\n",
    "    for c in s:\n",
    "        if c in hash_map:\n",
    "            if stack and stack[-1] == hash_map[c]:\n",
    "                stack.pop()\n",
    "            else:\n",
    "                return False\n",
    "        else:\n",
    "            stack.append(c)\n",
    "    return not stack\n"
   ]
  }
 ],
 "metadata": {
  "kernelspec": {
   "display_name": "Python 3",
   "language": "python",
   "name": "python3"
  },
  "language_info": {
   "name": "python",
   "version": "3.11.9"
  }
 },
 "nbformat": 4,
 "nbformat_minor": 2
}
