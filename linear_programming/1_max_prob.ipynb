{
 "cells": [
  {
   "cell_type": "markdown",
   "id": "efeba836",
   "metadata": {},
   "source": [
    "#### Max prob\n",
    "* https://realpython.com/linear-programming-python/"
   ]
  },
  {
   "cell_type": "code",
   "execution_count": 2,
   "id": "d666734b",
   "metadata": {},
   "outputs": [],
   "source": [
    "from scipy.optimize import linprog\n",
    "\n",
    "obj = [-1, -2]\n",
    "\n",
    "lhs_ineq = [[2, 1],\n",
    "            [-4, 5],\n",
    "            [1, -2]]\n",
    "\n",
    "rhs_ineq = [[20,\n",
    "            10,\n",
    "            2]]\n",
    "\n",
    "lhs_eq = [[-1, 5]]\n",
    "rhs_eq = [15]\n",
    "\n",
    "bnd = [(0, float('inf')), (0, float('inf'))]"
   ]
  },
  {
   "cell_type": "code",
   "execution_count": 3,
   "id": "bb38b704",
   "metadata": {},
   "outputs": [
    {
     "name": "stderr",
     "output_type": "stream",
     "text": [
      "C:\\Users\\Utsav\\AppData\\Local\\Temp\\ipykernel_17844\\1731274171.py:1: DeprecationWarning: `method='revised simplex'` is deprecated and will be removed in SciPy 1.11.0. Please use one of the HiGHS solvers (e.g. `method='highs'`) in new code.\n",
      "  opt = linprog(c=obj, A_ub=lhs_ineq, b_ub=rhs_ineq, A_eq = lhs_eq, b_eq=rhs_eq, bounds=bnd, method='revised simplex')\n"
     ]
    },
    {
     "data": {
      "text/plain": [
       " message: Optimization terminated successfully.\n",
       " success: True\n",
       "  status: 0\n",
       "     fun: -16.818181818181817\n",
       "       x: [ 7.727e+00  4.545e+00]\n",
       "     nit: 3"
      ]
     },
     "execution_count": 3,
     "metadata": {},
     "output_type": "execute_result"
    }
   ],
   "source": [
    "opt = linprog(c=obj, A_ub=lhs_ineq, b_ub=rhs_ineq, A_eq = lhs_eq, b_eq=rhs_eq, bounds=bnd, method='revised simplex')\n",
    "opt"
   ]
  },
  {
   "cell_type": "code",
   "execution_count": 4,
   "id": "afffd6a9",
   "metadata": {},
   "outputs": [
    {
     "data": {
      "text/plain": [
       "        message: Optimization terminated successfully. (HiGHS Status 7: Optimal)\n",
       "        success: True\n",
       "         status: 0\n",
       "            fun: -16.818181818181817\n",
       "              x: [ 7.727e+00  4.545e+00]\n",
       "            nit: 0\n",
       "          lower:  residual: [ 7.727e+00  4.545e+00]\n",
       "                 marginals: [ 0.000e+00  0.000e+00]\n",
       "          upper:  residual: [       inf        inf]\n",
       "                 marginals: [ 0.000e+00  0.000e+00]\n",
       "          eqlin:  residual: [ 0.000e+00]\n",
       "                 marginals: [-2.727e-01]\n",
       "        ineqlin:  residual: [ 0.000e+00  1.818e+01  3.364e+00]\n",
       "                 marginals: [-6.364e-01 -0.000e+00 -0.000e+00]\n",
       " mip_node_count: 0\n",
       " mip_dual_bound: 0.0\n",
       "        mip_gap: 0.0"
      ]
     },
     "execution_count": 4,
     "metadata": {},
     "output_type": "execute_result"
    }
   ],
   "source": [
    "opt = linprog(c=obj, A_ub=lhs_ineq, b_ub=rhs_ineq, A_eq = lhs_eq, b_eq=rhs_eq, bounds=bnd)\n",
    "opt"
   ]
  },
  {
   "cell_type": "code",
   "execution_count": 5,
   "id": "02881722",
   "metadata": {},
   "outputs": [
    {
     "data": {
      "text/plain": [
       "        message: Optimization terminated successfully. (HiGHS Status 7: Optimal)\n",
       "        success: True\n",
       "         status: 0\n",
       "            fun: -20.714285714285715\n",
       "              x: [ 6.429e+00  7.143e+00]\n",
       "            nit: 2\n",
       "          lower:  residual: [ 6.429e+00  7.143e+00]\n",
       "                 marginals: [ 0.000e+00  0.000e+00]\n",
       "          upper:  residual: [       inf        inf]\n",
       "                 marginals: [ 0.000e+00  0.000e+00]\n",
       "          eqlin:  residual: []\n",
       "                 marginals: []\n",
       "        ineqlin:  residual: [ 0.000e+00  0.000e+00  9.857e+00]\n",
       "                 marginals: [-9.286e-01 -2.143e-01 -0.000e+00]\n",
       " mip_node_count: 0\n",
       " mip_dual_bound: 0.0\n",
       "        mip_gap: 0.0"
      ]
     },
     "execution_count": 5,
     "metadata": {},
     "output_type": "execute_result"
    }
   ],
   "source": [
    "opt = linprog(c=obj, A_ub=lhs_ineq, b_ub=rhs_ineq,  bounds=bnd)\n",
    "opt"
   ]
  },
  {
   "cell_type": "code",
   "execution_count": 10,
   "id": "daaba41a",
   "metadata": {},
   "outputs": [
    {
     "data": {
      "text/plain": [
       "        message: Optimization terminated successfully. (HiGHS Status 7: Optimal)\n",
       "        success: True\n",
       "         status: 0\n",
       "            fun: -1900.0\n",
       "              x: [ 5.000e+00  0.000e+00  4.500e+01  0.000e+00]\n",
       "            nit: 4\n",
       "          lower:  residual: [ 5.000e+00  0.000e+00  4.500e+01  0.000e+00]\n",
       "                 marginals: [ 0.000e+00  1.800e+01  0.000e+00  2.500e+01]\n",
       "          upper:  residual: [       inf        inf        inf        inf]\n",
       "                 marginals: [ 0.000e+00  0.000e+00  0.000e+00  0.000e+00]\n",
       "          eqlin:  residual: []\n",
       "                 marginals: []\n",
       "        ineqlin:  residual: [ 0.000e+00  4.000e+01  0.000e+00]\n",
       "                 marginals: [-2.000e+01 -0.000e+00 -1.000e+01]\n",
       " mip_node_count: 0\n",
       " mip_dual_bound: 0.0\n",
       "        mip_gap: 0.0"
      ]
     },
     "execution_count": 10,
     "metadata": {},
     "output_type": "execute_result"
    }
   ],
   "source": [
    "### Resource Allocation problem\n",
    "\n",
    "obj = [-20, -12, -40, -25]\n",
    "\n",
    "lhs_ineq = [[1, 1, 1, 1],\n",
    "            [3, 2, 1, 0],\n",
    "            [0, 1, 2, 3]]\n",
    "\n",
    "rhs_ineq = [50, \n",
    "            100,\n",
    "            90]\n",
    "\n",
    "opt = linprog(c=obj, A_ub=lhs_ineq, b_ub=rhs_ineq)\n",
    "opt"
   ]
  },
  {
   "cell_type": "markdown",
   "id": "7bcdbf4f",
   "metadata": {},
   "source": [
    "#### Using Pulp"
   ]
  },
  {
   "cell_type": "code",
   "execution_count": null,
   "id": "e8d6a121",
   "metadata": {},
   "outputs": [],
   "source": [
    "from pulp import LpMaximize, LpProblem, LpStatus, lpSum, LpVariable\n",
    "\n"
   ]
  }
 ],
 "metadata": {
  "kernelspec": {
   "display_name": "Python 3",
   "language": "python",
   "name": "python3"
  },
  "language_info": {
   "codemirror_mode": {
    "name": "ipython",
    "version": 3
   },
   "file_extension": ".py",
   "mimetype": "text/x-python",
   "name": "python",
   "nbconvert_exporter": "python",
   "pygments_lexer": "ipython3",
   "version": "3.11.9"
  }
 },
 "nbformat": 4,
 "nbformat_minor": 5
}
