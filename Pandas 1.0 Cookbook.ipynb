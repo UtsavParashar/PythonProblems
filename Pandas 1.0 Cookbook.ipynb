{
 "cells": [
  {
   "cell_type": "code",
   "execution_count": 2,
   "id": "sunset-glasgow",
   "metadata": {},
   "outputs": [],
   "source": [
    "%matplotlib inline\n",
    "import numpy as np\n",
    "import pandas as pd\n",
    "import matplotlib.pyplot as plt\n",
    "import seaborn as sns"
   ]
  },
  {
   "cell_type": "code",
   "execution_count": 8,
   "id": "medieval-partner",
   "metadata": {},
   "outputs": [],
   "source": [
    "data = '/Users/utsav/Desktop/repos/Pandas-Cookbook-Second-Edition/data/'"
   ]
  },
  {
   "cell_type": "code",
   "execution_count": 9,
   "id": "legitimate-watch",
   "metadata": {},
   "outputs": [
    {
     "data": {
      "text/html": [
       "<div>\n",
       "<style scoped>\n",
       "    .dataframe tbody tr th:only-of-type {\n",
       "        vertical-align: middle;\n",
       "    }\n",
       "\n",
       "    .dataframe tbody tr th {\n",
       "        vertical-align: top;\n",
       "    }\n",
       "\n",
       "    .dataframe thead th {\n",
       "        text-align: right;\n",
       "    }\n",
       "</style>\n",
       "<table border=\"1\" class=\"dataframe\">\n",
       "  <thead>\n",
       "    <tr style=\"text-align: right;\">\n",
       "      <th></th>\n",
       "      <th>color</th>\n",
       "      <th>director_name</th>\n",
       "      <th>num_critic_for_reviews</th>\n",
       "      <th>duration</th>\n",
       "      <th>director_facebook_likes</th>\n",
       "      <th>actor_3_facebook_likes</th>\n",
       "      <th>actor_2_name</th>\n",
       "      <th>actor_1_facebook_likes</th>\n",
       "      <th>gross</th>\n",
       "      <th>genres</th>\n",
       "      <th>...</th>\n",
       "      <th>num_user_for_reviews</th>\n",
       "      <th>language</th>\n",
       "      <th>country</th>\n",
       "      <th>content_rating</th>\n",
       "      <th>budget</th>\n",
       "      <th>title_year</th>\n",
       "      <th>actor_2_facebook_likes</th>\n",
       "      <th>imdb_score</th>\n",
       "      <th>aspect_ratio</th>\n",
       "      <th>movie_facebook_likes</th>\n",
       "    </tr>\n",
       "  </thead>\n",
       "  <tbody>\n",
       "    <tr>\n",
       "      <th>0</th>\n",
       "      <td>Color</td>\n",
       "      <td>James Cameron</td>\n",
       "      <td>723.0</td>\n",
       "      <td>178.0</td>\n",
       "      <td>0.0</td>\n",
       "      <td>855.0</td>\n",
       "      <td>Joel David Moore</td>\n",
       "      <td>1000.0</td>\n",
       "      <td>760505847.0</td>\n",
       "      <td>Action|Adventure|Fantasy|Sci-Fi</td>\n",
       "      <td>...</td>\n",
       "      <td>3054.0</td>\n",
       "      <td>English</td>\n",
       "      <td>USA</td>\n",
       "      <td>PG-13</td>\n",
       "      <td>237000000.0</td>\n",
       "      <td>2009.0</td>\n",
       "      <td>936.0</td>\n",
       "      <td>7.9</td>\n",
       "      <td>1.78</td>\n",
       "      <td>33000</td>\n",
       "    </tr>\n",
       "    <tr>\n",
       "      <th>1</th>\n",
       "      <td>Color</td>\n",
       "      <td>Gore Verbinski</td>\n",
       "      <td>302.0</td>\n",
       "      <td>169.0</td>\n",
       "      <td>563.0</td>\n",
       "      <td>1000.0</td>\n",
       "      <td>Orlando Bloom</td>\n",
       "      <td>40000.0</td>\n",
       "      <td>309404152.0</td>\n",
       "      <td>Action|Adventure|Fantasy</td>\n",
       "      <td>...</td>\n",
       "      <td>1238.0</td>\n",
       "      <td>English</td>\n",
       "      <td>USA</td>\n",
       "      <td>PG-13</td>\n",
       "      <td>300000000.0</td>\n",
       "      <td>2007.0</td>\n",
       "      <td>5000.0</td>\n",
       "      <td>7.1</td>\n",
       "      <td>2.35</td>\n",
       "      <td>0</td>\n",
       "    </tr>\n",
       "    <tr>\n",
       "      <th>2</th>\n",
       "      <td>Color</td>\n",
       "      <td>Sam Mendes</td>\n",
       "      <td>602.0</td>\n",
       "      <td>148.0</td>\n",
       "      <td>0.0</td>\n",
       "      <td>161.0</td>\n",
       "      <td>Rory Kinnear</td>\n",
       "      <td>11000.0</td>\n",
       "      <td>200074175.0</td>\n",
       "      <td>Action|Adventure|Thriller</td>\n",
       "      <td>...</td>\n",
       "      <td>994.0</td>\n",
       "      <td>English</td>\n",
       "      <td>UK</td>\n",
       "      <td>PG-13</td>\n",
       "      <td>245000000.0</td>\n",
       "      <td>2015.0</td>\n",
       "      <td>393.0</td>\n",
       "      <td>6.8</td>\n",
       "      <td>2.35</td>\n",
       "      <td>85000</td>\n",
       "    </tr>\n",
       "    <tr>\n",
       "      <th>3</th>\n",
       "      <td>Color</td>\n",
       "      <td>Christopher Nolan</td>\n",
       "      <td>813.0</td>\n",
       "      <td>164.0</td>\n",
       "      <td>22000.0</td>\n",
       "      <td>23000.0</td>\n",
       "      <td>Christian Bale</td>\n",
       "      <td>27000.0</td>\n",
       "      <td>448130642.0</td>\n",
       "      <td>Action|Thriller</td>\n",
       "      <td>...</td>\n",
       "      <td>2701.0</td>\n",
       "      <td>English</td>\n",
       "      <td>USA</td>\n",
       "      <td>PG-13</td>\n",
       "      <td>250000000.0</td>\n",
       "      <td>2012.0</td>\n",
       "      <td>23000.0</td>\n",
       "      <td>8.5</td>\n",
       "      <td>2.35</td>\n",
       "      <td>164000</td>\n",
       "    </tr>\n",
       "    <tr>\n",
       "      <th>4</th>\n",
       "      <td>NaN</td>\n",
       "      <td>Doug Walker</td>\n",
       "      <td>NaN</td>\n",
       "      <td>NaN</td>\n",
       "      <td>131.0</td>\n",
       "      <td>NaN</td>\n",
       "      <td>Rob Walker</td>\n",
       "      <td>131.0</td>\n",
       "      <td>NaN</td>\n",
       "      <td>Documentary</td>\n",
       "      <td>...</td>\n",
       "      <td>NaN</td>\n",
       "      <td>NaN</td>\n",
       "      <td>NaN</td>\n",
       "      <td>NaN</td>\n",
       "      <td>NaN</td>\n",
       "      <td>NaN</td>\n",
       "      <td>12.0</td>\n",
       "      <td>7.1</td>\n",
       "      <td>NaN</td>\n",
       "      <td>0</td>\n",
       "    </tr>\n",
       "  </tbody>\n",
       "</table>\n",
       "<p>5 rows × 28 columns</p>\n",
       "</div>"
      ],
      "text/plain": [
       "   color      director_name  num_critic_for_reviews  duration  \\\n",
       "0  Color      James Cameron                   723.0     178.0   \n",
       "1  Color     Gore Verbinski                   302.0     169.0   \n",
       "2  Color         Sam Mendes                   602.0     148.0   \n",
       "3  Color  Christopher Nolan                   813.0     164.0   \n",
       "4    NaN        Doug Walker                     NaN       NaN   \n",
       "\n",
       "   director_facebook_likes  actor_3_facebook_likes      actor_2_name  \\\n",
       "0                      0.0                   855.0  Joel David Moore   \n",
       "1                    563.0                  1000.0     Orlando Bloom   \n",
       "2                      0.0                   161.0      Rory Kinnear   \n",
       "3                  22000.0                 23000.0    Christian Bale   \n",
       "4                    131.0                     NaN        Rob Walker   \n",
       "\n",
       "   actor_1_facebook_likes        gross                           genres  ...  \\\n",
       "0                  1000.0  760505847.0  Action|Adventure|Fantasy|Sci-Fi  ...   \n",
       "1                 40000.0  309404152.0         Action|Adventure|Fantasy  ...   \n",
       "2                 11000.0  200074175.0        Action|Adventure|Thriller  ...   \n",
       "3                 27000.0  448130642.0                  Action|Thriller  ...   \n",
       "4                   131.0          NaN                      Documentary  ...   \n",
       "\n",
       "  num_user_for_reviews language  country  content_rating       budget  \\\n",
       "0               3054.0  English      USA           PG-13  237000000.0   \n",
       "1               1238.0  English      USA           PG-13  300000000.0   \n",
       "2                994.0  English       UK           PG-13  245000000.0   \n",
       "3               2701.0  English      USA           PG-13  250000000.0   \n",
       "4                  NaN      NaN      NaN             NaN          NaN   \n",
       "\n",
       "   title_year actor_2_facebook_likes imdb_score  aspect_ratio  \\\n",
       "0      2009.0                  936.0        7.9          1.78   \n",
       "1      2007.0                 5000.0        7.1          2.35   \n",
       "2      2015.0                  393.0        6.8          2.35   \n",
       "3      2012.0                23000.0        8.5          2.35   \n",
       "4         NaN                   12.0        7.1           NaN   \n",
       "\n",
       "  movie_facebook_likes  \n",
       "0                33000  \n",
       "1                    0  \n",
       "2                85000  \n",
       "3               164000  \n",
       "4                    0  \n",
       "\n",
       "[5 rows x 28 columns]"
      ]
     },
     "execution_count": 9,
     "metadata": {},
     "output_type": "execute_result"
    }
   ],
   "source": [
    "movies = pd.read_csv(data + 'movie.csv')\n",
    "movies.head()"
   ]
  },
  {
   "cell_type": "code",
   "execution_count": 6,
   "id": "electronic-attraction",
   "metadata": {},
   "outputs": [
    {
     "data": {
      "text/plain": [
       "array([['Color', 'James Cameron', 723.0, ..., 7.9, 1.78, 33000],\n",
       "       ['Color', 'Gore Verbinski', 302.0, ..., 7.1, 2.35, 0],\n",
       "       ['Color', 'Sam Mendes', 602.0, ..., 6.8, 2.35, 85000],\n",
       "       ...,\n",
       "       ['Color', 'Benjamin Roberds', 13.0, ..., 6.3, nan, 16],\n",
       "       ['Color', 'Daniel Hsia', 14.0, ..., 6.3, 2.35, 660],\n",
       "       ['Color', 'Jon Gunn', 43.0, ..., 6.6, 1.85, 456]], dtype=object)"
      ]
     },
     "execution_count": 6,
     "metadata": {},
     "output_type": "execute_result"
    }
   ],
   "source": [
    "columns = movies.columns\n",
    "index = movies.index\n",
    "data = movies.to_numpy()\n",
    "data"
   ]
  },
  {
   "cell_type": "code",
   "execution_count": 9,
   "id": "contemporary-adaptation",
   "metadata": {},
   "outputs": [
    {
     "data": {
      "text/plain": [
       "numpy.ndarray"
      ]
     },
     "execution_count": 9,
     "metadata": {},
     "output_type": "execute_result"
    }
   ],
   "source": [
    "type(columns) # pandas.core.indexes.base.Index\n",
    "type(index)  # pandas.core.indexes.range.RangeIndex\n",
    "type(data)   # numpy.ndarray"
   ]
  },
  {
   "cell_type": "code",
   "execution_count": 10,
   "id": "commercial-daily",
   "metadata": {},
   "outputs": [
    {
     "data": {
      "text/plain": [
       "True"
      ]
     },
     "execution_count": 10,
     "metadata": {},
     "output_type": "execute_result"
    }
   ],
   "source": [
    "issubclass(pd.RangeIndex, pd.Index) # True == Index --> NumericIndex --> IntegerIndex --> Int64Index -->RangeIndex"
   ]
  },
  {
   "cell_type": "code",
   "execution_count": 12,
   "id": "accessory-program",
   "metadata": {},
   "outputs": [
    {
     "data": {
      "text/plain": [
       "True"
      ]
     },
     "execution_count": 12,
     "metadata": {},
     "output_type": "execute_result"
    }
   ],
   "source": [
    "issubclass(columns.__class__, pd.Index) # True"
   ]
  },
  {
   "cell_type": "code",
   "execution_count": 13,
   "id": "outer-determination",
   "metadata": {},
   "outputs": [
    {
     "data": {
      "text/plain": [
       "array([['Color', 'James Cameron', 723.0, ..., 7.9, 1.78, 33000],\n",
       "       ['Color', 'Gore Verbinski', 302.0, ..., 7.1, 2.35, 0],\n",
       "       ['Color', 'Sam Mendes', 602.0, ..., 6.8, 2.35, 85000],\n",
       "       ...,\n",
       "       ['Color', 'Benjamin Roberds', 13.0, ..., 6.3, nan, 16],\n",
       "       ['Color', 'Daniel Hsia', 14.0, ..., 6.3, 2.35, 660],\n",
       "       ['Color', 'Jon Gunn', 43.0, ..., 6.6, 1.85, 456]], dtype=object)"
      ]
     },
     "execution_count": 13,
     "metadata": {},
     "output_type": "execute_result"
    }
   ],
   "source": [
    "movies.values"
   ]
  },
  {
   "cell_type": "code",
   "execution_count": 14,
   "id": "scheduled-square",
   "metadata": {},
   "outputs": [
    {
     "data": {
      "text/plain": [
       "color                         object\n",
       "director_name                 object\n",
       "num_critic_for_reviews       float64\n",
       "duration                     float64\n",
       "director_facebook_likes      float64\n",
       "actor_3_facebook_likes       float64\n",
       "actor_2_name                  object\n",
       "actor_1_facebook_likes       float64\n",
       "gross                        float64\n",
       "genres                        object\n",
       "actor_1_name                  object\n",
       "movie_title                   object\n",
       "num_voted_users                int64\n",
       "cast_total_facebook_likes      int64\n",
       "actor_3_name                  object\n",
       "facenumber_in_poster         float64\n",
       "plot_keywords                 object\n",
       "movie_imdb_link               object\n",
       "num_user_for_reviews         float64\n",
       "language                      object\n",
       "country                       object\n",
       "content_rating                object\n",
       "budget                       float64\n",
       "title_year                   float64\n",
       "actor_2_facebook_likes       float64\n",
       "imdb_score                   float64\n",
       "aspect_ratio                 float64\n",
       "movie_facebook_likes           int64\n",
       "dtype: object"
      ]
     },
     "execution_count": 14,
     "metadata": {},
     "output_type": "execute_result"
    }
   ],
   "source": [
    "movies.dtypes"
   ]
  },
  {
   "cell_type": "code",
   "execution_count": 27,
   "id": "competent-yugoslavia",
   "metadata": {},
   "outputs": [
    {
     "data": {
      "text/plain": [
       "Steven Spielberg     26\n",
       "Woody Allen          22\n",
       "Clint Eastwood       20\n",
       "Martin Scorsese      20\n",
       "Ridley Scott         16\n",
       "                     ..\n",
       "Fred Durst            1\n",
       "Jason Connery         1\n",
       "Vladlen Barbe         1\n",
       "Floria Sigismondi     1\n",
       "Lucky McKee           1\n",
       "Name: director_name, Length: 2397, dtype: int64"
      ]
     },
     "execution_count": 27,
     "metadata": {},
     "output_type": "execute_result"
    }
   ],
   "source": [
    "movies.dtypes.value_counts()\n",
    "movies['director_name'].value_counts()"
   ]
  },
  {
   "cell_type": "code",
   "execution_count": 28,
   "id": "fabulous-tablet",
   "metadata": {},
   "outputs": [
    {
     "name": "stdout",
     "output_type": "stream",
     "text": [
      "<class 'pandas.core.frame.DataFrame'>\n",
      "RangeIndex: 4916 entries, 0 to 4915\n",
      "Data columns (total 28 columns):\n",
      " #   Column                     Non-Null Count  Dtype  \n",
      "---  ------                     --------------  -----  \n",
      " 0   color                      4897 non-null   object \n",
      " 1   director_name              4814 non-null   object \n",
      " 2   num_critic_for_reviews     4867 non-null   float64\n",
      " 3   duration                   4901 non-null   float64\n",
      " 4   director_facebook_likes    4814 non-null   float64\n",
      " 5   actor_3_facebook_likes     4893 non-null   float64\n",
      " 6   actor_2_name               4903 non-null   object \n",
      " 7   actor_1_facebook_likes     4909 non-null   float64\n",
      " 8   gross                      4054 non-null   float64\n",
      " 9   genres                     4916 non-null   object \n",
      " 10  actor_1_name               4909 non-null   object \n",
      " 11  movie_title                4916 non-null   object \n",
      " 12  num_voted_users            4916 non-null   int64  \n",
      " 13  cast_total_facebook_likes  4916 non-null   int64  \n",
      " 14  actor_3_name               4893 non-null   object \n",
      " 15  facenumber_in_poster       4903 non-null   float64\n",
      " 16  plot_keywords              4764 non-null   object \n",
      " 17  movie_imdb_link            4916 non-null   object \n",
      " 18  num_user_for_reviews       4895 non-null   float64\n",
      " 19  language                   4904 non-null   object \n",
      " 20  country                    4911 non-null   object \n",
      " 21  content_rating             4616 non-null   object \n",
      " 22  budget                     4432 non-null   float64\n",
      " 23  title_year                 4810 non-null   float64\n",
      " 24  actor_2_facebook_likes     4903 non-null   float64\n",
      " 25  imdb_score                 4916 non-null   float64\n",
      " 26  aspect_ratio               4590 non-null   float64\n",
      " 27  movie_facebook_likes       4916 non-null   int64  \n",
      "dtypes: float64(13), int64(3), object(12)\n",
      "memory usage: 1.1+ MB\n"
     ]
    }
   ],
   "source": [
    "movies.info()"
   ]
  },
  {
   "cell_type": "code",
   "execution_count": 34,
   "id": "advanced-hampton",
   "metadata": {},
   "outputs": [
    {
     "data": {
      "text/plain": [
       "dtype('O')"
      ]
     },
     "execution_count": 34,
     "metadata": {},
     "output_type": "execute_result"
    }
   ],
   "source": [
    "pd.Series(['Paul', np.nan, 'George', 10.]).dtypes # dtype('O')"
   ]
  },
  {
   "cell_type": "code",
   "execution_count": 35,
   "id": "unsigned-sixth",
   "metadata": {},
   "outputs": [
    {
     "data": {
      "text/plain": [
       "color                         object\n",
       "director_name                 object\n",
       "num_critic_for_reviews       float64\n",
       "duration                     float64\n",
       "director_facebook_likes      float64\n",
       "actor_3_facebook_likes       float64\n",
       "actor_2_name                  object\n",
       "actor_1_facebook_likes       float64\n",
       "gross                        float64\n",
       "genres                        object\n",
       "actor_1_name                  object\n",
       "movie_title                   object\n",
       "num_voted_users                int64\n",
       "cast_total_facebook_likes      int64\n",
       "actor_3_name                  object\n",
       "facenumber_in_poster         float64\n",
       "plot_keywords                 object\n",
       "movie_imdb_link               object\n",
       "num_user_for_reviews         float64\n",
       "language                      object\n",
       "country                       object\n",
       "content_rating                object\n",
       "budget                       float64\n",
       "title_year                   float64\n",
       "actor_2_facebook_likes       float64\n",
       "imdb_score                   float64\n",
       "aspect_ratio                 float64\n",
       "movie_facebook_likes           int64\n",
       "dtype: object"
      ]
     },
     "execution_count": 35,
     "metadata": {},
     "output_type": "execute_result"
    }
   ],
   "source": [
    "movies.dtypes"
   ]
  },
  {
   "cell_type": "code",
   "execution_count": 43,
   "id": "miniature-burden",
   "metadata": {},
   "outputs": [
    {
     "data": {
      "text/plain": [
       "0           James Cameron\n",
       "1          Gore Verbinski\n",
       "2              Sam Mendes\n",
       "3       Christopher Nolan\n",
       "4             Doug Walker\n",
       "              ...        \n",
       "4911          Scott Smith\n",
       "4912                  NaN\n",
       "4913     Benjamin Roberds\n",
       "4914          Daniel Hsia\n",
       "4915             Jon Gunn\n",
       "Name: director_name, Length: 4916, dtype: object"
      ]
     },
     "execution_count": 43,
     "metadata": {},
     "output_type": "execute_result"
    }
   ],
   "source": [
    "movies.director_name "
   ]
  },
  {
   "cell_type": "code",
   "execution_count": 44,
   "id": "compact-shareware",
   "metadata": {},
   "outputs": [
    {
     "data": {
      "text/plain": [
       "0           James Cameron\n",
       "1          Gore Verbinski\n",
       "2              Sam Mendes\n",
       "3       Christopher Nolan\n",
       "4             Doug Walker\n",
       "              ...        \n",
       "4911          Scott Smith\n",
       "4912                  NaN\n",
       "4913     Benjamin Roberds\n",
       "4914          Daniel Hsia\n",
       "4915             Jon Gunn\n",
       "Name: director_name, Length: 4916, dtype: object"
      ]
     },
     "execution_count": 44,
     "metadata": {},
     "output_type": "execute_result"
    }
   ],
   "source": [
    "movies['director_name']"
   ]
  },
  {
   "cell_type": "code",
   "execution_count": 41,
   "id": "static-franklin",
   "metadata": {},
   "outputs": [
    {
     "data": {
      "text/plain": [
       "4377252848"
      ]
     },
     "execution_count": 41,
     "metadata": {},
     "output_type": "execute_result"
    }
   ],
   "source": [
    "id(movies.director_name.iloc[4912])"
   ]
  },
  {
   "cell_type": "code",
   "execution_count": 47,
   "id": "portable-center",
   "metadata": {},
   "outputs": [
    {
     "data": {
      "text/plain": [
       "0           James Cameron\n",
       "1          Gore Verbinski\n",
       "2              Sam Mendes\n",
       "3       Christopher Nolan\n",
       "4             Doug Walker\n",
       "              ...        \n",
       "4911          Scott Smith\n",
       "4912                  NaN\n",
       "4913     Benjamin Roberds\n",
       "4914          Daniel Hsia\n",
       "4915             Jon Gunn\n",
       "Name: director_name, Length: 4916, dtype: object"
      ]
     },
     "execution_count": 47,
     "metadata": {},
     "output_type": "execute_result"
    }
   ],
   "source": [
    "movies.loc[:, 'director_name']"
   ]
  },
  {
   "cell_type": "code",
   "execution_count": 48,
   "id": "compliant-canada",
   "metadata": {},
   "outputs": [
    {
     "data": {
      "text/plain": [
       "0           James Cameron\n",
       "1          Gore Verbinski\n",
       "2              Sam Mendes\n",
       "3       Christopher Nolan\n",
       "4             Doug Walker\n",
       "              ...        \n",
       "4911          Scott Smith\n",
       "4912                  NaN\n",
       "4913     Benjamin Roberds\n",
       "4914          Daniel Hsia\n",
       "4915             Jon Gunn\n",
       "Name: director_name, Length: 4916, dtype: object"
      ]
     },
     "execution_count": 48,
     "metadata": {},
     "output_type": "execute_result"
    }
   ],
   "source": [
    "movies.iloc[:, 1]"
   ]
  },
  {
   "cell_type": "code",
   "execution_count": 49,
   "id": "arabic-point",
   "metadata": {},
   "outputs": [
    {
     "data": {
      "text/plain": [
       "pandas.core.frame.DataFrame"
      ]
     },
     "execution_count": 49,
     "metadata": {},
     "output_type": "execute_result"
    }
   ],
   "source": [
    "type(movies)"
   ]
  },
  {
   "cell_type": "code",
   "execution_count": 55,
   "id": "concerned-light",
   "metadata": {},
   "outputs": [
    {
     "data": {
      "text/plain": [
       "pandas.core.series.Series"
      ]
     },
     "execution_count": 55,
     "metadata": {},
     "output_type": "execute_result"
    }
   ],
   "source": [
    "movies['director_name'].index # RangeIndex(start=0, stop=4916, step=1)\n",
    "movies['director_name'].dtype # dtype('O')\n",
    "movies['director_name'].size  # 4916\n",
    "movies['director_name'].name  # 'director_name\n",
    "type(movies['director_name']) # pandas.core.series.Series"
   ]
  },
  {
   "cell_type": "code",
   "execution_count": 62,
   "id": "broadband-chrome",
   "metadata": {},
   "outputs": [
    {
     "data": {
      "text/plain": [
       "array([<class 'str'>, <class 'float'>], dtype=object)"
      ]
     },
     "execution_count": 62,
     "metadata": {},
     "output_type": "execute_result"
    }
   ],
   "source": [
    "movies['director_name'].apply(type).unique() # array([<class 'str'>, <class 'float'>], dtype=object)\n"
   ]
  },
  {
   "cell_type": "code",
   "execution_count": 71,
   "id": "standard-version",
   "metadata": {},
   "outputs": [
    {
     "data": {
      "text/plain": [
       "434"
      ]
     },
     "execution_count": 71,
     "metadata": {},
     "output_type": "execute_result"
    }
   ],
   "source": [
    "s_attr_methods = set(dir(pd.Series))\n",
    "len(s_attr_methods) # 434"
   ]
  },
  {
   "cell_type": "code",
   "execution_count": 72,
   "id": "associate-ballet",
   "metadata": {},
   "outputs": [
    {
     "data": {
      "text/plain": [
       "441"
      ]
     },
     "execution_count": 72,
     "metadata": {},
     "output_type": "execute_result"
    }
   ],
   "source": [
    "df_attr_methods = set(dir(pd.DataFrame))\n",
    "len(df_attr_methods) # 441"
   ]
  },
  {
   "cell_type": "code",
   "execution_count": 73,
   "id": "spread-charles",
   "metadata": {},
   "outputs": [
    {
     "data": {
      "text/plain": [
       "384"
      ]
     },
     "execution_count": 73,
     "metadata": {},
     "output_type": "execute_result"
    }
   ],
   "source": [
    "len(s_attr_methods & df_attr_methods) # 384"
   ]
  },
  {
   "cell_type": "code",
   "execution_count": 75,
   "id": "valuable-richards",
   "metadata": {},
   "outputs": [
    {
     "data": {
      "text/plain": [
       "dtype('float64')"
      ]
     },
     "execution_count": 75,
     "metadata": {},
     "output_type": "execute_result"
    }
   ],
   "source": [
    "director = movies.director_name\n",
    "fb_likes = movies.actor_1_facebook_likes\n",
    "director.dtype # dtype('O')\n",
    "fb_likes.dtype # dtype('float64')"
   ]
  },
  {
   "cell_type": "code",
   "execution_count": 76,
   "id": "natural-enhancement",
   "metadata": {},
   "outputs": [
    {
     "data": {
      "text/plain": [
       "0        James Cameron\n",
       "1       Gore Verbinski\n",
       "2           Sam Mendes\n",
       "3    Christopher Nolan\n",
       "4          Doug Walker\n",
       "Name: director_name, dtype: object"
      ]
     },
     "execution_count": 76,
     "metadata": {},
     "output_type": "execute_result"
    }
   ],
   "source": [
    "director.head()"
   ]
  },
  {
   "cell_type": "code",
   "execution_count": 80,
   "id": "awful-toner",
   "metadata": {},
   "outputs": [
    {
     "data": {
      "text/plain": [
       "3568     Claude Chabrol\n",
       "4056      Monte Hellman\n",
       "254     Martin Scorsese\n",
       "3576        Greg Marcks\n",
       "3021       Lisa Azuelos\n",
       "Name: director_name, dtype: object"
      ]
     },
     "execution_count": 80,
     "metadata": {},
     "output_type": "execute_result"
    }
   ],
   "source": [
    "director.sample(5, random_state=21)"
   ]
  },
  {
   "cell_type": "code",
   "execution_count": 81,
   "id": "another-satin",
   "metadata": {},
   "outputs": [
    {
     "data": {
      "text/plain": [
       "Steven Spielberg     26\n",
       "Woody Allen          22\n",
       "Clint Eastwood       20\n",
       "Martin Scorsese      20\n",
       "Ridley Scott         16\n",
       "                     ..\n",
       "Fred Durst            1\n",
       "Jason Connery         1\n",
       "Vladlen Barbe         1\n",
       "Floria Sigismondi     1\n",
       "Lucky McKee           1\n",
       "Name: director_name, Length: 2397, dtype: int64"
      ]
     },
     "execution_count": 81,
     "metadata": {},
     "output_type": "execute_result"
    }
   ],
   "source": [
    "director.value_counts()"
   ]
  },
  {
   "cell_type": "code",
   "execution_count": 82,
   "id": "tropical-banner",
   "metadata": {},
   "outputs": [
    {
     "data": {
      "text/plain": [
       "1000.0     436\n",
       "11000.0    206\n",
       "2000.0     189\n",
       "3000.0     150\n",
       "12000.0    131\n",
       "          ... \n",
       "564.0        1\n",
       "46000.0      1\n",
       "49.0         1\n",
       "447.0        1\n",
       "161.0        1\n",
       "Name: actor_1_facebook_likes, Length: 877, dtype: int64"
      ]
     },
     "execution_count": 82,
     "metadata": {},
     "output_type": "execute_result"
    }
   ],
   "source": [
    "fb_likes.value_counts()"
   ]
  },
  {
   "cell_type": "code",
   "execution_count": 100,
   "id": "fifty-blues",
   "metadata": {},
   "outputs": [
    {
     "data": {
      "text/plain": [
       "numpy.ndarray"
      ]
     },
     "execution_count": 100,
     "metadata": {},
     "output_type": "execute_result"
    }
   ],
   "source": [
    "director.size # 4916\n",
    "type(director.size) # int\n",
    "director.shape # (4916,)\n",
    "type(director.shape) # tuple\n",
    "type(director.unique())"
   ]
  },
  {
   "cell_type": "code",
   "execution_count": 101,
   "id": "similar-donor",
   "metadata": {},
   "outputs": [
    {
     "data": {
      "text/plain": [
       "array(['James Cameron', 'Gore Verbinski', 'Sam Mendes', ...,\n",
       "       'Scott Smith', 'Benjamin Roberds', 'Daniel Hsia'], dtype=object)"
      ]
     },
     "execution_count": 101,
     "metadata": {},
     "output_type": "execute_result"
    }
   ],
   "source": [
    "director.unique()"
   ]
  },
  {
   "cell_type": "markdown",
   "id": "indoor-speed",
   "metadata": {},
   "source": [
    "def decor_upper(func):\n",
    "    def wrapper():\n",
    "        orig_func = func()\n",
    "        modified_ver = func().upper() ## Original function is called here\n",
    "        return modified_ver\n",
    "    return wrapper\n",
    "\n",
    "@decor_upper\n",
    "def greet():\n",
    "    return 'hello'\n",
    "@decor_upper\n",
    "def abuse():\n",
    "    return 'bastard'\n",
    "\n",
    "print(greet()) # HELLO\n",
    "print(abuse()) # BASTARD"
   ]
  },
  {
   "cell_type": "markdown",
   "id": "grand-clinic",
   "metadata": {},
   "source": [
    "# Book - From Python to Numpy"
   ]
  },
  {
   "cell_type": "code",
   "execution_count": 3,
   "id": "anticipated-triple",
   "metadata": {},
   "outputs": [
    {
     "data": {
      "text/plain": [
       "1.4564085540000065"
      ]
     },
     "execution_count": 3,
     "metadata": {},
     "output_type": "execute_result"
    }
   ],
   "source": [
    "import random\n",
    "import timeit\n",
    "class RandomWalker:\n",
    "    def __init__(self):\n",
    "        self.position = 0\n",
    "        \n",
    "    def walk(self, n):\n",
    "        self.position = 0\n",
    "        for i in range(n):\n",
    "            yield self.position\n",
    "            self.position += 2 * random.randint(0,1) - 1\n",
    "\n",
    "walker = RandomWalker()\n",
    "timeit.Timer('[position for position in walker.walk(10000)]', 'from __main__ import walker').timeit(100)\n",
    "# 1.418"
   ]
  },
  {
   "cell_type": "code",
   "execution_count": 5,
   "id": "southern-safety",
   "metadata": {},
   "outputs": [
    {
     "data": {
      "text/plain": [
       "1.274039820000013"
      ]
     },
     "execution_count": 5,
     "metadata": {},
     "output_type": "execute_result"
    }
   ],
   "source": [
    "def walk(n):\n",
    "    position = 0\n",
    "    walk = [position]\n",
    "    for i in range(n):\n",
    "        position += 2 * random.randint(0,1) - 1\n",
    "        walk.append(position)\n",
    "    return walk\n",
    "timeit.Timer('walk(10000)', 'from __main__ import walk').timeit(100)"
   ]
  },
  {
   "cell_type": "code",
   "execution_count": 94,
   "id": "basic-making",
   "metadata": {},
   "outputs": [
    {
     "data": {
      "text/plain": [
       "0.01899421199959761"
      ]
     },
     "execution_count": 94,
     "metadata": {},
     "output_type": "execute_result"
    }
   ],
   "source": [
    "def random_walk(n=1000):\n",
    "    steps = np.random.choice([-1,+1], n)\n",
    "    return np.cumsum(steps)\n",
    "timeit.Timer('random_walk(10000)', 'from __main__ import random_walk').timeit(100)"
   ]
  },
  {
   "cell_type": "code",
   "execution_count": 92,
   "id": "capable-footage",
   "metadata": {},
   "outputs": [
    {
     "data": {
      "text/plain": [
       "array([-1, -2, -1,  0, -1, -2, -3, -4, -3, -2])"
      ]
     },
     "execution_count": 92,
     "metadata": {},
     "output_type": "execute_result"
    }
   ],
   "source": [
    "np.cumsum(np.random.choice([-1, +1], 10))"
   ]
  },
  {
   "cell_type": "code",
   "execution_count": 3,
   "id": "adolescent-liability",
   "metadata": {},
   "outputs": [
    {
     "name": "stdout",
     "output_type": "stream",
     "text": [
      "945 ns ± 4.84 ns per loop (mean ± std. dev. of 7 runs, 1000000 loops each)\n"
     ]
    }
   ],
   "source": [
    "%timeit [i*i for i in range(10)]"
   ]
  },
  {
   "cell_type": "code",
   "execution_count": 6,
   "id": "outer-possibility",
   "metadata": {},
   "outputs": [
    {
     "name": "stdout",
     "output_type": "stream",
     "text": [
      "The line_profiler extension is already loaded. To reload it, use:\n",
      "  %reload_ext line_profiler\n"
     ]
    },
    {
     "name": "stderr",
     "output_type": "stream",
     "text": [
      "/Users/utsav/.conda/envs/myenv/lib/python3.9/site-packages/line_profiler/line_profiler.py:328: UserWarning: Could not extract a code object for the object [0, -1, -2, -1, 0, -1, 0, 1, 2, 3, 2, 1, 2, 3, 4, 3, 4, 3, 2, 3, 2, 3, 2, 1, 0, 1, 2, 1, 0, 1, 0, 1, 2, 1, 0, 1, 0, -1, 0, 1, 0, -1, -2, -1, 0, 1, 0, 1, 0, -1, 0, -1, -2, -1, 0, 1, 0, -1, 0, 1, 0, 1, 0, -1, -2, -1, -2, -1, -2, -1, 0, -1, 0, -1, -2, -3, -2, -1, -2, -1, -2, -3, -2, -1, -2, -3, -2, -1, -2, -3, -2, -1, -2, -1, -2, -3, -4, -5, -4, -3, -4, -3, -2, -1, -2, -1, 0, 1, 2, 1, 0, -1, 0, -1, 0, -1, 0, -1, -2, -3, -2, -1, 0, -1, 0, 1, 2, 1, 2, 3, 4, 3, 2, 3, 4, 5, 4, 5, 6, 5, 4, 5, 4, 3, 4, 5, 6, 5, 6, 5, 4, 3, 4, 3, 4, 5, 6, 5, 4, 3, 4, 5, 6, 5, 4, 3, 4, 3, 2, 1, 2, 3, 4, 3, 2, 1, 0, -1, 0, 1, 0, -1, 0, -1, 0, 1, 0, -1, 0, 1, 2, 1, 2, 1, 0, -1, -2, -1, -2, -3, -2, -1, 0, -1, -2, -1, 0, -1, 0, 1, 2, 3, 4, 3, 2, 3, 2, 3, 4, 5, 4, 5, 6, 5, 4, 3, 2, 1, 2, 1, 0, -1, -2, -3, -4, -5, -6, -7, -8, -9, -10, -11, -10, -11, -10, -11, -12, -11, -12, -11, -10, -9, -10, -11, -12, -13, -14, -15, -16, -15, -16, -15, -14, -15, -16, -15, -14, -15, -14, -13, -12, -13, -14, -15, -16, -15, -16, -15, -14, -15, -16, -17, -16, -15, -16, -17, -18, -17, -18, -17, -18, -19, -18, -17, -18, -19, -18, -19, -20, -21, -20, -19, -20, -19, -18, -19, -20, -21, -22, -23, -24, -25, -24, -23, -24, -23, -22, -23, -22, -21, -22, -21, -22, -23, -24, -23, -22, -21, -20, -19, -18, -17, -18, -19, -18, -17, -16, -15, -14, -13, -14, -15, -16, -17, -16, -15, -16, -15, -16, -17, -16, -17, -16, -17, -16, -17, -18, -17, -16, -15, -14, -15, -14, -15, -14, -13, -12, -13, -14, -13, -14, -13, -12, -13, -12, -11, -12, -11, -12, -13, -12, -11, -12, -13, -12, -11, -12, -11, -10, -9, -10, -9, -10, -11, -12, -13, -14, -13, -14, -15, -14, -13, -12, -11, -12, -13, -14, -13, -12, -11, -12, -11, -10, -9, -10, -11, -12, -11, -12, -11, -12, -11, -10, -9, -10, -9, -10, -11, -10, -9, -10, -9, -8, -7, -6, -5, -4, -5, -4, -5, -6, -5, -4, -3, -4, -5, -6, -5, -6, -5, -6, -5, -6, -5, -4, -5, -6, -7, -6, -7, -6, -5, -6, -5, -6, -5, -4, -5, -4, -5, -6, -5, -4, -5, -6, -5, -6, -7, -6, -7, -8, -9, -10, -9, -10, -9, -8, -9, -10, -11, -12, -13, -14, -13, -14, -15, -14, -13, -12, -13, -12, -11, -12, -11, -12, -11, -12, -13, -14, -15, -14, -13, -12, -11, -12, -11, -12, -13, -14, -15, -16, -17, -16, -15, -14, -15, -16, -17, -18, -19, -18, -19, -18, -19, -20, -19, -18, -17, -18, -17, -16, -15, -14, -15, -16, -17, -16, -15, -16, -17, -16, -17, -16, -17, -16, -15, -14, -13, -12, -13, -14, -13, -14, -13, -12, -13, -14, -13, -14, -15, -16, -15, -16, -15, -16, -15, -14, -13, -14, -15, -14, -13, -12, -13, -12, -13, -12, -13, -12, -13, -14, -15, -16, -17, -16, -17, -16, -15, -14, -15, -16, -17, -18, -17, -16, -17, -16, -17, -16, -15, -14, -15, -16, -15, -14, -15, -14, -15, -14, -13, -14, -13, -12, -11, -10, -11, -10, -9, -10, -11, -10, -11, -10, -11, -12, -13, -14, -15, -14, -13, -12, -13, -14, -13, -12, -13, -14, -15, -16, -17, -16, -15, -16, -17, -18, -17, -16, -17, -16, -15, -14, -13, -14, -15, -14, -15, -14, -15, -16, -17, -18, -17, -18, -19, -18, -19, -18, -19, -20, -21, -20, -19, -20, -21, -22, -23, -24, -23, -22, -21, -20, -21, -20, -21, -20, -21, -22, -21, -22, -23, -24, -23, -24, -23, -24, -25, -26, -25, -24, -25, -24, -23, -24, -25, -24, -25, -24, -23, -24, -25, -24, -23, -22, -21, -20, -21, -22, -23, -24, -25, -24, -23, -24, -23, -22, -23, -24, -25, -26, -27, -28, -27, -28, -27, -26, -27, -28, -29, -28, -27, -26, -25, -26, -27, -26, -25, -24, -25, -24, -25, -26, -25, -24, -23, -24, -23, -22, -23, -22, -23, -22, -23, -24, -25, -24, -23, -22, -23, -22, -23, -22, -23, -24, -25, -24, -25, -24, -23, -24, -25, -26, -25, -24, -23, -24, -25, -24, -23, -24, -23, -22, -21, -20, -19, -18, -19, -20, -19, -20, -19, -20, -19, -18, -19, -18, -19, -20, -21, -22, -21, -20, -19, -20, -19, -20, -19, -20, -21, -20, -21, -20, -19, -20, -19, -18, -19, -18, -19, -20, -19, -18, -19, -18, -19, -18, -17, -18, -17, -16, -17, -18, -17, -18, -19, -18, -19, -20, -19, -18, -19, -20, -21, -22, -23, -24, -25, -26, -27, -28, -27, -28, -27, -28, -27, -28, -29, -30, -29, -30, -29, -28, -29, -28, -29, -30, -31, -32, -31, -30, -31, -30, -31, -30, -31, -30, -31, -32, -33, -32, -33, -34, -35, -34, -35, -36, -37, -38, -39, -38, -37, -36, -37, -38, -39, -40, -41, -40, -41, -40, -41, -40, -39, -38, -39, -38, -39, -38, -37, -38, -37, -38, -37, -38, -39, -38, -39, -38, -39, -38, -39, -40, -41, -42, -41, -40, -39, -40, -39, -38, -39, -40, -41, -40, -41, -42, -41, -42, -43, -44, -45, -44, -45, -46, -47, -46, -45, -46, -45, -44, -45, -46, -47, -48, -49, -50, -51, -52, -53, -54, -55, -54, -53, -52, -53, -52, -51, -50, -51, -52, -53, -54, -55, -54, -55, -56, -55, -56, -55, -56, -57, -56]\n",
      "  profile = LineProfiler(*funcs)\n"
     ]
    }
   ],
   "source": [
    "import line_profiler\n",
    "%load_ext line_profiler\n",
    "%lprun -f walk(1000)"
   ]
  },
  {
   "cell_type": "code",
   "execution_count": 7,
   "id": "known-bikini",
   "metadata": {},
   "outputs": [
    {
     "name": "stderr",
     "output_type": "stream",
     "text": [
      "/Users/utsav/.conda/envs/myenv/lib/python3.9/site-packages/line_profiler/line_profiler.py:328: UserWarning: Could not extract a code object for the object [0, 1, 0, 1, 2, 1, 0, 1, 0, -1, 0, -1, 0, -1, 0, -1, 0, 1, 2, 1, 0, -1, -2, -1, -2, -3, -4, -5, -6, -7, -8, -9, -8, -9, -8, -9, -8, -7, -6, -5, -6, -7, -8, -7, -6, -5, -4, -3, -2, -3, -4, -5, -4, -5, -4, -5, -6, -5, -4, -3, -2, -3, -4, -5, -6, -5, -6, -7, -6, -5, -6, -7, -6, -7, -8, -7, -6, -5, -4, -5, -6, -7, -8, -7, -8, -7, -8, -9, -10, -11, -10, -11, -10, -11, -10, -11, -10, -9, -10, -11, -12, -11, -10, -11, -12, -11, -12, -11, -10, -11, -10, -9, -8, -7, -6, -7, -6, -5, -4, -5, -4, -3, -2, -1, -2, -1, 0, 1, 0, 1, 0, 1, 2, 1, 0, 1, 0, -1, -2, -1, -2, -3, -4, -5, -4, -5, -4, -3, -2, -3, -2, -3, -4, -3, -2, -1, 0, 1, 0, 1, 0, -1, 0, 1, 2, 1, 0, 1, 0, 1, 0, -1, -2, -1, -2, -3, -2, -3, -2, -1, 0, 1, 2, 3, 2, 1, 2, 1, 2, 3, 4, 3, 2, 1, 0, -1, -2, -1, 0, 1, 0, -1, -2, -1, 0, -1, 0, 1, 2, 3, 4, 3, 4, 5, 4, 5, 4, 3, 4, 3, 2, 3, 2, 1, 2, 1, 0, 1, 2, 1, 2, 3, 2, 1, 0, -1, 0, 1, 0, 1, 0, -1, 0, 1, 0, -1, 0, -1, -2, -1, 0, 1, 2, 3, 4, 5, 4, 3, 4, 3, 4, 3, 2, 1, 0, -1, -2, -1, 0, 1, 2, 3, 2, 1, 2, 3, 4, 3, 4, 5, 4, 5, 4, 5, 4, 3, 2, 1, 2, 1, 0, -1, -2, -1, 0, 1, 0, 1, 0, -1, 0, 1, 0, 1, 2, 3, 2, 1, 0, 1, 0, 1, 2, 3, 2, 1, 0, 1, 0, 1, 2, 3, 2, 1, 2, 3, 4, 5, 6, 5, 4, 3, 2, 3, 2, 1, 0, -1, -2, -1, -2, -1, -2, -3, -4, -5, -6, -7, -8, -7, -6, -7, -6, -7, -6, -5, -4, -5, -6, -5, -6, -7, -8, -7, -8, -7, -6, -7, -8, -9, -10, -9, -10, -9, -10, -9, -10, -11, -10, -9, -8, -9, -10, -11, -12, -11, -12, -13, -14, -13, -12, -11, -10, -11, -10, -11, -12, -11, -12, -11, -12, -13, -12, -11, -12, -11, -10, -9, -10, -9, -8, -7, -8, -7, -8, -9, -10, -9, -8, -7, -6, -5, -6, -7, -8, -7, -6, -5, -6, -7, -6, -5, -6, -5, -6, -5, -6, -7, -6, -7, -6, -5, -4, -5, -6, -7, -8, -9, -8, -7, -6, -7, -8, -9, -10, -11, -12, -11, -10, -11, -12, -11, -12, -13, -12, -13, -14, -15, -16, -17, -16, -15, -14, -15, -14, -13, -14, -15, -16, -17, -18, -19, -20, -19, -18, -19, -18, -19, -20, -19, -20, -19, -18, -19, -18, -17, -18, -19, -20, -21, -22, -23, -22, -21, -22, -23, -22, -21, -20, -19, -20, -21, -22, -21, -20, -19, -18, -17, -18, -17, -16, -15, -14, -15, -14, -13, -14, -15, -14, -15, -16, -17, -16, -17, -18, -17, -18, -19, -20, -21, -20, -19, -20, -21, -22, -21, -22, -23, -22, -23, -24, -25, -26, -27, -28, -27, -28, -29, -30, -31, -32, -31, -32, -31, -32, -31, -32, -33, -32, -33, -32, -33, -32, -31, -32, -33, -34, -33, -34, -33, -34, -33, -32, -31, -32, -33, -32, -33, -34, -35, -36, -37, -38, -39, -38, -37, -36, -37, -36, -37, -38, -37, -38, -39, -40, -41, -40, -39, -38, -37, -38, -39, -38, -39, -40, -41, -42, -43, -44, -45, -46, -47, -48, -49, -50, -49, -48, -47, -48, -47, -46, -45, -46, -45, -46, -45, -44, -45, -46, -47, -48, -47, -48, -47, -48, -47, -46, -45, -46, -45, -44, -43, -42, -41, -40, -39, -40, -39, -40, -41, -40, -41, -40, -39, -40, -41, -42, -43, -42, -41, -42, -41, -42, -41, -40, -41, -40, -39, -40, -41, -42, -41, -40, -41, -40, -39, -38, -37, -38, -39, -38, -39, -38, -37, -38, -39, -40, -39, -40, -39, -40, -41, -42, -43, -42, -43, -42, -41, -40, -39, -40, -41, -42, -41, -42, -43, -42, -43, -44, -45, -46, -45, -46, -47, -46, -45, -44, -43, -42, -41, -42, -41, -42, -41, -40, -41, -40, -41, -40, -41, -40, -41, -42, -43, -42, -43, -44, -45, -44, -45, -46, -45, -44, -43, -42, -41, -40, -39, -40, -41, -42, -41, -40, -39, -40, -39, -40, -41, -40, -39, -40, -41, -40, -41, -40, -41, -42, -41, -42, -41, -40, -39, -38, -39, -38, -37, -38, -37, -38, -39, -38, -39, -38, -37, -38, -39, -40, -41, -42, -41, -42, -41, -42, -43, -44, -45, -46, -47, -48, -49, -48, -47, -46, -47, -46, -47, -46, -45, -46, -47, -48, -49, -48, -49, -50, -49, -48, -49, -50, -51, -50, -51, -52, -51, -50, -51, -50, -49, -50, -51, -50, -51, -52, -51, -50, -51, -50, -51, -52, -51, -52, -53, -54, -55, -56, -57, -58, -59, -60, -61, -60, -61, -60, -59, -60, -61, -60, -59, -60, -59, -60, -61, -60, -59, -60, -61, -60, -59, -58, -59, -58, -59, -58, -57, -56, -55, -54, -53, -52, -51, -50, -51, -52, -53, -52, -53, -54, -55, -54, -55, -56, -57, -58, -59, -60, -59, -58, -59, -60, -61, -60, -61, -60, -59, -58, -57, -56, -57, -58, -57, -58, -57, -56, -57, -56, -55, -56, -55, -54, -53, -54, -55, -56, -57, -58, -57, -56, -57, -56, -57, -58, -57, -56, -57, -58, -59, -58, -57, -56, -55, -56, -57, -58, -57, -56, -57, -56, -57, -56, -57, -58, -57, -56, -57, -58, -57, -56, -57, -56, -57, -58, -57, -56, -55, -56, -55, -56, -55, -56, -55, -54, -55, -54, -55, -56, -55, -56, -55, -54, -53, -54, -53, -52, -51, -50, -49, -50, -49, -50, -49, -48]\n",
      "  profile = LineProfiler(*funcs)\n"
     ]
    }
   ],
   "source": [
    "%lprun -f walk(1000)"
   ]
  },
  {
   "cell_type": "code",
   "execution_count": 21,
   "id": "noted-sister",
   "metadata": {},
   "outputs": [
    {
     "data": {
      "text/html": [
       "<div>\n",
       "<style scoped>\n",
       "    .dataframe tbody tr th:only-of-type {\n",
       "        vertical-align: middle;\n",
       "    }\n",
       "\n",
       "    .dataframe tbody tr th {\n",
       "        vertical-align: top;\n",
       "    }\n",
       "\n",
       "    .dataframe thead th {\n",
       "        text-align: right;\n",
       "    }\n",
       "</style>\n",
       "<table border=\"1\" class=\"dataframe\">\n",
       "  <thead>\n",
       "    <tr style=\"text-align: right;\">\n",
       "      <th></th>\n",
       "      <th>color</th>\n",
       "      <th>director_name</th>\n",
       "      <th>num_critic_for_reviews</th>\n",
       "      <th>duration</th>\n",
       "      <th>director_facebook_likes</th>\n",
       "      <th>actor_3_facebook_likes</th>\n",
       "      <th>actor_2_name</th>\n",
       "      <th>actor_1_facebook_likes</th>\n",
       "      <th>gross</th>\n",
       "      <th>genres</th>\n",
       "      <th>...</th>\n",
       "      <th>num_user_for_reviews</th>\n",
       "      <th>language</th>\n",
       "      <th>country</th>\n",
       "      <th>content_rating</th>\n",
       "      <th>budget</th>\n",
       "      <th>title_year</th>\n",
       "      <th>actor_2_facebook_likes</th>\n",
       "      <th>imdb_score</th>\n",
       "      <th>aspect_ratio</th>\n",
       "      <th>movie_facebook_likes</th>\n",
       "    </tr>\n",
       "  </thead>\n",
       "  <tbody>\n",
       "    <tr>\n",
       "      <th>0</th>\n",
       "      <td>Color</td>\n",
       "      <td>James Cameron</td>\n",
       "      <td>723.0</td>\n",
       "      <td>178.0</td>\n",
       "      <td>0.0</td>\n",
       "      <td>855.0</td>\n",
       "      <td>Joel David Moore</td>\n",
       "      <td>1000.0</td>\n",
       "      <td>760505847.0</td>\n",
       "      <td>Action|Adventure|Fantasy|Sci-Fi</td>\n",
       "      <td>...</td>\n",
       "      <td>3054.0</td>\n",
       "      <td>English</td>\n",
       "      <td>USA</td>\n",
       "      <td>PG-13</td>\n",
       "      <td>237000000.0</td>\n",
       "      <td>2009.0</td>\n",
       "      <td>936.0</td>\n",
       "      <td>7.9</td>\n",
       "      <td>1.78</td>\n",
       "      <td>33000</td>\n",
       "    </tr>\n",
       "    <tr>\n",
       "      <th>1</th>\n",
       "      <td>Color</td>\n",
       "      <td>Gore Verbinski</td>\n",
       "      <td>302.0</td>\n",
       "      <td>169.0</td>\n",
       "      <td>563.0</td>\n",
       "      <td>1000.0</td>\n",
       "      <td>Orlando Bloom</td>\n",
       "      <td>40000.0</td>\n",
       "      <td>309404152.0</td>\n",
       "      <td>Action|Adventure|Fantasy</td>\n",
       "      <td>...</td>\n",
       "      <td>1238.0</td>\n",
       "      <td>English</td>\n",
       "      <td>USA</td>\n",
       "      <td>PG-13</td>\n",
       "      <td>300000000.0</td>\n",
       "      <td>2007.0</td>\n",
       "      <td>5000.0</td>\n",
       "      <td>7.1</td>\n",
       "      <td>2.35</td>\n",
       "      <td>0</td>\n",
       "    </tr>\n",
       "    <tr>\n",
       "      <th>2</th>\n",
       "      <td>Color</td>\n",
       "      <td>Sam Mendes</td>\n",
       "      <td>602.0</td>\n",
       "      <td>148.0</td>\n",
       "      <td>0.0</td>\n",
       "      <td>161.0</td>\n",
       "      <td>Rory Kinnear</td>\n",
       "      <td>11000.0</td>\n",
       "      <td>200074175.0</td>\n",
       "      <td>Action|Adventure|Thriller</td>\n",
       "      <td>...</td>\n",
       "      <td>994.0</td>\n",
       "      <td>English</td>\n",
       "      <td>UK</td>\n",
       "      <td>PG-13</td>\n",
       "      <td>245000000.0</td>\n",
       "      <td>2015.0</td>\n",
       "      <td>393.0</td>\n",
       "      <td>6.8</td>\n",
       "      <td>2.35</td>\n",
       "      <td>85000</td>\n",
       "    </tr>\n",
       "    <tr>\n",
       "      <th>3</th>\n",
       "      <td>Color</td>\n",
       "      <td>Christopher Nolan</td>\n",
       "      <td>813.0</td>\n",
       "      <td>164.0</td>\n",
       "      <td>22000.0</td>\n",
       "      <td>23000.0</td>\n",
       "      <td>Christian Bale</td>\n",
       "      <td>27000.0</td>\n",
       "      <td>448130642.0</td>\n",
       "      <td>Action|Thriller</td>\n",
       "      <td>...</td>\n",
       "      <td>2701.0</td>\n",
       "      <td>English</td>\n",
       "      <td>USA</td>\n",
       "      <td>PG-13</td>\n",
       "      <td>250000000.0</td>\n",
       "      <td>2012.0</td>\n",
       "      <td>23000.0</td>\n",
       "      <td>8.5</td>\n",
       "      <td>2.35</td>\n",
       "      <td>164000</td>\n",
       "    </tr>\n",
       "    <tr>\n",
       "      <th>4</th>\n",
       "      <td>NaN</td>\n",
       "      <td>Doug Walker</td>\n",
       "      <td>NaN</td>\n",
       "      <td>NaN</td>\n",
       "      <td>131.0</td>\n",
       "      <td>NaN</td>\n",
       "      <td>Rob Walker</td>\n",
       "      <td>131.0</td>\n",
       "      <td>NaN</td>\n",
       "      <td>Documentary</td>\n",
       "      <td>...</td>\n",
       "      <td>NaN</td>\n",
       "      <td>NaN</td>\n",
       "      <td>NaN</td>\n",
       "      <td>NaN</td>\n",
       "      <td>NaN</td>\n",
       "      <td>NaN</td>\n",
       "      <td>12.0</td>\n",
       "      <td>7.1</td>\n",
       "      <td>NaN</td>\n",
       "      <td>0</td>\n",
       "    </tr>\n",
       "  </tbody>\n",
       "</table>\n",
       "<p>5 rows × 28 columns</p>\n",
       "</div>"
      ],
      "text/plain": [
       "   color      director_name  num_critic_for_reviews  duration  \\\n",
       "0  Color      James Cameron                   723.0     178.0   \n",
       "1  Color     Gore Verbinski                   302.0     169.0   \n",
       "2  Color         Sam Mendes                   602.0     148.0   \n",
       "3  Color  Christopher Nolan                   813.0     164.0   \n",
       "4    NaN        Doug Walker                     NaN       NaN   \n",
       "\n",
       "   director_facebook_likes  actor_3_facebook_likes      actor_2_name  \\\n",
       "0                      0.0                   855.0  Joel David Moore   \n",
       "1                    563.0                  1000.0     Orlando Bloom   \n",
       "2                      0.0                   161.0      Rory Kinnear   \n",
       "3                  22000.0                 23000.0    Christian Bale   \n",
       "4                    131.0                     NaN        Rob Walker   \n",
       "\n",
       "   actor_1_facebook_likes        gross                           genres  ...  \\\n",
       "0                  1000.0  760505847.0  Action|Adventure|Fantasy|Sci-Fi  ...   \n",
       "1                 40000.0  309404152.0         Action|Adventure|Fantasy  ...   \n",
       "2                 11000.0  200074175.0        Action|Adventure|Thriller  ...   \n",
       "3                 27000.0  448130642.0                  Action|Thriller  ...   \n",
       "4                   131.0          NaN                      Documentary  ...   \n",
       "\n",
       "  num_user_for_reviews language  country  content_rating       budget  \\\n",
       "0               3054.0  English      USA           PG-13  237000000.0   \n",
       "1               1238.0  English      USA           PG-13  300000000.0   \n",
       "2                994.0  English       UK           PG-13  245000000.0   \n",
       "3               2701.0  English      USA           PG-13  250000000.0   \n",
       "4                  NaN      NaN      NaN             NaN          NaN   \n",
       "\n",
       "   title_year actor_2_facebook_likes imdb_score  aspect_ratio  \\\n",
       "0      2009.0                  936.0        7.9          1.78   \n",
       "1      2007.0                 5000.0        7.1          2.35   \n",
       "2      2015.0                  393.0        6.8          2.35   \n",
       "3      2012.0                23000.0        8.5          2.35   \n",
       "4         NaN                   12.0        7.1           NaN   \n",
       "\n",
       "  movie_facebook_likes  \n",
       "0                33000  \n",
       "1                    0  \n",
       "2                85000  \n",
       "3               164000  \n",
       "4                    0  \n",
       "\n",
       "[5 rows x 28 columns]"
      ]
     },
     "execution_count": 21,
     "metadata": {},
     "output_type": "execute_result"
    }
   ],
   "source": [
    "df = pd.concat([movies, movies, movies])\n",
    "df.head()"
   ]
  },
  {
   "cell_type": "code",
   "execution_count": 22,
   "id": "sufficient-moderator",
   "metadata": {},
   "outputs": [],
   "source": [
    "def f(row):\n",
    "    row = row + row\n",
    "    return np.cumsum(row)"
   ]
  },
  {
   "cell_type": "code",
   "execution_count": 23,
   "id": "finite-practitioner",
   "metadata": {},
   "outputs": [],
   "source": [
    "%lprun -f f df.apply(lambda row: f(df['duration']))"
   ]
  },
  {
   "cell_type": "code",
   "execution_count": 41,
   "id": "continental-milton",
   "metadata": {},
   "outputs": [
    {
     "name": "stdout",
     "output_type": "stream",
     "text": [
      "2\n",
      "(5, 4)\n",
      "20\n",
      "int64\n",
      "8\n",
      "<memory at 0x126b50520>\n",
      "<class 'numpy.ndarray'>\n"
     ]
    }
   ],
   "source": [
    "a = np.arange(20).reshape(5,4)\n",
    "print(a.ndim) # 2\n",
    "print(a.shape) # (5,4)\n",
    "print(a.size) # 20\n",
    "print(a.dtype) # int64\n",
    "print(a.itemsize) # 8, size of each item in a array in byte\n",
    "print(a.data) # 0x126b50520 - Memory location\n",
    "print(type(a)) # <class 'numpy.ndarray'>"
   ]
  },
  {
   "cell_type": "code",
   "execution_count": 45,
   "id": "enhanced-booking",
   "metadata": {},
   "outputs": [
    {
     "data": {
      "text/plain": [
       "(3, 3)"
      ]
     },
     "execution_count": 45,
     "metadata": {},
     "output_type": "execute_result"
    }
   ],
   "source": [
    "a = np.array([[1,1,[2,3]], [2,[2,4],3], [[3,1],3,4]], dtype='object')\n",
    "a.shape # (3, 3)"
   ]
  },
  {
   "cell_type": "code",
   "execution_count": 47,
   "id": "dying-horizon",
   "metadata": {},
   "outputs": [
    {
     "data": {
      "text/plain": [
       "array([[0.0e+000, 4.9e-324],\n",
       "       [9.9e-324, 1.5e-323]])"
      ]
     },
     "execution_count": 47,
     "metadata": {},
     "output_type": "execute_result"
    }
   ],
   "source": [
    "np.empty([2,2])"
   ]
  },
  {
   "cell_type": "code",
   "execution_count": 49,
   "id": "statistical-superintendent",
   "metadata": {},
   "outputs": [
    {
     "data": {
      "text/plain": [
       "array([[0., 0.],\n",
       "       [0., 0.]])"
      ]
     },
     "execution_count": 49,
     "metadata": {},
     "output_type": "execute_result"
    }
   ],
   "source": [
    "np.zeros([2,2])"
   ]
  },
  {
   "cell_type": "code",
   "execution_count": 51,
   "id": "limiting-ukraine",
   "metadata": {},
   "outputs": [
    {
     "data": {
      "text/plain": [
       "array([[1, 1, 1],\n",
       "       [1, 1, 1],\n",
       "       [1, 1, 1]], dtype=int16)"
      ]
     },
     "execution_count": 51,
     "metadata": {},
     "output_type": "execute_result"
    }
   ],
   "source": [
    "np.ones((3,3), dtype=np.int16)"
   ]
  },
  {
   "cell_type": "code",
   "execution_count": null,
   "id": "framed-commission",
   "metadata": {},
   "outputs": [],
   "source": [
    "    "
   ]
  }
 ],
 "metadata": {
  "kernelspec": {
   "display_name": "Python (myenv)",
   "language": "python",
   "name": "myenv"
  },
  "language_info": {
   "codemirror_mode": {
    "name": "ipython",
    "version": 3
   },
   "file_extension": ".py",
   "mimetype": "text/x-python",
   "name": "python",
   "nbconvert_exporter": "python",
   "pygments_lexer": "ipython3",
   "version": "3.9.1"
  }
 },
 "nbformat": 4,
 "nbformat_minor": 5
}
